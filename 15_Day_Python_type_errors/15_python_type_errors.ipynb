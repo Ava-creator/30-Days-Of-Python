{
 "cells": [
  {
   "cell_type": "markdown",
   "id": "9077b60d",
   "metadata": {},
   "source": [
    "<div align=\"center\">\n",
    "  <h1> 30 Days Of Python: Day 15 - Python Type Errors </h1>\n",
    "  <a class=\"header-badge\" target=\"_blank\" href=\"https://www.linkedin.com/in/asabeneh/\">\n",
    "  <img src=\"https://img.shields.io/badge/style--5eba00.svg?label=LinkedIn&logo=linkedin&style=social\">\n",
    "  </a>\n",
    "  <a class=\"header-badge\" target=\"_blank\" href=\"https://twitter.com/Asabeneh\">\n",
    "  <img alt=\"Twitter Follow\" src=\"https://img.shields.io/twitter/follow/asabeneh?style=social\">\n",
    "  </a>\n",
    "\n",
    "  <sub>Author:\n",
    "  <a href=\"https://www.linkedin.com/in/asabeneh/\" target=\"_blank\">Oludayo adeoye</a><br>\n",
    "  <small> Second Edition: July, 2021</small>\n",
    "  </sub>\n",
    "</div>\n",
    "</div>\n",
    "\n",
    "[<< Day 14](../14_Day_Higher_order_functions/14_higher_order_functions.md) | [Day 16 >>](../16_Day_Python_date_time/16_python_datetime.md)\n",
    "\n",
    "![30DaysOfPython](../images/30DaysOfPython_banner3@2x.png)\n",
    "- [📘 Day 15](#-day-15)\n",
    "  - [Python Error Types](#python-error-types)\n",
    "    - [SyntaxError](#syntaxerror)\n",
    "    - [NameError](#nameerror)\n",
    "    - [IndexError](#indexerror)\n",
    "    - [ModuleNotFoundError](#modulenotfounderror)\n",
    "    - [AttributeError](#attributeerror)\n",
    "    - [KeyError](#keyerror)\n",
    "    - [TypeError](#typeerror)\n",
    "    - [ImportError](#importerror)\n",
    "    - [ValueError](#valueerror)\n",
    "    - [ZeroDivisionError](#zerodivisionerror)\n",
    "  - [💻 Exercises: Day 15](#-exercises-day-15)\n",
    "\n",
    "# 📘 Day 15\n",
    "\n",
    "## Python Error Types\n",
    "\n",
    "When we write code it is common that we make a typo or some other common error. If our code fails to run, the Python interpreter will display a message, containing feedback with information on where the problem occurs and the type of an error. It will also sometimes gives us suggestions on a possible fix. Understanding different types of errors in programming languages will help us to debug our code quickly and also it makes us better at what we do.\n",
    "\n",
    "Let us see the most common error types one by one. First let us open our Python interactive shell. Go to your you computer terminal and write 'python'. The python interactive shell will be opened.\n",
    "\n",
    "### SyntaxError\n",
    "\n",
    "**Example 1: SyntaxError**"
   ]
  },
  {
   "cell_type": "code",
   "execution_count": null,
   "id": "0399a242",
   "metadata": {
    "attributes": {
     "classes": [
      "py"
     ],
     "id": ""
    }
   },
   "outputs": [],
   "source": [
    "asabeneh@Asabeneh:~$ python\n",
    "Python 3.9.6 (default, Jun 28 2021, 15:26:21)\n",
    "[Clang 11.0.0 (clang-1100.0.33.8)] on darwin\n",
    "Type \"help\", \"copyright\", \"credits\" or \"license\" for more information.\n",
    ">>> print 'hello world'\n",
    "  File \"<stdin>\", line 1\n",
    "    print 'hello world'\n",
    "                      ^\n",
    "SyntaxError: Missing parentheses in call to 'print'. Did you mean print('hello world')?\n",
    ">>>"
   ]
  },
  {
   "cell_type": "markdown",
   "id": "4196bead",
   "metadata": {},
   "source": [
    "As you can see we made a syntax error because we forgot to enclose the string with parenthesis and Python already suggests the solution. Let us fix it."
   ]
  },
  {
   "cell_type": "code",
   "execution_count": null,
   "id": "49771781",
   "metadata": {
    "attributes": {
     "classes": [
      "py"
     ],
     "id": ""
    }
   },
   "outputs": [],
   "source": [
    "asabeneh@Asabeneh:~$ python\n",
    "Python 3.9.6 (default, Jun 28 2021, 15:26:21)\n",
    "[Clang 11.0.0 (clang-1100.0.33.8)] on darwin\n",
    "Type \"help\", \"copyright\", \"credits\" or \"license\" for more information.\n",
    ">>> print 'hello world'\n",
    "  File \"<stdin>\", line 1\n",
    "    print 'hello world'\n",
    "                      ^\n",
    "SyntaxError: Missing parentheses in call to 'print'. Did you mean print('hello world')?\n",
    ">>> print('hello world')\n",
    "hello world\n",
    ">>>"
   ]
  },
  {
   "cell_type": "markdown",
   "id": "c77becbc",
   "metadata": {},
   "source": [
    "The error was a _SyntaxError_. After the fix our code was executed without a hitch. Let see more error types.\n",
    "\n",
    "### NameError\n",
    "\n",
    "**Example 1: NameError**"
   ]
  },
  {
   "cell_type": "code",
   "execution_count": null,
   "id": "1e412936",
   "metadata": {
    "attributes": {
     "classes": [
      "py"
     ],
     "id": ""
    }
   },
   "outputs": [],
   "source": [
    "asabeneh@Asabeneh:~$ python\n",
    "Python 3.9.6 (default, Jun 28 2021, 15:26:21)\n",
    "[Clang 11.0.0 (clang-1100.0.33.8)] on darwin\n",
    "Type \"help\", \"copyright\", \"credits\" or \"license\" for more information.\n",
    ">>> print(age)\n",
    "Traceback (most recent call last):\n",
    "  File \"<stdin>\", line 1, in <module>\n",
    "NameError: name 'age' is not defined\n",
    ">>>"
   ]
  },
  {
   "cell_type": "markdown",
   "id": "da223d84",
   "metadata": {},
   "source": [
    "As you can see from the message above, name age is not defined. Yes, it is true that we did not define an age variable but we were trying to print it out as if we had had declared it. Now, lets fix this by declaring it and assigning with a value."
   ]
  },
  {
   "cell_type": "code",
   "execution_count": null,
   "id": "21c3d12c",
   "metadata": {
    "attributes": {
     "classes": [
      "py"
     ],
     "id": ""
    }
   },
   "outputs": [],
   "source": [
    "asabeneh@Asabeneh:~$ python\n",
    "Python 3.9.6 (default, Jun 28 2021, 15:26:21)\n",
    "[Clang 11.0.0 (clang-1100.0.33.8)] on darwin\n",
    "Type \"help\", \"copyright\", \"credits\" or \"license\" for more information.\n",
    ">>> print(age)\n",
    "Traceback (most recent call last):\n",
    "  File \"<stdin>\", line 1, in <module>\n",
    "NameError: name 'age' is not defined\n",
    ">>> age = 25\n",
    ">>> print(age)\n",
    "25\n",
    ">>>"
   ]
  },
  {
   "cell_type": "markdown",
   "id": "7603056f",
   "metadata": {},
   "source": [
    "The type of error was a _NameError_. We debugged the error by defining the variable name.\n",
    "\n",
    "### IndexError\n",
    "\n",
    "**Example 1: IndexError**"
   ]
  },
  {
   "cell_type": "code",
   "execution_count": null,
   "id": "34878edd",
   "metadata": {
    "attributes": {
     "classes": [
      "py"
     ],
     "id": ""
    }
   },
   "outputs": [],
   "source": [
    "asabeneh@Asabeneh:~$ python\n",
    "Python 3.9.6 (default, Jun 28 2021, 15:26:21)\n",
    "[Clang 11.0.0 (clang-1100.0.33.8)] on darwin\n",
    "Type \"help\", \"copyright\", \"credits\" or \"license\" for more information.\n",
    ">>> numbers = [1, 2, 3, 4, 5]\n",
    ">>> numbers[5]\n",
    "Traceback (most recent call last):\n",
    "  File \"<stdin>\", line 1, in <module>\n",
    "IndexError: list index out of range\n",
    ">>>"
   ]
  },
  {
   "cell_type": "markdown",
   "id": "852b85df",
   "metadata": {},
   "source": [
    "In the example above, Python raised an _IndexError_, because the list has only indexes from 0 to 4 , so it was out of range.\n",
    "\n",
    "### ModuleNotFoundError\n",
    "\n",
    "**Example 1: ModuleNotFoundError**"
   ]
  },
  {
   "cell_type": "code",
   "execution_count": null,
   "id": "681b2e82",
   "metadata": {
    "attributes": {
     "classes": [
      "py"
     ],
     "id": ""
    }
   },
   "outputs": [],
   "source": [
    "asabeneh@Asabeneh:~$ python\n",
    "Python 3.9.6 (default, Jun 28 2021, 15:26:21)\n",
    "[Clang 11.0.0 (clang-1100.0.33.8)] on darwin\n",
    "Type \"help\", \"copyright\", \"credits\" or \"license\" for more information.\n",
    ">>> import maths\n",
    "Traceback (most recent call last):\n",
    "  File \"<stdin>\", line 1, in <module>\n",
    "ModuleNotFoundError: No module named 'maths'\n",
    ">>>"
   ]
  },
  {
   "cell_type": "markdown",
   "id": "26cb85f3",
   "metadata": {},
   "source": [
    "In the example above, I added an extra s to math deliberately and _ModuleNotFoundError_ was raised. Lets fix it by removing the extra s from math."
   ]
  },
  {
   "cell_type": "code",
   "execution_count": null,
   "id": "0a4103d8",
   "metadata": {
    "attributes": {
     "classes": [
      "py"
     ],
     "id": ""
    }
   },
   "outputs": [],
   "source": [
    "asabeneh@Asabeneh:~$ python\n",
    "Python 3.9.6 (default, Jun 28 2021, 15:26:21)\n",
    "[Clang 11.0.0 (clang-1100.0.33.8)] on darwin\n",
    "Type \"help\", \"copyright\", \"credits\" or \"license\" for more information.\n",
    ">>> import maths\n",
    "Traceback (most recent call last):\n",
    "  File \"<stdin>\", line 1, in <module>\n",
    "ModuleNotFoundError: No module named 'maths'\n",
    ">>> import math\n",
    ">>>"
   ]
  },
  {
   "cell_type": "markdown",
   "id": "53e541ae",
   "metadata": {},
   "source": [
    "We fixed it, so let's use some of the functions from the math module.\n",
    "\n",
    "### AttributeError\n",
    "\n",
    "**Example 1: AttributeError**"
   ]
  },
  {
   "cell_type": "code",
   "execution_count": null,
   "id": "5df01e49",
   "metadata": {
    "attributes": {
     "classes": [
      "py"
     ],
     "id": ""
    }
   },
   "outputs": [],
   "source": [
    "asabeneh@Asabeneh:~$ python\n",
    "Python 3.9.6 (default, Jun 28 2021, 15:26:21)\n",
    "[Clang 11.0.0 (clang-1100.0.33.8)] on darwin\n",
    "Type \"help\", \"copyright\", \"credits\" or \"license\" for more information.\n",
    ">>> import maths\n",
    "Traceback (most recent call last):\n",
    "  File \"<stdin>\", line 1, in <module>\n",
    "ModuleNotFoundError: No module named 'maths'\n",
    ">>> import math\n",
    ">>> math.PI\n",
    "Traceback (most recent call last):\n",
    "  File \"<stdin>\", line 1, in <module>\n",
    "AttributeError: module 'math' has no attribute 'PI'\n",
    ">>>"
   ]
  },
  {
   "cell_type": "markdown",
   "id": "416bd852",
   "metadata": {},
   "source": [
    "As you can see, I made a mistake again! Instead of pi, I tried to call a PI function from maths module. It raised an attribute error, it means, that the function does not exist in the module. Lets fix it by changing from PI to pi."
   ]
  },
  {
   "cell_type": "code",
   "execution_count": null,
   "id": "5b13e325",
   "metadata": {
    "attributes": {
     "classes": [
      "py"
     ],
     "id": ""
    }
   },
   "outputs": [],
   "source": [
    "asabeneh@Asabeneh:~$ python\n",
    "Python 3.9.6 (default, Jun 28 2021, 15:26:21)\n",
    "[Clang 11.0.0 (clang-1100.0.33.8)] on darwin\n",
    "Type \"help\", \"copyright\", \"credits\" or \"license\" for more information.\n",
    ">>> import maths\n",
    "Traceback (most recent call last):\n",
    "  File \"<stdin>\", line 1, in <module>\n",
    "ModuleNotFoundError: No module named 'maths'\n",
    ">>> import math\n",
    ">>> math.PI\n",
    "Traceback (most recent call last):\n",
    "  File \"<stdin>\", line 1, in <module>\n",
    "AttributeError: module 'math' has no attribute 'PI'\n",
    ">>> math.pi\n",
    "3.141592653589793\n",
    ">>>"
   ]
  },
  {
   "cell_type": "markdown",
   "id": "b34eeadc",
   "metadata": {},
   "source": [
    "Now, when we call pi from the math module we got the result.\n",
    "\n",
    "### KeyError\n",
    "\n",
    "**Example 1: KeyError**"
   ]
  },
  {
   "cell_type": "code",
   "execution_count": null,
   "id": "a0acbbcb",
   "metadata": {
    "attributes": {
     "classes": [
      "py"
     ],
     "id": ""
    }
   },
   "outputs": [],
   "source": [
    "asabeneh@Asabeneh:~$ python\n",
    "Python 3.9.6 (default, Jun 28 2021, 15:26:21)\n",
    "[Clang 11.0.0 (clang-1100.0.33.8)] on darwin\n",
    "Type \"help\", \"copyright\", \"credits\" or \"license\" for more information.\n",
    ">>> users = {'name':'Asab', 'age':250, 'country':'Finland'}\n",
    ">>> users['name']\n",
    "'Asab'\n",
    ">>> users['county']\n",
    "Traceback (most recent call last):\n",
    "  File \"<stdin>\", line 1, in <module>\n",
    "KeyError: 'county'\n",
    ">>>"
   ]
  },
  {
   "cell_type": "markdown",
   "id": "652fcc32",
   "metadata": {},
   "source": [
    "As you can see, there was a typo in the key used to get the dictionary value. so, this is a key error and the fix is quite straight forward. Let's do this!"
   ]
  },
  {
   "cell_type": "code",
   "execution_count": null,
   "id": "72aafb9c",
   "metadata": {
    "attributes": {
     "classes": [
      "py"
     ],
     "id": ""
    }
   },
   "outputs": [],
   "source": [
    "asabeneh@Asabeneh:~$ python\n",
    "Python 3.9.6 (default, Jun 28 2021, 15:26:21)\n",
    "[Clang 11.0.0 (clang-1100.0.33.8)] on darwin\n",
    "Type \"help\", \"copyright\", \"credits\" or \"license\" for more information.\n",
    ">>> user = {'name':'Asab', 'age':250, 'country':'Finland'}\n",
    ">>> user['name']\n",
    "'Asab'\n",
    ">>> user['county']\n",
    "Traceback (most recent call last):\n",
    "  File \"<stdin>\", line 1, in <module>\n",
    "KeyError: 'county'\n",
    ">>> user['country']\n",
    "'Finland'\n",
    ">>>"
   ]
  },
  {
   "cell_type": "markdown",
   "id": "3b4acb0c",
   "metadata": {},
   "source": [
    "We debugged the error, our code ran and we got the value.\n",
    "\n",
    "### TypeError\n",
    "\n",
    "**Example 1: TypeError**"
   ]
  },
  {
   "cell_type": "code",
   "execution_count": null,
   "id": "c3628410",
   "metadata": {
    "attributes": {
     "classes": [
      "py"
     ],
     "id": ""
    }
   },
   "outputs": [],
   "source": [
    "asabeneh@Asabeneh:~$ python\n",
    "Python 3.9.6 (default, Jun 28 2021, 15:26:21)\n",
    "[Clang 11.0.0 (clang-1100.0.33.8)] on darwin\n",
    "Type \"help\", \"copyright\", \"credits\" or \"license\" for more information.\n",
    ">>> 4 + '3'\n",
    "Traceback (most recent call last):\n",
    "  File \"<stdin>\", line 1, in <module>\n",
    "TypeError: unsupported operand type(s) for +: 'int' and 'str'\n",
    ">>>"
   ]
  },
  {
   "cell_type": "markdown",
   "id": "8d15c9f6",
   "metadata": {},
   "source": [
    "In the example above, a TypeError is raised because we cannot add a number to a string. First solution would be to convert the string to int or float. Another solution would be converting the number to a string (the result then would be '43'). Let us follow the first fix."
   ]
  },
  {
   "cell_type": "code",
   "execution_count": null,
   "id": "b97db243",
   "metadata": {
    "attributes": {
     "classes": [
      "py"
     ],
     "id": ""
    }
   },
   "outputs": [],
   "source": [
    "asabeneh@Asabeneh:~$ python\n",
    "Python 3.9.6 (default, Jun 28 2021, 15:26:21)\n",
    "[Clang 11.0.0 (clang-1100.0.33.8)] on darwin\n",
    "Type \"help\", \"copyright\", \"credits\" or \"license\" for more information.\n",
    ">>> 4 + '3'\n",
    "Traceback (most recent call last):\n",
    "  File \"<stdin>\", line 1, in <module>\n",
    "TypeError: unsupported operand type(s) for +: 'int' and 'str'\n",
    ">>> 4 + int('3')\n",
    "7\n",
    ">>> 4 + float('3')\n",
    "7.0\n",
    ">>>"
   ]
  },
  {
   "cell_type": "markdown",
   "id": "5f151d2c",
   "metadata": {},
   "source": [
    "Error removed and we got the result we expected.\n",
    "\n",
    "### ImportError\n",
    "\n",
    "**Example 1: TypeError**"
   ]
  },
  {
   "cell_type": "code",
   "execution_count": null,
   "id": "44b53626",
   "metadata": {
    "attributes": {
     "classes": [
      "py"
     ],
     "id": ""
    }
   },
   "outputs": [],
   "source": [
    "asabeneh@Asabeneh:~$ python\n",
    "Python 3.9.6 (default, Jun 28 2021, 15:26:21)\n",
    "[Clang 11.0.0 (clang-1100.0.33.8)] on darwin\n",
    "Type \"help\", \"copyright\", \"credits\" or \"license\" for more information.\n",
    ">>> from math import power\n",
    "Traceback (most recent call last):\n",
    "  File \"<stdin>\", line 1, in <module>\n",
    "ImportError: cannot import name 'power' from 'math'\n",
    ">>>"
   ]
  },
  {
   "cell_type": "markdown",
   "id": "2b63f042",
   "metadata": {},
   "source": [
    "There is no function called power in the math module, it goes with a different name: _pow_. Let's correct it:"
   ]
  },
  {
   "cell_type": "code",
   "execution_count": null,
   "id": "fc11d7e0",
   "metadata": {
    "attributes": {
     "classes": [
      "py"
     ],
     "id": ""
    }
   },
   "outputs": [],
   "source": [
    "asabeneh@Asabeneh:~$ python\n",
    "Python 3.9.6 (default, Jun 28 2021, 15:26:21)\n",
    "[Clang 11.0.0 (clang-1100.0.33.8)] on darwin\n",
    "Type \"help\", \"copyright\", \"credits\" or \"license\" for more information.\n",
    ">>> from math import power\n",
    "Traceback (most recent call last):\n",
    "  File \"<stdin>\", line 1, in <module>\n",
    "ImportError: cannot import name 'power' from 'math'\n",
    ">>> from math import pow\n",
    ">>> pow(2,3)\n",
    "8.0\n",
    ">>>"
   ]
  },
  {
   "cell_type": "markdown",
   "id": "e960d008",
   "metadata": {},
   "source": [
    "### ValueError"
   ]
  },
  {
   "cell_type": "code",
   "execution_count": null,
   "id": "cd29d04a",
   "metadata": {
    "attributes": {
     "classes": [
      "py"
     ],
     "id": ""
    }
   },
   "outputs": [],
   "source": [
    "asabeneh@Asabeneh:~$ python\n",
    "Python 3.9.6 (default, Jun 28 2021, 15:26:21)\n",
    "[Clang 11.0.0 (clang-1100.0.33.8)] on darwin\n",
    "Type \"help\", \"copyright\", \"credits\" or \"license\" for more information.\n",
    ">>> int('12a')\n",
    "Traceback (most recent call last):\n",
    "  File \"<stdin>\", line 1, in <module>\n",
    "ValueError: invalid literal for int() with base 10: '12a'\n",
    ">>>"
   ]
  },
  {
   "cell_type": "markdown",
   "id": "68227384",
   "metadata": {},
   "source": [
    "In this case we cannot change the given string to a number, because of the 'a' letter in it.\n",
    "\n",
    "### ZeroDivisionError"
   ]
  },
  {
   "cell_type": "code",
   "execution_count": null,
   "id": "7d6c86f0",
   "metadata": {
    "attributes": {
     "classes": [
      "py"
     ],
     "id": ""
    }
   },
   "outputs": [],
   "source": [
    "asabeneh@Asabeneh:~$ python\n",
    "Python 3.9.6 (default, Jun 28 2021, 15:26:21)\n",
    "[Clang 11.0.0 (clang-1100.0.33.8)] on darwin\n",
    "Type \"help\", \"copyright\", \"credits\" or \"license\" for more information.\n",
    ">>> 1/0\n",
    "Traceback (most recent call last):\n",
    "  File \"<stdin>\", line 1, in <module>\n",
    "ZeroDivisionError: division by zero\n",
    ">>>"
   ]
  },
  {
   "cell_type": "markdown",
   "id": "ecd85740",
   "metadata": {},
   "source": [
    "We cannot divide a number by zero.\n",
    "\n",
    "We have covered some of the python error types, if you want to check more about it check the python documentation about python error types.\n",
    "If you are good at reading the error types then you will be able to fix your bugs fast and you will also become a better programmer.\n",
    "\n",
    "🌕 You are excelling. You made it to half way to your way to greatness. Now do some exercises for your brain and for your muscle.\n",
    "\n",
    "## 💻 Exercises: Day 15\n",
    "\n",
    "1. Open you python interactive shell and try all the examples covered in this section.\n",
    "\n",
    "🎉 CONGRATULATIONS ! 🎉\n",
    "\n",
    "[<< Day 14](../14_Day_Higher_order_functions/14_higher_order_functions.md) | [Day 16 >>](../16_Day_Python_date_time/16_python_datetime.md)"
   ]
  }
 ],
 "metadata": {},
 "nbformat": 4,
 "nbformat_minor": 5
}
