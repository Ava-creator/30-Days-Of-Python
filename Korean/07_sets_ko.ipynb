{
 "cells": [
  {
   "cell_type": "markdown",
   "id": "0e1e8f07",
   "metadata": {},
   "source": [
    "<div align=\"center\">   <h1> 30 Days Of Python: Day 7 - Sets</h1>   <a class=\"header-badge\" target=\"_blank\" href=\"https://www.linkedin.com/in/asabeneh/\">   <img src=\"https://img.shields.io/badge/style--5eba00.svg?label=LinkedIn&amp;logo=linkedin&amp;style=social\">   </a>   <a class=\"header-badge\" target=\"_blank\" href=\"https://twitter.com/Asabeneh\">   <img src=\"https://img.shields.io/twitter/follow/asabeneh?style=social\" alt=\"Twitter Follow\">   </a>\n",
    "</div>\n",
    "<p data-md-type=\"paragraph\"><sub data-md-type=\"raw_html\">Author: <a data-md-type=\"raw_html\" href=\"https://www.linkedin.com/in/asabeneh/\" target=\"_blank\">Asabeneh Yetayeh</a><br> <small data-md-type=\"raw_html\"> Second Edition: July, 2021</small></sub></p>\n",
    "<div data-md-type=\"block_html\"></div>\n",
    "\n",
    "[&lt;&lt; Day 6](../06_Day_Tuples/06_tuples.md) | [Day 8 &gt;&gt;](../08_Day_Dictionaries/08_dictionaries.md)\n",
    "\n",
    "![30DaysOfPython](../images/30DaysOfPython_banner3@2x.png)\n",
    "\n",
    "- [📘 Day 7](#-day-7)\n",
    "    - [Sets](#sets)\n",
    "        - [세트 만들기](#세트-만들기)\n",
    "        - [세트의 길이 구하기](#세트의-길이-구하기)\n",
    "        - [세트의 항목에 액세스](#세트의-항목에-엑세스)\n",
    "        - [항목 확인](#항목-확인)\n",
    "        - [세트에 항목 추가](#세트에-항목-추가)\n",
    "        - [세트에서 항목 제거](#세트에서-항목-제거)\n",
    "        - [세트의 항목 지우기](#세트의-항목-지우기)\n",
    "        - [세트 삭제](#세트-삭제)\n",
    "        - [목록을 집합으로 변환](#목록을-집합으로-변환)\n",
    "        - [집합 결합](#집합-결합)\n",
    "        - [교차 항목 찾기](#교차-항목-찾기)\n",
    "        - [하위 집합 및 수퍼 집합 확인](#하위-집합-및-수퍼-집합-확인)\n",
    "        - [두 세트 간의 차이 확인](#두-세트-간의-차이-확인)\n",
    "        - [두 집합 간의 대칭적 차이 찾기](#두-집합-간의-대칭적-차이-찾기)\n",
    "        - [집합 결합](#집합-결합)\n",
    "    - [💻 Exercises: Day 7](#-exercises-day-7)\n",
    "        - [Exercises: Level 1](#exercises-level-1)\n",
    "        - [Exercises: Level 2](#exercises-level-2)\n",
    "        - [Exercises: Level 3](#exercises-level-3)\n",
    "\n",
    "# 📘 Day 7\n",
    "\n",
    "## Sets\n",
    "\n",
    "세트는 항목의 모음입니다. 초등학교 또는 고등학교 수학 수업으로 돌아가겠습니다. 집합의 수학 정의는 Python에서도 적용될 수 있습니다. 집합은 순서가 지정되지 않고 인덱싱되지 않은 개별 요소의 모음입니다. Python에서 집합은 고유한 항목을 저장하는 데 사용되며 집합 간에 *합집합* , *교차* , *차이* , *대칭적 차이* , *하위 집합* , *상위 집합* 및 *분리 집합* 을 찾을 수 있습니다.\n",
    "\n",
    "### 세트 만들기\n",
    "\n",
    "중괄호 {}를 사용하여 세트 또는 *set()* 내장 함수를 생성합니다.\n",
    "\n",
    "- 빈 세트 만들기"
   ]
  },
  {
   "cell_type": "code",
   "execution_count": null,
   "id": "a8f8cb9e",
   "metadata": {
    "attributes": {
     "classes": [
      "py"
     ],
     "id": ""
    }
   },
   "outputs": [],
   "source": [
    "# syntax\n",
    "st = {}\n",
    "# or\n",
    "st = set()"
   ]
  },
  {
   "cell_type": "markdown",
   "id": "b1ccd851",
   "metadata": {},
   "source": [
    "- 초기 항목으로 세트 만들기"
   ]
  },
  {
   "cell_type": "code",
   "execution_count": null,
   "id": "4e0bfb45",
   "metadata": {
    "attributes": {
     "classes": [
      "py"
     ],
     "id": ""
    }
   },
   "outputs": [],
   "source": [
    "# syntax\n",
    "st = {'item1', 'item2', 'item3', 'item4'}"
   ]
  },
  {
   "cell_type": "markdown",
   "id": "4117cad4",
   "metadata": {},
   "source": [
    "**예시:**"
   ]
  },
  {
   "cell_type": "code",
   "execution_count": null,
   "id": "3d332477",
   "metadata": {
    "attributes": {
     "classes": [
      "py"
     ],
     "id": ""
    }
   },
   "outputs": [],
   "source": [
    "# syntax\n",
    "fruits = {'banana', 'orange', 'mango', 'lemon'}"
   ]
  },
  {
   "cell_type": "markdown",
   "id": "8424e00d",
   "metadata": {},
   "source": [
    "### 세트의 길이 구하기\n",
    "\n",
    "**len()** 메서드를 사용하여 집합의 길이를 찾습니다."
   ]
  },
  {
   "cell_type": "code",
   "execution_count": null,
   "id": "8576b529",
   "metadata": {
    "attributes": {
     "classes": [
      "py"
     ],
     "id": ""
    }
   },
   "outputs": [],
   "source": [
    "# syntax\n",
    "st = {'item1', 'item2', 'item3', 'item4'}\n",
    "len(set)"
   ]
  },
  {
   "cell_type": "markdown",
   "id": "7e6f5d7c",
   "metadata": {},
   "source": [
    "**예시:**"
   ]
  },
  {
   "cell_type": "code",
   "execution_count": null,
   "id": "f0f01b41",
   "metadata": {
    "attributes": {
     "classes": [
      "py"
     ],
     "id": ""
    }
   },
   "outputs": [],
   "source": [
    "fruits = {'banana', 'orange', 'mango', 'lemon'}\n",
    "len(fruits)"
   ]
  },
  {
   "cell_type": "markdown",
   "id": "16dff158",
   "metadata": {},
   "source": [
    "### 세트의 항목에 액세스\n",
    "\n",
    "루프를 사용하여 항목에 액세스합니다. 우리는 루프 섹션에서 이것을 볼 것입니다\n",
    "\n",
    "### 항목 확인\n",
    "\n",
    "목록에 항목이 있는지 확인하기 위해 멤버십 연산자 *에서* 사용합니다."
   ]
  },
  {
   "cell_type": "code",
   "execution_count": null,
   "id": "f6c5ce84",
   "metadata": {
    "attributes": {
     "classes": [
      "py"
     ],
     "id": ""
    }
   },
   "outputs": [],
   "source": [
    "# syntax\n",
    "st = {'item1', 'item2', 'item3', 'item4'}\n",
    "print(\"Does set st contain item3? \", 'item3' in st) # Does set st contain item3? True"
   ]
  },
  {
   "cell_type": "markdown",
   "id": "7d1b91e8",
   "metadata": {},
   "source": [
    "**예시:**"
   ]
  },
  {
   "cell_type": "code",
   "execution_count": null,
   "id": "1e801ff7",
   "metadata": {
    "attributes": {
     "classes": [
      "py"
     ],
     "id": ""
    }
   },
   "outputs": [],
   "source": [
    "fruits = {'banana', 'orange', 'mango', 'lemon'}\n",
    "print('mango' in fruits ) # True"
   ]
  },
  {
   "cell_type": "markdown",
   "id": "d25cfaae",
   "metadata": {},
   "source": [
    "### 세트에 항목 추가\n",
    "\n",
    "세트가 생성되면 항목을 변경할 수 없으며 항목을 추가할 수도 있습니다.\n",
    "\n",
    "- *add()* 를 사용하여 하나의 항목 추가"
   ]
  },
  {
   "cell_type": "code",
   "execution_count": null,
   "id": "ae8c0fcd",
   "metadata": {
    "attributes": {
     "classes": [
      "py"
     ],
     "id": ""
    }
   },
   "outputs": [],
   "source": [
    "# syntax\n",
    "st = {'item1', 'item2', 'item3', 'item4'}\n",
    "st.add('item5')"
   ]
  },
  {
   "cell_type": "markdown",
   "id": "214718a4",
   "metadata": {},
   "source": [
    "**예시:**"
   ]
  },
  {
   "cell_type": "code",
   "execution_count": null,
   "id": "66f98204",
   "metadata": {
    "attributes": {
     "classes": [
      "py"
     ],
     "id": ""
    }
   },
   "outputs": [],
   "source": [
    "fruits = {'banana', 'orange', 'mango', 'lemon'}\n",
    "fruits.add('lime')"
   ]
  },
  {
   "cell_type": "markdown",
   "id": "280c378f",
   "metadata": {},
   "source": [
    "- *update()* 를 사용하여 여러 항목 추가 *update()* 를 사용하면 세트에 여러 항목을 추가할 수 있습니다. *update()* 는 목록 인수를 사용합니다."
   ]
  },
  {
   "cell_type": "code",
   "execution_count": null,
   "id": "978e130e",
   "metadata": {
    "attributes": {
     "classes": [
      "py"
     ],
     "id": ""
    }
   },
   "outputs": [],
   "source": [
    "# syntax\n",
    "st = {'item1', 'item2', 'item3', 'item4'}\n",
    "st.update(['item5','item6','item7'])"
   ]
  },
  {
   "cell_type": "markdown",
   "id": "620279bb",
   "metadata": {},
   "source": [
    "**예시:**"
   ]
  },
  {
   "cell_type": "code",
   "execution_count": null,
   "id": "e6790343",
   "metadata": {
    "attributes": {
     "classes": [
      "py"
     ],
     "id": ""
    }
   },
   "outputs": [],
   "source": [
    "fruits = {'banana', 'orange', 'mango', 'lemon'}\n",
    "vegetables = ('tomato', 'potato', 'cabbage','onion', 'carrot')\n",
    "fruits.update(vegetables)"
   ]
  },
  {
   "cell_type": "markdown",
   "id": "a55aa80c",
   "metadata": {},
   "source": [
    "### <a>세트에서 항목 제거</a>\n",
    "\n",
    "*remove()* 메서드를 사용하여 집합에서 항목을 제거할 수 있습니다. 항목을 찾을 수 없으면 *remove()* 메서드는 오류를 발생시키므로 해당 항목이 주어진 집합에 있는지 확인하는 것이 좋습니다. 그러나, *discard()* 메서드는 오류를 발생시키지 않습니다."
   ]
  },
  {
   "cell_type": "code",
   "execution_count": null,
   "id": "95e0c51c",
   "metadata": {
    "attributes": {
     "classes": [
      "py"
     ],
     "id": ""
    }
   },
   "outputs": [],
   "source": [
    "# syntax\n",
    "st = {'item1', 'item2', 'item3', 'item4'}\n",
    "st.remove('item2')"
   ]
  },
  {
   "cell_type": "markdown",
   "id": "bbac5db0",
   "metadata": {},
   "source": [
    "pop() 메서드는 목록에서 임의의 항목을 제거하고 제거된 항목을 반환합니다.\n",
    "\n",
    "**예시:**"
   ]
  },
  {
   "cell_type": "code",
   "execution_count": null,
   "id": "5e674075",
   "metadata": {
    "attributes": {
     "classes": [
      "py"
     ],
     "id": ""
    }
   },
   "outputs": [],
   "source": [
    "fruits = {'banana', 'orange', 'mango', 'lemon'}\n",
    "fruits.pop()  # removes a random item from the set\n"
   ]
  },
  {
   "cell_type": "markdown",
   "id": "209b1f45",
   "metadata": {},
   "source": [
    "제거된 항목에 관심이 있는 경우."
   ]
  },
  {
   "cell_type": "code",
   "execution_count": null,
   "id": "fac271c9",
   "metadata": {
    "attributes": {
     "classes": [
      "py"
     ],
     "id": ""
    }
   },
   "outputs": [],
   "source": [
    "fruits = {'banana', 'orange', 'mango', 'lemon'}\n",
    "removed_item = fruits.pop()"
   ]
  },
  {
   "cell_type": "markdown",
   "id": "88b8c5ba",
   "metadata": {},
   "source": [
    "### 세트의 항목 지우기\n",
    "\n",
    "세트를 지우거나 비우려면 *clear* 메소드를 사용합니다."
   ]
  },
  {
   "cell_type": "code",
   "execution_count": null,
   "id": "650a857a",
   "metadata": {
    "attributes": {
     "classes": [
      "py"
     ],
     "id": ""
    }
   },
   "outputs": [],
   "source": [
    "# syntax\n",
    "st = {'item1', 'item2', 'item3', 'item4'}\n",
    "st.clear()"
   ]
  },
  {
   "cell_type": "markdown",
   "id": "8a19fe2e",
   "metadata": {},
   "source": [
    "**예시:**"
   ]
  },
  {
   "cell_type": "code",
   "execution_count": null,
   "id": "6685716a",
   "metadata": {
    "attributes": {
     "classes": [
      "py"
     ],
     "id": ""
    }
   },
   "outputs": [],
   "source": [
    "fruits = {'banana', 'orange', 'mango', 'lemon'}\n",
    "fruits.clear()\n",
    "print(fruits) # set()"
   ]
  },
  {
   "cell_type": "markdown",
   "id": "a327f6ae",
   "metadata": {},
   "source": [
    "### 세트 삭제\n",
    "\n",
    "세트 자체를 삭제하려면 *del* 연산자를 사용합니다."
   ]
  },
  {
   "cell_type": "code",
   "execution_count": null,
   "id": "78bc5e25",
   "metadata": {
    "attributes": {
     "classes": [
      "py"
     ],
     "id": ""
    }
   },
   "outputs": [],
   "source": [
    "# syntax\n",
    "st = {'item1', 'item2', 'item3', 'item4'}\n",
    "del st"
   ]
  },
  {
   "cell_type": "markdown",
   "id": "7a194cd2",
   "metadata": {},
   "source": [
    "**예시:**"
   ]
  },
  {
   "cell_type": "code",
   "execution_count": null,
   "id": "27f81d43",
   "metadata": {
    "attributes": {
     "classes": [
      "py"
     ],
     "id": ""
    }
   },
   "outputs": [],
   "source": [
    "fruits = {'banana', 'orange', 'mango', 'lemon'}\n",
    "del fruits"
   ]
  },
  {
   "cell_type": "markdown",
   "id": "9cbc05c8",
   "metadata": {},
   "source": [
    "### 목록을 집합으로 변환\n",
    "\n",
    "리스트를 세트로, 세트를 리스트로 변환할 수 있습니다. 목록을 세트로 변환하면 중복 항목이 제거되고 고유한 항목만 예약됩니다."
   ]
  },
  {
   "cell_type": "code",
   "execution_count": null,
   "id": "b80e9be0",
   "metadata": {
    "attributes": {
     "classes": [
      "py"
     ],
     "id": ""
    }
   },
   "outputs": [],
   "source": [
    "# syntax\n",
    "lst = ['item1', 'item2', 'item3', 'item4', 'item1']\n",
    "st = set(lst)  # {'item2', 'item4', 'item1', 'item3'} - the order is random, because sets in general are unordered"
   ]
  },
  {
   "cell_type": "markdown",
   "id": "96fb5517",
   "metadata": {},
   "source": [
    "**예시:**"
   ]
  },
  {
   "cell_type": "code",
   "execution_count": null,
   "id": "5934eba0",
   "metadata": {
    "attributes": {
     "classes": [
      "py"
     ],
     "id": ""
    }
   },
   "outputs": [],
   "source": [
    "fruits = ['banana', 'orange', 'mango', 'lemon','orange', 'banana']\n",
    "fruits = set(fruits) # {'mango', 'lemon', 'banana', 'orange'}"
   ]
  },
  {
   "cell_type": "markdown",
   "id": "e2f0f96c",
   "metadata": {},
   "source": [
    "### 집합 결합\n",
    "\n",
    "*union()* 또는 *update()* 메서드를 사용하여 두 집합을 결합할 수 있습니다.\n",
    "\n",
    "- Union 이 메서드는 새 집합을 반환합니다."
   ]
  },
  {
   "cell_type": "code",
   "execution_count": null,
   "id": "a05c4ded",
   "metadata": {
    "attributes": {
     "classes": [
      "py"
     ],
     "id": ""
    }
   },
   "outputs": [],
   "source": [
    "# syntax\n",
    "st1 = {'item1', 'item2', 'item3', 'item4'}\n",
    "st2 = {'item5', 'item6', 'item7', 'item8'}\n",
    "st3 = st1.union(st2)"
   ]
  },
  {
   "cell_type": "markdown",
   "id": "5d67f902",
   "metadata": {},
   "source": [
    "**예시:**"
   ]
  },
  {
   "cell_type": "code",
   "execution_count": null,
   "id": "f1532240",
   "metadata": {
    "attributes": {
     "classes": [
      "py"
     ],
     "id": ""
    }
   },
   "outputs": [],
   "source": [
    "fruits = {'banana', 'orange', 'mango', 'lemon'}\n",
    "vegetables = {'tomato', 'potato', 'cabbage','onion', 'carrot'}\n",
    "print(fruits.union(vegetables)) # {'lemon', 'carrot', 'tomato', 'banana', 'mango', 'orange', 'cabbage', 'potato', 'onion'}"
   ]
  },
  {
   "cell_type": "markdown",
   "id": "1d941662",
   "metadata": {},
   "source": [
    "- 업데이트 이 메서드는 주어진 집합에 집합을 삽입합니다."
   ]
  },
  {
   "cell_type": "code",
   "execution_count": null,
   "id": "8fab06db",
   "metadata": {
    "attributes": {
     "classes": [
      "py"
     ],
     "id": ""
    }
   },
   "outputs": [],
   "source": [
    "# syntax\n",
    "st1 = {'item1', 'item2', 'item3', 'item4'}\n",
    "st2 = {'item5', 'item6', 'item7', 'item8'}\n",
    "st1.update(st2) # st2 contents are added to st1"
   ]
  },
  {
   "cell_type": "markdown",
   "id": "2795b413",
   "metadata": {},
   "source": [
    "**예시:**"
   ]
  },
  {
   "cell_type": "code",
   "execution_count": null,
   "id": "bd768e41",
   "metadata": {
    "attributes": {
     "classes": [
      "py"
     ],
     "id": ""
    }
   },
   "outputs": [],
   "source": [
    "fruits = {'banana', 'orange', 'mango', 'lemon'}\n",
    "vegetables = {'tomato', 'potato', 'cabbage','onion', 'carrot'}\n",
    "fruits.update(vegetables)\n",
    "print(fruits) # {'lemon', 'carrot', 'tomato', 'banana', 'mango', 'orange', 'cabbage', 'potato', 'onion'}"
   ]
  },
  {
   "cell_type": "markdown",
   "id": "b456ae6a",
   "metadata": {},
   "source": [
    "### 교차 항목 찾기\n",
    "\n",
    "Intersection은 두 집합 모두에 있는 항목 집합을 반환합니다. 예를 참조하십시오"
   ]
  },
  {
   "cell_type": "code",
   "execution_count": null,
   "id": "55bac999",
   "metadata": {
    "attributes": {
     "classes": [
      "py"
     ],
     "id": ""
    }
   },
   "outputs": [],
   "source": [
    "# syntax\n",
    "st1 = {'item1', 'item2', 'item3', 'item4'}\n",
    "st2 = {'item3', 'item2'}\n",
    "st1.intersection(st2) # {'item3', 'item2'}"
   ]
  },
  {
   "cell_type": "markdown",
   "id": "01ffbdc9",
   "metadata": {},
   "source": [
    "**예시:**"
   ]
  },
  {
   "cell_type": "code",
   "execution_count": null,
   "id": "da240739",
   "metadata": {
    "attributes": {
     "classes": [
      "py"
     ],
     "id": ""
    }
   },
   "outputs": [],
   "source": [
    "whole_numbers = {0, 1, 2, 3, 4, 5, 6, 7, 8, 9, 10}\n",
    "even_numbers = {0, 2, 4, 6, 8, 10}\n",
    "whole_numbers.intersection(even_numbers) # {0, 2, 4, 6, 8, 10}\n",
    "\n",
    "python = {'p', 'y', 't', 'h', 'o','n'}\n",
    "dragon = {'d', 'r', 'a', 'g', 'o','n'}\n",
    "python.intersection(dragon)     # {'o', 'n'}"
   ]
  },
  {
   "cell_type": "markdown",
   "id": "4f611504",
   "metadata": {},
   "source": [
    "### 하위 집합 및 수퍼 집합 확인\n",
    "\n",
    "집합은 다른 집합의 하위 집합 또는 상위 집합일 수 있습니다.\n",
    "\n",
    "- Subset: *issubset()*\n",
    "- Super set: *issuperset*"
   ]
  },
  {
   "cell_type": "code",
   "execution_count": null,
   "id": "59abc1ac",
   "metadata": {
    "attributes": {
     "classes": [
      "py"
     ],
     "id": ""
    }
   },
   "outputs": [],
   "source": [
    "# syntax\n",
    "st1 = {'item1', 'item2', 'item3', 'item4'}\n",
    "st2 = {'item2', 'item3'}\n",
    "st2.issubset(st1) # True\n",
    "st1.issuperset(st2) # True"
   ]
  },
  {
   "cell_type": "markdown",
   "id": "382ef244",
   "metadata": {},
   "source": [
    "**예시:**"
   ]
  },
  {
   "cell_type": "code",
   "execution_count": null,
   "id": "8bcefa91",
   "metadata": {
    "attributes": {
     "classes": [
      "py"
     ],
     "id": ""
    }
   },
   "outputs": [],
   "source": [
    "whole_numbers = {0, 1, 2, 3, 4, 5, 6, 7, 8, 9, 10}\n",
    "even_numbers = {0, 2, 4, 6, 8, 10}\n",
    "whole_numbers.issubset(even_numbers) # False, because it is a super set\n",
    "whole_numbers.issuperset(even_numbers) # True\n",
    "\n",
    "python = {'p', 'y', 't', 'h', 'o','n'}\n",
    "dragon = {'d', 'r', 'a', 'g', 'o','n'}\n",
    "python.issubset(dragon)     # False"
   ]
  },
  {
   "cell_type": "markdown",
   "id": "5004ba50",
   "metadata": {},
   "source": [
    "### 두 세트 간의 차이 확인\n",
    "\n",
    "두 집합 간의 차이를 반환합니다."
   ]
  },
  {
   "cell_type": "code",
   "execution_count": null,
   "id": "89547451",
   "metadata": {
    "attributes": {
     "classes": [
      "py"
     ],
     "id": ""
    }
   },
   "outputs": [],
   "source": [
    "# syntax\n",
    "st1 = {'item1', 'item2', 'item3', 'item4'}\n",
    "st2 = {'item2', 'item3'}\n",
    "st2.difference(st1) # set()\n",
    "st1.difference(st2) # {'item1', 'item4'} => st1\\st2"
   ]
  },
  {
   "cell_type": "markdown",
   "id": "9b79b40d",
   "metadata": {},
   "source": [
    "**예시:**"
   ]
  },
  {
   "cell_type": "code",
   "execution_count": null,
   "id": "836da040",
   "metadata": {
    "attributes": {
     "classes": [
      "py"
     ],
     "id": ""
    }
   },
   "outputs": [],
   "source": [
    "whole_numbers = {0, 1, 2, 3, 4, 5, 6, 7, 8, 9, 10}\n",
    "even_numbers = {0, 2, 4, 6, 8, 10}\n",
    "whole_numbers.difference(even_numbers) # {1, 3, 5, 7, 9}\n",
    "\n",
    "python = {'p', 'y', 't', 'o','n'}\n",
    "dragon = {'d', 'r', 'a', 'g', 'o','n'}\n",
    "python.difference(dragon)     # {'p', 'y', 't'}  - the result is unordered (characteristic of sets)\n",
    "dragon.difference(python)     # {'d', 'r', 'a', 'g'}"
   ]
  },
  {
   "cell_type": "markdown",
   "id": "f48bf58e",
   "metadata": {},
   "source": [
    "### 두 집합 간의 대칭적 차이 찾기\n",
    "\n",
    "두 집합 간의 대칭 차이를 반환합니다. 수학적으로 두 세트에 있는 항목을 제외하고 두 세트의 모든 항목을 포함하는 세트를 리턴한다는 의미입니다. (A\\B) ∪ (B\\A)"
   ]
  },
  {
   "cell_type": "code",
   "execution_count": null,
   "id": "01ac2719",
   "metadata": {
    "attributes": {
     "classes": [
      "py"
     ],
     "id": ""
    }
   },
   "outputs": [],
   "source": [
    "# syntax\n",
    "st1 = {'item1', 'item2', 'item3', 'item4'}\n",
    "st2 = {'item2', 'item3'}\n",
    "# it means (A\\B)∪(B\\A)\n",
    "st2.symmetric_difference(st1) # {'item1', 'item4'}"
   ]
  },
  {
   "cell_type": "markdown",
   "id": "09d694ed",
   "metadata": {},
   "source": [
    "**예시:**"
   ]
  },
  {
   "cell_type": "code",
   "execution_count": null,
   "id": "a9fa40f2",
   "metadata": {
    "attributes": {
     "classes": [
      "py"
     ],
     "id": ""
    }
   },
   "outputs": [],
   "source": [
    "whole_numbers = {0, 1, 2, 3, 4, 5, 6, 7, 8, 9, 10}\n",
    "some_numbers = {1, 2, 3, 4, 5}\n",
    "whole_numbers.symmetric_difference(some_numbers) # {0, 6, 7, 8, 9, 10}\n",
    "\n",
    "python = {'p', 'y', 't', 'h', 'o','n'}\n",
    "dragon = {'d', 'r', 'a', 'g', 'o','n'}\n",
    "python.symmetric_difference(dragon)  # {'r', 't', 'p', 'y', 'g', 'a', 'd', 'h'}"
   ]
  },
  {
   "cell_type": "markdown",
   "id": "2a2e6079",
   "metadata": {},
   "source": [
    "### 집합 결합\n",
    "\n",
    "두 세트에 공통 항목이 없으면 분리 세트라고 합니다. *isdisjoint()* 메서드를 사용하여 두 집합이 결합인지 분리인지 확인할 수 있습니다."
   ]
  },
  {
   "cell_type": "code",
   "execution_count": null,
   "id": "827b6910",
   "metadata": {
    "attributes": {
     "classes": [
      "py"
     ],
     "id": ""
    }
   },
   "outputs": [],
   "source": [
    "# syntax\n",
    "st1 = {'item1', 'item2', 'item3', 'item4'}\n",
    "st2 = {'item2', 'item3'}\n",
    "st2.isdisjoint(st1) # False"
   ]
  },
  {
   "cell_type": "markdown",
   "id": "c147deeb",
   "metadata": {},
   "source": [
    "**예시:**"
   ]
  },
  {
   "cell_type": "code",
   "execution_count": null,
   "id": "9a093c1d",
   "metadata": {
    "attributes": {
     "classes": [
      "py"
     ],
     "id": ""
    }
   },
   "outputs": [],
   "source": [
    "even_numbers = {0, 2, 4 ,6, 8}\n",
    "even_numbers = {1, 3, 5, 7, 9}\n",
    "even_numbers.isdisjoint(odd_numbers) # True, because no common item\n",
    "\n",
    "python = {'p', 'y', 't', 'h', 'o','n'}\n",
    "dragon = {'d', 'r', 'a', 'g', 'o','n'}\n",
    "python.isdisjoint(dragon)  # False, there are common items {'o', 'n'}"
   ]
  },
  {
   "cell_type": "markdown",
   "id": "21739e3f",
   "metadata": {},
   "source": [
    "🌕 당신은 떠오르는 별입니다. 당신은 방금 7일차 챌린지를 완료했으며 위대함을 향한 당신의 길에 7걸음 앞서 있습니다. 이제 뇌와 근육을 위한 몇 가지 훈련을 하십시오.\n",
    "\n",
    "## 💻 Exercises: Day 7"
   ]
  },
  {
   "cell_type": "code",
   "execution_count": null,
   "id": "1a39b593",
   "metadata": {
    "attributes": {
     "classes": [
      "py"
     ],
     "id": ""
    }
   },
   "outputs": [],
   "source": [
    "# sets\n",
    "it_companies = {'Facebook', 'Google', 'Microsoft', 'Apple', 'IBM', 'Oracle', 'Amazon'}\n",
    "A = {19, 22, 24, 20, 25, 26}\n",
    "B = {19, 22, 20, 25, 26, 24, 28, 27}\n",
    "age = [22, 19, 24, 25, 26, 24, 25, 24]"
   ]
  },
  {
   "cell_type": "markdown",
   "id": "822d57dd",
   "metadata": {},
   "source": [
    "### Exercises: Level 1\n",
    "\n",
    "1. 집합 it_companies의 길이 찾기\n",
    "2. it_companies에 'Twitter' 추가\n",
    "3. it_companies 집합에 여러 IT 회사를 한 번에 삽입\n",
    "4. it_companies 집합에서 회사 중 하나를 제거합니다.\n",
    "5. 제거하다와 버리다의 차이점은 무엇인가요?\n",
    "\n",
    "### Exercises: Level 2\n",
    "\n",
    "1. A와 B를 결합\n",
    "2. <a>교차 항목 찾기</a>\n",
    "3. A는 B의 부분집합\n",
    "4. A와 B는 서로소 집합입니다.\n",
    "5. A는 B와, B는 A와 조인\n",
    "6. A와 B의 대칭 차이는 무엇입니까\n",
    "7. 세트를 완전히 삭제\n",
    "\n",
    "### Exercises: Level 3\n",
    "\n",
    "1. 연령을 세트로 변환하고 목록의 길이와 세트의 길이를 비교합니다. 어느 것이 더 큽니까?\n",
    "2. 문자열, 목록, 튜플 및 집합과 같은 데이터 유형의 차이점을 설명하십시오.\n",
    "3. *저는 교사이고 사람들에게 영감을 주고 가르치는 것을 좋아합니다.* 문장에 사용된 독특한 단어는 몇 개입니까? 분할 방법을 사용하고 고유한 단어를 가져오도록 설정합니다.\n",
    "\n",
    "🎉 축하합니다! 🎉\n",
    "\n",
    "[&lt;&lt; 6일차](../06_Day_Tuples/06_tuples.md) | [8일차 &gt;&gt;](../08_Day_Dictionaries/08_dictionaries.md)"
   ]
  }
 ],
 "metadata": {},
 "nbformat": 4,
 "nbformat_minor": 5
}
