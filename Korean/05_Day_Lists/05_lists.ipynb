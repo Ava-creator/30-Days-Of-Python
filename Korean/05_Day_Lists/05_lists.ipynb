{
 "cells": [
  {
   "cell_type": "markdown",
   "id": "8f4a0cb9",
   "metadata": {},
   "source": [
    "<div align=\"center\">\n",
    "  <h1> 30 Days Of Python: Day 5 - Lists</h1>\n",
    "  <a class=\"header-badge\" target=\"_blank\" href=\"https://www.linkedin.com/in/asabeneh/\">\n",
    "  <img src=\"https://img.shields.io/badge/style--5eba00.svg?label=LinkedIn&logo=linkedin&style=social\">\n",
    "  </a>\n",
    "  <a class=\"header-badge\" target=\"_blank\" href=\"https://twitter.com/Asabeneh\">\n",
    "  <img alt=\"Twitter Follow\" src=\"https://img.shields.io/twitter/follow/asabeneh?style=social\">\n",
    "  </a>\n",
    "\n",
    "<sub>Author:\n",
    "<a href=\"https://www.linkedin.com/in/asabeneh/\" target=\"_blank\">Oludayo adeoye</a><br>\n",
    "<small> Second Edition: July - 2021</small>\n",
    "</sub>\n",
    "\n",
    "</div>\n",
    "\n",
    "[<< Day 4](../04_Day_Strings/04_strings.md) | [Day 6 >>](../06_Day_Tuples/06_tuples.md)\n",
    "\n",
    "![30DaysOfPython](../../images/30DaysOfPython_banner3@2x.png)\n",
    "\n",
    "- [Day 5](#day-5)\n",
    "  - [Lists](#lists)\n",
    "    - [How to Create a List](#how-to-create-a-list)\n",
    "    - [Accessing List Items Using Positive Indexing](#accessing-list-items-using-positive-indexing)\n",
    "    - [Accessing List Items Using Negative Indexing](#accessing-list-items-using-negative-indexing)\n",
    "    - [Unpacking List Items](#unpacking-list-items)\n",
    "    - [Slicing Items from a List](#slicing-items-from-a-list)\n",
    "    - [Modifying Lists](#modifying-lists)\n",
    "    - [Checking Items in a List](#checking-items-in-a-list)\n",
    "    - [Adding Items to a List](#adding-items-to-a-list)\n",
    "    - [Inserting Items into a List](#inserting-items-into-a-list)\n",
    "    - [Removing Items from a List](#removing-items-from-a-list)\n",
    "    - [Removing Items Using Pop](#removing-items-using-pop)\n",
    "    - [Removing Items Using Del](#removing-items-using-del)\n",
    "    - [Clearing List Items](#clearing-list-items)\n",
    "    - [Copying a List](#copying-a-list)\n",
    "    - [Joining Lists](#joining-lists)\n",
    "    - [Counting Items in a List](#counting-items-in-a-list)\n",
    "    - [Finding Index of an Item](#finding-index-of-an-item)\n",
    "    - [Reversing a List](#reversing-a-list)\n",
    "    - [Sorting List Items](#sorting-list-items)\n",
    "  - [💻 Exercises: Day 5](#-exercises-day-5)\n",
    "    - [Exercises: Level 1](#exercises-level-1)\n",
    "    - [Exercises: Level 2](#exercises-level-2)\n",
    "\n",
    "# Day 5\n",
    "\n",
    "## Lists\n",
    "\n",
    "파이썬에는 네 가지 컬렉션 자료형이 있습니다.\n",
    "\n",
    "- List: 정렬되고 변경 가능(수정 가능)한 컬렉션입니다. 중복 값을 허용합니다.\n",
    "- Tuple: 정렬되고 변경 불가능하거나 수정 불가능한(불변) 컬렉션입니다. 중복 값을 허용합니다.\n",
    "- Set: 순서가 지정되지 않고 인덱스가 없고 수정할 수 없는 컬렉션이지만 새 아이템을 추가할 수 있습니다. 중복 값은 허용되지 않습니다.\n",
    "- Dictionary: 정렬되지 않고 변경 가능(수정 가능)하며 인덱스가 있는 컬렉션입니다. 중복 값이 없습니다.\n",
    "\n",
    "리스트는 정렬되고 수정(변경) 가능한 다양한 자료형의 컬렉션입니다. 목록은 비어 있거나 다른 자료형 아이템을 가질 수 있습니다.\n",
    "\n",
    "### How to Create a List\n",
    "\n",
    "파이썬에서 리스트는 두가지 방법으로 생성할 수 있습니다:\n",
    "\n",
    "- list 내장 함수를 사용"
   ]
  },
  {
   "cell_type": "code",
   "execution_count": null,
   "id": "6e50d004",
   "metadata": {
    "attributes": {
     "classes": [
      "py"
     ],
     "id": ""
    }
   },
   "outputs": [],
   "source": [
    "# syntax\n",
    "lst = list()"
   ]
  },
  {
   "cell_type": "code",
   "execution_count": null,
   "id": "5769d3eb",
   "metadata": {
    "attributes": {
     "classes": [
      "py"
     ],
     "id": ""
    }
   },
   "outputs": [],
   "source": [
    "empty_list = list() # 이건 빈 리스트 입니다, 리스트 안에 아무 값도 없습니다\n",
    "print(len(empty_list)) # 0"
   ]
  },
  {
   "cell_type": "markdown",
   "id": "46f92561",
   "metadata": {},
   "source": [
    "- 대괄호 사용, []"
   ]
  },
  {
   "cell_type": "code",
   "execution_count": null,
   "id": "e250b45b",
   "metadata": {
    "attributes": {
     "classes": [
      "py"
     ],
     "id": ""
    }
   },
   "outputs": [],
   "source": [
    "# syntax\n",
    "lst = []"
   ]
  },
  {
   "cell_type": "code",
   "execution_count": null,
   "id": "6620d1fe",
   "metadata": {
    "attributes": {
     "classes": [
      "py"
     ],
     "id": ""
    }
   },
   "outputs": [],
   "source": [
    "empty_list = [] # 이건 빈 리스트 입니다, 리스트 안에 아무 값도 없습니다\n",
    "print(len(empty_list)) # 0"
   ]
  },
  {
   "cell_type": "markdown",
   "id": "b50a909a",
   "metadata": {},
   "source": [
    "초기 값이 있는 리스트입니다. _len()_ 을 사용하여 리스트의 길이를 찾습니다."
   ]
  },
  {
   "cell_type": "code",
   "execution_count": null,
   "id": "6de94124",
   "metadata": {
    "attributes": {
     "classes": [
      "py"
     ],
     "id": ""
    }
   },
   "outputs": [],
   "source": [
    "fruits = ['banana', 'orange', 'mango', 'lemon']                     # list of fruits\n",
    "vegetables = ['Tomato', 'Potato', 'Cabbage','Onion', 'Carrot']      # list of vegetables\n",
    "animal_products = ['milk', 'meat', 'butter', 'yoghurt']             # list of animal products\n",
    "web_techs = ['HTML', 'CSS', 'JS', 'React','Redux', 'Node', 'MongDB'] # list of web technologies\n",
    "countries = ['Finland', 'Estonia', 'Denmark', 'Sweden', 'Norway']\n",
    "\n",
    "# Print the lists and its length\n",
    "print('Fruits:', fruits)\n",
    "print('Number of fruits:', len(fruits))\n",
    "print('Vegetables:', vegetables)\n",
    "print('Number of vegetables:', len(vegetables))\n",
    "print('Animal products:',animal_products)\n",
    "print('Number of animal products:', len(animal_products))\n",
    "print('Web technologies:', web_techs)\n",
    "print('Number of web technologies:', len(web_techs))\n",
    "print('Countries:', countries)\n",
    "print('Number of countries:', len(countries))"
   ]
  },
  {
   "cell_type": "code",
   "execution_count": null,
   "id": "a217bd32",
   "metadata": {
    "attributes": {
     "classes": [
      "sh"
     ],
     "id": ""
    }
   },
   "outputs": [],
   "source": [
    "output\n",
    "Fruits: ['banana', 'orange', 'mango', 'lemon']\n",
    "Number of fruits: 4\n",
    "Vegetables: ['Tomato', 'Potato', 'Cabbage', 'Onion', 'Carrot']\n",
    "Number of vegetables: 5\n",
    "Animal products: ['milk', 'meat', 'butter', 'yoghurt']\n",
    "Number of animal products: 4\n",
    "Web technologies: ['HTML', 'CSS', 'JS', 'React', 'Redux', 'Node', 'MongDB']\n",
    "Number of web technologies: 7\n",
    "Countries: ['Finland', 'Estonia', 'Denmark', 'Sweden', 'Norway']\n",
    "Number of countries: 5"
   ]
  },
  {
   "cell_type": "markdown",
   "id": "6d8700f1",
   "metadata": {},
   "source": [
    "- 리스트는 서로 다른 자료형의 아이템을 가질 수 있습니다."
   ]
  },
  {
   "cell_type": "code",
   "execution_count": null,
   "id": "d00f9ce3",
   "metadata": {
    "attributes": {
     "classes": [
      "py"
     ],
     "id": ""
    }
   },
   "outputs": [],
   "source": [
    " lst = ['Asabeneh', 250, True, {'country':'Finland', 'city':'Helsinki'}] # 다른 자료형을 가진 리스트"
   ]
  },
  {
   "cell_type": "markdown",
   "id": "f0af4eec",
   "metadata": {},
   "source": [
    "### Accessing List Items Using Positive Indexing\n",
    "\n",
    "인덱스를 사용하여 리스트의 각 아이템에 액세스합니다. 리스트 인덱스는 0부터 시작합니다. 아래 그림은 인덱스가 시작되는 위치를 명확하게 보여줍니다.\n",
    "![List index](../../images/list_index.png)"
   ]
  },
  {
   "cell_type": "code",
   "execution_count": null,
   "id": "2ec53f63",
   "metadata": {
    "attributes": {
     "classes": [
      "py"
     ],
     "id": ""
    }
   },
   "outputs": [],
   "source": [
    "fruits = ['banana', 'orange', 'mango', 'lemon']\n",
    "first_fruit = fruits[0] # 인덱스를 사용해 첫번째 아이템에 접근합니다\n",
    "print(first_fruit)      # banana\n",
    "second_fruit = fruits[1]\n",
    "print(second_fruit)     # orange\n",
    "last_fruit = fruits[3]\n",
    "print(last_fruit) # lemon\n",
    "# Last index\n",
    "last_index = len(fruits) - 1\n",
    "last_fruit = fruits[last_index]"
   ]
  },
  {
   "cell_type": "markdown",
   "id": "b2b6b525",
   "metadata": {},
   "source": [
    "### Accessing List Items Using Negative Indexing\n",
    "\n",
    "음수 인덱스는 끝에서 시작하는 것을 의미하며 -1은 마지막 아이템을, -2는 마지막에서 두번쨰 아이템을 의미합니다.\n",
    "\n",
    "![List negative indexing](../../images/list_negative_indexing.png)"
   ]
  },
  {
   "cell_type": "code",
   "execution_count": null,
   "id": "1a944147",
   "metadata": {
    "attributes": {
     "classes": [
      "py"
     ],
     "id": ""
    }
   },
   "outputs": [],
   "source": [
    "fruits = ['banana', 'orange', 'mango', 'lemon']\n",
    "first_fruit = fruits[-4]\n",
    "last_fruit = fruits[-1]\n",
    "second_last = fruits[-2]\n",
    "print(first_fruit)      # banana\n",
    "print(last_fruit)       # lemon\n",
    "print(second_last)      # mango"
   ]
  },
  {
   "cell_type": "markdown",
   "id": "5e567e41",
   "metadata": {},
   "source": [
    "### Unpacking List Items"
   ]
  },
  {
   "cell_type": "code",
   "execution_count": null,
   "id": "caec9e2d",
   "metadata": {
    "attributes": {
     "classes": [
      "py"
     ],
     "id": ""
    }
   },
   "outputs": [],
   "source": [
    "lst = ['item','item2','item3', 'item4', 'item5']\n",
    "first_item, second_item, third_item, *rest = lst\n",
    "print(first_item)     # item1\n",
    "print(second_item)    # item2\n",
    "print(third_item)     # item3\n",
    "print(rest)           # ['item4', 'item5']\n"
   ]
  },
  {
   "cell_type": "code",
   "execution_count": null,
   "id": "d94584e3",
   "metadata": {
    "attributes": {
     "classes": [
      "py"
     ],
     "id": ""
    }
   },
   "outputs": [],
   "source": [
    "# First Example\n",
    "fruits = ['banana', 'orange', 'mango', 'lemon','lime','apple']\n",
    "first_fruit, second_fruit, third_fruit, *rest = lst\n",
    "print(first_fruit)     # banana\n",
    "print(second_fruit)    # orange\n",
    "print(third_fruit)     # mango\n",
    "print(rest)           # ['lemon','lime','apple']\n",
    "# Second Example about unpacking list\n",
    "first, second, third,*rest, tenth = [1,2,3,4,5,6,7,8,9,10]\n",
    "print(first)          # 1\n",
    "print(second)         # 2\n",
    "print(third)          # 3\n",
    "print(rest)           # [4,5,6,7,8,9]\n",
    "print(tenth)          # 10\n",
    "# Third Example about unpacking list\n",
    "countries = ['Germany', 'France','Belgium','Sweden','Denmark','Finland','Norway','Iceland','Estonia']\n",
    "gr, fr, bg, sw, *scandic, es = countries\n",
    "print(gr)\n",
    "print(fr)\n",
    "print(bg)\n",
    "print(sw)\n",
    "print(scandic)\n",
    "print(es)"
   ]
  },
  {
   "cell_type": "markdown",
   "id": "81d359f7",
   "metadata": {},
   "source": [
    "### Slicing Items from a List\n",
    "\n",
    "- 양수 인덱싱: start, end 및 step을 지정하여 양수 인덱스 범위를 지정할 수 있습니다. 반환 값은 새 리스트가 됩니다. (start의 디폴트값 = 0, end = len(lst) - 1 (마지막 아이템), step = 1)"
   ]
  },
  {
   "cell_type": "code",
   "execution_count": null,
   "id": "9b2bd266",
   "metadata": {
    "attributes": {
     "classes": [
      "py"
     ],
     "id": ""
    }
   },
   "outputs": [],
   "source": [
    "fruits = ['banana', 'orange', 'mango', 'lemon']\n",
    "all_fruits = fruits[0:4] # 모든 fruits를 반환합니다\n",
    "# 이것또한 위와 같은 값을 반환합니다\n",
    "all_fruits = fruits[0:] # 우리가 어디서 멈출 지 설정하지 않으면, 모든 것을 포함합니다\n",
    "orange_and_mango = fruits[1:3] # 첫번째 인덱스를 포함하지 않습니다\n",
    "orange_mango_lemon = fruits[1:]\n",
    "orange_and_lemon = fruits[::2] # 여기서 세번째 인자인 step을 사용했습니다. 모든 두번째 아이템을 포함합니다 - ['banana', 'mango']"
   ]
  },
  {
   "cell_type": "markdown",
   "id": "5c67583a",
   "metadata": {},
   "source": [
    "- 음수 인덱싱: start, end 및 step을 지정하여 음수 인덱스의 범위를 지정할 수 있습니다. 반환 값은 새 리스트가 됩니다."
   ]
  },
  {
   "cell_type": "code",
   "execution_count": null,
   "id": "d8fcfc97",
   "metadata": {
    "attributes": {
     "classes": [
      "py"
     ],
     "id": ""
    }
   },
   "outputs": [],
   "source": [
    "fruits = ['banana', 'orange', 'mango', 'lemon']\n",
    "all_fruits = fruits[-4:] # 모든 fruits를 반환합니다\n",
    "orange_and_mango = fruits[-3:-1] # 마지막 인덱스를 포함하지 않습니다,['orange', 'mango']\n",
    "orange_mango_lemon = fruits[-3:] # 이것은 -3 부터 시작하여 끝까지의 값을 줍니다,['orange', 'mango', 'lemon']\n",
    "reverse_fruits = fruits[::-1] # 음수의 step은 리스트를 역순으로 가집니다,['lemon', 'mango', 'orange', 'banana']"
   ]
  },
  {
   "cell_type": "markdown",
   "id": "37996cca",
   "metadata": {},
   "source": [
    "### Modifying Lists\n",
    "\n",
    "리스트는 변경 가능하거나 수정 가능한 순서가 있는 아이템들의 컬렉션입니다. 과일 리스트를 수정해봅시다."
   ]
  },
  {
   "cell_type": "code",
   "execution_count": null,
   "id": "78718f5d",
   "metadata": {
    "attributes": {
     "classes": [
      "py"
     ],
     "id": ""
    }
   },
   "outputs": [],
   "source": [
    "fruits = ['banana', 'orange', 'mango', 'lemon']\n",
    "fruits[0] = 'avocado'\n",
    "print(fruits)       #  ['avocado', 'orange', 'mango', 'lemon']\n",
    "fruits[1] = 'apple'\n",
    "print(fruits)       #  ['avocado', 'apple', 'mango', 'lemon']\n",
    "last_index = len(fruits) - 1\n",
    "fruits[last_index] = 'lime'\n",
    "print(fruits)        #  ['avocado', 'apple', 'mango', 'lime']"
   ]
  },
  {
   "cell_type": "markdown",
   "id": "b375950c",
   "metadata": {},
   "source": [
    "### Checking Items in a List\n",
    "\n",
    "*in* 연산자를 사용하여 아이템이 리스트의 구성원인지 확인합니다. 아래 예시를 봅시다."
   ]
  },
  {
   "cell_type": "code",
   "execution_count": null,
   "id": "d7b20d7f",
   "metadata": {
    "attributes": {
     "classes": [
      "py"
     ],
     "id": ""
    }
   },
   "outputs": [],
   "source": [
    "fruits = ['banana', 'orange', 'mango', 'lemon']\n",
    "does_exist = 'banana' in fruits\n",
    "print(does_exist)  # True\n",
    "does_exist = 'lime' in fruits\n",
    "print(does_exist)  # False"
   ]
  },
  {
   "cell_type": "markdown",
   "id": "9bf3d322",
   "metadata": {},
   "source": [
    "### Adding Items to a List\n",
    "\n",
    "기존 리스트의 끝에 아이템을 추가하려면 *append()* 메서드를 사용합니다."
   ]
  },
  {
   "cell_type": "code",
   "execution_count": null,
   "id": "ae0e886c",
   "metadata": {
    "attributes": {
     "classes": [
      "py"
     ],
     "id": ""
    }
   },
   "outputs": [],
   "source": [
    "# syntax\n",
    "lst = list()\n",
    "lst.append(item)"
   ]
  },
  {
   "cell_type": "code",
   "execution_count": null,
   "id": "db95381b",
   "metadata": {
    "attributes": {
     "classes": [
      "py"
     ],
     "id": ""
    }
   },
   "outputs": [],
   "source": [
    "fruits = ['banana', 'orange', 'mango', 'lemon']\n",
    "fruits.append('apple')\n",
    "print(fruits)           # ['banana', 'orange', 'mango', 'lemon', 'apple']\n",
    "fruits.append('lime')   # ['banana', 'orange', 'mango', 'lemon', 'apple', 'lime']\n",
    "print(fruits)"
   ]
  },
  {
   "cell_type": "markdown",
   "id": "e86031d6",
   "metadata": {},
   "source": [
    "### Inserting Items into a List\n",
    "\n",
    "*insert()* 메서드를 사용하여 목록의 지정된 인덱스에 하나의 아이템을 삽입할 수 있습니다. 다른 아이템들은 오른쪽으로 이동한다는 것에 주의합시다. *insert()* 메서드는 인덱스와 삽입할 아이템이라는 두 가지 인자를 가집니다."
   ]
  },
  {
   "cell_type": "code",
   "execution_count": null,
   "id": "c3281d2a",
   "metadata": {
    "attributes": {
     "classes": [
      "py"
     ],
     "id": ""
    }
   },
   "outputs": [],
   "source": [
    "# syntax\n",
    "lst = ['item1', 'item2']\n",
    "lst.insert(index, item)"
   ]
  },
  {
   "cell_type": "code",
   "execution_count": null,
   "id": "7283bd69",
   "metadata": {
    "attributes": {
     "classes": [
      "py"
     ],
     "id": ""
    }
   },
   "outputs": [],
   "source": [
    "fruits = ['banana', 'orange', 'mango', 'lemon']\n",
    "fruits.insert(2, 'apple') # orange와 mango 사이에 apple을 삽입\n",
    "print(fruits)           # ['banana', 'orange', 'apple', 'mango', 'lemon']\n",
    "fruits.insert(3, 'lime')   # ['banana', 'orange', 'apple', 'lime', 'mango', 'lemon']\n",
    "print(fruits)"
   ]
  },
  {
   "cell_type": "markdown",
   "id": "0ac47bbd",
   "metadata": {},
   "source": [
    "### Removing Items from a List\n",
    "\n",
    "remove 메서드는 리스트에서 지정된 아이템을 삭제합니다."
   ]
  },
  {
   "cell_type": "code",
   "execution_count": null,
   "id": "cac737dc",
   "metadata": {
    "attributes": {
     "classes": [
      "py"
     ],
     "id": ""
    }
   },
   "outputs": [],
   "source": [
    "# syntax\n",
    "lst = ['item1', 'item2']\n",
    "lst.remove(item)"
   ]
  },
  {
   "cell_type": "code",
   "execution_count": null,
   "id": "3bfe76b2",
   "metadata": {
    "attributes": {
     "classes": [
      "py"
     ],
     "id": ""
    }
   },
   "outputs": [],
   "source": [
    "fruits = ['banana', 'orange', 'mango', 'lemon', 'banana']\n",
    "fruits.remove('banana')\n",
    "print(fruits)  # ['orange', 'mango', 'lemon', 'banana'] - 이 메서드는 리스트에서 첫번째로 존재하는 아이템을 삭제합니다\n",
    "fruits.remove('lemon')\n",
    "print(fruits)  # ['orange', 'mango', 'banana']"
   ]
  },
  {
   "cell_type": "markdown",
   "id": "5ce26d29",
   "metadata": {},
   "source": [
    "### Removing Items Using Pop\n",
    "\n",
    "*pop()* 메서드는 지정된 인덱스를 제거합니다(또는 인덱스가 지정되지 않은 경우 마지막 아이템):"
   ]
  },
  {
   "cell_type": "code",
   "execution_count": null,
   "id": "4fad2590",
   "metadata": {
    "attributes": {
     "classes": [
      "py"
     ],
     "id": ""
    }
   },
   "outputs": [],
   "source": [
    "# syntax\n",
    "lst = ['item1', 'item2']\n",
    "lst.pop()       # 마지막 아이템\n",
    "lst.pop(index)"
   ]
  },
  {
   "cell_type": "code",
   "execution_count": null,
   "id": "d9bb0780",
   "metadata": {
    "attributes": {
     "classes": [
      "py"
     ],
     "id": ""
    }
   },
   "outputs": [],
   "source": [
    "fruits = ['banana', 'orange', 'mango', 'lemon']\n",
    "fruits.pop()\n",
    "print(fruits)       # ['banana', 'orange', 'mango']\n",
    "\n",
    "fruits.pop(0)\n",
    "print(fruits)       # ['orange', 'mango']"
   ]
  },
  {
   "cell_type": "markdown",
   "id": "7c3c326b",
   "metadata": {},
   "source": [
    "### Removing Items Using Del\n",
    "\n",
    "*del* 키워드는 지정된 인덱스를 삭제하며 인덱스 범위 내의 아이템을 삭제하는 데도 사용할 수 있습니다. 또한 리스트를 완전히 삭제할 수도 있습니다."
   ]
  },
  {
   "cell_type": "code",
   "execution_count": null,
   "id": "b51556cb",
   "metadata": {
    "attributes": {
     "classes": [
      "py"
     ],
     "id": ""
    }
   },
   "outputs": [],
   "source": [
    "# syntax\n",
    "lst = ['item1', 'item2']\n",
    "del lst[index] # 하니의 아이템\n",
    "del lst        # 리스트를 완전히 삭제"
   ]
  },
  {
   "cell_type": "code",
   "execution_count": null,
   "id": "3985c529",
   "metadata": {
    "attributes": {
     "classes": [
      "py"
     ],
     "id": ""
    }
   },
   "outputs": [],
   "source": [
    "fruits = ['banana', 'orange', 'mango', 'lemon', 'kiwi', 'lime']\n",
    "del fruits[0]\n",
    "print(fruits)       # ['orange', 'mango', 'lemon', 'kiwi', 'lime']\n",
    "del fruits[1]\n",
    "print(fruits)       # ['orange', 'lemon', 'kiwi', 'lime']\n",
    "del fruits[1:3]     # 이것은 주어진 인덱스 사이의 아이템을 삭제합니다, 그러므로 인덱스가 3인 아이템은 삭제되지 않습니다!\n",
    "print(fruits)       # ['orange', 'lime']\n",
    "del fruits\n",
    "print(fruits)       # NameError: name 'fruits' is not defined 가 발생해야합니다"
   ]
  },
  {
   "cell_type": "markdown",
   "id": "5a8aa4c5",
   "metadata": {},
   "source": [
    "### Clearing List Items\n",
    "\n",
    "*clear()* 메서드를 사용해 리스트 비우기:"
   ]
  },
  {
   "cell_type": "code",
   "execution_count": null,
   "id": "e1e018e7",
   "metadata": {
    "attributes": {
     "classes": [
      "py"
     ],
     "id": ""
    }
   },
   "outputs": [],
   "source": [
    "# syntax\n",
    "lst = ['item1', 'item2']\n",
    "lst.clear()"
   ]
  },
  {
   "cell_type": "code",
   "execution_count": null,
   "id": "9336443a",
   "metadata": {
    "attributes": {
     "classes": [
      "py"
     ],
     "id": ""
    }
   },
   "outputs": [],
   "source": [
    "fruits = ['banana', 'orange', 'mango', 'lemon']\n",
    "fruits.clear()\n",
    "print(fruits)       # []"
   ]
  },
  {
   "cell_type": "markdown",
   "id": "892bd520",
   "metadata": {},
   "source": [
    "### Copying a List\n",
    "\n",
    "다음의 방법으로 새 변수에 재할당하여 리스트를 복사할 수 있습니다:list2 = list1. 이제 list2는 list1의 참조이며, list2에서 변경한 내용은 원본 list1도 수정합니다. 하지만 원본을 수정하고 싶지 않고 다른 사본을 갖고 싶어하는 경우가 많습니다. 위의 문제를 피하는 한 가지 방법은 _copy()_ 를 사용하는 것입니다."
   ]
  },
  {
   "cell_type": "code",
   "execution_count": null,
   "id": "febf4177",
   "metadata": {
    "attributes": {
     "classes": [
      "py"
     ],
     "id": ""
    }
   },
   "outputs": [],
   "source": [
    "# syntax\n",
    "lst = ['item1', 'item2']\n",
    "lst_copy = lst.copy()"
   ]
  },
  {
   "cell_type": "code",
   "execution_count": null,
   "id": "414e2fc4",
   "metadata": {
    "attributes": {
     "classes": [
      "py"
     ],
     "id": ""
    }
   },
   "outputs": [],
   "source": [
    "fruits = ['banana', 'orange', 'mango', 'lemon']\n",
    "fruits_copy = fruits.copy()\n",
    "print(fruits_copy)       # ['banana', 'orange', 'mango', 'lemon']"
   ]
  },
  {
   "cell_type": "markdown",
   "id": "b6351e9e",
   "metadata": {},
   "source": [
    "### Joining Lists\n",
    "\n",
    "파이썬에서 두 개 이상의 목록을 결합하거나 연결하는 방법은 여러 가지가 있습니다.\n",
    "\n",
    "- 플러스 연산자 (+)"
   ]
  },
  {
   "cell_type": "code",
   "execution_count": null,
   "id": "1b19dba4",
   "metadata": {
    "attributes": {
     "classes": [
      "py"
     ],
     "id": ""
    }
   },
   "outputs": [],
   "source": [
    "# syntax\n",
    "list3 = list1 + list2"
   ]
  },
  {
   "cell_type": "code",
   "execution_count": null,
   "id": "04f17b38",
   "metadata": {
    "attributes": {
     "classes": [
      "py"
     ],
     "id": ""
    }
   },
   "outputs": [],
   "source": [
    "positive_numbers = [1, 2, 3, 4, 5]\n",
    "zero = [0]\n",
    "negative_numbers = [-5,-4,-3,-2,-1]\n",
    "integers = negative_numbers + zero + positive_numbers\n",
    "print(integers) # [-5, -4, -3, -2, -1, 0, 1, 2, 3, 4, 5]\n",
    "fruits = ['banana', 'orange', 'mango', 'lemon']\n",
    "vegetables = ['Tomato', 'Potato', 'Cabbage', 'Onion', 'Carrot']\n",
    "fruits_and_vegetables = fruits + vegetables\n",
    "print(fruits_and_vegetables ) # ['banana', 'orange', 'mango', 'lemon', 'Tomato', 'Potato', 'Cabbage', 'Onion', 'Carrot']"
   ]
  },
  {
   "cell_type": "markdown",
   "id": "2830c3a1",
   "metadata": {},
   "source": [
    "- extend() 메서드를 사용하여 연결\n",
    "  *extend()* 메서드를 사용하면 리스트에 리스트를 추가할 수 있습니다. 아래 예를 참조합시다."
   ]
  },
  {
   "cell_type": "code",
   "execution_count": null,
   "id": "6ea1d648",
   "metadata": {
    "attributes": {
     "classes": [
      "py"
     ],
     "id": ""
    }
   },
   "outputs": [],
   "source": [
    "# syntax\n",
    "list1 = ['item1', 'item2']\n",
    "list2 = ['item3', 'item4', 'item5']\n",
    "list1.extend(list2)"
   ]
  },
  {
   "cell_type": "code",
   "execution_count": null,
   "id": "7f08035f",
   "metadata": {
    "attributes": {
     "classes": [
      "py"
     ],
     "id": ""
    }
   },
   "outputs": [],
   "source": [
    "num1 = [0, 1, 2, 3]\n",
    "num2= [4, 5, 6]\n",
    "num1.extend(num2)\n",
    "print('Numbers:', num1) # Numbers: [0, 1, 2, 3, 4, 5, 6]\n",
    "negative_numbers = [-5,-4,-3,-2,-1]\n",
    "positive_numbers = [1, 2, 3,4,5]\n",
    "zero = [0]\n",
    "\n",
    "negative_numbers.extend(zero)\n",
    "negative_numbers.extend(positive_numbers)\n",
    "print('Integers:', negative_numbers) # Integers: [-5, -4, -3, -2, -1, 0, 1, 2, 3, 4, 5]\n",
    "fruits = ['banana', 'orange', 'mango', 'lemon']\n",
    "vegetables = ['Tomato', 'Potato', 'Cabbage', 'Onion', 'Carrot']\n",
    "fruits.extend(vegetables)\n",
    "print('Fruits and vegetables:', fruits ) # Fruits and vegetables: ['banana', 'orange', 'mango', 'lemon', 'Tomato', 'Potato', 'Cabbage', 'Onion', 'Carrot']"
   ]
  },
  {
   "cell_type": "markdown",
   "id": "0aa065fa",
   "metadata": {},
   "source": [
    "### Counting Items in a List\n",
    "\n",
    "*count()* 메서드는 리스트에 아이템이 나타나는 횟수를 반환합니다:"
   ]
  },
  {
   "cell_type": "code",
   "execution_count": null,
   "id": "e03cb928",
   "metadata": {
    "attributes": {
     "classes": [
      "py"
     ],
     "id": ""
    }
   },
   "outputs": [],
   "source": [
    "# syntax\n",
    "lst = ['item1', 'item2']\n",
    "lst.count(item)"
   ]
  },
  {
   "cell_type": "code",
   "execution_count": null,
   "id": "8c1155c0",
   "metadata": {
    "attributes": {
     "classes": [
      "py"
     ],
     "id": ""
    }
   },
   "outputs": [],
   "source": [
    "fruits = ['banana', 'orange', 'mango', 'lemon']\n",
    "print(fruits.count('orange'))   # 1\n",
    "ages = [22, 19, 24, 25, 26, 24, 25, 24]\n",
    "print(ages.count(24))           # 3"
   ]
  },
  {
   "cell_type": "markdown",
   "id": "3fc96b6b",
   "metadata": {},
   "source": [
    "### Finding Index of an Item\n",
    "\n",
    "*index()* 메서드는 리스트에 있는 아이템의 인덱스를 반환합니다:"
   ]
  },
  {
   "cell_type": "code",
   "execution_count": null,
   "id": "74b4c6f9",
   "metadata": {
    "attributes": {
     "classes": [
      "py"
     ],
     "id": ""
    }
   },
   "outputs": [],
   "source": [
    "# syntax\n",
    "lst = ['item1', 'item2']\n",
    "lst.index(item)"
   ]
  },
  {
   "cell_type": "code",
   "execution_count": null,
   "id": "a1f20307",
   "metadata": {
    "attributes": {
     "classes": [
      "py"
     ],
     "id": ""
    }
   },
   "outputs": [],
   "source": [
    "fruits = ['banana', 'orange', 'mango', 'lemon']\n",
    "print(fruits.index('orange'))   # 1\n",
    "ages = [22, 19, 24, 25, 26, 24, 25, 24]\n",
    "print(ages.index(24))           # 2, 처음 만난 것"
   ]
  },
  {
   "cell_type": "markdown",
   "id": "7191da75",
   "metadata": {},
   "source": [
    "### Reversing a List\n",
    "\n",
    "*reverse()* 메서드는 리스트의 순서를 거꾸로 합니다."
   ]
  },
  {
   "cell_type": "code",
   "execution_count": null,
   "id": "bb58ce45",
   "metadata": {
    "attributes": {
     "classes": [
      "py"
     ],
     "id": ""
    }
   },
   "outputs": [],
   "source": [
    "# syntax\n",
    "lst = ['item1', 'item2']\n",
    "lst.reverse()\n"
   ]
  },
  {
   "cell_type": "code",
   "execution_count": null,
   "id": "5cc34d87",
   "metadata": {
    "attributes": {
     "classes": [
      "py"
     ],
     "id": ""
    }
   },
   "outputs": [],
   "source": [
    "fruits = ['banana', 'orange', 'mango', 'lemon']\n",
    "fruits.reverse()\n",
    "print(fruits) # ['lemon', 'mango', 'orange', 'banana']\n",
    "ages = [22, 19, 24, 25, 26, 24, 25, 24]\n",
    "ages.reverse()\n",
    "print(ages) # [24, 25, 24, 26, 25, 24, 19, 22]"
   ]
  },
  {
   "cell_type": "markdown",
   "id": "33564d77",
   "metadata": {},
   "source": [
    "### Sorting List Items\n",
    "\n",
    "리스트를 정렬하려면 _sort()_ 메서드 또는 _sorted()_ 내장 함수를 사용할 수 있습니다. _sort()_ 메서드는 리스트 아이템을 오름차순으로 정렬하고 원래 리스트를 수정합니다. 만약 _sort()_ 메서드의 reverse의 인자가 true라면, 그것은 목록을 내림차순으로 배열할 것입니다.\n",
    "\n",
    "- sort(): 이 메서드는 원래 리스트를 수정합니다\n",
    "\n",
    "  ```py\n",
    "  # syntax\n",
    "  lst = ['item1', 'item2']\n",
    "  lst.sort()                # 오름차순\n",
    "  lst.sort(reverse=True)    # 내림차순\n",
    "  ```\n",
    "\n",
    "  **Example:**\n",
    "\n",
    "  ```py\n",
    "  fruits = ['banana', 'orange', 'mango', 'lemon']\n",
    "  fruits.sort()\n",
    "  print(fruits)             # 알파벳순으로 정렬, ['banana', 'lemon', 'mango', 'orange']\n",
    "  fruits.sort(reverse=True)\n",
    "  print(fruits) # ['orange', 'mango', 'lemon', 'banana']\n",
    "  ages = [22, 19, 24, 25, 26, 24, 25, 24]\n",
    "  ages.sort()\n",
    "  print(ages) #  [19, 22, 24, 24, 24, 25, 25, 26]\n",
    " \n",
    "  ages.sort(reverse=True)\n",
    "  print(ages) #  [26, 25, 25, 24, 24, 24, 22, 19]\n",
    "  ```\n",
    "\n",
    "  sorted(): 원래 리스트를 수정하지 않고 정렬된 리스트를 반환합니다\n",
    "  **Example:**\n",
    "\n",
    "  ```py\n",
    "  fruits = ['banana', 'orange', 'mango', 'lemon']\n",
    "  print(sorted(fruits))   # ['banana', 'lemon', 'mango', 'orange']\n",
    "  # 역순\n",
    "  fruits = ['banana', 'orange', 'mango', 'lemon']\n",
    "  fruits = sorted(fruits,reverse=True)\n",
    "  print(fruits)     # ['orange', 'mango', 'lemon', 'banana']\n",
    "  ```\n",
    "\n",
    "🌕 당신은 성실하고 이미 많은 것을 성취했습니다. 여러분은 이제 막 5일차 도전을 마쳤고 위대함을 향한 5걸음 앞에 있습니다. 이제 여러분의 뇌와 근육을 위한 운동을 하세요.\n",
    "\n",
    "## 💻 Exercises: Day 5\n",
    "\n",
    "### Exercises: Level 1\n",
    "\n",
    "1. 빈 리스트를 선언합니다\n",
    "2. 5개 이상의 아이템을 갖는 리스트를 선언합니다\n",
    "3. 당신의 리스트의 길이를 알아봅니다\n",
    "4. 리스트의 첫번째, 중간의, 마지막 아이템을 얻어봅니다\n",
    "5. mixed_data_types 라는 리스트를 선언하고, 당신의 이름, 나이, 키, 결혼 여부, 주소를 넣어봅시다\n",
    "6. it_companies 라는 이름의 목록 변수를 선언하고 초기 값에 Facebook, Google, Microsoft, Apple, IBM, Oracle 및 Amazon을 할당합니다\n",
    "7. _print()_ 를 사용하여 리스트를 프린트 합니다\n",
    "8. 리스트에 있는 기업 수를 프린트 합니다\n",
    "9. 첫번째, 중간, 마지막 기업을 프린트 합니다\n",
    "10. 기업 중 하나를 수정하고 리스트를 프린트 합니다\n",
    "11. it_companies 에 하나의 IT 기업을 추가합니다\n",
    "12. 회사 리스트 중간에 IT 기업을 추가합니다\n",
    "13. it_companies 이름 중 하나를 대문자로 변경합니다 (IBM 제외!)\n",
    "14. '#;&nbsp; ' 라는 문자열로 it_companies 에 연결합니다\n",
    "15. it_companies 리스트에 특정 기업이 존재하는 지 확인합니다\n",
    "16. sort() 메서드를 사용해 리스트를 정렬합니다\n",
    "17. reverse() 메서드를 사용하여 리스트를 내림차순으로 반전합니다\n",
    "18. 리스트에서 처음 3개의 기업을 잘라냅니다\n",
    "19. 리스트에서 마지막 3개의 기업을 잘라냅니다\n",
    "20. 리스트에서 중간의 IT 기업 또는 기업들을 잘라냅니다\n",
    "21. 리스트에서 첫번째 IT 기업을 삭제합니다\n",
    "22. 리스트에서 중간의 IT 기업 또는 기업들을 삭제합니다\n",
    "23. 리스트에서 마지막 IT 기업을 삭제합니다\n",
    "24. 리스트에서 모든 IT 기업을 삭제합니다\n",
    "25. IT 기업 리스트를 완전히 제거합니다\n",
    "26. 다음 리스트를 연결합니다:"
   ]
  },
  {
   "cell_type": "code",
   "execution_count": null,
   "id": "79c87545",
   "metadata": {},
   "outputs": [],
   "source": [
    "```py\n",
    "front_end = ['HTML', 'CSS', 'JS', 'React', 'Redux']\n",
    "back_end = ['Node','Express', 'MongoDB']\n",
    "```"
   ]
  },
  {
   "cell_type": "markdown",
   "id": "4abd9b85",
   "metadata": {},
   "source": [
    "27. 26번 문제의 리스트를 연결한 후, 연결된 리스트를 복사해 full_stack 변수에 할당합니다. 그리고 Python, SQL, Redux를 삽입합니다.\n",
    "\n",
    "### Exercises: Level 2\n",
    "\n",
    "1. 다음은 10명의 학생의 나이 리스트입니다:"
   ]
  },
  {
   "cell_type": "code",
   "execution_count": null,
   "id": "ef9cd5ff",
   "metadata": {
    "attributes": {
     "classes": [
      "sh"
     ],
     "id": ""
    }
   },
   "outputs": [],
   "source": [
    "ages = [19, 22, 19, 24, 20, 25, 26, 24, 25, 24]"
   ]
  },
  {
   "cell_type": "markdown",
   "id": "b10a745a",
   "metadata": {},
   "source": [
    "- 리스트를 정렬하고 최소값 및 최대값 찾습니다\n",
    "- 리스트에 최소값 및 최대값을 다시 추가합니다\n",
    "- 나이의 중위값을 찾습니다(중간 아이템 하나 또는 중간 아이템 두 개를 2로 나눈 값)\n",
    "- 평균 나이를 구합니다(모든 아이템의 합을 개수로 나눈 값)\n",
    "- 나이의 범위를 구합니다(최대값 빼기 최소값)\n",
    "-  (최소값 - 평균)과 (최대값 - 평균)의 값을 비교하고 _abs()_ 메서드를 사용합니다.\n",
    "\n",
    "1. [국가 목록](https://github.com/Asabeneh/30-Days-Of-Python/tree/master/data/countries.py) 에서 중간 국가를 찾습니다.\n",
    "1. 국가 리스트를 두개의 리스트로 나눕니다. 짝수라면 두개의 리스트의 크기가 갖게, 아니라면 앞의 리스트가 하나의 국가를 더 갖도록 합니다.\n",
    "1. ['China', 'Russia', 'USA', 'Finland', 'Sweden', 'Norway', 'Denmark']. 앞의 세개 국가와 나머지를 scandic countries로 unpack합니다.\n",
    "\n",
    "🎉 CONGRATULATIONS ! 🎉\n",
    "\n",
    "[<< Day 4](../04_Day_Strings/04_strings.md) | [Day 6 >>](../06_Day_Tuples/06_tuples.md)"
   ]
  }
 ],
 "metadata": {},
 "nbformat": 4,
 "nbformat_minor": 5
}
