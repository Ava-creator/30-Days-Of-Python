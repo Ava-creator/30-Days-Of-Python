{
 "cells": [
  {
   "cell_type": "markdown",
   "id": "7516c4a5",
   "metadata": {},
   "source": [
    "<div align=\"center\">\n",
    "  <h1> 30 Days Of Python: Day 8 - Dictionaries</h1>\n",
    "  <a class=\"header-badge\" target=\"_blank\" href=\"https://www.linkedin.com/in/asabeneh/\">\n",
    "  <img src=\"https://img.shields.io/badge/style--5eba00.svg?label=LinkedIn&logo=linkedin&style=social\">\n",
    "  </a>\n",
    "  <a class=\"header-badge\" target=\"_blank\" href=\"https://twitter.com/Asabeneh\">\n",
    "  <img alt=\"Twitter Follow\" src=\"https://img.shields.io/twitter/follow/asabeneh?style=social\">\n",
    "  </a>\n",
    "\n",
    "<sub>Author:\n",
    "<a href=\"https://www.linkedin.com/in/asabeneh/\" target=\"_blank\">Asabeneh Yetayeh</a><br>\n",
    "<small> Second Edition: July, 2021</small>\n",
    "</sub>\n",
    "\n",
    "</div>\n",
    "\n",
    "[<< Day 7 ](../07_Day_Sets/07_sets.md) | [Day 9 >>](../09_Day_Conditionals/09_conditionals.md)\n",
    "\n",
    "![30DaysOfPython](../../images/30DaysOfPython_banner3@2x.png)\n",
    "\n",
    "- [📘 Day 8](#-day-8)\n",
    "  - [Dictionaries](#dictionaries)\n",
    "    - [Creating a Dictionary](#creating-a-dictionary)\n",
    "    - [Dictionary Length](#dictionary-length)\n",
    "    - [Accessing Dictionary Items](#accessing-dictionary-items)\n",
    "    - [Adding Items to a Dictionary](#adding-items-to-a-dictionary)\n",
    "    - [Modifying Items in a Dictionary](#modifying-items-in-a-dictionary)\n",
    "    - [Checking Keys in a Dictionary](#checking-keys-in-a-dictionary)\n",
    "    - [Removing Key and Value Pairs from a Dictionary](#removing-key-and-value-pairs-from-a-dictionary)\n",
    "    - [Changing Dictionary to a List of Items](#changing-dictionary-to-a-list-of-items)\n",
    "    - [Clearing a Dictionary](#clearing-a-dictionary)\n",
    "    - [Deleting a Dictionary](#deleting-a-dictionary)\n",
    "    - [Copy a Dictionary](#copy-a-dictionary)\n",
    "    - [Getting Dictionary Keys as a List](#getting-dictionary-keys-as-a-list)\n",
    "    - [Getting Dictionary Values as a List](#getting-dictionary-values-as-a-list)\n",
    "  - [💻 Exercises: Day 8](#-exercises-day-8)\n",
    "\n",
    "# 📘 Day 8\n",
    "\n",
    "## Dictionaries\n",
    "\n",
    "Dictionary는 순서가 없는 수정(변형) 가능한 쌍(키: 값)의 자료형의 컬렉션입니다.\n",
    "\n",
    "### Creating a Dictionary\n",
    "\n",
    "Dictionary를 만들려면 중괄호 {} 또는 *dict()* 내장 함수를 사용합니다."
   ]
  },
  {
   "cell_type": "code",
   "execution_count": null,
   "id": "261f4f93",
   "metadata": {
    "attributes": {
     "classes": [
      "py"
     ],
     "id": ""
    }
   },
   "outputs": [],
   "source": [
    "# syntax\n",
    "empty_dict = {}\n",
    "# Dictionary with data values\n",
    "dct = {'key1':'value1', 'key2':'value2', 'key3':'value3', 'key4':'value4'}"
   ]
  },
  {
   "cell_type": "markdown",
   "id": "e8f86905",
   "metadata": {},
   "source": [
    "**Example:**"
   ]
  },
  {
   "cell_type": "code",
   "execution_count": null,
   "id": "559d5274",
   "metadata": {
    "attributes": {
     "classes": [
      "py"
     ],
     "id": ""
    }
   },
   "outputs": [],
   "source": [
    "person = {\n",
    "    'first_name':'Asabeneh',\n",
    "    'last_name':'Yetayeh',\n",
    "    'age':250,\n",
    "    'country':'Finland',\n",
    "    'is_marred':True,\n",
    "    'skills':['JavaScript', 'React', 'Node', 'MongoDB', 'Python'],\n",
    "    'address':{\n",
    "        'street':'Space street',\n",
    "        'zipcode':'02210'\n",
    "    }\n",
    "    }"
   ]
  },
  {
   "cell_type": "markdown",
   "id": "4d42d07b",
   "metadata": {},
   "source": [
    "상단의 Dictionary는 값이 어떤 자료형일 수도 있다는 것을 보여줍니다:string, boolean, list, tuple, set 또는 dictionary.\n",
    "\n",
    "### Dictionary Length\n",
    "\n",
    "dictionary 내 'key: value' 쌍의 개수를 확인합니다."
   ]
  },
  {
   "cell_type": "code",
   "execution_count": null,
   "id": "431e4f65",
   "metadata": {
    "attributes": {
     "classes": [
      "py"
     ],
     "id": ""
    }
   },
   "outputs": [],
   "source": [
    "# syntax\n",
    "dct = {'key1':'value1', 'key2':'value2', 'key3':'value3', 'key4':'value4'}\n",
    "print(len(dct)) # 4"
   ]
  },
  {
   "cell_type": "markdown",
   "id": "62450b75",
   "metadata": {},
   "source": [
    "**Example:**"
   ]
  },
  {
   "cell_type": "code",
   "execution_count": null,
   "id": "73d6b6dc",
   "metadata": {
    "attributes": {
     "classes": [
      "py"
     ],
     "id": ""
    }
   },
   "outputs": [],
   "source": [
    "person = {\n",
    "    'first_name':'Asabeneh',\n",
    "    'last_name':'Yetayeh',\n",
    "    'age':250,\n",
    "    'country':'Finland',\n",
    "    'is_marred':True,\n",
    "    'skills':['JavaScript', 'React', 'Node', 'MongoDB', 'Python'],\n",
    "    'address':{\n",
    "        'street':'Space street',\n",
    "        'zipcode':'02210'\n",
    "    }\n",
    "    }\n",
    "print(len(person)) # 7\n"
   ]
  },
  {
   "cell_type": "markdown",
   "id": "b1285853",
   "metadata": {},
   "source": [
    "### Accessing Dictionary Items\n",
    "\n",
    "키의 이름을 통해 딕셔너리 아이템에 접근할 수 있습니다."
   ]
  },
  {
   "cell_type": "code",
   "execution_count": null,
   "id": "452e9108",
   "metadata": {
    "attributes": {
     "classes": [
      "py"
     ],
     "id": ""
    }
   },
   "outputs": [],
   "source": [
    "# syntax\n",
    "dct = {'key1':'value1', 'key2':'value2', 'key3':'value3', 'key4':'value4'}\n",
    "print(dct['key1']) # value1\n",
    "print(dct['key4']) # value4"
   ]
  },
  {
   "cell_type": "markdown",
   "id": "3bca6a1d",
   "metadata": {},
   "source": [
    "**Example:**"
   ]
  },
  {
   "cell_type": "code",
   "execution_count": null,
   "id": "23bd43d1",
   "metadata": {
    "attributes": {
     "classes": [
      "py"
     ],
     "id": ""
    }
   },
   "outputs": [],
   "source": [
    "person = {\n",
    "    'first_name':'Asabeneh',\n",
    "    'last_name':'Yetayeh',\n",
    "    'age':250,\n",
    "    'country':'Finland',\n",
    "    'is_marred':True,\n",
    "    'skills':['JavaScript', 'React', 'Node', 'MongoDB', 'Python'],\n",
    "    'address':{\n",
    "        'street':'Space street',\n",
    "        'zipcode':'02210'\n",
    "    }\n",
    "    }\n",
    "print(person['first_name']) # Asabeneh\n",
    "print(person['country'])    # Finland\n",
    "print(person['skills'])     # ['JavaScript', 'React', 'Node', 'MongoDB', 'Python']\n",
    "print(person['skills'][0])  # JavaScript\n",
    "print(person['address']['street']) # Space street\n",
    "print(person['city'])       # Error"
   ]
  },
  {
   "cell_type": "markdown",
   "id": "2ad1c127",
   "metadata": {},
   "source": [
    "존재하지 않는 키의 이름으로 아이템에 접근할 경우 에러가 발생할 수 있습니다. 이 에러를 피하기위해 우리는 우선 키가 존재하는지 확인해야합니다. 또는 _get_ 메서드를 사용할수 있습니다. get 메서드는 키가 존재하지 않을 경우, NoneType object 자료형인 None을 반환합니다."
   ]
  },
  {
   "cell_type": "code",
   "execution_count": null,
   "id": "e1d88607",
   "metadata": {
    "attributes": {
     "classes": [
      "py"
     ],
     "id": ""
    }
   },
   "outputs": [],
   "source": [
    "person = {\n",
    "    'first_name':'Asabeneh',\n",
    "    'last_name':'Yetayeh',\n",
    "    'age':250,\n",
    "    'country':'Finland',\n",
    "    'is_marred':True,\n",
    "    'skills':['JavaScript', 'React', 'Node', 'MongoDB', 'Python'],\n",
    "    'address':{\n",
    "        'street':'Space street',\n",
    "        'zipcode':'02210'\n",
    "    }\n",
    "    }\n",
    "print(person.get('first_name')) # Asabeneh\n",
    "print(person.get('country'))    # Finland\n",
    "print(person.get('skills')) #['HTML','CSS','JavaScript', 'React', 'Node', 'MongoDB', 'Python']\n",
    "print(person.get('city'))   # None"
   ]
  },
  {
   "cell_type": "markdown",
   "id": "00f0ed07",
   "metadata": {},
   "source": [
    "### Adding Items to a Dictionary\n",
    "\n",
    "딕셔너리에 새로운 키와 값의 쌍을 추가할 수 있습니다."
   ]
  },
  {
   "cell_type": "code",
   "execution_count": null,
   "id": "d44ec2cf",
   "metadata": {
    "attributes": {
     "classes": [
      "py"
     ],
     "id": ""
    }
   },
   "outputs": [],
   "source": [
    "# syntax\n",
    "dct = {'key1':'value1', 'key2':'value2', 'key3':'value3', 'key4':'value4'}\n",
    "dct['key5'] = 'value5'"
   ]
  },
  {
   "cell_type": "markdown",
   "id": "c9d58b1a",
   "metadata": {},
   "source": [
    "**Example:**"
   ]
  },
  {
   "cell_type": "code",
   "execution_count": null,
   "id": "2172f255",
   "metadata": {
    "attributes": {
     "classes": [
      "py"
     ],
     "id": ""
    }
   },
   "outputs": [],
   "source": [
    "person = {\n",
    "    'first_name':'Asabeneh',\n",
    "    'last_name':'Yetayeh',\n",
    "    'age':250,\n",
    "    'country':'Finland',\n",
    "    'is_marred':True,\n",
    "    'skills':['JavaScript', 'React', 'Node', 'MongoDB', 'Python'],\n",
    "    'address':{\n",
    "        'street':'Space street',\n",
    "        'zipcode':'02210'\n",
    "        }\n",
    "}\n",
    "person['job_title'] = 'Instructor'\n",
    "person['skills'].append('HTML')\n",
    "print(person)"
   ]
  },
  {
   "cell_type": "markdown",
   "id": "8ea6e975",
   "metadata": {},
   "source": [
    "### Modifying Items in a Dictionary\n",
    "\n",
    "딕셔너리의 아이템을 수정할 수 있습니다"
   ]
  },
  {
   "cell_type": "code",
   "execution_count": null,
   "id": "6540d133",
   "metadata": {
    "attributes": {
     "classes": [
      "py"
     ],
     "id": ""
    }
   },
   "outputs": [],
   "source": [
    "# syntax\n",
    "dct = {'key1':'value1', 'key2':'value2', 'key3':'value3', 'key4':'value4'}\n",
    "dct['key1'] = 'value-one'"
   ]
  },
  {
   "cell_type": "markdown",
   "id": "f7499d93",
   "metadata": {},
   "source": [
    "**Example:**"
   ]
  },
  {
   "cell_type": "code",
   "execution_count": null,
   "id": "8df7aa96",
   "metadata": {
    "attributes": {
     "classes": [
      "py"
     ],
     "id": ""
    }
   },
   "outputs": [],
   "source": [
    "person = {\n",
    "    'first_name':'Asabeneh',\n",
    "    'last_name':'Yetayeh',\n",
    "    'age':250,\n",
    "    'country':'Finland',\n",
    "    'is_marred':True,\n",
    "    'skills':['JavaScript', 'React', 'Node', 'MongoDB', 'Python'],\n",
    "    'address':{\n",
    "        'street':'Space street',\n",
    "        'zipcode':'02210'\n",
    "    }\n",
    "    }\n",
    "person['first_name'] = 'Eyob'\n",
    "person['age'] = 252"
   ]
  },
  {
   "cell_type": "markdown",
   "id": "48ba11f3",
   "metadata": {},
   "source": [
    "### Checking Keys in a Dictionary\n",
    "\n",
    "딕셔너리에 키가 존재하는 지 확인하기 위해  _in_ 연산자를 사용합니다"
   ]
  },
  {
   "cell_type": "code",
   "execution_count": null,
   "id": "1d16bdd4",
   "metadata": {
    "attributes": {
     "classes": [
      "py"
     ],
     "id": ""
    }
   },
   "outputs": [],
   "source": [
    "# syntax\n",
    "dct = {'key1':'value1', 'key2':'value2', 'key3':'value3', 'key4':'value4'}\n",
    "print('key2' in dct) # True\n",
    "print('key5' in dct) # False"
   ]
  },
  {
   "cell_type": "markdown",
   "id": "77b04d09",
   "metadata": {},
   "source": [
    "### Removing Key and Value Pairs from a Dictionary\n",
    "\n",
    "- _pop(key)_: 특정 키 이름을 가진 아이템을 삭제합니다\n",
    "- _popitem()_: 마지막 아이템을 삭제합니다\n",
    "- _del_: 특정 키 이름을 가진 아이템을 삭제합니다"
   ]
  },
  {
   "cell_type": "code",
   "execution_count": null,
   "id": "ac98ba43",
   "metadata": {
    "attributes": {
     "classes": [
      "py"
     ],
     "id": ""
    }
   },
   "outputs": [],
   "source": [
    "# syntax\n",
    "dct = {'key1':'value1', 'key2':'value2', 'key3':'value3', 'key4':'value4'}\n",
    "dct.pop('key1') # removes key1 item\n",
    "dct = {'key1':'value1', 'key2':'value2', 'key3':'value3', 'key4':'value4'}\n",
    "dct.popitem() # removes the last item\n",
    "del dct['key2'] # removes key2 item"
   ]
  },
  {
   "cell_type": "markdown",
   "id": "7516f23c",
   "metadata": {},
   "source": [
    "**Example:**"
   ]
  },
  {
   "cell_type": "code",
   "execution_count": null,
   "id": "ff6d0653",
   "metadata": {
    "attributes": {
     "classes": [
      "py"
     ],
     "id": ""
    }
   },
   "outputs": [],
   "source": [
    "person = {\n",
    "    'first_name':'Asabeneh',\n",
    "    'last_name':'Yetayeh',\n",
    "    'age':250,\n",
    "    'country':'Finland',\n",
    "    'is_marred':True,\n",
    "    'skills':['JavaScript', 'React', 'Node', 'MongoDB', 'Python'],\n",
    "    'address':{\n",
    "        'street':'Space street',\n",
    "        'zipcode':'02210'\n",
    "    }\n",
    "    }\n",
    "person.pop('first_name')        # Removes the firstname item\n",
    "person.popitem()                # Removes the address item\n",
    "del person['is_married']        # Removes the is_married item"
   ]
  },
  {
   "cell_type": "markdown",
   "id": "fc70aabc",
   "metadata": {},
   "source": [
    "### Changing Dictionary to a List of Items\n",
    "\n",
    "_items()_ 메서드는 딕셔너리를 튜플의 리스트로 변환합니다."
   ]
  },
  {
   "cell_type": "code",
   "execution_count": null,
   "id": "01e69651",
   "metadata": {
    "attributes": {
     "classes": [
      "py"
     ],
     "id": ""
    }
   },
   "outputs": [],
   "source": [
    "# syntax\n",
    "dct = {'key1':'value1', 'key2':'value2', 'key3':'value3', 'key4':'value4'}\n",
    "print(dct.items()) # dict_items([('key1', 'value1'), ('key2', 'value2'), ('key3', 'value3'), ('key4', 'value4')])"
   ]
  },
  {
   "cell_type": "markdown",
   "id": "d5d15d2f",
   "metadata": {},
   "source": [
    "### Clearing a Dictionary\n",
    "\n",
    "딕셔너리 내의 아이템을 원하지 않는다면  _clear()_ 메서드를 사용해 비울 수 있습니다"
   ]
  },
  {
   "cell_type": "code",
   "execution_count": null,
   "id": "f4f1ad2c",
   "metadata": {
    "attributes": {
     "classes": [
      "py"
     ],
     "id": ""
    }
   },
   "outputs": [],
   "source": [
    "# syntax\n",
    "dct = {'key1':'value1', 'key2':'value2', 'key3':'value3', 'key4':'value4'}\n",
    "print(dct.clear()) # None"
   ]
  },
  {
   "cell_type": "markdown",
   "id": "8a1cd854",
   "metadata": {},
   "source": [
    "### Deleting a Dictionary\n",
    "\n",
    "딕셔너리를 사용하지않는다면 완전히 지울 수 있습니다"
   ]
  },
  {
   "cell_type": "code",
   "execution_count": null,
   "id": "a34b3b0e",
   "metadata": {
    "attributes": {
     "classes": [
      "py"
     ],
     "id": ""
    }
   },
   "outputs": [],
   "source": [
    "# syntax\n",
    "dct = {'key1':'value1', 'key2':'value2', 'key3':'value3', 'key4':'value4'}\n",
    "del dct"
   ]
  },
  {
   "cell_type": "markdown",
   "id": "3be8bd12",
   "metadata": {},
   "source": [
    "### Copy a Dictionary\n",
    "\n",
    "_copy()_ 메서드를 통해 딕셔너리를 복사할 수 있습니다. copy를 사용해 원래 딕셔너리의 변화를 막을 수 있습니다."
   ]
  },
  {
   "cell_type": "code",
   "execution_count": null,
   "id": "5e2cb661",
   "metadata": {
    "attributes": {
     "classes": [
      "py"
     ],
     "id": ""
    }
   },
   "outputs": [],
   "source": [
    "# syntax\n",
    "dct = {'key1':'value1', 'key2':'value2', 'key3':'value3', 'key4':'value4'}\n",
    "dct_copy = dct.copy() # {'key1':'value1', 'key2':'value2', 'key3':'value3', 'key4':'value4'}"
   ]
  },
  {
   "cell_type": "markdown",
   "id": "e0f9eccd",
   "metadata": {},
   "source": [
    "### Getting Dictionary Keys as a List\n",
    "\n",
    "_keys()_ 메서드는 하나의 딕셔너리의 모든 키를 리스트로 줍니다."
   ]
  },
  {
   "cell_type": "code",
   "execution_count": null,
   "id": "44666333",
   "metadata": {
    "attributes": {
     "classes": [
      "py"
     ],
     "id": ""
    }
   },
   "outputs": [],
   "source": [
    "# syntax\n",
    "dct = {'key1':'value1', 'key2':'value2', 'key3':'value3', 'key4':'value4'}\n",
    "keys = dct.keys()\n",
    "print(keys)     # dict_keys(['key1', 'key2', 'key3', 'key4'])"
   ]
  },
  {
   "cell_type": "markdown",
   "id": "20159ec5",
   "metadata": {},
   "source": [
    "### Getting Dictionary Values as a List\n",
    "\n",
    "_values_ 메서드는 하나의 딕셔너리의 모든 값을 리스트로 줍니다."
   ]
  },
  {
   "cell_type": "code",
   "execution_count": null,
   "id": "99cda989",
   "metadata": {
    "attributes": {
     "classes": [
      "py"
     ],
     "id": ""
    }
   },
   "outputs": [],
   "source": [
    "# syntax\n",
    "dct = {'key1':'value1', 'key2':'value2', 'key3':'value3', 'key4':'value4'}\n",
    "values = dct.values()\n",
    "print(values)     # dict_values(['value1', 'value2', 'value3', 'value4'])"
   ]
  },
  {
   "cell_type": "markdown",
   "id": "3ec1ff3b",
   "metadata": {},
   "source": [
    "🌕 당신은 정말 놀라워요. 이제, 여러분은 사전의 힘으로 완전히 충전되어 있습니다. 여러분은 이제 막 8일째의 도전을 마쳤고 위대함을 향해 8보 전진했습니다. 이제 여러분의 뇌와 근육을 위한 운동을 하세요.\n",
    "\n",
    "## 💻 Exercises: Day 8\n",
    "\n",
    "1. dog라는 이름의 빈 딕셔너리를 생성합니다\n",
    "2. dog 딕셔너리에 name, color, breed, legs, age 를 추가합니다\n",
    "3. student 딕셔너리를 생성하고 first_name, last_name, gender, age, marital status, skills, country, city 와 address 를 키로 추가합니다\n",
    "4. student 딕셔너리의 길이를 얻습니다\n",
    "5. skills 의 값을 얻고 자료형을 확인합니다, list 여야 합니다\n",
    "6. 한개나 두개를 추가해 skills의 값을 수정합니다\n",
    "7. 딕셔너리의 키를 리스트로 얻습니다\n",
    "8. 딕셔너리의 값을 리스트로 얻습니다\n",
    "9. _items()_ 메서드를 이용해 튜플의 리스트로 딕셔너리를 바꿉니다\n",
    "10. 딕셔너리의 아이템중 하나를 삭제합니다\n",
    "11. 딕셔너리 중 하나를 삭제합니다\n",
    "\n",
    "🎉 CONGRATULATIONS ! 🎉\n",
    "\n",
    "[<< Day 7 ](../07_Day_Sets/07_sets.md) | [Day 9 >>](../09_Day_Conditionals/09_conditionals.md)"
   ]
  }
 ],
 "metadata": {},
 "nbformat": 4,
 "nbformat_minor": 5
}
