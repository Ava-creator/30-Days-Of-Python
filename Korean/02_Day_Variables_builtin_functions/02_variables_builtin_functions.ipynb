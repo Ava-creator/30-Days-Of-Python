{
 "cells": [
  {
   "cell_type": "markdown",
   "id": "88de7186",
   "metadata": {},
   "source": [
    "<div align=\"center\">\n",
    "  <h1> 30 Days Of Python: Day 2 - 변수, 내장 함수</h1>\n",
    "  <a class=\"header-badge\" target=\"_blank\" href=\"https://www.linkedin.com/in/asabeneh/\">\n",
    "  <img src=\"https://img.shields.io/badge/style--5eba00.svg?label=LinkedIn&logo=linkedin&style=social\">\n",
    "  </a>\n",
    "  <a class=\"header-badge\" target=\"_blank\" href=\"https://twitter.com/Asabeneh\">\n",
    "  <img alt=\"Twitter Follow\" src=\"https://img.shields.io/twitter/follow/asabeneh?style=social\">\n",
    "  </a>\n",
    "\n",
    "<sub>Author:\n",
    "<a href=\"https://www.linkedin.com/in/asabeneh/\" target=\"_blank\">Oludayo adeoye</a><br>\n",
    "<small> Second Edition: July, 2021</small>\n",
    "</sub>\n",
    "\n",
    "</div>\n",
    "\n",
    "[<< Day 1](../readme.md) | [Day 3 >>](../03_Day_Operators/03_operators.md)\n",
    "\n",
    "![30DaysOfPython](../../images/30DaysOfPython_banner3@2x.png)\n",
    "\n",
    "- [📘 Day 2](#-day-2)\n",
    "  - [내장 함수](#내장-함수)\n",
    "  - [변수](#변수)\n",
    "    - [한 줄로 여러개의 변수 선언](#한-줄로-여러개의-변수-선언)\n",
    "  - [자료형](#자료형)\n",
    "  - [자료형 확인 및 형변환](#자료형-확인-및-형변환)\n",
    "  - [숫자](#숫자)\n",
    "  - [💻 Exercises - Day 2](#-exercises---day-2)\n",
    "    - [Exercises: Level 1](#exercises-level-1)\n",
    "    - [Exercises: Level 2](#exercises-level-2)\n",
    "\n",
    "# 📘 Day 2\n",
    "\n",
    "## 내장 함수\n",
    "\n",
    "파이썬에는 수많은 내장 함수가 있습니다. 내장 함수는 전역에서 사용 가능하고 그건 importing 이나 configuring없이 내장 함수를 사용 가능하다는 뜻입니다. 다음은 가장 자주 사용되는 파이썬 내장함수들 중 몇가지입니다: _print()_, _len()_, _type()_, _int()_, _float()_, _str()_, _input()_, _list()_, _dict()_, _min()_, _max()_, _sum()_, _sorted()_, _open()_, _file()_, _help()_, and _dir()_. 밑의 표에서 [파이썬 공식문서](https://docs.python.org/3.9/library/functions.html) 에 쓰여진 파이썬 내장 함수의 전체 목록을 볼 수 있습니다.\n",
    "\n",
    "![Built-in Functions](../../images/builtin-functions.png)\n",
    "\n",
    "파이썬 쉘을 열고 가장 자주 사용되는 내장 함수를 사용해봅시다.\n",
    "\n",
    "![Built-in functions](../../images/builtin-functions_practice.png)\n",
    "\n",
    "다른 내장 함수를 사용해 더 연습해봅시다.\n",
    "\n",
    "![Help and Dir Built in Functions](../../images/help_and_dir_builtin.png)\n",
    "\n",
    "위의 터미널에서 볼 수 있듯이, 파이썬에는 reserved word가 있습니다. reserved word는 변수나 함수를 선언할때 사용되지 않습니다. 변수에 관해서는 다음 장에서 다룰것입니다.\n",
    "\n",
    "이제 당신은 내장 함수에 익숙해졌을 것이라 믿습니다. 한번 더 내장 함수의 연습을 하고 다음 장으로 넘어갑시다.\n",
    "![Min Max Sum](../../images/builtin-functional-final.png)\n",
    "\n",
    "## 변수\n",
    "\n",
    "변수는 컴퓨터 메모리에 정보를 저장합니다. Mnemonic 변수는 많은 프로그래밍 언어에서 사용하도록 권장됩니다. Mnemonic 변수는 쉽게 기억하고 연관지을 수 있는 변수 이름입니다. 한 변수는 정보가 저장되어있는 메모리 주소를 참조합니다.\n",
    "변수 이름을 지정할 때는 시작 부분의 숫자, 특수 문자, 하이픈을 사용할 수 없습니다. 변수는 짧은 이름(예: x, y, z)을 가질 수 있지만 더 변수에 대한 설명을 담은 이름(이름, 성, 나이, 국가)을 사용하는 것을 추천합니다.\n",
    "\n",
    "파이썬 변수 이름 규칙\n",
    "\n",
    "- 변수 이름은 문자 또는 밑줄 문자로 시작해야 합니다\n",
    "- 변수 이름은 숫자로 시작할 수 없습니다 \n",
    "- 변수 이름에는 알파벳과 숫자와 밑줄(A-z, 0-9 및 \\_)만 사용할 수 있습니다 \n",
    "- 변수 이름은 대소문자를 구분합니다(firstname, Firstname, FirstName, FIRSTNAME은 서로 다른 변수)\n",
    "\n",
    "사용가능한 변수 이름들을 살펴봅시다"
   ]
  },
  {
   "cell_type": "code",
   "execution_count": null,
   "id": "59d64a8b",
   "metadata": {
    "attributes": {
     "classes": [
      "shell"
     ],
     "id": ""
    }
   },
   "outputs": [],
   "source": [
    "firstname\n",
    "lastname\n",
    "age\n",
    "country\n",
    "city\n",
    "first_name\n",
    "last_name\n",
    "capital_city\n",
    "_if # reserved word를 변수 이름으로 사용하고 싶은 경우\n",
    "year_2021\n",
    "year2021\n",
    "current_year_2021\n",
    "birth_year\n",
    "num1\n",
    "num2"
   ]
  },
  {
   "cell_type": "markdown",
   "id": "08880114",
   "metadata": {},
   "source": [
    "사용할 수 없는 변수 이름들"
   ]
  },
  {
   "cell_type": "code",
   "execution_count": null,
   "id": "c5754a72",
   "metadata": {
    "attributes": {
     "classes": [
      "shell"
     ],
     "id": ""
    }
   },
   "outputs": [],
   "source": [
    "first-name\n",
    "first@name\n",
    "first$name\n",
    "num-1\n",
    "1num"
   ]
  },
  {
   "cell_type": "markdown",
   "id": "6279a3b3",
   "metadata": {},
   "source": [
    "우리는 많은 파이썬 개발자들이 채택한 표준 파이썬 변수 명명 방식을 사용할 것입니다. 파이썬 개발자들은 스네이크 케이스(snake_case) 변수 명명 규칙을 사용합니다. 우리는 두 개 이상의 단어를 포함하는 변수에 대해 각 단어 뒤에 밑줄 문자를 사용합니다(예: first_name, last_name, engine_rotation_speed). 아래 예제는 변수의 표준 명명 예제이며, 변수 이름이 둘 이상의 단어일 경우 밑줄이 필요합니다.\n",
    "\n",
    "변수에 특정 데이터 유형을 할당할 때 이를 변수 선언이라고 합니다. 예를 들어 아래 예제에서 내 이름은 first_name 변수에 할당됩니다. 등호 기호는 할당 연산자입니다. 할당은 변수에 데이터를 저장하는 것을 의미합니다. 파이썬에서 등호 기호는 수학에서의 등호가 아닙니다.\n",
    "\n",
    "_Example:_"
   ]
  },
  {
   "cell_type": "code",
   "execution_count": null,
   "id": "88f3c8a8",
   "metadata": {
    "attributes": {
     "classes": [
      "py"
     ],
     "id": ""
    }
   },
   "outputs": [],
   "source": [
    "# Variables in Python\n",
    "first_name = 'Asabeneh'\n",
    "last_name = 'Yetayeh'\n",
    "country = 'Finland'\n",
    "city = 'Helsinki'\n",
    "age = 250\n",
    "is_married = True\n",
    "skills = ['HTML', 'CSS', 'JS', 'React', 'Python']\n",
    "person_info = {\n",
    "   'firstname':'Asabeneh',\n",
    "   'lastname':'Yetayeh',\n",
    "   'country':'Finland',\n",
    "   'city':'Helsinki'\n",
    "   }"
   ]
  },
  {
   "cell_type": "markdown",
   "id": "9b82e9ba",
   "metadata": {},
   "source": [
    "내장 함수인 _print()_ 와 _len()_ 을 사용해봅시다. Print 함수는 인자의 수에 제한이 없습니다. 인자는 함수 괄호 안에 넣어 전달할 수 있는 값입니다. 아래 예제를 봅시다.\n",
    "\n",
    "**Example:**"
   ]
  },
  {
   "cell_type": "code",
   "execution_count": null,
   "id": "79eed79b",
   "metadata": {
    "attributes": {
     "classes": [
      "py"
     ],
     "id": ""
    }
   },
   "outputs": [],
   "source": [
    "print('Hello, World!') # Hello, World! 라는 글이 하나의 인자입니다\n",
    "print('Hello',',', 'World','!') # 여러개의 인자를 받을 수 있습니다, 네개의 인자가 넘겨졌습니다 \n",
    "print(len('Hello, World!')) # 하나의 인자만을 받습니다"
   ]
  },
  {
   "cell_type": "markdown",
   "id": "e993978c",
   "metadata": {},
   "source": [
    "위에서 정의된 변수들을 찍어보고 길이를 찾아봅시다:\n",
    "\n",
    "**Example:**"
   ]
  },
  {
   "cell_type": "code",
   "execution_count": null,
   "id": "99d4d1b5",
   "metadata": {
    "attributes": {
     "classes": [
      "py"
     ],
     "id": ""
    }
   },
   "outputs": [],
   "source": [
    "# 변수에 저장된 값 찍기\n",
    "\n",
    "print('First name:', first_name)\n",
    "print('First name length:', len(first_name))\n",
    "print('Last name: ', last_name)\n",
    "print('Last name length: ', len(last_name))\n",
    "print('Country: ', country)\n",
    "print('City: ', city)\n",
    "print('Age: ', age)\n",
    "print('Married: ', is_married)\n",
    "print('Skills: ', skills)\n",
    "print('Person information: ', person_info)"
   ]
  },
  {
   "cell_type": "markdown",
   "id": "06917519",
   "metadata": {},
   "source": [
    "### 한 줄로 여러개의 변수 선언\n",
    "\n",
    "하나의 줄에서 여러개의 변수를 선언할 수도 있습니다:\n",
    "\n",
    "**Example:**"
   ]
  },
  {
   "cell_type": "code",
   "execution_count": null,
   "id": "40f97fc2",
   "metadata": {
    "attributes": {
     "classes": [
      "py"
     ],
     "id": ""
    }
   },
   "outputs": [],
   "source": [
    "first_name, last_name, country, age, is_married = 'Asabeneh', 'Yetayeh', 'Helsink', 250, True\n",
    "\n",
    "print(first_name, last_name, country, age, is_married)\n",
    "print('First name:', first_name)\n",
    "print('Last name: ', last_name)\n",
    "print('Country: ', country)\n",
    "print('Age: ', age)\n",
    "print('Married: ', is_married)"
   ]
  },
  {
   "cell_type": "markdown",
   "id": "d6fbf5f4",
   "metadata": {},
   "source": [
    "내장 함수 _input()_ 을 사용해 사용자의 입력 받기. 사용자로부터 받은 정보를 first_name과 age 변수에 할당해봅시다.\n",
    "**Example:**"
   ]
  },
  {
   "cell_type": "code",
   "execution_count": null,
   "id": "ee767ff2",
   "metadata": {
    "attributes": {
     "classes": [
      "py"
     ],
     "id": ""
    }
   },
   "outputs": [],
   "source": [
    "first_name = input('What is your name: ')\n",
    "age = input('How old are you? ')\n",
    "\n",
    "print(first_name)\n",
    "print(age)"
   ]
  },
  {
   "cell_type": "markdown",
   "id": "33a0568f",
   "metadata": {},
   "source": [
    "## 자료형\n",
    "\n",
    "파이썬에는 몇 가지 자료형이 있습니다. 자료형을 식별하기 위해 내장 함수 _type()_ 을 사용합니다. 서로 다른 자료형을 잘 이해하는 데 집중해 주시기를 부탁드립니다. 프로그래밍에서 모든것은 자료형과 관련이 있습니다. 처음에 자료형을 소개했지만 모든 주제가 자료형과 관련이 있기 때문에 다시 나옵니다. 자료형에 대해서는 각 섹션에서 자세히 설명하겠습니다.\n",
    "\n",
    "## 자료형 확인 및 형변환\n",
    "\n",
    "- 자료형 확인: 특정 정보/변수의 자료형을 확인하기위해 우리는 _type()_ 을 사용합니다\n",
    "  **Example:**"
   ]
  },
  {
   "cell_type": "code",
   "execution_count": null,
   "id": "031954e7",
   "metadata": {
    "attributes": {
     "classes": [
      "py"
     ],
     "id": ""
    }
   },
   "outputs": [],
   "source": [
    "# 다양한 파이썬 자료형\n",
    "# 다양한 자료형의 변수들을 선언해 봅시다.\n",
    "\n",
    "first_name = 'Asabeneh'     # str\n",
    "last_name = 'Yetayeh'       # str\n",
    "country = 'Finland'         # str\n",
    "city= 'Helsinki'            # str\n",
    "age = 250                   # int, 제 실제 나이가 아닙니다, 걱정마세요\n",
    "\n",
    "# Printing out types\n",
    "print(type('Asabeneh'))     # str\n",
    "print(type(first_name))     # str\n",
    "print(type(10))             # int\n",
    "print(type(3.14))           # float\n",
    "print(type(1 + 1j))         # complex\n",
    "print(type(True))           # bool\n",
    "print(type([1, 2, 3, 4]))     # list\n",
    "print(type({'name':'Asabeneh','age':250, 'is_married':250}))    # dict\n",
    "print(type((1,2)))                                              # tuple\n",
    "print(type(zip([1,2],[3,4])))                                   # set"
   ]
  },
  {
   "cell_type": "markdown",
   "id": "db26e7ad",
   "metadata": {},
   "source": [
    "- 형변환: 하나의 자료형을 다른 자료형으로 변환합니다.  _int()_, _float()_, _str()_, _list_, _set_ 를 사용합니다.\n",
    "  산술 연산을 수행할 때 문자열 숫자들을 먼저 int 나 float로 변환해야 합니다. 그렇지 않으면 오류가 반환됩니다. 만약 숫자를 문자열과 결합한다면, 그 숫자는 먼저 문자열로 변환되어야 합니다. 결합에 대해서는 String 섹션에서 설명하겠습니다.\n",
    "\n",
    "  **Example:**"
   ]
  },
  {
   "cell_type": "code",
   "execution_count": null,
   "id": "a1bd30c2",
   "metadata": {
    "attributes": {
     "classes": [
      "py"
     ],
     "id": ""
    }
   },
   "outputs": [],
   "source": [
    "# int to float\n",
    "num_int = 10\n",
    "print('num_int',num_int)         # 10\n",
    "num_float = float(num_int)\n",
    "print('num_float:', num_float)   # 10.0\n",
    "\n",
    "# float to int\n",
    "gravity = 9.81\n",
    "print(int(gravity))             # 9\n",
    "\n",
    "# int to str\n",
    "num_int = 10\n",
    "print(num_int)                  # 10\n",
    "num_str = str(num_int)\n",
    "print(num_str)                  # '10'\n",
    "\n",
    "# str to int or float\n",
    "num_str = '10.6'\n",
    "print('num_int', int(num_str))      # 10\n",
    "print('num_float', float(num_str))  # 10.6\n",
    "\n",
    "# str to list\n",
    "first_name = 'Asabeneh'\n",
    "print(first_name)               # 'Asabeneh'\n",
    "first_name_to_list = list(first_name)\n",
    "print(first_name_to_list)            # ['A', 's', 'a', 'b', 'e', 'n', 'e', 'h']"
   ]
  },
  {
   "cell_type": "markdown",
   "id": "b1214d8c",
   "metadata": {},
   "source": [
    "## 숫자\n",
    "\n",
    "파이썬의 숫자 자료형:\n",
    "\n",
    "1. Integers: 정수(음수, 0 , 양수) \n",
    "   예:\n",
    "   ... -3, -2, -1, 0, 1, 2, 3 ...\n",
    "\n",
    "2. 부동 소수점 숫자(10진수)\n",
    "   예:\n",
    "   ... -3.5, -2.25, -1.0, 0.0, 1.1, 2.2, 3.5 ...\n",
    "\n",
    "3. 복소수\n",
    "   예:\n",
    "   1 + j, 2 + 4j, 1 - 1j\n",
    "\n",
    "🌕 당신은 정말 멋집니다. 여러분은 이제 막 2일차 도전을 마쳤고 위대함으로 가는 길에 두 걸음 앞서 있습니다. 이제 여러분의 뇌와 근육을 위한 운동을 하세요.\n",
    "\n",
    "## 💻 Exercises - Day 2\n",
    "\n",
    "### Exercises: Level 1\n",
    "\n",
    "1. 30DaysOfPython 내에 day_2라는 폴더를 생성하세요. 그 폴더 내에 variables.py 라는 파일을 생성하세요.\n",
    "2. 'Day 2: 30 Days of python programming'이라는 파이썬 주석을 작성합니다.\n",
    "3. first name 변수를 선언하고 변수에 값을 할당합니다.\n",
    "4. last name 변수를 선언하고 변수에 값을 할당합니다.\n",
    "5. full name 변수를 선언하고 변수에 값을 할당합니다.\n",
    "6. country 변수를 선언하고 값을 할당합니다.\n",
    "7. city 변수를 선언하고 값을 할당합니다.\n",
    "8. age 변수를 선언하고 값을 할당합니다.\n",
    "9. year 변수를 선언하고 값을 할당합니다.\n",
    "10. is_married 변수를 선언하고 값을 할당합니다.\n",
    "11. is_true 변수를 선언하고 값을 할당합니다.\n",
    "12. is_light_on 변수를 선언하고 값을 할당합니다.\n",
    "13. 한 줄에 여러개의 변수를 선언합니다.\n",
    "\n",
    "### Exercises: Level 2\n",
    "\n",
    "1. Check the data type of all your variables using type() built-in function\n",
    "1. Using the _len()_ built-in function, find the length of your first name\n",
    "1. Compare the length of your first name and your last name\n",
    "1. Declare 5 as num_one and 4 as num_two\n",
    "    1. Add num_one and num_two and assign the value to a variable total\n",
    "    2. Subtract num_two from num_one and assign the value to a variable diff\n",
    "    3. Multiply num_two and num_one and assign the value to a variable product\n",
    "    4. Divide num_one by num_two and assign the value to a variable division\n",
    "    5. Use modulus division to find num_two divided by num_one and assign the value to a variable remainder\n",
    "    6. Calculate num_one to the power of num_two and assign the value to a variable exp\n",
    "    7. Find floor division of num_one by num_two and assign the value to a variable floor_division\n",
    "1. The radius of a circle is 30 meters.\n",
    "    1. Calculate the area of a circle and assign the value to a variable name of _area_of_circle_\n",
    "    2. Calculate the circumference of a circle and assign the value to a variable name of _circum_of_circle_\n",
    "    3. Take radius as user input and calculate the area.\n",
    "1. Use the built-in input function to get first name, last name, country and age from a user and store the value to their corresponding variable names\n",
    "1. Run help('keywords') in Python shell or in your file to check for the Python reserved words or keywords\n",
    "\n",
    "1. type() 내장 함수를 사용하여 모든 변수의 자료형을 확인합니다.\n",
    "1. _len()_ 내장 함수를 사용하여 당신의 first name 의 길이를 찾습니다.\n",
    "1. 당신의 first name 과 last name 의 길이를 비교합니다.\n",
    "1. 5를 num_1로, 4를 num_2로 선언합니다.\n",
    "    1. num_one과 num_two를 더하고 그 값을 변수 total 에 할당합니다.\n",
    "    2. num_1에서 num_2를 빼고 그 값을 변수 diff 에 할당합니다.\n",
    "    3. num_two와 num_one을 곱하여 그 값을 변수 product 에 할당합니다.\n",
    "    4. num_one을 num_two로 나누고 그 값을 변수 division 에 할당합니다.\n",
    "    5. 나머지 연산을 사용하여 num_two를 num_one으로 나눈 값을 찾고 변수 remainder 에 할당합니다.\n",
    "    6. num_one을 num_two의 거듭제곱으로 계산하고 그 값을 변수 exp 에 할당합니다.\n",
    "    7. num_one을 num_two로 나누고 소숫값은 버린 정수 값을 구하고 변수 floor_division 에 값을 할당합니다.\n",
    "1. 원의 반지름은 30미터입니다.\n",
    "    1. 원의 면적을 계산하여 _area_of_circle_ 이라는 이름의 변수에 값을 할당합니다.\n",
    "    2. 원의 둘레를 계산하여 _circum_of_circum_ 이라는 이름의 변수에 값을 할당합니다.\n",
    "    3. 반경을 사용자 입력으로 받아서 면적을 계산합니다.\n",
    "1. 내장 함수 input을 사용하여 사용자로부터 이름, 성, 국가 및 나이를 얻고 해당 변수 이름에 값을 저장합니다.\n",
    "1. Python 셸 또는 파일에서 help('keywords')을 실행하여 파이썬의 reserved words 또는 키워드를 확인합니다.\n",
    "\n",
    "🎉 축하합니다 ! 🎉\n",
    "\n",
    "[<< Day 1](../readme.md) | [Day 3 >>](../03_Day_Operators/03_operators.md)"
   ]
  }
 ],
 "metadata": {},
 "nbformat": 4,
 "nbformat_minor": 5
}
