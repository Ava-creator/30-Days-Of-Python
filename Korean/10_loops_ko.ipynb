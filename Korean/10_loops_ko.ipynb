{
 "cells": [
  {
   "cell_type": "markdown",
   "id": "cef2c3cf",
   "metadata": {},
   "source": [
    "<div align=\"center\">   <h1> 30 Days Of Python: Day 10 - Loops</h1>   <a class=\"header-badge\" target=\"_blank\" href=\"https://www.linkedin.com/in/asabeneh/\">   <img src=\"https://img.shields.io/badge/style--5eba00.svg?label=LinkedIn&amp;logo=linkedin&amp;style=social\">   </a>   <a class=\"header-badge\" target=\"_blank\" href=\"https://twitter.com/Asabeneh\">   <img src=\"https://img.shields.io/twitter/follow/asabeneh?style=social\" alt=\"Twitter Follow\">   </a>\n",
    "</div>\n",
    "<p data-md-type=\"paragraph\"><sub data-md-type=\"raw_html\">Author: <a data-md-type=\"raw_html\" href=\"https://www.linkedin.com/in/asabeneh/\" target=\"_blank\">Asabeneh Yetayeh</a><br> <small data-md-type=\"raw_html\"> Second Edition: July, 2021</small></sub></p>\n",
    "<div data-md-type=\"block_html\"></div>\n",
    "\n",
    "[&lt;&lt; Day 9](../09_Day_Conditionals/09_conditionals.md) | [Day 11 &gt;&gt;](../11_Day_Functions/11_functions.md)\n",
    "\n",
    "![30DaysOfPython](../images/30DaysOfPython_banner3@2x.png)\n",
    "\n",
    "- [📘 Day 10](#-day-10)\n",
    "    - [Loops](#loops)\n",
    "        - [While 루프](#while-루프)\n",
    "        - [Break 과 Continue - Part 1](#break-과-continue---part-1)\n",
    "        - [For 루프](#for-루프)\n",
    "        - [Break 과 Continue - Part 2](#break-과-continue---part-2)\n",
    "        - [범위 기능](#범위-기능)\n",
    "        - [중첩 For 루프](#중첩-for-루프)\n",
    "        - [For Else](#for-else)\n",
    "        - [Pass](#pass)\n",
    "    - [💻 Exercises: Day 10](#-exercises-day-10)\n",
    "        - [Exercises: Level 1](#exercises-level-1)\n",
    "        - [Exercises: Level 2](#exercises-level-2)\n",
    "        - [Exercises: Level 3](#exercises-level-3)\n",
    "\n",
    "# 📘 Day 10\n",
    "\n",
    "## Loops\n",
    "\n",
    "인생은 일상으로 가득 차 있습니다. 프로그래밍에서 우리는 또한 많은 반복 작업을 수행합니다. 반복 작업을 처리하기 위해 프로그래밍 언어는 루프를 사용합니다. Python 프로그래밍 언어는 또한 다음 유형의 두 루프를 제공합니다.\n",
    "\n",
    "1. while loop\n",
    "2. for loop\n",
    "\n",
    "### While 루프\n",
    "\n",
    "우리는 while 루프를 만들기 위해 예약어 *while* 을 사용합니다. 주어진 조건이 만족될 때까지 문 블록을 반복적으로 실행하는 데 사용됩니다. 조건이 거짓이 되면 루프 뒤의 코드 행이 계속 실행됩니다."
   ]
  },
  {
   "cell_type": "code",
   "execution_count": null,
   "id": "a7150e16",
   "metadata": {
    "attributes": {
     "classes": [
      "py"
     ],
     "id": ""
    }
   },
   "outputs": [],
   "source": [
    "  # syntax\n",
    "while condition:\n",
    "    code goes here"
   ]
  },
  {
   "cell_type": "markdown",
   "id": "14843f0a",
   "metadata": {},
   "source": [
    "**예시:**"
   ]
  },
  {
   "cell_type": "code",
   "execution_count": null,
   "id": "89efe9c6",
   "metadata": {
    "attributes": {
     "classes": [
      "py"
     ],
     "id": ""
    }
   },
   "outputs": [],
   "source": [
    "count = 0\n",
    "while count < 5:\n",
    "    print(count)\n",
    "    count = count + 1\n",
    "#prints from 0 to 4"
   ]
  },
  {
   "cell_type": "markdown",
   "id": "59865080",
   "metadata": {},
   "source": [
    "위의 while 루프에서 count가 5일 때 조건이 false가 됩니다. 이때 루프가 중지됩니다. 조건이 더 이상 참이 아닐 때 코드 블록을 실행하고 싶다면 *else* 를 사용할 수 있습니다."
   ]
  },
  {
   "cell_type": "code",
   "execution_count": null,
   "id": "4f7a7791",
   "metadata": {
    "attributes": {
     "classes": [
      "py"
     ],
     "id": ""
    }
   },
   "outputs": [],
   "source": [
    "  # syntax\n",
    "while condition:\n",
    "    code goes here\n",
    "else:\n",
    "    code goes here"
   ]
  },
  {
   "cell_type": "markdown",
   "id": "8bb976e6",
   "metadata": {},
   "source": [
    "**예시:**"
   ]
  },
  {
   "cell_type": "code",
   "execution_count": null,
   "id": "7c626c39",
   "metadata": {
    "attributes": {
     "classes": [
      "py"
     ],
     "id": ""
    }
   },
   "outputs": [],
   "source": [
    "count = 0\n",
    "while count < 5:\n",
    "    print(count)\n",
    "    count = count + 1\n",
    "#prints from 0 to 4"
   ]
  },
  {
   "cell_type": "markdown",
   "id": "167e7a8b",
   "metadata": {},
   "source": [
    "위의 루프 조건은 count가 5이고 루프가 중지되고 실행이 else 문을 시작하면 거짓이 됩니다. 결과적으로 5가 인쇄됩니다.\n",
    "\n",
    "### Break 과 Continue - Part 1\n",
    "\n",
    "- 중단: 루프에서 벗어나거나 중단하고 싶을 때 중단을 사용합니다."
   ]
  },
  {
   "cell_type": "code",
   "execution_count": null,
   "id": "5f878719",
   "metadata": {
    "attributes": {
     "classes": [
      "py"
     ],
     "id": ""
    }
   },
   "outputs": [],
   "source": [
    "# syntax\n",
    "while condition:\n",
    "    code goes here\n",
    "    if another_condition:\n",
    "        break"
   ]
  },
  {
   "cell_type": "markdown",
   "id": "feee4ca9",
   "metadata": {},
   "source": [
    "**예시:**"
   ]
  },
  {
   "cell_type": "code",
   "execution_count": null,
   "id": "f1a876d8",
   "metadata": {
    "attributes": {
     "classes": [
      "py"
     ],
     "id": ""
    }
   },
   "outputs": [],
   "source": [
    "count = 0\n",
    "while count < 5:\n",
    "    print(count)\n",
    "    count = count + 1\n",
    "    if count == 3:\n",
    "        break"
   ]
  },
  {
   "cell_type": "markdown",
   "id": "75565649",
   "metadata": {},
   "source": [
    "위의 while 루프는 0, 1, 2만 인쇄하지만 3에 도달하면 중지합니다.\n",
    "\n",
    "- 계속: continue 문을 사용하면 현재 반복을 건너뛰고 다음을 계속할 수 있습니다."
   ]
  },
  {
   "cell_type": "code",
   "execution_count": null,
   "id": "c69d283d",
   "metadata": {
    "attributes": {
     "classes": [
      "py"
     ],
     "id": ""
    }
   },
   "outputs": [],
   "source": [
    "  # syntax\n",
    "while condition:\n",
    "    code goes here\n",
    "    if another_condition:\n",
    "        continue"
   ]
  },
  {
   "cell_type": "markdown",
   "id": "c0528987",
   "metadata": {},
   "source": [
    "**예시:**"
   ]
  },
  {
   "cell_type": "code",
   "execution_count": null,
   "id": "ae8dbb11",
   "metadata": {
    "attributes": {
     "classes": [
      "py"
     ],
     "id": ""
    }
   },
   "outputs": [],
   "source": [
    "count = 0\n",
    "while count < 5:\n",
    "    if count == 3:\n",
    "        continue\n",
    "    print(count)\n",
    "    count = count + 1"
   ]
  },
  {
   "cell_type": "markdown",
   "id": "8ef82b32",
   "metadata": {},
   "source": [
    "위의 while 루프는 0, 1, 2 및 4만 인쇄합니다(3을 건너뜁니다).\n",
    "\n",
    "### For 루프\n",
    "\n",
    "*for* 키워드는 다른 프로그래밍 언어와 유사하지만 구문이 약간 다른 for 루프를 만드는 데 사용됩니다. 루프는 시퀀스(즉, 목록, 튜플, 사전, 집합 또는 문자열)를 반복하는 데 사용됩니다.\n",
    "\n",
    "- For loop with list"
   ]
  },
  {
   "cell_type": "code",
   "execution_count": null,
   "id": "717b86c3",
   "metadata": {
    "attributes": {
     "classes": [
      "py"
     ],
     "id": ""
    }
   },
   "outputs": [],
   "source": [
    "# syntax\n",
    "for iterator in lst:\n",
    "    code goes here"
   ]
  },
  {
   "cell_type": "markdown",
   "id": "376d7afb",
   "metadata": {},
   "source": [
    "**예시:**"
   ]
  },
  {
   "cell_type": "code",
   "execution_count": null,
   "id": "bbd686df",
   "metadata": {
    "attributes": {
     "classes": [
      "py"
     ],
     "id": ""
    }
   },
   "outputs": [],
   "source": [
    "numbers = [0, 1, 2, 3, 4, 5]\n",
    "for number in numbers: # number is temporary name to refer to the list's items, valid only inside this loop\n",
    "    print(number)       # the numbers will be printed line by line, from 0 to 5"
   ]
  },
  {
   "cell_type": "markdown",
   "id": "d4c1f5fc",
   "metadata": {},
   "source": [
    "- For loop with string"
   ]
  },
  {
   "cell_type": "code",
   "execution_count": null,
   "id": "3045e36a",
   "metadata": {
    "attributes": {
     "classes": [
      "py"
     ],
     "id": ""
    }
   },
   "outputs": [],
   "source": [
    "# syntax\n",
    "for iterator in string:\n",
    "    code goes here"
   ]
  },
  {
   "cell_type": "markdown",
   "id": "b9bd8388",
   "metadata": {},
   "source": [
    "**예시:**"
   ]
  },
  {
   "cell_type": "code",
   "execution_count": null,
   "id": "b5a7ebef",
   "metadata": {
    "attributes": {
     "classes": [
      "py"
     ],
     "id": ""
    }
   },
   "outputs": [],
   "source": [
    "language = 'Python'\n",
    "for letter in language:\n",
    "    print(letter)\n",
    "\n",
    "\n",
    "for i in range(len(language)):\n",
    "    print(language[i])"
   ]
  },
  {
   "cell_type": "markdown",
   "id": "24a19222",
   "metadata": {},
   "source": [
    "- For loop with tuple"
   ]
  },
  {
   "cell_type": "code",
   "execution_count": null,
   "id": "edae5107",
   "metadata": {
    "attributes": {
     "classes": [
      "py"
     ],
     "id": ""
    }
   },
   "outputs": [],
   "source": [
    "# syntax\n",
    "for iterator in tpl:\n",
    "    code goes here"
   ]
  },
  {
   "cell_type": "markdown",
   "id": "3b0338b6",
   "metadata": {},
   "source": [
    "**예시:**"
   ]
  },
  {
   "cell_type": "code",
   "execution_count": null,
   "id": "68c12bdd",
   "metadata": {
    "attributes": {
     "classes": [
      "py"
     ],
     "id": ""
    }
   },
   "outputs": [],
   "source": [
    "numbers = (0, 1, 2, 3, 4, 5)\n",
    "for number in numbers:\n",
    "    print(number)"
   ]
  },
  {
   "cell_type": "markdown",
   "id": "c9dc6d57",
   "metadata": {},
   "source": [
    "- 사전을 사용한 For 루프 사전을 통한 루프는 사전의 키를 제공합니다."
   ]
  },
  {
   "cell_type": "code",
   "execution_count": null,
   "id": "40ce438f",
   "metadata": {
    "attributes": {
     "classes": [
      "py"
     ],
     "id": ""
    }
   },
   "outputs": [],
   "source": [
    "  # syntax\n",
    "for iterator in dct:\n",
    "    code goes here"
   ]
  },
  {
   "cell_type": "markdown",
   "id": "9dd3a9ef",
   "metadata": {},
   "source": [
    "**예시:**"
   ]
  },
  {
   "cell_type": "code",
   "execution_count": null,
   "id": "4321189f",
   "metadata": {
    "attributes": {
     "classes": [
      "py"
     ],
     "id": ""
    }
   },
   "outputs": [],
   "source": [
    "person = {\n",
    "    'first_name':'Asabeneh',\n",
    "    'last_name':'Yetayeh',\n",
    "    'age':250,\n",
    "    'country':'Finland',\n",
    "    'is_marred':True,\n",
    "    'skills':['JavaScript', 'React', 'Node', 'MongoDB', 'Python'],\n",
    "    'address':{\n",
    "        'street':'Space street',\n",
    "        'zipcode':'02210'\n",
    "    }\n",
    "}\n",
    "for key in person:\n",
    "    print(key)\n",
    "\n",
    "for key, value in person.items():\n",
    "    print(key, value) # this way we get both keys and values printed out"
   ]
  },
  {
   "cell_type": "markdown",
   "id": "726d2273",
   "metadata": {},
   "source": [
    "- Loops in set"
   ]
  },
  {
   "cell_type": "code",
   "execution_count": null,
   "id": "14986541",
   "metadata": {
    "attributes": {
     "classes": [
      "py"
     ],
     "id": ""
    }
   },
   "outputs": [],
   "source": [
    "# syntax\n",
    "for iterator in st:\n",
    "    code goes here"
   ]
  },
  {
   "cell_type": "markdown",
   "id": "1ffd0a34",
   "metadata": {},
   "source": [
    "**예시:**"
   ]
  },
  {
   "cell_type": "code",
   "execution_count": null,
   "id": "e370f50d",
   "metadata": {
    "attributes": {
     "classes": [
      "py"
     ],
     "id": ""
    }
   },
   "outputs": [],
   "source": [
    "it_companies = {'Facebook', 'Google', 'Microsoft', 'Apple', 'IBM', 'Oracle', 'Amazon'}\n",
    "for company in it_companies:\n",
    "    print(company)"
   ]
  },
  {
   "cell_type": "markdown",
   "id": "508fa759",
   "metadata": {},
   "source": [
    "### Break 과 Continue - Part 2\n",
    "\n",
    "짧은 알림: *중단* : 루프가 완료되기 전에 중단하고 싶을 때 중단을 사용합니다."
   ]
  },
  {
   "cell_type": "code",
   "execution_count": null,
   "id": "af036bef",
   "metadata": {
    "attributes": {
     "classes": [
      "py"
     ],
     "id": ""
    }
   },
   "outputs": [],
   "source": [
    "# syntax\n",
    "for iterator in sequence:\n",
    "    code goes here\n",
    "    if condition:\n",
    "        break"
   ]
  },
  {
   "cell_type": "markdown",
   "id": "3da160d0",
   "metadata": {},
   "source": [
    "**예시:**"
   ]
  },
  {
   "cell_type": "code",
   "execution_count": null,
   "id": "33cc8039",
   "metadata": {
    "attributes": {
     "classes": [
      "py"
     ],
     "id": ""
    }
   },
   "outputs": [],
   "source": [
    "numbers = (0,1,2,3,4,5)\n",
    "for number in numbers:\n",
    "    print(number)\n",
    "    if number == 3:\n",
    "        break"
   ]
  },
  {
   "cell_type": "markdown",
   "id": "96309009",
   "metadata": {},
   "source": [
    "위의 예에서 루프는 3에 도달하면 중지됩니다.\n",
    "\n",
    "계속: 루프 반복에서 일부 단계를 건너뛰고 싶을 때 계속을 사용합니다."
   ]
  },
  {
   "cell_type": "code",
   "execution_count": null,
   "id": "37e4acec",
   "metadata": {
    "attributes": {
     "classes": [
      "py"
     ],
     "id": ""
    }
   },
   "outputs": [],
   "source": [
    "  # syntax\n",
    "for iterator in sequence:\n",
    "    code goes here\n",
    "    if condition:\n",
    "        continue"
   ]
  },
  {
   "cell_type": "markdown",
   "id": "ae3ad004",
   "metadata": {},
   "source": [
    "**예시:**"
   ]
  },
  {
   "cell_type": "code",
   "execution_count": null,
   "id": "11282d37",
   "metadata": {
    "attributes": {
     "classes": [
      "py"
     ],
     "id": ""
    }
   },
   "outputs": [],
   "source": [
    "numbers = (0,1,2,3,4,5)\n",
    "for number in numbers:\n",
    "    print(number)\n",
    "    if number == 3:\n",
    "        continue\n",
    "    print('Next number should be ', number + 1) if number != 5 else print(\"loop's end\") # for short hand conditions need both if and else statements\n",
    "print('outside the loop')"
   ]
  },
  {
   "cell_type": "markdown",
   "id": "615cdc41",
   "metadata": {},
   "source": [
    "위의 예에서 숫자가 3이면 조건 *다음* 단계(루프 내부)를 건너뛰고 반복이 남아 있으면 루프 실행이 계속됩니다.\n",
    "\n",
    "### 범위 기능\n",
    "\n",
    "*range()* 함수는 숫자 목록에 사용됩니다. *범위(시작, 끝, 단계)* 는 시작, 종료 및 증분의 세 가지 매개변수를 사용합니다. 기본적으로 0부터 시작하고 증분은 1입니다. 범위 시퀀스에는 최소 1개의 인수(종료)가 필요합니다. 범위를 사용하여 시퀀스 만들기"
   ]
  },
  {
   "cell_type": "code",
   "execution_count": null,
   "id": "efea0a76",
   "metadata": {
    "attributes": {
     "classes": [
      "py"
     ],
     "id": ""
    }
   },
   "outputs": [],
   "source": [
    "lst = list(range(11))\n",
    "print(lst) # [0, 1, 2, 3, 4, 5, 6, 7, 8, 9, 10]\n",
    "st = set(range(1, 11))    # 2 arguments indicate start and end of the sequence, step set to default 1\n",
    "print(st) # {1, 2, 3, 4, 5, 6, 7, 8, 9, 10}\n",
    "\n",
    "lst = list(range(0,11,2))\n",
    "print(lst) # [0, 2, 4, 6, 8, 10]\n",
    "st = set(range(0,11,2))\n",
    "print(st) #  {0, 2, 4, 6, 8, 10}"
   ]
  },
  {
   "cell_type": "code",
   "execution_count": null,
   "id": "11b5e825",
   "metadata": {
    "attributes": {
     "classes": [
      "py"
     ],
     "id": ""
    }
   },
   "outputs": [],
   "source": [
    "# syntax\n",
    "for iterator in range(start, end, step):"
   ]
  },
  {
   "cell_type": "markdown",
   "id": "60fba99f",
   "metadata": {},
   "source": [
    "**예시:**"
   ]
  },
  {
   "cell_type": "code",
   "execution_count": null,
   "id": "d7208266",
   "metadata": {
    "attributes": {
     "classes": [
      "py"
     ],
     "id": ""
    }
   },
   "outputs": [],
   "source": [
    "for number in range(11):\n",
    "    print(number)   # prints 0 to 10, not including 11"
   ]
  },
  {
   "cell_type": "markdown",
   "id": "b10ae047",
   "metadata": {},
   "source": [
    "### 중첩 For 루프\n",
    "\n",
    "루프 안에 루프를 작성할 수 있습니다."
   ]
  },
  {
   "cell_type": "code",
   "execution_count": null,
   "id": "ec3bbdcc",
   "metadata": {
    "attributes": {
     "classes": [
      "py"
     ],
     "id": ""
    }
   },
   "outputs": [],
   "source": [
    "# syntax\n",
    "for x in y:\n",
    "    for t in x:\n",
    "        print(t)"
   ]
  },
  {
   "cell_type": "markdown",
   "id": "3b66a88f",
   "metadata": {},
   "source": [
    "**예시:**"
   ]
  },
  {
   "cell_type": "code",
   "execution_count": null,
   "id": "be7cfc78",
   "metadata": {
    "attributes": {
     "classes": [
      "py"
     ],
     "id": ""
    }
   },
   "outputs": [],
   "source": [
    "person = {\n",
    "    'first_name': 'Asabeneh',\n",
    "    'last_name': 'Yetayeh',\n",
    "    'age': 250,\n",
    "    'country': 'Finland',\n",
    "    'is_marred': True,\n",
    "    'skills': ['JavaScript', 'React', 'Node', 'MongoDB', 'Python'],\n",
    "    'address': {\n",
    "        'street': 'Space street',\n",
    "        'zipcode': '02210'\n",
    "    }\n",
    "}\n",
    "for key in person:\n",
    "    if key == 'skills':\n",
    "        for skill in person['skills']:\n",
    "            print(skill)"
   ]
  },
  {
   "cell_type": "markdown",
   "id": "d29f522e",
   "metadata": {},
   "source": [
    "### For Else\n",
    "\n",
    "루프가 끝날 때 메시지를 실행하려면 else를 사용합니다."
   ]
  },
  {
   "cell_type": "code",
   "execution_count": null,
   "id": "9bb773f9",
   "metadata": {
    "attributes": {
     "classes": [
      "py"
     ],
     "id": ""
    }
   },
   "outputs": [],
   "source": [
    "# syntax\n",
    "for iterator in range(start, end, step):\n",
    "    do something\n",
    "else:\n",
    "    print('The loop ended')"
   ]
  },
  {
   "cell_type": "markdown",
   "id": "d5d412c8",
   "metadata": {},
   "source": [
    "**예시:**"
   ]
  },
  {
   "cell_type": "code",
   "execution_count": null,
   "id": "cc7a3e0c",
   "metadata": {
    "attributes": {
     "classes": [
      "py"
     ],
     "id": ""
    }
   },
   "outputs": [],
   "source": [
    "for number in range(11):\n",
    "    print(number)   # prints 0 to 10, not including 11\n",
    "else:\n",
    "    print('The loop stops at', number)"
   ]
  },
  {
   "cell_type": "markdown",
   "id": "146d0379",
   "metadata": {},
   "source": [
    "### Pass\n",
    "\n",
    "Python에서 when 문이 필요하지만(세미콜론 뒤에) 코드를 실행하는 것을 좋아하지 않으므로 오류를 피하기 위해 *pass* 라는 단어를 쓸 수 있습니다. 또한 향후 진술을 위해 자리 표시자로 사용할 수 있습니다.\n",
    "\n",
    "**예시:**"
   ]
  },
  {
   "cell_type": "code",
   "execution_count": null,
   "id": "b7aadc00",
   "metadata": {
    "attributes": {
     "classes": [
      "py"
     ],
     "id": ""
    }
   },
   "outputs": [],
   "source": [
    "for number in range(6):\n",
    "    pass"
   ]
  },
  {
   "cell_type": "markdown",
   "id": "207b75a2",
   "metadata": {},
   "source": [
    "🌕 당신은 큰 이정표를 세웠고, 당신은 멈출 수 없습니다. 계속하세요! 10일차 챌린지를 방금 완료했으며 위대함을 향한 10단계를 앞두고 있습니다. 이제 뇌와 근육을 위한 몇 가지 운동을 하십시오.\n",
    "\n",
    "## 💻 Exercises: Day 10\n",
    "\n",
    "### Exercises: Level 1\n",
    "\n",
    "1. for 루프를 사용하여 0에서 10까지 반복하고 while 루프를 사용하여 동일한 작업을 수행합니다.\n",
    "\n",
    "2. for 루프를 사용하여 10에서 0까지 반복하고 while 루프를 사용하여 동일한 작업을 수행합니다.\n",
    "\n",
    "3. print()를 7번 호출하는 루프를 작성하여 다음 삼각형을 출력합니다."
   ]
  },
  {
   "cell_type": "code",
   "execution_count": null,
   "id": "92b261f3",
   "metadata": {},
   "outputs": [],
   "source": [
    "```py\n",
    "  #\n",
    "  ##\n",
    "  ###\n",
    "  ####\n",
    "  #####\n",
    "  ######\n",
    "  #######\n",
    "```"
   ]
  },
  {
   "cell_type": "markdown",
   "id": "85b6dbfb",
   "metadata": {},
   "source": [
    "4. 중첩 루프를 사용하여 다음을 만듭니다."
   ]
  },
  {
   "cell_type": "code",
   "execution_count": null,
   "id": "7a26a16f",
   "metadata": {},
   "outputs": [],
   "source": [
    "```sh\n",
    "# # # # # # # #\n",
    "# # # # # # # #\n",
    "# # # # # # # #\n",
    "# # # # # # # #\n",
    "# # # # # # # #\n",
    "# # # # # # # #\n",
    "# # # # # # # #\n",
    "# # # # # # # #\n",
    "```"
   ]
  },
  {
   "cell_type": "markdown",
   "id": "18bfba67",
   "metadata": {},
   "source": [
    "5. 다음 패턴을 인쇄합니다."
   ]
  },
  {
   "cell_type": "code",
   "execution_count": null,
   "id": "e6ffaf9f",
   "metadata": {},
   "outputs": [],
   "source": [
    "```sh\n",
    "0 x 0 = 0\n",
    "1 x 1 = 1\n",
    "2 x 2 = 4\n",
    "3 x 3 = 9\n",
    "4 x 4 = 16\n",
    "5 x 5 = 25\n",
    "6 x 6 = 36\n",
    "7 x 7 = 49\n",
    "8 x 8 = 64\n",
    "9 x 9 = 81\n",
    "10 x 10 = 100\n",
    "```"
   ]
  },
  {
   "cell_type": "markdown",
   "id": "890b3959",
   "metadata": {},
   "source": [
    "6. for 루프를 사용하여 ['Python', 'Numpy','Pandas','Django', 'Flask'] 목록을 반복하고 항목을 출력합니다.\n",
    "\n",
    "7. for 루프를 사용하여 0에서 100까지 반복하고 짝수만 출력\n",
    "\n",
    "8. for 루프를 사용하여 0에서 100까지 반복하고 홀수만 출력\n",
    "\n",
    "### Exercises: Level 2\n",
    "\n",
    "1. for 루프를 사용하여 0에서 100까지 반복하고 모든 숫자의 합계를 인쇄합니다."
   ]
  },
  {
   "cell_type": "code",
   "execution_count": null,
   "id": "a566f9d3",
   "metadata": {
    "attributes": {
     "classes": [
      "sh"
     ],
     "id": ""
    }
   },
   "outputs": [],
   "source": [
    "The sum of all numbers is 5050."
   ]
  },
  {
   "cell_type": "markdown",
   "id": "4cac2999",
   "metadata": {},
   "source": [
    "1. for 루프를 사용하여 0에서 100까지 반복하고 모든 짝수의 합과 모든 승산의 합을 인쇄합니다."
   ]
  },
  {
   "cell_type": "code",
   "execution_count": null,
   "id": "b16259a3",
   "metadata": {},
   "outputs": [],
   "source": [
    "```sh\n",
    "The sum of all evens is 2550. And the sum of all odds is 2500.\n",
    "```"
   ]
  },
  {
   "cell_type": "markdown",
   "id": "d26bc696",
   "metadata": {},
   "source": [
    "### Exercises: Level 3\n",
    "\n",
    "1. 데이터 폴더로 이동하여 [countries.py](https://github.com/Asabeneh/30-Days-Of-Python/blob/master/data/countries.py) 파일을 사용합니다. 국가를 순환하고 단어 *land* 를 포함하는 모든 국가를 추출합니다.\n",
    "2. 이것은 과일 목록입니다. ['banana', 'orange', 'mango', 'lemon'] 루프를 사용하여 순서를 뒤집습니다.\n",
    "3. 데이터 폴더로 이동하여 [countries_data.py](https://github.com/Asabeneh/30-Days-Of-Python/blob/master/data/countries-data.py) 파일을 사용합니다.\n",
    "    1. 데이터의 총 언어 수는 얼마입니까?\n",
    "    2. 데이터에서 가장 많이 사용되는 10개 언어 찾기\n",
    "    3. 세계에서 인구가 가장 많은 10개 국가 찾기\n",
    "\n",
    "🎉 축하합니다! 🎉\n",
    "\n",
    "[&lt;&lt; Day 9](../09_Day_Conditionals/09_conditionals.md) | [Day 11 &gt;&gt;](../11_Day_Functions/11_functions.md)"
   ]
  }
 ],
 "metadata": {},
 "nbformat": 4,
 "nbformat_minor": 5
}
