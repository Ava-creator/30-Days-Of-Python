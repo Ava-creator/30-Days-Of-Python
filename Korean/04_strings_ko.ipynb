{
 "cells": [
  {
   "cell_type": "markdown",
   "id": "2d92a4e2",
   "metadata": {},
   "source": [
    "<div align=\"center\">\n",
    "<h1> 30 Days Of Python: Day 4 - Strings</h1> <a class=\"header-badge\" target=\"_blank\" href=\"https://www.linkedin.com/in/asabeneh/\"> <img src=\"https://img.shields.io/badge/style--5eba00.svg?label=LinkedIn&amp;logo=linkedin&amp;style=social\"> </a> <a class=\"header-badge\" target=\"_blank\" href=\"https://twitter.com/Asabeneh\"> <img src=\"https://img.shields.io/twitter/follow/asabeneh?style=social\" alt=\"Twitter Follow\"> </a>\n",
    "</div>\n",
    "<p data-md-type=\"paragraph\"><sub data-md-type=\"raw_html\">Author: <a data-md-type=\"raw_html\" href=\"https://www.linkedin.com/in/asabeneh/\" target=\"_blank\">Asabeneh Yetayeh</a><br> <small data-md-type=\"raw_html\"> Second Edition: July, 2021</small></sub></p>\n",
    "<div data-md-type=\"block_html\"></div>\n",
    "\n",
    "[&lt;&lt; Day 3](../03_Day_Operators/03_operators.md) | [Day 5 &gt;&gt;](../05_Day_Lists/05_lists.md)\n",
    "\n",
    "![30DaysOfPython](../images/30DaysOfPython_banner3@2x.png)\n",
    "\n",
    "- [Day 4](#day-4)\n",
    "    - [문자열](#strings)\n",
    "        - [문자열 만들기](#문자열-만들기)\n",
    "        - [문자열 연결](#문자열-연결)\n",
    "        - [문자열의 이스케이프 시퀀스](#문자열의-이스케이프-시퀀스)\n",
    "        - [문자열 포매팅](#문자열-포매팅)\n",
    "            - [올드 스타일 문자열 포매팅(% 연산자)](#올드-스타일-문자열-포매팅%-연산자)\n",
    "            - [새로운 스타일 문자열 포매팅(str.format)](#새로운-스타일-문자열-포매팅str.format)\n",
    "            - [문자열 Interpolation / f-Strings (Python 3.6+)](#string-interpolation--f-strings-python-36)\n",
    "        - [문자 시퀀스로서의 Python 문자열](#문자-시퀀스로서의-Python-문자열)\n",
    "            - [언패킹 문자](#언패킹-문자)\n",
    "            - [인덱스로 문자열의 문자에 액세스](#인덱스로-문자열의-문자에-액세스)\n",
    "            - [파이썬 문자열 슬라이싱](#파이썬-문자열-슬라이싱)\n",
    "            - [문자열 리버스](#문자열-리버스)\n",
    "            - [슬라이싱하는 동안 문자 건너뛰기](#슬라이싱하는-동안-문자-건너뛰기)\n",
    "        - [문자열 메서드](#문자열-메서드)\n",
    "    - [💻 Exercises - Day 4](#-exercises---day-4)\n",
    "\n",
    "# Day 4\n",
    "\n",
    "## 문자열\n",
    "\n",
    "텍스트는 문자열 데이터 유형입니다. 텍스트로 작성된 모든 데이터 유형은 문자열입니다. 작은따옴표, 큰따옴표 또는 삼중따옴표 아래의 모든 데이터는 문자열입니다. 문자열 데이터 유형을 처리하기 위한 다양한 문자열 메서드와 내장 함수가 있습니다. 문자열의 길이를 확인하려면 len() 메서드를 사용하십시오.\n",
    "\n",
    "### 문자열 만들기"
   ]
  },
  {
   "cell_type": "code",
   "execution_count": null,
   "id": "0cf9a52a",
   "metadata": {
    "attributes": {
     "classes": [
      "py"
     ],
     "id": ""
    }
   },
   "outputs": [],
   "source": [
    "letter = 'P'                # A string could be a single character or a bunch of texts\n",
    "print(letter)               # P\n",
    "print(len(letter))          # 1\n",
    "greeting = 'Hello, World!'  # String could be made using a single or double quote,\"Hello, World!\"\n",
    "print(greeting)             # Hello, World!\n",
    "print(len(greeting))        # 13\n",
    "sentence = \"I hope you are enjoying 30 days of Python Challenge\"\n",
    "print(sentence)"
   ]
  },
  {
   "cell_type": "markdown",
   "id": "93aeff2e",
   "metadata": {},
   "source": [
    "여러 줄 문자열은 세 개의 작은따옴표(''') 또는 세 개의 큰따옴표(\"\"\")를 사용하여 생성됩니다. 아래 예를 참조하십시오."
   ]
  },
  {
   "cell_type": "code",
   "execution_count": null,
   "id": "c5a97e9a",
   "metadata": {
    "attributes": {
     "classes": [
      "py"
     ],
     "id": ""
    }
   },
   "outputs": [],
   "source": [
    "multiline_string = '''I am a teacher and enjoy teaching.\n",
    "I didn't find anything as rewarding as empowering people.\n",
    "That is why I created 30 days of python.'''\n",
    "print(multiline_string)\n",
    "\n",
    "# Another way of doing the same thing\n",
    "multiline_string = \"\"\"I am a teacher and enjoy teaching.\n",
    "I didn't find anything as rewarding as empowering people.\n",
    "That is why I created 30 days of python.\"\"\"\n",
    "print(multiline_string)"
   ]
  },
  {
   "cell_type": "markdown",
   "id": "693060e5",
   "metadata": {},
   "source": [
    "### 문자열 연결\n",
    "\n",
    "문자열을 함께 연결할 수 있습니다. 문자열을 병합하거나 연결하는 것을 연결이라고 합니다. 아래 예를 참조하십시오."
   ]
  },
  {
   "cell_type": "code",
   "execution_count": null,
   "id": "fe25581d",
   "metadata": {
    "attributes": {
     "classes": [
      "py"
     ],
     "id": ""
    }
   },
   "outputs": [],
   "source": [
    "first_name = 'Asabeneh'\n",
    "last_name = 'Yetayeh'\n",
    "space = ' '\n",
    "full_name = first_name  +  space + last_name\n",
    "print(full_name) # Asabeneh Yetayeh\n",
    "# Checking the length of a string using len() built-in function\n",
    "print(len(first_name))  # 8\n",
    "print(len(last_name))   # 7\n",
    "print(len(first_name) > len(last_name)) # True\n",
    "print(len(full_name)) # 16"
   ]
  },
  {
   "cell_type": "markdown",
   "id": "c8e9d7f2",
   "metadata": {},
   "source": [
    "### 문자열의 이스케이프 시퀀스\n",
    "\n",
    "Python 및 기타 프로그래밍 언어에서 \\ 다음에 오는 문자는 이스케이프 시퀀스입니다. 가장 일반적인 이스케이프 문자를 살펴보겠습니다.\n",
    "\n",
    "- \\n: 새로운 라인\n",
    "- \\t: 탭은(8칸)을 의미합니다.\n",
    "- \\\\: 백슬래시\n",
    "- \\': 작은따옴표(')\n",
    "- \\\": 큰따옴표(\")\n",
    "\n",
    "이제 위의 이스케이프 시퀀스를 예제와 함께 사용하는 방법을 살펴보겠습니다."
   ]
  },
  {
   "cell_type": "code",
   "execution_count": null,
   "id": "776bc4f5",
   "metadata": {
    "attributes": {
     "classes": [
      "py"
     ],
     "id": ""
    }
   },
   "outputs": [],
   "source": [
    "print('I hope everyone is enjoying the Python Challenge.\\nAre you ?') # line break\n",
    "print('Days\\tTopics\\tExercises') # adding tab space or 4 spaces\n",
    "print('Day 1\\t3\\t5')\n",
    "print('Day 2\\t3\\t5')\n",
    "print('Day 3\\t3\\t5')\n",
    "print('Day 4\\t3\\t5')\n",
    "print('This is a backslash  symbol (\\\\)') # To write a backslash\n",
    "print('In every programming language it starts with \\\"Hello, World!\\\"') # to write a double quote inside a single quote\n",
    "\n",
    "# output\n",
    "I hope every one is enjoying the Python Challenge.\n",
    "Are you ?\n",
    "Days\tTopics\tExercises\n",
    "Day 1\t5\t    5\n",
    "Day 2\t6\t    20\n",
    "Day 3\t5\t    23\n",
    "Day 4\t1\t    35\n",
    "This is a backslash  symbol (\\)\n",
    "In every programming language it starts with \"Hello, World!\""
   ]
  },
  {
   "cell_type": "markdown",
   "id": "c32818ff",
   "metadata": {},
   "source": [
    "### 문자열 포매팅\n",
    "\n",
    "#### 올드 스타일 문자열 형식화(% 연산자)\n",
    "\n",
    "Python에는 문자열 형식을 지정하는 여러 가지 방법이 있습니다. 이 섹션에서는 그 중 일부를 다룰 것입니다. \"%\" 연산자는 \"인수 지정자\", \"%s\"와 같은 특수 기호와 함께 일반 텍스트를 포함하는 형식 문자열과 함께 \"튜플\"(고정 크기 목록)로 묶인 변수 세트의 형식을 지정하는 데 사용됩니다. , \"%d\", \"%f\", \"%. <small>자릿수</small> f\".\n",
    "\n",
    "- %s - 문자열(또는 숫자와 같은 문자열 표현이 있는 모든 객체)\n",
    "- %d - 정수\n",
    "- %f - 부동 소수점 숫자\n",
    "- \"%. <small>number of digits</small> f\" - 정밀도가 고정된 부동 소수점 숫자"
   ]
  },
  {
   "cell_type": "code",
   "execution_count": null,
   "id": "b3a58fa5",
   "metadata": {
    "attributes": {
     "classes": [
      "py"
     ],
     "id": ""
    }
   },
   "outputs": [],
   "source": [
    "# Strings only\n",
    "first_name = 'Asabeneh'\n",
    "last_name = 'Yetayeh'\n",
    "language = 'Python'\n",
    "formated_string = 'I am %s %s. I teach %s' %(first_name, last_name, language)\n",
    "print(formated_string)\n",
    "\n",
    "# Strings  and numbers\n",
    "radius = 10\n",
    "pi = 3.14\n",
    "area = pi * radius ** 2\n",
    "formated_string = 'The area of circle with a radius %d is %.2f.' %(radius, area) # 2 refers the 2 significant digits after the point\n",
    "\n",
    "python_libraries = ['Django', 'Flask', 'NumPy', 'Matplotlib','Pandas']\n",
    "formated_string = 'The following are python libraries:%s' % (python_libraries)\n",
    "print(formated_string) # \"The following are python libraries:['Django', 'Flask', 'NumPy', 'Matplotlib','Pandas']\""
   ]
  },
  {
   "cell_type": "markdown",
   "id": "64d809cd",
   "metadata": {},
   "source": [
    "#### 새로운스타일 문자열 형식화(str.format)\n",
    "\n",
    "이 형식은 Python 버전 3에서 도입되었습니다."
   ]
  },
  {
   "cell_type": "code",
   "execution_count": null,
   "id": "1de154e1",
   "metadata": {
    "attributes": {
     "classes": [
      "py"
     ],
     "id": ""
    }
   },
   "outputs": [],
   "source": [
    "\n",
    "first_name = 'Asabeneh'\n",
    "last_name = 'Yetayeh'\n",
    "language = 'Python'\n",
    "formated_string = 'I am {} {}. I teach {}'.format(first_name, last_name, language)\n",
    "print(formated_string)\n",
    "a = 4\n",
    "b = 3\n",
    "\n",
    "print('{} + {} = {}'.format(a, b, a + b))\n",
    "print('{} - {} = {}'.format(a, b, a - b))\n",
    "print('{} * {} = {}'.format(a, b, a * b))\n",
    "print('{} / {} = {:.2f}'.format(a, b, a / b)) # limits it to two digits after decimal\n",
    "print('{} % {} = {}'.format(a, b, a % b))\n",
    "print('{} // {} = {}'.format(a, b, a // b))\n",
    "print('{} ** {} = {}'.format(a, b, a ** b))\n",
    "\n",
    "# output\n",
    "4 + 3 = 7\n",
    "4 - 3 = 1\n",
    "4 * 3 = 12\n",
    "4 / 3 = 1.33\n",
    "4 % 3 = 1\n",
    "4 // 3 = 1\n",
    "4 ** 3 = 64\n",
    "\n",
    "# Strings  and numbers\n",
    "radius = 10\n",
    "pi = 3.14\n",
    "area = pi * radius ** 2\n",
    "formated_string = 'The area of a circle with a radius {} is {:.2f}.'.format(radius, area) # 2 digits after decimal\n",
    "print(formated_string)\n"
   ]
  },
  {
   "cell_type": "markdown",
   "id": "1f450b6f",
   "metadata": {},
   "source": [
    "#### 문자열 Interpolation / f-Strings (Python 3.6+)\n",
    "\n",
    "또 다른 새로운 문자열 형식화는 문자열 보간법인 f-문자열입니다. 문자열은 f로 시작하고 해당 위치에 데이터를 주입할 수 있습니다."
   ]
  },
  {
   "cell_type": "code",
   "execution_count": null,
   "id": "fbd61745",
   "metadata": {
    "attributes": {
     "classes": [
      "py"
     ],
     "id": ""
    }
   },
   "outputs": [],
   "source": [
    "a = 4\n",
    "b = 3\n",
    "print(f'{a} + {b} = {a +b}')\n",
    "print(f'{a} - {b} = {a - b}')\n",
    "print(f'{a} * {b} = {a * b}')\n",
    "print(f'{a} / {b} = {a / b:.2f}')\n",
    "print(f'{a} % {b} = {a % b}')\n",
    "print(f'{a} // {b} = {a // b}')\n",
    "print(f'{a} ** {b} = {a ** b}')"
   ]
  },
  {
   "cell_type": "markdown",
   "id": "e547c0e0",
   "metadata": {},
   "source": [
    "### 문자 시퀀스로서의 Python 문자열\n",
    "\n",
    "Python 문자열은 문자 시퀀스이며, 기본 액세스 방법을 다른 Python 순서 객체 시퀀스(목록 및 튜플)와 공유합니다. 문자열(및 모든 시퀀스의 개별 멤버)에서 단일 문자를 추출하는 가장 간단한 방법은 해당 변수로 압축을 푸는 것입니다.\n",
    "\n",
    "#### 언패킹 문자"
   ]
  },
  {
   "cell_type": "code",
   "execution_count": null,
   "id": "bb8533a7",
   "metadata": {},
   "outputs": [],
   "source": [
    "language = 'Python'\n",
    "a,b,c,d,e,f = language # unpacking sequence characters into variables\n",
    "print(a) # P\n",
    "print(b) # y\n",
    "print(c) # t\n",
    "print(d) # h\n",
    "print(e) # o\n",
    "print(f) # n"
   ]
  },
  {
   "cell_type": "markdown",
   "id": "71d3988a",
   "metadata": {},
   "source": [
    "#### 인덱스로 문자열의 문자에 액세스\n",
    "\n",
    "프로그래밍에서 카운팅은 0부터 시작합니다. 따라서 문자열의 첫 번째 문자는 인덱스가 0이고 문자열의 마지막 문자는 문자열의 길이에서 1을 뺀 값입니다.\n",
    "\n",
    "![String index](../images/string_index.png)"
   ]
  },
  {
   "cell_type": "code",
   "execution_count": null,
   "id": "905cd8d8",
   "metadata": {
    "attributes": {
     "classes": [
      "py"
     ],
     "id": ""
    }
   },
   "outputs": [],
   "source": [
    "language = 'Python'\n",
    "first_letter = language[0]\n",
    "print(first_letter) # P\n",
    "second_letter = language[1]\n",
    "print(second_letter) # y\n",
    "last_index = len(language) - 1\n",
    "last_letter = language[last_index]\n",
    "print(last_letter) # n"
   ]
  },
  {
   "cell_type": "markdown",
   "id": "b82c67b2",
   "metadata": {},
   "source": [
    "오른쪽 끝에서 시작하려면 음수 인덱싱을 사용할 수 있습니다. -1은 마지막 인덱스입니다."
   ]
  },
  {
   "cell_type": "code",
   "execution_count": null,
   "id": "b7a58fd6",
   "metadata": {
    "attributes": {
     "classes": [
      "py"
     ],
     "id": ""
    }
   },
   "outputs": [],
   "source": [
    "language = 'Python'\n",
    "last_letter = language[-1]\n",
    "print(last_letter) # n\n",
    "second_last = language[-2]\n",
    "print(second_last) # o"
   ]
  },
  {
   "cell_type": "markdown",
   "id": "8b8dcd9f",
   "metadata": {},
   "source": [
    "#### 파이썬 문자열 슬라이싱\n",
    "\n",
    "파이썬에서는 문자열을 하위 문자열로 슬라이스할 수 있습니다."
   ]
  },
  {
   "cell_type": "code",
   "execution_count": null,
   "id": "05aa7c29",
   "metadata": {
    "attributes": {
     "classes": [
      "py"
     ],
     "id": ""
    }
   },
   "outputs": [],
   "source": [
    "language = 'Python'\n",
    "first_three = language[0:3] # starts at zero index and up to 3 but not include 3\n",
    "print(first_three) #Pyt\n",
    "last_three = language[3:6]\n",
    "print(last_three) # hon\n",
    "# Another way\n",
    "last_three = language[-3:]\n",
    "print(last_three)   # hon\n",
    "last_three = language[3:]\n",
    "print(last_three)   # hon"
   ]
  },
  {
   "cell_type": "markdown",
   "id": "f080e0ab",
   "metadata": {},
   "source": [
    "#### <a>문자열 리버스</a>\n",
    "\n",
    "파이썬에서 문자열을 쉽게 뒤집을 수 있습니다."
   ]
  },
  {
   "cell_type": "code",
   "execution_count": null,
   "id": "dd9f5005",
   "metadata": {
    "attributes": {
     "classes": [
      "py"
     ],
     "id": ""
    }
   },
   "outputs": [],
   "source": [
    "greeting = 'Hello, World!'\n",
    "print(greeting[::-1]) # !dlroW ,olleH"
   ]
  },
  {
   "cell_type": "markdown",
   "id": "c4e53620",
   "metadata": {},
   "source": [
    "#### 슬라이싱하는 동안 문자 건너뛰기\n",
    "\n",
    "슬라이스 메소드에 단계 인수를 전달하여 슬라이스하는 동안 문자를 건너뛸 수 있습니다."
   ]
  },
  {
   "cell_type": "code",
   "execution_count": null,
   "id": "3298e41d",
   "metadata": {
    "attributes": {
     "classes": [
      "py"
     ],
     "id": ""
    }
   },
   "outputs": [],
   "source": [
    "language = 'Python'\n",
    "pto = language[0:6:2] #\n",
    "print(pto) # Pto"
   ]
  },
  {
   "cell_type": "markdown",
   "id": "090af0b8",
   "metadata": {},
   "source": [
    "### 문자열 메서드\n",
    "\n",
    "문자열을 형식화할 수 있는 많은 문자열 메서드가 있습니다. 다음 예제에서 일부 문자열 메서드를 참조하십시오.\n",
    "\n",
    "- capitalize(): 문자열의 첫 번째 문자를 대문자로 변환"
   ]
  },
  {
   "cell_type": "code",
   "execution_count": null,
   "id": "238fe405",
   "metadata": {
    "attributes": {
     "classes": [
      "py"
     ],
     "id": ""
    }
   },
   "outputs": [],
   "source": [
    "challenge = 'thirty days of python'\n",
    "print(challenge.capitalize()) # 'Thirty days of python'"
   ]
  },
  {
   "cell_type": "markdown",
   "id": "e712cf5f",
   "metadata": {},
   "source": [
    "- count(): 문자열에서 하위 문자열의 발생을 반환합니다. count(substring, start=.., end=..). 시작은 카운트를 위한 시작 인덱싱이고 끝은 카운트할 마지막 인덱스입니다."
   ]
  },
  {
   "cell_type": "code",
   "execution_count": null,
   "id": "50223557",
   "metadata": {
    "attributes": {
     "classes": [
      "py"
     ],
     "id": ""
    }
   },
   "outputs": [],
   "source": [
    "challenge = 'thirty days of python'\n",
    "print(challenge.count('y')) # 3\n",
    "print(challenge.count('y', 7, 14)) # 1,\n",
    "print(challenge.count('th')) # 2`"
   ]
  },
  {
   "cell_type": "markdown",
   "id": "989e69ba",
   "metadata": {},
   "source": [
    "- endswith(): 문자열이 지정된 끝으로 끝나는지 확인합니다."
   ]
  },
  {
   "cell_type": "code",
   "execution_count": null,
   "id": "eebd34ba",
   "metadata": {
    "attributes": {
     "classes": [
      "py"
     ],
     "id": ""
    }
   },
   "outputs": [],
   "source": [
    "challenge = 'thirty days of python'\n",
    "print(challenge.endswith('on'))   # True\n",
    "print(challenge.endswith('tion')) # False"
   ]
  },
  {
   "cell_type": "markdown",
   "id": "326322ad",
   "metadata": {},
   "source": [
    "- expandtabs(): 탭 문자를 공백으로 바꿉니다. 기본 탭 크기는 8입니다. 탭 크기 인수를 사용합니다."
   ]
  },
  {
   "cell_type": "code",
   "execution_count": null,
   "id": "cef5c27b",
   "metadata": {
    "attributes": {
     "classes": [
      "py"
     ],
     "id": ""
    }
   },
   "outputs": [],
   "source": [
    "challenge = 'thirty\\tdays\\tof\\tpython'\n",
    "print(challenge.expandtabs())   # 'thirty  days    of      python'\n",
    "print(challenge.expandtabs(10)) # 'thirty    days      of        python'"
   ]
  },
  {
   "cell_type": "markdown",
   "id": "46133d80",
   "metadata": {},
   "source": [
    "- find(): 하위 문자열이 처음 나타나는 인덱스를 반환합니다. 찾을 수 없으면 -1을 반환합니다."
   ]
  },
  {
   "cell_type": "code",
   "execution_count": null,
   "id": "a8522805",
   "metadata": {
    "attributes": {
     "classes": [
      "py"
     ],
     "id": ""
    }
   },
   "outputs": [],
   "source": [
    "challenge = 'thirty days of python'\n",
    "print(challenge.count('y')) # 3\n",
    "print(challenge.count('y', 7, 14)) # 1,\n",
    "print(challenge.count('th')) # 2`"
   ]
  },
  {
   "cell_type": "markdown",
   "id": "6f360500",
   "metadata": {},
   "source": [
    "- rfind(): 하위 문자열이 마지막으로 나타나는 인덱스를 반환합니다. 찾을 수 없으면 -1을 반환합니다."
   ]
  },
  {
   "cell_type": "code",
   "execution_count": null,
   "id": "bc417ce6",
   "metadata": {
    "attributes": {
     "classes": [
      "py"
     ],
     "id": ""
    }
   },
   "outputs": [],
   "source": [
    "challenge = 'thirty days of python'\n",
    "print(challenge.rfind('y'))  # 5\n",
    "print(challenge.rfind('th')) # 1"
   ]
  },
  {
   "cell_type": "markdown",
   "id": "cf0ca8c1",
   "metadata": {},
   "source": [
    "- format(): 문자열을 더 나은 출력으로 포맷합니다.<br> 문자열 형식에 대한 자세한 내용은 이 [링크](https://www.programiz.com/python-programming/methods/string/format) 를 확인하세요."
   ]
  },
  {
   "cell_type": "code",
   "execution_count": null,
   "id": "ea32083d",
   "metadata": {
    "attributes": {
     "classes": [
      "py"
     ],
     "id": ""
    }
   },
   "outputs": [],
   "source": [
    "first_name = 'Asabeneh'\n",
    "last_name = 'Yetayeh'\n",
    "age = 250\n",
    "job = 'teacher'\n",
    "country = 'Finland'\n",
    "sentence = 'I am {} {}. I am a {}. I am {} years old. I live in {}.'.format(first_name, last_name, age, job, country)\n",
    "print(sentence) # I am Asabeneh Yetayeh. I am 250 years old. I am a teacher. I live in Finland.\n",
    "\n",
    "radius = 10\n",
    "pi = 3.14\n",
    "area = pi * radius ** 2\n",
    "result = 'The area of a circle with radius {} is {}'.format(str(radius), str(area))\n",
    "print(result) # The area of a circle with radius 10 is 314"
   ]
  },
  {
   "cell_type": "markdown",
   "id": "733049ca",
   "metadata": {},
   "source": [
    "- index(): 하위 문자열의 가장 낮은 색인을 반환하고 추가 인수는 시작 및 끝 색인을 나타냅니다(기본값 0 및 문자열 길이 - 1). 하위 문자열을 찾을 수 없으면 valueError가 발생합니다."
   ]
  },
  {
   "cell_type": "code",
   "execution_count": null,
   "id": "c335be89",
   "metadata": {
    "attributes": {
     "classes": [
      "py"
     ],
     "id": ""
    }
   },
   "outputs": [],
   "source": [
    "challenge = 'thirty days of python'\n",
    "sub_string = 'da'\n",
    "print(challenge.index(sub_string))  # 7\n",
    "print(challenge.index(sub_string, 9)) # error"
   ]
  },
  {
   "cell_type": "markdown",
   "id": "21220b1e",
   "metadata": {},
   "source": [
    "- rindex(): 하위 문자열의 가장 높은 색인을 반환합니다. 추가 인수는 시작 및 끝 색인을 나타냅니다(기본값 0 및 문자열 길이 - 1)."
   ]
  },
  {
   "cell_type": "code",
   "execution_count": null,
   "id": "fbb5b00f",
   "metadata": {
    "attributes": {
     "classes": [
      "py"
     ],
     "id": ""
    }
   },
   "outputs": [],
   "source": [
    "challenge = 'thirty days of python'\n",
    "sub_string = 'da'\n",
    "print(challenge.rindex(sub_string))  # 8\n",
    "print(challenge.rindex(sub_string, 9)) # error"
   ]
  },
  {
   "cell_type": "markdown",
   "id": "5f56ef53",
   "metadata": {},
   "source": [
    "- isalnum(): 영숫자 확인"
   ]
  },
  {
   "cell_type": "code",
   "execution_count": null,
   "id": "712b740e",
   "metadata": {
    "attributes": {
     "classes": [
      "py"
     ],
     "id": ""
    }
   },
   "outputs": [],
   "source": [
    "challenge = 'ThirtyDaysPython'\n",
    "print(challenge.isalnum()) # True\n",
    "\n",
    "challenge = '30DaysPython'\n",
    "print(challenge.isalnum()) # True\n",
    "\n",
    "challenge = 'thirty days of python'\n",
    "print(challenge.isalnum()) # False, space is not an alphanumeric character\n",
    "\n",
    "challenge = 'thirty days of python 2019'\n",
    "print(challenge.isalnum()) # False"
   ]
  },
  {
   "cell_type": "markdown",
   "id": "d81ae4c7",
   "metadata": {},
   "source": [
    "- isalpha(): 모든 문자열 요소가 알파벳 문자(az 및 AZ)인지 확인합니다."
   ]
  },
  {
   "cell_type": "code",
   "execution_count": null,
   "id": "176d3028",
   "metadata": {
    "attributes": {
     "classes": [
      "py"
     ],
     "id": ""
    }
   },
   "outputs": [],
   "source": [
    "challenge = 'thirty days of python'\n",
    "print(challenge.isalpha()) # False, space is once again excluded\n",
    "challenge = 'ThirtyDaysPython'\n",
    "print(challenge.isalpha()) # True\n",
    "num = '123'\n",
    "print(num.isalpha())      # False"
   ]
  },
  {
   "cell_type": "markdown",
   "id": "8a2cc389",
   "metadata": {},
   "source": [
    "- isdecimal(): 문자열의 모든 문자가 십진수(0-9)인지 확인합니다."
   ]
  },
  {
   "cell_type": "code",
   "execution_count": null,
   "id": "83988984",
   "metadata": {
    "attributes": {
     "classes": [
      "py"
     ],
     "id": ""
    }
   },
   "outputs": [],
   "source": [
    "challenge = 'thirty days of python'\n",
    "print(challenge.isdecimal())  # False\n",
    "challenge = '123'\n",
    "print(challenge.isdecimal())  # True\n",
    "challenge = '\\u00B2'\n",
    "print(challenge.isdigit())   # False\n",
    "challenge = '12 3'\n",
    "print(challenge.isdecimal())  # False, space not allowed"
   ]
  },
  {
   "cell_type": "markdown",
   "id": "099c06e3",
   "metadata": {},
   "source": [
    "- isdigit(): 문자열의 모든 문자가 숫자인지 확인합니다(숫자는 0-9 및 일부 다른 유니코드 문자)."
   ]
  },
  {
   "cell_type": "code",
   "execution_count": null,
   "id": "5d81a012",
   "metadata": {
    "attributes": {
     "classes": [
      "py"
     ],
     "id": ""
    }
   },
   "outputs": [],
   "source": [
    "challenge = 'Thirty'\n",
    "print(challenge.isdigit()) # False\n",
    "challenge = '30'\n",
    "print(challenge.isdigit())   # True\n",
    "challenge = '\\u00B2'\n",
    "print(challenge.isdigit())   # True"
   ]
  },
  {
   "cell_type": "markdown",
   "id": "bc865fe0",
   "metadata": {},
   "source": [
    "- isnumeric(): 문자열의 모든 문자가 숫자인지 또는 숫자와 관련된 것인지 확인합니다(isdigit()와 마찬가지로 ½과 같은 더 많은 기호를 허용합니다)."
   ]
  },
  {
   "cell_type": "code",
   "execution_count": null,
   "id": "e7750062",
   "metadata": {
    "attributes": {
     "classes": [
      "py"
     ],
     "id": ""
    }
   },
   "outputs": [],
   "source": [
    "num = '10'\n",
    "print(num.isnumeric()) # True\n",
    "num = '\\u00BD' # ½\n",
    "print(num.isnumeric()) # True\n",
    "num = '10.5'\n",
    "print(num.isnumeric()) # False"
   ]
  },
  {
   "cell_type": "markdown",
   "id": "4621429e",
   "metadata": {},
   "source": [
    "- isidentifier(): 유효한 식별자를 확인합니다. 문자열이 유효한 변수 이름인지 확인합니다."
   ]
  },
  {
   "cell_type": "code",
   "execution_count": null,
   "id": "7a541b23",
   "metadata": {
    "attributes": {
     "classes": [
      "py"
     ],
     "id": ""
    }
   },
   "outputs": [],
   "source": [
    "challenge = '30DaysOfPython'\n",
    "print(challenge.isidentifier()) # False, because it starts with a number\n",
    "challenge = 'thirty_days_of_python'\n",
    "print(challenge.isidentifier()) # True"
   ]
  },
  {
   "cell_type": "markdown",
   "id": "7ed0b66f",
   "metadata": {},
   "source": [
    "- islower(): 문자열의 모든 알파벳 문자가 소문자인지 확인"
   ]
  },
  {
   "cell_type": "code",
   "execution_count": null,
   "id": "e9b3e0f3",
   "metadata": {
    "attributes": {
     "classes": [
      "py"
     ],
     "id": ""
    }
   },
   "outputs": [],
   "source": [
    "challenge = 'thirty days of python'\n",
    "print(challenge.islower()) # True\n",
    "challenge = 'Thirty days of python'\n",
    "print(challenge.islower()) # False"
   ]
  },
  {
   "cell_type": "markdown",
   "id": "14218544",
   "metadata": {},
   "source": [
    "- islower(): 문자열의 모든 알파벳 문자가 소문자인지 확인"
   ]
  },
  {
   "cell_type": "code",
   "execution_count": null,
   "id": "f038ade7",
   "metadata": {
    "attributes": {
     "classes": [
      "py"
     ],
     "id": ""
    }
   },
   "outputs": [],
   "source": [
    "challenge = 'thirty days of python'\n",
    "print(challenge.isupper()) #  False\n",
    "challenge = 'THIRTY DAYS OF PYTHON'\n",
    "print(challenge.isupper()) # True"
   ]
  },
  {
   "cell_type": "markdown",
   "id": "f34044df",
   "metadata": {},
   "source": [
    "- join(): 연결된 문자열을 반환합니다."
   ]
  },
  {
   "cell_type": "code",
   "execution_count": null,
   "id": "23edfa16",
   "metadata": {
    "attributes": {
     "classes": [
      "py"
     ],
     "id": ""
    }
   },
   "outputs": [],
   "source": [
    "web_tech = ['HTML', 'CSS', 'JavaScript', 'React']\n",
    "result = ' '.join(web_tech)\n",
    "print(result) # 'HTML CSS JavaScript React'"
   ]
  },
  {
   "cell_type": "code",
   "execution_count": null,
   "id": "0fa45f4e",
   "metadata": {
    "attributes": {
     "classes": [
      "py"
     ],
     "id": ""
    }
   },
   "outputs": [],
   "source": [
    "web_tech = ['HTML', 'CSS', 'JavaScript', 'React']\n",
    "result = '# '.join(web_tech)\n",
    "print(result) # 'HTML# CSS# JavaScript# React'"
   ]
  },
  {
   "cell_type": "markdown",
   "id": "a03e6f79",
   "metadata": {},
   "source": [
    "- strip(): 문자열의 시작과 끝에서 시작하여 주어진 모든 문자를 제거합니다."
   ]
  },
  {
   "cell_type": "code",
   "execution_count": null,
   "id": "62b1cc50",
   "metadata": {
    "attributes": {
     "classes": [
      "py"
     ],
     "id": ""
    }
   },
   "outputs": [],
   "source": [
    "challenge = 'thirty days of pythoonnn'\n",
    "print(challenge.strip('noth')) # 'irty days of py'"
   ]
  },
  {
   "cell_type": "markdown",
   "id": "fa0abc19",
   "metadata": {},
   "source": [
    "- replace(): 하위 문자열을 주어진 문자열로 대체합니다."
   ]
  },
  {
   "cell_type": "code",
   "execution_count": null,
   "id": "87140437",
   "metadata": {
    "attributes": {
     "classes": [
      "py"
     ],
     "id": ""
    }
   },
   "outputs": [],
   "source": [
    "challenge = 'thirty days of python'\n",
    "print(challenge.replace('python', 'coding')) # 'thirty days of coding'"
   ]
  },
  {
   "cell_type": "markdown",
   "id": "2deffaea",
   "metadata": {},
   "source": [
    "- split(): 주어진 문자열 또는 공백을 구분 기호로 사용하여 문자열을 분할합니다."
   ]
  },
  {
   "cell_type": "code",
   "execution_count": null,
   "id": "f62c9259",
   "metadata": {
    "attributes": {
     "classes": [
      "py"
     ],
     "id": ""
    }
   },
   "outputs": [],
   "source": [
    "challenge = 'thirty days of python'\n",
    "print(challenge.split()) # ['thirty', 'days', 'of', 'python']\n",
    "challenge = 'thirty, days, of, python'\n",
    "print(challenge.split(', ')) # ['thirty', 'days', 'of', 'python']"
   ]
  },
  {
   "cell_type": "markdown",
   "id": "fd457c09",
   "metadata": {},
   "source": [
    "- title(): 제목 케이스 문자열을 반환합니다."
   ]
  },
  {
   "cell_type": "code",
   "execution_count": null,
   "id": "ce09909c",
   "metadata": {
    "attributes": {
     "classes": [
      "py"
     ],
     "id": ""
    }
   },
   "outputs": [],
   "source": [
    "challenge = 'thirty days of python'\n",
    "print(challenge.title()) # Thirty Days Of Python"
   ]
  },
  {
   "cell_type": "markdown",
   "id": "9dc7330f",
   "metadata": {},
   "source": [
    "- swapcase(): 모든 대문자를 소문자로, 모든 소문자를 대문자로 변환"
   ]
  },
  {
   "cell_type": "code",
   "execution_count": null,
   "id": "d76b1178",
   "metadata": {
    "attributes": {
     "classes": [
      "py"
     ],
     "id": ""
    }
   },
   "outputs": [],
   "source": [
    "challenge = 'thirty days of python'\n",
    "print(challenge.swapcase())   # THIRTY DAYS OF PYTHON\n",
    "challenge = 'Thirty Days Of Python'\n",
    "print(challenge.swapcase())  # tHIRTY dAYS oF pYTHON"
   ]
  },
  {
   "cell_type": "markdown",
   "id": "6006013a",
   "metadata": {},
   "source": [
    "- startswith(): 문자열이 지정된 문자열로 시작하는지 확인"
   ]
  },
  {
   "cell_type": "code",
   "execution_count": null,
   "id": "87a2a33e",
   "metadata": {
    "attributes": {
     "classes": [
      "py"
     ],
     "id": ""
    }
   },
   "outputs": [],
   "source": [
    "challenge = 'thirty days of python'\n",
    "print(challenge.startswith('thirty')) # True\n",
    "\n",
    "challenge = '30 days of python'\n",
    "print(challenge.startswith('thirty')) # False"
   ]
  },
  {
   "cell_type": "markdown",
   "id": "cc77316c",
   "metadata": {},
   "source": [
    "🌕 당신은 특별한 사람이고 놀라운 잠재력을 가지고 있습니다. 당신은 방금 4일 차 도전을 완료했고 당신은 위대함을 향한 당신의 길에 4걸음 남았습니다. 이제 뇌와 근육을 위한 몇 가지 훈련을 하십시오.\n",
    "\n",
    "## 💻 Exercises - Day 4\n",
    "\n",
    "1. 문자열 'Thirty', 'Days', 'Of', 'Python'을 단일 문자열 'Thirty Days Of Python'에 연결합니다.\n",
    "2. 문자열 'Coding', 'For' , 'All'을 단일 문자열 'Coding For All'에 연결합니다.\n",
    "3. company라는 변수를 선언하고 초기 값 \"Coding For All\"에 할당합니다.\n",
    "4. *print()* 를 사용하여 회사 변수를 인쇄합니다.\n",
    "5. *len()* 메서드와 *print()* 를 사용하여 회사 문자열의 길이를 인쇄합니다.\n",
    "6. *upper()* 메서드를 사용하여 모든 문자를 대문자로 변경합니다.\n",
    "7. *lower()* 메서드를 사용하여 모든 문자를 소문자로 변경합니다.\n",
    "8. 문자열 *Coding For All* 의 값을 형식화하려면 capitalize(), title(), swapcase() 메소드를 사용하십시오.\n",
    "9. *Coding For All* 문자열의 첫 번째 단어를 잘라냅니다.\n",
    "10. Index, find 또는 기타 방법을 사용하여 *Coding For All* 문자열에 단어 Coding이 포함되어 있는지 확인합니다.\n",
    "11. 문자열 'Coding For All'의 코딩이라는 단어를 Python으로 바꿉니다.\n",
    "12. replace 메서드 또는 기타 메서드를 사용하여 모두를 위한 Python을 모두를 위한 Python으로 변경합니다.\n",
    "13. 공백을 구분 기호로 사용하여 문자열 'Coding For All'을 분할합니다(split()).\n",
    "14. \"Facebook, Google, Microsoft, Apple, IBM, Oracle, Amazon\"은 쉼표에서 문자열을 나눕니다.\n",
    "15. 문자열 *Coding For All* 에서 인덱스 0에 있는 문자는 무엇입니까?\n",
    "16. 문자열 *Coding For All* 에서 인덱스 0에 있는 문자는 무엇입니까?\n",
    "17. \"Coding For All\" 문자열에서 인덱스 10에 있는 문자는 무엇입니까?\n",
    "18. 'Python For Everyone'이라는 이름의 약어 또는 약어를 만듭니다.\n",
    "19. 'Coding For All'이라는 이름의 약어 또는 약어를 만듭니다.\n",
    "20. Index를 사용하여 Coding For All에서 C가 처음 나타나는 위치를 결정합니다.\n",
    "21. Index를 사용하여 Coding For All에서 F가 처음 나타나는 위치를 결정합니다.\n",
    "22. Coding For All People에서 l이 마지막으로 나타나는 위치를 결정하려면 rfind를 사용하십시오.\n",
    "23. 색인 또는 찾기를 사용하여 다음 문장에서 'because'라는 단어가 처음 나타나는 위치를 찾습니다.\n",
    "24. 색인 또는 찾기를 사용하여 다음 문장에서 'because'라는 단어가 처음 나타나는 위치를 찾습니다.\n",
    "25. 색인 또는 찾기를 사용하여 다음 문장에서 'because'라는 단어가 처음 나타나는 위치를 찾습니다.\n",
    "26. 색인 또는 찾기를 사용하여 다음 문장에서 'because'라는 단어가 처음 나타나는 위치를 찾습니다.\n",
    "27. 다음 문장에서 'because because because'라는 구문을 잘라냅니다.\n",
    "28. 'Coding For All'은 하위 문자열 *Coding* 으로 시작합니까?\n",
    "29. 'Coding For All'은 하위 문자열 *코딩* 으로 끝납니까?\n",
    "30. ' Coding For All ' , 주어진 문자열에서 왼쪽 및 오른쪽 후행 공백을 제거합니다.\n",
    "31. 다음 변수 중 isidentifier() 메서드를 사용할 때 True를 반환하는 변수는 무엇입니까?\n",
    "    - 30DaysOfPython\n",
    "    - thirty_days_of_python\n",
    "32. 다음 목록에는 일부 파이썬 라이브러리의 이름이 포함되어 있습니다: ['Django', 'Flask', 'Bottle', 'Pyramid', 'Falcon']. 공백 문자열이 있는 해시로 목록에 가입하십시오.\n",
    "33. 새 줄 이스케이프 시퀀스를 사용하여 다음 문장을 구분합니다.\n",
    "    ```py\n",
    "    I am enjoying this challenge.\n",
    "    I just wonder what is next.\n",
    "    ```\n",
    "34. 새 줄 이스케이프 시퀀스를 사용하여 다음 문장을 구분합니다.\n",
    "    ```py\n",
    "    Name      Age     Country   City\n",
    "    Asabeneh  250     Finland   Helsinki\n",
    "    ```\n",
    "35. 문자열 형식 지정 방법을 사용하여 다음을 표시합니다:"
   ]
  },
  {
   "cell_type": "code",
   "execution_count": null,
   "id": "13016679",
   "metadata": {
    "attributes": {
     "classes": [
      "sh"
     ],
     "id": ""
    }
   },
   "outputs": [],
   "source": [
    "radius = 10\n",
    "area = 3.14 * radius ** 2\n",
    "The area of a circle with radius 10 is 314 meters square."
   ]
  },
  {
   "cell_type": "markdown",
   "id": "ece72c6e",
   "metadata": {},
   "source": [
    "1. 문자열 형식화 방법을 사용하여 다음을 작성하십시오:"
   ]
  },
  {
   "cell_type": "code",
   "execution_count": null,
   "id": "68a04cd8",
   "metadata": {
    "attributes": {
     "classes": [
      "sh"
     ],
     "id": ""
    }
   },
   "outputs": [],
   "source": [
    "8 + 6 = 14\n",
    "8 - 6 = 2\n",
    "8 * 6 = 48\n",
    "8 / 6 = 1.33\n",
    "8 % 6 = 2\n",
    "8 // 6 = 1\n",
    "8 ** 6 = 262144"
   ]
  },
  {
   "cell_type": "markdown",
   "id": "4fe63446",
   "metadata": {},
   "source": [
    "🎉 축하합니다! 🎉\n",
    "\n",
    "[&lt;&lt; Day 3](../03_Day_Operators/03_operators.md) | [Day 5 &gt;&gt;](../05_Day_Lists/05_lists.md)"
   ]
  }
 ],
 "metadata": {},
 "nbformat": 4,
 "nbformat_minor": 5
}
