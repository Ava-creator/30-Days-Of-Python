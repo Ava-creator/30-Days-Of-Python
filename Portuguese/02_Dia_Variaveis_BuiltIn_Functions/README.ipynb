{
 "cells": [
  {
   "cell_type": "markdown",
   "id": "2c3546bc",
   "metadata": {},
   "source": [
    "<div align=\"center\">\n",
    "  <h1> 30 Dias de Python: Dia 2 - Variaveis, Builtin Functions</h1>\n",
    "  <a class=\"header-badge\" target=\"_blank\" href=\"https://www.linkedin.com/in/asabeneh/\">\n",
    "  <img src=\"https://img.shields.io/badge/style--5eba00.svg?label=LinkedIn&logo=linkedin&style=social\">\n",
    "  </a>\n",
    "  <a class=\"header-badge\" target=\"_blank\" href=\"https://twitter.com/Asabeneh\">\n",
    "  <img alt=\"Twitter Follow\" src=\"https://img.shields.io/twitter/follow/asabeneh?style=social\">\n",
    "  </a>\n",
    "\n",
    "<sub>Author:\n",
    "<a href=\"https://www.linkedin.com/in/asabeneh/\" target=\"_blank\">Asabeneh Yetayeh</a><br>\n",
    "<small> Segunda edição: July, 2021</small>\n",
    "</sub>\n",
    "\n",
    "</div>\n",
    "\n",
    "[<< Dia 1](../README.md) | [Dia 3 >>](../03_Day_Operators/03_operators.md)\n",
    "\n",
    "![30DiasDePython](../.././images/30DaysOfPython_banner3@2x.png)\n",
    "\n",
    "- [📘 Dia 2](#-dia-2)\n",
    "  - [Built in functions](#built-in-functions)\n",
    "  - [Variaveis](#Variaveis)\n",
    "    - [Declarando múltiplas váriaveis em uma linha](#Declarando-múltiplas-variaveis-em-uma-linha)\n",
    "  - [Tipos de dados](#Tipos-de-Dados)\n",
    "  - [Checando tipos de dados e type Casting](#Checando-tipos-de-dados-e-Casting)\n",
    "  - [Numeros](#Numeros)\n",
    "  - [💻 Exercicios - Dia 2](#-Exercicios---Dia-2)\n",
    "    - [Exercicios: Level 1](#Exercicios-level-1)\n",
    "    - [Exercicios: Level 2](#Exercicios-level-2)\n",
    "\n",
    "# 📘 Dia 2\n",
    "\n",
    "## Built in functions\n",
    "\n",
    "Em Python, temos muitas built-in functions. As built-in functions estão disponíveis globalmente para seu uso, o que significa que você pode fazer uso das built-in functions sem importar ou configurar. Algumas das built-in functions do Python mais usadas são as seguintes: _print()_, _len()_, _type()_, _int()_, _float()_, _str()_, _input()_, _list()_, _dict()_, _min()_, _max()_, _sum()_, _sorted()_, _open()_, _file()_, _help()_ e _dir()_ . Na tabela a seguir, você verá uma lista gigantesca de funções do Python retiradas da [documentação do python](https://docs.python.org/3.9/library/functions.html).\n",
    "![Built-in Functions](../.././images/builtin-functions.png)\n",
    "\n",
    "Vamos abrir o shell do Python e começar a usar algumas built-in functions.\n",
    "\n",
    "![Built-in functions](../.././images/builtin-functions_practice.png)\n",
    "\n",
    "Vamos praticar mais usando diferentes built-in functions\n",
    "\n",
    "![Help and Dir Built in Functions](../.././images/help_and_dir_builtin.png)\n",
    "\n",
    "Como você pode ver no terminal acima, O Python possui palavras reservadas. Não usamos palavras reservadas para declarar variáveis ​​ou funções. Abordaremos as variáveis ​​na próxima seção.\n",
    "\n",
    "Acredito que agora você já esteja familiarizado com as built-in functions. Vamos fazer mais uma prática de built-in functions e passaremos para a próxima seção.\n",
    "\n",
    "![Min Max Sum](../.././images/builtin-functional-final.png)\n",
    "\n",
    "## Variaveis\n",
    "\n",
    "As variáveis ​​armazenam dados na memória do computador. Variáveis ​​mnemônicas são recomendadas para uso em muitas linguagens de programação. Uma variável mnemônica é um nome de variável que pode ser facilmente lembrado e associado. Uma variável refere-se a um endereço de memória no qual os dados são armazenados.\n",
    "Número no início, caractere especial e hífen não são permitidos ao nomear uma variável. Uma variável pode ter um nome curto (como x, y, z), mas um nome mais descritivo tipo (nome, sobrenome, idade, país) é altamente recomendado.\n",
    "\n",
    "Regras da nomeclatura de variáveis no ​​​​Python\n",
    "\n",
    "- O nome de uma variável deve começar com uma letra ou underline\n",
    "- O nome de uma variável não pode começar com um número\n",
    "- Um nome de variável só pode conter caracteres alfanuméricos e underlines (A-z, 0-9 e \\_ )\n",
    "- O interpretador Python ​​diferencia maiúsculas de minúsculas (nome, nome, nome e PRIMEIRO NOME) são variáveis ​​diferentes) então tome cuidado com isso. \n",
    "\n",
    "Aqui estão alguns exemplos de nomes de variáveis ​​válidos:"
   ]
  },
  {
   "cell_type": "code",
   "execution_count": null,
   "id": "51ecc257",
   "metadata": {
    "attributes": {
     "classes": [
      "shell"
     ],
     "id": ""
    }
   },
   "outputs": [],
   "source": [
    "firstname\n",
    "lastname\n",
    "age\n",
    "country\n",
    "city\n",
    "first_name\n",
    "last_name\n",
    "capital_city\n",
    "_if # if we want to use reserved word as a variable\n",
    "year_2021\n",
    "year2021\n",
    "current_year_2021\n",
    "birth_year\n",
    "num1\n",
    "num2"
   ]
  },
  {
   "cell_type": "markdown",
   "id": "5fcc5b8f",
   "metadata": {},
   "source": [
    "Nomes invalidos de variaveis"
   ]
  },
  {
   "cell_type": "code",
   "execution_count": null,
   "id": "c966c25e",
   "metadata": {
    "attributes": {
     "classes": [
      "shell"
     ],
     "id": ""
    }
   },
   "outputs": [],
   "source": [
    "first-name\n",
    "first@name\n",
    "first$name\n",
    "num-1\n",
    "1num"
   ]
  },
  {
   "cell_type": "markdown",
   "id": "84f7be26",
   "metadata": {},
   "source": [
    "Usaremos o estilo de nomenclatura de variáveis ​​Python padrão que foi adotado por muitos desenvolvedores Python. Os desenvolvedores Python usam a convenção de nomenclatura de variáveis ​​​​snake case (snake_case). Usamos underline após cada palavra para uma variável contendo mais de uma palavra (por exemplo, primeiro_nome, sobrenome, velocidade_de_rotação_do_motor).  O exemplo abaixo é um exemplo de nomenclatura padrão de variáveis, o underline é necessário quando o nome da variável tem mais de uma palavra (isso é uma boa prática).\n",
    "\n",
    "Quando atribuímos um determinado tipo de dado a uma variável, isso é chamado de declaração de variável. Por exemplo, no exemplo abaixo, meu primeiro nome é atribuído a uma variável first_name. O sinal de igual é um operador de atribuição. Atribuir significa armazenar dados na variável (dar um valor a uma variavel). O sinal de igual em Python não é igualdade como em Matemática.\n",
    "\n",
    "_Exemplo:_"
   ]
  },
  {
   "cell_type": "code",
   "execution_count": null,
   "id": "442b2c2c",
   "metadata": {
    "attributes": {
     "classes": [
      "py"
     ],
     "id": ""
    }
   },
   "outputs": [],
   "source": [
    "# Variables in Python\n",
    "first_name = 'Asabeneh'\n",
    "last_name = 'Yetayeh'\n",
    "country = 'Finland'\n",
    "city = 'Helsinki'\n",
    "age = 250\n",
    "is_married = True\n",
    "skills = ['HTML', 'CSS', 'JS', 'React', 'Python']\n",
    "person_info = {\n",
    "   'firstname':'Asabeneh',\n",
    "   'lastname':'Yetayeh',\n",
    "   'country':'Finland',\n",
    "   'city':'Helsinki'\n",
    "   }"
   ]
  },
  {
   "cell_type": "markdown",
   "id": "c4e937ee",
   "metadata": {},
   "source": [
    "Vamos usar as funções _print()_ e _len()_. A função de impressão aceita um número ilimitado de argumentos. Um argumento é um valor que podemos passar ou colocar entre parênteses, veja o exemplo abaixo.\n",
    "\n",
    "**Exemplo:**"
   ]
  },
  {
   "cell_type": "code",
   "execution_count": null,
   "id": "21977bb4",
   "metadata": {
    "attributes": {
     "classes": [
      "py"
     ],
     "id": ""
    }
   },
   "outputs": [],
   "source": [
    "print('Hello, World!') # The text Hello, World! is an argument\n",
    "print('Hello',',', 'World','!') # it can take multiple arguments, four arguments have been passed\n",
    "print(len('Hello, World!')) # it takes only one argument"
   ]
  },
  {
   "cell_type": "markdown",
   "id": "a5869f92",
   "metadata": {},
   "source": [
    "Vamos imprimir e também encontrar o comprimento das variáveis ​​declaradas no topo:\n",
    "\n",
    "**Exemplo:**"
   ]
  },
  {
   "cell_type": "code",
   "execution_count": null,
   "id": "653d0518",
   "metadata": {
    "attributes": {
     "classes": [
      "py"
     ],
     "id": ""
    }
   },
   "outputs": [],
   "source": [
    "# Printing the values stored in the variables\n",
    "\n",
    "print('First name:', first_name)\n",
    "print('First name length:', len(first_name))\n",
    "print('Last name: ', last_name)\n",
    "print('Last name length: ', len(last_name))\n",
    "print('Country: ', country)\n",
    "print('City: ', city)\n",
    "print('Age: ', age)\n",
    "print('Married: ', is_married)\n",
    "print('Skills: ', skills)\n",
    "print('Person information: ', person_info)"
   ]
  },
  {
   "cell_type": "markdown",
   "id": "ab616495",
   "metadata": {},
   "source": [
    "### Declarando múltiplas variaveis em uma linha\n",
    "\n",
    "Múltiplas variáveis ​​também podem ser declaradas em uma linha:\n",
    "\n",
    "**Exemplo:**"
   ]
  },
  {
   "cell_type": "code",
   "execution_count": null,
   "id": "d0bda78e",
   "metadata": {
    "attributes": {
     "classes": [
      "py"
     ],
     "id": ""
    }
   },
   "outputs": [],
   "source": [
    "first_name, last_name, country, age, is_married = 'Asabeneh', 'Yetayeh', 'Helsink', 250, True\n",
    "\n",
    "print(first_name, last_name, country, age, is_married)\n",
    "print('First name:', first_name)\n",
    "print('Last name: ', last_name)\n",
    "print('Country: ', country)\n",
    "print('Age: ', age)\n",
    "print('Married: ', is_married)"
   ]
  },
  {
   "cell_type": "markdown",
   "id": "f523cf20",
   "metadata": {},
   "source": [
    "Podemos obter a entrada do usuário usando a função _input()_. Vamos atribuir os dados que obtemos de um usuário às variáveis ​​first_name e age.\n",
    "\n",
    "**Exemplo:**"
   ]
  },
  {
   "cell_type": "code",
   "execution_count": null,
   "id": "6099ed2a",
   "metadata": {
    "attributes": {
     "classes": [
      "py"
     ],
     "id": ""
    }
   },
   "outputs": [],
   "source": [
    "first_name = input('What is your name: ')\n",
    "age = input('How old are you? ')\n",
    "\n",
    "print(first_name)\n",
    "print(age)"
   ]
  },
  {
   "cell_type": "markdown",
   "id": "df3115c4",
   "metadata": {},
   "source": [
    "## Tipos de Dados\n",
    "\n",
    "Existem vários tipos de dados no Python. Para identificar o tipo de dados, usamos a função _type_. Gostaria de pedir que você se concentrasse em compreender muito bem os diferentes tipos de dados. Quando se trata de programação, tudo se resume a tipos de dados. Introduzi os tipos de dados logo no início e depois veremos de novo, porque cada tópico está relacionado aos tipos de dados. Abordaremos os tipos de dados com mais detalhes em suas respectivas seções.\n",
    "\n",
    "## Checando tipos de dados e Casting\n",
    "\n",
    "- Checando tipos de dados: Para verificar o tipo de dados de determinados dados/variáveis, usamos o _type_\n",
    "  **Exemplo:**"
   ]
  },
  {
   "cell_type": "code",
   "execution_count": null,
   "id": "e356ba5a",
   "metadata": {
    "attributes": {
     "classes": [
      "py"
     ],
     "id": ""
    }
   },
   "outputs": [],
   "source": [
    "# Different python data types\n",
    "# Let's declare variables with various data types\n",
    "\n",
    "first_name = 'Asabeneh'     # str\n",
    "last_name = 'Yetayeh'       # str\n",
    "country = 'Finland'         # str\n",
    "city= 'Helsinki'            # str\n",
    "age = 250                   # int, it is not my real age, don't worry about it\n",
    "\n",
    "# Printing out types\n",
    "print(type('Asabeneh'))     # str\n",
    "print(type(first_name))     # str\n",
    "print(type(10))             # int\n",
    "print(type(3.14))           # float\n",
    "print(type(1 + 1j))         # complex\n",
    "print(type(True))           # bool\n",
    "print(type([1, 2, 3, 4]))     # list\n",
    "print(type({'name':'Asabeneh','age':250, 'is_married':250}))    # dict\n",
    "print(type((1,2)))                                              # tuple\n",
    "print(type(zip([1,2],[3,4])))                                   # set"
   ]
  },
  {
   "cell_type": "markdown",
   "id": "a6c3c362",
   "metadata": {},
   "source": [
    "- Type Casting: Podemos converter um tipo de dado em outro tipo de dado. Nós podemos usar esses tipos para fazer o casting _int()_, _float()_, _str()_, _list_, _set_\n",
    " Quando fazemos operações aritméticas, os números das strings devem ser primeiro convertidos para int ou float, caso contrário, retornará um erro. Se concatenarmos um número com uma string, o número deverá primeiro ser convertido em uma string. Falaremos sobre concatenação na seção String.\n",
    "\n",
    "  **Exemplo:**"
   ]
  },
  {
   "cell_type": "code",
   "execution_count": null,
   "id": "01152ca4",
   "metadata": {
    "attributes": {
     "classes": [
      "py"
     ],
     "id": ""
    }
   },
   "outputs": [],
   "source": [
    "# int to float\n",
    "num_int = 10\n",
    "print('num_int',num_int)         # 10\n",
    "num_float = float(num_int)\n",
    "print('num_float:', num_float)   # 10.0\n",
    "\n",
    "# float to int\n",
    "gravity = 9.81\n",
    "print(int(gravity))             # 9\n",
    "\n",
    "# int to str\n",
    "num_int = 10\n",
    "print(num_int)                  # 10\n",
    "num_str = str(num_int)\n",
    "print(num_str)                  # '10'\n",
    "\n",
    "# str to int or float\n",
    "num_str = '10.6'\n",
    "print('num_int', int(num_str))      # 10\n",
    "print('num_float', float(num_str))  # 10.6\n",
    "\n",
    "# str to list\n",
    "first_name = 'Asabeneh'\n",
    "print(first_name)               # 'Asabeneh'\n",
    "first_name_to_list = list(first_name)\n",
    "print(first_name_to_list)            # ['A', 's', 'a', 'b', 'e', 'n', 'e', 'h']"
   ]
  },
  {
   "cell_type": "markdown",
   "id": "59a20202",
   "metadata": {},
   "source": [
    "## Numeros\n",
    "\n",
    "Numeros e tipos de dados em python:\n",
    "\n",
    "1. Inteiros: Inteiros são considerados os(negativos, zero números positivos) \n",
    "   Exemplo:\n",
    "   ... -3, -2, -1, 0, 1, 2, 3 ...\n",
    "\n",
    "2. Float(Números Decimais)\n",
    "   Exemplo:\n",
    "   ... -3.5, -2.25, -1.0, 0.0, 1.1, 2.2, 3.5 ...\n",
    "\n",
    "3. Números Complexos\n",
    "   Exemplo:\n",
    "   1 + j, 2 + 4j, 1 - 1j\n",
    "\n",
    "🌕 Você é incrível. Você acabou de completar os desafios do dia 2 e está dois passos à frente no caminho para a grandeza. Agora faça alguns exercícios para o cérebro e os músculos.\n",
    "\n",
    "## 💻 Exercicios - Dia 2\n",
    "\n",
    "### Exercicios: Level 1\n",
    "\n",
    "1. Dentro de 30DiasDePython crie uma pasta chamada dia_2. Dentro desta pasta crie um arquivo chamado variáveis.py\n",
    "2. Escreva um comentário em python dizendo: 'Dia 2/30 dias de programação em python'\n",
    "3. Declare uma variável de primeiro nome e atribua um valor a ela\n",
    "4. Declare uma variavel de sobrenome e atribua um valor a ela\n",
    "5. Declare uma variavel de nome completo e atribua um valor a ela\n",
    "6. Declare uma variavel do seu país e atribua um valor a ela\n",
    "7. Declare uma variavel da sua cidade e atribua um valor a ela\n",
    "8. Declare uma variavel da sua idade e atribua um valor a ela\n",
    "9. Declare uma variavel ano e atribua um valor a ela\n",
    "10. Declare uma variavel is_married e atribua um valor a ela\n",
    "11. Declare uma variavel is_true e atribua um valor a ela \n",
    "12. Declare uma variavel is_light_on e atribua um valor a ela\n",
    "13. Declare multiplas variaveis em uma linha\n",
    "\n",
    "### Exercicios: Level 2\n",
    "\n",
    "1. Verifique o tipo de dados de todas as suas variáveis ​​usando a função integrada type()\n",
    "1. Usando a função integrada _len()_, encontre o comprimento do seu primeiro nome\n",
    "1. Compare o comprimento do seu nome e do seu sobrenome\n",
    "1. Declare 5 como num_one e 4 como num_two\n",
    "    1. Adicione num_one e num_two e atribua o valor a uma variável total\n",
    "    2. Subtraia num_two de num_one e atribua o valor a uma variável diff\n",
    "    3. Multiplique num_two e num_one e atribua o valor a um produto variável\n",
    "    4. Divida num_one por num_two e atribua o valor a uma divisão variável\n",
    "    5. Use a divisão de módulo para encontrar num_dois dividido por num_um e atribua o valor a uma variável restante\n",
    "    6. Calcule num_one elevado a num_two e atribua o valor a uma variável exp\n",
    "    7. Encontre a divisão mínima de num_one por num_two e atribua o valor a uma variável floor_division\n",
    "2. O raio de um círculo é de 30 metros.\n",
    "    1. Calcule a área de um círculo e atribua o valor a um nome de variável de _area_of_circle_\n",
    "    2. Calcule a circunferência de um círculo e atribua o valor a um nome de variável _circum_of_circle_\n",
    "    3. Pegue o raio como entrada do usuário e calcule a área.\n",
    "1. Use a função de entrada integrada para obter nome, sobrenome, país e idade de um usuário e armazenar o valor em seus nomes de variáveis ​​correspondentes\n",
    "1. Execute help('keywords') no Python shell ou em seu arquivo para verificar as palavras ou palavras-chave reservadas do Python\n",
    "\n",
    "🎉 PARABÉNS ! 🎉\n",
    "\n",
    "[<< Day 1](../README.md) | [Day 3 >>](../03_Day_Operators/03_operators.md)"
   ]
  }
 ],
 "metadata": {},
 "nbformat": 4,
 "nbformat_minor": 5
}
