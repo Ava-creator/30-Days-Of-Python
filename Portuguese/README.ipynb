{
 "cells": [
  {
   "cell_type": "markdown",
   "id": "037bec2d",
   "metadata": {},
   "source": [
    "# 🐍 30 Dias de python\n",
    "\n",
    "|# Day | Topics                                                    |\n",
    "|------|:---------------------------------------------------------:|\n",
    "| 01  |  [Introdução](./readme.md)|\n",
    "| 02  |  [Variaveis, Built-in Functions](./02_Dia_Variaveis_BuiltIn_Functions/README.md)|\n",
    "| 03  |  [Operadores](./03_Day_Operators/03_operators.md)|\n",
    "| 04  |  [Strings](./04_Day_Strings/04_strings.md)|\n",
    "| 05  |  [Listas](./05_Day_Lists/05_lists.md)|\n",
    "| 06  |  [Tuplas](./06_Day_Tuples/06_tuples.md)|\n",
    "| 07  |  [Conjuntos](./07_Day_Sets/07_sets.md)|\n",
    "| 08  |  [Dicionários](./08_Day_Dictionaries/08_dictionaries.md)|\n",
    "| 09  |  [Condicionais](./09_Day_Conditionals/09_conditionals.md)|\n",
    "| 10  |  [Loops](./10_Day_Loops/10_loops.md)|\n",
    "| 11  |  [Funções](./11_Day_Functions/11_functions.md)|\n",
    "| 12  |  [Modulos](./12_Day_Modules/12_modules.md)|\n",
    "| 13  |  [Compreensão de Listas](./13_Day_List_comprehension/13_list_comprehension.md)|\n",
    "| 14  |  [Higher Order Functions](./14_Day_Higher_order_functions/14_higher_order_functions.md)|\n",
    "| 15  |  [Tripos de Erros](./15_Day_Python_type_errors/15_python_type_errors.md)|\n",
    "| 16 |  [Python Date time](./16_Day_Python_date_time/16_python_datetime.md) |\n",
    "| 17 |  [Manipulação de Excessão](./17_Day_Exception_handling/17_exception_handling.md)|\n",
    "| 18 |  [Regex (Expressões Regulares)](./18_Day_Regular_expressions/18_regular_expressions.md)|\n",
    "| 19 |  [Manipulação De Arquivos](./19_Day_File_handling/19_file_handling.md)|\n",
    "| 20 |  [Gerenciador De Pacotes](./20_Day_Python_package_manager/20_python_package_manager.md)|\n",
    "| 21 |  [Classes e Objetos](./21_Day_Classes_and_objects/21_classes_and_objects.md)|\n",
    "| 22 |  [Web Scraping](./22_Day_Web_scraping/22_web_scraping.md)|\n",
    "| 23 |  [Ambiente Virtual](./23_Day_Virtual_environment/23_virtual_environment.md)|\n",
    "| 24 |  [Estatisticas](./24_Day_Statistics/24_statistics.md)|\n",
    "| 25 |  [Pandas](./25_Day_Pandas/25_pandas.md)|\n",
    "| 26 |  [Python web](./26_Day_Python_web/26_python_web.md)|\n",
    "| 27 |  [Python com MongoDB](./27_Day_Python_with_mongodb/27_python_with_mongodb.md)|\n",
    "| 28 |  [API](./28_Day_API/28_API.md)|\n",
    "| 29 |  [Construindo API's](./29_Day_Building_API/29_building_API.md)|\n",
    "| 30 |  [Conclusão](./30_Day_Conclusions/30_conclusions.md)|\n",
    "\n",
    "🧡🧡🧡 CODANDO FELIZ 🧡🧡🧡\n",
    "\n",
    "<div>\n",
    "<small>Ajudem o <strong>autor</strong> a criar mais materiais educacionais</small> <br />  \n",
    "<a href = \"https://www.paypal.me/asabeneh\"><img src='.././images/paypal_lg.png' alt='Paypal Logo' style=\"width:10%\"/></a>\n",
    "</div>\n",
    "\n",
    "<div align=\"center\">\n",
    "  <h1> 30 Dias De Python: Dia 1 - Introdução</h1>\n",
    "  <a class=\"header-badge\" target=\"_blank\" href=\"https://www.linkedin.com/in/asabeneh/\">\n",
    "  <img src=\"https://img.shields.io/badge/style--5eba00.svg?label=LinkedIn&logo=linkedin&style=social\">\n",
    "  </a>\n",
    "  <a class=\"header-badge\" target=\"_blank\" href=\"https://twitter.com/Asabeneh\">\n",
    "  <img alt=\"Twitter Follow\" src=\"https://img.shields.io/twitter/follow/asabeneh?style=social\">\n",
    "  </a>\n",
    "\n",
    "  <sub>Autor:\n",
    "  <a href=\"https://www.linkedin.com/in/asabeneh/\" target=\"_blank\">Oludayo adeoye</a><br>\n",
    "  <small> Segunda Edição: July, 2021</small>\n",
    "  </sub>\n",
    "</div>\n",
    "\n",
    "[Dia 2 >>](./02_Dia_Variaveis_BuiltIn_Functions/README.md)\n",
    "\n",
    "![30DaysOfPython](.././images/30DaysOfPython_banner3@2x.png)\n",
    "\n",
    "- [🐍 30 Dias de python](#-30-dias-de-python)\n",
    "- [📘 Dia 1](#-dia-1)\n",
    "  - [Bem Vindo!](#bem-vindo)\n",
    "  - [Introdução](#introdução)\n",
    "  - [Por quê Python?](#por-quê-python)\n",
    "  - [Setup do ambiente](#setup-do-ambiente)\n",
    "    - [Instalando o Python](#instalando-o-python)\n",
    "    - [Python Shell](#python-shell)\n",
    "    - [Instalando o Visual Studio Code](#instalando-o-visual-studio-code)\n",
    "      - [Como usar o Visual Studio Code](#como-usar-o-visual-studio-code)\n",
    "  - [Basico de Python](#basico-de-python)\n",
    "    - [Sintaxe do Python](#sintaxe-do-python)\n",
    "    - [Identação do Python](#identação-do-python)\n",
    "    - [Comentários](#comentários)\n",
    "    - [Tipos de dados](#tipos-de-dados)\n",
    "      - [Números](#números)\n",
    "      - [Strings](#strings)\n",
    "      - [Booleanos](#booleanos)\n",
    "      - [Listas](#listas)\n",
    "      - [Dicionário](#dicionário)\n",
    "      - [Tupla](#tupla)\n",
    "      - [Set](#set)\n",
    "    - [Checando Tipos de Dados](#checando-tipos-de-dados)\n",
    "    - [Arquivo Python](#arquivo-python)\n",
    "  - [💻 Exercicios - Dia 1](#-exercicios---dia-1)\n",
    "    - [Exercicio: Level 1](#exercicio-level-1)\n",
    "    - [Exercicio: Level 2](#exercicio-level-2)\n",
    "    - [Exercicio: Level 3](#exercicio-level-3)\n",
    "\n",
    "# 📘 Dia 1\n",
    "\n",
    "## Bem Vindo!\n",
    "\n",
    "**Parabéns** por decidir participar do desafio de programação  _30 dias de Python_ . E nesse desafio você vai aprender tudo o que você precisa para se tornar um programador python e todo o conceito de programação. No final do desafio você receberá o certificado do desafio de programação _30DiasDePython_.\n",
    "\n",
    "Se você quiser se envolver ativamente no desafio, você pode se juntar ao grupo do telegram [30DaysOfPython challenge](https://t.me/ThirtyDaysOfPython).  \n",
    "\n",
    "## Introdução\n",
    "\n",
    "Python é uma linguagem de programação de alto nível para programação de uso geral. É uma linguagem de programação de código aberto, interpretada e orientada a objetos. Python foi criado por um programador holandês, Guido van Rossum. O nome da linguagem de programação Python foi derivado de uma série de comédia britânica, _Monty Python's Flying Circus_.  A primeira versão foi lançada em 20 de fevereiro de 1991. Este desafio de 30 dias de Python irá ajudá-lo a aprender a versão mais recente do Python, Python 3, passo a passo. Os tópicos são divididos em 30 dias, onde cada dia contém diversos tópicos com explicações fáceis de entender, exemplos do mundo real, muitos exercícios práticos e projetos.\n",
    "\n",
    "Este desafio foi desenvolvido para iniciantes e profissionais que desejam aprender a linguagem de programação python. Pode levar de 30 a 100 dias para completar o desafio, as pessoas que participam ativamente do grupo de telegramas têm grande probabilidade de completar o desafio.\n",
    "\n",
    "Este desafio é fácil de ler, escrito originalmente em inglês coloquial e traduzido para um português, envolvente, motivador e ao mesmo tempo muito exigente. Você precisa destinar muito tempo para terminar este desafio. Se você é um dos que aprendem melhor vendo, você pode assistir às vídeo-aulas em <a href=\"https://www.youtube.com/channel/UC7PNRuno1rzYPb1xLa4yktw\"> \n",
    "Canal do Youtube do Washera</a> Você pode começar pelo [Video de Python para iniciantes absolutos](https://youtu.be/OCCWZheOesI). Se inscreva no canal, comente suas dúvidas nos vídeos do YouTube e seja proativo, o autor eventualmente notará você.\n",
    "\n",
    "O autor gosta de ouvir sua opinião sobre o desafio, compartilhe o artigo do autor dando um feedback com sua opinião sobre o desafio 30DiasDePython. E você pode deixar seu feedback sobre o artigo em: [link](https://www.asabeneh.com/testimonials)\n",
    "\n",
    "## Por quê Python?\n",
    "\n",
    "É uma linguagem de programação muito próxima da linguagem humana, com uma sintaxe simples! e por isso fácil de aprender e usar. \n",
    "Python é usado por vários setores e empresas (incluindo o Google). Ele tem sido usado para desenvolver aplicações web, aplicativos de desktop, administração de sistemas e bibliotecas de machine learning. Python é uma linguagem altamente adotada na comunidade de data science e machine learning. Espero que isso seja suficiente para convencê-lo a começar a aprender Python. \n",
    "\n",
    "## Setup do ambiente\n",
    "\n",
    "### Instalando o Python\n",
    "Para executar um script escrito em Python, você precisa instalar o Python. Vamos para a página [download](https://www.python.org/) python.\n",
    "Se você for um usuario de windows. Clique no botão circulado em vermelho.\n",
    "\n",
    "[![instalando no Windows](.././images/installing_on_windows.png)](https://www.python.org/)\n",
    "\n",
    "Se você for um usuário de MacOs. Clique no botão circulado em vermelho.\n",
    "\n",
    "[![instalando no MacOs](.././images/installing_on_macOS.png)](https://www.python.org/)\n",
    "\n",
    "Para verificar se o python está instalado, digite o seguinte comando no terminal do seu dispositivo."
   ]
  },
  {
   "cell_type": "code",
   "execution_count": null,
   "id": "48fd1e23",
   "metadata": {
    "attributes": {
     "classes": [
      "shell"
     ],
     "id": ""
    }
   },
   "outputs": [],
   "source": [
    "python --version"
   ]
  },
  {
   "cell_type": "markdown",
   "id": "1ce222a8",
   "metadata": {},
   "source": [
    "![Versão do Python](.././images/python_versio.png)\n",
    "\n",
    "Como você pode ver no terminal, estou usando a versão _Python 3.7.5_ no momento. Sua versão do Python pode ser diferente da minha, mas deve ser 3.6 ou superior. Se você conseguir ver a versão python, muito bem. Python foi instalado em sua máquina. Continue para a próxima seção.\n",
    "\n",
    "### Python Shell\n",
    "\n",
    "Python é uma linguagem de script interpretada, portanto não precisa ser compilada. Isso significa que executa o código linha por linha. O Python vem com um _Python Shell (Shell Interativo do Python)_, também conhecido como REPL (Read Eval Print Loop). E é usado para executar um único comando python e obter o resultado.\n",
    "\n",
    "O Python Shell aguarda o código Python do usuário. Ao inserir o código, ele o interpreta e mostra o resultado na próxima linha.\n",
    "Abra seu terminal ou prompt de comando (cmd) e escreva:"
   ]
  },
  {
   "cell_type": "code",
   "execution_count": null,
   "id": "372d430b",
   "metadata": {
    "attributes": {
     "classes": [
      "shell"
     ],
     "id": ""
    }
   },
   "outputs": [],
   "source": [
    "python"
   ]
  },
  {
   "cell_type": "markdown",
   "id": "686c197c",
   "metadata": {},
   "source": [
    "![Python Scripting Shell](.././images/opening_python_shell.png)\n",
    "\n",
    "O shell interativo do Python é aberto e aguarda que você escreva o código em Python (script Python). E você escreverá seu script Python próximo a este símbolo >>> e clique em Enter.\n",
    "Vamos escrever nosso primeiro scripts no shell de script Python.\n",
    "\n",
    "![Python script on Python shell](.././images/adding_on_python_shell.png)\n",
    "\n",
    "Muito bem, você escreveu seu primeiro script Python no shell interativo Python. Como fechamos o shell interativo do Python?\n",
    "Para fechar o shell, próximo a este símbolo >> escreva o comando **exit()** e pressione Enter.\n",
    "\n",
    "![Exit from python shell](.././images/exit_from_shell.png)\n",
    "\n",
    "Agora você sabe como abrir o shell interativo do Python e como sair dele.\n",
    "\n",
    "Python fornecerá resultados se você escrever scripts que Python entenda; caso contrário, retornará erros. Vamos cometer um erro proposital e ver o que o Python retornará.\n",
    "\n",
    "![Invalid Syntax Error](.././images/invalid_syntax_error.png)\n",
    "\n",
    "Como você pode ver no erro retornado, Python é tão inteligente que sabe o erro que cometemos e que foi _Syntax Error: Invalid Syntax_. Usar x como multiplicação em Python é um erro de sintaxe porque (x) não é uma sintaxe válida em Python. Em vez de (**x**) usamos asterisco (*) para multiplicação. O erro retornado mostra claramente o que corrigir.\n",
    "\n",
    "O processo de identificação e remoção de erros de um programa é chamado de _depuração_. Vamos depurá-lo colocando * no lugar de **x**.\n",
    "\n",
    "![Fixing Syntax Error](.././images/fixing_syntax_error.png)\n",
    "\n",
    "Nosso bug foi corrigido, o código foi executado e obtivemos o resultado que esperávamos. Como programador, você verá esse tipo de erro diariamente. É bom saber como depurar. Para ser bom em depuração, você deve entender que tipo de erros está enfrentando. Alguns dos erros do Python que você pode encontrar são _SyntaxError_, _IndexError_, _NameError_, _ModuleNotFoundError_, _KeyError_, _ImportError_, _AttributeError_, _TypeError_, _ValueError_, _ZeroDivisionError_ etc. Veremos mais sobre diferentes tipos de erros no Python mais tarde, em outras seções! \n",
    "\n",
    "Vamos praticar mais como usar o shell interativo Python. Vá para o seu terminal ou prompt de comando e escreva a palavra **python**.\n",
    "\n",
    "![Python Scripting Shell](.././images/opening_python_shell.png)\n",
    "\n",
    "O shell interativo do Python é aberto. Vamos fazer algumas operações matemáticas básicas (adição, subtração, multiplicação, divisão, módulo, exponencial).\n",
    "\n",
    "Vamos fazer algumas contas antes de escrever qualquer código Python:\n",
    "\n",
    "- 2 + 3 is 5\n",
    "- 3 - 2 is 1\n",
    "- 3 \\* 2 is 6\n",
    "- 3 / 2 is 1.5\n",
    "- 3 ** 2 is the same as 3 * 3\n",
    "\n",
    "Em python temos as seguintes operações adicionais:\n",
    "\n",
    "- 3 % 2 = 1 => que significa encontrar o resto ou (módulo da divisão)\n",
    "- 3 // 2 = 1 => que significa remover o resto da divisão\n",
    "\n",
    "Vamos mudar as expressões matemáticas acima para código Python. O shell Python foi aberto e vamos escrever um comentário logo no início do shell.\n",
    "\n",
    "Um _comentário_ é uma parte do código que não é executada por python o comentário é ignorado pelo interpretador Python. Portanto, podemos deixar algum texto em nosso código para torná-lo mais legível. Python não executa a parte de comentários. Um comentário em python começa com o símbolo hash(#).\n",
    "É assim que você escreve um comentário em python:"
   ]
  },
  {
   "cell_type": "code",
   "execution_count": null,
   "id": "3c81b2d7",
   "metadata": {
    "attributes": {
     "classes": [
      "shell"
     ],
     "id": ""
    }
   },
   "outputs": [],
   "source": [
    " # comment starts with hash\n",
    " # this is a python comment, because it starts with a (#) symbol"
   ]
  },
  {
   "cell_type": "markdown",
   "id": "61646453",
   "metadata": {},
   "source": [
    "![Maths on python shell](.././images/maths_on_python_shell.png)\n",
    "\n",
    "Antes de passarmos para a próxima seção, vamos praticar mais no shell interativo do Python. Feche o shell aberto escrevendo _exit()_ no shell e abra-o novamente e vamos praticar como escrever um texto no shell Python.\n",
    "\n",
    "![Writing String on python shell](.././images/writing_string_on_shell.png)\n",
    "\n",
    "### Instalando o Visual Studio Code\n",
    "\n",
    "O shell interativo Python é bom para testar pequenos códigos de script, mas não será para um grande projeto. No ambiente de trabalho real, os desenvolvedores usam diferentes editores de código para escrever códigos. Neste desafio de programação de 30 dias De Python usaremos código do visual studio. O Visual Studio Code é um editor de texto de código aberto muito popular. Sou fã do vscode e recomendo [download](https://code.visualstudio.com/) visual studio code, mas se você é a adépito a outros editores, fique à vontade para seguir com o que tiver.\n",
    "\n",
    "[![Visual Studio Code](.././images/vscode.png)](https://code.visualstudio.com/)\n",
    "\n",
    "Se você instalou o Visual Studio Code, vamos ver como usá-lo.\n",
    "Se preferir um vídeo, você pode seguir este tutorial da instalação e configuração do Visual Studio Code para Python [Video tutorial](https://www.youtube.com/watch?v=bn7Cx4z-vSo)\n",
    "\n",
    "#### Como usar o Visual Studio Code\n",
    "\n",
    "Abra o visual studio code clicando duas vezes no ícone do visual studio. Ao abri-lo, você obterá esse tipo de interface. Tente interagir com os ícones rotulados.\n",
    "\n",
    "![Visual studio Code](.././images/vscode_ui.png)\n",
    "\n",
    "Crie uma pasta chamada 30DiasDePython no seu desktop. Em seguida, abra-a usando o visual studio code.\n",
    "\n",
    "![Opening Project on Visual studio](.././images/how_to_open_project_on_vscode.png)\n",
    "\n",
    "![Opening a project](.././images/opening_project.png)\n",
    "\n",
    "Após abri-lo você verá atalhos para criação de arquivos e pastas dentro do diretório do projeto 30DiasDePython. Como você pode ver abaixo, criei o primeiro arquivo, helloworld.py. Você pode fazer o mesmo.\n",
    "\n",
    "![Creating a python file](.././images/helloworld.png)\n",
    "\n",
    "Depois de um longo dia codando, você deseja fechar seu editor de código fonte, certo? É assim que você fechará o projeto aberto.\n",
    "\n",
    "![Closing project](.././images/closing_opened_project.png)\n",
    "\n",
    "Parabéns, você concluiu a configuração do ambiente de desenvolvimento. Vamos começar a codar.\n",
    "\n",
    "## Basico de Python\n",
    "\n",
    "### Sintaxe do Python\n",
    "\n",
    "Um script Python pode ser escrito no shell interativo Python ou no editor de código. Um arquivo Python possui uma extensão .py.\n",
    "\n",
    "### Identação do Python\n",
    "\n",
    "Uma identação é um espaço em branco em um texto. A identação em muitas linguagens é usada para aumentar a legibilidade do código, mas o Python usa a identação para criar blocos de códigos. Em outras linguagens de programação, chaves são usadas para criar blocos de códigos em vez de a identação. Um dos bugs comuns ao escrever código um python é o erro de identação.\n",
    "\n",
    "![Indentation Error](.././images/indentation.png)\n",
    "\n",
    "### Comentários\n",
    "\n",
    "Os comentários são muito importantes para tornar o código mais legível e para deixar comentários em nosso código. Python não executa partes de comentários do nosso código.\n",
    "Qualquer texto que comece com hash(#) em Python é um comentário.\n",
    "\n",
    "**Exemplo: de um comentário de uma linha**"
   ]
  },
  {
   "cell_type": "code",
   "execution_count": null,
   "id": "8df16af2",
   "metadata": {
    "attributes": {
     "classes": [
      "shell"
     ],
     "id": ""
    }
   },
   "outputs": [],
   "source": [
    "    # This is the first comment\n",
    "    # This is the second comment\n",
    "    # Python is eating the world"
   ]
  },
  {
   "cell_type": "markdown",
   "id": "36392d3d",
   "metadata": {},
   "source": [
    "**Exemplo: de um Comentário de multiplas linhas conhecido como docstring**\n",
    "\n",
    "Aspas triplas podem ser usadas para comentários de múltiplas linhas se não estiverem atribuídas a uma variável"
   ]
  },
  {
   "cell_type": "code",
   "execution_count": null,
   "id": "ef9b546e",
   "metadata": {
    "attributes": {
     "classes": [
      "shell"
     ],
     "id": ""
    }
   },
   "outputs": [],
   "source": [
    "\"\"\"This is multiline comment\n",
    "multiline comment takes multiple lines.\n",
    "python is eating the world\n",
    "\"\"\""
   ]
  },
  {
   "cell_type": "markdown",
   "id": "67d1b830",
   "metadata": {},
   "source": [
    "### Tipos de dados\n",
    "\n",
    "Em Python existem vários tipos de dados. Vamos começar com os mais comuns. Diferentes tipos de dados serão abordados em detalhes em outras seções. Por enquanto, vamos examinar os diferentes tipos de dados e nos familiarizar com eles. Você não precisa ter um entendimento claro agora.\n",
    "\n",
    "#### Números\n",
    "\n",
    "- Inteiro: É considerado Inteiro(números negativos, zero e positivos)\n",
    "    Exemplo:\n",
    "    ... -3, -2, -1, 0, 1, 2, 3 ...\n",
    "- Float: Números decimais\n",
    "    Exemplo:\n",
    "    ... -3.5, -2.25, -1.0, 0.0, 1.1, 2.2, 3.5 ...\n",
    "- Complexos\n",
    "    Exemplo:\n",
    "    1 + j, 2 + 4j\n",
    "\n",
    "#### Strings\n",
    "\n",
    "Uma coleção de um ou mais caracteres entre aspas simples ou duplas são considerados strings. Se uma string tiver mais de uma frase, usamos aspas triplas.\n",
    "\n",
    "**Exemplo:**"
   ]
  },
  {
   "cell_type": "code",
   "execution_count": null,
   "id": "8bc9151f",
   "metadata": {
    "attributes": {
     "classes": [
      "py"
     ],
     "id": ""
    }
   },
   "outputs": [],
   "source": [
    "'Asabeneh'\n",
    "'Finland'\n",
    "'Python'\n",
    "'I love teaching'\n",
    "'I hope you are enjoying the first day of 30DaysOfPython Challenge'"
   ]
  },
  {
   "cell_type": "markdown",
   "id": "63110485",
   "metadata": {},
   "source": [
    "#### Booleanos\n",
    "\n",
    "Um tipo de dado booleano é um valor True ou False. T e F devem estar sempre maiúsculos. \n",
    "\n",
    "**Exemplo:**"
   ]
  },
  {
   "cell_type": "code",
   "execution_count": null,
   "id": "85797bd7",
   "metadata": {},
   "outputs": [],
   "source": [
    "    True  #  Is the light on? If it is on, then the value is True\n",
    "    False # Is the light on? If it is off, then the value is False"
   ]
  },
  {
   "cell_type": "markdown",
   "id": "ec41275a",
   "metadata": {},
   "source": [
    "#### Listas\n",
    "\n",
    "A lista em Python é uma coleção ordenada que permite armazenar itens de diferentes tipos de dados. Uma lista é semelhante a um array em JavaScript.\n",
    "\n",
    "**Exemplo:**"
   ]
  },
  {
   "cell_type": "code",
   "execution_count": null,
   "id": "e15d20e7",
   "metadata": {
    "attributes": {
     "classes": [
      "py"
     ],
     "id": ""
    }
   },
   "outputs": [],
   "source": [
    "[0, 1, 2, 3, 4, 5]  # all are the same data types - a list of numbers\n",
    "['Banana', 'Orange', 'Mango', 'Avocado'] # all the same data types - a list of strings (fruits)\n",
    "['Finland','Estonia', 'Sweden','Norway'] # all the same data types - a list of strings (countries)\n",
    "['Banana', 10, False, 9.81] # different data types in the list - string, integer, boolean and float"
   ]
  },
  {
   "cell_type": "markdown",
   "id": "7dd5b453",
   "metadata": {},
   "source": [
    "#### Dicionário\n",
    "\n",
    "Um objeto de dicionário Python é uma coleção não ordenada de dados em um formato de par de valores-chave.\n",
    "\n",
    "**Exemplo:**"
   ]
  },
  {
   "cell_type": "code",
   "execution_count": null,
   "id": "53344bba",
   "metadata": {
    "attributes": {
     "classes": [
      "py"
     ],
     "id": ""
    }
   },
   "outputs": [],
   "source": [
    "{\n",
    "'first_name':'Asabeneh',\n",
    "'last_name':'Yetayeh',\n",
    "'country':'Finland', \n",
    "'age':250, \n",
    "'is_married':True,\n",
    "'skills':['JS', 'React', 'Node', 'Python']\n",
    "}"
   ]
  },
  {
   "cell_type": "markdown",
   "id": "68e6d68c",
   "metadata": {},
   "source": [
    "#### Tupla\n",
    "\n",
    "Uma tupla é uma coleção ordenada de diferentes tipos de dados, como uma lista, mas as tuplas não podem ser modificadas (são imutáveis) depois de criadas. Eles são imutáveis.\n",
    "\n",
    "**Exemplo:**"
   ]
  },
  {
   "cell_type": "code",
   "execution_count": null,
   "id": "5c8adc69",
   "metadata": {
    "attributes": {
     "classes": [
      "py"
     ],
     "id": ""
    }
   },
   "outputs": [],
   "source": [
    "('Asabeneh', 'Pawel', 'Brook', 'Abraham', 'Lidiya') # Names"
   ]
  },
  {
   "cell_type": "code",
   "execution_count": null,
   "id": "ce6a8263",
   "metadata": {
    "attributes": {
     "classes": [
      "py"
     ],
     "id": ""
    }
   },
   "outputs": [],
   "source": [
    "('Earth', 'Jupiter', 'Neptune', 'Mars', 'Venus', 'Saturn', 'Uranus', 'Mercury') # planets"
   ]
  },
  {
   "cell_type": "markdown",
   "id": "0c1b0e43",
   "metadata": {},
   "source": [
    "#### Set\n",
    "\n",
    "O set é uma coleção de tipos de dados semelhantes a uma lista e uma tupla. Ao contrário da lista e da tupla, set não é uma coleção ordenada de itens. Como na matemática, o conjunto em Python armazena apenas itens exclusivos.\n",
    "\n",
    "Nas seções posteriores, entraremos em detalhes sobre cada tipo de dados Python.\n",
    "\n",
    "**Exemplo:**"
   ]
  },
  {
   "cell_type": "code",
   "execution_count": null,
   "id": "5c421228",
   "metadata": {
    "attributes": {
     "classes": [
      "py"
     ],
     "id": ""
    }
   },
   "outputs": [],
   "source": [
    "{2, 4, 3, 5}\n",
    "{3.14, 9.81, 2.7} # order is not important in set"
   ]
  },
  {
   "cell_type": "markdown",
   "id": "1ae55849",
   "metadata": {},
   "source": [
    "### Checando Tipos de Dados\n",
    "\n",
    "Para checar um determinado tipo de dado dados/variáveis, usamos a função **type**. No terminal a seguir você verá diferentes tipos de dados python:\n",
    "\n",
    "![Checking Data types](.././images/checking_data_types.png)\n",
    "\n",
    "### Arquivo Python\n",
    "\n",
    "Primeiro abra a pasta do seu projeto, 30DiasDePython. Se você não tiver essa pasta, crie um nome de pasta chamada 30DiasDePython. Dentro desta pasta, crie um arquivo chamado helloworld.py. Agora, vamos fazer o que fizemos no shell interativo python usando o visual studio code.\n",
    "\n",
    "O shell interativo do Python estava imprimindo sem usar **print** mas no visual studio code para ver nosso resultado deveríamos usar uma função integrada _print(). A função interna _print()_ recebe um ou mais argumentos da seguinte maneira _print('arument1', 'argument2', 'argument3')_. Veja os exemplos abaixo.\n",
    "\n",
    "**Exemplo:**\n",
    "\n",
    "O nome do arquivo é helloworld.py"
   ]
  },
  {
   "cell_type": "code",
   "execution_count": null,
   "id": "5cb4fa22",
   "metadata": {
    "attributes": {
     "classes": [
      "py"
     ],
     "id": ""
    }
   },
   "outputs": [],
   "source": [
    "# Day 1 - 30DaysOfPython Challenge\n",
    "\n",
    "print(2 + 3)             # addition(+)\n",
    "print(3 - 1)             # subtraction(-)\n",
    "print(2 * 3)             # multiplication(*)\n",
    "print(3 / 2)             # division(/)\n",
    "print(3 ** 2)            # exponential(**)\n",
    "print(3 % 2)             # modulus(%)\n",
    "print(3 // 2)            # Floor division operator(//)\n",
    "\n",
    "# Checking data types\n",
    "print(type(10))          # Int\n",
    "print(type(3.14))        # Float\n",
    "print(type(1 + 3j))      # Complex number\n",
    "print(type('Asabeneh'))  # String\n",
    "print(type([1, 2, 3]))   # List\n",
    "print(type({'name':'Asabeneh'})) # Dictionary\n",
    "print(type({9.8, 3.14, 2.7}))    # Set\n",
    "print(type((9.8, 3.14, 2.7)))    # Tuple"
   ]
  },
  {
   "cell_type": "markdown",
   "id": "fba1ce91",
   "metadata": {},
   "source": [
    "Para executar o arquivo python verifique a imagem abaixo. Você pode executar o arquivo python executando o botão verde em Visual Studio Code ou digitando _python helloworld.py_ no seu terminal.\n",
    "\n",
    "![Running python script](.././images/running_python_script.png)\n",
    "\n",
    "🌕  Você é incrível. Você acabou de completar o desafio do primeiro dia e está a caminho da grandeza. Agora faça alguns exercícios para o cérebro e os músculos.\n",
    "\n",
    "## 💻 Exercicios - Dia 1\n",
    "\n",
    "### Exercicio: Level 1\n",
    "\n",
    "1. Cheque a versão do python que você esta usando\n",
    "2. Abra o shell interativo python e execute as seguintes operações. Os operandos são 3 e 4.\n",
    "   - adição(+)\n",
    "   - subtração(-)\n",
    "   - multiplicação(\\*)\n",
    "   - modulo(%)\n",
    "   - divisão(/)\n",
    "   - exponencial(\\*\\*)\n",
    "   - Divisão inteira(//)\n",
    "3. Escreva strings no shell interativo python. As strings são as seguintes:\n",
    "   - Seu nome\n",
    "   - Seu sobrenome\n",
    "   - Seu país\n",
    "   - Eu estou aproveitando o 30 dias de python\n",
    "4. Verifique os tipos de dados dos seguintes dados:\n",
    "   - 10\n",
    "   - 9.8\n",
    "   - 3.14\n",
    "   - 4 - 4j\n",
    "   - ['Asabeneh', 'Python', 'Finland']\n",
    "   - Seu nome\n",
    "   - O seu sobrenome\n",
    "   - Seu país\n",
    "\n",
    "### Exercicio: Level 2\n",
    "\n",
    "1. Crie uma pasta chamada dia_1 dentro da pasta 30DiasDePython. Dentro da pasta day_1, crie um arquivo python helloworld.py e repita as perguntas 1, 2, 3 e 4. Lembre-se de usar _print()_ quando estiver trabalhando em um arquivo python. Navegue até o diretório onde você salvou seu arquivo e execute-o.\n",
    "\n",
    "### Exercicio: Level 3\n",
    "\n",
    "1. Escreva um exemplo para diferentes tipos de dados Python, como Número (Inteiro, Flutuante, Complex), Strings, Booleanos, Listas, Tuplas, Set e Dicionário.\n",
    "2. Ache a [Distancia Euclidiana](https://en.wikipedia.org/wiki/Euclidean_distance#:~:text=In%20mathematics%2C%20the%20Euclidean%20distance,being%20called%20the%20Pythagorean%20distance.) entre (2, 3) e (10, 8)\n",
    "\n",
    "🎉 PARABÉNS ! 🎉\n",
    "\n",
    "[Day 2 >>](./02_Dia_Variaveis_BuiltIn_Functions/README.md)"
   ]
  }
 ],
 "metadata": {},
 "nbformat": 4,
 "nbformat_minor": 5
}
