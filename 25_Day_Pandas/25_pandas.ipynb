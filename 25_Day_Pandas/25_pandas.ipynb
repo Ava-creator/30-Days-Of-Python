{
  "cells": [
    {
      "cell_type": "markdown",
      "metadata": {
        "id": "view-in-github",
        "colab_type": "text"
      },
      "source": [
        "<a href=\"https://colab.research.google.com/github/Ava-creator/30-Days-Of-Python/blob/master/25_Day_Pandas/25_pandas.ipynb\" target=\"_parent\"><img src=\"https://colab.research.google.com/assets/colab-badge.svg\" alt=\"Open In Colab\"/></a>"
      ]
    },
    {
      "cell_type": "markdown",
      "id": "c3ceadb3",
      "metadata": {
        "id": "c3ceadb3"
      },
      "source": [
        "<div align=\"center\">\n",
        "  <h1> 30 Days Of Python: Day 25 - Pandas </h1>\n",
        "  <a class=\"header-badge\" target=\"_blank\" href=\"https://www.linkedin.com/in/asabeneh/\">\n",
        "  <img src=\"https://img.shields.io/badge/style--5eba00.svg?label=LinkedIn&logo=linkedin&style=social\">\n",
        "  </a>\n",
        "  <a class=\"header-badge\" target=\"_blank\" href=\"https://twitter.com/Asabeneh\">\n",
        "  <img alt=\"Twitter Follow\" src=\"https://img.shields.io/twitter/follow/asabeneh?style=social\">\n",
        "  </a>\n",
        "\n",
        "  <sub>Author:\n",
        "  <a href=\"https://www.linkedin.com/in/asabeneh/\" target=\"_blank\">Oludayo adeoye</a><br>\n",
        "  <small>Second Edition: July, 2021</small>\n",
        "  </sub>\n",
        "\n",
        "</div>\n",
        "\n",
        "[<< Day 24](../24_Day_Statistics/24_statistics.md) | [Day 26 >>](../26_Day_Python_web/26_python_web.md)\n",
        "\n",
        "![30DaysOfPython](https://github.com/Ava-creator/30-Days-Of-Python/blob/master/images/30DaysOfPython_banner3@2x.png?raw=1)\n",
        "\n",
        "- [📘 Day 25](#-day-25)\n",
        "  - [Pandas](#pandas)\n",
        "    - [Installing Pandas](#installing-pandas)\n",
        "    - [Importing Pandas](#importing-pandas)\n",
        "    - [Creating Pandas Series with Default Index](#creating-pandas-series-with-default-index)\n",
        "    - [Creating  Pandas Series with custom index](#creating--pandas-series-with-custom-index)\n",
        "    - [Creating Pandas Series from a Dictionary](#creating-pandas-series-from-a-dictionary)\n",
        "    - [Creating a Constant Pandas Series](#creating-a-constant-pandas-series)\n",
        "    - [Creating a  Pandas Series Using Linspace](#creating-a--pandas-series-using-linspace)\n",
        "  - [DataFrames](#dataframes)\n",
        "    - [Creating DataFrames from List of Lists](#creating-dataframes-from-list-of-lists)\n",
        "    - [Creating DataFrame Using Dictionary](#creating-dataframe-using-dictionary)\n",
        "    - [Creating DataFrames from a List of Dictionaries](#creating-dataframes-from-a-list-of-dictionaries)\n",
        "  - [Reading CSV File Using Pandas](#reading-csv-file-using-pandas)\n",
        "    - [Data Exploration](#data-exploration)\n",
        "  - [Modifying a DataFrame](#modifying-a-dataframe)\n",
        "    - [Creating a DataFrame](#creating-a-dataframe)\n",
        "    - [Adding a New Column](#adding-a-new-column)\n",
        "    - [Modifying column values](#modifying-column-values)\n",
        "    - [Formating DataFrame columns](#formating-dataframe-columns)\n",
        "  - [Checking data types of Column values](#checking-data-types-of-column-values)\n",
        "    - [Boolean Indexing](#boolean-indexing)\n",
        "  - [Exercises: Day 25](#exercises-day-25)\n",
        "  \n",
        "# 📘 Day 25\n",
        "\n",
        "## Pandas\n",
        "\n",
        "Pandas is an open source, high-performance, easy-to-use data structures and data analysis tools for the Python programming language.\n",
        "Pandas adds data structures and tools designed to work with table-like data which is *Series* and *Data Frames*.\n",
        "Pandas provides tools for data manipulation:\n",
        "\n",
        "- reshaping\n",
        "- merging\n",
        "- sorting\n",
        "- slicing\n",
        "- aggregation\n",
        "- imputation.\n",
        "If you are using anaconda, you do not have install pandas.\n",
        "\n",
        "### Installing Pandas\n",
        "\n",
        "For Mac:"
      ]
    },
    {
      "cell_type": "code",
      "execution_count": null,
      "id": "a1621f38",
      "metadata": {
        "attributes": {
          "classes": [
            "py"
          ],
          "id": ""
        },
        "id": "a1621f38"
      },
      "outputs": [],
      "source": [
        "pip install conda\n",
        "conda install pandas"
      ]
    },
    {
      "cell_type": "markdown",
      "id": "eccb1e9e",
      "metadata": {
        "id": "eccb1e9e"
      },
      "source": [
        "For Windows:"
      ]
    },
    {
      "cell_type": "code",
      "execution_count": null,
      "id": "57d830b3",
      "metadata": {
        "attributes": {
          "classes": [
            "py"
          ],
          "id": ""
        },
        "id": "57d830b3"
      },
      "outputs": [],
      "source": [
        "pip install conda\n",
        "pip install pandas"
      ]
    },
    {
      "cell_type": "markdown",
      "id": "93a7014a",
      "metadata": {
        "id": "93a7014a"
      },
      "source": [
        "Pandas data structure is based on *Series* and *DataFrames*.\n",
        "\n",
        "A *series* is a *column* and a DataFrame is a *multidimensional table* made up of collection of *series*. In order to create a pandas series we should use numpy to create a one dimensional arrays or a python list.\n",
        "Let us see an example of a series:\n",
        "\n",
        "Names Pandas Series\n",
        "\n",
        "![pandas series](https://github.com/Ava-creator/30-Days-Of-Python/blob/master/images/pandas-series-1.png?raw=1)\n",
        "\n",
        "Countries Series\n",
        "\n",
        "![pandas series](https://github.com/Ava-creator/30-Days-Of-Python/blob/master/images/pandas-series-2.png?raw=1)\n",
        "\n",
        "Cities Series\n",
        "\n",
        "![pandas series](https://github.com/Ava-creator/30-Days-Of-Python/blob/master/images/pandas-series-3.png?raw=1)\n",
        "\n",
        "As you can see, pandas series is just one column of data. If we want to have multiple columns we use data frames. The example below shows pandas DataFrames.\n",
        "\n",
        "Let us see, an example of a pandas data frame:\n",
        "\n",
        "![Pandas data frame](https://github.com/Ava-creator/30-Days-Of-Python/blob/master/images/pandas-dataframe-1.png?raw=1)\n",
        "\n",
        "Data frame is a collection of rows and columns. Look at the table below; it has many more columns than the example above:\n",
        "\n",
        "![Pandas data frame](https://github.com/Ava-creator/30-Days-Of-Python/blob/master/images/pandas-dataframe-2.png?raw=1)\n",
        "\n",
        "Next, we will see how to import pandas and how to create Series and DataFrames using pandas\n",
        "\n",
        "### Importing Pandas"
      ]
    },
    {
      "cell_type": "code",
      "execution_count": null,
      "id": "adf7f1eb",
      "metadata": {
        "id": "adf7f1eb"
      },
      "outputs": [],
      "source": [
        "import pandas as pd # importing pandas as pd\n",
        "import numpy  as np # importing numpy as np"
      ]
    },
    {
      "cell_type": "markdown",
      "id": "0f1f1205",
      "metadata": {
        "id": "0f1f1205"
      },
      "source": [
        "### Creating Pandas Series with Default Index"
      ]
    },
    {
      "cell_type": "code",
      "execution_count": null,
      "id": "8864e970",
      "metadata": {
        "id": "8864e970"
      },
      "outputs": [],
      "source": [
        "nums = [1, 2, 3, 4,5]\n",
        "s = pd.Series(nums)\n",
        "print(s)"
      ]
    },
    {
      "cell_type": "code",
      "execution_count": null,
      "id": "accdc268",
      "metadata": {
        "attributes": {
          "classes": [
            "sh"
          ],
          "id": ""
        },
        "id": "accdc268"
      },
      "outputs": [],
      "source": [
        "    0    1\n",
        "    1    2\n",
        "    2    3\n",
        "    3    4\n",
        "    4    5\n",
        "    dtype: int64"
      ]
    },
    {
      "cell_type": "markdown",
      "id": "3df06a88",
      "metadata": {
        "id": "3df06a88"
      },
      "source": [
        "### Creating  Pandas Series with custom index"
      ]
    },
    {
      "cell_type": "code",
      "execution_count": null,
      "id": "d7c71373",
      "metadata": {
        "id": "d7c71373"
      },
      "outputs": [],
      "source": [
        "nums = [1, 2, 3, 4, 5]\n",
        "s = pd.Series(nums, index=[1, 2, 3, 4, 5])\n",
        "print(s)"
      ]
    },
    {
      "cell_type": "code",
      "execution_count": null,
      "id": "bd47f441",
      "metadata": {
        "attributes": {
          "classes": [
            "sh"
          ],
          "id": ""
        },
        "id": "bd47f441"
      },
      "outputs": [],
      "source": [
        "    1    1\n",
        "    2    2\n",
        "    3    3\n",
        "    4    4\n",
        "    5    5\n",
        "    dtype: int64"
      ]
    },
    {
      "cell_type": "code",
      "execution_count": null,
      "id": "9093d121",
      "metadata": {
        "id": "9093d121"
      },
      "outputs": [],
      "source": [
        "fruits = ['Orange','Banana','Mango']\n",
        "fruits = pd.Series(fruits, index=[1, 2, 3])\n",
        "print(fruits)"
      ]
    },
    {
      "cell_type": "code",
      "execution_count": null,
      "id": "fab6bf10",
      "metadata": {
        "attributes": {
          "classes": [
            "sh"
          ],
          "id": ""
        },
        "id": "fab6bf10"
      },
      "outputs": [],
      "source": [
        "    1    Orange\n",
        "    2    Banana\n",
        "    3    Mango\n",
        "    dtype: object"
      ]
    },
    {
      "cell_type": "markdown",
      "id": "058a0da5",
      "metadata": {
        "id": "058a0da5"
      },
      "source": [
        "### Creating Pandas Series from a Dictionary"
      ]
    },
    {
      "cell_type": "code",
      "execution_count": null,
      "id": "944ecf99",
      "metadata": {
        "id": "944ecf99"
      },
      "outputs": [],
      "source": [
        "dct = {'name':'Asabeneh','country':'Finland','city':'Helsinki'}"
      ]
    },
    {
      "cell_type": "code",
      "execution_count": null,
      "id": "3c7bab2d",
      "metadata": {
        "id": "3c7bab2d"
      },
      "outputs": [],
      "source": [
        "s = pd.Series(dct)\n",
        "print(s)"
      ]
    },
    {
      "cell_type": "code",
      "execution_count": null,
      "id": "3f1ab9b0",
      "metadata": {
        "attributes": {
          "classes": [
            "sh"
          ],
          "id": ""
        },
        "id": "3f1ab9b0"
      },
      "outputs": [],
      "source": [
        "    name       Asabeneh\n",
        "    country     Finland\n",
        "    city       Helsinki\n",
        "    dtype: object"
      ]
    },
    {
      "cell_type": "markdown",
      "id": "2d244060",
      "metadata": {
        "id": "2d244060"
      },
      "source": [
        "### Creating a Constant Pandas Series"
      ]
    },
    {
      "cell_type": "code",
      "execution_count": null,
      "id": "6c2d1780",
      "metadata": {
        "id": "6c2d1780"
      },
      "outputs": [],
      "source": [
        "s = pd.Series(10, index = [1, 2, 3])\n",
        "print(s)"
      ]
    },
    {
      "cell_type": "code",
      "execution_count": null,
      "id": "e5686767",
      "metadata": {
        "attributes": {
          "classes": [
            "sh"
          ],
          "id": ""
        },
        "id": "e5686767"
      },
      "outputs": [],
      "source": [
        "    1    10\n",
        "    2    10\n",
        "    3    10\n",
        "    dtype: int64"
      ]
    },
    {
      "cell_type": "markdown",
      "id": "306c91ef",
      "metadata": {
        "id": "306c91ef"
      },
      "source": [
        "### Creating a  Pandas Series Using Linspace"
      ]
    },
    {
      "cell_type": "code",
      "execution_count": null,
      "id": "2a3b28a3",
      "metadata": {
        "id": "2a3b28a3"
      },
      "outputs": [],
      "source": [
        "s = pd.Series(np.linspace(5, 20, 10)) # linspace(starting, end, items)\n",
        "print(s)"
      ]
    },
    {
      "cell_type": "code",
      "execution_count": null,
      "id": "f16c87dd",
      "metadata": {
        "attributes": {
          "classes": [
            "sh"
          ],
          "id": ""
        },
        "id": "f16c87dd"
      },
      "outputs": [],
      "source": [
        "    0     5.000000\n",
        "    1     6.666667\n",
        "    2     8.333333\n",
        "    3    10.000000\n",
        "    4    11.666667\n",
        "    5    13.333333\n",
        "    6    15.000000\n",
        "    7    16.666667\n",
        "    8    18.333333\n",
        "    9    20.000000\n",
        "    dtype: float64"
      ]
    },
    {
      "cell_type": "markdown",
      "id": "b5ad3d25",
      "metadata": {
        "id": "b5ad3d25"
      },
      "source": [
        "## DataFrames\n",
        "\n",
        "Pandas data frames can be created in different ways.\n",
        "\n",
        "### Creating DataFrames from List of Lists"
      ]
    },
    {
      "cell_type": "code",
      "execution_count": null,
      "id": "843273d0",
      "metadata": {
        "id": "843273d0"
      },
      "outputs": [],
      "source": [
        "data = [\n",
        "    ['Asabeneh', 'Finland', 'Helsink'],\n",
        "    ['David', 'UK', 'London'],\n",
        "    ['John', 'Sweden', 'Stockholm']\n",
        "]\n",
        "df = pd.DataFrame(data, columns=['Names','Country','City'])\n",
        "print(df)"
      ]
    },
    {
      "cell_type": "markdown",
      "id": "994904f4",
      "metadata": {
        "id": "994904f4"
      },
      "source": [
        "<table border=\"1\" class=\"dataframe\">\n",
        "  <thead>\n",
        "    <tr style=\"text-align: right;\">\n",
        "      <th></th>\n",
        "      <th>Names</th>\n",
        "      <th>Country</th>\n",
        "      <th>City</th>\n",
        "    </tr>\n",
        "  </thead>\n",
        "  <tbody>\n",
        "    <tr>\n",
        "      <td>0</td>\n",
        "      <td>Asabeneh</td>\n",
        "      <td>Finland</td>\n",
        "      <td>Helsink</td>\n",
        "    </tr>\n",
        "    <tr>\n",
        "      <td>1</td>\n",
        "      <td>David</td>\n",
        "      <td>UK</td>\n",
        "      <td>London</td>\n",
        "    </tr>\n",
        "    <tr>\n",
        "      <td>2</td>\n",
        "      <td>John</td>\n",
        "      <td>Sweden</td>\n",
        "      <td>Stockholm</td>\n",
        "    </tr>\n",
        "  </tbody>\n",
        "</table>\n",
        "\n",
        "### Creating DataFrame Using Dictionary"
      ]
    },
    {
      "cell_type": "code",
      "execution_count": null,
      "id": "a9bc8d7c",
      "metadata": {
        "id": "a9bc8d7c"
      },
      "outputs": [],
      "source": [
        "data = {'Name': ['Asabeneh', 'David', 'John'], 'Country':[\n",
        "    'Finland', 'UK', 'Sweden'], 'City': ['Helsiki', 'London', 'Stockholm']}\n",
        "df = pd.DataFrame(data)\n",
        "print(df)"
      ]
    },
    {
      "cell_type": "markdown",
      "id": "c7c21d11",
      "metadata": {
        "id": "c7c21d11"
      },
      "source": [
        "<table border=\"1\" class=\"dataframe\">\n",
        "  <thead>\n",
        "    <tr style=\"text-align: right;\">\n",
        "      <th></th>\n",
        "      <th>Name</th>\n",
        "      <th>Country</th>\n",
        "      <th>City</th>\n",
        "    </tr>\n",
        "  </thead>\n",
        "  <tbody>\n",
        "    <tr>\n",
        "      <td>0</td>\n",
        "      <td>Asabeneh</td>\n",
        "      <td>Finland</td>\n",
        "      <td>Helsiki</td>\n",
        "    </tr>\n",
        "    <tr>\n",
        "      <td>1</td>\n",
        "      <td>David</td>\n",
        "      <td>UK</td>\n",
        "      <td>London</td>\n",
        "    </tr>\n",
        "    <tr>\n",
        "      <td>2</td>\n",
        "      <td>John</td>\n",
        "      <td>Sweden</td>\n",
        "      <td>Stockholm</td>\n",
        "    </tr>\n",
        "  </tbody>\n",
        "</table>\n",
        "\n",
        "### Creating DataFrames from a List of Dictionaries"
      ]
    },
    {
      "cell_type": "code",
      "execution_count": null,
      "id": "9f081c9a",
      "metadata": {
        "id": "9f081c9a"
      },
      "outputs": [],
      "source": [
        "data = [\n",
        "    {'Name': 'Asabeneh', 'Country': 'Finland', 'City': 'Helsinki'},\n",
        "    {'Name': 'David', 'Country': 'UK', 'City': 'London'},\n",
        "    {'Name': 'John', 'Country': 'Sweden', 'City': 'Stockholm'}]\n",
        "df = pd.DataFrame(data)\n",
        "print(df)"
      ]
    },
    {
      "cell_type": "markdown",
      "id": "bf6393af",
      "metadata": {
        "id": "bf6393af"
      },
      "source": [
        "<table border=\"1\" class=\"dataframe\">\n",
        "  <thead>\n",
        "    <tr style=\"text-align: right;\">\n",
        "      <th></th>\n",
        "      <th>Name</th>\n",
        "      <th>Country</th>\n",
        "      <th>City</th>\n",
        "    </tr>\n",
        "  </thead>\n",
        "  <tbody>\n",
        "    <tr>\n",
        "      <td>0</td>\n",
        "      <td>Asabeneh</td>\n",
        "      <td>Finland</td>\n",
        "      <td>Helsinki</td>\n",
        "    </tr>\n",
        "    <tr>\n",
        "      <td>1</td>\n",
        "      <td>David</td>\n",
        "      <td>UK</td>\n",
        "      <td>London</td>\n",
        "    </tr>\n",
        "    <tr>\n",
        "      <td>2</td>\n",
        "      <td>John</td>\n",
        "      <td>Sweden</td>\n",
        "      <td>Stockholm</td>\n",
        "    </tr>\n",
        "  </tbody>\n",
        "</table>\n",
        "\n",
        "## Reading CSV File Using Pandas\n",
        "\n",
        "To download the CSV file, what is needed in this example, console/command line is enough:"
      ]
    },
    {
      "cell_type": "code",
      "execution_count": null,
      "id": "19b21518",
      "metadata": {
        "attributes": {
          "classes": [
            "sh"
          ],
          "id": ""
        },
        "id": "19b21518"
      },
      "outputs": [],
      "source": [
        "curl -O https://raw.githubusercontent.com/Asabeneh/30-Days-Of-Python/master/data/weight-height.csv"
      ]
    },
    {
      "cell_type": "markdown",
      "id": "7c2534e7",
      "metadata": {
        "id": "7c2534e7"
      },
      "source": [
        "Put the downloaded file in your working directory."
      ]
    },
    {
      "cell_type": "code",
      "execution_count": null,
      "id": "78e1529e",
      "metadata": {
        "id": "78e1529e"
      },
      "outputs": [],
      "source": [
        "import pandas as pd\n",
        "\n",
        "df = pd.read_csv('weight-height.csv')\n",
        "print(df)"
      ]
    },
    {
      "cell_type": "markdown",
      "id": "4e08947d",
      "metadata": {
        "id": "4e08947d"
      },
      "source": [
        "### Data Exploration\n",
        "\n",
        "Let us read only the first 5 rows using head()"
      ]
    },
    {
      "cell_type": "code",
      "execution_count": null,
      "id": "5826bb19",
      "metadata": {
        "id": "5826bb19"
      },
      "outputs": [],
      "source": [
        "print(df.head()) # give five rows we can increase the number of rows by passing argument to the head() method"
      ]
    },
    {
      "cell_type": "markdown",
      "id": "b9ada300",
      "metadata": {
        "id": "b9ada300"
      },
      "source": [
        "<table border=\"1\" class=\"dataframe\">\n",
        "  <thead>\n",
        "    <tr style=\"text-align: right;\">\n",
        "      <th></th>\n",
        "      <th>Gender</th>\n",
        "      <th>Height</th>\n",
        "      <th>Weight</th>\n",
        "    </tr>\n",
        "  </thead>\n",
        "  <tbody>\n",
        "    <tr>\n",
        "      <td>0</td>\n",
        "      <td>Male</td>\n",
        "      <td>73.847017</td>\n",
        "      <td>241.893563</td>\n",
        "    </tr>\n",
        "    <tr>\n",
        "      <td>1</td>\n",
        "      <td>Male</td>\n",
        "      <td>68.781904</td>\n",
        "      <td>162.310473</td>\n",
        "    </tr>\n",
        "    <tr>\n",
        "      <td>2</td>\n",
        "      <td>Male</td>\n",
        "      <td>74.110105</td>\n",
        "      <td>212.740856</td>\n",
        "    </tr>\n",
        "    <tr>\n",
        "      <td>3</td>\n",
        "      <td>Male</td>\n",
        "      <td>71.730978</td>\n",
        "      <td>220.042470</td>\n",
        "    </tr>\n",
        "    <tr>\n",
        "      <td>4</td>\n",
        "      <td>Male</td>\n",
        "      <td>69.881796</td>\n",
        "      <td>206.349801</td>\n",
        "    </tr>\n",
        "  </tbody>\n",
        "</table>\n",
        "\n",
        "Let us also explore the last recordings of the dataframe using the tail() methods."
      ]
    },
    {
      "cell_type": "code",
      "execution_count": null,
      "id": "c7250e57",
      "metadata": {
        "id": "c7250e57"
      },
      "outputs": [],
      "source": [
        "print(df.tail()) # tails give the last five rows, we can increase the rows by passing argument to tail method"
      ]
    },
    {
      "cell_type": "markdown",
      "id": "27605f22",
      "metadata": {
        "id": "27605f22"
      },
      "source": [
        "<table border=\"1\" class=\"dataframe\">\n",
        "  <thead>\n",
        "    <tr style=\"text-align: right;\">\n",
        "      <th></th>\n",
        "      <th>Gender</th>\n",
        "      <th>Height</th>\n",
        "      <th>Weight</th>\n",
        "    </tr>\n",
        "  </thead>\n",
        "  <tbody>\n",
        "    <tr>\n",
        "      <td>9995</td>\n",
        "      <td>Female</td>\n",
        "      <td>66.172652</td>\n",
        "      <td>136.777454</td>\n",
        "    </tr>\n",
        "    <tr>\n",
        "      <td>9996</td>\n",
        "      <td>Female</td>\n",
        "      <td>67.067155</td>\n",
        "      <td>170.867906</td>\n",
        "    </tr>\n",
        "    <tr>\n",
        "      <td>9997</td>\n",
        "      <td>Female</td>\n",
        "      <td>63.867992</td>\n",
        "      <td>128.475319</td>\n",
        "    </tr>\n",
        "    <tr>\n",
        "      <td>9998</td>\n",
        "      <td>Female</td>\n",
        "      <td>69.034243</td>\n",
        "      <td>163.852461</td>\n",
        "    </tr>\n",
        "    <tr>\n",
        "      <td>9999</td>\n",
        "      <td>Female</td>\n",
        "      <td>61.944246</td>\n",
        "      <td>113.649103</td>\n",
        "    </tr>\n",
        "  </tbody>\n",
        "</table>\n",
        "\n",
        "As you can see the csv file has three rows: Gender, Height and Weight. If the DataFrame would have a long rows, it would be hard to know all the columns. Therefore, we should use a method to know the colums.  we do not know the number of rows. Let's use shape meathod."
      ]
    },
    {
      "cell_type": "code",
      "execution_count": null,
      "id": "91a4926b",
      "metadata": {
        "id": "91a4926b"
      },
      "outputs": [],
      "source": [
        "print(df.shape) # as you can see 10000 rows and three columns"
      ]
    },
    {
      "cell_type": "code",
      "execution_count": null,
      "id": "8ac4cf49",
      "metadata": {
        "id": "8ac4cf49"
      },
      "outputs": [],
      "source": [
        "(10000, 3)"
      ]
    },
    {
      "cell_type": "markdown",
      "id": "048f1dec",
      "metadata": {
        "id": "048f1dec"
      },
      "source": [
        "Let us get all the columns using columns."
      ]
    },
    {
      "cell_type": "code",
      "execution_count": null,
      "id": "4cf208c8",
      "metadata": {
        "id": "4cf208c8"
      },
      "outputs": [],
      "source": [
        "print(df.columns)"
      ]
    },
    {
      "cell_type": "code",
      "execution_count": null,
      "id": "7a890772",
      "metadata": {
        "id": "7a890772"
      },
      "outputs": [],
      "source": [
        "Index(['Gender', 'Height', 'Weight'], dtype='object')"
      ]
    },
    {
      "cell_type": "markdown",
      "id": "8c1aac18",
      "metadata": {
        "id": "8c1aac18"
      },
      "source": [
        "Now, let us get a specific column using the column key"
      ]
    },
    {
      "cell_type": "code",
      "execution_count": null,
      "id": "f676dbc2",
      "metadata": {
        "id": "f676dbc2"
      },
      "outputs": [],
      "source": [
        "heights = df['Height'] # this is now a series"
      ]
    },
    {
      "cell_type": "code",
      "execution_count": null,
      "id": "3f80fcad",
      "metadata": {
        "id": "3f80fcad"
      },
      "outputs": [],
      "source": [
        "print(heights)"
      ]
    },
    {
      "cell_type": "code",
      "execution_count": null,
      "id": "1f553d5e",
      "metadata": {
        "attributes": {
          "classes": [
            "sh"
          ],
          "id": ""
        },
        "id": "1f553d5e"
      },
      "outputs": [],
      "source": [
        "    0       73.847017\n",
        "    1       68.781904\n",
        "    2       74.110105\n",
        "    3       71.730978\n",
        "    4       69.881796\n",
        "              ...\n",
        "    9995    66.172652\n",
        "    9996    67.067155\n",
        "    9997    63.867992\n",
        "    9998    69.034243\n",
        "    9999    61.944246\n",
        "    Name: Height, Length: 10000, dtype: float64"
      ]
    },
    {
      "cell_type": "code",
      "execution_count": null,
      "id": "e30d6f58",
      "metadata": {
        "id": "e30d6f58"
      },
      "outputs": [],
      "source": [
        "weights = df['Weight'] # this is now a series"
      ]
    },
    {
      "cell_type": "code",
      "execution_count": null,
      "id": "5b32d47a",
      "metadata": {
        "id": "5b32d47a"
      },
      "outputs": [],
      "source": [
        "print(weights)"
      ]
    },
    {
      "cell_type": "code",
      "execution_count": null,
      "id": "7911be22",
      "metadata": {
        "attributes": {
          "classes": [
            "sh"
          ],
          "id": ""
        },
        "id": "7911be22"
      },
      "outputs": [],
      "source": [
        "    0       241.893563\n",
        "    1       162.310473\n",
        "    2       212.740856\n",
        "    3       220.042470\n",
        "    4       206.349801\n",
        "               ...\n",
        "    9995    136.777454\n",
        "    9996    170.867906\n",
        "    9997    128.475319\n",
        "    9998    163.852461\n",
        "    9999    113.649103\n",
        "    Name: Weight, Length: 10000, dtype: float64"
      ]
    },
    {
      "cell_type": "code",
      "execution_count": null,
      "id": "2b864134",
      "metadata": {
        "id": "2b864134"
      },
      "outputs": [],
      "source": [
        "print(len(heights) == len(weights))"
      ]
    },
    {
      "cell_type": "code",
      "execution_count": null,
      "id": "d826138c",
      "metadata": {
        "id": "d826138c"
      },
      "outputs": [],
      "source": [
        "True"
      ]
    },
    {
      "cell_type": "markdown",
      "id": "e08d2bac",
      "metadata": {
        "id": "e08d2bac"
      },
      "source": [
        "The describe() method provides a descriptive statistical values of a dataset."
      ]
    },
    {
      "cell_type": "code",
      "execution_count": null,
      "id": "28b3de0e",
      "metadata": {
        "id": "28b3de0e"
      },
      "outputs": [],
      "source": [
        "print(heights.describe()) # give statisical information about height data"
      ]
    },
    {
      "cell_type": "code",
      "execution_count": null,
      "id": "b532fdae",
      "metadata": {
        "attributes": {
          "classes": [
            "sh"
          ],
          "id": ""
        },
        "id": "b532fdae"
      },
      "outputs": [],
      "source": [
        "    count    10000.000000\n",
        "    mean        66.367560\n",
        "    std          3.847528\n",
        "    min         54.263133\n",
        "    25%         63.505620\n",
        "    50%         66.318070\n",
        "    75%         69.174262\n",
        "    max         78.998742\n",
        "    Name: Height, dtype: float64"
      ]
    },
    {
      "cell_type": "code",
      "execution_count": null,
      "id": "b0d69181",
      "metadata": {
        "id": "b0d69181"
      },
      "outputs": [],
      "source": [
        "print(weights.describe())"
      ]
    },
    {
      "cell_type": "code",
      "execution_count": null,
      "id": "219ffdec",
      "metadata": {
        "attributes": {
          "classes": [
            "sh"
          ],
          "id": ""
        },
        "id": "219ffdec"
      },
      "outputs": [],
      "source": [
        "    count    10000.000000\n",
        "    mean       161.440357\n",
        "    std         32.108439\n",
        "    min         64.700127\n",
        "    25%        135.818051\n",
        "    50%        161.212928\n",
        "    75%        187.169525\n",
        "    max        269.989699\n",
        "    Name: Weight, dtype: float64"
      ]
    },
    {
      "cell_type": "code",
      "execution_count": null,
      "id": "2e9071a0",
      "metadata": {
        "id": "2e9071a0"
      },
      "outputs": [],
      "source": [
        "print(df.describe())  # describe can also give statistical information from a dataFrame"
      ]
    },
    {
      "cell_type": "markdown",
      "id": "9fee1717",
      "metadata": {
        "id": "9fee1717"
      },
      "source": [
        "<table border=\"1\" class=\"dataframe\">\n",
        "  <thead>\n",
        "    <tr style=\"text-align: right;\">\n",
        "      <th></th>\n",
        "      <th>Height</th>\n",
        "      <th>Weight</th>\n",
        "    </tr>\n",
        "  </thead>\n",
        "  <tbody>\n",
        "    <tr>\n",
        "      <td>count</td>\n",
        "      <td>10000.000000</td>\n",
        "      <td>10000.000000</td>\n",
        "    </tr>\n",
        "    <tr>\n",
        "      <td>mean</td>\n",
        "      <td>66.367560</td>\n",
        "      <td>161.440357</td>\n",
        "    </tr>\n",
        "    <tr>\n",
        "      <td>std</td>\n",
        "      <td>3.847528</td>\n",
        "      <td>32.108439</td>\n",
        "    </tr>\n",
        "    <tr>\n",
        "      <td>min</td>\n",
        "      <td>54.263133</td>\n",
        "      <td>64.700127</td>\n",
        "    </tr>\n",
        "    <tr>\n",
        "      <td>25%</td>\n",
        "      <td>63.505620</td>\n",
        "      <td>135.818051</td>\n",
        "    </tr>\n",
        "    <tr>\n",
        "      <td>50%</td>\n",
        "      <td>66.318070</td>\n",
        "      <td>161.212928</td>\n",
        "    </tr>\n",
        "    <tr>\n",
        "      <td>75%</td>\n",
        "      <td>69.174262</td>\n",
        "      <td>187.169525</td>\n",
        "    </tr>\n",
        "    <tr>\n",
        "      <td>max</td>\n",
        "      <td>78.998742</td>\n",
        "      <td>269.989699</td>\n",
        "    </tr>\n",
        "  </tbody>\n",
        "</table>\n",
        "\n",
        "Similar to describe(), the info() method also give information about the dataset.\n",
        "\n",
        "## Modifying a DataFrame\n",
        "\n",
        "Modifying a DataFrame:\n",
        "    * We can create a new DataFrame\n",
        "    * We can create a new column and add it to the DataFrame,\n",
        "    * we can remove an existing column from a DataFrame,\n",
        "    * we can modify an existing column in a DataFrame,\n",
        "    * we can change the data type of column values in the DataFrame\n",
        "\n",
        "### Creating a DataFrame\n",
        "\n",
        "As always, first we import the necessary packages. Now, lets import pandas and numpy, two best friends ever."
      ]
    },
    {
      "cell_type": "code",
      "execution_count": null,
      "id": "f733a23e",
      "metadata": {
        "id": "f733a23e"
      },
      "outputs": [],
      "source": [
        "import pandas as pd\n",
        "import numpy as np\n",
        "data = [\n",
        "    {\"Name\": \"Asabeneh\", \"Country\":\"Finland\",\"City\":\"Helsinki\"},\n",
        "    {\"Name\": \"David\", \"Country\":\"UK\",\"City\":\"London\"},\n",
        "    {\"Name\": \"John\", \"Country\":\"Sweden\",\"City\":\"Stockholm\"}]\n",
        "df = pd.DataFrame(data)\n",
        "print(df)"
      ]
    },
    {
      "cell_type": "markdown",
      "id": "e580b16b",
      "metadata": {
        "id": "e580b16b"
      },
      "source": [
        "<table border=\"1\" class=\"dataframe\">\n",
        "  <thead>\n",
        "    <tr style=\"text-align: right;\">\n",
        "      <th></th>\n",
        "      <th>Name</th>\n",
        "      <th>Country</th>\n",
        "      <th>City</th>\n",
        "    </tr>\n",
        "  </thead>\n",
        "  <tbody>\n",
        "    <tr>\n",
        "      <td>0</td>\n",
        "      <td>Asabeneh</td>\n",
        "      <td>Finland</td>\n",
        "      <td>Helsinki</td>\n",
        "    </tr>\n",
        "    <tr>\n",
        "      <td>1</td>\n",
        "      <td>David</td>\n",
        "      <td>UK</td>\n",
        "      <td>London</td>\n",
        "    </tr>\n",
        "    <tr>\n",
        "      <td>2</td>\n",
        "      <td>John</td>\n",
        "      <td>Sweden</td>\n",
        "      <td>Stockholm</td>\n",
        "    </tr>\n",
        "  </tbody>\n",
        "</table>\n",
        "\n",
        "Adding a column to a DataFrame is like adding a key to a dictionary.\n",
        "\n",
        "First let's use the previous example to create a DataFrame. After we create the DataFrame, we will start modifying the columns and column values.\n",
        "\n",
        "### Adding a New Column\n",
        "\n",
        "Let's add a weight column in the DataFrame"
      ]
    },
    {
      "cell_type": "code",
      "execution_count": null,
      "id": "41e3a591",
      "metadata": {
        "id": "41e3a591"
      },
      "outputs": [],
      "source": [
        "weights = [74, 78, 69]\n",
        "df['Weight'] = weights\n",
        "df"
      ]
    },
    {
      "cell_type": "markdown",
      "id": "f2f9450d",
      "metadata": {
        "id": "f2f9450d"
      },
      "source": [
        "<table border=\"1\" class=\"dataframe\">\n",
        "  <thead>\n",
        "    <tr style=\"text-align: right;\">\n",
        "      <th></th>\n",
        "      <th>Name</th>\n",
        "      <th>Country</th>\n",
        "      <th>City</th>\n",
        "      <th>Weight</th>\n",
        "    </tr>\n",
        "  </thead>\n",
        "  <tbody>\n",
        "    <tr>\n",
        "      <td>0</td>\n",
        "      <td>Asabeneh</td>\n",
        "      <td>Finland</td>\n",
        "      <td>Helsinki</td>\n",
        "      <td>74</td>\n",
        "    </tr>\n",
        "    <tr>\n",
        "      <td>1</td>\n",
        "      <td>David</td>\n",
        "      <td>UK</td>\n",
        "      <td>London</td>\n",
        "      <td>78</td>\n",
        "    </tr>\n",
        "    <tr>\n",
        "      <td>2</td>\n",
        "      <td>John</td>\n",
        "      <td>Sweden</td>\n",
        "      <td>Stockholm</td>\n",
        "      <td>69</td>\n",
        "    </tr>\n",
        "  </tbody>\n",
        "</table>\n",
        "\n",
        "Let's add a height column into the DataFrame aswell"
      ]
    },
    {
      "cell_type": "code",
      "execution_count": null,
      "id": "a2e62553",
      "metadata": {
        "id": "a2e62553"
      },
      "outputs": [],
      "source": [
        "heights = [173, 175, 169]\n",
        "df['Height'] = heights\n",
        "print(df)"
      ]
    },
    {
      "cell_type": "markdown",
      "id": "6e149afe",
      "metadata": {
        "id": "6e149afe"
      },
      "source": [
        "<table border=\"1\" class=\"dataframe\">\n",
        "  <thead>\n",
        "    <tr style=\"text-align: right;\">\n",
        "      <th></th>\n",
        "      <th>Name</th>\n",
        "      <th>Country</th>\n",
        "      <th>City</th>\n",
        "      <th>Weight</th>\n",
        "      <th>Height</th>\n",
        "    </tr>\n",
        "  </thead>\n",
        "  <tbody>\n",
        "    <tr>\n",
        "      <td>0</td>\n",
        "      <td>Asabeneh</td>\n",
        "      <td>Finland</td>\n",
        "      <td>Helsinki</td>\n",
        "      <td>74</td>\n",
        "      <td>173</td>\n",
        "    </tr>\n",
        "    <tr>\n",
        "      <td>1</td>\n",
        "      <td>David</td>\n",
        "      <td>UK</td>\n",
        "      <td>London</td>\n",
        "      <td>78</td>\n",
        "      <td>175</td>\n",
        "    </tr>\n",
        "    <tr>\n",
        "      <td>2</td>\n",
        "      <td>John</td>\n",
        "      <td>Sweden</td>\n",
        "      <td>Stockholm</td>\n",
        "      <td>69</td>\n",
        "      <td>169</td>\n",
        "    </tr>\n",
        "  </tbody>\n",
        "</table>\n",
        "\n",
        "As you can see in the DataFrame above, we did add new columns, Weight and Height. Let's add one additional column called BMI(Body Mass Index) by calculating their BMI using thier mass and height. BMI is mass divided by height squared (in meters) - Weight/Height * Height.\n",
        "\n",
        "As you can see, the height is in centimeters, so we shoud change it to meters. Let's modify the height row.\n",
        "\n",
        "### Modifying column values"
      ]
    },
    {
      "cell_type": "code",
      "execution_count": null,
      "id": "ab43d10d",
      "metadata": {
        "id": "ab43d10d"
      },
      "outputs": [],
      "source": [
        "df['Height'] = df['Height'] * 0.01\n",
        "df"
      ]
    },
    {
      "cell_type": "markdown",
      "id": "c891b759",
      "metadata": {
        "id": "c891b759"
      },
      "source": [
        "<table border=\"1\" class=\"dataframe\">\n",
        "  <thead>\n",
        "    <tr style=\"text-align: right;\">\n",
        "      <th></th>\n",
        "      <th>Name</th>\n",
        "      <th>Country</th>\n",
        "      <th>City</th>\n",
        "      <th>Weight</th>\n",
        "      <th>Height</th>\n",
        "    </tr>\n",
        "  </thead>\n",
        "  <tbody>\n",
        "    <tr>\n",
        "      <td>0</td>\n",
        "      <td>Asabeneh</td>\n",
        "      <td>Finland</td>\n",
        "      <td>Helsinki</td>\n",
        "      <td>74</td>\n",
        "      <td>1.73</td>\n",
        "    </tr>\n",
        "    <tr>\n",
        "      <td>1</td>\n",
        "      <td>David</td>\n",
        "      <td>UK</td>\n",
        "      <td>London</td>\n",
        "      <td>78</td>\n",
        "      <td>1.75</td>\n",
        "    </tr>\n",
        "    <tr>\n",
        "      <td>2</td>\n",
        "      <td>John</td>\n",
        "      <td>Sweden</td>\n",
        "      <td>Stockholm</td>\n",
        "      <td>69</td>\n",
        "      <td>1.69</td>\n",
        "    </tr>\n",
        "  </tbody>\n",
        "</table>"
      ]
    },
    {
      "cell_type": "code",
      "execution_count": null,
      "id": "cf2258a9",
      "metadata": {
        "id": "cf2258a9"
      },
      "outputs": [],
      "source": [
        "# Using functions makes our code clean, but you can calculate the bmi without one\n",
        "def calculate_bmi ():\n",
        "    weights = df['Weight']\n",
        "    heights = df['Height']\n",
        "    bmi = []\n",
        "    for w,h in zip(weights, heights):\n",
        "        b = w/(h*h)\n",
        "        bmi.append(b)\n",
        "    return bmi\n",
        "\n",
        "bmi = calculate_bmi()\n"
      ]
    },
    {
      "cell_type": "code",
      "execution_count": null,
      "id": "ee5c15b4",
      "metadata": {
        "id": "ee5c15b4"
      },
      "outputs": [],
      "source": [
        "df['BMI'] = bmi\n",
        "df"
      ]
    },
    {
      "cell_type": "markdown",
      "id": "8ccead30",
      "metadata": {
        "id": "8ccead30"
      },
      "source": [
        "<table border=\"1\" class=\"dataframe\">\n",
        "  <thead>\n",
        "    <tr style=\"text-align: right;\">\n",
        "      <th></th>\n",
        "      <th>Name</th>\n",
        "      <th>Country</th>\n",
        "      <th>City</th>\n",
        "      <th>Weight</th>\n",
        "      <th>Height</th>\n",
        "      <th>BMI</th>\n",
        "    </tr>\n",
        "  </thead>\n",
        "  <tbody>\n",
        "    <tr>\n",
        "      <td>0</td>\n",
        "      <td>Asabeneh</td>\n",
        "      <td>Finland</td>\n",
        "      <td>Helsinki</td>\n",
        "      <td>74</td>\n",
        "      <td>1.73</td>\n",
        "      <td>24.725183</td>\n",
        "    </tr>\n",
        "    <tr>\n",
        "      <td>1</td>\n",
        "      <td>David</td>\n",
        "      <td>UK</td>\n",
        "      <td>London</td>\n",
        "      <td>78</td>\n",
        "      <td>1.75</td>\n",
        "      <td>25.469388</td>\n",
        "    </tr>\n",
        "    <tr>\n",
        "      <td>2</td>\n",
        "      <td>John</td>\n",
        "      <td>Sweden</td>\n",
        "      <td>Stockholm</td>\n",
        "      <td>69</td>\n",
        "      <td>1.69</td>\n",
        "      <td>24.158818</td>\n",
        "    </tr>\n",
        "  </tbody>\n",
        "</table>\n",
        "\n",
        "### Formating DataFrame columns\n",
        "\n",
        "The BMI column values of the DataFrame are float with many significant digits after decimal. Let's change it to one significant digit after point."
      ]
    },
    {
      "cell_type": "code",
      "execution_count": null,
      "id": "e893e101",
      "metadata": {
        "id": "e893e101"
      },
      "outputs": [],
      "source": [
        "df['BMI'] = round(df['BMI'], 1)\n",
        "print(df)"
      ]
    },
    {
      "cell_type": "markdown",
      "id": "884d991c",
      "metadata": {
        "id": "884d991c"
      },
      "source": [
        "<table border=\"1\" class=\"dataframe\">\n",
        "  <thead>\n",
        "    <tr style=\"text-align: right;\">\n",
        "      <th></th>\n",
        "      <th>Name</th>\n",
        "      <th>Country</th>\n",
        "      <th>City</th>\n",
        "      <th>Weight</th>\n",
        "      <th>Height</th>\n",
        "      <th>BMI</th>\n",
        "    </tr>\n",
        "  </thead>\n",
        "  <tbody>\n",
        "    <tr>\n",
        "      <td>0</td>\n",
        "      <td>Asabeneh</td>\n",
        "      <td>Finland</td>\n",
        "      <td>Helsinki</td>\n",
        "      <td>74</td>\n",
        "      <td>1.73</td>\n",
        "      <td>24.7</td>\n",
        "    </tr>\n",
        "    <tr>\n",
        "      <td>1</td>\n",
        "      <td>David</td>\n",
        "      <td>UK</td>\n",
        "      <td>London</td>\n",
        "      <td>78</td>\n",
        "      <td>1.75</td>\n",
        "      <td>25.5</td>\n",
        "    </tr>\n",
        "    <tr>\n",
        "      <td>2</td>\n",
        "      <td>John</td>\n",
        "      <td>Sweden</td>\n",
        "      <td>Stockholm</td>\n",
        "      <td>69</td>\n",
        "      <td>1.69</td>\n",
        "      <td>24.2</td>\n",
        "    </tr>\n",
        "  </tbody>\n",
        "</table>\n",
        "\n",
        "The information in the DataFrame seems not yet complete, let's add birth year and current year columns."
      ]
    },
    {
      "cell_type": "code",
      "execution_count": null,
      "id": "b2d3ec29",
      "metadata": {
        "id": "b2d3ec29"
      },
      "outputs": [],
      "source": [
        "birth_year = ['1769', '1985', '1990']\n",
        "current_year = pd.Series(2020, index=[0, 1,2])\n",
        "df['Birth Year'] = birth_year\n",
        "df['Current Year'] = current_year\n",
        "df"
      ]
    },
    {
      "cell_type": "markdown",
      "id": "448a9675",
      "metadata": {
        "id": "448a9675"
      },
      "source": [
        "<table border=\"1\" class=\"dataframe\">\n",
        "  <thead>\n",
        "    <tr style=\"text-align: right;\">\n",
        "      <th></th>\n",
        "      <th>Name</th>\n",
        "      <th>Country</th>\n",
        "      <th>City</th>\n",
        "      <th>Weight</th>\n",
        "      <th>Height</th>\n",
        "      <th>BMI</th>\n",
        "      <th>Birth Year</th>\n",
        "      <th>Current Year</th>\n",
        "    </tr>\n",
        "  </thead>\n",
        "  <tbody>\n",
        "    <tr>\n",
        "      <td>0</td>\n",
        "      <td>Asabeneh</td>\n",
        "      <td>Finland</td>\n",
        "      <td>Helsinki</td>\n",
        "      <td>74</td>\n",
        "      <td>1.73</td>\n",
        "      <td>24.7</td>\n",
        "      <td>1769</td>\n",
        "      <td>2020</td>\n",
        "    </tr>\n",
        "    <tr>\n",
        "      <td>1</td>\n",
        "      <td>David</td>\n",
        "      <td>UK</td>\n",
        "      <td>London</td>\n",
        "      <td>78</td>\n",
        "      <td>1.75</td>\n",
        "      <td>25.5</td>\n",
        "      <td>1985</td>\n",
        "      <td>2020</td>\n",
        "    </tr>\n",
        "    <tr>\n",
        "      <td>2</td>\n",
        "      <td>John</td>\n",
        "      <td>Sweden</td>\n",
        "      <td>Stockholm</td>\n",
        "      <td>69</td>\n",
        "      <td>1.69</td>\n",
        "      <td>24.2</td>\n",
        "      <td>1990</td>\n",
        "      <td>2020</td>\n",
        "    </tr>\n",
        "  </tbody>\n",
        "</table>\n",
        "\n",
        "## Checking data types of Column values"
      ]
    },
    {
      "cell_type": "code",
      "execution_count": null,
      "id": "d6cd289d",
      "metadata": {
        "id": "d6cd289d"
      },
      "outputs": [],
      "source": [
        "print(df.Weight.dtype)"
      ]
    },
    {
      "cell_type": "code",
      "execution_count": null,
      "id": "ce3beb93",
      "metadata": {
        "attributes": {
          "classes": [
            "sh"
          ],
          "id": ""
        },
        "id": "ce3beb93"
      },
      "outputs": [],
      "source": [
        "    dtype('int64')"
      ]
    },
    {
      "cell_type": "code",
      "execution_count": null,
      "id": "40734cc6",
      "metadata": {
        "id": "40734cc6"
      },
      "outputs": [],
      "source": [
        "df['Birth Year'].dtype # it gives string object , we should change this to number\n"
      ]
    },
    {
      "cell_type": "code",
      "execution_count": null,
      "id": "346c07cd",
      "metadata": {
        "id": "346c07cd"
      },
      "outputs": [],
      "source": [
        "df['Birth Year'] = df['Birth Year'].astype('int')\n",
        "print(df['Birth Year'].dtype) # let's check the data type now"
      ]
    },
    {
      "cell_type": "code",
      "execution_count": null,
      "id": "9dcc03d8",
      "metadata": {
        "attributes": {
          "classes": [
            "sh"
          ],
          "id": ""
        },
        "id": "9dcc03d8"
      },
      "outputs": [],
      "source": [
        "    dtype('int32')"
      ]
    },
    {
      "cell_type": "markdown",
      "id": "387c8e10",
      "metadata": {
        "id": "387c8e10"
      },
      "source": [
        "Now same for the current year:"
      ]
    },
    {
      "cell_type": "code",
      "execution_count": null,
      "id": "6bdb6e9a",
      "metadata": {
        "id": "6bdb6e9a"
      },
      "outputs": [],
      "source": [
        "df['Current Year'] = df['Current Year'].astype('int')\n",
        "df['Current Year'].dtype"
      ]
    },
    {
      "cell_type": "code",
      "execution_count": null,
      "id": "972e9d29",
      "metadata": {
        "attributes": {
          "classes": [
            "sh"
          ],
          "id": ""
        },
        "id": "972e9d29"
      },
      "outputs": [],
      "source": [
        "    dtype('int32')"
      ]
    },
    {
      "cell_type": "markdown",
      "id": "db93aed2",
      "metadata": {
        "id": "db93aed2"
      },
      "source": [
        "Now, the column values of birth year and current year are integers. We can calculate the age."
      ]
    },
    {
      "cell_type": "code",
      "execution_count": null,
      "id": "a8ee5381",
      "metadata": {
        "id": "a8ee5381"
      },
      "outputs": [],
      "source": [
        "ages = df['Current Year'] - df['Birth Year']\n",
        "ages"
      ]
    },
    {
      "cell_type": "code",
      "execution_count": null,
      "id": "42721328",
      "metadata": {
        "id": "42721328"
      },
      "outputs": [],
      "source": [
        "0    251\n",
        "1     35\n",
        "2     30\n",
        "dtype: int32"
      ]
    },
    {
      "cell_type": "code",
      "execution_count": null,
      "id": "1b03e5cd",
      "metadata": {
        "id": "1b03e5cd"
      },
      "outputs": [],
      "source": [
        "df['Ages'] = ages\n",
        "print(df)"
      ]
    },
    {
      "cell_type": "markdown",
      "id": "113ab4bf",
      "metadata": {
        "id": "113ab4bf"
      },
      "source": [
        "<table border=\"1\" class=\"dataframe\">\n",
        "  <thead>\n",
        "    <tr style=\"text-align: right;\">\n",
        "      <th></th>\n",
        "      <th>Name</th>\n",
        "      <th>Country</th>\n",
        "      <th>City</th>\n",
        "      <th>Weight</th>\n",
        "      <th>Height</th>\n",
        "      <th>BMI</th>\n",
        "      <th>Birth Year</th>\n",
        "      <th>Current Year</th>\n",
        "      <th>Ages</th>\n",
        "    </tr>\n",
        "  </thead>\n",
        "  <tbody>\n",
        "    <tr>\n",
        "      <td>0</td>\n",
        "      <td>Asabeneh</td>\n",
        "      <td>Finland</td>\n",
        "      <td>Helsinki</td>\n",
        "      <td>74</td>\n",
        "      <td>1.73</td>\n",
        "      <td>24.7</td>\n",
        "      <td>1769</td>\n",
        "      <td>2019</td>\n",
        "      <td>250</td>\n",
        "    </tr>\n",
        "    <tr>\n",
        "      <td>1</td>\n",
        "      <td>David</td>\n",
        "      <td>UK</td>\n",
        "      <td>London</td>\n",
        "      <td>78</td>\n",
        "      <td>1.75</td>\n",
        "      <td>25.5</td>\n",
        "      <td>1985</td>\n",
        "      <td>2019</td>\n",
        "      <td>34</td>\n",
        "    </tr>\n",
        "    <tr>\n",
        "      <td>2</td>\n",
        "      <td>John</td>\n",
        "      <td>Sweden</td>\n",
        "      <td>Stockholm</td>\n",
        "      <td>69</td>\n",
        "      <td>1.69</td>\n",
        "      <td>24.2</td>\n",
        "      <td>1990</td>\n",
        "      <td>2019</td>\n",
        "      <td>29</td>\n",
        "    </tr>\n",
        "  </tbody>\n",
        "</table>\n",
        "\n",
        "The person in the first row lived so far for 251 years. It is unlikely for someone to live so long. Either it is a typo or the data is cooked. So lets fill that data with average of the columns without including outlier.\n",
        "\n",
        "mean = (35 + 30)/ 2"
      ]
    },
    {
      "cell_type": "code",
      "execution_count": null,
      "id": "81e7ad5e",
      "metadata": {
        "id": "81e7ad5e"
      },
      "outputs": [],
      "source": [
        "mean = (35 + 30)/ 2\n",
        "print('Mean: ',mean)\t#it is good to add some description to the output, so we know what is what"
      ]
    },
    {
      "cell_type": "code",
      "execution_count": null,
      "id": "f088e97d",
      "metadata": {
        "attributes": {
          "classes": [
            "sh"
          ],
          "id": ""
        },
        "id": "f088e97d"
      },
      "outputs": [],
      "source": [
        "   Mean:  32.5"
      ]
    },
    {
      "cell_type": "markdown",
      "id": "4e43f9a9",
      "metadata": {
        "id": "4e43f9a9"
      },
      "source": [
        "### Boolean Indexing"
      ]
    },
    {
      "cell_type": "code",
      "execution_count": null,
      "id": "e174a3f8",
      "metadata": {
        "id": "e174a3f8"
      },
      "outputs": [],
      "source": [
        "print(df[df['Ages'] > 120])"
      ]
    },
    {
      "cell_type": "markdown",
      "id": "4f69c4fc",
      "metadata": {
        "id": "4f69c4fc"
      },
      "source": [
        "<table border=\"1\" class=\"dataframe\">\n",
        "  <thead>\n",
        "    <tr style=\"text-align: right;\">\n",
        "      <th></th>\n",
        "      <th>Name</th>\n",
        "      <th>Country</th>\n",
        "      <th>City</th>\n",
        "      <th>Weight</th>\n",
        "      <th>Height</th>\n",
        "      <th>BMI</th>\n",
        "      <th>Birth Year</th>\n",
        "      <th>Current Year</th>\n",
        "      <th>Ages</th>\n",
        "    </tr>\n",
        "  </thead>\n",
        "  <tbody>\n",
        "    <tr>\n",
        "      <td>0</td>\n",
        "      <td>Asabeneh</td>\n",
        "      <td>Finland</td>\n",
        "      <td>Helsinki</td>\n",
        "      <td>74</td>\n",
        "      <td>1.73</td>\n",
        "      <td>24.7</td>\n",
        "      <td>1769</td>\n",
        "      <td>2020</td>\n",
        "      <td>251</td>\n",
        "    </tr>\n",
        "  </tbody>\n",
        "</table>"
      ]
    },
    {
      "cell_type": "code",
      "execution_count": null,
      "id": "5be84e35",
      "metadata": {
        "id": "5be84e35"
      },
      "outputs": [],
      "source": [
        "print(df[df['Ages'] < 120])"
      ]
    },
    {
      "cell_type": "markdown",
      "id": "02fa090c",
      "metadata": {
        "id": "02fa090c"
      },
      "source": [
        "<table border=\"1\" class=\"dataframe\">\n",
        "  <thead>\n",
        "    <tr style=\"text-align: right;\">\n",
        "      <th></th>\n",
        "      <th>Name</th>\n",
        "      <th>Country</th>\n",
        "      <th>City</th>\n",
        "      <th>Weight</th>\n",
        "      <th>Height</th>\n",
        "      <th>BMI</th>\n",
        "      <th>Birth Year</th>\n",
        "      <th>Current Year</th>\n",
        "      <th>Ages</th>\n",
        "    </tr>\n",
        "  </thead>\n",
        "  <tbody>\n",
        "    <tr>\n",
        "      <td>1</td>\n",
        "      <td>David</td>\n",
        "      <td>UK</td>\n",
        "      <td>London</td>\n",
        "      <td>78</td>\n",
        "      <td>1.75</td>\n",
        "      <td>25.5</td>\n",
        "      <td>1985</td>\n",
        "      <td>2020</td>\n",
        "      <td>35</td>\n",
        "    </tr>\n",
        "    <tr>\n",
        "      <td>2</td>\n",
        "      <td>John</td>\n",
        "      <td>Sweden</td>\n",
        "      <td>Stockholm</td>\n",
        "      <td>69</td>\n",
        "      <td>1.69</td>\n",
        "      <td>24.2</td>\n",
        "      <td>1990</td>\n",
        "      <td>2020</td>\n",
        "      <td>30</td>\n",
        "    </tr>\n",
        "  </tbody>\n",
        "</table>\n",
        "\n",
        "## Exercises: Day 25\n",
        "\n",
        "1. Read the hacker_news.csv file from data directory\n",
        "1. Get the first five rows\n",
        "1. Get the last five rows\n",
        "1. Get the title column as pandas series\n",
        "1. Count the number of rows and columns\n",
        "    - Filter the titles which contain python\n",
        "    - Filter the titles which contain JavaScript\n",
        "    - Explore the data and make sense of it\n",
        "\n",
        "🎉 CONGRATULATIONS ! 🎉\n",
        "\n",
        "[<< Day 24](../24_Day_Statistics/24_statistics.md) | [Day 26 >>](../26_Day_Python_web/26_python_web.md)"
      ]
    }
  ],
  "metadata": {
    "colab": {
      "provenance": [],
      "include_colab_link": true
    }
  },
  "nbformat": 4,
  "nbformat_minor": 5
}