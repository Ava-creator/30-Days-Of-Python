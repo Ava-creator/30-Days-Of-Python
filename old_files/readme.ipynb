{
 "cells": [
  {
   "cell_type": "markdown",
   "id": "00ffe8ce",
   "metadata": {},
   "source": [
    "![30DaysOfPython](./images/30DaysOfPython_banner3@2x.png)\n",
    "\n",
    "🧳 [Part 1: Day 1 - 3](https://github.com/Asabeneh/30-Days-Of-Python)  \n",
    "🧳 [Part 2: Day 4 - 6](https://github.com/Asabeneh/30-Days-Of-Python/blob/master/readme4-6.md)  \n",
    "🧳 [Part 3: Day 7 - 9](https://github.com/Asabeneh/30-Days-Of-Python/blob/master/readme7-9.md)  \n",
    "🧳 [Part 4: Day 10 - 12](https://github.com/Asabeneh/30-Days-Of-Python/blob/master/readme10-12.md)  \n",
    "🧳 [Part 5: Day 13 - 15](https://github.com/Asabeneh/30-Days-Of-Python/blob/master/readme13-15.md)  \n",
    "🧳 [Part 6: Day 16 - 18](https://github.com/Asabeneh/30-Days-Of-Python/blob/master/readme16-18.md)  \n",
    "🧳 [Part 7: Day 19 - 21](https://github.com/Asabeneh/30-Days-Of-Python/blob/master/readme19-21.md)  \n",
    "🧳 [Part 8: Day 22 - 24](https://github.com/Asabeneh/30-Days-Of-Python/blob/master/readme22-24.md)  \n",
    "🧳 [Part 9: Day 25 - 27](https://github.com/Asabeneh/30-Days-Of-Python/blob/master/readme25-27.md)  \n",
    "🧳 [Part 10: Day 28 - 30](https://github.com/Asabeneh/30-Days-Of-Python/blob/master/readme28-30.md) \n",
    "\n",
    "---\n",
    "\n",
    "- [📘 Day 1](#%f0%9f%93%98-day-1)\n",
    "  - [Welcome](#welcome)\n",
    "  - [Introduction](#introduction)\n",
    "  - [Why Python ?](#why-python)\n",
    "  - [Environment Setup](#environment-setup)\n",
    "    - [Installing Python](#installing-python)\n",
    "    - [Python Shell](#python-shell)\n",
    "    - [Installing Visual Studio Code](#installing-visual-studio-code)\n",
    "      - [How to use visual studio code](#how-to-use-visual-studio-code)\n",
    "  - [Basic Python](#basic-python)\n",
    "    - [Python Syntax](#python-syntax)\n",
    "    - [Python Indentation](#python-indentation)\n",
    "    - [Comment](#comment)\n",
    "    - [Data types](#data-types)\n",
    "      - [Number](#number)\n",
    "      - [String](#string)\n",
    "      - [Booleans](#booleans)\n",
    "      - [List](#list)\n",
    "      - [Dictionary](#dictionary)\n",
    "      - [Tuple](#tuple)\n",
    "      - [Set](#set)\n",
    "    - [Checking Data types](#checking-data-types)\n",
    "    - [Python File](#python-file)\n",
    "  - [💻 Exercises - Day 1](#%f0%9f%92%bb-exercises---day-1)\n",
    "- [📘 Day 2](#%f0%9f%93%98-day-2)\n",
    "  - [Built in functions](#built-in-functions)\n",
    "  - [Variables](#variables)\n",
    "  - [Data Types](#data-types-1)\n",
    "  - [Checking Data types and Casting](#checking-data-types-and-casting)\n",
    "  - [Number](#number-1)\n",
    "  - [💻 Exercises - Day 2](#%f0%9f%92%bb-exercises---day-2)\n",
    "- [📘 Day 3](#%f0%9f%93%98-day-3)\n",
    "  - [Boolean](#boolean)\n",
    "  - [Operators:](#operators)\n",
    "    - [Assignment Operators:](#assignment-operators)\n",
    "    - [Arithmetic Operators:](#arithmetic-operators)\n",
    "    - [Comparison Operators](#comparison-operators)\n",
    "    - [Logical Operators](#logical-operators)\n",
    "  - [💻 Exercises - Day 3](#%f0%9f%92%bb-exercises---day-3)\n",
    "\n",
    "# 📘 Day 1\n",
    "\n",
    "## Welcome\n",
    "\n",
    "**Congratulations** for deciding to participate in a **_30 days of Python_** programming challenge . In this challenge you will learn everything you need to be a python programmer and the whole concepts of programming. In the end of the challenge you will get a **_30DaysOfPython_** programming challenge certificate.\n",
    "\n",
    "[Join the telegram channel to get help](https://t.me/ThirtyDaysOfPython)\n",
    "\n",
    "## Introduction\n",
    "\n",
    "Python is a high-level programming language for general-purpose programming. It is an open source. This 30 days python challenge will help you learn the latest version of Python, Python 3 step by step. The topics are broken down into 30 days, where each days contains several topics with easy-to-understand explanations, real-world examples and many hands on exercises.\n",
    "\n",
    "This challenge is designed for beginners and professionals who want to learn python programming language.\n",
    "\n",
    "## Why Python ?\n",
    "\n",
    "It is a programming language which is very close to human language and because of that it is easy to learn and easy to use.\n",
    "Python used in varies industries including Google. It has been used to develop web applications, desktop applications, system adminstration, and machine learning libraries. Python is highly embraced language in the data science and machine learning community. I hope this is enough to convince you to start learning python. Python is eating the world and you are killing it before it eats you.\n",
    "\n",
    "## Environment Setup\n",
    "\n",
    "### Installing Python\n",
    "\n",
    "To run python script you need to install python. Let's [download](https://www.python.org/) python.\n",
    "If your are a windows user. Click the button encircled in red.\n",
    "\n",
    "[![installing on Windows](./images/installing_on_windows.png)](https://www.python.org/)\n",
    "\n",
    "If you are a macOS user. Click the button encircled in red.\n",
    "\n",
    "[![installing on Windows](./images/installing_on_macOS.png)](https://www.python.org/)\n",
    "\n",
    "To check if python is installed write the following command on your device terminal."
   ]
  },
  {
   "cell_type": "code",
   "execution_count": null,
   "id": "3dc0ff23",
   "metadata": {
    "attributes": {
     "classes": [
      "shell"
     ],
     "id": ""
    }
   },
   "outputs": [],
   "source": [
    "python --version"
   ]
  },
  {
   "cell_type": "markdown",
   "id": "68dbe335",
   "metadata": {},
   "source": [
    "![Python Version](./images/python_versio.png)\n",
    "\n",
    "As you can see from the terminal, I am using _python 3.7.5_ version at the moment. If you mange to see the python version, well done. Python has been installed on your machine. Continue to the next section.\n",
    "\n",
    "### Python Shell\n",
    "\n",
    "Python is an interpreted scripting language,so it doesn't need to be compiled. It means it executes the code line by line. Python comes with a _Python Shell (Python Interactive Shell)_. It is used to execute a single python command and get the result.\n",
    "\n",
    "Python Shell waits for the python code from the user. When you enter the code, it interprets the code and shows the result in the next line.\n",
    "Open your terminal or command prompt(cmd) and write:"
   ]
  },
  {
   "cell_type": "code",
   "execution_count": null,
   "id": "f657f48b",
   "metadata": {
    "attributes": {
     "classes": [
      "shell"
     ],
     "id": ""
    }
   },
   "outputs": [],
   "source": [
    "python"
   ]
  },
  {
   "cell_type": "markdown",
   "id": "eccb3621",
   "metadata": {},
   "source": [
    "![Python Scripting Shell](images/opening_python_shell.png)\n",
    "\n",
    "The python interactive shell is opened and it is waiting for you to write python code. You will write your python script next to this symbol >>> and then click Enter.\n",
    "Lets write our very first script on the python scripting shell.\n",
    "\n",
    "![Python script on python shell](images/adding_on_python_shell.png)\n",
    "\n",
    "Well done, you wrote your first python script on python interactive shell. How do we close this shell ?\n",
    "To close the shell, next to this symbol >> write **exit()** command and press Enter.\n",
    "\n",
    "![Exit from python shell](images/exit_from_shell.png)\n",
    "\n",
    "Now, you knew how to open the python interactive shell and how to exit from it.\n",
    "\n",
    "Python can give you result if you write scripts what python understands if not it returns errors. Let's make a deliberate mistake and see what python will return.\n",
    "\n",
    "![Invalid Syntax Error](./images/invalid_syntax_error.png)\n",
    "\n",
    "As you can see from the returned error, python is so clever that it knows the mistake we made and which was _Syntax Error: invalid syntax_. Using x as multiplication in python is a syntax error because (x) is not a valid syntax in python. Instead of (**x**) we use asterisk (*) for multiplication. The returned error clearly shows what to fix.\n",
    "The process of identifying and removing errors from a program is called *debugging*. Let's debug it by replacing * in place of **x**.\n",
    "\n",
    "![Fixing Syntax Error](./images/fixing_syntax_error.png)\n",
    "\n",
    "Our bug was fixed and the code run and we got a result we were expecting. As a programmer you will see such kind of errors on daily basis. It is good to know how to debug. To be good at debugging you should understand what kind of errors you are facing:SyntaxError, IndexError, ModuleNotFoundError, KeyError, ImportError etc. We will see more about different python **_error types_** in later section .\n",
    "\n",
    "Let's practice more , how to use python interactive shell. Go to your terminal or command prompt and write the word **python**.\n",
    "\n",
    "![Python Scripting Shell](images/opening_python_shell.png)\n",
    "\n",
    "The python interactive shell is open and lets do some basic mathematics operations(addition, subtraction, multiplication, division, modulus, exponential).\n",
    "Lets do some maths first before we write any python code:\n",
    "\n",
    "- 2 + 3 = 5\n",
    "- 3 - 2 = 1\n",
    "- 3 \\* 2 = 6\n",
    "- 3 / 2 = 1.5\n",
    "- 3 ^ 2 = 3 x 3 = 9\n",
    "\n",
    "In python we have the following additional operations:\n",
    "\n",
    "- 3 % 2 = 1 => which means finding the remainder\n",
    "- 3 // 2 = 1 => which means removing the remainder\n",
    "\n",
    "Lets change the above mathematical expressions to code. The python shell has been opened and lets write a comment at the very beginning of the shell.\n",
    "A _comment_ is a part of the code which is not executed by python. So we can leave some text in our code to make our code more readable. Python does not run the comment part. A comment in python starts with hash(#) symbol.\n",
    "This is a how you write comment in python"
   ]
  },
  {
   "cell_type": "code",
   "execution_count": null,
   "id": "e71e5758",
   "metadata": {
    "attributes": {
     "classes": [
      "shell"
     ],
     "id": ""
    }
   },
   "outputs": [],
   "source": [
    " # comment starts with hash\n",
    " # this is a python comment itself because it starts with a (#) symbol"
   ]
  },
  {
   "cell_type": "markdown",
   "id": "d7d67858",
   "metadata": {},
   "source": [
    "![Maths on python shell](./images/maths_on_python_shell.png)\n",
    "\n",
    "Before we move on to the next section, lets practice more on the python interactive shell. Close the opened shell by writing _exit()_ on the shell and open it again and let's practice how to write text on the python shell.\n",
    "\n",
    "![Writing String on python shell](images/writing_string_on_shell.png)\n",
    "\n",
    "### Installing Visual Studio Code\n",
    "\n",
    "The python interactive shell is good to try and test small script codes but it won't be for a big project. In real work environment, developers use different code editors to write codes. In this 30 days of python programming challenge we will use visual studio code. Visual studio code is a very popular open source text editor. I am a fan of vscode and I would recommend to [download](https://code.visualstudio.com/) visual studio code, but if you are in favor of other editors, feel free to follow with what you have.\n",
    "\n",
    "[![Visual Studio Code](./images/vscode.png)](https://code.visualstudio.com/)\n",
    "\n",
    "If you installed visual studio code, let's see how to use it.\n",
    "\n",
    "#### How to use visual studio code\n",
    "\n",
    "Open the visual studio code by double clicking the visual studio icon. When you open it you will get this kind of interface. Try to interact with the labelled icons.\n",
    "\n",
    "![Visual studio Code](images/vscode_ui.png)\n",
    "\n",
    "Create a folder name 30DaysOfPython on your desktop. Then open it using visual studio code.\n",
    "\n",
    "![Opening Project on Visual studio](./images/how_to_open_project_on_vscode.png)\n",
    "\n",
    "![Opening a project](./images/opening_project.png)\n",
    "\n",
    "After you opened you can create file and folder inside the your project directory which is 30DaysOfPython. As you can see below, I have created the very first file, helloworld.py. You can do the same.\n",
    "\n",
    "![Creating a python file](./images/helloworld.png)\n",
    "\n",
    "After a long day of coding, you want to close your code editor, right ?. This is how you will close the opened project.\n",
    "\n",
    "![Closing project](./images/closing_opened_project.png)\n",
    "\n",
    "Congratulations, you have finished setting up the development environment. Let's start coding.\n",
    "\n",
    "## Basic Python\n",
    "\n",
    "### Python Syntax\n",
    "\n",
    "A python script can be written on python interactive shell or on code editor. A python file has an extension .py.\n",
    "\n",
    "### Python Indentation\n",
    "\n",
    "An indentation is a white space in a text. Indentation in many languages used to increase code readability, however python uses indentation to create block of codes. In other programming languages curly bracket used to create block of codes instead of indentation. One of the common bug when you write a python code will be wrong indentation.\n",
    "\n",
    "![Indentation Error](images/indentation.png)\n",
    "\n",
    "### Comment\n",
    "\n",
    "Comment is very important to make code more readable and to leave to remark in our code. Python doesn't run comment part of our code.\n",
    "Any text starts with hash(#) in python is a comment.\n",
    "\n",
    "**Example: Single Line Comment**"
   ]
  },
  {
   "cell_type": "code",
   "execution_count": null,
   "id": "09d336e8",
   "metadata": {
    "attributes": {
     "classes": [
      "shell"
     ],
     "id": ""
    }
   },
   "outputs": [],
   "source": [
    "    # This is the first comment\n",
    "    # This is the second comment\n",
    "    # Python is eating the world"
   ]
  },
  {
   "cell_type": "markdown",
   "id": "31329de7",
   "metadata": {},
   "source": [
    "**Example: Multiline Comment**\n",
    "\n",
    "Triple quote can be use for multiline comment if it is not assigned to a variable"
   ]
  },
  {
   "cell_type": "code",
   "execution_count": null,
   "id": "220c646c",
   "metadata": {
    "attributes": {
     "classes": [
      "shell"
     ],
     "id": ""
    }
   },
   "outputs": [],
   "source": [
    "\"\"\"This is multiline comment\n",
    "multiline comment take multiple lines.\n",
    "python is eating the world\n",
    "\"\"\""
   ]
  },
  {
   "cell_type": "markdown",
   "id": "bb348d5f",
   "metadata": {},
   "source": [
    "### Data types\n",
    "\n",
    "In python there are several types of data types. We will get started with the most common ones.\n",
    "\n",
    "#### Number"
   ]
  },
  {
   "cell_type": "code",
   "execution_count": null,
   "id": "11af82e0",
   "metadata": {},
   "outputs": [],
   "source": [
    "- Integer: Integer(negative, zero and positive) numbers\n",
    "    Example:\n",
    "    ... -3, -2, -1, 0, 1, 2, 3 ...\n",
    "- Float: Decimal number\n",
    "    Example\n",
    "    ... -3.5, -2.25, -1.0, 0.0, 1.1, 2.2, 3.5 ...\n",
    "- Complex\n",
    "    Example\n",
    "    1 + j, 2 + 4j"
   ]
  },
  {
   "cell_type": "markdown",
   "id": "877a161b",
   "metadata": {},
   "source": [
    "#### String\n",
    "\n",
    "A collection of one or more characters under a single or double quote. If a string is more than one sentence we use triple quote.\n",
    "\n",
    "**Example:**"
   ]
  },
  {
   "cell_type": "code",
   "execution_count": null,
   "id": "b16a03ad",
   "metadata": {
    "attributes": {
     "classes": [
      "py"
     ],
     "id": ""
    }
   },
   "outputs": [],
   "source": [
    "'Asabeneh'\n",
    "'Finland'\n",
    "'Python'\n",
    "'I love teaching'\n",
    "'I hope you are enjoying the first day'"
   ]
  },
  {
   "cell_type": "markdown",
   "id": "8ee7fb96",
   "metadata": {},
   "source": [
    "#### Booleans\n",
    "\n",
    "A boolean data type is either a True or False value.\n",
    "\n",
    "**Example:**"
   ]
  },
  {
   "cell_type": "code",
   "execution_count": null,
   "id": "48cc6d19",
   "metadata": {},
   "outputs": [],
   "source": [
    "    True  #  if the light on, if it is on the value is True\n",
    "    False # if the light off, if it is off the value is False"
   ]
  },
  {
   "cell_type": "markdown",
   "id": "afeae18d",
   "metadata": {},
   "source": [
    "#### List\n",
    "\n",
    "Python list is an ordered collection which allows to store of different data type items. A list is similar to an array in JavaScript.\n",
    "\n",
    "**Example:**"
   ]
  },
  {
   "cell_type": "code",
   "execution_count": null,
   "id": "d299f7d7",
   "metadata": {
    "attributes": {
     "classes": [
      "py"
     ],
     "id": ""
    }
   },
   "outputs": [],
   "source": [
    "['Banana', 'Orange', 'Mango', 'Avocado'] # all the same data type in the list\n",
    "['Banana', 10, False, 9.81] # different data types in the list"
   ]
  },
  {
   "cell_type": "markdown",
   "id": "cd386ad1",
   "metadata": {},
   "source": [
    "#### Dictionary\n",
    "\n",
    "A python dictionary object is an unordered collection of data in a key:value pair.\n",
    "\n",
    "**Example:**"
   ]
  },
  {
   "cell_type": "code",
   "execution_count": null,
   "id": "f4acc416",
   "metadata": {
    "attributes": {
     "classes": [
      "py"
     ],
     "id": ""
    }
   },
   "outputs": [],
   "source": [
    "{'name':'Asabeneh', 'country':'Finland', age:250, 'is_married':True}"
   ]
  },
  {
   "cell_type": "markdown",
   "id": "b28a8ced",
   "metadata": {},
   "source": [
    "#### Tuple\n",
    "\n",
    "A tuple is an ordered collection of different data types like list but tuples can not be modified once they are created. They are immutable.\n",
    "\n",
    "**Example**"
   ]
  },
  {
   "cell_type": "code",
   "execution_count": null,
   "id": "ed913ec1",
   "metadata": {
    "attributes": {
     "classes": [
      "py"
     ],
     "id": ""
    }
   },
   "outputs": [],
   "source": [
    "('Asabeneh', 'Brook', 'Abraham', 'Lidiya')"
   ]
  },
  {
   "cell_type": "markdown",
   "id": "b994fe33",
   "metadata": {},
   "source": [
    "#### Set\n",
    "\n",
    "A set is a collection data types similar to list and tuple. Unlike list and tuple, set is not an ordered collection of items. Like in mathematics, set in python store only unique items.\n",
    "\n",
    "In later sections, we will go in detail in each and every python data types.\n",
    "\n",
    "**Example:**"
   ]
  },
  {
   "cell_type": "code",
   "execution_count": null,
   "id": "0517818c",
   "metadata": {
    "attributes": {
     "classes": [
      "py"
     ],
     "id": ""
    }
   },
   "outputs": [],
   "source": [
    "{3.14, 9.81, 2.7} # order is not important in set"
   ]
  },
  {
   "cell_type": "markdown",
   "id": "4590b213",
   "metadata": {},
   "source": [
    "### Checking Data types\n",
    "\n",
    "To check the data type of a certain data type we use the **type** function. In the following terminal you will see the different python data types:\n",
    "\n",
    "![Checking Data types](./images/checking_data_types.png)\n",
    "\n",
    "### Python File\n",
    "\n",
    "First open your project folder, 30DaysOfPython. If you don't have this folder,create a folder name called 30DaysOfPython. Inside this folder, create a file called helloworld.py. Now, let's do what we did on python interactive shell using visual studio code.\n",
    "The python interactive shell was printing without using **print** but on visual studio code to see our result we should use a built in function **print(some data to print)**.\n",
    "\n",
    "**Example:**\n",
    "helloworld.py"
   ]
  },
  {
   "cell_type": "code",
   "execution_count": null,
   "id": "5c769742",
   "metadata": {
    "attributes": {
     "classes": [
      "py"
     ],
     "id": ""
    }
   },
   "outputs": [],
   "source": [
    "# Day 1 - 30DaysOfPython Challenge\n",
    "print(2 + 3)             # addition(+)\n",
    "print(3 - 1)             # subtraction(-)\n",
    "print(2 * 3)             # multiplication(*)\n",
    "print(3 / 2)             # division(/)\n",
    "print(3 ** 2)            # exponential(**)\n",
    "print(3 % 2)             # modulus(%)\n",
    "print(3 // 2)            # Floor division operator(//)\n",
    "\n",
    "# Checking data types\n",
    "print(type(10))          # Int\n",
    "print(type(3.14))        # Float\n",
    "print(type(1 + 3j))      # Complex number\n",
    "print(type('Asabeneh'))  # String\n",
    "print(type([1, 2, 3]))   # List\n",
    "print(type({'name':'Asabeneh'})) # Dictionary\n",
    "print(type({9.8, 3.14, 2.7}))    # Set\n",
    "print(type((9.8, 3.14, 2.7)))    # Tuple"
   ]
  },
  {
   "cell_type": "markdown",
   "id": "6073b68a",
   "metadata": {},
   "source": [
    "![Running python script](./images/running_python_script.png)\n",
    "\n",
    "🌕  You are amazing. You have just completed day 1 challenge and you are in your way to greatness. Now do some exercises for your brain and for your muscle.\n",
    "\n",
    "## 💻 Exercises - Day 1\n",
    "\n",
    "1. Check the python version you are using\n",
    "2. Open the python interactive shell and do the following operations. The operands are 3 and 4. Check the example above\n",
    "   - addition(+)\n",
    "   - subtraction(-)\n",
    "   - multiplication(\\*)\n",
    "   - modulus(%)\n",
    "   - division(/)\n",
    "   - exponential(\\*\\*)\n",
    "   - floor division operator(//)\n",
    "3. Write strings on the python interactive shell. The strings are the following:\n",
    "   - Your name\n",
    "   - Your family name\n",
    "   - Your country\n",
    "   - I am enjoying 30 days of python\n",
    "4. Check the data types of the following data:\n",
    "   - 10\n",
    "   - 9.8\n",
    "   - 3.14\n",
    "   - 4 - 4j\n",
    "   - ['Asabeneh', 'Python', 'Finland']\n",
    "   - Your name\n",
    "   - Your family name\n",
    "   - Your country\n",
    "5. Create a folder name day_1 inside 30DaysOfPython folder. Inside day_1 folder, create a file python file helloword.py and repeat question 1, 2, 3 and 4. Remember to use _print()_ when you are working on a python file. Navigate to the directory where you saved your file, and run it.\n",
    "\n",
    "# 📘 Day 2\n",
    "\n",
    "## Built in functions\n",
    "\n",
    "In python we have lots of built in functions. Built-in functions are globally available for your use. Some of the most commonly used python built-in functions are the following: _print()_, _len()_, _type()_, _int()_, _float()_, _str()_, _input()_, _list()_, _dict()_, _min()_, _max()_, _sum()_, _sorted()_, _open()_, _file()_, _help()_, and _dir()_. In the following table you will see an exhaustive list of python built in functions taken from [python documentation](https://docs.python.org/2/library/functions.html).\n",
    "\n",
    "![Built in Functions](images/builtin-functions.png)\n",
    "\n",
    "Let's open the python shell and start using some of the most common built in functions.\n",
    "\n",
    "![Built in functions](images/builtin-functions_practice.png)\n",
    "\n",
    "Let's practice more by using different built-in functions\n",
    "\n",
    "![Help and Dir Built in Functions](/images/help_and_dir_builtin.png)\n",
    "\n",
    "As you can see from the above terminal, python has reserved words. We do not use reserved words to declare variables or functions. We will cover variables in the next section.\n",
    "\n",
    "I believe, by now you are familiar with built-in functions. Let's do one more practice of built-in functions and we will move on to the next section\n",
    "\n",
    "![Min Max Sum](images/builtin-functional-final.png)\n",
    "\n",
    "## Variables\n",
    "\n",
    "Variables store data in a computer memory. Mnemonic variables are recommend to use in many programming languages. A variable refers to an a memory address in which a data is stored.\n",
    "Number at the beginning, special character, hyphen are not allowed. A variable can have a short name (like x,y,z) but a more descriptive name (firstname, lastname, age, country) is highly recommended .\n",
    "Python Variable Name Rules\n",
    "\n",
    "- A variable name must start with a letter or the underscore character\n",
    "- A variable name cannot start with a number\n",
    "- A variable name can only contain alpha-numeric characters and underscores (A-z, 0-9, and \\_ )\n",
    "- Variable names are case-sensitive (firstname, Firstname, FirstName and FIRSTNAME are different variables)\n",
    "\n",
    "Valid variable names"
   ]
  },
  {
   "cell_type": "code",
   "execution_count": null,
   "id": "e1016770",
   "metadata": {
    "attributes": {
     "classes": [
      "shell"
     ],
     "id": ""
    }
   },
   "outputs": [],
   "source": [
    "firstname\n",
    "lastname\n",
    "age\n",
    "country\n",
    "city\n",
    "first_name\n",
    "last_name\n",
    "capital_city\n",
    "_if # if we want to use reserved word as a variable\n",
    "year_2019\n",
    "year2019\n",
    "current_year_2019\n",
    "num1\n",
    "num2"
   ]
  },
  {
   "cell_type": "markdown",
   "id": "403b9680",
   "metadata": {},
   "source": [
    "Invalid variables names"
   ]
  },
  {
   "cell_type": "code",
   "execution_count": null,
   "id": "9171c158",
   "metadata": {
    "attributes": {
     "classes": [
      "shell"
     ],
     "id": ""
    }
   },
   "outputs": [],
   "source": [
    "first-name\n",
    "num-1\n",
    "1num"
   ]
  },
  {
   "cell_type": "markdown",
   "id": "8a5c2668",
   "metadata": {},
   "source": [
    "We will use standard python variable naming style which has been adopted by many python developers. The example below is an example of standard naming of variables, underscore when the variable name is long.\n",
    "\n",
    "When we assign a certain data type to a variable is called variable declaration. For instance in the example below my first name is assigned to a variable first_name. The equal sign is an assignment operator. Assigning means storing data in the variable.\n",
    "\n",
    "_Example:_"
   ]
  },
  {
   "cell_type": "code",
   "execution_count": null,
   "id": "f16b6159",
   "metadata": {
    "attributes": {
     "classes": [
      "py"
     ],
     "id": ""
    }
   },
   "outputs": [],
   "source": [
    "# Variables in Python\n",
    "\n",
    "first_name = 'Asabeneh'\n",
    "last_name = 'Yetayeh'\n",
    "country = 'Finland'\n",
    "city = 'Helsinki'\n",
    "age = 250\n",
    "is_married = True\n",
    "skills = ['HTML', 'CSS', 'JS', 'React', 'Python']\n",
    "person_info = {\n",
    "   'firstname':'Asabeneh',\n",
    "   'lastname':'Yetayeh',\n",
    "   'country':'Finland',\n",
    "   'city':'Helsinki'\n",
    "   }"
   ]
  },
  {
   "cell_type": "markdown",
   "id": "61220b66",
   "metadata": {},
   "source": [
    "Let's use _print()_ and _len()_ built in functions. Print function will take multiple arguments. An argument is a value which we pass or put inside the function parenthesis, see the example below.\n",
    "\n",
    "**Example:**"
   ]
  },
  {
   "cell_type": "code",
   "execution_count": null,
   "id": "8e57d335",
   "metadata": {
    "attributes": {
     "classes": [
      "py"
     ],
     "id": ""
    }
   },
   "outputs": [],
   "source": [
    "print('Hello, World!')\n",
    "print('Hello',',', 'World','!') # it can take multiple arguments\n",
    "print(len('Hello, World!')) # it takes only one argument"
   ]
  },
  {
   "cell_type": "markdown",
   "id": "0d51793c",
   "metadata": {},
   "source": [
    "Let's print and also find the length of the variables declared at the top:\n",
    "\n",
    "**Example:**"
   ]
  },
  {
   "cell_type": "code",
   "execution_count": null,
   "id": "c38a622f",
   "metadata": {
    "attributes": {
     "classes": [
      "py"
     ],
     "id": ""
    }
   },
   "outputs": [],
   "source": [
    "# Printing the values stored in the variables\n",
    "\n",
    "print('First name:', first_name)\n",
    "print('First name length:', len(first_name))\n",
    "print('Last name: ', last_name)\n",
    "print('Last name length: ', len(last_name))\n",
    "print('Country: ', country)\n",
    "print('City: ', city)\n",
    "print('Age: ', age)\n",
    "print('Married: ', is_married)\n",
    "print('Skills: ', skills)\n",
    "print('Person information: ', person_info)"
   ]
  },
  {
   "cell_type": "markdown",
   "id": "861d56f8",
   "metadata": {},
   "source": [
    "Variable can also be declared in one line:\n",
    "\n",
    "**Example:**"
   ]
  },
  {
   "cell_type": "code",
   "execution_count": null,
   "id": "eee701d0",
   "metadata": {
    "attributes": {
     "classes": [
      "py"
     ],
     "id": ""
    }
   },
   "outputs": [],
   "source": [
    "first_name, last_name, country, age, is_married = 'Asabeneh', 'Yetayeh', 'Helsink', 250, True\n",
    "\n",
    "print(first_name, last_name, country, age, is_married)\n",
    "print('First name:', first_name)\n",
    "print('Last name: ', last_name)\n",
    "print('Country: ', country)\n",
    "print('Age: ', age)\n",
    "print('Married: ', is_married)"
   ]
  },
  {
   "cell_type": "markdown",
   "id": "865b527f",
   "metadata": {},
   "source": [
    "Getting user input using the _input()_ built-in function. Let's assign the data we get from a user into first_name and age variables.\n",
    "**Example:**"
   ]
  },
  {
   "cell_type": "code",
   "execution_count": null,
   "id": "ba22405d",
   "metadata": {
    "attributes": {
     "classes": [
      "py"
     ],
     "id": ""
    }
   },
   "outputs": [],
   "source": [
    "first_name = input('What is your name: ')\n",
    "age = input('How old are you? ')\n",
    "\n",
    "print(first_name)\n",
    "print(age)"
   ]
  },
  {
   "cell_type": "markdown",
   "id": "148c678c",
   "metadata": {},
   "source": [
    "## Data Types\n",
    "\n",
    "There are several data types in python. To identify the data type we use the _type_ builtin function. I like you to focus understanding different data types very well. When it comes to programming it is all about data types. I introduced data types at the very beginning and it comes again, because every topic is related to data types. We will cover data types in more detail in their respective sections.\n",
    "\n",
    "## Checking Data types and Casting\n",
    "\n",
    "- Check Data types: To check the data type of a certain data type we use the _type_\n",
    "  **Example:**"
   ]
  },
  {
   "cell_type": "code",
   "execution_count": null,
   "id": "530cb67c",
   "metadata": {
    "attributes": {
     "classes": [
      "py"
     ],
     "id": ""
    }
   },
   "outputs": [],
   "source": [
    "# Different python data types\n",
    "# Let's declare different data types\n",
    "\n",
    "first_name = 'Asabeneh'     # str\n",
    "last_name = 'Yetayeh'       # str\n",
    "country = 'Finland'         # str\n",
    "city= 'Helsinki'            # str\n",
    "age = 250                   # int, it is not my real age, don't worry about it\n",
    "\n",
    "# Printing out types\n",
    "print(type('Asabeneh'))     # str\n",
    "print(type(first_name))     # str\n",
    "print(type(10))             # int\n",
    "print(type(3.14))           # float\n",
    "print(type(1 + 1j))         # complex\n",
    "print(type(True))           # bool\n",
    "print(type([1, 2,3,4]))     # list\n",
    "print(type({'name':'Asabeneh','age':250, 'is_married':250}))    # dict\n",
    "print(type((1,2)))                                              # tuple\n",
    "print(type(zip([1,2],[3,4])))                                   # set"
   ]
  },
  {
   "cell_type": "markdown",
   "id": "93dbe83d",
   "metadata": {},
   "source": [
    "- Casting: Converting one data type to another data type. We use _int()_, _float()_, _str()_, _list_\n",
    "  When we do arithmetic operations string numbers should be first converted to int or float if not it returns an error. If we concatenate a number with string, the number should be first converted to a string. We will talk about concatenation in String section.\n",
    "  **Example:**"
   ]
  },
  {
   "cell_type": "code",
   "execution_count": null,
   "id": "bd9c2515",
   "metadata": {
    "attributes": {
     "classes": [
      "py"
     ],
     "id": ""
    }
   },
   "outputs": [],
   "source": [
    "# int to float\n",
    "\n",
    "num_int = 10\n",
    "print('num_int',num_int)         # 10\n",
    "num_float = float(num_int)\n",
    "print('num_float:', num_float)   # 10.0\n",
    "\n",
    "# float to int\n",
    "\n",
    "gravity = 9.81\n",
    "print(int(gravity))             # 9\n",
    "\n",
    "# int to str\n",
    "num_int = 10\n",
    "print(num_int)                  # 10\n",
    "num_str = str(num_int)\n",
    "print(num_str)                  # '10'\n",
    "\n",
    "# str to int\n",
    "num_str = '10.6'\n",
    "print('num_int', int(num_str))      # 10\n",
    "print('num_float', float(num_str))  # 10.6\n",
    "\n",
    "# str to list\n",
    "first = 'Asabeneh'\n",
    "print(first_name)\n",
    "print(first_name)                    # 'Asabeneh'\n",
    "first_name_to_list = list(first_name)\n",
    "print(first_name_to_list)            # ['A', 's', 'a', 'b', 'e', 'n', 'e', 'h']"
   ]
  },
  {
   "cell_type": "markdown",
   "id": "c22510ea",
   "metadata": {},
   "source": [
    "## Number\n",
    "\n",
    "Numbers are python data types.\n",
    "\n",
    "1. Integers: Integer(negative, zero and positive) numbers\n",
    "    Example:\n",
    "        ... -3, -2, -1, 0, 1, 2, 3 ...\n",
    "\n",
    "2. Floating Numbers(Decimal numbers)\n",
    "    Example:\n",
    "        ... -3.5, -2.25, -1.0, 0.0, 1.1, 2.2, 3.5 ...\n",
    "\n",
    "3. Complex Numbers\n",
    "    Example:\n",
    "        1 + j, 2 + 4j, 1 - 1j\n",
    "\n",
    "## 💻 Exercises - Day 2\n",
    "\n",
    "1. Inside 30DaysOfPython create a folder called day_2. Inside this folder create a file name called variables.py\n",
    "2. Writ a python comment saying 'Day 2: 30 Days of python programming'\n",
    "3. Declare a first name variable and assign a value to it\n",
    "4. Declare a last name variable and assign a value to it\n",
    "5. Declare a full name variable and assign a value to it\n",
    "6. Declare a country variable and assign a value to it\n",
    "7. Declare a city variable and assign a value to it\n",
    "8. Declare an age variable and assign a value to it\n",
    "9. Declare a year variable and assign a value to it\n",
    "10. Declare a variable is_married and assign a value to it\n",
    "11. Declare a variable is_true and assign a value to it\n",
    "12. Declare a variable is_light_on and assign a value to it\n",
    "13. Declare multiple variable on one line\n",
    "14. Check the data type of all your variables using type() built in function\n",
    "15. Using the _len()_ built-in function find the length of your first name\n",
    "16. Compare the length of your first name and your last name\n",
    "17. Declare 5 as num_one and 4 as num_two\n",
    "    1. Add num_one and num_two and assign the value to a variable _total_\n",
    "    2. Subtract num_two from num_one and assign the value to a variable _diff_\n",
    "    3. Multiply num_two and num_one and assign the value to a variable _product_\n",
    "    4. Divide num_one by num_two and assign the value to a variable _division_\n",
    "    5. Use modulus division to find num_two divided by num_one and assign the value to a variable _remainder_\n",
    "    6. Calculate num_one the power of num_two and assign the value to a variable _exp_\n",
    "    7. Find floor division of num_one by num_two and assign the value to a variable _floor_division_\n",
    "18. The radius of a circle is 30 meters.\n",
    "    1. Calculate the area of a circle and assign the value to a variable _area_of_circle_\n",
    "    2. Calculate the circumference of a circle and assign the value to a variable _circum_of_circle_\n",
    "    3. Take radius as user input and calculate the area.\n",
    "19. Use the built-in input function to get first name, last name, country and age from a user and store the value to their corresponding variable names\n",
    "20. Run help('keywords') on python shell or in your file check the reserved words\n",
    "\n",
    "# 📘 Day 3\n",
    "\n",
    "## Boolean\n",
    "\n",
    "A boolean data type represents one of the two values:_True_ or _False_. The use of these data types will be clear when you start the comparison operator. The first letter **T** for True and **F** for False should be capital unlike JavaScript.\n",
    "**Example: Boolean Values**"
   ]
  },
  {
   "cell_type": "code",
   "execution_count": null,
   "id": "7fbdf235",
   "metadata": {
    "attributes": {
     "classes": [
      "py"
     ],
     "id": ""
    }
   },
   "outputs": [],
   "source": [
    "print(True)\n",
    "print(False)"
   ]
  },
  {
   "cell_type": "markdown",
   "id": "b6284c59",
   "metadata": {},
   "source": [
    "## Operators:\n",
    "\n",
    "Python language supports several types of operators. In this section, we will focus on few of them.\n",
    "\n",
    "### Assignment Operators:\n",
    "\n",
    "Assignment operators are used to assign values to variables. Let's take = as an example. Equal sign in mathematics shows that two values are equal, however in python it means we are storing a value in a certain variable and we call it assignment or a assigning value to a variable. The table below shows the different types of python assignment operators, taken from [w3school](https://www.w3schools.com/python/python_operators.asp).\n",
    "\n",
    "![Assignment Operators](images/assignment_operators.png)\n",
    "\n",
    "### Arithmetic Operators:\n",
    "\n",
    "- Addition(+): a + b\n",
    "- Subtraction(-): a -b\n",
    "- Multiplication(_):a _ b\n",
    "- Division(/): a / b\n",
    "- Modulus(%):a % b\n",
    "- Floor division(//): a // b\n",
    "- Exponential(**):a ** b\n",
    "\n",
    "![Arithmetic Operators](./images/arithmetic_operators.png)\n",
    "\n",
    "**Example:Integers**"
   ]
  },
  {
   "cell_type": "code",
   "execution_count": null,
   "id": "5ef41a22",
   "metadata": {
    "attributes": {
     "classes": [
      "py"
     ],
     "id": ""
    }
   },
   "outputs": [],
   "source": [
    "# Arithmetic Operations in Python\n",
    "# Integers\n",
    "\n",
    "print('Addition: ', 1 + 2)\n",
    "print('Subtraction: ', 2 - 1)\n",
    "print('Multiplication: ', 2 * 3)\n",
    "print ('Division: ', 4 / 2)                         # Division in python gives floating number\n",
    "print('Division: ', 6 / 2)\n",
    "print('Division: ', 7 / 2)\n",
    "print('Division without the remainder: ', 7 // 2)   # gives without the floating number or without the remaining\n",
    "print('Modulus: ', 3 % 2)                           # Gives the remainder\n",
    "print ('Division without the remainder: ',7 // 3)\n",
    "print('Exponential: ', 3 ** 2)                      # it means 3 * 3"
   ]
  },
  {
   "cell_type": "markdown",
   "id": "5b0b5dc0",
   "metadata": {},
   "source": [
    "**Example:Floats**"
   ]
  },
  {
   "cell_type": "code",
   "execution_count": null,
   "id": "2dc2e47e",
   "metadata": {
    "attributes": {
     "classes": [
      "py"
     ],
     "id": ""
    }
   },
   "outputs": [],
   "source": [
    "# Floating numbers\n",
    "print('Floating Number,PI', 3.14)\n",
    "print('Floating Number, gravity', 9.81)"
   ]
  },
  {
   "cell_type": "markdown",
   "id": "cc8ea47b",
   "metadata": {},
   "source": [
    "**Example:Complex numbers**"
   ]
  },
  {
   "cell_type": "code",
   "execution_count": null,
   "id": "12f1f41c",
   "metadata": {
    "attributes": {
     "classes": [
      "py"
     ],
     "id": ""
    }
   },
   "outputs": [],
   "source": [
    "# Complex numbers\n",
    "print('Complex number: ', 1+1j)\n",
    "print('Multiplying complex number: ',(1+1j) * (1-1j))"
   ]
  },
  {
   "cell_type": "markdown",
   "id": "2f011011",
   "metadata": {},
   "source": [
    "Let's declare a variable and assign a number data type. I am going to use single character variable but remember do not develop a habit of declaring such types of variable. Variable names should be all the time mnemonic.\n",
    "\n",
    "**Example:**"
   ]
  },
  {
   "cell_type": "code",
   "execution_count": null,
   "id": "4a10f46f",
   "metadata": {},
   "outputs": [],
   "source": [
    "# Declaring the variable at the top first\n",
    "\n",
    "a = 3 # a is a variable name and 3 is an integer data type\n",
    "b = 2 # b is a variable name and 3 is an integer data type\n",
    "\n",
    "# Arithmetic operations and assigning the result to a variable\n",
    "total = a + b\n",
    "diff = a - b\n",
    "product = a * b\n",
    "division = a / b\n",
    "remainder = a % b\n",
    "floor_division = a // b\n",
    "exponential = a ** b\n",
    "\n",
    "# I should have used sum instead of total but sum is a built-in function try to avoid overriding builtin functions\n",
    "print(total) # if you don't label your print with some string, you never know from where is  the result is coming\n",
    "print('a + b = ', total)\n",
    "print('a - b = ', diff)\n",
    "print('a * b = ', product)\n",
    "print('a / b = ', division)\n",
    "print('a % b = ', remainder)\n",
    "print('a // b = ', floor_division)\n",
    "print('a ** b = ', exponential)"
   ]
  },
  {
   "cell_type": "markdown",
   "id": "3d8f093b",
   "metadata": {},
   "source": [
    "**Example:**"
   ]
  },
  {
   "cell_type": "code",
   "execution_count": null,
   "id": "28c27b3e",
   "metadata": {
    "attributes": {
     "classes": [
      "py"
     ],
     "id": ""
    }
   },
   "outputs": [],
   "source": [
    "print('== Addition, Subtraction, Multiplication, Division, Modulus ==')\n",
    "\n",
    "# Declaring values and organizing them together\n",
    "num_one = 3\n",
    "num_two = 4\n",
    "\n",
    "# Arithmetic operations\n",
    "total = num_one + num_two\n",
    "diff = num_two - num_one\n",
    "product = num_one * num_two\n",
    "div = num_two / num_two\n",
    "remainder = num_two % num_one\n",
    "\n",
    "# Printing values with label\n",
    "print('total: ', total)\n",
    "print('difference: ', diff)\n",
    "print('product: ', product)\n",
    "print('division: ', div)\n",
    "print('remainder: ', remainder)"
   ]
  },
  {
   "cell_type": "markdown",
   "id": "2353163e",
   "metadata": {},
   "source": [
    "Let's start start connecting the dots and start making use of what we knew to calculate(area, volume, weight, perimeter, distance, force)\n",
    "\n",
    "**Example:**"
   ]
  },
  {
   "cell_type": "code",
   "execution_count": null,
   "id": "eaeca41f",
   "metadata": {
    "attributes": {
     "classes": [
      "py"
     ],
     "id": ""
    }
   },
   "outputs": [],
   "source": [
    "# Calculating area of a circle\n",
    "radius = 10                                 # radius of a circle\n",
    "area_of_circle = 3.14 * radius ** 2         # two * sign means exponent or power\n",
    "print('Area of a circle:', area_of_circle)\n",
    "\n",
    "# Calculating area of a rectangle\n",
    "length = 10\n",
    "width = 20\n",
    "area_of_rectangle = length * width\n",
    "print('Area of rectangle:', area_of_width)\n",
    "\n",
    "# Calculating a weight of an object\n",
    "mass = 75\n",
    "gravity = 9.81\n",
    "weight = mass * gravity\n",
    "print(weight, 'N')                         # Adding unit to the weight"
   ]
  },
  {
   "cell_type": "markdown",
   "id": "d801a5e8",
   "metadata": {},
   "source": [
    "### Comparison Operators\n",
    "\n",
    "In programming we compare values, we use comparison operators to compare two values. We check if a value is greater or less or equal to other value. The following table shows python comparison operators which was taken from [w3shool](https://www.w3schools.com/python/python_operators.asp).\n",
    "\n",
    "![Comparison Operators](./images/comparison_operators.png)\n",
    "**Example: Comparison Operators**"
   ]
  },
  {
   "cell_type": "code",
   "execution_count": null,
   "id": "2d1c056a",
   "metadata": {
    "attributes": {
     "classes": [
      "py"
     ],
     "id": ""
    }
   },
   "outputs": [],
   "source": [
    "print(3 > 2)     # True, because 3 is greater than 2\n",
    "print(3 >= 2)    # True, because 3 is greater than 2\n",
    "print(3 < 2)     # False,  because 3 is greater than 2\n",
    "print(2 < 3)     # True, because 2 is less than 3\n",
    "print(2 <= 3)    # True, because 2 is less than 3\n",
    "print(3 == 2)    # False, because 3 is not equal to 2\n",
    "print(3 != 2)    # True, because 3 is not equal to 2\n",
    "print(len('mango') == len('avocado'))  # False\n",
    "print(len('mango') != len('avocado'))  # True\n",
    "print(len('mango') < len('avocado'))   # True\n",
    "print(len('milk') != len('meat'))      # False\n",
    "print(len('milk') == len('meat'))      # True\n",
    "print(len('tomato') == len('potato'))  # True\n",
    "print(len('python') > len('dragon'))   # False\n",
    "\n",
    "\n",
    "# Comparing something give either a True or False\n",
    "\n",
    "print('True == True: ', True == True)\n",
    "print('True == False: ', True == False)\n",
    "print('False == False:', False == False)\n",
    "print('True and True: ', True and True)\n",
    "print('True or False:', True or False)\n"
   ]
  },
  {
   "cell_type": "markdown",
   "id": "4b55efd9",
   "metadata": {},
   "source": [
    "In addition to the above comparison operator python uses:\n",
    "\n",
    "- _is_: Returns true if both variables are the same object(x is y)\n",
    "- _is not_: Returns true if both variables are not the same object(x is not y)\n",
    "- _in_: Returns True if a list with the a certain item(x in y)\n",
    "- _not in_: Returns True if a list doesn't have the a certain item(x in y)"
   ]
  },
  {
   "cell_type": "code",
   "execution_count": null,
   "id": "11578f8a",
   "metadata": {
    "attributes": {
     "classes": [
      "py"
     ],
     "id": ""
    }
   },
   "outputs": [],
   "source": [
    "print('1 is 1', 1 is 1)                   # True - because the data values are the same\n",
    "print('1 is not 2', 1 is not 2)           # True - because 1 is not 2\n",
    "print('A in Asabeneh', 'A' in 'Asabeneh') # True - A found in the string\n",
    "print('B in Asabeneh', 'B' in 'Asabeneh') # False -there is no uppercase B\n",
    "print('coding' in 'coding for all') # True - because coding for all has the word coding\n",
    "print('a in an:', 'a' in 'an')      # True\n",
    "print('4 is 2 ** 2:', 4 is 2 **2)   # True"
   ]
  },
  {
   "cell_type": "markdown",
   "id": "f5fa6f84",
   "metadata": {},
   "source": [
    "### Logical Operators\n",
    "\n",
    "Unlike other programming languages python uses the key word _and_, _or_ and _not_ for logical operator. Logical operators are used to combine conditional statements:\n",
    "\n",
    "![Logical Operators](./images/logical_operators.png)"
   ]
  },
  {
   "cell_type": "code",
   "execution_count": null,
   "id": "69ec3d9c",
   "metadata": {
    "attributes": {
     "classes": [
      "py"
     ],
     "id": ""
    }
   },
   "outputs": [],
   "source": [
    "print(3 > 2 and 4 > 3) # True - because both statements are true\n",
    "print(3 > 2 and 4 < 3) # False - because the second statement is false\n",
    "print(3 < 2 and 4 < 3) # False - because both statements are false\n",
    "print(3 > 2 or 4 > 3)  # True - because both statements are true\n",
    "print(3 > 2 or 4 < 3)  # True - because one of the statement is true\n",
    "print(3 < 2 or 4 < 3)  # False - because both statements are false\n",
    "print(not 3 > 2)     # False - because 3 > 2 is true, then not True gives False\n",
    "print(not True)      # False - Negation, the not operator turns true to false\n",
    "print(not False)     # True\n",
    "print(not not True)  # True\n",
    "print(not not False) # False"
   ]
  },
  {
   "cell_type": "markdown",
   "id": "2a79a23d",
   "metadata": {},
   "source": [
    "## 💻 Exercises - Day 3\n",
    "\n",
    "1. Declare your age as integer variable\n",
    "2. Declare your height as a float variable\n",
    "3. Declare a complex number variable\n",
    "4. Write a script that prompt the user to enter base and height of the triangle and calculate an area of a triangle (area = 0.5 x b x h)."
   ]
  },
  {
   "cell_type": "code",
   "execution_count": null,
   "id": "68c33664",
   "metadata": {
    "attributes": {
     "classes": [
      "py"
     ],
     "id": ""
    }
   },
   "outputs": [],
   "source": [
    "    Enter base: 20\n",
    "    Enter height: 10\n",
    "    The area of the triangle is 50"
   ]
  },
  {
   "cell_type": "markdown",
   "id": "1fc6b9b0",
   "metadata": {},
   "source": [
    "5. Write a script that prompt the user to enter side a, side b, and side c of the triangle and and calculate the perimeter of triangle (perimeter = a + b + c)"
   ]
  },
  {
   "cell_type": "code",
   "execution_count": null,
   "id": "9298bca5",
   "metadata": {
    "attributes": {
     "classes": [
      "py"
     ],
     "id": ""
    }
   },
   "outputs": [],
   "source": [
    "Enter side a: 5\n",
    "Enter side b: 4\n",
    "Enter side c: 3\n",
    "The perimeter of the triangle is 12"
   ]
  },
  {
   "cell_type": "markdown",
   "id": "1f782b62",
   "metadata": {},
   "source": [
    "6. Get length and width using prompt and calculate an area of rectangle (area = length x width and the perimeter of rectangle (perimeter = 2 x (length + width))\n",
    "7. Get radius using prompt and calculate the area of a circle (area = pi x r x r) and circumference of a circle(c = 2 x pi x r) where pi = 3.14.\n",
    "8. Calculate the slope, x-intercept and y-intercept of y = 2x -2\n",
    "9. Slope is (m = y2-y1/x2-x1). Find the slope between point (2, 2) and point(6,10)\n",
    "10. Compare the slope of q10 and 11\n",
    "11. Calculate the value of y (y = x^2 + 6x + 9). Try to use different x values and figure out at what x value y is 0.\n",
    "12. Find the length of python and jargon and make a falsy comparison statement.\n",
    "13. Use _and_ operator to check if 'on' is found in both python and jargon\n",
    "14. _I hope this course is not full of jargon_. Use _in_ operator to check if _jargon_ is in the sentence.\n",
    "15. There is no 'on' in both dragon and python\n",
    "16. Find the length of the text _python_ and convert the value to float and convert it to string\n",
    "17. Even numbers are divisible by 2 and the remainder is zero. How do you check if a number is even or not using python?\n",
    "18. The floor division of 7 by 3 is equal to the int converted value of 2.7.\n",
    "19. Check if type of '10' is equal to 10\n",
    "20. Check if int('9.8') is equal to 10\n",
    "21. Writ a script that prompt a user to enters hours and rate per hour. Calculate pay of the person?"
   ]
  },
  {
   "cell_type": "code",
   "execution_count": null,
   "id": "a7fa6eee",
   "metadata": {
    "attributes": {
     "classes": [
      "py"
     ],
     "id": ""
    }
   },
   "outputs": [],
   "source": [
    "Enter hours: 40\n",
    "Enter rate per hour: 28\n",
    "Your weekly earning is 1120"
   ]
  },
  {
   "cell_type": "markdown",
   "id": "20f8704f",
   "metadata": {},
   "source": [
    "22. Write a script that prompt the user to enter number of years. Calculate the number of seconds a person can live. Assume some one lives just hundred years"
   ]
  },
  {
   "cell_type": "code",
   "execution_count": null,
   "id": "2ebf50f6",
   "metadata": {
    "attributes": {
     "classes": [
      "py"
     ],
     "id": ""
    }
   },
   "outputs": [],
   "source": [
    "Enter number of yours you live: 100\n",
    "You lived 3153600000 seconds."
   ]
  },
  {
   "cell_type": "markdown",
   "id": "b109ae15",
   "metadata": {},
   "source": [
    "23. Write a python script that display the following table"
   ]
  },
  {
   "cell_type": "code",
   "execution_count": null,
   "id": "8cac4cf1",
   "metadata": {
    "attributes": {
     "classes": [
      "py"
     ],
     "id": ""
    }
   },
   "outputs": [],
   "source": [
    "1 1 1 1 1\n",
    "2 1 2 4 8\n",
    "3 1 3 9 27\n",
    "4 1 4 16 64\n",
    "5 1 5 25 125"
   ]
  },
  {
   "cell_type": "markdown",
   "id": "a9f676dd",
   "metadata": {},
   "source": [
    "[Part 2 >>](https://github.com/Asabeneh/30-Days-Of-Python/blob/master/readme4-6.md)"
   ]
  }
 ],
 "metadata": {},
 "nbformat": 4,
 "nbformat_minor": 5
}
