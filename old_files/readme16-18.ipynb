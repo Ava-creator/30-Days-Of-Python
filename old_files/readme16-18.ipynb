{
 "cells": [
  {
   "cell_type": "markdown",
   "id": "e31dc50b",
   "metadata": {},
   "source": [
    "![30DaysOfPython](./images/30DaysOfPython_banner3@2x.png)\n",
    "\n",
    "🧳 [Part 1: Day 1 - 3](https://github.com/Asabeneh/30-Days-Of-Python)  \n",
    "🧳 [Part 2: Day 4 - 6](https://github.com/Asabeneh/30-Days-Of-Python/blob/master/readme4-6.md)  \n",
    "🧳 [Part 3: Day 7 - 9](https://github.com/Asabeneh/30-Days-Of-Python/blob/master/readme7-9.md)  \n",
    "🧳 [Part 4: Day 10 - 12](https://github.com/Asabeneh/30-Days-Of-Python/blob/master/readme10-12.md)  \n",
    "🧳 [Part 5: Day 13 - 15](https://github.com/Asabeneh/30-Days-Of-Python/blob/master/readme13-15.md)  \n",
    "🧳 [Part 6: Day 16 - 18](https://github.com/Asabeneh/30-Days-Of-Python/blob/master/readme16-18.md)  \n",
    "🧳 [Part 7: Day 19 - 21](https://github.com/Asabeneh/30-Days-Of-Python/blob/master/readme19-21.md)  \n",
    "🧳 [Part 8: Day 22 - 24](https://github.com/Asabeneh/30-Days-Of-Python/blob/master/readme22-24.md)  \n",
    "🧳 [Part 9: Day 25 - 27](https://github.com/Asabeneh/30-Days-Of-Python/blob/master/readme25-27.md)  \n",
    "🧳 [Part 10: Day 28 - 30](https://github.com/Asabeneh/30-Days-Of-Python/blob/master/readme28-30.md)  \n",
    "\n",
    "---\n",
    "\n",
    "- [📘 Day 16](#%f0%9f%93%98-day-16)\n",
    "  - [Python Datetime](#python-datetime)\n",
    "    - [Getting the datetime information](#getting-the-datetime-information)\n",
    "    - [Formating datetime output using strftime](#formating-datetime-output-using-strftime)\n",
    "    - [String to time using strptime](#string-to-time-using-strptime)\n",
    "    - [Use date from datetime](#use-date-from-datetime)\n",
    "    - [Time object to represent time](#time-object-to-represent-time)\n",
    "    - [Difference between two datetime](#difference-between-two-datetime)\n",
    "    - [Difference between two dates and times using timedelata](#difference-between-two-dates-and-times-using-timedelata)\n",
    "  - [💻 Exercises: Day 16](#%f0%9f%92%bb-exercises-day-16)\n",
    "- [📘 Day 17](#%f0%9f%93%98-day-17)\n",
    "  - [Exception Handling](#exception-handling)\n",
    "  - [Packing and Unpacking Arguments in Python](#packing-and-unpacking-arguments-in-python)\n",
    "    - [Unpacking](#unpacking)\n",
    "      - [Unpacking list](#unpacking-list)\n",
    "      - [Unpacking dictionary](#unpacking-dictionary)\n",
    "    - [Packing](#packing)\n",
    "    - [Packing list](#packing-list)\n",
    "      - [Packing dictionary](#packing-dictionary)\n",
    "  - [Spreading in Python](#spreading-in-python)\n",
    "  - [Enumerate](#enumerate)\n",
    "  - [Zip](#zip)\n",
    "  - [Exercises: Day 17](#exercises-day-17)\n",
    "- [📘 Day 18](#%f0%9f%93%98-day-18)\n",
    "  - [Regular Expression](#regular-expression)\n",
    "    - [Import re module](#import-re-module)\n",
    "    - [re functions](#re-functions)\n",
    "      - [Match](#match)\n",
    "      - [Search](#search)\n",
    "      - [Searching all matches using findall](#searching-all-matches-using-findall)\n",
    "      - [Replacing a substring](#replacing-a-substring)\n",
    "  - [Spliting text using RegEx split](#spliting-text-using-regex-split)\n",
    "  - [Writing RegEx pattern](#writing-regex-pattern)\n",
    "    - [Square Bracket](#square-bracket)\n",
    "    - [Escape character(\\) in RegEx](#escape-character-in-regex)\n",
    "    - [One or more times(+)](#one-or-more-times)\n",
    "    - [Period(.)](#period)\n",
    "    - [Zero or more times(*)](#zero-or-more-times)\n",
    "    - [Zero or one times(?)](#zero-or-one-times)\n",
    "    - [Quantifier in RegEx](#quantifier-in-regex)\n",
    "    - [Cart ^](#cart)\n",
    "  - [💻 Exercises: Day 18](#%f0%9f%92%bb-exercises-day-18)\n",
    "GIVE FEEDBACK: http://thirtydayofpython-api.herokuapp.com/feedback\n",
    "# 📘 Day 16\n",
    "\n",
    "## Python Datetime\n",
    "\n",
    "Python has _datetime_ module to handle date and time."
   ]
  },
  {
   "cell_type": "code",
   "execution_count": null,
   "id": "c7ff6cf4",
   "metadata": {
    "attributes": {
     "classes": [
      "py"
     ],
     "id": ""
    }
   },
   "outputs": [],
   "source": [
    "import datetime\n",
    "print(dir(datetime))\n",
    "['MAXYEAR', 'MINYEAR', '__builtins__', '__cached__', '__doc__', '__file__', '__loader__', '__name__', '__package__', '__spec__', 'date', 'datetime', 'datetime_CAPI', 'sys', 'time', 'timedelta', 'timezone', 'tzinfo']"
   ]
  },
  {
   "cell_type": "markdown",
   "id": "7996d092",
   "metadata": {},
   "source": [
    "Using the dir or help builtin function it is possible to know the available functions in a certain module. As you can see in the datetime there are many functions but we will focus on _date_, _datetime_, _time_ and _timedelta_. Let see them step by step.\n",
    "\n",
    "### Getting the datetime information"
   ]
  },
  {
   "cell_type": "code",
   "execution_count": null,
   "id": "c50ea573",
   "metadata": {
    "attributes": {
     "classes": [
      "py"
     ],
     "id": ""
    }
   },
   "outputs": [],
   "source": [
    "from datetime import datetime\n",
    "now = datetime.now()\n",
    "print(now)                      # 2019-12-04 23:34:46.549883\n",
    "day = now.day                   # 4\n",
    "month = now.month               # 12\n",
    "year = now.year                 # 2019\n",
    "hour = now.hour                 # 23\n",
    "minute = now.minute             # 38\n",
    "second = now.second\n",
    "timestamp = now.timestamp()\n",
    "print(day, month, year, hour, minute)\n",
    "print('timestamp', timestamp)\n",
    "print(f'{day}/{month}/{year}, {hour}:{minute}')  # 4/12/2019, 23:38"
   ]
  },
  {
   "cell_type": "markdown",
   "id": "d6ab78b6",
   "metadata": {},
   "source": [
    "### Formating datetime output using strftime"
   ]
  },
  {
   "cell_type": "code",
   "execution_count": null,
   "id": "24de5c07",
   "metadata": {
    "attributes": {
     "classes": [
      "py"
     ],
     "id": ""
    }
   },
   "outputs": [],
   "source": [
    "from datetime import datetime\n",
    "new_year = datetime(2020, 1, 1)\n",
    "print(new_year)      # 2020-01-01 00:00:00\n",
    "day = new_year.day\n",
    "month = new_year.month\n",
    "year = new_year.year\n",
    "hour = new_year.hour\n",
    "minute = new_year.minute\n",
    "second = new_year.second\n",
    "print(day, month, year, hour, minute) #1 1 2020 0 0\n",
    "print(f'{day}/{month}/{year}, {hour}:{minute}')  # 1/1/2020, 0:0\n"
   ]
  },
  {
   "cell_type": "markdown",
   "id": "c8a9be8c",
   "metadata": {},
   "source": [
    "Time formating"
   ]
  },
  {
   "cell_type": "code",
   "execution_count": null,
   "id": "42e40a86",
   "metadata": {
    "attributes": {
     "classes": [
      "py"
     ],
     "id": ""
    }
   },
   "outputs": [],
   "source": [
    "from datetime import datetime\n",
    "# current date and time\n",
    "now = datetime.now()\n",
    "t = now.strftime(\"%H:%M:%S\")\n",
    "print(\"time:\", t)\n",
    "time_one = now.strftime(\"%m/%d/%Y, %H:%M:%S\")\n",
    "# mm/dd/YY H:M:S format\n",
    "print(\"time one:\", time_one)\n",
    "time_two = now.strftime(\"%d/%m/%Y, %H:%M:%S\")\n",
    "# dd/mm/YY H:M:S format\n",
    "print(\"time two:\", time_two)"
   ]
  },
  {
   "cell_type": "code",
   "execution_count": null,
   "id": "472bb92a",
   "metadata": {
    "attributes": {
     "classes": [
      "sh"
     ],
     "id": ""
    }
   },
   "outputs": [],
   "source": [
    "time: 01:05:01\n",
    "time one: 12/05/2019, 01:05:01\n",
    "time two: 05/12/2019, 01:05:01"
   ]
  },
  {
   "cell_type": "markdown",
   "id": "5c7595cf",
   "metadata": {},
   "source": [
    "Here are all the _strftime_ symbols we use to format time. A reference of all the legal format codes.\n",
    "\n",
    "![strftime](./images/strftime.png)\n",
    "\n",
    "### String to time using strptime"
   ]
  },
  {
   "cell_type": "code",
   "execution_count": null,
   "id": "8402c893",
   "metadata": {
    "attributes": {
     "classes": [
      "py"
     ],
     "id": ""
    }
   },
   "outputs": [],
   "source": [
    "from datetime import datetime\n",
    "date_string = \"5 December, 2019\"\n",
    "print(\"date_string =\", date_string)\n",
    "date_object = datetime.strptime(date_string, \"%d %B, %Y\")\n",
    "print(\"date_object =\", date_object)"
   ]
  },
  {
   "cell_type": "code",
   "execution_count": null,
   "id": "cf01540e",
   "metadata": {
    "attributes": {
     "classes": [
      "sh"
     ],
     "id": ""
    }
   },
   "outputs": [],
   "source": [
    "date_string = 5 December, 2019\n",
    "date_object = 2019-12-05 00:00:00"
   ]
  },
  {
   "cell_type": "markdown",
   "id": "f9192dae",
   "metadata": {},
   "source": [
    "### Use date from datetime"
   ]
  },
  {
   "cell_type": "code",
   "execution_count": null,
   "id": "b4d48e95",
   "metadata": {
    "attributes": {
     "classes": [
      "py"
     ],
     "id": ""
    }
   },
   "outputs": [],
   "source": [
    "from datetime import date\n",
    "d = date(2020, 1, 1)\n",
    "print(d)\n",
    "print('Current date:', d.today())    # 2019-12-05\n",
    "# date object of today's date\n",
    "today = date.today()\n",
    "print(\"Current year:\", today.year)   # 2019\n",
    "print(\"Current month:\", today.month) # 12\n",
    "print(\"Current day:\", today.day)     # 5"
   ]
  },
  {
   "cell_type": "markdown",
   "id": "731d9e9d",
   "metadata": {},
   "source": [
    "### Time object to represent time"
   ]
  },
  {
   "cell_type": "code",
   "execution_count": null,
   "id": "3ee45e7e",
   "metadata": {
    "attributes": {
     "classes": [
      "py"
     ],
     "id": ""
    }
   },
   "outputs": [],
   "source": [
    "from datetime import time\n",
    "# time(hour = 0, minute = 0, second = 0)\n",
    "a = time()\n",
    "print(\"a =\", a)\n",
    "# time(hour, minute and second)\n",
    "b = time(10, 30, 50)\n",
    "print(\"b =\", b)\n",
    "# time(hour, minute and second)\n",
    "c = time(hour=10, minute=30, second=50)\n",
    "print(\"c =\", c)\n",
    "# time(hour, minute, second, microsecond)\n",
    "d = time(10, 30, 50, 200555)\n",
    "print(\"d =\", d)"
   ]
  },
  {
   "cell_type": "markdown",
   "id": "68c14151",
   "metadata": {},
   "source": [
    "output  \n",
    "a = 00:00:00  \n",
    "b = 10:30:50  \n",
    "c = 10:30:50  \n",
    "d = 10:30:50.200555\n",
    "\n",
    "### Difference between two datetime"
   ]
  },
  {
   "cell_type": "code",
   "execution_count": null,
   "id": "2224e869",
   "metadata": {
    "attributes": {
     "classes": [
      "py"
     ],
     "id": ""
    }
   },
   "outputs": [],
   "source": [
    "today = date(year=2019, month=12, day=5)\n",
    "new_year = date(year=2020, month=1, day=1)\n",
    "time_left_for_newyear = new_year - today\n",
    "# Time left for new year:  27 days, 0:00:00\n",
    "print('Time left for new year: ', time_left_for_newyear)\n",
    "\n",
    "t1 = datetime(year = 2019, month = 12, day = 5, hour = 0, minute = 59, second = 0)\n",
    "t2 = datetime(year = 2020, month = 1, day = 1, hour = 0, minute = 0, second = 0)\n",
    "diff = t2 - t1\n",
    "print('Time left for new year:', diff) # Time left for new year: 26 days, 23: 01: 00"
   ]
  },
  {
   "cell_type": "markdown",
   "id": "85aaa639",
   "metadata": {},
   "source": [
    "### Difference between two dates and times using timedelata"
   ]
  },
  {
   "cell_type": "code",
   "execution_count": null,
   "id": "cf2c27db",
   "metadata": {
    "attributes": {
     "classes": [
      "py"
     ],
     "id": ""
    }
   },
   "outputs": [],
   "source": [
    "from datetime import timedelta\n",
    "t1 = timedelta(weeks=12, days=10, hours=4, seconds=20)\n",
    "t2 = timedelta(days=7, hours=5, minutes=3, seconds=30)\n",
    "t3 = t1 - t2\n",
    "print(\"t3 =\", t3)"
   ]
  },
  {
   "cell_type": "code",
   "execution_count": null,
   "id": "771eaf07",
   "metadata": {
    "attributes": {
     "classes": [
      "sh"
     ],
     "id": ""
    }
   },
   "outputs": [],
   "source": [
    "    date_string = 5 December, 2019\n",
    "    date_object = 2019-12-05 00:00:00\n",
    "    t3 = 86 days, 22:56:50"
   ]
  },
  {
   "cell_type": "markdown",
   "id": "c5c576bf",
   "metadata": {},
   "source": [
    "## 💻 Exercises: Day 16\n",
    "\n",
    "1. Get the current day, month, year, hour, minute and timestamp from time date module\n",
    "1. Format the current date using in this format: \"%m/%d/%Y, %H:%M:%S\")\n",
    "1. Today is 5 December, 2019. Change this time string to time.\n",
    "1. Calculate the time difference from now to new year.\n",
    "1. Calculate the time difference between 1 January 1970 and now.\n",
    "1. Think about for what you can you use datetime module,\n",
    "   - Time series analysis\n",
    "   - To get time stamp of any activities in an application\n",
    "   - And many other users\n",
    "\n",
    "# 📘 Day 17\n",
    "\n",
    "## Exception Handling\n",
    "\n",
    "Python uses _try_ and _except_ to handle error gracefully. A graceful exit (or graceful handling) of error is a simple programming idiom wherein a program detects a serious error condition and \"exits gracefully\" in a controlled manner as a result. Often the program prints a descriptive error message to a terminal or log as part of the graceful exit, this make our application more robust. The cause of an exception is often external to the program itself. An example of exceptions could be an incorrect input, wrong file name, unable to find a file, a malfunctioning IO device. Graceful handling of errors prevent our application from crashing.\n",
    "\n",
    "We have cover the different python _error_ types in the previous section. If we use _try_ and _except_ our program don't raise error.\n",
    "\n",
    "![Try and Except](images/try_except.png)"
   ]
  },
  {
   "cell_type": "code",
   "execution_count": null,
   "id": "152e874d",
   "metadata": {
    "attributes": {
     "classes": [
      "py"
     ],
     "id": ""
    }
   },
   "outputs": [],
   "source": [
    "try:\n",
    "    code in this block if things go well\n",
    "except:\n",
    "    code in this block run if things go wrong"
   ]
  },
  {
   "cell_type": "markdown",
   "id": "7b32da86",
   "metadata": {},
   "source": [
    "**Example:**"
   ]
  },
  {
   "cell_type": "code",
   "execution_count": null,
   "id": "5378b58b",
   "metadata": {
    "attributes": {
     "classes": [
      "py"
     ],
     "id": ""
    }
   },
   "outputs": [],
   "source": [
    "try:\n",
    "    print(10 + '5')\n",
    "except:\n",
    "    print('Something goes wrong')"
   ]
  },
  {
   "cell_type": "markdown",
   "id": "3c02f2ad",
   "metadata": {},
   "source": [
    "In the above example the second operand is a string. So, we should change to float or int to add it with a number. Therefore, the second block which is the _except_ executed.\n",
    "**Example:**"
   ]
  },
  {
   "cell_type": "code",
   "execution_count": null,
   "id": "95e88c88",
   "metadata": {
    "attributes": {
     "classes": [
      "py"
     ],
     "id": ""
    }
   },
   "outputs": [],
   "source": [
    "try:\n",
    "    name = input('Enter your name:')\n",
    "    year_born = input('Year you born:')\n",
    "    age = 2019 - year_born\n",
    "\n",
    "    print(f'You are {name}. And your age is {age}.')\n",
    "except:\n",
    "    print('Something goes wrong')"
   ]
  },
  {
   "cell_type": "code",
   "execution_count": null,
   "id": "1c37ceea",
   "metadata": {
    "attributes": {
     "classes": [
      "sh"
     ],
     "id": ""
    }
   },
   "outputs": [],
   "source": [
    "Something goes wrong"
   ]
  },
  {
   "cell_type": "markdown",
   "id": "a4c24f12",
   "metadata": {},
   "source": [
    "In the above example, the exception block will run and we do not know exactly the problem. To know the problem we can use the different error types with except.\n",
    "\n",
    "In the following example, it will handle the error and also tells the kind of error raised."
   ]
  },
  {
   "cell_type": "code",
   "execution_count": null,
   "id": "3221f8d9",
   "metadata": {
    "attributes": {
     "classes": [
      "py"
     ],
     "id": ""
    }
   },
   "outputs": [],
   "source": [
    "except TypeError:\n",
    "    print(TypeError)\n",
    "except:\n",
    "    print('Something goes wrong')\n",
    "try:\n",
    "    name = input('Enter your name:')\n",
    "    year_born = input('Year you born:')\n",
    "    age = 2019 - year_born\n",
    "    print(f'You are {name}. And your age is {age}.')\n",
    "except TypeError:\n",
    "    print('Type error occur')\n",
    "except ValueError:\n",
    "    print('Value error occur')\n",
    "except ZeroDivisionError:\n",
    "    print('zero division error occur')"
   ]
  },
  {
   "cell_type": "code",
   "execution_count": null,
   "id": "ffada2e5",
   "metadata": {
    "attributes": {
     "classes": [
      "sh"
     ],
     "id": ""
    }
   },
   "outputs": [],
   "source": [
    "Enter your name:Asabeneh\n",
    "Year you born:1920\n",
    "Type error occur\n",
    "I alway run."
   ]
  },
  {
   "cell_type": "markdown",
   "id": "ef2796a6",
   "metadata": {},
   "source": [
    "In the above code the output is going to be _TypeError_.\n",
    "\n",
    "Now, lets by by adding additional block:"
   ]
  },
  {
   "cell_type": "code",
   "execution_count": null,
   "id": "cb3c73f3",
   "metadata": {
    "attributes": {
     "classes": [
      "py"
     ],
     "id": ""
    }
   },
   "outputs": [],
   "source": [
    "try:\n",
    "    name = input('Enter your name:')\n",
    "    year_born = input('Year you born:')\n",
    "    age = 2019 - int(year_born)\n",
    "\n",
    "    print(f'You are {name}. And your age is {age}.')\n",
    "except TypeError:\n",
    "    print('Type error occur')\n",
    "except ValueError:\n",
    "    print('Value error occur')\n",
    "except ZeroDivisionError:\n",
    "    print('zero division error occur')\n",
    "\n",
    "else:\n",
    "    print('I usually run with the try block')\n",
    "finally:\n",
    "    print('I alway run.')"
   ]
  },
  {
   "cell_type": "code",
   "execution_count": null,
   "id": "6f2b4886",
   "metadata": {
    "attributes": {
     "classes": [
      "sh"
     ],
     "id": ""
    }
   },
   "outputs": [],
   "source": [
    "Enter your name:Asabeneh\n",
    "Year you born:1920\n",
    "You are Asabeneh. And your age is 99.\n",
    "I usually run with the try block\n",
    "I alway run."
   ]
  },
  {
   "cell_type": "markdown",
   "id": "f86e12b1",
   "metadata": {},
   "source": [
    "## Packing and Unpacking Arguments in Python\n",
    "\n",
    "We use two operators:\n",
    "\n",
    "- \\* for tuples\n",
    "- \\*\\* for dictionaries\n",
    "\n",
    "Let's take as an example below. It takes only arguments but we have list. We can unpack the list and changes to argument.\n",
    "\n",
    "### Unpacking\n",
    "\n",
    "#### Unpacking list"
   ]
  },
  {
   "cell_type": "code",
   "execution_count": null,
   "id": "57d53dbc",
   "metadata": {
    "attributes": {
     "classes": [
      "py"
     ],
     "id": ""
    }
   },
   "outputs": [],
   "source": [
    "def sum_of_five_nums(a, b, c, d, e):\n",
    "    return a + b + c + d + e\n",
    "\n",
    "lst = [1,2,3,4,5]\n",
    "print(sum_of_five_nums(lst)) # TypeError: sum_of_five_nums() missing 4 required positional arguments: 'b', 'c', 'd', and 'e'"
   ]
  },
  {
   "cell_type": "markdown",
   "id": "df8d1241",
   "metadata": {},
   "source": [
    "When we run the above code, it raises an error because this function takes numbers as arguments not as list. Let's unpack or destructure the list."
   ]
  },
  {
   "cell_type": "code",
   "execution_count": null,
   "id": "43d4ab57",
   "metadata": {
    "attributes": {
     "classes": [
      "py"
     ],
     "id": ""
    }
   },
   "outputs": [],
   "source": [
    "def sum_of_five_nums(a, b, c, d, e):\n",
    "    return a + b + c + d + e\n",
    "\n",
    "lst = [1,2,3,4,5]\n",
    "print(sum_of_five_nums(*lst))  # 15"
   ]
  },
  {
   "cell_type": "markdown",
   "id": "8b3cb204",
   "metadata": {},
   "source": [
    "We can also use unpacking in the range builtin function that expects start and end."
   ]
  },
  {
   "cell_type": "code",
   "execution_count": null,
   "id": "ec1f2e34",
   "metadata": {
    "attributes": {
     "classes": [
      "py"
     ],
     "id": ""
    }
   },
   "outputs": [],
   "source": [
    "numbers = range(2, 7)  # normal call with separate arguments\n",
    "print(list(numbers)) # [2, 3, 4, 5, 6]\n",
    "args = [2, 7]\n",
    "numbers = range(*args)  # call with arguments unpacked from a list\n",
    "print(numbers)      # [2, 3, 4, 5,6]\n"
   ]
  },
  {
   "cell_type": "markdown",
   "id": "80d78d93",
   "metadata": {},
   "source": [
    "A list or a tuple can be also be unpacked like this:"
   ]
  },
  {
   "cell_type": "code",
   "execution_count": null,
   "id": "dd721342",
   "metadata": {
    "attributes": {
     "classes": [
      "py"
     ],
     "id": ""
    }
   },
   "outputs": [],
   "source": [
    "countries = ['Finland', 'Sweden', 'Norway', 'Denmark', 'Iceland']\n",
    "fin, sw, nor, *rest = countries\n",
    "print(fin, sw, nor, rest)   # Finland Sweden Norway ['Denmark', 'Iceland']\n",
    "numbers = [1, 2, 3, 4, 5, 6, 7]\n",
    "one, *middle,last = numbers\n",
    "print(one, middle, last)      #  1 [2, 3, 4, 5, 6] 7"
   ]
  },
  {
   "cell_type": "markdown",
   "id": "015aa1c0",
   "metadata": {},
   "source": [
    "#### Unpacking dictionary"
   ]
  },
  {
   "cell_type": "code",
   "execution_count": null,
   "id": "2ddfe17a",
   "metadata": {
    "attributes": {
     "classes": [
      "py"
     ],
     "id": ""
    }
   },
   "outputs": [],
   "source": [
    "def unpacking_person_info(name, country, city, age):\n",
    "    return f'{name} lives in {country}, {city}. He is {age} year old.'\n",
    "dct = {'name':'Asabeneh', 'country':'Finland', 'city':'Helsinki', 'age':250}\n",
    "print(unpacking_person_info(**dct)) # Asabeneh lives in Finland, Helsinki. He is 250 years old."
   ]
  },
  {
   "cell_type": "markdown",
   "id": "e678b8f6",
   "metadata": {},
   "source": [
    "### Packing\n",
    "\n",
    "Sometimes we never know how many arguments need to be passed to a python function, we can use packing method to allow our function to take unlimited number or arbitrary number of arguments.\n",
    "\n",
    "### Packing list"
   ]
  },
  {
   "cell_type": "code",
   "execution_count": null,
   "id": "4ca08581",
   "metadata": {
    "attributes": {
     "classes": [
      "py"
     ],
     "id": ""
    }
   },
   "outputs": [],
   "source": [
    "def sum_all(*args):\n",
    "    s = 0\n",
    "    for i in args:\n",
    "        s += i\n",
    "    return s\n",
    "print(sum_all(1, 2, 3))             # 6\n",
    "print(sum_all(1, 2, 3, 4, 5, 6, 7)) # 28"
   ]
  },
  {
   "cell_type": "markdown",
   "id": "eca2dd40",
   "metadata": {},
   "source": [
    "#### Packing dictionary"
   ]
  },
  {
   "cell_type": "code",
   "execution_count": null,
   "id": "162f64db",
   "metadata": {
    "attributes": {
     "classes": [
      "py"
     ],
     "id": ""
    }
   },
   "outputs": [],
   "source": [
    "def packing_person_info(**kwargs):\n",
    "    # check the type of kwargs and it is a dict type\n",
    "    # print(type(kwargs))\n",
    "\t# Printing dictionary items\n",
    "    for key in kwargs:\n",
    "        print(f\"{key} = {kwargs[key]}\")\n",
    "    return kwargs\n",
    "\n",
    "print(packing_person_info(name=\"Asabeneh\",\n",
    "      country=\"Finland\", city=\"Helsinki\", age=250))"
   ]
  },
  {
   "cell_type": "code",
   "execution_count": null,
   "id": "85116a73",
   "metadata": {
    "attributes": {
     "classes": [
      "sh"
     ],
     "id": ""
    }
   },
   "outputs": [],
   "source": [
    "name = Asabeneh\n",
    "country = Finland\n",
    "city = Helsinki\n",
    "age = 250\n",
    "{'name': 'Asabeneh', 'country': 'Finland', 'city': 'Helsinki', 'age': 250}"
   ]
  },
  {
   "cell_type": "markdown",
   "id": "1699773c",
   "metadata": {},
   "source": [
    "## Spreading in Python\n",
    "\n",
    "Like JavaScript it is possible to spread in python. Lets see the example below:"
   ]
  },
  {
   "cell_type": "code",
   "execution_count": null,
   "id": "48e9927d",
   "metadata": {
    "attributes": {
     "classes": [
      "py"
     ],
     "id": ""
    }
   },
   "outputs": [],
   "source": [
    "lst_one = [1, 2, 3]\n",
    "lst_two = [4, 5, 6,7]\n",
    "lst = [0, *list_one, *list_two]\n",
    "print(lst)          # [0, 1, 2, 3, 4, 5, 6, 7]\n",
    "country_lst_one = ['Finland', 'Sweden', 'Norway']\n",
    "country_lst_two = ['Denmark', 'Iceland']\n",
    "nordic_countries = [*country_lst_one, *country_lst_two]\n",
    "print(nordic_countries)        ['Finland', 'Sweden', 'Norway', 'Denmark', 'Iceland']"
   ]
  },
  {
   "cell_type": "markdown",
   "id": "b99f6dab",
   "metadata": {},
   "source": [
    "## Enumerate\n",
    "In we are interested in an index of a list, we use *enumerate*."
   ]
  },
  {
   "cell_type": "code",
   "execution_count": null,
   "id": "14b5b9d5",
   "metadata": {
    "attributes": {
     "classes": [
      "py"
     ],
     "id": ""
    }
   },
   "outputs": [],
   "source": [
    "for index, i in enumerate(countries):\n",
    "    print('hi')\n",
    "    if i == 'Finland':\n",
    "        print(f'The country {i} has been found at index {index}')"
   ]
  },
  {
   "cell_type": "code",
   "execution_count": null,
   "id": "ec4812d2",
   "metadata": {
    "attributes": {
     "classes": [
      "sh"
     ],
     "id": ""
    }
   },
   "outputs": [],
   "source": [
    "The country Finland has been found at index 1."
   ]
  },
  {
   "cell_type": "markdown",
   "id": "b60c00fd",
   "metadata": {},
   "source": [
    "## Zip\n",
    "Sometimes we like to combine to lists when we loop through. See the example below:"
   ]
  },
  {
   "cell_type": "code",
   "execution_count": null,
   "id": "38acaead",
   "metadata": {
    "attributes": {
     "classes": [
      "py"
     ],
     "id": ""
    }
   },
   "outputs": [],
   "source": [
    "fruits = ['banana', 'orange', 'mango', 'lemon']                    \n",
    "vegetables = ['Tomato', 'Potato', 'Cabbage','Onion', 'Carrot']\n",
    "fruits_and_veges = []\n",
    "for f, v in zip(fruits, vegetables):\n",
    "    fruits_and_veges.append({'fruit':f, 'veg':v})\n",
    "\n",
    "print(fruits_and_veges)"
   ]
  },
  {
   "cell_type": "code",
   "execution_count": null,
   "id": "6b826171",
   "metadata": {
    "attributes": {
     "classes": [
      "sh"
     ],
     "id": ""
    }
   },
   "outputs": [],
   "source": [
    "[{'fruit': 'banana', 'veg': 'Tomato'}, {'fruit': 'orange', 'veg': 'Potato'}, {'fruit': 'mango', 'veg': 'Cabbage'}, {'fruit': 'lemon', 'veg': 'Onion'}]"
   ]
  },
  {
   "cell_type": "markdown",
   "id": "6eedc6c5",
   "metadata": {},
   "source": [
    "## Exercises: Day 17\n",
    "1. names = ['Finland', 'Sweden', 'Norway','Denmark','Iceland', 'Estonia','Russia']. Unpack the first five countries and store them in a variable nordic_countries, store Estonia and Russia in es, and ru respectively.\n",
    "\n",
    "# 📘 Day 18\n",
    "## Regular Expression\n",
    "A regular expression or RegEx is a small programming language that helps to find pattern in data. A RegEx can be used to check if some pattern exists in a different data type. To use RegEx in python first we should import the RegEx module which is *re*.\n",
    "\n",
    "### Import re module\n",
    "After importing the module we can use it to detect or find patterns."
   ]
  },
  {
   "cell_type": "code",
   "execution_count": null,
   "id": "aab68fc2",
   "metadata": {
    "attributes": {
     "classes": [
      "py"
     ],
     "id": ""
    }
   },
   "outputs": [],
   "source": [
    "import re"
   ]
  },
  {
   "cell_type": "markdown",
   "id": "bc6cd2dd",
   "metadata": {},
   "source": [
    "### re functions\n",
    "To find a pattern we use different set of *re* functions that allows to search a string for match.\n",
    "* *re.match()*:searches only in the beginning of the first line of the string and return match object if found, else return none. \n",
    "* *re.search*:Returns a Match object if there is a match anywhere in the string including or in multiline string.\n",
    "* *re.findall*:Returns a list containing all matches\n",
    "* *re.split*:\tReturns a list where the string has been split at each match\n",
    "* *re.sub*:  Replaces one or many matches with a string\n",
    "\n",
    "#### Match"
   ]
  },
  {
   "cell_type": "code",
   "execution_count": null,
   "id": "e51865c6",
   "metadata": {
    "attributes": {
     "classes": [
      "py"
     ],
     "id": ""
    }
   },
   "outputs": [],
   "source": [
    "# syntac\n",
    "re.match(substring, string, re.I)\n",
    "# substring is a string or a pattern, string is the text we look for a pattern , re.I is case ignore"
   ]
  },
  {
   "cell_type": "code",
   "execution_count": null,
   "id": "39785bd4",
   "metadata": {
    "attributes": {
     "classes": [
      "py"
     ],
     "id": ""
    }
   },
   "outputs": [],
   "source": [
    "txt = 'I love to teach python or javaScript'\n",
    "# It return an object with span, and match\n",
    "match = re.match('I love to teach', txt, re.I)\n",
    "print(match)  # <re.Match object; span=(0, 15), match='I love to teach'>\n",
    "# We can get the starting and ending position of the match as tuple using span\n",
    "span = match.span()\n",
    "print(span)     # (0, 15)\n",
    "# Lets find the start and stop position from the span\n",
    "start, end = span\n",
    "print(start, end)  # 0, 15\n",
    "substring = txt[start:end]\n",
    "print(substring)       # I love to teach"
   ]
  },
  {
   "cell_type": "markdown",
   "id": "96431055",
   "metadata": {},
   "source": [
    "As you can see from the above example, the pattern we are looking for or the substring *I love to teach* is the beginning of the text. The match function only returns an object if the text starts with the pattern.\n",
    "\n",
    "#### Search"
   ]
  },
  {
   "cell_type": "code",
   "execution_count": null,
   "id": "9857e008",
   "metadata": {
    "attributes": {
     "classes": [
      "py"
     ],
     "id": ""
    }
   },
   "outputs": [],
   "source": [
    "# syntax\n",
    "re.match(substring, string, re.I)\n",
    "# substring is a pattern, string is the text we look for a pattern , re.I is case ignore flag"
   ]
  },
  {
   "cell_type": "code",
   "execution_count": null,
   "id": "171b585f",
   "metadata": {
    "attributes": {
     "classes": [
      "py"
     ],
     "id": ""
    }
   },
   "outputs": [],
   "source": [
    "txt = '''Python is the most beautiful language that a human begin has ever created.\n",
    "I recommend python for a first programming language'''\n",
    "\n",
    "# It return an object with span, and match\n",
    "match = re.search('first', txt, re.I)\n",
    "print(match)  # <re.Match object; span=(100, 105), match='first'>\n",
    "# We can get the starting and ending position of the match as tuple using span\n",
    "span = match.span()\n",
    "print(span)     # (100, 105)\n",
    "# Lets find the start and stop position from the span\n",
    "start, end = span\n",
    "print(start, end)  # 100 105\n",
    "substring = txt[start:end]\n",
    "print(substring)       # first"
   ]
  },
  {
   "cell_type": "markdown",
   "id": "bb57ee74",
   "metadata": {},
   "source": [
    "As you can see search is much better than match because it can look for the pattern through out the text. Search return returns a match object right way a first match found. A much better *re* function is *findall*. This function check the pattern through the string and returns all the matches as a list.\n",
    "\n",
    "#### Searching all matches using findall\n",
    "*findall()* returns all the matches as a list"
   ]
  },
  {
   "cell_type": "code",
   "execution_count": null,
   "id": "bc8cc9f2",
   "metadata": {
    "attributes": {
     "classes": [
      "py"
     ],
     "id": ""
    }
   },
   "outputs": [],
   "source": [
    "txt = '''Python is the most beautiful language that a human begin has ever created.\n",
    "I recommend python for a first programming language'''\n",
    "\n",
    "# It return a list\n",
    "matches = re.findall('language', txt, re.I)\n",
    "print(matches)  # ['language', 'language']\n"
   ]
  },
  {
   "cell_type": "markdown",
   "id": "6c19fcbf",
   "metadata": {},
   "source": [
    "As you can see, the word language found two times in the string. Let's practice more\n",
    "\n",
    "Let's look for the word both Python and python in the string"
   ]
  },
  {
   "cell_type": "code",
   "execution_count": null,
   "id": "bc34b143",
   "metadata": {
    "attributes": {
     "classes": [
      "py"
     ],
     "id": ""
    }
   },
   "outputs": [],
   "source": [
    "txt = '''Python is the most beautiful language that a human begin has ever created.\n",
    "I recommend python for a first programming language'''\n",
    "\n",
    "# It returns list\n",
    "matches = re.findall('python', txt, re.I)\n",
    "print(matches)  # ['Python', 'python']\n"
   ]
  },
  {
   "cell_type": "markdown",
   "id": "ccabec83",
   "metadata": {},
   "source": [
    "Since we are using *re.I* both lowercase and uppercase are included but if we don't have the flag, we write our pattern differently. Let's see that"
   ]
  },
  {
   "cell_type": "code",
   "execution_count": null,
   "id": "c6a6ed8c",
   "metadata": {
    "attributes": {
     "classes": [
      "py"
     ],
     "id": ""
    }
   },
   "outputs": [],
   "source": [
    "txt = '''Python is the most beautiful language that a human begin has ever created.\n",
    "I recommend python for a first programming language'''\n",
    "\n",
    "matches = re.findall('Python|python', txt)\n",
    "print(matches)  # ['Python', 'python']\n",
    "\n",
    "#\n",
    "matches = re.findall('[Pp]ython', txt)\n",
    "print(matches)  # ['Python', 'python']\n"
   ]
  },
  {
   "cell_type": "markdown",
   "id": "05162634",
   "metadata": {},
   "source": [
    "#### Replacing a substring"
   ]
  },
  {
   "cell_type": "code",
   "execution_count": null,
   "id": "31531ebc",
   "metadata": {
    "attributes": {
     "classes": [
      "py"
     ],
     "id": ""
    }
   },
   "outputs": [],
   "source": [
    "txt = '''Python is the most beautiful language that a human begin has ever created.\n",
    "I recommend python for a first programming language'''\n",
    "\n",
    "match_replaced = re.sub('Python|python', 'JavaScript', txt, re.I)\n",
    "print(match_replaced)  # JavaScript is the most beautiful language that a human begin has ever created.\n",
    "# OR\n",
    "match_replaced = re.sub('[Pp]ython', 'JavaScript', txt, re.I)\n",
    "print(match_replaced)  # JavaScript is the most beautiful language that a human begin has ever created."
   ]
  },
  {
   "cell_type": "markdown",
   "id": "4d0c8663",
   "metadata": {},
   "source": [
    "Let's add one more example, the following string is really hard to read unless we remove the % symbol. Replacing the % with a empty string will clean the text."
   ]
  },
  {
   "cell_type": "code",
   "execution_count": null,
   "id": "ffc182c0",
   "metadata": {
    "attributes": {
     "classes": [
      "py"
     ],
     "id": ""
    }
   },
   "outputs": [],
   "source": [
    "\n",
    "txt = '''%I a%m te%%a%%che%r% a%n%d %% I l%o%ve te%ach%ing.\n",
    "T%he%re i%s n%o%th%ing as m%ore r%ewarding a%s e%duc%at%i%ng a%n%d e%m%p%ow%er%ing p%e%o%ple.\n",
    "I fo%und te%a%ching m%ore i%n%t%er%%es%ting t%h%an any other %jobs.\n",
    "D%o%es thi%s m%ot%iv%a%te %y%o%u to b%e a t%e%a%cher.'''\n",
    "\n",
    "matches = re.sub('%', '', txt)\n",
    "print(matches)  # ['Python', 'python']"
   ]
  },
  {
   "cell_type": "code",
   "execution_count": null,
   "id": "43a38f86",
   "metadata": {
    "attributes": {
     "classes": [
      "sh"
     ],
     "id": ""
    }
   },
   "outputs": [],
   "source": [
    "I am teacher and  I love teaching.\n",
    "There is nothing as more rewarding as educating and empowering people.\n",
    "I found teaching more interesting than any other jobs.\n",
    "Does this motivate you to be a teacher."
   ]
  },
  {
   "cell_type": "markdown",
   "id": "56ee538d",
   "metadata": {},
   "source": [
    "## Spliting text using RegEx split"
   ]
  },
  {
   "cell_type": "code",
   "execution_count": null,
   "id": "d707d6dc",
   "metadata": {
    "attributes": {
     "classes": [
      "py"
     ],
     "id": ""
    }
   },
   "outputs": [],
   "source": [
    "txt = '''I am teacher and  I love teaching.\n",
    "There is nothing as more rewarding as educating and empowering people.\n",
    "I found teaching more interesting than any other jobs.\n",
    "Does this motivate you to be a teacher.'''\n",
    "print(re.split('\\n', txt))"
   ]
  },
  {
   "cell_type": "code",
   "execution_count": null,
   "id": "6b0fe48b",
   "metadata": {
    "attributes": {
     "classes": [
      "sh"
     ],
     "id": ""
    }
   },
   "outputs": [],
   "source": [
    "['I am teacher and  I love teaching.', 'There is nothing as more rewarding as educating and empowering people.', 'I found teaching more interesting than any other jobs.', 'Does this motivate you to be a teacher.']"
   ]
  },
  {
   "cell_type": "markdown",
   "id": "9dd5837a",
   "metadata": {},
   "source": [
    "## Writing RegEx pattern\n",
    "To declare a string variable we use a single or double quote. To declare RegEx variable *r''*.\n",
    "The following pattern only identifies apple with lowercase, to make it case insensitive either we should rewrite our pattern or we should add a flag."
   ]
  },
  {
   "cell_type": "code",
   "execution_count": null,
   "id": "c104154b",
   "metadata": {
    "attributes": {
     "classes": [
      "py"
     ],
     "id": ""
    }
   },
   "outputs": [],
   "source": [
    "regex_pattern = r'apple'\n",
    "txt = 'Apple and banana are fruits. An old cliche says an apple a day a doctor way has been replaced by a banana a day keeps the doctor far far away. '\n",
    "matches = re.findall(regex_pattern, txt)\n",
    "print(matches)  # ['apple']\n",
    "\n",
    "# To make case insensitive adding flag '\n",
    "matches = re.findall(regex_pattern, txt, re.I)\n",
    "print(matches)  # ['Apple', 'apple']\n",
    "# or we can use set of characters method\n",
    "regex_pattern = r'[Aa]pple'  # this mean the first letter could be Apple or apple\n",
    "matches = re.findall(regex_pattern, txt)\n",
    "print(matches)  # ['Apple', 'apple']\n"
   ]
  },
  {
   "cell_type": "markdown",
   "id": "c3a73518",
   "metadata": {},
   "source": [
    "* []:  A set of characters\n",
    "  * [a-c] means, a or b or c\n",
    "  * [a-z] means, any letter a to z\n",
    "  * [A-Z] means, any character A to Z\n",
    "  * [0-3] means, 0 or 1 or 2 or 3\n",
    "  * [0-9] means any number 0 to 9\n",
    "  * [A-Za-z0-9] any character which is a to z, A to Z, 0 to 9\n",
    "* \\\\:  uses to escape special characters\n",
    "  * \\d mean:match where the string contains digits (numbers from 0-9)\n",
    "  * \\D mean: match where the string does not contain digits\n",
    "* . : any character except new line character(\\n)\n",
    "* ^: starts with\n",
    "  * r'^substring' eg r'^love', a sentence which starts with a word love\n",
    "  * r'[^abc] mean not a, not b, not c.\n",
    "* $: ends with\n",
    "  * r'substring$' eg r'love$', sentence ends with a word love\n",
    "* *: zero or more times\n",
    "  * r'[a]*' means a optional or it can be occur many times.\n",
    "* +: one or more times\n",
    "  * r'[a]+' mean at least once or more times\n",
    "* ?: zero or one times\n",
    "  *  r'[a]?' mean zero times or once\n",
    "* {3}: Exactly 3 characters\n",
    "* {3,}: At least 3 character\n",
    "* {3,8}: 3 to 8 characters\n",
    "* |: Either or\n",
    "  * r'apple|banana' mean either of an apple or a banana\n",
    "* (): Capture and group\n",
    "\n",
    "![Regular Expression cheat sheet](images/regex.png)\n",
    "\n",
    "Let's use example to clarify the above meta characters\n",
    "### Square Bracket\n",
    "Let's use square bracket to include lower and upper case"
   ]
  },
  {
   "cell_type": "code",
   "execution_count": null,
   "id": "823241dc",
   "metadata": {
    "attributes": {
     "classes": [
      "py"
     ],
     "id": ""
    }
   },
   "outputs": [],
   "source": [
    "regex_pattern = r'[Aa]pple' # this square bracket mean either A or a\n",
    "txt = 'Apple and banana are fruits. An old cliche says an apple a day a doctor way has been replaced by a banana a day keeps the doctor far far away. '\n",
    "matches = re.findall(regex_pattern, txt)\n",
    "print(matches)  # ['Apple', 'apple']"
   ]
  },
  {
   "cell_type": "markdown",
   "id": "8a61050f",
   "metadata": {},
   "source": [
    "If we want to look for the banana, we write the pattern as follows:"
   ]
  },
  {
   "cell_type": "code",
   "execution_count": null,
   "id": "a2b82c3f",
   "metadata": {
    "attributes": {
     "classes": [
      "py"
     ],
     "id": ""
    }
   },
   "outputs": [],
   "source": [
    "regex_pattern = r'[Aa]pple|[Bb]anana' # this square bracket mean either A or a\n",
    "txt = 'Apple and banana are fruits. An old cliche says an apple a day a doctor way has been replaced by a banana a day keeps the doctor far far away. '\n",
    "matches = re.findall(regex_pattern, txt)\n",
    "print(matches)  # ['Apple', 'banana', 'apple', 'banana']"
   ]
  },
  {
   "cell_type": "markdown",
   "id": "3d9c6ae2",
   "metadata": {},
   "source": [
    "Using the square bracket and or operator , we manage to extract Apple, apple, Banana and banana.\n",
    "\n",
    "### Escape character(\\\\) in RegEx"
   ]
  },
  {
   "cell_type": "code",
   "execution_count": null,
   "id": "fe445efb",
   "metadata": {
    "attributes": {
     "classes": [
      "py"
     ],
     "id": ""
    }
   },
   "outputs": [],
   "source": [
    "regex_pattern = r'\\d'  # d is a special character which means digits\n",
    "txt = 'This regular expression example was made in December 6,  2019.'\n",
    "matches = re.findall(regex_pattern, txt)\n",
    "print(matches)  # ['6', '2', '0', '1', '9'], this is not what we want\n",
    "\n",
    "regex_pattern = r'\\d+'  # d is a special character which means digits, + mean one or more\n",
    "txt = 'This regular expression example was made in December 6,  2019.'\n",
    "matches = re.findall(regex_pattern, txt)\n",
    "print(matches)  # ['6', '2019']"
   ]
  },
  {
   "cell_type": "markdown",
   "id": "91d63ea3",
   "metadata": {},
   "source": [
    "### One or more times(+)"
   ]
  },
  {
   "cell_type": "code",
   "execution_count": null,
   "id": "e5911e4c",
   "metadata": {
    "attributes": {
     "classes": [
      "py"
     ],
     "id": ""
    }
   },
   "outputs": [],
   "source": [
    "regex_pattern = r'\\d+'  # d is a special character which means digits, + mean one or more times\n",
    "txt = 'This regular expression example was made in December 6,  2019.'\n",
    "matches = re.findall(regex_pattern, txt)\n",
    "print(matches)  # ['6', '2019']"
   ]
  },
  {
   "cell_type": "markdown",
   "id": "4296afc3",
   "metadata": {},
   "source": [
    "### Period(.)"
   ]
  },
  {
   "cell_type": "code",
   "execution_count": null,
   "id": "ab6f1ed9",
   "metadata": {
    "attributes": {
     "classes": [
      "py"
     ],
     "id": ""
    }
   },
   "outputs": [],
   "source": [
    "regex_pattern = r'[a].'  # this square bracket means a and . means any character except new line\n",
    "txt = '''Apple and banana are fruits'''\n",
    "matches = re.findall(regex_pattern, txt)\n",
    "print(matches)  # ['an', 'an', 'an', 'a ', 'ar']\n",
    "\n",
    "regex_pattern = r'[a].+'  # . any character, + any character one or more times \n",
    "matches = re.findall(regex_pattern, txt)\n",
    "print(matches)  # ['and banana are fruits']\n"
   ]
  },
  {
   "cell_type": "markdown",
   "id": "f3965af0",
   "metadata": {},
   "source": [
    "### Zero or more times(*)\n",
    "Zero or many times. The pattern could may not occur or it can occur many times."
   ]
  },
  {
   "cell_type": "code",
   "execution_count": null,
   "id": "d90e6bec",
   "metadata": {
    "attributes": {
     "classes": [
      "py"
     ],
     "id": ""
    }
   },
   "outputs": [],
   "source": [
    "\n",
    "regex_pattern = r'[a].*'  # . any character, + any character one or more times \n",
    "txt = '''Apple and banana are fruits'''\n",
    "matches = re.findall(regex_pattern, txt)\n",
    "print(matches)  # ['and banana are fruits']\n"
   ]
  },
  {
   "cell_type": "markdown",
   "id": "36c6c470",
   "metadata": {},
   "source": [
    "### Zero or one times(?)\n",
    "Zero or one times. The pattern could may not occur or it may occur once."
   ]
  },
  {
   "cell_type": "code",
   "execution_count": null,
   "id": "2ec15077",
   "metadata": {
    "attributes": {
     "classes": [
      "py"
     ],
     "id": ""
    }
   },
   "outputs": [],
   "source": [
    "txt = '''I am not sure if there is a convention how to write the word e-mail.\n",
    "Some people write it email others may write it as Email or E-mail.'''\n",
    "regex_pattern = r'[Ee]-?mail'  # ? means optional\n",
    "matches = re.findall(regex_pattern, txt)\n",
    "print(matches)  # ['e-mail', 'email', 'Email', 'E-mail']\n"
   ]
  },
  {
   "cell_type": "markdown",
   "id": "15c4e12c",
   "metadata": {},
   "source": [
    "### Quantifier in RegEx\n",
    "We can specify the length of the substring we look for in a text, using a curly bracket. Lets imagine, we are interested in substring that their length are 4 characters"
   ]
  },
  {
   "cell_type": "code",
   "execution_count": null,
   "id": "3c56f462",
   "metadata": {
    "attributes": {
     "classes": [
      "py"
     ],
     "id": ""
    }
   },
   "outputs": [],
   "source": [
    "txt = 'This regular expression example was made in December 6,  2019.'\n",
    "regex_pattern = r'\\d{4}'  # exactly four times\n",
    "matches = re.findall(regex_pattern, txt)\n",
    "print(matches)  # ['2019']\n",
    "\n",
    "txt = 'This regular expression example was made in December 6,  2019.'\n",
    "regex_pattern = r'\\d{1, 4}'   # 1 to 4\n",
    "matches = re.findall(regex_pattern, txt)\n",
    "print(matches)  # ['6', '2019']\n"
   ]
  },
  {
   "cell_type": "markdown",
   "id": "1fbe69d4",
   "metadata": {},
   "source": [
    "### Cart ^\n",
    "* Starts with"
   ]
  },
  {
   "cell_type": "code",
   "execution_count": null,
   "id": "17641045",
   "metadata": {
    "attributes": {
     "classes": [
      "py"
     ],
     "id": ""
    }
   },
   "outputs": [],
   "source": [
    "txt = 'This regular expression example was made in December 6,  2019.'\n",
    "regex_pattern = r'^This'  # ^ means starts with\n",
    "print(matches)  # ['This']"
   ]
  },
  {
   "cell_type": "markdown",
   "id": "026bcec6",
   "metadata": {},
   "source": [
    "* Negation"
   ]
  },
  {
   "cell_type": "code",
   "execution_count": null,
   "id": "4c7b3e90",
   "metadata": {
    "attributes": {
     "classes": [
      "py"
     ],
     "id": ""
    }
   },
   "outputs": [],
   "source": [
    "txt = 'This regular expression example was made in December 6,  2019.'\n",
    "regex_pattern = r'[^A-Za-z ]+'  # ^ in set character means negation, not A to Z, not a to z, no space\n",
    "matches = re.findall(regex_pattern, txt)\n",
    "print(matches)  # ['e-mail', 'email', 'Email', 'E-mail']"
   ]
  },
  {
   "cell_type": "markdown",
   "id": "e64105fe",
   "metadata": {},
   "source": [
    "## 💻 Exercises: Day 18\n",
    "  1. What is the most frequent word in the following paragraph ?"
   ]
  },
  {
   "cell_type": "code",
   "execution_count": null,
   "id": "d30d9539",
   "metadata": {
    "attributes": {
     "classes": [
      "py"
     ],
     "id": ""
    }
   },
   "outputs": [],
   "source": [
    "    paragraph = 'I love teaching. If you do not love teaching what else can you love. I love Python if you do not love something which can give you all the capabilities to develop an application what else can you love."
   ]
  },
  {
   "cell_type": "code",
   "execution_count": null,
   "id": "b6a54016",
   "metadata": {
    "attributes": {
     "classes": [
      "sh"
     ],
     "id": ""
    }
   },
   "outputs": [],
   "source": [
    "    [(6, 'love'),\n",
    "    (5, 'you'),\n",
    "    (3, 'can'),\n",
    "    (2, 'what'),\n",
    "    (2, 'teaching'),\n",
    "    (2, 'not'),\n",
    "    (2, 'else'),\n",
    "    (2, 'do'),\n",
    "    (2, 'I'),\n",
    "    (1, 'which'),\n",
    "    (1, 'to'),\n",
    "    (1, 'the'),\n",
    "    (1, 'something'),\n",
    "    (1, 'if'),\n",
    "    (1, 'give'),\n",
    "    (1, 'develop'),\n",
    "    (1, 'capabilities'),\n",
    "    (1, 'application'),\n",
    "    (1, 'an'),\n",
    "    (1, 'all'),\n",
    "    (1, 'Python'),\n",
    "    (1, 'If')]"
   ]
  },
  {
   "cell_type": "markdown",
   "id": "72b20702",
   "metadata": {},
   "source": [
    "2. The position of some particles on the horizontal x-axis -12, -4, -3 and  -1 in the negative direction, 0 at origin, 4 and 8 in the positive direction. Extract these numbers and find the distance between the two furthest particles."
   ]
  },
  {
   "cell_type": "code",
   "execution_count": null,
   "id": "3b351032",
   "metadata": {
    "attributes": {
     "classes": [
      "py"
     ],
     "id": ""
    }
   },
   "outputs": [],
   "source": [
    "points = ['-1', '2', '-4', '-3', '-1', '0', '4', '8']\n",
    "sorted_points =  [-4, -3, -1, -1, 0, 2, 4, 8]\n",
    "distance = 12"
   ]
  },
  {
   "cell_type": "markdown",
   "id": "1c67d397",
   "metadata": {},
   "source": [
    "3. Write a pattern which identify if a string is a valid python variable\n",
    "    ```sh\n",
    "    is_valid_variable('first_name') # True\n",
    "    is_valid_variable('first-name') # False\n",
    "    is_valid_variable('1first_name') # False\n",
    "    is_valid_variable('firstname') # True\n",
    "    ```\n",
    "4. Clean the following text. After cleaning, count three most frequent words in the string.\n",
    "    ```py\n",
    "    sentence = '''%I $am@% a %tea@cher%, &and& I lo%#ve %tea@ching%;. There $is nothing; &as& mo@re rewarding as educa@ting &and& @emp%o@wering peo@ple. ;I found tea@ching m%o@re interesting tha@n any other %jo@bs. %Do@es thi%s mo@tivate yo@u to be a tea@cher!?'''"
   ]
  },
  {
   "cell_type": "code",
   "execution_count": null,
   "id": "be75c6c2",
   "metadata": {},
   "outputs": [],
   "source": [
    "print(clean_text(sentence));\n",
    "I am a teacher and I love teaching There is nothing as more rewarding as educating and empowering people I found teaching more interesting than any other jobs Does this motivate you to be a teacher\n",
    "print(most_frequent_words(cleaned_text)) # [(3, 'I'), (2, 'teaching'), (2, 'teacher')]\n",
    "```"
   ]
  },
  {
   "cell_type": "markdown",
   "id": "0f3c3a0e",
   "metadata": {},
   "source": [
    "[<< Part 5 ](https://github.com/Asabeneh/30-Days-Of-Python/blob/master/readme13-15.md) | [Part 7 >>](https://github.com/Asabeneh/30-Days-Of-Python/blob/master/readme19-21.md)\n",
    "\n",
    "---"
   ]
  }
 ],
 "metadata": {},
 "nbformat": 4,
 "nbformat_minor": 5
}
