{
 "cells": [
  {
   "cell_type": "markdown",
   "id": "4fb6c61f",
   "metadata": {},
   "source": [
    "![30DaysOfPython](./images/30DaysOfPython_banner3@2x.png)\n",
    "\n",
    "🧳 [Part 1: Day 1 - 3](https://github.com/Asabeneh/30-Days-Of-Python)  \n",
    "🧳 [Part 2: Day 4 - 6](https://github.com/Asabeneh/30-Days-Of-Python/blob/master/readme4-6.md)  \n",
    "🧳 [Part 3: Day 7 - 9](https://github.com/Asabeneh/30-Days-Of-Python/blob/master/readme7-9.md)  \n",
    "🧳 [Part 4: Day 10 - 12](https://github.com/Asabeneh/30-Days-Of-Python/blob/master/readme10-12.md)  \n",
    "🧳 [Part 5: Day 13 - 15](https://github.com/Asabeneh/30-Days-Of-Python/blob/master/readme13-15.md)  \n",
    "🧳 [Part 6: Day 16 - 18](https://github.com/Asabeneh/30-Days-Of-Python/blob/master/readme16-18.md)  \n",
    "🧳 [Part 7: Day 19 - 21](https://github.com/Asabeneh/30-Days-Of-Python/blob/master/readme19-21.md)  \n",
    "🧳 [Part 8: Day 22 - 24](https://github.com/Asabeneh/30-Days-Of-Python/blob/master/readme22-24.md)  \n",
    "🧳 [Part 9: Day 25 - 27](https://github.com/Asabeneh/30-Days-Of-Python/blob/master/readme25-27.md)  \n",
    "🧳 [Part 10: Day 28 - 30](https://github.com/Asabeneh/30-Days-Of-Python/blob/master/readme28-30.md) \n",
    "\n",
    "---\n",
    "- [📘 Day 10](#%f0%9f%93%98-day-10)\n",
    "  - [Loops](#loops)\n",
    "    - [While Loop](#while-loop)\n",
    "    - [Break and continue](#break-and-continue)\n",
    "    - [For Loop](#for-loop)\n",
    "    - [Break and Continue](#break-and-continue)\n",
    "    - [The range function](#the-range-function)\n",
    "    - [Nested for loop](#nested-for-loop)\n",
    "    - [For Else](#for-else)\n",
    "    - [Pass](#pass)\n",
    "  - [💻 Exercises: Day 10](#%f0%9f%92%bb-exercises-day-10)\n",
    "- [📘 Day 11](#%f0%9f%93%98-day-11)\n",
    "  - [Functions](#functions)\n",
    "    - [Defining a Function](#defining-a-function)\n",
    "    - [Declaring and calling a function](#declaring-and-calling-a-function)\n",
    "    - [Function without parameters](#function-without-parameters)\n",
    "    - [Function returning value](#function-returning-value)\n",
    "    - [Function with parameters](#function-with-parameters)\n",
    "    - [Passing arguments with key and value](#passing-arguments-with-key-and-value)\n",
    "    - [Returning a value from a function](#returning-a-value-from-a-function)\n",
    "    - [Function with default parameters](#function-with-default-parameters)\n",
    "    - [Arbitrary number of arguments](#arbitrary-number-of-arguments)\n",
    "    - [Default and arbitrary number of parameters in function](#default-and-arbitrary-number-of-parameters-in-function)\n",
    "    - [Function as parameter of other function](#function-as-parameter-of-other-function)\n",
    "  - [💻 Exercises: Day 11](#%f0%9f%92%bb-exercises-day-11)\n",
    "- [📘 Day 12](#%f0%9f%93%98-day-12)\n",
    "  - [Module](#module)\n",
    "    - [What is a module](#what-is-a-module)\n",
    "    - [Creating a module](#creating-a-module)\n",
    "    - [Importing a module](#importing-a-module)\n",
    "    - [Import functions from a module](#import-functions-from-a-module)\n",
    "    - [Import functions from a module and renaming](#import-functions-from-a-module-and-renaming)\n",
    "  - [Import Builtin Modules](#import-builtin-modules)\n",
    "    - [OS Module](#os-module)\n",
    "    - [Sys Module](#sys-module)\n",
    "    - [Statistics Module](#statistics-module)\n",
    "    - [Math Module](#math-module)\n",
    "    - [Random Module](#random-module)\n",
    "  - [💻 Exercises: Day 12](#%f0%9f%92%bb-exercises-day-12)\n",
    "\n",
    "GIVE FEEDBACK: http://thirtydayofpython-api.herokuapp.com/feedback\n",
    "# 📘 Day 10\n",
    "## Loops\n",
    "Life is full of routines. In programming also we do lots of repetitive tasks. In order to handle repetitive task programming languages provide loops. Python programming language also provides the following types of two loops to handle looping. \n",
    "1. while loop\n",
    "2. for loop\n",
    "### While Loop\n",
    "We use the reserved word *while* to make a while loop. While loop is used to execute a block of statements repeatedly until a given condition is satisfied. When the condition becomes false, the line immediately after the loop will be executed."
   ]
  },
  {
   "cell_type": "code",
   "execution_count": null,
   "id": "a930422f",
   "metadata": {
    "attributes": {
     "classes": [
      "py"
     ],
     "id": ""
    }
   },
   "outputs": [],
   "source": [
    "  # syntax\n",
    "  while condition:\n",
    "      code goes here"
   ]
  },
  {
   "cell_type": "markdown",
   "id": "d45b7030",
   "metadata": {},
   "source": [
    "**Example:**"
   ]
  },
  {
   "cell_type": "code",
   "execution_count": null,
   "id": "0dc7a23c",
   "metadata": {
    "attributes": {
     "classes": [
      "py"
     ],
     "id": ""
    }
   },
   "outputs": [],
   "source": [
    "  count = 0\n",
    "  while count < 5:\n",
    "      print(count)\n",
    "      count = count + 1"
   ]
  },
  {
   "cell_type": "markdown",
   "id": "be903033",
   "metadata": {},
   "source": [
    "In the above while loop, the condition become false when count is 5, then the loop stops.\n",
    "If we are interested to run block of code once the condition is no longer true, we can use *else*."
   ]
  },
  {
   "cell_type": "code",
   "execution_count": null,
   "id": "c3f1c8da",
   "metadata": {
    "attributes": {
     "classes": [
      "py"
     ],
     "id": ""
    }
   },
   "outputs": [],
   "source": [
    "  # syntax\n",
    "  while condition:\n",
    "      code goes here\n",
    "  else:\n",
    "      code goes here"
   ]
  },
  {
   "cell_type": "markdown",
   "id": "6b25691c",
   "metadata": {},
   "source": [
    "**Example:**"
   ]
  },
  {
   "cell_type": "code",
   "execution_count": null,
   "id": "4127a38c",
   "metadata": {
    "attributes": {
     "classes": [
      "py"
     ],
     "id": ""
    }
   },
   "outputs": [],
   "source": [
    "  count = 0\n",
    "  while count < 5:\n",
    "        print(count)\n",
    "        count = count + 1\n",
    "  else:\n",
    "      print(count)"
   ]
  },
  {
   "cell_type": "markdown",
   "id": "7890d1c5",
   "metadata": {},
   "source": [
    "The above loop condition will be false when count is 5 and the loop stops, and execution starts the else statement and 5 prints in the else statement.\n",
    "### Break and continue\n",
    "* Break: We use break when we like to get out or stop the loop."
   ]
  },
  {
   "cell_type": "code",
   "execution_count": null,
   "id": "6c3ace33",
   "metadata": {
    "attributes": {
     "classes": [
      "py"
     ],
     "id": ""
    }
   },
   "outputs": [],
   "source": [
    "  # syntax\n",
    "  while condition:\n",
    "      code goes here\n",
    "      if another_condition:\n",
    "          break "
   ]
  },
  {
   "cell_type": "markdown",
   "id": "636155ef",
   "metadata": {},
   "source": [
    "**Example:**"
   ]
  },
  {
   "cell_type": "code",
   "execution_count": null,
   "id": "631e83ad",
   "metadata": {
    "attributes": {
     "classes": [
      "py"
     ],
     "id": ""
    }
   },
   "outputs": [],
   "source": [
    "  count = 0\n",
    "  while count < 5:\n",
    "      print(count)\n",
    "      count = count + 1\n",
    "      if count == 3:\n",
    "          break"
   ]
  },
  {
   "cell_type": "markdown",
   "id": "cec84f51",
   "metadata": {},
   "source": [
    "The above while loop only prints 0, 1, 2, but when it reaches 3 it stops.\n",
    "* Continue: With the continue statement we can stop the current iteration, and continue with the next:"
   ]
  },
  {
   "cell_type": "code",
   "execution_count": null,
   "id": "c4f3eac3",
   "metadata": {
    "attributes": {
     "classes": [
      "py"
     ],
     "id": ""
    }
   },
   "outputs": [],
   "source": [
    "  # syntax\n",
    "  while condition:\n",
    "      code goes here\n",
    "      if another_condition:\n",
    "          continue"
   ]
  },
  {
   "cell_type": "markdown",
   "id": "76b47cd8",
   "metadata": {},
   "source": [
    "**Example:**"
   ]
  },
  {
   "cell_type": "code",
   "execution_count": null,
   "id": "585eccef",
   "metadata": {
    "attributes": {
     "classes": [
      "py"
     ],
     "id": ""
    }
   },
   "outputs": [],
   "source": [
    "count = 0\n",
    "while count < 5:\n",
    "    if count == 3:\n",
    "        continue\n",
    "    print(count)\n",
    "    count = count + 1"
   ]
  },
  {
   "cell_type": "markdown",
   "id": "73e336b1",
   "metadata": {},
   "source": [
    "The above while loop only prints 0, 1, 2,4 but skips 3.\n",
    "### For Loop \n",
    "A *for* key word used to make a for loop like in other programming language but with some syntax difference.  Loop is used for iterating over a sequence (that is either a list, a tuple, a dictionary, a set, or a string).\n",
    "* For loop with list"
   ]
  },
  {
   "cell_type": "code",
   "execution_count": null,
   "id": "722c639a",
   "metadata": {
    "attributes": {
     "classes": [
      "py"
     ],
     "id": ""
    }
   },
   "outputs": [],
   "source": [
    "  # syntax\n",
    "  for iterator in lst:\n",
    "    code goes here"
   ]
  },
  {
   "cell_type": "markdown",
   "id": "36a54a2f",
   "metadata": {},
   "source": [
    "**Example:**"
   ]
  },
  {
   "cell_type": "code",
   "execution_count": null,
   "id": "b8f07803",
   "metadata": {
    "attributes": {
     "classes": [
      "py"
     ],
     "id": ""
    }
   },
   "outputs": [],
   "source": [
    "  numbers = [0, 1, 2, 3, 4, 5]\n",
    "  for number in numbers:\n",
    "      print(number)"
   ]
  },
  {
   "cell_type": "markdown",
   "id": "bd93a31f",
   "metadata": {},
   "source": [
    "* For loop with string"
   ]
  },
  {
   "cell_type": "code",
   "execution_count": null,
   "id": "d9fdd48f",
   "metadata": {
    "attributes": {
     "classes": [
      "py"
     ],
     "id": ""
    }
   },
   "outputs": [],
   "source": [
    "  # syntax\n",
    "  for iterator in string:\n",
    "    code goes here"
   ]
  },
  {
   "cell_type": "markdown",
   "id": "39a05781",
   "metadata": {},
   "source": [
    "**Example:**"
   ]
  },
  {
   "cell_type": "code",
   "execution_count": null,
   "id": "8021c74c",
   "metadata": {
    "attributes": {
     "classes": [
      "py"
     ],
     "id": ""
    }
   },
   "outputs": [],
   "source": [
    "  language = 'Python'\n",
    "  for letter in language:\n",
    "    print(letter)"
   ]
  },
  {
   "cell_type": "markdown",
   "id": "43626d7b",
   "metadata": {},
   "source": [
    "* For loop with tuple"
   ]
  },
  {
   "cell_type": "code",
   "execution_count": null,
   "id": "d258c0d1",
   "metadata": {
    "attributes": {
     "classes": [
      "py"
     ],
     "id": ""
    }
   },
   "outputs": [],
   "source": [
    "  # syntax\n",
    "  for iterator in tpl:\n",
    "    code goes here"
   ]
  },
  {
   "cell_type": "markdown",
   "id": "2e0483ce",
   "metadata": {},
   "source": [
    "**Example:**"
   ]
  },
  {
   "cell_type": "code",
   "execution_count": null,
   "id": "41df993c",
   "metadata": {
    "attributes": {
     "classes": [
      "py"
     ],
     "id": ""
    }
   },
   "outputs": [],
   "source": [
    "  numbers = (0, 1,2,3,4,5)\n",
    "  for number in numbers:\n",
    "    print(number)"
   ]
  },
  {
   "cell_type": "markdown",
   "id": "140b8bb7",
   "metadata": {},
   "source": [
    "* For loop with dictionary\n",
    "  Looping through a dictionary gives you the key of the dictionary."
   ]
  },
  {
   "cell_type": "code",
   "execution_count": null,
   "id": "36e88153",
   "metadata": {
    "attributes": {
     "classes": [
      "py"
     ],
     "id": ""
    }
   },
   "outputs": [],
   "source": [
    "  # syntax\n",
    "  for iterator in dct:\n",
    "    code goes here"
   ]
  },
  {
   "cell_type": "markdown",
   "id": "b15abd84",
   "metadata": {},
   "source": [
    "**Example:**"
   ]
  },
  {
   "cell_type": "code",
   "execution_count": null,
   "id": "3e27d2c0",
   "metadata": {
    "attributes": {
     "classes": [
      "py"
     ],
     "id": ""
    }
   },
   "outputs": [],
   "source": [
    "  person = {\n",
    "      'first_name':'Asabeneh',\n",
    "      'last_name':'Yetayeh',\n",
    "      'age':250,\n",
    "      'country':'Finland',\n",
    "      'is_marred':True,\n",
    "      'skills':['JavaScript', 'React', 'Node', 'MongoDB', 'Python'],\n",
    "      'address':{\n",
    "          'street':'Space street',\n",
    "          'zipcode':'02210'\n",
    "      }\n",
    "      }\n",
    "  for key in person:\n",
    "    print(key)\n",
    "\n",
    "  for key, value in person.items():\n",
    "    print(key, value) # "
   ]
  },
  {
   "cell_type": "markdown",
   "id": "cbb1b59b",
   "metadata": {},
   "source": [
    "* Loops in set"
   ]
  },
  {
   "cell_type": "code",
   "execution_count": null,
   "id": "63ad4dbd",
   "metadata": {
    "attributes": {
     "classes": [
      "py"
     ],
     "id": ""
    }
   },
   "outputs": [],
   "source": [
    "  # syntax\n",
    "  for iterator in st:\n",
    "    code goes here"
   ]
  },
  {
   "cell_type": "markdown",
   "id": "b3159035",
   "metadata": {},
   "source": [
    "**Example:**"
   ]
  },
  {
   "cell_type": "code",
   "execution_count": null,
   "id": "724d1155",
   "metadata": {
    "attributes": {
     "classes": [
      "py"
     ],
     "id": ""
    }
   },
   "outputs": [],
   "source": [
    "  it_companies = {'Facebook', 'Google', 'Microsoft', 'Apple', 'IBM', 'Oracle', 'Amazon'}\n",
    "  for company in it_companies:\n",
    "    print(company)"
   ]
  },
  {
   "cell_type": "markdown",
   "id": "0236ceef",
   "metadata": {},
   "source": [
    "### Break and Continue\n",
    "*Break*: We use break when we like to stop our loop before the loop is completed."
   ]
  },
  {
   "cell_type": "code",
   "execution_count": null,
   "id": "c06cee92",
   "metadata": {
    "attributes": {
     "classes": [
      "py"
     ],
     "id": ""
    }
   },
   "outputs": [],
   "source": [
    "  # syntax\n",
    "  for iterator in sequence:\n",
    "    code goes here\n",
    "    if condition:\n",
    "      break"
   ]
  },
  {
   "cell_type": "markdown",
   "id": "cd02199a",
   "metadata": {},
   "source": [
    "**Example:**"
   ]
  },
  {
   "cell_type": "code",
   "execution_count": null,
   "id": "9aceb110",
   "metadata": {
    "attributes": {
     "classes": [
      "py"
     ],
     "id": ""
    }
   },
   "outputs": [],
   "source": [
    "  numbers = (0, 1,2,3,4,5)\n",
    "  for number in numbers:\n",
    "    print(number)\n",
    "    if number == 3:\n",
    "      break"
   ]
  },
  {
   "cell_type": "markdown",
   "id": "ca1d6a01",
   "metadata": {},
   "source": [
    "In the above example, the loop stops when it reaches 3.\n",
    "  Continue: We use continue when we like to skip some of the step in the iteration of the loop."
   ]
  },
  {
   "cell_type": "code",
   "execution_count": null,
   "id": "37987f8f",
   "metadata": {
    "attributes": {
     "classes": [
      "py"
     ],
     "id": ""
    }
   },
   "outputs": [],
   "source": [
    "  # syntax\n",
    "  for iterator in sequence:\n",
    "    code goes here\n",
    "    if condition:\n",
    "      continue"
   ]
  },
  {
   "cell_type": "markdown",
   "id": "aef92143",
   "metadata": {},
   "source": [
    "**Example:**"
   ]
  },
  {
   "cell_type": "code",
   "execution_count": null,
   "id": "75cdaa40",
   "metadata": {
    "attributes": {
     "classes": [
      "py"
     ],
     "id": ""
    }
   },
   "outputs": [],
   "source": [
    "  numbers = (0, 1,2,3,4,5)\n",
    "  for number in numbers:\n",
    "    print(number)\n",
    "    if number == 3:\n",
    "      continue"
   ]
  },
  {
   "cell_type": "markdown",
   "id": "e6358bae",
   "metadata": {},
   "source": [
    "In the above example, if number is 3 the skip step and continues to the next.\n",
    "### The range function\n",
    "The range() function uses to loop through a set of code a certain number of times. The *range(start,end, step)* takes three parameters:starting, ending and increment.By default it starts from 0 and the increment is 1. The range sequence doesn't include the end.\n",
    "Creating sequence using range"
   ]
  },
  {
   "cell_type": "code",
   "execution_count": null,
   "id": "295ec740",
   "metadata": {
    "attributes": {
     "classes": [
      "py"
     ],
     "id": ""
    }
   },
   "outputs": [],
   "source": [
    "  lst = list(rang(11)) \n",
    "  print(lst) # [0, 1, 2, 3, 4, 5, 6, 7, 8, 9, 10]\n",
    "  st = set(range(11))\n",
    "  print(st) # {0, 1, 2, 3, 4, 5, 6, 7, 8, 9, 10}\n",
    "\n",
    "  lst = list(rang(0,11,2)) \n",
    "  print(lst) # [0, 2, 4, 6, 8, 10]\n",
    "  st = set(range(0,11,2))\n",
    "  print(st) #  {0, 2, 4, 6, 8, 10}"
   ]
  },
  {
   "cell_type": "code",
   "execution_count": null,
   "id": "70b07657",
   "metadata": {
    "attributes": {
     "classes": [
      "py"
     ],
     "id": ""
    }
   },
   "outputs": [],
   "source": [
    "  # syntax\n",
    "  for iterator in range(start, end, increment):"
   ]
  },
  {
   "cell_type": "markdown",
   "id": "9000547e",
   "metadata": {},
   "source": [
    "**Example:**"
   ]
  },
  {
   "cell_type": "code",
   "execution_count": null,
   "id": "39954804",
   "metadata": {
    "attributes": {
     "classes": [
      "py"
     ],
     "id": ""
    }
   },
   "outputs": [],
   "source": [
    "  for number in range(11):\n",
    "    print(number)   # prints 0 to 10, not including 11\n",
    "  fruits = ['banana', 'orange', 'mango', 'lemon']\n",
    "  for fruit in fruits:\n",
    "    print(fruit)"
   ]
  },
  {
   "cell_type": "markdown",
   "id": "db2b92e8",
   "metadata": {},
   "source": [
    "###  Nested for loop\n",
    "We can write loop inside another loop."
   ]
  },
  {
   "cell_type": "code",
   "execution_count": null,
   "id": "128a7350",
   "metadata": {
    "attributes": {
     "classes": [
      "py"
     ],
     "id": ""
    }
   },
   "outputs": [],
   "source": [
    "  # syntax\n",
    "  for x in y:\n",
    "    for t in s:\n",
    "      print(t)"
   ]
  },
  {
   "cell_type": "markdown",
   "id": "23184da4",
   "metadata": {},
   "source": [
    "**Example:**"
   ]
  },
  {
   "cell_type": "code",
   "execution_count": null,
   "id": "2dbceaab",
   "metadata": {
    "attributes": {
     "classes": [
      "py"
     ],
     "id": ""
    }
   },
   "outputs": [],
   "source": [
    "  person = {\n",
    "      'first_name': 'Asabeneh',\n",
    "      'last_name': 'Yetayeh',\n",
    "      'age': 250,\n",
    "      'country': 'Finland',\n",
    "      'is_marred': True,\n",
    "      'skills': ['JavaScript', 'React', 'Node', 'MongoDB', 'Python'],\n",
    "      'address': {\n",
    "          'street': 'Space street',\n",
    "          'zipcode': '02210'\n",
    "      }\n",
    "  }\n",
    "  for key in person:\n",
    "      if key == 'skills':\n",
    "        for skill in person['skills']:\n",
    "          print(skill)\n",
    "  "
   ]
  },
  {
   "cell_type": "markdown",
   "id": "53ce78f2",
   "metadata": {},
   "source": [
    "### For Else\n",
    "If we want to execute some message when the loop ends, we use else."
   ]
  },
  {
   "cell_type": "code",
   "execution_count": null,
   "id": "c0d716b4",
   "metadata": {
    "attributes": {
     "classes": [
      "py"
     ],
     "id": ""
    }
   },
   "outputs": [],
   "source": [
    "  # syntax\n",
    "  for iterator in range(start, end, increment):\n",
    "    do something\n",
    "  else:\n",
    "    print('The loop is ended')"
   ]
  },
  {
   "cell_type": "markdown",
   "id": "e0c4fa6f",
   "metadata": {},
   "source": [
    "**Example:**"
   ]
  },
  {
   "cell_type": "code",
   "execution_count": null,
   "id": "e87c3235",
   "metadata": {
    "attributes": {
     "classes": [
      "py"
     ],
     "id": ""
    }
   },
   "outputs": [],
   "source": [
    "  for number in range(11):\n",
    "    print(number)   # prints 0 to 10, not including 11\n",
    "  else:\n",
    "    print('The loop stops at', number)"
   ]
  },
  {
   "cell_type": "markdown",
   "id": "abd70dc5",
   "metadata": {},
   "source": [
    "### Pass\n",
    "In python after semicolon, it requires some code to run but we don't like to execute any code after if or for loop we can write the word *pass* to avoid error.\n",
    "\n",
    "## 💻 Exercises: Day 10\n",
    "1. Iterate 0 to 10 using for loop, do the same using while and do while loop.\n",
    "2. Iterate 10 to 0 using for loop, do the same using while and do while loop.\n",
    "3. Write a loop that makes seven calls to print() output the following triangle:\n",
    "    ```py\n",
    "      #\n",
    "      ##\n",
    "      ###\n",
    "      ####\n",
    "      #####\n",
    "      ######\n",
    "      #######\n",
    "    ```\n",
    "4. Use nested loops to create the following:\n",
    "    ```sh\n",
    "    # # # # # # # # \n",
    "    # # # # # # # # \n",
    "    # # # # # # # # \n",
    "    # # # # # # # # \n",
    "    # # # # # # # # \n",
    "    # # # # # # # # \n",
    "    # # # # # # # # \n",
    "    # # # # # # # #\n",
    "    ```\n",
    "5. Print the following pattern:\n",
    "    ```sh\n",
    "    0 x 0 = 0\n",
    "    1 x 1 = 1\n",
    "    2 x 2 = 4\n",
    "    3 x 3 = 9\n",
    "    4 x 4 = 16\n",
    "    5 x 5 = 25\n",
    "    6 x 6 = 36\n",
    "    7 x 7 = 49\n",
    "    8 x 8 = 64\n",
    "    9 x 9 = 81\n",
    "    10 x 10 = 100\n",
    "    ```\n",
    "6. Iterate through the list, ['Python', 'Numpy','Pandas','Django', 'Flask'] using a for loop and print out the items.\n",
    "7. Use for loop to iterate from 0 to 100 and print only even numbers\n",
    "8. Use for loop to iterate from 0 to 100 and print only odd numbers\n",
    "9. Use for loop to iterate from 0 to 100 and print the sum of all numbers.\n",
    "    ```sh\n",
    "    The sum of all numbers is 5050.\n",
    "    ```\n",
    "10. Use for loop to iterate from 0 to 100 and print the sum of all evens and the sum of all odds.\n",
    "    ```sh\n",
    "      The sum of all evens is 2550. And the sum of all odds is 2500.\n",
    "    ```\n",
    "11. Go to the data folder and use the countries.py file. Loop through the countries and extract all the countries containing the word *land*.\n",
    "12. This is a fruit list, ['banana', 'orange', 'mango', 'lemon'] reverse the order using loop.\n",
    "\n",
    "# 📘 Day 11\n",
    "## Functions\n",
    "So far we have seen many builtin python functions. In this section, we will focus on custom functions. What is a function? Before we start making functions, lets understand what function is and why we need function?\n",
    "### Defining a Function\n",
    "A function is a reusable block of code or programming statements designed to perform a certain task. To define a function, Python provides the *def* keyword. The following is the syntax of defining a function. The function block of code only executed only if we call the function.\n",
    "### Declaring and calling a function\n",
    "When we make a function we call it declaring a function. When we start using the function we call it calling or invoking a function. Function can be declared with or without a parameter."
   ]
  },
  {
   "cell_type": "code",
   "execution_count": null,
   "id": "bf565330",
   "metadata": {
    "attributes": {
     "classes": [
      "py"
     ],
     "id": ""
    }
   },
   "outputs": [],
   "source": [
    "  # syntax\n",
    "  # Declaring a function\n",
    "  def function_name():\n",
    "    codes\n",
    "    codes\n",
    "  # Calling function\n",
    "  function_name()"
   ]
  },
  {
   "cell_type": "markdown",
   "id": "bff85c7a",
   "metadata": {},
   "source": [
    "### Function without parameters\n",
    "Function can be declared without a parameter.\n",
    "**Example:**"
   ]
  },
  {
   "cell_type": "code",
   "execution_count": null,
   "id": "6d9dd063",
   "metadata": {
    "attributes": {
     "classes": [
      "py"
     ],
     "id": ""
    }
   },
   "outputs": [],
   "source": [
    "  def generate_full_name ():\n",
    "      first_name = 'Asabeneh'\n",
    "      last_name = 'Yetayeh'\n",
    "      space = ' '\n",
    "      full_name = first_name + space + last_name\n",
    "      print(full_name)\n",
    "  generate_full_name () # calling a function\n",
    "\n",
    "  def add_two_numbers ():\n",
    "      num_one = 2\n",
    "      num_two = 3\n",
    "      total = num_one + num_two\n",
    "      print(total)\n",
    "  add_two_numbers() "
   ]
  },
  {
   "cell_type": "markdown",
   "id": "aba6da41",
   "metadata": {},
   "source": [
    "### Function returning value\n",
    "Function can also return values, if a function does not return values the value of the function is None. Lets rewrite the above functions using return. From now on, we return value to a function instead of printing it."
   ]
  },
  {
   "cell_type": "code",
   "execution_count": null,
   "id": "3de0c197",
   "metadata": {
    "attributes": {
     "classes": [
      "py"
     ],
     "id": ""
    }
   },
   "outputs": [],
   "source": [
    "def generate_full_name ():\n",
    "    first_name = 'Asabeneh'\n",
    "    last_name = 'Yetayeh'\n",
    "    space = ' '\n",
    "    full_name = first_name + space + last_name\n",
    "    return full_name\n",
    "print(generate_full_name())\n",
    "\n",
    "def add_two_numbers ():\n",
    "    num_one = 2\n",
    "    num_two = 3\n",
    "    total = num_one + num_two\n",
    "    return total\n",
    "print(add_two_numbers())"
   ]
  },
  {
   "cell_type": "markdown",
   "id": "15af262f",
   "metadata": {},
   "source": [
    "### Function with parameters\n",
    "In a function we can pass different data types(number, string, boolean, list, tuple, dictionary or set) as a parameter\n",
    "* Single Parameter: If our function takes a parameter we should call our function with an argument"
   ]
  },
  {
   "cell_type": "code",
   "execution_count": null,
   "id": "2e679975",
   "metadata": {
    "attributes": {
     "classes": [
      "py"
     ],
     "id": ""
    }
   },
   "outputs": [],
   "source": [
    "  # syntax\n",
    "  # Declaring a function\n",
    "  def function_name(parameter):\n",
    "    codes\n",
    "    codes\n",
    "  # Calling function\n",
    "  function_name(parameter)\n",
    "````\n",
    "**Example:**\n",
    "```py\n",
    "def greetings (name):\n",
    "    message = name + ', welcome to Python for Everyone!'\n",
    "    return message\n",
    "\n",
    "print(greetings('Asabeneh'))\n",
    "\n",
    "def add_ten(num):\n",
    "    ten = 10\n",
    "    return num + ten\n",
    "print(add_ten(90))\n",
    "    \n",
    "def square_number(x):\n",
    "    return x * x\n",
    "print(square_number(2))\n",
    "\n",
    "def area_of_circle (r):\n",
    "    PI = 3.14\n",
    "    area = PI * r ** 2\n",
    "    return area\n",
    "print(area_of_circle(10))\n",
    "\n",
    "def sum_of_numbers(n):\n",
    "    total = 0\n",
    "    for i in range(n+1):\n",
    "        total+=i\n",
    "    print(total)\n",
    "sum_of_numbers(10) # 55\n",
    "sum_of_numbers(100) # 5050"
   ]
  },
  {
   "cell_type": "markdown",
   "id": "6117d302",
   "metadata": {},
   "source": [
    "* Two Parameter: A function may or may not have a parameter or parameters. A function may have two or more parameters. If our function takes parameters we should call our function with arguments. Let's see function with two parameters:"
   ]
  },
  {
   "cell_type": "code",
   "execution_count": null,
   "id": "79463673",
   "metadata": {
    "attributes": {
     "classes": [
      "py"
     ],
     "id": ""
    }
   },
   "outputs": [],
   "source": [
    "  # syntax\n",
    "  # Declaring a function\n",
    "  def function_name(para1, para2):\n",
    "    codes\n",
    "    codes\n",
    "  # Calling function\n",
    "  function_name(arg1, arg2)\n",
    "````\n",
    "**Example:**\n",
    "```py\n",
    "  def generate_full_name (first_name, last_name):\n",
    "      space = ' '\n",
    "      full_name = first_name + space + last_name\n",
    "      return full_name\n",
    "  print('Full Name: ', generate_full_name('Asabeneh','Yetayeh'))\n",
    "\n",
    "  def sum_two_numbers (num_one, num_two):\n",
    "      sum = num_one + num_two\n",
    "      return sum\n",
    "  print('Sum of two numbers: ', sum_two_numbers(1, 9))\n",
    "\n",
    "  def calculate_age (current_year, birth_year):\n",
    "      age = current_year - birth_year\n",
    "      return age;\n",
    "\n",
    "  print('Age: ', calculate_age(2019, 1819))\n",
    "\n",
    "  def weight_of_object (mass, gravity):\n",
    "      weight = str(mass * gravity)+ ' N' # the value has to be changed to string first\n",
    "      return weight\n",
    "  print('Weight of an object in Newton: ', weight_of_object(100, 9.81))"
   ]
  },
  {
   "cell_type": "markdown",
   "id": "d3c160f3",
   "metadata": {},
   "source": [
    "### Passing arguments with key and value\n",
    "If we pass the arguments with key and value, the order of the arguments does not matter."
   ]
  },
  {
   "cell_type": "code",
   "execution_count": null,
   "id": "865c5f7d",
   "metadata": {
    "attributes": {
     "classes": [
      "py"
     ],
     "id": ""
    }
   },
   "outputs": [],
   "source": [
    "  # syntax\n",
    "  # Declaring a function\n",
    "  def function_name(para1, para2):\n",
    "    codes\n",
    "    codes\n",
    "  # Calling function\n",
    "  function_name(para1='John', para2='Doe') # the order of argument now does not matter\n",
    "````\n",
    "**Example:**\n",
    "```py\n",
    "  def print_fullname(firstname, lastname):\n",
    "        space = ' '\n",
    "        full_name = firstname  + space + lastname\n",
    "        print(full_name)\n",
    "  print_fullname(firstname='Asabeneh', lastname='Yetayeh')\n",
    "\n",
    "  def add_two_numbers (num1, num2):\n",
    "    total = num1 + num2\n",
    "    print(total)\n",
    "  add_two_numbers(num2=3, num1=2) # Order does not matter"
   ]
  },
  {
   "cell_type": "markdown",
   "id": "ed3fc468",
   "metadata": {},
   "source": [
    "### Returning a value from a function\n",
    "If we do not return a value from a function, then our function is returning *None* by default. To return a value from a function we use the key word *return* followed by the data type we are returning. We can return any kind of data types from a function.\n",
    "* Returning string:\n",
    "**Example:**"
   ]
  },
  {
   "cell_type": "code",
   "execution_count": null,
   "id": "23c435c8",
   "metadata": {
    "attributes": {
     "classes": [
      "py"
     ],
     "id": ""
    }
   },
   "outputs": [],
   "source": [
    "  def print_name(firstname):\n",
    "        return firstname\n",
    "  print_name('Asabeneh') # Asabeneh\n",
    "\n",
    "  def print_full_name(firstname, lastname):\n",
    "        space = ' '\n",
    "        full_name = firstname  + space + lastname\n",
    "        return full_name\n",
    "  print_full_name(firstname='Asabeneh', lastname='Yetayeh')"
   ]
  },
  {
   "cell_type": "markdown",
   "id": "71932674",
   "metadata": {},
   "source": [
    "* Returning Number:\n",
    "\n",
    "**Example:**"
   ]
  },
  {
   "cell_type": "code",
   "execution_count": null,
   "id": "576438e7",
   "metadata": {
    "attributes": {
     "classes": [
      "py"
     ],
     "id": ""
    }
   },
   "outputs": [],
   "source": [
    "  def add_two_numbers (num1, num2):\n",
    "          total = num1 + num2\n",
    "          return total\n",
    "  print(add_two_numbers(2, 3))\n",
    "\n",
    "  def calculate_age (current_year, birth_year):\n",
    "      age = current_year - birth_year\n",
    "      return age;\n",
    "  print('Age: ', calculate_age(2019, 1819))"
   ]
  },
  {
   "cell_type": "markdown",
   "id": "e8355a45",
   "metadata": {},
   "source": [
    "* Returning Boolean:\n",
    "**Example:**"
   ]
  },
  {
   "cell_type": "code",
   "execution_count": null,
   "id": "8dfcc4c3",
   "metadata": {
    "attributes": {
     "classes": [
      "py"
     ],
     "id": ""
    }
   },
   "outputs": [],
   "source": [
    "  def is_even (n):\n",
    "      if n % 2 == 0:\n",
    "          print('even')\n",
    "          return True\n",
    "      return False\n",
    "  print(is_even(10)) # True\n",
    "  print(is_even(7)) # False"
   ]
  },
  {
   "cell_type": "markdown",
   "id": "666a01b1",
   "metadata": {},
   "source": [
    "* Returning List:\n",
    "**Example:**"
   ]
  },
  {
   "cell_type": "code",
   "execution_count": null,
   "id": "659b4b6b",
   "metadata": {
    "attributes": {
     "classes": [
      "py"
     ],
     "id": ""
    }
   },
   "outputs": [],
   "source": [
    "  def find_even_numbers(n):\n",
    "      evens = []\n",
    "      for i in range(n+1):\n",
    "          if i % 2 == 0:\n",
    "              evens.append(i)\n",
    "      return evens\n",
    "  print(find_even_numbers(10))"
   ]
  },
  {
   "cell_type": "markdown",
   "id": "d5f98475",
   "metadata": {},
   "source": [
    "### Function with default parameters\n",
    "Sometimes we pass default values to parameters, when we invoke the function if we do not  pass an argument the default value will be used."
   ]
  },
  {
   "cell_type": "code",
   "execution_count": null,
   "id": "9db5b3e8",
   "metadata": {
    "attributes": {
     "classes": [
      "py"
     ],
     "id": ""
    }
   },
   "outputs": [],
   "source": [
    "  # syntax\n",
    "  # Declaring a function\n",
    "  def function_name(param = value):\n",
    "    codes\n",
    "    codes\n",
    "  # Calling function\n",
    "  function_name()\n",
    "  function_name(arg)\n",
    "````\n",
    "**Example:**\n",
    "```py\n",
    "  def greetings (name = 'Peter'):\n",
    "    message = name + ', welcome to Python for Everyone!'\n",
    "    return message\n",
    "  print(greetings())\n",
    "  print(greetings('Asabeneh'))\n",
    "\n",
    "  def generate_full_name (first_name = 'Asabeneh', last_name = 'Yetayeh'):\n",
    "      space = ' '\n",
    "      full_name = first_name + space + last_name\n",
    "      return full_name\n",
    "\n",
    "  print(generate_full_name())\n",
    "  print(generate_full_name('David','Smith'))\n",
    "\n",
    "  def calculate_age (birth_year,current_year = 2019):\n",
    "      age = current_year - birth_year\n",
    "      return age;\n",
    "  print('Age: ', calculate_age(1819))\n",
    "\n",
    "  def weight_of_object (mass, gravity = 9.81):\n",
    "      weight = str(mass * gravity)+ ' N' # the value has to be changed to string first\n",
    "      return weight\n",
    "  print('Weight of an object in Newton: ', weight_of_object(100)) # 9.81 gravity at the surface of Earth\n",
    "  print('Weight of an object in Newton: ', weight_of_object(100, 1.62)) # gravity at surface of Moon"
   ]
  },
  {
   "cell_type": "markdown",
   "id": "b883487c",
   "metadata": {},
   "source": [
    "### Arbitrary number of arguments\n",
    "If we do not know the number of arguments we pass to our function we can create a function which can take arbitrary number of arguments by add * before the parameter name."
   ]
  },
  {
   "cell_type": "code",
   "execution_count": null,
   "id": "c1a1788a",
   "metadata": {
    "attributes": {
     "classes": [
      "py"
     ],
     "id": ""
    }
   },
   "outputs": [],
   "source": [
    "  # syntax\n",
    "  # Declaring a function\n",
    "  def function_name(*args):\n",
    "    codes\n",
    "    codes\n",
    "  # Calling function\n",
    "  function_name(param1, param2, param3,..)"
   ]
  },
  {
   "cell_type": "markdown",
   "id": "e056a7cd",
   "metadata": {},
   "source": [
    "**Example:**"
   ]
  },
  {
   "cell_type": "code",
   "execution_count": null,
   "id": "e15247d5",
   "metadata": {
    "attributes": {
     "classes": [
      "py"
     ],
     "id": ""
    }
   },
   "outputs": [],
   "source": [
    "  def sum_all_nums(*nums):\n",
    "      total = 0\n",
    "      for num in nums:\n",
    "          total += num\n",
    "      return total\n",
    "  print(sum_all_nums(2, 3, 5))"
   ]
  },
  {
   "cell_type": "markdown",
   "id": "5b648b24",
   "metadata": {},
   "source": [
    "### Default and arbitrary number of parameters in function"
   ]
  },
  {
   "cell_type": "code",
   "execution_count": null,
   "id": "ddb88df2",
   "metadata": {
    "attributes": {
     "classes": [
      "py"
     ],
     "id": ""
    }
   },
   "outputs": [],
   "source": [
    "def generate_groups (team,*args):\n",
    "    print(team)\n",
    "    for i in args:\n",
    "        print(i)\n",
    "generate_groups('Team-1','Asabeneh','Brook','David','Eyob')"
   ]
  },
  {
   "cell_type": "markdown",
   "id": "334b2dd5",
   "metadata": {},
   "source": [
    "### Function as parameter of other function"
   ]
  },
  {
   "cell_type": "code",
   "execution_count": null,
   "id": "b81016ca",
   "metadata": {
    "attributes": {
     "classes": [
      "py"
     ],
     "id": ""
    }
   },
   "outputs": [],
   "source": [
    "  #You can pass functions around as parameters\n",
    "  def square_number (n):\n",
    "      return n * n\n",
    "  def do_something(f, x):\n",
    "      return f(x)\n",
    "  print(do_something(square_number, 3))"
   ]
  },
  {
   "cell_type": "markdown",
   "id": "2d5fbee4",
   "metadata": {},
   "source": [
    "## 💻 Exercises: Day 11\n",
    "1. Declare a function *add_two_numbers* and it takes two two parameters and it returns sum.\n",
    "2. Area of a circle is calculated as follows: area = π x r x r. Write a function which calculates *area_of_circle*.\n",
    "3. Write a function called add_all_nums which take arbitrary number of arguments and sum all the arguments.  Check if all the list items are number types. If not give return reasonable feedback.\n",
    "4. Temperature in oC can be converted to oF using this formula: oF = (oC x 9/5) + 32. Write a function which converts oC to oF, *convert_celcius_to-fahrenheit*.\n",
    "5. Write a function called check-season, it takes a month parameter and returns the season:Autumn, Winter, Spring or Summer.\n",
    "6. Write a function called calculate_slope which return the slop of a linear equation\n",
    "7. Quadratic equation is calculated as follows: ax2 + bx + c = 0. Write a function which calculates solution set of a quadratic equation, *solve_quadratic_eqn*.\n",
    "8. Declare a function name print_list. It takes list as a parameter and it prints out each element of the list.\n",
    "9. Declare a function name reverse_list. It takes array as a parameter and it returns the reverse of the array (dont’ use method).\n",
    "  ```py\n",
    "      print(reverse_list([1, 2, 3, 4, 5]))\n",
    "      # [5, 4, 3, 2, 1]\n",
    "      print(reverse_list1.([\"A\", \"B\", \"C\"]))\n",
    "      # [\"C\", \"B\", \"A\"]\n",
    "  ```\n",
    "10. Declare a function name capitalize_list_items. It takes list as a parameter and it returns the capitalized list of the items\n",
    "11. \n",
    "* Declare a function name add_item. It takes a list and an item parameter and it returns a list after adding the item"
   ]
  },
  {
   "cell_type": "code",
   "execution_count": null,
   "id": "d095d8d6",
   "metadata": {
    "attributes": {
     "classes": [
      "py"
     ],
     "id": ""
    }
   },
   "outputs": [],
   "source": [
    "  food_staff = ['Potato', 'Tomato', 'Mango', 'Milk'];\n",
    "  print(  add_item(food_staff, 'Meat'))     # ['Potato', 'Tomato', 'Mango', 'Milk','Meat'];\n",
    "  numbers = [2, 3,7,9];\n",
    "  print(add_item(numbers, 5))      [2, 3,7,9,5]"
   ]
  },
  {
   "cell_type": "markdown",
   "id": "17a855ca",
   "metadata": {},
   "source": [
    "* Declare a function name remove_item. It takes a list and an item parameter and it returns a list after removing an item."
   ]
  },
  {
   "cell_type": "code",
   "execution_count": null,
   "id": "e9ac26cc",
   "metadata": {
    "attributes": {
     "classes": [
      "py"
     ],
     "id": ""
    }
   },
   "outputs": [],
   "source": [
    "  food_staff = ['Potato', 'Tomato', 'Mango', 'Milk'];\n",
    "  print(remove_item(food_staff, 'Mango'))  # ['Potato', 'Tomato', 'Milk'];\n",
    "  numbers = [2, 3,7, 9];\n",
    "  print(remove_item(numbers, 3))  # [2, 7, 9]"
   ]
  },
  {
   "cell_type": "markdown",
   "id": "38472774",
   "metadata": {},
   "source": [
    "1.  Declare a function name sum_of_numbers. It takes a number parameter and it adds all the numbers in that range."
   ]
  },
  {
   "cell_type": "code",
   "execution_count": null,
   "id": "d23a3aa8",
   "metadata": {
    "attributes": {
     "classes": [
      "py"
     ],
     "id": ""
    }
   },
   "outputs": [],
   "source": [
    "print(sum_of_numbers(5))  # 15\n",
    "print(sum_all_numbers(10)) # 55\n",
    "print(sum_all_numbers(100)) # 5050\n",
    "\n"
   ]
  },
  {
   "cell_type": "markdown",
   "id": "3c0dbe4e",
   "metadata": {},
   "source": [
    "2.  Declare a function name sum_of_odds. It takes a number parameter and it adds all the odd numbers in that range.\n",
    "3.  Declare a function name sum_of_even. It takes a number parameter and it adds all the even numbers in that - range.\n",
    "Declare a function name evens_and_odds . It takes a positive integer as parameter and it counts number of evens and odds in the number.\n",
    "  ```py\n",
    "      print(evens_and_odds(100))\n",
    "      # The number of odds are 50.\n",
    "      # The number of evens are 51.\n",
    "  ```\n",
    "15. Call your function factorial, it takes a whole number as a parameter and it return a factorial of the number\n",
    "Call your function *is_empty*, it takes a parameter and it checks if it is empty or not\n",
    "16. Write different functions which take lists and it calculate_mean, calculate_median, calculate_mode, calculate_range, calculate_variance, calculate_std. \n",
    "17. Write a function called is_prime, which checks if a number is prime number.\n",
    "18. Write a functions which checks if all items are unique in the list.\n",
    "19. Write a function which checks if all the items of the list are the same data type.\n",
    "20. Write a function which check if variable if valid python variable \n",
    "21. Go the data folder and access the countries-data.py file. \n",
    "* Create a function called the most_spoken_languages the world and it returns the 10 or 20 most spoken countries in the world in descending order\n",
    "* Create a function called the most_populated_countries and it return 10 or 20 most populated countries in descending order.\n",
    "\n",
    "# 📘 Day 12\n",
    "## Module\n",
    "### What is a module\n",
    "A module is a file containing set of codes or a set of function which can be included to an application. A module could be a file containing a single variable, or function, a big code base.  \n",
    "### Creating  a module\n",
    "To create a module we write our codes in a python script and we save it as .py file. Create a file named mymodule.py inside your project folder. Let write code on this file."
   ]
  },
  {
   "cell_type": "code",
   "execution_count": null,
   "id": "0f447435",
   "metadata": {
    "attributes": {
     "classes": [
      "py"
     ],
     "id": ""
    }
   },
   "outputs": [],
   "source": [
    "# mymodule.py file\n",
    "def generate_full_name(firstname, lastname):\n",
    "      space = ' '\n",
    "      fullname = firstname + space + lastname\n",
    "      return fullname"
   ]
  },
  {
   "cell_type": "markdown",
   "id": "a140cf9c",
   "metadata": {},
   "source": [
    "Create main.py file in your project directory and import the mymodule.py file.\n",
    "### Importing a module\n",
    "To import the file we use the *import* keyword and the name of the file only."
   ]
  },
  {
   "cell_type": "code",
   "execution_count": null,
   "id": "4ea1e692",
   "metadata": {
    "attributes": {
     "classes": [
      "py"
     ],
     "id": ""
    }
   },
   "outputs": [],
   "source": [
    "# main.py file\n",
    "import mymodule\n",
    "print(mymodule.generate_full_name('Asabeneh', 'Yetayeh'))"
   ]
  },
  {
   "cell_type": "markdown",
   "id": "819a5574",
   "metadata": {},
   "source": [
    "### Import functions from a module\n",
    "We can have many functions in a file and we can import all the functions differently."
   ]
  },
  {
   "cell_type": "code",
   "execution_count": null,
   "id": "231fbc82",
   "metadata": {
    "attributes": {
     "classes": [
      "py"
     ],
     "id": ""
    }
   },
   "outputs": [],
   "source": [
    "# main.py file\n",
    "from mymodule import generate_full_name, sum_two_nums, person, gravity\n",
    "print(generate_full_name('Asabneh','Yetay'))\n",
    "print(sum_two_nums(1,9))\n",
    "mass = 100;\n",
    "weight = mass * gravity\n",
    "print(weight)\n",
    "print(person['firstname'])"
   ]
  },
  {
   "cell_type": "markdown",
   "id": "5e0e2722",
   "metadata": {},
   "source": [
    "### Import functions from a module and renaming\n",
    "During importing we can rename the name of the module."
   ]
  },
  {
   "cell_type": "code",
   "execution_count": null,
   "id": "3a917b15",
   "metadata": {
    "attributes": {
     "classes": [
      "py"
     ],
     "id": ""
    }
   },
   "outputs": [],
   "source": [
    "# main.py file\n",
    "from mymodule import generate_full_name as fullname, sum_two_nums as total, person as p, gravity as g\n",
    "print(fullname('Asabneh','Yetayeh'))\n",
    "print(total(1,9))\n",
    "mass = 100;\n",
    "weight = mass * g\n",
    "print(weight)\n",
    "print(p)\n",
    "print(p['firstname'])"
   ]
  },
  {
   "cell_type": "markdown",
   "id": "2004535c",
   "metadata": {},
   "source": [
    "## Import Builtin Modules\n",
    "Like other programming languages we can also import modules  by importing the file/function using the key word *import*. Lets import the common module we will use most of the time. Some of the common builtin modules *math*, *datetime*, *os*,*sys*, *random*, *statistics*, *collections*, *json*,*re*\n",
    "### OS Module\n",
    "Using python *os* module it is possible to automatically perform many operating system tasks.The OS module in Python provides functions for creating, changing current working directory,  and removing a directory (folder), fetching its contents, changing and identifying the current directory."
   ]
  },
  {
   "cell_type": "code",
   "execution_count": null,
   "id": "a666b04d",
   "metadata": {
    "attributes": {
     "classes": [
      "py"
     ],
     "id": ""
    }
   },
   "outputs": [],
   "source": [
    "# import the module\n",
    "import os\n",
    "# Creating a directory\n",
    "os.mkdir('directory_name')\n",
    "# Changing the current directory\n",
    "os.chdir('path')\n",
    "# Getting current working directory\n",
    "os.getcwd()\n",
    "# Removing directory\n",
    "os.rmdir()"
   ]
  },
  {
   "cell_type": "markdown",
   "id": "1f182327",
   "metadata": {},
   "source": [
    "### Sys Module\n",
    "The sys module provides functions and variables used to manipulate different parts of the Python runtime environment. sys.argv returns a list of command line arguments passed to a Python script. The item at index 0 in this list is always the name of the script, at index 1 is argument passed from the command line."
   ]
  },
  {
   "cell_type": "code",
   "execution_count": null,
   "id": "78e95440",
   "metadata": {
    "attributes": {
     "classes": [
      "py"
     ],
     "id": ""
    }
   },
   "outputs": [],
   "source": [
    "import sys\n",
    "print(sys.argv[0], argv[1],sys.argv[2])\n",
    "print('Welcome {}. Enjoy  {} challenge!'.format(sys.argv[1], sys.argv[2]))\n",
    "output\n",
    "Welcome Asabeneh. Enjoy  30DayOfPython challenge!\n",
    "\n",
    "# to exist syst\n",
    "sys.exit()\n",
    "# To know the largest integer variable it takes\n",
    "sys.maxsize\n",
    "# To know environment path\n",
    "syst.path\n",
    "# To know the version of python you are using\n",
    "sys.version"
   ]
  },
  {
   "cell_type": "markdown",
   "id": "0c95cddd",
   "metadata": {},
   "source": [
    "### Statistics Module\n",
    "The statistics module provides functions to mathematical statistics of numeric data. The  popular statistical functions which are defined in this module *mean*, *median*, *mode*, *stdev* etc."
   ]
  },
  {
   "cell_type": "code",
   "execution_count": null,
   "id": "96d8fd70",
   "metadata": {
    "attributes": {
     "classes": [
      "py"
     ],
     "id": ""
    }
   },
   "outputs": [],
   "source": [
    "from statistics import * # importing all the statistics module\n",
    "print(mean(ages))       # 22.4\n",
    "print(median(ages))     # 23\n",
    "print(mode(ages))       # 20\n",
    "print(stdev(ages))      # 2.3"
   ]
  },
  {
   "cell_type": "markdown",
   "id": "007c36d9",
   "metadata": {},
   "source": [
    "### Math Module\n",
    "  ```py\n",
    "  import math\n",
    "  print(math.pi)           # 3.141592653589793, pi constant\n",
    "  print(math.sqrt(2))      # 1.4142135623730951, square root\n",
    "  print(math.pow(2, 3))    # 8.0, exponential\n",
    "  print(math.floor(9.81))  # 9, rounding to the lowest\n",
    "  print(math.ceil(9.81))   # 10, rounding to the highest\n",
    "  print(math.log10(100))   # 2 \n",
    "  ```\n",
    "Now, we have imported the math module which contains lots of function which can help us to perform mathematical calculations.To check what functions the module has, you can use *help(math)*, or dir(math) and this will display the available functions in the module. If we want to import only a specific function from a module we import as follow:\n",
    "  ```py\n",
    "  from math import pi\n",
    "  print(pi)\n",
    "  ```\n",
    "It is also possible to import multiple functions at once\n",
    "  ```py\n",
    "\n",
    "  from math import pi, sqrt, pow, floor, ceil,log10\n",
    "  print(pi)                 # 3.141592653589793\n",
    "  print(sqrt(2))            # 1.4142135623730951\n",
    "  print(pow(2, 3))          # 8.0\n",
    "  print(floor(9.81))        # 9\n",
    "  print(ceil(9.81))         # 10\n",
    "  print(math.log10(100))    # 2 \n",
    "\n",
    "  ```\n",
    "But if we want to import all the function in math module we can use * . \n",
    "  ```py\n",
    "  from math import *\n",
    "  print(pi)                  # 3.141592653589793, pi constant\n",
    "  print(sqrt(2))             # 1.4142135623730951, square root\n",
    "  print(pow(2, 3))           # 8.0, exponential\n",
    "  print(floor(9.81))         # 9, rounding to the lowest\n",
    "  print(ceil(9.81))          # 10, rounding to the highest\n",
    "  print(math.log10(100))     # 2 \n",
    "  ```\n",
    "When we import we can also rename the name of the function. \n",
    "  ```py\n",
    "  from math import pi as  PI\n",
    "  print(PI) # 3.141592653589793\n",
    "  ```\n",
    "### Random Module\n",
    "By now you are familiar with importing modules. Lets do another more import to be very familiar with importing. Let's import *random* module which can gives random number between 0 and 0.9999.... The *random* module has lots of functions but in this section we will only see *random* and *randint*.\n",
    "  ```py\n",
    "  from random import random, randint\n",
    "  print(random())   # it doesn't take argument and return 0 to 0.9999\n",
    "  print(randint(5, 20)) # it returns a random number between 5 and 20\n",
    "  ```\n",
    "## 💻 Exercises: Day 12\n",
    "1. Writ a function which generates a six digit random_user_id.\n",
    "    ```py\n",
    "      print(random_user_id());\n",
    "      '1ee33d'\n",
    "    ```\n",
    "2. Modify question number above . Declare a function name user_id_gen_by_user. It doesn’t take any parameter but it takes two inputs using input(). One of the input is the number of characters and the second input is the number of ids which are supposed to be generated.\n",
    "    ```py\n",
    "    user_id_gen_by_user()\n",
    "    \"kcsy2\n",
    "    SMFYb\n",
    "    bWmeq\n",
    "    ZXOYh\n",
    "    2Rgxf\n",
    "    \"\n",
    "    user_id_gen_by_user()\n",
    "    \"1GCSgPLMaBAVQZ26\n",
    "    YD7eFwNQKNs7qXaT\n",
    "    ycArC5yrRupyG00S\n",
    "    UbGxOFI7UXSWAyKN\n",
    "    dIV0SSUTgAdKwStr\n",
    "    \"\n",
    "    ```\n",
    "3. Write a function name rgb_color_gen and it generates rgb colors.\n",
    "    ```py\n",
    "          print(rgb_color_gen())\n",
    "        # rgb(125,244,255)\n",
    "    ```\n",
    "4. Write a function list_of_hexa_colors which return any number of hexadecimal colors in an array.\n",
    "5. Write a function list_of_rgb_colors which return any number of RGB colors in an array.\n",
    "Write a function generate_colors which can generate any number of hexa or rgb colors.\n",
    "    ```py\n",
    "          generate_colors('hexa', 3)\n",
    "          # ['#a3e12f','#03ed55','#eb3d2b']\n",
    "          generate_colors('hexa', 1)\n",
    "          # '#b334ef'\n",
    "          generate_colors('rgb', 3)\n",
    "          # ['rgb(5, 55, 175','rgb(50, 105, 100','rgb(15, 26, 80']\n",
    "          generate_colors('rgb', 1)\n",
    "          # 'rgb(33,79, 176)'\n",
    "    ```\n",
    "1. Call your function shuffle_list, it takes a list as a parameter and it returns a shuffled list\n",
    "1. Write a function which returns array of seven random numbers in a range of 0-9. All the numbers must be unique.\n",
    "\n",
    "[<< Part 3 ](https://github.com/Asabeneh/30-Days-Of-Python/blob/master/readme7-9.md) | [Part 5 >>](https://github.com/Asabeneh/30-Days-Of-Python/blob/master/readme13-15.md)\n",
    "***"
   ]
  }
 ],
 "metadata": {},
 "nbformat": 4,
 "nbformat_minor": 5
}
