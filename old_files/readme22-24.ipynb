{
 "cells": [
  {
   "cell_type": "markdown",
   "id": "7361b886",
   "metadata": {},
   "source": [
    "![30DaysOfPython](./images/30DaysOfPython_banner3@2x.png)\n",
    "\n",
    "🧳 [Part 1: Day 1 - 3](https://github.com/Asabeneh/30-Days-Of-Python)  \n",
    "🧳 [Part 2: Day 4 - 6](https://github.com/Asabeneh/30-Days-Of-Python/blob/master/readme4-6.md)  \n",
    "🧳 [Part 3: Day 7 - 9](https://github.com/Asabeneh/30-Days-Of-Python/blob/master/readme7-9.md)  \n",
    "🧳 [Part 4: Day 10 - 12](https://github.com/Asabeneh/30-Days-Of-Python/blob/master/readme10-12.md)  \n",
    "🧳 [Part 5: Day 13 - 15](https://github.com/Asabeneh/30-Days-Of-Python/blob/master/readme13-15.md)  \n",
    "🧳 [Part 6: Day 16 - 18](https://github.com/Asabeneh/30-Days-Of-Python/blob/master/readme16-18.md)  \n",
    "🧳 [Part 7: Day 19 - 21](https://github.com/Asabeneh/30-Days-Of-Python/blob/master/readme19-21.md)  \n",
    "🧳 [Part 8: Day 22 - 24](https://github.com/Asabeneh/30-Days-Of-Python/blob/master/readme22-24.md)  \n",
    "🧳 [Part 9: Day 25 - 27](https://github.com/Asabeneh/30-Days-Of-Python/blob/master/readme25-27.md)  \n",
    "🧳 [Part 10: Day 28 - 30](https://github.com/Asabeneh/30-Days-Of-Python/blob/master/readme28-30.md) \n",
    "\n",
    "---\n",
    "- [📘 Day 22](#%f0%9f%93%98-day-22)\n",
    "  - [Python Web Scraping](#python-web-scraping)\n",
    "    - [What is web scrapping](#what-is-web-scrapping)\n",
    "  - [💻 Exercises: Day 22](#%f0%9f%92%bb-exercises-day-22)\n",
    "- [📘 Day 23](#%f0%9f%93%98-day-23)\n",
    "  - [Setting up Virtual Environments](#setting-up-virtual-environments)\n",
    "  - [💻 Exercises: Day 23](#%f0%9f%92%bb-exercises-day-23)\n",
    "- [📘 Day 24](#%f0%9f%93%98-day-24)\n",
    "  - [Python for Statistical Analysis](#python-for-statistical-analysis)\n",
    "  - [Statistics](#statistics)\n",
    "  - [Data](#data)\n",
    "  - [Statistics Module](#statistics-module)\n",
    "- [NumPy](#numpy)\n",
    "\n",
    "GIVE FEEDBACK: http://thirtydayofpython-api.herokuapp.com/feedback\n",
    "# 📘 Day 22\n",
    "\n",
    "## Python Web Scraping\n",
    "\n",
    "### What is web scrapping\n",
    "\n",
    "The internet is full huge amount of data which can be used for different uses. To collect this data we need to know how scrape data on a website.\n",
    "\n",
    "Web scraping is the process of extracting and collecting data from websites and storing the data into a local machine or into a database.\n",
    "\n",
    "In this section, we will use beautifulsoup and requests package to scape data. The beautifulsoup package we are using beautifulsoup 4.\n",
    "\n",
    "To start scraping a website you need _requests_, _beautifoulSoup4_ and _website_ to be scrapped."
   ]
  },
  {
   "cell_type": "code",
   "execution_count": null,
   "id": "d745b337",
   "metadata": {
    "attributes": {
     "classes": [
      "sh"
     ],
     "id": ""
    }
   },
   "outputs": [],
   "source": [
    "pip install requests\n",
    "pip installl install beautifulsoup4"
   ]
  },
  {
   "cell_type": "markdown",
   "id": "4ef09a8b",
   "metadata": {},
   "source": [
    "To scrape a data on a website it needs basic understanding of HTML tags and css selectors. We target content from a website using HTML tag, class or an id.\n",
    "Let's import the requests and BeautifulSoup module"
   ]
  },
  {
   "cell_type": "code",
   "execution_count": null,
   "id": "0ec8b7e4",
   "metadata": {
    "attributes": {
     "classes": [
      "py"
     ],
     "id": ""
    }
   },
   "outputs": [],
   "source": [
    "import requests\n",
    "from bs4 import BeautifulSoup"
   ]
  },
  {
   "cell_type": "markdown",
   "id": "804a3b1f",
   "metadata": {},
   "source": [
    "Let's declare url variable for the website which we are going to scrape."
   ]
  },
  {
   "cell_type": "code",
   "execution_count": null,
   "id": "3b142fc6",
   "metadata": {
    "attributes": {
     "classes": [
      "py"
     ],
     "id": ""
    }
   },
   "outputs": [],
   "source": [
    "\n",
    "import requests\n",
    "from bs4 import BeautifulSoup\n",
    "url = 'http://mlr.cs.umass.edu/ml/datasets.html'\n",
    "\n",
    "# Lets use the requests get method to fetch the data from url\n",
    "\n",
    "response = requests.get(url)\n",
    "# lets check the status\n",
    "status = response.status_code\n",
    "print(status) # 200 means the fetching was successful"
   ]
  },
  {
   "cell_type": "code",
   "execution_count": null,
   "id": "73089dbb",
   "metadata": {
    "attributes": {
     "classes": [
      "sh"
     ],
     "id": ""
    }
   },
   "outputs": [],
   "source": [
    "200"
   ]
  },
  {
   "cell_type": "markdown",
   "id": "81b5bc7d",
   "metadata": {},
   "source": [
    "Using beautifulSoup to parse content from the page"
   ]
  },
  {
   "cell_type": "code",
   "execution_count": null,
   "id": "377fad5d",
   "metadata": {
    "attributes": {
     "classes": [
      "py"
     ],
     "id": ""
    }
   },
   "outputs": [],
   "source": [
    "import requests\n",
    "from bs4 import BeautifulSoup\n",
    "url = 'http://mlr.cs.umass.edu/ml/datasets.html'\n",
    "\n",
    "response = requests.get(url)\n",
    "content = response.content # we get all the content from the website\n",
    "soup = BeautifulSoup(content, 'html.parser') # beautiful soup will give a chance to parse\n",
    "print(soup.title) # <title>UCI Machine Learning Repository: Data Sets</title>\n",
    "print(soup.title.get_text()) # UCI Machine Learning Repository: Data Sets\n",
    "print(soup.body) # gives the whole page on the website\n",
    "# print(soup.body)\n",
    "print(response.status_code)\n",
    "\n",
    "tables = soup.find_all('table', {'cellpadding':'3'})\n",
    "# We are targeting the table with cellpadding attribute and the attribute value\n",
    "# We can select using id, class or HTML tag , for more information check the beautifulsoup doc\n",
    "table = tables[0] # the result is list, we are taking out from the list\n",
    "for td in table.find('tr').find_all('td'):\n",
    "    print(td.text)"
   ]
  },
  {
   "cell_type": "markdown",
   "id": "e2a64179",
   "metadata": {},
   "source": [
    "If you run the above code, you can see that the extraction is half done. You can continue doing it because it is part of exercise 1.\n",
    "For reference check the beautiful [soup documentation](https://www.crummy.com/software/BeautifulSoup/bs4/doc/#quick-start)\n",
    "\n",
    "## 💻 Exercises: Day 22\n",
    "\n",
    "1. Extract the table in this url (http://mlr.cs.umass.edu/ml/datasets.html) and change it to a json file\n",
    "2. Scrape the presidents table and store the data as json(https://en.wikipedia.org/wiki/List_of_presidents_of_the_United_States)\n",
    "\n",
    "# 📘 Day 23\n",
    "\n",
    "## Setting up Virtual Environments\n",
    "\n",
    "To start with project, it would be better to have a virtual environment. Virtual environment can help us to create an isolated or separate environment. This will help us to avoid conflicts in dependencies across projects. If you write pip freeze on your terminal you will see all the installed packages on your computer. If we use virtualenv, we will access only packages which are specific for that project. Open your terminal and install virtualenv"
   ]
  },
  {
   "cell_type": "code",
   "execution_count": null,
   "id": "dda332c3",
   "metadata": {
    "attributes": {
     "classes": [
      "sh"
     ],
     "id": ""
    }
   },
   "outputs": [],
   "source": [
    "asabeneh@Asabeneh:~/Desktop/30DaysOfPython/flask_project$ pip install virtualenv"
   ]
  },
  {
   "cell_type": "markdown",
   "id": "e2f13e3d",
   "metadata": {},
   "source": [
    "After installing the virtualenv package go to your project folder and create a virtual env by writing:\n",
    "``sh\n",
    "asabeneh@Asabeneh:~/Desktop/30DaysOfPython/flask_project\\$ virtualenv venv"
   ]
  },
  {
   "cell_type": "code",
   "execution_count": null,
   "id": "116229c8",
   "metadata": {},
   "outputs": [],
   "source": [
    "The venv name could another name too but I prefer to call it venv. Let's check if the the venv is create by using ls command.\n",
    "```sh\n",
    "asabeneh@Asabeneh:~/Desktop/30DaysOfPython/flask_project$ ls\n",
    "venv/"
   ]
  },
  {
   "cell_type": "markdown",
   "id": "b3c2870b",
   "metadata": {},
   "source": [
    "Let's activate the virtual environment by writing the following command at our project folder."
   ]
  },
  {
   "cell_type": "code",
   "execution_count": null,
   "id": "22ad7f49",
   "metadata": {
    "attributes": {
     "classes": [
      "sh"
     ],
     "id": ""
    }
   },
   "outputs": [],
   "source": [
    "asabeneh@Asabeneh:~/Desktop/30DaysOfPython/flask_project$ source venv/bin/activate\n"
   ]
  },
  {
   "cell_type": "markdown",
   "id": "77b800dc",
   "metadata": {},
   "source": [
    "After you write the activation command, your project directory will start with venv. See the example below."
   ]
  },
  {
   "cell_type": "code",
   "execution_count": null,
   "id": "63997f16",
   "metadata": {
    "attributes": {
     "classes": [
      "sh"
     ],
     "id": ""
    }
   },
   "outputs": [],
   "source": [
    "(venv) asabeneh@Asabeneh:~/Desktop/30DaysOfPython/flask_project$"
   ]
  },
  {
   "cell_type": "markdown",
   "id": "8954c5df",
   "metadata": {},
   "source": [
    "Now, lets check the available package in this project by writing pip freeze. You will not see any package.\n",
    "\n",
    "We are going to do a small flask project so let's install flask to this project."
   ]
  },
  {
   "cell_type": "code",
   "execution_count": null,
   "id": "9690e993",
   "metadata": {
    "attributes": {
     "classes": [
      "sh"
     ],
     "id": ""
    }
   },
   "outputs": [],
   "source": [
    "(venv) asabeneh@Asabeneh:~/Desktop/30DaysOfPython/flask_project$ pip install Flask"
   ]
  },
  {
   "cell_type": "markdown",
   "id": "3d2a4578",
   "metadata": {},
   "source": [
    "Now, let's write pip freeze to see the install packages in the project"
   ]
  },
  {
   "cell_type": "code",
   "execution_count": null,
   "id": "a8bd630f",
   "metadata": {
    "attributes": {
     "classes": [
      "sh"
     ],
     "id": ""
    }
   },
   "outputs": [],
   "source": [
    "(venv) asabeneh@Asabeneh:~/Desktop/30DaysOfPython/flask_project$ pip freeze\n",
    "Click==7.0\n",
    "Flask==1.1.1\n",
    "itsdangerous==1.1.0\n",
    "Jinja2==2.10.3\n",
    "MarkupSafe==1.1.1\n",
    "Werkzeug==0.16.0"
   ]
  },
  {
   "cell_type": "markdown",
   "id": "493dbe46",
   "metadata": {},
   "source": [
    "When you finish you should dactivate active project using _deactivate_."
   ]
  },
  {
   "cell_type": "code",
   "execution_count": null,
   "id": "454fd0c4",
   "metadata": {
    "attributes": {
     "classes": [
      "sh"
     ],
     "id": ""
    }
   },
   "outputs": [],
   "source": [
    "(venv) asabeneh@Asabeneh:~/Desktop/30DaysOfPython$ deactivate"
   ]
  },
  {
   "cell_type": "markdown",
   "id": "b4e9e5a6",
   "metadata": {},
   "source": [
    "The necessary modules to work on flask are installed. Now, you project directory is ready for flask project. You should include the venv to your .gitignore file not to push it to github.\n",
    "\n",
    "## 💻 Exercises: Day 23\n",
    "1. Create a project directory with a virtual environment based on the example give above.\n",
    "\n",
    "# 📘 Day 24\n",
    "## Python for Statistical Analysis\n",
    "## Statistics\n",
    "\n",
    "Statistics is the discipline that studies the _collection_, _organization_, _displaying_, _analysis_, _interpretation_ and _presentation_ of data.\n",
    "Statistics is a branch of mathematics that is recommended to be a prerequisite for  data science and machine learning. Statistics is a very broad field but we will focus in this section only on the most relevant part.\n",
    "After completing this challenge, you may go to web development, data analysis, machine learning and data science path. Whatever path you may follow, at some point in your career you will get data which you may work on. Having some statistical knowledge will help you to make decision based on data, *data tells as they say*.\n",
    "\n",
    "## Data\n",
    "\n",
    "What is data? Data is any set of characters that is gathered and translated for some purpose, usually analysis. It can be any character, including text and numbers, pictures, sound, or video. If data is not put into context, it doesn't give any sense to a human or computer. To make sense from data we need to work on the data using different tools.\n",
    "\n",
    "The work flow of data analysis, data science or machine learning starts from data. Data can be provided from some data source or it can be created. There are structured and and unstructure data. \n",
    "\n",
    "Data can be found as small or big data format. Most of the data types we will get have been covered in the file handling section.\n",
    "\n",
    "## Statistics Module\n",
    "\n",
    "The python _statistics_ module provides functions for calculating mathematical statistics of numeric data. The module is not intended to be a competitor to third-party libraries such as NumPy, SciPy, or proprietary full-featured statistics packages aimed at professional statisticians such as Minitab, SAS and Matlab. It is aimed at the level of graphing and scientific calculators.\n",
    "\n",
    "# NumPy\n",
    "\n",
    "In the first section we defined python as a great general-purpose programming language on its own, but with the help of other popular libraries (numpy, scipy, matplotlib, pandas etc) it becomes a powerful environment for scientific computing.\n",
    "\n",
    "Numpy is the core library for scientific computing in Python. It provides a high-performance multidimensional array object, and tools for working with arrays.\n",
    "\n",
    "So far, we have been using vscode but from now on I would recommend using Jupyter Notebook. To access jupter notebook let's install [anaconda](https://www.anaconda.com/). If you are using anaconda most of the common packages are included and you don't have install packages if you installed anaconda.\n",
    "\n",
    "[continue](https://github.com/Asabeneh/30-Days-Of-Python/blob/master/numpy.md)\n",
    "\n",
    "\n",
    "[<< Part 7 ](https://github.com/Asabeneh/30-Days-Of-Python/blob/master/readme19-21.md) | [Part 9 >>](https://github.com/Asabeneh/30-Days-Of-Python/blob/master/readme25-27.md)\n",
    "\n",
    "---"
   ]
  }
 ],
 "metadata": {},
 "nbformat": 4,
 "nbformat_minor": 5
}
