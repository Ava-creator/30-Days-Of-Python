{
 "cells": [
  {
   "cell_type": "markdown",
   "id": "6944b12f",
   "metadata": {},
   "source": [
    "![30DaysOfPython](./images/30DaysOfPython_banner3@2x.png)\n",
    "\n",
    "🧳 [Part 1: Day 1 - 3](https://github.com/Asabeneh/30-Days-Of-Python)  \n",
    "🧳 [Part 2: Day 4 - 6](https://github.com/Asabeneh/30-Days-Of-Python/blob/master/readme4-6.md)  \n",
    "🧳 [Part 3: Day 7 - 9](https://github.com/Asabeneh/30-Days-Of-Python/blob/master/readme7-9.md)  \n",
    "🧳 [Part 4: Day 10 - 12](https://github.com/Asabeneh/30-Days-Of-Python/blob/master/readme10-12.md)  \n",
    "🧳 [Part 5: Day 13 - 15](https://github.com/Asabeneh/30-Days-Of-Python/blob/master/readme13-15.md)  \n",
    "🧳 [Part 6: Day 16 - 18](https://github.com/Asabeneh/30-Days-Of-Python/blob/master/readme16-18.md)  \n",
    "🧳 [Part 7: Day 19 - 21](https://github.com/Asabeneh/30-Days-Of-Python/blob/master/readme19-21.md)  \n",
    "🧳 [Part 8: Day 22 - 24](https://github.com/Asabeneh/30-Days-Of-Python/blob/master/readme22-24.md)  \n",
    "🧳 [Part 9: Day 25 - 27](https://github.com/Asabeneh/30-Days-Of-Python/blob/master/readme25-27.md)  \n",
    "🧳 [Part 10: Day 28 - 30](https://github.com/Asabeneh/30-Days-Of-Python/blob/master/readme28-30.md)  \n",
    "\n",
    "---\n",
    "\n",
    "- [📘 Day 19](#%f0%9f%93%98-day-19)\n",
    "  - [File handling](#file-handling)\n",
    "    - [Opening File for reading](#opening-file-for-reading)\n",
    "    - [Opening file for writing or updating](#opening-file-for-writing-or-updating)\n",
    "    - [Deleting file](#deleting-file)\n",
    "  - [File Types](#file-types)\n",
    "    - [File with txt Extension](#file-with-txt-extension)\n",
    "    - [File with json Extension](#file-with-json-extension)\n",
    "    - [Changing JSON to dictionary](#changing-json-to-dictionary)\n",
    "    - [Changing dictionary to JSON](#changing-dictionary-to-json)\n",
    "    - [Saving as JSON file](#saving-as-json-file)\n",
    "    - [File with csv Extension](#file-with-csv-extension)\n",
    "    - [File with xlsx Extension](#file-with-xlsx-extension)\n",
    "    - [File with xml Extension](#file-with-xml-extension)\n",
    "  - [💻 Exercises: Day 19](#%f0%9f%92%bb-exercises-day-19)\n",
    "- [📘 Day 20](#%f0%9f%93%98-day-20)\n",
    "  - [Python PIP - Python Package Manager](#python-pip---python-package-manager)\n",
    "    - [What is PIP ?](#what-is-pip)\n",
    "    - [Installing pip](#installing-pip)\n",
    "    - [Installing packages using pip](#installing-packages-using-pip)\n",
    "    - [Uninstall packages](#uninstall-packages)\n",
    "    - [List of packages](#list-of-packages)\n",
    "    - [Show package](#show-package)\n",
    "    - [PIP freeze](#pip-freeze)\n",
    "    - [Reading from URL](#reading-from-url)\n",
    "    - [Creating a package](#creating-a-package)\n",
    "    - [Further information about packages](#further-information-about-packages)\n",
    "  - [Exercises: Day 20](#exercises-day-20)\n",
    "- [📘 Day 21](#%f0%9f%93%98-day-21)\n",
    "  - [Classes and Objects](#classes-and-objects)\n",
    "    - [Creating a Class](#creating-a-class)\n",
    "    - [Creating an Object](#creating-an-object)\n",
    "    - [Class Constructor](#class-constructor)\n",
    "    - [Object Methods](#object-methods)\n",
    "    - [Object default methods](#object-default-methods)\n",
    "    - [Method to modify class default values](#method-to-modify-class-default-values)\n",
    "    - [Inheritance](#inheritance)\n",
    "    - [Overriding parent method](#overriding-parent-method)\n",
    "  - [💻 Exercises: Day 21](#%f0%9f%92%bb-exercises-day-21)\n",
    "GIVE FEEDBACK: http://thirtydayofpython-api.herokuapp.com/feedback\n",
    "# 📘 Day 19\n",
    "\n",
    "## File handling\n",
    "\n",
    "So far we have seen different python data types. We usually store our data in a different file format. In addition to handling file, we will also see different file formats(.txt, .json, .xml, .csv, .tsv, .excel) file formats in this section. First, let's get familiar with handling file with common file format(.txt).\n",
    "\n",
    "File handling is an import part of programming which allows us to create, read, update and delete files. In python to handle data we use _open()_ builtin function."
   ]
  },
  {
   "cell_type": "code",
   "execution_count": null,
   "id": "1c9a4fa2",
   "metadata": {
    "attributes": {
     "classes": [
      "py"
     ],
     "id": ""
    }
   },
   "outputs": [],
   "source": [
    "# Syntax\n",
    "open('filename', mode) # mode(r, a, w, x, t,b,  could be to read, write, update"
   ]
  },
  {
   "cell_type": "markdown",
   "id": "486cfdce",
   "metadata": {},
   "source": [
    "- \"r\" - Read - Default value. Opens a file for reading, error if the file does not exist\n",
    "- \"a\" - Append - Opens a file for appending, creates the file if it does not exist\n",
    "- \"w\" - Write - Opens a file for writing, creates the file if it does not exist\n",
    "- \"x\" - Create - Creates the specified file, returns an error if the file exists\n",
    "- \"t\" - Text - Default value. Text mode\n",
    "- \"b\" - Binary - Binary mode (e.g. images)\n",
    "\n",
    "### Opening File for reading\n",
    "\n",
    "The default mode of _open_ is reading, so we do not have to specify 'r' or 'rt'. I have created and saved a file named reading_file_example.txt in the files directory. Let see read this file."
   ]
  },
  {
   "cell_type": "code",
   "execution_count": null,
   "id": "a54f569c",
   "metadata": {
    "attributes": {
     "classes": [
      "py"
     ],
     "id": ""
    }
   },
   "outputs": [],
   "source": [
    "f = open('./files/reading_file_example.txt')\n",
    "print(f) # <_io.TextIOWrapper name='./files/reading_file_example.txt' mode='r' encoding='UTF-8'>"
   ]
  },
  {
   "cell_type": "markdown",
   "id": "8f190946",
   "metadata": {},
   "source": [
    "As you can see in the above example, I printed the opened file and it gave me some information about the opened file. Opened file has different reading methods: _read()_, _readline_, _readlines_. An opened file has to be closed with _close()_ method.\n",
    "\n",
    "- _read()_: read the whole text as string. If we want to limit the number of characters we read, we can limit it by passing int value to the methods."
   ]
  },
  {
   "cell_type": "code",
   "execution_count": null,
   "id": "e3287f22",
   "metadata": {
    "attributes": {
     "classes": [
      "py"
     ],
     "id": ""
    }
   },
   "outputs": [],
   "source": [
    "f = open('./files/reading_file_example.txt')\n",
    "txt = f.read()\n",
    "print(type(txt))\n",
    "print(txt)\n",
    "f.close()"
   ]
  },
  {
   "cell_type": "code",
   "execution_count": null,
   "id": "877e2acd",
   "metadata": {
    "attributes": {
     "classes": [
      "sh"
     ],
     "id": ""
    }
   },
   "outputs": [],
   "source": [
    "# output\n",
    "<class 'str'>\n",
    "This is an example to show how to open a file and read.\n",
    "This is the second line of the text."
   ]
  },
  {
   "cell_type": "markdown",
   "id": "fea64799",
   "metadata": {},
   "source": [
    "Instead of printing all the text, let see by printing the first 10 characters of the text in the file."
   ]
  },
  {
   "cell_type": "code",
   "execution_count": null,
   "id": "340c9994",
   "metadata": {
    "attributes": {
     "classes": [
      "py"
     ],
     "id": ""
    }
   },
   "outputs": [],
   "source": [
    "f = open('./files/reading_file_example.txt')\n",
    "txt = f.read(10)\n",
    "print(type(txt))\n",
    "print(txt)\n",
    "f.close()"
   ]
  },
  {
   "cell_type": "code",
   "execution_count": null,
   "id": "976c3fe0",
   "metadata": {
    "attributes": {
     "classes": [
      "sh"
     ],
     "id": ""
    }
   },
   "outputs": [],
   "source": [
    "# output\n",
    "<class 'str'>\n",
    "This is an"
   ]
  },
  {
   "cell_type": "markdown",
   "id": "d6518d57",
   "metadata": {},
   "source": [
    "- _readline()_: read only the first line"
   ]
  },
  {
   "cell_type": "code",
   "execution_count": null,
   "id": "3b0776a5",
   "metadata": {
    "attributes": {
     "classes": [
      "py"
     ],
     "id": ""
    }
   },
   "outputs": [],
   "source": [
    "f = open('./files/reading_file_example.txt')\n",
    "line = f.readline()\n",
    "print(type(line))\n",
    "print(line)\n",
    "f.close()"
   ]
  },
  {
   "cell_type": "code",
   "execution_count": null,
   "id": "c12bf2ba",
   "metadata": {
    "attributes": {
     "classes": [
      "sh"
     ],
     "id": ""
    }
   },
   "outputs": [],
   "source": [
    "# output\n",
    "<class 'str'>\n",
    "This is an example to show how to open a file and read."
   ]
  },
  {
   "cell_type": "markdown",
   "id": "5e3f353e",
   "metadata": {},
   "source": [
    "- _readlines()_: read all the text line by line and returns a list of lines"
   ]
  },
  {
   "cell_type": "code",
   "execution_count": null,
   "id": "da2fb668",
   "metadata": {
    "attributes": {
     "classes": [
      "py"
     ],
     "id": ""
    }
   },
   "outputs": [],
   "source": [
    "f = open('./files/reading_file_example.txt')\n",
    "lines = f.readlines()\n",
    "print(type(lines))\n",
    "print(lines)\n",
    "f.close()"
   ]
  },
  {
   "cell_type": "code",
   "execution_count": null,
   "id": "63f07735",
   "metadata": {
    "attributes": {
     "classes": [
      "sh"
     ],
     "id": ""
    }
   },
   "outputs": [],
   "source": [
    "# output\n",
    "<class 'list'>\n",
    "['This is an example to show how to open a file and read.\\n', 'This is the second line of the text.']"
   ]
  },
  {
   "cell_type": "markdown",
   "id": "43fbc07a",
   "metadata": {},
   "source": [
    "Another way to get all the lines a list is using _splitlines()_:"
   ]
  },
  {
   "cell_type": "code",
   "execution_count": null,
   "id": "57abac92",
   "metadata": {
    "attributes": {
     "classes": [
      "py"
     ],
     "id": ""
    }
   },
   "outputs": [],
   "source": [
    "f = open('./files/reading_file_example.txt')\n",
    "lines = f.read().splitlines()\n",
    "print(type(lines))\n",
    "print(lines)\n",
    "f.close()"
   ]
  },
  {
   "cell_type": "code",
   "execution_count": null,
   "id": "383997b6",
   "metadata": {
    "attributes": {
     "classes": [
      "sh"
     ],
     "id": ""
    }
   },
   "outputs": [],
   "source": [
    "# output\n",
    "<class 'list'>\n",
    "['This is an example to show how to open a file and read.', 'This is the second line of the text.']"
   ]
  },
  {
   "cell_type": "markdown",
   "id": "a1ef9e53",
   "metadata": {},
   "source": [
    "After we open a file, we should close the file but there is a high tendency to forget to close. There is a new way of opening method, _with_ which closes by itself. Let's write the above code with _with_."
   ]
  },
  {
   "cell_type": "code",
   "execution_count": null,
   "id": "fbd06eab",
   "metadata": {
    "attributes": {
     "classes": [
      "py"
     ],
     "id": ""
    }
   },
   "outputs": [],
   "source": [
    "with open('./files/reading_file_example.txt') as f:\n",
    "    lines = f.read().splitlines()\n",
    "    print(type(lines))\n",
    "    print(lines)"
   ]
  },
  {
   "cell_type": "code",
   "execution_count": null,
   "id": "942d864c",
   "metadata": {
    "attributes": {
     "classes": [
      "sh"
     ],
     "id": ""
    }
   },
   "outputs": [],
   "source": [
    "# output\n",
    "<class 'list'>\n",
    "['This is an example to show how to open a file and read.', 'This is the second line of the text.']"
   ]
  },
  {
   "cell_type": "markdown",
   "id": "4510980f",
   "metadata": {},
   "source": [
    "### Opening file for writing or updating\n",
    "\n",
    "To write to an existing file, we must add a mode as parameter to the _open()_ function:\n",
    "\n",
    "- \"a\" - append - will append to the end of the file if the file does not exist it raise FileNotFoundError.\n",
    "- \"w\" - write - will overwrite any existing content if the file does not exist it creates.\n",
    "\n",
    "Let's append some text to the file, we have been reading"
   ]
  },
  {
   "cell_type": "code",
   "execution_count": null,
   "id": "438b3be4",
   "metadata": {
    "attributes": {
     "classes": [
      "py"
     ],
     "id": ""
    }
   },
   "outputs": [],
   "source": [
    "with open('./files/reading_file_example.txt','a') as f:\n",
    "    f.write('This text has to be appended at the end')"
   ]
  },
  {
   "cell_type": "markdown",
   "id": "0804aaed",
   "metadata": {},
   "source": [
    "This method below, create a new file if the file does not exist."
   ]
  },
  {
   "cell_type": "code",
   "execution_count": null,
   "id": "4b0fcfaf",
   "metadata": {
    "attributes": {
     "classes": [
      "py"
     ],
     "id": ""
    }
   },
   "outputs": [],
   "source": [
    "with open('./files/writing_file_example.txt','w') as f:\n",
    "    f.write('This text will be written in a newly created file')"
   ]
  },
  {
   "cell_type": "markdown",
   "id": "17889bad",
   "metadata": {},
   "source": [
    "### Deleting file\n",
    "\n",
    "We have seen in previous section, how to make and remove a directory using _os_ module. Again now, if we want to remove a file we use _os_ module."
   ]
  },
  {
   "cell_type": "code",
   "execution_count": null,
   "id": "ec2a10af",
   "metadata": {
    "attributes": {
     "classes": [
      "py"
     ],
     "id": ""
    }
   },
   "outputs": [],
   "source": [
    "import os\n",
    "os.remove('./files/example.txt')\n"
   ]
  },
  {
   "cell_type": "markdown",
   "id": "ece89dcf",
   "metadata": {},
   "source": [
    "If the file does not exist, the remove method will raise an error it is good to use condition."
   ]
  },
  {
   "cell_type": "code",
   "execution_count": null,
   "id": "bacbbe72",
   "metadata": {
    "attributes": {
     "classes": [
      "py"
     ],
     "id": ""
    }
   },
   "outputs": [],
   "source": [
    "import os\n",
    "if os.path.exist('./files/example.txt):\n",
    "    os.remove('./files/example.txt')\n",
    "else:\n",
    "    os.remove('The file does not exist')"
   ]
  },
  {
   "cell_type": "markdown",
   "id": "e1fc11b4",
   "metadata": {},
   "source": [
    "## File Types\n",
    "\n",
    "### File with txt Extension\n",
    "\n",
    "File with _txt_ extension is a very common form data and we have covered it in the previous section. Let's move to the JSON file\n",
    "\n",
    "### File with json Extension\n",
    "\n",
    "JSON stands for JavaScript Object Notation. Actually, it a stringified JavaScript object.\n",
    "_Example:_"
   ]
  },
  {
   "cell_type": "code",
   "execution_count": null,
   "id": "279080b2",
   "metadata": {
    "attributes": {
     "classes": [
      "py"
     ],
     "id": ""
    }
   },
   "outputs": [],
   "source": [
    "# dictionary\n",
    "person_dct= {\n",
    "    \"name\":\"Asabeneh\",\n",
    "    \"country\":\"Finland\",\n",
    "    \"city\":\"Helsinki\",\n",
    "    \"skills\":[\"JavaScrip\", \"React\",\"Python\"]\n",
    "}\n",
    "# JSON: A string form a dictionary\n",
    "person_json = \"{'name': 'Asabeneh', 'country': 'Finland', 'city': 'Helsinki', 'skills': ['JavaScrip', 'React', 'Python']}\"\n",
    "\n",
    "# we use three quotes and make it multiple line to make it more readable\n",
    "person_json = '''{\n",
    "    \"name\":\"Asabeneh\",\n",
    "    \"country\":\"Finland\",\n",
    "    \"city\":\"Helsinki\",\n",
    "    \"skills\":[\"JavaScrip\", \"React\",\"Python\"]\n",
    "}'''"
   ]
  },
  {
   "cell_type": "markdown",
   "id": "6189f2b9",
   "metadata": {},
   "source": [
    "### Changing JSON to dictionary\n",
    "\n",
    "To change a JSON to a dictionary we use _loads_ method."
   ]
  },
  {
   "cell_type": "code",
   "execution_count": null,
   "id": "1d43eea9",
   "metadata": {
    "attributes": {
     "classes": [
      "py"
     ],
     "id": ""
    }
   },
   "outputs": [],
   "source": [
    "import json\n",
    "# JSON\n",
    "person_json = '''{\n",
    "    \"name\": \"Asabeneh\",\n",
    "    \"country\": \"Finland\",\n",
    "    \"city\": \"Helsinki\",\n",
    "    \"skills\": [\"JavaScrip\", \"React\", \"Python\"]\n",
    "}'''\n",
    "# let's change JSON to dictionary\n",
    "person_dct = json.loads(person_json)\n",
    "print(person_dct)\n",
    "print(person_dct['name'])"
   ]
  },
  {
   "cell_type": "code",
   "execution_count": null,
   "id": "f779ca80",
   "metadata": {
    "attributes": {
     "classes": [
      "sh"
     ],
     "id": ""
    }
   },
   "outputs": [],
   "source": [
    "# output\n",
    "{'name': 'Asabeneh', 'country': 'Finland', 'city': 'Helsinki', 'skills': ['JavaScrip', 'React', 'Python']}\n",
    "Asabeneh"
   ]
  },
  {
   "cell_type": "markdown",
   "id": "3a55dac7",
   "metadata": {},
   "source": [
    "### Changing dictionary to JSON\n",
    "\n",
    "To change a dictionary to a JSON we use _dumps_ method."
   ]
  },
  {
   "cell_type": "code",
   "execution_count": null,
   "id": "119c3d24",
   "metadata": {
    "attributes": {
     "classes": [
      "py"
     ],
     "id": ""
    }
   },
   "outputs": [],
   "source": [
    "import json\n",
    "# python dictionary\n",
    "person = {\n",
    "    \"name\": \"Asabeneh\",\n",
    "    \"country\": \"Finland\",\n",
    "    \"city\": \"Helsinki\",\n",
    "    \"skills\": [\"JavaScrip\", \"React\", \"Python\"]\n",
    "}\n",
    "# let's convert it to  json\n",
    "person_json = json.dumps(person, indent=4) # indent could be 2, 4, 8. It beautify the json\n",
    "print(type(person_json))\n",
    "print(person_json)"
   ]
  },
  {
   "cell_type": "code",
   "execution_count": null,
   "id": "db17ece6",
   "metadata": {
    "attributes": {
     "classes": [
      "sh"
     ],
     "id": ""
    }
   },
   "outputs": [],
   "source": [
    "# output\n",
    "# when you it is printed it does not have the quote but actually it is a string\n",
    "# JSON does not have type, it is a string type.\n",
    "<class 'str'>\n",
    "{\n",
    "    \"name\": \"Asabeneh\",\n",
    "    \"country\": \"Finland\",\n",
    "    \"city\": \"Helsinki\",\n",
    "    \"skills\": [\n",
    "        \"JavaScrip\",\n",
    "        \"React\",\n",
    "        \"Python\"\n",
    "    ]\n",
    "}"
   ]
  },
  {
   "cell_type": "markdown",
   "id": "a710e2c5",
   "metadata": {},
   "source": [
    "### Saving as JSON file\n",
    "\n",
    "We can also save our data as a json file. Let's save it as a json file using the following steps."
   ]
  },
  {
   "cell_type": "code",
   "execution_count": null,
   "id": "b61659dc",
   "metadata": {
    "attributes": {
     "classes": [
      "py"
     ],
     "id": ""
    }
   },
   "outputs": [],
   "source": [
    "import json\n",
    "# python dictionary\n",
    "person = {\n",
    "    \"name\": \"Asabeneh\",\n",
    "    \"country\": \"Finland\",\n",
    "    \"city\": \"Helsinki\",\n",
    "    \"skills\": [\"JavaScrip\", \"React\", \"Python\"]\n",
    "}\n",
    "with open('./files/json_example.json', 'w', encoding='utf-8') as f:\n",
    "    json.dump(person, f, ensure_ascii=False, indent=4)"
   ]
  },
  {
   "cell_type": "markdown",
   "id": "9622b746",
   "metadata": {},
   "source": [
    "In the above code, we use encoding and indentation. Indentation makes the json file easy to read.\n",
    "\n",
    "### File with csv Extension\n",
    "\n",
    "CSV stands for comma separated values. CSV is a simple file format used to store tabular data, such as a spreadsheet or database. CSV is a very common data format in data science.\n",
    "\n",
    "**Example:**"
   ]
  },
  {
   "cell_type": "code",
   "execution_count": null,
   "id": "bbc142ba",
   "metadata": {
    "attributes": {
     "classes": [
      "csv"
     ],
     "id": ""
    }
   },
   "outputs": [],
   "source": [
    "\"name\",\"country\",\"city\",\"skills\"\n",
    "\"Asabeneh\",\"Finland\",\"Helsinki\",\"JavaScrip\""
   ]
  },
  {
   "cell_type": "markdown",
   "id": "491cd851",
   "metadata": {},
   "source": [
    "**Example:**"
   ]
  },
  {
   "cell_type": "code",
   "execution_count": null,
   "id": "0e5c82a4",
   "metadata": {
    "attributes": {
     "classes": [
      "py"
     ],
     "id": ""
    }
   },
   "outputs": [],
   "source": [
    "import csv\n",
    "with open('./files/csv_example.csv') as f:\n",
    "    csv_reader = csv.reader(f, delimiter=',') # w use, reader method to read csv\n",
    "    line_count = 0\n",
    "    for row in csv_reader:\n",
    "        if line_count == 0:\n",
    "            print(f'Column names are :{\", \".join(row)}')\n",
    "            line_count += 1\n",
    "        else:\n",
    "            print(\n",
    "                f'\\t{row[0]} is a teachers. He lives in {row[1]}, {row[2]}.')\n",
    "            line_count += 1\n",
    "    print(f'Number of lines:  {line_count}')"
   ]
  },
  {
   "cell_type": "code",
   "execution_count": null,
   "id": "c94a5adb",
   "metadata": {
    "attributes": {
     "classes": [
      "sh"
     ],
     "id": ""
    }
   },
   "outputs": [],
   "source": [
    "# output:\n",
    "Column names are :name, country, city, skills\n",
    "        Asabeneh is a teachers. He lives in Finland, Helsinki.\n",
    "Number of lines:  2"
   ]
  },
  {
   "cell_type": "markdown",
   "id": "2ff92ca5",
   "metadata": {},
   "source": [
    "### File with xlsx Extension\n",
    "\n",
    "To read excel we need to install _xlrd_ package. We will cover this after we cover package installing using pip.\n",
    "\n",
    "### File with xml Extension\n",
    "\n",
    "XML is another structured data format which looks like HTML. In XML the tags are not predefined. The first line is an XML declaration. The person tag is the root of the XML. The person has a gender attribute.\n",
    "**Example:XML**"
   ]
  },
  {
   "cell_type": "code",
   "execution_count": null,
   "id": "b0265959",
   "metadata": {
    "attributes": {
     "classes": [
      "xml"
     ],
     "id": ""
    }
   },
   "outputs": [],
   "source": [
    "<?xml version=\"1.0\"?>\n",
    "<person gender=\"female\">\n",
    "  <name>Asabeneh</name>\n",
    "  <country>Finland</country>\n",
    "  <city>Helsinki</city>\n",
    "  <skills>\n",
    "    <skill>JavaScrip</skill>\n",
    "    <skill>React</skill>\n",
    "    <skill>Python</skill>\n",
    "  </skills>\n",
    "</person>"
   ]
  },
  {
   "cell_type": "markdown",
   "id": "67e7bcf7",
   "metadata": {},
   "source": [
    "How to read an XML file, for more information check the [documentation](https://docs.python.org/2/library/xml.etree.elementtree.html)"
   ]
  },
  {
   "cell_type": "code",
   "execution_count": null,
   "id": "4b2e8cb3",
   "metadata": {
    "attributes": {
     "classes": [
      "py"
     ],
     "id": ""
    }
   },
   "outputs": [],
   "source": [
    "import xml.etree.ElementTree as ET\n",
    "tree = ET.parse('./files/xml_example.xml')\n",
    "root = tree.getroot()\n",
    "print('Root tag:', root.tag)\n",
    "print('Attribute:', root.attrib)\n",
    "for child in root:\n",
    "    print('field: ', child.tag)"
   ]
  },
  {
   "cell_type": "code",
   "execution_count": null,
   "id": "446d6b25",
   "metadata": {
    "attributes": {
     "classes": [
      "sh"
     ],
     "id": ""
    }
   },
   "outputs": [],
   "source": [
    "# output\n",
    "Root tag: person\n",
    "Attribute: {'gender': 'male'}\n",
    "field: name\n",
    "field: country\n",
    "field: city\n",
    "field: skills"
   ]
  },
  {
   "cell_type": "markdown",
   "id": "c0b8b130",
   "metadata": {},
   "source": [
    "## 💻 Exercises: Day 19\n",
    "\n",
    "1. Writ a function which count number of lines and number of words from a text. All the files are in data the folder:\n",
    "   1. Read obama_speech.txt file and count number of lines and now of words\n",
    "   2. Read michelle_obama_speech.txt file and count number of lines and now of words\n",
    "   3. Read donald_speech.txt file and count number of lines and now of words\n",
    "   4. Read melina_trump_speech.txt file and count number of lines and now of words\n",
    "2. Read the countries_data.json data file in data directory, create a function which find the ten most spoken languages\n",
    "\n",
    "   ```py\n",
    "   # Your output should look like this\n",
    "   print(most_spoken_languages(filename='./data/countries_data.json', 10))\n",
    "   [(91, 'English'),\n",
    "   (45, 'French'),\n",
    "   (25, 'Arabic'),\n",
    "   (24, 'Spanish'),\n",
    "   (9, 'Russian'),\n",
    "   (9, 'Portuguese'),\n",
    "   (8, 'Dutch'),\n",
    "   (7, 'German'),\n",
    "   (5, 'Chinese'),\n",
    "   (4, 'Swahili'),\n",
    "   (4, 'Serbian')]\n",
    "\n",
    "   # Your output should look like this\n",
    "   print(most_spoken_languages(filename='./data/countries_data.json', 3))\n",
    "   [(91, 'English'),\n",
    "   (45, 'French'),\n",
    "   (25, 'Arabic')]\n",
    "   ```\n",
    "\n",
    "3. Read the countries_data.json data file in data directory,create a function which create the ten most populated countries\n",
    "\n",
    "   ```py\n",
    "   # Your output should look like this\n",
    "   print(most_populated_countries(filename='./data/countries_data.json', 10))\n",
    "\n",
    "   [{'country': 'China', 'population': 1377422166},\n",
    "   {'country': 'India', 'population': 1295210000},\n",
    "   {'country': 'United States of America', 'population': 323947000},\n",
    "   {'country': 'Indonesia', 'population': 258705000},\n",
    "   {'country': 'Brazil', 'population': 206135893},\n",
    "   {'country': 'Pakistan', 'population': 194125062},\n",
    "   {'country': 'Nigeria', 'population': 186988000},\n",
    "   {'country': 'Bangladesh', 'population': 161006790},\n",
    "   {'country': 'Russian Federation', 'population': 146599183},\n",
    "   {'country': 'Japan', 'population': 126960000}]\n",
    "\n",
    "   # Your output should look like this\n",
    "\n",
    "   print(most_populated_countries(filename='./data/countries_data.json', 3))\n",
    "   [{'country': 'China', 'population': 1377422166},\n",
    "   {'country': 'India', 'population': 1295210000},\n",
    "   {'country': 'United States of America', 'population': 323947000}]\n",
    "   ```\n",
    "\n",
    "4. Extract all incoming emails from the email_exchange_big.txt file.\n",
    "5. Find the most common words in the English language. Call the name of your function find_most_common_words, it will take two parameters which are a string or a file and a positive integer. Your function will return an array of tuples in descending order. Check the output"
   ]
  },
  {
   "cell_type": "code",
   "execution_count": null,
   "id": "1905887b",
   "metadata": {
    "attributes": {
     "classes": [
      "py"
     ],
     "id": ""
    }
   },
   "outputs": [],
   "source": [
    "    # Your output should look like this\n",
    "\n",
    "    print(find_most_common_words('sample.txt', 10))\n",
    "    [(10, 'the'),\n",
    "    (8, 'be'),\n",
    "    (6, 'to'),\n",
    "    (6, 'of'),\n",
    "    (5, 'and'),\n",
    "    (4, 'a'),\n",
    "    (4, 'in'),\n",
    "    (3, 'that'),\n",
    "    (2, 'have'),\n",
    "    (2, 'I')]\n",
    "\n",
    "    # Your output should look like this\n",
    "    print(find_most_common_words('sample.txt', 5))\n",
    "\n",
    "    [(10, 'the'),\n",
    "    (8, 'be'),\n",
    "    (6, 'to'),\n",
    "    (6, 'of'),\n",
    "    (5, 'and')]"
   ]
  },
  {
   "cell_type": "markdown",
   "id": "7bcd822b",
   "metadata": {},
   "source": [
    "6. Use the function, find_most_frequent_words to find out:\n",
    "   1. The ten most frequent words used in [Obama's speech](https://github.com/Asabeneh/30-Days-Of-Python/blob/master/data/obama_speech.txt)\n",
    "   2. The ten most frequent words used in [Michelle's speech](https://github.com/Asabeneh/30-Days-Of-Python/blob/master/data/michelle_obama_speech.txt)\n",
    "   3. The ten most frequent words used in [Trump's speech](https://github.com/Asabeneh/30-Days-Of-Python/blob/master/data/donald_speech.txt)\n",
    "   4. The ten most frequent words used in [Melina's speech](https://github.com/Asabeneh/30-Days-Of-Python/blob/master/data/melina_trump_speech.txt)\n",
    "7. Write a python application which checks similarity between two texts. It takes a file or a string as a parameter and it will evaluate the similarity of the two texts. For instance check the similarity between the transcripts of [Michelle's](https://github.com/Asabeneh/30-Days-Of-Python/blob/master/data/michelle_obama_speech.txt) and [Melina's](https://github.com/Asabeneh/30-Days-Of-Python/blob/master/data/melina_trump_speech.txt) speech. You may need a couple of functions, function to clean the text(clean_text), function to remove support words(remove_support_words) and finally to check the similarity(check_text_similarity). List of [stop words](https://github.com/Asabeneh/30-Days-Of-Python/blob/master/data/stop_words.py) are in the data directory\n",
    "8. Find the 10 most repeated words in the romeo_and_juliet.txt\n",
    "9. Read the [hacker news csv](https://github.com/Asabeneh/30-Days-Of-Python/blob/master/data/hacker_news.csv) file and find out:\n",
    "   1. Count the number of lines containing python or Python\n",
    "   2. Count the number lines containing JavaScript, javascript or Javascript\n",
    "   3. Count the number lines containing Java not JavaScript\n",
    "\n",
    "# 📘 Day 20\n",
    "\n",
    "## Python PIP - Python Package Manager\n",
    "\n",
    "### What is PIP ?\n",
    "\n",
    "PIP stands for Preferred installer program. We use _pip_ to install different python packages.\n",
    "Package is a python module which can contain one or more modules or other packages. A module or modules which we can install to our application is a package.\n",
    "In programming, we do not have to write every utility programs instead we install packages and import the package to our applications.\n",
    "\n",
    "### Installing pip\n",
    "\n",
    "If you did not install pip, lets install pip. Go to your terminal or command prompt and copy and past this:"
   ]
  },
  {
   "cell_type": "code",
   "execution_count": null,
   "id": "c25af18f",
   "metadata": {
    "attributes": {
     "classes": [
      "sh"
     ],
     "id": ""
    }
   },
   "outputs": [],
   "source": [
    "asabeneh@Asabeneh:~$ pip install pip"
   ]
  },
  {
   "cell_type": "markdown",
   "id": "f4f53b4e",
   "metadata": {},
   "source": [
    "Check if it is installed by writing"
   ]
  },
  {
   "cell_type": "code",
   "execution_count": null,
   "id": "5fb000e6",
   "metadata": {
    "attributes": {
     "classes": [
      "sh"
     ],
     "id": ""
    }
   },
   "outputs": [],
   "source": [
    "pip --version"
   ]
  },
  {
   "cell_type": "code",
   "execution_count": null,
   "id": "c0205954",
   "metadata": {
    "attributes": {
     "classes": [
      "py"
     ],
     "id": ""
    }
   },
   "outputs": [],
   "source": [
    "asabeneh@Asabeneh:~$ pip --version\n",
    "pip 19.3.1 from /usr/local/lib/python3.7/site-packages/pip (python 3.7)"
   ]
  },
  {
   "cell_type": "markdown",
   "id": "9c6990c5",
   "metadata": {},
   "source": [
    "As you can see, I am using pip version 19.3.1, if you see some number a bit below or above that mean you have pip installed.\n",
    "\n",
    "Let's some of the package used in the python community for different purposes. Just to let you know that there are lots of package which are available for use with different applications.\n",
    "\n",
    "### Installing packages using pip\n",
    "\n",
    "\n",
    "\n",
    "Let's try to install _numpy_, which is called a numeric python. It is one of the most popular package in machine learning and data science community.\n",
    "\n",
    "- NumPy is the fundamental package for scientific computing with Python. It contains among other things:\n",
    "  - a powerful N-dimensional array object\n",
    "  - sophisticated (broadcasting) functions\n",
    "  - tools for integrating C/C++ and Fortran code\n",
    "  - useful linear algebra, Fourier transform, and random number capabilities"
   ]
  },
  {
   "cell_type": "code",
   "execution_count": null,
   "id": "5004d659",
   "metadata": {
    "attributes": {
     "classes": [
      "sh"
     ],
     "id": ""
    }
   },
   "outputs": [],
   "source": [
    "asabeneh@Asabeneh:~$ pip install numpy"
   ]
  },
  {
   "cell_type": "markdown",
   "id": "d90606ab",
   "metadata": {},
   "source": [
    "Lets start using numpy. Open your python interactive shell, write python and then import numpy as follows:"
   ]
  },
  {
   "cell_type": "code",
   "execution_count": null,
   "id": "f34cb7f0",
   "metadata": {
    "attributes": {
     "classes": [
      "py"
     ],
     "id": ""
    }
   },
   "outputs": [],
   "source": [
    "asabeneh@Asabeneh:~$ python\n",
    "Python 3.7.5 (default, Nov  1 2019, 02:16:32)\n",
    "[Clang 11.0.0 (clang-1100.0.33.8)] on darwin\n",
    "Type \"help\", \"copyright\", \"credits\" or \"license\" for more information.\n",
    ">>> import numpy\n",
    ">>> numpy.version.version\n",
    "'1.17.3'\n",
    ">>> lst = [1, 2, 3,4, 5]\n",
    ">>> np_arr = numpy.array(lst)\n",
    ">>> np_arr\n",
    "array([1, 2, 3, 4, 5])\n",
    ">>> len(np_arr)\n",
    "5\n",
    ">>> np_arr * 2\n",
    "array([ 2,  4,  6,  8, 10])\n",
    ">>> np_arr  + 2\n",
    "array([3, 4, 5, 6, 7])\n",
    ">>>"
   ]
  },
  {
   "cell_type": "markdown",
   "id": "5828a393",
   "metadata": {},
   "source": [
    "Pandas is an open source, BSD-licensed library providing high-performance, easy-to-use data structures and data analysis tools for the Python programming language. Lets install big brother of numpy _pandas_ as we did for _numpy_."
   ]
  },
  {
   "cell_type": "code",
   "execution_count": null,
   "id": "7282fcb7",
   "metadata": {
    "attributes": {
     "classes": [
      "sh"
     ],
     "id": ""
    }
   },
   "outputs": [],
   "source": [
    "asabeneh@Asabeneh:~$ pip install pandas"
   ]
  },
  {
   "cell_type": "code",
   "execution_count": null,
   "id": "8bed93ef",
   "metadata": {
    "attributes": {
     "classes": [
      "py"
     ],
     "id": ""
    }
   },
   "outputs": [],
   "source": [
    "asabeneh@Asabeneh:~$ python\n",
    "Python 3.7.5 (default, Nov  1 2019, 02:16:32)\n",
    "[Clang 11.0.0 (clang-1100.0.33.8)] on darwin\n",
    "Type \"help\", \"copyright\", \"credits\" or \"license\" for more information.\n",
    ">>> import pandas"
   ]
  },
  {
   "cell_type": "markdown",
   "id": "0dde8abf",
   "metadata": {},
   "source": [
    "This section is not about numpy nor pandas, here we are trying to learn how to install packages and how to import them. If it is needed we will talk about different packages in other sections.\n",
    "\n",
    "Let's import a web browser module, which can help us to open any website.You do not install this module, it is installed by default with python 3.  For instance if you like to open any number of website at any time or if you like to schedule something this *webbrowser* module can be use."
   ]
  },
  {
   "cell_type": "code",
   "execution_count": null,
   "id": "89a2ff15",
   "metadata": {
    "attributes": {
     "classes": [
      "py"
     ],
     "id": ""
    }
   },
   "outputs": [],
   "source": [
    "import webbrowser # web browser module to open websites\n",
    "\n",
    "# list of urls: python\n",
    "url_lists = [\n",
    "    'http://www.python.org',\n",
    "    'https://www.linkedin.com/in/asabeneh/',\n",
    "    'https://twitter.com/Asabeneh',\n",
    "    'https://twitter.com/Asabeneh',\n",
    "]\n",
    "\n",
    "# opens the above list of websites in a different tab\n",
    "for url in url_lists:\n",
    "    webbrowser.open_new_tab(url)"
   ]
  },
  {
   "cell_type": "markdown",
   "id": "2de10abe",
   "metadata": {},
   "source": [
    "### Uninstall packages\n",
    "\n",
    "If you do not like to keep the installed packages, you can remove them."
   ]
  },
  {
   "cell_type": "code",
   "execution_count": null,
   "id": "ab2a3541",
   "metadata": {
    "attributes": {
     "classes": [
      "sh"
     ],
     "id": ""
    }
   },
   "outputs": [],
   "source": [
    "pip uninstall packagename"
   ]
  },
  {
   "cell_type": "markdown",
   "id": "d3dbe9b8",
   "metadata": {},
   "source": [
    "### List of packages\n",
    "\n",
    "To see the installed packages on our machine. We can use pip followed by lis."
   ]
  },
  {
   "cell_type": "code",
   "execution_count": null,
   "id": "2ab0395a",
   "metadata": {
    "attributes": {
     "classes": [
      "sh"
     ],
     "id": ""
    }
   },
   "outputs": [],
   "source": [
    "pip list"
   ]
  },
  {
   "cell_type": "markdown",
   "id": "2cc82053",
   "metadata": {},
   "source": [
    "### Show package\n",
    "\n",
    "To show information about a package"
   ]
  },
  {
   "cell_type": "code",
   "execution_count": null,
   "id": "4af8d0c7",
   "metadata": {
    "attributes": {
     "classes": [
      "sh"
     ],
     "id": ""
    }
   },
   "outputs": [],
   "source": [
    "pip show packagename"
   ]
  },
  {
   "cell_type": "code",
   "execution_count": null,
   "id": "4b6f1fea",
   "metadata": {
    "attributes": {
     "classes": [
      "sh"
     ],
     "id": ""
    }
   },
   "outputs": [],
   "source": [
    "asabeneh@Asabeneh:~$ pip show pandas\n",
    "Name: pandas\n",
    "Version: 0.25.3\n",
    "Summary: Powerful data structures for data analysis, time series, and statistics\n",
    "Home-page: http://pandas.pydata.org\n",
    "Author: None\n",
    "Author-email: None\n",
    "License: BSD\n",
    "Location: /usr/local/lib/python3.7/site-packages\n",
    "Requires: python-dateutil, pytz, numpy\n",
    "Required-by:"
   ]
  },
  {
   "cell_type": "markdown",
   "id": "e08c89eb",
   "metadata": {},
   "source": [
    "If we want even more detail than the above, just add --verbose"
   ]
  },
  {
   "cell_type": "code",
   "execution_count": null,
   "id": "b1e0ab41",
   "metadata": {
    "attributes": {
     "classes": [
      "sh"
     ],
     "id": ""
    }
   },
   "outputs": [],
   "source": [
    "asabeneh@Asabeneh:~$ pip show --verbose pandas\n",
    "Name: pandas\n",
    "Version: 0.25.3\n",
    "Summary: Powerful data structures for data analysis, time series, and statistics\n",
    "Home-page: http://pandas.pydata.org\n",
    "Author: None\n",
    "Author-email: None\n",
    "License: BSD\n",
    "Location: /usr/local/lib/python3.7/site-packages\n",
    "Requires: numpy, pytz, python-dateutil\n",
    "Required-by:\n",
    "Metadata-Version: 2.1\n",
    "Installer: pip\n",
    "Classifiers:\n",
    "  Development Status :: 5 - Production/Stable\n",
    "  Environment :: Console\n",
    "  Operating System :: OS Independent\n",
    "  Intended Audience :: Science/Research\n",
    "  Programming Language :: Python\n",
    "  Programming Language :: Python :: 3\n",
    "  Programming Language :: Python :: 3.5\n",
    "  Programming Language :: Python :: 3.6\n",
    "  Programming Language :: Python :: 3.7\n",
    "  Programming Language :: Python :: 3.8\n",
    "  Programming Language :: Cython\n",
    "  Topic :: Scientific/Engineering\n",
    "Entry-points:\n",
    "  [pandas_plotting_backends]\n",
    "  matplotlib = pandas:plotting._matplotlib"
   ]
  },
  {
   "cell_type": "markdown",
   "id": "ec406919",
   "metadata": {},
   "source": [
    "### PIP freeze\n",
    "\n",
    "Generate output suitable for a requirements file."
   ]
  },
  {
   "cell_type": "code",
   "execution_count": null,
   "id": "bf819fc3",
   "metadata": {
    "attributes": {
     "classes": [
      "sh"
     ],
     "id": ""
    }
   },
   "outputs": [],
   "source": [
    "asabeneh@Asabeneh:~$ pip freeze\n",
    "docutils==0.11\n",
    "Jinja2==2.7.2\n",
    "MarkupSafe==0.19\n",
    "Pygments==1.6\n",
    "Sphinx==1.2.2"
   ]
  },
  {
   "cell_type": "markdown",
   "id": "46d2e0b3",
   "metadata": {},
   "source": [
    "The pip freeze gave us the packages use installed and their version. We use with requirements.txt file for deployment.\n",
    "\n",
    "### Reading from URL\n",
    "\n",
    "By now you are familiar with how to read or write on a file which is located in you local machine. Sometimes, we may like to read from a website using url or from an API.\n",
    "API stands for Application Program Interface. It is a means to exchange structure data between servers primarily a json data. To open network, we need a package called _requests_ which allows to open network and to implement CRUD(create, read, update and delete) operation. In this section, we will cover only reading part of a CRUD.\n",
    "\n",
    "Let's install _requests_"
   ]
  },
  {
   "cell_type": "code",
   "execution_count": null,
   "id": "11ac78ad",
   "metadata": {
    "attributes": {
     "classes": [
      "py"
     ],
     "id": ""
    }
   },
   "outputs": [],
   "source": [
    "asabeneh@Asabeneh:~$ pip install requests"
   ]
  },
  {
   "cell_type": "markdown",
   "id": "f3ff87ee",
   "metadata": {},
   "source": [
    "We will see _get_, _status_code_, _headers_, _text_ and _json_ methods from _requests_ module\n",
    "_ get(): to open a network and fetch data from url and it returns a response object\n",
    "_ status_code: After we fetched, we check the status(succes, error, etc)\n",
    "_ headers: To check the header types\n",
    "_ text: to extract the text from the fetched response object \\* json: to extract json data\n",
    "Let's read a txt file form this website, https://www.w3.org/TR/PNG/iso_8859-1.txt."
   ]
  },
  {
   "cell_type": "code",
   "execution_count": null,
   "id": "9ed7a0c4",
   "metadata": {
    "attributes": {
     "classes": [
      "py"
     ],
     "id": ""
    }
   },
   "outputs": [],
   "source": [
    "import requests # importing the request module\n",
    "\n",
    "url = 'https://www.w3.org/TR/PNG/iso_8859-1.txt' # text from a website\n",
    "\n",
    "response = requests.get(url) # opening a network and fetching a data\n",
    "print(response)\n",
    "print(response.status_code) # status code, success:200\n",
    "print(response.headers)     # headers information\n",
    "print(response.text) # gives all the text from the page"
   ]
  },
  {
   "cell_type": "code",
   "execution_count": null,
   "id": "4b8c9099",
   "metadata": {
    "attributes": {
     "classes": [
      "sh"
     ],
     "id": ""
    }
   },
   "outputs": [],
   "source": [
    "<Response [200]>\n",
    "200\n",
    "{'date': 'Sun, 08 Dec 2019 18:00:31 GMT', 'last-modified': 'Fri, 07 Nov 2003 05:51:11 GMT', 'etag': '\"17e9-3cb82080711c0;50c0b26855880-gzip\"', 'accept-ranges': 'bytes', 'cache-control': 'max-age=31536000', 'expires': 'Mon, 07 Dec 2020 18:00:31 GMT', 'vary': 'Accept-Encoding', 'content-encoding': 'gzip', 'access-control-allow-origin': '*', 'content-length': '1616', 'content-type': 'text/plain', 'strict-transport-security': 'max-age=15552000; includeSubdomains; preload', 'content-security-policy': 'upgrade-insecure-requests'}"
   ]
  },
  {
   "cell_type": "markdown",
   "id": "19b26c70",
   "metadata": {},
   "source": [
    "- Lets read from an api. API stands for Application Program Interface. It is a means to exchange structure data between servers primarily a json data. An example of api:https://restcountries.eu/rest/v2/all. Let's read this API using _requests_ module."
   ]
  },
  {
   "cell_type": "code",
   "execution_count": null,
   "id": "f6dbd12f",
   "metadata": {
    "attributes": {
     "classes": [
      "py"
     ],
     "id": ""
    }
   },
   "outputs": [],
   "source": [
    "import requests\n",
    "url = 'https://restcountries.eu/rest/v2/all'  # countries api\n",
    "response = requests.get(url)  # opening a network and fetching a data\n",
    "print(response) # response object\n",
    "print(response.status_code)  # status code, success:200\n",
    "countries = response.json()\n",
    "print(countries[:1])  # we sliced only the first country, remove the slicing to see all countries"
   ]
  },
  {
   "cell_type": "code",
   "execution_count": null,
   "id": "3889ef26",
   "metadata": {
    "attributes": {
     "classes": [
      "sh"
     ],
     "id": ""
    }
   },
   "outputs": [],
   "source": [
    "<Response [200]>\n",
    "200\n",
    "[{'alpha2Code': 'AF',\n",
    "  'alpha3Code': 'AFG',\n",
    "  'altSpellings': ['AF', 'Afġānistān'],\n",
    "  'area': 652230.0,\n",
    "  'borders': ['IRN', 'PAK', 'TKM', 'UZB', 'TJK', 'CHN'],\n",
    "  'callingCodes': ['93'],\n",
    "  'capital': 'Kabul',\n",
    "  'cioc': 'AFG',\n",
    "  'currencies': [{'code': 'AFN', 'name': 'Afghan afghani', 'symbol': '؋'}],\n",
    "  'demonym': 'Afghan',\n",
    "  'flag': 'https://restcountries.eu/data/afg.svg',\n",
    "  'gini': 27.8,\n",
    "  'languages': [{'iso639_1': 'ps',\n",
    "                 'iso639_2': 'pus',\n",
    "                 'name': 'Pashto',\n",
    "                 'nativeName': 'پښتو'},\n",
    "                {'iso639_1': 'uz',\n",
    "                 'iso639_2': 'uzb',\n",
    "                 'name': 'Uzbek',\n",
    "                 'nativeName': 'Oʻzbek'},\n",
    "                {'iso639_1': 'tk',\n",
    "                 'iso639_2': 'tuk',\n",
    "                 'name': 'Turkmen',\n",
    "                 'nativeName': 'Türkmen'}],\n",
    "  'latlng': [33.0, 65.0],\n",
    "  'name': 'Afghanistan',\n",
    "  'nativeName': 'افغانستان',\n",
    "  'numericCode': '004',\n",
    "  'population': 27657145,\n",
    "  'region': 'Asia',\n",
    "  'regionalBlocs': [{'acronym': 'SAARC',\n",
    "                     'name': 'South Asian Association for Regional Cooperation',\n",
    "                     'otherAcronyms': [],\n",
    "                     'otherNames': []}],\n",
    "  'subregion': 'Southern Asia',\n",
    "  'timezones': ['UTC+04:30'],\n",
    "  'topLevelDomain': ['.af'],\n",
    "  'translations': {'br': 'Afeganistão',\n",
    "                   'de': 'Afghanistan',\n",
    "                   'es': 'Afganistán',\n",
    "                   'fa': 'افغانستان',\n",
    "                   'fr': 'Afghanistan',\n",
    "                   'hr': 'Afganistan',\n",
    "                   'it': 'Afghanistan',\n",
    "                   'ja': 'アフガニスタン',\n",
    "                   'nl': 'Afghanistan',\n",
    "                   'pt': 'Afeganistão'}}]"
   ]
  },
  {
   "cell_type": "markdown",
   "id": "a22f913b",
   "metadata": {},
   "source": [
    "We use _json()_ method from response object, if the we are fetching JSON data. For txt, html, xml and other file formats we can use _text_.\n",
    "\n",
    "### Creating a package\n",
    "\n",
    "We organize a large number of files in different folders and subfolders based on some criteria, so that we can find and manage them easily. As you know, a module can contain multiple objects, such as classes, functions, etc. A package can contain one or more relevant modules.A package is actually a folder containing one or more module files. Let's create a package named mypackage, using the following steps:\n",
    "\n",
    "Create a new folder named mypacakge inside 30DaysOfPython folder\n",
    "Create an empty **init**.py file in the mypackage folder.\n",
    "Create modules arithmetic.py and greet.py with following code:"
   ]
  },
  {
   "cell_type": "code",
   "execution_count": null,
   "id": "ae870fd2",
   "metadata": {
    "attributes": {
     "classes": [
      "py"
     ],
     "id": ""
    }
   },
   "outputs": [],
   "source": [
    "# mypackage/arithmetics.py\n",
    "# arithmetics.py\n",
    "def add_numbers(*args):\n",
    "    total = 0\n",
    "    for num in args:\n",
    "        total += num\n",
    "    return total\n",
    "\n",
    "\n",
    "def subtract(a, b):\n",
    "    return (a - b)\n",
    "\n",
    "\n",
    "def multiple(a, b):\n",
    "    return a * b\n",
    "\n",
    "\n",
    "def division(a, b):\n",
    "    return a / b\n",
    "\n",
    "\n",
    "def remainder(a, b):\n",
    "    return a % b\n",
    "\n",
    "\n",
    "def power(a, b):\n",
    "    return a ** b"
   ]
  },
  {
   "cell_type": "code",
   "execution_count": null,
   "id": "a5020f26",
   "metadata": {
    "attributes": {
     "classes": [
      "py"
     ],
     "id": ""
    }
   },
   "outputs": [],
   "source": [
    "# mypackage/greet.py\n",
    "# greet.py\n",
    "def greet_person(firstname, lastname):\n",
    "    return f'{firstname} {lastname}, welcome to 30DaysOfPython Challenge!'"
   ]
  },
  {
   "cell_type": "markdown",
   "id": "8ce09377",
   "metadata": {},
   "source": [
    "The folder structure of your package should look like this:"
   ]
  },
  {
   "cell_type": "code",
   "execution_count": null,
   "id": "bbdd5dc2",
   "metadata": {
    "attributes": {
     "classes": [
      "sh"
     ],
     "id": ""
    }
   },
   "outputs": [],
   "source": [
    "─ mypackage\n",
    "    ├── __init__.py\n",
    "    ├── arithmetic.py\n",
    "    └── greet.py"
   ]
  },
  {
   "cell_type": "markdown",
   "id": "86b598c1",
   "metadata": {},
   "source": [
    "Now let's open the python interactive shell and try the package we have created:"
   ]
  },
  {
   "cell_type": "code",
   "execution_count": null,
   "id": "06bc1c61",
   "metadata": {
    "attributes": {
     "classes": [
      "sh"
     ],
     "id": ""
    }
   },
   "outputs": [],
   "source": [
    "asabeneh@Asabeneh:~/Desktop/30DaysOfPython$ python\n",
    "Python 3.7.5 (default, Nov  1 2019, 02:16:32) \n",
    "[Clang 11.0.0 (clang-1100.0.33.8)] on darwin\n",
    "Type \"help\", \"copyright\", \"credits\" or \"license\" for more information.\n",
    ">>> from mypackage import arithmetics\n",
    ">>> arithmetics.add_numbers(1,2,3,5)\n",
    "11\n",
    ">>> arithmetics.subtract(5, 3)\n",
    "2\n",
    ">>> arithmetics.multiple(5, 3)\n",
    "15\n",
    ">>> arithmetics.division(5, 3)\n",
    "1.6666666666666667\n",
    ">>> arithmetics.remainder(5, 3)\n",
    "2\n",
    ">>> arithmetics.power(5, 3)\n",
    "125\n",
    ">>> from mypackage import greet\n",
    ">>> greet.greet_person('Asabeneh', 'Yetayeh')\n",
    "'Oludayo adeoye, welcome to 30DaysOfPython Challenge!'\n",
    ">>> "
   ]
  },
  {
   "cell_type": "markdown",
   "id": "5a3f791e",
   "metadata": {},
   "source": [
    "As you can see our package works perfect. The package folder contains a special file called __init__.py which stores the package's content. If we put  __init__.py in the package folder, python start recognizes it as a package.\n",
    "The __init__.py exposes specified resources from its modules to be imported to other python files. An empty __init__.py file makes all functions available when a package is imported. The __init__.py is essential for the folder to be recognized by Python as a package. \n",
    "\n",
    "### Further information about packages\n",
    "\n",
    "- Database\n",
    "  - SQLAlchemy or SQLObject - Object oriented access to several different database systems\n",
    "    - _pip install SQLAlchemy_\n",
    "- Web Development\n",
    "  - Django - High-level web framework.\n",
    "    - _pip install django_\n",
    "  - Flask - microframework for Python based on Werkzeug, Jinja 2. (It's BSD licensed)\n",
    "    - _pip install flask_\n",
    "- HTML Parser\n",
    "\n",
    "  - [Beautiful Soup](https://www.crummy.com/software/BeautifulSoup/bs4/doc/) - HTML/XML parser designed for quick turnaround projects like screen-scraping, will accept bad markup.\n",
    "    - _pip install beautifulsoup4_\n",
    "  - PyQuery - implements jQuery in Python; faster than BeautifulSoup, apparently.\n",
    "\n",
    "- XML Processing\n",
    "  - ElementTree - The Element type is a simple but flexible container object, designed to store hierarchical data structures, such as simplified XML infosets, in memory. --Note: Python 2.5 and up has ElementTree in the Standard Library\n",
    "- GUI\n",
    "  - PyQt - Bindings for the cross-platform Qt framework.\n",
    "  - TkInter - The traditional Python user interface toolkit.\n",
    "- Data Analysis, Data Science and Machine learning\n",
    "  - Numpy: Numpy(numeric python) is known as one of the most popular machine learning library in Python.\n",
    "  - Pandas: is a machine learning library in Python that provides data structures of high-level and a wide variety of tools for analysis.\n",
    "  - SciPy: SciPy is a machine learning library for application developers and engineers. SciPy library contains modules for optimization, linear algebra, integration, image processing, and statistics.\n",
    "  - Scikit-Learn: It is NumPy and SciPy. It is considered as one of the best libraries for working with complex data.\n",
    "  - TensorFlow: is a machine learning library built by Google.\n",
    "  - Keras: is considered as one of the coolest machine learning libraries in Python. It provides an easier mechanism to express neural networks. Keras also provides some of the best utilities for compiling models, processing data-sets, visualization of graphs, and much more.\n",
    "- Network:\n",
    "  - requests: is a package which we can use to send requests to a server(GET, POST, DELETE, PUT)\n",
    "    - _pip install requests_\n",
    "\n",
    "## Exercises: Day 20\n",
    "\n",
    "1. Read this url and find out the 10 most frequent words.romeo_and_juliet = 'http://www.gutenberg.org/files/1112/1112.txt'\n",
    "1. Read the cats api and cats_api = 'https://api.thecatapi.com/v1/breeds' and find the avarage weight of cat in metric unit.\n",
    "1. Read the countries api and find out the 10 largest countries\n",
    "1. UCI is one the most common place for get data set for data science and machine learning. Read the content of UCL(http://mlr.cs.umass.edu/ml/datasets.html). Without library it will be difficult, you may try it with BeautifulSoup4\n",
    "\n",
    "# 📘 Day 21\n",
    "\n",
    "## Classes and Objects\n",
    "\n",
    "Python is an object oriented programming language. Everything in Python is an object, with its properties and methods. A number, string, list, dictionary,tuple, set etc. used in a program is an object of a corresponding built-in class. We create class to create an object. A Class is like an object constructor, or a \"blueprint\" for creating objects. We instantiate a class to create an object. The class defines attributes and the behavior of the object, while the object, on the other hand, represents the class.\n",
    "\n",
    "We have been working with classes and objects right from the beginning of these challenge unknowingly. Every element in a Python program is an object of a class.\n",
    "Let's check if everything in python is class:"
   ]
  },
  {
   "cell_type": "code",
   "execution_count": null,
   "id": "7a88dd49",
   "metadata": {
    "attributes": {
     "classes": [
      "py"
     ],
     "id": ""
    }
   },
   "outputs": [],
   "source": [
    "Last login: Tue Dec 10 09:35:28 on console\n",
    "asabeneh@Asabeneh:~$ pyhton\n",
    "-bash: pyhton: command not found\n",
    "asabeneh@Asabeneh:~$ python\n",
    "Python 3.7.5 (default, Nov  1 2019, 02:16:32)\n",
    "[Clang 11.0.0 (clang-1100.0.33.8)] on darwin\n",
    "Type \"help\", \"copyright\", \"credits\" or \"license\" for more information.\n",
    ">>> num = 10\n",
    ">>> type(num)\n",
    "<class 'int'>\n",
    ">>> string = 'string'\n",
    ">>> type(string)\n",
    "<class 'str'>\n",
    ">>> boolean = True\n",
    ">>> type(boolean)\n",
    "<class 'bool'>\n",
    ">>> lst = []\n",
    ">>> type(lst)\n",
    "<class 'list'>\n",
    ">>> tpl = ()\n",
    ">>> type(tpl)\n",
    "<class 'tuple'>\n",
    ">>> set1 = set()\n",
    ">>> type(set1)\n",
    "<class 'set'>\n",
    ">>> dct = {}\n",
    ">>> type(dct)\n",
    "<class 'dict'>"
   ]
  },
  {
   "cell_type": "markdown",
   "id": "3b0106a4",
   "metadata": {},
   "source": [
    "### Creating a Class\n",
    "\n",
    "To create a class we need the key word **class** followed by colon. Class name should be **CamelCase**."
   ]
  },
  {
   "cell_type": "code",
   "execution_count": null,
   "id": "787d98d0",
   "metadata": {
    "attributes": {
     "classes": [
      "sh"
     ],
     "id": ""
    }
   },
   "outputs": [],
   "source": [
    "# syntax\n",
    "class ClassName:\n",
    "  code goes here"
   ]
  },
  {
   "cell_type": "markdown",
   "id": "8ee4a01c",
   "metadata": {},
   "source": [
    "**Example:**"
   ]
  },
  {
   "cell_type": "code",
   "execution_count": null,
   "id": "a7ef6301",
   "metadata": {
    "attributes": {
     "classes": [
      "py"
     ],
     "id": ""
    }
   },
   "outputs": [],
   "source": [
    "class Person:\n",
    "  pass"
   ]
  },
  {
   "cell_type": "code",
   "execution_count": null,
   "id": "2075d593",
   "metadata": {
    "attributes": {
     "classes": [
      "sh"
     ],
     "id": ""
    }
   },
   "outputs": [],
   "source": [
    "<__main__.Person object at 0x10804e510>"
   ]
  },
  {
   "cell_type": "markdown",
   "id": "9ddd46d4",
   "metadata": {},
   "source": [
    "### Creating an Object\n",
    "\n",
    "We can create an object by calling the class."
   ]
  },
  {
   "cell_type": "code",
   "execution_count": null,
   "id": "66a95003",
   "metadata": {
    "attributes": {
     "classes": [
      "py"
     ],
     "id": ""
    }
   },
   "outputs": [],
   "source": [
    "p = Person()\n",
    "print(p)"
   ]
  },
  {
   "cell_type": "markdown",
   "id": "575cdbcf",
   "metadata": {},
   "source": [
    "### Class Constructor\n",
    "\n",
    "In the above examples, we have created an object from the Person class. However, Class without a constructor is not really useful in real applications. Let's use constructor function to make our class more useful. Like the constructor function in Java or JavaScript, python has also a builtin _**init**()_ constructor function. The _**init**_ constructor function has self parameter which is a reference to the current instance of the class\n",
    "**Examples:**"
   ]
  },
  {
   "cell_type": "code",
   "execution_count": null,
   "id": "b554be09",
   "metadata": {
    "attributes": {
     "classes": [
      "py"
     ],
     "id": ""
    }
   },
   "outputs": [],
   "source": [
    "class Person:\n",
    "      def __init__ (self, name):\n",
    "          self.name =name\n",
    "\n",
    "p = Person('Asabeneh')\n",
    "print(p.name)\n",
    "print(p)"
   ]
  },
  {
   "cell_type": "code",
   "execution_count": null,
   "id": "26b4c742",
   "metadata": {
    "attributes": {
     "classes": [
      "sh"
     ],
     "id": ""
    }
   },
   "outputs": [],
   "source": [
    "# output\n",
    "Asabeneh"
   ]
  },
  {
   "cell_type": "markdown",
   "id": "02f844ec",
   "metadata": {},
   "source": [
    "Let's add more parameter to the constructor function."
   ]
  },
  {
   "cell_type": "code",
   "execution_count": null,
   "id": "5361b9c6",
   "metadata": {
    "attributes": {
     "classes": [
      "py"
     ],
     "id": ""
    }
   },
   "outputs": [],
   "source": [
    "class Person:\n",
    "      def __init__(self, firstname, lastname, age, country, city):\n",
    "          self.firstname = firstname\n",
    "          self.lastname = lastname\n",
    "          self.age = age\n",
    "          self.country = country\n",
    "          self.city = city\n",
    "\n",
    "\n",
    "p = Person('Asabeneh', 'Yetayeh', 250, 'Finland', 'Helsinki')\n",
    "print(p.firstname)\n",
    "print(p.lastname)\n",
    "print(p.age)\n",
    "print(p.country)\n",
    "print(p.city)"
   ]
  },
  {
   "cell_type": "code",
   "execution_count": null,
   "id": "8ffee09e",
   "metadata": {
    "attributes": {
     "classes": [
      "sh"
     ],
     "id": ""
    }
   },
   "outputs": [],
   "source": [
    "# output\n",
    "Asabeneh\n",
    "Yetayeh\n",
    "250\n",
    "Finland\n",
    "Helsinki"
   ]
  },
  {
   "cell_type": "markdown",
   "id": "2ca71ea7",
   "metadata": {},
   "source": [
    "### Object Methods\n",
    "\n",
    "Objects can have methods. The methods are functions which are belongs to the object.\n",
    "**Example:**"
   ]
  },
  {
   "cell_type": "code",
   "execution_count": null,
   "id": "4e7d98aa",
   "metadata": {
    "attributes": {
     "classes": [
      "py"
     ],
     "id": ""
    }
   },
   "outputs": [],
   "source": [
    "class Person:\n",
    "      def __init__(self, firstname, lastname, age, country, city):\n",
    "          self.firstname = firstname\n",
    "          self.lastname = lastname\n",
    "          self.age = age\n",
    "          self.country = country\n",
    "          self.city = city\n",
    "\n",
    "      def person_info(self):\n",
    "        return f'{self.firstname} {self.lastname} is {self.age} year old. He lives in {self.city}, {self.country}'\n",
    "\n",
    "\n",
    "p = Person('Asabeneh', 'Yetayeh', 250, 'Finland', 'Helsinki')\n",
    "print(p.person_info())"
   ]
  },
  {
   "cell_type": "code",
   "execution_count": null,
   "id": "68e467c4",
   "metadata": {
    "attributes": {
     "classes": [
      "sh"
     ],
     "id": ""
    }
   },
   "outputs": [],
   "source": [
    "# output\n",
    "Oludayo adeoye is 250 year old. He lives in Helsinki, Finland"
   ]
  },
  {
   "cell_type": "markdown",
   "id": "75fae3f2",
   "metadata": {},
   "source": [
    "### Object default methods\n",
    "\n",
    "Sometimes, you may want to have a default values for you object methods. If we give a default values for the parameters in the constructor, we can avoid error when we call or instantiate our class without parameters. Let's see how it looks using example.\n",
    "\n",
    "**Example:**"
   ]
  },
  {
   "cell_type": "code",
   "execution_count": null,
   "id": "e203a0cb",
   "metadata": {
    "attributes": {
     "classes": [
      "py"
     ],
     "id": ""
    }
   },
   "outputs": [],
   "source": [
    "class Person:\n",
    "      def __init__(self, firstname='Asabeneh', lastname='Yetayeh', age=250, country='Finland', city='Helsinki'):\n",
    "          self.firstname = firstname\n",
    "          self.lastname = lastname\n",
    "          self.age = age\n",
    "          self.country = country\n",
    "          self.city = city\n",
    "\n",
    "      def person_info(self):\n",
    "        return f'{self.firstname} {self.lastname} is {self.age} year old. He lives in {self.city}, {self.country}.'\n",
    "\n",
    "p1 = Person()\n",
    "print(p1.person_info())\n",
    "p2 = Person('John', 'Doe', 30, 'Nomanland', 'Noman city')\n",
    "print(p2.person_info())"
   ]
  },
  {
   "cell_type": "code",
   "execution_count": null,
   "id": "ce7c11cc",
   "metadata": {
    "attributes": {
     "classes": [
      "sh"
     ],
     "id": ""
    }
   },
   "outputs": [],
   "source": [
    "# output\n",
    "Oludayo adeoye is 250 year old. He lives in Helsinki, Finland.\n",
    "John Doe is 30 year old. He lives in Noman city, Nomanland."
   ]
  },
  {
   "cell_type": "markdown",
   "id": "5bff220a",
   "metadata": {},
   "source": [
    "### Method to modify class default values\n",
    "\n",
    "In the example below, the person class, all the constructor parameters have default values and in addition to that we have a skills default value which we can access it using method. Let's create add_skill method to add skill to the skills list."
   ]
  },
  {
   "cell_type": "code",
   "execution_count": null,
   "id": "11db9599",
   "metadata": {
    "attributes": {
     "classes": [
      "py"
     ],
     "id": ""
    }
   },
   "outputs": [],
   "source": [
    "class Person:\n",
    "      def __init__(self, firstname='Asabeneh', lastname='Yetayeh', age=250, country='Finland', city='Helsinki'):\n",
    "          self.firstname = firstname\n",
    "          self.lastname = lastname\n",
    "          self.age = age\n",
    "          self.country = country\n",
    "          self.city = city\n",
    "          self.skills = []\n",
    "\n",
    "      def person_info(self):\n",
    "        return f'{self.firstname} {self.lastname} is {self.age} year old. He lives in {self.city}, {self.country}.'\n",
    "      def add_skill(self, skill):\n",
    "          self.skills.append(skill)\n",
    "\n",
    "p1 = Person()\n",
    "print(p1.person_info())\n",
    "p1.add_skill('HTML')\n",
    "p1.add_skill('CSS')\n",
    "p1.add_skill('JavaScript')\n",
    "p2 = Person('John', 'Doe', 30, 'Nomanland', 'Noman city')\n",
    "print(p2.person_info())\n",
    "print(p1.skills)\n",
    "print(p2.skills)"
   ]
  },
  {
   "cell_type": "code",
   "execution_count": null,
   "id": "8deabeb8",
   "metadata": {
    "attributes": {
     "classes": [
      "sh"
     ],
     "id": ""
    }
   },
   "outputs": [],
   "source": [
    "# output\n",
    "Oludayo adeoye is 250 year old. He lives in Helsinki, Finland.\n",
    "John Doe is 30 year old. He lives in Noman city, Nomanland.\n",
    "['HTML', 'CSS', 'JavaScript']\n",
    "[]"
   ]
  },
  {
   "cell_type": "markdown",
   "id": "62e6be32",
   "metadata": {},
   "source": [
    "### Inheritance\n",
    "\n",
    "Using inheritance we can reuse parent class code. Inheritance allows us to define a class that inherits all the methods and properties from another class. The parent class or super or base class is the class which gives all the methods and properties. Child class is the class the inherits from another class.\n",
    "Let's see create a student class by inheriting from person class."
   ]
  },
  {
   "cell_type": "code",
   "execution_count": null,
   "id": "e1b49c44",
   "metadata": {
    "attributes": {
     "classes": [
      "py"
     ],
     "id": ""
    }
   },
   "outputs": [],
   "source": [
    "class Student(Person):\n",
    "    pass\n",
    "\n",
    "\n",
    "s1 = Student('Eyob', 'Yetayeh', 30, 'Finland', 'Helsinki')\n",
    "s2 = Student('Lidiya', 'Teklemariam', 28, 'Finland', 'Espoo')\n",
    "print(s1.person_info())\n",
    "s1.add_skill('JavaScript')\n",
    "s1.add_skill('React')\n",
    "s1.add_skill('Python')\n",
    "print(s1.skills)\n",
    "\n",
    "print(s2.person_info())\n",
    "s2.add_skill('Organizing')\n",
    "s2.add_skill('Marketing')\n",
    "s2.add_skill('Digital Marketing')\n",
    "print(s2.skills)\n"
   ]
  },
  {
   "cell_type": "code",
   "execution_count": null,
   "id": "097ba199",
   "metadata": {
    "attributes": {
     "classes": [
      "sh"
     ],
     "id": ""
    }
   },
   "outputs": [],
   "source": [
    "output\n",
    "Eyob Yetayeh is 30 year old. He lives in Helsinki, Finland.\n",
    "['JavaScript', 'React', 'Python']\n",
    "Lidiya Teklemariam is 28 year old. He lives in Espoo, Finland.\n",
    "['Organizing', 'Marketing', 'Digital Marketing']"
   ]
  },
  {
   "cell_type": "markdown",
   "id": "7727aeed",
   "metadata": {},
   "source": [
    "We didn't call the _**init**()_ constructor in the child class. If we didn't call it we can access all the properties but if we call it once we access the parent properties by calling _super_.  \n",
    "We can write add a new method to the child or we can overwrite the parent class by creating the same method name in the child class. When we add the **init**() function, the child class will no longer inherit the parent's **init**() function.\n",
    "\n",
    "### Overriding parent method"
   ]
  },
  {
   "cell_type": "code",
   "execution_count": null,
   "id": "0c0b3af5",
   "metadata": {
    "attributes": {
     "classes": [
      "py"
     ],
     "id": ""
    }
   },
   "outputs": [],
   "source": [
    "class Student(Person):\n",
    "    def __init__ (self, firstname='Asabeneh', lastname='Yetayeh',age=250, country='Finland', city='Helsinki', gender='male'):\n",
    "        self.gender = gender\n",
    "        super().__init__(firstname, lastname,age, country, city)\n",
    "    def person_info(self):\n",
    "        gender = 'He' if self.gender =='male' else 'She'\n",
    "        return f'{self.firstname} {self.lastname} is {self.age} year old. {gender} lives in {self.city}, {self.country}.'\n",
    "\n",
    "s1 = Student('Eyob', 'Yetayeh', 30, 'Finland', 'Helsinki','male')\n",
    "s2 = Student('Lidiya', 'Teklemariam', 28, 'Finland', 'Espoo', 'female')\n",
    "print(s1.person_info())\n",
    "s1.add_skill('JavaScript')\n",
    "s1.add_skill('React')\n",
    "s1.add_skill('Python')\n",
    "print(s1.skills)\n",
    "\n",
    "print(s2.person_info())\n",
    "s2.add_skill('Organizing')\n",
    "s2.add_skill('Marketing')\n",
    "s2.add_skill('Digital Marketing')\n",
    "print(s2.skills)"
   ]
  },
  {
   "cell_type": "code",
   "execution_count": null,
   "id": "2957fbb5",
   "metadata": {
    "attributes": {
     "classes": [
      "sh"
     ],
     "id": ""
    }
   },
   "outputs": [],
   "source": [
    "Eyob Yetayeh is 30 year old. He lives in Helsinki, Finland.\n",
    "['JavaScript', 'React', 'Python']\n",
    "Lidiya Teklemariam is 28 year old. She lives in Espoo, Finland.\n",
    "['Organizing', 'Marketing', 'Digital Marketing']"
   ]
  },
  {
   "cell_type": "markdown",
   "id": "f7724b0c",
   "metadata": {},
   "source": [
    "We can use super() function or the parent name Person to automatically inherit the methods and properties from its parent. In the above example, we override the parant method. The child method has a different feature, it can identify if the gender is male or female and assign the proper pronoun(He/She).\n",
    "\n",
    "## 💻 Exercises: Day 21\n",
    "\n",
    "1. Python has the module called _statistics_ and we can use this module to do all the statistical caluculations. Hower to challlenge ourselves, let's try to develop a program which calculate measure of central tendency of a sample(mean, median, mode) and measure of variability(range, variance, standard deviation). In addition to those measures find the min, max, count, percentile, and frequency distribution of the sample. You can create a class called Statistics and create all the functions which do statistical calculations as method for the Statistics class. Check the output below."
   ]
  },
  {
   "cell_type": "code",
   "execution_count": null,
   "id": "59459de7",
   "metadata": {
    "attributes": {
     "classes": [
      "py"
     ],
     "id": ""
    }
   },
   "outputs": [],
   "source": [
    "ages = [31, 26, 34, 37, 27, 26, 32, 32, 26, 27, 27, 24, 32, 33, 27, 25, 26, 38, 37, 31, 34, 24, 33, 29, 26]\n",
    "\n",
    "print('Count:', data.count()) # 25\n",
    "print('Sum: ', data.sum()) # 744\n",
    "print('Min: ', data.min()) # 24\n",
    "print('Max: ', data.max()) # 38\n",
    "print('Range: ', data.range() # 14\n",
    "print('Mean: ', data.mean()) # 30\n",
    "print('Median: ',data.median()) # 29\n",
    "print('Mode: ', data.mode()) # {'mode': 26, 'count': 5}\n",
    "print('Variance: ',data.var()) # 17.5\n",
    "print('Standard Deviation: ', data.std()) # 4.2\n",
    "print('Variance: ',data.var()) # 17.5\n",
    "print('Frequency Distribution: ',data.freq_dist()) # [(20.0, 26), (16.0, 27), (12.0, 32), (8.0, 37), (8.0, 34), (8.0, 33), (8.0, 31), (8.0, 24), (4.0, 38), (4.0, 29), (4.0, 25)]"
   ]
  },
  {
   "cell_type": "code",
   "execution_count": null,
   "id": "da275a24",
   "metadata": {
    "attributes": {
     "classes": [
      "sh"
     ],
     "id": ""
    }
   },
   "outputs": [],
   "source": [
    "# you output should look like this\n",
    "print(data.describe())\n",
    "Count: 25\n",
    "Sum:  744\n",
    "Min:  24\n",
    "Max:  38\n",
    "Range:  14\n",
    "Mean:  30\n",
    "Median:  29\n",
    "Mode:  (26, 5)\n",
    "Variance:  17.5\n",
    "Standard Deviation:  4.2\n",
    "Frequency Distribution: [(20.0, 26), (16.0, 27), (12.0, 32), (8.0, 37), (8.0, 34), (8.0, 33), (8.0, 31), (8.0, 24), (4.0, 38), (4.0, 29), (4.0, 25)]"
   ]
  },
  {
   "cell_type": "markdown",
   "id": "0698b915",
   "metadata": {},
   "source": [
    "1. Create a class called PersonAccount. It has firstname, lastname, incomes, expenses properties and it has total_income, total_expense, account_info,add_income, add_expense and account_balance methods. Incomes is a set of incomes and its description and the same goes for expenses.\n",
    "   \n",
    "[<< Part 6 ](https://github.com/Asabeneh/30-Days-Of-Python/blob/master/readme16-18.md) | [Part 8 >>](https://github.com/Asabeneh/30-Days-Of-Python/blob/master/readme22-24.md)\n",
    "\n",
    "---"
   ]
  }
 ],
 "metadata": {},
 "nbformat": 4,
 "nbformat_minor": 5
}
