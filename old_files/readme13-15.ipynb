{
 "cells": [
  {
   "cell_type": "markdown",
   "id": "c39326be",
   "metadata": {},
   "source": [
    "![30DaysOfPython](./images/30DaysOfPython_banner3@2x.png)\n",
    "\n",
    "🧳 [Part 1: Day 1 - 3](https://github.com/Asabeneh/30-Days-Of-Python)  \n",
    "🧳 [Part 2: Day 4 - 6](https://github.com/Asabeneh/30-Days-Of-Python/blob/master/readme4-6.md)  \n",
    "🧳 [Part 3: Day 7 - 9](https://github.com/Asabeneh/30-Days-Of-Python/blob/master/readme7-9.md)  \n",
    "🧳 [Part 4: Day 10 - 12](https://github.com/Asabeneh/30-Days-Of-Python/blob/master/readme10-12.md)  \n",
    "🧳 [Part 5: Day 13 - 15](https://github.com/Asabeneh/30-Days-Of-Python/blob/master/readme13-15.md)  \n",
    "🧳 [Part 6: Day 16 - 18](https://github.com/Asabeneh/30-Days-Of-Python/blob/master/readme16-18.md)  \n",
    "🧳 [Part 7: Day 19 - 21](https://github.com/Asabeneh/30-Days-Of-Python/blob/master/readme19-21.md)  \n",
    "🧳 [Part 8: Day 22 - 24](https://github.com/Asabeneh/30-Days-Of-Python/blob/master/readme22-24.md)  \n",
    "🧳 [Part 9: Day 25 - 27](https://github.com/Asabeneh/30-Days-Of-Python/blob/master/readme25-27.md)  \n",
    "🧳 [Part 10: Day 28 - 30](https://github.com/Asabeneh/30-Days-Of-Python/blob/master/readme28-30.md)  \n",
    "\n",
    "---\n",
    "\n",
    "- [📘 Day 13](#%f0%9f%93%98-day-13)\n",
    "  - [List Comprehension](#list-comprehension)\n",
    "  - [Lambda Function](#lambda-function)\n",
    "    - [Creating a lambda function](#creating-a-lambda-function)\n",
    "    - [Lambda function inside other function](#lambda-function-inside-other-function)\n",
    "  - [💻 Exercises: Day 13](#%f0%9f%92%bb-exercises-day-13)\n",
    "- [📘 Day 14](#%f0%9f%93%98-day-14)\n",
    "  - [Higher Order Functions](#higher-order-functions)\n",
    "    - [Function as a parameter](#function-as-a-parameter)\n",
    "    - [Function as a return value](#function-as-a-return-value)\n",
    "  - [Python closures](#python-closures)\n",
    "  - [Python decorators](#python-decorators)\n",
    "    - [Creating Decorators](#creating-decorators)\n",
    "    - [Applying Multiple Decorators to a Single Function](#applying-multiple-decorators-to-a-single-function)\n",
    "    - [Accepting parameters in Decorator Functions](#accepting-parameters-in-decorator-functions)\n",
    "  - [Built-in Higher Order Functions](#built-in-higher-order-functions)\n",
    "    - [Python - Map Function](#python---map-function)\n",
    "    - [Python - Filter Function](#python---filter-function)\n",
    "    - [Python - Reduce Function](#python---reduce-function)\n",
    "  - [💻 Exercises: Day 14](#%f0%9f%92%bb-exercises-day-14)\n",
    "- [📘 Day 15](#%f0%9f%93%98-day-15)\n",
    "  - [Python Error Types](#python-error-types)\n",
    "    - [SyntaxError](#syntaxerror)\n",
    "    - [NameError](#nameerror)\n",
    "    - [IndexError](#indexerror)\n",
    "    - [ModuleNotFoundError](#modulenotfounderror)\n",
    "    - [AttributeError](#attributeerror)\n",
    "    - [KeyError](#keyerror)\n",
    "    - [TypeError](#typeerror)\n",
    "    - [ImportError](#importerror)\n",
    "    - [ValueError](#valueerror)\n",
    "    - [ZeroDivisionError](#zerodivisionerror)\n",
    "  - [💻 Exercises: Day 15](#%f0%9f%92%bb-exercises-day-15)\n",
    "GIVE FEEDBACK: http://thirtydayofpython-api.herokuapp.com/feedback\n",
    "# 📘 Day 13\n",
    "\n",
    "## List Comprehension\n",
    "\n",
    "List comprehension in Python is a compact way of creating a list from a sequence. It is a short way to create a new list. List comprehension is considerably faster than processing a list using the for loop."
   ]
  },
  {
   "cell_type": "code",
   "execution_count": null,
   "id": "3c4b3eb1",
   "metadata": {
    "attributes": {
     "classes": [
      "py"
     ],
     "id": ""
    }
   },
   "outputs": [],
   "source": [
    "# syntax\n",
    "[i for i in iterable if expression]"
   ]
  },
  {
   "cell_type": "markdown",
   "id": "0bea3126",
   "metadata": {},
   "source": [
    "**Example:1**\n",
    "\n",
    "For instance if you want to change a string to a list of characters. You can use a couple methods. Let's see some of them"
   ]
  },
  {
   "cell_type": "code",
   "execution_count": null,
   "id": "3f96557a",
   "metadata": {
    "attributes": {
     "classes": [
      "py"
     ],
     "id": ""
    }
   },
   "outputs": [],
   "source": [
    "# One way\n",
    "language = 'Python'\n",
    "lst = list(language) # changing the string to list\n",
    "print(type(lst))     # list\n",
    "print(lst)           # ['P', 'y', 't', 'h', 'o', 'n']\n",
    "\n",
    "# Second way: list comprehension\n",
    "lst = [i for i in language]\n",
    "print(type(lst)) # list\n",
    "print(lst)       # ['P', 'y', 't', 'h', 'o', 'n']\n"
   ]
  },
  {
   "cell_type": "markdown",
   "id": "f4ffafdc",
   "metadata": {},
   "source": [
    "**Example:2**\n",
    "\n",
    "For instance if you want to generate a list of numbers"
   ]
  },
  {
   "cell_type": "code",
   "execution_count": null,
   "id": "9f7c3c05",
   "metadata": {
    "attributes": {
     "classes": [
      "py"
     ],
     "id": ""
    }
   },
   "outputs": [],
   "source": [
    "# Generating numbers\n",
    "numbers = [i for i in range(11)]  # to generate number from 0 to 10\n",
    "print(numbers)                    # [0, 1, 2, 3, 4, 5, 6, 7, 8, 9, 10]\n",
    "\n",
    "# It is possible to do mathematical operation during iteration\n",
    "squares = [i * i for i in range(11)]\n",
    "print(squares)                    # [0, 1, 4, 9, 16, 25, 36, 49, 64, 81, 100]\n",
    "\n",
    "# It is possible to do mathematical operation during iteration\n",
    "numbers = [(i, i * i) for i in range(11)]\n",
    "print(numbers)                             # [(0, 0), (1, 1), (2, 4), (3, 9), (4, 16), (5, 25)]\n"
   ]
  },
  {
   "cell_type": "markdown",
   "id": "3f9fe969",
   "metadata": {},
   "source": [
    "**Example:2**\n",
    "List compression can be combined with if expression"
   ]
  },
  {
   "cell_type": "code",
   "execution_count": null,
   "id": "c636a3b3",
   "metadata": {
    "attributes": {
     "classes": [
      "py"
     ],
     "id": ""
    }
   },
   "outputs": [],
   "source": [
    "# Generating even numbers\n",
    "even_numbers = [i for i in range(21) if i % 2 == 0]  # to generate even number between 0 to 21\n",
    "print(even_numbers)                    # [0, 2, 4, 6, 8, 10, 12, 14, 16, 18, 20]\n",
    "\n",
    "# Generating odd numbers\n",
    "odd_numbers = [i for i in range(21) if i % 2 != 0]  # to generate odd number between 0 to 21\n",
    "print(odd_numbers)                      # [1, 3, 5, 7, 9, 11, 13, 15, 17, 19]\n",
    "# Filter numbers: let's filter positive and even numbers from the list below\n",
    "numbers = [-8, -7, -3, -1, 0, 1, 3, 4, 5, 7, 6, 8, 10]\n",
    "positive_event_numbers = [i for i in range(21) if i % 2 == 0 and i > )]\n",
    "print(positive_event_numbers)                    # [2, 4, 6, 8, 10, 12, 14, 16, 18, 20]\n",
    "\n",
    "# Flattening two dimensional array\n",
    "two_dimen_list = [[1, 2, 3], [4, 5, 6], [7, 8, 9]]\n",
    "flattened_list = [ number for row in two_dimen_list for number in row]\n",
    "print(flattened_list)    # [1, 2, 3, 4, 5, 6, 7, 8, 9]"
   ]
  },
  {
   "cell_type": "markdown",
   "id": "57d651bf",
   "metadata": {},
   "source": [
    "## Lambda Function\n",
    "\n",
    "Lambda function is a small anonymous function without name.A lambda function can take any number of arguments, but can only have one expression. Lambda function is similar to anonymous function in JavaScript. We need lambda function when we want to write an anonymous function inside another function.\n",
    "\n",
    "### Creating a lambda function\n",
    "\n",
    "To create a lambda function we use _lambda_ keyword followed by parameter, followed by expression. See the syntax and the example below. Lambda function do not use return but it explicitly return the expression."
   ]
  },
  {
   "cell_type": "code",
   "execution_count": null,
   "id": "57993016",
   "metadata": {
    "attributes": {
     "classes": [
      "py"
     ],
     "id": ""
    }
   },
   "outputs": [],
   "source": [
    "# syntax\n",
    "x = lambda param1, param2, param3: param1 + param2 + param2\n",
    "print(x(arg1, arg2, arg3))"
   ]
  },
  {
   "cell_type": "markdown",
   "id": "81fbf8a1",
   "metadata": {},
   "source": [
    "**Example:**"
   ]
  },
  {
   "cell_type": "code",
   "execution_count": null,
   "id": "e647a968",
   "metadata": {
    "attributes": {
     "classes": [
      "py"
     ],
     "id": ""
    }
   },
   "outputs": [],
   "source": [
    "# Named function\n",
    "def add_two_nums(a, b):\n",
    "    return a + b\n",
    "\n",
    "print(2, 3)     # 3\n",
    "# Lets change the above function to lambda function\n",
    "add_two_nums = lambda a, b: a + b\n",
    "print(add_two_nums(2,3))    # 5\n",
    "\n",
    "# Self invoking lambda function\n",
    "(lambda a, b: a + b)(2,3) # 5\n",
    "\n",
    "square = lambda x : x ** 2\n",
    "print(square(3))    # 9\n",
    "cube = lambda x : x ** 3\n",
    "print(cube(3))    # 27\n",
    "\n",
    "# Multiple variables\n",
    "multiple_variable = lambda a, b, c: a ** 2 - 3 * b + 4 * c\n",
    "print(multiple_variable(5, 5, 3))"
   ]
  },
  {
   "cell_type": "markdown",
   "id": "cebc7366",
   "metadata": {},
   "source": [
    "### Lambda function inside other function\n",
    "\n",
    "Using lambda function inside another function."
   ]
  },
  {
   "cell_type": "code",
   "execution_count": null,
   "id": "cac5aeaa",
   "metadata": {
    "attributes": {
     "classes": [
      "py"
     ],
     "id": ""
    }
   },
   "outputs": [],
   "source": [
    "def power(x):\n",
    "    return lambda n : x ** n\n",
    "\n",
    "cube = power(2)(3) # 8\n",
    "two_power_of_five = power(2)(5) # 32"
   ]
  },
  {
   "cell_type": "markdown",
   "id": "1b5002d7",
   "metadata": {},
   "source": [
    "## 💻 Exercises: Day 13\n",
    "\n",
    "1. Filter only negative or zero in the list using list comprehension\n",
    "   ```py\n",
    "   numbers = [-4, -3, -2, -1, 0, 2, 4, 6]\n",
    "   ```\n",
    "1. Flatten the following list of lists of lists to a one dimensional list :\n",
    "\n",
    "   ```py\n",
    "   list_of_lists =[[[1, 2, 3]], [[4, 5, 6]], [[7, 8, 9]]]\n",
    "\n",
    "   output\n",
    "   [1, 2, 3, 4, 5, 6, 7, 8, 9]\n",
    "   ```\n",
    "\n",
    "1. Using list comprehension create the following list of tuples:\n",
    "   ```py\n",
    "   [(0, 1, 0, 0, 0, 0, 0),\n",
    "   (1, 1, 1, 1, 1, 1, 1),\n",
    "   (2, 1, 2, 4, 8, 16, 32),\n",
    "   (3, 1, 3, 9, 27, 81, 243),\n",
    "   (4, 1, 4, 16, 64, 256, 1024),\n",
    "   (5, 1, 5, 25, 125, 625, 3125),\n",
    "   (6, 1, 6, 36, 216, 1296, 7776),\n",
    "   (7, 1, 7, 49, 343, 2401, 16807),\n",
    "   (8, 1, 8, 64, 512, 4096, 32768),\n",
    "   (9, 1, 9, 81, 729, 6561, 59049),\n",
    "   (10, 1, 10, 100, 1000, 10000, 100000)]\n",
    "   ```\n",
    "1. Change the following list to a flatten list:\n",
    "   ```py\n",
    "   countries = [[('Finland', 'Helsinki')], [('Sweden', 'Stockholm')], [('Norway', 'Oslo')]]\n",
    "   output:\n",
    "   ['FINLAND', 'HELSINKI', 'SWEDEN', 'STOCKHOLM', 'NORWAY', 'OSLO']\n",
    "   ```\n",
    "1. Change the following list to a list of dictionaries:\n",
    "   ```py\n",
    "   countries = [[('Finland', 'Helsinki')], [('Sweden', 'Stockholm')], [('Norway', 'Oslo')]]\n",
    "   output:\n",
    "   [{'country': 'FINLAND', 'city': 'HELSINKI'},\n",
    "   {'country': 'SWEDEN', 'city': 'STOCKHOLM'},\n",
    "   {'country': 'NORWAY', 'city': 'OSLO'}]\n",
    "   ```\n",
    "1. Change the following list of lists to flat list:\n",
    "   ```py\n",
    "   names = [[('Asabeneh', 'Yetaeyeh')], [('David', 'Smith')], [('Donald', 'Trump')], [('Bill', 'Gates')]]\n",
    "   output\n",
    "   ['Asabeneh Yetaeyeh', 'David Smith', 'Donald Trump', 'Bill Gates']\n",
    "   ```\n",
    "1. Write a lambda function which can solve slope or y-intercept.\n",
    "\n",
    "# 📘 Day 14\n",
    "\n",
    "## Higher Order Functions\n",
    "\n",
    "In python functions are treated as first class citizens, allowing you to perform the following operations on functions:\n",
    "\n",
    "- A function can take one or more functions as parameters\n",
    "- A function can be returned as a result of another function\n",
    "- A function can be modified\n",
    "- A function can be assigned to a variable\n",
    "\n",
    "In this section, we will cover:\n",
    "\n",
    "1. Handling functions as parameters\n",
    "2. Returning functions as return value from other functions\n",
    "3. Using python closures and decorators\n",
    "\n",
    "### Function as a parameter"
   ]
  },
  {
   "cell_type": "code",
   "execution_count": null,
   "id": "e90cdb1b",
   "metadata": {
    "attributes": {
     "classes": [
      "py"
     ],
     "id": ""
    }
   },
   "outputs": [],
   "source": [
    "def sum_numbers(nums):  # normal function\n",
    "    return sum(nums)\n",
    "\n",
    "def higher_order_function(f, *args):  # function as a parameter\n",
    "    summation = f(*args)\n",
    "    return summation\n",
    "result = higher_order_function(sum_numbers, [1, 2, 3, 4, 5])\n",
    "print(result)       # 15"
   ]
  },
  {
   "cell_type": "markdown",
   "id": "65e9588e",
   "metadata": {},
   "source": [
    "### Function as a return value"
   ]
  },
  {
   "cell_type": "code",
   "execution_count": null,
   "id": "9c5727f7",
   "metadata": {
    "attributes": {
     "classes": [
      "py"
     ],
     "id": ""
    }
   },
   "outputs": [],
   "source": [
    "def square(x):          # a square function\n",
    "    return x ** 2\n",
    "\n",
    "def cube(x):            # a cube function\n",
    "    return x ** 3\n",
    "\n",
    "def absolute(x):        # an absolute value function\n",
    "    if x == 0:\n",
    "        return x\n",
    "    elif x < 1:\n",
    "        return -(x)\n",
    "    else:\n",
    "        return x\n",
    "\n",
    "def higher_order_function(type): # a higher order function returning function\n",
    "    if type == 'square':\n",
    "        return square\n",
    "    elif type == 'cube':\n",
    "        return cube\n",
    "    elif type == 'absolute':\n",
    "        return absolute\n",
    "\n",
    "result = higher_order_function('square')\n",
    "print(result(3))       # 9\n",
    "result = higher_order_function('cube')\n",
    "print(result(3))       # 27\n",
    "result = higher_order_function('absolute')\n",
    "print(result(-3))      # 3"
   ]
  },
  {
   "cell_type": "markdown",
   "id": "74e1132f",
   "metadata": {},
   "source": [
    "You can see from the above example that the higher order function is returning different functions depending on the passed parameter\n",
    "\n",
    "## Python closures\n",
    "\n",
    "Python allows a nested function to access the outer scope of the enclosing function. This is is known as a Closure. Let’s have a look at how closures works in Python. In Python, closure is created by nesting a function inside another encapsulating function and then returning the inner function. See the example below.\n",
    "\n",
    "**Example:**"
   ]
  },
  {
   "cell_type": "code",
   "execution_count": null,
   "id": "99ce5d1b",
   "metadata": {
    "attributes": {
     "classes": [
      "py"
     ],
     "id": ""
    }
   },
   "outputs": [],
   "source": [
    "def add_ten():\n",
    "    ten = 10\n",
    "\n",
    "    def add(num):\n",
    "        return num + ten\n",
    "    return add\n",
    "\n",
    "closure_result = add_ten()\n",
    "print(closure_result(5))  # 15\n",
    "print(closure_result(10))  # 20"
   ]
  },
  {
   "cell_type": "markdown",
   "id": "cd742221",
   "metadata": {},
   "source": [
    "## Python decorators\n",
    "\n",
    "A decorator is a design pattern in Python that allows a user to add new functionality to an existing object without modifying its structure. Decorators are usually called before the definition of a function you want to decorate.\n",
    "\n",
    "### Creating Decorators\n",
    "\n",
    "To create a decorator function, we need an outer function, inner wrapper function.\n",
    "\n",
    "**Example:**"
   ]
  },
  {
   "cell_type": "code",
   "execution_count": null,
   "id": "937370ab",
   "metadata": {
    "attributes": {
     "classes": [
      "py"
     ],
     "id": ""
    }
   },
   "outputs": [],
   "source": [
    "# Normal function\n",
    "def greeting():\n",
    "    return 'Welcome to Python'\n",
    "def uppercase_decorator(function):\n",
    "    def wrapper():\n",
    "        func = function()\n",
    "        make_uppercase = func.upper()\n",
    "        return make_uppercase\n",
    "    return wrapper\n",
    "g = uppercase_decorator(greeting)\n",
    "print(g())          # WELCOME TO PYTHON\n",
    "\n",
    "## Lets implement the above to a decorator\n",
    "\n",
    "'''This decorator function is a higher order\n",
    "which is take function as a parameter'''\n",
    "def uppercase_decorator(function):\n",
    "    def wrapper():\n",
    "        func = function()\n",
    "        make_uppercase = func.upper()\n",
    "        return make_uppercase\n",
    "    return wrapper\n",
    "@uppercase_decorator\n",
    "def greeting():\n",
    "    return 'Welcome to Python'\n",
    "print(greeting())   # WELCOME TO PYTHON\n"
   ]
  },
  {
   "cell_type": "markdown",
   "id": "ddbfd862",
   "metadata": {},
   "source": [
    "### Applying Multiple Decorators to a Single Function"
   ]
  },
  {
   "cell_type": "code",
   "execution_count": null,
   "id": "50b41e8b",
   "metadata": {
    "attributes": {
     "classes": [
      "py"
     ],
     "id": ""
    }
   },
   "outputs": [],
   "source": [
    "\n",
    "'''These decorator functions are higher order functions\n",
    "which take function as parameters'''\n",
    "\n",
    "# First Decorator\n",
    "def uppercase_decorator(function):\n",
    "    def wrapper():\n",
    "        func = function()\n",
    "        make_uppercase = func.upper()\n",
    "        return make_uppercase\n",
    "    return wrapper\n",
    "# Second decorator\n",
    "def split_string_decorator(function):\n",
    "    def wrapper():\n",
    "        func = function()\n",
    "        splitted_string = func.split()\n",
    "        return splitted_string\n",
    "\n",
    "    return wrapper\n",
    "\n",
    "@uppercase_decorator\n",
    "@split_string_decorator\n",
    "def greeting():\n",
    "    return 'Welcome to Python'\n",
    "print(greeting())   # WELCOME TO PYTHON\n"
   ]
  },
  {
   "cell_type": "markdown",
   "id": "a398a3d5",
   "metadata": {},
   "source": [
    "### Accepting parameters in Decorator Functions\n",
    "\n",
    "Most of the time we need our functions to take parameters, so we might need to define a decorator that accepts parameters."
   ]
  },
  {
   "cell_type": "code",
   "execution_count": null,
   "id": "8764cbe4",
   "metadata": {
    "attributes": {
     "classes": [
      "py"
     ],
     "id": ""
    }
   },
   "outputs": [],
   "source": [
    "def decorator_with_parameters(function):\n",
    "    def wrapper_accepting_parameters(para1, para2, para3):\n",
    "        function(para1, para2, para3)\n",
    "        print(\"I live in {}\".format(para3))\n",
    "    return wrapper_accepting_parameters\n",
    "\n",
    "@decorator_with_parameters\n",
    "def print_full_name(first_name, last_name, country):\n",
    "    print(\"I am {} {}. I love teaching\".format(\n",
    "        first_name, last_name, country))\n",
    "\n",
    "print_full_name(\"Asabeneh\", \"Yetayeh\",'Finland')"
   ]
  },
  {
   "cell_type": "markdown",
   "id": "f239ccd5",
   "metadata": {},
   "source": [
    "## Built-in Higher Order Functions\n",
    "\n",
    "Some of the builtin higher order function which we cover in the part are _map()_, _filter_, and _reduce_.\n",
    "Lambda function can be passed a parameter and the best use case of lambda function is in function like map, filter and reduce.\n",
    "\n",
    "### Python - Map Function\n",
    "\n",
    "The map() function is a built-in function which takes a function and iterable as parameter."
   ]
  },
  {
   "cell_type": "code",
   "execution_count": null,
   "id": "15226621",
   "metadata": {
    "attributes": {
     "classes": [
      "py"
     ],
     "id": ""
    }
   },
   "outputs": [],
   "source": [
    "    # syntax\n",
    "    map(function, iterable)"
   ]
  },
  {
   "cell_type": "markdown",
   "id": "4851c7e3",
   "metadata": {},
   "source": [
    "**Example:1**"
   ]
  },
  {
   "cell_type": "code",
   "execution_count": null,
   "id": "1213bb27",
   "metadata": {
    "attributes": {
     "classes": [
      "py"
     ],
     "id": ""
    }
   },
   "outputs": [],
   "source": [
    "numbers = [1, 2, 3, 4, 5] # iterable\n",
    "def square(x):\n",
    "    return x ** 2\n",
    "numbers_squared = map(square, numbers)\n",
    "print(list(numbers_squared))    # [1, 4, 9, 16, 25]\n",
    "# Lets apply it with a lambda function\n",
    "numbers_squared = map(lambda x : x ** 2, numbers)\n",
    "print(list(numbers_squared))    # [1, 4, 9, 16, 25]"
   ]
  },
  {
   "cell_type": "markdown",
   "id": "20312afd",
   "metadata": {},
   "source": [
    "**Example:2**"
   ]
  },
  {
   "cell_type": "code",
   "execution_count": null,
   "id": "63d2254a",
   "metadata": {
    "attributes": {
     "classes": [
      "py"
     ],
     "id": ""
    }
   },
   "outputs": [],
   "source": [
    "numbers_str = ['1', '2', '3', '4', '5']  # iterable\n",
    "numbers_int = map(int, numbers_str)\n",
    "print(list(numbers_int))    # [1, 2, 3, 4, 5]"
   ]
  },
  {
   "cell_type": "markdown",
   "id": "7133d43e",
   "metadata": {},
   "source": [
    "**Example:3**"
   ]
  },
  {
   "cell_type": "code",
   "execution_count": null,
   "id": "222ce6fd",
   "metadata": {
    "attributes": {
     "classes": [
      "py"
     ],
     "id": ""
    }
   },
   "outputs": [],
   "source": [
    "names = ['Asabeneh', 'Lidiya', 'Ermias', 'Abraham']  # iterable\n",
    "\n",
    "def change_to_upper(name):\n",
    "    return name.upper()\n",
    "\n",
    "names_upper_cased = map(change_to_upper, names)\n",
    "print(list(names_upper_cased))    # ['ASABENEH', 'LIDIYA', 'ERMIAS', 'ABRAHAM']\n",
    "\n",
    "# Lets apply it with a lambda function\n",
    "names_upper_cased = map(lambda name: name.upper(), names)\n",
    "print(list(names_upper_cased))    # ['ASABENEH', 'LIDIYA', 'ERMIAS', 'ABRAHAM']"
   ]
  },
  {
   "cell_type": "markdown",
   "id": "8d6e7857",
   "metadata": {},
   "source": [
    "What actually map do is mapping a list. For instance it changes the names to upper case and return a new list.\n",
    "\n",
    "### Python - Filter Function\n",
    "\n",
    "The filter() function calls the specified function which returns boolean for each item of the specified iterable (list). It filters the items which the satisfied with the filtering criteria."
   ]
  },
  {
   "cell_type": "code",
   "execution_count": null,
   "id": "3b305d77",
   "metadata": {
    "attributes": {
     "classes": [
      "py"
     ],
     "id": ""
    }
   },
   "outputs": [],
   "source": [
    "    # syntax\n",
    "    filter(function, iterable)"
   ]
  },
  {
   "cell_type": "markdown",
   "id": "b86b331b",
   "metadata": {},
   "source": [
    "**Example:1**"
   ]
  },
  {
   "cell_type": "code",
   "execution_count": null,
   "id": "48044574",
   "metadata": {
    "attributes": {
     "classes": [
      "py"
     ],
     "id": ""
    }
   },
   "outputs": [],
   "source": [
    "# Lets filter only even nubers\n",
    "numbers = [1, 2, 3, 4, 5]  # iterable\n",
    "\n",
    "def is_even(num):\n",
    "    if num % 2 == 0:\n",
    "        return True\n",
    "    return False\n",
    "\n",
    "even_numbers = filter(is_even, numbers)\n",
    "print(list(even_numbers))       # [2, 4]"
   ]
  },
  {
   "cell_type": "markdown",
   "id": "b60cba89",
   "metadata": {},
   "source": [
    "**Example:2**"
   ]
  },
  {
   "cell_type": "code",
   "execution_count": null,
   "id": "05a0b6c3",
   "metadata": {
    "attributes": {
     "classes": [
      "py"
     ],
     "id": ""
    }
   },
   "outputs": [],
   "source": [
    "numbers = [1, 2, 3, 4, 5]  # iterable\n",
    "\n",
    "def is_odd(num):\n",
    "    if num % 2 != 0:\n",
    "        return True\n",
    "    return False\n",
    "\n",
    "odd_numbers = filter(is_odd, numbers)\n",
    "print(list(odd_numbers))       # [1, 3, 5]"
   ]
  },
  {
   "cell_type": "code",
   "execution_count": null,
   "id": "52c1b57c",
   "metadata": {
    "attributes": {
     "classes": [
      "py"
     ],
     "id": ""
    }
   },
   "outputs": [],
   "source": [
    "# Filter long name\n",
    "names = ['Asabeneh', 'Lidiya', 'Ermias', 'Abraham']  # iterable\n",
    "def is_name_long(name):\n",
    "    if len(name) > 7:\n",
    "        return True\n",
    "    return False\n",
    "\n",
    "long_names = filter(is_name_long, names)\n",
    "print(list(long_names))         # ['Asabeneh']"
   ]
  },
  {
   "cell_type": "markdown",
   "id": "4cab9c2a",
   "metadata": {},
   "source": [
    "### Python - Reduce Function\n",
    "\n",
    "The _reduce()_ function is defined in the functools module and we should import it from this module.Like map and filter it takes two parameters, a function and an iterable. However, it doesn't return another iterable, instead it returns a single value.\n",
    "\n",
    "**Example:2**"
   ]
  },
  {
   "cell_type": "code",
   "execution_count": null,
   "id": "7c8f9e80",
   "metadata": {
    "attributes": {
     "classes": [
      "py"
     ],
     "id": ""
    }
   },
   "outputs": [],
   "source": [
    "numbers_str = ['1', '2', '3', '4', '5']  # iterable\n",
    "def add(x, y):\n",
    "    return int(x) + int(y)\n",
    "\n",
    "total = reduce(add_two, numbers_str)\n",
    "print(total)    # 15"
   ]
  },
  {
   "cell_type": "markdown",
   "id": "4b6d525c",
   "metadata": {},
   "source": [
    "## 💻 Exercises: Day 14"
   ]
  },
  {
   "cell_type": "code",
   "execution_count": null,
   "id": "c0fd68ac",
   "metadata": {
    "attributes": {
     "classes": [
      "py"
     ],
     "id": ""
    }
   },
   "outputs": [],
   "source": [
    "countries = ['Estonia', 'Finland', 'Sweden', 'Denmark', 'Norway', 'Iceland']\n",
    "names = ['Asabeneh', 'Lidiya', 'Ermias', 'Abraham']\n",
    "numbers = [1, 2, 3, 4, 5, 6, 7, 8, 9, 10]"
   ]
  },
  {
   "cell_type": "markdown",
   "id": "d74affc7",
   "metadata": {},
   "source": [
    "1. Explain the difference between map, filter, and reduce.\n",
    "1. Explain the difference between higher order function, closure and decorator\n",
    "1. Define a call function before map, filter or reduce, see examples.\n",
    "1. Use for loop to print each country in the countries list.\n",
    "1. Use for to print each name in the names list.\n",
    "1. Use for to print each number in the numbers list.\n",
    "1. Use map to create a new list by changing each country to uppercase in the countries list\n",
    "1. Use map to create a new list by changing each number to square in the numbers list\n",
    "1. Use map to change to each name to uppercase in the names list\n",
    "1. Use filter to filter out countries containing land.\n",
    "1. Use filter to filter out countries having six character.\n",
    "1. Use filter to filter out countries containing six letters and more in the country list.\n",
    "1. Use filter to filter out country start with 'E'\n",
    "1. Chain two or more list iterators(eg. arr.map(callback).filter(callback).reduce(callback))\n",
    "1. Declare a function called get_string_lists which takes an list as a parameter and then returns an list only with string items.\n",
    "1. Use reduce to sum all the numbers in the numbers list.\n",
    "1. Use reduce to concatenate all the countries and to produce this sentence: Estonia, Finland, Sweden, Denmark, Norway, and IceLand are north European countries\n",
    "1. Declare a function called categorize_countries which returns an list of countries which have some common pattern(you find the [countries list](https://github.com/Asabeneh/30-Days-Of-Python/blob/master/data/countries.py) in this repository as countries.js(eg 'land', 'ia', 'island', 'stan')).\n",
    "1. Create a function which return a list of dictionary, which is the letter and the number of times the letter used to start a name of a country.\n",
    "1. Declare a get_first_ten_countries function and return an list of ten countries from the countries.js list in the data folder.\n",
    "1. Declare a get_last_ten_countries function which which returns the last ten countries in the countries list.\n",
    "1. Find out which letter is used many times as initial for a country name from the [countries list](https://github.com/Asabeneh/30-Days-Of-Python/blob/master/data/countries-data.py)(eg. Finland, Fiji, France etc)\n",
    "1. Use the countries_data.py file information, in the data folder.\n",
    "   - Sort countries by name, by capital, by population\n",
    "   - Sort out the ten most spoken languages by location.\n",
    "   - Sort out the ten most populated countries.\n",
    "\n",
    "# 📘 Day 15\n",
    "\n",
    "## Python Error Types\n",
    "\n",
    "When we write code it common that we make a typo or other common errors. Based on the type of error we make python raise a kind of error which suggests us to fix it by reading the feedback. Understanding different types of errors in a certain programming language can help us to debug our code quick and in return it makes us a better programmer.\n",
    "\n",
    "Let's see the most common error types step by step by open our python interactive shell. Go to your you computer terminal and write, python, the python interactive shell will be opened.\n",
    "\n",
    "### SyntaxError\n",
    "\n",
    "**Example 1: SyntaxError**"
   ]
  },
  {
   "cell_type": "code",
   "execution_count": null,
   "id": "52a156e2",
   "metadata": {
    "attributes": {
     "classes": [
      "py"
     ],
     "id": ""
    }
   },
   "outputs": [],
   "source": [
    "asabeneh@Asabeneh:~$ python\n",
    "Python 3.7.5 (default, Nov  1 2019, 02:16:32)\n",
    "[Clang 11.0.0 (clang-1100.0.33.8)] on darwin\n",
    "Type \"help\", \"copyright\", \"credits\" or \"license\" for more information.\n",
    ">>> print 'hello world'\n",
    "  File \"<stdin>\", line 1\n",
    "    print 'hello world'\n",
    "                      ^\n",
    "SyntaxError: Missing parentheses in call to 'print'. Did you mean print('hello world')?\n",
    ">>>"
   ]
  },
  {
   "cell_type": "markdown",
   "id": "f3fab728",
   "metadata": {},
   "source": [
    "As you can see we made a syntax error because we forgot to enclose the string with parenthesis and python is already suggested us to fix. Let's fix it."
   ]
  },
  {
   "cell_type": "code",
   "execution_count": null,
   "id": "2ab916d1",
   "metadata": {
    "attributes": {
     "classes": [
      "py"
     ],
     "id": ""
    }
   },
   "outputs": [],
   "source": [
    "Last login: Tue Dec  3 15:20:41 on ttys002\n",
    "asabeneh@Asabeneh:~$ python\n",
    "Python 3.7.5 (default, Nov  1 2019, 02:16:32)\n",
    "[Clang 11.0.0 (clang-1100.0.33.8)] on darwin\n",
    "Type \"help\", \"copyright\", \"credits\" or \"license\" for more information.\n",
    ">>> print 'hello world'\n",
    "  File \"<stdin>\", line 1\n",
    "    print 'hello world'\n",
    "                      ^\n",
    "SyntaxError: Missing parentheses in call to 'print'. Did you mean print('hello world')?\n",
    ">>> print('hello world')\n",
    "hello world\n",
    ">>>"
   ]
  },
  {
   "cell_type": "markdown",
   "id": "84d66298",
   "metadata": {},
   "source": [
    "The error was a _SyntaxError_ and we fixed and our code executed. Let see more error types.\n",
    "\n",
    "### NameError\n",
    "\n",
    "**Example 1: NameError**"
   ]
  },
  {
   "cell_type": "code",
   "execution_count": null,
   "id": "9ce35d88",
   "metadata": {
    "attributes": {
     "classes": [
      "py"
     ],
     "id": ""
    }
   },
   "outputs": [],
   "source": [
    "Last login: Tue Dec  3 15:20:41 on ttys002\n",
    "asabeneh@Asabeneh:~$ python\n",
    "Python 3.7.5 (default, Nov  1 2019, 02:16:32)\n",
    "[Clang 11.0.0 (clang-1100.0.33.8)] on darwin\n",
    "Type \"help\", \"copyright\", \"credits\" or \"license\" for more information.\n",
    ">>> print(age)\n",
    "Traceback (most recent call last):\n",
    "  File \"<stdin>\", line 1, in <module>\n",
    "NameError: name 'age' is not defined\n",
    ">>>"
   ]
  },
  {
   "cell_type": "markdown",
   "id": "6e56cc82",
   "metadata": {},
   "source": [
    "As you can see from the above error, it says that name age is not defined. Yes, it is true. We did define an age variable but we were trying to print it as if we declare it. Now, lets fix this by declaring age variable and assigning with a value."
   ]
  },
  {
   "cell_type": "code",
   "execution_count": null,
   "id": "fc8337ca",
   "metadata": {
    "attributes": {
     "classes": [
      "py"
     ],
     "id": ""
    }
   },
   "outputs": [],
   "source": [
    "Last login: Tue Dec  3 15:20:41 on ttys002\n",
    "asabeneh@Asabeneh:~$ python\n",
    "Python 3.7.5 (default, Nov  1 2019, 02:16:32)\n",
    "[Clang 11.0.0 (clang-1100.0.33.8)] on darwin\n",
    "Type \"help\", \"copyright\", \"credits\" or \"license\" for more information.\n",
    ">>> print(age)\n",
    "Traceback (most recent call last):\n",
    "  File \"<stdin>\", line 1, in <module>\n",
    "NameError: name 'age' is not defined\n",
    ">>> age = 25\n",
    ">>> print(age)\n",
    "25\n",
    ">>>"
   ]
  },
  {
   "cell_type": "markdown",
   "id": "f405a536",
   "metadata": {},
   "source": [
    "The type of error was a _NameError_. We debugged the error by defining the variable name.\n",
    "\n",
    "### IndexError\n",
    "\n",
    "**Example 1: IndexError**"
   ]
  },
  {
   "cell_type": "code",
   "execution_count": null,
   "id": "6709efa7",
   "metadata": {
    "attributes": {
     "classes": [
      "py"
     ],
     "id": ""
    }
   },
   "outputs": [],
   "source": [
    "Last login: Tue Dec  3 15:20:41 on ttys002\n",
    "asabeneh@Asabeneh:~$ python\n",
    "Python 3.7.5 (default, Nov  1 2019, 02:16:32)\n",
    "[Clang 11.0.0 (clang-1100.0.33.8)] on darwin\n",
    "Type \"help\", \"copyright\", \"credits\" or \"license\" for more information.\n",
    ">>> numbers = [1, 2, 3, 4, 5]\n",
    ">>> numbers[5]\n",
    "Traceback (most recent call last):\n",
    "  File \"<stdin>\", line 1, in <module>\n",
    "IndexError: list index out of range\n",
    ">>>"
   ]
  },
  {
   "cell_type": "markdown",
   "id": "30c196e8",
   "metadata": {},
   "source": [
    "In the above example, python raised an _IndexError_ because the list has only 0 to 4 indexes, so it was out of range.\n",
    "\n",
    "### ModuleNotFoundError\n",
    "\n",
    "**Example 1: ModuleNotFoundError**"
   ]
  },
  {
   "cell_type": "code",
   "execution_count": null,
   "id": "4651d108",
   "metadata": {
    "attributes": {
     "classes": [
      "py"
     ],
     "id": ""
    }
   },
   "outputs": [],
   "source": [
    "Last login: Tue Dec  3 15:20:41 on ttys002\n",
    "asabeneh@Asabeneh:~$ python\n",
    "Python 3.7.5 (default, Nov  1 2019, 02:16:32)\n",
    "[Clang 11.0.0 (clang-1100.0.33.8)] on darwin\n",
    "Type \"help\", \"copyright\", \"credits\" or \"license\" for more information.\n",
    ">>> import maths\n",
    "Traceback (most recent call last):\n",
    "  File \"<stdin>\", line 1, in <module>\n",
    "ModuleNotFoundError: No module named 'maths'\n",
    ">>>"
   ]
  },
  {
   "cell_type": "markdown",
   "id": "8ec7d1bb",
   "metadata": {},
   "source": [
    "In the above example, I added extra s to math deliberately and _ModuleNotFoundError_ was raised. Lets fix the error by removing the extra added s from math."
   ]
  },
  {
   "cell_type": "code",
   "execution_count": null,
   "id": "16ce2eeb",
   "metadata": {
    "attributes": {
     "classes": [
      "py"
     ],
     "id": ""
    }
   },
   "outputs": [],
   "source": [
    "Last login: Tue Dec  3 15:20:41 on ttys002\n",
    "asabeneh@Asabeneh:~$ python\n",
    "Python 3.7.5 (default, Nov  1 2019, 02:16:32)\n",
    "[Clang 11.0.0 (clang-1100.0.33.8)] on darwin\n",
    "Type \"help\", \"copyright\", \"credits\" or \"license\" for more information.\n",
    ">>> import maths\n",
    "Traceback (most recent call last):\n",
    "  File \"<stdin>\", line 1, in <module>\n",
    "ModuleNotFoundError: No module named 'maths'\n",
    ">>> import math\n",
    ">>>"
   ]
  },
  {
   "cell_type": "markdown",
   "id": "5676383c",
   "metadata": {},
   "source": [
    "We fixed the error by removing the extra s. Now let's use some of the function from math module.\n",
    "\n",
    "### AttributeError\n",
    "\n",
    "**Example 1: AttributeError**"
   ]
  },
  {
   "cell_type": "code",
   "execution_count": null,
   "id": "717aedfe",
   "metadata": {
    "attributes": {
     "classes": [
      "py"
     ],
     "id": ""
    }
   },
   "outputs": [],
   "source": [
    "Last login: Tue Dec  3 15:20:41 on ttys002\n",
    "asabeneh@Asabeneh:~$ python\n",
    "Python 3.7.5 (default, Nov  1 2019, 02:16:32)\n",
    "[Clang 11.0.0 (clang-1100.0.33.8)] on darwin\n",
    "Type \"help\", \"copyright\", \"credits\" or \"license\" for more information.\n",
    ">>> import maths\n",
    "Traceback (most recent call last):\n",
    "  File \"<stdin>\", line 1, in <module>\n",
    "ModuleNotFoundError: No module named 'maths'\n",
    ">>> import math\n",
    ">>> math.PI\n",
    "Traceback (most recent call last):\n",
    "  File \"<stdin>\", line 1, in <module>\n",
    "AttributeError: module 'math' has no attribute 'PI'\n",
    ">>>"
   ]
  },
  {
   "cell_type": "markdown",
   "id": "28777b75",
   "metadata": {},
   "source": [
    "As you can see, now again I made a mistake instead of pi, I tried to call a PI function from maths module that raise an attribute error, it means the function does not exist in the module. Lets fix it by change from PI to pi."
   ]
  },
  {
   "cell_type": "code",
   "execution_count": null,
   "id": "e75ef567",
   "metadata": {
    "attributes": {
     "classes": [
      "py"
     ],
     "id": ""
    }
   },
   "outputs": [],
   "source": [
    "Last login: Tue Dec  3 15:20:41 on ttys002\n",
    "asabeneh@Asabeneh:~$ python\n",
    "Python 3.7.5 (default, Nov  1 2019, 02:16:32)\n",
    "[Clang 11.0.0 (clang-1100.0.33.8)] on darwin\n",
    "Type \"help\", \"copyright\", \"credits\" or \"license\" for more information.\n",
    ">>> import maths\n",
    "Traceback (most recent call last):\n",
    "  File \"<stdin>\", line 1, in <module>\n",
    "ModuleNotFoundError: No module named 'maths'\n",
    ">>> import math\n",
    ">>> math.PI\n",
    "Traceback (most recent call last):\n",
    "  File \"<stdin>\", line 1, in <module>\n",
    "AttributeError: module 'math' has no attribute 'PI'\n",
    ">>> math.pi\n",
    "3.141592653589793\n",
    ">>>"
   ]
  },
  {
   "cell_type": "markdown",
   "id": "3b135a6e",
   "metadata": {},
   "source": [
    "Now, when we call pi from the math module we got the result.\n",
    "\n",
    "### KeyError\n",
    "\n",
    "**Example 1: KeyError**"
   ]
  },
  {
   "cell_type": "code",
   "execution_count": null,
   "id": "253d9dff",
   "metadata": {
    "attributes": {
     "classes": [
      "py"
     ],
     "id": ""
    }
   },
   "outputs": [],
   "source": [
    "Last login: Tue Dec  3 15:20:41 on ttys002\n",
    "asabeneh@Asabeneh:~$ python\n",
    "Python 3.7.5 (default, Nov  1 2019, 02:16:32)\n",
    "[Clang 11.0.0 (clang-1100.0.33.8)] on darwin\n",
    "Type \"help\", \"copyright\", \"credits\" or \"license\" for more information.\n",
    ">>> users = {'name':'Asab', 'age':250, 'country':'Finland'}\n",
    ">>> users['name']\n",
    "'Asab'\n",
    ">>> users['county']\n",
    "Traceback (most recent call last):\n",
    "  File \"<stdin>\", line 1, in <module>\n",
    "KeyError: 'county'\n",
    ">>>"
   ]
  },
  {
   "cell_type": "markdown",
   "id": "912220b3",
   "metadata": {},
   "source": [
    "As you can see, there was a typo in the key used to get the dictionary value. so, this is a key error and it is straight forward what to fix. Lets fix this."
   ]
  },
  {
   "cell_type": "code",
   "execution_count": null,
   "id": "fa15ba26",
   "metadata": {
    "attributes": {
     "classes": [
      "py"
     ],
     "id": ""
    }
   },
   "outputs": [],
   "source": [
    "Last login: Tue Dec  3 15:20:41 on ttys002\n",
    "asabeneh@Asabeneh:~$ python\n",
    "Python 3.7.5 (default, Nov  1 2019, 02:16:32)\n",
    "[Clang 11.0.0 (clang-1100.0.33.8)] on darwin\n",
    "Type \"help\", \"copyright\", \"credits\" or \"license\" for more information.\n",
    ">>> user = {'name':'Asab', 'age':250, 'country':'Finland'}\n",
    ">>> user['name']\n",
    "'Asab'\n",
    ">>> user['county']\n",
    "Traceback (most recent call last):\n",
    "  File \"<stdin>\", line 1, in <module>\n",
    "KeyError: 'county'\n",
    ">>> user['country']\n",
    "'Finland'\n",
    ">>>"
   ]
  },
  {
   "cell_type": "markdown",
   "id": "67766897",
   "metadata": {},
   "source": [
    "We debug our error and our code ran and we got the value.\n",
    "\n",
    "### TypeError\n",
    "\n",
    "**Example 1: TypeError**"
   ]
  },
  {
   "cell_type": "code",
   "execution_count": null,
   "id": "8e0262ce",
   "metadata": {
    "attributes": {
     "classes": [
      "py"
     ],
     "id": ""
    }
   },
   "outputs": [],
   "source": [
    "Last login: Tue Dec  3 15:20:41 on ttys002\n",
    "asabeneh@Asabeneh:~$ python\n",
    "Python 3.7.5 (default, Nov  1 2019, 02:16:32)\n",
    "[Clang 11.0.0 (clang-1100.0.33.8)] on darwin\n",
    "Type \"help\", \"copyright\", \"credits\" or \"license\" for more information.\n",
    ">>> 4 + '3'\n",
    "Traceback (most recent call last):\n",
    "  File \"<stdin>\", line 1, in <module>\n",
    "TypeError: unsupported operand type(s) for +: 'int' and 'str'\n",
    ">>>"
   ]
  },
  {
   "cell_type": "markdown",
   "id": "eac436a6",
   "metadata": {},
   "source": [
    "In the above example, a TypeError is raised because we can not add number and string. First, we should convert the string to int or float. Let's fix this error."
   ]
  },
  {
   "cell_type": "code",
   "execution_count": null,
   "id": "1b0cdb81",
   "metadata": {
    "attributes": {
     "classes": [
      "py"
     ],
     "id": ""
    }
   },
   "outputs": [],
   "source": [
    "Last login: Tue Dec  3 15:20:41 on ttys002\n",
    "asabeneh@Asabeneh:~$ python\n",
    "Python 3.7.5 (default, Nov  1 2019, 02:16:32)\n",
    "[Clang 11.0.0 (clang-1100.0.33.8)] on darwin\n",
    "Type \"help\", \"copyright\", \"credits\" or \"license\" for more information.\n",
    ">>> 4 + '3'\n",
    "Traceback (most recent call last):\n",
    "  File \"<stdin>\", line 1, in <module>\n",
    "TypeError: unsupported operand type(s) for +: 'int' and 'str'\n",
    ">>> 4 + int('3')\n",
    "7\n",
    ">>> 4 + float('3')\n",
    "7.0\n",
    ">>>"
   ]
  },
  {
   "cell_type": "markdown",
   "id": "2d063639",
   "metadata": {},
   "source": [
    "The remove the error and our and we got the result we expected.\n",
    "\n",
    "### ImportError\n",
    "\n",
    "**Example 1: TypeError**"
   ]
  },
  {
   "cell_type": "code",
   "execution_count": null,
   "id": "7a764590",
   "metadata": {
    "attributes": {
     "classes": [
      "py"
     ],
     "id": ""
    }
   },
   "outputs": [],
   "source": [
    "Last login: Tue Dec  3 15:20:41 on ttys002\n",
    "asabeneh@Asabeneh:~$ python\n",
    "Python 3.7.5 (default, Nov  1 2019, 02:16:32)\n",
    "[Clang 11.0.0 (clang-1100.0.33.8)] on darwin\n",
    "Type \"help\", \"copyright\", \"credits\" or \"license\" for more information.\n",
    ">>> from math import power\n",
    "Traceback (most recent call last):\n",
    "  File \"<stdin>\", line 1, in <module>\n",
    "ImportError: cannot import name 'power' from 'math'\n",
    ">>>"
   ]
  },
  {
   "cell_type": "markdown",
   "id": "104ee7cd",
   "metadata": {},
   "source": [
    "There is no function called power in the math module instead we have _pow_. Lets correct it"
   ]
  },
  {
   "cell_type": "code",
   "execution_count": null,
   "id": "f1c7ace5",
   "metadata": {
    "attributes": {
     "classes": [
      "py"
     ],
     "id": ""
    }
   },
   "outputs": [],
   "source": [
    "Last login: Tue Dec  3 15:20:41 on ttys002\n",
    "asabeneh@Asabeneh:~$ python\n",
    "Python 3.7.5 (default, Nov  1 2019, 02:16:32)\n",
    "[Clang 11.0.0 (clang-1100.0.33.8)] on darwin\n",
    "Type \"help\", \"copyright\", \"credits\" or \"license\" for more information.\n",
    ">>> from math import power\n",
    "Traceback (most recent call last):\n",
    "  File \"<stdin>\", line 1, in <module>\n",
    "ImportError: cannot import name 'power' from 'math'\n",
    ">>> from math import pow\n",
    ">>> pow(2,3)\n",
    "8.0\n",
    ">>>"
   ]
  },
  {
   "cell_type": "markdown",
   "id": "d91501a4",
   "metadata": {},
   "source": [
    "### ValueError"
   ]
  },
  {
   "cell_type": "code",
   "execution_count": null,
   "id": "195596d9",
   "metadata": {
    "attributes": {
     "classes": [
      "py"
     ],
     "id": ""
    }
   },
   "outputs": [],
   "source": [
    "Last login: Tue Dec  3 15:20:41 on ttys002\n",
    "asabeneh@Asabeneh:~$ python\n",
    "Python 3.7.5 (default, Nov  1 2019, 02:16:32)\n",
    "[Clang 11.0.0 (clang-1100.0.33.8)] on darwin\n",
    "Type \"help\", \"copyright\", \"credits\" or \"license\" for more information.\n",
    ">>> int('12a')\n",
    "Traceback (most recent call last):\n",
    "  File \"<stdin>\", line 1, in <module>\n",
    "ValueError: invalid literal for int() with base 10: '12a'\n",
    ">>>"
   ]
  },
  {
   "cell_type": "markdown",
   "id": "cd49740f",
   "metadata": {},
   "source": [
    "We can not change string to a number.\n",
    "\n",
    "### ZeroDivisionError"
   ]
  },
  {
   "cell_type": "code",
   "execution_count": null,
   "id": "b5d45f2c",
   "metadata": {
    "attributes": {
     "classes": [
      "py"
     ],
     "id": ""
    }
   },
   "outputs": [],
   "source": [
    "Last login: Tue Dec  3 15:20:41 on ttys002\n",
    "asabeneh@Asabeneh:~$ python\n",
    "Python 3.7.5 (default, Nov  1 2019, 02:16:32)\n",
    "[Clang 11.0.0 (clang-1100.0.33.8)] on darwin\n",
    "Type \"help\", \"copyright\", \"credits\" or \"license\" for more information.\n",
    ">>> 1/0\n",
    "Traceback (most recent call last):\n",
    "  File \"<stdin>\", line 1, in <module>\n",
    "ZeroDivisionError: division by zero\n",
    ">>>"
   ]
  },
  {
   "cell_type": "markdown",
   "id": "16ac4160",
   "metadata": {},
   "source": [
    "We can not divide a number by zero.\n",
    "\n",
    "We have covered some of the python error types, if you want to check more about it check the python documentation about python error types.\n",
    "If you are good at reading the error types then you will be able to fix your bugs fast and you will be also a better programmer.\n",
    "\n",
    "## 💻 Exercises: Day 15\n",
    "\n",
    "1. Open you python interactive shell and try all the examples covered in this section.\n",
    "\n",
    "[<< Part 4 ](https://github.com/Asabeneh/30-Days-Of-Python/blob/master/readme10-12.md) | [Part 6 >>](https://github.com/Asabeneh/30-Days-Of-Python/blob/master/readme16-18.md)\n",
    "\n",
    "---"
   ]
  }
 ],
 "metadata": {},
 "nbformat": 4,
 "nbformat_minor": 5
}
