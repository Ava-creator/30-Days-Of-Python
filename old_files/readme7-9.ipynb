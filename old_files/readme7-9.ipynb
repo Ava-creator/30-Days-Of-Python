{
 "cells": [
  {
   "cell_type": "markdown",
   "id": "2db00cf1",
   "metadata": {},
   "source": [
    "![30DaysOfPython](./images/30DaysOfPython_banner3@2x.png)\n",
    "\n",
    "🧳 [Part 1: Day 1 - 3](https://github.com/Asabeneh/30-Days-Of-Python)  \n",
    "🧳 [Part 2: Day 4 - 6](https://github.com/Asabeneh/30-Days-Of-Python/blob/master/readme4-6.md)  \n",
    "🧳 [Part 3: Day 7 - 9](https://github.com/Asabeneh/30-Days-Of-Python/blob/master/readme7-9.md)  \n",
    "🧳 [Part 4: Day 10 - 12](https://github.com/Asabeneh/30-Days-Of-Python/blob/master/readme10-12.md)  \n",
    "🧳 [Part 5: Day 13 - 15](https://github.com/Asabeneh/30-Days-Of-Python/blob/master/readme13-15.md)  \n",
    "🧳 [Part 6: Day 16 - 18](https://github.com/Asabeneh/30-Days-Of-Python/blob/master/readme16-18.md)  \n",
    "🧳 [Part 7: Day 19 - 21](https://github.com/Asabeneh/30-Days-Of-Python/blob/master/readme19-21.md)  \n",
    "🧳 [Part 8: Day 22 - 24](https://github.com/Asabeneh/30-Days-Of-Python/blob/master/readme22-24.md)  \n",
    "🧳 [Part 9: Day 25 - 27](https://github.com/Asabeneh/30-Days-Of-Python/blob/master/readme25-27.md)  \n",
    "🧳 [Part 10: Day 28 - 30](https://github.com/Asabeneh/30-Days-Of-Python/blob/master/readme28-30.md) \n",
    "\n",
    "---\n",
    "- [📘 Day 7](#%f0%9f%93%98-day-7)\n",
    "  - [Set](#set)\n",
    "    - [Creating a set](#creating-a-set)\n",
    "    - [Getting set length](#getting-set-length)\n",
    "    - [Accessing Items in set](#accessing-items-in-set)\n",
    "    - [Checking an item](#checking-an-item)\n",
    "    - [Adding items to a list](#adding-items-to-a-list)\n",
    "    - [Removing item from a list](#removing-item-from-a-list)\n",
    "    - [Clearing item in a set](#clearing-item-in-a-set)\n",
    "    - [Deleting a set](#deleting-a-set)\n",
    "    - [Converting list to set](#converting-list-to-set)\n",
    "    - [Joining sets](#joining-sets)\n",
    "    - [Finding intersection items](#finding-intersection-items)\n",
    "    - [Checking subset and super set](#checking-subset-and-super-set)\n",
    "    - [Checking difference between two sets](#checking-difference-between-two-sets)\n",
    "    - [Finding Symmetric difference between two sets](#finding-symmetric-difference-between-two-sets)\n",
    "    - [Joining set](#joining-set)\n",
    "  - [💻 Exercises: Day 7](#%f0%9f%92%bb-exercises-day-7)\n",
    "- [📘 Day 8](#%f0%9f%93%98-day-8)\n",
    "  - [Dictionary](#dictionary)\n",
    "    - [Creating a dictionary](#creating-a-dictionary)\n",
    "    - [Dictionary Length](#dictionary-length)\n",
    "    - [Accessing a dictionary items](#accessing-a-dictionary-items)\n",
    "    - [Adding Item to a dictionary](#adding-item-to-a-dictionary)\n",
    "    - [Modifying Item in a dictionary](#modifying-item-in-a-dictionary)\n",
    "    - [Checking a key in a dictionary](#checking-a-key-in-a-dictionary)\n",
    "    - [Removing key items from dictionary](#removing-key-items-from-dictionary)\n",
    "    - [Changing dictionary to list items](#changing-dictionary-to-list-items)\n",
    "    - [Clearing dictionary list items](#clearing-dictionary-list-items)\n",
    "    - [Deleting dictionary](#deleting-dictionary)\n",
    "    - [Copy a dictionary](#copy-a-dictionary)\n",
    "    - [Getting dictionary keys as list](#getting-dictionary-keys-as-list)\n",
    "    - [Getting dictionary values as list](#getting-dictionary-values-as-list)\n",
    "  - [💻 Exercises: Day 8](#%f0%9f%92%bb-exercises-day-8)\n",
    "- [📘 Day 9](#%f0%9f%93%98-day-9)\n",
    "  - [Conditionals](#conditionals)\n",
    "    - [If condition](#if-condition)\n",
    "    - [If Else](#if-else)\n",
    "    - [If elif else](#if-elif-else)\n",
    "    - [Short Hand](#short-hand)\n",
    "    - [Nested condition](#nested-condition)\n",
    "    - [If condition and and logical operator](#if-condition-and-and-logical-operator)\n",
    "    - [If and or logical operator](#if-and-or-logical-operator)\n",
    "  - [💻 Exercises: Day 9](#%f0%9f%92%bb-exercises-day-9)\n",
    "\n",
    "# 📘 Day 7\n",
    "## Set\n",
    "Let me take you back to your elementary or high school Mathematics lesson. The Mathematics definition of set can be applied also in python. Set is a collection of unordered and unindexed distinct elements. In python set uses to store unique items, and it is possible to find the *union*, *intersection*, *difference*, *symmetric difference*, *subset*, *super set* and *disjoint set* among sets.\n",
    "### Creating a set\n",
    "We use curly bracket, {}  to create a set.\n",
    "* Creating an empty set"
   ]
  },
  {
   "cell_type": "code",
   "execution_count": null,
   "id": "dd71281f",
   "metadata": {
    "attributes": {
     "classes": [
      "py"
     ],
     "id": ""
    }
   },
   "outputs": [],
   "source": [
    "# syntax\n",
    "st = {} \n",
    "# or\n",
    "st = set()"
   ]
  },
  {
   "cell_type": "markdown",
   "id": "ddb5b8be",
   "metadata": {},
   "source": [
    "* Creating a set with initial items"
   ]
  },
  {
   "cell_type": "code",
   "execution_count": null,
   "id": "b504142d",
   "metadata": {
    "attributes": {
     "classes": [
      "py"
     ],
     "id": ""
    }
   },
   "outputs": [],
   "source": [
    "# syntax\n",
    "st = {'item1', 'item2', 'item3', 'item4'}"
   ]
  },
  {
   "cell_type": "markdown",
   "id": "096a288f",
   "metadata": {},
   "source": [
    "**Example:**"
   ]
  },
  {
   "cell_type": "code",
   "execution_count": null,
   "id": "4bae3257",
   "metadata": {
    "attributes": {
     "classes": [
      "py"
     ],
     "id": ""
    }
   },
   "outputs": [],
   "source": [
    "# syntax\n",
    "fruits = {'banana', 'orange', 'mango', 'lemon'}"
   ]
  },
  {
   "cell_type": "markdown",
   "id": "a368bc41",
   "metadata": {},
   "source": [
    "### Getting set length\n",
    "We use **len()**  method to find the length of a set."
   ]
  },
  {
   "cell_type": "code",
   "execution_count": null,
   "id": "ae64e5d6",
   "metadata": {
    "attributes": {
     "classes": [
      "py"
     ],
     "id": ""
    }
   },
   "outputs": [],
   "source": [
    "# syntax\n",
    "st = {'item1', 'item2', 'item3', 'item4'}\n",
    "len(set)"
   ]
  },
  {
   "cell_type": "markdown",
   "id": "965d3bc0",
   "metadata": {},
   "source": [
    "**Example:**"
   ]
  },
  {
   "cell_type": "code",
   "execution_count": null,
   "id": "bcc152d3",
   "metadata": {
    "attributes": {
     "classes": [
      "py"
     ],
     "id": ""
    }
   },
   "outputs": [],
   "source": [
    "fruits = {'banana', 'orange', 'mango', 'lemon'}\n",
    "len(fruits)"
   ]
  },
  {
   "cell_type": "markdown",
   "id": "8e7dab3e",
   "metadata": {},
   "source": [
    "### Accessing Items in set\n",
    "We use loops to access items. We will see this in loop section\n",
    "### Checking an item\n",
    "To check if an item exist in a list use use *in*."
   ]
  },
  {
   "cell_type": "code",
   "execution_count": null,
   "id": "ac986564",
   "metadata": {
    "attributes": {
     "classes": [
      "py"
     ],
     "id": ""
    }
   },
   "outputs": [],
   "source": [
    "# syntax\n",
    "st = {'item1', 'item2', 'item3', 'item4'}\n",
    "'item3' in st"
   ]
  },
  {
   "cell_type": "markdown",
   "id": "a074f6fb",
   "metadata": {},
   "source": [
    "**Example:**"
   ]
  },
  {
   "cell_type": "code",
   "execution_count": null,
   "id": "8b9b2df7",
   "metadata": {
    "attributes": {
     "classes": [
      "py"
     ],
     "id": ""
    }
   },
   "outputs": [],
   "source": [
    "fruits = {'banana', 'orange', 'mango', 'lemon'}\n",
    "'mango' in fruits"
   ]
  },
  {
   "cell_type": "markdown",
   "id": "6e196394",
   "metadata": {},
   "source": [
    "### Adding items to a list\n",
    "Once a list is created we can not change an item but we can add additional items.\n",
    "* Add one item using *add()*"
   ]
  },
  {
   "cell_type": "code",
   "execution_count": null,
   "id": "1fe17d27",
   "metadata": {
    "attributes": {
     "classes": [
      "py"
     ],
     "id": ""
    }
   },
   "outputs": [],
   "source": [
    "# syntax\n",
    "st = {'item1', 'item2', 'item3', 'item4'}\n",
    "st.add('item5')"
   ]
  },
  {
   "cell_type": "markdown",
   "id": "4f148950",
   "metadata": {},
   "source": [
    "**Example:**"
   ]
  },
  {
   "cell_type": "code",
   "execution_count": null,
   "id": "76d59466",
   "metadata": {
    "attributes": {
     "classes": [
      "py"
     ],
     "id": ""
    }
   },
   "outputs": [],
   "source": [
    "fruits = {'banana', 'orange', 'mango', 'lemon'}\n",
    "fruits.add('lime')"
   ]
  },
  {
   "cell_type": "markdown",
   "id": "248d4e6d",
   "metadata": {},
   "source": [
    "* Add multiple items or using *update()*"
   ]
  },
  {
   "cell_type": "code",
   "execution_count": null,
   "id": "02be2cb4",
   "metadata": {
    "attributes": {
     "classes": [
      "py"
     ],
     "id": ""
    }
   },
   "outputs": [],
   "source": [
    "# syntax\n",
    "st = {'item1', 'item2', 'item3', 'item4'}\n",
    "st.update(['item5','item6','item7'])"
   ]
  },
  {
   "cell_type": "markdown",
   "id": "194ed4e9",
   "metadata": {},
   "source": [
    "**Example:**"
   ]
  },
  {
   "cell_type": "code",
   "execution_count": null,
   "id": "53f17796",
   "metadata": {
    "attributes": {
     "classes": [
      "py"
     ],
     "id": ""
    }
   },
   "outputs": [],
   "source": [
    "fruits = {'banana', 'orange', 'mango', 'lemon'}\n",
    "vegetables = ('Tomato', 'Potato', 'Cabbage','Onion', 'Carrot')\n",
    "fruits.update(vegetables)"
   ]
  },
  {
   "cell_type": "markdown",
   "id": "1f08ee55",
   "metadata": {},
   "source": [
    "### Removing item from a list\n",
    "We can remove an item from a list using *remove()* method. If the item is not found *remove()* method raise an errors, so it is good to check if the item exist or not. However, *discard() method doesn't raise an error."
   ]
  },
  {
   "cell_type": "code",
   "execution_count": null,
   "id": "7760a947",
   "metadata": {
    "attributes": {
     "classes": [
      "py"
     ],
     "id": ""
    }
   },
   "outputs": [],
   "source": [
    "# syntax\n",
    "st = {'item1', 'item2', 'item3', 'item4'}\n",
    "st.remove('item2\")"
   ]
  },
  {
   "cell_type": "markdown",
   "id": "c53f88aa",
   "metadata": {},
   "source": [
    "**Example:**"
   ]
  },
  {
   "cell_type": "code",
   "execution_count": null,
   "id": "2dc3960f",
   "metadata": {
    "attributes": {
     "classes": [
      "py"
     ],
     "id": ""
    }
   },
   "outputs": [],
   "source": [
    "fruits = {'banana', 'orange', 'mango', 'lemon'}\n",
    "fruits.pop()"
   ]
  },
  {
   "cell_type": "markdown",
   "id": "60e87ef8",
   "metadata": {},
   "source": [
    "### Clearing item in a set\n",
    "If we want to clear or empty the set we use *clear* method."
   ]
  },
  {
   "cell_type": "code",
   "execution_count": null,
   "id": "d16501ae",
   "metadata": {
    "attributes": {
     "classes": [
      "py"
     ],
     "id": ""
    }
   },
   "outputs": [],
   "source": [
    "# syntax\n",
    "st = {'item1', 'item2', 'item3', 'item4'}\n",
    "st.clear()"
   ]
  },
  {
   "cell_type": "markdown",
   "id": "5c5d6945",
   "metadata": {},
   "source": [
    "**Example:**"
   ]
  },
  {
   "cell_type": "code",
   "execution_count": null,
   "id": "b2034657",
   "metadata": {
    "attributes": {
     "classes": [
      "py"
     ],
     "id": ""
    }
   },
   "outputs": [],
   "source": [
    "fruits = {'banana', 'orange', 'mango', 'lemon'}\n",
    "fruits.clear()"
   ]
  },
  {
   "cell_type": "markdown",
   "id": "a98b89ad",
   "metadata": {},
   "source": [
    "### Deleting a set\n",
    "If we want to delete the set itself we use *del* operator."
   ]
  },
  {
   "cell_type": "code",
   "execution_count": null,
   "id": "b8ec3769",
   "metadata": {
    "attributes": {
     "classes": [
      "py"
     ],
     "id": ""
    }
   },
   "outputs": [],
   "source": [
    "# syntax\n",
    "st = {'item1', 'item2', 'item3', 'item4'}\n",
    "del set"
   ]
  },
  {
   "cell_type": "markdown",
   "id": "cae05773",
   "metadata": {},
   "source": [
    "**Example:**"
   ]
  },
  {
   "cell_type": "code",
   "execution_count": null,
   "id": "505b151e",
   "metadata": {
    "attributes": {
     "classes": [
      "py"
     ],
     "id": ""
    }
   },
   "outputs": [],
   "source": [
    "fruits = {'banana', 'orange', 'mango', 'lemon'}\n",
    "del fruits"
   ]
  },
  {
   "cell_type": "markdown",
   "id": "6c459c2b",
   "metadata": {},
   "source": [
    "### Converting list to set\n",
    "We can convert list to set and set to list back. Converting list to set removes duplicates and only unique items will be reserved."
   ]
  },
  {
   "cell_type": "code",
   "execution_count": null,
   "id": "40adcdc2",
   "metadata": {
    "attributes": {
     "classes": [
      "py"
     ],
     "id": ""
    }
   },
   "outputs": [],
   "source": [
    "# syntax\n",
    "lst = ['item1', 'item2', 'item3', 'item4', 'item1']\n",
    "st = set(lst)  # {'item2', 'item4', 'item1', 'item3'}"
   ]
  },
  {
   "cell_type": "markdown",
   "id": "7078ed8e",
   "metadata": {},
   "source": [
    "**Example:**"
   ]
  },
  {
   "cell_type": "code",
   "execution_count": null,
   "id": "21402317",
   "metadata": {
    "attributes": {
     "classes": [
      "py"
     ],
     "id": ""
    }
   },
   "outputs": [],
   "source": [
    "fruits = ['banana', 'orange', 'mango', 'lemon','orange', 'banana']\n",
    "fruits = set(fruits) # {'mango', 'lemon', 'banana', 'orange'}"
   ]
  },
  {
   "cell_type": "markdown",
   "id": "5371d7ff",
   "metadata": {},
   "source": [
    "### Joining sets\n",
    "We can join two using the *union()* or *update() method.\n",
    "* Union\n",
    "This method returns a new set"
   ]
  },
  {
   "cell_type": "code",
   "execution_count": null,
   "id": "cfc0a2f8",
   "metadata": {
    "attributes": {
     "classes": [
      "py"
     ],
     "id": ""
    }
   },
   "outputs": [],
   "source": [
    "# syntax\n",
    "st1 = {'item1', 'item2', 'item3', 'item4'}\n",
    "st2 = {'item5', 'item6', 'item7', 'item8'}\n",
    "st3 = st1.union(st2)"
   ]
  },
  {
   "cell_type": "markdown",
   "id": "8d6fc8fa",
   "metadata": {},
   "source": [
    "**Example:**"
   ]
  },
  {
   "cell_type": "code",
   "execution_count": null,
   "id": "d78e8e6b",
   "metadata": {
    "attributes": {
     "classes": [
      "py"
     ],
     "id": ""
    }
   },
   "outputs": [],
   "source": [
    "fruits = {'banana', 'orange', 'mango', 'lemon'}\n",
    "vegetables = {'Tomato', 'Potato', 'Cabbage','Onion', 'Carrot'}\n",
    "fruits.union(vegetables) # {'lemon', 'Carrot', 'Tomato', 'banana', 'mango', 'orange', 'Cabbage', 'Potato', 'Onion'}"
   ]
  },
  {
   "cell_type": "markdown",
   "id": "7986f0db",
   "metadata": {},
   "source": [
    "* Update\n",
    "This method insert an other set"
   ]
  },
  {
   "cell_type": "code",
   "execution_count": null,
   "id": "72fd3df9",
   "metadata": {
    "attributes": {
     "classes": [
      "py"
     ],
     "id": ""
    }
   },
   "outputs": [],
   "source": [
    "# syntax\n",
    "st1 = {'item1', 'item2', 'item3', 'item4'}\n",
    "st2 = {'item5', 'item6', 'item7', 'item8'}\n",
    "st1.update(st2)"
   ]
  },
  {
   "cell_type": "markdown",
   "id": "c508da0d",
   "metadata": {},
   "source": [
    "**Example:**"
   ]
  },
  {
   "cell_type": "code",
   "execution_count": null,
   "id": "87e6f8ca",
   "metadata": {
    "attributes": {
     "classes": [
      "py"
     ],
     "id": ""
    }
   },
   "outputs": [],
   "source": [
    "fruits = {'banana', 'orange', 'mango', 'lemon'}\n",
    "vegetables = {'Tomato', 'Potato', 'Cabbage','Onion', 'Carrot'}\n",
    "fruits.update(vegetables)\n",
    "print(fruits) # {'lemon', 'Carrot', 'Tomato', 'banana', 'mango', 'orange', 'Cabbage', 'Potato', 'Onion'}"
   ]
  },
  {
   "cell_type": "markdown",
   "id": "2ed076b6",
   "metadata": {},
   "source": [
    "### Finding intersection items\n",
    "Intersection returns a set of items which are in both the sets. See the example"
   ]
  },
  {
   "cell_type": "code",
   "execution_count": null,
   "id": "d2fd8651",
   "metadata": {
    "attributes": {
     "classes": [
      "py"
     ],
     "id": ""
    }
   },
   "outputs": [],
   "source": [
    "# syntax\n",
    "st1 = {'item1', 'item2', 'item3', 'item4'}\n",
    "st2 = {'item3', 'item2'}\n",
    "st1.intersection(st2) # {'item3', 'item2'}"
   ]
  },
  {
   "cell_type": "markdown",
   "id": "ac0fc252",
   "metadata": {},
   "source": [
    "**Example:**"
   ]
  },
  {
   "cell_type": "code",
   "execution_count": null,
   "id": "1aa9721c",
   "metadata": {
    "attributes": {
     "classes": [
      "py"
     ],
     "id": ""
    }
   },
   "outputs": [],
   "source": [
    "whole_numbers = {0, 1, 2, 3, 4, 5, 6, 7, 8, 10}\n",
    "even_numbers = {0, 2, 4, 6, 8, 10}\n",
    "whole_numbers.intersection(even_numbers) # {0, 2, 4, 6, 8, 10}\n",
    "\n",
    "python = {'p', 'y', 't', 'o','n'}\n",
    "dragon = {'d', 'r', 'a', 'g', 'o','n'}\n",
    "python.intersection(dragon)     # {'o', 'n'}"
   ]
  },
  {
   "cell_type": "markdown",
   "id": "768938c4",
   "metadata": {},
   "source": [
    "### Checking subset and super set \n",
    "A set can be a subset or super set of other sets:\n",
    "* Subset: *issubset()*\n",
    "* Super set: *issuperset*"
   ]
  },
  {
   "cell_type": "code",
   "execution_count": null,
   "id": "27e766ae",
   "metadata": {
    "attributes": {
     "classes": [
      "py"
     ],
     "id": ""
    }
   },
   "outputs": [],
   "source": [
    "# syntax\n",
    "st1 = {'item1', 'item2', 'item3', 'item4'}\n",
    "st2 = {'item2', 'item3'}\n",
    "st2.issubset(st1) # True\n",
    "st1.issuperset(st2) # True"
   ]
  },
  {
   "cell_type": "markdown",
   "id": "b2f55fff",
   "metadata": {},
   "source": [
    "**Example:**"
   ]
  },
  {
   "cell_type": "code",
   "execution_count": null,
   "id": "41002cb7",
   "metadata": {
    "attributes": {
     "classes": [
      "py"
     ],
     "id": ""
    }
   },
   "outputs": [],
   "source": [
    "whole_numbers = {0, 1, 2, 3, 4, 5, 6, 7, 8, 9, 10}\n",
    "even_numbers = {0, 2, 4, 6, 8, 10}\n",
    "whole_numbers.issubset(even_numbers) # False, because it is super set\n",
    "whole_numbers.issuperset(even_numbers) # True\n",
    "\n",
    "python = {'p', 'y', 't', 'o','n'}\n",
    "dragon = {'d', 'r', 'a', 'g', 'o','n'}\n",
    "python.issubset(dragon)     # False"
   ]
  },
  {
   "cell_type": "markdown",
   "id": "a42ca1b8",
   "metadata": {},
   "source": [
    "### Checking difference between two sets \n",
    "It return the difference between the two sets."
   ]
  },
  {
   "cell_type": "code",
   "execution_count": null,
   "id": "35b09da0",
   "metadata": {
    "attributes": {
     "classes": [
      "py"
     ],
     "id": ""
    }
   },
   "outputs": [],
   "source": [
    "# syntax\n",
    "st1 = {'item1', 'item2', 'item3', 'item4'}\n",
    "st2 = {'item2', 'item3'}\n",
    "st2.difference(st1) # {'item1', 'item4'} => st1\\st2"
   ]
  },
  {
   "cell_type": "markdown",
   "id": "daae0585",
   "metadata": {},
   "source": [
    "**Example:**"
   ]
  },
  {
   "cell_type": "code",
   "execution_count": null,
   "id": "ee0576e9",
   "metadata": {
    "attributes": {
     "classes": [
      "py"
     ],
     "id": ""
    }
   },
   "outputs": [],
   "source": [
    "whole_numbers = {0, 1, 2, 3, 4, 5, 6, 7, 8, 9, 10}\n",
    "even_numbers = {0, 2, 4, 6, 8, 10}\n",
    "whole_numbers.difference(even_numbers) # {1, 3, 5, 7}\n",
    "\n",
    "python = {'p', 'y', 't', 'o','n'}\n",
    "dragon = {'d', 'r', 'a', 'g', 'o','n'}\n",
    "python.difference(dragon)     # {'p', 'y', 't'}\n",
    "dragon.difference(python)     # {'d', 'r', 'a', 'g'}"
   ]
  },
  {
   "cell_type": "markdown",
   "id": "10725aaf",
   "metadata": {},
   "source": [
    "### Finding Symmetric difference between two sets \n",
    "It return the the symmetric difference between the two sets, it means that it return a set that contains all items from both sets, except items that are present in both set, mathematically: (A\\B) U (B\\A)"
   ]
  },
  {
   "cell_type": "code",
   "execution_count": null,
   "id": "de4d34f1",
   "metadata": {
    "attributes": {
     "classes": [
      "py"
     ],
     "id": ""
    }
   },
   "outputs": [],
   "source": [
    "# syntax\n",
    "st1 = {'item1', 'item2', 'item3', 'item4'}\n",
    "st2 = {'item2', 'item3'}\n",
    "# it mean (A\\B)U(B)\n",
    "st2.symmetric_difference(st1) # {'item1', 'item4'}"
   ]
  },
  {
   "cell_type": "markdown",
   "id": "2558a339",
   "metadata": {},
   "source": [
    "**Example:**"
   ]
  },
  {
   "cell_type": "code",
   "execution_count": null,
   "id": "8253eb08",
   "metadata": {
    "attributes": {
     "classes": [
      "py"
     ],
     "id": ""
    }
   },
   "outputs": [],
   "source": [
    "whole_numbers = {0, 1, 2, 3, 4, 5, 6, 7, 8, 9, 10}\n",
    "even_numbers = {1, 2, 3, 4, 5}\n",
    "whole_numbers.symmetric_difference(even_numbers) # {0, 6, 7, 8, 9, 10}\n",
    "\n",
    "python = {'p', 'y', 't', 'o','n'}\n",
    "dragon = {'d', 'r', 'a', 'g', 'o','n'}\n",
    "python.symmetric_difference(dragon)  # {'r', 't', 'p', 'y', 'g', 'a', 'd'}"
   ]
  },
  {
   "cell_type": "markdown",
   "id": "733b811d",
   "metadata": {},
   "source": [
    "### Joining set\n",
    "If two set do not have common item or items we call it disjoint set. We can check if two sets are joint or disjoint using *isdisjoint()* method."
   ]
  },
  {
   "cell_type": "code",
   "execution_count": null,
   "id": "35f6e114",
   "metadata": {
    "attributes": {
     "classes": [
      "py"
     ],
     "id": ""
    }
   },
   "outputs": [],
   "source": [
    "# syntax\n",
    "st1 = {'item1', 'item2', 'item3', 'item4'}\n",
    "st2 = {'item2', 'item3'}\n",
    "st2.isdisjoint(st1) # False"
   ]
  },
  {
   "cell_type": "markdown",
   "id": "f20c7e9e",
   "metadata": {},
   "source": [
    "**Example:**"
   ]
  },
  {
   "cell_type": "code",
   "execution_count": null,
   "id": "c4238e10",
   "metadata": {
    "attributes": {
     "classes": [
      "py"
     ],
     "id": ""
    }
   },
   "outputs": [],
   "source": [
    "even_numbers = {0, 2, 4 ,6, 8}\n",
    "even_numbers = {1, 3, 5, 7, 9}\n",
    "even_numbers.isdisjoint(odd_numbers) # True, because no common item\n",
    "\n",
    "python = {'p', 'y', 't', 'o','n'}\n",
    "dragon = {'d', 'r', 'a', 'g', 'o','n'}\n",
    "python.disjoint(dragon)  # False, there is common items {'o', 'n'}"
   ]
  },
  {
   "cell_type": "markdown",
   "id": "b26891f5",
   "metadata": {},
   "source": [
    "## 💻 Exercises: Day 7"
   ]
  },
  {
   "cell_type": "code",
   "execution_count": null,
   "id": "a6f78e96",
   "metadata": {
    "attributes": {
     "classes": [
      "py"
     ],
     "id": ""
    }
   },
   "outputs": [],
   "source": [
    "# sets\n",
    "it_companies = {'Facebook', 'Google', 'Microsoft', 'Apple', 'IBM', 'Oracle', 'Amazon'}\n",
    "A = {19, 22, 24, 20, 25, 26}\n",
    "B = {19, 22, 20, 25, 26, 24, 28, 27}\n",
    "age = [22, 19, 24, 25, 26, 24, 25, 24]"
   ]
  },
  {
   "cell_type": "markdown",
   "id": "8579c46a",
   "metadata": {},
   "source": [
    "1. Find the length of the set, it_companies\n",
    "2. Add 'Twitter' to it companies\n",
    "3. Insert multiple it companies at once to the set, it_companies\n",
    "4. Remove one of the companies from the set, it_companies\n",
    "5. What is the difference between remove and discard\n",
    "6. Join A and B\n",
    "7. Find A intersection B\n",
    "8. Is A subset of B\n",
    "9. Are A and B disjoint sets\n",
    "10. Join A with B and B with A\n",
    "11. What is the symmetric difference between A and B\n",
    "12. Delete the sets completely\n",
    "13. Convert the ages to set and compare the length of the list and the set, which is larger ? \n",
    "14. Explain the difference among the following data types: string, list, tuple and set\n",
    "15. *I am a teacher and I love to inspire and teach people.* How many unique words have been used in the sentence.\n",
    "\n",
    "# 📘 Day 8\n",
    "## Dictionary\n",
    "A dictionary is a collection of unordered, modifiable(mutable) key value paired data type.\n",
    "### Creating a dictionary\n",
    "To create a dictionary we use a curly bracket, {}."
   ]
  },
  {
   "cell_type": "code",
   "execution_count": null,
   "id": "59910091",
   "metadata": {
    "attributes": {
     "classes": [
      "py"
     ],
     "id": ""
    }
   },
   "outputs": [],
   "source": [
    "# syntax\n",
    "empty_dict = {}\n",
    "# Dictionary with data values\n",
    "dct = {'key1':'item1', 'key2':'item2', 'key3':'item3', 'key4':'item4'}"
   ]
  },
  {
   "cell_type": "markdown",
   "id": "92fbce75",
   "metadata": {},
   "source": [
    "**Example:**"
   ]
  },
  {
   "cell_type": "code",
   "execution_count": null,
   "id": "b96304b7",
   "metadata": {
    "attributes": {
     "classes": [
      "py"
     ],
     "id": ""
    }
   },
   "outputs": [],
   "source": [
    "person = {\n",
    "    'first_name':'Asabeneh',\n",
    "    'last_name':'Yetayeh',\n",
    "    'age':250,\n",
    "    'country':'Finland',\n",
    "    'is_marred':True,\n",
    "    'skills':['JavaScript', 'React', 'Node', 'MongoDB', 'Python']\n",
    "    'address':{\n",
    "        'street':'Space street',\n",
    "        'zipcode':'02210'\n",
    "    }\n",
    "    }"
   ]
  },
  {
   "cell_type": "markdown",
   "id": "b45c7208",
   "metadata": {},
   "source": [
    "The dictionary above shows that a value could be any different data type:string, boolean, list, tuple, set or a dictionary.\n",
    "\n",
    "### Dictionary Length\n",
    "It checks the number of key value pairs in the dictionary."
   ]
  },
  {
   "cell_type": "code",
   "execution_count": null,
   "id": "02ca4605",
   "metadata": {
    "attributes": {
     "classes": [
      "py"
     ],
     "id": ""
    }
   },
   "outputs": [],
   "source": [
    "# syntax\n",
    "dct = {'key1':'item1', 'key2':'item2', 'key3':'item3', 'key4':'item4'}\n",
    "print(len(dct)) # 4"
   ]
  },
  {
   "cell_type": "markdown",
   "id": "268f1de7",
   "metadata": {},
   "source": [
    "**Example:**"
   ]
  },
  {
   "cell_type": "code",
   "execution_count": null,
   "id": "65ca6aaa",
   "metadata": {
    "attributes": {
     "classes": [
      "py"
     ],
     "id": ""
    }
   },
   "outputs": [],
   "source": [
    "person = {\n",
    "    'first_name':'Asabeneh',\n",
    "    'last_name':'Yetayeh',\n",
    "    'age':250,\n",
    "    'country':'Finland',\n",
    "    'is_marred':True,\n",
    "    'skills':['JavaScript', 'React', 'Node', 'MongoDB', 'Python'],\n",
    "    'address':{\n",
    "        'street':'Space street',\n",
    "        'zipcode':'02210'\n",
    "    }\n",
    "    }\n",
    "print(len(person)) # 7\n"
   ]
  },
  {
   "cell_type": "markdown",
   "id": "8e3270a7",
   "metadata": {},
   "source": [
    "### Accessing a dictionary items\n",
    "We can access a dictionary items by referring to its key name."
   ]
  },
  {
   "cell_type": "code",
   "execution_count": null,
   "id": "a375de22",
   "metadata": {
    "attributes": {
     "classes": [
      "py"
     ],
     "id": ""
    }
   },
   "outputs": [],
   "source": [
    "# syntax\n",
    "dct = {'key1':'item1', 'key2':'item2', 'key3':'item3', 'key4':'item4'}\n",
    "print(dct['key1']) # item1\n",
    "print(dct['key4']) # item4"
   ]
  },
  {
   "cell_type": "markdown",
   "id": "ebb83271",
   "metadata": {},
   "source": [
    "**Example:**"
   ]
  },
  {
   "cell_type": "code",
   "execution_count": null,
   "id": "6a608b28",
   "metadata": {
    "attributes": {
     "classes": [
      "py"
     ],
     "id": ""
    }
   },
   "outputs": [],
   "source": [
    "person = {\n",
    "    'first_name':'Asabeneh',\n",
    "    'last_name':'Yetayeh',\n",
    "    'age':250,\n",
    "    'country':'Finland',\n",
    "    'is_marred':True,\n",
    "    'skills':['JavaScript', 'React', 'Node', 'MongoDB', 'Python'],\n",
    "    'address':{\n",
    "        'street':'Space street',\n",
    "        'zipcode':'02210'\n",
    "    }\n",
    "    }\n",
    "print(person['first_name']) # Asabeneh\n",
    "print(person['country'])    # Finland\n",
    "print(person['skills'])     # ['HTML','CSS','JavaScript', 'React', 'Node', 'MongoDB', 'Python']\n",
    "print(person['city'])       # Error"
   ]
  },
  {
   "cell_type": "markdown",
   "id": "2744d324",
   "metadata": {},
   "source": [
    "Accessing an item by key name raises an error if the key does not exist. To avoid this error first we have to check if a key exist or we can use the _get_ method.The get method returns None, which is a NoneType object data type.\n",
    "object if the data"
   ]
  },
  {
   "cell_type": "code",
   "execution_count": null,
   "id": "fb76aad1",
   "metadata": {
    "attributes": {
     "classes": [
      "py"
     ],
     "id": ""
    }
   },
   "outputs": [],
   "source": [
    "person = {\n",
    "    'first_name':'Asabeneh',\n",
    "    'last_name':'Yetayeh',\n",
    "    'age':250,\n",
    "    'country':'Finland',\n",
    "    'is_marred':True,\n",
    "    'skills':['JavaScript', 'React', 'Node', 'MongoDB', 'Python'],\n",
    "    'address':{\n",
    "        'street':'Space street',\n",
    "        'zipcode':'02210'\n",
    "    }\n",
    "    }\n",
    "print(person.get('first_name')) # Asabeneh\n",
    "print(person.get('country'))    # Finland\n",
    "print(person.get('skills')) #['HTML','CSS','JavaScript', 'React', 'Node', 'MongoDB', 'Python']\n",
    "print(person.get('city'))   # None"
   ]
  },
  {
   "cell_type": "markdown",
   "id": "4a30b201",
   "metadata": {},
   "source": [
    "### Adding Item to a dictionary\n",
    "\n",
    "We can add new key and value pair to a dictionary"
   ]
  },
  {
   "cell_type": "code",
   "execution_count": null,
   "id": "cd525368",
   "metadata": {
    "attributes": {
     "classes": [
      "py"
     ],
     "id": ""
    }
   },
   "outputs": [],
   "source": [
    "# syntax\n",
    "dct = {'key1':'item1', 'key2':'item2', 'key3':'item3', 'key4':'item4'}\n",
    "dct['key5'] = 'item5'"
   ]
  },
  {
   "cell_type": "markdown",
   "id": "7637bd51",
   "metadata": {},
   "source": [
    "**Example:**"
   ]
  },
  {
   "cell_type": "code",
   "execution_count": null,
   "id": "944e44ab",
   "metadata": {
    "attributes": {
     "classes": [
      "py"
     ],
     "id": ""
    }
   },
   "outputs": [],
   "source": [
    "person = {\n",
    "    'first_name':'Asabeneh',\n",
    "    'last_name':'Yetayeh',\n",
    "    'age':250,\n",
    "    'country':'Finland',\n",
    "    'is_marred':True,\n",
    "    'skills':['JavaScript', 'React', 'Node', 'MongoDB', 'Python'],\n",
    "    'address':{\n",
    "        'street':'Space street',\n",
    "        'zipcode':'02210'\n",
    "        }\n",
    "}\n",
    "person['job_title'] = 'Instructor'\n",
    "person['skills'].append('HTML')\n",
    "print(person)"
   ]
  },
  {
   "cell_type": "markdown",
   "id": "81e83f7c",
   "metadata": {},
   "source": [
    "### Modifying Item in a dictionary\n",
    "We can add modify item in a dictionary"
   ]
  },
  {
   "cell_type": "code",
   "execution_count": null,
   "id": "a079ebb7",
   "metadata": {
    "attributes": {
     "classes": [
      "py"
     ],
     "id": ""
    }
   },
   "outputs": [],
   "source": [
    "# syntax\n",
    "dct = {'key1':'item1', 'key2':'item2', 'key3':'item3', 'key4':'item4'}\n",
    "dct['key1'] = 'item-one'"
   ]
  },
  {
   "cell_type": "markdown",
   "id": "a296c670",
   "metadata": {},
   "source": [
    "**Example:**"
   ]
  },
  {
   "cell_type": "code",
   "execution_count": null,
   "id": "2556dc4b",
   "metadata": {
    "attributes": {
     "classes": [
      "py"
     ],
     "id": ""
    }
   },
   "outputs": [],
   "source": [
    "person = {\n",
    "    'first_name':'Asabeneh',\n",
    "    'last_name':'Yetayeh',\n",
    "    'age':250,\n",
    "    'country':'Finland',\n",
    "    'is_marred':True,\n",
    "    'skills':['JavaScript', 'React', 'Node', 'MongoDB', 'Python'],\n",
    "    'address':{\n",
    "        'street':'Space street',\n",
    "        'zipcode':'02210'\n",
    "    }\n",
    "    }\n",
    "person['first_name'] = 'Eyob'\n",
    "person['age']"
   ]
  },
  {
   "cell_type": "markdown",
   "id": "f7798f7b",
   "metadata": {},
   "source": [
    "### Checking a key in a dictionary\n",
    "We use the _in_ operator to check if a key exist in a dictionary"
   ]
  },
  {
   "cell_type": "code",
   "execution_count": null,
   "id": "37b3ebad",
   "metadata": {
    "attributes": {
     "classes": [
      "py"
     ],
     "id": ""
    }
   },
   "outputs": [],
   "source": [
    "# syntax\n",
    "dct = {'key1':'item1', 'key2':'item2', 'key3':'item3', 'key4':'item4'}\n",
    "print('key2' in dct) # True\n",
    "print('key5' in dct) # False"
   ]
  },
  {
   "cell_type": "markdown",
   "id": "6a7a6a8f",
   "metadata": {},
   "source": [
    "### Removing key items from dictionary\n",
    "\n",
    "- _pop(key)_: removes the item with the specified key name:\n",
    "- _popitem()_: remove the last time\n",
    "- _del_: removes the item with the specified key name"
   ]
  },
  {
   "cell_type": "code",
   "execution_count": null,
   "id": "6a77383f",
   "metadata": {
    "attributes": {
     "classes": [
      "py"
     ],
     "id": ""
    }
   },
   "outputs": [],
   "source": [
    "# syntax\n",
    "dct = {'key1':'item1', 'key2':'item2', 'key3':'item3', 'key4':'item4'}\n",
    "dct.pop('key1') # the first key pair removed\n",
    "dct = {'key1':'item1', 'key2':'item2', 'key3':'item3', 'key4':'item4'}\n",
    "dct.popitem() # remove the last item\n",
    "del dct['key2'] # remove key 2 item"
   ]
  },
  {
   "cell_type": "markdown",
   "id": "438efd75",
   "metadata": {},
   "source": [
    "**Example:**"
   ]
  },
  {
   "cell_type": "code",
   "execution_count": null,
   "id": "9ab13ee1",
   "metadata": {
    "attributes": {
     "classes": [
      "py"
     ],
     "id": ""
    }
   },
   "outputs": [],
   "source": [
    "person = {\n",
    "    'first_name':'Asabeneh',\n",
    "    'last_name':'Yetayeh',\n",
    "    'age':250,\n",
    "    'country':'Finland',\n",
    "    'is_marred':True,\n",
    "    'skills':['JavaScript', 'React', 'Node', 'MongoDB', 'Python'],\n",
    "    'address':{\n",
    "        'street':'Space street',\n",
    "        'zipcode':'02210'\n",
    "    }\n",
    "    }\n",
    "person.pop('first_name')        # Remove the firstname item\n",
    "person.popitem()                # Remove the lastname item\n",
    "del person['is_married']        # Remove the is_married item"
   ]
  },
  {
   "cell_type": "markdown",
   "id": "9a5f6eb8",
   "metadata": {},
   "source": [
    "### Changing dictionary to list items\n",
    "The *items()* method change a dictionary to list of tuples."
   ]
  },
  {
   "cell_type": "code",
   "execution_count": null,
   "id": "a349dddf",
   "metadata": {
    "attributes": {
     "classes": [
      "py"
     ],
     "id": ""
    }
   },
   "outputs": [],
   "source": [
    "# syntax\n",
    "dct = {'key1':'item1', 'key2':'item2', 'key3':'item3', 'key4':'item4'}\n",
    "print(dct.items()) # dict_items([('key1', 'item1'), ('key2', 'item2'), ('key3', 'item3'), ('key4', 'item4')])"
   ]
  },
  {
   "cell_type": "markdown",
   "id": "c404f109",
   "metadata": {},
   "source": [
    "### Clearing dictionary list items\n",
    "If we don't want the items in a dictionary we can clear them using _clear()_ methods"
   ]
  },
  {
   "cell_type": "code",
   "execution_count": null,
   "id": "04e2c841",
   "metadata": {
    "attributes": {
     "classes": [
      "py"
     ],
     "id": ""
    }
   },
   "outputs": [],
   "source": [
    "# syntax\n",
    "dct = {'key1':'item1', 'key2':'item2', 'key3':'item3', 'key4':'item4'}\n",
    "print(dct.clear()) # {}"
   ]
  },
  {
   "cell_type": "markdown",
   "id": "d2f3477e",
   "metadata": {},
   "source": [
    "### Deleting dictionary\n",
    "If we do not use the dictionary we can delete it completely"
   ]
  },
  {
   "cell_type": "code",
   "execution_count": null,
   "id": "ea43d796",
   "metadata": {
    "attributes": {
     "classes": [
      "py"
     ],
     "id": ""
    }
   },
   "outputs": [],
   "source": [
    "# syntax\n",
    "dct = {'key1':'item1', 'key2':'item2', 'key3':'item3', 'key4':'item4'}\n",
    "del dct"
   ]
  },
  {
   "cell_type": "markdown",
   "id": "17c2f95e",
   "metadata": {},
   "source": [
    "### Copy a dictionary\n",
    "We copy a dictionary using a _copy()_ method. Using copy we can avoid mutation of the original dictionary."
   ]
  },
  {
   "cell_type": "code",
   "execution_count": null,
   "id": "ff4358f1",
   "metadata": {
    "attributes": {
     "classes": [
      "py"
     ],
     "id": ""
    }
   },
   "outputs": [],
   "source": [
    "# syntax\n",
    "dct = {'key1':'item1', 'key2':'item2', 'key3':'item3', 'key4':'item4'}\n",
    "dct_copy = dct.copy() # {'key1':'item1', 'key2':'item2', 'key3':'item3', 'key4':'item4'}"
   ]
  },
  {
   "cell_type": "markdown",
   "id": "bbe7671e",
   "metadata": {},
   "source": [
    "### Getting dictionary keys as list\n",
    "The _keys()_ method gives us all the keys of a a dictionary as a list."
   ]
  },
  {
   "cell_type": "code",
   "execution_count": null,
   "id": "76dab620",
   "metadata": {
    "attributes": {
     "classes": [
      "py"
     ],
     "id": ""
    }
   },
   "outputs": [],
   "source": [
    "# syntax\n",
    "dct = {'key1':'item1', 'key2':'item2', 'key3':'item3', 'key4':'item4'}\n",
    "keys = dct.keys()\n",
    "print(keys)     # dict_keys(['key1', 'key2', 'key3', 'key4'])"
   ]
  },
  {
   "cell_type": "markdown",
   "id": "4d592514",
   "metadata": {},
   "source": [
    "### Getting dictionary values as list\n",
    "The _values_ method gives us all the values of a a dictionary as a list."
   ]
  },
  {
   "cell_type": "code",
   "execution_count": null,
   "id": "95beeb9b",
   "metadata": {
    "attributes": {
     "classes": [
      "py"
     ],
     "id": ""
    }
   },
   "outputs": [],
   "source": [
    "# syntax\n",
    "dct = {'key1':'item1', 'key2':'item2', 'key3':'item3', 'key4':'item4'}\n",
    "values = dct.values()\n",
    "print(values)     # dict_values(['item1', 'item2', 'item3', 'item4'])"
   ]
  },
  {
   "cell_type": "markdown",
   "id": "3572cb64",
   "metadata": {},
   "source": [
    "## 💻 Exercises: Day 8\n",
    "1. Create a an empty dictionary called dog\n",
    "2. Add name, color, breed, legs, age to the dog, dictionary\n",
    "3. Create a student dictionary and add first_name, last_name, gender, age, marital status, skills, country, city and address as key for the dictionary\n",
    "4. Get the length of student dictionary\n",
    "5. Get the value of skills and check the data type, it should be list\n",
    "6. Modify the skills value by adding one or two skills\n",
    "7. Get the dictionary keys as list\n",
    "8. Get the dictionary values as list\n",
    "9. Change the dictionary to a list of tuples using *items() method\n",
    "10. Delete one of the item in the dictionary\n",
    "11. Delete the dictionary completely\n",
    "\n",
    "\n",
    "# 📘 Day 9\n",
    "## Conditionals\n",
    "By default , statements in python script executed sequentially from top to bottom. If the processing logic require so, the sequential flow of execution can be altered in two way:\n",
    "* Conditional execution: a block of one or more statements will be executed if a certain expression is true\n",
    "* Repetitive execution: a block of one or more statements will be repetitively executed as long as a certain expression is true. In this section, we will cover *if*, *else* , *elif* statements. The comparison and logical operator we learned in the previous sections will be useful here. \n",
    "\n",
    "### If condition\n",
    "In python and other programming languages the key word *if* use to check if a condition is true and to execute the block code. Remember the indentation after the colon."
   ]
  },
  {
   "cell_type": "code",
   "execution_count": null,
   "id": "5f214e3c",
   "metadata": {
    "attributes": {
     "classes": [
      "py"
     ],
     "id": ""
    }
   },
   "outputs": [],
   "source": [
    "# syntax\n",
    "if condition:\n",
    "    this part of code run for truthy condition"
   ]
  },
  {
   "cell_type": "markdown",
   "id": "3138a9af",
   "metadata": {},
   "source": [
    "**Example:**"
   ]
  },
  {
   "cell_type": "code",
   "execution_count": null,
   "id": "c9b4428d",
   "metadata": {
    "attributes": {
     "classes": [
      "py"
     ],
     "id": ""
    }
   },
   "outputs": [],
   "source": [
    "a = 3\n",
    "if a > 0:\n",
    "    print('A is a positive number')\n",
    "# a is a positive number"
   ]
  },
  {
   "cell_type": "markdown",
   "id": "3d7027c5",
   "metadata": {},
   "source": [
    "As you can see in the above condition, 3 is greater than 0 and it is a positive number. The condition was true and the block code was executed. However, if the condition is false, we do not see a result. In order to see the result of the falsy condition, we should have another block, which is going to be *else*.\n",
    "\n",
    "### If Else\n",
    "If condition is true the first block will be executed, if not the else condition will run."
   ]
  },
  {
   "cell_type": "code",
   "execution_count": null,
   "id": "3ebb220b",
   "metadata": {
    "attributes": {
     "classes": [
      "py"
     ],
     "id": ""
    }
   },
   "outputs": [],
   "source": [
    "# syntax\n",
    "if condition:\n",
    "    this part of code run for truthy condition\n",
    "else:\n",
    "     this part of code run for false condition"
   ]
  },
  {
   "cell_type": "markdown",
   "id": "59c52554",
   "metadata": {},
   "source": [
    "**Example:**"
   ]
  },
  {
   "cell_type": "code",
   "execution_count": null,
   "id": "c13e5235",
   "metadata": {
    "attributes": {
     "classes": [
      "py"
     ],
     "id": ""
    }
   },
   "outputs": [],
   "source": [
    "a = 3\n",
    "if a < 0:\n",
    "    print('A is a positive number')\n",
    "else:\n",
    "    print('A is a negative number')"
   ]
  },
  {
   "cell_type": "markdown",
   "id": "5cac29e2",
   "metadata": {},
   "source": [
    "The above condition is false, therefore the else block was executed. How about if our condition is more than two, we will use *elif*.\n",
    "### If elif else\n",
    "On our daily life, we make decision on daily basis. We make decision not by checking  one or two conditions instead multiple conditions. As similar to life, programming is also full conditions. We use *elif* when we have multiple conditions."
   ]
  },
  {
   "cell_type": "code",
   "execution_count": null,
   "id": "20c23a67",
   "metadata": {
    "attributes": {
     "classes": [
      "py"
     ],
     "id": ""
    }
   },
   "outputs": [],
   "source": [
    "# syntax\n",
    "if condition:\n",
    "    code\n",
    "elif condition:\n",
    "    code\n",
    "else:\n",
    "    code\n"
   ]
  },
  {
   "cell_type": "markdown",
   "id": "31a9257b",
   "metadata": {},
   "source": [
    "**Example:**"
   ]
  },
  {
   "cell_type": "code",
   "execution_count": null,
   "id": "bcffb435",
   "metadata": {
    "attributes": {
     "classes": [
      "py"
     ],
     "id": ""
    }
   },
   "outputs": [],
   "source": [
    "a = 0\n",
    "if a > 0:\n",
    "    print('A is a positive number')\n",
    "elif a < 0:\n",
    "    print('A is a negative number')\n",
    "else:\n",
    "    print('A is zero')"
   ]
  },
  {
   "cell_type": "markdown",
   "id": "8d7092b8",
   "metadata": {},
   "source": [
    "### Short Hand"
   ]
  },
  {
   "cell_type": "code",
   "execution_count": null,
   "id": "7ce8dbf2",
   "metadata": {
    "attributes": {
     "classes": [
      "py"
     ],
     "id": ""
    }
   },
   "outputs": [],
   "source": [
    "# syntax\n",
    "code if condition else code"
   ]
  },
  {
   "cell_type": "markdown",
   "id": "0484b9bf",
   "metadata": {},
   "source": [
    "**Example:**"
   ]
  },
  {
   "cell_type": "code",
   "execution_count": null,
   "id": "f3ea1cfd",
   "metadata": {
    "attributes": {
     "classes": [
      "py"
     ],
     "id": ""
    }
   },
   "outputs": [],
   "source": [
    "a = 3\n",
    "print('A is positive') if a > 0 else print('A is negative')"
   ]
  },
  {
   "cell_type": "markdown",
   "id": "86e800d8",
   "metadata": {},
   "source": [
    "### Nested condition\n",
    "Condition can be nested"
   ]
  },
  {
   "cell_type": "code",
   "execution_count": null,
   "id": "72367073",
   "metadata": {
    "attributes": {
     "classes": [
      "py"
     ],
     "id": ""
    }
   },
   "outputs": [],
   "source": [
    "# syntax\n",
    "if condition:\n",
    "    code\n",
    "    if condition:\n",
    "    code"
   ]
  },
  {
   "cell_type": "markdown",
   "id": "deae90c0",
   "metadata": {},
   "source": [
    "**Example:**"
   ]
  },
  {
   "cell_type": "code",
   "execution_count": null,
   "id": "0be9760f",
   "metadata": {
    "attributes": {
     "classes": [
      "py"
     ],
     "id": ""
    }
   },
   "outputs": [],
   "source": [
    "a = 0\n",
    "if a > 0:\n",
    "    if a % 2 == 0:\n",
    "        print('A is positive even integer')\n",
    "    else:\n",
    "        print('A positive number')\n",
    "elif a == 0:\n",
    "    print('Zero')\n",
    "else:\n",
    "    print('A negative number')\n"
   ]
  },
  {
   "cell_type": "markdown",
   "id": "ab5992b7",
   "metadata": {},
   "source": [
    "We can avoid writing nested condition by using logical operator, *and*.\n",
    "\n",
    "### If condition and and logical operator"
   ]
  },
  {
   "cell_type": "code",
   "execution_count": null,
   "id": "5d34fd48",
   "metadata": {
    "attributes": {
     "classes": [
      "py"
     ],
     "id": ""
    }
   },
   "outputs": [],
   "source": [
    "# syntax\n",
    "if condition and condition:\n",
    "    code"
   ]
  },
  {
   "cell_type": "markdown",
   "id": "f8960c27",
   "metadata": {},
   "source": [
    "**Example:**"
   ]
  },
  {
   "cell_type": "code",
   "execution_count": null,
   "id": "90635800",
   "metadata": {
    "attributes": {
     "classes": [
      "py"
     ],
     "id": ""
    }
   },
   "outputs": [],
   "source": [
    "a = 0\n",
    "if a > 0 and a % 2 == 0:\n",
    "        print('A is even positive integer')\n",
    "elif a > 0 and a % 2 !== 0:\n",
    "     print('A is positive integer') \n",
    "elif a == 0:\n",
    "    print('Zero')\n",
    "else:\n",
    "    print('A negative number')"
   ]
  },
  {
   "cell_type": "markdown",
   "id": "ae79da68",
   "metadata": {},
   "source": [
    "### If and or logical operator"
   ]
  },
  {
   "cell_type": "code",
   "execution_count": null,
   "id": "6045b378",
   "metadata": {
    "attributes": {
     "classes": [
      "py"
     ],
     "id": ""
    }
   },
   "outputs": [],
   "source": [
    "# syntax\n",
    "if condition or condition:\n",
    "    code"
   ]
  },
  {
   "cell_type": "markdown",
   "id": "d512a027",
   "metadata": {},
   "source": [
    "**Example:**"
   ]
  },
  {
   "cell_type": "code",
   "execution_count": null,
   "id": "7520ed9f",
   "metadata": {
    "attributes": {
     "classes": [
      "py"
     ],
     "id": ""
    }
   },
   "outputs": [],
   "source": [
    "a = 0\n",
    "if a > 0 or  % 2 == 0:\n",
    "        print('A is positive integer')\n",
    "elif a == 0:\n",
    "    print('Zero')\n",
    "else:\n",
    "    print('A negative number')"
   ]
  },
  {
   "cell_type": "markdown",
   "id": "6b904892",
   "metadata": {},
   "source": [
    "## 💻 Exercises: Day 9\n",
    "1. Get user input using input(“Enter your age:”). If user is 18 or older , give feedback:You are old enough to drive but if not 18 give feedback to wait for the years he supposed to wait for. Output:\n",
    "    ```sh\n",
    "    Enter your age: 30\n",
    "    You are old enough to drive.\n",
    "    Output:\n",
    "    Enter your age:15\n",
    "    You are left with 3 years to drive.\n",
    "    ```\n",
    "1. Compare the values of my_age and your_age using if … else. Based on the comparison print who is older (me or you). Use input(“Enter your age:”) to get the age as input. Output:\n",
    "    ```sh\n",
    "    Enter your age: 30\n",
    "    You are 5 years older than me.\n",
    "    ```\n",
    "1. Get two numbers from user using, input prompt. If a is greater than b return a is greater than b,if a is less b return a lesson b,  else a is equal to b. Output:\n",
    "    ```sh\n",
    "    Enter number one: 4\n",
    "    Enter number two: 3\n",
    "    4 is greater than 3\n",
    "    ```\n",
    "1. Write a code which give grade to students according to theirs scores:\n",
    "    ```sh\n",
    "    80-100, A\n",
    "    70-89, B\n",
    "    60-69, C\n",
    "    50-59, D\n",
    "    0 -49, F\n",
    "    ```\n",
    "1. Check if the season is Autumn, Winter, Spring or Summer. If the user input is:\n",
    "September, October or November, the season is Autumn.\n",
    "December, January or February, the season is Winter.\n",
    "March, April or May, the season is Spring\n",
    "June, July or August, the season is Summer\n",
    "1. The following list contains some fruits:\n",
    "    ```sh\n",
    "    fruits = ['banana', 'orange', 'mango', 'lemon']\n",
    "    ```\n",
    "    If a fruit doesn't exist in the list add the fruit in the list and print the modified list but if the fruit exists print('A fruit already exist in the list')\n",
    "1. Here we have a person dictionary. \n",
    "    ```py\n",
    "    person = {\n",
    "    'first_name':'Asabeneh',\n",
    "    'last_name':'Yetayeh',\n",
    "    'age':250,\n",
    "    'country':'Finland',\n",
    "    'is_marred':True,\n",
    "    'skills':['JavaScript', 'React', 'Node', 'MongoDB', 'Python'],\n",
    "    'address':{\n",
    "        'street':'Space street',\n",
    "        'zipcode':'02210'\n",
    "    }\n",
    "    }\n",
    "    ```\n",
    "* Check if the person dictionary has skills,  if it has skills key check print out the middle skill in the skills list.\n",
    "* Check if the person dictionary has skills,  if it has skills key check if the person has 'Python' skill and print the skill.\n",
    "* If a person skills has only JavaScript and React,  print('He is a front end developer'), if the person skills has Node, Python, MongoDB, print ('He is a backend developer'), if the person skills has React, Node and MongoDB, Print('He is a fullstack developer'), else print('unknown title') \n",
    "* If the person is married and if he lives in Finland, print the following: \n",
    "    ```py\n",
    "    Asabeneh Yetayeh lives in Finland. He is married.\n",
    "    ```\n",
    "[<< Part 2 ](https://github.com/Asabeneh/30-Days-Of-Python/blob/master/readme4-6.md) | [Part 4 >>](https://github.com/Asabeneh/30-Days-Of-Python/blob/master/readme10-12.md)\n",
    "***"
   ]
  }
 ],
 "metadata": {},
 "nbformat": 4,
 "nbformat_minor": 5
}
