{
 "cells": [
  {
   "cell_type": "markdown",
   "id": "ef5bf3dc",
   "metadata": {},
   "source": [
    "![30DaysOfPython](./images/30DaysOfPython_banner3@2x.png)\n",
    "\n",
    "🧳 [Part 1: Day 1 - 3](https://github.com/Asabeneh/30-Days-Of-Python)  \n",
    "🧳 [Part 2: Day 4 - 6](https://github.com/Asabeneh/30-Days-Of-Python/blob/master/readme4-6.md)  \n",
    "🧳 [Part 3: Day 7 - 9](https://github.com/Asabeneh/30-Days-Of-Python/blob/master/readme7-9.md)  \n",
    "🧳 [Part 4: Day 10 - 12](https://github.com/Asabeneh/30-Days-Of-Python/blob/master/readme10-12.md)  \n",
    "🧳 [Part 5: Day 13 - 15](https://github.com/Asabeneh/30-Days-Of-Python/blob/master/readme13-15.md)  \n",
    "🧳 [Part 6: Day 16 - 18](https://github.com/Asabeneh/30-Days-Of-Python/blob/master/readme16-18.md)  \n",
    "🧳 [Part 7: Day 19 - 21](https://github.com/Asabeneh/30-Days-Of-Python/blob/master/readme19-21.md)  \n",
    "🧳 [Part 8: Day 22 - 24](https://github.com/Asabeneh/30-Days-Of-Python/blob/master/readme22-24.md)  \n",
    "🧳 [Part 9: Day 25 - 27](https://github.com/Asabeneh/30-Days-Of-Python/blob/master/readme25-27.md)  \n",
    "🧳 [Part 10: Day 28 - 30](https://github.com/Asabeneh/30-Days-Of-Python/blob/master/readme28-30.md) \n",
    "\n",
    "---\n",
    "- [Day 4](#day-4)\n",
    "  - [String](#string)\n",
    "    - [Creating a string](#creating-a-string)\n",
    "    - [String Concatenation](#string-concatenation)\n",
    "    - [Escape Sequences in string](#escape-sequences-in-string)\n",
    "    - [String formating](#string-formating)\n",
    "      - [Old Style String Formatting (% Operator)](#old-style-string-formatting--operator)\n",
    "      - [New Style String Formatting (str.format)](#new-style-string-formatting-strformat)\n",
    "      - [String Interpolation / f-Strings (Python 3.6+)](#string-interpolation--f-strings-python-36)\n",
    "    - [Python strings as sequences of characters](#python-strings-as-sequences-of-characters)\n",
    "      - [Unpacking characters](#unpacking-characters)\n",
    "      - [Accessing characters in strings by index](#accessing-characters-in-strings-by-index)\n",
    "      - [Slicing Python Strings](#slicing-python-strings)\n",
    "      - [Reversing a string](#reversing-a-string)\n",
    "      - [Skipping characters while slicing](#skipping-characters-while-slicing)\n",
    "    - [String Methods](#string-methods)\n",
    "  - [💻 Exercises - Day 4](#%f0%9f%92%bb-exercises---day-4)\n",
    "- [Day 5](#day-5)\n",
    "  - [Lists](#lists)\n",
    "    - [How to create a list](#how-to-create-a-list)\n",
    "    - [Accessing list items using positive indexing](#accessing-list-items-using-positive-indexing)\n",
    "    - [Accessing list items using negative indexing](#accessing-list-items-using-negative-indexing)\n",
    "    - [Unpacking list items](#unpacking-list-items)\n",
    "    - [Slicing  items from list](#slicing-items-from-list)\n",
    "    - [Modifying list](#modifying-list)\n",
    "    - [Check items in a list](#check-items-in-a-list)\n",
    "    - [Adding item in a list](#adding-item-in-a-list)\n",
    "    - [Inserting item in to a list](#inserting-item-in-to-a-list)\n",
    "    - [Removing item from list](#removing-item-from-list)\n",
    "    - [Removing item using pop](#removing-item-using-pop)\n",
    "    - [Removing item using del](#removing-item-using-del)\n",
    "    - [Clearing list items](#clearing-list-items)\n",
    "    - [Copying  a list](#copying-a-list)\n",
    "    - [Joining lists](#joining-lists)\n",
    "    - [Counting Items in a list](#counting-items-in-a-list)\n",
    "    - [Finding index of an item](#finding-index-of-an-item)\n",
    "    - [Reversing a list](#reversing-a-list)\n",
    "    - [Sorting list items](#sorting-list-items)\n",
    "  - [💻 Exercises: Day 5](#%f0%9f%92%bb-exercises-day-5)\n",
    "- [Day 6:](#day-6)\n",
    "  - [Tuple](#tuple)\n",
    "    - [Creating Tuple](#creating-tuple)\n",
    "    - [Tuple length](#tuple-length)\n",
    "    - [Accessing tuple items](#accessing-tuple-items)\n",
    "    - [Slicing tuples](#slicing-tuples)\n",
    "    - [Changing tuples to list](#changing-tuples-to-list)\n",
    "    - [Checking an item in a list](#checking-an-item-in-a-list)\n",
    "    - [Joining tuples](#joining-tuples)\n",
    "    - [Deleting tuple](#deleting-tuple)\n",
    "  - [💻 Exercises: Day 6](#%f0%9f%92%bb-exercises-day-6)\n",
    "\n",
    "# Day 4\n",
    "\n",
    "## String\n",
    "\n",
    "Text is a string data type. Any data type written as text is a string. Any data under single or double quote are strings. There are different string methods and built-in functions to deal with string data types. To check the length of a string use the len() method.\n",
    "\n",
    "### Creating a string"
   ]
  },
  {
   "cell_type": "code",
   "execution_count": null,
   "id": "7fc7e7b0",
   "metadata": {
    "attributes": {
     "classes": [
      "py"
     ],
     "id": ""
    }
   },
   "outputs": [],
   "source": [
    "letter = 'P'                # A string could be a single character or a bunch of texts\n",
    "print(letter)               # P\n",
    "print(len(letter))          # 1\n",
    "greeting = 'Hello, World!'  # String could be  a single or double quote,\"Hello, World!\"\n",
    "print(greeting)             # Hello, World!\n",
    "print(len(greeting))        # 13\n",
    "sentence = \"I hope you are enjoying 30 days of python challenge\"\n",
    "print(sentence)"
   ]
  },
  {
   "cell_type": "markdown",
   "id": "38c2e37b",
   "metadata": {},
   "source": [
    "Multiline string is created by using triple ''' or  quotes.See the example below."
   ]
  },
  {
   "cell_type": "code",
   "execution_count": null,
   "id": "da2e93bc",
   "metadata": {
    "attributes": {
     "classes": [
      "py"
     ],
     "id": ""
    }
   },
   "outputs": [],
   "source": [
    "multiline_string = '''I am a teacher and enjoy teaching.\n",
    "I didn't find anything as rewarding as empowering people.\n",
    "That is why I created 30 days of python.'''\n",
    "print(multiline_string)\n",
    "# Another way of doing the same thing\n",
    "multiline_string = \"\"\"I am a teacher and enjoy teaching.\n",
    "I didn't find anything as rewarding as empowering people.\n",
    "That is why I created 30 days of python.\"\"\"\n",
    "print(multiline_string)"
   ]
  },
  {
   "cell_type": "markdown",
   "id": "4fe95137",
   "metadata": {},
   "source": [
    "### String Concatenation\n",
    "\n",
    "We can connect to strings together. Merging or connecting to strings together is called concatenation.See the example below\n",
    "\n",
    "  ```py\n",
    "  first_name = 'Asabeneh'\n",
    "  last_name = 'Yetayeh'\n",
    "  space = ' '\n",
    "  full_name = first_name  +  space + last_name\n",
    "  print(full_name) # Asabeneh Yetayeh\n",
    "  # Checking length of a string using len() builtin function\n",
    "  print(len(first_name))  # 8\n",
    "  print(len(last_name))   # 7\n",
    "  print(len(first_name) > len(last_name)) # True\n",
    "  print(len(full_name)) # 15\n",
    "  ```\n",
    "\n",
    "### Escape Sequences in string\n",
    "\n",
    "In python and other programming language \\ followed by a character. Let's see the most common escape characters:\n",
    "\n",
    "* \\n: new line\n",
    "* \\t: Tab means(8 spaces)\n",
    "* \\\\\\\\: Back slash\n",
    "* \\\\': Single quote (')\n",
    "* \\\\\":Double quote (\")"
   ]
  },
  {
   "cell_type": "code",
   "execution_count": null,
   "id": "a19d95aa",
   "metadata": {
    "attributes": {
     "classes": [
      "py"
     ],
     "id": ""
    }
   },
   "outputs": [],
   "source": [
    "print('I hope every one enjoying the python challenge.\\nDo you ?') # line break\n",
    "print('Days\\tTopics\\tExercises')\n",
    "print('Day 1\\t3\\t5')\n",
    "print('Day 2\\t3\\t5')\n",
    "print('Day 3\\t3\\t5')\n",
    "print('Day 4\\t3\\t5')\n",
    "print('This is a back slash  symbol (\\\\)') # To write a back slash\n",
    "print('In every programming language it starts with \\\"Hello, World!\\\"') \n",
    "\n",
    "# output\n",
    "I hope every one enjoying the python challenge.\n",
    "Do you ?\n",
    "Days\tTopics\tExercises\n",
    "Day 1\t5\t    5\n",
    "Day 2\t6\t    20\n",
    "Day 3\t5\t    23\n",
    "Day 4\t1\t    35\n",
    "This is a back slash  symbol (\\)\n",
    "In every programming language it starts with \"Hello, World!\""
   ]
  },
  {
   "cell_type": "markdown",
   "id": "79ca1e1e",
   "metadata": {},
   "source": [
    "### String formating\n",
    "\n",
    "#### Old Style String Formatting (% Operator)\n",
    "\n",
    "In python there many ways of formating string. In this section we will cover some of them.\n",
    "The \"%\" operator is used to format a set of variables enclosed in a \"tuple\" (a fixed size list), together with a format string, which contains normal text together with \"argument specifiers\", special symbols like \"%s\",  \"%d\", \"%f\", \"%.<number of digits>f\". \n",
    "\n",
    "* %s - String (or any object with a string representation, like numbers)\n",
    "* %d - Integers\n",
    "* %f - Floating point numbers\n",
    "* %.<number of digits>f - Floating point numbers with a fixed amount of digits to the right of the dot."
   ]
  },
  {
   "cell_type": "code",
   "execution_count": null,
   "id": "b972850a",
   "metadata": {
    "attributes": {
     "classes": [
      "py"
     ],
     "id": ""
    }
   },
   "outputs": [],
   "source": [
    "# Strings only\n",
    "first_name = 'Asabeneh'\n",
    "last_name = 'Yetayeh'\n",
    "language = 'Python'\n",
    "formatted_string = 'I am %s %s. I teach %s' %(first_name, last_name, language)\n",
    "print(formatted_string)\n",
    "\n",
    "# Strings  and numbers\n",
    "radius = 10\n",
    "pi = 3.14\n",
    "area = pi * radius ** 2\n",
    "formatted_string = 'The area of radius %d is %.2f.' %(radius, area) # 2 refers the 2 significant digits after the point\n",
    "\n",
    "python_libraries = ['Django', 'Flask', 'Numpy', 'Pandas']\n",
    "formatted_string = 'The following are python libraries:' % python_libraries\n",
    "print(formatted_string) # \"The following are python libraries:['Django', 'Flask', 'Numpy', 'Pandas']\""
   ]
  },
  {
   "cell_type": "markdown",
   "id": "33c68d97",
   "metadata": {},
   "source": [
    "#### New Style String Formatting (str.format)\n",
    "This is formating is introduced in python version 3."
   ]
  },
  {
   "cell_type": "code",
   "execution_count": null,
   "id": "2f849696",
   "metadata": {
    "attributes": {
     "classes": [
      "py"
     ],
     "id": ""
    }
   },
   "outputs": [],
   "source": [
    "\n",
    "first_name = 'Asabeneh'\n",
    "last_name = 'Yetayeh'\n",
    "language = 'Python'\n",
    "formatted_string = 'I am {} {}. I teach {}'.format(first_name, last_name, language)\n",
    "print(formatted_string)\n",
    "a = 4\n",
    "b = 3\n",
    "\n",
    "print('{} + {} = {}'.format(a, b, a + b))\n",
    "print('{} - {} = {}'.format(a, b, a - b))\n",
    "print('{} * {} = {}'.format(a, b, a * b))\n",
    "print('{} / {} = {:.2f}'.format(a, b, a / b)) # limits it to two digits after decimal\n",
    "print('{} % {} = {}'.format(a, b, a % b))\n",
    "print('{} // {} = {}'.format(a, b, a // b))\n",
    "print('{} ** {} = {}'.format(a, b, a ** b))\n",
    "\n",
    "# output\n",
    "4 + 3 = 7\n",
    "4 - 3 = 1\n",
    "4 * 3 = 12\n",
    "4 / 3 = 1.33\n",
    "4 % 3 = 1\n",
    "4 // 3 = 1\n",
    "4 ** 3 = 64\n",
    "\n",
    "# Strings  and numbers\n",
    "radius = 10\n",
    "pi = 3.14\n",
    "area = pi * radius ** 2\n",
    "formatted_string = 'The area of radius {} is {:.2f}.'.format(radius, area) # 2 digits after decimal\n",
    "print(formatted_string)\n"
   ]
  },
  {
   "cell_type": "markdown",
   "id": "c35ea58f",
   "metadata": {},
   "source": [
    "####  String Interpolation / f-Strings (Python 3.6+)\n",
    "Another new string formatting is string interpolation, f-strings. String started with f and we can inject the data in their corresponding positions."
   ]
  },
  {
   "cell_type": "code",
   "execution_count": null,
   "id": "4e1a9c23",
   "metadata": {
    "attributes": {
     "classes": [
      "py"
     ],
     "id": ""
    }
   },
   "outputs": [],
   "source": [
    "a = 4\n",
    "b = 3\n",
    "print(f'{a} + {b} = {a +b}')\n",
    "print(f'{a} - {b} = {a - b}')\n",
    "print(f'{a} * {b} = {a * b}')\n",
    "print(f'{a} / {b} = {a / b:.2f}') \n",
    "print(f'{a} % {b} = {a % b}')\n",
    "print(f'{a} // {b} = {a // b}')\n",
    "print(f'{a} ** {b} = {a ** b}')"
   ]
  },
  {
   "cell_type": "markdown",
   "id": "bb939fb8",
   "metadata": {},
   "source": [
    "### Python strings as sequences of characters\n",
    "Python strings are sequences of  characters, and share their basic methods of access with those other Python sequences – lists and tuples. The simplest way of extracting single characters from strings (and individual members from any sequence) is to unpack them into corresponding variables.\n",
    "#### Unpacking characters"
   ]
  },
  {
   "cell_type": "code",
   "execution_count": null,
   "id": "2c6d65f7",
   "metadata": {},
   "outputs": [],
   "source": [
    "language = 'Python'\n",
    "a,b,c,d,e,f = language # unpacking sequence characters into variables\n",
    "print(a) # P\n",
    "print(b) # y\n",
    "print(c) # t \n",
    "print(d) # h\n",
    "print(e) # o\n",
    "print(f) # n"
   ]
  },
  {
   "cell_type": "markdown",
   "id": "7ef486d2",
   "metadata": {},
   "source": [
    "#### Accessing characters in strings by index\n",
    "  In programming counting starts from zero. Therefore the first letter of a string is at zero index and the last letter of a string is the length of a string minus one.\n",
    "\n",
    "  ![String index](./images/string_index.png)"
   ]
  },
  {
   "cell_type": "code",
   "execution_count": null,
   "id": "192bd44c",
   "metadata": {
    "attributes": {
     "classes": [
      "py"
     ],
     "id": ""
    }
   },
   "outputs": [],
   "source": [
    "language = 'Python'\n",
    "first_letter = language[0]\n",
    "print(first_letter) # P\n",
    "second_letter = language[1]\n",
    "print(second_letter) # y\n",
    "last_index = len(language) - 1\n",
    "last_letter = language[last_index]\n",
    "print(last_letter) # n"
   ]
  },
  {
   "cell_type": "markdown",
   "id": "45eec2eb",
   "metadata": {},
   "source": [
    "If we want to start from right end we can use negative indexing. -1 is the last index."
   ]
  },
  {
   "cell_type": "code",
   "execution_count": null,
   "id": "5ae8f5ce",
   "metadata": {
    "attributes": {
     "classes": [
      "py"
     ],
     "id": ""
    }
   },
   "outputs": [],
   "source": [
    "language = 'Python'\n",
    "last_letter = language[-1]\n",
    "print(last_letter) # n\n",
    "second_last = language[-2]\n",
    "print(second_last) # o\n",
    "  ```\n",
    "\n",
    "#### Slicing Python Strings\n",
    "\n",
    "In python we can slice substrings from a string.\n",
    "\n",
    "```py\n",
    "language = 'Python'\n",
    "first_three = language[0:3] # starts at zero index and up to 3 but not include 3\n",
    "last_three = language[3:6]\n",
    "print(last_three) # hon\n",
    "# Another way\n",
    "last_three = language[-3:]\n",
    "print(last_three)   # hon\n",
    "last_three = language[3:]\n",
    "print(last_three)   # hon"
   ]
  },
  {
   "cell_type": "markdown",
   "id": "879f5b92",
   "metadata": {},
   "source": [
    "#### Reversing a string\n",
    "\n",
    "We can easily reverse string in python."
   ]
  },
  {
   "cell_type": "code",
   "execution_count": null,
   "id": "0f283633",
   "metadata": {
    "attributes": {
     "classes": [
      "py"
     ],
     "id": ""
    }
   },
   "outputs": [],
   "source": [
    "greeting = 'Hello, World!'\n",
    "print(greeting[::-1]) # !dlroW ,olleH"
   ]
  },
  {
   "cell_type": "markdown",
   "id": "f76764bc",
   "metadata": {},
   "source": [
    "#### Skipping characters while slicing\n",
    "It is possible to skip characters while slicing by passing step argument to slice method."
   ]
  },
  {
   "cell_type": "code",
   "execution_count": null,
   "id": "ff041ab8",
   "metadata": {
    "attributes": {
     "classes": [
      "py"
     ],
     "id": ""
    }
   },
   "outputs": [],
   "source": [
    "language = 'Python'\n",
    "pto = language[0,6:2] # \n",
    "print(pto) # Pto"
   ]
  },
  {
   "cell_type": "markdown",
   "id": "dfafda4e",
   "metadata": {},
   "source": [
    "### String Methods\n",
    "There are many string methods which allow us to format strings. See some of the string methods in the following example:\n",
    "\n",
    "* capitalize(): Converts the first character the string to Capital Letter"
   ]
  },
  {
   "cell_type": "code",
   "execution_count": null,
   "id": "b7b06dbc",
   "metadata": {
    "attributes": {
     "classes": [
      "py"
     ],
     "id": ""
    }
   },
   "outputs": [],
   "source": [
    "challenge = 'thirty days of python'\n",
    "print(challenge.capitalize()) # 'Thirty days of python'"
   ]
  },
  {
   "cell_type": "markdown",
   "id": "e1e804e7",
   "metadata": {},
   "source": [
    "* count(): returns occurrences of substring in string, count(substring, start=.., end=..)"
   ]
  },
  {
   "cell_type": "code",
   "execution_count": null,
   "id": "e462b334",
   "metadata": {
    "attributes": {
     "classes": [
      "py"
     ],
     "id": ""
    }
   },
   "outputs": [],
   "source": [
    "challenge = 'thirty days of python'\n",
    "print(challenge.count('y')) # 3\n",
    "print(challenge.count('y', 7, 14)) # 1\n",
    "print(challenge.count('th')) # 2`"
   ]
  },
  {
   "cell_type": "markdown",
   "id": "6b6e641a",
   "metadata": {},
   "source": [
    "* endswith(): Checks if a string ends with a specified ending"
   ]
  },
  {
   "cell_type": "code",
   "execution_count": null,
   "id": "01b3a7cd",
   "metadata": {
    "attributes": {
     "classes": [
      "py"
     ],
     "id": ""
    }
   },
   "outputs": [],
   "source": [
    "challenge = 'thirty days of python'\n",
    "print(challenge.endswith('on'))   # True\n",
    "print(challenge.endswith('tion')) # False"
   ]
  },
  {
   "cell_type": "markdown",
   "id": "00750829",
   "metadata": {},
   "source": [
    "* expandtabs(): Replaces tab character with spaces, default tab size is 8. It takes tab size argument"
   ]
  },
  {
   "cell_type": "code",
   "execution_count": null,
   "id": "8ecb5066",
   "metadata": {
    "attributes": {
     "classes": [
      "py"
     ],
     "id": ""
    }
   },
   "outputs": [],
   "source": [
    "challenge = 'thirty\\tdays\\tof\\tpython'\n",
    "print(challenge.expandtabs())   # 'thirty  days    of      python'\n",
    "print(challenge.expandtabs(10)) # 'thirty    days      of        python'"
   ]
  },
  {
   "cell_type": "markdown",
   "id": "c990a71c",
   "metadata": {},
   "source": [
    "* find(): Returns the index of first occurrence of substring"
   ]
  },
  {
   "cell_type": "code",
   "execution_count": null,
   "id": "f0163fd8",
   "metadata": {
    "attributes": {
     "classes": [
      "py"
     ],
     "id": ""
    }
   },
   "outputs": [],
   "source": [
    "challenge = 'thirty days of python'\n",
    "print(challenge.find('y'))  # 5\n",
    "print(challenge.find('th')) # 0"
   ]
  },
  {
   "cell_type": "markdown",
   "id": "442405f0",
   "metadata": {},
   "source": [
    "* format()\tformats string into nicer output    \n",
    "    More about string formating check this [link](https://www.programiz.com/python-programming/methods/string/format)"
   ]
  },
  {
   "cell_type": "code",
   "execution_count": null,
   "id": "1f4c7983",
   "metadata": {
    "attributes": {
     "classes": [
      "py"
     ],
     "id": ""
    }
   },
   "outputs": [],
   "source": [
    "first_name = 'Asabeneh'\n",
    "last_name = 'Yetayeh'\n",
    "job = 'teacher'\n",
    "country = 'Finland'\n",
    "sentence = 'I am {} {}. I am a {}. I live in {}.'.format(first_name, last_name, job, country)\n",
    "print(sentence) # I am Asabeneh Yetayeh. I am a teacher. I live in Finland.\n",
    "\n",
    "radius = 10\n",
    "pi = 3.14\n",
    "area = pi * radius ** 2\n",
    "result = 'The area of circle with {} is {}'.format(str(radius), str(area))\n",
    "print(result) # The area of circle with 10 is 314.0"
   ]
  },
  {
   "cell_type": "markdown",
   "id": "5c5ae709",
   "metadata": {},
   "source": [
    "* index(): Returns the index of substring"
   ]
  },
  {
   "cell_type": "code",
   "execution_count": null,
   "id": "ed6cccaf",
   "metadata": {
    "attributes": {
     "classes": [
      "py"
     ],
     "id": ""
    }
   },
   "outputs": [],
   "source": [
    "challenge = 'thirty days of python'\n",
    "print(challenge.find('y'))  # 5\n",
    "print(challenge.find('th')) # 0"
   ]
  },
  {
   "cell_type": "markdown",
   "id": "341a898d",
   "metadata": {},
   "source": [
    "* isalnum(): Checks alphanumeric character"
   ]
  },
  {
   "cell_type": "code",
   "execution_count": null,
   "id": "62f62ac2",
   "metadata": {
    "attributes": {
     "classes": [
      "py"
     ],
     "id": ""
    }
   },
   "outputs": [],
   "source": [
    "challenge = 'ThirtyDaysPython'\n",
    "print(challenge.isalnum()) # True\n",
    "\n",
    "challenge = '30DaysPython'\n",
    "print(challenge.isalnum()) # True\n",
    "\n",
    "challenge = 'thirty days of python'\n",
    "print(challenge.isalnum()) # False\n",
    "\n",
    "challenge = 'thirty days of python 2019'\n",
    "print(challenge.isalnum()) # False"
   ]
  },
  {
   "cell_type": "markdown",
   "id": "05a0e9d7",
   "metadata": {},
   "source": [
    "* isalpha(): Checks if all characters are alphabets"
   ]
  },
  {
   "cell_type": "code",
   "execution_count": null,
   "id": "c3391c81",
   "metadata": {
    "attributes": {
     "classes": [
      "py"
     ],
     "id": ""
    }
   },
   "outputs": [],
   "source": [
    "challenge = 'thirty days of python'\n",
    "print(challenge.isalpha()) # True\n",
    "num = '123'\n",
    "print(num.isalpha())      # False"
   ]
  },
  {
   "cell_type": "markdown",
   "id": "6d03e7ad",
   "metadata": {},
   "source": [
    "* isdecimal(): Checks Decimal Characters"
   ]
  },
  {
   "cell_type": "code",
   "execution_count": null,
   "id": "b5eca81a",
   "metadata": {
    "attributes": {
     "classes": [
      "py"
     ],
     "id": ""
    }
   },
   "outputs": [],
   "source": [
    "challenge = 'thirty days of python'\n",
    "print(challenge.find('y'))  # 5\n",
    "print(challenge.find('th')) # 0"
   ]
  },
  {
   "cell_type": "markdown",
   "id": "e856ce4e",
   "metadata": {},
   "source": [
    "* isdigit(): Checks Digit Characters"
   ]
  },
  {
   "cell_type": "code",
   "execution_count": null,
   "id": "94912ec8",
   "metadata": {
    "attributes": {
     "classes": [
      "py"
     ],
     "id": ""
    }
   },
   "outputs": [],
   "source": [
    "challenge = 'Thirty'\n",
    "print(challenge.isdigit()) # False\n",
    "challenge = '30'\n",
    "print(challenge.digit())   # True"
   ]
  },
  {
   "cell_type": "markdown",
   "id": "110f8e0e",
   "metadata": {},
   "source": [
    "* isdecimal():Checks decimal characters"
   ]
  },
  {
   "cell_type": "code",
   "execution_count": null,
   "id": "5a095e9f",
   "metadata": {
    "attributes": {
     "classes": [
      "py"
     ],
     "id": ""
    }
   },
   "outputs": [],
   "source": [
    "num = '10'\n",
    "print(num.isdecimal()) # True\n",
    "num = '10.5'\n",
    "print(num.isdecimal()) # False"
   ]
  },
  {
   "cell_type": "markdown",
   "id": "237b0f13",
   "metadata": {},
   "source": [
    "* isidentifier():Checks for valid identifier means it check if a string is a valid variable name"
   ]
  },
  {
   "cell_type": "code",
   "execution_count": null,
   "id": "2579466e",
   "metadata": {
    "attributes": {
     "classes": [
      "py"
     ],
     "id": ""
    }
   },
   "outputs": [],
   "source": [
    "challenge = '30DaysOfPython'\n",
    "print(challenge.isidentifier()) # False, because it starts with a number\n",
    "challenge = 'thirty_days_of_python'\n",
    "print(challenge.isidentifier()) # True"
   ]
  },
  {
   "cell_type": "markdown",
   "id": "7c31a031",
   "metadata": {},
   "source": [
    "* islower():Checks if all alphabets in a string are lowercase"
   ]
  },
  {
   "cell_type": "code",
   "execution_count": null,
   "id": "1c1b394c",
   "metadata": {
    "attributes": {
     "classes": [
      "py"
     ],
     "id": ""
    }
   },
   "outputs": [],
   "source": [
    "challenge = 'thirty days of python'\n",
    "print(challenge.islower()) # True\n",
    "challenge = 'Thirty days of python'\n",
    "print(challenge.islower()) # False"
   ]
  },
  {
   "cell_type": "markdown",
   "id": "27367731",
   "metadata": {},
   "source": [
    "* isupper(): returns if all characters are uppercase characters"
   ]
  },
  {
   "cell_type": "code",
   "execution_count": null,
   "id": "cc94eb36",
   "metadata": {
    "attributes": {
     "classes": [
      "py"
     ],
     "id": ""
    }
   },
   "outputs": [],
   "source": [
    "challenge = 'thirty days of python'\n",
    "print(challenge.isupper()) #  False\n",
    "challenge = 'THIRTY DAYS OF PYTHON'\n",
    "print(challenge.isupper()) # True"
   ]
  },
  {
   "cell_type": "markdown",
   "id": "9697274e",
   "metadata": {},
   "source": [
    "* isnumeric():Checks numeric characters"
   ]
  },
  {
   "cell_type": "code",
   "execution_count": null,
   "id": "c9bd3965",
   "metadata": {
    "attributes": {
     "classes": [
      "py"
     ],
     "id": ""
    }
   },
   "outputs": [],
   "source": [
    "num = '10'\n",
    "print(num.isnumeric())      # True\n",
    "print('ten'.isnumeric())    # False"
   ]
  },
  {
   "cell_type": "markdown",
   "id": "53146932",
   "metadata": {},
   "source": [
    "* join(): Returns a concatenated string"
   ]
  },
  {
   "cell_type": "code",
   "execution_count": null,
   "id": "a7520e5a",
   "metadata": {
    "attributes": {
     "classes": [
      "py"
     ],
     "id": ""
    }
   },
   "outputs": [],
   "source": [
    "web_tech = ['HTML', 'CSS', 'JavaScript', 'React']\n",
    "result = '#, '.join(web_tech)\n",
    "print(result) # 'HTML# CSS# JavaScript# React'"
   ]
  },
  {
   "cell_type": "markdown",
   "id": "062b24f2",
   "metadata": {},
   "source": [
    "* strip(): Removes both leading and trailing characters"
   ]
  },
  {
   "cell_type": "code",
   "execution_count": null,
   "id": "2c03afe8",
   "metadata": {
    "attributes": {
     "classes": [
      "py"
     ],
     "id": ""
    }
   },
   "outputs": [],
   "source": [
    "challenge = ' thirty days of python '\n",
    "print(challenge.strip('y')) # 5"
   ]
  },
  {
   "cell_type": "markdown",
   "id": "468e2182",
   "metadata": {},
   "source": [
    "* replace(): Replaces substring inside"
   ]
  },
  {
   "cell_type": "code",
   "execution_count": null,
   "id": "a7fe6af8",
   "metadata": {
    "attributes": {
     "classes": [
      "py"
     ],
     "id": ""
    }
   },
   "outputs": [],
   "source": [
    "challenge = 'thirty days of python'\n",
    "print(challenge.replace('python', 'coding')) # 'thirty days of coding'"
   ]
  },
  {
   "cell_type": "markdown",
   "id": "cc1eb611",
   "metadata": {},
   "source": [
    "* split():Splits String from Left"
   ]
  },
  {
   "cell_type": "code",
   "execution_count": null,
   "id": "b406a17f",
   "metadata": {
    "attributes": {
     "classes": [
      "py"
     ],
     "id": ""
    }
   },
   "outputs": [],
   "source": [
    "challenge = 'thirty days of python'\n",
    "print(challenge.split()) # ['thirty', 'days', 'of', 'python']"
   ]
  },
  {
   "cell_type": "markdown",
   "id": "3f6211a2",
   "metadata": {},
   "source": [
    "* title(): Returns a Title Cased String"
   ]
  },
  {
   "cell_type": "code",
   "execution_count": null,
   "id": "ed77858b",
   "metadata": {
    "attributes": {
     "classes": [
      "py"
     ],
     "id": ""
    }
   },
   "outputs": [],
   "source": [
    "challenge = 'thirty days of python'\n",
    "print(challenge.title()) # Thirty Days Of Python"
   ]
  },
  {
   "cell_type": "markdown",
   "id": "be1ef4ab",
   "metadata": {},
   "source": [
    "* swapcase(): Checks if String Starts with the Specified String\n",
    "  The string swapcase() method converts all uppercase characters to lowercase and all lowercase characters to uppercase characters of the given string, and returns it."
   ]
  },
  {
   "cell_type": "code",
   "execution_count": null,
   "id": "1e79d7e4",
   "metadata": {
    "attributes": {
     "classes": [
      "py"
     ],
     "id": ""
    }
   },
   "outputs": [],
   "source": [
    "challenge = 'thirty days of python'\n",
    "print(challenge.swapcase())   # THIRTY DAYS OF PYTHON\n",
    "challenge = 'Thirty Days Of Python'\n",
    "print(challenge.swapcase())  # tHIRTY dAYS oF pYTHON"
   ]
  },
  {
   "cell_type": "markdown",
   "id": "d564afff",
   "metadata": {},
   "source": [
    "* startswith(): Checks if String Starts with the Specified String"
   ]
  },
  {
   "cell_type": "code",
   "execution_count": null,
   "id": "4f538a0c",
   "metadata": {
    "attributes": {
     "classes": [
      "py"
     ],
     "id": ""
    }
   },
   "outputs": [],
   "source": [
    "challenge = 'thirty days of python'\n",
    "print(challenge.startswith('thirty')) # True\n",
    "\n",
    "challenge = '30 days of python'\n",
    "print(challenge.startswith('thirty')) # False"
   ]
  },
  {
   "cell_type": "markdown",
   "id": "93a3dab8",
   "metadata": {},
   "source": [
    "## 💻 Exercises - Day 4\n",
    "1. Concatenate the string 'Thirty', 'Days', 'Of', 'Python' to a single string, 'Thirty Days Of Python'\n",
    "2. Concatenate the string 'Coding', 'For' , 'All' to a single string, 'Coding For All'\n",
    "3. Declare a variable name company and assign it to an initial value \"Coding For All.\n",
    "4. Print company using *print()*\n",
    "5. Print the length of the company string using *len()* method and *print()*\n",
    "6. Change all the characters to capital letters using *upper()* method\n",
    "7. Change all the characters to lowercase letters using *lower()* method\n",
    "8. Use capitalize(), title(), swapcase() methods to format the value the string *Coding For All*.\n",
    "9.  Cut(slice) out the first word of *Coding For All* string\n",
    "10. Check if *Coding For All* string contains a word Coding using the method index, find or other methods.\n",
    "11. Replace the word coding in the string 'Coding For All' to Python.\n",
    "12. Change Python for Everyone to Python for All using the replace method or other methods\n",
    "13. Split the string 'Coding For All' at the space using split() method\n",
    "14. \"Facebook, Google, Microsoft, Apple, IBM, Oracle, Amazon\" split the string at the comma\n",
    "15. What is character at index 0 in the string *Coding For All*.\n",
    "16. What is the last index of the string *Coding For All*\n",
    "17. What character is at index 10 in \"Coding For All\" string.\n",
    "18. Create an acronym or an abbreviation for the name 'Python For Everyone'\n",
    "19. Create an acronym or an abbreviation for the name 'Coding For All'\n",
    "20. Use index to determine the position of the first occurrence of C in Coding For All.\n",
    "21. Use index to determine the position of the first occurrence of F in Coding For All\n",
    "22. Use rfind to determine the position of the last occurrence of l in Coding For All People.\n",
    "23. Use index or find to find the position of the first occurrence of the word because in the following sentence:'You cannot end a sentence with because because because is a conjunction'\n",
    "24. Use rindex to find the position of the last occurrence of the word because in the following sentence:'You cannot end a sentence with because because because is a conjunction'\n",
    "25. Slice out the phrase because because because in the following sentence:'You cannot end a sentence with because because because is a conjunction'\n",
    "26. Find the position of the first occurrence of the word because in the following sentence:'You cannot end a sentence with because because because is a conjunction'\n",
    "27. Slice out the phase because because because in the following sentence:'You cannot end a sentence with because because because is a conjunction'\n",
    "28. Does Coding For All starts with a substring *Coding*?\n",
    "29. Does Coding For All ends with a substring *coding*?\n",
    "30. '&nbsp;&nbsp; Coding For All &nbsp;&nbsp;&nbsp; &nbsp;' &nbsp;,    remove the left and right trailing spaces in the given string.\n",
    "31. Which one of the following variable return True when we use the method isidentifier()\n",
    "    * 30DaysOfPython\n",
    "    * thirty_days_of_python\n",
    "32. The following are some of python libraries list: ['Django', 'Flask', 'Bottle', 'Pyramid', 'Falcon']. Join the list with a hash with space string. \n",
    "33. Use new line escape sequence to writ the following sentence.\n",
    "    ```py\n",
    "    I am enjoying this challenge.\n",
    "    I just wonder what is next.\n",
    "    ```\n",
    "34. Use a tab escape sequence to writ the following sentence.\n",
    "    ```py\n",
    "    Name      Age     Country\n",
    "    Asabeneh  250     Finland\n",
    "    ```\n",
    "35. Use string formatting method to display the following:"
   ]
  },
  {
   "cell_type": "code",
   "execution_count": null,
   "id": "a8f24668",
   "metadata": {
    "attributes": {
     "classes": [
      "sh"
     ],
     "id": ""
    }
   },
   "outputs": [],
   "source": [
    "radius = 10\n",
    "area = 3.14 * radius ** 2\n",
    "The area of radius 10 is 314 meters squares. "
   ]
  },
  {
   "cell_type": "markdown",
   "id": "5f8cbdb0",
   "metadata": {},
   "source": [
    "36. Make the following using string formatting methods:"
   ]
  },
  {
   "cell_type": "code",
   "execution_count": null,
   "id": "fbc787ce",
   "metadata": {
    "attributes": {
     "classes": [
      "sh"
     ],
     "id": ""
    }
   },
   "outputs": [],
   "source": [
    "8 + 6 = 14\n",
    "8 - 6 = 2\n",
    "8 * 6 = 48\n",
    "8 / 6 = 1.33\n",
    "8 % 6 = 2\n",
    "8 // 6 = 1\n",
    "8 ** 6 = 262144"
   ]
  },
  {
   "cell_type": "markdown",
   "id": "cedf1757",
   "metadata": {},
   "source": [
    "# Day 5\n",
    "## Lists\n",
    "The are four collection data types in python :\n",
    "* List:  is a collection which is ordered and changeable(modifiable). Allows duplicate members.\n",
    "* Tuple:  is a collection which is ordered and unchangeable or unmodifiable(immutable). Allows duplicate members.\n",
    "* Set:  is a collection which is unordered and unindexed. No duplicate members.\n",
    "* Dictionary: is a collection which is unordered, changeable(modifiable) and indexed. No duplicate members.\n",
    "\n",
    "A list is collection of different data types which is ordered and modifiable(mutable). A list can be empty or it may have different data type items or items\n",
    "### How to create a list\n",
    "In python we can create list in two ways:\n",
    "* Using list builtin function"
   ]
  },
  {
   "cell_type": "code",
   "execution_count": null,
   "id": "b73915f7",
   "metadata": {
    "attributes": {
     "classes": [
      "py"
     ],
     "id": ""
    }
   },
   "outputs": [],
   "source": [
    "# syntax\n",
    "lst = list()"
   ]
  },
  {
   "cell_type": "code",
   "execution_count": null,
   "id": "1fda3efd",
   "metadata": {
    "attributes": {
     "classes": [
      "py"
     ],
     "id": ""
    }
   },
   "outputs": [],
   "source": [
    "empty_list = list() # this is an empty list, no item in the list\n",
    "print(len(empty_list)) # 0"
   ]
  },
  {
   "cell_type": "markdown",
   "id": "31b02e06",
   "metadata": {},
   "source": [
    "* Using square brackets, []"
   ]
  },
  {
   "cell_type": "code",
   "execution_count": null,
   "id": "54525a9f",
   "metadata": {
    "attributes": {
     "classes": [
      "py"
     ],
     "id": ""
    }
   },
   "outputs": [],
   "source": [
    "# syntax\n",
    "lst = []"
   ]
  },
  {
   "cell_type": "code",
   "execution_count": null,
   "id": "3802bce9",
   "metadata": {
    "attributes": {
     "classes": [
      "py"
     ],
     "id": ""
    }
   },
   "outputs": [],
   "source": [
    "empty_list = [] # this is an empty list, no item in the list\n",
    "print(len(empty_list)) # 0"
   ]
  },
  {
   "cell_type": "markdown",
   "id": "16d2b29e",
   "metadata": {},
   "source": [
    "List with initial values. We use *len()* to find the length of a list."
   ]
  },
  {
   "cell_type": "code",
   "execution_count": null,
   "id": "c14afafd",
   "metadata": {
    "attributes": {
     "classes": [
      "py"
     ],
     "id": ""
    }
   },
   "outputs": [],
   "source": [
    "fruits = ['banana', 'orange', 'mango', 'lemon']                     # list of fruits\n",
    "vegetables = ['Tomato', 'Potato', 'Cabbage','Onion', 'Carrot']      # list of vegetables\n",
    "animal_products = ['milk', 'meat', 'butter', 'yoghurt']             # list of animal products\n",
    "web_techs = ['HTML', 'CSS', 'JS', 'React','Redux', 'Node', 'MongDB'] # list of web technologies\n",
    "countries = ['Finland', 'Estonia', 'Denmark', 'Sweden', 'Norway']\n",
    "\n",
    "# Print the lists and it length\n",
    "print('Fruits:', fruits)\n",
    "print('Number of fruits:', len(fruits))\n",
    "print('Vegetables:', vegetables)\n",
    "print('Number of vegetables:', len(vegetables))\n",
    "print('Animal products:',animal_products)\n",
    "print('Number of animal products:', len(animal_products))\n",
    "print('Web technologies:', web_techs)\n",
    "print('Number of web technologies:', len(web_techs))\n",
    "print('Countries:', countries)\n",
    "print('Number of countries:', len(countries))"
   ]
  },
  {
   "cell_type": "code",
   "execution_count": null,
   "id": "75bf4a12",
   "metadata": {
    "attributes": {
     "classes": [
      "sh"
     ],
     "id": ""
    }
   },
   "outputs": [],
   "source": [
    "output\n",
    "Fruits: ['banana', 'orange', 'mango', 'lemon']\n",
    "Number of fruits: 4\n",
    "Vegetables: ['Tomato', 'Potato', 'Cabbage', 'Onion', 'Carrot']\n",
    "Number of vegetables: 5\n",
    "Animal products: ['milk', 'meat', 'butter', 'yoghurt']\n",
    "Number of animal products: 4\n",
    "Web technologies: ['HTML', 'CSS', 'JS', 'React', 'Redux', 'Node', 'MongDB']\n",
    "Number of web technologies: 7\n",
    "Countries: ['Finland', 'Estonia', 'Denmark', 'Sweden', 'Norway']\n",
    "Number of countries: 5"
   ]
  },
  {
   "cell_type": "markdown",
   "id": "d8bf1673",
   "metadata": {},
   "source": [
    "* List can have items of different data types"
   ]
  },
  {
   "cell_type": "code",
   "execution_count": null,
   "id": "6d9d42ad",
   "metadata": {
    "attributes": {
     "classes": [
      "py"
     ],
     "id": ""
    }
   },
   "outputs": [],
   "source": [
    " lst = ['Asabeneh', 250, True, {'country':'Finland', 'city':'Helsinki'}] # list containing different data types"
   ]
  },
  {
   "cell_type": "markdown",
   "id": "ae63ae84",
   "metadata": {},
   "source": [
    "### Accessing list items using positive indexing\n",
    "We access each item in a list using their index. A list index start from 0. The picture below show clearly where the index starts\n",
    "![List index](./images/list_index.png)"
   ]
  },
  {
   "cell_type": "code",
   "execution_count": null,
   "id": "daf02065",
   "metadata": {
    "attributes": {
     "classes": [
      "py"
     ],
     "id": ""
    }
   },
   "outputs": [],
   "source": [
    "fruits = ['banana', 'orange', 'mango', 'lemon'] \n",
    "first_fruit = fruits[0] # we are accessing the first item using its index\n",
    "print(first_fruit)      # banana\n",
    "second_fruit = fruits[1]\n",
    "print(second_fruit)     # orange\n",
    "last_fruit = fruits[3]\n",
    "print(last_fruit) # lemon\n",
    "# Last index\n",
    "last_index = len(fruits) - 1\n",
    "last_fruit = fruits[last_index]"
   ]
  },
  {
   "cell_type": "markdown",
   "id": "25632380",
   "metadata": {},
   "source": [
    "### Accessing list items using negative indexing\n",
    "Negative indexing means beginning from the end, -1 refers to the last item, -2 refers to the second last item.\n",
    "\n",
    "![List negative indexing](./images/list_negative_indexing.png)"
   ]
  },
  {
   "cell_type": "code",
   "execution_count": null,
   "id": "cc202519",
   "metadata": {
    "attributes": {
     "classes": [
      "py"
     ],
     "id": ""
    }
   },
   "outputs": [],
   "source": [
    "fruits = ['banana', 'orange', 'mango', 'lemon']\n",
    "first_fruit = fruits[-4]\n",
    "last_fruit = fruits[-1]\n",
    "second_last = fruits[-2]\n",
    "print(first_fruit)      # banana\n",
    "print(last_fruit)       # lemon\n",
    "print(second_last)      # mango"
   ]
  },
  {
   "cell_type": "markdown",
   "id": "498024d5",
   "metadata": {},
   "source": [
    "### Unpacking list items"
   ]
  },
  {
   "cell_type": "code",
   "execution_count": null,
   "id": "cbcbf300",
   "metadata": {
    "attributes": {
     "classes": [
      "py"
     ],
     "id": ""
    }
   },
   "outputs": [],
   "source": [
    "lst = ['item','item2','item3', 'item4', 'item5']\n",
    "first_item, second_item, third_item, *rest = lst\n",
    "print(first_item)     # item1\n",
    "print(second_item)    # item1\n",
    "print(third_item)     # item2\n",
    "print(rest)           # ['item4', 'item5']\n"
   ]
  },
  {
   "cell_type": "code",
   "execution_count": null,
   "id": "39128dbd",
   "metadata": {
    "attributes": {
     "classes": [
      "py"
     ],
     "id": ""
    }
   },
   "outputs": [],
   "source": [
    "# First Example\n",
    "fruits = ['banana', 'orange', 'mango', 'lemon','lime','apple']\n",
    "first_fruit, second_fruit, third_fruit, *rest = lst\n",
    "print(first_fruit)     # banana\n",
    "print(second_fruit)    # orange\n",
    "print(third_fruit)     # mango\n",
    "print(rest)           # ['lemon','lime','apple']\n",
    "# Second Example about unpacking list\n",
    "first, second, third,*rest, tenth = [1,2,3,4,5,6,7,8,9,10]\n",
    "print(first)\n",
    "print(second)\n",
    "print(third)\n",
    "print(rest)\n",
    "print(tenth)\n",
    "# Third Example about unpacking list\n",
    "countries = ['Germany', 'France','Belgium','Sweden','Denmark','Finland','Norway','Iceland','Estonia']\n",
    "gr, fr, bg, sw, *scandic, es = countries\n",
    "print(gr)\n",
    "print(fr)\n",
    "print(bg)\n",
    "print(sw)\n",
    "print(scandic)\n",
    "print(es)"
   ]
  },
  {
   "cell_type": "markdown",
   "id": "549fc655",
   "metadata": {},
   "source": [
    "### Slicing  items from list\n",
    "* Positive Indexing: We can specify a range of positive indexes by specifying the starting  and the ending, the return value will be a new list."
   ]
  },
  {
   "cell_type": "code",
   "execution_count": null,
   "id": "64ccaec6",
   "metadata": {
    "attributes": {
     "classes": [
      "py"
     ],
     "id": ""
    }
   },
   "outputs": [],
   "source": [
    "fruits = ['banana', 'orange', 'mango', 'lemon'] \n",
    "all_fruits = fruits[0:4] # it returns all the fruits\n",
    "# this is also give the same result as the above\n",
    "all_fruits = fruits[0:] # if we don't set where to stop it takes all the rest\n",
    "orange_and_mango = fruits[1:3] # it does not include the end index\n",
    "orange_mango_lemon = fruits[1:]"
   ]
  },
  {
   "cell_type": "markdown",
   "id": "7a57091d",
   "metadata": {},
   "source": [
    "* Negative Indexing:  We can specify a range of negative indexes by specifying the starting  and the ending, the return value will be a new list."
   ]
  },
  {
   "cell_type": "code",
   "execution_count": null,
   "id": "d5d54614",
   "metadata": {
    "attributes": {
     "classes": [
      "py"
     ],
     "id": ""
    }
   },
   "outputs": [],
   "source": [
    "fruits = ['banana', 'orange', 'mango', 'lemon'] \n",
    "all_fruits = fruits[-4:] # it returns all the fruits\n",
    "# this is also give the same result as the above\n",
    "orange_and_mango = fruits[-3:-1] # it does not include the end index\n",
    "orange_mango_lemon = fruits[-3:]"
   ]
  },
  {
   "cell_type": "markdown",
   "id": "8624d17f",
   "metadata": {},
   "source": [
    "### Modifying list\n",
    "List is a mutable or modifiable ordered collection of items or items. Lets modify the fruit list."
   ]
  },
  {
   "cell_type": "code",
   "execution_count": null,
   "id": "034e4af0",
   "metadata": {
    "attributes": {
     "classes": [
      "py"
     ],
     "id": ""
    }
   },
   "outputs": [],
   "source": [
    "fruits = ['banana', 'orange', 'mango', 'lemon'] \n",
    "fruits[0] = 'Avocado' \n",
    "print(fruits)       #  ['avocado', 'orange', 'mango', 'lemon']\n",
    "fruits[1] = 'apple'\n",
    "print(fruits)       #  ['avocado', 'apple', 'mango', 'lemon']\n",
    "last_index = len(fruits)\n",
    "fruits[last_index] = 'lime'\n",
    "print(fruits)        #  ['avocado', 'apple', 'mango', 'lime']"
   ]
  },
  {
   "cell_type": "markdown",
   "id": "44b818c3",
   "metadata": {},
   "source": [
    "### Check items in a list"
   ]
  },
  {
   "cell_type": "code",
   "execution_count": null,
   "id": "32eaf22c",
   "metadata": {
    "attributes": {
     "classes": [
      "py"
     ],
     "id": ""
    }
   },
   "outputs": [],
   "source": [
    "fruits = ['banana', 'orange', 'mango', 'lemon']\n",
    "does_exist = 'banana' in fruits\n",
    "print(does_exist)  # True\n",
    "does_exist = 'lime' in fruits\n",
    "print(does_exist)  # False"
   ]
  },
  {
   "cell_type": "markdown",
   "id": "7d494fbb",
   "metadata": {},
   "source": [
    "### Adding item in a list\n",
    "To add item to the end of an existing list we use the method"
   ]
  },
  {
   "cell_type": "code",
   "execution_count": null,
   "id": "e48358e5",
   "metadata": {
    "attributes": {
     "classes": [
      "py"
     ],
     "id": ""
    }
   },
   "outputs": [],
   "source": [
    "# syntax\n",
    "lst = list()\n",
    "lst.append(item)"
   ]
  },
  {
   "cell_type": "code",
   "execution_count": null,
   "id": "2ab40b6e",
   "metadata": {
    "attributes": {
     "classes": [
      "py"
     ],
     "id": ""
    }
   },
   "outputs": [],
   "source": [
    "fruits = ['banana', 'orange', 'mango', 'lemon']\n",
    "fruits.append('apple')\n",
    "print(fruits)           # ['banana', 'orange', 'mango', 'lemon', 'apple']\n",
    "fruits.append('lime')   # ['banana', 'orange', 'mango', 'lemon', 'apple', 'lime']\n",
    "print(fruits)"
   ]
  },
  {
   "cell_type": "markdown",
   "id": "092efa57",
   "metadata": {},
   "source": [
    "### Inserting item in to a list\n",
    "Use insert() method to insert a single item at a specified index in a list. Note that other items are shifted to the right."
   ]
  },
  {
   "cell_type": "code",
   "execution_count": null,
   "id": "92d66ff0",
   "metadata": {
    "attributes": {
     "classes": [
      "py"
     ],
     "id": ""
    }
   },
   "outputs": [],
   "source": [
    "# syntax\n",
    "lst = ['item1', 'item2']\n",
    "lst.insert(index, item)"
   ]
  },
  {
   "cell_type": "code",
   "execution_count": null,
   "id": "dfb30c99",
   "metadata": {
    "attributes": {
     "classes": [
      "py"
     ],
     "id": ""
    }
   },
   "outputs": [],
   "source": [
    "fruits = ['banana', 'orange', 'mango', 'lemon']\n",
    "fruits.insert(2, 'apple') # insert apple between orange and mango\n",
    "print(fruits)           # ['banana', 'orange', 'apple', 'mango', 'lemon']\n",
    "fruits.insert(3, 'lime')   # ['banana', 'orange', 'apple', 'mango', 'lime','lemon']\n",
    "print(fruits)"
   ]
  },
  {
   "cell_type": "markdown",
   "id": "eadf4a10",
   "metadata": {},
   "source": [
    "### Removing item from list\n",
    "The remove method remove a specified item from a list"
   ]
  },
  {
   "cell_type": "code",
   "execution_count": null,
   "id": "49c91d21",
   "metadata": {
    "attributes": {
     "classes": [
      "py"
     ],
     "id": ""
    }
   },
   "outputs": [],
   "source": [
    "# syntax\n",
    "lst = ['item1', 'item2']\n",
    "lst.remove(item)"
   ]
  },
  {
   "cell_type": "code",
   "execution_count": null,
   "id": "61a3d9c9",
   "metadata": {
    "attributes": {
     "classes": [
      "py"
     ],
     "id": ""
    }
   },
   "outputs": [],
   "source": [
    "fruits = ['banana', 'orange', 'mango', 'lemon']\n",
    "fruits.remove('banana')\n",
    "print(fruits)  # ['orange', 'mango', 'lemon']\n",
    "fruits.remove('lemon')\n",
    "print(fruits)  # ['orange', 'mango']"
   ]
  },
  {
   "cell_type": "markdown",
   "id": "a529d0a7",
   "metadata": {},
   "source": [
    "### Removing item using pop\n",
    "The pop() method removes the specified index, (or the last item if index is not specified):"
   ]
  },
  {
   "cell_type": "code",
   "execution_count": null,
   "id": "f356e2b7",
   "metadata": {
    "attributes": {
     "classes": [
      "py"
     ],
     "id": ""
    }
   },
   "outputs": [],
   "source": [
    "# syntax\n",
    "lst = ['item1', 'item2']\n",
    "lst.pop()       # last item\n",
    "lst.pop(index)"
   ]
  },
  {
   "cell_type": "code",
   "execution_count": null,
   "id": "7e51d853",
   "metadata": {
    "attributes": {
     "classes": [
      "py"
     ],
     "id": ""
    }
   },
   "outputs": [],
   "source": [
    "fruits = ['banana', 'orange', 'mango', 'lemon']\n",
    "fruits.pop()     \n",
    "print(fruits)       # ['banana', 'orange', 'mango']\n",
    "\n",
    "fruits.remove(0)     \n",
    "print(fruits)       # ['orange', 'mango']    "
   ]
  },
  {
   "cell_type": "markdown",
   "id": "b5238f15",
   "metadata": {},
   "source": [
    "### Removing item using del\n",
    "The del keyword removes the specified index and it can be also use to delete the list completely"
   ]
  },
  {
   "cell_type": "code",
   "execution_count": null,
   "id": "582e27c2",
   "metadata": {
    "attributes": {
     "classes": [
      "py"
     ],
     "id": ""
    }
   },
   "outputs": [],
   "source": [
    "# syntax\n",
    "lst = ['item1', 'item2']\n",
    "del lst[index] # only a single item\n",
    "del lst        # to delete the list completely"
   ]
  },
  {
   "cell_type": "code",
   "execution_count": null,
   "id": "e5c0b2f2",
   "metadata": {
    "attributes": {
     "classes": [
      "py"
     ],
     "id": ""
    }
   },
   "outputs": [],
   "source": [
    "fruits = ['banana', 'orange', 'mango', 'lemon']\n",
    "del fruits[0]     \n",
    "print(fruits)       # ['orange', 'mango', 'lemon']\n",
    "\n",
    "del fruits[1]     \n",
    "print(fruits)       # ['orange', 'lemon']\n",
    "del fruits\n",
    "print(fruits)       # This should give: NameError: name 'fruits' is not defined"
   ]
  },
  {
   "cell_type": "markdown",
   "id": "43c62185",
   "metadata": {},
   "source": [
    "### Clearing list items\n",
    "The clear() method empties the list:"
   ]
  },
  {
   "cell_type": "code",
   "execution_count": null,
   "id": "065fad5e",
   "metadata": {
    "attributes": {
     "classes": [
      "py"
     ],
     "id": ""
    }
   },
   "outputs": [],
   "source": [
    "# syntax\n",
    "lst = ['item1', 'item2']\n",
    "lst.clear()"
   ]
  },
  {
   "cell_type": "code",
   "execution_count": null,
   "id": "6c6d3e77",
   "metadata": {
    "attributes": {
     "classes": [
      "py"
     ],
     "id": ""
    }
   },
   "outputs": [],
   "source": [
    "fruits = ['banana', 'orange', 'mango', 'lemon']\n",
    "fruits.clear()     \n",
    "print(fruits)       # []   "
   ]
  },
  {
   "cell_type": "markdown",
   "id": "b8ab883f",
   "metadata": {},
   "source": [
    "### Copying  a list\n",
    "It is possible to copy a list by reassigning to a new variable in the  following way list2 = list1. Now, list2 is a reference of list1, any changes we make in list2 will also modify the original, list2. But there are lots of case in which we do not like to modify the original instead we like to have a different copy. One of way avoid the above problem is using *copy()*."
   ]
  },
  {
   "cell_type": "code",
   "execution_count": null,
   "id": "3976a03d",
   "metadata": {
    "attributes": {
     "classes": [
      "py"
     ],
     "id": ""
    }
   },
   "outputs": [],
   "source": [
    "# syntax\n",
    "lst = ['item1', 'item2']\n",
    "lst_copy = lst.copy()"
   ]
  },
  {
   "cell_type": "code",
   "execution_count": null,
   "id": "7e263e9d",
   "metadata": {
    "attributes": {
     "classes": [
      "py"
     ],
     "id": ""
    }
   },
   "outputs": [],
   "source": [
    "fruits = ['banana', 'orange', 'mango', 'lemon']\n",
    "fruits_copy = fruits.copy()     \n",
    "print(fruits_copy)       # ['banana', 'orange', 'mango', 'lemon']"
   ]
  },
  {
   "cell_type": "markdown",
   "id": "977fc5a2",
   "metadata": {},
   "source": [
    "### Joining lists\n",
    "There are several ways to join, or concatenate, two or more lists in Python. \n",
    "\n",
    "* Plus Operator (+)"
   ]
  },
  {
   "cell_type": "code",
   "execution_count": null,
   "id": "61a1965b",
   "metadata": {
    "attributes": {
     "classes": [
      "py"
     ],
     "id": ""
    }
   },
   "outputs": [],
   "source": [
    "# syntax\n",
    "list3 = list1 +list2"
   ]
  },
  {
   "cell_type": "code",
   "execution_count": null,
   "id": "37d30ab4",
   "metadata": {
    "attributes": {
     "classes": [
      "py"
     ],
     "id": ""
    }
   },
   "outputs": [],
   "source": [
    "positive_numbers = [1, 2, 3,4,5]\n",
    "zero = [0]\n",
    "negative_numbers = [-5,-4,-3,-2,-1]\n",
    "integers = negative_numbers + zero + positive_numbers\n",
    "print(integers)\n",
    "fruits = ['banana', 'orange', 'mango', 'lemon']\n",
    "vegetables = ['Tomato', 'Potato', 'Cabbage','Onion', 'Carrot'] \n",
    "fruits_and_vegetables = fruits + vegetables\n",
    "print(fruits_and_vegetables )\n"
   ]
  },
  {
   "cell_type": "code",
   "execution_count": null,
   "id": "8cecb262",
   "metadata": {
    "attributes": {
     "classes": [
      "py"
     ],
     "id": ""
    }
   },
   "outputs": [],
   "source": [
    "# output\n",
    "[-5, -4, -3, -2, -1, 0, 1, 2, 3, 4, 5]\n",
    "['banana', 'orange', 'mango', 'lemon', 'Tomato', 'Potato', 'Cabbage', 'Onion', 'Carrot']"
   ]
  },
  {
   "cell_type": "markdown",
   "id": "b39dfb5c",
   "metadata": {},
   "source": [
    "* Joining using extend() method"
   ]
  },
  {
   "cell_type": "code",
   "execution_count": null,
   "id": "b5c46598",
   "metadata": {
    "attributes": {
     "classes": [
      "py"
     ],
     "id": ""
    }
   },
   "outputs": [],
   "source": [
    "# syntax\n",
    "lst1 = ['item1', 'item2']\n",
    "lst2 = ['item3', 'item4','item5']\n",
    "list1.extend(list2)"
   ]
  },
  {
   "cell_type": "code",
   "execution_count": null,
   "id": "5f47f2d1",
   "metadata": {
    "attributes": {
     "classes": [
      "py"
     ],
     "id": ""
    }
   },
   "outputs": [],
   "source": [
    "num1 = [0, 1, 2, 3]\n",
    "num2= [4, 5,6]\n",
    "num1.extend(num2)\n",
    "print('Numbers:', num1)\n",
    "negative_numbers = [-5,-4,-3,-2,-1]\n",
    "positive_numbers = [1, 2, 3,4,5]\n",
    "zero = [0]\n",
    "\n",
    "negative_numbers.extend(zero)\n",
    "negative_numbers.extend(positive_numbers)\n",
    "print('Integers:', negative_numbers)\n",
    "fruits = ['banana', 'orange', 'mango', 'lemon']\n",
    "vegetables = ['Tomato', 'Potato', 'Cabbage','Onion', 'Carrot'] \n",
    "fruits.extend(vegetables)\n",
    "print('Fruits and vegetables:', fruits )\n"
   ]
  },
  {
   "cell_type": "code",
   "execution_count": null,
   "id": "b0f259c0",
   "metadata": {
    "attributes": {
     "classes": [
      "py"
     ],
     "id": ""
    }
   },
   "outputs": [],
   "source": [
    "Numbers: [0, 1, 2, 3, 4, 5, 6]\n",
    "Integers: [-5, -4, -3, -2, -1, 0, 1, 2, 3, 4, 5]\n",
    "Fruits and vegetables: ['banana', 'orange', 'mango', 'lemon', 'Tomato', 'Potato', 'Cabbage', 'Onion', 'Carrot']"
   ]
  },
  {
   "cell_type": "markdown",
   "id": "3177d031",
   "metadata": {},
   "source": [
    "### Counting Items in a list\n",
    "The count() method returns the number of times an item appears in a list:\n",
    "  ```py\n",
    "  # syntax\n",
    "  lst = ['item1', 'item2']\n",
    "  lst.count(item) \n",
    "  ```\n",
    "  ```py\n",
    "  fruits = ['banana', 'orange', 'mango', 'lemon']\n",
    "  print(fruits.count('orange'))   # 1\n",
    "  ages = [22, 19, 24, 25, 26, 24, 25, 24]\n",
    "  print(ages.count(24))           # 3\n",
    "  ```\n",
    "### Finding index of an item\n",
    "The count() method returns the index of an item in the list:\n",
    "  ```py\n",
    "  # syntax\n",
    "  lst = ['item1', 'item2']\n",
    "  lst.index(item) \n",
    "  ```\n",
    "  ```py\n",
    "  fruits = ['banana', 'orange', 'mango', 'lemon']\n",
    "  print(fruits.index('orange'))   # 1\n",
    "  ages = [22, 19, 24, 25, 26, 24, 25, 24]\n",
    "  print(ages.index(24))           # 2, the first occurrence\n",
    "  ```\n",
    "### Reversing a list\n",
    "The reverse() method reverse the order of a list.\n",
    "  ```py\n",
    "  # syntax\n",
    "  lst = ['item1', 'item2']\n",
    "  lst.reverse() \n",
    "\n",
    "  ```\n",
    "  ```py\n",
    "  fruits = ['banana', 'orange', 'mango', 'lemon']\n",
    "  fruits.reverse()\n",
    "  print(fruits.reverse())  \n",
    "  ages = [22, 19, 24, 25, 26, 24, 25, 24]\n",
    "  ages.reverse()\n",
    "  print(ages.reverse())         \n",
    "  ```\n",
    "  ```py\n",
    "  ['lemon', 'mango', 'orange', 'banana']\n",
    "  [24, 25, 24, 26, 25, 24, 19, 22]\n",
    "  ```\n",
    "### Sorting list items\n",
    "To sort list we can use *sort() method or *sorted()* builtin function. The sort() method reorder the list items in ascending order and modify the original list. If a reverse is equal to true it arrange in descending order.\n",
    "* sort():\n",
    "  ```py\n",
    "  # syntax\n",
    "  lst = ['item1', 'item2']\n",
    "  lst.sort()                # ascending\n",
    "  lst.sort(reverse=True)    # descending\n",
    "  ```\n",
    "  **Example:**\n",
    "\n",
    "  ```py\n",
    "  fruits = ['banana', 'orange', 'mango', 'lemon']\n",
    "  fruits.sort()\n",
    "  print(fruits) \n",
    "  fruits.sort(reverse=True)\n",
    "  print(fruits)\n",
    "  ages = [22, 19, 24, 25, 26, 24, 25, 24]\n",
    "  ages.sort()\n",
    "  print(ages) \n",
    "  ages.sort(reverse=True)\n",
    "  print(ages)           \n",
    "  ```\n",
    "  ```sh\n",
    "  ['banana', 'lemon', 'mango', 'orange']\n",
    "  ['orange', 'mango', 'lemon', 'banana']\n",
    "  [19, 22, 24, 24, 24, 25, 25, 26]\n",
    "  [26, 25, 25, 24, 24, 24, 22, 19]\n",
    "  ```\n",
    "  sorted(): returns the ordered list without modifying the original\n",
    "  **Example:**\n",
    "   ```py\n",
    "  fruits = ['banana', 'orange', 'mango', 'lemon']\n",
    "  fruits = sorted(fruits)\n",
    "  print(fruits)     # ['banana', 'lemon', 'mango', 'orange']\n",
    "  # Reverse order\n",
    "  fruits = ['banana', 'orange', 'mango', 'lemon']\n",
    "  fruits = sorted(fruits,reverse=True)\n",
    "  print(fruits)     # ['orange', 'mango', 'lemon', 'banana']          \n",
    "  ```\n",
    "  \n",
    "## 💻 Exercises: Day 5\n",
    "1. Declare an empty list\n",
    "2. Declare a list with more than 5 number of items\n",
    "3. Find the length of your list\n",
    "4. Get the first item, the middle item and the last item of the list\n",
    "5. Declare a list called mixed_data_types,put your(name, age, height, marital status, address)\n",
    "6. Declare a list variable name it_companies and assign initial values Facebook, Google, Microsoft, Apple, IBM, Oracle and Amazon.\n",
    "7. Print the list using *print()*\n",
    "8. Print the number of companies in the list\n",
    "9. Print the first, middle and last company\n",
    "10. Print modify any of the companies\n",
    "11. Add an IT company to it_companies\n",
    "12. Insert an IT company in the middle of the companies list\n",
    "13. Change one of the it_companies item to uppercase\n",
    "14. Join the it_companies with a string '#;&nbsp; '\n",
    "15. Check if a certain company exists in the it_companies list. \n",
    "16. Sort the list using sort() method\n",
    "17. Reverse the list in descending order using reverse() method\n",
    "18. Slice out the first 3 companies from the list\n",
    "19. Slice out the last 3 companies from the list\n",
    "20. Slice out the middle IT company or companies from the list\n",
    "21. Remove the first IT company from the list\n",
    "22. Remove the middle IT company or companies from the list\n",
    "23. Remove the last IT company from the list\n",
    "24. Remove all IT companies item\n",
    "25. Destroy the IT companies list\n",
    "26. Join the following lists:\n",
    "    ```py\n",
    "    front_end = ['HTML', 'CSS', 'JS', 'React', 'Redux']\n",
    "    back_end = ['Node','Express', 'MongoDB']\n",
    "    ```\n",
    "27. After joining the lists in question 26. Copy the joined list and assigned it to a variable full_stack. Then insert, Python and SQL after Redux.\n",
    "28. The following is a list of 10 students ages:"
   ]
  },
  {
   "cell_type": "code",
   "execution_count": null,
   "id": "07cf641a",
   "metadata": {
    "attributes": {
     "classes": [
      "sh"
     ],
     "id": ""
    }
   },
   "outputs": [],
   "source": [
    "ages = [19, 22, 19, 24, 20, 25, 26, 24, 25, 24]"
   ]
  },
  {
   "cell_type": "markdown",
   "id": "30297b9e",
   "metadata": {},
   "source": [
    "* Sort the list and find the min and max age\n",
    "  * Add the min age and the max age\n",
    "  * Find the median age(one middle item or two middle items divided by two)\n",
    "  * Find the average age(all items divided by number of items)\n",
    "  * Find the range of the ages(max minus min)\n",
    "  * Compare the value of (min - average) and (max - average), use *abs()* method\n",
    "29. Find the middle country(ies) in the [countries list](https://github.com/Asabeneh/30-Days-Of-Python/tree/master/data/countries.py)\n",
    "30. Divide the countries list into two equal lists if it is even if not one more country for the first half.\n",
    "31. ['China', 'Russia', 'USA', 'Finland', 'Sweden', 'Norway', 'Denmark']. Unpack the first three countries and the rest as scandic countries.\n",
    "\n",
    "# Day 6:\n",
    "## Tuple\n",
    "A tuple is a collection of different data types which is ordered and unchangeable(immutable). Tuples are written with round brackets,(). Once a tuple is created, we can not change its values. We can not add, insert, remove a tuple because it is not modifiable (mutable). Unlike list, tuple has few methods. Methods related to tuple:\n",
    "* tuple(): to create an empty tuple\n",
    "* count(): to count the number of a specified item in a tuple\n",
    "* index(): to find the index of a specified item in a tuple\n",
    "* + operator: to join two or more tuples and to create new tuple\n",
    "### Creating Tuple\n",
    "\n",
    "* Empty tuple: Creating an empty tuple\n",
    "  ```py\n",
    "  # syntax\n",
    "  empty_tuple = () \n",
    "  # or using the tuple constructor\n",
    "  empty_tuple = tuple()\n",
    "  ```\n",
    "* Tuple with initial values\n",
    "  ```py\n",
    "  # syntax\n",
    "  tpl = ('item1', 'item2','item3')\n",
    "  ```\n",
    "  * \n",
    "  ```py\n",
    "  fruits = ('banana', 'orange', 'mango', 'lemon')\n",
    "  ```\n",
    "### Tuple length\n",
    "We use the *len()* method to get the length of a tuple.\n",
    "  ```py\n",
    "  # syntax\n",
    "  tpl = ('item1', 'item2', 'item3')\n",
    "  len(tpl)\n",
    "  ```\n",
    "### Accessing tuple items\n",
    "* Positive Indexing\n",
    "Similar to the list data type we use positive or negative indexing to access tuple items.\n",
    "![Accessing tuple items](images/tuples_index.png)\n",
    "\n",
    "  ```py\n",
    "  # Syntax\n",
    "  tpl = ('item1', 'item2', 'item3')\n",
    "  first_item = tpl[0]\n",
    "  second_item = tpl[1]\n",
    "  ```\n",
    "  ```py\n",
    "  fruits = ('banana', 'orange', 'mango', 'lemon')\n",
    "  first_fruit = fruits[0]\n",
    "  second_fruit = fruits[1]\n",
    "  last_index =len(fruits) - 1\n",
    "  last_fruit = fruits[las_index]\n",
    "  ```\n",
    "* Negative indexing\n",
    "Negative indexing means beginning from the end, -1 refers to the last item, -2 refers to the second last and the negative of the list length refers to the first item.\n",
    "![Tuple Negative indexing](images/tuple_negative_indexing.png)\n",
    "  ```py\n",
    "  # Syntax\n",
    "  tpl = ('item1', 'item2', 'item3','item4')\n",
    "  first_item = tpl[-4]\n",
    "  second_item = tpl[-3]\n",
    "  ```\n",
    "  ```py\n",
    "  fruits = ('banana', 'orange', 'mango', 'lemon')\n",
    "  first_fruit = fruits[-4]\n",
    "  second_fruit = fruits[-3]\n",
    "  last_fruit = fruits[-1]\n",
    "  ```\n",
    "### Slicing tuples\n",
    "We can slice out a sub tuple by  specifying a range of indexes where to start and where to end in the tuple, the return value will be a new tuple with the specified items.\n",
    "\n",
    "* Range of Positive Indexes\n",
    "\n",
    "  ```py\n",
    "  # Syntax\n",
    "  tpl = ('item1', 'item2', 'item3','item4')\n",
    "  all_items = tpl[0:4]         # all items\n",
    "  all_items = tpl[0:]         # all items\n",
    "  middle_two_items = tpl[1:3]  # does not include item at index 3\n",
    "  ```\n",
    "  ```py\n",
    "  fruits = ('banana', 'orange', 'mango', 'lemon')\n",
    "  all_fruits = fruits[0:4]    # all items\n",
    "  all_fruits= fruits[0:]      # all items\n",
    "  orange_mango = fruits[1:3]  # doesn't include item at index 3\n",
    "  orange_to_the_rest = fruits[1:]\n",
    "  ```\n",
    "\n",
    "* Range of Negative Indexes\n",
    "\n",
    "  ```py\n",
    "  # Syntax\n",
    "  tpl = ('item1', 'item2', 'item3','item4')\n",
    "  all_items = tpl[-4:]         # all items\n",
    "  middle_two_items = tpl[-3:-1]  # does not include item at index 3\n",
    "  ```\n",
    "  ```py\n",
    "  fruits = ('banana', 'orange', 'mango', 'lemon')\n",
    "  all_fruits = fruits[-4:]    # all items\n",
    "  orange_mango = fruits[-3:-1]  # doesn't include item at index 3\n",
    "  orange_to_the_rest = fruits[-3:]\n",
    "  ```\n",
    "### Changing tuples to list\n",
    "We can change tuples to list and list to tuple. Tuple is immutable if we want to modify a tuple we should change to a list.\n",
    "  ```py\n",
    "  # Syntax\n",
    "  tpl = ('item1', 'item2', 'item3','item4')\n",
    "  lst = list(tpl)\n",
    "  ```\n",
    "  ```py\n",
    "  fruits = ('banana', 'orange', 'mango', 'lemon')\n",
    "  fruits = list(fruits)\n",
    "  fruits[0] = 'apple'\n",
    "  print(fruits)     # ['apple', 'orange', 'mango', 'lemon']\n",
    "  fruits = tuple(fruits)\n",
    "  print(fruits)     # ('apple', 'orange', 'mango', 'lemon')\n",
    "  ```\n",
    "### Checking an item in a list\n",
    "We can check an item if it exists in a list or not using *in*, it returns boolean.\n",
    "  ```py\n",
    "  # Syntax\n",
    "  tpl = ('item1', 'item2', 'item3','item4')\n",
    "  'item2' in tpl # True\n",
    "  ```\n",
    "  ```py\n",
    "  fruits = ('banana', 'orange', 'mango', 'lemon')\n",
    "  'orange' in fruits # True\n",
    "  'apple' in fruits # False\n",
    "  fruits[0] = 'apple'\n",
    "  ```\n",
    "### Joining tuples\n",
    "We can join two or more tuples using + operator\n",
    "  ```py\n",
    "  # syntax\n",
    "  tpl1 = ('item1', 'item2', 'item3')\n",
    "  tpl2 = ('item4', 'item5','item6')\n",
    "  tpl3 = tpl1 + tpl2\n",
    "  ```\n",
    "  ```py\n",
    "  fruits = ('banana', 'orange', 'mango', 'lemon')                    \n",
    "  vegetables = ('Tomato', 'Potato', 'Cabbage','Onion', 'Carrot')\n",
    "  fruits_and_vegetables = fruits + vegetables \n",
    "  ```\n",
    "### Deleting tuple\n",
    "It is not possible to remove a single item in a tuple but it is possible to delete the tuple itself using *del*.\n",
    "  ```py\n",
    "  # syntax\n",
    "  tpl1 = ('item1', 'item2', 'item3')\n",
    "  del tpl1\n",
    "\n",
    "  ```\n",
    "  ```py\n",
    "  fruits = ('banana', 'orange', 'mango', 'lemon') \n",
    "  del fruits                  \n",
    "  ```\n",
    "\n",
    "\n",
    "## 💻 Exercises: Day 6\n",
    "1. Create an empty tuple\n",
    "2. Create a tuple containing name of your sisters and your brothers\n",
    "3. Join brothers and sisters tuples and assign it to siblings\n",
    "4. How many siblings do you have ?\n",
    "5. Modify the siblings tuple and add the name of your father and mother and assign it to family_members\n",
    "6. Unpack siblings and parents from family_members\n",
    "7. Create a fruits, vegetables and animal products tuples. Join the three tuples and assign it to a variable called food_stuff. \n",
    "8. Slice out the middle item or items from the food_staff list\n",
    "9. Slice out the first three items and the last three items from food_staff list\n",
    "10. Delete the food_staff list completely\n",
    "11. Check if an item exist in a tuple:\n",
    "* Check if 'Estonia' is a nordic country\n",
    "* Check if 'Iceland' is a nordic country\n",
    "  ```py\n",
    "  nordic_countries = ('Denmark', 'Finland','Iceland', 'Norway', 'Sweden')\n",
    "  ```\n",
    "\n",
    "[<< Part 1](https://github.com/Asabeneh/30-Days-Of-Python/blob/master/readme.md) | [Part 3>>](https://github.com/Asabeneh/30-Days-Of-Python/blob/master/readme7-9.md)"
   ]
  }
 ],
 "metadata": {},
 "nbformat": 4,
 "nbformat_minor": 5
}
