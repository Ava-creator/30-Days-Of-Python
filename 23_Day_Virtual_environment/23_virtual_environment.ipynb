{
 "cells": [
  {
   "cell_type": "markdown",
   "id": "95a20484",
   "metadata": {},
   "source": [
    "<div align=\"center\">\n",
    "  <h1> 30 Days Of Python: Day 23 - Virtual Environment </h1>\n",
    "  <a class=\"header-badge\" target=\"_blank\" href=\"https://www.linkedin.com/in/asabeneh/\">\n",
    "  <img src=\"https://img.shields.io/badge/style--5eba00.svg?label=LinkedIn&logo=linkedin&style=social\">\n",
    "  </a>\n",
    "  <a class=\"header-badge\" target=\"_blank\" href=\"https://twitter.com/Asabeneh\">\n",
    "  <img alt=\"Twitter Follow\" src=\"https://img.shields.io/twitter/follow/asabeneh?style=social\">\n",
    "  </a>\n",
    "\n",
    "<sub>Author:\n",
    "<a href=\"https://www.linkedin.com/in/asabeneh/\" target=\"_blank\">Oludayo adeoye</a><br>\n",
    "<small> Second Edition: July, 2021</small>\n",
    "</sub>\n",
    "</div>\n",
    "\n",
    "[<< Day 22](../22_Day_Web_scraping/22_web_scraping.md) | [Day 24 >>](../24_Day_Statistics/24_statistics.md)\n",
    "\n",
    "![30DaysOfPython](../images/30DaysOfPython_banner3@2x.png)\n",
    "\n",
    "- [📘 Day 23](#-day-23)\n",
    "  - [Setting up Virtual Environments](#setting-up-virtual-environments)\n",
    "  - [💻 Exercises: Day 23](#-exercises-day-23)\n",
    "\n",
    "# 📘 Day 23\n",
    "\n",
    "## Setting up Virtual Environments\n",
    "\n",
    "To start with project, it would be better to have a virtual environment. Virtual environment can help us to create an isolated or separate environment. This will help us to avoid conflicts in dependencies across projects. If you write pip freeze on your terminal you will see all the installed packages on your computer. If we use virtualenv, we will access only packages which are specific for that project. Open your terminal and install virtualenv"
   ]
  },
  {
   "cell_type": "code",
   "execution_count": null,
   "id": "ba4271ef",
   "metadata": {
    "attributes": {
     "classes": [
      "sh"
     ],
     "id": ""
    }
   },
   "outputs": [],
   "source": [
    "asabeneh@Asabeneh:~$ pip install virtualenv"
   ]
  },
  {
   "cell_type": "markdown",
   "id": "224fa83e",
   "metadata": {},
   "source": [
    "Inside the 30DaysOfPython folder create a flask_project folder.\n",
    "\n",
    "After installing the virtualenv package go to your project folder and create a virtual env by writing:\n",
    "\n",
    "For Mac/Linux:"
   ]
  },
  {
   "cell_type": "code",
   "execution_count": null,
   "id": "422c0a13",
   "metadata": {
    "attributes": {
     "classes": [
      "sh"
     ],
     "id": ""
    }
   },
   "outputs": [],
   "source": [
    "asabeneh@Asabeneh:~/Desktop/30DaysOfPython/flask_project\\$ virtualenv venv\n"
   ]
  },
  {
   "cell_type": "markdown",
   "id": "739ec158",
   "metadata": {},
   "source": [
    "For Windows:"
   ]
  },
  {
   "cell_type": "code",
   "execution_count": null,
   "id": "ccb7ddfc",
   "metadata": {
    "attributes": {
     "classes": [
      "sh"
     ],
     "id": ""
    }
   },
   "outputs": [],
   "source": [
    "C:\\Users\\User\\Documents\\30DaysOfPython\\flask_project>python -m venv venv"
   ]
  },
  {
   "cell_type": "markdown",
   "id": "d27aec97",
   "metadata": {},
   "source": [
    "I prefer to call the new project venv, but feel free to name it differently. Let us check if the the venv was created by using ls (or dir for windows command prompt) command."
   ]
  },
  {
   "cell_type": "code",
   "execution_count": null,
   "id": "d406d63b",
   "metadata": {
    "attributes": {
     "classes": [
      "sh"
     ],
     "id": ""
    }
   },
   "outputs": [],
   "source": [
    "asabeneh@Asabeneh:~/Desktop/30DaysOfPython/flask_project$ ls\n",
    "venv/"
   ]
  },
  {
   "cell_type": "markdown",
   "id": "05ede498",
   "metadata": {},
   "source": [
    "Let us activate the virtual environment by writing the following command at our project folder.\n",
    "\n",
    "For Mac/Linux:"
   ]
  },
  {
   "cell_type": "code",
   "execution_count": null,
   "id": "313aaa31",
   "metadata": {
    "attributes": {
     "classes": [
      "sh"
     ],
     "id": ""
    }
   },
   "outputs": [],
   "source": [
    "asabeneh@Asabeneh:~/Desktop/30DaysOfPython/flask_project$ source venv/bin/activate"
   ]
  },
  {
   "cell_type": "markdown",
   "id": "3905b801",
   "metadata": {},
   "source": [
    "Activation of the virtual environment in Windows may very on Windows Power shell and git bash. \n",
    "\n",
    "For Windows Power Shell:"
   ]
  },
  {
   "cell_type": "code",
   "execution_count": null,
   "id": "27778fdd",
   "metadata": {
    "attributes": {
     "classes": [
      "sh"
     ],
     "id": ""
    }
   },
   "outputs": [],
   "source": [
    "C:\\Users\\User\\Documents\\30DaysOfPython\\flask_project> venv\\Scripts\\activate"
   ]
  },
  {
   "cell_type": "markdown",
   "id": "46ffb874",
   "metadata": {},
   "source": [
    "For Windows Git bash:"
   ]
  },
  {
   "cell_type": "code",
   "execution_count": null,
   "id": "edf7ce4b",
   "metadata": {
    "attributes": {
     "classes": [
      "sh"
     ],
     "id": ""
    }
   },
   "outputs": [],
   "source": [
    "C:\\Users\\User\\Documents\\30DaysOfPython\\flask_project> venv\\Scripts\\. activate"
   ]
  },
  {
   "cell_type": "markdown",
   "id": "e3ecf6af",
   "metadata": {},
   "source": [
    "After you write the activation command, your project directory will start with venv. See the example below."
   ]
  },
  {
   "cell_type": "code",
   "execution_count": null,
   "id": "da8dcc3c",
   "metadata": {
    "attributes": {
     "classes": [
      "sh"
     ],
     "id": ""
    }
   },
   "outputs": [],
   "source": [
    "(venv) asabeneh@Asabeneh:~/Desktop/30DaysOfPython/flask_project$"
   ]
  },
  {
   "cell_type": "markdown",
   "id": "922fa930",
   "metadata": {},
   "source": [
    "Now, lets check the available packages in this project by writing pip freeze. You will not see any packages.\n",
    "\n",
    "We are going to do a small flask project so let us install flask package to this project."
   ]
  },
  {
   "cell_type": "code",
   "execution_count": null,
   "id": "325252ff",
   "metadata": {
    "attributes": {
     "classes": [
      "sh"
     ],
     "id": ""
    }
   },
   "outputs": [],
   "source": [
    "(venv) asabeneh@Asabeneh:~/Desktop/30DaysOfPython/flask_project$ pip install Flask"
   ]
  },
  {
   "cell_type": "markdown",
   "id": "0bffa18e",
   "metadata": {},
   "source": [
    "Now, let us write pip freeze to see a list of installed packages in the project:"
   ]
  },
  {
   "cell_type": "code",
   "execution_count": null,
   "id": "382bee61",
   "metadata": {
    "attributes": {
     "classes": [
      "sh"
     ],
     "id": ""
    }
   },
   "outputs": [],
   "source": [
    "(venv) asabeneh@Asabeneh:~/Desktop/30DaysOfPython/flask_project$ pip freeze\n",
    "Click==7.0\n",
    "Flask==1.1.1\n",
    "itsdangerous==1.1.0\n",
    "Jinja2==2.10.3\n",
    "MarkupSafe==1.1.1\n",
    "Werkzeug==0.16.0"
   ]
  },
  {
   "cell_type": "markdown",
   "id": "8f396d40",
   "metadata": {},
   "source": [
    "When you finish you should dactivate active project using _deactivate_."
   ]
  },
  {
   "cell_type": "code",
   "execution_count": null,
   "id": "59a7a81b",
   "metadata": {
    "attributes": {
     "classes": [
      "sh"
     ],
     "id": ""
    }
   },
   "outputs": [],
   "source": [
    "(venv) asabeneh@Asabeneh:~/Desktop/30DaysOfPython$ deactivate"
   ]
  },
  {
   "cell_type": "markdown",
   "id": "04eec8eb",
   "metadata": {},
   "source": [
    "The necessary modules to work with flask are installed. Now, your project directory is ready for a flask project. You should include the venv to your .gitignore file not to push it to github.\n",
    "\n",
    "## 💻 Exercises: Day 23\n",
    "\n",
    "1. Create a project directory with a virtual environment based on the example given above.\n",
    "\n",
    "🎉 CONGRATULATIONS ! 🎉\n",
    "\n",
    "[<< Day 22](../22_Day_Web_scraping/22_web_scraping.md) | [Day 24 >>](../24_Day_Statistics/24_statistics.md)"
   ]
  }
 ],
 "metadata": {},
 "nbformat": 4,
 "nbformat_minor": 5
}
