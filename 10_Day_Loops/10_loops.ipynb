{
 "cells": [
  {
   "cell_type": "markdown",
   "id": "e0fc8103",
   "metadata": {},
   "source": [
    "<div align=\"center\">\n",
    "  <h1> 30 Days Of Python: Day 10 - Loops</h1>\n",
    "  <a class=\"header-badge\" target=\"_blank\" href=\"https://www.linkedin.com/in/asabeneh/\">\n",
    "  <img src=\"https://img.shields.io/badge/style--5eba00.svg?label=LinkedIn&logo=linkedin&style=social\">\n",
    "  </a>\n",
    "  <a class=\"header-badge\" target=\"_blank\" href=\"https://twitter.com/Asabeneh\">\n",
    "  <img alt=\"Twitter Follow\" src=\"https://img.shields.io/twitter/follow/asabeneh?style=social\">\n",
    "  </a>\n",
    "\n",
    "<sub>Author:\n",
    "<a href=\"https://www.linkedin.com/in/asabeneh/\" target=\"_blank\">Asabeneh Yetayeh</a><br>\n",
    "<small> Second Edition: July, 2021</small>\n",
    "</sub>\n",
    "</div>\n",
    "\n",
    "[<< Day 9](../09_Day_Conditionals/09_conditionals.md) | [Day 11 >>](../11_Day_Functions/11_functions.md)\n",
    "\n",
    "![30DaysOfPython](../images/30DaysOfPython_banner3@2x.png)\n",
    "\n",
    "- [📘 Day 10](#-day-10)\n",
    "  - [Loops](#loops)\n",
    "    - [While Loop](#while-loop)\n",
    "    - [Break and Continue - Part 1](#break-and-continue---part-1)\n",
    "    - [For Loop](#for-loop)\n",
    "    - [Break and Continue - Part 2](#break-and-continue---part-2)\n",
    "    - [The Range Function](#the-range-function)\n",
    "    - [Nested For Loop](#nested-for-loop)\n",
    "    - [For Else](#for-else)\n",
    "    - [Pass](#pass)\n",
    "  - [💻 Exercises: Day 10](#-exercises-day-10)\n",
    "    - [Exercises: Level 1](#exercises-level-1)\n",
    "    - [Exercises: Level 2](#exercises-level-2)\n",
    "    - [Exercises: Level 3](#exercises-level-3)\n",
    "\n",
    "# 📘 Day 10\n",
    "\n",
    "## Loops\n",
    "\n",
    "Life is full of routines. In programming we also do lots of repetitive tasks. In order to handle repetitive task programming languages use loops. Python programming language also provides the following types of two loops:\n",
    "\n",
    "1. while loop\n",
    "2. for loop\n",
    "\n",
    "### While Loop\n",
    "\n",
    "We use the reserved word _while_ to make a while loop. It is used to execute a block of statements repeatedly until a given condition is satisfied. When the condition becomes false, the lines of code after the loop will be continued to be executed."
   ]
  },
  {
   "cell_type": "code",
   "execution_count": null,
   "id": "e43a4599",
   "metadata": {
    "attributes": {
     "classes": [
      "py"
     ],
     "id": ""
    }
   },
   "outputs": [],
   "source": [
    "  # syntax\n",
    "while condition:\n",
    "    code goes here"
   ]
  },
  {
   "cell_type": "markdown",
   "id": "35d21f9c",
   "metadata": {},
   "source": [
    "**Example:**"
   ]
  },
  {
   "cell_type": "code",
   "execution_count": null,
   "id": "f28ae254",
   "metadata": {
    "attributes": {
     "classes": [
      "py"
     ],
     "id": ""
    }
   },
   "outputs": [],
   "source": [
    "count = 0\n",
    "while count < 5:\n",
    "    print(count)\n",
    "    count = count + 1\n",
    "#prints from 0 to 4"
   ]
  },
  {
   "cell_type": "markdown",
   "id": "9eac24b2",
   "metadata": {},
   "source": [
    "In the above while loop, the condition becomes false when count is 5. That is when the loop stops.\n",
    "If we are interested to run block of code once the condition is no longer true, we can use _else_."
   ]
  },
  {
   "cell_type": "code",
   "execution_count": null,
   "id": "36266d27",
   "metadata": {
    "attributes": {
     "classes": [
      "py"
     ],
     "id": ""
    }
   },
   "outputs": [],
   "source": [
    "  # syntax\n",
    "while condition:\n",
    "    code goes here\n",
    "else:\n",
    "    code goes here"
   ]
  },
  {
   "cell_type": "markdown",
   "id": "d9a22d45",
   "metadata": {},
   "source": [
    "**Example:**"
   ]
  },
  {
   "cell_type": "code",
   "execution_count": null,
   "id": "11454438",
   "metadata": {
    "attributes": {
     "classes": [
      "py"
     ],
     "id": ""
    }
   },
   "outputs": [],
   "source": [
    "count = 0\n",
    "while count < 5:\n",
    "    print(count)\n",
    "    count = count + 1\n",
    "else:\n",
    "    print(count)"
   ]
  },
  {
   "cell_type": "markdown",
   "id": "f6e21501",
   "metadata": {},
   "source": [
    "The above loop condition will be false when count is 5 and the loop stops, and execution starts the else statement. As a result 5 will be printed.\n",
    "\n",
    "\n",
    "### Break and Continue - Part 1\n",
    "\n",
    "- Break: We use break when we like to get out of or stop the loop."
   ]
  },
  {
   "cell_type": "code",
   "execution_count": null,
   "id": "d17ffca7",
   "metadata": {
    "attributes": {
     "classes": [
      "py"
     ],
     "id": ""
    }
   },
   "outputs": [],
   "source": [
    "# syntax\n",
    "while condition:\n",
    "    code goes here\n",
    "    if another_condition:\n",
    "        break"
   ]
  },
  {
   "cell_type": "markdown",
   "id": "bb5c8042",
   "metadata": {},
   "source": [
    "**Example:**"
   ]
  },
  {
   "cell_type": "code",
   "execution_count": null,
   "id": "62c8e14f",
   "metadata": {
    "attributes": {
     "classes": [
      "py"
     ],
     "id": ""
    }
   },
   "outputs": [],
   "source": [
    "count = 0\n",
    "while count < 5:\n",
    "    print(count)\n",
    "    count = count + 1\n",
    "    if count == 3:\n",
    "        break"
   ]
  },
  {
   "cell_type": "markdown",
   "id": "f594fc88",
   "metadata": {},
   "source": [
    "The above while loop only prints 0, 1, 2, but when it reaches 3 it stops.\n",
    "\n",
    "- Continue: With the continue statement we can skip the current iteration, and continue with the next:"
   ]
  },
  {
   "cell_type": "code",
   "execution_count": null,
   "id": "24ab3d1e",
   "metadata": {
    "attributes": {
     "classes": [
      "py"
     ],
     "id": ""
    }
   },
   "outputs": [],
   "source": [
    "  # syntax\n",
    "while condition:\n",
    "    code goes here\n",
    "    if another_condition:\n",
    "        continue"
   ]
  },
  {
   "cell_type": "markdown",
   "id": "48694512",
   "metadata": {},
   "source": [
    "**Example:**"
   ]
  },
  {
   "cell_type": "code",
   "execution_count": null,
   "id": "395e7e82",
   "metadata": {
    "attributes": {
     "classes": [
      "py"
     ],
     "id": ""
    }
   },
   "outputs": [],
   "source": [
    "count = 0\n",
    "while count < 5:\n",
    "    if count == 3:\n",
    "        count = count + 1\n",
    "        continue\n",
    "    print(count)\n",
    "    count = count + 1"
   ]
  },
  {
   "cell_type": "markdown",
   "id": "fbec452b",
   "metadata": {},
   "source": [
    "The above while loop only prints 0, 1, 2 and 4 (skips 3).\n",
    "\n",
    "### For Loop\n",
    "\n",
    "A _for_ keyword is used to make a for loop, similar with other programming languages, but with some syntax differences. Loop is used for iterating over a sequence (that is either a list, a tuple, a dictionary, a set, or a string).\n",
    "\n",
    "- For loop with list"
   ]
  },
  {
   "cell_type": "code",
   "execution_count": null,
   "id": "d0b72710",
   "metadata": {
    "attributes": {
     "classes": [
      "py"
     ],
     "id": ""
    }
   },
   "outputs": [],
   "source": [
    "# syntax\n",
    "for iterator in lst:\n",
    "    code goes here"
   ]
  },
  {
   "cell_type": "markdown",
   "id": "0b4b19b8",
   "metadata": {},
   "source": [
    "**Example:**"
   ]
  },
  {
   "cell_type": "code",
   "execution_count": null,
   "id": "65667fe7",
   "metadata": {
    "attributes": {
     "classes": [
      "py"
     ],
     "id": ""
    }
   },
   "outputs": [],
   "source": [
    "numbers = [0, 1, 2, 3, 4, 5]\n",
    "for number in numbers: # number is temporary name to refer to the list's items, valid only inside this loop\n",
    "    print(number)       # the numbers will be printed line by line, from 0 to 5"
   ]
  },
  {
   "cell_type": "markdown",
   "id": "6716eb2a",
   "metadata": {},
   "source": [
    "- For loop with string"
   ]
  },
  {
   "cell_type": "code",
   "execution_count": null,
   "id": "65eaf7a8",
   "metadata": {
    "attributes": {
     "classes": [
      "py"
     ],
     "id": ""
    }
   },
   "outputs": [],
   "source": [
    "# syntax\n",
    "for iterator in string:\n",
    "    code goes here"
   ]
  },
  {
   "cell_type": "markdown",
   "id": "ce4ed869",
   "metadata": {},
   "source": [
    "**Example:**"
   ]
  },
  {
   "cell_type": "code",
   "execution_count": null,
   "id": "9e238401",
   "metadata": {
    "attributes": {
     "classes": [
      "py"
     ],
     "id": ""
    }
   },
   "outputs": [],
   "source": [
    "language = 'Python'\n",
    "for letter in language:\n",
    "    print(letter)\n",
    "\n",
    "\n",
    "for i in range(len(language)):\n",
    "    print(language[i])"
   ]
  },
  {
   "cell_type": "markdown",
   "id": "b0b18693",
   "metadata": {},
   "source": [
    "- For loop with tuple"
   ]
  },
  {
   "cell_type": "code",
   "execution_count": null,
   "id": "bc8884ee",
   "metadata": {
    "attributes": {
     "classes": [
      "py"
     ],
     "id": ""
    }
   },
   "outputs": [],
   "source": [
    "# syntax\n",
    "for iterator in tpl:\n",
    "    code goes here"
   ]
  },
  {
   "cell_type": "markdown",
   "id": "449c40b3",
   "metadata": {},
   "source": [
    "**Example:**"
   ]
  },
  {
   "cell_type": "code",
   "execution_count": null,
   "id": "0d0871f1",
   "metadata": {
    "attributes": {
     "classes": [
      "py"
     ],
     "id": ""
    }
   },
   "outputs": [],
   "source": [
    "numbers = (0, 1, 2, 3, 4, 5)\n",
    "for number in numbers:\n",
    "    print(number)"
   ]
  },
  {
   "cell_type": "markdown",
   "id": "7ad0eff3",
   "metadata": {},
   "source": [
    "- For loop with dictionary\n",
    "  Looping through a dictionary gives you the key of the dictionary."
   ]
  },
  {
   "cell_type": "code",
   "execution_count": null,
   "id": "87f39a83",
   "metadata": {
    "attributes": {
     "classes": [
      "py"
     ],
     "id": ""
    }
   },
   "outputs": [],
   "source": [
    "  # syntax\n",
    "for iterator in dct:\n",
    "    code goes here"
   ]
  },
  {
   "cell_type": "markdown",
   "id": "fd91175f",
   "metadata": {},
   "source": [
    "**Example:**"
   ]
  },
  {
   "cell_type": "code",
   "execution_count": null,
   "id": "6d3f36b8",
   "metadata": {
    "attributes": {
     "classes": [
      "py"
     ],
     "id": ""
    }
   },
   "outputs": [],
   "source": [
    "person = {\n",
    "    'first_name':'Asabeneh',\n",
    "    'last_name':'Yetayeh',\n",
    "    'age':250,\n",
    "    'country':'Finland',\n",
    "    'is_marred':True,\n",
    "    'skills':['JavaScript', 'React', 'Node', 'MongoDB', 'Python'],\n",
    "    'address':{\n",
    "        'street':'Space street',\n",
    "        'zipcode':'02210'\n",
    "    }\n",
    "}\n",
    "for key in person:\n",
    "    print(key)\n",
    "\n",
    "for key, value in person.items():\n",
    "    print(key, value) # this way we get both keys and values printed out"
   ]
  },
  {
   "cell_type": "markdown",
   "id": "90cbef6c",
   "metadata": {},
   "source": [
    "- Loops in set"
   ]
  },
  {
   "cell_type": "code",
   "execution_count": null,
   "id": "c4c95477",
   "metadata": {
    "attributes": {
     "classes": [
      "py"
     ],
     "id": ""
    }
   },
   "outputs": [],
   "source": [
    "# syntax\n",
    "for iterator in st:\n",
    "    code goes here"
   ]
  },
  {
   "cell_type": "markdown",
   "id": "03b3561c",
   "metadata": {},
   "source": [
    "**Example:**"
   ]
  },
  {
   "cell_type": "code",
   "execution_count": null,
   "id": "975185df",
   "metadata": {
    "attributes": {
     "classes": [
      "py"
     ],
     "id": ""
    }
   },
   "outputs": [],
   "source": [
    "it_companies = {'Facebook', 'Google', 'Microsoft', 'Apple', 'IBM', 'Oracle', 'Amazon'}\n",
    "for company in it_companies:\n",
    "    print(company)"
   ]
  },
  {
   "cell_type": "markdown",
   "id": "8d671aeb",
   "metadata": {},
   "source": [
    "### Break and Continue - Part 2\n",
    "\n",
    "Short reminder:\n",
    "_Break_: We use break when we like to stop our loop before it is completed."
   ]
  },
  {
   "cell_type": "code",
   "execution_count": null,
   "id": "1573a0ad",
   "metadata": {
    "attributes": {
     "classes": [
      "py"
     ],
     "id": ""
    }
   },
   "outputs": [],
   "source": [
    "# syntax\n",
    "for iterator in sequence:\n",
    "    code goes here\n",
    "    if condition:\n",
    "        break"
   ]
  },
  {
   "cell_type": "markdown",
   "id": "a3c367c1",
   "metadata": {},
   "source": [
    "**Example:**"
   ]
  },
  {
   "cell_type": "code",
   "execution_count": null,
   "id": "6657021e",
   "metadata": {
    "attributes": {
     "classes": [
      "py"
     ],
     "id": ""
    }
   },
   "outputs": [],
   "source": [
    "numbers = (0,1,2,3,4,5)\n",
    "for number in numbers:\n",
    "    print(number)\n",
    "    if number == 3:\n",
    "        break"
   ]
  },
  {
   "cell_type": "markdown",
   "id": "eaed1eaf",
   "metadata": {},
   "source": [
    "In the above example, the loop stops when it reaches 3.\n",
    "\n",
    "Continue: We use continue when we like to skip some of the steps in the iteration of the loop."
   ]
  },
  {
   "cell_type": "code",
   "execution_count": null,
   "id": "9647e8c8",
   "metadata": {
    "attributes": {
     "classes": [
      "py"
     ],
     "id": ""
    }
   },
   "outputs": [],
   "source": [
    "  # syntax\n",
    "for iterator in sequence:\n",
    "    code goes here\n",
    "    if condition:\n",
    "        continue"
   ]
  },
  {
   "cell_type": "markdown",
   "id": "dc12a86a",
   "metadata": {},
   "source": [
    "**Example:**"
   ]
  },
  {
   "cell_type": "code",
   "execution_count": null,
   "id": "5f4a65b2",
   "metadata": {
    "attributes": {
     "classes": [
      "py"
     ],
     "id": ""
    }
   },
   "outputs": [],
   "source": [
    "numbers = (0,1,2,3,4,5)\n",
    "for number in numbers:\n",
    "    print(number)\n",
    "    if number == 3:\n",
    "        continue\n",
    "    print('Next number should be ', number + 1) if number != 5 else print(\"loop's end\") # for short hand conditions need both if and else statements\n",
    "print('outside the loop')"
   ]
  },
  {
   "cell_type": "markdown",
   "id": "10d1e33c",
   "metadata": {},
   "source": [
    "In the example above, if the number equals 3, the step *after* the condition (but inside the loop) is skipped and the execution of the loop continues if there are any iterations left.\n",
    "\n",
    "### The Range Function\n",
    "\n",
    "The _range()_ function is used list of numbers. The _range(start, end, step)_ takes three parameters: starting, ending and increment. By default it starts from 0 and the increment is 1. The range sequence needs at least 1 argument (end).\n",
    "Creating sequences using range"
   ]
  },
  {
   "cell_type": "code",
   "execution_count": null,
   "id": "ba5e595c",
   "metadata": {
    "attributes": {
     "classes": [
      "py"
     ],
     "id": ""
    }
   },
   "outputs": [],
   "source": [
    "lst = list(range(11)) \n",
    "print(lst) # [0, 1, 2, 3, 4, 5, 6, 7, 8, 9, 10]\n",
    "st = set(range(1, 11))    # 2 arguments indicate start and end of the sequence, step set to default 1\n",
    "print(st) # {1, 2, 3, 4, 5, 6, 7, 8, 9, 10}\n",
    "\n",
    "lst = list(range(0,11,2))\n",
    "print(lst) # [0, 2, 4, 6, 8, 10]\n",
    "st = set(range(0,11,2))\n",
    "print(st) #  {0, 2, 4, 6, 8, 10}"
   ]
  },
  {
   "cell_type": "code",
   "execution_count": null,
   "id": "a28e0d12",
   "metadata": {
    "attributes": {
     "classes": [
      "py"
     ],
     "id": ""
    }
   },
   "outputs": [],
   "source": [
    "# syntax\n",
    "for iterator in range(start, end, step):"
   ]
  },
  {
   "cell_type": "markdown",
   "id": "b83ba926",
   "metadata": {},
   "source": [
    "**Example:**"
   ]
  },
  {
   "cell_type": "code",
   "execution_count": null,
   "id": "99fca860",
   "metadata": {
    "attributes": {
     "classes": [
      "py"
     ],
     "id": ""
    }
   },
   "outputs": [],
   "source": [
    "for number in range(11):\n",
    "    print(number)   # prints 0 to 10, not including 11"
   ]
  },
  {
   "cell_type": "markdown",
   "id": "0a96c322",
   "metadata": {},
   "source": [
    "### Nested For Loop\n",
    "\n",
    "We can write loops inside a loop."
   ]
  },
  {
   "cell_type": "code",
   "execution_count": null,
   "id": "b2d1354d",
   "metadata": {
    "attributes": {
     "classes": [
      "py"
     ],
     "id": ""
    }
   },
   "outputs": [],
   "source": [
    "# syntax\n",
    "for x in y:\n",
    "    for t in x:\n",
    "        print(t)"
   ]
  },
  {
   "cell_type": "markdown",
   "id": "a4a2f8b2",
   "metadata": {},
   "source": [
    "**Example:**"
   ]
  },
  {
   "cell_type": "code",
   "execution_count": null,
   "id": "949076a4",
   "metadata": {
    "attributes": {
     "classes": [
      "py"
     ],
     "id": ""
    }
   },
   "outputs": [],
   "source": [
    "person = {\n",
    "    'first_name': 'Asabeneh',\n",
    "    'last_name': 'Yetayeh',\n",
    "    'age': 250,\n",
    "    'country': 'Finland',\n",
    "    'is_marred': True,\n",
    "    'skills': ['JavaScript', 'React', 'Node', 'MongoDB', 'Python'],\n",
    "    'address': {\n",
    "        'street': 'Space street',\n",
    "        'zipcode': '02210'\n",
    "    }\n",
    "}\n",
    "for key in person:\n",
    "    if key == 'skills':\n",
    "        for skill in person['skills']:\n",
    "            print(skill)"
   ]
  },
  {
   "cell_type": "markdown",
   "id": "e3c1f308",
   "metadata": {},
   "source": [
    "### For Else\n",
    "\n",
    "If we want to execute some message when the loop ends, we use else."
   ]
  },
  {
   "cell_type": "code",
   "execution_count": null,
   "id": "73b00d0e",
   "metadata": {
    "attributes": {
     "classes": [
      "py"
     ],
     "id": ""
    }
   },
   "outputs": [],
   "source": [
    "# syntax\n",
    "for iterator in range(start, end, step):\n",
    "    do something\n",
    "else:\n",
    "    print('The loop ended')"
   ]
  },
  {
   "cell_type": "markdown",
   "id": "51f5817e",
   "metadata": {},
   "source": [
    "**Example:**"
   ]
  },
  {
   "cell_type": "code",
   "execution_count": null,
   "id": "64e9fb15",
   "metadata": {
    "attributes": {
     "classes": [
      "py"
     ],
     "id": ""
    }
   },
   "outputs": [],
   "source": [
    "for number in range(11):\n",
    "    print(number)   # prints 0 to 10, not including 11\n",
    "else:\n",
    "    print('The loop stops at', number)"
   ]
  },
  {
   "cell_type": "markdown",
   "id": "751e5522",
   "metadata": {},
   "source": [
    "### Pass\n",
    "\n",
    "In python when statement is required (after semicolon), but we don't like to execute any code there, we can write the word _pass_ to avoid errors. Also we can use it as a placeholder, for future statements.\n",
    "\n",
    "**Example:**"
   ]
  },
  {
   "cell_type": "code",
   "execution_count": null,
   "id": "64de79c8",
   "metadata": {
    "attributes": {
     "classes": [
      "py"
     ],
     "id": ""
    }
   },
   "outputs": [],
   "source": [
    "for number in range(6):\n",
    "    pass"
   ]
  },
  {
   "cell_type": "markdown",
   "id": "97b41a27",
   "metadata": {},
   "source": [
    "🌕 You established a big milestone, you are unstoppable. Keep going! You have just completed day 10 challenges and you are 10 steps a head in to your way to greatness. Now do some exercises for your brain and muscles.\n",
    "\n",
    "## 💻 Exercises: Day 10\n",
    "\n",
    "### Exercises: Level 1\n",
    "\n",
    "1. Iterate 0 to 10 using for loop, do the same using while loop.\n",
    "2. Iterate 10 to 0 using for loop, do the same using while loop.\n",
    "3. Write a loop that makes seven calls to print(), so we get on the output the following triangle:\n",
    "\n",
    "   ```py\n",
    "     #\n",
    "     ##\n",
    "     ###\n",
    "     ####\n",
    "     #####\n",
    "     ######\n",
    "     #######\n",
    "   ```\n",
    "\n",
    "4. Use nested loops to create the following:\n",
    "\n",
    "   ```sh\n",
    "   # # # # # # # #\n",
    "   # # # # # # # #\n",
    "   # # # # # # # #\n",
    "   # # # # # # # #\n",
    "   # # # # # # # #\n",
    "   # # # # # # # #\n",
    "   # # # # # # # #\n",
    "   # # # # # # # #\n",
    "   ```\n",
    "\n",
    "5. Print the following pattern:\n",
    "\n",
    "   ```sh\n",
    "   0 x 0 = 0\n",
    "   1 x 1 = 1\n",
    "   2 x 2 = 4\n",
    "   3 x 3 = 9\n",
    "   4 x 4 = 16\n",
    "   5 x 5 = 25\n",
    "   6 x 6 = 36\n",
    "   7 x 7 = 49\n",
    "   8 x 8 = 64\n",
    "   9 x 9 = 81\n",
    "   10 x 10 = 100\n",
    "   ```\n",
    "\n",
    "6. Iterate through the list, ['Python', 'Numpy','Pandas','Django', 'Flask'] using a for loop and print out the items.\n",
    "7. Use for loop to iterate from 0 to 100 and print only even numbers\n",
    "8. Use for loop to iterate from 0 to 100 and print only odd numbers\n",
    "   \n",
    "### Exercises: Level 2\n",
    "    \n",
    "1.  Use for loop to iterate from 0 to 100 and print the sum of all numbers.\n",
    "\n",
    "   ```sh\n",
    "   The sum of all numbers is 5050.\n",
    "   ```\n",
    "\n",
    "1. Use for loop to iterate from 0 to 100 and print the sum of all evens and the sum of all odds."
   ]
  },
  {
   "cell_type": "code",
   "execution_count": null,
   "id": "8cdac90f",
   "metadata": {},
   "outputs": [],
   "source": [
    "```sh\n",
    "The sum of all evens is 2550. And the sum of all odds is 2500.\n",
    "```"
   ]
  },
  {
   "cell_type": "markdown",
   "id": "9d3970d8",
   "metadata": {},
   "source": [
    "### Exercises: Level 3\n",
    "\n",
    "1. Go to the data folder and use the [countries.py](https://github.com/Asabeneh/30-Days-Of-Python/blob/master/data/countries.py) file. Loop through the countries and extract all the countries containing the word _land_.\n",
    "1. This is a fruit list, ['banana', 'orange', 'mango', 'lemon'] reverse the order using loop.\n",
    "2. Go to the data folder and use the [countries_data.py](https://github.com/Asabeneh/30-Days-Of-Python/blob/master/data/countries-data.py) file. \n",
    "   1. What are the total number of languages in the data\n",
    "   2. Find the ten most spoken languages from the data\n",
    "   3. Find the 10 most populated countries in the world\n",
    "\n",
    "🎉 CONGRATULATIONS ! 🎉\n",
    "\n",
    "[<< Day 9](../09_Day_Conditionals/09_conditionals.md) | [Day 11 >>](../11_Day_Functions/11_functions.md)"
   ]
  }
 ],
 "metadata": {},
 "nbformat": 4,
 "nbformat_minor": 5
}
