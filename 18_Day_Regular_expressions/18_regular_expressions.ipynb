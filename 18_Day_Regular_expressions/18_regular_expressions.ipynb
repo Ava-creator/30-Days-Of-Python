{
 "cells": [
  {
   "cell_type": "markdown",
   "id": "33aa8f0a",
   "metadata": {},
   "source": [
    "<div align=\"center\">\n",
    "  <h1> 30 Days Of Python: Day 18 - Regular Expressions </h1>\n",
    "  <a class=\"header-badge\" target=\"_blank\" href=\"https://www.linkedin.com/in/asabeneh/\">\n",
    "  <img src=\"https://img.shields.io/badge/style--5eba00.svg?label=LinkedIn&logo=linkedin&style=social\">\n",
    "  </a>\n",
    "  <a class=\"header-badge\" target=\"_blank\" href=\"https://twitter.com/Asabeneh\">\n",
    "  <img alt=\"Twitter Follow\" src=\"https://img.shields.io/twitter/follow/asabeneh?style=social\">\n",
    "  </a>\n",
    "\n",
    "  <sub>Author:\n",
    "  <a href=\"https://www.linkedin.com/in/asabeneh/\" target=\"_blank\">Oludayo adeoye</a><br>\n",
    "  <small> First Edition: Nov 22 - Dec 22, 2019</small>\n",
    "  </sub>\n",
    "</div>\n",
    "</div>\n",
    "\n",
    "[<< Day 17](../17_Day_Exception_handling/17_exception_handling.md) | [Day 19>>](../19_Day_File_handling/19_file_handling.md)\n",
    "\n",
    "![30DaysOfPython](../images/30DaysOfPython_banner3@2x.png)\n",
    "\n",
    "- [📘 Day 18](#-day-18)\n",
    "  - [Regular Expressions](#regular-expressions)\n",
    "    - [The *re* Module](#the-re-module)\n",
    "    - [Methods in *re* Module](#methods-in-re-module)\n",
    "      - [Match](#match)\n",
    "      - [Search](#search)\n",
    "      - [Searching for All Matches Using *findall*](#searching-for-all-matches-using-findall)\n",
    "      - [Replacing a Substring](#replacing-a-substring)\n",
    "  - [Splitting Text Using RegEx Split](#splitting-text-using-regex-split)\n",
    "  - [Writing RegEx Patterns](#writing-regex-patterns)\n",
    "    - [Square Bracket](#square-bracket)\n",
    "    - [Escape character(\\\\) in RegEx](#escape-character-in-regex)\n",
    "    - [One or more times(+)](#one-or-more-times)\n",
    "    - [Period(.)](#period)\n",
    "    - [Zero or more times(\\*)](#zero-or-more-times)\n",
    "    - [Zero or one time(?)](#zero-or-one-time)\n",
    "    - [Quantifier in RegEx](#quantifier-in-regex)\n",
    "    - [Cart ^](#cart-)\n",
    "  - [💻 Exercises: Day 18](#-exercises-day-18)\n",
    "    - [Exercises: Level 1](#exercises-level-1)\n",
    "    - [Exercises: Level 2](#exercises-level-2)\n",
    "    - [Exercises: Level 3](#exercises-level-3)\n",
    "\n",
    "# 📘 Day 18\n",
    "\n",
    "## Regular Expressions\n",
    "\n",
    "A regular expression or RegEx is a special text string that helps to find patterns in data. A RegEx can be used to check if some pattern exists in a different data type. To use RegEx in python first we should import the RegEx module which is called *re*.\n",
    "\n",
    "### The *re* Module\n",
    "\n",
    "After importing the module we can use it to detect or find patterns."
   ]
  },
  {
   "cell_type": "code",
   "execution_count": null,
   "id": "703b4631",
   "metadata": {
    "attributes": {
     "classes": [
      "py"
     ],
     "id": ""
    }
   },
   "outputs": [],
   "source": [
    "import re"
   ]
  },
  {
   "cell_type": "markdown",
   "id": "5b787dd3",
   "metadata": {},
   "source": [
    "### Methods in *re* Module\n",
    "\n",
    "To find a pattern we use different set of *re* character sets that allows to search for a match in a string.\n",
    "\n",
    "- *re.match()*: searches only in the beginning of the first line of the string and returns matched objects if  found, else returns None.\n",
    "- *re.search*: Returns a match object if there is one anywhere in the string, including multiline strings.\n",
    "- *re.findall*: Returns a list containing all matches\n",
    "- *re.split*: Takes a string, splits it at the match points, returns a list\n",
    "- *re.sub*:  Replaces one or many matches within a string\n",
    "\n",
    "#### Match"
   ]
  },
  {
   "cell_type": "code",
   "execution_count": null,
   "id": "9349191c",
   "metadata": {
    "attributes": {
     "classes": [
      "py"
     ],
     "id": ""
    }
   },
   "outputs": [],
   "source": [
    "# syntac\n",
    "re.match(substring, string, re.I)\n",
    "# substring is a string or a pattern, string is the text we look for a pattern , re.I is case ignore"
   ]
  },
  {
   "cell_type": "code",
   "execution_count": null,
   "id": "079285ad",
   "metadata": {
    "attributes": {
     "classes": [
      "py"
     ],
     "id": ""
    }
   },
   "outputs": [],
   "source": [
    "import re\n",
    "\n",
    "txt = 'I love to teach python and javaScript'\n",
    "# It returns an object with span, and match\n",
    "match = re.match('I love to teach', txt, re.I)\n",
    "print(match)  # <re.Match object; span=(0, 15), match='I love to teach'>\n",
    "# We can get the starting and ending position of the match as tuple using span\n",
    "span = match.span()\n",
    "print(span)     # (0, 15)\n",
    "# Lets find the start and stop position from the span\n",
    "start, end = span\n",
    "print(start, end)  # 0, 15\n",
    "substring = txt[start:end]\n",
    "print(substring)       # I love to teach"
   ]
  },
  {
   "cell_type": "markdown",
   "id": "1f2c2646",
   "metadata": {},
   "source": [
    "As you can see from the example above, the pattern we are looking for (or the substring we are looking for) is *I love to teach*. The match function returns an object **only** if the text starts with the pattern."
   ]
  },
  {
   "cell_type": "code",
   "execution_count": null,
   "id": "ee1ef71c",
   "metadata": {
    "attributes": {
     "classes": [
      "py"
     ],
     "id": ""
    }
   },
   "outputs": [],
   "source": [
    "import re\n",
    "\n",
    "txt = 'I love to teach python and javaScript'\n",
    "match = re.match('I like to teach', txt, re.I)\n",
    "print(match)  # None"
   ]
  },
  {
   "cell_type": "markdown",
   "id": "ea852d37",
   "metadata": {},
   "source": [
    "The string does not string with *I like to teach*, therefore there was no match and the match method returned None.\n",
    "\n",
    "#### Search"
   ]
  },
  {
   "cell_type": "code",
   "execution_count": null,
   "id": "8e2b165d",
   "metadata": {
    "attributes": {
     "classes": [
      "py"
     ],
     "id": ""
    }
   },
   "outputs": [],
   "source": [
    "# syntax\n",
    "re.match(substring, string, re.I)\n",
    "# substring is a pattern, string is the text we look for a pattern , re.I is case ignore flag"
   ]
  },
  {
   "cell_type": "code",
   "execution_count": null,
   "id": "efb73a0c",
   "metadata": {
    "attributes": {
     "classes": [
      "py"
     ],
     "id": ""
    }
   },
   "outputs": [],
   "source": [
    "import re\n",
    "\n",
    "txt = '''Python is the most beautiful language that a human being has ever created.\n",
    "I recommend python for a first programming language'''\n",
    "\n",
    "# It returns an object with span and match\n",
    "match = re.search('first', txt, re.I)\n",
    "print(match)  # <re.Match object; span=(100, 105), match='first'>\n",
    "# We can get the starting and ending position of the match as tuple using span\n",
    "span = match.span()\n",
    "print(span)     # (100, 105)\n",
    "# Lets find the start and stop position from the span\n",
    "start, end = span\n",
    "print(start, end)  # 100 105\n",
    "substring = txt[start:end]\n",
    "print(substring)       # first"
   ]
  },
  {
   "cell_type": "markdown",
   "id": "7ee2fe09",
   "metadata": {},
   "source": [
    "As you can see, search is much better than match because it can look for the pattern throughout the text. Search returns a match object with a first match that was found, otherwise it returns *None*. A much better *re* function is *findall*. This function checks for the pattern through the whole string and returns all the matches as a list.\n",
    "\n",
    "#### Searching for All Matches Using *findall*\n",
    "\n",
    "*findall()* returns all the matches as a list"
   ]
  },
  {
   "cell_type": "code",
   "execution_count": null,
   "id": "661b40bb",
   "metadata": {
    "attributes": {
     "classes": [
      "py"
     ],
     "id": ""
    }
   },
   "outputs": [],
   "source": [
    "txt = '''Python is the most beautiful language that a human being has ever created.\n",
    "I recommend python for a first programming language'''\n",
    "\n",
    "# It return a list\n",
    "matches = re.findall('language', txt, re.I)\n",
    "print(matches)  # ['language', 'language']"
   ]
  },
  {
   "cell_type": "markdown",
   "id": "f67cdf4f",
   "metadata": {},
   "source": [
    "As you can see, the word *language* was found two times in the string. Let us practice some more.\n",
    "Now we will look for both Python and python words in the string:"
   ]
  },
  {
   "cell_type": "code",
   "execution_count": null,
   "id": "537e35c9",
   "metadata": {
    "attributes": {
     "classes": [
      "py"
     ],
     "id": ""
    }
   },
   "outputs": [],
   "source": [
    "txt = '''Python is the most beautiful language that a human being has ever created.\n",
    "I recommend python for a first programming language'''\n",
    "\n",
    "# It returns list\n",
    "matches = re.findall('python', txt, re.I)\n",
    "print(matches)  # ['Python', 'python']\n"
   ]
  },
  {
   "cell_type": "markdown",
   "id": "57181ffd",
   "metadata": {},
   "source": [
    "Since we are using *re.I* both lowercase and uppercase letters are included. If we do not have the re.I flag, then we will have to write our pattern differently. Let us check it out:"
   ]
  },
  {
   "cell_type": "code",
   "execution_count": null,
   "id": "4b46e129",
   "metadata": {
    "attributes": {
     "classes": [
      "py"
     ],
     "id": ""
    }
   },
   "outputs": [],
   "source": [
    "txt = '''Python is the most beautiful language that a human being has ever created.\n",
    "I recommend python for a first programming language'''\n",
    "\n",
    "matches = re.findall('Python|python', txt)\n",
    "print(matches)  # ['Python', 'python']\n",
    "\n",
    "#\n",
    "matches = re.findall('[Pp]ython', txt)\n",
    "print(matches)  # ['Python', 'python']\n"
   ]
  },
  {
   "cell_type": "markdown",
   "id": "2d658dfd",
   "metadata": {},
   "source": [
    "#### Replacing a Substring"
   ]
  },
  {
   "cell_type": "code",
   "execution_count": null,
   "id": "523182e3",
   "metadata": {
    "attributes": {
     "classes": [
      "py"
     ],
     "id": ""
    }
   },
   "outputs": [],
   "source": [
    "txt = '''Python is the most beautiful language that a human being has ever created.\n",
    "I recommend python for a first programming language'''\n",
    "\n",
    "match_replaced = re.sub('Python|python', 'JavaScript', txt, re.I)\n",
    "print(match_replaced)  # JavaScript is the most beautiful language that a human being has ever created.\n",
    "# OR\n",
    "match_replaced = re.sub('[Pp]ython', 'JavaScript', txt, re.I)\n",
    "print(match_replaced)  # JavaScript is the most beautiful language that a human being has ever created."
   ]
  },
  {
   "cell_type": "markdown",
   "id": "bcaa0e70",
   "metadata": {},
   "source": [
    "Let us add one more example. The following string is really hard to read unless we remove the % symbol. Replacing the % with an empty string will clean the text."
   ]
  },
  {
   "cell_type": "code",
   "execution_count": null,
   "id": "986e07d4",
   "metadata": {
    "attributes": {
     "classes": [
      "py"
     ],
     "id": ""
    }
   },
   "outputs": [],
   "source": [
    "\n",
    "txt = '''%I a%m te%%a%%che%r% a%n%d %% I l%o%ve te%ach%ing. \n",
    "T%he%re i%s n%o%th%ing as r%ewarding a%s e%duc%at%i%ng a%n%d e%m%p%ow%er%ing p%e%o%ple.\n",
    "I fo%und te%a%ching m%ore i%n%t%er%%es%ting t%h%an any other %jobs. \n",
    "D%o%es thi%s m%ot%iv%a%te %y%o%u to b%e a t%e%a%cher?'''\n",
    "\n",
    "matches = re.sub('%', '', txt)\n",
    "print(matches)"
   ]
  },
  {
   "cell_type": "code",
   "execution_count": null,
   "id": "c40434bb",
   "metadata": {
    "attributes": {
     "classes": [
      "sh"
     ],
     "id": ""
    }
   },
   "outputs": [],
   "source": [
    "I am teacher and I love teaching.\n",
    "There is nothing as rewarding as educating and empowering people. \n",
    "I found teaching more interesting than any other jobs. Does this motivate you to be a teacher?"
   ]
  },
  {
   "cell_type": "markdown",
   "id": "fcf113d7",
   "metadata": {},
   "source": [
    "## Splitting Text Using RegEx Split"
   ]
  },
  {
   "cell_type": "code",
   "execution_count": null,
   "id": "27ebde0f",
   "metadata": {
    "attributes": {
     "classes": [
      "py"
     ],
     "id": ""
    }
   },
   "outputs": [],
   "source": [
    "txt = '''I am teacher and  I love teaching.\n",
    "There is nothing as rewarding as educating and empowering people.\n",
    "I found teaching more interesting than any other jobs.\n",
    "Does this motivate you to be a teacher?'''\n",
    "print(re.split('\\n', txt)) # splitting using \\n - end of line symbol"
   ]
  },
  {
   "cell_type": "code",
   "execution_count": null,
   "id": "ba93b05a",
   "metadata": {
    "attributes": {
     "classes": [
      "sh"
     ],
     "id": ""
    }
   },
   "outputs": [],
   "source": [
    "['I am teacher and  I love teaching.', 'There is nothing as rewarding as educating and empowering people.', 'I found teaching more interesting than any other jobs.', 'Does this motivate you to be a teacher?']"
   ]
  },
  {
   "cell_type": "markdown",
   "id": "82a70a43",
   "metadata": {},
   "source": [
    "## Writing RegEx Patterns\n",
    "\n",
    "To declare a string variable we use a single or double quote. To declare RegEx variable *r''*.\n",
    "The following pattern only identifies apple with lowercase, to make it case insensitive either we should rewrite our pattern or we should add a flag."
   ]
  },
  {
   "cell_type": "code",
   "execution_count": null,
   "id": "24795ebd",
   "metadata": {
    "attributes": {
     "classes": [
      "py"
     ],
     "id": ""
    }
   },
   "outputs": [],
   "source": [
    "import re\n",
    "\n",
    "regex_pattern = r'apple'\n",
    "txt = 'Apple and banana are fruits. An old cliche says an apple a day a doctor way has been replaced by a banana a day keeps the doctor far far away. '\n",
    "matches = re.findall(regex_pattern, txt)\n",
    "print(matches)  # ['apple']\n",
    "\n",
    "# To make case insensitive adding flag '\n",
    "matches = re.findall(regex_pattern, txt, re.I)\n",
    "print(matches)  # ['Apple', 'apple']\n",
    "# or we can use a set of characters method\n",
    "regex_pattern = r'[Aa]pple'  # this mean the first letter could be Apple or apple\n",
    "matches = re.findall(regex_pattern, txt)\n",
    "print(matches)  # ['Apple', 'apple']\n"
   ]
  },
  {
   "cell_type": "markdown",
   "id": "0020d6dd",
   "metadata": {},
   "source": [
    "* []:  A set of characters\n",
    "  - [a-c] means, a or b or c\n",
    "  - [a-z] means, any letter from a to z\n",
    "  - [A-Z] means, any character from A to Z\n",
    "  - [0-3] means, 0 or 1 or 2 or 3\n",
    "  - [0-9] means any number from 0 to 9\n",
    "  - [A-Za-z0-9] any single character, that is a to z, A to Z or 0 to 9\n",
    "- \\\\:  uses to escape special characters\n",
    "  - \\d means: match where the string contains digits (numbers from 0-9)\n",
    "  - \\D means: match where the string does not contain digits\n",
    "- . : any character except new line character(\\n)\n",
    "- ^: starts with\n",
    "  - r'^substring' eg r'^love', a sentence that starts with a word love\n",
    "  - r'[^abc] means not a, not b, not c.\n",
    "- $: ends with\n",
    "  - r'substring$' eg r'love$', sentence  that ends with a word love\n",
    "- *: zero or more times\n",
    "  - r'[a]*' means a optional or it can occur many times.\n",
    "- +: one or more times\n",
    "  - r'[a]+' means at least once (or more)\n",
    "- ?: zero or one time\n",
    "  - r'[a]?' means zero times or once\n",
    "- {3}: Exactly 3 characters\n",
    "- {3,}: At least 3 characters\n",
    "- {3,8}: 3 to 8 characters\n",
    "- |: Either or\n",
    "  - r'apple|banana' means either apple or a banana\n",
    "- (): Capture and group\n",
    "\n",
    "![Regular Expression cheat sheet](../images/regex.png)\n",
    "\n",
    "Let us use examples to clarify the meta characters above\n",
    "\n",
    "### Square Bracket\n",
    "\n",
    "Let us use square bracket to include lower and upper case"
   ]
  },
  {
   "cell_type": "code",
   "execution_count": null,
   "id": "f6c2b199",
   "metadata": {
    "attributes": {
     "classes": [
      "py"
     ],
     "id": ""
    }
   },
   "outputs": [],
   "source": [
    "regex_pattern = r'[Aa]pple' # this square bracket mean either A or a\n",
    "txt = 'Apple and banana are fruits. An old cliche says an apple a day a doctor way has been replaced by a banana a day keeps the doctor far far away.'\n",
    "matches = re.findall(regex_pattern, txt)\n",
    "print(matches)  # ['Apple', 'apple']"
   ]
  },
  {
   "cell_type": "markdown",
   "id": "7b60d8ab",
   "metadata": {},
   "source": [
    "If we want to look for the banana, we write the pattern as follows:"
   ]
  },
  {
   "cell_type": "code",
   "execution_count": null,
   "id": "635509c0",
   "metadata": {
    "attributes": {
     "classes": [
      "py"
     ],
     "id": ""
    }
   },
   "outputs": [],
   "source": [
    "regex_pattern = r'[Aa]pple|[Bb]anana' # this square bracket means either A or a\n",
    "txt = 'Apple and banana are fruits. An old cliche says an apple a day a doctor way has been replaced by a banana a day keeps the doctor far far away.'\n",
    "matches = re.findall(regex_pattern, txt)\n",
    "print(matches)  # ['Apple', 'banana', 'apple', 'banana']"
   ]
  },
  {
   "cell_type": "markdown",
   "id": "41289abb",
   "metadata": {},
   "source": [
    "Using the square bracket and or operator , we manage to extract Apple, apple, Banana and banana.\n",
    "\n",
    "### Escape character(\\\\) in RegEx"
   ]
  },
  {
   "cell_type": "code",
   "execution_count": null,
   "id": "b65e20e5",
   "metadata": {
    "attributes": {
     "classes": [
      "py"
     ],
     "id": ""
    }
   },
   "outputs": [],
   "source": [
    "regex_pattern = r'\\d'  # d is a special character which means digits\n",
    "txt = 'This regular expression example was made on December 6,  2019 and revised on July 8, 2021'\n",
    "matches = re.findall(regex_pattern, txt)\n",
    "print(matches)  # ['6', '2', '0', '1', '9', '8', '2', '0', '2', '1'], this is not what we want"
   ]
  },
  {
   "cell_type": "markdown",
   "id": "75c14980",
   "metadata": {},
   "source": [
    "### One or more times(+)"
   ]
  },
  {
   "cell_type": "code",
   "execution_count": null,
   "id": "b91b07b8",
   "metadata": {
    "attributes": {
     "classes": [
      "py"
     ],
     "id": ""
    }
   },
   "outputs": [],
   "source": [
    "regex_pattern = r'\\d+'  # d is a special character which means digits, + mean one or more times\n",
    "txt = 'This regular expression example was made on December 6,  2019 and revised on July 8, 2021'\n",
    "matches = re.findall(regex_pattern, txt)\n",
    "print(matches)  # ['6', '2019', '8', '2021'] - now, this is better!"
   ]
  },
  {
   "cell_type": "markdown",
   "id": "a7f3286d",
   "metadata": {},
   "source": [
    "### Period(.)"
   ]
  },
  {
   "cell_type": "code",
   "execution_count": null,
   "id": "eb33456c",
   "metadata": {
    "attributes": {
     "classes": [
      "py"
     ],
     "id": ""
    }
   },
   "outputs": [],
   "source": [
    "regex_pattern = r'[a].'  # this square bracket means a and . means any character except new line\n",
    "txt = '''Apple and banana are fruits'''\n",
    "matches = re.findall(regex_pattern, txt)\n",
    "print(matches)  # ['an', 'an', 'an', 'a ', 'ar']\n",
    "\n",
    "regex_pattern = r'[a].+'  # . any character, + any character one or more times \n",
    "matches = re.findall(regex_pattern, txt)\n",
    "print(matches)  # ['and banana are fruits']"
   ]
  },
  {
   "cell_type": "markdown",
   "id": "d14135c4",
   "metadata": {},
   "source": [
    "### Zero or more times(\\*)\n",
    "\n",
    "Zero or many times. The pattern could may not occur or it can occur many times."
   ]
  },
  {
   "cell_type": "code",
   "execution_count": null,
   "id": "27576576",
   "metadata": {
    "attributes": {
     "classes": [
      "py"
     ],
     "id": ""
    }
   },
   "outputs": [],
   "source": [
    "regex_pattern = r'[a].*'  # . any character, * any character zero or more times \n",
    "txt = '''Apple and banana are fruits'''\n",
    "matches = re.findall(regex_pattern, txt)\n",
    "print(matches)  # ['and banana are fruits']"
   ]
  },
  {
   "cell_type": "markdown",
   "id": "ba5f7a4f",
   "metadata": {},
   "source": [
    "### Zero or one time(?)\n",
    "\n",
    "Zero or one time. The pattern may not occur or it may occur once."
   ]
  },
  {
   "cell_type": "code",
   "execution_count": null,
   "id": "426b4ff6",
   "metadata": {
    "attributes": {
     "classes": [
      "py"
     ],
     "id": ""
    }
   },
   "outputs": [],
   "source": [
    "txt = '''I am not sure if there is a convention how to write the word e-mail.\n",
    "Some people write it as email others may write it as Email or E-mail.'''\n",
    "regex_pattern = r'[Ee]-?mail'  # ? means here that '-' is optional\n",
    "matches = re.findall(regex_pattern, txt)\n",
    "print(matches)  # ['e-mail', 'email', 'Email', 'E-mail']"
   ]
  },
  {
   "cell_type": "markdown",
   "id": "5753ecea",
   "metadata": {},
   "source": [
    "### Quantifier in RegEx\n",
    "\n",
    "We can specify the length of the substring we are looking for in a text, using a curly bracket. Let us imagine, we are interested in a substring with a length of 4 characters:"
   ]
  },
  {
   "cell_type": "code",
   "execution_count": null,
   "id": "b2d3f4f2",
   "metadata": {
    "attributes": {
     "classes": [
      "py"
     ],
     "id": ""
    }
   },
   "outputs": [],
   "source": [
    "txt = 'This regular expression example was made on December 6,  2019 and revised on July 8, 2021'\n",
    "regex_pattern = r'\\d{4}'  # exactly four times\n",
    "matches = re.findall(regex_pattern, txt)\n",
    "print(matches)  # ['2019', '2021']\n",
    "\n",
    "txt = 'This regular expression example was made on December 6,  2019 and revised on July 8, 2021'\n",
    "regex_pattern = r'\\d{1, 4}'   # 1 to 4\n",
    "matches = re.findall(regex_pattern, txt)\n",
    "print(matches)  # ['6', '2019', '8', '2021']"
   ]
  },
  {
   "cell_type": "markdown",
   "id": "7c5c0fa2",
   "metadata": {},
   "source": [
    "### Cart ^\n",
    "\n",
    "- Starts with"
   ]
  },
  {
   "cell_type": "code",
   "execution_count": null,
   "id": "413498ee",
   "metadata": {
    "attributes": {
     "classes": [
      "py"
     ],
     "id": ""
    }
   },
   "outputs": [],
   "source": [
    "txt = 'This regular expression example was made on December 6,  2019 and revised on July 8, 2021'\n",
    "regex_pattern = r'^This'  # ^ means starts with\n",
    "matches = re.findall(regex_pattern, txt)\n",
    "print(matches)  # ['This']"
   ]
  },
  {
   "cell_type": "markdown",
   "id": "b0234fb4",
   "metadata": {},
   "source": [
    "- Negation"
   ]
  },
  {
   "cell_type": "code",
   "execution_count": null,
   "id": "e5e1a1ee",
   "metadata": {
    "attributes": {
     "classes": [
      "py"
     ],
     "id": ""
    }
   },
   "outputs": [],
   "source": [
    "txt = 'This regular expression example was made on December 6,  2019 and revised on July 8, 2021'\n",
    "regex_pattern = r'[^A-Za-z ]+'  # ^ in set character means negation, not A to Z, not a to z, no space\n",
    "matches = re.findall(regex_pattern, txt)\n",
    "print(matches)  # ['6,', '2019', '8', '2021']"
   ]
  },
  {
   "cell_type": "markdown",
   "id": "4189eb41",
   "metadata": {},
   "source": [
    "## 💻 Exercises: Day 18\n",
    "\n",
    "### Exercises: Level 1\n",
    "\n",
    " 1. What is the most frequent word in the following paragraph?"
   ]
  },
  {
   "cell_type": "code",
   "execution_count": null,
   "id": "baab372a",
   "metadata": {
    "attributes": {
     "classes": [
      "py"
     ],
     "id": ""
    }
   },
   "outputs": [],
   "source": [
    "    paragraph = 'I love teaching. If you do not love teaching what else can you love. I love Python if you do not love something which can give you all the capabilities to develop an application what else can you love."
   ]
  },
  {
   "cell_type": "code",
   "execution_count": null,
   "id": "0b82ca63",
   "metadata": {
    "attributes": {
     "classes": [
      "sh"
     ],
     "id": ""
    }
   },
   "outputs": [],
   "source": [
    "    [\n",
    "    (6, 'love'),\n",
    "    (5, 'you'),\n",
    "    (3, 'can'),\n",
    "    (2, 'what'),\n",
    "    (2, 'teaching'),\n",
    "    (2, 'not'),\n",
    "    (2, 'else'),\n",
    "    (2, 'do'),\n",
    "    (2, 'I'),\n",
    "    (1, 'which'),\n",
    "    (1, 'to'),\n",
    "    (1, 'the'),\n",
    "    (1, 'something'),\n",
    "    (1, 'if'),\n",
    "    (1, 'give'),\n",
    "    (1, 'develop'),\n",
    "    (1, 'capabilities'),\n",
    "    (1, 'application'),\n",
    "    (1, 'an'),\n",
    "    (1, 'all'),\n",
    "    (1, 'Python'),\n",
    "    (1, 'If')\n",
    "    ]"
   ]
  },
  {
   "cell_type": "markdown",
   "id": "9868da61",
   "metadata": {},
   "source": [
    "2. The position of some particles on the horizontal x-axis are -12, -4, -3 and -1 in the negative direction, 0 at origin, 4 and 8 in the positive direction. Extract these numbers from this whole text and find the distance between the two furthest particles."
   ]
  },
  {
   "cell_type": "code",
   "execution_count": null,
   "id": "d37fb7a5",
   "metadata": {
    "attributes": {
     "classes": [
      "py"
     ],
     "id": ""
    }
   },
   "outputs": [],
   "source": [
    "points = ['-12', '-4', '-3', '-1', '0', '4', '8']\n",
    "sorted_points =  [-12, -4, -3, -1, -1, 0, 2, 4, 8]\n",
    "distance = 8 -(-12) # 20"
   ]
  },
  {
   "cell_type": "markdown",
   "id": "22d5f32f",
   "metadata": {},
   "source": [
    "### Exercises: Level 2\n",
    "\n",
    "1. Write a pattern which identifies if a string is a valid python variable"
   ]
  },
  {
   "cell_type": "code",
   "execution_count": null,
   "id": "b4fa2271",
   "metadata": {},
   "outputs": [],
   "source": [
    "```sh\n",
    "is_valid_variable('first_name') # True\n",
    "is_valid_variable('first-name') # False\n",
    "is_valid_variable('1first_name') # False\n",
    "is_valid_variable('firstname') # True\n",
    "```"
   ]
  },
  {
   "cell_type": "markdown",
   "id": "7ad640c2",
   "metadata": {},
   "source": [
    "### Exercises: Level 3\n",
    "\n",
    "1. Clean the following text. After cleaning, count three most frequent words in the string."
   ]
  },
  {
   "cell_type": "code",
   "execution_count": null,
   "id": "a2d9fbef",
   "metadata": {},
   "outputs": [],
   "source": [
    "```py\n",
    "sentence = '''%I $am@% a %tea@cher%, &and& I lo%#ve %tea@ching%;. There $is nothing; &as& mo@re rewarding as educa@ting &and& @emp%o@wering peo@ple. ;I found tea@ching m%o@re interesting tha@n any other %jo@bs. %Do@es thi%s mo@tivate yo@u to be a tea@cher!?'''\n",
    "\n",
    "print(clean_text(sentence));\n",
    "I am a teacher and I love teaching There is nothing as more rewarding as educating and empowering people I found teaching more interesting than any other jobs Does this motivate you to be a teacher\n",
    "print(most_frequent_words(cleaned_text)) # [(3, 'I'), (2, 'teaching'), (2, 'teacher')]\n",
    "```"
   ]
  },
  {
   "cell_type": "markdown",
   "id": "e0f5ca62",
   "metadata": {},
   "source": [
    "🎉 CONGRATULATIONS ! 🎉\n",
    "\n",
    "[<< Day 17](../17_Day_Exception_handling/17_exception_handling.md) | [Day 19>>](../19_Day_File_handling/19_file_handling.md)"
   ]
  }
 ],
 "metadata": {},
 "nbformat": 4,
 "nbformat_minor": 5
}
