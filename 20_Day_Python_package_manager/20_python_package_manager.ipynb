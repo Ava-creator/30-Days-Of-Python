{
  "cells": [
    {
      "cell_type": "markdown",
      "metadata": {
        "id": "view-in-github",
        "colab_type": "text"
      },
      "source": [
        "<a href=\"https://colab.research.google.com/github/Ava-creator/30-Days-Of-Python/blob/master/20_Day_Python_package_manager/20_python_package_manager.ipynb\" target=\"_parent\"><img src=\"https://colab.research.google.com/assets/colab-badge.svg\" alt=\"Open In Colab\"/></a>"
      ]
    },
    {
      "cell_type": "markdown",
      "id": "6bc5c018",
      "metadata": {
        "id": "6bc5c018"
      },
      "source": [
        "<div align=\"center\">\n",
        "  <h1> 30 Days Of Python: Day 20 - PIP </h1>\n",
        "  <a class=\"header-badge\" target=\"_blank\" href=\"https://www.linkedin.com/in/asabeneh/\">\n",
        "  <img src=\"https://img.shields.io/badge/style--5eba00.svg?label=LinkedIn&logo=linkedin&style=social\">\n",
        "  </a>\n",
        "  <a class=\"header-badge\" target=\"_blank\" href=\"https://twitter.com/Asabeneh\">\n",
        "  <img alt=\"Twitter Follow\" src=\"https://img.shields.io/twitter/follow/asabeneh?style=social\">\n",
        "  </a>\n",
        "\n",
        "<sub>Author:\n",
        "<a href=\"https://www.linkedin.com/in/asabeneh/\" target=\"_blank\">Oludayo adeoye</a><br>\n",
        "<small>Second Edition: July, 2021</small>\n",
        "</sub>\n",
        "</div>\n",
        "\n",
        "[<< Day 19](../19_Day_File_handling/19_file_handling.md) | [Day 21 >>](../21_Day_Classes_and_objects/21_classes_and_objects.md)\n",
        "\n",
        "![30DaysOfPython](https://github.com/Ava-creator/30-Days-Of-Python/blob/master/images/30DaysOfPython_banner3@2x.png?raw=1)\n",
        "\n",
        "- [📘 Day 20](#-day-20)\n",
        "  - [Python PIP - Python Package Manager](#python-pip---python-package-manager)\n",
        "    - [What is PIP ?](#what-is-pip-)\n",
        "    - [Installing PIP](#installing-pip)\n",
        "    - [Installing packages using pip](#installing-packages-using-pip)\n",
        "    - [Uninstalling Packages](#uninstalling-packages)\n",
        "    - [List of Packages](#list-of-packages)\n",
        "    - [Show Package](#show-package)\n",
        "    - [PIP Freeze](#pip-freeze)\n",
        "    - [Reading from URL](#reading-from-url)\n",
        "    - [Creating a Package](#creating-a-package)\n",
        "    - [Further Information About Packages](#further-information-about-packages)\n",
        "  - [Exercises: Day 20](#exercises-day-20)\n",
        "\n",
        "# 📘 Day 20\n",
        "\n",
        "## Python PIP - Python Package Manager\n",
        "\n",
        "### What is PIP ?\n",
        "\n",
        "PIP stands for Preferred installer program. We use _pip_ to install different Python packages.\n",
        "Package is a Python module that can contain one or more modules or other packages. A module or modules that we can install to our application is a package.\n",
        "In programming, we do not have to write every utility program, instead we install packages and import them to our applications.\n",
        "\n",
        "### Installing PIP\n",
        "\n",
        "If you did not install pip, let us install it now. Go to your terminal or command prompt and copy and paste this:"
      ]
    },
    {
      "cell_type": "code",
      "execution_count": null,
      "id": "c9ac91f3",
      "metadata": {
        "attributes": {
          "classes": [
            "sh"
          ],
          "id": ""
        },
        "id": "c9ac91f3"
      },
      "outputs": [],
      "source": [
        "asabeneh@Asabeneh:~$ pip install pip"
      ]
    },
    {
      "cell_type": "markdown",
      "id": "f4abd29e",
      "metadata": {
        "id": "f4abd29e"
      },
      "source": [
        "Check if pip is installed by writing"
      ]
    },
    {
      "cell_type": "code",
      "execution_count": null,
      "id": "55f66ed7",
      "metadata": {
        "attributes": {
          "classes": [
            "sh"
          ],
          "id": ""
        },
        "id": "55f66ed7"
      },
      "outputs": [],
      "source": [
        "pip --version"
      ]
    },
    {
      "cell_type": "code",
      "execution_count": null,
      "id": "662f33c9",
      "metadata": {
        "attributes": {
          "classes": [
            "py"
          ],
          "id": ""
        },
        "id": "662f33c9"
      },
      "outputs": [],
      "source": [
        "asabeneh@Asabeneh:~$ pip --version\n",
        "pip 21.1.3 from /usr/local/lib/python3.7/site-packages/pip (python 3.9.6)"
      ]
    },
    {
      "cell_type": "markdown",
      "id": "4f78ca2a",
      "metadata": {
        "id": "4f78ca2a"
      },
      "source": [
        "As you can see, I am using pip version 21.1.3, if you see some number a bit below or above that, means you have pip installed.\n",
        "\n",
        "Let us check some of the packages used in the Python community for different purposes. Just to let you know that there are lots of packages available for use with different applications.\n",
        "\n",
        "### Installing packages using pip\n",
        "\n",
        "Let us try to install _numpy_, called numeric python. It is one of the most popular packages in machine learning and data science community.\n",
        "\n",
        "- NumPy is the fundamental package for scientific computing with Python. It contains among other things:\n",
        "  - a powerful N-dimensional array object\n",
        "  - sophisticated (broadcasting) functions\n",
        "  - tools for integrating C/C++ and Fortran code\n",
        "  - useful linear algebra, Fourier transform, and random number capabilities"
      ]
    },
    {
      "cell_type": "code",
      "execution_count": null,
      "id": "945576ff",
      "metadata": {
        "attributes": {
          "classes": [
            "sh"
          ],
          "id": ""
        },
        "id": "945576ff"
      },
      "outputs": [],
      "source": [
        "asabeneh@Asabeneh:~$ pip install numpy"
      ]
    },
    {
      "cell_type": "markdown",
      "id": "572dd905",
      "metadata": {
        "id": "572dd905"
      },
      "source": [
        "Let us start using numpy. Open your python interactive shell, write python and then import numpy as follows:"
      ]
    },
    {
      "cell_type": "code",
      "execution_count": null,
      "id": "8a5e97b9",
      "metadata": {
        "attributes": {
          "classes": [
            "py"
          ],
          "id": ""
        },
        "id": "8a5e97b9"
      },
      "outputs": [],
      "source": [
        "asabeneh@Asabeneh:~$ python\n",
        "Python 3.9.6 (default, Jun 28 2021, 15:26:21)\n",
        "[Clang 11.0.0 (clang-1100.0.33.8)] on darwin\n",
        "Type \"help\", \"copyright\", \"credits\" or \"license\" for more information.\n",
        ">>> import numpy\n",
        ">>> numpy.version.version\n",
        "'1.20.1'\n",
        ">>> lst = [1, 2, 3,4, 5]\n",
        ">>> np_arr = numpy.array(lst)\n",
        ">>> np_arr\n",
        "array([1, 2, 3, 4, 5])\n",
        ">>> len(np_arr)\n",
        "5\n",
        ">>> np_arr * 2\n",
        "array([ 2,  4,  6,  8, 10])\n",
        ">>> np_arr  + 2\n",
        "array([3, 4, 5, 6, 7])\n",
        ">>>"
      ]
    },
    {
      "cell_type": "markdown",
      "id": "10c0a139",
      "metadata": {
        "id": "10c0a139"
      },
      "source": [
        "Pandas is an open source, BSD-licensed library providing high-performance, easy-to-use data structures and data analysis tools for the Python programming language. Let us install the big brother of numpy, _pandas_:"
      ]
    },
    {
      "cell_type": "code",
      "execution_count": null,
      "id": "25b2335f",
      "metadata": {
        "attributes": {
          "classes": [
            "sh"
          ],
          "id": ""
        },
        "id": "25b2335f"
      },
      "outputs": [],
      "source": [
        "asabeneh@Asabeneh:~$ pip install pandas"
      ]
    },
    {
      "cell_type": "code",
      "execution_count": null,
      "id": "c8ede872",
      "metadata": {
        "attributes": {
          "classes": [
            "py"
          ],
          "id": ""
        },
        "id": "c8ede872"
      },
      "outputs": [],
      "source": [
        "asabeneh@Asabeneh:~$ python\n",
        "Python 3.9.6 (default, Jun 28 2021, 15:26:21)\n",
        "[Clang 11.0.0 (clang-1100.0.33.8)] on darwin\n",
        "Type \"help\", \"copyright\", \"credits\" or \"license\" for more information.\n",
        ">>> import pandas"
      ]
    },
    {
      "cell_type": "markdown",
      "id": "b73cd43c",
      "metadata": {
        "id": "b73cd43c"
      },
      "source": [
        "This section is not about numpy nor pandas, here we are trying to learn how to install packages and how to import them. If it is needed, we will talk about different packages in other sections.\n",
        "\n",
        "Let us import a web browser module, which can help us to open any website. We do not need to install this module, it is already installed by default with Python 3. For instance if you like to open any number of websites at any time or if you like to schedule something, this _webbrowser_ module can be used."
      ]
    },
    {
      "cell_type": "code",
      "execution_count": null,
      "id": "ab95931c",
      "metadata": {
        "attributes": {
          "classes": [
            "py"
          ],
          "id": ""
        },
        "id": "ab95931c"
      },
      "outputs": [],
      "source": [
        "import webbrowser # web browser module to open websites\n",
        "\n",
        "# list of urls: python\n",
        "url_lists = [\n",
        "    'http://www.python.org',\n",
        "    'https://www.linkedin.com/in/asabeneh/',\n",
        "    'https://github.com/Asabeneh',\n",
        "    'https://twitter.com/Asabeneh',\n",
        "]\n",
        "\n",
        "# opens the above list of websites in a different tab\n",
        "for url in url_lists:\n",
        "    webbrowser.open_new_tab(url)"
      ]
    },
    {
      "cell_type": "markdown",
      "id": "95e4d273",
      "metadata": {
        "id": "95e4d273"
      },
      "source": [
        "### Uninstalling Packages\n",
        "\n",
        "If you do not like to keep the installed packages, you can remove them using the following command."
      ]
    },
    {
      "cell_type": "code",
      "execution_count": null,
      "id": "0db9ddf8",
      "metadata": {
        "attributes": {
          "classes": [
            "sh"
          ],
          "id": ""
        },
        "id": "0db9ddf8"
      },
      "outputs": [],
      "source": [
        "pip uninstall packagename"
      ]
    },
    {
      "cell_type": "markdown",
      "id": "e7f1d8c3",
      "metadata": {
        "id": "e7f1d8c3"
      },
      "source": [
        "### List of Packages\n",
        "\n",
        "To see the installed packages on our machine. We can use pip followed by list."
      ]
    },
    {
      "cell_type": "code",
      "execution_count": null,
      "id": "12ae9427",
      "metadata": {
        "attributes": {
          "classes": [
            "sh"
          ],
          "id": ""
        },
        "id": "12ae9427"
      },
      "outputs": [],
      "source": [
        "pip list"
      ]
    },
    {
      "cell_type": "markdown",
      "id": "4b8563d3",
      "metadata": {
        "id": "4b8563d3"
      },
      "source": [
        "### Show Package\n",
        "\n",
        "To show information about a package"
      ]
    },
    {
      "cell_type": "code",
      "execution_count": null,
      "id": "a2186e78",
      "metadata": {
        "attributes": {
          "classes": [
            "sh"
          ],
          "id": ""
        },
        "id": "a2186e78"
      },
      "outputs": [],
      "source": [
        "pip show packagename"
      ]
    },
    {
      "cell_type": "code",
      "execution_count": null,
      "id": "0f41a1fc",
      "metadata": {
        "attributes": {
          "classes": [
            "sh"
          ],
          "id": ""
        },
        "id": "0f41a1fc"
      },
      "outputs": [],
      "source": [
        "asabeneh@Asabeneh:~$ pip show pandas\n",
        "Name: pandas\n",
        "Version: 1.2.3\n",
        "Summary: Powerful data structures for data analysis, time series, and statistics\n",
        "Home-page: http://pandas.pydata.org\n",
        "Author: None\n",
        "Author-email: None\n",
        "License: BSD\n",
        "Location: /usr/local/lib/python3.7/site-packages\n",
        "Requires: python-dateutil, pytz, numpy\n",
        "Required-by:"
      ]
    },
    {
      "cell_type": "markdown",
      "id": "bbe03535",
      "metadata": {
        "id": "bbe03535"
      },
      "source": [
        "If we want even more details, just add --verbose"
      ]
    },
    {
      "cell_type": "code",
      "execution_count": null,
      "id": "3cf43dfe",
      "metadata": {
        "attributes": {
          "classes": [
            "sh"
          ],
          "id": ""
        },
        "id": "3cf43dfe"
      },
      "outputs": [],
      "source": [
        "asabeneh@Asabeneh:~$ pip show --verbose pandas\n",
        "Name: pandas\n",
        "Version: 1.2.3\n",
        "Summary: Powerful data structures for data analysis, time series, and statistics\n",
        "Home-page: http://pandas.pydata.org\n",
        "Author: None\n",
        "Author-email: None\n",
        "License: BSD\n",
        "Location: /usr/local/lib/python3.7/site-packages\n",
        "Requires: numpy, pytz, python-dateutil\n",
        "Required-by:\n",
        "Metadata-Version: 2.1\n",
        "Installer: pip\n",
        "Classifiers:\n",
        "  Development Status :: 5 - Production/Stable\n",
        "  Environment :: Console\n",
        "  Operating System :: OS Independent\n",
        "  Intended Audience :: Science/Research\n",
        "  Programming Language :: Python\n",
        "  Programming Language :: Python :: 3\n",
        "  Programming Language :: Python :: 3.5\n",
        "  Programming Language :: Python :: 3.6\n",
        "  Programming Language :: Python :: 3.7\n",
        "  Programming Language :: Python :: 3.8\n",
        "  Programming Language :: Cython\n",
        "  Topic :: Scientific/Engineering\n",
        "Entry-points:\n",
        "  [pandas_plotting_backends]\n",
        "  matplotlib = pandas:plotting._matplotlib"
      ]
    },
    {
      "cell_type": "markdown",
      "id": "a34f01be",
      "metadata": {
        "id": "a34f01be"
      },
      "source": [
        "### PIP Freeze\n",
        "\n",
        "Generate installed Python packages with their version and the output is suitable to use it in a requirements file. A requirements.txt file is a file that should contain all the installed Python packages in a Python project."
      ]
    },
    {
      "cell_type": "code",
      "execution_count": null,
      "id": "a193696f",
      "metadata": {
        "attributes": {
          "classes": [
            "sh"
          ],
          "id": ""
        },
        "id": "a193696f"
      },
      "outputs": [],
      "source": [
        "asabeneh@Asabeneh:~$ pip freeze\n",
        "docutils==0.11\n",
        "Jinja2==2.7.2\n",
        "MarkupSafe==0.19\n",
        "Pygments==1.6\n",
        "Sphinx==1.2.2"
      ]
    },
    {
      "cell_type": "markdown",
      "id": "83233f1d",
      "metadata": {
        "id": "83233f1d"
      },
      "source": [
        "The pip freeze gave us the packages used, installed and their version. We use it with requirements.txt file for deployment.\n",
        "\n",
        "### Reading from URL\n",
        "\n",
        "By now you are familiar with how to read or write on a file located on you local machine. Sometimes, we would like to read from a website using url or from an API.\n",
        "API stands for Application Program Interface. It is a means to exchange structured data between servers primarily as json data. To open a network connection, we need a package called _requests_ - it allows to open a network connection and to implement CRUD(create, read, update and delete) operations. In this section, we will cover only reading ore getting part of a CRUD.\n",
        "\n",
        "Let us install _requests_:"
      ]
    },
    {
      "cell_type": "code",
      "execution_count": null,
      "id": "4e41dd51",
      "metadata": {
        "attributes": {
          "classes": [
            "py"
          ],
          "id": ""
        },
        "id": "4e41dd51"
      },
      "outputs": [],
      "source": [
        "asabeneh@Asabeneh:~$ pip install requests"
      ]
    },
    {
      "cell_type": "markdown",
      "id": "d417a775",
      "metadata": {
        "id": "d417a775"
      },
      "source": [
        "We will see _get_, _status_code_, _headers_, _text_ and _json_ methods in _requests_ module:\n",
        "  - _get()_: to open a network and fetch data from url - it returns a response object\n",
        "  - _status_code_: After we fetched data, we can check the status of the operation (success, error, etc)\n",
        "  - _headers_: To check the header types\n",
        "  - _text_: to extract the text from the fetched response object\n",
        "  - _json_: to extract json data\n",
        "Let's read a txt file from this website, https://www.w3.org/TR/PNG/iso_8859-1.txt."
      ]
    },
    {
      "cell_type": "code",
      "execution_count": null,
      "id": "ff478076",
      "metadata": {
        "attributes": {
          "classes": [
            "py"
          ],
          "id": ""
        },
        "id": "ff478076"
      },
      "outputs": [],
      "source": [
        "import requests # importing the request module\n",
        "\n",
        "url = 'https://www.w3.org/TR/PNG/iso_8859-1.txt' # text from a website\n",
        "\n",
        "response = requests.get(url) # opening a network and fetching a data\n",
        "print(response)\n",
        "print(response.status_code) # status code, success:200\n",
        "print(response.headers)     # headers information\n",
        "print(response.text) # gives all the text from the page"
      ]
    },
    {
      "cell_type": "code",
      "execution_count": null,
      "id": "a16ca80a",
      "metadata": {
        "attributes": {
          "classes": [
            "sh"
          ],
          "id": ""
        },
        "id": "a16ca80a"
      },
      "outputs": [],
      "source": [
        "<Response [200]>\n",
        "200\n",
        "{'date': 'Sun, 08 Dec 2019 18:00:31 GMT', 'last-modified': 'Fri, 07 Nov 2003 05:51:11 GMT', 'etag': '\"17e9-3cb82080711c0;50c0b26855880-gzip\"', 'accept-ranges': 'bytes', 'cache-control': 'max-age=31536000', 'expires': 'Mon, 07 Dec 2020 18:00:31 GMT', 'vary': 'Accept-Encoding', 'content-encoding': 'gzip', 'access-control-allow-origin': '*', 'content-length': '1616', 'content-type': 'text/plain', 'strict-transport-security': 'max-age=15552000; includeSubdomains; preload', 'content-security-policy': 'upgrade-insecure-requests'}"
      ]
    },
    {
      "cell_type": "markdown",
      "id": "b0fc1f69",
      "metadata": {
        "id": "b0fc1f69"
      },
      "source": [
        "- Let us read from an API. API stands for Application Program Interface. It is a means to exchange structure data between servers primarily a json data. An example of an API:https://restcountries.eu/rest/v2/all. Let us read this API using _requests_ module."
      ]
    },
    {
      "cell_type": "code",
      "execution_count": null,
      "id": "3ef7d95a",
      "metadata": {
        "attributes": {
          "classes": [
            "py"
          ],
          "id": ""
        },
        "id": "3ef7d95a"
      },
      "outputs": [],
      "source": [
        "import requests\n",
        "url = 'https://restcountries.eu/rest/v2/all'  # countries api\n",
        "response = requests.get(url)  # opening a network and fetching a data\n",
        "print(response) # response object\n",
        "print(response.status_code)  # status code, success:200\n",
        "countries = response.json()\n",
        "print(countries[:1])  # we sliced only the first country, remove the slicing to see all countries"
      ]
    },
    {
      "cell_type": "code",
      "execution_count": null,
      "id": "8b3b6955",
      "metadata": {
        "attributes": {
          "classes": [
            "sh"
          ],
          "id": ""
        },
        "id": "8b3b6955"
      },
      "outputs": [],
      "source": [
        "<Response [200]>\n",
        "200\n",
        "[{'alpha2Code': 'AF',\n",
        "  'alpha3Code': 'AFG',\n",
        "  'altSpellings': ['AF', 'Afġānistān'],\n",
        "  'area': 652230.0,\n",
        "  'borders': ['IRN', 'PAK', 'TKM', 'UZB', 'TJK', 'CHN'],\n",
        "  'callingCodes': ['93'],\n",
        "  'capital': 'Kabul',\n",
        "  'cioc': 'AFG',\n",
        "  'currencies': [{'code': 'AFN', 'name': 'Afghan afghani', 'symbol': '؋'}],\n",
        "  'demonym': 'Afghan',\n",
        "  'flag': 'https://restcountries.eu/data/afg.svg',\n",
        "  'gini': 27.8,\n",
        "  'languages': [{'iso639_1': 'ps',\n",
        "                 'iso639_2': 'pus',\n",
        "                 'name': 'Pashto',\n",
        "                 'nativeName': 'پښتو'},\n",
        "                {'iso639_1': 'uz',\n",
        "                 'iso639_2': 'uzb',\n",
        "                 'name': 'Uzbek',\n",
        "                 'nativeName': 'Oʻzbek'},\n",
        "                {'iso639_1': 'tk',\n",
        "                 'iso639_2': 'tuk',\n",
        "                 'name': 'Turkmen',\n",
        "                 'nativeName': 'Türkmen'}],\n",
        "  'latlng': [33.0, 65.0],\n",
        "  'name': 'Afghanistan',\n",
        "  'nativeName': 'افغانستان',\n",
        "  'numericCode': '004',\n",
        "  'population': 27657145,\n",
        "  'region': 'Asia',\n",
        "  'regionalBlocs': [{'acronym': 'SAARC',\n",
        "                     'name': 'South Asian Association for Regional Cooperation',\n",
        "                     'otherAcronyms': [],\n",
        "                     'otherNames': []}],\n",
        "  'subregion': 'Southern Asia',\n",
        "  'timezones': ['UTC+04:30'],\n",
        "  'topLevelDomain': ['.af'],\n",
        "  'translations': {'br': 'Afeganistão',\n",
        "                   'de': 'Afghanistan',\n",
        "                   'es': 'Afganistán',\n",
        "                   'fa': 'افغانستان',\n",
        "                   'fr': 'Afghanistan',\n",
        "                   'hr': 'Afganistan',\n",
        "                   'it': 'Afghanistan',\n",
        "                   'ja': 'アフガニスタン',\n",
        "                   'nl': 'Afghanistan',\n",
        "                   'pt': 'Afeganistão'}}]"
      ]
    },
    {
      "cell_type": "markdown",
      "id": "ad6b41b1",
      "metadata": {
        "id": "ad6b41b1"
      },
      "source": [
        "We use _json()_ method from response object, if the we are fetching JSON data. For txt, html, xml and other file formats we can use _text_.\n",
        "\n",
        "### Creating a Package\n",
        "\n",
        "We organize a large number of files in different folders and sub-folders based on some criteria, so that we can find and manage them easily. As you know, a module can contain multiple objects, such as classes, functions, etc. A package can contain one or more relevant modules. A package is actually a folder containing one or more module files. Let us create a package named mypackage, using the following steps:\n",
        "\n",
        "Create a new folder named mypacakge inside 30DaysOfPython folder\n",
        "Create an empty **__init__**.py file in the mypackage folder.\n",
        "Create modules arithmetic.py and greet.py with following code:"
      ]
    },
    {
      "cell_type": "code",
      "execution_count": null,
      "id": "3f364e9b",
      "metadata": {
        "attributes": {
          "classes": [
            "py"
          ],
          "id": ""
        },
        "id": "3f364e9b"
      },
      "outputs": [],
      "source": [
        "# mypackage/arithmetics.py\n",
        "# arithmetics.py\n",
        "def add_numbers(*args):\n",
        "    total = 0\n",
        "    for num in args:\n",
        "        total += num\n",
        "    return total\n",
        "\n",
        "\n",
        "def subtract(a, b):\n",
        "    return (a - b)\n",
        "\n",
        "\n",
        "def multiple(a, b):\n",
        "    return a * b\n",
        "\n",
        "\n",
        "def division(a, b):\n",
        "    return a / b\n",
        "\n",
        "\n",
        "def remainder(a, b):\n",
        "    return a % b\n",
        "\n",
        "\n",
        "def power(a, b):\n",
        "    return a ** b"
      ]
    },
    {
      "cell_type": "code",
      "execution_count": null,
      "id": "d00854e7",
      "metadata": {
        "attributes": {
          "classes": [
            "py"
          ],
          "id": ""
        },
        "id": "d00854e7"
      },
      "outputs": [],
      "source": [
        "# mypackage/greet.py\n",
        "# greet.py\n",
        "def greet_person(firstname, lastname):\n",
        "    return f'{firstname} {lastname}, welcome to 30DaysOfPython Challenge!'"
      ]
    },
    {
      "cell_type": "markdown",
      "id": "66d11d9e",
      "metadata": {
        "id": "66d11d9e"
      },
      "source": [
        "The folder structure of your package should look like this:"
      ]
    },
    {
      "cell_type": "code",
      "execution_count": null,
      "id": "f6d31d50",
      "metadata": {
        "attributes": {
          "classes": [
            "sh"
          ],
          "id": ""
        },
        "id": "f6d31d50"
      },
      "outputs": [],
      "source": [
        "─ mypackage\n",
        "    ├── __init__.py\n",
        "    ├── arithmetic.py\n",
        "    └── greet.py"
      ]
    },
    {
      "cell_type": "markdown",
      "id": "67252ac4",
      "metadata": {
        "id": "67252ac4"
      },
      "source": [
        "Now let's open the python interactive shell and try the package we have created:"
      ]
    },
    {
      "cell_type": "code",
      "execution_count": null,
      "id": "b153a9bf",
      "metadata": {
        "attributes": {
          "classes": [
            "sh"
          ],
          "id": ""
        },
        "id": "b153a9bf"
      },
      "outputs": [],
      "source": [
        "asabeneh@Asabeneh:~/Desktop/30DaysOfPython$ python\n",
        "Python 3.9.6 (default, Jun 28 2021, 15:26:21)\n",
        "[Clang 11.0.0 (clang-1100.0.33.8)] on darwin\n",
        "Type \"help\", \"copyright\", \"credits\" or \"license\" for more information.\n",
        ">>> from mypackage import arithmetics\n",
        ">>> arithmetics.add_numbers(1, 2, 3, 5)\n",
        "11\n",
        ">>> arithmetics.subtract(5, 3)\n",
        "2\n",
        ">>> arithmetics.multiple(5, 3)\n",
        "15\n",
        ">>> arithmetics.division(5, 3)\n",
        "1.6666666666666667\n",
        ">>> arithmetics.remainder(5, 3)\n",
        "2\n",
        ">>> arithmetics.power(5, 3)\n",
        "125\n",
        ">>> from mypackage import greet\n",
        ">>> greet.greet_person('Asabeneh', 'Yetayeh')\n",
        "'Oludayo adeoye, welcome to 30DaysOfPython Challenge!'\n",
        ">>>"
      ]
    },
    {
      "cell_type": "markdown",
      "id": "46e59842",
      "metadata": {
        "id": "46e59842"
      },
      "source": [
        "As you can see our package works perfectly. The package folder contains a special file called **__init__**.py - it stores the package's content. If we put **__init__**.py in the package folder, python start recognizes it as a package.\n",
        "The **__init__**.py exposes specified resources from its modules to be imported to other python files. An empty **__init__**.py file makes all functions available when a package is imported. The **__init__**.py is essential for the folder to be recognized by Python as a package.\n",
        "\n",
        "### Further Information About Packages\n",
        "\n",
        "- Database\n",
        "  - SQLAlchemy or SQLObject - Object oriented access to several different database systems\n",
        "    - _pip install SQLAlchemy_\n",
        "- Web Development\n",
        "  - Django - High-level web framework.\n",
        "    - _pip install django_\n",
        "  - Flask - micro framework for Python based on Werkzeug, Jinja 2. (It's BSD licensed)\n",
        "    - _pip install flask_\n",
        "- HTML Parser\n",
        "  - [Beautiful Soup](https://www.crummy.com/software/BeautifulSoup/bs4/doc/) - HTML/XML parser designed for quick turnaround projects like screen-scraping, will accept bad markup.\n",
        "    - _pip install beautifulsoup4_\n",
        "  - PyQuery - implements jQuery in Python; faster than BeautifulSoup, apparently.\n",
        "\n",
        "- XML Processing\n",
        "  - ElementTree - The Element type is a simple but flexible container object, designed to store hierarchical data structures, such as simplified XML infosets, in memory. --Note: Python 2.5 and up has ElementTree in the Standard Library\n",
        "- GUI\n",
        "  - PyQt - Bindings for the cross-platform Qt framework.\n",
        "  - TkInter - The traditional Python user interface toolkit.\n",
        "- Data Analysis, Data Science and Machine learning\n",
        "  - Numpy: Numpy(numeric python) is known as one of the most popular machine learning library in Python.\n",
        "  - Pandas: is a data analysis, data science and a machine learning library in Python that provides data structures of high-level and a wide variety of tools for analysis.\n",
        "  - SciPy: SciPy is a machine learning library for application developers and engineers. SciPy library contains modules for optimization, linear algebra, integration, image processing, and statistics.\n",
        "  - Scikit-Learn: It is NumPy and SciPy. It is considered as one of the best libraries for working with complex data.\n",
        "  - TensorFlow: is a machine learning library built by Google.\n",
        "  - Keras: is considered as one of the coolest machine learning libraries in Python. It provides an easier mechanism to express neural networks. Keras also provides some of the best utilities for compiling models, processing data-sets, visualization of graphs, and much more.\n",
        "- Network:\n",
        "  - requests: is a package which we can use to send requests to a server(GET, POST, DELETE, PUT)\n",
        "    - _pip install requests_\n",
        "\n",
        "🌕 You are always progressing and you are a head of 20 steps to your way to greatness. Now do some exercises for your brain and muscles.\n",
        "\n",
        "## Exercises: Day 20\n",
        "\n",
        "1. Read this url and find the 10 most frequent words. romeo_and_juliet = 'http://www.gutenberg.org/files/1112/1112.txt'\n",
        "2. Read the cats API and cats_api = 'https://api.thecatapi.com/v1/breeds' and find :\n",
        "   1. the min, max, mean, median, standard deviation of cats' weight in metric units.\n",
        "   2. the min, max, mean, median, standard deviation of cats' lifespan in years.\n",
        "   3. Create a frequency table of country and breed of cats\n",
        "3. Read the [countries API](https://restcountries.eu/rest/v2/all) and find\n",
        "   1. the 10 largest countries\n",
        "   2. the 10 most spoken languages\n",
        "   3. the total number of languages in the countries API\n",
        "4. UCI is one of the most common places to get data sets for data science and machine learning. Read the content of UCL (https://archive.ics.uci.edu/ml/datasets.php). Without additional libraries it will be difficult, so you may try it with BeautifulSoup4\n",
        "\n",
        "🎉 CONGRATULATIONS ! 🎉\n",
        "\n",
        "[<< Day 19](../19_Day_File_handling/19_file_handling.md) | [Day 21 >>](../21_Day_Classes_and_objects/21_classes_and_objects.md)"
      ]
    }
  ],
  "metadata": {
    "colab": {
      "provenance": [],
      "include_colab_link": true
    }
  },
  "nbformat": 4,
  "nbformat_minor": 5
}