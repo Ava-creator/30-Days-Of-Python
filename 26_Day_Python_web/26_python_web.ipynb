{
 "cells": [
  {
   "cell_type": "markdown",
   "id": "85915c86",
   "metadata": {},
   "source": [
    "<div align=\"center\">\n",
    "  <h1> 30 Days Of Python: Day 26 - Python for web </h1>\n",
    "  <a class=\"header-badge\" target=\"_blank\" href=\"https://www.linkedin.com/in/asabeneh/\">\n",
    "  <img src=\"https://img.shields.io/badge/style--5eba00.svg?label=LinkedIn&logo=linkedin&style=social\">\n",
    "  </a>\n",
    "  <a class=\"header-badge\" target=\"_blank\" href=\"https://twitter.com/Asabeneh\">\n",
    "  <img alt=\"Twitter Follow\" src=\"https://img.shields.io/twitter/follow/asabeneh?style=social\">\n",
    "  </a>\n",
    "\n",
    "  <sub>Author:\n",
    "  <a href=\"https://www.linkedin.com/in/asabeneh/\" target=\"_blank\">Asabeneh Yetayeh</a><br>\n",
    "  <small>Second Edition: July, 2021</small>\n",
    "  </sub>\n",
    "</div>\n",
    "</div>\n",
    "\n",
    "[<< Day 25 ](../25_Day_Pandas/25_pandas.md) | [Day 27 >>](../27_Day_Python_with_mongodb/27_python_with_mongodb.md)\n",
    "\n",
    "![30DaysOfPython](../images/30DaysOfPython_banner3@2x.png)\n",
    "\n",
    "- [📘 Day 26](#-day-26)\n",
    "  - [Python for Web](#python-for-web)\n",
    "    - [Flask](#flask)\n",
    "      - [Folder structure](#folder-structure)\n",
    "    - [Setting up your project directory](#setting-up-your-project-directory)\n",
    "    - [Creating routes](#creating-routes)\n",
    "    - [Creating templates](#creating-templates)\n",
    "    - [Python Script](#python-script)\n",
    "    - [Navigation](#navigation)\n",
    "    - [Creating a layout](#creating-a-layout)\n",
    "      - [Serving Static File](#serving-static-file)\n",
    "    - [Deployment](#deployment)\n",
    "      - [Creating Heroku account](#creating-heroku-account)\n",
    "      - [Login to Heroku](#login-to-heroku)\n",
    "      - [Create requirements and Procfile](#create-requirements-and-procfile)\n",
    "      - [Pushing project to heroku](#pushing-project-to-heroku)\n",
    "  - [Exercises: Day 26](#exercises-day-26)\n",
    "\n",
    "# 📘 Day 26\n",
    "\n",
    "## Python for Web\n",
    "\n",
    "Python is a general purpose programming language and it can be used for many places. In this section, we will see how we use Python for the web. There are many Python web frame works. Django and Flask are the most popular ones. Today, we will see how to use Flask for web development.\n",
    "\n",
    "### Flask\n",
    "\n",
    "Flask is a web development framework written in Python. Flask uses Jinja2 template engine. Flask can be also used with other modern front libraries such as React.\n",
    "\n",
    "If you did not install the virtualenv package yet install it first. Virtual environment will allows to isolate project dependencies from the local machine dependencies.\n",
    "\n",
    "#### Folder structure\n",
    "\n",
    "After completing all the step, your project file structure should look like this:"
   ]
  },
  {
   "cell_type": "code",
   "execution_count": null,
   "id": "36d0f0d1",
   "metadata": {
    "attributes": {
     "classes": [
      "sh"
     ],
     "id": ""
    }
   },
   "outputs": [],
   "source": [
    "\n",
    "├── Procfile\n",
    "├── app.py\n",
    "├── env\n",
    "│   ├── bin\n",
    "├── requirements.txt\n",
    "├── static\n",
    "│   └── css\n",
    "│       └── main.css\n",
    "└── templates\n",
    "    ├── about.html\n",
    "    ├── home.html\n",
    "    ├── layout.html\n",
    "    ├── post.html\n",
    "    └── result.html"
   ]
  },
  {
   "cell_type": "markdown",
   "id": "75c7ccde",
   "metadata": {},
   "source": [
    "### Setting up your project directory\n",
    "\n",
    "Follow the following steps to get started with Flask.\n",
    "\n",
    "Step 1: install virtualenv using the following command."
   ]
  },
  {
   "cell_type": "code",
   "execution_count": null,
   "id": "6f740798",
   "metadata": {
    "attributes": {
     "classes": [
      "sh"
     ],
     "id": ""
    }
   },
   "outputs": [],
   "source": [
    "pip install virtualenv"
   ]
  },
  {
   "cell_type": "markdown",
   "id": "7a9d66d5",
   "metadata": {},
   "source": [
    "Step 2:"
   ]
  },
  {
   "cell_type": "code",
   "execution_count": null,
   "id": "765224ae",
   "metadata": {
    "attributes": {
     "classes": [
      "sh"
     ],
     "id": ""
    }
   },
   "outputs": [],
   "source": [
    "asabeneh@Asabeneh:~/Desktop$ mkdir python_for_web\n",
    "asabeneh@Asabeneh:~/Desktop$ cd python_for_web/\n",
    "asabeneh@Asabeneh:~/Desktop/python_for_web$ virtualenv venv\n",
    "asabeneh@Asabeneh:~/Desktop/python_for_web$ source venv/bin/activate\n",
    "(env) asabeneh@Asabeneh:~/Desktop/python_for_web$ pip freeze\n",
    "(env) asabeneh@Asabeneh:~/Desktop/python_for_web$ pip install Flask\n",
    "(env) asabeneh@Asabeneh:~/Desktop/python_for_web$ pip freeze\n",
    "Click==7.0\n",
    "Flask==1.1.1\n",
    "itsdangerous==1.1.0\n",
    "Jinja2==2.10.3\n",
    "MarkupSafe==1.1.1\n",
    "Werkzeug==0.16.0\n",
    "(env) asabeneh@Asabeneh:~/Desktop/python_for_web$"
   ]
  },
  {
   "cell_type": "markdown",
   "id": "367fcd5d",
   "metadata": {},
   "source": [
    "We created a project director named python_for_web. Inside the project we created a virtual environment *venv* which could be any name but I prefer to call it _venv_. Then we activated the virtual environment. We used pip freeze to check the installed packages in the project directory. The result of pip freeze was empty because a package was not installed yet.\n",
    "\n",
    "Now, let's create app.py file in the project directory and write the following code. The app.py file will be the main file in the project. The following code has flask module, os module.\n",
    "\n",
    "### Creating routes\n",
    "\n",
    "The home route."
   ]
  },
  {
   "cell_type": "code",
   "execution_count": null,
   "id": "73be2017",
   "metadata": {
    "attributes": {
     "classes": [
      "py"
     ],
     "id": ""
    }
   },
   "outputs": [],
   "source": [
    "# let's import the flask\n",
    "from flask import Flask\n",
    "import os # importing operating system module\n",
    "\n",
    "app = Flask(__name__)\n",
    "\n",
    "@app.route('/') # this decorator create the home route\n",
    "def home ():\n",
    "    return '<h1>Welcome</h1>'\n",
    "\n",
    "@app.route('/about')\n",
    "def about():\n",
    "    return '<h1>About us</h1>'\n",
    "\n",
    "\n",
    "if __name__ == '__main__':\n",
    "    # for deployment we use the environ\n",
    "    # to make it work for both production and development\n",
    "    port = int(os.environ.get(\"PORT\", 5000))\n",
    "    app.run(debug=True, host='0.0.0.0', port=port)"
   ]
  },
  {
   "cell_type": "markdown",
   "id": "d3ad99bc",
   "metadata": {},
   "source": [
    "To run the flask application, write python app.py in the main flask application directory.\n",
    "\n",
    "After you run _python app.py_ check local host 5000.\n",
    "\n",
    "Let us add additional route.\n",
    "Creating about route"
   ]
  },
  {
   "cell_type": "code",
   "execution_count": null,
   "id": "30c86222",
   "metadata": {
    "attributes": {
     "classes": [
      "py"
     ],
     "id": ""
    }
   },
   "outputs": [],
   "source": [
    "# let's import the flask\n",
    "from flask import Flask\n",
    "import os # importing operating system module\n",
    "\n",
    "app = Flask(__name__)\n",
    "\n",
    "@app.route('/') # this decorator create the home route\n",
    "def home ():\n",
    "    return '<h1>Welcome</h1>'\n",
    "\n",
    "@app.route('/about')\n",
    "def about():\n",
    "    return '<h1>About us</h1>'\n",
    "\n",
    "if __name__ == '__main__':\n",
    "    # for deployment we use the environ\n",
    "    # to make it work for both production and development\n",
    "    port = int(os.environ.get(\"PORT\", 5000))\n",
    "    app.run(debug=True, host='0.0.0.0', port=port)"
   ]
  },
  {
   "cell_type": "markdown",
   "id": "670d9a8c",
   "metadata": {},
   "source": [
    "Now, we added the about route in the above code. How about if we want to render an HTML file instead of string? It is possible to render HTML file using the function *render_templae*. Let us create a folder called templates and create home.html and about.html in the project directory. Let us also import the *render_template* function from flask.\n",
    "\n",
    "### Creating templates\n",
    "\n",
    "Create the HTML files inside templates folder.\n",
    "\n",
    "home.html"
   ]
  },
  {
   "cell_type": "code",
   "execution_count": null,
   "id": "397e0126",
   "metadata": {
    "attributes": {
     "classes": [
      "html"
     ],
     "id": ""
    }
   },
   "outputs": [],
   "source": [
    "<!DOCTYPE html>\n",
    "<html lang=\"en\">\n",
    "  <head>\n",
    "    <meta charset=\"UTF-8\" />\n",
    "    <meta name=\"viewport\" content=\"width=device-width, initial-scale=1.0\" />\n",
    "    <title>Home</title>\n",
    "  </head>\n",
    "\n",
    "  <body>\n",
    "    <h1>Welcome Home</h1>\n",
    "  </body>\n",
    "</html>"
   ]
  },
  {
   "cell_type": "markdown",
   "id": "f5cf33ab",
   "metadata": {},
   "source": [
    "about.html"
   ]
  },
  {
   "cell_type": "code",
   "execution_count": null,
   "id": "e44b1d59",
   "metadata": {
    "attributes": {
     "classes": [
      "html"
     ],
     "id": ""
    }
   },
   "outputs": [],
   "source": [
    "<!DOCTYPE html>\n",
    "<html lang=\"en\">\n",
    "  <head>\n",
    "    <meta charset=\"UTF-8\" />\n",
    "    <meta name=\"viewport\" content=\"width=device-width, initial-scale=1.0\" />\n",
    "    <title>About</title>\n",
    "  </head>\n",
    "\n",
    "  <body>\n",
    "    <h1>About Us</h1>\n",
    "  </body>\n",
    "</html>"
   ]
  },
  {
   "cell_type": "markdown",
   "id": "6bce1ac8",
   "metadata": {},
   "source": [
    "### Python Script\n",
    "\n",
    "app.py"
   ]
  },
  {
   "cell_type": "code",
   "execution_count": null,
   "id": "5a54d884",
   "metadata": {
    "attributes": {
     "classes": [
      "py"
     ],
     "id": ""
    }
   },
   "outputs": [],
   "source": [
    "# let's import the flask\n",
    "from flask import Flask, render_template\n",
    "import os # importing operating system module\n",
    "\n",
    "app = Flask(__name__)\n",
    "\n",
    "@app.route('/') # this decorator create the home route\n",
    "def home ():\n",
    "    return render_template('home.html')\n",
    "\n",
    "@app.route('/about')\n",
    "def about():\n",
    "    return render_template('about.html')\n",
    "\n",
    "if __name__ == '__main__':\n",
    "    # for deployment we use the environ\n",
    "    # to make it work for both production and development\n",
    "    port = int(os.environ.get(\"PORT\", 5000))\n",
    "    app.run(debug=True, host='0.0.0.0', port=port)"
   ]
  },
  {
   "cell_type": "markdown",
   "id": "2bbe1593",
   "metadata": {},
   "source": [
    "As you can see to go to different pages or to navigate we need a navigation. Let's add a link to each page or let's create a layout which we use to every page.\n",
    "\n",
    "### Navigation"
   ]
  },
  {
   "cell_type": "code",
   "execution_count": null,
   "id": "ad07c59f",
   "metadata": {
    "attributes": {
     "classes": [
      "html"
     ],
     "id": ""
    }
   },
   "outputs": [],
   "source": [
    "<ul>\n",
    "  <li><a href=\"/\">Home</a></li>\n",
    "  <li><a href=\"/about\">About</a></li>\n",
    "</ul>"
   ]
  },
  {
   "cell_type": "markdown",
   "id": "0962c129",
   "metadata": {},
   "source": [
    "Now, we can navigate between the pages using the above link. Let us create additional page which handle form data. You can call it any name, I like to call it post.html.\n",
    "\n",
    "We can inject data to the HTML files using Jinja2 template engine."
   ]
  },
  {
   "cell_type": "code",
   "execution_count": null,
   "id": "1d30c9f2",
   "metadata": {
    "attributes": {
     "classes": [
      "py"
     ],
     "id": ""
    }
   },
   "outputs": [],
   "source": [
    "# let's import the flask\n",
    "from flask import Flask, render_template, request, redirect, url_for\n",
    "import os # importing operating system module\n",
    "\n",
    "app = Flask(__name__)\n",
    "\n",
    "@app.route('/') # this decorator create the home route\n",
    "def home ():\n",
    "    techs = ['HTML', 'CSS', 'Flask', 'Python']\n",
    "    name = '30 Days Of Python Programming'\n",
    "    return render_template('home.html', techs=techs, name = name, title = 'Home')\n",
    "\n",
    "@app.route('/about')\n",
    "def about():\n",
    "    name = '30 Days Of Python Programming'\n",
    "    return render_template('about.html', name = name, title = 'About Us')\n",
    "\n",
    "@app.route('/post')\n",
    "def post():\n",
    "    name = 'Text Analyzer'\n",
    "    return render_template('post.html', name = name, title = name)\n",
    "\n",
    "\n",
    "if __name__ == '__main__':\n",
    "    # for deployment\n",
    "    # to make it work for both production and development\n",
    "    port = int(os.environ.get(\"PORT\", 5000))\n",
    "    app.run(debug=True, host='0.0.0.0', port=port)"
   ]
  },
  {
   "cell_type": "markdown",
   "id": "70e8a479",
   "metadata": {},
   "source": [
    "Let's see the templates too:\n",
    "\n",
    "home.html"
   ]
  },
  {
   "cell_type": "code",
   "execution_count": null,
   "id": "a717d0c5",
   "metadata": {
    "attributes": {
     "classes": [
      "html"
     ],
     "id": ""
    }
   },
   "outputs": [],
   "source": [
    "<!DOCTYPE html>\n",
    "<html lang=\"en\">\n",
    "  <head>\n",
    "    <meta charset=\"UTF-8\" />\n",
    "    <meta name=\"viewport\" content=\"width=device-width, initial-scale=1.0\" />\n",
    "    <title>Home</title>\n",
    "  </head>\n",
    "\n",
    "  <body>\n",
    "    <ul>\n",
    "      <li><a href=\"/\">Home</a></li>\n",
    "      <li><a href=\"/about\">About</a></li>\n",
    "    </ul>\n",
    "    <h1>Welcome to {{name}}</h1>\n",
    "     <ul>\n",
    "    {% for tech in techs %}\n",
    "      <li>{{tech}}</li>\n",
    "    {% endfor %}\n",
    "    </ul>\n",
    "  </body>\n",
    "</html>"
   ]
  },
  {
   "cell_type": "markdown",
   "id": "0232a3da",
   "metadata": {},
   "source": [
    "about.html"
   ]
  },
  {
   "cell_type": "code",
   "execution_count": null,
   "id": "92610a6a",
   "metadata": {
    "attributes": {
     "classes": [
      "html"
     ],
     "id": ""
    }
   },
   "outputs": [],
   "source": [
    "<!DOCTYPE html>\n",
    "<html lang=\"en\">\n",
    "  <head>\n",
    "    <meta charset=\"UTF-8\" />\n",
    "    <meta name=\"viewport\" content=\"width=device-width, initial-scale=1.0\" />\n",
    "    <title>About Us</title>\n",
    "  </head>\n",
    "\n",
    "  <body>\n",
    "    <ul>\n",
    "      <li><a href=\"/\">Home</a></li>\n",
    "      <li><a href=\"/about\">About</a></li>\n",
    "    </ul>\n",
    "    <h1>About Us</h1>\n",
    "    <h2>{{name}}</h2>\n",
    "  </body>\n",
    "</html>"
   ]
  },
  {
   "cell_type": "markdown",
   "id": "08c9c00e",
   "metadata": {},
   "source": [
    "### Creating a layout\n",
    "\n",
    "In the template files, there are lots of repeated codes, we can write a layout and we can remove the repetition. Let's create layout.html inside the templates folder.\n",
    "After we create the layout we will import to every file.\n",
    "\n",
    "#### Serving Static File\n",
    "\n",
    "Create a static folder in your project directory. Inside the static folder create CSS or styles folder and create a CSS stylesheet. We use the *url_for* module to serve the static file. \n",
    "\n",
    "layout.html"
   ]
  },
  {
   "cell_type": "code",
   "execution_count": null,
   "id": "17064c15",
   "metadata": {
    "attributes": {
     "classes": [
      "html"
     ],
     "id": ""
    }
   },
   "outputs": [],
   "source": [
    "<!DOCTYPE html>\n",
    "<html lang=\"en\">\n",
    "  <head>\n",
    "    <meta charset=\"UTF-8\" />\n",
    "    <meta name=\"viewport\" content=\"width=device-width, initial-scale=1.0\" />\n",
    "    <link\n",
    "      href=\"https://fonts.googleapis.com/css?family=Lato:300,400|Nunito:300,400|Raleway:300,400,500&display=swap\"\n",
    "      rel=\"stylesheet\"\n",
    "    />\n",
    "    <link\n",
    "      rel=\"stylesheet\"\n",
    "      href=\"{{ url_for('static', filename='css/main.css') }}\"\n",
    "    />\n",
    "    {% if title %}\n",
    "    <title>30 Days of Python - {{ title}}</title>\n",
    "    {% else %}\n",
    "    <title>30 Days of Python</title>\n",
    "    {% endif %}\n",
    "  </head>\n",
    "\n",
    "  <body>\n",
    "    <header>\n",
    "      <div class=\"menu-container\">\n",
    "        <div>\n",
    "          <a class=\"brand-name nav-link\" href=\"/\">30DaysOfPython</a>\n",
    "        </div>\n",
    "        <ul class=\"nav-lists\">\n",
    "          <li class=\"nav-list\">\n",
    "            <a class=\"nav-link active\" href=\"{{ url_for('home') }}\">Home</a>\n",
    "          </li>\n",
    "          <li class=\"nav-list\">\n",
    "            <a class=\"nav-link active\" href=\"{{ url_for('about') }}\">About</a>\n",
    "          </li>\n",
    "          <li class=\"nav-list\">\n",
    "            <a class=\"nav-link active\" href=\"{{ url_for('post') }}\"\n",
    "              >Text Analyzer</a\n",
    "            >\n",
    "          </li>\n",
    "        </ul>\n",
    "      </div>\n",
    "    </header>\n",
    "    <main>\n",
    "      {% block content %} {% endblock %}\n",
    "    </main>\n",
    "  </body>\n",
    "</html>"
   ]
  },
  {
   "cell_type": "markdown",
   "id": "516096cd",
   "metadata": {},
   "source": [
    "Now, lets remove all the repeated code in the other template files and import the layout.html. The href is using _url_for_ function with the name of the route function to connect each navigation route.\n",
    "\n",
    "home.html"
   ]
  },
  {
   "cell_type": "code",
   "execution_count": null,
   "id": "a0cb32ba",
   "metadata": {
    "attributes": {
     "classes": [
      "html"
     ],
     "id": ""
    }
   },
   "outputs": [],
   "source": [
    "{% extends 'layout.html' %} {% block content %}\n",
    "<div class=\"container\">\n",
    "  <h1>Welcome to {{name}}</h1>\n",
    "  <p>\n",
    "    This application clean texts and analyse the number of word, characters and\n",
    "    most frequent words in the text. Check it out by click text analyzer at the\n",
    "    menu. You need the following technologies to build this web application:\n",
    "  </p>\n",
    "  <ul class=\"tech-lists\">\n",
    "    {% for tech in techs %}\n",
    "    <li class=\"tech\">{{tech}}</li>\n",
    "\n",
    "    {% endfor %}\n",
    "  </ul>\n",
    "</div>\n",
    "\n",
    "{% endblock %}"
   ]
  },
  {
   "cell_type": "markdown",
   "id": "f4102d83",
   "metadata": {},
   "source": [
    "about.html"
   ]
  },
  {
   "cell_type": "code",
   "execution_count": null,
   "id": "485f7fd6",
   "metadata": {
    "attributes": {
     "classes": [
      "html"
     ],
     "id": ""
    }
   },
   "outputs": [],
   "source": [
    "{% extends 'layout.html' %} {% block content %}\n",
    "<div class=\"container\">\n",
    "  <h1>About {{name}}</h1>\n",
    "  <p>\n",
    "    This is a 30 days of python programming challenge. If you have been coding\n",
    "    this far, you are awesome. Congratulations for the job well done!\n",
    "  </p>\n",
    "</div>\n",
    "{% endblock %}"
   ]
  },
  {
   "cell_type": "markdown",
   "id": "22b71261",
   "metadata": {},
   "source": [
    "post.html"
   ]
  },
  {
   "cell_type": "code",
   "execution_count": null,
   "id": "1e67bcae",
   "metadata": {
    "attributes": {
     "classes": [
      "html"
     ],
     "id": ""
    }
   },
   "outputs": [],
   "source": [
    "{% extends 'layout.html' %} {% block content %}\n",
    "<div class=\"container\">\n",
    "  <h1>Text Analyzer</h1>\n",
    "  <form action=\"https://thirtydaysofpython-v1.herokuapp.com/post\" method=\"POST\">\n",
    "    <div>\n",
    "      <textarea rows=\"25\" name=\"content\" autofocus></textarea>\n",
    "    </div>\n",
    "    <div>\n",
    "      <input type=\"submit\" class=\"btn\" value=\"Process Text\" />\n",
    "    </div>\n",
    "  </form>\n",
    "</div>\n",
    "\n",
    "{% endblock %}"
   ]
  },
  {
   "cell_type": "markdown",
   "id": "237e9fe1",
   "metadata": {},
   "source": [
    "Request methods, there are different request methods(GET, POST, PUT, DELETE) are the common request methods which allow us to do CRUD(Create, Read, Update, Delete) operation.\n",
    "\n",
    "In the post, route we will use GET and POST method alternative depending on the type of request, check how it looks in the code below. The request method is a function to handle request methods and also to access form data.\n",
    "app.py"
   ]
  },
  {
   "cell_type": "code",
   "execution_count": null,
   "id": "94080794",
   "metadata": {
    "attributes": {
     "classes": [
      "py"
     ],
     "id": ""
    }
   },
   "outputs": [],
   "source": [
    "# let's import the flask\n",
    "from flask import Flask, render_template, request, redirect, url_for\n",
    "import os # importing operating system module\n",
    "\n",
    "app = Flask(__name__)\n",
    "# to stop caching static file\n",
    "app.config['SEND_FILE_MAX_AGE_DEFAULT'] = 0\n",
    "\n",
    "\n",
    "\n",
    "@app.route('/') # this decorator create the home route\n",
    "def home ():\n",
    "    techs = ['HTML', 'CSS', 'Flask', 'Python']\n",
    "    name = '30 Days Of Python Programming'\n",
    "    return render_template('home.html', techs=techs, name = name, title = 'Home')\n",
    "\n",
    "@app.route('/about')\n",
    "def about():\n",
    "    name = '30 Days Of Python Programming'\n",
    "    return render_template('about.html', name = name, title = 'About Us')\n",
    "\n",
    "@app.route('/result')\n",
    "def result():\n",
    "    return render_template('result.html')\n",
    "\n",
    "@app.route('/post', methods= ['GET','POST'])\n",
    "def post():\n",
    "    name = 'Text Analyzer'\n",
    "    if request.method == 'GET':\n",
    "         return render_template('post.html', name = name, title = name)\n",
    "    if request.method =='POST':\n",
    "        content = request.form['content']\n",
    "        print(content)\n",
    "        return redirect(url_for('result'))\n",
    "\n",
    "if __name__ == '__main__':\n",
    "    # for deployment\n",
    "    # to make it work for both production and development\n",
    "    port = int(os.environ.get(\"PORT\", 5000))\n",
    "    app.run(debug=True, host='0.0.0.0', port=port)"
   ]
  },
  {
   "cell_type": "markdown",
   "id": "b89f16ab",
   "metadata": {},
   "source": [
    "So far, we have seen how to use template and how to inject data to template, how to a common layout.\n",
    "Now, lets handle static file. Create a folder called static in the project director and create a folder called css. Inside css folder create main.css. Your main. css file will be linked to the layout.html.\n",
    "\n",
    "You don't have to write the css file, copy and use it. Let's move on to deployment.\n",
    "\n",
    "### Deployment\n",
    "\n",
    "#### Creating Heroku account\n",
    "\n",
    "Heroku provides a free deployment service for both front end and fullstack applications. Create an account on [heroku](https://www.heroku.com/) and install the heroku [CLI](https://devcenter.heroku.com/articles/heroku-cli) for you machine.\n",
    "After installing heroku write the following command\n",
    "\n",
    "#### Login to Heroku"
   ]
  },
  {
   "cell_type": "code",
   "execution_count": null,
   "id": "c80af6e7",
   "metadata": {
    "attributes": {
     "classes": [
      "sh"
     ],
     "id": ""
    }
   },
   "outputs": [],
   "source": [
    "asabeneh@Asabeneh:~$ heroku login\n",
    "heroku: Press any key to open up the browser to login or q to exit:"
   ]
  },
  {
   "cell_type": "markdown",
   "id": "885317fd",
   "metadata": {},
   "source": [
    "Let's see the result by clicking any key from the keyboard. When you press any key from you keyboard it will open the heroku login page and click the login page. Then you will local machine will be connected to the remote heroku server. If you are connected to remote server, you will see this."
   ]
  },
  {
   "cell_type": "code",
   "execution_count": null,
   "id": "ba16af5a",
   "metadata": {
    "attributes": {
     "classes": [
      "sh"
     ],
     "id": ""
    }
   },
   "outputs": [],
   "source": [
    "asabeneh@Asabeneh:~$ heroku login\n",
    "heroku: Press any key to open up the browser to login or q to exit:\n",
    "Opening browser to https://cli-auth.heroku.com/auth/browser/be12987c-583a-4458-a2c2-ba2ce7f41610\n",
    "Logging in... done\n",
    "Logged in as asabeneh@gmail.com\n",
    "asabeneh@Asabeneh:~$"
   ]
  },
  {
   "cell_type": "markdown",
   "id": "4f2b963d",
   "metadata": {},
   "source": [
    "#### Create requirements and Procfile\n",
    "\n",
    "Before we push our code to remote server, we need requirements\n",
    "\n",
    "- requirements.txt\n",
    "- Procfile"
   ]
  },
  {
   "cell_type": "code",
   "execution_count": null,
   "id": "1f8177fe",
   "metadata": {
    "attributes": {
     "classes": [
      "sh"
     ],
     "id": ""
    }
   },
   "outputs": [],
   "source": [
    "(env) asabeneh@Asabeneh:~/Desktop/python_for_web$ pip freeze\n",
    "Click==7.0\n",
    "Flask==1.1.1\n",
    "itsdangerous==1.1.0\n",
    "Jinja2==2.10.3\n",
    "MarkupSafe==1.1.1\n",
    "Werkzeug==0.16.0\n",
    "(env) asabeneh@Asabeneh:~/Desktop/python_for_web$ touch requirements.txt\n",
    "(env) asabeneh@Asabeneh:~/Desktop/python_for_web$ pip freeze > requirements.txt\n",
    "(env) asabeneh@Asabeneh:~/Desktop/python_for_web$ cat requirements.txt\n",
    "Click==7.0\n",
    "Flask==1.1.1\n",
    "itsdangerous==1.1.0\n",
    "Jinja2==2.10.3\n",
    "MarkupSafe==1.1.1\n",
    "Werkzeug==0.16.0\n",
    "(env) asabeneh@Asabeneh:~/Desktop/python_for_web$ touch Procfile\n",
    "(env) asabeneh@Asabeneh:~/Desktop/python_for_web$ ls\n",
    "Procfile          env/              static/\n",
    "app.py            requirements.txt  templates/\n",
    "(env) asabeneh@Asabeneh:~/Desktop/python_for_web$"
   ]
  },
  {
   "cell_type": "markdown",
   "id": "56b1b02d",
   "metadata": {},
   "source": [
    "The Procfile will have the command which run the application in the web server in our case on Heroku."
   ]
  },
  {
   "cell_type": "code",
   "execution_count": null,
   "id": "7a5a0ae7",
   "metadata": {
    "attributes": {
     "classes": [
      "sh"
     ],
     "id": ""
    }
   },
   "outputs": [],
   "source": [
    "web: python app.py"
   ]
  },
  {
   "cell_type": "markdown",
   "id": "4a69b882",
   "metadata": {},
   "source": [
    "#### Pushing project to heroku\n",
    "\n",
    "Now, it is ready to be deployed. Steps to deploy the application on heroku\n",
    "\n",
    "1. git init\n",
    "2. git add .\n",
    "3. git commit -m \"commit message\"\n",
    "4. heroku create 'name of the app as one word'\n",
    "5. git push heroku master\n",
    "6. heroku open(to launch the deployed application)\n",
    "\n",
    "After this step you will get an application like [this](http://thirdaysofpython-practice.herokuapp.com/)\n",
    "\n",
    "## Exercises: Day 26\n",
    "\n",
    "1. You will build [this application](https://thirtydaysofpython-v1-final.herokuapp.com/). Only the text analyser part is left\n",
    "\n",
    "\n",
    "🎉 CONGRATULATIONS ! 🎉\n",
    "\n",
    "[<< Day 25 ](../25_Day_Pandas/25_pandas.md) | [Day 27 >>](../27_Day_Python_with_mongodb/27_python_with_mongodb.md)"
   ]
  }
 ],
 "metadata": {},
 "nbformat": 4,
 "nbformat_minor": 5
}
