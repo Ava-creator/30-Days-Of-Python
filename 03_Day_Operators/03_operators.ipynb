{
  "cells": [
    {
      "cell_type": "markdown",
      "metadata": {
        "id": "view-in-github",
        "colab_type": "text"
      },
      "source": [
        "<a href=\"https://colab.research.google.com/github/Ava-creator/30-Days-Of-Python/blob/master/03_Day_Operators/03_operators.ipynb\" target=\"_parent\"><img src=\"https://colab.research.google.com/assets/colab-badge.svg\" alt=\"Open In Colab\"/></a>"
      ]
    },
    {
      "cell_type": "markdown",
      "id": "7e803ff4",
      "metadata": {
        "id": "7e803ff4"
      },
      "source": [
        "<div align=\"center\">\n",
        "  <h1> 30 Days Of Python: Day 3 - Operators</h1>\n",
        "  <a class=\"header-badge\" target=\"_blank\" \"www.linkedin.com/in/oludayo-adeoye\" >\n",
        "  <img src=\"https://img.shields.io/badge/style--5eba00.svg?label=LinkedIn&logo=linkedin&style=social\">\n",
        "  </a>\n",
        "<a class=\"header-badge\" target=\"_blank\" href=\"https://twitter.com/Dbillion7\">\n",
        "    <img alt=\"Twitter Follow\" src=\"https://img.shields.io/twitter/follow/Dbillion7?style=social\">\n",
        "  </a>\n",
        "\n",
        "<sub>Author:\n",
        "\n",
        "\n",
        "<a href=\"www.linkedin.com/in/oludayo-adeoye\" target=\"_blank\">Oludayo adeoye</a><br>\n",
        "<a href=\"www.linkedin.com/in/oludayo-adeoye\" target=\"_blank\">Oludayo adeoye</a><br>\n",
        "\n",
        "<small> Second Edition: July, 2021</small>\n",
        "</sub>\n",
        "</div>\n",
        "\n",
        "[<< Day 2](../02_Day_Variables_builtin_functions/02_variables_builtin_functions.md) | [Day 4 >>](../04_Day_Strings/04_strings.md)\n",
        "\n",
        "![30DaysOfPython](https://github.com/Ava-creator/30-Days-Of-Python/blob/master/images/30DaysOfPython_banner3@2x.png?raw=1)\n",
        "\n",
        "- [📘 Day 3](#-day-3)\n",
        "  - [Boolean](#boolean)\n",
        "  - [Operators](#operators)\n",
        "    - [Assignment Operators](#assignment-operators)\n",
        "    - [Arithmetic Operators:](#arithmetic-operators)\n",
        "    - [Comparison Operators](#comparison-operators)\n",
        "    - [Logical Operators](#logical-operators)\n",
        "  - [💻 Exercises - Day 3](#-exercises---day-3)\n",
        "\n",
        "# 📘 Day 3\n",
        "\n",
        "## Boolean\n",
        "\n",
        "A boolean data type represents one of the two values: _True_ or _False_. The use of these data types will be clear once we start using the comparison operator. The first letter **T** for True and **F** for False should be capital unlike JavaScript.\n",
        "**Example: Boolean Values**"
      ]
    },
    {
      "cell_type": "code",
      "execution_count": null,
      "id": "4d0c634f",
      "metadata": {
        "attributes": {
          "classes": [
            "py"
          ],
          "id": ""
        },
        "id": "4d0c634f",
        "outputId": "4c615faf-f084-4aae-a4a5-b813711fe0f9",
        "colab": {
          "base_uri": "https://localhost:8080/"
        }
      },
      "outputs": [
        {
          "output_type": "stream",
          "name": "stdout",
          "text": [
            "True\n",
            "False\n"
          ]
        }
      ],
      "source": [
        "print(True)\n",
        "print(False)"
      ]
    },
    {
      "cell_type": "markdown",
      "id": "ce272094",
      "metadata": {
        "id": "ce272094"
      },
      "source": [
        "## Operators\n",
        "\n",
        "Python language supports several types of operators. In this section, we will focus on few of them.\n",
        "\n",
        "### Assignment Operators\n",
        "\n",
        "Assignment operators are used to assign values to variables. Let us take = as an example. Equal sign in mathematics shows that two values are equal, however in Python it means we are storing a value in a certain variable and we call it assignment or a assigning value to a variable. The table below shows the different types of python assignment operators, taken from [w3school](https://www.w3schools.com/python/python_operators.asp).\n",
        "\n",
        "![Assignment Operators](https://github.com/Ava-creator/30-Days-Of-Python/blob/master/images/assignment_operators.png?raw=1)\n",
        "\n",
        "### Arithmetic Operators:\n",
        "\n",
        "- Addition(+): a + b\n",
        "- Subtraction(-): a - b\n",
        "- Multiplication(*): a * b\n",
        "- Division(/): a / b\n",
        "- Modulus(%): a % b\n",
        "- Floor division(//): a // b\n",
        "- Exponentiation(**): a ** b\n",
        "\n",
        "![Arithmetic Operators](https://github.com/Ava-creator/30-Days-Of-Python/blob/master/images/arithmetic_operators.png?raw=1)\n",
        "\n",
        "**Example:Integers**"
      ]
    },
    {
      "cell_type": "code",
      "execution_count": null,
      "id": "de6a3bb4",
      "metadata": {
        "attributes": {
          "classes": [
            "py"
          ],
          "id": ""
        },
        "id": "de6a3bb4",
        "outputId": "3038f028-2461-4b35-c399-89dfa767a6a0",
        "colab": {
          "base_uri": "https://localhost:8080/"
        }
      },
      "outputs": [
        {
          "output_type": "stream",
          "name": "stdout",
          "text": [
            "Addition:  3\n",
            "Subtraction:  1\n",
            "Multiplication:  6\n",
            "Division:  2.0\n",
            "Division:  3.0\n",
            "Division:  3.5\n",
            "Division without the remainder:  3\n",
            "Division without the remainder:  2\n",
            "Modulus:  1\n",
            "Exponentiation:  8\n"
          ]
        }
      ],
      "source": [
        "# Arithmetic Operations in Python\n",
        "# Integers\n",
        "\n",
        "print('Addition: ', 1 + 2)        # 3\n",
        "print('Subtraction: ', 2 - 1)     # 1\n",
        "print('Multiplication: ', 2 * 3)  # 6\n",
        "print ('Division: ', 4 / 2)       # 2.0  Division in Python gives floating number\n",
        "print('Division: ', 6 / 2)        # 3.0\n",
        "print('Division: ', 7 / 2)        # 3.5\n",
        "print('Division without the remainder: ', 7 // 2)   # 3,  gives without the floating number or without the remaining\n",
        "print ('Division without the remainder: ',7 // 3)   # 2\n",
        "print('Modulus: ', 3 % 2)         # 1, Gives the remainder\n",
        "print('Exponentiation: ', 2 ** 3) # 9 it means 2 * 2 * 2"
      ]
    },
    {
      "cell_type": "markdown",
      "id": "7b75ebc3",
      "metadata": {
        "id": "7b75ebc3"
      },
      "source": [
        "**Example:Floats**"
      ]
    },
    {
      "cell_type": "code",
      "execution_count": null,
      "id": "1b422b5a",
      "metadata": {
        "attributes": {
          "classes": [
            "py"
          ],
          "id": ""
        },
        "id": "1b422b5a",
        "outputId": "0ce3c6b5-085d-47a6-dad2-b6609a1c7788",
        "colab": {
          "base_uri": "https://localhost:8080/"
        }
      },
      "outputs": [
        {
          "output_type": "stream",
          "name": "stdout",
          "text": [
            "Floating Point Number, PI 3.14\n",
            "Floating Point Number, gravity 9.81\n"
          ]
        }
      ],
      "source": [
        "# Floating numbers\n",
        "print('Floating Point Number, PI', 3.14)\n",
        "print('Floating Point Number, gravity', 9.81)"
      ]
    },
    {
      "cell_type": "markdown",
      "id": "13b7ef45",
      "metadata": {
        "id": "13b7ef45"
      },
      "source": [
        "**Example:Complex numbers**"
      ]
    },
    {
      "cell_type": "code",
      "execution_count": null,
      "id": "a4a9565a",
      "metadata": {
        "attributes": {
          "classes": [
            "py"
          ],
          "id": ""
        },
        "id": "a4a9565a",
        "outputId": "9e323328-bcb8-454d-f1af-11b56b982c43",
        "colab": {
          "base_uri": "https://localhost:8080/"
        }
      },
      "outputs": [
        {
          "output_type": "stream",
          "name": "stdout",
          "text": [
            "Complex number:  (1+1j)\n",
            "Multiplying complex numbers:  (2+0j)\n"
          ]
        }
      ],
      "source": [
        "# Complex numbers\n",
        "print('Complex number: ', 1 + 1j)\n",
        "print('Multiplying complex numbers: ',(1 + 1j) * (1 - 1j))"
      ]
    },
    {
      "cell_type": "markdown",
      "id": "1e26f53f",
      "metadata": {
        "id": "1e26f53f"
      },
      "source": [
        "Let's declare a variable and assign a number data type. I am going to use single character variable but remember do not develop a habit of declaring such types of variables. Variable names should be all the time mnemonic.\n",
        "\n",
        "**Example:**"
      ]
    },
    {
      "cell_type": "code",
      "execution_count": null,
      "id": "7ea6028b",
      "metadata": {
        "id": "7ea6028b",
        "outputId": "bee84245-ad77-457f-f182-44a11b761205",
        "colab": {
          "base_uri": "https://localhost:8080/",
          "height": 311
        }
      },
      "outputs": [
        {
          "output_type": "stream",
          "name": "stdout",
          "text": [
            "5\n",
            "a + b =  5\n",
            "a - b =  1\n",
            "a * b =  6\n",
            "a / b =  1.5\n",
            "a % b =  1\n",
            "a // b =  1\n"
          ]
        },
        {
          "output_type": "error",
          "ename": "NameError",
          "evalue": "name 'exponentiation' is not defined",
          "traceback": [
            "\u001b[0;31m---------------------------------------------------------------------------\u001b[0m",
            "\u001b[0;31mNameError\u001b[0m                                 Traceback (most recent call last)",
            "\u001b[0;32m<ipython-input-5-feacb7ff4186>\u001b[0m in \u001b[0;36m<cell line: 0>\u001b[0;34m()\u001b[0m\n\u001b[1;32m     21\u001b[0m \u001b[0mprint\u001b[0m\u001b[0;34m(\u001b[0m\u001b[0;34m'a % b = '\u001b[0m\u001b[0;34m,\u001b[0m \u001b[0mremainder\u001b[0m\u001b[0;34m)\u001b[0m\u001b[0;34m\u001b[0m\u001b[0;34m\u001b[0m\u001b[0m\n\u001b[1;32m     22\u001b[0m \u001b[0mprint\u001b[0m\u001b[0;34m(\u001b[0m\u001b[0;34m'a // b = '\u001b[0m\u001b[0;34m,\u001b[0m \u001b[0mfloor_division\u001b[0m\u001b[0;34m)\u001b[0m\u001b[0;34m\u001b[0m\u001b[0;34m\u001b[0m\u001b[0m\n\u001b[0;32m---> 23\u001b[0;31m \u001b[0mprint\u001b[0m\u001b[0;34m(\u001b[0m\u001b[0;34m'a ** b = '\u001b[0m\u001b[0;34m,\u001b[0m \u001b[0mexponentiation\u001b[0m\u001b[0;34m)\u001b[0m\u001b[0;34m\u001b[0m\u001b[0;34m\u001b[0m\u001b[0m\n\u001b[0m",
            "\u001b[0;31mNameError\u001b[0m: name 'exponentiation' is not defined"
          ]
        }
      ],
      "source": [
        "# Declaring the variable at the top first\n",
        "\n",
        "a = 3 # a is a variable name and 3 is an integer data type\n",
        "b = 2 # b is a variable name and 3 is an integer data type\n",
        "\n",
        "# Arithmetic operations and assigning the result to a variable\n",
        "total = a + b\n",
        "diff = a - b\n",
        "product = a * b\n",
        "division = a / b\n",
        "remainder = a % b\n",
        "floor_division = a // b\n",
        "exponential = a ** b\n",
        "\n",
        "# I should have used sum instead of total but sum is a built-in function - try to avoid overriding built-in functions\n",
        "print(total) # if you do not label your print with some string, you never know where the result is coming from\n",
        "print('a + b = ', total)\n",
        "print('a - b = ', diff)\n",
        "print('a * b = ', product)\n",
        "print('a / b = ', division)\n",
        "print('a % b = ', remainder)\n",
        "print('a // b = ', floor_division)\n",
        "print('a ** b = ', exponentiation)"
      ]
    },
    {
      "cell_type": "markdown",
      "id": "effe6144",
      "metadata": {
        "id": "effe6144"
      },
      "source": [
        "**Example:**"
      ]
    },
    {
      "cell_type": "code",
      "execution_count": null,
      "id": "40a4a84d",
      "metadata": {
        "attributes": {
          "classes": [
            "py"
          ],
          "id": ""
        },
        "id": "40a4a84d"
      },
      "outputs": [],
      "source": [
        "print('== Addition, Subtraction, Multiplication, Division, Modulus ==')\n",
        "\n",
        "# Declaring values and organizing them together\n",
        "num_one = 3\n",
        "num_two = 4\n",
        "\n",
        "# Arithmetic operations\n",
        "total = num_one + num_two\n",
        "diff = num_two - num_one\n",
        "product = num_one * num_two\n",
        "div = num_two / num_one\n",
        "remainder = num_two % num_one\n",
        "\n",
        "# Printing values with label\n",
        "print('total: ', total)\n",
        "print('difference: ', diff)\n",
        "print('product: ', product)\n",
        "print('division: ', div)\n",
        "print('remainder: ', remainder)"
      ]
    },
    {
      "cell_type": "markdown",
      "id": "8b223a18",
      "metadata": {
        "id": "8b223a18"
      },
      "source": [
        "Let us start start connecting the dots and start making use of what we already know to calculate (area, volume,density,  weight, perimeter, distance, force).\n",
        "\n",
        "**Example:**"
      ]
    },
    {
      "cell_type": "code",
      "execution_count": null,
      "id": "570e48c5",
      "metadata": {
        "attributes": {
          "classes": [
            "py"
          ],
          "id": ""
        },
        "id": "570e48c5"
      },
      "outputs": [],
      "source": [
        "# Calculating area of a circle\n",
        "radius = 10                                 # radius of a circle\n",
        "area_of_circle = 3.14 * radius ** 2         # two * sign means exponent or power\n",
        "print('Area of a circle:', area_of_circle)\n",
        "\n",
        "# Calculating area of a rectangle\n",
        "length = 10\n",
        "width = 20\n",
        "area_of_rectangle = length * width\n",
        "print('Area of rectangle:', area_of_rectangle)\n",
        "\n",
        "# Calculating a weight of an object\n",
        "mass = 75\n",
        "gravity = 9.81\n",
        "weight = mass * gravity\n",
        "print(weight, 'N')                         # Adding unit to the weight\n",
        "\n",
        "# Calculate the density of a liquid\n",
        "mass = 75 # in Kg\n",
        "volume = 0.075 # in cubic meter\n",
        "density = mass / volume # 1000 Kg/m^3\n"
      ]
    },
    {
      "cell_type": "markdown",
      "id": "8b52a5ef",
      "metadata": {
        "id": "8b52a5ef"
      },
      "source": [
        "### Comparison Operators\n",
        "\n",
        "In programming we compare values, we use comparison operators to compare two values. We check if a value is greater or less or equal to other value. The following table shows Python comparison operators which was taken from [w3shool](https://www.w3schools.com/python/python_operators.asp).\n",
        "\n",
        "![Comparison Operators](https://github.com/Ava-creator/30-Days-Of-Python/blob/master/images/comparison_operators.png?raw=1)\n",
        "**Example: Comparison Operators**"
      ]
    },
    {
      "cell_type": "code",
      "execution_count": null,
      "id": "95896277",
      "metadata": {
        "attributes": {
          "classes": [
            "py"
          ],
          "id": ""
        },
        "id": "95896277"
      },
      "outputs": [],
      "source": [
        "print(3 > 2)     # True, because 3 is greater than 2\n",
        "print(3 >= 2)    # True, because 3 is greater than 2\n",
        "print(3 < 2)     # False,  because 3 is greater than 2\n",
        "print(2 < 3)     # True, because 2 is less than 3\n",
        "print(2 <= 3)    # True, because 2 is less than 3\n",
        "print(3 == 2)    # False, because 3 is not equal to 2\n",
        "print(3 != 2)    # True, because 3 is not equal to 2\n",
        "print(len('mango') == len('avocado'))  # False\n",
        "print(len('mango') != len('avocado'))  # True\n",
        "print(len('mango') < len('avocado'))   # True\n",
        "print(len('milk') != len('meat'))      # False\n",
        "print(len('milk') == len('meat'))      # True\n",
        "print(len('tomato') == len('potato'))  # True\n",
        "print(len('python') > len('dragon'))   # False\n",
        "\n",
        "\n",
        "# Comparing something gives either a True or False\n",
        "\n",
        "print('True == True: ', True == True)\n",
        "print('True == False: ', True == False)\n",
        "print('False == False:', False == False)"
      ]
    },
    {
      "cell_type": "markdown",
      "id": "8f788c4e",
      "metadata": {
        "id": "8f788c4e"
      },
      "source": [
        "In addition to the above comparison operator Python uses:\n",
        "\n",
        "- _is_: Returns true if both variables are the same object(x is y)\n",
        "- _is not_: Returns true if both variables are not the same object(x is not y)\n",
        "- _in_: Returns True if the queried list contains a certain item(x in y)\n",
        "- _not in_: Returns True if the queried list doesn't have a certain item(x in y)"
      ]
    },
    {
      "cell_type": "code",
      "execution_count": null,
      "id": "6bd7d819",
      "metadata": {
        "attributes": {
          "classes": [
            "py"
          ],
          "id": ""
        },
        "id": "6bd7d819"
      },
      "outputs": [],
      "source": [
        "print('1 is 1', 1 is 1)                   # True - because the data values are the same\n",
        "print('1 is not 2', 1 is not 2)           # True - because 1 is not 2\n",
        "print('A in Asabeneh', 'A' in 'Asabeneh') # True - A found in the string\n",
        "print('B in Asabeneh', 'B' in 'Asabeneh') # False - there is no uppercase B\n",
        "print('coding' in 'coding for all') # True - because coding for all has the word coding\n",
        "print('a in an:', 'a' in 'an')      # True\n",
        "print('4 is 2 ** 2:', 4 is 2 ** 2)   # True"
      ]
    },
    {
      "cell_type": "markdown",
      "id": "0c29a4f6",
      "metadata": {
        "id": "0c29a4f6"
      },
      "source": [
        "### Logical Operators\n",
        "\n",
        "Unlike other programming languages python uses keywords _and_, _or_ and _not_ for logical operators. Logical operators are used to combine conditional statements:\n",
        "\n",
        "![Logical Operators](https://github.com/Ava-creator/30-Days-Of-Python/blob/master/images/logical_operators.png?raw=1)"
      ]
    },
    {
      "cell_type": "code",
      "execution_count": null,
      "id": "0bbb4ac3",
      "metadata": {
        "attributes": {
          "classes": [
            "py"
          ],
          "id": ""
        },
        "id": "0bbb4ac3"
      },
      "outputs": [],
      "source": [
        "print(3 > 2 and 4 > 3) # True - because both statements are true\n",
        "print(3 > 2 and 4 < 3) # False - because the second statement is false\n",
        "print(3 < 2 and 4 < 3) # False - because both statements are false\n",
        "print('True and True: ', True and True)\n",
        "print(3 > 2 or 4 > 3)  # True - because both statements are true\n",
        "print(3 > 2 or 4 < 3)  # True - because one of the statements is true\n",
        "print(3 < 2 or 4 < 3)  # False - because both statements are false\n",
        "print('True or False:', True or False)\n",
        "print(not 3 > 2)     # False - because 3 > 2 is true, then not True gives False\n",
        "print(not True)      # False - Negation, the not operator turns true to false\n",
        "print(not False)     # True\n",
        "print(not not True)  # True\n",
        "print(not not False) # False\n"
      ]
    },
    {
      "cell_type": "markdown",
      "id": "f22af4e5",
      "metadata": {
        "id": "f22af4e5"
      },
      "source": [
        "🌕 You have boundless energy. You have just completed day 3 challenges and you are three steps ahead on your way to greatness. Now do some exercises for your brain and your muscles.\n",
        "\n",
        "## 💻 Exercises - Day 3\n",
        "\n",
        "1. Declare your age as integer variable\n",
        "2. Declare your height as a float variable\n",
        "3. Declare a variable that store a complex number\n",
        "4. Write a script that prompts the user to enter base and height of the triangle and calculate an area of this triangle (area = 0.5 x b x h)."
      ]
    },
    {
      "cell_type": "code",
      "execution_count": null,
      "id": "3739c91c",
      "metadata": {
        "attributes": {
          "classes": [
            "py"
          ],
          "id": ""
        },
        "id": "3739c91c"
      },
      "outputs": [],
      "source": [
        "    Enter base: 20\n",
        "    Enter height: 10\n",
        "    The area of the triangle is 100"
      ]
    },
    {
      "cell_type": "markdown",
      "id": "8c2accc7",
      "metadata": {
        "id": "8c2accc7"
      },
      "source": [
        "5. Write a script that prompts the user to enter side a, side b, and side c of the triangle. Calculate the perimeter of the triangle (perimeter = a + b + c)."
      ]
    },
    {
      "cell_type": "code",
      "execution_count": null,
      "id": "f84ad691",
      "metadata": {
        "attributes": {
          "classes": [
            "py"
          ],
          "id": ""
        },
        "id": "f84ad691"
      },
      "outputs": [],
      "source": [
        "Enter side a: 5\n",
        "Enter side b: 4\n",
        "Enter side c: 3\n",
        "The perimeter of the triangle is 12"
      ]
    },
    {
      "cell_type": "markdown",
      "id": "e76e1ba0",
      "metadata": {
        "id": "e76e1ba0"
      },
      "source": [
        "6. Get length and width of a rectangle using prompt. Calculate its area (area = length x width) and perimeter (perimeter = 2 x (length + width))\n",
        "7. Get radius of a circle using prompt. Calculate the area (area = pi x r x r) and circumference (c = 2 x pi x r) where pi = 3.14.\n",
        "8. Calculate the slope, x-intercept and y-intercept of y = 2x -2\n",
        "9. Slope is (m = y2-y1/x2-x1). Find the slope and [Euclidean distance](https://en.wikipedia.org/wiki/Euclidean_distance#:~:text=In%20mathematics%2C%20the%20Euclidean%20distance,being%20called%20the%20Pythagorean%20distance.) between point (2, 2) and point (6,10)\n",
        "10. Compare the slopes in tasks 8 and 9.\n",
        "11. Calculate the value of y (y = x^2 + 6x + 9). Try to use different x values and figure out at what x value y is going to be 0.\n",
        "12. Find the length of 'python' and 'dragon' and make a falsy comparison statement.\n",
        "13. Use _and_ operator to check if 'on' is found in both 'python' and 'dragon'\n",
        "14. _I hope this course is not full of jargon_. Use _in_ operator to check if _jargon_ is in the sentence.\n",
        "15. There is no 'on' in both dragon and python\n",
        "16. Find the length of the text _python_ and convert the value to float and convert it to string\n",
        "17. Even numbers are divisible by 2 and the remainder is zero. How do you check if a number is even or not using python?\n",
        "18. Check if the floor division of 7 by 3 is equal to the int converted value of 2.7.\n",
        "19. Check if type of '10' is equal to type of 10\n",
        "20. Check if int('9.8') is equal to 10\n",
        "21. Writ a script that prompts the user to enter hours and rate per hour. Calculate pay of the person?"
      ]
    },
    {
      "cell_type": "code",
      "execution_count": null,
      "id": "1e7d5944",
      "metadata": {
        "attributes": {
          "classes": [
            "py"
          ],
          "id": ""
        },
        "id": "1e7d5944"
      },
      "outputs": [],
      "source": [
        "Enter hours: 40\n",
        "Enter rate per hour: 28\n",
        "Your weekly earning is 1120"
      ]
    },
    {
      "cell_type": "markdown",
      "id": "2ab21078",
      "metadata": {
        "id": "2ab21078"
      },
      "source": [
        "22. Write a script that prompts the user to enter number of years. Calculate the number of seconds a person can live. Assume a person can live hundred years"
      ]
    },
    {
      "cell_type": "code",
      "execution_count": null,
      "id": "aa799331",
      "metadata": {
        "attributes": {
          "classes": [
            "py"
          ],
          "id": ""
        },
        "id": "aa799331"
      },
      "outputs": [],
      "source": [
        "Enter number of years you have lived: 100\n",
        "You have lived for 3153600000 seconds."
      ]
    },
    {
      "cell_type": "markdown",
      "id": "8b99c9a2",
      "metadata": {
        "id": "8b99c9a2"
      },
      "source": [
        "23. Write a Python script that displays the following table"
      ]
    },
    {
      "cell_type": "code",
      "execution_count": null,
      "id": "e55ad9b5",
      "metadata": {
        "attributes": {
          "classes": [
            "py"
          ],
          "id": ""
        },
        "id": "e55ad9b5"
      },
      "outputs": [],
      "source": [
        "1 1 1 1 1\n",
        "2 1 2 4 8\n",
        "3 1 3 9 27\n",
        "4 1 4 16 64\n",
        "5 1 5 25 125"
      ]
    },
    {
      "cell_type": "markdown",
      "id": "074aec83",
      "metadata": {
        "id": "074aec83"
      },
      "source": [
        "🎉 CONGRATULATIONS ! 🎉\n",
        "\n",
        "[<< Day 2](../02_Day_Variables_builtin_functions/02_variables_builtin_functions.md) | [Day 4 >>](../04_Day_Strings/04_strings.md)"
      ]
    }
  ],
  "metadata": {
    "kernelspec": {
      "display_name": "Python 3",
      "language": "python",
      "name": "python3"
    },
    "language_info": {
      "name": "python",
      "version": "3.12.1"
    },
    "colab": {
      "provenance": [],
      "include_colab_link": true
    }
  },
  "nbformat": 4,
  "nbformat_minor": 5
}