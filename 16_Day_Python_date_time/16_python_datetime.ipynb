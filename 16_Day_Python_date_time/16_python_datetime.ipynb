{
 "cells": [
  {
   "cell_type": "markdown",
   "id": "14c442e6",
   "metadata": {},
   "source": [
    "<div align=\"center\">\n",
    "  <h1> 30 Days Of Python: Day 16 - Python Date time </h1>\n",
    "  <a class=\"header-badge\" target=\"_blank\" href=\"https://www.linkedin.com/in/asabeneh/\">\n",
    "  <img src=\"https://img.shields.io/badge/style--5eba00.svg?label=LinkedIn&logo=linkedin&style=social\">\n",
    "  </a>\n",
    "  <a class=\"header-badge\" target=\"_blank\" href=\"https://twitter.com/Asabeneh\">\n",
    "  <img alt=\"Twitter Follow\" src=\"https://img.shields.io/twitter/follow/asabeneh?style=social\">\n",
    "  </a>\n",
    "\n",
    "  <sub>Author:\n",
    "  <a href=\"https://www.linkedin.com/in/asabeneh/\" target=\"_blank\">Oludayo adeoye</a><br>\n",
    "  <small>Second Edition: July, 2021</small>\n",
    "  </sub>\n",
    "\n",
    "</div>\n",
    "\n",
    "[<< Day 15](../15_Day_Python_type_errors/15_python_type_errors.md) | [Day 17 >>](../17_Day_Exception_handling/17_exception_handling.md)\n",
    "\n",
    "![30DaysOfPython](../images/30DaysOfPython_banner3@2x.png)\n",
    "- [📘 Day 16](#-day-16)\n",
    "  - [Python *datetime*](#python-datetime)\n",
    "    - [Getting *datetime* Information](#getting-datetime-information)\n",
    "    - [Formatting Date Output Using *strftime*](#formatting-date-output-using-strftime)\n",
    "    - [String to Time Using *strptime*](#string-to-time-using-strptime)\n",
    "    - [Using *date* from *datetime*](#using-date-from-datetime)\n",
    "    - [Time Objects to Represent Time](#time-objects-to-represent-time)\n",
    "    - [Difference Between Two Points in Time Using](#difference-between-two-points-in-time-using)\n",
    "    - [Difference Between Two Points in Time Using *timedelta*](#difference-between-two-points-in-time-using-timedelta)\n",
    "  - [💻 Exercises: Day 16](#-exercises-day-16)\n",
    "# 📘 Day 16\n",
    "\n",
    "## Python *datetime*\n",
    "\n",
    "Python has got _datetime_ module to handle date and time."
   ]
  },
  {
   "cell_type": "code",
   "execution_count": null,
   "id": "25c9a5bd",
   "metadata": {
    "attributes": {
     "classes": [
      "py"
     ],
     "id": ""
    }
   },
   "outputs": [],
   "source": [
    "import datetime\n",
    "print(dir(datetime))\n",
    "['MAXYEAR', 'MINYEAR', '__builtins__', '__cached__', '__doc__', '__file__', '__loader__', '__name__', '__package__', '__spec__', 'date', 'datetime', 'datetime_CAPI', 'sys', 'time', 'timedelta', 'timezone', 'tzinfo']"
   ]
  },
  {
   "cell_type": "markdown",
   "id": "951582dc",
   "metadata": {},
   "source": [
    "With dir or help built-in commands it is possible to know the available functions in a certain module. As you can see, in the datetime module there are many functions, but we will focus on _date_, _datetime_, _time_ and _timedelta_. Let se see them one by one.\n",
    "\n",
    "### Getting *datetime* Information"
   ]
  },
  {
   "cell_type": "code",
   "execution_count": null,
   "id": "3950a532",
   "metadata": {
    "attributes": {
     "classes": [
      "py"
     ],
     "id": ""
    }
   },
   "outputs": [],
   "source": [
    "from datetime import datetime\n",
    "now = datetime.now()\n",
    "print(now)                      # 2021-07-08 07:34:46.549883\n",
    "day = now.day                   # 8\n",
    "month = now.month               # 7\n",
    "year = now.year                 # 2021\n",
    "hour = now.hour                 # 7\n",
    "minute = now.minute             # 38\n",
    "second = now.second\n",
    "timestamp = now.timestamp()\n",
    "print(day, month, year, hour, minute)\n",
    "print('timestamp', timestamp)\n",
    "print(f'{day}/{month}/{year}, {hour}:{minute}')  # 8/7/2021, 7:38"
   ]
  },
  {
   "cell_type": "markdown",
   "id": "5f37b6bd",
   "metadata": {},
   "source": [
    "Timestamp or Unix timestamp is the number of seconds elapsed from 1st of January 1970 UTC.\n",
    "\n",
    "### Formatting Date Output Using *strftime*"
   ]
  },
  {
   "cell_type": "code",
   "execution_count": null,
   "id": "c7bd2d76",
   "metadata": {
    "attributes": {
     "classes": [
      "py"
     ],
     "id": ""
    }
   },
   "outputs": [],
   "source": [
    "from datetime import datetime\n",
    "new_year = datetime(2020, 1, 1)\n",
    "print(new_year)      # 2020-01-01 00:00:00\n",
    "day = new_year.day\n",
    "month = new_year.month\n",
    "year = new_year.year\n",
    "hour = new_year.hour\n",
    "minute = new_year.minute\n",
    "second = new_year.second\n",
    "print(day, month, year, hour, minute) #1 1 2020 0 0\n",
    "print(f'{day}/{month}/{year}, {hour}:{minute}')  # 1/1/2020, 0:0\n"
   ]
  },
  {
   "cell_type": "markdown",
   "id": "fe47ade0",
   "metadata": {},
   "source": [
    "Formatting date time using *strftime* method and the documentation can be found [here](https://strftime.org/)."
   ]
  },
  {
   "cell_type": "code",
   "execution_count": null,
   "id": "dc0ef36b",
   "metadata": {
    "attributes": {
     "classes": [
      "py"
     ],
     "id": ""
    }
   },
   "outputs": [],
   "source": [
    "from datetime import datetime\n",
    "# current date and time\n",
    "now = datetime.now()\n",
    "t = now.strftime(\"%H:%M:%S\")\n",
    "print(\"time:\", t)\n",
    "time_one = now.strftime(\"%m/%d/%Y, %H:%M:%S\")\n",
    "# mm/dd/YY H:M:S format\n",
    "print(\"time one:\", time_one)\n",
    "time_two = now.strftime(\"%d/%m/%Y, %H:%M:%S\")\n",
    "# dd/mm/YY H:M:S format\n",
    "print(\"time two:\", time_two)"
   ]
  },
  {
   "cell_type": "code",
   "execution_count": null,
   "id": "c67f6d59",
   "metadata": {
    "attributes": {
     "classes": [
      "sh"
     ],
     "id": ""
    }
   },
   "outputs": [],
   "source": [
    "time: 01:05:01\n",
    "time one: 12/05/2019, 01:05:01\n",
    "time two: 05/12/2019, 01:05:01"
   ]
  },
  {
   "cell_type": "markdown",
   "id": "da89df4a",
   "metadata": {},
   "source": [
    "Here are all the _strftime_ symbols we use to format time. An example of all the formats for this module.\n",
    "\n",
    "![strftime](../images/strftime.png)\n",
    "\n",
    "### String to Time Using *strptime*\n",
    "Here is a [documentation](https://www.programiz.com/python-programming/datetime/strptimet) hat helps to understand the format."
   ]
  },
  {
   "cell_type": "code",
   "execution_count": null,
   "id": "9ec83603",
   "metadata": {
    "attributes": {
     "classes": [
      "py"
     ],
     "id": ""
    }
   },
   "outputs": [],
   "source": [
    "from datetime import datetime\n",
    "date_string = \"5 December, 2019\"\n",
    "print(\"date_string =\", date_string)\n",
    "date_object = datetime.strptime(date_string, \"%d %B, %Y\")\n",
    "print(\"date_object =\", date_object)"
   ]
  },
  {
   "cell_type": "code",
   "execution_count": null,
   "id": "edd70591",
   "metadata": {
    "attributes": {
     "classes": [
      "sh"
     ],
     "id": ""
    }
   },
   "outputs": [],
   "source": [
    "date_string = 5 December, 2019\n",
    "date_object = 2019-12-05 00:00:00"
   ]
  },
  {
   "cell_type": "markdown",
   "id": "d251bdd8",
   "metadata": {},
   "source": [
    "### Using *date* from *datetime*"
   ]
  },
  {
   "cell_type": "code",
   "execution_count": null,
   "id": "e96f9d2d",
   "metadata": {
    "attributes": {
     "classes": [
      "py"
     ],
     "id": ""
    }
   },
   "outputs": [],
   "source": [
    "from datetime import date\n",
    "d = date(2020, 1, 1)\n",
    "print(d)\n",
    "print('Current date:', d.today())    # 2019-12-05\n",
    "# date object of today's date\n",
    "today = date.today()\n",
    "print(\"Current year:\", today.year)   # 2019\n",
    "print(\"Current month:\", today.month) # 12\n",
    "print(\"Current day:\", today.day)     # 5"
   ]
  },
  {
   "cell_type": "markdown",
   "id": "d834539c",
   "metadata": {},
   "source": [
    "### Time Objects to Represent Time"
   ]
  },
  {
   "cell_type": "code",
   "execution_count": null,
   "id": "b93334aa",
   "metadata": {
    "attributes": {
     "classes": [
      "py"
     ],
     "id": ""
    }
   },
   "outputs": [],
   "source": [
    "from datetime import time\n",
    "# time(hour = 0, minute = 0, second = 0)\n",
    "a = time()\n",
    "print(\"a =\", a)\n",
    "# time(hour, minute and second)\n",
    "b = time(10, 30, 50)\n",
    "print(\"b =\", b)\n",
    "# time(hour, minute and second)\n",
    "c = time(hour=10, minute=30, second=50)\n",
    "print(\"c =\", c)\n",
    "# time(hour, minute, second, microsecond)\n",
    "d = time(10, 30, 50, 200555)\n",
    "print(\"d =\", d)"
   ]
  },
  {
   "cell_type": "markdown",
   "id": "057937cb",
   "metadata": {},
   "source": [
    "output  \n",
    "a = 00:00:00  \n",
    "b = 10:30:50  \n",
    "c = 10:30:50  \n",
    "d = 10:30:50.200555\n",
    "\n",
    "### Difference Between Two Points in Time Using"
   ]
  },
  {
   "cell_type": "code",
   "execution_count": null,
   "id": "655b36e8",
   "metadata": {
    "attributes": {
     "classes": [
      "py"
     ],
     "id": ""
    }
   },
   "outputs": [],
   "source": [
    "today = date(year=2019, month=12, day=5)\n",
    "new_year = date(year=2020, month=1, day=1)\n",
    "time_left_for_newyear = new_year - today\n",
    "# Time left for new year:  27 days, 0:00:00\n",
    "print('Time left for new year: ', time_left_for_newyear)\n",
    "\n",
    "t1 = datetime(year = 2019, month = 12, day = 5, hour = 0, minute = 59, second = 0)\n",
    "t2 = datetime(year = 2020, month = 1, day = 1, hour = 0, minute = 0, second = 0)\n",
    "diff = t2 - t1\n",
    "print('Time left for new year:', diff) # Time left for new year: 26 days, 23: 01: 00"
   ]
  },
  {
   "cell_type": "markdown",
   "id": "78ef5cc2",
   "metadata": {},
   "source": [
    "### Difference Between Two Points in Time Using *timedelta*"
   ]
  },
  {
   "cell_type": "code",
   "execution_count": null,
   "id": "8bd0d860",
   "metadata": {
    "attributes": {
     "classes": [
      "py"
     ],
     "id": ""
    }
   },
   "outputs": [],
   "source": [
    "from datetime import timedelta\n",
    "t1 = timedelta(weeks=12, days=10, hours=4, seconds=20)\n",
    "t2 = timedelta(days=7, hours=5, minutes=3, seconds=30)\n",
    "t3 = t1 - t2\n",
    "print(\"t3 =\", t3)"
   ]
  },
  {
   "cell_type": "code",
   "execution_count": null,
   "id": "07dfc0e4",
   "metadata": {
    "attributes": {
     "classes": [
      "sh"
     ],
     "id": ""
    }
   },
   "outputs": [],
   "source": [
    "    date_string = 5 December, 2019\n",
    "    date_object = 2019-12-05 00:00:00\n",
    "    t3 = 86 days, 22:56:50"
   ]
  },
  {
   "cell_type": "markdown",
   "id": "82f253fa",
   "metadata": {},
   "source": [
    "🌕 You are an extraordinary. You are 16 steps a head to your way to greatness. Now do some exercises for your brain and muscles.\n",
    "\n",
    "## 💻 Exercises: Day 16\n",
    "\n",
    "1. Get the current day, month, year, hour, minute and timestamp from datetime module\n",
    "1. Format the current date using this format: \"%m/%d/%Y, %H:%M:%S\")\n",
    "1. Today is 5 December, 2019. Change this time string to time.\n",
    "1. Calculate the time difference between now and new year.\n",
    "1. Calculate the time difference between 1 January 1970 and now.\n",
    "1. Think, what can you use the datetime module for? Examples:\n",
    "   - Time series analysis\n",
    "   - To get a timestamp of any activities in an application\n",
    "   - Adding posts on a blog \n",
    "\n",
    "🎉 CONGRATULATIONS ! 🎉\n",
    "\n",
    "[<< Day 15](../15_Day_Python_type_errors/15_python_type_errors.md) | [Day 17 >>](../17_Day_Exception_handling/17_exception_handling.md)"
   ]
  }
 ],
 "metadata": {},
 "nbformat": 4,
 "nbformat_minor": 5
}
