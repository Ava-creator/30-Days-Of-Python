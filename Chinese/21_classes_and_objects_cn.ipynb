{
 "cells": [
  {
   "cell_type": "markdown",
   "id": "9766017b",
   "metadata": {},
   "source": [
    "# 30天Python编程挑战：第21天 - 类和对象\n",
    "\n",
    "- [第21天](#-第21天)\n",
    "  - [类和对象](#类和对象)\n",
    "    - [创建类](#创建类)\n",
    "    - [创建对象](#创建对象)\n",
    "    - [类构造函数](#类构造函数)\n",
    "    - [对象方法](#对象方法)\n",
    "    - [对象默认方法](#对象默认方法)\n",
    "    - [修改类默认值的方法](#修改类默认值的方法)\n",
    "    - [继承](#继承)\n",
    "    - [覆盖父类方法](#覆盖父类方法)\n",
    "  - [💻 练习：第21天](#-练习第21天)\n",
    "    - [练习：级别1](#练习级别1)\n",
    "    - [练习：级别2](#练习级别2)\n",
    "    - [练习：级别3](#练习级别3)\n",
    "\n",
    "# 📘 第21天\n",
    "\n",
    "## 类和对象\n",
    "\n",
    "Python是一种面向对象的编程语言。在Python中，一切都是对象，都有其属性和方法。在程序中使用的数字、字符串、列表、字典、元组、集合等都是相应内置类的对象。我们创建类来创建对象。类就像一个对象构造器，或者说是创建对象的\"蓝图\"。我们实例化一个类来创建一个对象。类定义了对象的属性和行为，而对象则代表了类。\n",
    "\n",
    "从这个挑战的开始，我们就一直在不知不觉地使用类和对象。Python程序中的每个元素都是某个类的对象。\n",
    "让我们检查一下Python中的一切是否都是类："
   ]
  },
  {
   "cell_type": "code",
   "execution_count": null,
   "id": "bb9f9452",
   "metadata": {
    "attributes": {
     "classes": [
      "py"
     ],
     "id": ""
    }
   },
   "outputs": [],
   "source": [
    "asabeneh@Asabeneh:~$ python\n",
    "Python 3.9.6 (default, Jun 28 2021, 15:26:21)\n",
    "[Clang 11.0.0 (clang-1100.0.33.8)] on darwin\n",
    "Type \"help\", \"copyright\", \"credits\" or \"license\" for more information.\n",
    ">>> num = 10\n",
    ">>> type(num)\n",
    "<class 'int'>\n",
    ">>> string = 'string'\n",
    ">>> type(string)\n",
    "<class 'str'>\n",
    ">>> boolean = True\n",
    ">>> type(boolean)\n",
    "<class 'bool'>\n",
    ">>> lst = []\n",
    ">>> type(lst)\n",
    "<class 'list'>\n",
    ">>> tpl = ()\n",
    ">>> type(tpl)\n",
    "<class 'tuple'>\n",
    ">>> set1 = set()\n",
    ">>> type(set1)\n",
    "<class 'set'>\n",
    ">>> dct = {}\n",
    ">>> type(dct)\n",
    "<class 'dict'>"
   ]
  },
  {
   "cell_type": "markdown",
   "id": "a5a34e1a",
   "metadata": {},
   "source": [
    "### 创建类\n",
    "\n",
    "要创建一个类，我们需要关键字**class**，后跟类名和冒号。类名应该使用**驼峰命名法（CamelCase）**。"
   ]
  },
  {
   "cell_type": "code",
   "execution_count": null,
   "id": "f3a487af",
   "metadata": {
    "attributes": {
     "classes": [
      "sh"
     ],
     "id": ""
    }
   },
   "outputs": [],
   "source": [
    "# 语法\n",
    "class 类名:\n",
    "  代码放在这里"
   ]
  },
  {
   "cell_type": "markdown",
   "id": "407ce739",
   "metadata": {},
   "source": [
    "**示例：**"
   ]
  },
  {
   "cell_type": "code",
   "execution_count": null,
   "id": "dbf66163",
   "metadata": {
    "attributes": {
     "classes": [
      "py"
     ],
     "id": ""
    }
   },
   "outputs": [],
   "source": [
    "class Person:\n",
    "  pass\n",
    "print(Person)"
   ]
  },
  {
   "cell_type": "code",
   "execution_count": null,
   "id": "31170648",
   "metadata": {
    "attributes": {
     "classes": [
      "sh"
     ],
     "id": ""
    }
   },
   "outputs": [],
   "source": [
    "<__main__.Person object at 0x10804e510>"
   ]
  },
  {
   "cell_type": "markdown",
   "id": "d0beb123",
   "metadata": {},
   "source": [
    "### 创建对象\n",
    "\n",
    "我们可以通过调用类来创建对象。"
   ]
  },
  {
   "cell_type": "code",
   "execution_count": null,
   "id": "5b505291",
   "metadata": {
    "attributes": {
     "classes": [
      "py"
     ],
     "id": ""
    }
   },
   "outputs": [],
   "source": [
    "p = Person()\n",
    "print(p)"
   ]
  },
  {
   "cell_type": "markdown",
   "id": "bc62f95c",
   "metadata": {},
   "source": [
    "### 类构造函数\n",
    "\n",
    "在上面的例子中，我们已经从Person类创建了一个对象。然而，没有构造函数的类在实际应用中并不真正有用。让我们使用构造函数使我们的类更有用。与Java或JavaScript中的构造函数一样，Python也有一个内置的**__init__**()构造函数。**__init__**构造函数有一个self参数，它是当前类实例的引用。\n",
    "**示例：**"
   ]
  },
  {
   "cell_type": "code",
   "execution_count": null,
   "id": "e09df254",
   "metadata": {
    "attributes": {
     "classes": [
      "py"
     ],
     "id": ""
    }
   },
   "outputs": [],
   "source": [
    "class Person:\n",
    "      def __init__ (self, name):\n",
    "        # self允许将参数附加到类\n",
    "          self.name = name\n",
    "\n",
    "p = Person('Asabeneh')\n",
    "print(p.name)\n",
    "print(p)"
   ]
  },
  {
   "cell_type": "code",
   "execution_count": null,
   "id": "b2b61e17",
   "metadata": {
    "attributes": {
     "classes": [
      "sh"
     ],
     "id": ""
    }
   },
   "outputs": [],
   "source": [
    "# 输出\n",
    "Asabeneh\n",
    "<__main__.Person object at 0x2abf46907e80>"
   ]
  },
  {
   "cell_type": "markdown",
   "id": "5a4ea280",
   "metadata": {},
   "source": [
    "让我们向构造函数添加更多参数。"
   ]
  },
  {
   "cell_type": "code",
   "execution_count": null,
   "id": "111fd2ff",
   "metadata": {
    "attributes": {
     "classes": [
      "py"
     ],
     "id": ""
    }
   },
   "outputs": [],
   "source": [
    "class Person:\n",
    "      def __init__(self, firstname, lastname, age, country, city):\n",
    "          self.firstname = firstname\n",
    "          self.lastname = lastname\n",
    "          self.age = age\n",
    "          self.country = country\n",
    "          self.city = city\n",
    "\n",
    "\n",
    "p = Person('Asabeneh', 'Yetayeh', 250, 'Finland', 'Helsinki')\n",
    "print(p.firstname)\n",
    "print(p.lastname)\n",
    "print(p.age)\n",
    "print(p.country)\n",
    "print(p.city)"
   ]
  },
  {
   "cell_type": "code",
   "execution_count": null,
   "id": "dee69d20",
   "metadata": {
    "attributes": {
     "classes": [
      "sh"
     ],
     "id": ""
    }
   },
   "outputs": [],
   "source": [
    "# 输出\n",
    "Asabeneh\n",
    "Yetayeh\n",
    "250\n",
    "Finland\n",
    "Helsinki"
   ]
  },
  {
   "cell_type": "markdown",
   "id": "91866772",
   "metadata": {},
   "source": [
    "### 对象方法\n",
    "\n",
    "对象可以有方法。方法是属于对象的函数。\n",
    "\n",
    "**示例：**"
   ]
  },
  {
   "cell_type": "code",
   "execution_count": null,
   "id": "6f214716",
   "metadata": {
    "attributes": {
     "classes": [
      "py"
     ],
     "id": ""
    }
   },
   "outputs": [],
   "source": [
    "class Person:\n",
    "      def __init__(self, firstname, lastname, age, country, city):\n",
    "          self.firstname = firstname\n",
    "          self.lastname = lastname\n",
    "          self.age = age\n",
    "          self.country = country\n",
    "          self.city = city\n",
    "      def person_info(self):\n",
    "        return f'{self.firstname} {self.lastname}今年{self.age}岁。他住在{self.country}的{self.city}。'\n",
    "\n",
    "p = Person('Asabeneh', 'Yetayeh', 250, 'Finland', 'Helsinki')\n",
    "print(p.person_info())"
   ]
  },
  {
   "cell_type": "code",
   "execution_count": null,
   "id": "6077ea71",
   "metadata": {
    "attributes": {
     "classes": [
      "sh"
     ],
     "id": ""
    }
   },
   "outputs": [],
   "source": [
    "# 输出\n",
    "Oludayo adeoye今年250岁。他住在Finland的Helsinki。"
   ]
  },
  {
   "cell_type": "markdown",
   "id": "9a7d839b",
   "metadata": {},
   "source": [
    "### 对象默认方法\n",
    "\n",
    "有时，你可能希望为对象方法提供默认值。如果我们为构造函数中的参数提供默认值，可以避免在不带参数调用或实例化类时出现错误。让我们看看这是什么样子：\n",
    "\n",
    "**示例：**"
   ]
  },
  {
   "cell_type": "code",
   "execution_count": null,
   "id": "c4867ee4",
   "metadata": {
    "attributes": {
     "classes": [
      "py"
     ],
     "id": ""
    }
   },
   "outputs": [],
   "source": [
    "class Person:\n",
    "      def __init__(self, firstname='Asabeneh', lastname='Yetayeh', age=250, country='Finland', city='Helsinki'):\n",
    "          self.firstname = firstname\n",
    "          self.lastname = lastname\n",
    "          self.age = age\n",
    "          self.country = country\n",
    "          self.city = city\n",
    "\n",
    "      def person_info(self):\n",
    "        return f'{self.firstname} {self.lastname}今年{self.age}岁。他住在{self.country}的{self.city}。'\n",
    "\n",
    "p1 = Person()\n",
    "print(p1.person_info())\n",
    "p2 = Person('John', 'Doe', 30, 'Nomanland', 'Noman city')\n",
    "print(p2.person_info())"
   ]
  },
  {
   "cell_type": "code",
   "execution_count": null,
   "id": "70fa83a1",
   "metadata": {
    "attributes": {
     "classes": [
      "sh"
     ],
     "id": ""
    }
   },
   "outputs": [],
   "source": [
    "# 输出\n",
    "Oludayo adeoye今年250岁。他住在Finland的Helsinki。\n",
    "John Doe今年30岁。他住在Nomanland的Noman city。"
   ]
  },
  {
   "cell_type": "markdown",
   "id": "e9a78e38",
   "metadata": {},
   "source": [
    "### 修改类默认值的方法\n",
    "\n",
    "在下面的例子中，person类的所有构造函数参数都有默认值。此外，我们还有一个skills参数，可以通过方法访问。让我们创建一个add_skill方法，向skills列表添加技能。"
   ]
  },
  {
   "cell_type": "code",
   "execution_count": null,
   "id": "dca2751e",
   "metadata": {
    "attributes": {
     "classes": [
      "py"
     ],
     "id": ""
    }
   },
   "outputs": [],
   "source": [
    "class Person:\n",
    "      def __init__(self, firstname='Asabeneh', lastname='Yetayeh', age=250, country='Finland', city='Helsinki'):\n",
    "          self.firstname = firstname\n",
    "          self.lastname = lastname\n",
    "          self.age = age\n",
    "          self.country = country\n",
    "          self.city = city\n",
    "          self.skills = []\n",
    "\n",
    "      def person_info(self):\n",
    "        return f'{self.firstname} {self.lastname}今年{self.age}岁。他住在{self.country}的{self.city}。'\n",
    "      def add_skill(self, skill):\n",
    "          self.skills.append(skill)\n",
    "\n",
    "p1 = Person()\n",
    "print(p1.person_info())\n",
    "p1.add_skill('HTML')\n",
    "p1.add_skill('CSS')\n",
    "p1.add_skill('JavaScript')\n",
    "p2 = Person('John', 'Doe', 30, 'Nomanland', 'Noman city')\n",
    "print(p2.person_info())\n",
    "print(p1.skills)\n",
    "print(p2.skills)"
   ]
  },
  {
   "cell_type": "code",
   "execution_count": null,
   "id": "c3c50cdc",
   "metadata": {
    "attributes": {
     "classes": [
      "sh"
     ],
     "id": ""
    }
   },
   "outputs": [],
   "source": [
    "# 输出\n",
    "Oludayo adeoye今年250岁。他住在Finland的Helsinki。\n",
    "John Doe今年30岁。他住在Nomanland的Noman city。\n",
    "['HTML', 'CSS', 'JavaScript']\n",
    "[]"
   ]
  },
  {
   "cell_type": "markdown",
   "id": "00abe584",
   "metadata": {},
   "source": [
    "### 继承\n",
    "\n",
    "继承允许我们定义一个继承父类所有功能的类。它使代码可重用。"
   ]
  },
  {
   "cell_type": "code",
   "execution_count": null,
   "id": "876886dd",
   "metadata": {
    "attributes": {
     "classes": [
      "py"
     ],
     "id": ""
    }
   },
   "outputs": [],
   "source": [
    "# 语法\n",
    "class 子类名(父类名):\n",
    "    代码放在这里"
   ]
  },
  {
   "cell_type": "markdown",
   "id": "e37303a6",
   "metadata": {},
   "source": [
    "让我们通过实际例子来看看继承的含义："
   ]
  },
  {
   "cell_type": "code",
   "execution_count": null,
   "id": "2032a6c7",
   "metadata": {
    "attributes": {
     "classes": [
      "py"
     ],
     "id": ""
    }
   },
   "outputs": [],
   "source": [
    "class Student(Person):\n",
    "    pass\n",
    "\n",
    "\n",
    "s1 = Student('Eyob', 'Yetayeh', 30, 'Finland', 'Helsinki')\n",
    "s2 = Student('Lidiya', 'Teklemariam', 28, 'Finland', 'Espoo')\n",
    "print(s1.person_info())\n",
    "s1.add_skill('JavaScript')\n",
    "s1.add_skill('React')\n",
    "s1.add_skill('Python')\n",
    "print(s1.skills)\n",
    "print(s2.person_info())\n",
    "s2.add_skill('Organizing')\n",
    "s2.add_skill('Marketing')\n",
    "s2.add_skill('Digital Marketing')\n",
    "print(s2.skills)"
   ]
  },
  {
   "cell_type": "code",
   "execution_count": null,
   "id": "a53aff4b",
   "metadata": {
    "attributes": {
     "classes": [
      "sh"
     ],
     "id": ""
    }
   },
   "outputs": [],
   "source": [
    "# 输出\n",
    "Eyob Yetayeh今年30岁。他住在Finland的Helsinki。\n",
    "['JavaScript', 'React', 'Python']\n",
    "Lidiya Teklemariam今年28岁。他住在Finland的Espoo。\n",
    "['Organizing', 'Marketing', 'Digital Marketing']"
   ]
  },
  {
   "cell_type": "markdown",
   "id": "c7f7950a",
   "metadata": {},
   "source": [
    "我们没有在Student类中调用任何方法，但我们能够访问来自Parent类的所有方法。Student类继承了Person类的__init__构造函数和person_info方法。如果我们想要向子类添加一个特定于子类的新方法，我们必须编写子类并在子类中创建新的方法。"
   ]
  },
  {
   "cell_type": "code",
   "execution_count": null,
   "id": "8adfe153",
   "metadata": {
    "attributes": {
     "classes": [
      "py"
     ],
     "id": ""
    }
   },
   "outputs": [],
   "source": [
    "class Student(Person):\n",
    "    def __init__ (self, firstname='Asabeneh', lastname='Yetayeh',age=250, country='Finland', city='Helsinki', gender='male'):\n",
    "        self.gender = gender\n",
    "        super().__init__(firstname, lastname,age, country, city)\n",
    "    def person_info(self):\n",
    "        gender = '他' if self.gender =='male' else '她'\n",
    "        return f'{self.firstname} {self.lastname}今年{self.age}岁。{gender}住在{self.country}的{self.city}。'\n",
    "\n",
    "\n",
    "s1 = Student('Eyob', 'Yetayeh', 30, 'Finland', 'Helsinki','male')\n",
    "s2 = Student('Lidiya', 'Teklemariam', 28, 'Finland', 'Espoo', 'female')\n",
    "print(s1.person_info())\n",
    "s1.add_skill('JavaScript')\n",
    "s1.add_skill('React')\n",
    "s1.add_skill('Python')\n",
    "print(s1.skills)\n",
    "print(s2.person_info())\n",
    "s2.add_skill('Organizing')\n",
    "s2.add_skill('Marketing')\n",
    "s2.add_skill('Digital Marketing')\n",
    "print(s2.skills)"
   ]
  },
  {
   "cell_type": "code",
   "execution_count": null,
   "id": "c3fa62d3",
   "metadata": {
    "attributes": {
     "classes": [
      "sh"
     ],
     "id": ""
    }
   },
   "outputs": [],
   "source": [
    "# 输出\n",
    "Eyob Yetayeh今年30岁。他住在Finland的Helsinki。\n",
    "['JavaScript', 'React', 'Python']\n",
    "Lidiya Teklemariam今年28岁。她住在Finland的Espoo。\n",
    "['Organizing', 'Marketing', 'Digital Marketing']"
   ]
  },
  {
   "cell_type": "markdown",
   "id": "da3350f3",
   "metadata": {},
   "source": [
    "我们可以使用super()函数或父类名Person来自动继承父类的方法和属性。在上面的例子中，我们覆盖了父类方法。子类的person_info方法有不同的实现，即使方法名称与父类相同。\n",
    "\n",
    "### 覆盖父类方法\n",
    "\n",
    "如上所示，我们可以通过创建与父类方法名称相同的子类方法来覆盖父类方法。\n",
    "\n",
    "## 💻 练习：第21天\n",
    "\n",
    "### 练习：级别1\n",
    "\n",
    "1. Python有一个名为_statistics_的模块，我们可以使用这个模块来计算统计数据。但是，让我们尝试开发一个可以计算均值、中位数、众数、标准差等统计数据的类。"
   ]
  },
  {
   "cell_type": "code",
   "execution_count": null,
   "id": "09456191",
   "metadata": {
    "attributes": {
     "classes": [
      "py"
     ],
     "id": ""
    }
   },
   "outputs": [],
   "source": [
    "class Statistics:\n",
    "    def __init__(self, data=[]):\n",
    "        self.data = data\n",
    "\n",
    "    def count(self):\n",
    "        # 你自己的实现\n",
    "        pass\n",
    "    \n",
    "    def sum(self):\n",
    "        # 你自己的实现\n",
    "        pass\n",
    "    \n",
    "    def min(self):\n",
    "        # 你自己的实现\n",
    "        pass\n",
    "    \n",
    "    def max(self):\n",
    "        # 你自己的实现\n",
    "        pass\n",
    "    \n",
    "    def range(self):\n",
    "        # 你自己的实现\n",
    "        pass\n",
    "    \n",
    "    def mean(self):\n",
    "        # 你自己的实现\n",
    "        pass\n",
    "    \n",
    "    def median(self):\n",
    "        # 你自己的实现\n",
    "        pass\n",
    "    \n",
    "    def mode(self):\n",
    "        # 你自己的实现\n",
    "        pass\n",
    "    \n",
    "    def standard_deviation(self):\n",
    "        # 你自己的实现\n",
    "        pass\n",
    "    \n",
    "    def variance(self):\n",
    "        # 你自己的实现\n",
    "        pass\n",
    "    \n",
    "    def frequency_distribution(self):\n",
    "        # 你自己的实现\n",
    "        pass\n",
    "    \n",
    "    def describe(self):\n",
    "        # 你自己的实现\n",
    "        pass"
   ]
  },
  {
   "cell_type": "code",
   "execution_count": null,
   "id": "182aa697",
   "metadata": {
    "attributes": {
     "classes": [
      "py"
     ],
     "id": ""
    }
   },
   "outputs": [],
   "source": [
    "# 测试代码\n",
    "data = [31, 26, 34, 37, 27, 26, 32, 32, 26, 27, 27, 24, 32, 33, 27, 25, 26, 38, 37, 31, 34, 24, 33, 29, 26]\n",
    "statistics = Statistics(data)\n",
    "print('Count:', statistics.count()) # 25\n",
    "print('Sum: ', statistics.sum()) # 730\n",
    "print('Min: ', statistics.min()) # 24\n",
    "print('Max: ', statistics.max()) # 38\n",
    "print('Range: ', statistics.range()) # 14\n",
    "print('Mean: ', statistics.mean()) # 29.2\n",
    "print('Median: ', statistics.median()) # 27\n",
    "print('Mode: ', statistics.mode()) # {'mode': 26, 'count': 5}\n",
    "print('Standard Deviation: ', statistics.standard_deviation()) # 4.2\n",
    "print('Variance: ', statistics.variance()) # 17.5\n",
    "print('Frequency Distribution: ', statistics.frequency_distribution()) # [(24, 2), (25, 1), (26, 5), (27, 4), (29, 1), (31, 2), (32, 3), (33, 2), (34, 2), (37, 2), (38, 1)]"
   ]
  },
  {
   "cell_type": "markdown",
   "id": "9b837093",
   "metadata": {},
   "source": [
    "### 练习：级别2\n",
    "\n",
    "1. 创建一个名为PersonAccount的类。它有firstname、lastname、incomes、expenses属性和添加收入、添加支出以及账户余额方法。\n",
    "\n",
    "### 练习：级别3\n",
    "\n",
    "1. 以下是使用函数的方法。让我们将其转换为类"
   ]
  },
  {
   "cell_type": "code",
   "execution_count": null,
   "id": "d8b306fe",
   "metadata": {},
   "outputs": [],
   "source": [
    "def print_products(*args, **kwargs):\n",
    "    for product in args:\n",
    "        print(product)\n",
    "    print(kwargs)\n",
    "    for key in kwargs:\n",
    "        print(f\"{key}: {kwargs[key]}\")\n",
    "\n",
    "print_products(\"apple\", \"banana\", \"orange\", vegetable=\"tomato\", juice=\"orange\")"
   ]
  },
  {
   "cell_type": "code",
   "execution_count": null,
   "id": "29ef37e6",
   "metadata": {
    "attributes": {
     "classes": [
      "sh"
     ],
     "id": ""
    }
   },
   "outputs": [],
   "source": [
    "apple\n",
    "banana\n",
    "orange\n",
    "{'vegetable': 'tomato', 'juice': 'orange'}\n",
    "vegetable: tomato\n",
    "juice: orange"
   ]
  },
  {
   "cell_type": "markdown",
   "id": "b3dc35f0",
   "metadata": {},
   "source": [
    "1. 在一个名为PersonAccount的类中，我们有属性：firstname、lastname、incomes、expenses。设计一个类，用于计算一个人的净收入。\n",
    "\n",
    "🎉 恭喜！🎉\n",
    "\n",
    "[<< 第20天](./20_Day_Python_package_manager/20_python_package_manager_cn.md) | [第22天 >>](./22_Day_Web_scraping/22_web_scraping_cn.md)"
   ]
  }
 ],
 "metadata": {},
 "nbformat": 4,
 "nbformat_minor": 5
}
