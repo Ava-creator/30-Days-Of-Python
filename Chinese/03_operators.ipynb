{
 "cells": [
  {
   "cell_type": "markdown",
   "id": "49ddb740",
   "metadata": {},
   "source": [
    "<div align=\"center\">\n",
    "  <h1> 30 天 Python：第三天 - 运算符</h1>\n",
    "  <a class=\"header-badge\" target=\"_blank\" href=\"https://www.linkedin.com/in/asabeneh/\">\n",
    "  <img src=\"https://img.shields.io/badge/style--5eba00.svg?label=LinkedIn&logo=linkedin&style=social\">\n",
    "  </a>\n",
    "  <a class=\"header-badge\" target=\"_blank\" href=\"https://twitter.com/Asabeneh\">\n",
    "  <img alt=\"Twitter Follow\" src=\"https://img.shields.io/twitter/follow/asabeneh?style=social\">\n",
    "  </a>\n",
    "\n",
    "<sub>作者:\n",
    "<a href=\"https://www.linkedin.com/in/asabeneh/\" target=\"_blank\">Oludayo adeoye</a><br>\n",
    "<small> 第二版：2021 年 7 月</small>\n",
    "</sub>\n",
    "</div>\n",
    "\n",
    "[<< 第二天](./02_variables_builtin_functions.md) | [第四天 >>](./04_strings.md)\n",
    "\n",
    "![30DaysOfPython](../images/30DaysOfPython_banner3@2x.png)\n",
    "\n",
    "阅读大约需要：12m\n",
    "- [📘 第三天](#-第三天)\n",
    "  - [Boolean](#boolean)\n",
    "  - [运算符](#运算符)\n",
    "    - [赋值运算符](#赋值运算符)\n",
    "    - [算术运算符](#算术运算符)\n",
    "    - [比较运算符](#比较运算符)\n",
    "    - [逻辑运算符](#逻辑运算符)\n",
    "  - [💻 练习 - 第三天](#-练习---第三天)\n",
    "\n",
    "# 📘 第三天\n",
    "\n",
    "## Boolean\n",
    "\n",
    "布尔类型表示两个值之一：_True_ 或 _False_。一旦我们开始使用比较运算符，这些数据类型的使用将变得清晰。第一个字母 **T** 表示 True，**F** 表示 False，与 JavaScript 不同，Python 的布尔类型的首字母应该是大写。\n",
    "\n",
    "**示例: 布尔类型的值**"
   ]
  },
  {
   "cell_type": "code",
   "execution_count": null,
   "id": "48084ff7",
   "metadata": {
    "attributes": {
     "classes": [
      "py"
     ],
     "id": ""
    }
   },
   "outputs": [],
   "source": [
    "print(True)\n",
    "print(False)"
   ]
  },
  {
   "cell_type": "markdown",
   "id": "2115bba2",
   "metadata": {},
   "source": [
    "## 运算符\n",
    "\n",
    "Python 语言支持多种类型的运算符。在本节中，我们将重点介绍其中的一些。\n",
    "\n",
    "### 赋值运算符\n",
    "\n",
    "赋值运算符用于将值赋值给变量。让我们以 = 为例。在数学中，等号表示两个值相等，但在 Python 中，它表示我们正在将一个值存储在某个变量中，我们称之为赋值或将值分配给变量。下表显示了不同类型的 Python 赋值运算符，摘自 [w3school](https://www.w3schools.com/python/python_operators.asp)。\n",
    "\n",
    "![Assignment Operators](../images/assignment_operators.png)\n",
    "\n",
    "### 算术运算符：\n",
    "\n",
    "- 加(+)： a + b\n",
    "- 减(-)： a - b\n",
    "- 乘(*)： a * b\n",
    "- 除(/)： a / b\n",
    "- 模运算(%)： a % b\n",
    "- 整除(//)： a // b\n",
    "- 指数运算(**)： a ** b\n",
    "\n",
    "![Arithmetic Operators](../images/arithmetic_operators.png)\n",
    "\n",
    "**示例：整型**"
   ]
  },
  {
   "cell_type": "code",
   "execution_count": null,
   "id": "0681ee1a",
   "metadata": {
    "attributes": {
     "classes": [
      "py"
     ],
     "id": ""
    }
   },
   "outputs": [],
   "source": [
    "# Python 中的算术运算符\n",
    "# 整型\n",
    "\n",
    "print('Addition: ', 1 + 2)        # 3\n",
    "print('Subtraction: ', 2 - 1)     # 1\n",
    "print('Multiplication: ', 2 * 3)  # 6\n",
    "print ('Division: ', 4 / 2)       # 2.0  Python 中的除法运算符返回浮点数\n",
    "print('Division: ', 6 / 2)        # 3.0         \n",
    "print('Division: ', 7 / 2)        # 3.5\n",
    "print('Division without the remainder: ', 7 // 2)   # 3,  返回商的整数部分\n",
    "print ('Division without the remainder: ',7 // 3)   # 2\n",
    "print('Modulus: ', 3 % 2)         # 1, 返回余数\n",
    "print('Exponentiation: ', 2 ** 3) # 8 代表 2 * 2 * 2"
   ]
  },
  {
   "cell_type": "markdown",
   "id": "4daa1e0d",
   "metadata": {},
   "source": [
    "**示例：浮点数**"
   ]
  },
  {
   "cell_type": "code",
   "execution_count": null,
   "id": "bc81b304",
   "metadata": {
    "attributes": {
     "classes": [
      "py"
     ],
     "id": ""
    }
   },
   "outputs": [],
   "source": [
    "# 浮点数\n",
    "print('Floating Point Number, PI', 3.14)\n",
    "print('Floating Point Number, gravity', 9.81)"
   ]
  },
  {
   "cell_type": "markdown",
   "id": "f3224033",
   "metadata": {},
   "source": [
    "**示例：复数**"
   ]
  },
  {
   "cell_type": "code",
   "execution_count": null,
   "id": "a0ce4a6e",
   "metadata": {
    "attributes": {
     "classes": [
      "py"
     ],
     "id": ""
    }
   },
   "outputs": [],
   "source": [
    "# 复数\n",
    "print('Complex number: ', 1 + 1j)\n",
    "print('Multiplying complex numbers: ',(1 + 1j) * (1 - 1j))"
   ]
  },
  {
   "cell_type": "markdown",
   "id": "9d98d7f4",
   "metadata": {},
   "source": [
    "让我们声明一个变量并分配一个数字类型。我下面使用单个字符变量，但请不要养成这样命名变量的习惯。变量名应始终便于记忆。\n",
    "\n",
    "**示例：**"
   ]
  },
  {
   "cell_type": "code",
   "execution_count": null,
   "id": "2841868d",
   "metadata": {},
   "outputs": [],
   "source": [
    "# 首先声明变量\n",
    "\n",
    "a = 3 # a 是一个变量名，3 是一个整型值\n",
    "b = 2 # b 是一个变量名，2 是一个整型值\n",
    "\n",
    "# 进行算术运算，并将结果赋值给变量\n",
    "total = a + b\n",
    "diff = a - b\n",
    "product = a * b\n",
    "division = a / b\n",
    "remainder = a % b\n",
    "floor_division = a // b\n",
    "exponential = a ** b\n",
    "\n",
    "# 应该使用 sum 而不是 total，但 sum 是一个内置函数 - 尽量避免覆盖内置函数\n",
    "print(total) # 如果不打印标签字符串，就不知道值是怎么计算出来的\n",
    "print('a + b = ', total)\n",
    "print('a - b = ', diff)\n",
    "print('a * b = ', product)\n",
    "print('a / b = ', division)\n",
    "print('a % b = ', remainder)\n",
    "print('a // b = ', floor_division)\n",
    "print('a ** b = ', exponentiation)"
   ]
  },
  {
   "cell_type": "markdown",
   "id": "e88a3daf",
   "metadata": {},
   "source": [
    "**示例：**"
   ]
  },
  {
   "cell_type": "code",
   "execution_count": null,
   "id": "dacd1656",
   "metadata": {
    "attributes": {
     "classes": [
      "py"
     ],
     "id": ""
    }
   },
   "outputs": [],
   "source": [
    "print('== Addition, Subtraction, Multiplication, Division, Modulus ==')\n",
    "\n",
    "# 声明变量，并把声明语句放在一起\n",
    "num_one = 3\n",
    "num_two = 4\n",
    "\n",
    "# 算术运算\n",
    "total = num_one + num_two\n",
    "diff = num_two - num_one\n",
    "product = num_one * num_two\n",
    "div = num_two / num_one\n",
    "remainder = num_two % num_one\n",
    "\n",
    "# 使用标签打印值\n",
    "print('total: ', total)\n",
    "print('difference: ', diff)\n",
    "print('product: ', product)\n",
    "print('division: ', div)\n",
    "print('remainder: ', remainder)"
   ]
  },
  {
   "cell_type": "markdown",
   "id": "7ad0398c",
   "metadata": {},
   "source": [
    "让我们开始使用小数点并开始利用我们已经知道的知识来计算（面积、体积、密度、重量、周长、距离、力）。\n",
    "\n",
    "**示例：**"
   ]
  },
  {
   "cell_type": "code",
   "execution_count": null,
   "id": "37cdacde",
   "metadata": {
    "attributes": {
     "classes": [
      "py"
     ],
     "id": ""
    }
   },
   "outputs": [],
   "source": [
    "# 计算圆的面积\n",
    "radius = 10                                 # 圆的半径\n",
    "area_of_circle = 3.14 * radius ** 2         # 两个 * 符号表示指数或幂\n",
    "print('Area of a circle:', area_of_circle)\n",
    "\n",
    "# 计算矩形面积\n",
    "length = 10\n",
    "width = 20\n",
    "area_of_rectangle = length * width\n",
    "print('Area of rectangle:', area_of_rectangle)\n",
    "\n",
    "# 计算物体重量\n",
    "mass = 75\n",
    "gravity = 9.81\n",
    "weight = mass * gravity\n",
    "print(weight, 'N')                         # 为重量添加单位\n",
    "\n",
    "# 计算液体密度\n",
    "mass = 75 # 单位是 Kg\n",
    "volume = 0.075 # 单位是 m³\n",
    "density = mass / volume # 1000 Kg/m³\n"
   ]
  },
  {
   "cell_type": "markdown",
   "id": "87f326a8",
   "metadata": {},
   "source": [
    "### 比较运算符\n",
    "\n",
    "在编程中，我们使用比较运算符来比较两个值。我们检查一个值是否大于或小于或等于另一个值。下表显示了 Python 比较运算符，摘自 [w3shool](https://www.w3schools.com/python/python_operators.asp)。\n",
    "\n",
    "![Comparison Operators](../images/comparison_operators.png)\n",
    "**示例：比较运算符**"
   ]
  },
  {
   "cell_type": "code",
   "execution_count": null,
   "id": "0f599fef",
   "metadata": {
    "attributes": {
     "classes": [
      "py"
     ],
     "id": ""
    }
   },
   "outputs": [],
   "source": [
    "print(3 > 2)     # True, 因为3大于2\n",
    "print(3 >= 2)    # True, 因为3大于2\n",
    "print(3 < 2)     # False,  因为3大于2\n",
    "print(2 < 3)     # True, 因为2小于3\n",
    "print(2 <= 3)    # True, 因为2小于3\n",
    "print(3 == 2)    # False, 因为3不等于2\n",
    "print(3 != 2)    # True, 因为3不等于2\n",
    "print(len('mango') == len('avocado'))  # False\n",
    "print(len('mango') != len('avocado'))  # True\n",
    "print(len('mango') < len('avocado'))   # True\n",
    "print(len('milk') != len('meat'))      # False\n",
    "print(len('milk') == len('meat'))      # True\n",
    "print(len('tomato') == len('potato'))  # True\n",
    "print(len('python') > len('dragon'))   # False\n",
    "\n",
    "\n",
    "# 比较得到 True 或者 False\n",
    "\n",
    "print('True == True: ', True == True)\n",
    "print('True == False: ', True == False)\n",
    "print('False == False:', False == False)"
   ]
  },
  {
   "cell_type": "markdown",
   "id": "95f33384",
   "metadata": {},
   "source": [
    "除了上述比较运算符之外，Python 还使用：\n",
    "\n",
    "- _is_: 如果变量相等，返回 True(x is y)\n",
    "- _is not_: 如果变量不相等，返回 True(x is not y)\n",
    "- _in_: 如果列表包含某变量，返回 True(x in y)\n",
    "- _not in_: 如果列表不包含某变量(x in y)"
   ]
  },
  {
   "cell_type": "code",
   "execution_count": null,
   "id": "1e95cbfc",
   "metadata": {
    "attributes": {
     "classes": [
      "py"
     ],
     "id": ""
    }
   },
   "outputs": [],
   "source": [
    "print('1 is 1', 1 is 1)                   # True - 因为值相等\n",
    "print('1 is not 2', 1 is not 2)           # True - 因为值不相等\n",
    "print('A in Asabeneh', 'A' in 'Asabeneh') # True - 字符串中含有元素 A\n",
    "print('B in Asabeneh', 'B' in 'Asabeneh') # False - 没有大写字母 B\n",
    "print('coding' in 'coding for all') # True - 因为 coding 都在 'coding for all' 中\n",
    "print('a in an:', 'a' in 'an')      # True\n",
    "print('4 is 2 ** 2:', 4 is 2 ** 2)   # True"
   ]
  },
  {
   "cell_type": "markdown",
   "id": "3f53aaa4",
   "metadata": {},
   "source": [
    "### 逻辑运算符\n",
    "\n",
    "不像其他的编程语言，Python 使用关键字 _and_、_or_ 和 _not_ 作为逻辑运算符。逻辑运算符用于组合条件语句：\n",
    "\n",
    "![Logical Operators](../images/logical_operators.png)"
   ]
  },
  {
   "cell_type": "code",
   "execution_count": null,
   "id": "c1ff3728",
   "metadata": {
    "attributes": {
     "classes": [
      "py"
     ],
     "id": ""
    }
   },
   "outputs": [],
   "source": [
    "print(3 > 2 and 4 > 3) # True - 因为两个语句都是 True\n",
    "print(3 > 2 and 4 < 3) # False - 因为其中一个语句是 False\n",
    "print(3 < 2 and 4 < 3) # False - 因为两个语句都是 False\n",
    "print('True and True: ', True and True)\n",
    "print(3 > 2 or 4 > 3)  # True - 因为两个语句都是 True\n",
    "print(3 > 2 or 4 < 3)  # True - 因为其中一个语句是 True\n",
    "print(3 < 2 or 4 < 3)  # False - 因为两个语句都是 False\n",
    "print('True or False:', True or False)\n",
    "print(not 3 > 2)     # False - 因为 3 > 2 是 True,  not True 得到 False\n",
    "print(not True)      # False - not 运算符把 True 改为 False\n",
    "print(not False)     # True\n",
    "print(not not True)  # True\n",
    "print(not not False) # False\n"
   ]
  },
  {
   "cell_type": "markdown",
   "id": "dd43488f",
   "metadata": {},
   "source": [
    "🌕 精力充沛！你刚刚完成了第 3 天的挑战，在通往伟大的道路上又前进了三步。现在做一些练习来锻练你的大脑和肌肉。\n",
    "\n",
    "\n",
    "## 💻 练习 - 第三天\n",
    "\n",
    "1. 声明一个值是你年龄的整型变量\n",
    "2. 声明一个值是你身高的浮点型变量\n",
    "3. 声明一个值是复数变量\n",
    "4. 编写一个脚本，提示用户输入三角形的底和高，并计算这个三角形的面积（面积 = 0.5 x b x h）。"
   ]
  },
  {
   "cell_type": "code",
   "execution_count": null,
   "id": "b59751cd",
   "metadata": {
    "attributes": {
     "classes": [
      "py"
     ],
     "id": ""
    }
   },
   "outputs": [],
   "source": [
    "    输入底: 20\n",
    "    输入高: 10\n",
    "    三角形的面积是 100"
   ]
  },
  {
   "cell_type": "markdown",
   "id": "77cb91de",
   "metadata": {},
   "source": [
    "5. 编写一个脚本，提示用户输入三角形的边 a、边 b 和边 c。计算三角形的周长（周长 = a + b + c）。"
   ]
  },
  {
   "cell_type": "code",
   "execution_count": null,
   "id": "688cd958",
   "metadata": {
    "attributes": {
     "classes": [
      "py"
     ],
     "id": ""
    }
   },
   "outputs": [],
   "source": [
    "    输入边 a: 5\n",
    "    输入边 b: 4\n",
    "    输入边 c: 3\n",
    "    三角形的周长是 12"
   ]
  },
  {
   "cell_type": "markdown",
   "id": "aa9ca72c",
   "metadata": {},
   "source": [
    "6. 提示用户输入矩形的长度和宽度。计算其面积（面积 = 长 x 宽）和周长（周长 = 2 x (长 + 宽)）\n",
    "7. 提示用户输入圆的半径。计算面积（面积 = pi x r x r）和周长（周长 = 2 x pi x r），其中 pi = 3.14。\n",
    "8. 计算 y = 2x -2 的斜率、x 截距和 y 截距\n",
    "9. 斜率是 (m = y2-y1/x2-x1)。找到点 (2, 2) 和点 (6,10) 之间的斜率和[欧几里得距离](https://en.wikipedia.org/wiki/Euclidean_distance#:~:text=In%20mathematics%2C%20the%20Euclidean%20distance,being%20called%20the%20Pythagorean%20distance.)。\n",
    "10. 比较练习 8 和练习 9 中的斜率。\n",
    "11. 计算 y 的值（y = x^2 + 6x + 9）。尝试使用不同的 x 值，并找出 y 何时为 0。\n",
    "12. 求出 'python' 和 'dragon' 的长度，并进行一个假的比较语句。\n",
    "13. 使用 _and_ 运算符检查 'python' 和 'dragon' 中是否都有 'on'。\n",
    "14. _I hope this course is not full of jargon_。使用 _in_ 运算符检查句子中是否有 _jargon_。\n",
    "15. 'dragon' 和 'python' 中都没有 'on'。\n",
    "16. 找到文本 _python_ 的长度，并将该值转换为浮点数，然后将其转换为字符串。\n",
    "17. 偶数可以被 2 整除，余数为零。如何使用 Python 检查一个数字是偶数还是奇数？\n",
    "18. 检查 7 除以 3 的Floor除法是否等于 2.7 的整数转换值。\n",
    "19. 检查 '10' 的类型是否等于 10 的类型。\n",
    "20. 检查 int('9.8') 是否等于 10。\n",
    "21. 编写一个脚本，提示用户输入工时和时薪。计算用户的工资。"
   ]
  },
  {
   "cell_type": "code",
   "execution_count": null,
   "id": "1b84bff2",
   "metadata": {
    "attributes": {
     "classes": [
      "py"
     ],
     "id": ""
    }
   },
   "outputs": [],
   "source": [
    "输入工时: 40\n",
    "输入时薪: 28\n",
    "你每周的薪资是 1120"
   ]
  },
  {
   "cell_type": "markdown",
   "id": "458a6325",
   "metadata": {},
   "source": [
    "22. 编写一个脚本，提示用户输入年数。计算一个人可以活多少秒。假设一个人可以活一百年"
   ]
  },
  {
   "cell_type": "code",
   "execution_count": null,
   "id": "ccf7b997",
   "metadata": {
    "attributes": {
     "classes": [
      "py"
     ],
     "id": ""
    }
   },
   "outputs": [],
   "source": [
    "输入你已经活了多少年: 100\n",
    "你已经活了 3153600000 秒."
   ]
  },
  {
   "cell_type": "markdown",
   "id": "d155fed8",
   "metadata": {},
   "source": [
    "23. 编写一个 Python 脚本，显示以下表格"
   ]
  },
  {
   "cell_type": "code",
   "execution_count": null,
   "id": "8fbf3a0d",
   "metadata": {
    "attributes": {
     "classes": [
      "py"
     ],
     "id": ""
    }
   },
   "outputs": [],
   "source": [
    "1 1 1 1 1\n",
    "2 1 2 4 8\n",
    "3 1 3 9 27\n",
    "4 1 4 16 64\n",
    "5 1 5 25 125"
   ]
  },
  {
   "cell_type": "markdown",
   "id": "b5634ec9",
   "metadata": {},
   "source": [
    "🎉 恭喜 ! 🎉\n",
    "\n",
    "[<< 第二天](./02_variables_builtin_functions.md) | [第四天 >>](./04_strings.md)"
   ]
  }
 ],
 "metadata": {},
 "nbformat": 4,
 "nbformat_minor": 5
}
