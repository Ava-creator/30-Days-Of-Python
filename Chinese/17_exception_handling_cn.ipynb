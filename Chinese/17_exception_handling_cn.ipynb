{
 "cells": [
  {
   "cell_type": "markdown",
   "id": "d5a78103",
   "metadata": {},
   "source": [
    "# 30天Python编程挑战：第17天 - 异常处理\n",
    "\n",
    "- [第17天](#-第17天)\n",
    "  - [异常处理](#异常处理)\n",
    "  - [Python中的打包和解包参数](#python中的打包和解包参数)\n",
    "    - [解包](#解包)\n",
    "      - [解包列表](#解包列表)\n",
    "      - [解包字典](#解包字典)\n",
    "    - [打包](#打包)\n",
    "    - [打包列表](#打包列表)\n",
    "      - [打包字典](#打包字典)\n",
    "  - [Python中的展开](#python中的展开)\n",
    "  - [枚举](#枚举)\n",
    "  - [Zip](#zip)\n",
    "  - [练习：第17天](#练习第17天)\n",
    "\n",
    "# 📘 第17天\n",
    "\n",
    "## 异常处理\n",
    "\n",
    "Python使用 _try_ 和 _except_ 优雅地处理错误。优雅的退出（或优雅的错误处理）是一种简单的编程习惯 - 程序检测到严重的错误条件并\"优雅地退出\"，即以受控的方式处理结果。通常，程序会在优雅退出时向终端或日志打印描述性错误消息，这使我们的应用程序更加健壮。异常的原因通常是程序本身之外的因素，例如错误的输入、错误的文件名、找不到文件、IO设备故障等。优雅的错误处理可以防止我们的应用程序崩溃。\n",
    "\n",
    "我们在前一部分已经介绍了不同类型的Python _错误_。如果我们在程序中使用 _try_ 和 _except_，那么这些块中就不会引发错误。\n",
    "\n",
    "![Try and Except](../images/try_except.png)"
   ]
  },
  {
   "cell_type": "code",
   "execution_count": null,
   "id": "e912f95c",
   "metadata": {
    "attributes": {
     "classes": [
      "py"
     ],
     "id": ""
    }
   },
   "outputs": [],
   "source": [
    "try:\n",
    "    # 如果一切正常，执行这个块中的代码\n",
    "except:\n",
    "    # 如果出错，执行这个块中的代码"
   ]
  },
  {
   "cell_type": "markdown",
   "id": "55128dce",
   "metadata": {},
   "source": [
    "**示例：**"
   ]
  },
  {
   "cell_type": "code",
   "execution_count": null,
   "id": "6591c6d0",
   "metadata": {
    "attributes": {
     "classes": [
      "py"
     ],
     "id": ""
    }
   },
   "outputs": [],
   "source": [
    "try:\n",
    "    print(10 + '5')\n",
    "except:\n",
    "    print('出现了一些错误')"
   ]
  },
  {
   "cell_type": "markdown",
   "id": "b1420afa",
   "metadata": {},
   "source": [
    "在上面的例子中，第二个操作数是一个字符串。我们可以将其更改为float或int，使其能够与数字相加。但如果不做任何更改，第二个块 _except_ 将被执行。\n",
    "\n",
    "**示例：**"
   ]
  },
  {
   "cell_type": "code",
   "execution_count": null,
   "id": "a80c4814",
   "metadata": {
    "attributes": {
     "classes": [
      "py"
     ],
     "id": ""
    }
   },
   "outputs": [],
   "source": [
    "try:\n",
    "    name = input('输入你的名字:')\n",
    "    year_born = input('你出生的年份:')\n",
    "    age = 2019 - year_born\n",
    "    print(f'你是{name}. 你的年龄是{age}.')\n",
    "except:\n",
    "    print('出现了一些错误')"
   ]
  },
  {
   "cell_type": "code",
   "execution_count": null,
   "id": "cb043761",
   "metadata": {
    "attributes": {
     "classes": [
      "sh"
     ],
     "id": ""
    }
   },
   "outputs": [],
   "source": [
    "出现了一些错误"
   ]
  },
  {
   "cell_type": "markdown",
   "id": "d9f26def",
   "metadata": {},
   "source": [
    "在上面的例子中，异常块将运行，但我们不知道具体的问题是什么。为了分析问题，我们可以使用不同的错误类型配合except。\n",
    "\n",
    "在下面的例子中，它将处理错误，并且告诉我们引发了什么类型的错误。"
   ]
  },
  {
   "cell_type": "code",
   "execution_count": null,
   "id": "53c53c19",
   "metadata": {
    "attributes": {
     "classes": [
      "py"
     ],
     "id": ""
    }
   },
   "outputs": [],
   "source": [
    "try:\n",
    "    name = input('输入你的名字:')\n",
    "    year_born = input('你出生的年份:')\n",
    "    age = 2019 - year_born\n",
    "    print(f'你是{name}. 你的年龄是{age}.')\n",
    "except TypeError:\n",
    "    print('发生了类型错误')\n",
    "except ValueError:\n",
    "    print('发生了值错误')\n",
    "except ZeroDivisionError:\n",
    "    print('发生了除零错误')"
   ]
  },
  {
   "cell_type": "code",
   "execution_count": null,
   "id": "93259aad",
   "metadata": {
    "attributes": {
     "classes": [
      "sh"
     ],
     "id": ""
    }
   },
   "outputs": [],
   "source": [
    "输入你的名字:Asabeneh\n",
    "你出生的年份:1920\n",
    "发生了类型错误"
   ]
  },
  {
   "cell_type": "markdown",
   "id": "a02ea655",
   "metadata": {},
   "source": [
    "在上述代码中，输出将是 _TypeError_。\n",
    "现在，让我们添加一个额外的块："
   ]
  },
  {
   "cell_type": "code",
   "execution_count": null,
   "id": "837edfa6",
   "metadata": {
    "attributes": {
     "classes": [
      "py"
     ],
     "id": ""
    }
   },
   "outputs": [],
   "source": [
    "try:\n",
    "    name = input('输入你的名字:')\n",
    "    year_born = input('你出生的年份:')\n",
    "    age = 2019 - int(year_born)\n",
    "    print(f'你是{name}. 你的年龄是{age}.')\n",
    "except TypeError:\n",
    "    print('发生了类型错误')\n",
    "except ValueError:\n",
    "    print('发生了值错误')\n",
    "except ZeroDivisionError:\n",
    "    print('发生了除零错误')\n",
    "else:\n",
    "    print('我通常与try块一起运行')\n",
    "finally:\n",
    "    print('我总是运行。')"
   ]
  },
  {
   "cell_type": "code",
   "execution_count": null,
   "id": "f71218b0",
   "metadata": {
    "attributes": {
     "classes": [
      "sh"
     ],
     "id": ""
    }
   },
   "outputs": [],
   "source": [
    "输入你的名字:Asabeneh\n",
    "你出生的年份:1920\n",
    "你是Asabeneh. 你的年龄是99.\n",
    "我通常与try块一起运行\n",
    "我总是运行。"
   ]
  },
  {
   "cell_type": "markdown",
   "id": "2e5c6dda",
   "metadata": {},
   "source": [
    "也可以将上述代码简化如下："
   ]
  },
  {
   "cell_type": "code",
   "execution_count": null,
   "id": "da7b9b86",
   "metadata": {
    "attributes": {
     "classes": [
      "py"
     ],
     "id": ""
    }
   },
   "outputs": [],
   "source": [
    "try:\n",
    "    name = input('输入你的名字:')\n",
    "    year_born = input('你出生的年份:')\n",
    "    age = 2019 - int(year_born)\n",
    "    print(f'你是{name}. 你的年龄是{age}.')\n",
    "except Exception as e:\n",
    "    print(e)"
   ]
  },
  {
   "cell_type": "markdown",
   "id": "de074ed8",
   "metadata": {},
   "source": [
    "## Python中的打包和解包参数\n",
    "\n",
    "我们使用两个操作符：\n",
    "\n",
    "- \\* 用于元组\n",
    "- \\*\\* 用于字典\n",
    "\n",
    "让我们看一个例子。假设函数只接受参数，但我们有一个列表。我们可以解包列表并将其转换为参数。\n",
    "\n",
    "### 解包\n",
    "\n",
    "#### 解包列表"
   ]
  },
  {
   "cell_type": "code",
   "execution_count": null,
   "id": "2cb0547f",
   "metadata": {
    "attributes": {
     "classes": [
      "py"
     ],
     "id": ""
    }
   },
   "outputs": [],
   "source": [
    "def sum_of_five_nums(a, b, c, d, e):\n",
    "    return a + b + c + d + e\n",
    "\n",
    "lst = [1, 2, 3, 4, 5]\n",
    "print(sum_of_five_nums(lst)) # TypeError: sum_of_five_nums() missing 4 required positional arguments: 'b', 'c', 'd', and 'e'"
   ]
  },
  {
   "cell_type": "markdown",
   "id": "027a8ed7",
   "metadata": {},
   "source": [
    "当我们运行这段代码时，会引发错误，因为这个函数接受数字（而不是列表）作为参数。让我们解包/解构这个列表。"
   ]
  },
  {
   "cell_type": "code",
   "execution_count": null,
   "id": "b4ee30d3",
   "metadata": {
    "attributes": {
     "classes": [
      "py"
     ],
     "id": ""
    }
   },
   "outputs": [],
   "source": [
    "def sum_of_five_nums(a, b, c, d, e):\n",
    "    return a + b + c + d + e\n",
    "\n",
    "lst = [1, 2, 3, 4, 5]\n",
    "print(sum_of_five_nums(*lst))  # 15"
   ]
  },
  {
   "cell_type": "markdown",
   "id": "0e47cd45",
   "metadata": {},
   "source": [
    "我们也可以在内置的range函数中使用解包，该函数需要一个起始和结束参数。"
   ]
  },
  {
   "cell_type": "code",
   "execution_count": null,
   "id": "9f942be5",
   "metadata": {
    "attributes": {
     "classes": [
      "py"
     ],
     "id": ""
    }
   },
   "outputs": [],
   "source": [
    "numbers = range(2, 7)  # 正常调用，使用单独的参数\n",
    "print(list(numbers)) # [2, 3, 4, 5, 6]\n",
    "args = [2, 7]\n",
    "numbers = range(*args)  # 使用从列表解包的参数调用\n",
    "print(numbers)      # [2, 3, 4, 5,6]"
   ]
  },
  {
   "cell_type": "markdown",
   "id": "024e89b9",
   "metadata": {},
   "source": [
    "列表或元组也可以这样解包："
   ]
  },
  {
   "cell_type": "code",
   "execution_count": null,
   "id": "8ef43bab",
   "metadata": {
    "attributes": {
     "classes": [
      "py"
     ],
     "id": ""
    }
   },
   "outputs": [],
   "source": [
    "countries = ['Finland', 'Sweden', 'Norway', 'Denmark', 'Iceland']\n",
    "fin, sw, nor, *rest = countries\n",
    "print(fin, sw, nor, rest)   # Finland Sweden Norway ['Denmark', 'Iceland']\n",
    "numbers = [1, 2, 3, 4, 5, 6, 7]\n",
    "one, *middle, last = numbers\n",
    "print(one, middle, last)      #  1 [2, 3, 4, 5, 6] 7"
   ]
  },
  {
   "cell_type": "markdown",
   "id": "7fbf1346",
   "metadata": {},
   "source": [
    "#### 解包字典"
   ]
  },
  {
   "cell_type": "code",
   "execution_count": null,
   "id": "725714a1",
   "metadata": {
    "attributes": {
     "classes": [
      "py"
     ],
     "id": ""
    }
   },
   "outputs": [],
   "source": [
    "def unpacking_person_info(name, country, city, age):\n",
    "    return f'{name}住在{country}的{city}。他{age}岁。'\n",
    "dct = {'name':'Asabeneh', 'country':'Finland', 'city':'Helsinki', 'age':250}\n",
    "print(unpacking_person_info(**dct)) # Asabeneh住在Finland的Helsinki。他250岁。"
   ]
  },
  {
   "cell_type": "markdown",
   "id": "89d0d5a1",
   "metadata": {},
   "source": [
    "### 打包\n",
    "\n",
    "有时候我们不知道需要向Python函数传递多少个参数。我们可以使用打包方法让我们的函数接受无限数量或任意数量的参数。\n",
    "\n",
    "### 打包列表"
   ]
  },
  {
   "cell_type": "code",
   "execution_count": null,
   "id": "5a5ef7f4",
   "metadata": {
    "attributes": {
     "classes": [
      "py"
     ],
     "id": ""
    }
   },
   "outputs": [],
   "source": [
    "def sum_all(*args):\n",
    "    s = 0\n",
    "    for i in args:\n",
    "        s += i\n",
    "    return s\n",
    "print(sum_all(1, 2, 3))             # 6\n",
    "print(sum_all(1, 2, 3, 4, 5, 6, 7)) # 28"
   ]
  },
  {
   "cell_type": "markdown",
   "id": "458777ca",
   "metadata": {},
   "source": [
    "#### 打包字典"
   ]
  },
  {
   "cell_type": "code",
   "execution_count": null,
   "id": "5e770cb8",
   "metadata": {
    "attributes": {
     "classes": [
      "py"
     ],
     "id": ""
    }
   },
   "outputs": [],
   "source": [
    "def packing_person_info(**kwargs):\n",
    "    # 检查kwargs的类型，它是一个字典类型\n",
    "    # print(type(kwargs))\n",
    "    # 打印字典项\n",
    "    for key in kwargs:\n",
    "        print(f\"{key} = {kwargs[key]}\")\n",
    "    return kwargs\n",
    "\n",
    "print(packing_person_info(name=\"Asabeneh\",\n",
    "      country=\"Finland\", city=\"Helsinki\", age=250))"
   ]
  },
  {
   "cell_type": "code",
   "execution_count": null,
   "id": "5653acce",
   "metadata": {
    "attributes": {
     "classes": [
      "sh"
     ],
     "id": ""
    }
   },
   "outputs": [],
   "source": [
    "name = Asabeneh\n",
    "country = Finland\n",
    "city = Helsinki\n",
    "age = 250\n",
    "{'name': 'Asabeneh', 'country': 'Finland', 'city': 'Helsinki', 'age': 250}"
   ]
  },
  {
   "cell_type": "markdown",
   "id": "21283301",
   "metadata": {},
   "source": [
    "## Python中的展开\n",
    "\n",
    "与JavaScript类似，Python中也可以进行展开操作。让我们通过下面的例子来看看："
   ]
  },
  {
   "cell_type": "code",
   "execution_count": null,
   "id": "b2401c3d",
   "metadata": {
    "attributes": {
     "classes": [
      "py"
     ],
     "id": ""
    }
   },
   "outputs": [],
   "source": [
    "lst_one = [1, 2, 3]\n",
    "lst_two = [4, 5, 6, 7]\n",
    "lst = [0, *lst_one, *lst_two]\n",
    "print(lst)          # [0, 1, 2, 3, 4, 5, 6, 7]"
   ]
  },
  {
   "cell_type": "markdown",
   "id": "cb9f848d",
   "metadata": {},
   "source": [
    "## 枚举\n",
    "\n",
    "如果我们对列表的索引感兴趣，我们使用enumerate内置函数。"
   ]
  },
  {
   "cell_type": "code",
   "execution_count": null,
   "id": "d9313b54",
   "metadata": {
    "attributes": {
     "classes": [
      "py"
     ],
     "id": ""
    }
   },
   "outputs": [],
   "source": [
    "for index, item in enumerate([20, 30, 40]):\n",
    "    print(index, item)"
   ]
  },
  {
   "cell_type": "code",
   "execution_count": null,
   "id": "11108176",
   "metadata": {
    "attributes": {
     "classes": [
      "py"
     ],
     "id": ""
    }
   },
   "outputs": [],
   "source": [
    "for index, i in enumerate(countries):\n",
    "    print('hi')\n",
    "    if i == 'Finland':\n",
    "        print('国家 {i} 位于索引 {index}')"
   ]
  },
  {
   "cell_type": "code",
   "execution_count": null,
   "id": "d0bc3075",
   "metadata": {
    "attributes": {
     "classes": [
      "sh"
     ],
     "id": ""
    }
   },
   "outputs": [],
   "source": [
    "0 20\n",
    "1 30\n",
    "2 40"
   ]
  },
  {
   "cell_type": "markdown",
   "id": "10962edf",
   "metadata": {},
   "source": [
    "## Zip\n",
    "\n",
    "有时，我们可能需要将列表组合起来。看看以下示例："
   ]
  },
  {
   "cell_type": "code",
   "execution_count": null,
   "id": "7f2b719c",
   "metadata": {
    "attributes": {
     "classes": [
      "py"
     ],
     "id": ""
    }
   },
   "outputs": [],
   "source": [
    "fruits = ['banana', 'orange', 'mango', 'lemon', 'lime']                    \n",
    "vegetables = ['Tomato', 'Potato', 'Cabbage','Onion', 'Carrot']\n",
    "fruits_and_veges = []\n",
    "for f, v in zip(fruits, vegetables):\n",
    "    fruits_and_veges.append({'fruit':f, 'veg':v})\n",
    "\n",
    "print(fruits_and_veges)"
   ]
  },
  {
   "cell_type": "code",
   "execution_count": null,
   "id": "f39d193d",
   "metadata": {
    "attributes": {
     "classes": [
      "sh"
     ],
     "id": ""
    }
   },
   "outputs": [],
   "source": [
    "[{'fruit': 'banana', 'veg': 'Tomato'}, {'fruit': 'orange', 'veg': 'Potato'}, {'fruit': 'mango', 'veg': 'Cabbage'}, {'fruit': 'lemon', 'veg': 'Onion'}, {'fruit': 'lime', 'veg': 'Carrot'}]"
   ]
  },
  {
   "cell_type": "markdown",
   "id": "75c11b0a",
   "metadata": {},
   "source": [
    "## 练习：第17天\n",
    "\n",
    "1. 为名为 _countries_data.py_ 的文件中的数据创建一个名为 _countries.py_ 的函数。\n",
    "   - 创建一个函数，找出十大使用的语言\n",
    "   - 创建一个函数，找出十大人口最多的国家\n",
    "\n",
    "🎉 恭喜！🎉\n",
    "\n",
    "[<< 第16天](./16_Day_Python_date_time/16_python_datetime_cn.md) | [第18天 >>](./18_Day_Regular_expressions/18_regular_expressions_cn.md)"
   ]
  }
 ],
 "metadata": {},
 "nbformat": 4,
 "nbformat_minor": 5
}
