{
 "cells": [
  {
   "cell_type": "markdown",
   "id": "028e29e3",
   "metadata": {},
   "source": [
    "<div align=\"center\">\n",
    "  <h1> 30 天 Python ：第 12 天 - 模块 </h1>\n",
    "  <a class=\"header-badge\" target=\"_blank\" href=\"https://www.linkedin.com/in/asabeneh/\">\n",
    "  <img src=\"https://img.shields.io/badge/style--5eba00.svg?label=LinkedIn&logo=linkedin&style=social\">\n",
    "  </a>\n",
    "  <a class=\"header-badge\" target=\"_blank\" href=\"https://twitter.com/Asabeneh\">\n",
    "  <img alt=\"Twitter Follow\" src=\"https://img.shields.io/twitter/follow/asabeneh?style=social\">\n",
    "  </a>\n",
    "\n",
    "<sub>作者:\n",
    "<a href=\"https://www.linkedin.com/in/asabeneh/\" target=\"_blank\">Oludayo adeoye</a><br>\n",
    "<small>第二版: 2021 年 7 月</small>\n",
    "</sub>\n",
    "\n",
    "</div>\n",
    "</div>\n",
    "\n",
    "[<< 第 11 天](../11_Day_Functions/11_functions.md) | [第 13 天>>](../13_Day_List_comprehension/13_list_comprehension.md)\n",
    "\n",
    "![30DaysOfPython](../images/30DaysOfPython_banner3@2x.png)\n",
    "\n",
    "- [📘 第 12 天](#-第12天)\n",
    "  - [模块](#模块)\n",
    "    - [什么是模块](#什么是模块)\n",
    "    - [创建模块](#创建模块)\n",
    "    - [导入模块](#导入模块)\n",
    "    - [从模块中导入函数](#从模块中导入函数)\n",
    "    - [从模块中导入函数并重命名](#从模块中导入函数并重命名)\n",
    "  - [导入内置模块](#导入内置模块)\n",
    "    - [OS 模块](#os-模块)\n",
    "    - [Sys 模块](#sys-模块)\n",
    "    - [统计模块](#统计模块)\n",
    "    - [数学模块](#数学模块)\n",
    "    - [字符串模块](#字符串模块)\n",
    "    - [随机模块](#随机模块)\n",
    "  - [💻 练习：第 12 天](#-练习-第12天)\n",
    "    - [练习：级别 1](#练习-级别-1)\n",
    "    - [练习：级别 2](#练习-级别-2)\n",
    "    - [练习：级别 3](#练习-级别-3)\n",
    "\n",
    "# 📘 第 12 天\n",
    "\n",
    "## 模块\n",
    "\n",
    "### 什么是模块\n",
    "\n",
    "模块是包含一组代码或一组函数的文件，可以包含在一个应用程序中。一个模块可以是包含单个变量、函数或大规模代码库的文件。\n",
    "\n",
    "### 创建模块\n",
    "\n",
    "要创建模块，我们在一个 Python 脚本中编写代码并保存为 .py 文件。 在项目文件夹中创建一个名为 mymodule.py 的文件。让我们在此文件中编写一些代码。"
   ]
  },
  {
   "cell_type": "code",
   "execution_count": null,
   "id": "4f9305d7",
   "metadata": {
    "attributes": {
     "classes": [
      "py"
     ],
     "id": ""
    }
   },
   "outputs": [],
   "source": [
    "# mymodule.py 文件\n",
    "def generate_full_name(firstname, lastname):\n",
    "    return firstname + ' ' + lastname"
   ]
  },
  {
   "cell_type": "markdown",
   "id": "f095da79",
   "metadata": {},
   "source": [
    "在项目目录中创建 main.py 文件并导入 mymodule.py 文件。\n",
    "\n",
    "### 导入模块\n",
    "\n",
    "要导入文件，我们使用 _import_ 关键字和文件名。"
   ]
  },
  {
   "cell_type": "code",
   "execution_count": null,
   "id": "027b6be9",
   "metadata": {
    "attributes": {
     "classes": [
      "py"
     ],
     "id": ""
    }
   },
   "outputs": [],
   "source": [
    "# main.py 文件\n",
    "import mymodule\n",
    "print(mymodule.generate_full_name('Asabeneh', 'Yetayeh')) # Oludayo adeoye"
   ]
  },
  {
   "cell_type": "markdown",
   "id": "b6e94373",
   "metadata": {},
   "source": [
    "### 从模块中导入函数\n",
    "\n",
    "我们可以在一个文件中有很多函数，并且我们可以分别导入所有函数。"
   ]
  },
  {
   "cell_type": "code",
   "execution_count": null,
   "id": "7c3fed87",
   "metadata": {
    "attributes": {
     "classes": [
      "py"
     ],
     "id": ""
    }
   },
   "outputs": [],
   "source": [
    "# main.py 文件\n",
    "from mymodule import generate_full_name, sum_two_nums, person, gravity\n",
    "print(generate_full_name('Asabneh','Yetayeh'))\n",
    "print(sum_two_nums(1,9))\n",
    "mass = 100\n",
    "weight = mass * gravity\n",
    "print(weight)\n",
    "print(person['firstname'])"
   ]
  },
  {
   "cell_type": "markdown",
   "id": "ceb25096",
   "metadata": {},
   "source": [
    "### 从模块中导入函数并重命名\n",
    "\n",
    "在导入过程中，我们可以重命名模块名称。"
   ]
  },
  {
   "cell_type": "code",
   "execution_count": null,
   "id": "fa8a2fe4",
   "metadata": {
    "attributes": {
     "classes": [
      "py"
     ],
     "id": ""
    }
   },
   "outputs": [],
   "source": [
    "# main.py 文件\n",
    "from mymodule import generate_full_name as fullname, sum_two_nums as total, person as p, gravity as g\n",
    "print(fullname('Asabneh','Yetayeh'))\n",
    "print(total(1, 9))\n",
    "mass = 100\n",
    "weight = mass * g\n",
    "print(weight)\n",
    "print(p)\n",
    "print(p['firstname'])"
   ]
  },
  {
   "cell_type": "markdown",
   "id": "a6eb851f",
   "metadata": {},
   "source": [
    "## 导入内置模块\n",
    "\n",
    "像其他编程语言一样，我们也可以通过使用关键字 _import_ 导入文件/函数来导入模块。让我们导入我们大多数时候会使用的常见模块。一些常见的内置模块：_math_、_datetime_、_os_、_sys_、_random_、_statistics_、_collections_、_json_、_re_\n",
    "\n",
    "### OS 模块\n",
    "\n",
    "使用 Python _os_ 模块可以自动执行许多操作系统任务。Python 中的 OS 模块提供了创建、更改当前工作目录和删除目录（文件夹）、获取其内容、更改和识别当前目录的函数。"
   ]
  },
  {
   "cell_type": "code",
   "execution_count": null,
   "id": "d23582fc",
   "metadata": {
    "attributes": {
     "classes": [
      "py"
     ],
     "id": ""
    }
   },
   "outputs": [],
   "source": [
    "# 导入模块\n",
    "import os\n",
    "# 创建目录\n",
    "os.mkdir('directory_name')\n",
    "# 更改当前目录\n",
    "os.chdir('path')\n",
    "# 获取当前工作目录\n",
    "os.getcwd()\n",
    "# 删除目录\n",
    "os.rmdir()"
   ]
  },
  {
   "cell_type": "markdown",
   "id": "d94a4d1b",
   "metadata": {},
   "source": [
    "### Sys 模块\n",
    "\n",
    "sys 模块提供用于操作 Python 运行时环境不同部分的函数和变量。函数 sys.argv 返回传递给 Python 脚本的命令行参数列表。此列表中索引 0 处的项始终是脚本的名称，索引 1 处是从命令行传递的参数。\n",
    "\n",
    "示例 script.py 文件："
   ]
  },
  {
   "cell_type": "code",
   "execution_count": null,
   "id": "75100564",
   "metadata": {
    "attributes": {
     "classes": [
      "py"
     ],
     "id": ""
    }
   },
   "outputs": [],
   "source": [
    "import sys\n",
    "#print(sys.argv[0], argv[1],sys.argv[2])  # 这一行会打印出来：文件名 argument1 argument2\n",
    "print('Welcome {}. Enjoy  {} challenge!'.format(sys.argv[1], sys.argv[2]))"
   ]
  },
  {
   "cell_type": "markdown",
   "id": "133a27b9",
   "metadata": {},
   "source": [
    "现在要查看这个脚本的工作效果，我在命令行中写："
   ]
  },
  {
   "cell_type": "code",
   "execution_count": null,
   "id": "40859467",
   "metadata": {
    "attributes": {
     "classes": [
      "sh"
     ],
     "id": ""
    }
   },
   "outputs": [],
   "source": [
    "python script.py Asabeneh 30DaysOfPython"
   ]
  },
  {
   "cell_type": "markdown",
   "id": "a997f329",
   "metadata": {},
   "source": [
    "结果："
   ]
  },
  {
   "cell_type": "code",
   "execution_count": null,
   "id": "a05d13cc",
   "metadata": {
    "attributes": {
     "classes": [
      "sh"
     ],
     "id": ""
    }
   },
   "outputs": [],
   "source": [
    "Welcome Asabeneh. Enjoy  30DayOfPython challenge!"
   ]
  },
  {
   "cell_type": "markdown",
   "id": "954a1311",
   "metadata": {},
   "source": [
    "一些有用的 sys 命令："
   ]
  },
  {
   "cell_type": "code",
   "execution_count": null,
   "id": "0e94f6ca",
   "metadata": {
    "attributes": {
     "classes": [
      "py"
     ],
     "id": ""
    }
   },
   "outputs": [],
   "source": [
    "# 退出 sys\n",
    "sys.exit()\n",
    "# 知道最大整数变量\n",
    "sys.maxsize\n",
    "# 知道环境路径\n",
    "sys.path\n",
    "# 知道使用的 Python 版本\n",
    "sys.version"
   ]
  },
  {
   "cell_type": "markdown",
   "id": "a122e62c",
   "metadata": {},
   "source": [
    "### 统计模块\n",
    "\n",
    "统计模块提供用于数值数据的数学统计的函数。这个模块中定义的流行统计函数：_mean_、_median_、_mode_、_stdev_ 等。"
   ]
  },
  {
   "cell_type": "code",
   "execution_count": null,
   "id": "e4935af4",
   "metadata": {
    "attributes": {
     "classes": [
      "py"
     ],
     "id": ""
    }
   },
   "outputs": [],
   "source": [
    "from statistics import * # 导入所有统计模块\n",
    "ages = [20, 20, 4, 24, 25, 22, 26, 20, 23, 22, 26]\n",
    "print(mean(ages))       # ~22.9\n",
    "print(median(ages))     # 23\n",
    "print(mode(ages))       # 20\n",
    "print(stdev(ages))      # ~2.3"
   ]
  },
  {
   "cell_type": "markdown",
   "id": "0eb76526",
   "metadata": {},
   "source": [
    "### 数学模块\n",
    "\n",
    "包含许多数学运算和常数的模块。"
   ]
  },
  {
   "cell_type": "code",
   "execution_count": null,
   "id": "1232fd9e",
   "metadata": {
    "attributes": {
     "classes": [
      "py"
     ],
     "id": ""
    }
   },
   "outputs": [],
   "source": [
    "import math\n",
    "print(math.pi)           # 3.141592653589793, pi 常数\n",
    "print(math.sqrt(2))      # 1.4142135623730951, 平方根\n",
    "print(math.pow(2, 3))    # 8.0, 指数函数\n",
    "print(math.floor(9.81))  # 9, 向下取整\n",
    "print(math.ceil(9.81))   # 10, 向上取整\n",
    "print(math.log10(100))   # 2, 以 10 为底的对数"
   ]
  },
  {
   "cell_type": "markdown",
   "id": "a84e48ea",
   "metadata": {},
   "source": [
    "现在，我们已经导入了包含大量函数的 _math_ 模块，可以帮助我们进行数学计算。要检查模块中包含哪些函数，我们可以使用 _help(math)_ 或 _dir(math)_。这将显示模块中的可用函数。如果我们只想从模块中导入特定的函数，我们可以这样导入："
   ]
  },
  {
   "cell_type": "code",
   "execution_count": null,
   "id": "5120b686",
   "metadata": {
    "attributes": {
     "classes": [
      "py"
     ],
     "id": ""
    }
   },
   "outputs": [],
   "source": [
    "from math import pi\n",
    "print(pi)"
   ]
  },
  {
   "cell_type": "markdown",
   "id": "e49fdfe2",
   "metadata": {},
   "source": [
    "也可以一次导入多个函数"
   ]
  },
  {
   "cell_type": "code",
   "execution_count": null,
   "id": "c6800308",
   "metadata": {
    "attributes": {
     "classes": [
      "py"
     ],
     "id": ""
    }
   },
   "outputs": [],
   "source": [
    "from math import pi, sqrt, pow, floor, ceil, log10\n",
    "print(pi)                 # 3.141592653589793\n",
    "print(sqrt(2))            # 1.4142135623730951\n",
    "print(pow(2, 3))          # 8.0\n",
    "print(floor(9.81))        # 9\n",
    "print(ceil(9.81))         # 10\n",
    "print(math.log10(100))    # 2"
   ]
  },
  {
   "cell_type": "markdown",
   "id": "15cc21a5",
   "metadata": {},
   "source": [
    "但如果我们想要导入数学模块中的所有函数，可以使用 \\* ."
   ]
  },
  {
   "cell_type": "code",
   "execution_count": null,
   "id": "004affd7",
   "metadata": {
    "attributes": {
     "classes": [
      "py"
     ],
     "id": ""
    }
   },
   "outputs": [],
   "source": [
    "from math import *\n",
    "print(pi)                  # 3.141592653589793, pi 常数\n",
    "print(sqrt(2))             # 1.4142135623730951, 平方根\n",
    "print(pow(2, 3))           # 8.0, 指数\n",
    "print(floor(9.81))         # 9, 向下取整\n",
    "print(ceil(9.81))          # 10, 向上取整\n",
    "print(math.log10(100))     # 2"
   ]
  },
  {
   "cell_type": "markdown",
   "id": "541df09d",
   "metadata": {},
   "source": [
    "当我们导入时，我们也可以重命名函数名称。"
   ]
  },
  {
   "cell_type": "code",
   "execution_count": null,
   "id": "f40ba00d",
   "metadata": {
    "attributes": {
     "classes": [
      "py"
     ],
     "id": ""
    }
   },
   "outputs": [],
   "source": [
    "from math import pi as  PI\n",
    "print(PI) # 3.141592653589793"
   ]
  },
  {
   "cell_type": "markdown",
   "id": "11f23c2a",
   "metadata": {},
   "source": [
    "### 字符串模块\n",
    "\n",
    "字符串模块是一个很有用的模块。下面的例子展示了字符串模块的一些用法。"
   ]
  },
  {
   "cell_type": "code",
   "execution_count": null,
   "id": "968ba76b",
   "metadata": {
    "attributes": {
     "classes": [
      "py"
     ],
     "id": ""
    }
   },
   "outputs": [],
   "source": [
    "import string\n",
    "print(string.ascii_letters) # abcdefghijklmnopqrstuvwxyzABCDEFGHIJKLMNOPQRSTUVWXYZ\n",
    "print(string.digits)        # 0123456789\n",
    "print(string.punctuation)   # !\"#$%&'()*+,-./:;<=>?@[\\]^_`{|}~"
   ]
  },
  {
   "cell_type": "markdown",
   "id": "286046a5",
   "metadata": {},
   "source": [
    "### 随机模块\n",
    "\n",
    "现在你已经熟悉了导入模块。让我们再进行一次导入以熟悉它。让我们导入 _random_ 模块，它会给我们一个 0 到 0.9999 之间的随机数。_random_ 模块有很多函数，但在本节中，我们将只使用 _random_ 和 _randint_。"
   ]
  },
  {
   "cell_type": "code",
   "execution_count": null,
   "id": "d11e3fc7",
   "metadata": {
    "attributes": {
     "classes": [
      "py"
     ],
     "id": ""
    }
   },
   "outputs": [],
   "source": [
    "from random import random, randint\n",
    "print(random())   # 它不需要任何参数；它返回一个介于 0 和 0.9999 之间的值\n",
    "print(randint(5, 20)) # 它返回一个介于 [5, 20] 之间的随机整数（含边界）"
   ]
  },
  {
   "cell_type": "markdown",
   "id": "122778fa",
   "metadata": {},
   "source": [
    "🌕 你走得很远了。继续努力！你刚刚完成第 12 天的挑战，现在你已经在通往伟大的路上迈出了 12 步。现在为你的大脑和肌肉做一些练习。\n",
    "\n",
    "## 💻 练习：第 12 天\n",
    "\n",
    "### 练习：级别 1\n",
    "\n",
    "1. 编写一个生成六位数/字符 random_user_id 的函数。\n",
    "   ```py\n",
    "     print(random_user_id());\n",
    "     '1ee33d'\n",
    "   ```\n",
    "2. 修改上一个任务。声明一个名为 user_id_gen_by_user 的函数。它不接受任何参数，但接受两个输入。一个输入是字符的数量，另一个输入是应生成的 ID 数量。"
   ]
  },
  {
   "cell_type": "code",
   "execution_count": null,
   "id": "4fbb78a6",
   "metadata": {
    "attributes": {
     "classes": [
      "py"
     ],
     "id": ""
    }
   },
   "outputs": [],
   "source": [
    "print(user_id_gen_by_user()) # 用户输入：5 5\n",
    "#输出：\n",
    "#kcsy2\n",
    "#SMFYb\n",
    "#bWmeq\n",
    "#ZXOYh\n",
    "#2Rgxf\n",
    "\n",
    "print(user_id_gen_by_user()) # 16 5\n",
    "#1GCSgPLMaBAVQZ26\n",
    "#YD7eFwNQKNs7qXaT\n",
    "#ycArC5yrRupyG00S\n",
    "#UbGxOFI7UXSWAyKN\n",
    "#dIV0SSUTgAdKwStr"
   ]
  },
  {
   "cell_type": "markdown",
   "id": "2808c540",
   "metadata": {},
   "source": [
    "3. 编写一个名为 rgb_color_gen 的函数。它将生成 RGB 颜色（每个值范围从 0 到 255）。"
   ]
  },
  {
   "cell_type": "code",
   "execution_count": null,
   "id": "ea77b660",
   "metadata": {
    "attributes": {
     "classes": [
      "py"
     ],
     "id": ""
    }
   },
   "outputs": [],
   "source": [
    "print(rgb_color_gen())\n",
    "# rgb(125,244,255) - 输出应该是这种形式"
   ]
  },
  {
   "cell_type": "markdown",
   "id": "923f7f2a",
   "metadata": {},
   "source": [
    "### 练习：级别 2\n",
    "\n",
    "1. 编写一个函数 list_of_hexa_colors，它返回一个数组中的任意数量的十六进制颜色（六个十六进制数写在 # 后面。十六进制数字系统由 16 个符号组成，0-9 和 前 6 个字母 a-f。查看任务 6 的输出示例）。\n",
    "2. 编写一个函数 list_of_rgb_colors，它返回一个数组中的任意数量的 RGB 颜色。\n",
    "3. 编写一个函数 generate_colors，它可以生成任意数量的十六进制或 RGB 颜色。"
   ]
  },
  {
   "cell_type": "code",
   "execution_count": null,
   "id": "be918969",
   "metadata": {
    "attributes": {
     "classes": [
      "py"
     ],
     "id": ""
    }
   },
   "outputs": [],
   "source": [
    "   generate_colors('hexa', 3) # ['#a3e12f','#03ed55','#eb3d2b']\n",
    "   generate_colors('hexa', 1) # ['#b334ef']\n",
    "   generate_colors('rgb', 3)  # ['rgb(5, 55, 175','rgb(50, 105, 100','rgb(15, 26, 80']\n",
    "   generate_colors('rgb', 1)  # ['rgb(33,79, 176)']"
   ]
  },
  {
   "cell_type": "markdown",
   "id": "cc9e4a68",
   "metadata": {},
   "source": [
    "### 练习：级别 3\n",
    "\n",
    "1. 调用你的函数 shuffle_list，它接受一个列表作为参数并返回一个打乱的列表。\n",
    "2. 编写一个函数，它在 0-9 的范围内返回七个随机数的数组。所有数字必须是唯一的。\n",
    "\n",
    "🎉 恭喜！ 🎉\n",
    "\n",
    "[<< 第 11 天](../11_Day_Functions/11_functions.md) | [第 13 天>>](../13_Day_List_comprehension/13_list_comprehension.md)"
   ]
  }
 ],
 "metadata": {},
 "nbformat": 4,
 "nbformat_minor": 5
}
