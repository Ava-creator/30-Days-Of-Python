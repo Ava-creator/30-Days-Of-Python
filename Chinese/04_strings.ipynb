{
 "cells": [
  {
   "cell_type": "markdown",
   "id": "19b2ff2d",
   "metadata": {},
   "source": [
    "<div align=\"center\">\n",
    "  <h1> 30 天 Python：第四天 - Strings</h1>\n",
    "  <a class=\"header-badge\" target=\"_blank\" href=\"https://www.linkedin.com/in/asabeneh/\">\n",
    "  <img src=\"https://img.shields.io/badge/style--5eba00.svg?label=LinkedIn&logo=linkedin&style=social\">\n",
    "  </a>\n",
    "  <a class=\"header-badge\" target=\"_blank\" href=\"https://twitter.com/Asabeneh\">\n",
    "  <img alt=\"Twitter Follow\" src=\"https://img.shields.io/twitter/follow/asabeneh?style=social\">\n",
    "  </a>\n",
    "\n",
    "<sub>作者:\n",
    "<a href=\"https://www.linkedin.com/in/asabeneh/\" target=\"_blank\">Oludayo adeoye</a><br>\n",
    "<small> 第二版：2021 年 7 月</small>\n",
    "</sub>\n",
    "\n",
    "</div>\n",
    "\n",
    "[<< 第三天](./03_operators.md) | [第五天 >>](./05_lists.md)\n",
    "\n",
    "![30DaysOfPython](../images/30DaysOfPython_banner3@2x.png)\n",
    "\n",
    "阅读大约需要：20m\n",
    "\n",
    "- [第四天](#第四天)\n",
    "  - [字符串](#字符串)\n",
    "    - [创建字符串](#创建字符串)\n",
    "    - [字符串串联](#字符串串联)\n",
    "    - [字符串中的转译序列](#字符串中的转译序列)\n",
    "    - [字符串格式化](#字符串格式化)\n",
    "      - [传统风格字符串格式化 (% 操作符)](#传统风格字符串格式化--操作符)\n",
    "      - [新式字符串格式化 (str.format)](#新式字符串格式化-strformat)\n",
    "      - [字符串插值 / f-Strings (Python 3.6+)](#字符串插值--f-strings-python-36)\n",
    "    - [Python 字符串是字符序列](#python-字符串是字符序列)\n",
    "      - [拆解字符](#拆解字符)\n",
    "      - [通过索引获取字符串中的字符](#通过索引获取字符串中的字符)\n",
    "      - [字符串切片](#字符串切片)\n",
    "      - [字符串反转](#字符串反转)\n",
    "      - [切片时跳过字符](#切片时跳过字符)\n",
    "    - [字符串方法](#字符串方法)\n",
    "  - [💻 练习 - 第四天](#-练习---第四天)\n",
    "\n",
    "# 第四天\n",
    "\n",
    "## 字符串\n",
    "\n",
    "文本是一种字符串数据类型。任何以文本形式书写的数据类型都是字符串。任何用单引号、双引号或三引号括起来的数据都是字符串。有很多方法和内置函数来处理字符串类型的数据。使用 len() 方法获取字符串的长度。\n",
    "\n",
    "### 创建字符串"
   ]
  },
  {
   "cell_type": "code",
   "execution_count": null,
   "id": "c3e74096",
   "metadata": {
    "attributes": {
     "classes": [
      "py"
     ],
     "id": ""
    }
   },
   "outputs": [],
   "source": [
    "letter = 'P'                # 字符串可以是一个字符，也可以是一堆文字\n",
    "print(letter)               # P\n",
    "print(len(letter))          # 1\n",
    "greeting = 'Hello, World!'  # 字符串使用单引号或双引号构建，\"Hello, World!\"\n",
    "print(greeting)             # Hello, World!\n",
    "print(len(greeting))        # 13\n",
    "sentence = \"I hope you are enjoying 30 days of Python Challenge\"\n",
    "print(sentence)"
   ]
  },
  {
   "cell_type": "markdown",
   "id": "1aff5b61",
   "metadata": {},
   "source": [
    "多行字符串使用三个单引号 (''') 或者三个双引号 (\"\"\") 创建。 以下为示例："
   ]
  },
  {
   "cell_type": "code",
   "execution_count": null,
   "id": "671aea30",
   "metadata": {
    "attributes": {
     "classes": [
      "py"
     ],
     "id": ""
    }
   },
   "outputs": [],
   "source": [
    "multiline_string = '''I am a teacher and enjoy teaching.\n",
    "I didn't find anything as rewarding as empowering people.\n",
    "That is why I created 30 days of python.'''\n",
    "print(multiline_string)\n",
    "\n",
    "# 换种方式\n",
    "multiline_string = \"\"\"I am a teacher and enjoy teaching.\n",
    "I didn't find anything as rewarding as empowering people.\n",
    "That is why I created 30 days of python.\"\"\"\n",
    "print(multiline_string)"
   ]
  },
  {
   "cell_type": "markdown",
   "id": "41e15c2f",
   "metadata": {},
   "source": [
    "### 字符串串联\n",
    "\n",
    "我们可以将字符串连接在一起。合并或连接字符串称为串联。请看下面的示例："
   ]
  },
  {
   "cell_type": "code",
   "execution_count": null,
   "id": "e4215252",
   "metadata": {
    "attributes": {
     "classes": [
      "py"
     ],
     "id": ""
    }
   },
   "outputs": [],
   "source": [
    "\n",
    "first_name = 'Asabeneh'\n",
    "last_name = 'Yetayeh'\n",
    "space = ' '\n",
    "full_name = first_name  +  space + last_name\n",
    "print(full_name) # Oludayo adeoye\n",
    "# 使用 len() 内置函数获取字符串的长度\n",
    "print(len(first_name))  # 8\n",
    "print(len(last_name))   # 7\n",
    "print(len(first_name) > len(last_name)) # True\n",
    "print(len(full_name)) # 16"
   ]
  },
  {
   "cell_type": "markdown",
   "id": "93d9e2a6",
   "metadata": {},
   "source": [
    "### 字符串中的转译序列\n",
    "\n",
    "在 Python 和其他编程语言中，\\ 后跟一个字符是转义序列。以下是一些常见的转义序列：\n",
    "\n",
    "- \\n: 换行\n",
    "- \\t: 制表符(4个空格)\n",
    "- \\\\\\\\: 反斜杠\n",
    "- \\\\': 单引号\n",
    "- \\\\\": 双引号\n",
    "\n",
    "现在，让我们看看上面的转义序列的用法和示例。"
   ]
  },
  {
   "cell_type": "code",
   "execution_count": null,
   "id": "62c1470e",
   "metadata": {
    "attributes": {
     "classes": [
      "py"
     ],
     "id": ""
    }
   },
   "outputs": [],
   "source": [
    "print('I hope everyone is enjoying the Python Challenge.\\nAre you ?') # 换行\n",
    "print('Days\\tTopics\\tExercises') # 增加一个制表符\n",
    "print('Day 1\\t5\\t5')\n",
    "print('Day 2\\t6\\t20')\n",
    "print('Day 3\\t5\\t23')\n",
    "print('Day 4\\t1\\t35')\n",
    "print('This is a backslash  symbol (\\\\)') # 输出反斜杠\n",
    "print('In every programming language it starts with \\\"Hello, World!\\\"') # 在单引号里写双引号\n",
    "\n",
    "# 输出\n",
    "I hope every one is enjoying the Python Challenge.\n",
    "Are you ?\n",
    "Days\tTopics\tExercises\n",
    "Day 1\t5\t    5\n",
    "Day 2\t6\t    20\n",
    "Day 3\t5\t    23\n",
    "Day 4\t1\t    35\n",
    "This is a backslash  symbol (\\)\n",
    "In every programming language it starts with \"Hello, World!\""
   ]
  },
  {
   "cell_type": "markdown",
   "id": "1d2f21d7",
   "metadata": {},
   "source": [
    "### 字符串格式化\n",
    "\n",
    "#### 传统风格字符串格式化 (% 操作符)\n",
    "\n",
    "\n",
    "在 Python 中有许多格式化字符串的方法。本节，我们将介绍其中一些方法。\n",
    "“%”运算符用于格式化包含在“元组”（固定大小列表）中的一组变量，以及格式字符串，其中包含普通文本以及“参数说明符”、特殊符号如“%s”、“%d”、“%f”、“%.<small>数字</small>f”。\n",
    "\n",
    "- %s - 字符串 (或者任何可以用字符串表述的对象，例如数字)\n",
    "- %d - 整型\n",
    "- %f - 浮点型\n",
    "- \"%.<small>小数位数</small>f\" - 固定精度的浮点数"
   ]
  },
  {
   "cell_type": "code",
   "execution_count": null,
   "id": "484aa2bf",
   "metadata": {
    "attributes": {
     "classes": [
      "py"
     ],
     "id": ""
    }
   },
   "outputs": [],
   "source": [
    "# 仅字符串\n",
    "first_name = 'Asabeneh'\n",
    "last_name = 'Yetayeh'\n",
    "language = 'Python'\n",
    "formated_string = 'I am %s %s. I teach %s' %(first_name, last_name, language)\n",
    "print(formated_string)\n",
    "\n",
    "# 字符串和数字\n",
    "radius = 10\n",
    "pi = 3.14\n",
    "area = pi * radius ** 2\n",
    "formated_string = 'The area of circle with a radius %d is %.2f.' %(radius, area) # 2 表示小数点后的 2 位有效数字\n",
    "\n",
    "python_libraries = ['Django', 'Flask', 'NumPy', 'Matplotlib','Pandas']\n",
    "formated_string = 'The following are python libraries:%s' % (python_libraries)\n",
    "print(formated_string) # 输出 \"The following are python libraries:['Django', 'Flask', 'NumPy', 'Matplotlib','Pandas']\""
   ]
  },
  {
   "cell_type": "markdown",
   "id": "e64713f2",
   "metadata": {},
   "source": [
    "#### 新式字符串格式化 (str.format)\n",
    "\n",
    "这种格式化方式是在 Python 3 中引入的。"
   ]
  },
  {
   "cell_type": "code",
   "execution_count": null,
   "id": "342581f9",
   "metadata": {
    "attributes": {
     "classes": [
      "py"
     ],
     "id": ""
    }
   },
   "outputs": [],
   "source": [
    "\n",
    "first_name = 'Asabeneh'\n",
    "last_name = 'Yetayeh'\n",
    "language = 'Python'\n",
    "formated_string = 'I am {} {}. I teach {}'.format(first_name, last_name, language)\n",
    "print(formated_string)\n",
    "a = 4\n",
    "b = 3\n",
    "\n",
    "print('{} + {} = {}'.format(a, b, a + b))\n",
    "print('{} - {} = {}'.format(a, b, a - b))\n",
    "print('{} * {} = {}'.format(a, b, a * b))\n",
    "print('{} / {} = {:.2f}'.format(a, b, a / b)) # 限制保留两位小数\n",
    "print('{} % {} = {}'.format(a, b, a % b))\n",
    "print('{} // {} = {}'.format(a, b, a // b))\n",
    "print('{} ** {} = {}'.format(a, b, a ** b))\n",
    "\n",
    "# 输出\n",
    "4 + 3 = 7\n",
    "4 - 3 = 1\n",
    "4 * 3 = 12\n",
    "4 / 3 = 1.33\n",
    "4 % 3 = 1\n",
    "4 // 3 = 1\n",
    "4 ** 3 = 64\n",
    "\n",
    "# 字符串和数字\n",
    "radius = 10\n",
    "pi = 3.14\n",
    "area = pi * radius ** 2\n",
    "formated_string = 'The area of a circle with a radius {} is {:.2f}.'.format(radius, area) # 保留两位小数\n",
    "print(formated_string)\n"
   ]
  },
  {
   "cell_type": "markdown",
   "id": "c1576513",
   "metadata": {},
   "source": [
    "#### 字符串插值 / f-Strings (Python 3.6+)\n",
    "\n",
    "另一种新的字符串格式化是字符串插值，f-strings。字符串以 f 开头，我们可以在相应的位置注入数据。"
   ]
  },
  {
   "cell_type": "code",
   "execution_count": null,
   "id": "a947883d",
   "metadata": {
    "attributes": {
     "classes": [
      "py"
     ],
     "id": ""
    }
   },
   "outputs": [],
   "source": [
    "a = 4\n",
    "b = 3\n",
    "print(f'{a} + {b} = {a +b}')\n",
    "print(f'{a} - {b} = {a - b}')\n",
    "print(f'{a} * {b} = {a * b}')\n",
    "print(f'{a} / {b} = {a / b:.2f}')\n",
    "print(f'{a} % {b} = {a % b}')\n",
    "print(f'{a} // {b} = {a // b}')\n",
    "print(f'{a} ** {b} = {a ** b}')"
   ]
  },
  {
   "cell_type": "markdown",
   "id": "84354f69",
   "metadata": {},
   "source": [
    "### Python 字符串是字符序列\n",
    "\n",
    "Python 字符串是字符序列，与其他 Python 有序对象 - 列表和元组 - 共享基本访问方法。从字符串中提取单个字符的最简单方法（以及从任何序列中提取单个成员的方法）是将它们解压缩到相应的变量中。\n",
    "\n",
    "#### 拆解字符"
   ]
  },
  {
   "cell_type": "code",
   "execution_count": null,
   "id": "8ae1100d",
   "metadata": {},
   "outputs": [],
   "source": [
    "language = 'Python'\n",
    "a,b,c,d,e,f = language # 拆解字符串中的字符并赋值给变量\n",
    "print(a) # P\n",
    "print(b) # y\n",
    "print(c) # t\n",
    "print(d) # h\n",
    "print(e) # o\n",
    "print(f) # n"
   ]
  },
  {
   "cell_type": "markdown",
   "id": "b1a5a5b3",
   "metadata": {},
   "source": [
    "#### 通过索引获取字符串中的字符\n",
    "\n",
    "在编程中，计数从零开始。因此，字符串的第一个字母位于零索引处，字符串的最后一个字母位于字符串长度减一处。\n",
    "\n",
    "![String index](../images/string_index.png)"
   ]
  },
  {
   "cell_type": "code",
   "execution_count": null,
   "id": "0f770d9c",
   "metadata": {
    "attributes": {
     "classes": [
      "py"
     ],
     "id": ""
    }
   },
   "outputs": [],
   "source": [
    "language = 'Python'\n",
    "first_letter = language[0]\n",
    "print(first_letter) # P\n",
    "second_letter = language[1]\n",
    "print(second_letter) # y\n",
    "last_index = len(language) - 1\n",
    "last_letter = language[last_index]\n",
    "print(last_letter) # n"
   ]
  },
  {
   "cell_type": "markdown",
   "id": "efdfc362",
   "metadata": {},
   "source": [
    "如果我们想从右边开始，我们可以使用负索引。-1 是最后一个索引。"
   ]
  },
  {
   "cell_type": "code",
   "execution_count": null,
   "id": "c13a00e2",
   "metadata": {
    "attributes": {
     "classes": [
      "py"
     ],
     "id": ""
    }
   },
   "outputs": [],
   "source": [
    "language = 'Python'\n",
    "last_letter = language[-1]\n",
    "print(last_letter) # n\n",
    "second_last = language[-2]\n",
    "print(second_last) # o"
   ]
  },
  {
   "cell_type": "markdown",
   "id": "99e449dc",
   "metadata": {},
   "source": [
    "#### 字符串切片\n",
    "\n",
    "在 Python 中，我们可以将字符串切片为子字符串。"
   ]
  },
  {
   "cell_type": "code",
   "execution_count": null,
   "id": "a9c3a75f",
   "metadata": {
    "attributes": {
     "classes": [
      "py"
     ],
     "id": ""
    }
   },
   "outputs": [],
   "source": [
    "language = 'Python'\n",
    "first_three = language[0:3] # 从零索引开始，直到 3 但不包括 3\n",
    "print(first_three) #Pyt\n",
    "last_three = language[3:6]\n",
    "print(last_three) # hon\n",
    "# 另一种方式\n",
    "last_three = language[-3:]\n",
    "print(last_three)   # hon\n",
    "last_three = language[3:]\n",
    "print(last_three)   # hon"
   ]
  },
  {
   "cell_type": "markdown",
   "id": "813372a6",
   "metadata": {},
   "source": [
    "#### 字符串反转\n",
    "\n",
    "我们可以轻松地反转字符串。"
   ]
  },
  {
   "cell_type": "code",
   "execution_count": null,
   "id": "56a74355",
   "metadata": {
    "attributes": {
     "classes": [
      "py"
     ],
     "id": ""
    }
   },
   "outputs": [],
   "source": [
    "greeting = 'Hello, World!'\n",
    "print(greeting[::-1]) # !dlroW ,olleH"
   ]
  },
  {
   "cell_type": "markdown",
   "id": "c6417303",
   "metadata": {},
   "source": [
    "#### 切片时跳过字符\n",
    "\n",
    "通过将步长参数传递给切片方法，可以在切片时跳过字符。"
   ]
  },
  {
   "cell_type": "code",
   "execution_count": null,
   "id": "9b4ad1ee",
   "metadata": {
    "attributes": {
     "classes": [
      "py"
     ],
     "id": ""
    }
   },
   "outputs": [],
   "source": [
    "language = 'Python'\n",
    "pto = language[0:6:2] #\n",
    "print(pto) # Pto"
   ]
  },
  {
   "cell_type": "markdown",
   "id": "1fc595ce",
   "metadata": {},
   "source": [
    "### 字符串方法\n",
    "\n",
    "有许多字符串方法可以让我们格式化字符串。在下面的示例中，我们使用其中一些：\n",
    "\n",
    "- capitalize(): 将字符串中的第一个字符转换为大写字母"
   ]
  },
  {
   "cell_type": "code",
   "execution_count": null,
   "id": "ac5d688c",
   "metadata": {
    "attributes": {
     "classes": [
      "py"
     ],
     "id": ""
    }
   },
   "outputs": [],
   "source": [
    "challenge = 'thirty days of python'\n",
    "print(challenge.capitalize()) # 'Thirty days of python'"
   ]
  },
  {
   "cell_type": "markdown",
   "id": "7e5dacae",
   "metadata": {},
   "source": [
    "- count(): 返回字符串中子字符串的出现次数，count(子字符串，start=..，end=..)。start 是计数的起始索引，end 是计数的最后一个索引。"
   ]
  },
  {
   "cell_type": "code",
   "execution_count": null,
   "id": "bffe15c5",
   "metadata": {
    "attributes": {
     "classes": [
      "py"
     ],
     "id": ""
    }
   },
   "outputs": [],
   "source": [
    "challenge = 'thirty days of python'\n",
    "print(challenge.count('y')) # 3\n",
    "print(challenge.count('y', 7, 14)) # 1, \n",
    "print(challenge.count('th')) # 2`"
   ]
  },
  {
   "cell_type": "markdown",
   "id": "ba3c5402",
   "metadata": {},
   "source": [
    "- endswith(): 判断字符串是否以特定的子字符串结尾，返回 True 或 False"
   ]
  },
  {
   "cell_type": "code",
   "execution_count": null,
   "id": "880d7213",
   "metadata": {
    "attributes": {
     "classes": [
      "py"
     ],
     "id": ""
    }
   },
   "outputs": [],
   "source": [
    "challenge = 'thirty days of python'\n",
    "print(challenge.endswith('on'))   # True\n",
    "print(challenge.endswith('tion')) # False"
   ]
  },
  {
   "cell_type": "markdown",
   "id": "be7b3b37",
   "metadata": {},
   "source": [
    "- expandtabs(): 用空格替换制表符，默认制表符大小为 8。它接受制表符大小参数"
   ]
  },
  {
   "cell_type": "code",
   "execution_count": null,
   "id": "5ab3c78d",
   "metadata": {
    "attributes": {
     "classes": [
      "py"
     ],
     "id": ""
    }
   },
   "outputs": [],
   "source": [
    "challenge = 'thirty\\tdays\\tof\\tpython'\n",
    "print(challenge.expandtabs())   # 'thirty  days    of      python'\n",
    "print(challenge.expandtabs(10)) # 'thirty    days      of        python'"
   ]
  },
  {
   "cell_type": "markdown",
   "id": "6c0110e8",
   "metadata": {},
   "source": [
    "- find(): 返回子字符串第一次出现的索引，如果未找到则返回 -1"
   ]
  },
  {
   "cell_type": "code",
   "execution_count": null,
   "id": "e2a3453d",
   "metadata": {
    "attributes": {
     "classes": [
      "py"
     ],
     "id": ""
    }
   },
   "outputs": [],
   "source": [
    "challenge = 'thirty days of python'\n",
    "print(challenge.find('y'))  # 5\n",
    "print(challenge.find('th')) # 0"
   ]
  },
  {
   "cell_type": "markdown",
   "id": "3cb7ccf6",
   "metadata": {},
   "source": [
    "- rfind(): 返回子字符串最后一次出现的索引，如果未找到则返回 -1"
   ]
  },
  {
   "cell_type": "code",
   "execution_count": null,
   "id": "804df8c2",
   "metadata": {
    "attributes": {
     "classes": [
      "py"
     ],
     "id": ""
    }
   },
   "outputs": [],
   "source": [
    "challenge = 'thirty days of python'\n",
    "print(challenge.rfind('y'))  # 16\n",
    "print(challenge.rfind('th')) # 17"
   ]
  },
  {
   "cell_type": "markdown",
   "id": "3715f947",
   "metadata": {},
   "source": [
    "- format(): 将字符串格式化为更美观的输出\n",
    "有关字符串格式化的更多信息，请查看此[链接](https://www.programiz.com/python-programming/methods/string/format)"
   ]
  },
  {
   "cell_type": "code",
   "execution_count": null,
   "id": "cfdc56ad",
   "metadata": {
    "attributes": {
     "classes": [
      "py"
     ],
     "id": ""
    }
   },
   "outputs": [],
   "source": [
    "first_name = 'Asabeneh'\n",
    "last_name = 'Yetayeh'\n",
    "age = 250\n",
    "job = 'teacher'\n",
    "country = 'Finland'\n",
    "sentence = 'I am {} {}. I am a {}. I am {} years old. I live in {}.'.format(first_name, last_name, age, job, country)\n",
    "print(sentence) # I am Oludayo adeoye. I am 250 years old. I am a teacher. I live in Finland.\n",
    "\n",
    "radius = 10\n",
    "pi = 3.14\n",
    "area = pi * radius ** 2\n",
    "result = 'The area of a circle with radius {} is {}'.format(str(radius), str(area))\n",
    "print(result) # The area of a circle with radius 10 is 314"
   ]
  },
  {
   "cell_type": "markdown",
   "id": "e705f8e1",
   "metadata": {},
   "source": [
    "- index(): 返回子字符串的最小索引，附加参数表示起始和结束索引（默认为 0，字符串长度为 - 1）。如果未找到子字符串，则会引发 valueError。"
   ]
  },
  {
   "cell_type": "code",
   "execution_count": null,
   "id": "1c4b5adb",
   "metadata": {
    "attributes": {
     "classes": [
      "py"
     ],
     "id": ""
    }
   },
   "outputs": [],
   "source": [
    "challenge = 'thirty days of python'\n",
    "sub_string = 'da'\n",
    "print(challenge.index(sub_string))  # 7\n",
    "print(challenge.index(sub_string, 9)) # error"
   ]
  },
  {
   "cell_type": "markdown",
   "id": "85721807",
   "metadata": {},
   "source": [
    "- rindex(): 返回子字符串的最大索引，附加参数表示起始和结束索引（默认为 0，字符串长度为 - 1）。"
   ]
  },
  {
   "cell_type": "code",
   "execution_count": null,
   "id": "bdb076a2",
   "metadata": {
    "attributes": {
     "classes": [
      "py"
     ],
     "id": ""
    }
   },
   "outputs": [],
   "source": [
    "challenge = 'thirty days of python'\n",
    "sub_string = 'da'\n",
    "print(challenge.rindex(sub_string))  # 8\n",
    "print(challenge.rindex(sub_string, 9)) # error"
   ]
  },
  {
   "cell_type": "markdown",
   "id": "48a4a183",
   "metadata": {},
   "source": [
    "- isalnum(): 判断字符串字符是否都是字母数字字符"
   ]
  },
  {
   "cell_type": "code",
   "execution_count": null,
   "id": "553f72c2",
   "metadata": {
    "attributes": {
     "classes": [
      "py"
     ],
     "id": ""
    }
   },
   "outputs": [],
   "source": [
    "challenge = 'ThirtyDaysPython'\n",
    "print(challenge.isalnum()) # True\n",
    "\n",
    "challenge = '30DaysPython'\n",
    "print(challenge.isalnum()) # True\n",
    "\n",
    "challenge = 'thirty days of python'\n",
    "print(challenge.isalnum()) # False, 空格不是字母字符\n",
    "\n",
    "challenge = 'thirty days of python 2019'\n",
    "print(challenge.isalnum()) # False"
   ]
  },
  {
   "cell_type": "markdown",
   "id": "8bf2786b",
   "metadata": {},
   "source": [
    "- isalpha(): 判断字符串字符是否都是字母字符 (a-z and A-Z)"
   ]
  },
  {
   "cell_type": "code",
   "execution_count": null,
   "id": "c36cb9c7",
   "metadata": {
    "attributes": {
     "classes": [
      "py"
     ],
     "id": ""
    }
   },
   "outputs": [],
   "source": [
    "challenge = 'thirty days of python'\n",
    "print(challenge.isalpha()) # False, 空格不是字母字符\n",
    "challenge = 'ThirtyDaysPython'\n",
    "print(challenge.isalpha()) # True\n",
    "num = '123'\n",
    "print(num.isalpha())      # False"
   ]
  },
  {
   "cell_type": "markdown",
   "id": "d530ab2a",
   "metadata": {},
   "source": [
    "- isdecimal(): 判断符串中的所有字符是否都是十进制 (0-9)"
   ]
  },
  {
   "cell_type": "code",
   "execution_count": null,
   "id": "d6ab9b83",
   "metadata": {
    "attributes": {
     "classes": [
      "py"
     ],
     "id": ""
    }
   },
   "outputs": [],
   "source": [
    "challenge = 'thirty days of python'\n",
    "print(challenge.isdecimal())  # False\n",
    "challenge = '123'\n",
    "print(challenge.isdecimal())  # True\n",
    "challenge = '\\u00B2'\n",
    "print(challenge.isdigit())   # False\n",
    "challenge = '12 3'\n",
    "print(challenge.isdecimal())  # False, 含有空格"
   ]
  },
  {
   "cell_type": "markdown",
   "id": "ca29ac1d",
   "metadata": {},
   "source": [
    "- isdigit(): 判断字符串中的所有字符是否都是数字（0-9 和一些其他表示数字的 Unicode 字符）"
   ]
  },
  {
   "cell_type": "code",
   "execution_count": null,
   "id": "f2d7fd6f",
   "metadata": {
    "attributes": {
     "classes": [
      "py"
     ],
     "id": ""
    }
   },
   "outputs": [],
   "source": [
    "challenge = 'Thirty'\n",
    "print(challenge.isdigit()) # False\n",
    "challenge = '30'\n",
    "print(challenge.isdigit())   # True\n",
    "challenge = '\\u00B2'\n",
    "print(challenge.isdigit())   # True"
   ]
  },
  {
   "cell_type": "markdown",
   "id": "4802671f",
   "metadata": {},
   "source": [
    "- isnumeric(): 判断字符串中的所有字符是否都是数字或与数字相关（就像 isdigit()，只是接受更多符号，如 ½）"
   ]
  },
  {
   "cell_type": "code",
   "execution_count": null,
   "id": "85a75f99",
   "metadata": {
    "attributes": {
     "classes": [
      "py"
     ],
     "id": ""
    }
   },
   "outputs": [],
   "source": [
    "num = '10'\n",
    "print(num.isnumeric()) # True\n",
    "num = '\\u00BD' # ½\n",
    "print(num.isnumeric()) # True\n",
    "num = '10.5'\n",
    "print(num.isnumeric()) # False"
   ]
  },
  {
   "cell_type": "markdown",
   "id": "39d3943e",
   "metadata": {},
   "source": [
    "- isidentifier(): 判断有效的标识符 - 检查字符串是否是有效的变量名"
   ]
  },
  {
   "cell_type": "code",
   "execution_count": null,
   "id": "8a843dfb",
   "metadata": {
    "attributes": {
     "classes": [
      "py"
     ],
     "id": ""
    }
   },
   "outputs": [],
   "source": [
    "challenge = '30DaysOfPython'\n",
    "print(challenge.isidentifier()) # False, 因为以数字开头\n",
    "challenge = 'thirty_days_of_python'\n",
    "print(challenge.isidentifier()) # True"
   ]
  },
  {
   "cell_type": "markdown",
   "id": "de7b4a3e",
   "metadata": {},
   "source": [
    "- islower(): 判断字符串中的所有字母是否都是小写"
   ]
  },
  {
   "cell_type": "code",
   "execution_count": null,
   "id": "e7195aab",
   "metadata": {
    "attributes": {
     "classes": [
      "py"
     ],
     "id": ""
    }
   },
   "outputs": [],
   "source": [
    "challenge = 'thirty days of python'\n",
    "print(challenge.islower()) # True\n",
    "challenge = 'Thirty days of python'\n",
    "print(challenge.islower()) # False"
   ]
  },
  {
   "cell_type": "markdown",
   "id": "1e625791",
   "metadata": {},
   "source": [
    "- isupper(): 判断字符串中的所有字母是否都是大写"
   ]
  },
  {
   "cell_type": "code",
   "execution_count": null,
   "id": "7e0af6c1",
   "metadata": {
    "attributes": {
     "classes": [
      "py"
     ],
     "id": ""
    }
   },
   "outputs": [],
   "source": [
    "challenge = 'thirty days of python'\n",
    "print(challenge.isupper()) #  False\n",
    "challenge = 'THIRTY DAYS OF PYTHON'\n",
    "print(challenge.isupper()) # True"
   ]
  },
  {
   "cell_type": "markdown",
   "id": "699a6d55",
   "metadata": {},
   "source": [
    "- join(): 返回连接后的字符串"
   ]
  },
  {
   "cell_type": "code",
   "execution_count": null,
   "id": "540a14e8",
   "metadata": {
    "attributes": {
     "classes": [
      "py"
     ],
     "id": ""
    }
   },
   "outputs": [],
   "source": [
    "web_tech = ['HTML', 'CSS', 'JavaScript', 'React']\n",
    "result = ' '.join(web_tech)\n",
    "print(result) # 'HTML CSS JavaScript React'"
   ]
  },
  {
   "cell_type": "code",
   "execution_count": null,
   "id": "f4358cbb",
   "metadata": {
    "attributes": {
     "classes": [
      "py"
     ],
     "id": ""
    }
   },
   "outputs": [],
   "source": [
    "web_tech = ['HTML', 'CSS', 'JavaScript', 'React']\n",
    "result = '# '.join(web_tech)\n",
    "print(result) # 'HTML# CSS# JavaScript# React'"
   ]
  },
  {
   "cell_type": "markdown",
   "id": "b2fea15f",
   "metadata": {},
   "source": [
    "- strip(): 删除从字符串开头到结尾的所有给定字符"
   ]
  },
  {
   "cell_type": "code",
   "execution_count": null,
   "id": "bdcb893d",
   "metadata": {
    "attributes": {
     "classes": [
      "py"
     ],
     "id": ""
    }
   },
   "outputs": [],
   "source": [
    "challenge = 'thirty days of pythoonnn'\n",
    "print(challenge.strip('noth')) # 'irty days of py'"
   ]
  },
  {
   "cell_type": "markdown",
   "id": "4a236d53",
   "metadata": {},
   "source": [
    "- replace(): 用给定的字符串替换子字符串"
   ]
  },
  {
   "cell_type": "code",
   "execution_count": null,
   "id": "10c5a951",
   "metadata": {
    "attributes": {
     "classes": [
      "py"
     ],
     "id": ""
    }
   },
   "outputs": [],
   "source": [
    "challenge = 'thirty days of python'\n",
    "print(challenge.replace('python', 'coding')) # 'thirty days of coding'"
   ]
  },
  {
   "cell_type": "markdown",
   "id": "01bde952",
   "metadata": {},
   "source": [
    "- split(): 使用给定的字符串或空格作为分隔符来拆分字符串"
   ]
  },
  {
   "cell_type": "code",
   "execution_count": null,
   "id": "192f6b31",
   "metadata": {
    "attributes": {
     "classes": [
      "py"
     ],
     "id": ""
    }
   },
   "outputs": [],
   "source": [
    "challenge = 'thirty days of python'\n",
    "print(challenge.split()) # ['thirty', 'days', 'of', 'python']\n",
    "challenge = 'thirty, days, of, python'\n",
    "print(challenge.split(', ')) # ['thirty', 'days', 'of', 'python']"
   ]
  },
  {
   "cell_type": "markdown",
   "id": "b8845a46",
   "metadata": {},
   "source": [
    "- title(): 返回标题大小写的字符串"
   ]
  },
  {
   "cell_type": "code",
   "execution_count": null,
   "id": "a375ec58",
   "metadata": {
    "attributes": {
     "classes": [
      "py"
     ],
     "id": ""
    }
   },
   "outputs": [],
   "source": [
    "challenge = 'thirty days of python'\n",
    "print(challenge.title()) # Thirty Days Of Python"
   ]
  },
  {
   "cell_type": "markdown",
   "id": "4200159b",
   "metadata": {},
   "source": [
    "- swapcase(): 将所有大写字符转换为小写字符，将所有小写字符转换为大写字符"
   ]
  },
  {
   "cell_type": "code",
   "execution_count": null,
   "id": "666187e7",
   "metadata": {
    "attributes": {
     "classes": [
      "py"
     ],
     "id": ""
    }
   },
   "outputs": [],
   "source": [
    "challenge = 'thirty days of python'\n",
    "print(challenge.swapcase())   # THIRTY DAYS OF PYTHON\n",
    "challenge = 'Thirty Days Of Python'\n",
    "print(challenge.swapcase())  # tHIRTY dAYS oF pYTHON"
   ]
  },
  {
   "cell_type": "markdown",
   "id": "0bb05fdf",
   "metadata": {},
   "source": [
    "- startswith(): 判断字符串是否以指定字符串开头"
   ]
  },
  {
   "cell_type": "code",
   "execution_count": null,
   "id": "ac3af5f1",
   "metadata": {
    "attributes": {
     "classes": [
      "py"
     ],
     "id": ""
    }
   },
   "outputs": [],
   "source": [
    "challenge = 'thirty days of python'\n",
    "print(challenge.startswith('thirty')) # True\n",
    "\n",
    "challenge = '30 days of python'\n",
    "print(challenge.startswith('thirty')) # False"
   ]
  },
  {
   "cell_type": "markdown",
   "id": "835fe1dd",
   "metadata": {},
   "source": [
    "🌕 你是一个非凡的人，你拥有非凡的潜力。你刚刚完成了第 4 天的挑战，你在成为伟人的路上已经迈出四步。现在做一些练习来锻练你的大脑和肌肉。\n",
    "\n",
    "## 💻 练习 - 第四天\n",
    "\n",
    "1. 将字符串 'Thirty', 'Days', 'Of', 'Python' 连接为一个字符串 'Thirty Days Of Python'。\n",
    "2. 将字符串 'Coding', 'For', 'All' 连接为一个字符串 'Coding For All'。\n",
    "3. 声明一个名为 company 的变量，并将其赋值为初始值 \"Coding For All\"。\n",
    "4. 使用 _print()_ 打印变量 company。\n",
    "5. 使用 _len()_ 方法和 _print()_ 打印 company 字符串的长度。\n",
    "6. 使用 _upper()_ 方法将所有字符更改为大写字母。\n",
    "7. 使用 _lower()_ 方法将所有字符更改为小写字母。\n",
    "8. 使用 _capitalize()_、_title()_ 和 _swapcase()_ 方法格式化字符串 _Coding For All_。\n",
    "9. 切片出 _Coding For All_ 字符串的第一个单词。\n",
    "10. 使用 index、find 或其他方法检查 _Coding For All_ 字符串是否包含单词 Coding。\n",
    "11. 将字符串 'Coding For All' 中的单词 coding 替换为 Python。\n",
    "12. 使用 replace 方法或其他方法将 Python for Everyone 替换为 Python for All。\n",
    "13. 使用空格作为分隔符拆分字符串 'Coding For All'。\n",
    "14. 在逗号处拆分字符串 'Facebook, Google, Microsoft, Apple, IBM, Oracle, Amazon'。\n",
    "15. 字符串 _Coding For All_ 中索引 0 处的字符是什么。\n",
    "16. 字符串 _Coding For All_ 的最后一个索引是什么。\n",
    "17. 字符串 _Coding For All_ 中索引 10 处的字符是什么。\n",
    "18. 为字符串 'Python For Everyone' 创建首字母缩略词或缩写\n",
    "19. 为名称 'Coding For All' 创建首字母缩略词或缩写。\n",
    "20. 使用索引确定 'Coding For All' 中 C 第一次出现的位置。\n",
    "21. 使用索引确定 'Coding For All' 中 F 第一次出现的位置。\n",
    "22. 使用 rfind 确定 'Coding For All People' 中 l 最后一次出现的位置。\n",
    "23. 使用 index 或 find 查找以下句子中单词 'because' 第一次出现的位置：'You cannot end a sentence with because because because is a conjunction'\n",
    "24. 使用 rindex 查找以下句子中单词 because 最后一次出现的位置：'You cannot end a sentence with because because because is a conjunction'\n",
    "25. 删除以下句子中短语 'because because because'：'You cannot end a sentence with because because because is a conjunction'\n",
    "26. 查找以下句子中单词 'because' 第一次出现的位置：'You cannot end a sentence with because because because is a conjunction'\n",
    "27. 删除以下句子中短语 'because 因为 because'：'You cannot end a sentence with because because because is a conjunction'\n",
    "28. '\\'Coding For All' 是否以子字符串 _Coding_ 开头？\n",
    "29. 'Coding For All' 是否以子字符串 _coding_ 结尾？\n",
    "30. '&nbsp;&nbsp; Coding For All &nbsp;&nbsp;&nbsp; &nbsp;' &nbsp;, 删除给定字符串中左右空格。\n",
    "31. 当我们使用方法 isidentifier() 时，下列哪一个变量返回 True:\n",
    "    - 30DaysOfPython\n",
    "    - thirty_days_of_python\n",
    "32. 以下列表包含一些 Python 库的名称：['Django', 'Flask', 'Bottle', 'Pyramid', 'Falcon']。使用空格连接字符串。\n",
    "33. 使用换行转义序列分隔以下句子。\n",
    "    ```py\n",
    "    I am enjoying this challenge.\n",
    "    I just wonder what is next.\n",
    "    ```\n",
    "34. 使用制表符专业序列输出以下内容。\n",
    "    ```py\n",
    "    Name      Age     Country   City\n",
    "    Asabeneh  250     Finland   Helsinki\n",
    "    ```\n",
    "35. 使用字符串格式化方法输出以下内容:"
   ]
  },
  {
   "cell_type": "code",
   "execution_count": null,
   "id": "e383d22c",
   "metadata": {
    "attributes": {
     "classes": [
      "sh"
     ],
     "id": ""
    }
   },
   "outputs": [],
   "source": [
    "radius = 10\n",
    "area = 3.14 * radius ** 2\n",
    "The area of a circle with radius 10 is 314 meters square."
   ]
  },
  {
   "cell_type": "markdown",
   "id": "94aff541",
   "metadata": {},
   "source": [
    "36. 使用字符串格式化方法输出以下内容:"
   ]
  },
  {
   "cell_type": "code",
   "execution_count": null,
   "id": "4e9c8902",
   "metadata": {
    "attributes": {
     "classes": [
      "sh"
     ],
     "id": ""
    }
   },
   "outputs": [],
   "source": [
    "8 + 6 = 14\n",
    "8 - 6 = 2\n",
    "8 * 6 = 48\n",
    "8 / 6 = 1.33\n",
    "8 % 6 = 2\n",
    "8 // 6 = 1\n",
    "8 ** 6 = 262144"
   ]
  },
  {
   "cell_type": "markdown",
   "id": "205eab29",
   "metadata": {},
   "source": [
    "🎉 恭喜 ! 🎉\n",
    "\n",
    "[<< 第三天](./03_operators.md) | [第五天 >>](./05_lists.md)"
   ]
  }
 ],
 "metadata": {},
 "nbformat": 4,
 "nbformat_minor": 5
}
