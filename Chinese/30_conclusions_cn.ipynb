{
 "cells": [
  {
   "cell_type": "markdown",
   "id": "ef3ace4d",
   "metadata": {},
   "source": [
    "# 30天Python编程挑战：第30天 - 总结\n",
    "\n",
    "- [第30天](#第30天)\n",
    "  - [总结](#总结)\n",
    "  - [感言](#感言)\n",
    "\n",
    "# 第30天\n",
    "\n",
    "## 总结\n",
    "\n",
    "在准备这些材料的过程中，我学到了很多，你们也激励我做得更多。恭喜你达到这个水平。如果你完成了所有的练习和项目，现在你有能力走向数据分析、数据科学、机器学习或网络开发的道路。[支持作者提供更多教育材料](https://www.paypal.com/paypalme/asabeneh)。\n",
    "\n",
    "## 感言\n",
    "\n",
    "现在是时候表达你对作者和30天Python挑战的想法了。你可以在这个[链接](https://www.asabeneh.com/testimonials)上留下你的感言。\n",
    "\n",
    "提供反馈：\n",
    "http://thirtydayofpython-api.herokuapp.com/feedback\n",
    "\n",
    "🎉 恭喜！🎉\n",
    "\n",
    "[<< 第29天](./29_Day_Building_API/29_building_API_cn.md)"
   ]
  }
 ],
 "metadata": {},
 "nbformat": 4,
 "nbformat_minor": 5
}
