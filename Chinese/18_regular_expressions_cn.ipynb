{
 "cells": [
  {
   "cell_type": "markdown",
   "id": "7d6149ec",
   "metadata": {},
   "source": [
    "# 30天Python编程挑战：第18天 - 正则表达式\n",
    "\n",
    "- [第18天](#-第18天)\n",
    "  - [正则表达式](#正则表达式)\n",
    "    - [*re* 模块](#re-模块)\n",
    "    - [*re* 模块中的方法](#re-模块中的方法)\n",
    "      - [匹配](#匹配)\n",
    "      - [搜索](#搜索)\n",
    "      - [使用 *findall* 搜索所有匹配项](#使用-findall-搜索所有匹配项)\n",
    "      - [替换子字符串](#替换子字符串)\n",
    "  - [使用RegEx拆分文本](#使用regex拆分文本)\n",
    "  - [编写RegEx模式](#编写regex模式)\n",
    "    - [方括号](#方括号)\n",
    "    - [RegEx中的转义字符(\\\\)](#regex中的转义字符)\n",
    "    - [一次或多次(+)](#一次或多次)\n",
    "    - [句点(.)](#句点)\n",
    "    - [零次或多次(*)](#零次或多次)\n",
    "    - [零次或一次(?)](#零次或一次)\n",
    "    - [RegEx中的量词](#regex中的量词)\n",
    "    - [脱字符(^)](#脱字符)\n",
    "  - [💻 练习：第18天](#-练习第18天)\n",
    "    - [练习：级别1](#练习级别1)\n",
    "    - [练习：级别2](#练习级别2)\n",
    "    - [练习：级别3](#练习级别3)\n",
    "\n",
    "# 📘 第18天\n",
    "\n",
    "## 正则表达式\n",
    "\n",
    "正则表达式（RegEx）是一种特殊的文本字符串，有助于在数据中查找模式。RegEx可用于检查不同数据类型中是否存在某种模式。要在Python中使用RegEx，首先我们应该导入RegEx模块，该模块被称为*re*。\n",
    "\n",
    "### *re* 模块\n",
    "\n",
    "导入模块后，我们可以使用它来检测或查找模式。"
   ]
  },
  {
   "cell_type": "code",
   "execution_count": null,
   "id": "4cde70ca",
   "metadata": {
    "attributes": {
     "classes": [
      "py"
     ],
     "id": ""
    }
   },
   "outputs": [],
   "source": [
    "import re"
   ]
  },
  {
   "cell_type": "markdown",
   "id": "eea3501f",
   "metadata": {},
   "source": [
    "### *re* 模块中的方法\n",
    "\n",
    "要查找模式，我们使用不同的*re*字符集，这些字符集允许在字符串中搜索匹配项。\n",
    "\n",
    "- *re.match()*：只在字符串的第一行开头搜索，如果找到则返回匹配的对象，否则返回None。\n",
    "- *re.search*：如果字符串中的任何地方（包括多行字符串）有匹配项，则返回匹配对象。\n",
    "- *re.findall*：返回包含所有匹配项的列表。\n",
    "- *re.split*：接受一个字符串，在匹配点处分割，返回一个列表。\n",
    "- *re.sub*：替换字符串中的一个或多个匹配项。\n",
    "\n",
    "#### 匹配"
   ]
  },
  {
   "cell_type": "code",
   "execution_count": null,
   "id": "061169b3",
   "metadata": {
    "attributes": {
     "classes": [
      "py"
     ],
     "id": ""
    }
   },
   "outputs": [],
   "source": [
    "# 语法\n",
    "re.match(substring, string, re.I)\n",
    "# substring是一个字符串或模式，string是我们查找模式的文本，re.I是忽略大小写"
   ]
  },
  {
   "cell_type": "code",
   "execution_count": null,
   "id": "6b253e56",
   "metadata": {
    "attributes": {
     "classes": [
      "py"
     ],
     "id": ""
    }
   },
   "outputs": [],
   "source": [
    "import re\n",
    "\n",
    "txt = 'I love to teach python and javaScript'\n",
    "# 它返回一个带有span和match的对象\n",
    "match = re.match('I love to teach', txt, re.I)\n",
    "print(match)  # <re.Match object; span=(0, 15), match='I love to teach'>\n",
    "# 我们可以使用span获取匹配的起始和结束位置，作为元组\n",
    "span = match.span()\n",
    "print(span)     # (0, 15)\n",
    "# 让我们从span中找到起始和结束位置\n",
    "start, end = span\n",
    "print(start, end)  # 0, 15\n",
    "substring = txt[start:end]\n",
    "print(substring)       # I love to teach"
   ]
  },
  {
   "cell_type": "markdown",
   "id": "74e9a800",
   "metadata": {},
   "source": [
    "从上面的例子可以看出，我们正在寻找的模式（或我们正在寻找的子字符串）是*I love to teach*。match函数**只有**在文本以该模式开头时才会返回一个对象。"
   ]
  },
  {
   "cell_type": "code",
   "execution_count": null,
   "id": "7ee3e023",
   "metadata": {
    "attributes": {
     "classes": [
      "py"
     ],
     "id": ""
    }
   },
   "outputs": [],
   "source": [
    "import re\n",
    "\n",
    "txt = 'I love to teach python and javaScript'\n",
    "match = re.match('I like to teach', txt, re.I)\n",
    "print(match)  # None"
   ]
  },
  {
   "cell_type": "markdown",
   "id": "65588861",
   "metadata": {},
   "source": [
    "该字符串不以*I like to teach*开头，因此没有匹配，match方法返回None。\n",
    "\n",
    "#### 搜索"
   ]
  },
  {
   "cell_type": "code",
   "execution_count": null,
   "id": "05f9f16f",
   "metadata": {
    "attributes": {
     "classes": [
      "py"
     ],
     "id": ""
    }
   },
   "outputs": [],
   "source": [
    "# 语法\n",
    "re.match(substring, string, re.I)\n",
    "# substring是一个模式，string是我们查找模式的文本，re.I是忽略大小写标志"
   ]
  },
  {
   "cell_type": "code",
   "execution_count": null,
   "id": "f0b422b8",
   "metadata": {
    "attributes": {
     "classes": [
      "py"
     ],
     "id": ""
    }
   },
   "outputs": [],
   "source": [
    "import re\n",
    "\n",
    "txt = '''Python is the most beautiful language that a human being has ever created.\n",
    "I recommend python for a first programming language'''\n",
    "\n",
    "# 它返回一个带有span和match的对象\n",
    "match = re.search('first', txt, re.I)\n",
    "print(match)  # <re.Match object; span=(100, 105), match='first'>\n",
    "# 我们可以使用span获取匹配的起始和结束位置，作为元组\n",
    "span = match.span()\n",
    "print(span)     # (100, 105)\n",
    "# 让我们从span中找到起始和结束位置\n",
    "start, end = span\n",
    "print(start, end)  # 100 105\n",
    "substring = txt[start:end]\n",
    "print(substring)       # first"
   ]
  },
  {
   "cell_type": "markdown",
   "id": "277bd22c",
   "metadata": {},
   "source": [
    "如你所见，search比match好得多，因为它可以在整个文本中查找模式。Search返回找到的第一个匹配项的匹配对象，否则返回*None*。更好的*re*函数是*findall*。此函数检查整个字符串中的模式，并将所有匹配项作为列表返回。\n",
    "\n",
    "#### 使用 *findall* 搜索所有匹配项\n",
    "\n",
    "*findall()* 将所有匹配项作为列表返回"
   ]
  },
  {
   "cell_type": "code",
   "execution_count": null,
   "id": "102786fd",
   "metadata": {
    "attributes": {
     "classes": [
      "py"
     ],
     "id": ""
    }
   },
   "outputs": [],
   "source": [
    "txt = '''Python is the most beautiful language that a human being has ever created.\n",
    "I recommend python for a first programming language'''\n",
    "\n",
    "# 它返回一个列表\n",
    "matches = re.findall('language', txt, re.I)\n",
    "print(matches)  # ['language', 'language']"
   ]
  },
  {
   "cell_type": "markdown",
   "id": "7cab3ec3",
   "metadata": {},
   "source": [
    "如你所见，单词*language*在字符串中被找到了两次。让我们再练习一些。\n",
    "现在我们将在字符串中查找Python和python这两个单词："
   ]
  },
  {
   "cell_type": "code",
   "execution_count": null,
   "id": "264f41ac",
   "metadata": {
    "attributes": {
     "classes": [
      "py"
     ],
     "id": ""
    }
   },
   "outputs": [],
   "source": [
    "txt = '''Python is the most beautiful language that a human being has ever created.\n",
    "I recommend python for a first programming language'''\n",
    "\n",
    "# 它返回一个列表\n",
    "matches = re.findall('python', txt, re.I)\n",
    "print(matches)  # ['Python', 'python']\n"
   ]
  },
  {
   "cell_type": "markdown",
   "id": "97378602",
   "metadata": {},
   "source": [
    "由于我们使用*re.I*，所以包含了大小写字母。如果我们没有re.I标志，那么我们将不得不以不同的方式编写我们的模式。让我们来看看："
   ]
  },
  {
   "cell_type": "code",
   "execution_count": null,
   "id": "eb58e51e",
   "metadata": {
    "attributes": {
     "classes": [
      "py"
     ],
     "id": ""
    }
   },
   "outputs": [],
   "source": [
    "txt = '''Python is the most beautiful language that a human being has ever created.\n",
    "I recommend python for a first programming language'''\n",
    "\n",
    "matches = re.findall('Python|python', txt)\n",
    "print(matches)  # ['Python', 'python']\n",
    "\n",
    "#\n",
    "matches = re.findall('[Pp]ython', txt)\n",
    "print(matches)  # ['Python', 'python']\n"
   ]
  },
  {
   "cell_type": "markdown",
   "id": "fbbc9951",
   "metadata": {},
   "source": [
    "#### 替换子字符串"
   ]
  },
  {
   "cell_type": "code",
   "execution_count": null,
   "id": "c61b96ce",
   "metadata": {
    "attributes": {
     "classes": [
      "py"
     ],
     "id": ""
    }
   },
   "outputs": [],
   "source": [
    "txt = '''Python is the most beautiful language that a human being has ever created.\n",
    "I recommend python for a first programming language'''\n",
    "\n",
    "match_replaced = re.sub('Python|python', 'JavaScript', txt, re.I)\n",
    "print(match_replaced)  # JavaScript is the most beautiful language that a human being has ever created.\n",
    "# 或者\n",
    "match_replaced = re.sub('[Pp]ython', 'JavaScript', txt, re.I)\n",
    "print(match_replaced)  # JavaScript is the most beautiful language that a human being has ever created."
   ]
  },
  {
   "cell_type": "markdown",
   "id": "da1a81eb",
   "metadata": {},
   "source": [
    "让我们再添加一个例子。除非我们删除%符号，否则以下字符串真的很难阅读。用空字符串替换%将清理文本。"
   ]
  },
  {
   "cell_type": "code",
   "execution_count": null,
   "id": "7c79204e",
   "metadata": {
    "attributes": {
     "classes": [
      "py"
     ],
     "id": ""
    }
   },
   "outputs": [],
   "source": [
    "\n",
    "txt = '''%I a%m te%%a%%che%r% a%n%d %% I l%o%ve te%ach%ing. \n",
    "T%he%re i%s n%o%th%ing as r%ewarding a%s e%duc%at%i%ng a%n%d e%m%p%ow%er%ing p%e%o%ple.\n",
    "I fo%und te%a%ching m%ore i%n%t%er%%es%ting t%h%an any other %jobs. \n",
    "D%o%es thi%s m%ot%iv%a%te %y%o%u to b%e a t%e%a%cher?'''\n",
    "\n",
    "matches = re.sub('%', '', txt)\n",
    "print(matches)"
   ]
  },
  {
   "cell_type": "code",
   "execution_count": null,
   "id": "af45deb0",
   "metadata": {
    "attributes": {
     "classes": [
      "sh"
     ],
     "id": ""
    }
   },
   "outputs": [],
   "source": [
    "I am teacher and I love teaching.\n",
    "There is nothing as rewarding as educating and empowering people. \n",
    "I found teaching more interesting than any other jobs. Does this motivate you to be a teacher?"
   ]
  },
  {
   "cell_type": "markdown",
   "id": "b8ccc81a",
   "metadata": {},
   "source": [
    "## 使用RegEx拆分文本"
   ]
  },
  {
   "cell_type": "code",
   "execution_count": null,
   "id": "4bad57ce",
   "metadata": {
    "attributes": {
     "classes": [
      "py"
     ],
     "id": ""
    }
   },
   "outputs": [],
   "source": [
    "txt = '''I am teacher and  I love teaching.\n",
    "There is nothing as rewarding as educating and empowering people.\n",
    "I found teaching more interesting than any other jobs.\n",
    "Does this motivate you to be a teacher?'''\n",
    "print(re.split('\\n', txt)) # 使用\\n分割 - 行尾符号"
   ]
  },
  {
   "cell_type": "code",
   "execution_count": null,
   "id": "defee678",
   "metadata": {
    "attributes": {
     "classes": [
      "sh"
     ],
     "id": ""
    }
   },
   "outputs": [],
   "source": [
    "['I am teacher and  I love teaching.', 'There is nothing as rewarding as educating and empowering people.', 'I found teaching more interesting than any other jobs.', 'Does this motivate you to be a teacher?']"
   ]
  },
  {
   "cell_type": "markdown",
   "id": "3b20499e",
   "metadata": {},
   "source": [
    "## 编写RegEx模式\n",
    "\n",
    "要声明字符串变量，我们使用单引号或双引号。要声明RegEx变量，使用*r''*。\n",
    "以下模式仅识别小写的apple，要使其不区分大小写，我们应该重写模式或添加标志。"
   ]
  },
  {
   "cell_type": "code",
   "execution_count": null,
   "id": "49a8fd4d",
   "metadata": {
    "attributes": {
     "classes": [
      "py"
     ],
     "id": ""
    }
   },
   "outputs": [],
   "source": [
    "import re\n",
    "\n",
    "regex_pattern = r'apple'\n",
    "txt = 'Apple and banana are fruits. An old cliche says an apple a day a doctor way has been replaced by a banana a day keeps the doctor far far away. '\n",
    "matches = re.findall(regex_pattern, txt)\n",
    "print(matches)  # ['apple']\n",
    "\n",
    "# 要使其不区分大小写，添加标志'\n",
    "matches = re.findall(regex_pattern, txt, re.I)\n",
    "print(matches)  # ['Apple', 'apple']\n",
    "# 或者我们可以使用一组字符方法\n",
    "regex_pattern = r'[Aa]pple'  # 这意味着第一个字母可以是Apple或apple\n",
    "matches = re.findall(regex_pattern, txt)\n",
    "print(matches)  # ['Apple', 'apple']\n"
   ]
  },
  {
   "cell_type": "markdown",
   "id": "a753317e",
   "metadata": {},
   "source": [
    "* []:  一组字符\n",
    "  - [a-c] 表示，a或b或c\n",
    "  - [a-z] 表示，从a到z的任何字母\n",
    "  - [A-Z] 表示，从A到Z的任何字符\n",
    "  - [0-3] 表示，0或1或2或3\n",
    "  - [0-9] 表示从0到9的任何数字\n",
    "  - [A-Za-z0-9] 任何单个字符，即a到z，A到Z或0到9\n",
    "\n",
    "### 方括号\n",
    "\n",
    "让我们使用方括号练习更多的模式。记得，我们使用*re.I*作为标志，使搜索不区分大小写。"
   ]
  },
  {
   "cell_type": "code",
   "execution_count": null,
   "id": "32cf41fe",
   "metadata": {
    "attributes": {
     "classes": [
      "py"
     ],
     "id": ""
    }
   },
   "outputs": [],
   "source": [
    "regex_pattern = r'[Aa]pple|[Bb]anana' # 这意味着Apple或apple或Banana或banana\n",
    "txt = 'Apple and banana are fruits. An old cliche says an apple a day a doctor way has been replaced by a banana a day keeps the doctor far far away.'\n",
    "matches = re.findall(regex_pattern, txt)\n",
    "print(matches)  # ['Apple', 'banana', 'apple', 'banana']\n"
   ]
  },
  {
   "cell_type": "markdown",
   "id": "30839403",
   "metadata": {},
   "source": [
    "使用方括号和管道。"
   ]
  },
  {
   "cell_type": "code",
   "execution_count": null,
   "id": "84ac0794",
   "metadata": {
    "attributes": {
     "classes": [
      "py"
     ],
     "id": ""
    }
   },
   "outputs": [],
   "source": [
    "regex_pattern = r'[a-zA-Z0-9]'  # 这个方括号表示 a 到 z, A 到 Z, 0 到 9\n",
    "txt = 'Apple and banana are fruits. An old cliche says an apple a day a doctor way has been replaced by a banana a day keeps the doctor far far away.'\n",
    "matches = re.findall(regex_pattern, txt)\n",
    "print(matches)  # ['A', 'p', 'p', 'l', 'e', 'a', 'n', 'd', 'b', 'a', 'n', 'a', 'n', 'a', 'a', 'r', 'e',...]\n",
    "\n",
    "regex_pattern = r'\\d'  # d 是一个特殊字符，表示数字\n",
    "txt = 'This regular expression example was made on December 6,  2019 and revised on July 8, 2021'\n",
    "matches = re.findall(regex_pattern, txt)\n",
    "print(matches)  # ['6', '2', '0', '1', '9', '8', '2', '0', '2', '1']\n",
    "\n",
    "regex_pattern = r'\\d+'  # d 是一个特殊字符，表示数字，+ 表示一个或多个\n",
    "txt = 'This regular expression example was made on December 6,  2019 and revised on July 8, 2021'\n",
    "matches = re.findall(regex_pattern, txt)\n",
    "print(matches)  # ['6', '2019', '8', '2021']"
   ]
  },
  {
   "cell_type": "markdown",
   "id": "0aebcecb",
   "metadata": {},
   "source": [
    "### RegEx中的转义字符(\\\\)"
   ]
  },
  {
   "cell_type": "code",
   "execution_count": null,
   "id": "0066b6a9",
   "metadata": {
    "attributes": {
     "classes": [
      "py"
     ],
     "id": ""
    }
   },
   "outputs": [],
   "source": [
    "regex_pattern = r'\\d+'  # d 是一个特殊字符，表示数字，+ 表示一个或多个\n",
    "txt = 'This regular expression example was made on December 6,  2019 and revised on July 8, 2021'\n",
    "matches = re.findall(regex_pattern, txt)\n",
    "print(matches)  # ['6', '2019', '8', '2021']"
   ]
  },
  {
   "cell_type": "markdown",
   "id": "66a54697",
   "metadata": {},
   "source": [
    "要查找 \\ 本身，我们应该使用双倍反斜杠："
   ]
  },
  {
   "cell_type": "code",
   "execution_count": null,
   "id": "632e69dd",
   "metadata": {
    "attributes": {
     "classes": [
      "py"
     ],
     "id": ""
    }
   },
   "outputs": [],
   "source": [
    "regex_pattern = r'\\\\d'  # 这意味着寻找 \\d\n",
    "txt = 'This regular expression example was made on December 6,  2019 and revised on July 8, 2021'\n",
    "matches = re.findall(regex_pattern, txt)\n",
    "print(matches)  # []"
   ]
  },
  {
   "cell_type": "markdown",
   "id": "f9baaf69",
   "metadata": {},
   "source": [
    "当我们在字符串中没有任何与 \\d 匹配的内容时，找不到任何匹配项。\n",
    "\n",
    "### 一次或多次(+)"
   ]
  },
  {
   "cell_type": "code",
   "execution_count": null,
   "id": "2cf04746",
   "metadata": {
    "attributes": {
     "classes": [
      "py"
     ],
     "id": ""
    }
   },
   "outputs": [],
   "source": [
    "regex_pattern = r'\\d+'  # d 是一个特殊字符，表示数字，+ 表示一个或多个\n",
    "txt = 'This regular expression example was made on December 6,  2019 and revised on July 8, 2021'\n",
    "matches = re.findall(regex_pattern, txt)\n",
    "print(matches)  # ['6', '2019', '8', '2021']"
   ]
  },
  {
   "cell_type": "markdown",
   "id": "a1658333",
   "metadata": {},
   "source": [
    "### 句点(.)"
   ]
  },
  {
   "cell_type": "code",
   "execution_count": null,
   "id": "e058f34d",
   "metadata": {
    "attributes": {
     "classes": [
      "py"
     ],
     "id": ""
    }
   },
   "outputs": [],
   "source": [
    "regex_pattern = r'[a].'  # 这个方括号表示 a 和 . 表示任何字符，除了新行\n",
    "txt = '''Apple and banana are fruits'''\n",
    "matches = re.findall(regex_pattern, txt)\n",
    "print(matches)  # ['an', 'an', 'an', 'a ', 'ar']\n",
    "\n",
    "regex_pattern = r'[a].+'  # . 任何字符，+ 任何字符一次或多次\n",
    "matches = re.findall(regex_pattern, txt)\n",
    "print(matches)  # ['and banana are fruits']"
   ]
  },
  {
   "cell_type": "markdown",
   "id": "96139600",
   "metadata": {},
   "source": [
    "### 零次或多次(*)\n",
    "\n",
    "零次或多次。这个例子不太明显，所以请慢慢看。"
   ]
  },
  {
   "cell_type": "code",
   "execution_count": null,
   "id": "3bf8c10c",
   "metadata": {
    "attributes": {
     "classes": [
      "py"
     ],
     "id": ""
    }
   },
   "outputs": [],
   "source": [
    "regex_pattern = r'[a].*'  # . 任何字符，* 任何字符零次或多次\n",
    "txt = '''Apple and banana are fruits'''\n",
    "matches = re.findall(regex_pattern, txt)\n",
    "print(matches)  # ['and banana are fruits']"
   ]
  },
  {
   "cell_type": "markdown",
   "id": "17906b68",
   "metadata": {},
   "source": [
    "### 零次或一次(?)\n",
    "\n",
    "零次或一次。它可以存在，也可以不存在。"
   ]
  },
  {
   "cell_type": "code",
   "execution_count": null,
   "id": "ab9c1c05",
   "metadata": {
    "attributes": {
     "classes": [
      "py"
     ],
     "id": ""
    }
   },
   "outputs": [],
   "source": [
    "txt = '''I am not sure if there is a convention how to write the word e-mail.\n",
    "Some people write it as email others may write it as Email or E-mail.'''\n",
    "regex_pattern = r'[Ee]-?mail'  # ? 表示零次或一次\n",
    "matches = re.findall(regex_pattern, txt)\n",
    "print(matches)  # ['e-mail', 'email', 'Email', 'E-mail']"
   ]
  },
  {
   "cell_type": "markdown",
   "id": "a35e60c1",
   "metadata": {},
   "source": [
    "### RegEx中的量词\n",
    "\n",
    "使用大括号，我们可以指定模式的长度"
   ]
  },
  {
   "cell_type": "code",
   "execution_count": null,
   "id": "dae51ef5",
   "metadata": {
    "attributes": {
     "classes": [
      "py"
     ],
     "id": ""
    }
   },
   "outputs": [],
   "source": [
    "txt = 'This regular expression example was made on December 6,  2019 and revised on July 8, 2021'\n",
    "regex_pattern = r'\\d{4}'  # 正好有四位数的数字\n",
    "matches = re.findall(regex_pattern, txt)\n",
    "print(matches)  # ['2019', '2021']\n",
    "\n",
    "txt = 'This regular expression example was made on December 6,  2019 and revised on July 8, 2021'\n",
    "regex_pattern = r'\\d{1,4}'   # 1到4位数的数字\n",
    "matches = re.findall(regex_pattern, txt)\n",
    "print(matches)  # ['6', '2019', '8', '2021']"
   ]
  },
  {
   "cell_type": "markdown",
   "id": "cfd2b6ca",
   "metadata": {},
   "source": [
    "### 脱字符(^)\n",
    "\n",
    "- 以什么开始"
   ]
  },
  {
   "cell_type": "code",
   "execution_count": null,
   "id": "fb41fad3",
   "metadata": {
    "attributes": {
     "classes": [
      "py"
     ],
     "id": ""
    }
   },
   "outputs": [],
   "source": [
    "txt = 'This regular expression example was made on December 6,  2019 and revised on July 8, 2021'\n",
    "regex_pattern = r'^This'  # ^ 表示以 This 开始\n",
    "matches = re.findall(regex_pattern, txt)\n",
    "print(matches)  # ['This']"
   ]
  },
  {
   "cell_type": "markdown",
   "id": "37f9b75a",
   "metadata": {},
   "source": [
    "- 否定"
   ]
  },
  {
   "cell_type": "code",
   "execution_count": null,
   "id": "2c427c47",
   "metadata": {
    "attributes": {
     "classes": [
      "py"
     ],
     "id": ""
    }
   },
   "outputs": [],
   "source": [
    "txt = 'This regular expression example was made on December 6,  2019 and revised on July 8, 2021'\n",
    "regex_pattern = r'[^A-Za-z ]+'  # ^ 在方括号内表示否定，不是A-Z，不是a-z，不是空格\n",
    "matches = re.findall(regex_pattern, txt)\n",
    "print(matches)  # ['6,', '2019', '8,', '2021']"
   ]
  },
  {
   "cell_type": "markdown",
   "id": "3ab6014e",
   "metadata": {},
   "source": [
    "## 💻 练习：第18天\n",
    "\n",
    "### 练习：级别1\n",
    "\n",
    "1. 什么是正则表达式？\n",
    "2. 正则表达式的变量是什么？\n",
    "3. 重新创建字符串模式，这些模式可以：\n",
    "   a) 查找对带有*才能*的字符串的引用，在一本书中\n",
    "   b) 找出日期格式为 _DD-MM-YYYY_，例如12-01-2021\n",
    "   c) 找出文本中动词的时态为ing\n",
    "\n",
    "### 练习：级别2\n",
    "\n",
    "1. 编写一个模式，用于识别表示有效Python变量名的字符串\n",
    "2. 从以下文本中清除HTML标签。"
   ]
  },
  {
   "cell_type": "code",
   "execution_count": null,
   "id": "48914a79",
   "metadata": {},
   "outputs": [],
   "source": [
    "text = '''\n",
    "HTML\n",
    "Hypertext Markup Language (HTML) is the standard markup language for documents designed to be displayed in a web browser. It can be assisted by technologies such as Cascading Style Sheets (CSS) and scripting languages such as JavaScript.\n",
    "\n",
    "Web browsers receive HTML documents from a web server or from local storage and render the documents into multimedia web pages. HTML describes the structure of a web page semantically and originally included cues for the appearance of the document.\n",
    "\n",
    "HTML elements are the building blocks of HTML pages. With HTML constructs, images and other objects such as interactive forms may be embedded into the rendered page. HTML provides a means to create structured documents by denoting structural semantics for text such as headings, paragraphs, lists, links, quotes and other items. HTML elements are delineated by tags, written using angle brackets. Tags such as <img /> and <input /> directly introduce content into the page. Other tags such as <p> surround and provide information about document text and may include other tags as sub-elements. Browsers do not display the HTML tags, but use them to interpret the content of the page.\n",
    "\n",
    "HTML can embed programs written in a scripting language such as JavaScript, which affects the behavior and content of web pages. Inclusion of CSS defines the look and layout of content. The World Wide Web Consortium (W3C), former maintainer of the HTML and current maintainer of the CSS standards, has encouraged the use of CSS over explicit presentational HTML since 1997.\n",
    "'''"
   ]
  },
  {
   "cell_type": "markdown",
   "id": "81794db9",
   "metadata": {},
   "source": [
    "### 练习：级别3\n",
    "\n",
    "1. 清理以下文本。在清理过程后，计算最常见的三个单词是什么。"
   ]
  },
  {
   "cell_type": "code",
   "execution_count": null,
   "id": "aa4b402d",
   "metadata": {},
   "outputs": [],
   "source": [
    "\n",
    "    paragraph = '''I love teaching. If you do not love teaching what else can you love. I love Python if you do not love something which can give you all the capabilities to develop an application what else can you love.'''\n"
   ]
  },
  {
   "cell_type": "markdown",
   "id": "718fe970",
   "metadata": {},
   "source": [
    "2. 下面的文本包含了几个电子邮件地址。编写一个可以查找或提取电子邮件地址的模式。"
   ]
  },
  {
   "cell_type": "code",
   "execution_count": null,
   "id": "b80e01a4",
   "metadata": {
    "attributes": {
     "classes": [
      "py"
     ],
     "id": ""
    }
   },
   "outputs": [],
   "source": [
    "email_address = '''\n",
    "asabeneh@gmail.com\n",
    "alex@yahoo.com\n",
    "kofi@yahoo.com\n",
    "doe@arc.gov\n",
    "asabeneh.com\n",
    "asabeneh@gmail\n",
    "alex@yahoo\n",
    "'''"
   ]
  },
  {
   "cell_type": "markdown",
   "id": "93ada2da",
   "metadata": {},
   "source": [
    "🎉 恭喜！🎉\n",
    "\n",
    "[<< 第17天](./17_Day_Exception_handling/17_exception_handling_cn.md) | [第19天 >>](./19_Day_File_handling/19_file_handling_cn.md)"
   ]
  }
 ],
 "metadata": {},
 "nbformat": 4,
 "nbformat_minor": 5
}
