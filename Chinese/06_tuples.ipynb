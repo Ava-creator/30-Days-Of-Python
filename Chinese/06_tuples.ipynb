{
 "cells": [
  {
   "cell_type": "markdown",
   "id": "52925e9a",
   "metadata": {},
   "source": [
    "<div align=\"center\">\n",
    "  <h1> 30 天 Python：第六天 - Tuples</h1>\n",
    "  <a class=\"header-badge\" target=\"_blank\" href=\"https://www.linkedin.com/in/asabeneh/\">\n",
    "  <img src=\"https://img.shields.io/badge/style--5eba00.svg?label=LinkedIn&logo=linkedin&style=social\">\n",
    "  </a>\n",
    "  <a class=\"header-badge\" target=\"_blank\" href=\"https://twitter.com/Asabeneh\">\n",
    "  <img alt=\"Twitter Follow\" src=\"https://img.shields.io/twitter/follow/asabeneh?style=social\">\n",
    "  </a>\n",
    "\n",
    "<sub>Author:\n",
    "<a href=\"https://www.linkedin.com/in/asabeneh/\" target=\"_blank\">Oludayo adeoye</a><br>\n",
    "<small> 第二版：2021 年 7 月</small>\n",
    "</sub>\n",
    "\n",
    "</div>\n",
    "\n",
    "[<< 第五天](./05_lists.md) | [第七天 >>](./07_sets.md)\n",
    "\n",
    "![30DaysOfPython](../images/30DaysOfPython_banner3@2x.png)\n",
    "\n",
    "- [第六天:](#第六天)\n",
    "  - [元组](#元组)\n",
    "    - [如何创建元组](#如何创建元组)\n",
    "    - [元组长度](#元组长度)\n",
    "    - [获取元组项](#获取元组项)\n",
    "    - [元组切片](#元组切片)\n",
    "    - [将元组更改为列表](#将元组更改为列表)\n",
    "    - [检索元组中的项](#检索元组中的项)\n",
    "    - [连接元组](#连接元组)\n",
    "    - [删除元组](#删除元组)\n",
    "  - [💻 练习 - 第六天](#-练习---第六天)\n",
    "    - [练习： 1级](#练习-1级)\n",
    "    - [练习： 2级](#练习-2级)\n",
    "\n",
    "# 第六天:\n",
    "\n",
    "## 元组\n",
    "\n",
    "元组是有序且不可变的不同数据类型的集合。一旦创建了元组，我们就无法更改其值。我们不能在元组中使用 add、insert、remove 方法，因为它是不可修改的（不可变的）。与列表不同，元组的方法很少。与元组相关的方法有：\n",
    "\n",
    "- tuple()：创建一个空元组\n",
    "- count()：计算元组中指定项的数量\n",
    "- index()：查找元组中指定项的索引\n",
    "- + 运算符：连接两个或多个元组并创建一个新元组\n",
    "\n",
    "### 如何创建元组\n",
    "\n",
    "- 创建一个空元组\n",
    "\n",
    "  ```py\n",
    "  # 语法\n",
    "  empty_tuple = ()\n",
    "  # 或使用元组构造函数\n",
    "  empty_tuple = tuple()\n",
    "  ```\n",
    "\n",
    "- 创建一个具有初始值的元组\n",
    "\n",
    "  ```py\n",
    "  # 语法\n",
    "  tpl = ('item1', 'item2','item3')\n",
    "  ```\n",
    "\n",
    "  ```py\n",
    "  fruits = ('banana', 'orange', 'mango', 'lemon')\n",
    "  ```\n",
    "\n",
    "\n",
    "### 元组长度\n",
    "\n",
    "我们使用 _len()_ 方法来获取元组的长度。"
   ]
  },
  {
   "cell_type": "code",
   "execution_count": null,
   "id": "947919d4",
   "metadata": {
    "attributes": {
     "classes": [
      "py"
     ],
     "id": ""
    }
   },
   "outputs": [],
   "source": [
    "# 语法\n",
    "tpl = ('item1', 'item2', 'item3')\n",
    "len(tpl)"
   ]
  },
  {
   "cell_type": "markdown",
   "id": "20d37439",
   "metadata": {},
   "source": [
    "### 获取元组项\n",
    "\n",
    "\n",
    "- 正索引\n",
    "  与列表数据类型类似，我们使用正索引或负索引来访问元组项。\n",
    "  ![Accessing tuple items](../images/tuples_index.png)\n",
    "\n",
    "  ```py\n",
    "  # 语法\n",
    "  tpl = ('item1', 'item2', 'item3')\n",
    "  first_item = tpl[0]\n",
    "  second_item = tpl[1]\n",
    "  ```\n",
    "\n",
    "  ```py\n",
    "  fruits = ('banana', 'orange', 'mango', 'lemon')\n",
    "  first_fruit = fruits[0]\n",
    "  second_fruit = fruits[1]\n",
    "  last_index =len(fruits) - 1\n",
    "  last_fruit = fruits[las_index]\n",
    "  ```\n",
    "\n",
    "- 负索引\n",
    "  负索引是从末尾开始的，-1 表示最后一项，-2 表示倒数第二项，列表/元组长度的负数表示第一项。\n",
    "  ![Tuple Negative indexing](../images/tuple_negative_indexing.png)\n",
    "\n",
    "  ```py\n",
    "  # 语法\n",
    "  tpl = ('item1', 'item2', 'item3','item4')\n",
    "  first_item = tpl[-4]\n",
    "  second_item = tpl[-3]\n",
    "  ```\n",
    "\n",
    "  ```py\n",
    "  fruits = ('banana', 'orange', 'mango', 'lemon')\n",
    "  first_fruit = fruits[-4]\n",
    "  second_fruit = fruits[-3]\n",
    "  last_fruit = fruits[-1]\n",
    "  ```\n",
    "\n",
    "### 元组切片\n",
    "\n",
    "我们可以通过指定开始和结束的索引范围来切出子元组，返回值是一个包含指定项的新元组。\n",
    "\n",
    "- 正索引范围\n",
    "\n",
    "  ```py\n",
    "  # 语法\n",
    "  tpl = ('item1', 'item2', 'item3','item4')\n",
    "  all_items = tpl[0:4]         # 所有项\n",
    "  all_items = tpl[0:]         # 所有项\n",
    "  middle_two_items = tpl[1:3]  # 不包括索引 3 的项\n",
    "  ```\n",
    "\n",
    "  ```py\n",
    "  fruits = ('banana', 'orange', 'mango', 'lemon')\n",
    "  all_fruits = fruits[0:4]    # 所有项\n",
    "  all_fruits= fruits[0:]      # 所有项\n",
    "  orange_mango = fruits[1:3]  # 不包括索引 3 的项\n",
    "  orange_to_the_rest = fruits[1:]\n",
    "  ```\n",
    "\n",
    "- 负索引范围\n",
    "\n",
    "  ```py\n",
    "  # 语法\n",
    "  tpl = ('item1', 'item2', 'item3','item4')\n",
    "  all_items = tpl[-4:]         # 所有项\n",
    "  middle_two_items = tpl[-3:-1]  # 不包括索引 3 的项\n",
    "  ```\n",
    "\n",
    "  ```py\n",
    "\n",
    "  fruits = ('banana', 'orange', 'mango', 'lemon')\n",
    "  all_fruits = fruits[-4:]    # 所有项\n",
    "  orange_mango = fruits[-3:-1]  # 不包括索引 3 的项\n",
    "  orange_to_the_rest = fruits[-3:]\n",
    "  ```\n",
    "\n",
    "### 将元组更改为列表\n",
    "\n",
    "我们可以将元组更改为列表，将列表更改为元组。如果我们想修改元组，我们应该将其更改为列表。"
   ]
  },
  {
   "cell_type": "code",
   "execution_count": null,
   "id": "c16cb572",
   "metadata": {
    "attributes": {
     "classes": [
      "py"
     ],
     "id": ""
    }
   },
   "outputs": [],
   "source": [
    "# 语法\n",
    "tpl = ('item1', 'item2', 'item3','item4')\n",
    "lst = list(tpl)"
   ]
  },
  {
   "cell_type": "code",
   "execution_count": null,
   "id": "91907b90",
   "metadata": {
    "attributes": {
     "classes": [
      "py"
     ],
     "id": ""
    }
   },
   "outputs": [],
   "source": [
    "fruits = ('banana', 'orange', 'mango', 'lemon')\n",
    "fruits = list(fruits)\n",
    "fruits[0] = 'apple'\n",
    "print(fruits)     # ['apple', 'orange', 'mango', 'lemon']\n",
    "fruits = tuple(fruits)\n",
    "print(fruits)     # ('apple', 'orange', 'mango', 'lemon')"
   ]
  },
  {
   "cell_type": "markdown",
   "id": "feaf6573",
   "metadata": {},
   "source": [
    "### 检索元组中的项\n",
    "\n",
    "我们可以使用 _in_ 检查元组中是否存在某个项，它返回一个布尔值。"
   ]
  },
  {
   "cell_type": "code",
   "execution_count": null,
   "id": "9849ac66",
   "metadata": {
    "attributes": {
     "classes": [
      "py"
     ],
     "id": ""
    }
   },
   "outputs": [],
   "source": [
    "# 语法\n",
    "tpl = ('item1', 'item2', 'item3','item4')\n",
    "'item2' in tpl # True"
   ]
  },
  {
   "cell_type": "code",
   "execution_count": null,
   "id": "14bbe456",
   "metadata": {
    "attributes": {
     "classes": [
      "py"
     ],
     "id": ""
    }
   },
   "outputs": [],
   "source": [
    "fruits = ('banana', 'orange', 'mango', 'lemon')\n",
    "print('orange' in fruits) # True\n",
    "print('apple' in fruits) # False\n",
    "fruits[0] = 'apple' # TypeError: 'tuple' object does not support item assignment"
   ]
  },
  {
   "cell_type": "markdown",
   "id": "6bf6dc94",
   "metadata": {},
   "source": [
    "### 连接元组\n",
    "\n",
    "我们可以使用 + 运算符连接两个或多个元组"
   ]
  },
  {
   "cell_type": "code",
   "execution_count": null,
   "id": "0772823c",
   "metadata": {
    "attributes": {
     "classes": [
      "py"
     ],
     "id": ""
    }
   },
   "outputs": [],
   "source": [
    "# 语法\n",
    "tpl1 = ('item1', 'item2', 'item3')\n",
    "tpl2 = ('item4', 'item5','item6')\n",
    "tpl3 = tpl1 + tpl2"
   ]
  },
  {
   "cell_type": "code",
   "execution_count": null,
   "id": "ef7ba6ba",
   "metadata": {
    "attributes": {
     "classes": [
      "py"
     ],
     "id": ""
    }
   },
   "outputs": [],
   "source": [
    "fruits = ('banana', 'orange', 'mango', 'lemon')\n",
    "vegetables = ('Tomato', 'Potato', 'Cabbage','Onion', 'Carrot')\n",
    "fruits_and_vegetables = fruits + vegetables"
   ]
  },
  {
   "cell_type": "markdown",
   "id": "2cba6352",
   "metadata": {},
   "source": [
    "### 删除元组\n",
    "\n",
    "不能删除元组中的单个项，但可以使用 _del_ 删除元组本身。"
   ]
  },
  {
   "cell_type": "code",
   "execution_count": null,
   "id": "57bb4873",
   "metadata": {
    "attributes": {
     "classes": [
      "py"
     ],
     "id": ""
    }
   },
   "outputs": [],
   "source": [
    "# 语法\n",
    "tpl1 = ('item1', 'item2', 'item3')\n",
    "del tpl1\n"
   ]
  },
  {
   "cell_type": "code",
   "execution_count": null,
   "id": "e6372126",
   "metadata": {
    "attributes": {
     "classes": [
      "py"
     ],
     "id": ""
    }
   },
   "outputs": [],
   "source": [
    "fruits = ('banana', 'orange', 'mango', 'lemon')\n",
    "del fruits"
   ]
  },
  {
   "cell_type": "markdown",
   "id": "6852b40e",
   "metadata": {},
   "source": [
    "🌕 你太勇敢了，你做到了。你刚刚完成了第 6 天的挑战，你已向着伟大的目标迈出了 6 步。现在做一些练习来锻练你的大脑和肌肉。\n",
    "\n",
    "## 💻 练习 - 第六天\n",
    "\n",
    "### 练习： 1级\n",
    "\n",
    "1. 创建一个空元组\n",
    "1. 创建一个包含你姐妹和兄弟名字的元组（虚构的兄弟姐妹也可以）\n",
    "1. 连接兄弟姐妹元组并将其分配给 siblings\n",
    "1. 你有多少兄弟姐妹？\n",
    "1. 修改兄弟姐妹元组并添加你父母的名字，然后将其分配给 family_members\n",
    "\n",
    "### 练习： 2级\n",
    "\n",
    "1. 从 family_members 中获取兄弟姐妹和父母\n",
    "1. 创建 fruits、vegetables 和 animal products 元组。连接三个元组并将其分配给名为 food_stuff_tp 的变量。\n",
    "1. 将 food_stuff_tp 元组更改为 food_stuff_lt 列表\n",
    "1. 从 food_stuff_tp 元组或 food_stuff_lt 列表中切出中间项或项。\n",
    "1. 从 food_staff_lt 列表中切出前三项和最后三项\n",
    "1. 完全删除 food_staff_tp 元组\n",
    "1. 检查元组中是否存在项：\n",
    "- 检查 'Estonia' 是否在 nordic_country 元组中\n",
    "- 检查 'Iceland' 是否在 nordic_country 元组中\n",
    "\n",
    "  ```py\n",
    "  nordic_countries = ('Denmark', 'Finland','Iceland', 'Norway', 'Sweden')\n",
    "  ```\n",
    "\n",
    "\n",
    "[<< 第五天](./05_lists.md) | [第七天 >>](./07_sets.md)"
   ]
  }
 ],
 "metadata": {},
 "nbformat": 4,
 "nbformat_minor": 5
}
