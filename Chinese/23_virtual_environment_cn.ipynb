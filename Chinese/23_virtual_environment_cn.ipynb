{
 "cells": [
  {
   "cell_type": "markdown",
   "id": "d23d5159",
   "metadata": {},
   "source": [
    "# 30天Python编程挑战：第23天 - 虚拟环境\n",
    "\n",
    "- [第23天](#-第23天)\n",
    "  - [设置虚拟环境](#设置虚拟环境)\n",
    "  - [💻 练习：第23天](#-练习第23天)\n",
    "\n",
    "# 📘 第23天\n",
    "\n",
    "## 设置虚拟环境\n",
    "\n",
    "开始项目时，最好有一个虚拟环境。虚拟环境可以帮助我们创建一个隔离或独立的环境。这将有助于避免不同项目之间的依赖冲突。如果你在终端上输入pip freeze，你将看到计算机上安装的所有包。如果我们使用virtualenv，我们将只能访问特定于该项目的包。打开你的终端并安装virtualenv："
   ]
  },
  {
   "cell_type": "code",
   "execution_count": null,
   "id": "22dd974f",
   "metadata": {
    "attributes": {
     "classes": [
      "sh"
     ],
     "id": ""
    }
   },
   "outputs": [],
   "source": [
    "asabeneh@Asabeneh:~$ pip install virtualenv"
   ]
  },
  {
   "cell_type": "markdown",
   "id": "dff7e112",
   "metadata": {},
   "source": [
    "在30DaysOfPython文件夹内创建一个flask_project文件夹。\n",
    "\n",
    "安装virtualenv包后，进入项目文件夹并通过以下命令创建虚拟环境：\n",
    "\n",
    "对于Mac/Linux："
   ]
  },
  {
   "cell_type": "code",
   "execution_count": null,
   "id": "dcc8cb84",
   "metadata": {
    "attributes": {
     "classes": [
      "sh"
     ],
     "id": ""
    }
   },
   "outputs": [],
   "source": [
    "asabeneh@Asabeneh:~/Desktop/30DaysOfPython/flask_project$ virtualenv venv"
   ]
  },
  {
   "cell_type": "markdown",
   "id": "72ebcb7b",
   "metadata": {},
   "source": [
    "对于Windows："
   ]
  },
  {
   "cell_type": "code",
   "execution_count": null,
   "id": "69f36c0b",
   "metadata": {
    "attributes": {
     "classes": [
      "sh"
     ],
     "id": ""
    }
   },
   "outputs": [],
   "source": [
    "C:\\Users\\User\\Documents\\30DaysOfPython\\flask_project>python -m venv venv"
   ]
  },
  {
   "cell_type": "markdown",
   "id": "71470848",
   "metadata": {},
   "source": [
    "我喜欢将新项目称为venv，但你可以随意命名。让我们使用ls（或Windows命令提示符的dir）命令检查venv是否已创建。"
   ]
  },
  {
   "cell_type": "code",
   "execution_count": null,
   "id": "f5d29a47",
   "metadata": {
    "attributes": {
     "classes": [
      "sh"
     ],
     "id": ""
    }
   },
   "outputs": [],
   "source": [
    "asabeneh@Asabeneh:~/Desktop/30DaysOfPython/flask_project$ ls\n",
    "venv/"
   ]
  },
  {
   "cell_type": "markdown",
   "id": "8b0dffb7",
   "metadata": {},
   "source": [
    "让我们通过在项目文件夹中编写以下命令来激活虚拟环境。\n",
    "\n",
    "对于Mac/Linux："
   ]
  },
  {
   "cell_type": "code",
   "execution_count": null,
   "id": "c703d952",
   "metadata": {
    "attributes": {
     "classes": [
      "sh"
     ],
     "id": ""
    }
   },
   "outputs": [],
   "source": [
    "asabeneh@Asabeneh:~/Desktop/30DaysOfPython/flask_project$ source venv/bin/activate"
   ]
  },
  {
   "cell_type": "markdown",
   "id": "29e90200",
   "metadata": {},
   "source": [
    "Windows上虚拟环境的激活可能因Windows PowerShell和git bash而异。\n",
    "\n",
    "对于Windows PowerShell："
   ]
  },
  {
   "cell_type": "code",
   "execution_count": null,
   "id": "12650eba",
   "metadata": {
    "attributes": {
     "classes": [
      "sh"
     ],
     "id": ""
    }
   },
   "outputs": [],
   "source": [
    "C:\\Users\\User\\Documents\\30DaysOfPython\\flask_project> venv\\Scripts\\activate"
   ]
  },
  {
   "cell_type": "markdown",
   "id": "358d47c6",
   "metadata": {},
   "source": [
    "对于Windows Git bash："
   ]
  },
  {
   "cell_type": "code",
   "execution_count": null,
   "id": "bc13b850",
   "metadata": {
    "attributes": {
     "classes": [
      "sh"
     ],
     "id": ""
    }
   },
   "outputs": [],
   "source": [
    "C:\\Users\\User\\Documents\\30DaysOfPython\\flask_project> venv\\Scripts\\. activate"
   ]
  },
  {
   "cell_type": "markdown",
   "id": "441f6f80",
   "metadata": {},
   "source": [
    "输入激活命令后，你的项目目录将以venv开头。请参见下面的示例。"
   ]
  },
  {
   "cell_type": "code",
   "execution_count": null,
   "id": "166d8fe1",
   "metadata": {
    "attributes": {
     "classes": [
      "sh"
     ],
     "id": ""
    }
   },
   "outputs": [],
   "source": [
    "(venv) asabeneh@Asabeneh:~/Desktop/30DaysOfPython/flask_project$"
   ]
  },
  {
   "cell_type": "markdown",
   "id": "6073f62f",
   "metadata": {},
   "source": [
    "现在，让我们通过输入pip freeze来检查这个项目中可用的包。你不会看到任何包。\n",
    "\n",
    "我们将做一个小型flask项目，所以让我们为这个项目安装flask包。"
   ]
  },
  {
   "cell_type": "code",
   "execution_count": null,
   "id": "51a7b85c",
   "metadata": {
    "attributes": {
     "classes": [
      "sh"
     ],
     "id": ""
    }
   },
   "outputs": [],
   "source": [
    "(venv) asabeneh@Asabeneh:~/Desktop/30DaysOfPython/flask_project$ pip install Flask"
   ]
  },
  {
   "cell_type": "markdown",
   "id": "abac74d6",
   "metadata": {},
   "source": [
    "现在，让我们输入pip freeze查看项目中已安装的包列表："
   ]
  },
  {
   "cell_type": "code",
   "execution_count": null,
   "id": "6d24428f",
   "metadata": {
    "attributes": {
     "classes": [
      "sh"
     ],
     "id": ""
    }
   },
   "outputs": [],
   "source": [
    "(venv) asabeneh@Asabeneh:~/Desktop/30DaysOfPython/flask_project$ pip freeze\n",
    "Click==7.0\n",
    "Flask==1.1.1\n",
    "itsdangerous==1.1.0\n",
    "Jinja2==2.10.3\n",
    "MarkupSafe==1.1.1\n",
    "Werkzeug==0.16.0"
   ]
  },
  {
   "cell_type": "markdown",
   "id": "7942fc41",
   "metadata": {},
   "source": [
    "完成后，你应该使用_deactivate_来关闭活动项目。"
   ]
  },
  {
   "cell_type": "code",
   "execution_count": null,
   "id": "063c19e1",
   "metadata": {
    "attributes": {
     "classes": [
      "sh"
     ],
     "id": ""
    }
   },
   "outputs": [],
   "source": [
    "(venv) asabeneh@Asabeneh:~/Desktop/30DaysOfPython$ deactivate"
   ]
  },
  {
   "cell_type": "markdown",
   "id": "88863b78",
   "metadata": {},
   "source": [
    "使用flask所需的模块已经安装好了。现在，你的项目目录已经准备好用于flask项目。你应该将venv包含在.gitignore文件中，以避免将其推送到GitHub。\n",
    "\n",
    "## 💻 练习：第23天\n",
    "\n",
    "1. 根据上面给出的示例创建一个带有虚拟环境的项目目录。\n",
    "\n",
    "🎉 恭喜！🎉\n",
    "\n",
    "[<< 第22天](./22_Day_Web_scraping/22_web_scraping_cn.md) | [第24天 >>](./24_Day_Statistics/24_statistics_cn.md)"
   ]
  }
 ],
 "metadata": {},
 "nbformat": 4,
 "nbformat_minor": 5
}
