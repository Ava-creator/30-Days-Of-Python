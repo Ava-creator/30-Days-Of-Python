{
 "cells": [
  {
   "cell_type": "markdown",
   "id": "4e89bca6",
   "metadata": {},
   "source": [
    "# 30天Python编程挑战：第19天 - 文件处理\n",
    "\n",
    "- [第19天](#-第19天)\n",
    "  - [文件处理](#文件处理)\n",
    "    - [打开文件进行读取](#打开文件进行读取)\n",
    "    - [打开文件进行写入和更新](#打开文件进行写入和更新)\n",
    "    - [删除文件](#删除文件)\n",
    "  - [文件类型](#文件类型)\n",
    "    - [带有txt扩展名的文件](#带有txt扩展名的文件)\n",
    "    - [带有json扩展名的文件](#带有json扩展名的文件)\n",
    "    - [将JSON转换为字典](#将json转换为字典)\n",
    "    - [将字典转换为JSON](#将字典转换为json)\n",
    "    - [保存为JSON文件](#保存为json文件)\n",
    "    - [带有csv扩展名的文件](#带有csv扩展名的文件)\n",
    "    - [带有xlsx扩展名的文件](#带有xlsx扩展名的文件)\n",
    "    - [带有xml扩展名的文件](#带有xml扩展名的文件)\n",
    "  - [💻 练习：第19天](#-练习第19天)\n",
    "    - [练习：级别1](#练习级别1)\n",
    "    - [练习：级别2](#练习级别2)\n",
    "    - [练习：级别3](#练习级别3)\n",
    "\n",
    "# 📘 第19天\n",
    "\n",
    "## 文件处理\n",
    "\n",
    "到目前为止，我们已经了解了不同的Python数据类型。我们通常在不同的文件格式中存储数据。除了处理文件外，在本节中我们还将看到不同的文件格式（.txt、.json、.xml、.csv、.tsv、.excel）。首先，让我们熟悉使用常见文件格式（.txt）处理文件。\n",
    "\n",
    "文件处理是编程的重要部分，它允许我们创建、读取、更新和删除文件。在Python中，处理数据我们使用内置函数 _open()_。"
   ]
  },
  {
   "cell_type": "code",
   "execution_count": null,
   "id": "bfd676b0",
   "metadata": {
    "attributes": {
     "classes": [
      "py"
     ],
     "id": ""
    }
   },
   "outputs": [],
   "source": [
    "# 语法\n",
    "open('filename', mode) # mode(r, a, w, x, t, b) 可以是读取、写入、更新"
   ]
  },
  {
   "cell_type": "markdown",
   "id": "40292852",
   "metadata": {},
   "source": [
    "- \"r\" - 读取 - 默认值。打开文件进行读取，如果文件不存在则返回错误\n",
    "- \"a\" - 追加 - 打开文件进行追加，如果文件不存在则创建文件\n",
    "- \"w\" - 写入 - 打开文件进行写入，如果文件不存在则创建文件\n",
    "- \"x\" - 创建 - 创建指定的文件，如果文件已存在则返回错误\n",
    "- \"t\" - 文本 - 默认值。文本模式\n",
    "- \"b\" - 二进制 - 二进制模式（例如图像）\n",
    "\n",
    "### 打开文件进行读取\n",
    "\n",
    "_open_ 的默认模式是读取，因此我们不必指定'r'或'rt'。我已经在files目录中创建并保存了一个名为reading_file_example.txt的文件。让我们看看它是如何完成的："
   ]
  },
  {
   "cell_type": "code",
   "execution_count": null,
   "id": "e7fe2a3c",
   "metadata": {
    "attributes": {
     "classes": [
      "py"
     ],
     "id": ""
    }
   },
   "outputs": [],
   "source": [
    "f = open('./files/reading_file_example.txt')\n",
    "print(f) # <_io.TextIOWrapper name='./files/reading_file_example.txt' mode='r' encoding='UTF-8'>"
   ]
  },
  {
   "cell_type": "markdown",
   "id": "b0a7fb84",
   "metadata": {},
   "source": [
    "如上例所示，我打印了打开的文件，它提供了一些关于文件的信息。已打开的文件有不同的读取方法：_read()_、_readline_、_readlines_。打开的文件必须用 _close()_ 方法关闭。\n",
    "\n",
    "- _read()_：将整个文本作为字符串读取。如果我们想限制想要读取的字符数，可以通过向 *read(number)* 方法传递int值来限制。"
   ]
  },
  {
   "cell_type": "code",
   "execution_count": null,
   "id": "5cbb383a",
   "metadata": {
    "attributes": {
     "classes": [
      "py"
     ],
     "id": ""
    }
   },
   "outputs": [],
   "source": [
    "f = open('./files/reading_file_example.txt')\n",
    "txt = f.read()\n",
    "print(type(txt))\n",
    "print(txt)\n",
    "f.close()"
   ]
  },
  {
   "cell_type": "code",
   "execution_count": null,
   "id": "0115337e",
   "metadata": {
    "attributes": {
     "classes": [
      "sh"
     ],
     "id": ""
    }
   },
   "outputs": [],
   "source": [
    "# 输出\n",
    "<class 'str'>\n",
    "This is an example to show how to open a file and read.\n",
    "This is the second line of the text."
   ]
  },
  {
   "cell_type": "markdown",
   "id": "e181ae4c",
   "metadata": {},
   "source": [
    "与其打印所有文本，不如打印文本文件的前10个字符。"
   ]
  },
  {
   "cell_type": "code",
   "execution_count": null,
   "id": "fdf27096",
   "metadata": {
    "attributes": {
     "classes": [
      "py"
     ],
     "id": ""
    }
   },
   "outputs": [],
   "source": [
    "f = open('./files/reading_file_example.txt')\n",
    "txt = f.read(10)\n",
    "print(type(txt))\n",
    "print(txt)\n",
    "f.close()"
   ]
  },
  {
   "cell_type": "code",
   "execution_count": null,
   "id": "cd6147f5",
   "metadata": {
    "attributes": {
     "classes": [
      "sh"
     ],
     "id": ""
    }
   },
   "outputs": [],
   "source": [
    "# 输出\n",
    "<class 'str'>\n",
    "This is an"
   ]
  },
  {
   "cell_type": "markdown",
   "id": "ece3a379",
   "metadata": {},
   "source": [
    "- _readline()_：只读取第一行"
   ]
  },
  {
   "cell_type": "code",
   "execution_count": null,
   "id": "d3935bab",
   "metadata": {
    "attributes": {
     "classes": [
      "py"
     ],
     "id": ""
    }
   },
   "outputs": [],
   "source": [
    "f = open('./files/reading_file_example.txt')\n",
    "line = f.readline()\n",
    "print(type(line))\n",
    "print(line)\n",
    "f.close()"
   ]
  },
  {
   "cell_type": "code",
   "execution_count": null,
   "id": "db968fe0",
   "metadata": {
    "attributes": {
     "classes": [
      "sh"
     ],
     "id": ""
    }
   },
   "outputs": [],
   "source": [
    "# 输出\n",
    "<class 'str'>\n",
    "This is an example to show how to open a file and read."
   ]
  },
  {
   "cell_type": "markdown",
   "id": "33e7cb61",
   "metadata": {},
   "source": [
    "- _readlines()_：逐行读取所有文本，并返回一个行列表"
   ]
  },
  {
   "cell_type": "code",
   "execution_count": null,
   "id": "4a1670c9",
   "metadata": {
    "attributes": {
     "classes": [
      "py"
     ],
     "id": ""
    }
   },
   "outputs": [],
   "source": [
    "f = open('./files/reading_file_example.txt')\n",
    "lines = f.readlines()\n",
    "print(type(lines))\n",
    "print(lines)\n",
    "f.close()"
   ]
  },
  {
   "cell_type": "code",
   "execution_count": null,
   "id": "13693eb5",
   "metadata": {
    "attributes": {
     "classes": [
      "sh"
     ],
     "id": ""
    }
   },
   "outputs": [],
   "source": [
    "# 输出\n",
    "<class 'list'>\n",
    "['This is an example to show how to open a file and read.\\n', 'This is the second line of the text.']"
   ]
  },
  {
   "cell_type": "markdown",
   "id": "d729a7b2",
   "metadata": {},
   "source": [
    "获取所有行作为列表的另一种方法是使用 _splitlines()_："
   ]
  },
  {
   "cell_type": "code",
   "execution_count": null,
   "id": "237a31b3",
   "metadata": {
    "attributes": {
     "classes": [
      "py"
     ],
     "id": ""
    }
   },
   "outputs": [],
   "source": [
    "f = open('./files/reading_file_example.txt')\n",
    "lines = f.read().splitlines()\n",
    "print(type(lines))\n",
    "print(lines)\n",
    "f.close()"
   ]
  },
  {
   "cell_type": "code",
   "execution_count": null,
   "id": "292433cc",
   "metadata": {
    "attributes": {
     "classes": [
      "sh"
     ],
     "id": ""
    }
   },
   "outputs": [],
   "source": [
    "# 输出\n",
    "<class 'list'>\n",
    "['This is an example to show how to open a file and read.', 'This is the second line of the text.']"
   ]
  },
  {
   "cell_type": "markdown",
   "id": "397ff610",
   "metadata": {},
   "source": [
    "在打开文件后，我们应该关闭它。我们很容易忘记关闭它们。有一种使用 _with_ 打开文件的新方法——它会自动关闭文件。让我们用 _with_ 方法重写前面的例子："
   ]
  },
  {
   "cell_type": "code",
   "execution_count": null,
   "id": "93f48d19",
   "metadata": {
    "attributes": {
     "classes": [
      "py"
     ],
     "id": ""
    }
   },
   "outputs": [],
   "source": [
    "with open('./files/reading_file_example.txt') as f:\n",
    "    lines = f.read().splitlines()\n",
    "    print(type(lines))\n",
    "    print(lines)"
   ]
  },
  {
   "cell_type": "code",
   "execution_count": null,
   "id": "b900f9ef",
   "metadata": {
    "attributes": {
     "classes": [
      "sh"
     ],
     "id": ""
    }
   },
   "outputs": [],
   "source": [
    "# 输出\n",
    "<class 'list'>\n",
    "['This is an example to show how to open a file and read.', 'This is the second line of the text.']"
   ]
  },
  {
   "cell_type": "markdown",
   "id": "4744850c",
   "metadata": {},
   "source": [
    "### 打开文件进行写入和更新\n",
    "\n",
    "要写入现有文件，我们必须向 _open()_ 函数添加模式作为参数：\n",
    "\n",
    "- \"a\" - 追加 - 将在文件末尾追加，如果文件不存在则创建一个新文件。\n",
    "- \"w\" - 写入 - 将覆盖任何现有内容，如果文件不存在则创建。\n",
    "\n",
    "让我们在我们一直在读取的文件中追加一些文本："
   ]
  },
  {
   "cell_type": "code",
   "execution_count": null,
   "id": "9d1c7e2a",
   "metadata": {
    "attributes": {
     "classes": [
      "py"
     ],
     "id": ""
    }
   },
   "outputs": [],
   "source": [
    "with open('./files/reading_file_example.txt','a') as f:\n",
    "    f.write('此文本必须附加在末尾')"
   ]
  },
  {
   "cell_type": "markdown",
   "id": "f64bf6db",
   "metadata": {},
   "source": [
    "如果文件不存在，以下方法将创建一个新文件："
   ]
  },
  {
   "cell_type": "code",
   "execution_count": null,
   "id": "462442bc",
   "metadata": {
    "attributes": {
     "classes": [
      "py"
     ],
     "id": ""
    }
   },
   "outputs": [],
   "source": [
    "with open('./files/writing_file_example.txt','w') as f:\n",
    "    f.write('这段文本将被写入新创建的文件中')"
   ]
  },
  {
   "cell_type": "markdown",
   "id": "01439d6a",
   "metadata": {},
   "source": [
    "### 删除文件\n",
    "\n",
    "我们在前面的部分中已经看到，如何使用 _os_ 模块创建和删除目录。现在，如果我们想删除一个文件，我们也使用 _os_ 模块。"
   ]
  },
  {
   "cell_type": "code",
   "execution_count": null,
   "id": "f5ee36fd",
   "metadata": {
    "attributes": {
     "classes": [
      "py"
     ],
     "id": ""
    }
   },
   "outputs": [],
   "source": [
    "import os\n",
    "os.remove('./files/example.txt')\n"
   ]
  },
  {
   "cell_type": "markdown",
   "id": "5d21fc3e",
   "metadata": {},
   "source": [
    "如果文件不存在，remove方法将引发错误，因此最好使用条件语句："
   ]
  },
  {
   "cell_type": "code",
   "execution_count": null,
   "id": "be25c171",
   "metadata": {
    "attributes": {
     "classes": [
      "py"
     ],
     "id": ""
    }
   },
   "outputs": [],
   "source": [
    "import os\n",
    "if os.path.exists('./files/example.txt'):\n",
    "    os.remove('./files/example.txt')\n",
    "else:\n",
    "    print('文件不存在')"
   ]
  },
  {
   "cell_type": "markdown",
   "id": "463455c0",
   "metadata": {},
   "source": [
    "## 文件类型\n",
    "\n",
    "### 带有txt扩展名的文件\n",
    "\n",
    "带有 _txt_ 扩展名的文件是一种非常常见的数据形式，我们已经在前面的部分中介绍了它。让我们转到JSON文件。\n",
    "\n",
    "### 带有json扩展名的文件\n",
    "\n",
    "JSON代表JavaScript对象表示法。实际上，它是一个字符串化的JavaScript对象或Python字典。\n",
    "\n",
    "_示例:_"
   ]
  },
  {
   "cell_type": "code",
   "execution_count": null,
   "id": "7fcaa393",
   "metadata": {
    "attributes": {
     "classes": [
      "py"
     ],
     "id": ""
    }
   },
   "outputs": [],
   "source": [
    "# 字典\n",
    "person_dct= {\n",
    "    \"name\":\"Asabeneh\",\n",
    "    \"country\":\"Finland\",\n",
    "    \"city\":\"Helsinki\",\n",
    "    \"skills\":[\"JavaScrip\", \"React\",\"Python\"]\n",
    "}\n",
    "# JSON: 字典的字符串形式\n",
    "person_json = \"{'name': 'Asabeneh', 'country': 'Finland', 'city': 'Helsinki', 'skills': ['JavaScrip', 'React', 'Python']}\"\n",
    "\n",
    "# 我们使用三个引号并使其多行以使其更具可读性\n",
    "person_json = '''{\n",
    "    \"name\":\"Asabeneh\",\n",
    "    \"country\":\"Finland\",\n",
    "    \"city\":\"Helsinki\",\n",
    "    \"skills\":[\"JavaScrip\", \"React\",\"Python\"]\n",
    "}'''"
   ]
  },
  {
   "cell_type": "markdown",
   "id": "e8c5ab99",
   "metadata": {},
   "source": [
    "### 将JSON转换为字典\n",
    "\n",
    "要将JSON更改为字典，首先我们导入json模块，然后使用 _loads_ 方法。"
   ]
  },
  {
   "cell_type": "code",
   "execution_count": null,
   "id": "e415b11a",
   "metadata": {
    "attributes": {
     "classes": [
      "py"
     ],
     "id": ""
    }
   },
   "outputs": [],
   "source": [
    "import json\n",
    "# JSON\n",
    "person_json = '''{\n",
    "    \"name\": \"Asabeneh\",\n",
    "    \"country\": \"Finland\",\n",
    "    \"city\": \"Helsinki\",\n",
    "    \"skills\": [\"JavaScrip\", \"React\", \"Python\"]\n",
    "}'''\n",
    "# 将JSON字符串更改为字典\n",
    "person_dct = json.loads(person_json)\n",
    "print(type(person_dct))\n",
    "print(person_dct)\n",
    "print(person_dct['name'])"
   ]
  },
  {
   "cell_type": "code",
   "execution_count": null,
   "id": "17179155",
   "metadata": {
    "attributes": {
     "classes": [
      "sh"
     ],
     "id": ""
    }
   },
   "outputs": [],
   "source": [
    "# 输出\n",
    "<class 'dict'>\n",
    "{'name': 'Asabeneh', 'country': 'Finland', 'city': 'Helsinki', 'skills': ['JavaScrip', 'React', 'Python']}\n",
    "Asabeneh"
   ]
  },
  {
   "cell_type": "markdown",
   "id": "dc89d08d",
   "metadata": {},
   "source": [
    "### 将字典转换为JSON\n",
    "\n",
    "要将字典更改为JSON，我们使用 _dumps_ 方法。"
   ]
  },
  {
   "cell_type": "code",
   "execution_count": null,
   "id": "a08892d8",
   "metadata": {
    "attributes": {
     "classes": [
      "py"
     ],
     "id": ""
    }
   },
   "outputs": [],
   "source": [
    "import json\n",
    "# python字典\n",
    "person = {\n",
    "    \"name\": \"Asabeneh\",\n",
    "    \"country\": \"Finland\",\n",
    "    \"city\": \"Helsinki\",\n",
    "    \"skills\": [\"JavaScrip\", \"React\", \"Python\"]\n",
    "}\n",
    "# 将字典转换为JSON字符串\n",
    "person_json = json.dumps(person, indent=4) # indent可以是2, 4, 8. 它漂亮地打印了。\n",
    "print(type(person_json))\n",
    "print(person_json)"
   ]
  },
  {
   "cell_type": "code",
   "execution_count": null,
   "id": "425221b2",
   "metadata": {
    "attributes": {
     "classes": [
      "sh"
     ],
     "id": ""
    }
   },
   "outputs": [],
   "source": [
    "# 输出\n",
    "<class 'str'>\n",
    "{\n",
    "    \"name\": \"Asabeneh\",\n",
    "    \"country\": \"Finland\",\n",
    "    \"city\": \"Helsinki\",\n",
    "    \"skills\": [\n",
    "        \"JavaScrip\",\n",
    "        \"React\",\n",
    "        \"Python\"\n",
    "    ]\n",
    "}"
   ]
  },
  {
   "cell_type": "markdown",
   "id": "a080c02c",
   "metadata": {},
   "source": [
    "### 保存为JSON文件\n",
    "\n",
    "我们也可以将我们的数据保存为JSON文件。让我们使用前面的示例保存："
   ]
  },
  {
   "cell_type": "code",
   "execution_count": null,
   "id": "4e1df94a",
   "metadata": {
    "attributes": {
     "classes": [
      "py"
     ],
     "id": ""
    }
   },
   "outputs": [],
   "source": [
    "import json\n",
    "# python字典\n",
    "person = {\n",
    "    \"name\": \"Asabeneh\",\n",
    "    \"country\": \"Finland\",\n",
    "    \"city\": \"Helsinki\",\n",
    "    \"skills\": [\"JavaScrip\", \"React\", \"Python\"]\n",
    "}\n",
    "with open('./files/json_example.json', 'w', encoding='utf-8') as f:\n",
    "    json.dump(person, f, ensure_ascii=False, indent=4)"
   ]
  },
  {
   "cell_type": "markdown",
   "id": "ac555f5f",
   "metadata": {},
   "source": [
    "在上面的代码中，我们使用了编码和确保_ascii参数。这些参数是为了保存非ASCII字符，如果我们想保存非英语字符。下面是一个包含非ASCII字符的示例："
   ]
  },
  {
   "cell_type": "code",
   "execution_count": null,
   "id": "eb6882ec",
   "metadata": {
    "attributes": {
     "classes": [
      "py"
     ],
     "id": ""
    }
   },
   "outputs": [],
   "source": [
    "import json\n",
    "# python字典\n",
    "person = {\n",
    "    \"name\": \"张三\",\n",
    "    \"country\": \"中国\",\n",
    "    \"city\": \"北京\",\n",
    "    \"skills\": [\"JavaScript\", \"React\", \"Python\"]\n",
    "}\n",
    "with open('./files/json_example.json', 'w', encoding='utf-8') as f:\n",
    "    json.dump(person, f, ensure_ascii=False, indent=4)"
   ]
  },
  {
   "cell_type": "markdown",
   "id": "afdadb18",
   "metadata": {},
   "source": [
    "现在，让我们读取我们刚刚创建的json文件："
   ]
  },
  {
   "cell_type": "code",
   "execution_count": null,
   "id": "1b497194",
   "metadata": {
    "attributes": {
     "classes": [
      "py"
     ],
     "id": ""
    }
   },
   "outputs": [],
   "source": [
    "import json\n",
    "with open('./files/json_example.json', 'r', encoding='utf-8') as f:\n",
    "    person = json.load(f)\n",
    "    print(person)"
   ]
  },
  {
   "cell_type": "code",
   "execution_count": null,
   "id": "e9941d8f",
   "metadata": {
    "attributes": {
     "classes": [
      "sh"
     ],
     "id": ""
    }
   },
   "outputs": [],
   "source": [
    "# 输出\n",
    "{'name': '张三', 'country': '中国', 'city': '北京', 'skills': ['JavaScript', 'React', 'Python']}"
   ]
  },
  {
   "cell_type": "markdown",
   "id": "1c6dae57",
   "metadata": {},
   "source": [
    "### 带有csv扩展名的文件\n",
    "\n",
    "CSV代表逗号分隔值。CSV是一种简单的文件格式，用于存储表格数据，如电子表格或数据库。CSV是数据科学中非常常见的数据格式。\n",
    "\n",
    "**示例：**"
   ]
  },
  {
   "cell_type": "code",
   "execution_count": null,
   "id": "67ca5beb",
   "metadata": {
    "attributes": {
     "classes": [
      "csv"
     ],
     "id": ""
    }
   },
   "outputs": [],
   "source": [
    "\"name\",\"country\",\"city\",\"skills\"\n",
    "\"Asabeneh\",\"Finland\",\"Helsinki\",\"JavaScript\""
   ]
  },
  {
   "cell_type": "markdown",
   "id": "cbc5a338",
   "metadata": {},
   "source": [
    "**示例：**"
   ]
  },
  {
   "cell_type": "code",
   "execution_count": null,
   "id": "0cbd1469",
   "metadata": {
    "attributes": {
     "classes": [
      "py"
     ],
     "id": ""
    }
   },
   "outputs": [],
   "source": [
    "import csv\n",
    "with open('./files/csv_example.csv') as f:\n",
    "    csv_reader = csv.reader(f, delimiter=',') # w+ 创建文件（如果不存在）\n",
    "    line_count = 0\n",
    "    for row in csv_reader:\n",
    "        if line_count == 0:\n",
    "            print(f'列名为: {\", \".join(row)}')\n",
    "            line_count += 1\n",
    "        else:\n",
    "            print(f'{row[0]}来自{row[1]}的{row[2]}。 他了解{row[3]}')\n",
    "            line_count += 1\n",
    "    print(f'已处理{line_count}行。')"
   ]
  },
  {
   "cell_type": "code",
   "execution_count": null,
   "id": "86d680a2",
   "metadata": {
    "attributes": {
     "classes": [
      "sh"
     ],
     "id": ""
    }
   },
   "outputs": [],
   "source": [
    "# 输出:\n",
    "列名为: name, country, city, skills\n",
    "Asabeneh来自Finland的Helsinki。 他了解JavaScript\n",
    "已处理2行。"
   ]
  },
  {
   "cell_type": "markdown",
   "id": "40079712",
   "metadata": {},
   "source": [
    "我们还可以使用相同的方法将数据写入csv文件"
   ]
  },
  {
   "cell_type": "code",
   "execution_count": null,
   "id": "6429d1f3",
   "metadata": {
    "attributes": {
     "classes": [
      "py"
     ],
     "id": ""
    }
   },
   "outputs": [],
   "source": [
    "import csv\n",
    "with open('./files/csv_example.csv', 'w', encoding='UTF8', newline='') as f:\n",
    "    writer = csv.writer(f)\n",
    "    # 写入列名\n",
    "    writer.writerow(['name', 'country', 'city', 'skills'])\n",
    "    # 写入数据\n",
    "    writer.writerow(['Asabeneh', 'Finland', 'Helsinki', 'JavaScript'])"
   ]
  },
  {
   "cell_type": "markdown",
   "id": "c2f40bf3",
   "metadata": {},
   "source": [
    "### 带有xlsx扩展名的文件\n",
    "\n",
    "要读取Excel文件，我们需要安装xlrd包。我们将使用它来读取Excel文件。"
   ]
  },
  {
   "cell_type": "code",
   "execution_count": null,
   "id": "40e94fd7",
   "metadata": {
    "attributes": {
     "classes": [
      "py"
     ],
     "id": ""
    }
   },
   "outputs": [],
   "source": [
    "import xlrd\n",
    "excel_book = xlrd.open_workbook('sample.xls')\n",
    "print(excel_book.nsheets)\n",
    "print(excel_book.sheet_names)"
   ]
  },
  {
   "cell_type": "markdown",
   "id": "0d812d12",
   "metadata": {},
   "source": [
    "### 带有xml扩展名的文件\n",
    "\n",
    "XML是一种元标记语言，非常类似于HTML。在XML中，我们可以使用自己的标签，从而使其更加灵活。我们使用XML主要是为了结构化数据。在Python中有少量的XML库。在本部分中，我们将使用xml.etree.ElementTree模块。\n",
    "\n",
    "**示例：XML**"
   ]
  },
  {
   "cell_type": "code",
   "execution_count": null,
   "id": "9464cb5d",
   "metadata": {
    "attributes": {
     "classes": [
      "xml"
     ],
     "id": ""
    }
   },
   "outputs": [],
   "source": [
    "<?xml version=\"1.0\"?>\n",
    "<person gender=\"female\">\n",
    "  <name>Asabeneh</name>\n",
    "  <country>Finland</country>\n",
    "  <city>Helsinki</city>\n",
    "  <skills>\n",
    "    <skill>JavaScript</skill>\n",
    "    <skill>React</skill>\n",
    "    <skill>Python</skill>\n",
    "  </skills>\n",
    "</person>"
   ]
  },
  {
   "cell_type": "markdown",
   "id": "1db471e4",
   "metadata": {},
   "source": [
    "我们将使用xml.etree.ElementTree模块来解析XML文件。"
   ]
  },
  {
   "cell_type": "code",
   "execution_count": null,
   "id": "8535afcd",
   "metadata": {
    "attributes": {
     "classes": [
      "py"
     ],
     "id": ""
    }
   },
   "outputs": [],
   "source": [
    "import xml.etree.ElementTree as ET\n",
    "tree = ET.parse('./files/xml_example.xml')\n",
    "root = tree.getroot()\n",
    "print('Root tag:', root.tag)\n",
    "print('Attribute:', root.attrib)\n",
    "for child in root:\n",
    "    print('字段: ', child.tag)"
   ]
  },
  {
   "cell_type": "code",
   "execution_count": null,
   "id": "b0c7c88e",
   "metadata": {
    "attributes": {
     "classes": [
      "sh"
     ],
     "id": ""
    }
   },
   "outputs": [],
   "source": [
    "# 输出\n",
    "Root tag: person\n",
    "Attribute: {'gender': 'female'}\n",
    "字段:  name\n",
    "字段:  country\n",
    "字段:  city\n",
    "字段:  skills"
   ]
  },
  {
   "cell_type": "code",
   "execution_count": null,
   "id": "ccbf6504",
   "metadata": {
    "attributes": {
     "classes": [
      "py"
     ],
     "id": ""
    }
   },
   "outputs": [],
   "source": [
    "import xml.etree.ElementTree as ET\n",
    "tree = ET.parse('./files/xml_example.xml')\n",
    "root = tree.getroot()\n",
    "print('Root tag:', root.tag)\n",
    "print('Attribute:', root.attrib)\n",
    "for child in root:\n",
    "    print('字段: ', child.tag)"
   ]
  },
  {
   "cell_type": "code",
   "execution_count": null,
   "id": "079ef9c9",
   "metadata": {
    "attributes": {
     "classes": [
      "sh"
     ],
     "id": ""
    }
   },
   "outputs": [],
   "source": [
    "# 输出\n",
    "Root tag: person\n",
    "Attribute: {'gender': 'female'}\n",
    "字段:  name\n",
    "字段:  country\n",
    "字段:  city\n",
    "字段:  skills"
   ]
  },
  {
   "cell_type": "markdown",
   "id": "6acb3916",
   "metadata": {},
   "source": [
    "让我们获取更多细节："
   ]
  },
  {
   "cell_type": "code",
   "execution_count": null,
   "id": "d2fc1141",
   "metadata": {
    "attributes": {
     "classes": [
      "py"
     ],
     "id": ""
    }
   },
   "outputs": [],
   "source": [
    "import xml.etree.ElementTree as ET\n",
    "tree = ET.parse('./files/xml_example.xml')\n",
    "root = tree.getroot()\n",
    "print('Root tag:', root.tag)\n",
    "print('Attribute:', root.attrib)\n",
    "for child in root:\n",
    "    print('field: ', child.tag)\n",
    "    if child.tag != 'skills':\n",
    "        print(child.text)\n",
    "    else:\n",
    "        for skill in child:\n",
    "            print(skill.text)"
   ]
  },
  {
   "cell_type": "code",
   "execution_count": null,
   "id": "dc0abbb3",
   "metadata": {
    "attributes": {
     "classes": [
      "sh"
     ],
     "id": ""
    }
   },
   "outputs": [],
   "source": [
    "# 输出\n",
    "Root tag: person\n",
    "Attribute: {'gender': 'female'}\n",
    "field:  name\n",
    "Asabeneh\n",
    "field:  country\n",
    "Finland\n",
    "field:  city\n",
    "Helsinki\n",
    "field:  skills\n",
    "JavaScript\n",
    "React\n",
    "Python"
   ]
  },
  {
   "cell_type": "markdown",
   "id": "8daf295c",
   "metadata": {},
   "source": [
    "## 💻 练习：第19天\n",
    "\n",
    "### 练习：级别1\n",
    "\n",
    "1. 编写一个函数，该函数需要一个参数（文件名）并统计文件中单词的数量\n",
    "2. 阅读obama_speech.txt文件并计算单词数\n",
    "3. 阅读michelle_obama_speech.txt文件并计算单词数\n",
    "4. 阅读donald_speech.txt文件并计算单词数\n",
    "5. 阅读melina_trump_speech.txt文件并计算单词数\n",
    "\n",
    "### 练习：级别2\n",
    "\n",
    "1. 从编程语言中提取所有Python目录文件：\n",
    "   a) 处理30DaysOfPython文件夹，提取出所有python文件，并将它们的名称存储在files_list.txt文件中\n",
    "   b) 创建一个名为find_python.py的脚本，可以通过命令行运行它\n",
    "   c) 添加一个名为--version的标志来处理命令行参数\n",
    "\n",
    "### 练习：级别3\n",
    "\n",
    "1. 使用以下数据集创建一个JSON文件：\n",
    "    ```py\n",
    "    python_libraries = [\n",
    "    {\n",
    "        \"库名称\": \"Django\",\n",
    "        \"创建者\": \"Adrian Holovaty\",\n",
    "        \"首次发布年份\": 2005,\n",
    "        \"版本\": \"4.0.2\",\n",
    "        \"用途\": \"Web开发\",\n",
    "        \"描述\": \"Django让您可以快速构建更好的Web应用程序。\"\n",
    "    },\n",
    "    {\n",
    "        \"库名称\": \"Flask\",\n",
    "        \"创建者\": \"Armin Ronacher\",\n",
    "        \"首次发布年份\": 2010,\n",
    "        \"版本\": \"2.0.2\",\n",
    "        \"用途\": \"Web开发\",\n",
    "        \"描述\": \"Flask是一个轻量级的WSGI Web应用程序框架。\"\n",
    "    },\n",
    "    {\n",
    "        \"库名称\": \"NumPy\",\n",
    "        \"创建者\": \"Travis Oliphant\",\n",
    "        \"首次发布年份\": 2005,\n",
    "        \"版本\": \"1.22.0\",\n",
    "        \"用途\": \"科学计算\",\n",
    "        \"描述\": \"NumPy是Python中用于科学计算的基础包。\"\n",
    "    },\n",
    "    {\n",
    "        \"库名称\": \"Pandas\",\n",
    "        \"创建者\": \"Wes McKinney\",\n",
    "        \"首次发布年份\": 2008,\n",
    "        \"版本\": \"1.4.0\",\n",
    "        \"用途\": \"数据分析\",\n",
    "        \"描述\": \"pandas是一个用于数据分析和数据操作的开源库。\"\n",
    "    },\n",
    "    {\n",
    "        \"库名称\": \"Matplotlib\",\n",
    "        \"创建者\": \"John D. Hunter\",\n",
    "        \"首次发布年份\": 2003,\n",
    "        \"版本\": \"3.5.1\",\n",
    "        \"用途\": \"数据可视化\",\n",
    "        \"描述\": \"Matplotlib是一个用于在Python中创建静态、动画和交互式可视化的库。\"\n",
    "    }\n",
    "    ]\n",
    "    ```\n",
    "\n",
    "🎉 恭喜！🎉\n",
    "\n",
    "[<< 第18天](./18_Day_Regular_expressions/18_regular_expressions_cn.md) | [第20天 >>](./20_Day_Python_package_manager/20_python_package_manager_cn.md)"
   ]
  }
 ],
 "metadata": {},
 "nbformat": 4,
 "nbformat_minor": 5
}
