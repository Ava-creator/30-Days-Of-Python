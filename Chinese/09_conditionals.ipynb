{
 "cells": [
  {
   "cell_type": "markdown",
   "id": "c2577fe6",
   "metadata": {},
   "source": [
    "<div align=\"center\">\n",
    "  <h1> 30天Python学习：第9天 - 条件语句</h1>\n",
    "  <a class=\"header-badge\" target=\"_blank\" href=\"https://www.linkedin.com/in/asabeneh/\">\n",
    "  <img src=\"https://img.shields.io/badge/style--5eba00.svg?label=LinkedIn&logo=linkedin&style=social\">\n",
    "  </a>\n",
    "  <a class=\"header-badge\" target=\"_blank\" href=\"https://twitter.com/Asabeneh\">\n",
    "  <img alt=\"Twitter Follow\" src=\"https://img.shields.io/twitter/follow/asabeneh?style=social\">\n",
    "  </a>\n",
    "\n",
    "<sub>作者：\n",
    "<a href=\"https://www.linkedin.com/in/asabeneh/\" target=\"_blank\">Oludayo adeoye</a><br>\n",
    "<small>第二版：2021 年 7 月</small>\n",
    "</sub>\n",
    "\n",
    "</div>\n",
    "\n",
    "[<< 第 8 天](../08_Day_Dictionaries/08_dictionaries.md) | [第 10 天 >>](../10_Day_Loops/10_loops.md)\n",
    "\n",
    "![30DaysOfPython](../images/30DaysOfPython_banner3@2x.png)\n",
    "\n",
    "- [📘 第 9 天](#-第9天)\n",
    "  - [条件语句](#条件语句)\n",
    "    - [If 条件](#if条件)\n",
    "    - [If Else](#if-else)\n",
    "    - [If Elif Else](#if-elif-else)\n",
    "    - [简写](#简写)\n",
    "    - [嵌套条件](#嵌套条件)\n",
    "    - [If 条件和逻辑运算符](#if条件和逻辑运算符)\n",
    "    - [If 和 Or 逻辑运算符](#if和or逻辑运算符)\n",
    "  - [💻 练习：第 9 天](#-练习第9天)\n",
    "    - [练习：第一层级](#练习第一层级)\n",
    "\n",
    "# 📘 第 9 天\n",
    "\n",
    "## 条件语句\n",
    "\n",
    "默认情况下，Python 脚本中的语句是从上到下顺序执行的。如果处理逻辑需要，可以通过两种方式来改变顺序：\n",
    "\n",
    "- 条件执行：如果某个表达式为真，则执行一个或多个语句块\n",
    "- 重复执行：只要某个表达式为真，则重复执行一个或多个语句块。在本节中，我们将讨论*if*，_else_，*elif*语句。前面章节中学到的比较运算符和逻辑运算符在这里将派上用场。\n",
    "\n",
    "### If 条件\n",
    "\n",
    "在 Python 和其他编程语言中，关键字*if*用于检查条件是否为真并执行代码块。请记住冒号后的缩进。"
   ]
  },
  {
   "cell_type": "code",
   "execution_count": null,
   "id": "72084103",
   "metadata": {
    "attributes": {
     "classes": [
      "py"
     ],
     "id": ""
    }
   },
   "outputs": [],
   "source": [
    "# 语法\n",
    "if condition:\n",
    "    如果条件为真，则运行此部分代码"
   ]
  },
  {
   "cell_type": "markdown",
   "id": "23e353f6",
   "metadata": {},
   "source": [
    "**示例：1**"
   ]
  },
  {
   "cell_type": "code",
   "execution_count": null,
   "id": "82217718",
   "metadata": {
    "attributes": {
     "classes": [
      "py"
     ],
     "id": ""
    }
   },
   "outputs": [],
   "source": [
    "a = 3\n",
    "if a > 0:\n",
    "    print('A是一个正数')\n",
    "# A是一个正数"
   ]
  },
  {
   "cell_type": "markdown",
   "id": "90143ae8",
   "metadata": {},
   "source": [
    "如上例所示，3 大于 0。条件为真，执行代码块。然而，如果条件为假，我们不会看到结果。为了看到假条件的结果，我们应有另一个代码块，即*else*。\n",
    "\n",
    "### If Else\n",
    "\n",
    "如果条件为真，则执行第一个代码块，否则执行*else*条件。"
   ]
  },
  {
   "cell_type": "code",
   "execution_count": null,
   "id": "2768a962",
   "metadata": {
    "attributes": {
     "classes": [
      "py"
     ],
     "id": ""
    }
   },
   "outputs": [],
   "source": [
    "# 语法\n",
    "if condition:\n",
    "    如果条件为真，则运行此部分代码\n",
    "else:\n",
    "    如果条件为假，则运行此部分代码"
   ]
  },
  {
   "cell_type": "markdown",
   "id": "1368cc94",
   "metadata": {},
   "source": [
    "**示例：**"
   ]
  },
  {
   "cell_type": "code",
   "execution_count": null,
   "id": "627f5ca3",
   "metadata": {
    "attributes": {
     "classes": [
      "py"
     ],
     "id": ""
    }
   },
   "outputs": [],
   "source": [
    "a = 3\n",
    "if a < 0:\n",
    "    print('A是一个负数')\n",
    "else:\n",
    "    print('A是一个正数')"
   ]
  },
  {
   "cell_type": "markdown",
   "id": "29397b24",
   "metadata": {},
   "source": [
    "上面的条件为假，因此执行*else*代码块。如果我们的条件超过两个呢？我们可以使用*elif*。\n",
    "\n",
    "### If Elif Else\n",
    "\n",
    "在我们的日常生活中，我们每天都在做决策。我们做出决策不仅仅是检查一个或两个条件，而是多个条件。与生活相似，编程中也充满了条件。当我们有多个条件时，可以使用*elif*。"
   ]
  },
  {
   "cell_type": "code",
   "execution_count": null,
   "id": "0d93ef88",
   "metadata": {
    "attributes": {
     "classes": [
      "py"
     ],
     "id": ""
    }
   },
   "outputs": [],
   "source": [
    "# 语法\n",
    "if condition:\n",
    "    代码\n",
    "elif condition:\n",
    "    代码\n",
    "else:\n",
    "    代码\n"
   ]
  },
  {
   "cell_type": "markdown",
   "id": "4624da3b",
   "metadata": {},
   "source": [
    "**示例：**"
   ]
  },
  {
   "cell_type": "code",
   "execution_count": null,
   "id": "d9e67e3a",
   "metadata": {
    "attributes": {
     "classes": [
      "py"
     ],
     "id": ""
    }
   },
   "outputs": [],
   "source": [
    "a = 0\n",
    "if a > 0:\n",
    "    print('A是一个正数')\n",
    "elif a < 0:\n",
    "    print('A是一个负数')\n",
    "else:\n",
    "    print('A是零')"
   ]
  },
  {
   "cell_type": "markdown",
   "id": "96a374c2",
   "metadata": {},
   "source": [
    "### 简写"
   ]
  },
  {
   "cell_type": "code",
   "execution_count": null,
   "id": "66198f9c",
   "metadata": {
    "attributes": {
     "classes": [
      "py"
     ],
     "id": ""
    }
   },
   "outputs": [],
   "source": [
    "# 语法\n",
    "代码 if 条件 else 代码"
   ]
  },
  {
   "cell_type": "markdown",
   "id": "0232326f",
   "metadata": {},
   "source": [
    "**示例：**"
   ]
  },
  {
   "cell_type": "code",
   "execution_count": null,
   "id": "df360830",
   "metadata": {
    "attributes": {
     "classes": [
      "py"
     ],
     "id": ""
    }
   },
   "outputs": [],
   "source": [
    "a = 3\n",
    "print('A是正数') if a > 0 else print('A是负数') # 满足第一个条件，将打印 'A是正数'"
   ]
  },
  {
   "cell_type": "markdown",
   "id": "bb320dce",
   "metadata": {},
   "source": [
    "### 嵌套条件\n",
    "\n",
    "条件可以嵌套"
   ]
  },
  {
   "cell_type": "code",
   "execution_count": null,
   "id": "5ede51be",
   "metadata": {
    "attributes": {
     "classes": [
      "py"
     ],
     "id": ""
    }
   },
   "outputs": [],
   "source": [
    "# 语法\n",
    "if 条件:\n",
    "    代码\n",
    "    if 条件:\n",
    "        代码"
   ]
  },
  {
   "cell_type": "markdown",
   "id": "863319be",
   "metadata": {},
   "source": [
    "**示例：**"
   ]
  },
  {
   "cell_type": "code",
   "execution_count": null,
   "id": "51cbed2e",
   "metadata": {
    "attributes": {
     "classes": [
      "py"
     ],
     "id": ""
    }
   },
   "outputs": [],
   "source": [
    "a = 0\n",
    "if a > 0:\n",
    "    if a % 2 == 0:\n",
    "        print('A是一个正数且为偶数')\n",
    "    else:\n",
    "        print('A是一个正数')\n",
    "elif a == 0:\n",
    "    print('A是零')\n",
    "else:\n",
    "    print('A是一个负数')"
   ]
  },
  {
   "cell_type": "markdown",
   "id": "0e274664",
   "metadata": {},
   "source": [
    "我们可以使用逻辑运算符*and*来避免编写嵌套条件。\n",
    "\n",
    "### If 条件和逻辑运算符"
   ]
  },
  {
   "cell_type": "code",
   "execution_count": null,
   "id": "8ab03cbc",
   "metadata": {
    "attributes": {
     "classes": [
      "py"
     ],
     "id": ""
    }
   },
   "outputs": [],
   "source": [
    "# 语法\n",
    "if 条件 and 条件:\n",
    "    代码"
   ]
  },
  {
   "cell_type": "markdown",
   "id": "49d2468c",
   "metadata": {},
   "source": [
    "**示例：**"
   ]
  },
  {
   "cell_type": "code",
   "execution_count": null,
   "id": "ecaef52c",
   "metadata": {
    "attributes": {
     "classes": [
      "py"
     ],
     "id": ""
    }
   },
   "outputs": [],
   "source": [
    "a = 0\n",
    "if a > 0 and a % 2 == 0:\n",
    "    print('A是一个正数且为偶数')\n",
    "elif a > 0 and a % 2 !=  0:\n",
    "    print('A是一个正数')\n",
    "elif a == 0:\n",
    "    print('A是零')\n",
    "else:\n",
    "    print('A是一个负数')"
   ]
  },
  {
   "cell_type": "markdown",
   "id": "cdd208be",
   "metadata": {},
   "source": [
    "### If 和 Or 逻辑运算符"
   ]
  },
  {
   "cell_type": "code",
   "execution_count": null,
   "id": "b393541b",
   "metadata": {
    "attributes": {
     "classes": [
      "py"
     ],
     "id": ""
    }
   },
   "outputs": [],
   "source": [
    "# 语法\n",
    "if 条件 or 条件:\n",
    "    代码"
   ]
  },
  {
   "cell_type": "markdown",
   "id": "cfa73905",
   "metadata": {},
   "source": [
    "**示例：**"
   ]
  },
  {
   "cell_type": "code",
   "execution_count": null,
   "id": "cfce7513",
   "metadata": {
    "attributes": {
     "classes": [
      "py"
     ],
     "id": ""
    }
   },
   "outputs": [],
   "source": [
    "user = 'James'\n",
    "access_level = 3\n",
    "if user == 'admin' or access_level >= 4:\n",
    "    print('访问授权！')\n",
    "else:\n",
    "    print('访问拒绝！')"
   ]
  },
  {
   "cell_type": "markdown",
   "id": "4979b28c",
   "metadata": {},
   "source": [
    "🌕 你做得很好。永远不要放弃，因为伟大的事情需要时间。你刚刚完成了第 9 天的挑战，你已经在通向伟大的道路上前进了 9 步。现在做一些练习来锻炼你的大脑和肌肉。\n",
    "\n",
    "## 💻 练习：第 9 天\n",
    "\n",
    "### 练习：第一层级\n",
    "\n",
    "1. 使用 input 获取用户输入（例如：“输入你的年龄：”）。如果用户 18 岁或以上，给出反馈：你已经足够大，可以学习驾驶。如果未满 18 岁，则给出需要等待的年数。输出：\n",
    "\n",
    "   ```sh\n",
    "   输入你的年龄：30\n",
    "   你已经足够大，可以学习驾驶。\n",
    "   输出：\n",
    "   输入你的年龄：15\n",
    "   你还需要等待3年才能学习驾驶。\n",
    "   ```\n",
    "\n",
    "2. 使用 if…else 比较 my_age 和 your_age 的值。谁更年长（我还是你）？使用 input（“输入你的年龄：”）获取年龄作为输入。您可以使用嵌套条件来打印'年'表示 1 年的年龄差异，'年'表示更大的差异，如果 my_age = your_age，则打印自定义文本。输出：\n",
    "\n",
    "   ```sh\n",
    "   输入你的年龄：30\n",
    "   你比我大5岁。\n",
    "   ```\n",
    "\n",
    "3. 使用输入提示从用户处获得两个数字。如果 a 大于 b，返回 a 大于 b，如果 a 小于 b，返回 a 小于 b，否则返回 a 等于 b。输出:"
   ]
  },
  {
   "cell_type": "code",
   "execution_count": null,
   "id": "bb462982",
   "metadata": {
    "attributes": {
     "classes": [
      "sh"
     ],
     "id": ""
    }
   },
   "outputs": [],
   "source": [
    "输入第一个数字：4\n",
    "输入第二个数字：3\n",
    "4大于3"
   ]
  },
  {
   "cell_type": "markdown",
   "id": "3aac2602",
   "metadata": {},
   "source": [
    "### 练习：第二层级\n",
    "\n",
    "1. 编写代码，根据学生的分数给出等级：\n",
    "\n",
    "   ```sh\n",
    "   80-100, A\n",
    "   70-79, B\n",
    "   60-69, C\n",
    "   50-59, D\n",
    "   0-49, F\n",
    "   ```\n",
    "\n",
    "2. 检查是否是秋天、冬天、春天或夏天。如果用户输入：\n",
    "   9 月、10 月或 11 月，是秋天。\n",
    "   12 月、1 月或 2 月，是冬天。\n",
    "   3 月、4 月或 5 月，是春天。\n",
    "   6 月、7 月或 8 月，是夏天。\n",
    "3. 以下列表包含了一些水果：\n",
    "\n",
    "   ```sh\n",
    "   fruits = ['banana', 'orange', 'mango', 'lemon']\n",
    "   ```\n",
    "\n",
    "   如果列表中不存在某个水果，则将其添加到列表中并打印修改后的列表。如果水果存在，则打印('该水果已在列表中')。\n",
    "\n",
    "### 练习：第三层级\n",
    "\n",
    "1. 这里有一个人员字典。请随意修改它！"
   ]
  },
  {
   "cell_type": "code",
   "execution_count": null,
   "id": "4e243af9",
   "metadata": {
    "attributes": {
     "classes": [
      "py"
     ],
     "id": ""
    }
   },
   "outputs": [],
   "source": [
    "person = {\n",
    "    'first_name': 'Asabeneh',\n",
    "    'last_name': 'Yetayeh',\n",
    "    'age': 250,\n",
    "    'country': '芬兰',\n",
    "    'is_married': True,\n",
    "    'skills': ['JavaScript', 'React', 'Node', 'MongoDB', 'Python'],\n",
    "    'address': {\n",
    "        'street': '太空街',\n",
    "        'zipcode': '02210'\n",
    "    }\n",
    "}"
   ]
  },
  {
   "cell_type": "markdown",
   "id": "c6bab869",
   "metadata": {},
   "source": [
    "- 检查是否在字典中有 skills 键，如果有则打印 skills 列表中的中间技能。\n",
    "- 检查是否在字典中有 skills 键，如果有则检查该人是否具备'Python'技能并打印结果。\n",
    "- 如果一个人的技能只有 JavaScript 和 React，打印('他是前端开发者')，如果一个人的技能有 Node、Python、MongoDB，打印('他是后端开发者')，如果一个人的技能有 React、Node 和 MongoDB，打印('他是全栈开发者')，否则打印'未知头衔' - 为获得更准确的结果，可以嵌套更多条件！\n",
    "- 如果该人结婚了且居住在芬兰，按以下格式打印信息："
   ]
  },
  {
   "cell_type": "code",
   "execution_count": null,
   "id": "728d8fde",
   "metadata": {
    "attributes": {
     "classes": [
      "py"
     ],
     "id": ""
    }
   },
   "outputs": [],
   "source": [
    "Oludayo adeoye住在芬兰。他已婚。"
   ]
  },
  {
   "cell_type": "markdown",
   "id": "1f90d82a",
   "metadata": {},
   "source": [
    "🎉 恭喜！ 🎉\n",
    "\n",
    "[<< 第 8 天](../08_Day_Dictionaries/08_dictionaries.md) | [第 10 天 >>](../10_Day_Loops/10_loops.md)"
   ]
  }
 ],
 "metadata": {},
 "nbformat": 4,
 "nbformat_minor": 5
}
