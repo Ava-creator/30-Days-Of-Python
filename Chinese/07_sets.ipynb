{
 "cells": [
  {
   "cell_type": "markdown",
   "id": "5a2aeb0d",
   "metadata": {},
   "source": [
    "<div align=\"center\">\n",
    "  <h1> 30 天 Python：第 7 天 - 集合</h1>\n",
    "  <a class=\"header-badge\" target=\"_blank\" href=\"https://www.linkedin.com/in/asabeneh/\">\n",
    "  <img src=\"https://img.shields.io/badge/style--5eba00.svg?label=LinkedIn&logo=linkedin&style=social\">\n",
    "  </a>\n",
    "  <a class=\"header-badge\" target=\"_blank\" href=\"https://twitter.com/Asabeneh\">\n",
    "  <img alt=\"Twitter Follow\" src=\"https://img.shields.io/twitter/follow/asabeneh?style=social\">\n",
    "  </a>\n",
    "\n",
    "<sub>作者：\n",
    "<a href=\"https://www.linkedin.com/in/asabeneh/\" target=\"_blank\">Oludayo adeoye</a><br>\n",
    "<small> 第二版：2021 年 7 月</small>\n",
    "</sub>\n",
    "\n",
    "</div>\n",
    "\n",
    "[<< 第 6 天](../06_Day_Tuples/06_tuples.md) | [第 8 天 >>](../08_Day_Dictionaries/08_dictionaries.md)\n",
    "\n",
    "![30DaysOfPython](../images/30DaysOfPython_banner3@2x.png)\n",
    "\n",
    "- [📘 第 7 天](#-第-7-天)\n",
    "  - [集合](#集合)\n",
    "    - [创建集合](#创建集合)\n",
    "    - [获取集合长度](#获取集合长度)\n",
    "    - [访问集合中的项目](#访问集合中的项目)\n",
    "    - [检查项目](#检查项目)\n",
    "    - [向集合中添加项目](#向集合中添加项目)\n",
    "    - [从集合中移除项目](#从集合中移除项目)\n",
    "    - [清空集合中的项目](#清空集合中的项目)\n",
    "    - [删除集合](#删除集合)\n",
    "    - [将列表转换为集合](#将列表转换为集合)\n",
    "    - [合并集合](#合并集合)\n",
    "    - [查找交集项目](#查找交集项目)\n",
    "    - [检查子集和超集](#检查子集和超集)\n",
    "    - [检查两个集合之间的差异](#检查两个集合之间的差异)\n",
    "    - [查找两个集合之间的对称差异](#查找两个集合之间的对称差异)\n",
    "    - [合并集合](#合并集合-1)\n",
    "  - [💻 练习：第 7 天](#-练习-第-7-天)\n",
    "    - [练习：等级 1](#练习-等级-1)\n",
    "    - [练习：等级 2](#练习-等级-2)\n",
    "    - [练习：等级 3](#练习-等级-3)\n",
    "\n",
    "# 📘 第 7 天\n",
    "\n",
    "## 集合\n",
    "\n",
    "集合是项目的集合。让我带你回到小学或高中的数学课。集合的数学定义也适用于 Python。集合是无序且未索引的不同元素的集合。在 Python 中，集合用于存储唯一项目，可以在集合之间找到 _并集_、_交集_、_差集_、_对称差集_、_子集_、_超集_ 和 _不相交集_。\n",
    "\n",
    "### 创建集合\n",
    "\n",
    "我们使用 _set()_ 内置函数。\n",
    "\n",
    "- 创建空集合"
   ]
  },
  {
   "cell_type": "code",
   "execution_count": null,
   "id": "27758fdc",
   "metadata": {
    "attributes": {
     "classes": [
      "py"
     ],
     "id": ""
    }
   },
   "outputs": [],
   "source": [
    "# 语法\n",
    "st = set()"
   ]
  },
  {
   "cell_type": "markdown",
   "id": "77837ee0",
   "metadata": {},
   "source": [
    "- 创建一个包含初始项目的集合"
   ]
  },
  {
   "cell_type": "code",
   "execution_count": null,
   "id": "dc5b139f",
   "metadata": {
    "attributes": {
     "classes": [
      "py"
     ],
     "id": ""
    }
   },
   "outputs": [],
   "source": [
    "# 语法\n",
    "st = {'item1', 'item2', 'item3', 'item4'}"
   ]
  },
  {
   "cell_type": "markdown",
   "id": "2c7b63fa",
   "metadata": {},
   "source": [
    "**示例：**"
   ]
  },
  {
   "cell_type": "code",
   "execution_count": null,
   "id": "597eb5c6",
   "metadata": {
    "attributes": {
     "classes": [
      "py"
     ],
     "id": ""
    }
   },
   "outputs": [],
   "source": [
    "# 语法\n",
    "fruits = {'banana', 'orange', 'mango', 'lemon'}"
   ]
  },
  {
   "cell_type": "markdown",
   "id": "fbeed23f",
   "metadata": {},
   "source": [
    "### 获取设置的长度\n",
    "\n",
    "我们使用**len()**方法来查找集合的长度。"
   ]
  },
  {
   "cell_type": "code",
   "execution_count": null,
   "id": "84732d27",
   "metadata": {
    "attributes": {
     "classes": [
      "py"
     ],
     "id": ""
    }
   },
   "outputs": [],
   "source": [
    "# 语法\n",
    "st = {'item1', 'item2', 'item3', 'item4'}\n",
    "len(st)"
   ]
  },
  {
   "cell_type": "markdown",
   "id": "86b3ab53",
   "metadata": {},
   "source": [
    "**示例：**"
   ]
  },
  {
   "cell_type": "code",
   "execution_count": null,
   "id": "bf3974eb",
   "metadata": {
    "attributes": {
     "classes": [
      "py"
     ],
     "id": ""
    }
   },
   "outputs": [],
   "source": [
    "fruits = {'banana', 'orange', 'mango', 'lemon'}\n",
    "len(fruits)"
   ]
  },
  {
   "cell_type": "markdown",
   "id": "ab4c7d5e",
   "metadata": {},
   "source": [
    "### 访问集合中的项目\n",
    "\n",
    "我们使用循环来访问项目。我们将在循环部分看到这一点。\n",
    "\n",
    "### 检查项目\n",
    "\n",
    "要检查列表中是否存在某个项目，我们使用 _in_ 成员运算符。"
   ]
  },
  {
   "cell_type": "code",
   "execution_count": null,
   "id": "d85bf70f",
   "metadata": {
    "attributes": {
     "classes": [
      "py"
     ],
     "id": ""
    }
   },
   "outputs": [],
   "source": [
    "# 语法\n",
    "st = {'item1', 'item2', 'item3', 'item4'}\n",
    "print(\"Does set st contain item3? \", 'item3' in st) # Does set st contain item3? True"
   ]
  },
  {
   "cell_type": "markdown",
   "id": "2edd63b1",
   "metadata": {},
   "source": [
    "**示例：**"
   ]
  },
  {
   "cell_type": "code",
   "execution_count": null,
   "id": "2915803e",
   "metadata": {
    "attributes": {
     "classes": [
      "py"
     ],
     "id": ""
    }
   },
   "outputs": [],
   "source": [
    "\n",
    "fruits = {'香蕉', '橙色', '芒果', '柠檬'}\n",
    "\n",
    "print('芒果' in fruits ) # True\n"
   ]
  },
  {
   "cell_type": "markdown",
   "id": "46cf9faa",
   "metadata": {},
   "source": [
    "### 向集合中添加元素\n",
    "\n",
    "一旦集合创建后，我们不能改变其中的任何元素，但可以添加其他的元素。\n",
    "\n",
    "- 使用 _add()_ 方法添加单个元素"
   ]
  },
  {
   "cell_type": "code",
   "execution_count": null,
   "id": "f67583af",
   "metadata": {
    "attributes": {
     "classes": [
      "py"
     ],
     "id": ""
    }
   },
   "outputs": [],
   "source": [
    "# 语法\n",
    "st = {'item1', 'item2', 'item3', 'item4'}\n",
    "st.add('item5')"
   ]
  },
  {
   "cell_type": "markdown",
   "id": "376ceff7",
   "metadata": {},
   "source": [
    "**示例:**"
   ]
  },
  {
   "cell_type": "code",
   "execution_count": null,
   "id": "7d229d32",
   "metadata": {
    "attributes": {
     "classes": [
      "py"
     ],
     "id": ""
    }
   },
   "outputs": [],
   "source": [
    "fruits = {'banana', 'orange', 'mango', 'lemon'}\n",
    "fruits.add('lime')"
   ]
  },
  {
   "cell_type": "markdown",
   "id": "35436ffc",
   "metadata": {},
   "source": [
    "- 使用 _update()_ 方法添加多个元素\n",
    "  _update()_ 方法允许向集合中添加多个元素。_update()_ 接收一个列表作为参数。"
   ]
  },
  {
   "cell_type": "code",
   "execution_count": null,
   "id": "5629a7af",
   "metadata": {
    "attributes": {
     "classes": [
      "py"
     ],
     "id": ""
    }
   },
   "outputs": [],
   "source": [
    "# 语法\n",
    "st = {'item1', 'item2', 'item3', 'item4'}\n",
    "st.update(['item5','item6','item7'])"
   ]
  },
  {
   "cell_type": "markdown",
   "id": "d04acd29",
   "metadata": {},
   "source": [
    "**示例:**"
   ]
  },
  {
   "cell_type": "code",
   "execution_count": null,
   "id": "9748c1dd",
   "metadata": {
    "attributes": {
     "classes": [
      "py"
     ],
     "id": ""
    }
   },
   "outputs": [],
   "source": [
    "fruits = {'banana', 'orange', 'mango', 'lemon'}\n",
    "vegetables = ('tomato', 'potato', 'cabbage','onion', 'carrot')\n",
    "fruits.update(vegetables)"
   ]
  },
  {
   "cell_type": "markdown",
   "id": "27ea014e",
   "metadata": {},
   "source": [
    "### 从集合中移除元素\n",
    "\n",
    "我们可以使用 _remove()_ 方法从集合中移除一个元素。如果找不到该元素，_remove()_ 方法会抛出错误，因此最好先检查该元素是否存在于集合中。_discard()_ 方法则不会抛出任何错误。"
   ]
  },
  {
   "cell_type": "code",
   "execution_count": null,
   "id": "c89199ba",
   "metadata": {
    "attributes": {
     "classes": [
      "py"
     ],
     "id": ""
    }
   },
   "outputs": [],
   "source": [
    "# 语法\n",
    "st = {'item1', 'item2', 'item3', 'item4'}\n",
    "st.remove('item2')"
   ]
  },
  {
   "cell_type": "markdown",
   "id": "6b8e318c",
   "metadata": {},
   "source": [
    "_pop()_ 方法从集合中移除一个随机元素并返回该被移除的元素。\n",
    "\n",
    "**示例:**"
   ]
  },
  {
   "cell_type": "code",
   "execution_count": null,
   "id": "5e09c348",
   "metadata": {
    "attributes": {
     "classes": [
      "py"
     ],
     "id": ""
    }
   },
   "outputs": [],
   "source": [
    "fruits = {'banana', 'orange', 'mango', 'lemon'}\n",
    "fruits.pop()  # 从集合中移除一个随机元素"
   ]
  },
  {
   "cell_type": "markdown",
   "id": "011c88db",
   "metadata": {},
   "source": [
    "如果我们对被移除的元素感兴趣。"
   ]
  },
  {
   "cell_type": "code",
   "execution_count": null,
   "id": "d3c9fdd5",
   "metadata": {
    "attributes": {
     "classes": [
      "py"
     ],
     "id": ""
    }
   },
   "outputs": [],
   "source": [
    "fruits = {'banana', 'orange', 'mango', 'lemon'}\n",
    "removed_item = fruits.pop()"
   ]
  },
  {
   "cell_type": "markdown",
   "id": "29757771",
   "metadata": {},
   "source": [
    "### 清空集合中的项目\n",
    "\n",
    "如果我们想要清空或清除集合中的所有项目，可以使用 _clear_ 方法。"
   ]
  },
  {
   "cell_type": "code",
   "execution_count": null,
   "id": "a00c268f",
   "metadata": {
    "attributes": {
     "classes": [
      "py"
     ],
     "id": ""
    }
   },
   "outputs": [],
   "source": [
    "# 语法\n",
    "st = {'item1', 'item2', 'item3', 'item4'}\n",
    "st.clear()"
   ]
  },
  {
   "cell_type": "markdown",
   "id": "7424f372",
   "metadata": {},
   "source": [
    "**示例:**"
   ]
  },
  {
   "cell_type": "code",
   "execution_count": null,
   "id": "98930496",
   "metadata": {
    "attributes": {
     "classes": [
      "py"
     ],
     "id": ""
    }
   },
   "outputs": [],
   "source": [
    "fruits = {'banana', 'orange', 'mango', 'lemon'}\n",
    "fruits.clear()\n",
    "print(fruits) # set()"
   ]
  },
  {
   "cell_type": "markdown",
   "id": "f3d78dec",
   "metadata": {},
   "source": [
    "### 删除一个集合\n",
    "\n",
    "如果我们想要删除整个集合，可以使用 _del_ 操作符。"
   ]
  },
  {
   "cell_type": "code",
   "execution_count": null,
   "id": "6d68e9b4",
   "metadata": {
    "attributes": {
     "classes": [
      "py"
     ],
     "id": ""
    }
   },
   "outputs": [],
   "source": [
    "# 语法\n",
    "st = {'item1', 'item2', 'item3', 'item4'}\n",
    "del st"
   ]
  },
  {
   "cell_type": "markdown",
   "id": "2e98b78d",
   "metadata": {},
   "source": [
    "**示例:**"
   ]
  },
  {
   "cell_type": "code",
   "execution_count": null,
   "id": "3eb25bdd",
   "metadata": {
    "attributes": {
     "classes": [
      "py"
     ],
     "id": ""
    }
   },
   "outputs": [],
   "source": [
    "fruits = {'banana', 'orange', 'mango', 'lemon'}\n",
    "del fruits"
   ]
  },
  {
   "cell_type": "markdown",
   "id": "b4361fd0",
   "metadata": {},
   "source": [
    "### 将列表转换为集合\n",
    "\n",
    "我们可以将列表转换为集合，也可以将集合转换为列表。将列表转换为集合会去除重复项，只保留唯一项。"
   ]
  },
  {
   "cell_type": "code",
   "execution_count": null,
   "id": "9d513cd8",
   "metadata": {
    "attributes": {
     "classes": [
      "py"
     ],
     "id": ""
    }
   },
   "outputs": [],
   "source": [
    "# 语法\n",
    "lst = ['item1', 'item2', 'item3', 'item4', 'item1']\n",
    "st = set(lst)  # {'item2', 'item4', 'item1', 'item3'} - 顺序是随机的，因为集合在一般情况下是无序的"
   ]
  },
  {
   "cell_type": "markdown",
   "id": "10adc5dd",
   "metadata": {},
   "source": [
    "**示例:**"
   ]
  },
  {
   "cell_type": "code",
   "execution_count": null,
   "id": "0f263aa2",
   "metadata": {
    "attributes": {
     "classes": [
      "py"
     ],
     "id": ""
    }
   },
   "outputs": [],
   "source": [
    "fruits = ['banana', 'orange', 'mango', 'lemon','orange', 'banana']\n",
    "fruits = set(fruits) # {'mango', 'lemon', 'banana', 'orange'}"
   ]
  },
  {
   "cell_type": "markdown",
   "id": "a1cde2d1",
   "metadata": {},
   "source": [
    "### 合并集合\n",
    "\n",
    "我们可以使用 _union()_ 或 _update()_ 方法来合并两个集合。\n",
    "\n",
    "- Union\n",
    "  这个方法返回一个新集合"
   ]
  },
  {
   "cell_type": "code",
   "execution_count": null,
   "id": "faf37d0f",
   "metadata": {
    "attributes": {
     "classes": [
      "py"
     ],
     "id": ""
    }
   },
   "outputs": [],
   "source": [
    "# 语法\n",
    "st1 = {'item1', 'item2', 'item3', 'item4'}\n",
    "st2 = {'item5', 'item6', 'item7', 'item8'}\n",
    "st3 = st1.union(st2)"
   ]
  },
  {
   "cell_type": "markdown",
   "id": "36df3ff8",
   "metadata": {},
   "source": [
    "**示例:**"
   ]
  },
  {
   "cell_type": "code",
   "execution_count": null,
   "id": "6717ef72",
   "metadata": {
    "attributes": {
     "classes": [
      "py"
     ],
     "id": ""
    }
   },
   "outputs": [],
   "source": [
    "fruits = {'banana', 'orange', 'mango', 'lemon'}\n",
    "vegetables = {'tomato', 'potato', 'cabbage','onion', 'carrot'}\n",
    "print(fruits.union(vegetables)) # {'lemon', 'carrot', 'tomato', 'banana', 'mango', 'orange', 'cabbage', 'potato', 'onion'}"
   ]
  },
  {
   "cell_type": "markdown",
   "id": "f07f1e59",
   "metadata": {},
   "source": [
    "- Update\n",
    "  这个方法将一个集合插入到给定的集合中"
   ]
  },
  {
   "cell_type": "code",
   "execution_count": null,
   "id": "98833be8",
   "metadata": {
    "attributes": {
     "classes": [
      "py"
     ],
     "id": ""
    }
   },
   "outputs": [],
   "source": [
    "# 语法\n",
    "st1 = {'item1', 'item2', 'item3', 'item4'}\n",
    "st2 = {'item5', 'item6', 'item7', 'item8'}\n",
    "st1.update(st2) # st2 的内容被添加到 st1 中"
   ]
  },
  {
   "cell_type": "markdown",
   "id": "ee5c92c5",
   "metadata": {},
   "source": [
    "**示例:**"
   ]
  },
  {
   "cell_type": "code",
   "execution_count": null,
   "id": "80c5a5dc",
   "metadata": {
    "attributes": {
     "classes": [
      "py"
     ],
     "id": ""
    }
   },
   "outputs": [],
   "source": [
    "fruits = {'banana', 'orange', 'mango', 'lemon'}\n",
    "vegetables = {'tomato', 'potato', 'cabbage','onion', 'carrot'}\n",
    "fruits.update(vegetables)\n",
    "print(fruits) # {'lemon', 'carrot', 'tomato', 'banana', 'mango', 'orange', 'cabbage', 'potato', 'onion'}"
   ]
  },
  {
   "cell_type": "markdown",
   "id": "2f05e454",
   "metadata": {},
   "source": [
    "### 查找交集项\n",
    "\n",
    "交集返回两个集合中都存在的项的集合。请参见示例"
   ]
  },
  {
   "cell_type": "code",
   "execution_count": null,
   "id": "b3293c79",
   "metadata": {
    "attributes": {
     "classes": [
      "py"
     ],
     "id": ""
    }
   },
   "outputs": [],
   "source": [
    "# 语法\n",
    "st1 = {'item1', 'item2', 'item3', 'item4'}\n",
    "st2 = {'item3', 'item2'}\n",
    "st1.intersection(st2) # {'item3', 'item2'}"
   ]
  },
  {
   "cell_type": "markdown",
   "id": "eb25c8d7",
   "metadata": {},
   "source": [
    "**示例：**"
   ]
  },
  {
   "cell_type": "code",
   "execution_count": null,
   "id": "07af7f14",
   "metadata": {
    "attributes": {
     "classes": [
      "py"
     ],
     "id": ""
    }
   },
   "outputs": [],
   "source": [
    "whole_numbers = {0, 1, 2, 3, 4, 5, 6, 7, 8, 9, 10}\n",
    "even_numbers = {0, 2, 4, 6, 8, 10}\n",
    "whole_numbers.intersection(even_numbers) # {0, 2, 4, 6, 8, 10}\n",
    "\n",
    "python = {'p', 'y', 't', 'h', 'o', 'n'}\n",
    "dragon = {'d', 'r', 'a', 'g', 'o', 'n'}\n",
    "python.intersection(dragon)     # {'o', 'n'}"
   ]
  },
  {
   "cell_type": "markdown",
   "id": "ec7dd2eb",
   "metadata": {},
   "source": [
    "### 检查子集和超集\n",
    "\n",
    "一个集合可以是另一个集合的子集或超集：\n",
    "\n",
    "- 子集: _issubset()_\n",
    "- 超集: _issuperset_"
   ]
  },
  {
   "cell_type": "code",
   "execution_count": null,
   "id": "5a540d52",
   "metadata": {
    "attributes": {
     "classes": [
      "py"
     ],
     "id": ""
    }
   },
   "outputs": [],
   "source": [
    "# 语法\n",
    "st1 = {'item1', 'item2', 'item3', 'item4'}\n",
    "st2 = {'item2', 'item3'}\n",
    "st2.issubset(st1) # True\n",
    "st1.issuperset(st2) # True"
   ]
  },
  {
   "cell_type": "markdown",
   "id": "62a71d2e",
   "metadata": {},
   "source": [
    "**示例：**"
   ]
  },
  {
   "cell_type": "code",
   "execution_count": null,
   "id": "b7980150",
   "metadata": {
    "attributes": {
     "classes": [
      "py"
     ],
     "id": ""
    }
   },
   "outputs": [],
   "source": [
    "whole_numbers = {0, 1, 2, 3, 4, 5, 6, 7, 8, 9, 10}\n",
    "even_numbers = {0, 2, 4, 6, 8, 10}\n",
    "whole_numbers.issubset(even_numbers) # 错误，因为它是超集\n",
    "whole_numbers.issuperset(even_numbers) # 正确\n",
    "\n",
    "python = {'p', 'y', 't', 'h', 'o', 'n'}\n",
    "dragon = {'d', 'r', 'a', 'g', 'o', 'n'}\n",
    "python.issubset(dragon)     # 错误"
   ]
  },
  {
   "cell_type": "markdown",
   "id": "27fbc217",
   "metadata": {},
   "source": [
    "### 检查两个集合之间的差异\n",
    "\n",
    "它返回两个集合之间的差异。"
   ]
  },
  {
   "cell_type": "code",
   "execution_count": null,
   "id": "863635a2",
   "metadata": {
    "attributes": {
     "classes": [
      "py"
     ],
     "id": ""
    }
   },
   "outputs": [],
   "source": [
    "# 语法\n",
    "st1 = {'item1', 'item2', 'item3', 'item4'}\n",
    "st2 = {'item2', 'item3'}\n",
    "st2.difference(st1) # set()\n",
    "st1.difference(st2) # {'item1', 'item4'} => st1\\st2"
   ]
  },
  {
   "cell_type": "markdown",
   "id": "67cffa43",
   "metadata": {},
   "source": [
    "**示例：**"
   ]
  },
  {
   "cell_type": "code",
   "execution_count": null,
   "id": "674e0270",
   "metadata": {
    "attributes": {
     "classes": [
      "py"
     ],
     "id": ""
    }
   },
   "outputs": [],
   "source": [
    "whole_numbers = {0, 1, 2, 3, 4, 5, 6, 7, 8, 9, 10}\n",
    "even_numbers = {0, 2, 4, 6, 8, 10}\n",
    "whole_numbers.difference(even_numbers) # {1, 3, 5, 7, 9}\n",
    "\n",
    "python = {'p', 'y', 't', 'o', 'n'}\n",
    "dragon = {'d', 'r', 'a', 'g', 'o', 'n'}\n",
    "python.difference(dragon)     # {'p', 'y', 't'}  - 结果是无序的（集合的特性）\n",
    "dragon.difference(python)     # {'d', 'r', 'a', 'g'}"
   ]
  },
  {
   "cell_type": "markdown",
   "id": "8b3e6ad5",
   "metadata": {},
   "source": [
    "### 查找两个集合之间的对称差异\n",
    "\n",
    "它返回两个集合之间的对称差异。它意味着它返回一个包含两个集合中所有项的集合，除了同时出现在两个集合中的项，数学上：(A\\B) ∪ (B\\A)"
   ]
  },
  {
   "cell_type": "code",
   "execution_count": null,
   "id": "db75b31a",
   "metadata": {
    "attributes": {
     "classes": [
      "py"
     ],
     "id": ""
    }
   },
   "outputs": [],
   "source": [
    "# 语法\n",
    "st1 = {'item1', 'item2', 'item3', 'item4'}\n",
    "st2 = {'item2', 'item3'}\n",
    "# 意思是 (A\\B)∪(B\\A)\n",
    "st2.symmetric_difference(st1) # {'item1', 'item4'}"
   ]
  },
  {
   "cell_type": "markdown",
   "id": "99677732",
   "metadata": {},
   "source": [
    "**示例：**"
   ]
  },
  {
   "cell_type": "code",
   "execution_count": null,
   "id": "ff2437e9",
   "metadata": {
    "attributes": {
     "classes": [
      "py"
     ],
     "id": ""
    }
   },
   "outputs": [],
   "source": [
    "whole_numbers = {0, 1, 2, 3, 4, 5, 6, 7, 8, 9, 10}\n",
    "some_numbers = {1, 2, 3, 4, 5}\n",
    "whole_numbers.symmetric_difference(some_numbers) # {0, 6, 7, 8, 9, 10}\n",
    "\n",
    "python = {'p', 'y', 't', 'h', 'o', 'n'}\n",
    "dragon = {'d', 'r', 'a', 'g', 'o', 'n'}\n",
    "python.symmetric_difference(dragon)  # {'r', 't', 'p', 'y', 'g', 'a', 'd', 'h'}"
   ]
  },
  {
   "cell_type": "markdown",
   "id": "3b8a33de",
   "metadata": {},
   "source": [
    "### 合并集合\n",
    "\n",
    "如果两个集合没有共同的项或项，我们称它们为不相交集合。我们可以使用 _isdisjoint()_ 方法来检查两个集合是否相交。"
   ]
  },
  {
   "cell_type": "code",
   "execution_count": null,
   "id": "8ccc5d88",
   "metadata": {
    "attributes": {
     "classes": [
      "py"
     ],
     "id": ""
    }
   },
   "outputs": [],
   "source": [
    "# 语法\n",
    "st1 = {'item1', 'item2', 'item3', 'item4'}\n",
    "st2 = {'item2', 'item3'}\n",
    "st2.isdisjoint(st1) # 错误"
   ]
  },
  {
   "cell_type": "markdown",
   "id": "51e7f878",
   "metadata": {},
   "source": [
    "**示例：**"
   ]
  },
  {
   "cell_type": "code",
   "execution_count": null,
   "id": "53fea529",
   "metadata": {
    "attributes": {
     "classes": [
      "py"
     ],
     "id": ""
    }
   },
   "outputs": [],
   "source": [
    "even_numbers = {0, 2, 4, 6, 8}\n",
    "odd_numbers = {1, 3, 5, 7, 9}\n",
    "even_numbers.isdisjoint(odd_numbers) # 正确，因为没有共同项\n",
    "\n",
    "python = {'p', 'y', 't', 'h', 'o', 'n'}\n",
    "dragon = {'d', 'r', 'a', 'g', 'o', 'n'}\n",
    "python.isdisjoint(dragon)  # 错误，有共同项 {'o', 'n'}"
   ]
  },
  {
   "cell_type": "markdown",
   "id": "cd462e4e",
   "metadata": {},
   "source": [
    "🌕 你是一颗冉冉升起的明星。你刚刚完成了第 7 天的挑战，你在通往伟大的道路上前进了 7 步。现在为你的大脑和肌肉做一些练习。\n",
    "\n",
    "## 💻 练习：第 7 天"
   ]
  },
  {
   "cell_type": "code",
   "execution_count": null,
   "id": "d404ecca",
   "metadata": {
    "attributes": {
     "classes": [
      "py"
     ],
     "id": ""
    }
   },
   "outputs": [],
   "source": [
    "# 集合\n",
    "it_companies = {'Facebook', 'Google', 'Microsoft', 'Apple', 'IBM', 'Oracle', 'Amazon'}\n",
    "A = {19, 22, 24, 20, 25, 26}\n",
    "B = {19, 22, 20, 25, 26, 24, 28, 27}\n",
    "age = [22, 19, 24, 25, 26, 24, 25, 24]"
   ]
  },
  {
   "cell_type": "markdown",
   "id": "622999a4",
   "metadata": {},
   "source": [
    "### 练习：第 1 级\n",
    "\n",
    "1. 找到集合 it_companies 的长度\n",
    "2. 向 it_companies 添加'Twitter'\n",
    "3. 一次性向集合 it_companies 插入多个 IT 公司\n",
    "4. 从集合 it_companies 中移除一家公司\n",
    "5. 移除和丢弃之间有什么区别\n",
    "\n",
    "### 练习：第 2 级\n",
    "\n",
    "1. 合并 A 和 B\n",
    "1. 找到 A 和 B 的交集\n",
    "1. A 是 B 的子集吗\n",
    "1. A 和 B 是不相交集合吗\n",
    "1. 将 A 与 B 合并，反之亦然\n",
    "1. A 和 B 之间的对称差异是什么\n",
    "1. 完全删除集合\n",
    "\n",
    "### 练习：第 3 级\n",
    "\n",
    "1. 将年龄转换为集合并比较列表和集合的长度，哪一个更大？\n",
    "1. 解释以下数据类型之间的区别：字符串、列表、元组和集合\n",
    "1. _我是一个老师，我喜欢激励和教导人们。_ 这句句子中用了多少独特的单词？使用 split 方法和集合来获取独特的单词。\n",
    "\n",
    "🎉 恭喜！ 🎉\n",
    "\n",
    "[<< 第 6 天](../06_Day_Tuples/06_tuples.md) | [第 8 天 >>](../08_Day_Dictionaries/08_dictionaries.md)"
   ]
  }
 ],
 "metadata": {},
 "nbformat": 4,
 "nbformat_minor": 5
}
