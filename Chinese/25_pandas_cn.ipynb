{
 "cells": [
  {
   "cell_type": "markdown",
   "id": "7a7f2048",
   "metadata": {},
   "source": [
    "# 30天Python编程挑战：第25天 - Pandas\n",
    "\n",
    "- [第25天](#-第25天)\n",
    "  - [Pandas](#pandas)\n",
    "    - [安装Pandas](#安装pandas)\n",
    "    - [导入Pandas](#导入pandas)\n",
    "    - [使用默认索引创建Pandas系列](#使用默认索引创建pandas系列)\n",
    "    - [使用自定义索引创建Pandas系列](#使用自定义索引创建pandas系列)\n",
    "    - [从字典创建Pandas系列](#从字典创建pandas系列)\n",
    "    - [创建常量Pandas系列](#创建常量pandas系列)\n",
    "    - [使用Linspace创建Pandas系列](#使用linspace创建pandas系列)\n",
    "  - [数据框（DataFrames）](#数据框dataframes)\n",
    "    - [从列表的列表创建数据框](#从列表的列表创建数据框)\n",
    "    - [使用字典创建数据框](#使用字典创建数据框)\n",
    "    - [从字典列表创建数据框](#从字典列表创建数据框)\n",
    "  - [使用Pandas读取CSV文件](#使用pandas读取csv文件)\n",
    "    - [数据探索](#数据探索)\n",
    "  - [修改数据框](#修改数据框)\n",
    "    - [创建数据框](#创建数据框)\n",
    "    - [添加新列](#添加新列)\n",
    "    - [修改列值](#修改列值)\n",
    "    - [格式化数据框列](#格式化数据框列)\n",
    "  - [检查列值的数据类型](#检查列值的数据类型)\n",
    "    - [布尔索引](#布尔索引)\n",
    "  - [练习：第25天](#练习第25天)\n",
    "  \n",
    "# 📘 第25天\n",
    "\n",
    "## Pandas\n",
    "\n",
    "Pandas是一个开源的、高性能的、易于使用的Python编程语言数据结构和数据分析工具。\n",
    "Pandas添加了设计用于处理表格数据的数据结构和工具，这些数据结构是*系列（Series）*和*数据框（Data Frames）*。\n",
    "Pandas提供了用于数据操作的工具：\n",
    "\n",
    "- 重塑\n",
    "- 合并\n",
    "- 排序\n",
    "- 切片\n",
    "- 聚合\n",
    "- 插补\n",
    "如果你使用的是anaconda，则不必安装pandas。\n",
    "\n",
    "### 安装Pandas\n",
    "\n",
    "对于Mac："
   ]
  },
  {
   "cell_type": "code",
   "execution_count": null,
   "id": "e9a7983a",
   "metadata": {
    "attributes": {
     "classes": [
      "py"
     ],
     "id": ""
    }
   },
   "outputs": [],
   "source": [
    "pip install conda\n",
    "conda install pandas"
   ]
  },
  {
   "cell_type": "markdown",
   "id": "970c61a4",
   "metadata": {},
   "source": [
    "对于Windows："
   ]
  },
  {
   "cell_type": "code",
   "execution_count": null,
   "id": "8c66156e",
   "metadata": {
    "attributes": {
     "classes": [
      "py"
     ],
     "id": ""
    }
   },
   "outputs": [],
   "source": [
    "pip install conda\n",
    "pip install pandas"
   ]
  },
  {
   "cell_type": "markdown",
   "id": "385f3104",
   "metadata": {},
   "source": [
    "Pandas数据结构基于*系列（Series）*和*数据框（DataFrames）*。\n",
    "\n",
    "*系列*是一个*列*，而数据框是由*系列*集合组成的*多维表*。为了创建pandas系列，我们应该使用numpy创建一维数组或Python列表。\n",
    "让我们看一个系列的例子：\n",
    "\n",
    "名称Pandas系列\n",
    "\n",
    "![pandas series](../images/pandas-series-1.png) \n",
    "\n",
    "国家系列\n",
    "\n",
    "![pandas series](../images/pandas-series-2.png) \n",
    "\n",
    "城市系列\n",
    "\n",
    "![pandas series](../images/pandas-series-3.png)\n",
    "\n",
    "如你所见，pandas系列只是一列数据。如果我们想要有多列，我们使用数据框。下面的例子显示了pandas数据框。\n",
    "\n",
    "让我们看一个pandas数据框的例子：\n",
    "\n",
    "![Pandas data frame](../images/pandas-dataframe-1.png)\n",
    "\n",
    "数据框是行和列的集合。看看下面的表格；它比上面的例子有更多的列：\n",
    "\n",
    "![Pandas data frame](../images/pandas-dataframe-2.png)\n",
    "\n",
    "接下来，我们将看到如何导入pandas以及如何使用pandas创建系列和数据框\n",
    "\n",
    "### 导入Pandas"
   ]
  },
  {
   "cell_type": "code",
   "execution_count": null,
   "id": "2e8a994c",
   "metadata": {},
   "outputs": [],
   "source": [
    "import pandas as pd # 将pandas导入为pd\n",
    "import numpy  as np # 将numpy导入为np"
   ]
  },
  {
   "cell_type": "markdown",
   "id": "6bb3bc60",
   "metadata": {},
   "source": [
    "### 使用默认索引创建Pandas系列"
   ]
  },
  {
   "cell_type": "code",
   "execution_count": null,
   "id": "89a7d47e",
   "metadata": {},
   "outputs": [],
   "source": [
    "nums = [1, 2, 3, 4,5]\n",
    "s = pd.Series(nums)\n",
    "print(s)"
   ]
  },
  {
   "cell_type": "code",
   "execution_count": null,
   "id": "63147795",
   "metadata": {
    "attributes": {
     "classes": [
      "sh"
     ],
     "id": ""
    }
   },
   "outputs": [],
   "source": [
    "0    1\n",
    "1    2\n",
    "2    3\n",
    "3    4\n",
    "4    5\n",
    "dtype: int64"
   ]
  },
  {
   "cell_type": "markdown",
   "id": "0e9be494",
   "metadata": {},
   "source": [
    "### 使用自定义索引创建Pandas系列"
   ]
  },
  {
   "cell_type": "code",
   "execution_count": null,
   "id": "3030d5c0",
   "metadata": {},
   "outputs": [],
   "source": [
    "nums = [1, 2, 3, 4, 5]\n",
    "s = pd.Series(nums, index=[1, 2, 3, 4, 5])\n",
    "print(s)"
   ]
  },
  {
   "cell_type": "code",
   "execution_count": null,
   "id": "9f7b7f52",
   "metadata": {
    "attributes": {
     "classes": [
      "sh"
     ],
     "id": ""
    }
   },
   "outputs": [],
   "source": [
    "1    1\n",
    "2    2\n",
    "3    3\n",
    "4    4\n",
    "5    5\n",
    "dtype: int64"
   ]
  },
  {
   "cell_type": "code",
   "execution_count": null,
   "id": "fd4ecea9",
   "metadata": {},
   "outputs": [],
   "source": [
    "fruits = ['Orange','Banana','Mango']\n",
    "fruits = pd.Series(fruits, index=[1, 2, 3])\n",
    "print(fruits)"
   ]
  },
  {
   "cell_type": "code",
   "execution_count": null,
   "id": "46208159",
   "metadata": {
    "attributes": {
     "classes": [
      "sh"
     ],
     "id": ""
    }
   },
   "outputs": [],
   "source": [
    "1    Orange\n",
    "2    Banana\n",
    "3    Mango\n",
    "dtype: object"
   ]
  },
  {
   "cell_type": "markdown",
   "id": "bbba982a",
   "metadata": {},
   "source": [
    "### 从字典创建Pandas系列"
   ]
  },
  {
   "cell_type": "code",
   "execution_count": null,
   "id": "7f82b0a6",
   "metadata": {},
   "outputs": [],
   "source": [
    "dct = {'name':'Asabeneh','country':'Finland','city':'Helsinki'}"
   ]
  },
  {
   "cell_type": "code",
   "execution_count": null,
   "id": "c9846a0a",
   "metadata": {},
   "outputs": [],
   "source": [
    "s = pd.Series(dct)\n",
    "print(s)"
   ]
  },
  {
   "cell_type": "code",
   "execution_count": null,
   "id": "8868d05c",
   "metadata": {
    "attributes": {
     "classes": [
      "sh"
     ],
     "id": ""
    }
   },
   "outputs": [],
   "source": [
    "name       Asabeneh\n",
    "country     Finland\n",
    "city       Helsinki\n",
    "dtype: object"
   ]
  },
  {
   "cell_type": "markdown",
   "id": "6712c432",
   "metadata": {},
   "source": [
    "### 创建常量Pandas系列"
   ]
  },
  {
   "cell_type": "code",
   "execution_count": null,
   "id": "a095b1b4",
   "metadata": {},
   "outputs": [],
   "source": [
    "s = pd.Series(10, index = [1, 2, 3])\n",
    "print(s)"
   ]
  },
  {
   "cell_type": "code",
   "execution_count": null,
   "id": "61ffe10c",
   "metadata": {
    "attributes": {
     "classes": [
      "sh"
     ],
     "id": ""
    }
   },
   "outputs": [],
   "source": [
    "1    10\n",
    "2    10\n",
    "3    10\n",
    "dtype: int64"
   ]
  },
  {
   "cell_type": "markdown",
   "id": "78336ff9",
   "metadata": {},
   "source": [
    "### 使用Linspace创建Pandas系列"
   ]
  },
  {
   "cell_type": "code",
   "execution_count": null,
   "id": "caeb6980",
   "metadata": {},
   "outputs": [],
   "source": [
    "s = pd.Series(np.linspace(5, 20, 10)) # linspace(起始点, 终点, 项目数)\n",
    "print(s)"
   ]
  },
  {
   "cell_type": "code",
   "execution_count": null,
   "id": "a1f23d67",
   "metadata": {
    "attributes": {
     "classes": [
      "sh"
     ],
     "id": ""
    }
   },
   "outputs": [],
   "source": [
    "0     5.000000\n",
    "1     6.666667\n",
    "2     8.333333\n",
    "3    10.000000\n",
    "4    11.666667\n",
    "5    13.333333\n",
    "6    15.000000\n",
    "7    16.666667\n",
    "8    18.333333\n",
    "9    20.000000\n",
    "dtype: float64"
   ]
  },
  {
   "cell_type": "markdown",
   "id": "f07f1a6b",
   "metadata": {},
   "source": [
    "## 数据框（DataFrames）\n",
    "\n",
    "Pandas数据框可以以不同的方式创建：\n",
    "\n",
    "- 从列表的列表创建\n",
    "- 从字典创建\n",
    "- 从字典的列表创建\n",
    "- 从CSV文件创建\n",
    "\n",
    "### 从列表的列表创建数据框"
   ]
  },
  {
   "cell_type": "code",
   "execution_count": null,
   "id": "65c844f5",
   "metadata": {},
   "outputs": [],
   "source": [
    "data = [\n",
    "    ['Asabeneh', 'Finland', 'Helsinki'], \n",
    "    ['David', 'UK', 'London'],\n",
    "    ['John', 'Sweden', 'Stockholm']\n",
    "]\n",
    "df = pd.DataFrame(data, columns=['Name', 'Country', 'City'])\n",
    "print(df)"
   ]
  },
  {
   "cell_type": "code",
   "execution_count": null,
   "id": "d022e3a1",
   "metadata": {
    "attributes": {
     "classes": [
      "sh"
     ],
     "id": ""
    }
   },
   "outputs": [],
   "source": [
    "        Name Country      City\n",
    "0   Asabeneh Finland  Helsinki\n",
    "1      David      UK    London\n",
    "2       John  Sweden Stockholm"
   ]
  },
  {
   "cell_type": "markdown",
   "id": "3ecd24e4",
   "metadata": {},
   "source": [
    "### 使用字典创建数据框"
   ]
  },
  {
   "cell_type": "code",
   "execution_count": null,
   "id": "64a3989f",
   "metadata": {},
   "outputs": [],
   "source": [
    "data = {'Name': ['Asabeneh', 'David', 'John'], 'Country':[\n",
    "    'Finland', 'UK', 'Sweden'], 'City': ['Helsinki', 'London', 'Stockholm']}\n",
    "df = pd.DataFrame(data)\n",
    "print(df)"
   ]
  },
  {
   "cell_type": "code",
   "execution_count": null,
   "id": "2b2e6f95",
   "metadata": {
    "attributes": {
     "classes": [
      "sh"
     ],
     "id": ""
    }
   },
   "outputs": [],
   "source": [
    "        Name Country      City\n",
    "0   Asabeneh Finland  Helsinki\n",
    "1      David      UK    London\n",
    "2       John  Sweden Stockholm"
   ]
  },
  {
   "cell_type": "markdown",
   "id": "e25a3180",
   "metadata": {},
   "source": [
    "### 从字典列表创建数据框"
   ]
  },
  {
   "cell_type": "code",
   "execution_count": null,
   "id": "018505df",
   "metadata": {},
   "outputs": [],
   "source": [
    "data = [\n",
    "    {'Name': 'Asabeneh', 'Country': 'Finland', 'City': 'Helsinki'},\n",
    "    {'Name': 'David', 'Country': 'UK', 'City': 'London'},\n",
    "    {'Name': 'John', 'Country': 'Sweden', 'City': 'Stockholm'}]\n",
    "df = pd.DataFrame(data)\n",
    "print(df)"
   ]
  },
  {
   "cell_type": "code",
   "execution_count": null,
   "id": "5210d5ee",
   "metadata": {
    "attributes": {
     "classes": [
      "sh"
     ],
     "id": ""
    }
   },
   "outputs": [],
   "source": [
    "        Name Country      City\n",
    "0   Asabeneh Finland  Helsinki\n",
    "1      David      UK    London\n",
    "2       John  Sweden Stockholm"
   ]
  },
  {
   "cell_type": "markdown",
   "id": "5ee71e04",
   "metadata": {},
   "source": [
    "## 使用Pandas读取CSV文件\n",
    "\n",
    "让我们在数据目录中读取文件，将通过将文件路径作为参数传递给pd.read_csv()函数来读取weight-height.csv文件。让我们使用head()方法查看前五行。"
   ]
  },
  {
   "cell_type": "code",
   "execution_count": null,
   "id": "ec21dce7",
   "metadata": {},
   "outputs": [],
   "source": [
    "import pandas as pd\n",
    "\n",
    "df = pd.read_csv('./data/weight-height.csv')\n",
    "print(df.head()) # 默认为前五行"
   ]
  },
  {
   "cell_type": "code",
   "execution_count": null,
   "id": "f95b63bc",
   "metadata": {
    "attributes": {
     "classes": [
      "sh"
     ],
     "id": ""
    }
   },
   "outputs": [],
   "source": [
    "   Gender     Height      Weight\n",
    "0    Male  73.847017  241.893563\n",
    "1    Male  68.781904  162.310473\n",
    "2    Male  74.110105  212.740856\n",
    "3    Male  71.730978  220.042470\n",
    "4    Male  69.881796  206.349801"
   ]
  },
  {
   "cell_type": "markdown",
   "id": "4d38f59b",
   "metadata": {},
   "source": [
    "让我们使用tail()方法查看最后五行："
   ]
  },
  {
   "cell_type": "code",
   "execution_count": null,
   "id": "ef565853",
   "metadata": {},
   "outputs": [],
   "source": [
    "print(df.tail()) # 最后五行"
   ]
  },
  {
   "cell_type": "code",
   "execution_count": null,
   "id": "eb846983",
   "metadata": {
    "attributes": {
     "classes": [
      "sh"
     ],
     "id": ""
    }
   },
   "outputs": [],
   "source": [
    "      Gender     Height      Weight\n",
    "9995  Female  66.172652  136.777454\n",
    "9996  Female  67.067155  170.867906\n",
    "9997  Female  63.867992  128.475319\n",
    "9998  Female  69.034243  163.852461\n",
    "9999  Female  61.944246  113.649103"
   ]
  },
  {
   "cell_type": "markdown",
   "id": "175b3eb8",
   "metadata": {},
   "source": [
    "### 数据探索\n",
    "\n",
    "让我们使用shape属性获取行和列的数量："
   ]
  },
  {
   "cell_type": "code",
   "execution_count": null,
   "id": "157be8d5",
   "metadata": {},
   "outputs": [],
   "source": [
    "print(df.shape) # 行和列的数量"
   ]
  },
  {
   "cell_type": "code",
   "execution_count": null,
   "id": "7aeb1b95",
   "metadata": {
    "attributes": {
     "classes": [
      "sh"
     ],
     "id": ""
    }
   },
   "outputs": [],
   "source": [
    "(10000, 3)"
   ]
  },
  {
   "cell_type": "markdown",
   "id": "cd6c86c5",
   "metadata": {},
   "source": [
    "如你所见，该数据集有10000行和3列。让我们获取有关数据的更多信息："
   ]
  },
  {
   "cell_type": "code",
   "execution_count": null,
   "id": "06489931",
   "metadata": {},
   "outputs": [],
   "source": [
    "print(df.columns) # 列名\n",
    "print(df.head(10)) # 前10行\n",
    "print(df.tail(10)) # 最后10行\n",
    "print(df['Gender'].value_counts()) # 计算每个值有多少个\n",
    "print(df.describe()) # 数据统计概要"
   ]
  },
  {
   "cell_type": "code",
   "execution_count": null,
   "id": "59811df6",
   "metadata": {
    "attributes": {
     "classes": [
      "sh"
     ],
     "id": ""
    }
   },
   "outputs": [],
   "source": [
    "Index(['Gender', 'Height', 'Weight'], dtype='object')\n",
    "   Gender     Height      Weight\n",
    "0    Male  73.847017  241.893563\n",
    "1    Male  68.781904  162.310473\n",
    "2    Male  74.110105  212.740856\n",
    "3    Male  71.730978  220.042470\n",
    "4    Male  69.881796  206.349801\n",
    "5    Male  68.767792  152.212156\n",
    "6    Male  67.961960  183.927889\n",
    "7    Male  68.563817  175.929316\n",
    "8    Male  71.267570  196.028855\n",
    "9    Male  72.040119  205.801386\n",
    "      Gender     Height      Weight\n",
    "9990  Female  64.744846  139.725595\n",
    "9991  Female  62.109532  132.451630\n",
    "9992  Female  62.593008  130.727432\n",
    "9993  Female  62.100222  131.220717\n",
    "9994  Female  63.421888  133.330246\n",
    "9995  Female  66.172652  136.777454\n",
    "9996  Female  67.067155  170.867906\n",
    "9997  Female  63.867992  128.475319\n",
    "9998  Female  69.034243  163.852461\n",
    "9999  Female  61.944246  113.649103\n",
    "Gender\n",
    "Male      5000\n",
    "Female    5000\n",
    "Name: count, dtype: int64\n",
    "            Height        Weight\n",
    "count  10000.000000  10000.000000\n",
    "mean      66.367560    161.440357\n",
    "std        3.847528     32.108439\n",
    "min       54.263133     64.700127\n",
    "25%       63.505620    135.818051\n",
    "50%       66.318070    161.212928\n",
    "75%       69.174262    187.169525\n",
    "max       78.998742    269.989699"
   ]
  },
  {
   "cell_type": "markdown",
   "id": "45a715b9",
   "metadata": {},
   "source": [
    "## 修改数据框\n",
    "\n",
    "### 创建数据框\n",
    "\n",
    "首先，让我们使用前面学到的内容创建一个数据框："
   ]
  },
  {
   "cell_type": "code",
   "execution_count": null,
   "id": "49a71945",
   "metadata": {},
   "outputs": [],
   "source": [
    "# 导入pandas包\n",
    "import pandas as pd\n",
    "# 导入numpy包\n",
    "import numpy as np\n",
    "# 数据\n",
    "data = [\n",
    "    {\"Name\": \"张三\", \"Country\":\"中国\", \"City\":\"上海\"},\n",
    "    {\"Name\": \"李四\", \"Country\":\"中国\", \"City\":\"北京\"},\n",
    "    {\"Name\": \"王五\", \"Country\":\"中国\", \"City\":\"广州\"}]\n",
    "# 创建一个数据框\n",
    "df = pd.DataFrame(data)\n",
    "print(df)"
   ]
  },
  {
   "cell_type": "code",
   "execution_count": null,
   "id": "1a923614",
   "metadata": {
    "attributes": {
     "classes": [
      "sh"
     ],
     "id": ""
    }
   },
   "outputs": [],
   "source": [
    "    Name Country City\n",
    "0   张三    中国   上海\n",
    "1   李四    中国   北京\n",
    "2   王五    中国   广州"
   ]
  },
  {
   "cell_type": "markdown",
   "id": "cfccaa29",
   "metadata": {},
   "source": [
    "### 添加新列\n",
    "\n",
    "让我们向DataFrame添加权重列："
   ]
  },
  {
   "cell_type": "code",
   "execution_count": null,
   "id": "7c548d1c",
   "metadata": {},
   "outputs": [],
   "source": [
    "weights = [74, 78, 69]\n",
    "df['Weight'] = weights\n",
    "df"
   ]
  },
  {
   "cell_type": "code",
   "execution_count": null,
   "id": "7cc7547f",
   "metadata": {
    "attributes": {
     "classes": [
      "sh"
     ],
     "id": ""
    }
   },
   "outputs": [],
   "source": [
    "    Name Country City  Weight\n",
    "0   张三    中国   上海      74\n",
    "1   李四    中国   北京      78\n",
    "2   王五    中国   广州      69"
   ]
  },
  {
   "cell_type": "markdown",
   "id": "f0099923",
   "metadata": {},
   "source": [
    "让我们添加一个高度列："
   ]
  },
  {
   "cell_type": "code",
   "execution_count": null,
   "id": "c6c02fac",
   "metadata": {},
   "outputs": [],
   "source": [
    "heights = [173, 175, 169]\n",
    "df['Height'] = heights\n",
    "df"
   ]
  },
  {
   "cell_type": "code",
   "execution_count": null,
   "id": "d7cba518",
   "metadata": {
    "attributes": {
     "classes": [
      "sh"
     ],
     "id": ""
    }
   },
   "outputs": [],
   "source": [
    "    Name Country City  Weight  Height\n",
    "0   张三    中国   上海      74     173\n",
    "1   李四    中国   北京      78     175\n",
    "2   王五    中国   广州      69     169"
   ]
  },
  {
   "cell_type": "markdown",
   "id": "0b1c4b8d",
   "metadata": {},
   "source": [
    "### 修改列值\n",
    "\n",
    "我们可以通过三种方式修改列：\n",
    "\n",
    "1. 直接在列名中写入新数据："
   ]
  },
  {
   "cell_type": "code",
   "execution_count": null,
   "id": "3bf42ed7",
   "metadata": {},
   "outputs": [],
   "source": [
    "df['Name'] = ['赵六', '钱七', '孙八']\n",
    "df"
   ]
  },
  {
   "cell_type": "code",
   "execution_count": null,
   "id": "15e0999e",
   "metadata": {
    "attributes": {
     "classes": [
      "sh"
     ],
     "id": ""
    }
   },
   "outputs": [],
   "source": [
    "    Name Country City  Weight  Height\n",
    "0   赵六    中国   上海      74     173\n",
    "1   钱七    中国   北京      78     175\n",
    "2   孙八    中国   广州      69     169"
   ]
  },
  {
   "cell_type": "markdown",
   "id": "0fb56cb2",
   "metadata": {},
   "source": [
    "2. 通过索引进行修改："
   ]
  },
  {
   "cell_type": "code",
   "execution_count": null,
   "id": "5a92890c",
   "metadata": {},
   "outputs": [],
   "source": [
    "df.loc[1, 'Name'] = '小七'\n",
    "df"
   ]
  },
  {
   "cell_type": "code",
   "execution_count": null,
   "id": "d6d9192f",
   "metadata": {
    "attributes": {
     "classes": [
      "sh"
     ],
     "id": ""
    }
   },
   "outputs": [],
   "source": [
    "    Name Country City  Weight  Height\n",
    "0   赵六    中国   上海      74     173\n",
    "1   小七    中国   北京      78     175\n",
    "2   孙八    中国   广州      69     169"
   ]
  },
  {
   "cell_type": "markdown",
   "id": "a5369bb6",
   "metadata": {},
   "source": [
    "通过iloc索引："
   ]
  },
  {
   "cell_type": "code",
   "execution_count": null,
   "id": "e34d6fe9",
   "metadata": {},
   "outputs": [],
   "source": [
    "print('原始数据：\\n', df)\n",
    "df.iloc[1, 0] = '阿七'\n",
    "print('修改后的数据：\\n', df)"
   ]
  },
  {
   "cell_type": "code",
   "execution_count": null,
   "id": "4f1ab367",
   "metadata": {
    "attributes": {
     "classes": [
      "sh"
     ],
     "id": ""
    }
   },
   "outputs": [],
   "source": [
    "原始数据：\n",
    "     Name Country City  Weight  Height\n",
    "0   赵六    中国   上海      74     173\n",
    "1   小七    中国   北京      78     175\n",
    "2   孙八    中国   广州      69     169\n",
    "修改后的数据：\n",
    "     Name Country City  Weight  Height\n",
    "0   赵六    中国   上海      74     173\n",
    "1   阿七    中国   北京      78     175\n",
    "2   孙八    中国   广州      69     169"
   ]
  },
  {
   "cell_type": "markdown",
   "id": "5f70e60b",
   "metadata": {},
   "source": [
    "### 格式化数据框列\n",
    "\n",
    "让我们使用格式进行修改。强大公式是BMI：体重（kg）/ 身高²（m）。让我们添加一个BMI列："
   ]
  },
  {
   "cell_type": "code",
   "execution_count": null,
   "id": "5037c76f",
   "metadata": {},
   "outputs": [],
   "source": [
    "# 添加身高、体重和BMI列\n",
    "df['BMI'] = np.round(df['Weight'] / ((df['Height'] * 0.01) ** 2), 2) # 保留两位小数\n",
    "\n",
    "print(df)"
   ]
  },
  {
   "cell_type": "code",
   "execution_count": null,
   "id": "3a48da64",
   "metadata": {
    "attributes": {
     "classes": [
      "sh"
     ],
     "id": ""
    }
   },
   "outputs": [],
   "source": [
    "   Name Country City  Weight  Height   BMI\n",
    "0  赵六    中国   上海      74     173  24.73\n",
    "1  阿七    中国   北京      78     175  25.47\n",
    "2  孙八    中国   广州      69     169  24.16"
   ]
  },
  {
   "cell_type": "markdown",
   "id": "a84995c8",
   "metadata": {},
   "source": [
    "## 检查列值的数据类型\n",
    "\n",
    "我们可以使用dtypes属性检查DataFrame中列的数据类型："
   ]
  },
  {
   "cell_type": "code",
   "execution_count": null,
   "id": "1fa77e70",
   "metadata": {},
   "outputs": [],
   "source": [
    "print(df.dtypes)"
   ]
  },
  {
   "cell_type": "code",
   "execution_count": null,
   "id": "f509ab2c",
   "metadata": {
    "attributes": {
     "classes": [
      "sh"
     ],
     "id": ""
    }
   },
   "outputs": [],
   "source": [
    "Name        object\n",
    "Country     object\n",
    "City        object\n",
    "Weight       int64\n",
    "Height       int64\n",
    "BMI        float64\n",
    "dtype: object"
   ]
  },
  {
   "cell_type": "markdown",
   "id": "7fa7e9ca",
   "metadata": {},
   "source": [
    "### 布尔索引\n",
    "\n",
    "布尔索引或布尔掩码允许您使用条件选择DataFrame中的特定行："
   ]
  },
  {
   "cell_type": "code",
   "execution_count": null,
   "id": "e5b717a8",
   "metadata": {},
   "outputs": [],
   "source": [
    "# 创建一个数据框\n",
    "df = pd.DataFrame({\n",
    "    'name': ['张三', '李四', '王五', '赵六'],\n",
    "    'country': ['中国', '美国', '英国', '西班牙'],\n",
    "    'age': [25, 15, 22, 28],\n",
    "    '在职': [True, False, True, False]\n",
    "})\n",
    "\n",
    "print(df)"
   ]
  },
  {
   "cell_type": "code",
   "execution_count": null,
   "id": "fca3474a",
   "metadata": {
    "attributes": {
     "classes": [
      "sh"
     ],
     "id": ""
    }
   },
   "outputs": [],
   "source": [
    "  name country  age    在职\n",
    "0  张三     中国   25   True\n",
    "1  李四     美国   15  False\n",
    "2  王五     英国   22   True\n",
    "3  赵六   西班牙   28  False"
   ]
  },
  {
   "cell_type": "markdown",
   "id": "769acd66",
   "metadata": {},
   "source": [
    "让我们筛选出年龄大于20岁且在职的人员："
   ]
  },
  {
   "cell_type": "code",
   "execution_count": null,
   "id": "4794f854",
   "metadata": {},
   "outputs": [],
   "source": [
    "print(df[(df['age'] > 20) & (df['在职'] == True)])"
   ]
  },
  {
   "cell_type": "code",
   "execution_count": null,
   "id": "26b0f04d",
   "metadata": {
    "attributes": {
     "classes": [
      "sh"
     ],
     "id": ""
    }
   },
   "outputs": [],
   "source": [
    "  name country  age   在职\n",
    "0  张三     中国   25  True\n",
    "2  王五     英国   22  True"
   ]
  },
  {
   "cell_type": "markdown",
   "id": "66385da7",
   "metadata": {},
   "source": [
    "## 练习：第25天\n",
    "\n",
    "1. 阅读[hacker_news.csv](../data/hacker_news.csv)文件并获取前五行\n",
    "2. 获取标题列\n",
    "3. 获取行数、列数\n",
    "4. 获取前十行和最后十行\n",
    "5. 获取第二行和第四行从第二列到第四列的数据\n",
    "6. 获取主题为Python的行\n",
    "7. 获取Python主题行的数量\n",
    "8. 获取投票数超过200的所有行\n",
    "9. 按投票数排序数据框\n",
    "10. 按投票数进行降序排序\n",
    "11. 过滤掉Python主题并按票数排序\n",
    "\n",
    "🎉 恭喜！🎉\n",
    "\n",
    "[<< 第24天](./24_Day_Statistics/24_statistics_cn.md) | [第26天 >>](./26_Day_Python_web/26_python_web_cn.md)"
   ]
  }
 ],
 "metadata": {},
 "nbformat": 4,
 "nbformat_minor": 5
}
