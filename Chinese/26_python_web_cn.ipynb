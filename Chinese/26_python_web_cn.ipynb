{
 "cells": [
  {
   "cell_type": "markdown",
   "id": "0d260820",
   "metadata": {},
   "source": [
    "# 30天Python编程挑战：第26天 - Python网络编程\n",
    "\n",
    "- [第26天](#-第26天)\n",
    "  - [Python网络编程](#python网络编程)\n",
    "    - [Flask](#flask)\n",
    "      - [文件夹结构](#文件夹结构)\n",
    "    - [设置项目目录](#设置项目目录)\n",
    "    - [创建路由](#创建路由)\n",
    "    - [创建模板](#创建模板)\n",
    "    - [Python脚本](#python脚本)\n",
    "    - [导航](#导航)\n",
    "    - [创建布局](#创建布局)\n",
    "      - [提供静态文件](#提供静态文件)\n",
    "    - [部署](#部署)\n",
    "      - [创建Heroku账户](#创建heroku账户)\n",
    "      - [登录Heroku](#登录heroku)\n",
    "      - [创建requirements和Procfile](#创建requirements和procfile)\n",
    "      - [将项目推送到Heroku](#将项目推送到heroku)\n",
    "  - [练习：第26天](#练习第26天)\n",
    "\n",
    "# 📘 第26天\n",
    "\n",
    "## Python网络编程\n",
    "\n",
    "Python是一种通用编程语言，可以用于多种场合。在本节中，我们将看到如何使用Python进行网络开发。Python有许多Web框架。Django和Flask是最流行的框架。今天，我们将学习如何使用Flask进行Web开发。\n",
    "\n",
    "### Flask\n",
    "\n",
    "Flask是用Python编写的Web开发框架。Flask使用Jinja2模板引擎。Flask也可以与其他现代前端库（如React）一起使用。\n",
    "\n",
    "如果你还没有安装virtualenv包，请先安装它。虚拟环境将允许隔离项目依赖与本地机器依赖。\n",
    "\n",
    "#### 文件夹结构\n",
    "\n",
    "完成所有步骤后，你的项目文件结构应该如下所示："
   ]
  },
  {
   "cell_type": "code",
   "execution_count": null,
   "id": "e14f5853",
   "metadata": {
    "attributes": {
     "classes": [
      "sh"
     ],
     "id": ""
    }
   },
   "outputs": [],
   "source": [
    "├── Procfile\n",
    "├── app.py\n",
    "├── env\n",
    "│   ├── bin\n",
    "├── requirements.txt\n",
    "├── static\n",
    "│   └── css\n",
    "│       └── main.css\n",
    "└── templates\n",
    "    ├── about.html\n",
    "    ├── home.html\n",
    "    ├── layout.html\n",
    "    ├── post.html\n",
    "    └── result.html"
   ]
  },
  {
   "cell_type": "markdown",
   "id": "d2dede29",
   "metadata": {},
   "source": [
    "### 设置项目目录\n",
    "\n",
    "按照以下步骤开始使用Flask。\n",
    "\n",
    "步骤1：使用以下命令安装virtualenv。"
   ]
  },
  {
   "cell_type": "code",
   "execution_count": null,
   "id": "4527cdf6",
   "metadata": {
    "attributes": {
     "classes": [
      "sh"
     ],
     "id": ""
    }
   },
   "outputs": [],
   "source": [
    "pip install virtualenv"
   ]
  },
  {
   "cell_type": "markdown",
   "id": "b4cea7ae",
   "metadata": {},
   "source": [
    "步骤2："
   ]
  },
  {
   "cell_type": "code",
   "execution_count": null,
   "id": "2e5b800b",
   "metadata": {
    "attributes": {
     "classes": [
      "sh"
     ],
     "id": ""
    }
   },
   "outputs": [],
   "source": [
    "asabeneh@Asabeneh:~/Desktop$ mkdir python_for_web\n",
    "asabeneh@Asabeneh:~/Desktop$ cd python_for_web/\n",
    "asabeneh@Asabeneh:~/Desktop/python_for_web$ virtualenv venv\n",
    "asabeneh@Asabeneh:~/Desktop/python_for_web$ source venv/bin/activate\n",
    "(env) asabeneh@Asabeneh:~/Desktop/python_for_web$ pip freeze\n",
    "(env) asabeneh@Asabeneh:~/Desktop/python_for_web$ pip install Flask\n",
    "(env) asabeneh@Asabeneh:~/Desktop/python_for_web$ pip freeze\n",
    "Click==7.0\n",
    "Flask==1.1.1\n",
    "itsdangerous==1.1.0\n",
    "Jinja2==2.10.3\n",
    "MarkupSafe==1.1.1\n",
    "Werkzeug==0.16.0\n",
    "(env) asabeneh@Asabeneh:~/Desktop/python_for_web$"
   ]
  },
  {
   "cell_type": "markdown",
   "id": "d613f893",
   "metadata": {},
   "source": [
    "我们创建了一个名为python_for_web的项目目录。在项目中，我们创建了一个虚拟环境*venv*，它可以是任何名称，但我喜欢称它为_venv_。然后我们激活了虚拟环境。我们使用pip freeze检查项目目录中安装的包。pip freeze的结果是空的，因为还没有安装包。\n",
    "\n",
    "现在，让我们在项目目录中创建app.py文件并编写以下代码。app.py文件将是项目中的主文件。以下代码包含flask模块和os模块。\n",
    "\n",
    "### 创建路由\n",
    "\n",
    "主页路由。"
   ]
  },
  {
   "cell_type": "code",
   "execution_count": null,
   "id": "cd255cd8",
   "metadata": {
    "attributes": {
     "classes": [
      "py"
     ],
     "id": ""
    }
   },
   "outputs": [],
   "source": [
    "# 导入flask\n",
    "from flask import Flask\n",
    "import os # 导入操作系统模块\n",
    "\n",
    "app = Flask(__name__)\n",
    "\n",
    "@app.route('/') # 这个装饰器创建主页路由\n",
    "def home ():\n",
    "    return '<h1>欢迎</h1>'\n",
    "\n",
    "@app.route('/about')\n",
    "def about():\n",
    "    return '<h1>关于我们</h1>'\n",
    "\n",
    "\n",
    "if __name__ == '__main__':\n",
    "    # 部署时我们使用环境变量\n",
    "    # 使其同时适用于生产和开发环境\n",
    "    port = int(os.environ.get(\"PORT\", 5000))\n",
    "    app.run(debug=True, host='0.0.0.0', port=port)"
   ]
  },
  {
   "cell_type": "markdown",
   "id": "cd5b0ac2",
   "metadata": {},
   "source": [
    "要运行flask应用程序，在主flask应用程序目录中输入python app.py。\n",
    "\n",
    "运行_python app.py_后，检查本地主机5000端口。\n",
    "\n",
    "让我们添加额外的路由。\n",
    "创建关于路由"
   ]
  },
  {
   "cell_type": "code",
   "execution_count": null,
   "id": "f7b507f2",
   "metadata": {
    "attributes": {
     "classes": [
      "py"
     ],
     "id": ""
    }
   },
   "outputs": [],
   "source": [
    "# 导入flask\n",
    "from flask import Flask\n",
    "import os # 导入操作系统模块\n",
    "\n",
    "app = Flask(__name__)\n",
    "\n",
    "@app.route('/') # 这个装饰器创建主页路由\n",
    "def home ():\n",
    "    return '<h1>欢迎</h1>'\n",
    "\n",
    "@app.route('/about')\n",
    "def about():\n",
    "    return '<h1>关于我们</h1>'\n",
    "\n",
    "if __name__ == '__main__':\n",
    "    # 部署时我们使用环境变量\n",
    "    # 使其同时适用于生产和开发环境\n",
    "    port = int(os.environ.get(\"PORT\", 5000))\n",
    "    app.run(debug=True, host='0.0.0.0', port=port)"
   ]
  },
  {
   "cell_type": "markdown",
   "id": "c3fa26e2",
   "metadata": {},
   "source": [
    "现在，我们在上面的代码中添加了关于路由。如果我们想渲染HTML文件而不是字符串呢？使用*render_template*函数可以渲染HTML文件。让我们在项目目录中创建一个名为templates的文件夹，并在其中创建home.html和about.html。让我们也从flask导入*render_template*函数。\n",
    "\n",
    "### 创建模板\n",
    "\n",
    "在templates文件夹内创建HTML文件。\n",
    "\n",
    "home.html"
   ]
  },
  {
   "cell_type": "code",
   "execution_count": null,
   "id": "9598c8a7",
   "metadata": {
    "attributes": {
     "classes": [
      "html"
     ],
     "id": ""
    }
   },
   "outputs": [],
   "source": [
    "<!DOCTYPE html>\n",
    "<html lang=\"en\">\n",
    "  <head>\n",
    "    <meta charset=\"UTF-8\" />\n",
    "    <meta name=\"viewport\" content=\"width=device-width, initial-scale=1.0\" />\n",
    "    <title>主页</title>\n",
    "  </head>\n",
    "\n",
    "  <body>\n",
    "    <h1>欢迎回家</h1>\n",
    "  </body>\n",
    "</html>"
   ]
  },
  {
   "cell_type": "markdown",
   "id": "88095e2a",
   "metadata": {},
   "source": [
    "about.html"
   ]
  },
  {
   "cell_type": "code",
   "execution_count": null,
   "id": "5b9002b8",
   "metadata": {
    "attributes": {
     "classes": [
      "html"
     ],
     "id": ""
    }
   },
   "outputs": [],
   "source": [
    "<!DOCTYPE html>\n",
    "<html lang=\"en\">\n",
    "  <head>\n",
    "    <meta charset=\"UTF-8\" />\n",
    "    <meta name=\"viewport\" content=\"width=device-width, initial-scale=1.0\" />\n",
    "    <title>关于</title>\n",
    "  </head>\n",
    "\n",
    "  <body>\n",
    "    <h1>关于我们</h1>\n",
    "  </body>\n",
    "</html>"
   ]
  },
  {
   "cell_type": "markdown",
   "id": "3c9736fa",
   "metadata": {},
   "source": [
    "### Python脚本\n",
    "\n",
    "app.py"
   ]
  },
  {
   "cell_type": "code",
   "execution_count": null,
   "id": "5afaa912",
   "metadata": {
    "attributes": {
     "classes": [
      "py"
     ],
     "id": ""
    }
   },
   "outputs": [],
   "source": [
    "# 导入flask\n",
    "from flask import Flask, render_template\n",
    "import os # 导入操作系统模块\n",
    "\n",
    "app = Flask(__name__)\n",
    "\n",
    "@app.route('/') # 这个装饰器创建主页路由\n",
    "def home ():\n",
    "    return render_template('home.html')\n",
    "\n",
    "@app.route('/about')\n",
    "def about():\n",
    "    return render_template('about.html')\n",
    "\n",
    "if __name__ == '__main__':\n",
    "    # 部署时我们使用环境变量\n",
    "    # 使其同时适用于生产和开发环境\n",
    "    port = int(os.environ.get(\"PORT\", 5000))\n",
    "    app.run(debug=True, host='0.0.0.0', port=port)"
   ]
  },
  {
   "cell_type": "markdown",
   "id": "d3da6b12",
   "metadata": {},
   "source": [
    "正如你所看到的，为了访问不同的页面或进行导航，我们需要一个导航。让我们为每个页面添加一个链接，或者创建一个我们用于每个页面的布局。\n",
    "\n",
    "### 导航"
   ]
  },
  {
   "cell_type": "code",
   "execution_count": null,
   "id": "0bb8ed13",
   "metadata": {
    "attributes": {
     "classes": [
      "html"
     ],
     "id": ""
    }
   },
   "outputs": [],
   "source": [
    "<ul>\n",
    "  <li><a href=\"/\">主页</a></li>\n",
    "  <li><a href=\"/about\">关于</a></li>\n",
    "</ul>"
   ]
  },
  {
   "cell_type": "markdown",
   "id": "8308cc42",
   "metadata": {},
   "source": [
    "现在，我们可以使用上面的链接在页面之间导航。让我们创建一个额外的页面来处理表单数据。你可以给它取任何名字，我喜欢称它为post.html。\n",
    "\n",
    "我们可以使用Jinja2模板引擎向HTML文件注入数据。"
   ]
  },
  {
   "cell_type": "code",
   "execution_count": null,
   "id": "3d6594fe",
   "metadata": {
    "attributes": {
     "classes": [
      "py"
     ],
     "id": ""
    }
   },
   "outputs": [],
   "source": [
    "# 导入flask\n",
    "from flask import Flask, render_template, request, redirect, url_for\n",
    "import os # 导入操作系统模块\n",
    "\n",
    "app = Flask(__name__)\n",
    "\n",
    "@app.route('/') # 这个装饰器创建主页路由\n",
    "def home ():\n",
    "    techs = ['HTML', 'CSS', 'Flask', 'Python']\n",
    "    name = '30天Python编程挑战'\n",
    "    return render_template('home.html', techs=techs, name=name, title='主页')\n",
    "\n",
    "@app.route('/about')\n",
    "def about():\n",
    "    name = '30天Python编程挑战'\n",
    "    return render_template('about.html', name=name, title='关于我们')\n",
    "\n",
    "@app.route('/post')\n",
    "def post():\n",
    "    name = '编程语言文章'\n",
    "    path = request.path\n",
    "    return render_template('post.html', name=name, path=path, title='文章')\n",
    "\n",
    "if __name__ == '__main__':\n",
    "    # 部署时我们使用环境变量\n",
    "    # 使其同时适用于生产和开发环境\n",
    "    port = int(os.environ.get(\"PORT\", 5000))\n",
    "    app.run(debug=True, host='0.0.0.0', port=port)"
   ]
  },
  {
   "cell_type": "markdown",
   "id": "3d38a6ba",
   "metadata": {},
   "source": [
    "home.html"
   ]
  },
  {
   "cell_type": "code",
   "execution_count": null,
   "id": "d3f91f4a",
   "metadata": {
    "attributes": {
     "classes": [
      "html"
     ],
     "id": ""
    }
   },
   "outputs": [],
   "source": [
    "<!DOCTYPE html>\n",
    "<html lang=\"en\">\n",
    "  <head>\n",
    "    <meta charset=\"UTF-8\" />\n",
    "    <meta name=\"viewport\" content=\"width=device-width, initial-scale=1.0\" />\n",
    "    <title>{{title}}</title>\n",
    "  </head>\n",
    "\n",
    "  <body>\n",
    "    <ul>\n",
    "      <li><a href=\"/\">主页</a></li>\n",
    "      <li><a href=\"/about\">关于</a></li>\n",
    "      <li><a href=\"/post\">文章</a></li>\n",
    "    </ul>\n",
    "    <h1>欢迎回到{{name}}</h1>\n",
    "    <ul>\n",
    "      {% for tech in techs %}\n",
    "      <li>{{tech}}</li>\n",
    "      {% endfor %}\n",
    "    </ul>\n",
    "  </body>\n",
    "</html>"
   ]
  },
  {
   "cell_type": "markdown",
   "id": "9f9753b8",
   "metadata": {},
   "source": [
    "about.html"
   ]
  },
  {
   "cell_type": "code",
   "execution_count": null,
   "id": "4052b332",
   "metadata": {
    "attributes": {
     "classes": [
      "html"
     ],
     "id": ""
    }
   },
   "outputs": [],
   "source": [
    "<!DOCTYPE html>\n",
    "<html lang=\"en\">\n",
    "  <head>\n",
    "    <meta charset=\"UTF-8\" />\n",
    "    <meta name=\"viewport\" content=\"width=device-width, initial-scale=1.0\" />\n",
    "    <title>{{title}}</title>\n",
    "  </head>\n",
    "\n",
    "  <body>\n",
    "    <ul>\n",
    "      <li><a href=\"/\">主页</a></li>\n",
    "      <li><a href=\"/about\">关于</a></li>\n",
    "      <li><a href=\"/post\">文章</a></li>\n",
    "    </ul>\n",
    "    <h1>关于{{name}}</h1>\n",
    "  </body>\n",
    "</html>"
   ]
  },
  {
   "cell_type": "markdown",
   "id": "f032ed14",
   "metadata": {},
   "source": [
    "post.html"
   ]
  },
  {
   "cell_type": "code",
   "execution_count": null,
   "id": "ad0aaf32",
   "metadata": {
    "attributes": {
     "classes": [
      "html"
     ],
     "id": ""
    }
   },
   "outputs": [],
   "source": [
    "<!DOCTYPE html>\n",
    "<html lang=\"en\">\n",
    "  <head>\n",
    "    <meta charset=\"UTF-8\" />\n",
    "    <meta name=\"viewport\" content=\"width=device-width, initial-scale=1.0\" />\n",
    "    <title>{{title}}</title>\n",
    "  </head>\n",
    "\n",
    "  <body>\n",
    "    <ul>\n",
    "      <li><a href=\"/\">主页</a></li>\n",
    "      <li><a href=\"/about\">关于</a></li>\n",
    "      <li><a href=\"/post\">文章</a></li>\n",
    "    </ul>\n",
    "    <h1>{{name}}</h1>\n",
    "    <p>当前路径: {{path}}</p>\n",
    "    <form action=\"/result\" method=\"POST\">\n",
    "      <div>\n",
    "        <input\n",
    "          type=\"text\"\n",
    "          name=\"first_name\"\n",
    "          placeholder=\"第一名字\"\n",
    "          required\n",
    "        />\n",
    "      </div>\n",
    "      <div>\n",
    "        <input\n",
    "          type=\"text\"\n",
    "          name=\"last_name\"\n",
    "          placeholder=\"姓氏\"\n",
    "          required\n",
    "        />\n",
    "      </div>\n",
    "      <div>\n",
    "        <input type=\"text\" name=\"old_job\" placeholder=\"旧工作\" />\n",
    "      </div>\n",
    "      <div>\n",
    "        <input type=\"text\" name=\"current_job\" placeholder=\"当前工作\" />\n",
    "      </div>\n",
    "      <div>\n",
    "        <input type=\"text\" name=\"country\" placeholder=\"国家\" />\n",
    "      </div>\n",
    "      <div>\n",
    "        <button type=\"submit\">提交</button>\n",
    "      </div>\n",
    "    </form>\n",
    "  </body>\n",
    "</html>"
   ]
  },
  {
   "cell_type": "markdown",
   "id": "3b0f91ff",
   "metadata": {},
   "source": [
    "现在，让我们添加一个接收表单数据的路由。我们使用POST方法，因为我们将收到表单数据。"
   ]
  },
  {
   "cell_type": "code",
   "execution_count": null,
   "id": "77a24dff",
   "metadata": {
    "attributes": {
     "classes": [
      "py"
     ],
     "id": ""
    }
   },
   "outputs": [],
   "source": [
    "# 导入flask\n",
    "from flask import Flask, render_template, request, redirect, url_for\n",
    "import os # 导入操作系统模块\n",
    "\n",
    "app = Flask(__name__)\n",
    "\n",
    "@app.route('/') # 这个装饰器创建主页路由\n",
    "def home():\n",
    "    techs = ['HTML', 'CSS', 'Flask', 'Python']\n",
    "    name = '30天Python编程挑战'\n",
    "    return render_template('home.html', techs=techs, name=name, title='主页')\n",
    "\n",
    "@app.route('/about')\n",
    "def about():\n",
    "    name = '30天Python编程挑战'\n",
    "    return render_template('about.html', name=name, title='关于我们')\n",
    "\n",
    "@app.route('/post')\n",
    "def post():\n",
    "    name = '文章'\n",
    "    return render_template('post.html', name=name, title='文章')\n",
    "\n",
    "\n",
    "@app.route('/result', methods=['POST'])\n",
    "def result():\n",
    "    first_name = request.form['first_name']\n",
    "    last_name = request.form['last_name']\n",
    "    old_job = request.form['old_job']\n",
    "    current_job = request.form['current_job']\n",
    "    country = request.form['country']\n",
    "    print(first_name, last_name, old_job, current_job, country)\n",
    "    result_data = {\n",
    "        'first_name':first_name,\n",
    "        'last_name':last_name,\n",
    "        'old_job': old_job,\n",
    "        'current_job': current_job,\n",
    "        'country':country\n",
    "    }\n",
    "    return render_template('result.html', result_data = result_data, title= '结果')\n",
    "\n",
    "if __name__ == '__main__':\n",
    "    # 部署时我们使用环境变量\n",
    "    # 使其同时适用于生产和开发环境\n",
    "    port = int(os.environ.get(\"PORT\", 5000))\n",
    "    app.run(debug=True, host='0.0.0.0', port=port)"
   ]
  },
  {
   "cell_type": "markdown",
   "id": "71da5809",
   "metadata": {},
   "source": [
    "result.html"
   ]
  },
  {
   "cell_type": "code",
   "execution_count": null,
   "id": "2c97a521",
   "metadata": {
    "attributes": {
     "classes": [
      "html"
     ],
     "id": ""
    }
   },
   "outputs": [],
   "source": [
    "<!DOCTYPE html>\n",
    "<html lang=\"en\">\n",
    "  <head>\n",
    "    <meta charset=\"UTF-8\" />\n",
    "    <meta name=\"viewport\" content=\"width=device-width, initial-scale=1.0\" />\n",
    "    <title>{{title}}</title>\n",
    "  </head>\n",
    "\n",
    "  <body>\n",
    "    <ul>\n",
    "      <li><a href=\"/\">主页</a></li>\n",
    "      <li><a href=\"/about\">关于</a></li>\n",
    "      <li><a href=\"/post\">文章</a></li>\n",
    "    </ul>\n",
    "    <h1>表单数据</h1>\n",
    "\n",
    "    <ul>\n",
    "      <li>第一名字: {{result_data.first_name}}</li>\n",
    "      <li>姓氏: {{result_data.last_name}}</li>\n",
    "      <li>旧工作: {{result_data.old_job}}</li>\n",
    "      <li>当前工作: {{result_data.current_job}}</li>\n",
    "      <li>国家: {{result_data.country}}</li>\n",
    "    </ul>\n",
    "  </body>\n",
    "</html>"
   ]
  },
  {
   "cell_type": "markdown",
   "id": "6f16ad91",
   "metadata": {},
   "source": [
    "在现实世界中，我们不会在所有页面中重复HTML代码。而是创建一个布局并将其继承到其他文件中。让我们使用继承（模板）。现在，我们需要创建的不是三个不同的文件，而是一个名为layout.html的布局文件。然后其他文件将继承它。\n",
    "\n",
    "### 创建布局\n",
    "\n",
    "layout.html"
   ]
  },
  {
   "cell_type": "code",
   "execution_count": null,
   "id": "327a5fb9",
   "metadata": {
    "attributes": {
     "classes": [
      "html"
     ],
     "id": ""
    }
   },
   "outputs": [],
   "source": [
    "<!DOCTYPE html>\n",
    "<html lang=\"en\">\n",
    "  <head>\n",
    "    <meta charset=\"UTF-8\" />\n",
    "    <meta name=\"viewport\" content=\"width=device-width, initial-scale=1.0\" />\n",
    "    <link\n",
    "      href=\"https://fonts.googleapis.com/css?family=Lato:300,400|Nunito:300,400|Raleway:300,400&display=swap\"\n",
    "      rel=\"stylesheet\"\n",
    "    />\n",
    "    <link\n",
    "      rel=\"stylesheet\"\n",
    "      href=\"{{ url_for('static', filename='css/main.css') }}\"\n",
    "    />\n",
    "    {% if title %}\n",
    "    <title>30天Python - {{ title}}</title>\n",
    "    {% else %}\n",
    "    <title>30天Python</title>\n",
    "    {% endif %}\n",
    "  </head>\n",
    "\n",
    "  <body>\n",
    "    <header>\n",
    "      <div class=\"menu-container\">\n",
    "        <div>\n",
    "          <a class=\"brand-name nav-link\" href=\"/\">30天Python</a>\n",
    "        </div>\n",
    "        <ul class=\"nav-lists\">\n",
    "          <li class=\"nav-list\">\n",
    "            <a class=\"nav-link active\" href=\"{{ url_for('home') }}\">主页</a>\n",
    "          </li>\n",
    "          <li class=\"nav-list\">\n",
    "            <a class=\"nav-link active\" href=\"{{ url_for('about') }}\">关于</a>\n",
    "          </li>\n",
    "          <li class=\"nav-list\">\n",
    "            <a class=\"nav-link active\" href=\"{{ url_for('post') }}\">文章</a>\n",
    "          </li>\n",
    "        </ul>\n",
    "      </div>\n",
    "    </header>\n",
    "    <main>\n",
    "      {% block content %} {% endblock %}\n",
    "    </main>\n",
    "  </body>\n",
    "</html>"
   ]
  },
  {
   "cell_type": "markdown",
   "id": "4388b20a",
   "metadata": {},
   "source": [
    "在上面的布局中，我们创建了一个可以被所有继承布局的页面使用的公共布局。在布局内部，我们可以看到导航链接。我们使用{% block content %}{% endblock %}标记以允许子模板添加内容。\n",
    "\n",
    "home.html"
   ]
  },
  {
   "cell_type": "code",
   "execution_count": null,
   "id": "ce80e4e3",
   "metadata": {
    "attributes": {
     "classes": [
      "html"
     ],
     "id": ""
    }
   },
   "outputs": [],
   "source": [
    "{% extends 'layout.html' %} {% block content %}\n",
    "<div class=\"container\">\n",
    "  <h1>欢迎回到{{name}}</h1>\n",
    "  <p>\n",
    "    这个项目是通过使用以下技术构建的:\n",
    "    <span class=\"tech\">Flask</span>, <span class=\"tech\">Python</span>\n",
    "    and <span class=\"tech\">HTML</span> CSS</span>\n",
    "  </p>\n",
    "  <ul>\n",
    "    {% for tech in techs %}\n",
    "    <li class=\"tech\">{{tech}}</li>\n",
    "\n",
    "    {% endfor %}\n",
    "  </ul>\n",
    "</div>\n",
    "\n",
    "{% endblock %}"
   ]
  },
  {
   "cell_type": "markdown",
   "id": "30891091",
   "metadata": {},
   "source": [
    "about.html"
   ]
  },
  {
   "cell_type": "code",
   "execution_count": null,
   "id": "394133ed",
   "metadata": {
    "attributes": {
     "classes": [
      "html"
     ],
     "id": ""
    }
   },
   "outputs": [],
   "source": [
    "{% extends 'layout.html' %} {% block content %}\n",
    "<div class=\"container\">\n",
    "  <h1>关于{{name}}</h1>\n",
    "  <p>\n",
    "    这个挑战是一个30天编程挑战，旨在帮助你学习Python编程语言，通过每天解决一个Python问题。\n",
    "  </p>\n",
    "</div>\n",
    "{% endblock %}"
   ]
  },
  {
   "cell_type": "markdown",
   "id": "e129a37f",
   "metadata": {},
   "source": [
    "post.html"
   ]
  },
  {
   "cell_type": "code",
   "execution_count": null,
   "id": "cc78c189",
   "metadata": {
    "attributes": {
     "classes": [
      "html"
     ],
     "id": ""
    }
   },
   "outputs": [],
   "source": [
    "{% extends 'layout.html' %} {% block content %}\n",
    "<div class=\"container\">\n",
    "  <h1>{{name}}</h1>\n",
    "  <p>{{path}}</p>\n",
    "  <form action=\"/result\" method=\"POST\">\n",
    "    <div>\n",
    "      <input type=\"text\" name=\"first_name\" placeholder=\"第一名字\" required />\n",
    "    </div>\n",
    "    <div>\n",
    "      <input type=\"text\" name=\"last_name\" placeholder=\"姓氏\" required />\n",
    "    </div>\n",
    "    <div>\n",
    "      <input type=\"text\" name=\"old_job\" placeholder=\"旧工作\" />\n",
    "    </div>\n",
    "    <div>\n",
    "      <input type=\"text\" name=\"current_job\" placeholder=\"当前工作\" />\n",
    "    </div>\n",
    "    <div>\n",
    "      <input type=\"text\" name=\"country\" placeholder=\"国家\" />\n",
    "    </div>\n",
    "    <div>\n",
    "      <button type=\"submit\">提交</button>\n",
    "    </div>\n",
    "  </form>\n",
    "</div>\n",
    "\n",
    "{% endblock %}"
   ]
  },
  {
   "cell_type": "markdown",
   "id": "d60fbabe",
   "metadata": {},
   "source": [
    "result.html"
   ]
  },
  {
   "cell_type": "code",
   "execution_count": null,
   "id": "11105938",
   "metadata": {
    "attributes": {
     "classes": [
      "html"
     ],
     "id": ""
    }
   },
   "outputs": [],
   "source": [
    "{% extends 'layout.html' %} {% block content %}\n",
    "<div class=\"container\">\n",
    "  <h1>表单数据</h1>\n",
    "  <ul>\n",
    "    <li>第一名字: {{result_data.first_name}}</li>\n",
    "    <li>姓氏: {{result_data.last_name}}</li>\n",
    "    <li>旧工作: {{result_data.old_job}}</li>\n",
    "    <li>当前工作: {{result_data.current_job}}</li>\n",
    "    <li>国家: {{result_data.country}}</li>\n",
    "  </ul>\n",
    "</div>\n",
    "\n",
    "{% endblock %}"
   ]
  },
  {
   "cell_type": "markdown",
   "id": "6ad00c2e",
   "metadata": {},
   "source": [
    "#### 提供静态文件\n",
    "\n",
    "以下是main.css文件，我们将把它放在static/css目录中："
   ]
  },
  {
   "cell_type": "code",
   "execution_count": null,
   "id": "f23cec36",
   "metadata": {
    "attributes": {
     "classes": [
      "css"
     ],
     "id": ""
    }
   },
   "outputs": [],
   "source": [
    "/* === GENERAL === */\n",
    "body {\n",
    "  margin: 0;\n",
    "  padding: 0;\n",
    "  font-family: \"Lato\", sans-serif;\n",
    "  background-color: #f0f8ea;\n",
    "}\n",
    "\n",
    ".container {\n",
    "  max-width: 80%;\n",
    "  margin: auto;\n",
    "  padding: 30px;\n",
    "}\n",
    "\n",
    "ul {\n",
    "  list-style-type: none;\n",
    "  padding: 0;\n",
    "}\n",
    "\n",
    ".tech {\n",
    "  color: #5bbc2e;\n",
    "}\n",
    "\n",
    "/* === HEADER === */\n",
    "header {\n",
    "  background-color: #5bbc2e;\n",
    "}\n",
    "\n",
    ".menu-container {\n",
    "  display: flex;\n",
    "  justify-content: space-between;\n",
    "  padding: 20px 30px;\n",
    "}\n",
    "\n",
    ".brand-name {\n",
    "  color: white;\n",
    "  font-weight: 800;\n",
    "  font-size: 24px;\n",
    "}\n",
    "\n",
    ".nav-lists {\n",
    "  display: flex;\n",
    "}\n",
    "\n",
    ".nav-list {\n",
    "  margin-right: 15px;\n",
    "}\n",
    "\n",
    ".nav-link {\n",
    "  text-decoration: none;\n",
    "  color: white;\n",
    "  font-weight: 300;\n",
    "}\n",
    "\n",
    "/* === FORM === */\n",
    "\n",
    "form {\n",
    "  margin: 30px 0;\n",
    "  border: 1px solid #ddd;\n",
    "  padding: 30px;\n",
    "  border-radius: 10px;\n",
    "}\n",
    "\n",
    "form > div {\n",
    "  margin-bottom: 15px;\n",
    "}\n",
    "\n",
    "input {\n",
    "  width: 100%;\n",
    "  padding: 10px;\n",
    "  border: 1px solid #ddd;\n",
    "  border-radius: 5px;\n",
    "  outline: 0;\n",
    "  font-size: 16px;\n",
    "  box-sizing: border-box;\n",
    "  margin-top: 5px;\n",
    "}\n",
    "\n",
    "button {\n",
    "  padding: 12px 24px;\n",
    "  border: 0;\n",
    "  background-color: #5bbc2e;\n",
    "  color: white;\n",
    "  border-radius: 10px;\n",
    "  font-size: 16px;\n",
    "  outline: 0;\n",
    "  cursor: pointer;\n",
    "}\n",
    "\n",
    "button:hover {\n",
    "  background-color: #4b9c25;\n",
    "}"
   ]
  },
  {
   "cell_type": "markdown",
   "id": "5229c9f0",
   "metadata": {},
   "source": [
    "### 部署\n",
    "\n",
    "#### 创建Heroku账户\n",
    "\n",
    "Heroku提供了一个免费的托管服务。如果你想要部署一个应用程序，你应该有一个Heroku账户。\n",
    "\n",
    "#### 登录Heroku"
   ]
  },
  {
   "cell_type": "code",
   "execution_count": null,
   "id": "6d6a9c1d",
   "metadata": {
    "attributes": {
     "classes": [
      "sh"
     ],
     "id": ""
    }
   },
   "outputs": [],
   "source": [
    "asabeneh@Asabeneh:~/Desktop/python_for_web$ heroku login\n",
    "heroku: Press any key to open up the browser to login or q to exit:\n",
    "Opening browser to https://cli-auth.heroku.com/auth/cli/browser/ec0972d5-d8c6-4adf-b004-a42a22dd09a8\n",
    "Logging in... done\n",
    "Logged in as asabeneh@gmail.com\n",
    "asabeneh@Asabeneh:~/Desktop/python_for_web$"
   ]
  },
  {
   "cell_type": "markdown",
   "id": "4f807e15",
   "metadata": {},
   "source": [
    "#### 创建requirements和Procfile\n",
    "\n",
    "在部署应用程序之前，我们需要告诉Heroku哪些依赖包需要安装，以及如何运行应用程序。Heroku使用requirements.txt文件获取应用程序依赖包的信息。使用pip freeze命令列出所有依赖包及其版本，并将其写入requirements.txt。"
   ]
  },
  {
   "cell_type": "code",
   "execution_count": null,
   "id": "fbfd535e",
   "metadata": {
    "attributes": {
     "classes": [
      "sh"
     ],
     "id": ""
    }
   },
   "outputs": [],
   "source": [
    "asabeneh@Asabeneh:~/Desktop/python_for_web$ pip freeze\n",
    "Click==7.0\n",
    "Flask==1.1.1\n",
    "itsdangerous==1.1.0\n",
    "Jinja2==2.10.3\n",
    "MarkupSafe==1.1.1\n",
    "Werkzeug==0.16.0\n",
    "asabeneh@Asabeneh:~/Desktop/python_for_web$ pip freeze > requirements.txt"
   ]
  },
  {
   "cell_type": "markdown",
   "id": "ee3851ca",
   "metadata": {},
   "source": [
    "Procfile告诉Heroku如何运行应用程序。在本例中，我们使用Gunicorn作为WSGI HTTP服务器，用于运行Python Web应用程序。我们需要将Gunicorn添加到我们的依赖包中。"
   ]
  },
  {
   "cell_type": "code",
   "execution_count": null,
   "id": "4237ad5e",
   "metadata": {
    "attributes": {
     "classes": [
      "sh"
     ],
     "id": ""
    }
   },
   "outputs": [],
   "source": [
    "asabeneh@Asabeneh:~/Desktop/python_for_web$ pip install gunicorn\n",
    "asabeneh@Asabeneh:~/Desktop/python_for_web$ pip freeze > requirements.txt"
   ]
  },
  {
   "cell_type": "markdown",
   "id": "a49c2944",
   "metadata": {},
   "source": [
    "现在，让我们创建一个Procfile，并添加以下内容："
   ]
  },
  {
   "cell_type": "code",
   "execution_count": null,
   "id": "a118e0f4",
   "metadata": {
    "attributes": {
     "classes": [
      "sh"
     ],
     "id": ""
    }
   },
   "outputs": [],
   "source": [
    "web: gunicorn app:app"
   ]
  },
  {
   "cell_type": "markdown",
   "id": "4a6a76fa",
   "metadata": {},
   "source": [
    "#### 将项目推送到Heroku"
   ]
  },
  {
   "cell_type": "code",
   "execution_count": null,
   "id": "38f6556a",
   "metadata": {
    "attributes": {
     "classes": [
      "sh"
     ],
     "id": ""
    }
   },
   "outputs": [],
   "source": [
    "asabeneh@Asabeneh:~/Desktop/python_for_web$ heroku create 30-days-of-python-app\n",
    "Creating ⬢ 30-days-of-python-app... done\n",
    "https://30-days-of-python-app.herokuapp.com/ | https://git.heroku.com/30-days-of-python-app.git\n",
    "asabeneh@Asabeneh:~/Desktop/python_for_web$ git init\n",
    "Initialized empty Git repository in /home/asabeneh/Desktop/python_for_web/.git/\n",
    "asabeneh@Asabeneh:~/Desktop/python_for_web$ heroku git:remote -a 30-days-of-python-app\n",
    "set git remote heroku to https://git.heroku.com/30-days-of-python-app.git\n",
    "asabeneh@Asabeneh:~/Desktop/python_for_web$ echo -e \"venv\\n.vscode\" > .gitignore\n",
    "asabeneh@Asabeneh:~/Desktop/python_for_web$ git add .\n",
    "asabeneh@Asabeneh:~/Desktop/python_for_web$ git commit -m \"first python web app\"\n",
    "[master (root-commit) 9dfcc6a] first python web app\n",
    " 9 files changed, 403 insertions(+)\n",
    " create mode 100644 .gitignore\n",
    " create mode 100644 Procfile\n",
    " create mode 100644 app.py\n",
    " create mode 100644 requirements.txt\n",
    " create mode 100644 static/css/main.css\n",
    " create mode 100644 templates/about.html\n",
    " create mode 100644 templates/home.html\n",
    " create mode 100644 templates/layout.html\n",
    " create mode 100644 templates/post.html\n",
    " create mode 100644 templates/result.html\n",
    "asabeneh@Asabeneh:~/Desktop/python_for_web$ git push heroku master\n",
    "Enumerating objects: 14, done.\n",
    "Counting objects: 100% (14/14), done.\n",
    "Delta compression using up to 2 threads\n",
    "Compressing objects: 100% (12/12), done.\n",
    "Writing objects: 100% (14/14), 6.08 KiB | 1.52 MiB/s, done.\n",
    "Total 14 (delta 2), reused 0 (delta 0)\n",
    "remote: Compressing source files... done.\n",
    "remote: Building source:\n",
    "remote:\n",
    "remote: -----> Python app detected\n",
    "remote: -----> Installing python-3.6.10\n",
    "remote: -----> Installing pip\n",
    "remote: -----> Installing dependencies with Pipenv 2018.5.18…\n",
    "remote:        Installing dependencies from Pipfile.lock (872ae5)…\n",
    "remote: -----> Installing SQLite3\n",
    "remote: -----> $ python manage.py collectstatic --noinput\n",
    "remote:        Traceback (most recent call last):\n",
    "remote:          File \"manage.py\", line 10, in <module>\n",
    "remote:            from app import app\n",
    "remote:        ModuleNotFoundError: No module named 'app'\n",
    "remote:\n",
    "remote:  !     Error while running '$ python manage.py collectstatic --noinput'.\n",
    "remote:        See traceback above for details.\n",
    "remote:\n",
    "remote:        You may need to update application code to resolve this error.\n",
    "remote:        Or, you can disable collectstatic for this application:\n",
    "remote:\n",
    "remote:           $ heroku config:set DISABLE_COLLECTSTATIC=1\n",
    "remote:\n",
    "remote:        https://devcenter.heroku.com/articles/django-assets\n",
    "remote: -----> Discovering process types\n",
    "remote:        Procfile declares types -> web\n",
    "remote:\n",
    "remote: -----> Compressing...\n",
    "remote:        Done: 55.7M\n",
    "remote: -----> Launching...\n",
    "remote:        Released v3\n",
    "remote:        https://30-days-of-python-app.herokuapp.com/ deployed to Heroku\n",
    "remote:\n",
    "remote: Verifying deploy... done.\n",
    "To https://git.heroku.com/30-days-of-python-app.git\n",
    " * [new branch]      master -> master\n",
    "asabeneh@Asabeneh:~/Desktop/python_for_web$"
   ]
  },
  {
   "cell_type": "markdown",
   "id": "e2894279",
   "metadata": {},
   "source": [
    "如你所见，我们已经成功地创建了第一个网络应用程序、对其进行部署，并将其托管在Heroku上。您可以使用此[链接](https://30-days-of-python-app.herokuapp.com/)尝试本应用程序。\n",
    "\n",
    "事不宜迟，让我们做一些练习，巩固所学到的知识。\n",
    "\n",
    "## 练习：第26天\n",
    "\n",
    "1. 创建一个名为\"成绩计算器\"的Flask应用程序。用户可以输入他们的分数、科目名称，然后应用程序应根据分数显示不同的消息：\n",
    "   - 如果分数≥90，显示\"优秀！你的[科目]成绩是[分数]\"。\n",
    "   - 如果80≤分数<90，显示\"很好！你的[科目]成绩是[分数]\"。\n",
    "   - 如果70≤分数<80，显示\"一般！你的[科目]成绩是[分数]\"。\n",
    "   - 如果60≤分数<70，显示\"及格！你的[科目]成绩是[分数]\"。\n",
    "   - 如果分数<60，显示\"你需要更加努力！你的[科目]成绩是[分数]\"。\n",
    "\n",
    "2. 创建一个\"体重指数计算器\"应用程序，计算体重指数(BMI)，公式为体重(kg)/(身高(m)²)。根据BMI值显示不同的健康状态：\n",
    "   - BMI<18.5：\"体重过轻\"\n",
    "   - 18.5≤BMI<24.9：\"健康体重\"\n",
    "   - 25≤BMI<29.9：\"超重\"\n",
    "   - BMI≥30：\"肥胖\"\n",
    "\n",
    "3. 创建一个博客应用程序，用户可以添加、编辑和删除博客文章。\n",
    "\n",
    "4. 创建一个\"任务管理器\"应用程序，用户可以添加、查看和删除任务。\n",
    "\n",
    "🎉 恭喜！🎉\n",
    "\n",
    "[<< 第25天](./25_Day_Pandas/25_pandas_cn.md) | [第27天 >>](./27_Day_Python_with_mongodb/27_python_with_mongodb_cn.md)"
   ]
  }
 ],
 "metadata": {},
 "nbformat": 4,
 "nbformat_minor": 5
}
