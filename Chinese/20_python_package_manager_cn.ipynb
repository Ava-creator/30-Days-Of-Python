{
 "cells": [
  {
   "cell_type": "markdown",
   "id": "f4d67e56",
   "metadata": {},
   "source": [
    "# 30天Python编程挑战：第20天 - PIP\n",
    "\n",
    "- [第20天](#-第20天)\n",
    "  - [Python PIP - Python包管理器](#python-pip---python包管理器)\n",
    "    - [什么是PIP？](#什么是pip)\n",
    "    - [安装PIP](#安装pip)\n",
    "    - [使用pip安装包](#使用pip安装包)\n",
    "    - [卸载包](#卸载包)\n",
    "    - [包列表](#包列表)\n",
    "    - [显示包信息](#显示包信息)\n",
    "    - [PIP Freeze](#pip-freeze)\n",
    "    - [从URL读取数据](#从url读取数据)\n",
    "    - [创建包](#创建包)\n",
    "    - [关于包的更多信息](#关于包的更多信息)\n",
    "  - [练习：第20天](#练习第20天)\n",
    "\n",
    "# 📘 第20天\n",
    "\n",
    "## Python PIP - Python包管理器\n",
    "\n",
    "### 什么是PIP？\n",
    "\n",
    "PIP代表首选安装程序(Preferred installer program)。我们使用_pip_来安装不同的Python包。\n",
    "包是一个Python模块，可以包含一个或多个模块或其他包。我们可以安装到应用程序中的模块或模块集合就是一个包。\n",
    "在编程中，我们不必编写每个实用程序，而是安装包并将它们导入到我们的应用程序中。\n",
    "\n",
    "### 安装PIP\n",
    "\n",
    "如果你还没有安装pip，让我们现在安装它。转到你的终端或命令提示符，复制并粘贴："
   ]
  },
  {
   "cell_type": "code",
   "execution_count": null,
   "id": "16e53544",
   "metadata": {
    "attributes": {
     "classes": [
      "sh"
     ],
     "id": ""
    }
   },
   "outputs": [],
   "source": [
    "asabeneh@Asabeneh:~$ pip install pip"
   ]
  },
  {
   "cell_type": "markdown",
   "id": "8497019b",
   "metadata": {},
   "source": [
    "通过以下命令检查pip是否已安装："
   ]
  },
  {
   "cell_type": "code",
   "execution_count": null,
   "id": "237860ee",
   "metadata": {
    "attributes": {
     "classes": [
      "sh"
     ],
     "id": ""
    }
   },
   "outputs": [],
   "source": [
    "pip --version"
   ]
  },
  {
   "cell_type": "code",
   "execution_count": null,
   "id": "e7ec8624",
   "metadata": {
    "attributes": {
     "classes": [
      "py"
     ],
     "id": ""
    }
   },
   "outputs": [],
   "source": [
    "asabeneh@Asabeneh:~$ pip --version\n",
    "pip 21.1.3 from /usr/local/lib/python3.7/site-packages/pip (python 3.9.6)"
   ]
  },
  {
   "cell_type": "markdown",
   "id": "c305a0cb",
   "metadata": {},
   "source": [
    "如你所见，我正在使用pip 21.1.3版本，如果你看到的数字比这个稍低或稍高，说明你已经安装了pip。\n",
    "\n",
    "让我们了解一下Python社区中用于不同目的的一些包。请注意，有很多可用于不同应用程序的包。\n",
    "\n",
    "### 使用pip安装包\n",
    "\n",
    "让我们尝试安装_numpy_，即数值Python。它是机器学习和数据科学社区中最流行的包之一。\n",
    "\n",
    "- NumPy是Python科学计算的基础包。它包含以下内容：\n",
    "  - 强大的N维数组对象\n",
    "  - 复杂的（广播）函数\n",
    "  - 用于集成C/C++和Fortran代码的工具\n",
    "  - 有用的线性代数、傅里叶变换和随机数功能"
   ]
  },
  {
   "cell_type": "code",
   "execution_count": null,
   "id": "32dcb621",
   "metadata": {
    "attributes": {
     "classes": [
      "sh"
     ],
     "id": ""
    }
   },
   "outputs": [],
   "source": [
    "asabeneh@Asabeneh:~$ pip install numpy"
   ]
  },
  {
   "cell_type": "markdown",
   "id": "078653cc",
   "metadata": {},
   "source": [
    "让我们开始使用numpy。打开你的Python交互式shell，输入python，然后按如下方式导入numpy："
   ]
  },
  {
   "cell_type": "code",
   "execution_count": null,
   "id": "b7cc30ab",
   "metadata": {
    "attributes": {
     "classes": [
      "py"
     ],
     "id": ""
    }
   },
   "outputs": [],
   "source": [
    "asabeneh@Asabeneh:~$ python\n",
    "Python 3.9.6 (default, Jun 28 2021, 15:26:21)\n",
    "[Clang 11.0.0 (clang-1100.0.33.8)] on darwin\n",
    "Type \"help\", \"copyright\", \"credits\" or \"license\" for more information.\n",
    ">>> import numpy\n",
    ">>> numpy.version.version\n",
    "'1.20.1'\n",
    ">>> lst = [1, 2, 3,4, 5]\n",
    ">>> np_arr = numpy.array(lst)\n",
    ">>> np_arr\n",
    "array([1, 2, 3, 4, 5])\n",
    ">>> len(np_arr)\n",
    "5\n",
    ">>> np_arr * 2\n",
    "array([ 2,  4,  6,  8, 10])\n",
    ">>> np_arr  + 2\n",
    "array([3, 4, 5, 6, 7])\n",
    ">>>"
   ]
  },
  {
   "cell_type": "markdown",
   "id": "8e589e64",
   "metadata": {},
   "source": [
    "Pandas是一个开源的、BSD许可的库，为Python编程语言提供高性能、易用的数据结构和数据分析工具。让我们安装numpy的\"大兄弟\"_pandas_："
   ]
  },
  {
   "cell_type": "code",
   "execution_count": null,
   "id": "b6ef526a",
   "metadata": {
    "attributes": {
     "classes": [
      "sh"
     ],
     "id": ""
    }
   },
   "outputs": [],
   "source": [
    "asabeneh@Asabeneh:~$ pip install pandas"
   ]
  },
  {
   "cell_type": "code",
   "execution_count": null,
   "id": "60c12c37",
   "metadata": {
    "attributes": {
     "classes": [
      "py"
     ],
     "id": ""
    }
   },
   "outputs": [],
   "source": [
    "asabeneh@Asabeneh:~$ python\n",
    "Python 3.9.6 (default, Jun 28 2021, 15:26:21)\n",
    "[Clang 11.0.0 (clang-1100.0.33.8)] on darwin\n",
    "Type \"help\", \"copyright\", \"credits\" or \"license\" for more information.\n",
    ">>> import pandas"
   ]
  },
  {
   "cell_type": "markdown",
   "id": "4a9091dd",
   "metadata": {},
   "source": [
    "这一节不是关于numpy或pandas的，我们在这里尝试学习如何安装包以及如何导入它们。如果需要，我们将在其他章节讨论不同的包。\n",
    "\n",
    "让我们导入一个Web浏览器模块，它可以帮助我们打开任何网站。我们不需要安装这个模块，它已经默认安装在Python 3中。例如，如果你想随时打开任意数量的网站，或者如果你想安排某些事情，可以使用这个_webbrowser_模块。"
   ]
  },
  {
   "cell_type": "code",
   "execution_count": null,
   "id": "ff59b6f0",
   "metadata": {
    "attributes": {
     "classes": [
      "py"
     ],
     "id": ""
    }
   },
   "outputs": [],
   "source": [
    "import webbrowser # web浏览器模块用于打开网站\n",
    "\n",
    "# 网址列表：Python\n",
    "url_lists = [\n",
    "    'http://www.python.org',\n",
    "    'https://www.linkedin.com/in/asabeneh/',\n",
    "    'https://github.com/Asabeneh',\n",
    "    'https://twitter.com/Asabeneh',\n",
    "]\n",
    "\n",
    "# 在不同的标签页中打开上面的网站列表\n",
    "for url in url_lists:\n",
    "    webbrowser.open_new_tab(url)"
   ]
  },
  {
   "cell_type": "markdown",
   "id": "7f2432af",
   "metadata": {},
   "source": [
    "### 卸载包\n",
    "\n",
    "如果你不想保留已安装的包，可以使用以下命令删除它们。"
   ]
  },
  {
   "cell_type": "code",
   "execution_count": null,
   "id": "50cfedf4",
   "metadata": {
    "attributes": {
     "classes": [
      "sh"
     ],
     "id": ""
    }
   },
   "outputs": [],
   "source": [
    "pip uninstall packagename"
   ]
  },
  {
   "cell_type": "markdown",
   "id": "a918757f",
   "metadata": {},
   "source": [
    "### 包列表\n",
    "\n",
    "要查看我们机器上已安装的包，我们可以使用pip后跟list。"
   ]
  },
  {
   "cell_type": "code",
   "execution_count": null,
   "id": "9aeb5ac3",
   "metadata": {
    "attributes": {
     "classes": [
      "sh"
     ],
     "id": ""
    }
   },
   "outputs": [],
   "source": [
    "pip list"
   ]
  },
  {
   "cell_type": "markdown",
   "id": "606426ba",
   "metadata": {},
   "source": [
    "### 显示包信息\n",
    "\n",
    "要显示有关包的信息："
   ]
  },
  {
   "cell_type": "code",
   "execution_count": null,
   "id": "b6a631be",
   "metadata": {
    "attributes": {
     "classes": [
      "sh"
     ],
     "id": ""
    }
   },
   "outputs": [],
   "source": [
    "pip show packagename"
   ]
  },
  {
   "cell_type": "code",
   "execution_count": null,
   "id": "50b34d5b",
   "metadata": {
    "attributes": {
     "classes": [
      "sh"
     ],
     "id": ""
    }
   },
   "outputs": [],
   "source": [
    "asabeneh@Asabeneh:~$ pip show pandas\n",
    "Name: pandas\n",
    "Version: 1.2.3\n",
    "Summary: Powerful data structures for data analysis, time series, and statistics\n",
    "Home-page: http://pandas.pydata.org\n",
    "Author: None\n",
    "Author-email: None\n",
    "License: BSD\n",
    "Location: /usr/local/lib/python3.7/site-packages\n",
    "Requires: python-dateutil, pytz, numpy\n",
    "Required-by:"
   ]
  },
  {
   "cell_type": "markdown",
   "id": "ad68cbac",
   "metadata": {},
   "source": [
    "如果我们想要更多的详细信息，只需添加--verbose"
   ]
  },
  {
   "cell_type": "code",
   "execution_count": null,
   "id": "30241fe6",
   "metadata": {
    "attributes": {
     "classes": [
      "sh"
     ],
     "id": ""
    }
   },
   "outputs": [],
   "source": [
    "asabeneh@Asabeneh:~$ pip show --verbose pandas\n",
    "Name: pandas\n",
    "Version: 1.2.3\n",
    "Summary: Powerful data structures for data analysis, time series, and statistics\n",
    "Home-page: http://pandas.pydata.org\n",
    "Author: None\n",
    "Author-email: None\n",
    "License: BSD\n",
    "Location: /usr/local/lib/python3.7/site-packages\n",
    "Requires: numpy, pytz, python-dateutil\n",
    "Required-by:\n",
    "Metadata-Version: 2.1\n",
    "Installer: pip\n",
    "Classifiers:\n",
    "  Development Status :: 5 - Production/Stable\n",
    "  Environment :: Console\n",
    "  Operating System :: OS Independent\n",
    "  Intended Audience :: Science/Research\n",
    "  Programming Language :: Python\n",
    "  Programming Language :: Python :: 3\n",
    "  Programming Language :: Python :: 3.5\n",
    "  Programming Language :: Python :: 3.6\n",
    "  Programming Language :: Python :: 3.7\n",
    "  Programming Language :: Python :: 3.8\n",
    "  Programming Language :: Cython\n",
    "  Topic :: Scientific/Engineering\n",
    "Entry-points:\n",
    "  [pandas_plotting_backends]\n",
    "  matplotlib = pandas:plotting._matplotlib"
   ]
  },
  {
   "cell_type": "markdown",
   "id": "06560cfc",
   "metadata": {},
   "source": [
    "### PIP Freeze\n",
    "\n",
    "生成已安装的Python包及其版本，输出适合在requirements文件中使用。requirements.txt文件是一个包含Python项目中所有已安装的Python包的文件。"
   ]
  },
  {
   "cell_type": "code",
   "execution_count": null,
   "id": "9ac157e8",
   "metadata": {
    "attributes": {
     "classes": [
      "sh"
     ],
     "id": ""
    }
   },
   "outputs": [],
   "source": [
    "asabeneh@Asabeneh:~$ pip freeze\n",
    "docutils==0.11\n",
    "Jinja2==2.7.2\n",
    "MarkupSafe==0.19\n",
    "Pygments==1.6\n",
    "Sphinx==1.2.2"
   ]
  },
  {
   "cell_type": "markdown",
   "id": "1f0e7295",
   "metadata": {},
   "source": [
    "pip freeze给我们列出了使用的、已安装的包及其版本。我们将它与requirements.txt文件一起用于部署。\n",
    "\n",
    "### 从URL读取数据\n",
    "\n",
    "到目前为止，你已经熟悉了如何读取或写入位于本地机器上的文件。有时，我们想要使用url从网站或API读取数据。\n",
    "API代表应用程序编程接口。它是一种在服务器之间交换结构化数据的方式，主要是json数据。要打开网络连接，我们需要一个名为_requests_的包——它允许打开网络连接并实现CRUD（创建、读取、更新和删除）操作。在本节中，我们将只涵盖CRUD的读取或获取部分。\n",
    "\n",
    "让我们安装_requests_："
   ]
  },
  {
   "cell_type": "code",
   "execution_count": null,
   "id": "ab96b229",
   "metadata": {
    "attributes": {
     "classes": [
      "py"
     ],
     "id": ""
    }
   },
   "outputs": [],
   "source": [
    "asabeneh@Asabeneh:~$ pip install requests"
   ]
  },
  {
   "cell_type": "markdown",
   "id": "2925f12c",
   "metadata": {},
   "source": [
    "我们将在_requests_模块中看到_get_、_status_code_、_headers_、_text_和_json_方法：\n",
    "  - _get()_：打开网络并从url获取数据——它返回一个响应对象\n",
    "  - _status_code_：在我们获取数据后，我们可以检查操作的状态（成功、错误等）\n",
    "  - _headers_：检查头部类型\n",
    "  - _text_：从获取的响应对象中提取文本\n",
    "  - _json_：提取json数据\n",
    "让我们从这个网站读取一个txt文件，https://www.w3.org/TR/PNG/iso_8859-1.txt。"
   ]
  },
  {
   "cell_type": "code",
   "execution_count": null,
   "id": "58896dd8",
   "metadata": {
    "attributes": {
     "classes": [
      "py"
     ],
     "id": ""
    }
   },
   "outputs": [],
   "source": [
    "import requests # 导入请求模块\n",
    "\n",
    "url = 'https://www.w3.org/TR/PNG/iso_8859-1.txt' # 来自网站的文本\n",
    "\n",
    "response = requests.get(url) # 打开网络并获取数据\n",
    "print(response)\n",
    "print(response.status_code) # 状态码，成功时为200\n",
    "print(response.headers)     # 获取响应的头部信息\n",
    "print(response.text) # 获取文本数据"
   ]
  },
  {
   "cell_type": "markdown",
   "id": "07341626",
   "metadata": {},
   "source": [
    "让我们读取一个API并得到一个json数据："
   ]
  },
  {
   "cell_type": "code",
   "execution_count": null,
   "id": "325117df",
   "metadata": {
    "attributes": {
     "classes": [
      "py"
     ],
     "id": ""
    }
   },
   "outputs": [],
   "source": [
    "import requests\n",
    "url = 'https://restcountries.eu/rest/v2/all'  # 包含关于250多个国家的信息的国家API\n",
    "response = requests.get(url)  # 打开网络并获取数据\n",
    "print(response) # 响应对象\n",
    "print(response.status_code)  # 状态码，成功时为200\n",
    "countries = response.json()\n",
    "print(countries[:1])  # 我们只打印第一个国家信息，原始数据太大"
   ]
  },
  {
   "cell_type": "markdown",
   "id": "726897fc",
   "metadata": {},
   "source": [
    "我们用一个国家API示例获取了json数据。我们可以导入json模块，并使用json.loads(response.text)方法将文本转换为json格式。然而，我们也可以直接使用response.json()方法。\n",
    "\n",
    "Let us see another example similar to the above but with a different API, world_bank_ethiopia data:\n",
    "让我们看另一个类似于上面的例子，但使用不同的API，世界银行埃塞俄比亚数据："
   ]
  },
  {
   "cell_type": "code",
   "execution_count": null,
   "id": "1bb81436",
   "metadata": {
    "attributes": {
     "classes": [
      "py"
     ],
     "id": ""
    }
   },
   "outputs": [],
   "source": [
    "import requests\n",
    "from pprint import pp # 导入pretty print，以美观地显示\n",
    "\n",
    "url = 'http://api.worldbank.org/countries/et?format=json'  # 埃塞俄比亚经济数据API\n",
    "response = requests.get(url)  # 打开网络并获取数据\n",
    "print(response) # 响应对象\n",
    "print(response.status_code)  # 状态码，成功时为200\n",
    "# 让我们改变响应的JSON格式\n",
    "ethiopia_data = response.json()\n",
    "pp(ethiopia_data) # 用pretty print打印数据"
   ]
  },
  {
   "cell_type": "markdown",
   "id": "da55b24f",
   "metadata": {},
   "source": [
    "### 创建包\n",
    "\n",
    "我们可以创建自己的包，上传到Python包管理器仓库，并从那里下载它。让我们创建一个非常简单的包来演示。创建一个名为mypackage的目录，在该目录中创建一个名为__init__.py的空文件和以下文件："
   ]
  },
  {
   "cell_type": "code",
   "execution_count": null,
   "id": "7458a1ad",
   "metadata": {
    "attributes": {
     "classes": [
      "py"
     ],
     "id": ""
    }
   },
   "outputs": [],
   "source": [
    "# mypackage/arithmetics.py\n",
    "def add_numbers(*args):\n",
    "    total = 0\n",
    "    for num in args:\n",
    "        total += num\n",
    "    return total\n",
    "\n",
    "def subtract(a, b):\n",
    "    return (a - b)\n",
    "\n",
    "def multiple(a, b):\n",
    "    return a * b\n",
    "\n",
    "def division(a, b):\n",
    "    return a / b\n",
    "\n",
    "def remainder(a, b):\n",
    "    return a % b\n",
    "\n",
    "def power(a, b):\n",
    "    return a ** b"
   ]
  },
  {
   "cell_type": "code",
   "execution_count": null,
   "id": "45b26471",
   "metadata": {
    "attributes": {
     "classes": [
      "py"
     ],
     "id": ""
    }
   },
   "outputs": [],
   "source": [
    "# mypackage/greet.py\n",
    "def greet_person(firstname, lastname):\n",
    "    return f'{firstname} {lastname}, welcome to 30DaysOfPython Challenge!'"
   ]
  },
  {
   "cell_type": "markdown",
   "id": "a4aa36e0",
   "metadata": {},
   "source": [
    "__init__.py在python 3.3及更高版本中并非绝对必要，但对于兼容性，最好加上。\n",
    "\n",
    "现在，让我们使用刚刚创建的包："
   ]
  },
  {
   "cell_type": "code",
   "execution_count": null,
   "id": "e30c1c17",
   "metadata": {
    "attributes": {
     "classes": [
      "py"
     ],
     "id": ""
    }
   },
   "outputs": [],
   "source": [
    "from mypackage import arithmetics\n",
    "print(arithmetics.add_numbers(1, 2, 3, 5))\n",
    "print(arithmetics.subtract(5, 3))\n",
    "print(arithmetics.multiple(5, 3))\n",
    "print(arithmetics.division(5, 3))\n",
    "print(arithmetics.remainder(5, 3))\n",
    "print(arithmetics.power(5, 3))\n",
    "\n",
    "from mypackage import greet\n",
    "print(greet.greet_person('张', '三'))"
   ]
  },
  {
   "cell_type": "markdown",
   "id": "787eacb8",
   "metadata": {},
   "source": [
    "### 关于包的更多信息\n",
    "\n",
    "- Python有许多不同目的的内置包和模块，但有些不包含在内置包中，我们需要安装它们。\n",
    "- 有多种方法可以安装包，但建议使用pip。\n",
    "  - 使用 pip：pip是Python、PyPI和virtualenv推荐的安装和管理Python包的工具。\n",
    "- 如何列出已安装的包：\n",
    "  - pip list：列出机器中安装的所有包。\n",
    "- 使用requirements.txt进行开发环境和生产环境：\n",
    "  - 要生成已安装包的列表：pip freeze来本地生成已安装包的列表，以便用于开发环境和生产环境需求。\n",
    "- 如何卸载包：\n",
    "  - 要卸载，请使用pip：pip uninstall packagename。\n",
    "  - 另一种方法：pip uninstall -r requirements.txt卸载在requirements.txt中列出的所有包。\n",
    "- 使用virtualenv：\n",
    "  - virtualenv是一个工具，用于创建隔离的Python环境。它创建一个在自己的目录树中包含所有必要的可执行文件，以使用指定版本的Python运行Python项目所需的包。\n",
    "  - 原始的virtualenv工具可以通过\n",
    "    - pip install virtualenv\n",
    "    - 来安装。\n",
    "\n",
    "## 练习：第20天\n",
    "\n",
    "1. 阅读关于虚拟环境的更多信息，尝试创建虚拟环境并安装至少一个包\n",
    "\n",
    "2. 使用一个国家API，获取所有国家信息，并找出前十个人口最多的国家\n",
    "\n",
    "3. 从国家API数据中找出官方语言是英语(eng)的所有国家\n",
    "\n",
    "4. 从国家API数据中获取数据，根据国家的面积找出前十个最大的国家\n",
    "\n",
    "5. 从国家API数据中找出所有从新列出的国家，按他们的首都排序\n",
    "\n",
    "🎉 恭喜！🎉\n",
    "\n",
    "[<< 第19天](./19_Day_File_handling/19_file_handling_cn.md) | [第21天 >>](./21_Day_Classes_and_objects/21_classes_and_objects_cn.md)"
   ]
  }
 ],
 "metadata": {},
 "nbformat": 4,
 "nbformat_minor": 5
}
