{
 "cells": [
  {
   "cell_type": "markdown",
   "id": "f2b6ddea",
   "metadata": {},
   "source": [
    "# 30天Python编程挑战：第24天 - 统计\n",
    "\n",
    "- [第24天](#-第24天)\n",
    "  - [Python进行统计分析](#python进行统计分析)\n",
    "  - [统计学](#统计学)\n",
    "  - [数据](#数据)\n",
    "  - [统计模块](#统计模块)\n",
    "- [NumPy](#numpy)\n",
    "  - [导入NumPy](#导入numpy)\n",
    "  - [使用NumPy创建数组](#使用numpy创建数组)\n",
    "    - [创建整型NumPy数组](#创建整型numpy数组)\n",
    "    - [创建浮点型NumPy数组](#创建浮点型numpy数组)\n",
    "    - [创建布尔型NumPy数组](#创建布尔型numpy数组)\n",
    "    - [使用NumPy创建多维数组](#使用numpy创建多维数组)\n",
    "    - [将NumPy数组转换为列表](#将numpy数组转换为列表)\n",
    "    - [从元组创建NumPy数组](#从元组创建numpy数组)\n",
    "    - [NumPy数组的形状](#numpy数组的形状)\n",
    "    - [NumPy数组的数据类型](#numpy数组的数据类型)\n",
    "    - [NumPy数组的大小](#numpy数组的大小)\n",
    "  - [使用NumPy进行数学运算](#使用numpy进行数学运算)\n",
    "    - [加法](#加法)\n",
    "\n",
    "# 📘 第24天\n",
    "\n",
    "## Python进行统计分析\n",
    "\n",
    "## 统计学\n",
    "\n",
    "统计学是研究数据的_收集_、_组织_、_显示_、_分析_、_解释_和_呈现_的学科。\n",
    "统计学是数学的一个分支，建议作为数据科学和机器学习的先决条件。统计学是一个非常广泛的领域，但在本节中，我们将只关注最相关的部分。\n",
    "完成这个挑战后，你可以进入Web开发、数据分析、机器学习和数据科学的道路。无论你选择哪条路，在你的职业生涯中的某个时刻，你都会得到可能需要处理的数据。拥有一些统计知识将帮助你基于数据做出决策，正如他们所说的_数据会告诉我们_。\n",
    "\n",
    "## 数据\n",
    "\n",
    "什么是数据？数据是为某种目的收集和翻译的任何字符集，通常用于分析。它可以是任何字符，包括文本和数字、图片、声音或视频。如果数据没有放在上下文中，对人类或计算机来说都没有任何意义。为了从数据中获取意义，我们需要使用不同的工具来处理数据。\n",
    "\n",
    "数据分析、数据科学或机器学习的工作流程都是从数据开始的。数据可以由某些数据源提供，也可以创建。有结构化和非结构化数据。\n",
    "\n",
    "数据可以以小型或大型格式存在。我们将获得的大多数数据类型已在文件处理部分中介绍。\n",
    "\n",
    "## 统计模块\n",
    "\n",
    "Python的_statistics_模块提供了用于计算数值数据的数学统计的函数。该模块并不打算与第三方库如NumPy、SciPy或面向专业统计学家的专有全功能统计软件包（如Minitab、SAS和Matlab）竞争。它的目标是达到图形和科学计算器的水平。\n",
    "\n",
    "# NumPy\n",
    "\n",
    "在第一部分中，我们将Python定义为一种优秀的通用编程语言，但在其他流行库（如numpy、scipy、matplotlib、pandas等）的帮助下，它成为了一个强大的科学计算环境。\n",
    "\n",
    "NumPy是Python中科学计算的核心库。它提供了高性能的多维数组对象和用于处理这些数组的工具。\n",
    "\n",
    "到目前为止，我们一直在使用vscode，但从现在开始，我建议使用Jupyter Notebook。要访问jupyter notebook，让我们安装[anaconda](https://www.anaconda.com/)。如果你使用anaconda，大多数常用的包都已包含在内，如果你已安装anaconda，就不需要再安装这些包。"
   ]
  },
  {
   "cell_type": "code",
   "execution_count": null,
   "id": "2c847717",
   "metadata": {
    "attributes": {
     "classes": [
      "sh"
     ],
     "id": ""
    }
   },
   "outputs": [],
   "source": [
    "asabeneh@Asabeneh:~/Desktop/30DaysOfPython$ pip install numpy"
   ]
  },
  {
   "cell_type": "markdown",
   "id": "40b2f81e",
   "metadata": {},
   "source": [
    "## 导入NumPy\n",
    "\n",
    "如果你喜欢[jupyter notebook](https://github.com/Asabeneh/data-science-for-everyone/blob/master/numpy/numpy.ipynb)，可以使用它"
   ]
  },
  {
   "cell_type": "code",
   "execution_count": null,
   "id": "87580aad",
   "metadata": {
    "attributes": {
     "classes": [
      "py"
     ],
     "id": ""
    }
   },
   "outputs": [],
   "source": [
    "# 如何导入numpy\n",
    "import numpy as np\n",
    "# 如何检查numpy包的版本\n",
    "print('numpy:', np.__version__)\n",
    "# 检查可用的方法\n",
    "print(dir(np))"
   ]
  },
  {
   "cell_type": "markdown",
   "id": "16eaa89b",
   "metadata": {},
   "source": [
    "## 使用NumPy创建数组\n",
    "\n",
    "### 创建整型NumPy数组"
   ]
  },
  {
   "cell_type": "code",
   "execution_count": null,
   "id": "3565e116",
   "metadata": {
    "attributes": {
     "classes": [
      "py"
     ],
     "id": ""
    }
   },
   "outputs": [],
   "source": [
    "# 创建Python列表\n",
    "python_list = [1,2,3,4,5]\n",
    "\n",
    "# 检查数据类型\n",
    "print('Type:', type (python_list)) # <class 'list'>\n",
    "#\n",
    "print(python_list) # [1, 2, 3, 4, 5]\n",
    "\n",
    "two_dimensional_list = [[0,1,2], [3,4,5], [6,7,8]]\n",
    "\n",
    "print(two_dimensional_list)  # [[0, 1, 2], [3, 4, 5], [6, 7, 8]]\n",
    "\n",
    "# 从Python列表创建NumPy(数值Python)数组\n",
    "\n",
    "numpy_array_from_list = np.array(python_list)\n",
    "print(type (numpy_array_from_list))   # <class 'numpy.ndarray'>\n",
    "print(numpy_array_from_list) # array([1, 2, 3, 4, 5])"
   ]
  },
  {
   "cell_type": "markdown",
   "id": "06a8b1b4",
   "metadata": {},
   "source": [
    "### 创建浮点型NumPy数组\n",
    "\n",
    "使用浮点数据类型参数从列表创建浮点NumPy数组"
   ]
  },
  {
   "cell_type": "code",
   "execution_count": null,
   "id": "63e84f12",
   "metadata": {
    "attributes": {
     "classes": [
      "py"
     ],
     "id": ""
    }
   },
   "outputs": [],
   "source": [
    "# Python列表\n",
    "python_list = [1,2,3,4,5]\n",
    "\n",
    "numy_array_from_list2 = np.array(python_list, dtype=float)\n",
    "print(numy_array_from_list2) # array([1., 2., 3., 4., 5.])"
   ]
  },
  {
   "cell_type": "markdown",
   "id": "9f964969",
   "metadata": {},
   "source": [
    "### 创建布尔型NumPy数组\n",
    "\n",
    "从列表创建布尔NumPy数组"
   ]
  },
  {
   "cell_type": "code",
   "execution_count": null,
   "id": "d1357d55",
   "metadata": {
    "attributes": {
     "classes": [
      "py"
     ],
     "id": ""
    }
   },
   "outputs": [],
   "source": [
    "numpy_bool_array = np.array([0, 1, -1, 0, 0], dtype=bool)\n",
    "print(numpy_bool_array) # array([False,  True,  True, False, False])"
   ]
  },
  {
   "cell_type": "markdown",
   "id": "d6507a17",
   "metadata": {},
   "source": [
    "### 使用NumPy创建多维数组\n",
    "\n",
    "一个NumPy数组可能有一个或多个行和列"
   ]
  },
  {
   "cell_type": "code",
   "execution_count": null,
   "id": "3fd039de",
   "metadata": {
    "attributes": {
     "classes": [
      "py"
     ],
     "id": ""
    }
   },
   "outputs": [],
   "source": [
    "two_dimensional_list = [[0,1,2], [3,4,5], [6,7,8]]\n",
    "numpy_two_dimensional_list = np.array(two_dimensional_list)\n",
    "print(type (numpy_two_dimensional_list))\n",
    "print(numpy_two_dimensional_list)"
   ]
  },
  {
   "cell_type": "code",
   "execution_count": null,
   "id": "afc42362",
   "metadata": {
    "attributes": {
     "classes": [
      "sh"
     ],
     "id": ""
    }
   },
   "outputs": [],
   "source": [
    "<class 'numpy.ndarray'>\n",
    "[[0 1 2]\n",
    " [3 4 5]\n",
    " [6 7 8]]"
   ]
  },
  {
   "cell_type": "markdown",
   "id": "ee1d06e0",
   "metadata": {},
   "source": [
    "### 将NumPy数组转换为列表"
   ]
  },
  {
   "cell_type": "code",
   "execution_count": null,
   "id": "55d92156",
   "metadata": {},
   "outputs": [],
   "source": [
    "# 我们总是可以使用tolist()将数组转换回Python列表。\n",
    "np_to_list = numpy_array_from_list.tolist()\n",
    "print(type (np_to_list))\n",
    "print('一维数组:', np_to_list)\n",
    "print('二维数组: ', numpy_two_dimensional_list.tolist())"
   ]
  },
  {
   "cell_type": "code",
   "execution_count": null,
   "id": "ad4d121a",
   "metadata": {
    "attributes": {
     "classes": [
      "sh"
     ],
     "id": ""
    }
   },
   "outputs": [],
   "source": [
    "<class 'list'>\n",
    "一维数组: [1, 2, 3, 4, 5]\n",
    "二维数组:  [[0, 1, 2], [3, 4, 5], [6, 7, 8]]"
   ]
  },
  {
   "cell_type": "markdown",
   "id": "ccb246b8",
   "metadata": {},
   "source": [
    "### 从元组创建NumPy数组"
   ]
  },
  {
   "cell_type": "code",
   "execution_count": null,
   "id": "41629a8e",
   "metadata": {
    "attributes": {
     "classes": [
      "py"
     ],
     "id": ""
    }
   },
   "outputs": [],
   "source": [
    "# 从元组创建NumPy数组\n",
    "# 在Python中创建元组\n",
    "python_tuple = (1,2,3,4,5)\n",
    "print(type (python_tuple)) # <class 'tuple'>\n",
    "print('python_tuple: ', python_tuple) # python_tuple:  (1, 2, 3, 4, 5)\n",
    "\n",
    "numpy_array_from_tuple = np.array(python_tuple)\n",
    "print(type (numpy_array_from_tuple)) # <class 'numpy.ndarray'>\n",
    "print('numpy_array_from_tuple: ', numpy_array_from_tuple) # numpy_array_from_tuple:  [1 2 3 4 5]"
   ]
  },
  {
   "cell_type": "markdown",
   "id": "5a15e25c",
   "metadata": {},
   "source": [
    "### NumPy数组的形状\n",
    "\n",
    "shape方法以元组形式提供数组的形状。第一个是行，第二个是列。如果数组只是一维的，它返回数组的大小。"
   ]
  },
  {
   "cell_type": "code",
   "execution_count": null,
   "id": "cd20373b",
   "metadata": {
    "attributes": {
     "classes": [
      "py"
     ],
     "id": ""
    }
   },
   "outputs": [],
   "source": [
    "nums = np.array([1, 2, 3, 4, 5])\n",
    "print(nums)\n",
    "print('nums的形状: ', nums.shape)\n",
    "print(numpy_two_dimensional_list)\n",
    "print('numpy_two_dimensional_list的形状: ', numpy_two_dimensional_list.shape)\n",
    "three_by_four_array = np.array([[0, 1, 2, 3],\n",
    "    [4,5,6,7],\n",
    "    [8,9,10, 11]])\n",
    "print(three_by_four_array.shape)"
   ]
  },
  {
   "cell_type": "code",
   "execution_count": null,
   "id": "b314d4f5",
   "metadata": {
    "attributes": {
     "classes": [
      "sh"
     ],
     "id": ""
    }
   },
   "outputs": [],
   "source": [
    "[1 2 3 4 5]\n",
    "nums的形状:  (5,)\n",
    "[[0 1 2]\n",
    " [3 4 5]\n",
    " [6 7 8]]\n",
    "numpy_two_dimensional_list的形状:  (3, 3)\n",
    "(3, 4)"
   ]
  },
  {
   "cell_type": "markdown",
   "id": "0299d8cc",
   "metadata": {},
   "source": [
    "### NumPy数组的数据类型\n",
    "\n",
    "数据类型的类型：str, int, float, complex, bool, list, None"
   ]
  },
  {
   "cell_type": "code",
   "execution_count": null,
   "id": "d8f5850f",
   "metadata": {
    "attributes": {
     "classes": [
      "py"
     ],
     "id": ""
    }
   },
   "outputs": [],
   "source": [
    "int_lists = [-3, -2, -1, 0, 1, 2,3]\n",
    "int_array = np.array(int_lists)\n",
    "float_array = np.array(int_lists, dtype=float)\n",
    "\n",
    "print(int_array)\n",
    "print(int_array.dtype)\n",
    "print(float_array)\n",
    "print(float_array.dtype)"
   ]
  },
  {
   "cell_type": "code",
   "execution_count": null,
   "id": "6772bba8",
   "metadata": {
    "attributes": {
     "classes": [
      "sh"
     ],
     "id": ""
    }
   },
   "outputs": [],
   "source": [
    "[-3 -2 -1  0  1  2  3]\n",
    "int64\n",
    "[-3. -2. -1.  0.  1.  2.  3.]\n",
    "float64"
   ]
  },
  {
   "cell_type": "markdown",
   "id": "4df8d949",
   "metadata": {},
   "source": [
    "### NumPy数组的大小\n",
    "\n",
    "在NumPy中，要知道NumPy数组列表中的项目数，我们使用size"
   ]
  },
  {
   "cell_type": "code",
   "execution_count": null,
   "id": "3b2cc14f",
   "metadata": {
    "attributes": {
     "classes": [
      "py"
     ],
     "id": ""
    }
   },
   "outputs": [],
   "source": [
    "numpy_array_from_list = np.array([1, 2, 3, 4, 5])\n",
    "two_dimensional_list = np.array([[0, 1, 2],\n",
    "                              [3, 4, 5],\n",
    "                              [6, 7, 8]])\n",
    "\n",
    "print('大小:', numpy_array_from_list.size) # 5\n",
    "print('大小:', two_dimensional_list.size)  # 9"
   ]
  },
  {
   "cell_type": "code",
   "execution_count": null,
   "id": "f0d6fa0b",
   "metadata": {
    "attributes": {
     "classes": [
      "sh"
     ],
     "id": ""
    }
   },
   "outputs": [],
   "source": [
    "大小: 5\n",
    "大小: 9"
   ]
  },
  {
   "cell_type": "markdown",
   "id": "d4ff4098",
   "metadata": {},
   "source": [
    "## 使用NumPy进行数学运算\n",
    "\n",
    "NumPy数组与Python列表不完全相同。要对Python列表进行数学运算，我们必须遍历项目，但NumPy可以不通过循环就进行任何数学运算。\n",
    "数学运算：\n",
    "\n",
    "- 加法 (+)\n",
    "- 减法 (-)\n",
    "- 乘法 (*)\n",
    "- 除法 (/)\n",
    "- 模数 (%)\n",
    "- 整除 (//)\n",
    "- 指数 (**)\n",
    "\n",
    "### 加法"
   ]
  },
  {
   "cell_type": "code",
   "execution_count": null,
   "id": "1fd54646",
   "metadata": {
    "attributes": {
     "classes": [
      "py"
     ],
     "id": ""
    }
   },
   "outputs": [],
   "source": [
    "# 声明\n",
    "numpy_array_from_list = np.array([1, 2, 3, 4, 5])\n",
    "print('原始数组: ', numpy_array_from_list)\n",
    "print('加法: ', numpy_array_from_list + 2)\n",
    "print('加法: ', np.add(numpy_array_from_list, 2))"
   ]
  },
  {
   "cell_type": "code",
   "execution_count": null,
   "id": "fc372947",
   "metadata": {
    "attributes": {
     "classes": [
      "sh"
     ],
     "id": ""
    }
   },
   "outputs": [],
   "source": [
    "原始数组:  [1 2 3 4 5]\n",
    "加法:  [3 4 5 6 7]\n",
    "加法:  [3 4 5 6 7]"
   ]
  },
  {
   "cell_type": "markdown",
   "id": "61f7e147",
   "metadata": {},
   "source": [
    "### 减法"
   ]
  },
  {
   "cell_type": "code",
   "execution_count": null,
   "id": "1b712401",
   "metadata": {
    "attributes": {
     "classes": [
      "py"
     ],
     "id": ""
    }
   },
   "outputs": [],
   "source": [
    "# 声明\n",
    "numpy_array_from_list = np.array([1, 2, 3, 4, 5])\n",
    "print('原始数组: ', numpy_array_from_list)\n",
    "print('减法: ', numpy_array_from_list - 2)\n",
    "print('减法: ', np.subtract(numpy_array_from_list, 2))"
   ]
  },
  {
   "cell_type": "code",
   "execution_count": null,
   "id": "436cd4aa",
   "metadata": {
    "attributes": {
     "classes": [
      "sh"
     ],
     "id": ""
    }
   },
   "outputs": [],
   "source": [
    "原始数组:  [1 2 3 4 5]\n",
    "减法:  [-1  0  1  2  3]\n",
    "减法:  [-1  0  1  2  3]"
   ]
  },
  {
   "cell_type": "markdown",
   "id": "1e0829de",
   "metadata": {},
   "source": [
    "### 乘法"
   ]
  },
  {
   "cell_type": "code",
   "execution_count": null,
   "id": "770f2645",
   "metadata": {
    "attributes": {
     "classes": [
      "py"
     ],
     "id": ""
    }
   },
   "outputs": [],
   "source": [
    "# 声明\n",
    "numpy_array_from_list = np.array([1, 2, 3, 4, 5])\n",
    "print('原始数组: ', numpy_array_from_list)\n",
    "print('乘法: ', numpy_array_from_list * 2)\n",
    "print('乘法: ', np.multiply(numpy_array_from_list, 2))"
   ]
  },
  {
   "cell_type": "code",
   "execution_count": null,
   "id": "1f1f5ad0",
   "metadata": {
    "attributes": {
     "classes": [
      "sh"
     ],
     "id": ""
    }
   },
   "outputs": [],
   "source": [
    "原始数组:  [1 2 3 4 5]\n",
    "乘法:  [ 2  4  6  8 10]\n",
    "乘法:  [ 2  4  6  8 10]"
   ]
  },
  {
   "cell_type": "markdown",
   "id": "a9323811",
   "metadata": {},
   "source": [
    "### 除法"
   ]
  },
  {
   "cell_type": "code",
   "execution_count": null,
   "id": "091e5f87",
   "metadata": {
    "attributes": {
     "classes": [
      "py"
     ],
     "id": ""
    }
   },
   "outputs": [],
   "source": [
    "# 声明\n",
    "numpy_array_from_list = np.array([1, 2, 3, 4, 5])\n",
    "print('原始数组: ', numpy_array_from_list)\n",
    "print('除法: ', numpy_array_from_list / 2)\n",
    "print('除法: ', np.divide(numpy_array_from_list, 2))"
   ]
  },
  {
   "cell_type": "code",
   "execution_count": null,
   "id": "429c6ef8",
   "metadata": {
    "attributes": {
     "classes": [
      "sh"
     ],
     "id": ""
    }
   },
   "outputs": [],
   "source": [
    "原始数组:  [1 2 3 4 5]\n",
    "除法:  [0.5 1.  1.5 2.  2.5]\n",
    "除法:  [0.5 1.  1.5 2.  2.5]"
   ]
  },
  {
   "cell_type": "markdown",
   "id": "100bac99",
   "metadata": {},
   "source": [
    "### 模数"
   ]
  },
  {
   "cell_type": "code",
   "execution_count": null,
   "id": "68086ba2",
   "metadata": {
    "attributes": {
     "classes": [
      "py"
     ],
     "id": ""
    }
   },
   "outputs": [],
   "source": [
    "# 声明\n",
    "numpy_array_from_list = np.array([1, 2, 3, 4, 5])\n",
    "print('原始数组: ', numpy_array_from_list)\n",
    "print('模数: ', numpy_array_from_list % 2)\n",
    "print('模数: ', np.mod(numpy_array_from_list, 2))"
   ]
  },
  {
   "cell_type": "code",
   "execution_count": null,
   "id": "c24834c5",
   "metadata": {
    "attributes": {
     "classes": [
      "sh"
     ],
     "id": ""
    }
   },
   "outputs": [],
   "source": [
    "原始数组:  [1 2 3 4 5]\n",
    "模数:  [1 0 1 0 1]\n",
    "模数:  [1 0 1 0 1]"
   ]
  },
  {
   "cell_type": "markdown",
   "id": "ea3ba6e5",
   "metadata": {},
   "source": [
    "### 整除"
   ]
  },
  {
   "cell_type": "code",
   "execution_count": null,
   "id": "44d2e01e",
   "metadata": {
    "attributes": {
     "classes": [
      "py"
     ],
     "id": ""
    }
   },
   "outputs": [],
   "source": [
    "# 声明\n",
    "numpy_array_from_list = np.array([1, 2, 3, 4, 5])\n",
    "print('原始数组: ', numpy_array_from_list)\n",
    "print('整除: ', numpy_array_from_list // 2)\n",
    "print('整除: ', np.floor_divide(numpy_array_from_list, 2))"
   ]
  },
  {
   "cell_type": "code",
   "execution_count": null,
   "id": "50440aa4",
   "metadata": {
    "attributes": {
     "classes": [
      "sh"
     ],
     "id": ""
    }
   },
   "outputs": [],
   "source": [
    "原始数组:  [1 2 3 4 5]\n",
    "整除:  [0 1 1 2 2]\n",
    "整除:  [0 1 1 2 2]"
   ]
  },
  {
   "cell_type": "markdown",
   "id": "fff8ca22",
   "metadata": {},
   "source": [
    "### 指数"
   ]
  },
  {
   "cell_type": "code",
   "execution_count": null,
   "id": "18c35134",
   "metadata": {
    "attributes": {
     "classes": [
      "py"
     ],
     "id": ""
    }
   },
   "outputs": [],
   "source": [
    "# 声明\n",
    "numpy_array_from_list = np.array([1, 2, 3, 4, 5])\n",
    "print('原始数组: ', numpy_array_from_list)\n",
    "print('指数: ', numpy_array_from_list ** 2)\n",
    "print('指数: ', np.power(numpy_array_from_list, 2))"
   ]
  },
  {
   "cell_type": "code",
   "execution_count": null,
   "id": "eab3f717",
   "metadata": {
    "attributes": {
     "classes": [
      "sh"
     ],
     "id": ""
    }
   },
   "outputs": [],
   "source": [
    "原始数组:  [1 2 3 4 5]\n",
    "指数:  [ 1  4  9 16 25]\n",
    "指数:  [ 1  4  9 16 25]"
   ]
  },
  {
   "cell_type": "markdown",
   "id": "ebd3d733",
   "metadata": {},
   "source": [
    "## 检查数据类型"
   ]
  },
  {
   "cell_type": "code",
   "execution_count": null,
   "id": "579fa25e",
   "metadata": {
    "attributes": {
     "classes": [
      "py"
     ],
     "id": ""
    }
   },
   "outputs": [],
   "source": [
    "numpy_int_arr = np.array([1, 2, 3, 4])\n",
    "numpy_float_arr = np.array([1.1, 2.0, 3.2])\n",
    "numpy_bool_arr = np.array([-3, -2, 0, 1, 2, 3], dtype='bool')\n",
    "\n",
    "print(numpy_int_arr.dtype)\n",
    "print(numpy_float_arr.dtype)\n",
    "print(numpy_bool_arr.dtype)"
   ]
  },
  {
   "cell_type": "code",
   "execution_count": null,
   "id": "83fe71d8",
   "metadata": {
    "attributes": {
     "classes": [
      "sh"
     ],
     "id": ""
    }
   },
   "outputs": [],
   "source": [
    "int64\n",
    "float64\n",
    "bool"
   ]
  },
  {
   "cell_type": "markdown",
   "id": "b65e45ea",
   "metadata": {},
   "source": [
    "## 转换类型\n",
    "\n",
    "我们可以使用astype将数据类型从一种类型转换为另一种类型。让我们将int类型转换为浮点数，浮点数转换为整数，整数转换为布尔型。"
   ]
  },
  {
   "cell_type": "code",
   "execution_count": null,
   "id": "83e1a8c4",
   "metadata": {
    "attributes": {
     "classes": [
      "py"
     ],
     "id": ""
    }
   },
   "outputs": [],
   "source": [
    "numpy_int_arr = np.array([1, 2, 3, 4], dtype='float')\n",
    "numpy_int_arr.astype('int').dtype\n",
    "numpy_float_arr = np.array([1.1, 2.0, 3.2])\n",
    "numpy_float_arr.astype('int').dtype\n",
    "numpy_int_arr = np.array([-3, -2, 0, 1, 2, 3])\n",
    "numpy_int_arr.astype('bool').dtype"
   ]
  },
  {
   "cell_type": "code",
   "execution_count": null,
   "id": "004dd922",
   "metadata": {
    "attributes": {
     "classes": [
      "sh"
     ],
     "id": ""
    }
   },
   "outputs": [],
   "source": [
    "int64\n",
    "int64\n",
    "bool"
   ]
  },
  {
   "cell_type": "markdown",
   "id": "56981627",
   "metadata": {},
   "source": [
    "## 多维数组\n",
    "\n",
    "NumPy的主要优点之一是处理多维数组。我们先构建多维数组。"
   ]
  },
  {
   "cell_type": "code",
   "execution_count": null,
   "id": "b5b13c4c",
   "metadata": {
    "attributes": {
     "classes": [
      "py"
     ],
     "id": ""
    }
   },
   "outputs": [],
   "source": [
    "two_dimension_array = np.array([(1,2,3),(4,5,6), (7,8,9)])\n",
    "print(type (two_dimension_array))\n",
    "print(two_dimension_array)\n",
    "print('形状: ', two_dimension_array.shape)\n",
    "print('大小: ', two_dimension_array.size)\n",
    "print('数据类型: ', two_dimension_array.dtype)"
   ]
  },
  {
   "cell_type": "code",
   "execution_count": null,
   "id": "279199fd",
   "metadata": {
    "attributes": {
     "classes": [
      "sh"
     ],
     "id": ""
    }
   },
   "outputs": [],
   "source": [
    "<class 'numpy.ndarray'>\n",
    "[[1 2 3]\n",
    " [4 5 6]\n",
    " [7 8 9]]\n",
    "形状:  (3, 3)\n",
    "大小:  9\n",
    "数据类型:  int64"
   ]
  },
  {
   "cell_type": "markdown",
   "id": "b1a4a3ef",
   "metadata": {},
   "source": [
    "### 从NumPy中获取项目"
   ]
  },
  {
   "cell_type": "code",
   "execution_count": null,
   "id": "c9b1b378",
   "metadata": {
    "attributes": {
     "classes": [
      "py"
     ],
     "id": ""
    }
   },
   "outputs": [],
   "source": [
    "# 二维数组\n",
    "two_dimension_array = np.array([[1,2,3],[4,5,6], [7,8,9]])\n",
    "first_row = two_dimension_array[0]\n",
    "second_row = two_dimension_array[1]\n",
    "third_row = two_dimension_array[2]\n",
    "print('第一行:', first_row)\n",
    "print('第二行:', second_row)\n",
    "print('第三行: ', third_row)"
   ]
  },
  {
   "cell_type": "code",
   "execution_count": null,
   "id": "f8495ef2",
   "metadata": {
    "attributes": {
     "classes": [
      "sh"
     ],
     "id": ""
    }
   },
   "outputs": [],
   "source": [
    "第一行: [1 2 3]\n",
    "第二行: [4 5 6]\n",
    "第三行:  [7 8 9]"
   ]
  },
  {
   "cell_type": "markdown",
   "id": "9f2c91f1",
   "metadata": {},
   "source": [
    "现在让我们获取每一行的第一项："
   ]
  },
  {
   "cell_type": "code",
   "execution_count": null,
   "id": "67689da5",
   "metadata": {
    "attributes": {
     "classes": [
      "py"
     ],
     "id": ""
    }
   },
   "outputs": [],
   "source": [
    "first_column= two_dimension_array[:,0]\n",
    "second_column = two_dimension_array[:,1]\n",
    "third_column = two_dimension_array[:,2]\n",
    "print('第一列:', first_column)\n",
    "print('第二列:', second_column)\n",
    "print('第三列: ', third_column)"
   ]
  },
  {
   "cell_type": "code",
   "execution_count": null,
   "id": "41c7c5b3",
   "metadata": {
    "attributes": {
     "classes": [
      "sh"
     ],
     "id": ""
    }
   },
   "outputs": [],
   "source": [
    "第一列: [1 4 7]\n",
    "第二列: [2 5 8]\n",
    "第三列:  [3 6 9]"
   ]
  },
  {
   "cell_type": "markdown",
   "id": "692ba726",
   "metadata": {},
   "source": [
    "## NumPy数组切片\n",
    "\n",
    "切片NumPy数组与切片Python列表相似，只是它适用于两个维度（行和列）。让我们先看看如何从NumPy数组中切片项目。"
   ]
  },
  {
   "cell_type": "code",
   "execution_count": null,
   "id": "deba238a",
   "metadata": {
    "attributes": {
     "classes": [
      "py"
     ],
     "id": ""
    }
   },
   "outputs": [],
   "source": [
    "numpy_array_from_list = np.array([1, 2, 3, 4, 5, 6, 7, 8, 9, 10])\n",
    "print('原始数组：', numpy_array_from_list)\n",
    "\n",
    "# 第一个参数代表：起始位置\n",
    "# 第二个参数代表：停止位置\n",
    "# 第三个参数代表：步长\n",
    "print('第一个参数代表：起始位置')\n",
    "print('第二个参数代表：停止位置')\n",
    "print('第三个参数代表：步长')\n",
    "# 使用正index\n",
    "ten_first_items = numpy_array_from_list[0:10]\n",
    "print('前10项：', ten_first_items)\n",
    "first_five_items = numpy_array_from_list[:5]\n",
    "print('前5项：', first_five_items)\n",
    "last_five_items = numpy_array_from_list[5:]\n",
    "print('后5项：', last_five_items)\n",
    "# 使用负index\n",
    "last_five_items = numpy_array_from_list[-5:]\n",
    "print('后5项：', last_five_items)"
   ]
  },
  {
   "cell_type": "code",
   "execution_count": null,
   "id": "1f46d4f9",
   "metadata": {
    "attributes": {
     "classes": [
      "sh"
     ],
     "id": ""
    }
   },
   "outputs": [],
   "source": [
    "原始数组： [ 1  2  3  4  5  6  7  8  9 10]\n",
    "第一个参数代表：起始位置\n",
    "第二个参数代表：停止位置\n",
    "第三个参数代表：步长\n",
    "前10项： [ 1  2  3  4  5  6  7  8  9 10]\n",
    "前5项： [1 2 3 4 5]\n",
    "后5项： [ 6  7  8  9 10]\n",
    "后5项： [ 6  7  8  9 10]"
   ]
  },
  {
   "cell_type": "markdown",
   "id": "1de235b8",
   "metadata": {},
   "source": [
    "现在，让我们通过设置步长来访问每个2个项目："
   ]
  },
  {
   "cell_type": "code",
   "execution_count": null,
   "id": "81932593",
   "metadata": {
    "attributes": {
     "classes": [
      "py"
     ],
     "id": ""
    }
   },
   "outputs": [],
   "source": [
    "every_two_item = numpy_array_from_list[::2]\n",
    "print('每隔一项：', every_two_item)"
   ]
  },
  {
   "cell_type": "code",
   "execution_count": null,
   "id": "1ef08b99",
   "metadata": {
    "attributes": {
     "classes": [
      "sh"
     ],
     "id": ""
    }
   },
   "outputs": [],
   "source": [
    "每隔一项： [1 3 5 7 9]"
   ]
  },
  {
   "cell_type": "markdown",
   "id": "a524202b",
   "metadata": {},
   "source": [
    "让我们反转数组："
   ]
  },
  {
   "cell_type": "code",
   "execution_count": null,
   "id": "5cac43b3",
   "metadata": {
    "attributes": {
     "classes": [
      "py"
     ],
     "id": ""
    }
   },
   "outputs": [],
   "source": [
    "reversed_array = numpy_array_from_list[::-1]\n",
    "print('反转数组：', reversed_array)"
   ]
  },
  {
   "cell_type": "code",
   "execution_count": null,
   "id": "79c05619",
   "metadata": {
    "attributes": {
     "classes": [
      "sh"
     ],
     "id": ""
    }
   },
   "outputs": [],
   "source": [
    "反转数组： [10  9  8  7  6  5  4  3  2  1]"
   ]
  },
  {
   "cell_type": "markdown",
   "id": "2cd0e464",
   "metadata": {},
   "source": [
    "我们可以在NumPy二维数组上使用切片："
   ]
  },
  {
   "cell_type": "code",
   "execution_count": null,
   "id": "b08562fc",
   "metadata": {
    "attributes": {
     "classes": [
      "py"
     ],
     "id": ""
    }
   },
   "outputs": [],
   "source": [
    "two_dimension_array = np.array([[1,2,3],[4,5,6], [7,8,9]])\n",
    "print(two_dimension_array)\n",
    "print(two_dimension_array[1, 1])\n",
    "print(two_dimension_array[1, 1:3])\n",
    "print(two_dimension_array[1:3, 1:3])"
   ]
  },
  {
   "cell_type": "code",
   "execution_count": null,
   "id": "fad727d7",
   "metadata": {
    "attributes": {
     "classes": [
      "sh"
     ],
     "id": ""
    }
   },
   "outputs": [],
   "source": [
    "[[1 2 3]\n",
    " [4 5 6]\n",
    " [7 8 9]]\n",
    "5\n",
    "[5 6]\n",
    "[[5 6]\n",
    " [8 9]]"
   ]
  },
  {
   "cell_type": "markdown",
   "id": "b9cd6af8",
   "metadata": {},
   "source": [
    "## NumPy连接数组\n",
    "\n",
    "NumPy提供了连接数组的方法。"
   ]
  },
  {
   "cell_type": "code",
   "execution_count": null,
   "id": "46d33524",
   "metadata": {
    "attributes": {
     "classes": [
      "py"
     ],
     "id": ""
    }
   },
   "outputs": [],
   "source": [
    "first_array = np.array([1, 2, 3])\n",
    "second_array = np.array([4, 5, 6])\n",
    "third_array = np.array([7, 8, 9])\n",
    "print('第一个数组：', first_array)\n",
    "print('第二个数组：', second_array)\n",
    "print('第三个数组：', third_array)"
   ]
  },
  {
   "cell_type": "code",
   "execution_count": null,
   "id": "325c9b68",
   "metadata": {
    "attributes": {
     "classes": [
      "sh"
     ],
     "id": ""
    }
   },
   "outputs": [],
   "source": [
    "第一个数组： [1 2 3]\n",
    "第二个数组： [4 5 6]\n",
    "第三个数组： [7 8 9]"
   ]
  },
  {
   "cell_type": "markdown",
   "id": "1c387f6b",
   "metadata": {},
   "source": [
    "### 水平连接"
   ]
  },
  {
   "cell_type": "code",
   "execution_count": null,
   "id": "f4176423",
   "metadata": {
    "attributes": {
     "classes": [
      "py"
     ],
     "id": ""
    }
   },
   "outputs": [],
   "source": [
    "horizontal_concat = np.hstack((first_array, second_array, third_array))\n",
    "print('水平连接：', horizontal_concat)"
   ]
  },
  {
   "cell_type": "code",
   "execution_count": null,
   "id": "b1717286",
   "metadata": {
    "attributes": {
     "classes": [
      "sh"
     ],
     "id": ""
    }
   },
   "outputs": [],
   "source": [
    "水平连接： [1 2 3 4 5 6 7 8 9]"
   ]
  },
  {
   "cell_type": "markdown",
   "id": "f4c4c4b2",
   "metadata": {},
   "source": [
    "### 垂直连接"
   ]
  },
  {
   "cell_type": "code",
   "execution_count": null,
   "id": "cbcb6d4f",
   "metadata": {
    "attributes": {
     "classes": [
      "py"
     ],
     "id": ""
    }
   },
   "outputs": [],
   "source": [
    "vertical_concat = np.vstack((first_array, second_array, third_array))\n",
    "print('垂直连接：', vertical_concat)"
   ]
  },
  {
   "cell_type": "code",
   "execution_count": null,
   "id": "d9a2c23c",
   "metadata": {
    "attributes": {
     "classes": [
      "sh"
     ],
     "id": ""
    }
   },
   "outputs": [],
   "source": [
    "垂直连接：\n",
    "[[1 2 3]\n",
    " [4 5 6]\n",
    " [7 8 9]]"
   ]
  },
  {
   "cell_type": "markdown",
   "id": "dba59f49",
   "metadata": {},
   "source": [
    "## 常见NumPy函数\n",
    "\n",
    "我们看看最常见的NumPy函数：\n",
    "\n",
    "### 最小值、最大值、平均值、中位数和百分位数"
   ]
  },
  {
   "cell_type": "code",
   "execution_count": null,
   "id": "03ad6ebb",
   "metadata": {
    "attributes": {
     "classes": [
      "py"
     ],
     "id": ""
    }
   },
   "outputs": [],
   "source": [
    "numpy_array_from_list = np.array([1, 2, 3, 4, 5, 6, 7, 8, 9, 10])\n",
    "print('最小值：', numpy_array_from_list.min())\n",
    "print('最大值：', numpy_array_from_list.max())\n",
    "print('平均值：', numpy_array_from_list.mean())"
   ]
  },
  {
   "cell_type": "markdown",
   "id": "51d1fc08",
   "metadata": {},
   "source": [
    "🎉 恭喜！🎉\n",
    "\n",
    "[<< 第23天](./23_Day_Virtual_environment/23_virtual_environment_cn.md) | [第25天 >>](./25_Day_Pandas/25_pandas_cn.md)"
   ]
  }
 ],
 "metadata": {},
 "nbformat": 4,
 "nbformat_minor": 5
}
