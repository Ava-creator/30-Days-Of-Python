{
 "cells": [
  {
   "cell_type": "markdown",
   "id": "c26aacc6",
   "metadata": {},
   "source": [
    "<div align=\"center\">\n",
    "  <h1> 30天Python：第14天 - 高阶函数</h1>\n",
    "  <a class=\"header-badge\" target=\"_blank\" href=\"https://www.linkedin.com/in/asabeneh/\">\n",
    "  <img src=\"https://img.shields.io/badge/style--5eba00.svg?label=LinkedIn&logo=linkedin&style=social\">\n",
    "  </a>\n",
    "  <a class=\"header-badge\" target=\"_blank\" href=\"https://twitter.com/Asabeneh\">\n",
    "  <img alt=\"Twitter Follow\" src=\"https://img.shields.io/twitter/follow/asabeneh?style=social\">\n",
    "  </a>\n",
    "\n",
    "<sub>作者:\n",
    "<a href=\"https://www.linkedin.com/in/asabeneh/\" target=\"_blank\">Oludayo adeoye</a><br>\n",
    "<small>第二版：2021 年 7 月</small>\n",
    "</sub>\n",
    "\n",
    "</div>\n",
    "\n",
    "[<< 第 13 天](../13_Day_List_comprehension/13_list_comprehension.md) | [第 15 天>>](../15_Day_Python_type_errors/15_python_type_errors.md)\n",
    "\n",
    "![30DaysOfPython](../images/30DaysOfPython_banner3@2x.png)\n",
    "\n",
    "- [📘 第 14 天](#-第14天)\n",
    "  - [高阶函数](#高阶函数)\n",
    "    - [函数作为参数](#函数作为参数)\n",
    "    - [函数作为返回值](#函数作为返回值)\n",
    "  - [Python 闭包](#python闭包)\n",
    "  - [Python 装饰器](#python装饰器)\n",
    "    - [创建装饰器](#创建装饰器)\n",
    "    - [将多个装饰器应用于单个函数](#将多个装饰器应用于单个函数)\n",
    "    - [在装饰器函数中接受参数](#在装饰器函数中接受参数)\n",
    "  - [内置高阶函数](#内置高阶函数)\n",
    "    - [Python - Map 函数](#python---map函数)\n",
    "    - [Python - Filter 函数](#python---filter函数)\n",
    "    - [Python - Reduce 函数](#python---reduce函数)\n",
    "  - [💻 练习：第 14 天](#-练习-第14天)\n",
    "    - [练习：简单](#练习-简单)\n",
    "    - [练习：中等](#练习-中等)\n",
    "    - [练习：高级](#练习-高级)\n",
    "\n",
    "# 📘 第 14 天\n",
    "\n",
    "## 高阶函数\n",
    "\n",
    "在 Python 中，函数被视为第一类公民，可以对函数执行以下操作：\n",
    "\n",
    "- 一个函数可以接收一个或多个函数作为参数\n",
    "- 一个函数可以作为另一个函数的返回值\n",
    "- 一个函数可以被修改\n",
    "- 一个函数可以被赋值给变量\n",
    "\n",
    "在本节中，我们将讨论：\n",
    "\n",
    "1. 将函数作为参数传递\n",
    "2. 将函数作为返回值返回\n",
    "3. 使用 Python 闭包和装饰器\n",
    "\n",
    "### 函数作为参数"
   ]
  },
  {
   "cell_type": "code",
   "execution_count": null,
   "id": "c9760965",
   "metadata": {
    "attributes": {
     "classes": [
      "py"
     ],
     "id": ""
    }
   },
   "outputs": [],
   "source": [
    "def sum_numbers(nums):  # 普通函数\n",
    "    return sum(nums)    # 使用内置函数sum的函数\n",
    "\n",
    "def higher_order_function(f, lst):  # 将函数作为参数\n",
    "    summation = f(lst)\n",
    "    return summation\n",
    "result = higher_order_function(sum_numbers, [1, 2, 3, 4, 5])\n",
    "print(result)       # 15"
   ]
  },
  {
   "cell_type": "markdown",
   "id": "e12cae1e",
   "metadata": {},
   "source": [
    "### 函数作为返回值"
   ]
  },
  {
   "cell_type": "code",
   "execution_count": null,
   "id": "778b5873",
   "metadata": {
    "attributes": {
     "classes": [
      "py"
     ],
     "id": ""
    }
   },
   "outputs": [],
   "source": [
    "def square(x):          # 求平方函数\n",
    "    return x ** 2\n",
    "\n",
    "def cube(x):            # 求立方函数\n",
    "    return x ** 3\n",
    "\n",
    "def absolute(x):        # 求绝对值函数\n",
    "    if x >= 0:\n",
    "        return x\n",
    "    else:\n",
    "        return -(x)\n",
    "\n",
    "def higher_order_function(type): # 返回一个函数的高阶函数\n",
    "    if type == 'square':\n",
    "        return square\n",
    "    elif type == 'cube':\n",
    "        return cube\n",
    "    elif type == 'absolute':\n",
    "        return absolute\n",
    "\n",
    "result = higher_order_function('square')\n",
    "print(result(3))       # 9\n",
    "result = higher_order_function('cube')\n",
    "print(result(3))       # 27\n",
    "result = higher_order_function('absolute')\n",
    "print(result(-3))      # 3"
   ]
  },
  {
   "cell_type": "markdown",
   "id": "45c01033",
   "metadata": {},
   "source": [
    "从上述示例中可以看到，高阶函数根据传入的参数来返回不同的函数。\n",
    "\n",
    "## Python 闭包\n",
    "\n",
    "Python 允许嵌套函数访问外部封闭函数的作用域。 这称为闭包。 让我们看看闭包在 Python 中的工作原理。在 Python 中，闭包是通过在另一个封装函数内部嵌套函数，然后返回内部函数来创建的。请看下面的例子。\n",
    "\n",
    "**示例：**"
   ]
  },
  {
   "cell_type": "code",
   "execution_count": null,
   "id": "929fc835",
   "metadata": {
    "attributes": {
     "classes": [
      "py"
     ],
     "id": ""
    }
   },
   "outputs": [],
   "source": [
    "def add_ten():\n",
    "    ten = 10\n",
    "    def add(num):\n",
    "        return num + ten\n",
    "    return add\n",
    "\n",
    "closure_result = add_ten()\n",
    "print(closure_result(5))  # 15\n",
    "print(closure_result(10))  # 20"
   ]
  },
  {
   "cell_type": "markdown",
   "id": "2b1c9d0d",
   "metadata": {},
   "source": [
    "## Python 装饰器\n",
    "\n",
    "装饰器是一种设计模式，允许用户在不修改对象结构的情况下为其添加新功能。装饰器通常在你想要装饰的函数定义之前调用。\n",
    "\n",
    "### 创建装饰器\n",
    "\n",
    "要创建装饰器函数，我们需要一个带有内部包装器函数的外部函数。\n",
    "\n",
    "**示例：**"
   ]
  },
  {
   "cell_type": "code",
   "execution_count": null,
   "id": "b53591cd",
   "metadata": {
    "attributes": {
     "classes": [
      "py"
     ],
     "id": ""
    }
   },
   "outputs": [],
   "source": [
    "# 普通函数\n",
    "def greeting():\n",
    "    return 'Welcome to Python'\n",
    "def uppercase_decorator(function):\n",
    "    def wrapper():\n",
    "        func = function()\n",
    "        make_uppercase = func.upper()\n",
    "        return make_uppercase\n",
    "    return wrapper\n",
    "g = uppercase_decorator(greeting)\n",
    "print(g())          # WELCOME TO PYTHON\n",
    "\n",
    "# 使用装饰器实现上面的示例\n",
    "\n",
    "'''这个装饰器函数是一个高阶函数，接收一个函数作为参数'''\n",
    "def uppercase_decorator(function):\n",
    "    def wrapper():\n",
    "        func = function()\n",
    "        make_uppercase = func.upper()\n",
    "        return make_uppercase\n",
    "    return wrapper\n",
    "@uppercase_decorator\n",
    "def greeting():\n",
    "    return 'Welcome to Python'\n",
    "print(greeting())   # WELCOME TO PYTHON"
   ]
  },
  {
   "cell_type": "markdown",
   "id": "178e8a34",
   "metadata": {},
   "source": [
    "### 将多个装饰器应用于单个函数"
   ]
  },
  {
   "cell_type": "code",
   "execution_count": null,
   "id": "77e19610",
   "metadata": {
    "attributes": {
     "classes": [
      "py"
     ],
     "id": ""
    }
   },
   "outputs": [],
   "source": [
    "\n",
    "'''这些装饰器函数是高阶函数，接收函数作为参数'''\n",
    "\n",
    "# 第一个装饰器\n",
    "def uppercase_decorator(function):\n",
    "    def wrapper():\n",
    "        func = function()\n",
    "        make_uppercase = func.upper()\n",
    "        return make_uppercase\n",
    "    return wrapper\n",
    "\n",
    "# 第二个装饰器\n",
    "def split_string_decorator(function):\n",
    "    def wrapper():\n",
    "        func = function()\n",
    "        splitted_string = func.split()\n",
    "        return splitted_string\n",
    "\n",
    "    return wrapper\n",
    "\n",
    "@split_string_decorator\n",
    "@uppercase_decorator     # 在此情况下，装饰器的顺序很重要 - .upper()函数不适用于列表\n",
    "def greeting():\n",
    "    return 'Welcome to Python'\n",
    "print(greeting())   # WELCOME TO PYTHON"
   ]
  },
  {
   "cell_type": "markdown",
   "id": "34f15944",
   "metadata": {},
   "source": [
    "### 在装饰器函数中接受参数\n",
    "\n",
    "大多数时候我们需要我们的函数接受参数，所以我们可能需要定义一个接受参数的装饰器。"
   ]
  },
  {
   "cell_type": "code",
   "execution_count": null,
   "id": "38c3c5a5",
   "metadata": {
    "attributes": {
     "classes": [
      "py"
     ],
     "id": ""
    }
   },
   "outputs": [],
   "source": [
    "def decorator_with_parameters(function):\n",
    "    def wrapper_accepting_parameters(para1, para2, para3):\n",
    "        function(para1, para2, para3)\n",
    "        print(\"I live in {}\".format(para3))\n",
    "    return wrapper_accepting_parameters\n",
    "\n",
    "@decorator_with_parameters\n",
    "def print_full_name(first_name, last_name, country):\n",
    "    print(\"I am {} {}. I love to teach.\".format(\n",
    "        first_name, last_name, country))\n",
    "\n",
    "print_full_name(\"Asabeneh\", \"Yetayeh\",'Finland')"
   ]
  },
  {
   "cell_type": "markdown",
   "id": "cbdca1e3",
   "metadata": {},
   "source": [
    "## 内置高阶函数\n",
    "\n",
    "在本部分中，我们将讨论一些内置的高阶函数，如*map()*, *filter*和*reduce*。\n",
    "Lambda 函数可以作为参数传递，其最佳使用案例是在地图、过滤和减少等功能中。\n",
    "\n",
    "### Python - Map 函数\n",
    "\n",
    "map()函数是一个内置函数，接收一个函数和可迭代对象作为参数。"
   ]
  },
  {
   "cell_type": "code",
   "execution_count": null,
   "id": "9864008a",
   "metadata": {
    "attributes": {
     "classes": [
      "py"
     ],
     "id": ""
    }
   },
   "outputs": [],
   "source": [
    "    # 语法\n",
    "    map(function, iterable)"
   ]
  },
  {
   "cell_type": "markdown",
   "id": "5ada4420",
   "metadata": {},
   "source": [
    "**示例：1**"
   ]
  },
  {
   "cell_type": "code",
   "execution_count": null,
   "id": "f5eb86ec",
   "metadata": {
    "attributes": {
     "classes": [
      "py"
     ],
     "id": ""
    }
   },
   "outputs": [],
   "source": [
    "numbers = [1, 2, 3, 4, 5] # 可迭代对象\n",
    "def square(x):\n",
    "    return x ** 2\n",
    "numbers_squared = map(square, numbers)\n",
    "print(list(numbers_squared))    # [1, 4, 9, 16, 25]\n",
    "# 让我们应用lambda函数\n",
    "numbers_squared = map(lambda x : x ** 2, numbers)\n",
    "print(list(numbers_squared))    # [1, 4, 9, 16, 25]"
   ]
  },
  {
   "cell_type": "markdown",
   "id": "5b5a441d",
   "metadata": {},
   "source": [
    "**示例：2**"
   ]
  },
  {
   "cell_type": "code",
   "execution_count": null,
   "id": "76fe7e5b",
   "metadata": {
    "attributes": {
     "classes": [
      "py"
     ],
     "id": ""
    }
   },
   "outputs": [],
   "source": [
    "numbers_str = ['1', '2', '3', '4', '5']  # 可迭代对象\n",
    "numbers_int = map(int, numbers_str)\n",
    "print(list(numbers_int))    # [1, 2, 3, 4, 5]"
   ]
  },
  {
   "cell_type": "markdown",
   "id": "eeacdfc2",
   "metadata": {},
   "source": [
    "**示例：3**"
   ]
  },
  {
   "cell_type": "code",
   "execution_count": null,
   "id": "0559ad69",
   "metadata": {
    "attributes": {
     "classes": [
      "py"
     ],
     "id": ""
    }
   },
   "outputs": [],
   "source": [
    "names = ['Asabeneh', 'Lidiya', 'Ermias', 'Abraham']  # 可迭代对象\n",
    "\n",
    "def change_to_upper(name):\n",
    "    return name.upper()\n",
    "\n",
    "names_upper_cased = map(change_to_upper, names)\n",
    "print(list(names_upper_cased))    # ['ASABENEH', 'LIDIYA', 'ERMIAS', 'ABRAHAM']\n",
    "\n",
    "# 让我们应用lambda函数\n",
    "names_upper_cased = map(lambda name: name.upper(), names)\n",
    "print(list(names_upper_cased))    # ['ASABENEH', 'LIDIYA', 'ERMIAS', 'ABRAHAM']"
   ]
  },
  {
   "cell_type": "markdown",
   "id": "06417d0a",
   "metadata": {},
   "source": [
    "map 函数实际上是迭代列表。例如，它将名称更改为大写并返回一个新列表。\n",
    "\n",
    "### Python - Filter 函数\n",
    "\n",
    "filter()函数调用指定函数，该函数对指定的可迭代对象（列表）中的每个项目返回布尔值。它过滤出满足过滤条件的项目。"
   ]
  },
  {
   "cell_type": "code",
   "execution_count": null,
   "id": "e2fcee8e",
   "metadata": {
    "attributes": {
     "classes": [
      "py"
     ],
     "id": ""
    }
   },
   "outputs": [],
   "source": [
    "    # 语法\n",
    "    filter(function, iterable)"
   ]
  },
  {
   "cell_type": "markdown",
   "id": "db47eada",
   "metadata": {},
   "source": [
    "**示例：1**"
   ]
  },
  {
   "cell_type": "code",
   "execution_count": null,
   "id": "357ef93a",
   "metadata": {
    "attributes": {
     "classes": [
      "py"
     ],
     "id": ""
    }
   },
   "outputs": [],
   "source": [
    "# 让我们只过滤偶数\n",
    "numbers = [1, 2, 3, 4, 5]  # 可迭代对象\n",
    "\n",
    "def is_even(num):\n",
    "    if num % 2 == 0:\n",
    "        return True\n",
    "    return False\n",
    "\n",
    "even_numbers = filter(is_even, numbers)\n",
    "print(list(even_numbers))       # [2, 4]"
   ]
  },
  {
   "cell_type": "markdown",
   "id": "c5d270d6",
   "metadata": {},
   "source": [
    "**示例：2**"
   ]
  },
  {
   "cell_type": "code",
   "execution_count": null,
   "id": "88d3def6",
   "metadata": {
    "attributes": {
     "classes": [
      "py"
     ],
     "id": ""
    }
   },
   "outputs": [],
   "source": [
    "numbers = [1, 2, 3, 4, 5]  # 可迭代对象\n",
    "\n",
    "def is_odd(num):\n",
    "    if num % 2 != 0:\n",
    "        return True\n",
    "    return False\n",
    "\n",
    "odd_numbers = filter(is_odd, numbers)\n",
    "print(list(odd_numbers))       # [1, 3, 5]"
   ]
  },
  {
   "cell_type": "code",
   "execution_count": null,
   "id": "15e355d5",
   "metadata": {
    "attributes": {
     "classes": [
      "py"
     ],
     "id": ""
    }
   },
   "outputs": [],
   "source": [
    "# 过滤长名称\n",
    "names = ['Asabeneh', 'Lidiya', 'Ermias', 'Abraham']  # 可迭代对象\n",
    "def is_name_long(name):\n",
    "    if len(name) > 7:\n",
    "        return True\n",
    "    return False\n",
    "\n",
    "long_names = filter(is_name_long, names)\n",
    "print(list(long_names))         # ['Asabeneh']"
   ]
  },
  {
   "cell_type": "markdown",
   "id": "2999a9cc",
   "metadata": {},
   "source": [
    "### Python - Reduce 函数\n",
    "\n",
    "*reduce()*函数定义在 functools 模块中，我们需要从这个模块中导入它。像 map 和 filter 一样，它接收两个参数，一个函数和一个可迭代对象。然而，它不返回另一个可迭代对象，而是返回一个单一的值。\n",
    "**示例：1**"
   ]
  },
  {
   "cell_type": "code",
   "execution_count": null,
   "id": "b9b9b901",
   "metadata": {
    "attributes": {
     "classes": [
      "py"
     ],
     "id": ""
    }
   },
   "outputs": [],
   "source": [
    "numbers_str = ['1', '2', '3', '4', '5']  # 可迭代对象\n",
    "def add_two_nums(x, y):\n",
    "    return int(x) + int(y)\n",
    "\n",
    "total = reduce(add_two_nums, numbers_str)\n",
    "print(total)    # 15"
   ]
  },
  {
   "cell_type": "markdown",
   "id": "2c2ac243",
   "metadata": {},
   "source": [
    "## 💻 练习：第 14 天"
   ]
  },
  {
   "cell_type": "code",
   "execution_count": null,
   "id": "91af3027",
   "metadata": {
    "attributes": {
     "classes": [
      "py"
     ],
     "id": ""
    }
   },
   "outputs": [],
   "source": [
    "countries = ['Estonia', 'Finland', 'Sweden', 'Denmark', 'Norway', 'Iceland']\n",
    "names = ['Asabeneh', 'Lidiya', 'Ermias', 'Abraham']\n",
    "numbers = [1, 2, 3, 4, 5, 6, 7, 8, 9, 10]"
   ]
  },
  {
   "cell_type": "markdown",
   "id": "6efbecda",
   "metadata": {},
   "source": [
    "### 练习：简单\n",
    "\n",
    "1. 解释 map、filter 和 reduce 的区别。\n",
    "2. 解释高阶函数、闭包和装饰器的区别。\n",
    "3. 定义调用函数，见示例。\n",
    "4. 使用 for 循环打印 countries 列表中的每个国家。\n",
    "5. 使用 for 循环打印 names 列表中的每个名称。\n",
    "6. 使用 for 循环打印 numbers 列表中的每个数字。\n",
    "\n",
    "### 练习：中等\n",
    "\n",
    "1. 使用 map 将 countries 列表中的每个国家更改为大写，生成一个新列表。\n",
    "2. 使用 map 将 numbers 列表中的每个数字更改为平方，生成一个新列表。\n",
    "3. 使用 map 将 names 列表中的每个名称更改为大写，生成一个新列表。\n",
    "4. 使用 filter 过滤出包含“land”的国家。\n",
    "5. 使用 filter 过滤出正好六个字符的国家。\n",
    "6. 使用 filter 过滤出包含六个字母及以上的国家。\n",
    "7. 使用 filter 过滤出以'E'开头的国家。\n",
    "8. 链接两个或多个列表迭代器（例如 arr.map(callback).filter(callback).reduce(callback)）。\n",
    "9. 声明一个函数 get_string_lists，它接收一个列表作为参数并返回一个仅包含字符串项的列表。\n",
    "10. 使用 reduce 对 numbers 列表中的所有数字求和。\n",
    "11. 使用 reduce 将所有国家连接起来，生成句子：Estonia, Finland, Sweden, Denmark, Norway, and Iceland are north European countries。\n",
    "12. 声明一个函数 categorize_countries，返回一个包含某种通用模式的国家列表（可以在本仓库的 countries.js 文件中找到国家列表，例如 'land', 'ia', 'island', 'stan'）。\n",
    "13. 创建一个返回字典的函数，其中键表示国家名称的首字母，值表示以该字母开头的国家数。\n",
    "14. 声明一个 get_first_ten_countries 函数 - 它返回数据文件夹中 countries.js 列表中的前十个国家。\n",
    "15. 声明一个 get_last_ten_countries 函数 - 它返回国家列表中的最后十个国家。\n",
    "\n",
    "### 练习：高级\n",
    "\n",
    "1. 使用 countries_data.py (https://github.com/Asabeneh/30-Days-Of-Python/blob/master/data/countries-data.py) 文件，完成以下任务：\n",
    "   - 按国家名称、首都和人口排序国家\n",
    "   - 按位置排序出前十个最常用语言。\n",
    "   - 排序出前十个人口最多的国家。\n",
    "\n",
    "🎉 恭喜你！ 🎉\n",
    "\n",
    "[<< 第 13 天](../13_Day_List_comprehension/13_list_comprehension.md) | [第 15 天>>](../15_Day_Python_type_errors/15_python_type_errors.md)"
   ]
  }
 ],
 "metadata": {},
 "nbformat": 4,
 "nbformat_minor": 5
}
