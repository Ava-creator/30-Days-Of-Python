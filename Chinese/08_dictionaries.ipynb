{
 "cells": [
  {
   "cell_type": "markdown",
   "id": "80755b18",
   "metadata": {},
   "source": [
    "<div align=\"center\">\n",
    "  <h1> 30 天 Python 学习：第 8 天 - 字典</h1>\n",
    "  <a class=\"header-badge\" target=\"_blank\" href=\"https://www.linkedin.com/in/asabeneh/\">\n",
    "  <img src=\"https://img.shields.io/badge/style--5eba00.svg?label=LinkedIn&logo=linkedin&style=social\">\n",
    "  </a>\n",
    "  <a class=\"header-badge\" target=\"_blank\" href=\"https://twitter.com/Asabeneh\">\n",
    "  <img alt=\"Twitter Follow\" src=\"https://img.shields.io/twitter/follow/asabeneh?style=social\">\n",
    "  </a>\n",
    "\n",
    "<sub>作者:\n",
    "<a href=\"https://www.linkedin.com/in/asabeneh/\" target=\"_blank\">Oludayo adeoye</a><br>\n",
    "<small> 第二版：2021 年 7 月</small>\n",
    "</sub>\n",
    "\n",
    "</div>\n",
    "\n",
    "[<< 第 7 天 ](../07_Day_Sets/07_sets.md) | [第 9 天 >>](../09_Day_Conditionals/09_conditionals.md)\n",
    "\n",
    "![30 天 Python 学习](../images/30DaysOfPython_banner3@2x.png)\n",
    "\n",
    "- [📘 第 8 天](#-第-8-天)\n",
    "  - [字典](#字典)\n",
    "    - [创建字典](#创建字典)\n",
    "    - [字典长度](#字典长度)\n",
    "    - [访问字典项](#访问字典项)\n",
    "    - [向字典添加项](#向字典添加项)\n",
    "    - [修改字典中的项](#修改字典中的项)\n",
    "    - [检查字典中的键](#检查字典中的键)\n",
    "    - [从字典中移除键值对](#从字典中移除键值对)\n",
    "    - [将字典转换为项目列表](#将字典转换为项目列表)\n",
    "    - [清空字典](#清空字典)\n",
    "    - [删除字典](#删除字典)\n",
    "    - [复制字典](#复制字典)\n",
    "    - [将字典键转换为列表](#将字典键转换为列表)\n",
    "    - [将字典值转换为列表](#将字典值转换为列表)\n",
    "  - [💻 练习：第 8 天](#-练习-第-8-天)\n",
    "\n",
    "# 📘 第 8 天\n",
    "\n",
    "## 字典\n",
    "\n",
    "字典是一种由无序、可修改（可变）的键值对组成的数据类型。\n",
    "\n",
    "### 创建字典\n",
    "\n",
    "为了创建字典，我们使用大括号 {} 或内置函数 _dict()_。"
   ]
  },
  {
   "cell_type": "code",
   "execution_count": null,
   "id": "9b22226c",
   "metadata": {
    "attributes": {
     "classes": [
      "py"
     ],
     "id": ""
    }
   },
   "outputs": [],
   "source": [
    "# 语法\n",
    "empty_dict = {}\n",
    "# 带数据值的字典\n",
    "dct = {'key1':'value1', 'key2':'value2', 'key3':'value3', 'key4':'value4'}"
   ]
  },
  {
   "cell_type": "markdown",
   "id": "eae9b40d",
   "metadata": {},
   "source": [
    "**示例：**"
   ]
  },
  {
   "cell_type": "code",
   "execution_count": null,
   "id": "32467912",
   "metadata": {
    "attributes": {
     "classes": [
      "py"
     ],
     "id": ""
    }
   },
   "outputs": [],
   "source": [
    "person = {\n",
    "    'first_name':'Asabeneh',\n",
    "    'last_name':'Yetayeh',\n",
    "    'age':250,\n",
    "    'country':'Finland',\n",
    "    'is_marred':True,\n",
    "    'skills':['JavaScript', 'React', 'Node', 'MongoDB', 'Python'],\n",
    "    'address':{\n",
    "        'street':'Space street',\n",
    "        'zipcode':'02210'\n",
    "    }\n",
    "    }"
   ]
  },
  {
   "cell_type": "markdown",
   "id": "57178a8b",
   "metadata": {},
   "source": [
    "上面的字典显示，值可以是任何数据类型：字符串、布尔值、列表、元组、集合或字典。\n",
    "\n",
    "### 字典长度\n",
    "\n",
    "它检查字典中的键值对的数量。"
   ]
  },
  {
   "cell_type": "code",
   "execution_count": null,
   "id": "c4ec9365",
   "metadata": {
    "attributes": {
     "classes": [
      "py"
     ],
     "id": ""
    }
   },
   "outputs": [],
   "source": [
    "# 语法\n",
    "dct = {'key1':'value1', 'key2':'value2', 'key3':'value3', 'key4':'value4'}\n",
    "print(len(dct)) # 4"
   ]
  },
  {
   "cell_type": "markdown",
   "id": "b17a3bd9",
   "metadata": {},
   "source": [
    "**示例：**"
   ]
  },
  {
   "cell_type": "code",
   "execution_count": null,
   "id": "3317f85d",
   "metadata": {
    "attributes": {
     "classes": [
      "py"
     ],
     "id": ""
    }
   },
   "outputs": [],
   "source": [
    "person = {\n",
    "    'first_name':'Asabeneh',\n",
    "    'last_name':'Yetayeh',\n",
    "    'age':250,\n",
    "    'country':'Finland',\n",
    "    'is_marred':True,\n",
    "    'skills':['JavaScript', 'React', 'Node', 'MongoDB', 'Python'],\n",
    "    'address':{\n",
    "        'street':'Space street',\n",
    "        'zipcode':'02210'\n",
    "    }\n",
    "    }\n",
    "print(len(person)) # 7\n"
   ]
  },
  {
   "cell_type": "markdown",
   "id": "3d02d4c6",
   "metadata": {},
   "source": [
    "### 访问字典项\n",
    "\n",
    "我们可以通过参考其键名来访问字典项。"
   ]
  },
  {
   "cell_type": "code",
   "execution_count": null,
   "id": "6f539f6a",
   "metadata": {
    "attributes": {
     "classes": [
      "py"
     ],
     "id": ""
    }
   },
   "outputs": [],
   "source": [
    "# 语法\n",
    "dct = {'key1':'value1', 'key2':'value2', 'key3':'value3', 'key4':'value4'}\n",
    "print(dct['key1']) # value1\n",
    "print(dct['key4']) # value4"
   ]
  },
  {
   "cell_type": "markdown",
   "id": "8d7880a6",
   "metadata": {},
   "source": [
    "**示例：**"
   ]
  },
  {
   "cell_type": "code",
   "execution_count": null,
   "id": "1f35d591",
   "metadata": {
    "attributes": {
     "classes": [
      "py"
     ],
     "id": ""
    }
   },
   "outputs": [],
   "source": [
    "person = {\n",
    "    'first_name':'Asabeneh',\n",
    "    'last_name':'Yetayeh',\n",
    "    'age':250,\n",
    "    'country':'Finland',\n",
    "    'is_marred':True,\n",
    "    'skills':['JavaScript', 'React', 'Node', 'MongoDB', 'Python'],\n",
    "    'address':{\n",
    "        'street':'Space street',\n",
    "        'zipcode':'02210'\n",
    "    }\n",
    "    }\n",
    "print(person['first_name']) # Asabeneh\n",
    "print(person['country'])    # Finland\n",
    "print(person['skills'])     # ['JavaScript', 'React', 'Node', 'MongoDB', 'Python']\n",
    "print(person['skills'][0])  # JavaScript\n",
    "print(person['address']['street']) # Space street\n",
    "print(person['city'])       # 错误"
   ]
  },
  {
   "cell_type": "markdown",
   "id": "e9c322e3",
   "metadata": {},
   "source": [
    "通过键名访问项时，如果键不存在会引发错误。为了避免这个错误，我们首先要检查键是否存在，或者使用 _get_ 方法。get 方法在键不存在时返回 None（这是 NoneType 对象数据类型）。"
   ]
  },
  {
   "cell_type": "code",
   "execution_count": null,
   "id": "52653fcc",
   "metadata": {
    "attributes": {
     "classes": [
      "py"
     ],
     "id": ""
    }
   },
   "outputs": [],
   "source": [
    "person = {\n",
    "    'first_name':'Asabeneh',\n",
    "    'last_name':'Yetayeh',\n",
    "    'age':250,\n",
    "    'country':'Finland',\n",
    "    'is_marred':True,\n",
    "    'skills':['JavaScript', 'React', 'Node', 'MongoDB', 'Python'],\n",
    "    'address':{\n",
    "        'street':'Space street',\n",
    "        'zipcode':'02210'\n",
    "    }\n",
    "    }\n",
    "print(person.get('first_name')) # Asabeneh\n",
    "print(person.get('country'))    # Finland\n",
    "print(person.get('skills')) #['HTML','CSS','JavaScript', 'React', 'Node', 'MongoDB', 'Python']\n",
    "print(person.get('city'))   # None"
   ]
  },
  {
   "cell_type": "markdown",
   "id": "2e500fdf",
   "metadata": {},
   "source": [
    "### 向字典添加项\n",
    "\n",
    "我们可以向字典中添加新的键值对"
   ]
  },
  {
   "cell_type": "code",
   "execution_count": null,
   "id": "e4a9c35b",
   "metadata": {
    "attributes": {
     "classes": [
      "py"
     ],
     "id": ""
    }
   },
   "outputs": [],
   "source": [
    "# 语法\n",
    "dct = {'key1':'value1', 'key2':'value2', 'key3':'value3', 'key4':'value4'}\n",
    "dct['key5'] = 'value5'"
   ]
  },
  {
   "cell_type": "markdown",
   "id": "78e08929",
   "metadata": {},
   "source": [
    "**示例：**"
   ]
  },
  {
   "cell_type": "code",
   "execution_count": null,
   "id": "03437edc",
   "metadata": {
    "attributes": {
     "classes": [
      "py"
     ],
     "id": ""
    }
   },
   "outputs": [],
   "source": [
    "person = {\n",
    "    'first_name':'Asabeneh',\n",
    "    'last_name':'Yetayeh',\n",
    "    'age':250,\n",
    "    'country':'Finland',\n",
    "    'is_marred':True,\n",
    "    'skills':['JavaScript', 'React', 'Node', 'MongoDB', 'Python'],\n",
    "    'address':{\n",
    "        'street':'Space street',\n",
    "        'zipcode':'02210'\n",
    "        }\n",
    "}\n",
    "person['job_title'] = 'Instructor'\n",
    "person['skills'].append('HTML')\n",
    "print(person)"
   ]
  },
  {
   "cell_type": "markdown",
   "id": "9f938ebd",
   "metadata": {},
   "source": [
    "### 修改字典中的项目\n",
    "\n",
    "我们可以修改字典中的项目"
   ]
  },
  {
   "cell_type": "code",
   "execution_count": null,
   "id": "39538449",
   "metadata": {
    "attributes": {
     "classes": [
      "py"
     ],
     "id": ""
    }
   },
   "outputs": [],
   "source": [
    "# 语法\n",
    "dct = {'key1':'value1', 'key2':'value2', 'key3':'value3', 'key4':'value4'}\n",
    "dct['key1'] = 'value-one'"
   ]
  },
  {
   "cell_type": "markdown",
   "id": "b63b2881",
   "metadata": {},
   "source": [
    "**示例:**"
   ]
  },
  {
   "cell_type": "code",
   "execution_count": null,
   "id": "37993309",
   "metadata": {
    "attributes": {
     "classes": [
      "py"
     ],
     "id": ""
    }
   },
   "outputs": [],
   "source": [
    "person = {\n",
    "    'first_name':'Asabeneh',\n",
    "    'last_name':'Yetayeh',\n",
    "    'age':250,\n",
    "    'country':'Finland',\n",
    "    'is_married':True,\n",
    "    'skills':['JavaScript', 'React', 'Node', 'MongoDB', 'Python'],\n",
    "    'address':{\n",
    "        'street':'Space street',\n",
    "        'zipcode':'02210'\n",
    "    }\n",
    "}\n",
    "person['first_name'] = 'Eyob'\n",
    "person['age'] = 252"
   ]
  },
  {
   "cell_type": "markdown",
   "id": "3b9ad5d8",
   "metadata": {},
   "source": [
    "### 检查字典中的键\n",
    "\n",
    "我们使用 _in_ 运算符来检查字典中是否存在某个键"
   ]
  },
  {
   "cell_type": "code",
   "execution_count": null,
   "id": "a9b642b9",
   "metadata": {
    "attributes": {
     "classes": [
      "py"
     ],
     "id": ""
    }
   },
   "outputs": [],
   "source": [
    "# 语法\n",
    "dct = {'key1':'value1', 'key2':'value2', 'key3':'value3', 'key4':'value4'}\n",
    "print('key2' in dct) # True\n",
    "print('key5' in dct) # False"
   ]
  },
  {
   "cell_type": "markdown",
   "id": "ec79f346",
   "metadata": {},
   "source": [
    "### 从字典中删除键值对\n",
    "\n",
    "- _pop(key)_: 删除具有指定键名的项目\n",
    "- _popitem()_: 删除最后一个项目\n",
    "- _del_: 删除具有指定键名的项目"
   ]
  },
  {
   "cell_type": "code",
   "execution_count": null,
   "id": "9cef71bc",
   "metadata": {
    "attributes": {
     "classes": [
      "py"
     ],
     "id": ""
    }
   },
   "outputs": [],
   "source": [
    "# 语法\n",
    "dct = {'key1':'value1', 'key2':'value2', 'key3':'value3', 'key4':'value4'}\n",
    "dct.pop('key1') # 删除 key1 项目\n",
    "dct = {'key1':'value1', 'key2':'value2', 'key3':'value3', 'key4':'value4'}\n",
    "dct.popitem() # 删除最后一项\n",
    "del dct['key2'] # 删除 key2 项目"
   ]
  },
  {
   "cell_type": "markdown",
   "id": "64765fd6",
   "metadata": {},
   "source": [
    "**示例:**"
   ]
  },
  {
   "cell_type": "code",
   "execution_count": null,
   "id": "92dff510",
   "metadata": {
    "attributes": {
     "classes": [
      "py"
     ],
     "id": ""
    }
   },
   "outputs": [],
   "source": [
    "person = {\n",
    "    'first_name':'Asabeneh',\n",
    "    'last_name':'Yetayeh',\n",
    "    'age':250,\n",
    "    'country':'Finland',\n",
    "    'is_married':True,\n",
    "    'skills':['JavaScript', 'React', 'Node', 'MongoDB', 'Python'],\n",
    "    'address':{\n",
    "        'street':'Space street',\n",
    "        'zipcode':'02210'\n",
    "    }\n",
    "}\n",
    "person.pop('first_name')  # 删除 firstname 项目\n",
    "person.popitem()          # 删除 address 项目\n",
    "del person['is_married']  # 删除 is_married 项目"
   ]
  },
  {
   "cell_type": "markdown",
   "id": "3efc1c39",
   "metadata": {},
   "source": [
    "### 将字典改变为项目列表\n",
    "\n",
    "_items()_ 方法将字典变成由元组组成的列表。"
   ]
  },
  {
   "cell_type": "code",
   "execution_count": null,
   "id": "9c29c496",
   "metadata": {
    "attributes": {
     "classes": [
      "py"
     ],
     "id": ""
    }
   },
   "outputs": [],
   "source": [
    "# 语法\n",
    "dct = {'key1':'value1', 'key2':'value2', 'key3':'value3', 'key4':'value4'}\n",
    "print(dct.items()) # dict_items([('key1', 'value1'), ('key2', 'value2'), ('key3', 'value3'), ('key4', 'value4')])"
   ]
  },
  {
   "cell_type": "markdown",
   "id": "51b19d0d",
   "metadata": {},
   "source": [
    "### 清空字典\n",
    "\n",
    "如果我们不需要字典中的项目，我们可以使用 _clear()_ 方法来清空它们"
   ]
  },
  {
   "cell_type": "code",
   "execution_count": null,
   "id": "d4047f7a",
   "metadata": {
    "attributes": {
     "classes": [
      "py"
     ],
     "id": ""
    }
   },
   "outputs": [],
   "source": [
    "# 语法\n",
    "dct = {'key1':'value1', 'key2':'value2', 'key3':'value3', 'key4':'value4'}\n",
    "print(dct.clear()) # None"
   ]
  },
  {
   "cell_type": "markdown",
   "id": "2038a743",
   "metadata": {},
   "source": [
    "### 删除字典\n",
    "\n",
    "如果我们不再使用字典，我们可以完全删除它"
   ]
  },
  {
   "cell_type": "code",
   "execution_count": null,
   "id": "1423851b",
   "metadata": {
    "attributes": {
     "classes": [
      "py"
     ],
     "id": ""
    }
   },
   "outputs": [],
   "source": [
    "# 语法\n",
    "dct = {'key1':'value1', 'key2':'value2', 'key3':'value3', 'key4':'value4'}\n",
    "del dct"
   ]
  },
  {
   "cell_type": "markdown",
   "id": "8a06cd2c",
   "metadata": {},
   "source": [
    "### 复制字典\n",
    "\n",
    "我们可以使用 _copy()_ 方法复制一个字典。使用 copy 方法可以避免原始字典被修改。"
   ]
  },
  {
   "cell_type": "code",
   "execution_count": null,
   "id": "3046fe63",
   "metadata": {
    "attributes": {
     "classes": [
      "py"
     ],
     "id": ""
    }
   },
   "outputs": [],
   "source": [
    "# 语法\n",
    "dct = {'key1':'value1', 'key2':'value2', 'key3':'value3', 'key4':'value4'}\n",
    "dct_copy = dct.copy() # {'key1':'value1', 'key2':'value2', 'key3':'value3', 'key4':'value4'}"
   ]
  },
  {
   "cell_type": "markdown",
   "id": "87de2787",
   "metadata": {},
   "source": [
    "### 获取字典的键列表\n",
    "\n",
    "keys() 方法给我们一个包含所有字典键的列表。"
   ]
  },
  {
   "cell_type": "code",
   "execution_count": null,
   "id": "27435d3d",
   "metadata": {
    "attributes": {
     "classes": [
      "py"
     ],
     "id": ""
    }
   },
   "outputs": [],
   "source": [
    "# 语法\n",
    "dct = {'key1':'value1', 'key2':'value2', 'key3':'value3', 'key4':'value4'}\n",
    "keys = dct.keys()\n",
    "print(keys) # dict_keys(['key1', 'key2', 'key3', 'key4'])"
   ]
  },
  {
   "cell_type": "markdown",
   "id": "f7a5b9d4",
   "metadata": {},
   "source": [
    "### 获取字典的值列表\n",
    "\n",
    "values 方法给我们一个包含所有字典值的列表。"
   ]
  },
  {
   "cell_type": "code",
   "execution_count": null,
   "id": "d2db8684",
   "metadata": {
    "attributes": {
     "classes": [
      "py"
     ],
     "id": ""
    }
   },
   "outputs": [],
   "source": [
    "# 语法\n",
    "dct = {'key1':'value1', 'key2':'value2', 'key3':'value3', 'key4':'value4'}\n",
    "values = dct.values()\n",
    "print(values) # dict_values(['value1', 'value2', 'value3', 'value4'])"
   ]
  },
  {
   "cell_type": "markdown",
   "id": "936172a5",
   "metadata": {},
   "source": [
    "🌕 你很了不起。现在，你已经掌握了字典的强大功能。你已经完成了第 8 天的挑战，离成功又近了一步。现在为你的大脑和肌肉做一些练习。\n",
    "\n",
    "## 💻 练习：第 8 天\n",
    "\n",
    "1. 创建一个名为 dog 的空字典\n",
    "2. 向 dog 字典添加 name、color、breed、legs、age 键\n",
    "3. 创建一个学生字典，添加 first_name、last_name、gender、age、marital status、skills、country、city 和 address 作为字典的键\n",
    "4. 获取学生字典的长度\n",
    "5. 获取 skills 的值并检查数据类型，应该是列表\n",
    "6. 修改 skills 值，添加一到两个技能\n",
    "7. 获取字典的键列表\n",
    "8. 获取字典的值列表\n",
    "9. 使用 _items()_ 方法将字典变为由元组组成的列表\n",
    "10. 删除字典中的一项\n",
    "11. 删除其中一个字典\n",
    "\n",
    "🎉 恭喜你! 🎉\n",
    "\n",
    "[<< 第 7 天 ](../07_Day_Sets/07_sets.md) | [第 9 天 >>](../09_Day_Conditionals/09_conditionals.md)"
   ]
  }
 ],
 "metadata": {},
 "nbformat": 4,
 "nbformat_minor": 5
}
