{
 "cells": [
  {
   "cell_type": "markdown",
   "id": "05c75e47",
   "metadata": {},
   "source": [
    "<div align=\"center\">\n",
    "  <h1> 30 天 Python：第十天 - Loops</h1>\n",
    "  <a class=\"header-badge\" target=\"_blank\" href=\"https://www.linkedin.com/in/asabeneh/\">\n",
    "  <img src=\"https://img.shields.io/badge/style--5eba00.svg?label=LinkedIn&logo=linkedin&style=social\">\n",
    "  </a>\n",
    "  <a class=\"header-badge\" target=\"_blank\" href=\"https://twitter.com/Asabeneh\">\n",
    "  <img alt=\"Twitter Follow\" src=\"https://img.shields.io/twitter/follow/asabeneh?style=social\">\n",
    "  </a>\n",
    "\n",
    "<sub>Author:\n",
    "<a href=\"https://www.linkedin.com/in/asabeneh/\" target=\"_blank\">Oludayo adeoye</a><br>\n",
    "<small> 第二版：2021 年 7 月</small>\n",
    "</sub>\n",
    "\n",
    "</div>\n",
    "\n",
    "[<<第九天](../Chinese/09_conditionals.md) | [第十一天>>](../Chinese/11_functions.md)\n",
    "\n",
    "![30DaysOfPython](../images/30DaysOfPython_banner3@2x.png)\n",
    "\n",
    "\n",
    "- [📘 第十天](#-第十天)\n",
    "  - [循环](#循环)\n",
    "    - [while 循环](#while-循环)\n",
    "    - [break和continue - part 1](#break和continue---part-1)\n",
    "    - [for 循环](#for-循环)\n",
    "    - [break 和 continue - part 2](#break-和-continue---part-2)\n",
    "    - [range() 函数](#range-函数)\n",
    "    - [嵌套for循环](#嵌套for循环)\n",
    "    - [for和else](#for和else)\n",
    "    - [pass语句](#pass语句)\n",
    "  - [💻 练习：第十天](#-练习第十天)\n",
    "    - [练习：一级](#练习一级)\n",
    "    - [练习：二级](#练习二级)\n",
    "    - [练习：三级](#练习三级)\n",
    "\n",
    "# 📘 第十天\n",
    "\n",
    "## 循环\n",
    "\n",
    "生活充满了循环。在编程中，我们会做很多重复的任务。编程语言使用循环来处理重复的任务，而Python编程语言提供了以下两种类型的循环:\n",
    "1. while 循环\n",
    "2. for 循环\n",
    "\n",
    "### while 循环\n",
    "\n",
    "我们使用关键字`while`来创建while循环。它在条件被满足时重复执行代码块。当条件变为false时，会结束循环代码块，执行循环之后的代码。"
   ]
  },
  {
   "cell_type": "code",
   "execution_count": null,
   "id": "1da685db",
   "metadata": {},
   "outputs": [],
   "source": [
    "  # syntax\n",
    "while condition:\n",
    "    code goes here"
   ]
  },
  {
   "cell_type": "markdown",
   "id": "36ad9be1",
   "metadata": {},
   "source": [
    "**示例:**"
   ]
  },
  {
   "cell_type": "code",
   "execution_count": null,
   "id": "d69fc5d0",
   "metadata": {},
   "outputs": [],
   "source": [
    "count = 0\n",
    "while count < 5:\n",
    "    print(count)\n",
    "    count = count + 1\n",
    "#prints from 0 to 4"
   ]
  },
  {
   "cell_type": "markdown",
   "id": "a467fb63",
   "metadata": {},
   "source": [
    "在上面的循环中，当count等于5时，循环条件变为false，此时循环停止。\n",
    "\n",
    "如果我们想要在循环条件变为false时运行特定的代码块，我们可以使用`else`关键字。"
   ]
  },
  {
   "cell_type": "code",
   "execution_count": null,
   "id": "12e98b43",
   "metadata": {},
   "outputs": [],
   "source": [
    "  # syntax\n",
    "while condition:\n",
    "    code goes here\n",
    "else:\n",
    "    code goes here"
   ]
  },
  {
   "cell_type": "markdown",
   "id": "5f099d68",
   "metadata": {},
   "source": [
    "**示例:**"
   ]
  },
  {
   "cell_type": "code",
   "execution_count": null,
   "id": "31db2534",
   "metadata": {},
   "outputs": [],
   "source": [
    "count = 0\n",
    "while count < 5:\n",
    "    print(count)\n",
    "    count = count + 1\n",
    "else:\n",
    "    print(count)"
   ]
  },
  {
   "cell_type": "markdown",
   "id": "1ff0e505",
   "metadata": {},
   "source": [
    "当count等于5时，循环条件变为false，循环终止，然后开始执行else块中的代码。因此，5将会被打印输出。\n",
    "\n",
    "### break和continue - part 1\n",
    "\n",
    "* Break：当我们想要退出循环时，我们使用`break`关键字。"
   ]
  },
  {
   "cell_type": "code",
   "execution_count": null,
   "id": "39c92c14",
   "metadata": {},
   "outputs": [],
   "source": [
    "# syntax\n",
    "while condition:\n",
    "    code goes here\n",
    "    if another_condition:\n",
    "        break"
   ]
  },
  {
   "cell_type": "markdown",
   "id": "c5fb3510",
   "metadata": {},
   "source": [
    "**Example:**"
   ]
  },
  {
   "cell_type": "code",
   "execution_count": null,
   "id": "ec0a2886",
   "metadata": {},
   "outputs": [],
   "source": [
    "count = 0\n",
    "while count < 5:\n",
    "    print(count)\n",
    "    count = count + 1\n",
    "    if count == 3:\n",
    "        break"
   ]
  },
  {
   "cell_type": "markdown",
   "id": "7b41f18e",
   "metadata": {},
   "source": [
    "上面的while循环只会打印输出0，1，2，但当count等于3时，循环会终止。\n",
    "- Continue：当我们想要跳过当前循环并继续执行下一个循环时，我们使用`continue`关键字。"
   ]
  },
  {
   "cell_type": "code",
   "execution_count": null,
   "id": "febb7cf2",
   "metadata": {},
   "outputs": [],
   "source": [
    "  # syntax\n",
    "while condition:\n",
    "    code goes here\n",
    "    if another_condition:\n",
    "        continue"
   ]
  },
  {
   "cell_type": "markdown",
   "id": "b444e771",
   "metadata": {},
   "source": [
    "**示例:**"
   ]
  },
  {
   "cell_type": "code",
   "execution_count": null,
   "id": "b332b29d",
   "metadata": {},
   "outputs": [],
   "source": [
    "count = 0\n",
    "while count < 5:\n",
    "    if count == 3:\n",
    "        count = count + 1\n",
    "        continue\n",
    "    print(count)\n",
    "    count = count + 1"
   ]
  },
  {
   "cell_type": "markdown",
   "id": "dbecf704",
   "metadata": {},
   "source": [
    "上面的while循环只会打印输出0，1，2，4。（3被跳过了）\n",
    "\n",
    "### for 循环\n",
    "\n",
    "`for`关键字用于创建for循环。和别的编程语言相似，但语法上有一些不同。它可以用于对序列的遍历（也就是列表、元组、字典、集合、字符串等）。\n",
    "\n",
    "- 列表的for循环"
   ]
  },
  {
   "cell_type": "code",
   "execution_count": null,
   "id": "6d39c910",
   "metadata": {},
   "outputs": [],
   "source": [
    "# syntax\n",
    "for iterator in lst:\n",
    "    code goes here"
   ]
  },
  {
   "cell_type": "markdown",
   "id": "015b315b",
   "metadata": {},
   "source": [
    "**示例:**"
   ]
  },
  {
   "cell_type": "code",
   "execution_count": null,
   "id": "28f0d79c",
   "metadata": {},
   "outputs": [],
   "source": [
    "numbers = [0, 1, 2, 3, 4, 5]\n",
    "for number in numbers: # number是引用列表项的临时名称，仅在此循环中有效\n",
    "    print(number)       # number将会被逐行打印，从0到5"
   ]
  },
  {
   "cell_type": "markdown",
   "id": "4f6ecece",
   "metadata": {},
   "source": [
    "- 字符串的for循环"
   ]
  },
  {
   "cell_type": "code",
   "execution_count": null,
   "id": "5b51bc20",
   "metadata": {},
   "outputs": [],
   "source": [
    "# syntax\n",
    "for iterator in string:\n",
    "    code goes here"
   ]
  },
  {
   "cell_type": "markdown",
   "id": "865565d8",
   "metadata": {},
   "source": [
    "**示例:**"
   ]
  },
  {
   "cell_type": "code",
   "execution_count": null,
   "id": "c2671e0c",
   "metadata": {},
   "outputs": [],
   "source": [
    "language = 'Python'\n",
    "for letter in language:\n",
    "    print(letter)\n",
    "\n",
    "for i in range(len(language)):\n",
    "    print(language[i])"
   ]
  },
  {
   "cell_type": "markdown",
   "id": "0a3df7c5",
   "metadata": {},
   "source": [
    "- 元组的for循环"
   ]
  },
  {
   "cell_type": "code",
   "execution_count": null,
   "id": "be3a7223",
   "metadata": {},
   "outputs": [],
   "source": [
    "# syntax\n",
    "for iterator in tpl:\n",
    "    code goes here"
   ]
  },
  {
   "cell_type": "markdown",
   "id": "b4eb1e98",
   "metadata": {},
   "source": [
    "**示例:**"
   ]
  },
  {
   "cell_type": "code",
   "execution_count": null,
   "id": "37892549",
   "metadata": {},
   "outputs": [],
   "source": [
    "numbers = (0, 1, 2, 3, 4, 5)\n",
    "for number in numbers:\n",
    "    print(number)"
   ]
  },
  {
   "cell_type": "markdown",
   "id": "c107aa87",
   "metadata": {},
   "source": [
    "- 字典的for循环\n",
    "  循环遍历将会遍历字典的键。"
   ]
  },
  {
   "cell_type": "code",
   "execution_count": null,
   "id": "1a1701fa",
   "metadata": {},
   "outputs": [],
   "source": [
    "  # syntax\n",
    "for iterator in dct:\n",
    "    code goes here"
   ]
  },
  {
   "cell_type": "markdown",
   "id": "4c15c1e9",
   "metadata": {},
   "source": [
    "**示例:**"
   ]
  },
  {
   "cell_type": "code",
   "execution_count": null,
   "id": "c0547c18",
   "metadata": {},
   "outputs": [],
   "source": [
    "person = {\n",
    "    'first_name':'Asabeneh',\n",
    "    'last_name':'Yetayeh',\n",
    "    'age':250,\n",
    "    'country':'Finland',\n",
    "    'is_marred':True,\n",
    "    'skills':['JavaScript', 'React', 'Node', 'MongoDB', 'Python'],\n",
    "    'address':{\n",
    "        'street':'Space street',\n",
    "        'zipcode':'02210'\n",
    "    }\n",
    "}\n",
    "for key in person:\n",
    "    print(key) #仅输出键\n",
    "\n",
    "for key, value in person.items():\n",
    "    print(key, value) # 这样我们可以在迭代的过程中同时访问键和值"
   ]
  },
  {
   "cell_type": "markdown",
   "id": "164aa75b",
   "metadata": {},
   "source": [
    "- 集合的for循环"
   ]
  },
  {
   "cell_type": "code",
   "execution_count": null,
   "id": "15d04a89",
   "metadata": {},
   "outputs": [],
   "source": [
    "# syntax\n",
    "for iterator in st:\n",
    "    code goes here"
   ]
  },
  {
   "cell_type": "markdown",
   "id": "d48c5766",
   "metadata": {},
   "source": [
    "**示例:**"
   ]
  },
  {
   "cell_type": "code",
   "execution_count": null,
   "id": "3da1f021",
   "metadata": {},
   "outputs": [],
   "source": [
    "it_companies = {'Facebook', 'Google', 'Microsoft', 'Apple', 'IBM', 'Oracle', 'Amazon'}\n",
    "for company in it_companies:\n",
    "    print(company)"
   ]
  },
  {
   "cell_type": "markdown",
   "id": "16db2d2e",
   "metadata": {},
   "source": [
    "### break 和 continue - part 2\n",
    "\n",
    "提示：\n",
    "_break_:当我们想要在循环完成前退出循环时，我们使用`break`关键字。"
   ]
  },
  {
   "cell_type": "code",
   "execution_count": null,
   "id": "44034d0c",
   "metadata": {},
   "outputs": [],
   "source": [
    "# syntax\n",
    "for iterator in sequence:\n",
    "    code goes here\n",
    "    if condition:\n",
    "        break"
   ]
  },
  {
   "cell_type": "markdown",
   "id": "5ae44b49",
   "metadata": {},
   "source": [
    "**示例:**"
   ]
  },
  {
   "cell_type": "code",
   "execution_count": null,
   "id": "98c54ad3",
   "metadata": {},
   "outputs": [],
   "source": [
    "numbers = (0,1,2,3,4,5)\n",
    "for number in numbers:\n",
    "    print(number)#输出 0，1，2，3\n",
    "    if number == 3:\n",
    "        break"
   ]
  },
  {
   "cell_type": "markdown",
   "id": "9a9fe991",
   "metadata": {},
   "source": [
    "在上面的例子中，当number等于3时，循环会终止。\n",
    "\n",
    "_continue_:当我们想要跳过当前循环并继续执行下一个循环时，我们使用`continue`关键字。"
   ]
  },
  {
   "cell_type": "code",
   "execution_count": null,
   "id": "131e806b",
   "metadata": {},
   "outputs": [],
   "source": [
    "  # syntax\n",
    "for iterator in sequence:\n",
    "    code goes here\n",
    "    if condition:\n",
    "        continue"
   ]
  },
  {
   "cell_type": "markdown",
   "id": "6d5147b5",
   "metadata": {},
   "source": [
    "**示例:**"
   ]
  },
  {
   "cell_type": "code",
   "execution_count": null,
   "id": "2dbe84ea",
   "metadata": {},
   "outputs": [],
   "source": [
    "numbers = (0,1,2,3,4,5)\n",
    "for number in numbers:\n",
    "    print(number)\n",
    "    if number == 3:\n",
    "        continue\n",
    "    print('Next number should be ', number + 1) if number != 5 else print(\"loop's end\") # 简而言之，对于简短的条件，需要同时使用if和else语句\n",
    "print('outside the loop')"
   ]
  },
  {
   "cell_type": "markdown",
   "id": "16aaf53d",
   "metadata": {},
   "source": [
    "在上面的例子中，当number等于3时，在此条件之后的（但在循环中的）语句会被跳过，如果还有未完成的遍历元素，它会继续执行下一个循环。\n",
    "\n",
    "### range() 函数\n",
    "\n",
    "`range()`函数用于生成一个序列的数字。_range(start, end, step)_函数接受三个参数：起始值、结束值和步长。默认情况下，起始值是0，步长是1。这个函数需要至少一个参数。（结束值end）\n",
    "\n",
    "使用`range()`函数生成序列"
   ]
  },
  {
   "cell_type": "code",
   "execution_count": null,
   "id": "8283f6f0",
   "metadata": {},
   "outputs": [],
   "source": [
    "lst = list(range(11)) \n",
    "print(lst) # [0, 1, 2, 3, 4, 5, 6, 7, 8, 9, 10]\n",
    "st = set(range(1, 11))    # 两个参数分别代表start和stop，步长step为默认值1\n",
    "print(st) # {1, 2, 3, 4, 5, 6, 7, 8, 9, 10}\n",
    "\n",
    "lst = list(range(0,11,2))\n",
    "print(lst) # [0, 2, 4, 6, 8, 10]\n",
    "st = set(range(0,11,2))\n",
    "print(st) #  {0, 2, 4, 6, 8, 10}"
   ]
  },
  {
   "cell_type": "code",
   "execution_count": null,
   "id": "6f3958c5",
   "metadata": {},
   "outputs": [],
   "source": [
    "# syntax\n",
    "for iterator in range(start, end, step):"
   ]
  },
  {
   "cell_type": "markdown",
   "id": "af0f0010",
   "metadata": {},
   "source": [
    "**示例:**"
   ]
  },
  {
   "cell_type": "code",
   "execution_count": null,
   "id": "dc4d2eb7",
   "metadata": {},
   "outputs": [],
   "source": [
    "for number in range(11):\n",
    "    print(number)   # 打印输出0到10，不包括11。"
   ]
  },
  {
   "cell_type": "markdown",
   "id": "46bf7634",
   "metadata": {},
   "source": [
    "### 嵌套for循环\n",
    "\n",
    "我们可以在循环中嵌套另一个循环。这种循环称为嵌套循环。"
   ]
  },
  {
   "cell_type": "code",
   "execution_count": null,
   "id": "6a3e4078",
   "metadata": {},
   "outputs": [],
   "source": [
    "# syntax\n",
    "for x in y:\n",
    "    for t in x:\n",
    "        print(t)"
   ]
  },
  {
   "cell_type": "markdown",
   "id": "7372a481",
   "metadata": {},
   "source": [
    "**示例:**"
   ]
  },
  {
   "cell_type": "code",
   "execution_count": null,
   "id": "b6f15878",
   "metadata": {},
   "outputs": [],
   "source": [
    "person = {\n",
    "    'first_name': 'Asabeneh',\n",
    "    'last_name': 'Yetayeh',\n",
    "    'age': 250,\n",
    "    'country': 'Finland',\n",
    "    'is_marred': True,\n",
    "    'skills': ['JavaScript', 'React', 'Node', 'MongoDB', 'Python'],\n",
    "    'address': {\n",
    "        'street': 'Space street',\n",
    "        'zipcode': '02210'\n",
    "    }\n",
    "}\n",
    "for key in person:\n",
    "    if key == 'skills':\n",
    "        for skill in person['skills']:\n",
    "            print(skill)"
   ]
  },
  {
   "cell_type": "markdown",
   "id": "51cae0bc",
   "metadata": {},
   "source": [
    "### for和else\n",
    "\n",
    "如果我们想要在循环结束时执行特定的代码块，我们可以使用`else`关键字。"
   ]
  },
  {
   "cell_type": "code",
   "execution_count": null,
   "id": "3d289f23",
   "metadata": {},
   "outputs": [],
   "source": [
    "# syntax\n",
    "for iterator in range(start, end, step):\n",
    "    do something\n",
    "else:\n",
    "    print('The loop ended')"
   ]
  },
  {
   "cell_type": "markdown",
   "id": "f8fa29f3",
   "metadata": {},
   "source": [
    "**示例:**"
   ]
  },
  {
   "cell_type": "code",
   "execution_count": null,
   "id": "91422635",
   "metadata": {},
   "outputs": [],
   "source": [
    "for number in range(11):\n",
    "    print(number)   # prints 0 to 10, not including 11\n",
    "else:\n",
    "    print('The loop stops at', number)"
   ]
  },
  {
   "cell_type": "markdown",
   "id": "b6ddf1ad",
   "metadata": {},
   "source": [
    "### pass语句\n",
    "\n",
    "在python中，当需要一些语句（比如在`:`后），但我们不想执行任何代码时，我们可以使用`pass`关键字来避免报错。此外，我们也可以用它来作为一个占位符，以便在以后填充代码。\n",
    "\n",
    "**示例:**"
   ]
  },
  {
   "cell_type": "code",
   "execution_count": null,
   "id": "9efc2584",
   "metadata": {},
   "outputs": [],
   "source": [
    "for number in range(6):\n",
    "    pass"
   ]
  },
  {
   "cell_type": "markdown",
   "id": "61260100",
   "metadata": {},
   "source": [
    "🌕 你完成了伟大的一步，太猛了哥。冲冲冲！你刚刚完成了第10天的挑战，你在通往伟大的道路上迈出了10步。现在我们做一些练习来练练肌肉和大脑。\n",
    "\n",
    "## 💻 练习：第十天\n",
    "\n",
    "### 练习：一级\n",
    "\n",
    "1. 分别使用while和for实现从0到10的迭代。\n",
    "2. 分别使用while和for实现从10到0的迭代。\n",
    "3. 写一个循环，调用7次`print()`函数，输出如下的三角形：\n",
    "    ```py\n",
    "     #\n",
    "     ##\n",
    "     ###\n",
    "     ####\n",
    "     #####\n",
    "     ######\n",
    "     #######\n",
    "   ```\n",
    "\n",
    "4. 使用嵌套循环来实现下面的输出：\n",
    "\n",
    "   ```sh\n",
    "   # # # # # # # #\n",
    "   # # # # # # # #\n",
    "   # # # # # # # #\n",
    "   # # # # # # # #\n",
    "   # # # # # # # #\n",
    "   # # # # # # # #\n",
    "   # # # # # # # #\n",
    "   # # # # # # # #\n",
    "   ```\n",
    "5. 使用循环实现下面格式的输出：\n",
    "   ```sh\n",
    "   0 x 0 = 0\n",
    "   1 x 1 = 1\n",
    "   2 x 2 = 4\n",
    "   3 x 3 = 9\n",
    "   4 x 4 = 16\n",
    "   5 x 5 = 25\n",
    "   6 x 6 = 36\n",
    "   7 x 7 = 49\n",
    "   8 x 8 = 64\n",
    "   9 x 9 = 81\n",
    "   10 x 10 = 100\n",
    "   ```\n",
    "6. 用for循环遍历列表`['Python', 'Numpy','Pandas','Django', 'Flask']`，并打印输出每个元素。\n",
    "7. 用for循环从0到100遍历并且打印输出所有偶数。\n",
    "8. 用for循环从0到100遍历并且打印输出所有奇数。\n",
    "\n",
    "### 练习：二级\n",
    "\n",
    "1. 使用for循环从0到100遍历并且输出所有数字的和。\n",
    "    ```sh\n",
    "   The sum of all numbers is 5050.\n",
    "   ```\n",
    "2. 使用for循环从0到100遍历并且分别输出所有奇数和所有偶数的和。\n",
    "    ```sh\n",
    "   The sum of all odd numbers is 2500. And the sum of all even numbers is 2550.\n",
    "   ```\n",
    "\n",
    "### 练习：三级\n",
    "\n",
    "1. 跳转到data文件夹并使用[countries.py](https://github.com/Asabeneh/30-Days-Of-Python/blob/master/data/countries.py)文件。循环遍历所有国家，并且提取出所有包含字母`land`的国家。\n",
    "2. 有一个列表`fruits = ['banana', 'orange', 'mango', 'lemon']`，使用循环反转列表中的元素。\n",
    "3. 跳转到data文件夹并使用[countries_data.py](https://github.com/Asabeneh/30-Days-Of-Python/blob/master/data/countries-data.py)文件。\n",
    "   1. 数据中一共有多少个语言？\n",
    "   2. 找到被最多国家使用的语言。\n",
    "   3. 找到人数排名前十的国家。\n",
    "\n",
    "🎉 恭喜！ 🎉\n",
    "\n",
    "[<< Day 9](./09_conditionals.md) | [Day 11 >>](./11_functions.md)"
   ]
  }
 ],
 "metadata": {},
 "nbformat": 4,
 "nbformat_minor": 5
}
