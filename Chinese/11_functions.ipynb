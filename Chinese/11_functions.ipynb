{
 "cells": [
  {
   "cell_type": "markdown",
   "id": "44c7a1db",
   "metadata": {},
   "source": [
    "<div align=\"center\">\n",
    "  <h1> 30 天 Python 挑战: 第 11 天 - 函数</h1>\n",
    "  <a class=\"header-badge\" target=\"_blank\" href=\"https://www.linkedin.com/in/asabeneh/\">\n",
    "  <img src=\"https://img.shields.io/badge/style--5eba00.svg?label=LinkedIn&logo=linkedin&style=social\">\n",
    "  </a>\n",
    "  <a class=\"header-badge\" target=\"_blank\" href=\"https://twitter.com/Asabeneh\">\n",
    "  <img alt=\"Twitter Follow\" src=\"https://img.shields.io/twitter/follow/asabeneh?style=social\">\n",
    "  </a>\n",
    "\n",
    "<sub>作者:\n",
    "<a href=\"https://www.linkedin.com/in/asabeneh/\" target=\"_blank\">Asabeneh Yetayeh</a><br>\n",
    "<small> 第二版: 2021 年 7 月</small>\n",
    "</sub>\n",
    "\n",
    "</div>\n",
    "\n",
    "[<< 第 10 天](../10_Day_Loops/10_loops.md) | [第 12 天 >>](../12_Day_Modules/12_modules.md)\n",
    "\n",
    "![30DaysOfPython](../images/30DaysOfPython_banner3@2x.png)\n",
    "\n",
    "- [📘 第 11 天](#-day-11)\n",
    "  - [函数](#functions)\n",
    "    - [定义函数](#defining-a-function)\n",
    "    - [声明和调用函数](#declaring-and-calling-a-function)\n",
    "    - [无参数的函数](#function-without-parameters)\n",
    "    - [返回值的函数 - 第 1 部分](#function-returning-a-value---part-1)\n",
    "    - [有参数的函数](#function-with-parameters)\n",
    "    - [使用键值对传递参数](#passing-arguments-with-key-and-value)\n",
    "    - [返回值的函数 - 第 2 部分](#function-returning-a-value---part-2)\n",
    "    - [带默认参数的函数](#function-with-default-parameters)\n",
    "    - [不定数量的参数](#arbitrary-number-of-arguments)\n",
    "    - [函数中的默认和不定数量的参数](#default-and-arbitrary-number-of-parameters-in-functions)\n",
    "    - [作为另一个函数参数的函数](#function-as-a-parameter-of-another-function)\n",
    "  - [💻 练习: 第 11 天](#-exercises-day-11)\n",
    "    - [练习: Level 1](#exercises-level-1)\n",
    "    - [练习: Level 2](#exercises-level-2)\n",
    "    - [练习: Level 3](#exercises-level-3)\n",
    "\n",
    "# 📘 第 11 天\n",
    "\n",
    "## 函数\n",
    "\n",
    "到目前为止，我们已经学习了很多内置的 Python 函数。在这一节中，我们将重点关注自定义函数。什么是函数？在开始创建函数之前，让我们先了解一下什么是函数以及为什么需要它们。\n",
    "\n",
    "### 定义函数\n",
    "\n",
    "函数是一块可重复使用的代码块或编程语句，用于执行某些任务。要定义或声明一个函数，Python 提供了 _def_ 关键字。下面是定义函数的语法。只有在调用或触发函数时，这段函数代码才会执行。\n",
    "\n",
    "### 声明和调用函数\n",
    "\n",
    "当我们创建一个函数时，我们称其为声明一个函数。当我们开始使用它时，我们称其为调用或触发一个函数。函数可以带参数也可以不带参数。"
   ]
  },
  {
   "cell_type": "code",
   "execution_count": null,
   "id": "efded9ee",
   "metadata": {
    "attributes": {
     "classes": [
      "py"
     ],
     "id": ""
    }
   },
   "outputs": [],
   "source": [
    "# 语法\n",
    "# 声明一个函数\n",
    "def function_name():\n",
    "    codes\n",
    "    codes\n",
    "# 调用一个函数\n",
    "function_name()"
   ]
  },
  {
   "cell_type": "markdown",
   "id": "267cacfa",
   "metadata": {},
   "source": [
    "### 无参数的函数\n",
    "\n",
    "函数可以在没有参数的情况下声明。\n",
    "\n",
    "**示例:**"
   ]
  },
  {
   "cell_type": "code",
   "execution_count": null,
   "id": "49154f09",
   "metadata": {
    "attributes": {
     "classes": [
      "py"
     ],
     "id": ""
    }
   },
   "outputs": [],
   "source": [
    "def generate_full_name ():\n",
    "    first_name = 'Asabeneh'\n",
    "    last_name = 'Yetayeh'\n",
    "    space = ' '\n",
    "    full_name = first_name + space + last_name\n",
    "    print(full_name)\n",
    "generate_full_name () # 调用一个函数\n",
    "\n",
    "def add_two_numbers ():\n",
    "    num_one = 2\n",
    "    num_two = 3\n",
    "    total = num_one + num_two\n",
    "    print(total)\n",
    "add_two_numbers()"
   ]
  },
  {
   "cell_type": "markdown",
   "id": "31e8728a",
   "metadata": {},
   "source": [
    "### 返回值的函数 - 第 1 部分\n",
    "\n",
    "函数也可以返回值，如果一个函数没有 return 语句，那么函数的返回值为 None。让我们使用 return 重写上述函数。从现在开始，当我们调用函数并打印时，我们会得到一个值。"
   ]
  },
  {
   "cell_type": "code",
   "execution_count": null,
   "id": "837df2bc",
   "metadata": {
    "attributes": {
     "classes": [
      "py"
     ],
     "id": ""
    }
   },
   "outputs": [],
   "source": [
    "def generate_full_name ():\n",
    "    first_name = 'Asabeneh'\n",
    "    last_name = 'Yetayeh'\n",
    "    space = ' '\n",
    "    full_name = first_name + space + last_name\n",
    "    return full_name\n",
    "print(generate_full_name())\n",
    "\n",
    "def add_two_numbers ():\n",
    "    num_one = 2\n",
    "    num_two = 3\n",
    "    total = num_one + num_two\n",
    "    return total\n",
    "print(add_two_numbers())"
   ]
  },
  {
   "cell_type": "markdown",
   "id": "b5beea4e",
   "metadata": {},
   "source": [
    "### 有参数的函数\n",
    "\n",
    "在一个函数中，我们可以传递不同的数据类型（数字、字符串、布尔值、列表、元组、字典或集合）作为参数。\n",
    "\n",
    "- 单个参数：如果我们的函数需要一个参数，我们应该用一个实参调用它。"
   ]
  },
  {
   "cell_type": "code",
   "execution_count": null,
   "id": "946a3530",
   "metadata": {
    "attributes": {
     "classes": [
      "py"
     ],
     "id": ""
    }
   },
   "outputs": [],
   "source": [
    "  # 语法\n",
    "  # 声明一个函数\n",
    "  def function_name(parameter):\n",
    "    codes\n",
    "    codes\n",
    "  # 调用函数\n",
    "  print(function_name(argument))"
   ]
  },
  {
   "cell_type": "markdown",
   "id": "5f3f6e8e",
   "metadata": {},
   "source": [
    "**示例:**"
   ]
  },
  {
   "cell_type": "code",
   "execution_count": null,
   "id": "a9fd0b9d",
   "metadata": {
    "attributes": {
     "classes": [
      "py"
     ],
     "id": ""
    }
   },
   "outputs": [],
   "source": [
    "def greetings (name):\n",
    "    message = name + ', welcome to Python for Everyone!'\n",
    "    return message\n",
    "\n",
    "print(greetings('Asabeneh'))\n",
    "\n",
    "def add_ten(num):\n",
    "    ten = 10\n",
    "    return num + ten\n",
    "print(add_ten(90))\n",
    "\n",
    "def square_number(x):\n",
    "    return x * x\n",
    "print(square_number(2))\n",
    "\n",
    "def area_of_circle (r):\n",
    "    PI = 3.14\n",
    "    area = PI * r ** 2\n",
    "    return area\n",
    "print(area_of_circle(10))\n",
    "\n",
    "def sum_of_numbers(n):\n",
    "    total = 0\n",
    "    for i in range(n+1):\n",
    "        total+=i\n",
    "    print(total)\n",
    "print(sum_of_numbers(10)) # 55\n",
    "print(sum_of_numbers(100)) # 5050"
   ]
  },
  {
   "cell_type": "markdown",
   "id": "156baa27",
   "metadata": {},
   "source": [
    "- 两个参数：一个函数可以没有参数，也可以有一个或多个参数。如果我们的函数需要两个参数，我们应该用两个实参调用它。让我们看看一个带有两个参数的函数："
   ]
  },
  {
   "cell_type": "code",
   "execution_count": null,
   "id": "67797e67",
   "metadata": {
    "attributes": {
     "classes": [
      "py"
     ],
     "id": ""
    }
   },
   "outputs": [],
   "source": [
    "  # 语法\n",
    "  # 声明一个函数\n",
    "  def function_name(para1, para2):\n",
    "    codes\n",
    "    codes\n",
    "  # 调用函数\n",
    "  print(function_name(arg1, arg2))"
   ]
  },
  {
   "cell_type": "markdown",
   "id": "a3dc53c2",
   "metadata": {},
   "source": [
    "**示例:**"
   ]
  },
  {
   "cell_type": "code",
   "execution_count": null,
   "id": "796997ce",
   "metadata": {
    "attributes": {
     "classes": [
      "py"
     ],
     "id": ""
    }
   },
   "outputs": [],
   "source": [
    "def generate_full_name (first_name, last_name):\n",
    "    space = ' '\n",
    "    full_name = first_name + space + last_name\n",
    "    return full_name\n",
    "print('Full Name: ', generate_full_name('Asabeneh','Yetayeh'))\n",
    "\n",
    "def sum_two_numbers (num_one, num_two):\n",
    "    sum = num_one + num_two\n",
    "    return sum\n",
    "print('Sum of two numbers: ', sum_two_numbers(1, 9))\n",
    "\n",
    "def calculate_age (current_year, birth_year):\n",
    "    age = current_year - birth_year\n",
    "    return age;\n",
    "\n",
    "print('Age: ', calculate_age(2021, 1819))\n",
    "\n",
    "def weight_of_object (mass, gravity):\n",
    "    weight = str(mass * gravity)+ ' N' # 值需要先转换为字符串\n",
    "    return weight\n",
    "print('Weight of an object in Newtons: ', weight_of_object(100, 9.81))"
   ]
  },
  {
   "cell_type": "markdown",
   "id": "e896ba44",
   "metadata": {},
   "source": [
    "### 使用键值对传递参数\n",
    "\n",
    "如果我们使用键值对传递参数，参数的顺序就无关紧要了。"
   ]
  },
  {
   "cell_type": "code",
   "execution_count": null,
   "id": "e097ac19",
   "metadata": {
    "attributes": {
     "classes": [
      "py"
     ],
     "id": ""
    }
   },
   "outputs": [],
   "source": [
    "# 语法\n",
    "# 声明一个函数\n",
    "def function_name(para1, para2):\n",
    "    codes\n",
    "    codes\n",
    "# 调用函数\n",
    "print(function_name(para1 = 'John', para2 = 'Doe')) # 参数的顺序在这里无关紧要"
   ]
  },
  {
   "cell_type": "markdown",
   "id": "a8945ddb",
   "metadata": {},
   "source": [
    "**示例:**"
   ]
  },
  {
   "cell_type": "code",
   "execution_count": null,
   "id": "31735fa4",
   "metadata": {
    "attributes": {
     "classes": [
      "py"
     ],
     "id": ""
    }
   },
   "outputs": [],
   "source": [
    "def print_fullname(firstname, lastname):\n",
    "    space = ' '\n",
    "    full_name = firstname  + space + lastname\n",
    "    print(full_name)\n",
    "print(print_fullname(firstname = 'Asabeneh', lastname = 'Yetayeh'))\n",
    "\n",
    "def add_two_numbers (num1, num2):\n",
    "    total = num1 + num2\n",
    "    print(total)\n",
    "print(add_two_numbers(num2 = 3, num1 = 2)) # 顺序无关紧要"
   ]
  },
  {
   "cell_type": "markdown",
   "id": "00c7d682",
   "metadata": {},
   "source": [
    "### 返回值的函数 - 第 2 部分\n",
    "\n",
    "如果我们不在函数中返回一个值，那么我们的函数默认返回 _None_。要用函数返回一个值，我们使用关键字 _return_，后面跟上我们要返回的变量。我们可以从一个函数返回任何类型的数据。\n",
    "\n",
    "- 返回字符串:\n",
    "  **示例:**"
   ]
  },
  {
   "cell_type": "code",
   "execution_count": null,
   "id": "7efbcb7b",
   "metadata": {
    "attributes": {
     "classes": [
      "py"
     ],
     "id": ""
    }
   },
   "outputs": [],
   "source": [
    "def print_name(firstname):\n",
    "    return firstname\n",
    "print_name('Asabeneh') # Asabeneh\n",
    "\n",
    "def print_full_name(firstname, lastname):\n",
    "    space = ' '\n",
    "    full_name = firstname  + space + lastname\n",
    "    return full_name\n",
    "print_full_name(firstname='Asabeneh', lastname='Yetayeh')"
   ]
  },
  {
   "cell_type": "markdown",
   "id": "d3350116",
   "metadata": {},
   "source": [
    "- 返回数字:\n",
    "\n",
    "**示例:**"
   ]
  },
  {
   "cell_type": "code",
   "execution_count": null,
   "id": "43239959",
   "metadata": {
    "attributes": {
     "classes": [
      "py"
     ],
     "id": ""
    }
   },
   "outputs": [],
   "source": [
    "def add_two_numbers (num1, num2):\n",
    "    total = num1 + num2\n",
    "    return total\n",
    "print(add_two_numbers(2, 3))\n",
    "\n",
    "def calculate_age (current_year, birth_year):\n",
    "    age = current_year - birth_year\n",
    "    return age;\n",
    "print('Age: ', calculate_age(2019, 1819))"
   ]
  },
  {
   "cell_type": "markdown",
   "id": "a6c81211",
   "metadata": {},
   "source": [
    "- 返回布尔值:\n",
    "  **示例:**"
   ]
  },
  {
   "cell_type": "code",
   "execution_count": null,
   "id": "917851f7",
   "metadata": {
    "attributes": {
     "classes": [
      "py"
     ],
     "id": ""
    }
   },
   "outputs": [],
   "source": [
    "def is_even (n):\n",
    "    if n % 2 == 0:\n",
    "        print('even')\n",
    "        return True    # return 语句会停止函数的进一步执行，类似于 break\n",
    "    return False\n",
    "print(is_even(10)) # True\n",
    "print(is_even(7)) # False"
   ]
  },
  {
   "cell_type": "markdown",
   "id": "a9f6e441",
   "metadata": {},
   "source": [
    "- 返回列表:\n",
    "  **示例:**"
   ]
  },
  {
   "cell_type": "code",
   "execution_count": null,
   "id": "5a023308",
   "metadata": {
    "attributes": {
     "classes": [
      "py"
     ],
     "id": ""
    }
   },
   "outputs": [],
   "source": [
    "def find_even_numbers(n):\n",
    "    evens = []\n",
    "    for i in range(n + 1):\n",
    "        if i % 2 == 0:\n",
    "            evens.append(i)\n",
    "    return evens\n",
    "print(find_even_numbers(10))"
   ]
  },
  {
   "cell_type": "markdown",
   "id": "21c1e98a",
   "metadata": {},
   "source": [
    "### 带默认参数的函数\n",
    "\n",
    "有时我们在调用函数时会传递默认值给参数。如果我们在调用函数时没有传递实参，参数的默认值将会被使用。"
   ]
  },
  {
   "cell_type": "code",
   "execution_count": null,
   "id": "15de440a",
   "metadata": {
    "attributes": {
     "classes": [
      "py"
     ],
     "id": ""
    }
   },
   "outputs": [],
   "source": [
    "# 语法\n",
    "# 声明一个函数\n",
    "def function_name(param = value):\n",
    "    codes\n",
    "    codes\n",
    "# 调用函数\n",
    "function_name()\n",
    "function_name(arg)"
   ]
  },
  {
   "cell_type": "markdown",
   "id": "d2a6be9d",
   "metadata": {},
   "source": [
    "**示例:**"
   ]
  },
  {
   "cell_type": "code",
   "execution_count": null,
   "id": "412800ca",
   "metadata": {
    "attributes": {
     "classes": [
      "py"
     ],
     "id": ""
    }
   },
   "outputs": [],
   "source": [
    "def greetings (name = 'Peter'):\n",
    "    message = name + ', welcome to Python for Everyone!'\n",
    "    return message\n",
    "print(greetings())\n",
    "print(greetings('Asabeneh'))\n",
    "\n",
    "def generate_full_name (first_name = 'Asabeneh', last_name = 'Yetayeh'):\n",
    "    space = ' '\n",
    "    full_name = first_name + space + last_name\n",
    "    return full_name\n",
    "\n",
    "print(generate_full_name())\n",
    "print(generate_full_name('David','Smith'))\n",
    "\n",
    "def calculate_age (birth_year,current_year = 2021):\n",
    "    age = current_year - birth_year\n",
    "    return age;\n",
    "print('Age: ', calculate_age(1821))\n",
    "\n",
    "def weight_of_object (mass, gravity = 9.81):\n",
    "    weight = str(mass * gravity)+ ' N' # 值需要先转换为字符串\n",
    "    return weight\n",
    "print('Weight of an object in Newtons: ', weight_of_object(100)) # 9.81 - 地球表面的平均重力\n",
    "print('Weight of an object in Newtons: ', weight_of_object(100, 1.62)) # 月球表面的重力"
   ]
  },
  {
   "cell_type": "markdown",
   "id": "ac1f1a52",
   "metadata": {},
   "source": [
    "### 不定数量的参数\n",
    "\n",
    "如果我们不知道传递给函数的参数数量，可以通过在参数名前加上 \\* 来创建一个可以接受不定数量参数的函数。"
   ]
  },
  {
   "cell_type": "code",
   "execution_count": null,
   "id": "51529886",
   "metadata": {
    "attributes": {
     "classes": [
      "py"
     ],
     "id": ""
    }
   },
   "outputs": [],
   "source": [
    "# 语法\n",
    "# 声明一个函数\n",
    "def function_name(*args):\n",
    "    codes\n",
    "    codes\n",
    "# 调用函数\n",
    "function_name(param1, param2, param3,..)"
   ]
  },
  {
   "cell_type": "markdown",
   "id": "068796a8",
   "metadata": {},
   "source": [
    "**示例:**"
   ]
  },
  {
   "cell_type": "code",
   "execution_count": null,
   "id": "2cd683d6",
   "metadata": {
    "attributes": {
     "classes": [
      "py"
     ],
     "id": ""
    }
   },
   "outputs": [],
   "source": [
    "def sum_all_nums(*nums):\n",
    "    total = 0\n",
    "    for num in nums:\n",
    "        total += num     # 相当于 total = total + num\n",
    "    return total\n",
    "print(sum_all_nums(2, 3, 5)) # 10"
   ]
  },
  {
   "cell_type": "markdown",
   "id": "56e1529f",
   "metadata": {},
   "source": [
    "### 函数中的默认和不定数量的参数"
   ]
  },
  {
   "cell_type": "code",
   "execution_count": null,
   "id": "fb6fc250",
   "metadata": {
    "attributes": {
     "classes": [
      "py"
     ],
     "id": ""
    }
   },
   "outputs": [],
   "source": [
    "def generate_groups (team,*args):\n",
    "    print(team)\n",
    "    for i in args:\n",
    "        print(i)\n",
    "print(generate_groups('Team-1','Asabeneh','Brook','David','Eyob'))"
   ]
  },
  {
   "cell_type": "markdown",
   "id": "2c1c6b3b",
   "metadata": {},
   "source": [
    "### 作为另一个函数参数的函数"
   ]
  },
  {
   "cell_type": "code",
   "execution_count": null,
   "id": "a1c5656e",
   "metadata": {
    "attributes": {
     "classes": [
      "py"
     ],
     "id": ""
    }
   },
   "outputs": [],
   "source": [
    "# 你可以将函数作为参数传递\n",
    "def square_number (n):\n",
    "    return n * n\n",
    "def do_something(f, x):\n",
    "    return f(x)\n",
    "print(do_something(square_number, 3)) # 27"
   ]
  },
  {
   "cell_type": "markdown",
   "id": "0f7cae50",
   "metadata": {},
   "source": [
    "🌕 你已经完成了很多。继续加油！你已经完成了第 11 天的挑战，你在走向成功的道路上已经迈出了 11 步。现在做一些锻炼脑力和肌肉的练习。\n",
    "\n",
    "## 见证\n",
    "\n",
    "现在是时候表达你对作者和 30DaysOfPython 的看法了。你可以在这个[链接](https://testimonify.herokuapp.com/)留下你的见证。\n",
    "\n",
    "## 💻 练习: 第 11 天\n",
    "\n",
    "### 练习: Level 1\n",
    "\n",
    "1. 声明一个函数 _add_two_numbers_。它接受两个参数并返回它们的和。\n",
    "2. 圆的面积计算公式为：area = π x r x r。编写一个函数计算 _area_of_circle_。\n",
    "3. 编写一个名为 add_all_nums 的函数，它接受不定数量的参数并求和所有参数。检查所有列表项是否都是数字类型。如果不是，给予合理的反馈。\n",
    "4. 摄氏温度（°C）可以使用以下公式转换为华氏温度（°F）：°F = (°C x 9/5) + 32。编写一个函数将 °C 转换为 °F，_convert_celsius_to_fahrenheit_。\n",
    "5. 编写一个名为 check-season 的函数，它接受一个月份作为参数并返回季节：秋季、冬季、春季或夏季。\n",
    "6. 编写一个名为 calculate_slope 的函数，它返回线性方程的斜率。\n",
    "7. 二次方程按以下公式计算：ax² + bx + c = 0。编写一个函数计算二次方程的解集，_solve_quadratic_eqn_。\n",
    "8. 声明一个名为 print_list 的函数。它接受一个列表作为参数，并打印列表的每个元素。\n",
    "9. 声明一个名为 reverse_list 的函数。它接受一个数组作为参数，并返回数组的反转（使用循环）。"
   ]
  },
  {
   "cell_type": "code",
   "execution_count": null,
   "id": "d05d7b7c",
   "metadata": {
    "attributes": {
     "classes": [
      "py"
     ],
     "id": ""
    }
   },
   "outputs": [],
   "source": [
    "print(reverse_list([1, 2, 3, 4, 5]))\n",
    "# [5, 4, 3, 2, 1]\n",
    "print(reverse_list1([\"A\", \"B\", \"C\"]))\n",
    "# [\"C\", \"B\", \"A\"]"
   ]
  },
  {
   "cell_type": "markdown",
   "id": "59d6637c",
   "metadata": {},
   "source": [
    "10. 声明一个名为 capitalize_list_items 的函数。它接受一个列表作为参数，并返回一个大写的列表项。\n",
    "11. 声明一个名为 add_item 的函数。它接受一个列表和一个项作为参数。它返回在末尾添加项的列表。"
   ]
  },
  {
   "cell_type": "code",
   "execution_count": null,
   "id": "da6a9822",
   "metadata": {
    "attributes": {
     "classes": [
      "py"
     ],
     "id": ""
    }
   },
   "outputs": [],
   "source": [
    "food_staff = ['Potato', 'Tomato', 'Mango', 'Milk'];\n",
    "print(add_item(food_staff, 'Meat'))     # ['Potato', 'Tomato', 'Mango', 'Milk','Meat'];\n",
    "numbers = [2, 3, 7, 9];\n",
    "print(add_item(numbers, 5))      [2, 3, 7, 9, 5]"
   ]
  },
  {
   "cell_type": "markdown",
   "id": "05d6cba1",
   "metadata": {},
   "source": [
    "12. 声明一个名为 remove_item 的函数。它接受一个列表和一个项作为参数。它返回移除该项后的列表。"
   ]
  },
  {
   "cell_type": "code",
   "execution_count": null,
   "id": "70da30dd",
   "metadata": {
    "attributes": {
     "classes": [
      "py"
     ],
     "id": ""
    }
   },
   "outputs": [],
   "source": [
    "food_staff = ['Potato', 'Tomato', 'Mango', 'Milk'];\n",
    "print(remove_item(food_staff, 'Mango'))  # ['Potato', 'Tomato', 'Milk'];\n",
    "numbers = [2, 3, 7, 9];\n",
    "print(remove_item(numbers, 3))  # [2, 7, 9]"
   ]
  },
  {
   "cell_type": "markdown",
   "id": "527f2f84",
   "metadata": {},
   "source": [
    "13. 声明一个名为 sum_of_numbers 的函数。它接受一个数字参数并将范围内的所有数字相加。"
   ]
  },
  {
   "cell_type": "code",
   "execution_count": null,
   "id": "c0422f9f",
   "metadata": {
    "attributes": {
     "classes": [
      "py"
     ],
     "id": ""
    }
   },
   "outputs": [],
   "source": [
    "print(sum_of_numbers(5))  # 15\n",
    "print(sum_all_numbers(10)) # 55\n",
    "print(sum_all_numbers(100)) # 5050"
   ]
  },
  {
   "cell_type": "markdown",
   "id": "43acf5ec",
   "metadata": {},
   "source": [
    "14. 声明一个名为 sum_of_odds 的函数。它接受一个数字参数并将范围内的所有奇数相加。\n",
    "15. 声明一个名为 sum_of_even 的函数。它接受一个数字参数并将范围内的所有偶数相加。\n",
    "\n",
    "### 练习: Level 2\n",
    "\n",
    "1. 声明一个名为 evens_and_odds 的函数。它接受一个正整数作为参数并计算该数内偶数和奇数的数量。"
   ]
  },
  {
   "cell_type": "code",
   "execution_count": null,
   "id": "2de5af34",
   "metadata": {
    "attributes": {
     "classes": [
      "py"
     ],
     "id": ""
    }
   },
   "outputs": [],
   "source": [
    "    print(evens_and_odds(100))\n",
    "    # 偶数的数量是 50。\n",
    "    # 奇数的数量是 51。"
   ]
  },
  {
   "cell_type": "markdown",
   "id": "ed8d44cf",
   "metadata": {},
   "source": [
    "1. 调用你的函数 factorial，它接受一个整数作为参数并返回该数的阶乘。\n",
    "1. 调用你的函数 _is_empty_，它接受一个参数并检查它是否为空。\n",
    "1. 编写不同的函数，它们接受列表。它们应该计算平均值、计算中位数、计算众数、计算范围、计算方差、计算标准差。\n",
    "\n",
    "### 练习: Level 3\n",
    "\n",
    "1. 编写一个名为 is_prime 的函数，检查一个数是否是质数。\n",
    "1. 编写一个函数检查列表中的所有项是否都是唯一的。\n",
    "1. 编写一个函数检查列表中的所有项是否都是相同的数据类型。\n",
    "1. 编写一个函数检查提供的变量是否是一个有效的 python 变量。\n",
    "1. 访问数据文件并访问 countries-data.py 文件。\n",
    "\n",
    "- 创建一个名为 the most_spoken_languages 的函数。它返回世界上使用最多的 10 或 20 种语言，按降序排列。\n",
    "- 创建一个名为 the most_populated_countries 的函数。它返回世界上人口最多的 10 或 20 个国家，按降序排列。\n",
    "\n",
    "🎉 恭喜! 🎉\n",
    "\n",
    "[<< 第 10 天](../10_Day_Loops/10_loops.md) | [第 12 天 >>](../12_Day_Modules/12_modules.md)"
   ]
  }
 ],
 "metadata": {},
 "nbformat": 4,
 "nbformat_minor": 5
}
