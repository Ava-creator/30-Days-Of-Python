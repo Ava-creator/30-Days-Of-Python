{
 "cells": [
  {
   "cell_type": "markdown",
   "id": "6251a6ad",
   "metadata": {},
   "source": [
    "<div align=\"center\">\n",
    "  <h1> 30 天 Python：第二天 - 变量, 内置函数</h1>\n",
    "  <a class=\"header-badge\" target=\"_blank\" href=\"https://www.linkedin.com/in/asabeneh/\">\n",
    "  <img src=\"https://img.shields.io/badge/style--5eba00.svg?label=LinkedIn&logo=linkedin&style=social\">\n",
    "  </a>\n",
    "  <a class=\"header-badge\" target=\"_blank\" href=\"https://twitter.com/Asabeneh\">\n",
    "  <img alt=\"Twitter Follow\" src=\"https://img.shields.io/twitter/follow/asabeneh?style=social\">\n",
    "  </a>\n",
    "\n",
    "<sub>作者:\n",
    "<a href=\"https://www.linkedin.com/in/asabeneh/\" target=\"_blank\">Oludayo adeoye</a><br>\n",
    "<small> 第二版：2021 年 7 月</small>\n",
    "</sub>\n",
    "\n",
    "</div>\n",
    "\n",
    "[<< 第一天](./readme.md) | [第三天 >>](./03_operators.md)\n",
    "\n",
    "![30DaysOfPython](../images/30DaysOfPython_banner3@2x.png)\n",
    "\n",
    "_阅读大约需要：12m_\n",
    "\n",
    "- [📘 第二天](#-第二天)\n",
    "  - [内置函数](#内置函数)\n",
    "  - [变量](#变量)\n",
    "    - [在一行中声明多个变量](#在一行中声明多个变量)\n",
    "  - [数据类型](#数据类型)\n",
    "  - [数据类型转换](#数据类型转换)\n",
    "  - [Numbers](#numbers)\n",
    "  - [💻 练习 - 第二天](#-练习---第二天)\n",
    "    - [练习： 1级](#练习-1级)\n",
    "    - [练习： 2级](#练习-2级)\n",
    "\n",
    "# 📘 第二天\n",
    "\n",
    "## 内置函数\n",
    "\n",
    "Python 提供了很多内置函数。内置函数是全局可用的，这意味着您可以在不导入或配置的情况下使用内置函数。以下是几种最常用的 Python 内置函数：_print()_, _len()_, _type()_, _int()_, _float()_, _str()_, _input()_, _list()_, _dict()_, _min()_, _max()_, _sum()_, _sorted()_, _open()_, _file()_, _help()_, _dir()_。在下表中，您将看到从 [Python 文档](https://docs.python.org/3.9/library/functions.html)中获取的详尽的 Python 内置函数列表。\n",
    "\n",
    "![Built-in Functions](../images/builtin-functions.png)\n",
    "\n",
    "让我们打开 Python shell 并开始使用一些最常见的内置函数。\n",
    "\n",
    "![Built-in functions](../images/builtin-functions_practice.png)\n",
    "\n",
    "使用不同的内置函数进行更多练习\n",
    "\n",
    "![Help and Dir Built in Functions](../images/help_and_dir_builtin.png)\n",
    "\n",
    "如上所示，Python 有保留字。我们不能使用保留字来声明变量或函数。我们将在下一节中介绍变量。\n",
    "\n",
    "我相信，现在您已经熟悉了内置函数。让我们再练习一下内置函数，然后我们继续下一节。\n",
    "\n",
    "![Min Max Sum](../images/builtin-functional-final.png)\n",
    "\n",
    "## 变量\n",
    "\n",
    "变量将数据存储在计算机内存中。在许多编程语言中，建议使用助记符变量。助记符变量是一个易于记忆和关联的变量名。变量指的是存储数据的内存地址。\n",
    "\n",
    "命名变量时，不允许以数字开头、使用特殊字符和连字符。变量可以有一个简短的名称（如 x、y、z），但强烈建议使用更具描述性的名称（名字、姓氏、年龄、国家/地区）。\n",
    "\n",
    "Python 变量名规则\n",
    "\n",
    "- 变量名必须以字母或下划线字符开头\n",
    "- 变量名不能以数字开头\n",
    "- 变量名只能包含字母数字字符和下划线（A-z、0-9 和 \\_ ）\n",
    "- 变量名区分大小写（firstname、Firstname、FirstName 和 FIRSTNAME 是不同的变量）\n",
    "\n",
    "以下是一些有效变量名的示例："
   ]
  },
  {
   "cell_type": "code",
   "execution_count": null,
   "id": "6bf75544",
   "metadata": {
    "attributes": {
     "classes": [
      "shell"
     ],
     "id": ""
    }
   },
   "outputs": [],
   "source": [
    "firstname\n",
    "lastname\n",
    "age\n",
    "country\n",
    "city\n",
    "first_name\n",
    "last_name\n",
    "capital_city\n",
    "_if # 如果我们想使用保留字作为变量\n",
    "year_2021\n",
    "year2021\n",
    "current_year_2021\n",
    "birth_year\n",
    "num1\n",
    "num2"
   ]
  },
  {
   "cell_type": "markdown",
   "id": "86f2449a",
   "metadata": {},
   "source": [
    "无效的变量名"
   ]
  },
  {
   "cell_type": "code",
   "execution_count": null,
   "id": "2a30c9a3",
   "metadata": {
    "attributes": {
     "classes": [
      "shell"
     ],
     "id": ""
    }
   },
   "outputs": [],
   "source": [
    "first-name\n",
    "first@name\n",
    "first$name\n",
    "num-1\n",
    "1num"
   ]
  },
  {
   "cell_type": "markdown",
   "id": "46352c0d",
   "metadata": {},
   "source": [
    "我们将使用许多 Python 开发人员采用的标准 Python 变量命名样式。Python 开发人员使用蛇形命名法 (snake_case) 变量命名约定。对于包含多个单词的变量，我们在每个单词后使用下划线（例如 first_name、last_name、engine_rotation_speed）。下面的示例是变量的标准命名示例，当变量名称超过一个单词时，需要使用下划线。\n",
    "\n",
    "当我们将某种数据类型分配给变量时，这称为变量声明。例如，在下面的例子中，我的名字被分配给变量 first_name。等号是赋值运算符。赋值意味着将数据存储在变量中。Python 中的等号与数学中的等号不同。\n",
    "\n",
    "_示例：_"
   ]
  },
  {
   "cell_type": "code",
   "execution_count": null,
   "id": "7245b5c2",
   "metadata": {
    "attributes": {
     "classes": [
      "py"
     ],
     "id": ""
    }
   },
   "outputs": [],
   "source": [
    "# Python 中的变量\n",
    "first_name = 'Asabeneh'\n",
    "last_name = 'Yetayeh'\n",
    "country = 'Finland'\n",
    "city = 'Helsinki'\n",
    "age = 250\n",
    "is_married = True\n",
    "skills = ['HTML', 'CSS', 'JS', 'React', 'Python']\n",
    "person_info = {\n",
    "   'firstname':'Asabeneh',\n",
    "   'lastname':'Yetayeh',\n",
    "   'country':'Finland',\n",
    "   'city':'Helsinki'\n",
    "   }"
   ]
  },
  {
   "cell_type": "markdown",
   "id": "573628ad",
   "metadata": {},
   "source": [
    "让我们使用 _print()_ 和 _len()_ 内置函数。打印函数可以接受无限数量的参数。参数是一个值，我们可以将其传递或放在函数括号内，请参见下面的示例。\n",
    "\n",
    "**示例：**"
   ]
  },
  {
   "cell_type": "code",
   "execution_count": null,
   "id": "37ed1011",
   "metadata": {
    "attributes": {
     "classes": [
      "py"
     ],
     "id": ""
    }
   },
   "outputs": [],
   "source": [
    "print('Hello, World!') # The text Hello, World! is an argument\n",
    "print('Hello',',', 'World','!') # it can take multiple arguments, four arguments have been passed\n",
    "print(len('Hello, World!')) # it takes only one argument"
   ]
  },
  {
   "cell_type": "markdown",
   "id": "7064f76d",
   "metadata": {},
   "source": [
    "让我们打印并算出在上面声明的变量的长度：\n",
    "\n",
    "\n",
    "**示例：**"
   ]
  },
  {
   "cell_type": "code",
   "execution_count": null,
   "id": "192cfea6",
   "metadata": {
    "attributes": {
     "classes": [
      "py"
     ],
     "id": ""
    }
   },
   "outputs": [],
   "source": [
    "# 打印变量的值\n",
    "\n",
    "print('First name:', first_name)\n",
    "print('First name length:', len(first_name))\n",
    "print('Last name: ', last_name)\n",
    "print('Last name length: ', len(last_name))\n",
    "print('Country: ', country)\n",
    "print('City: ', city)\n",
    "print('Age: ', age)\n",
    "print('Married: ', is_married)\n",
    "print('Skills: ', skills)\n",
    "print('Person information: ', person_info)"
   ]
  },
  {
   "cell_type": "markdown",
   "id": "8c5c8ac1",
   "metadata": {},
   "source": [
    "### 在一行中声明多个变量\n",
    "\n",
    "多个变量也可以在同一行中声明：\n",
    "\n",
    "**示例：**"
   ]
  },
  {
   "cell_type": "code",
   "execution_count": null,
   "id": "b2d97765",
   "metadata": {
    "attributes": {
     "classes": [
      "py"
     ],
     "id": ""
    }
   },
   "outputs": [],
   "source": [
    "first_name, last_name, country, age, is_married = 'Asabeneh', 'Yetayeh', 'Helsink', 250, True\n",
    "\n",
    "print(first_name, last_name, country, age, is_married)\n",
    "print('First name:', first_name)\n",
    "print('Last name: ', last_name)\n",
    "print('Country: ', country)\n",
    "print('Age: ', age)\n",
    "print('Married: ', is_married)"
   ]
  },
  {
   "cell_type": "markdown",
   "id": "d02247f0",
   "metadata": {},
   "source": [
    "使用内置函数 _input()_ 获取用户输入。让我们从用户那里得到的数据并赋值给 first_name 和 age 变量。\n",
    ".\n",
    "**示例：**"
   ]
  },
  {
   "cell_type": "code",
   "execution_count": null,
   "id": "b80aed89",
   "metadata": {
    "attributes": {
     "classes": [
      "py"
     ],
     "id": ""
    }
   },
   "outputs": [],
   "source": [
    "first_name = input('What is your name: ')\n",
    "age = input('How old are you? ')\n",
    "\n",
    "print(first_name)\n",
    "print(age)"
   ]
  },
  {
   "cell_type": "markdown",
   "id": "5f5ba5b8",
   "metadata": {},
   "source": [
    "## 数据类型\n",
    "\n",
    "Python 中有多种数据类型。为了识别数据类型，我们使用 _type_ 内置函数。我想请您熟练掌握不同的数据类型。当涉及到编程时，一切都与数据类型有关。我在一开始就介绍了数据类型，现在又提到了，因为每个主题都与数据类型有关。我们将在数据类型各自的章节中做更详细的介绍。\n",
    "\n",
    "## 数据类型转换\n",
    "\n",
    "- 检查数据类型：为了检查某些数据/变量的数据类型，我们使用 _type_ 函数\n",
    "\n",
    "  **示例：**"
   ]
  },
  {
   "cell_type": "code",
   "execution_count": null,
   "id": "bf4012f6",
   "metadata": {
    "attributes": {
     "classes": [
      "py"
     ],
     "id": ""
    }
   },
   "outputs": [],
   "source": [
    "# python 中不同的数据类型\n",
    "# 声明一些有各种数据类型的变量\n",
    "\n",
    "first_name = 'Asabeneh'     # str\n",
    "last_name = 'Yetayeh'       # str\n",
    "country = 'Finland'         # str\n",
    "city= 'Helsinki'            # str\n",
    "age = 250                   # int, 不用担心，这并不是我真实的年龄 :) \n",
    "\n",
    "# Printing out types\n",
    "print(type('Asabeneh'))     # str\n",
    "print(type(first_name))     # str\n",
    "print(type(10))             # int\n",
    "print(type(3.14))           # float\n",
    "print(type(1 + 1j))         # complex\n",
    "print(type(True))           # bool\n",
    "print(type([1, 2, 3, 4]))     # list\n",
    "print(type({'name':'Asabeneh','age':250, 'is_married':250}))    # dict\n",
    "print(type((1,2)))                                              # tuple\n",
    "print(type(zip([1,2],[3,4])))                                   # set"
   ]
  },
  {
   "cell_type": "markdown",
   "id": "b64e4590",
   "metadata": {},
   "source": [
    "- 数据类型转换：将一种数据类型转换为另一种数据类型。我们使用 _int()_、_float()_、_str()_、_list_、_set_\n",
    "当我们进行算术运算时，字符串数字应首先转换为 int 或 float，否则将返回错误。如果我们将数字与字符串连接起来，则应首先将数字转换为字符串。我们将在字符串部分讨论连接。\n",
    "\n",
    "\n",
    "  **示例：**"
   ]
  },
  {
   "cell_type": "code",
   "execution_count": null,
   "id": "c7206043",
   "metadata": {
    "attributes": {
     "classes": [
      "py"
     ],
     "id": ""
    }
   },
   "outputs": [],
   "source": [
    "# 整型 到 浮点型\n",
    "num_int = 10\n",
    "print('num_int',num_int)         # 10\n",
    "num_float = float(num_int)\n",
    "print('num_float:', num_float)   # 10.0\n",
    "\n",
    "# 浮点型 到 整型\n",
    "gravity = 9.81\n",
    "print(int(gravity))             # 9\n",
    "\n",
    "# 整型 到 字符串\n",
    "num_int = 10\n",
    "print(num_int)                  # 10\n",
    "num_str = str(num_int)\n",
    "print(num_str)                  # '10'\n",
    "\n",
    "# 字符串 到 整型或浮点型\n",
    "num_str = '10.6'\n",
    "print('num_int', int(num_str))      # 10\n",
    "print('num_float', float(num_str))  # 10.6\n",
    "\n",
    "# 字符串 到 列表\n",
    "first_name = 'Asabeneh'\n",
    "print(first_name)               # 'Asabeneh'\n",
    "first_name_to_list = list(first_name)\n",
    "print(first_name_to_list)            # ['A', 's', 'a', 'b', 'e', 'n', 'e', 'h']"
   ]
  },
  {
   "cell_type": "markdown",
   "id": "af4be212",
   "metadata": {},
   "source": [
    "## Number\n",
    "\n",
    "Python 中不同的数字类型\n",
    "\n",
    "- Integer：整型数字(负数, 0 以及 正数)\n",
    "    示例：\n",
    "    ... -3, -2, -1, 0, 1, 2, 3 ...\n",
    "- Float：浮点数\n",
    "    示例\n",
    "    ... -3.5, -2.25, -1.0, 0.0, 1.1, 2.2, 3.5 ...\n",
    "- Complex：复数\n",
    "    示例\n",
    "    1 + j, 2 + 4j, 1 - 1j\n",
    "\n",
    "🌕 你太棒了。你刚刚完成了第 2 天的挑战，在通往成功的路上又前进了一步。现在做一些练习来锻练你的大脑和肌肉。\n",
    "\n",
    "\n",
    "## 💻 练习 - 第二天\n",
    "\n",
    "### 练习： 1级\n",
    "\n",
    "1. 在 30DaysOfPython 文件夹内创建一个 day_2 文件夹。在这个文件夹里创建一个 variables.py 文件\n",
    "2. 输入注释 '第二天： 30 Days of python programming'\n",
    "3. 声明一个 first name 变量，并为它赋值\n",
    "4. 声明一个 last name 变量，并为它赋值\n",
    "5. 声明一个 full name 变量，并为它赋值\n",
    "6. 声明一个 country 变量，并为它赋值\n",
    "7. 声明一个 city 变量，并为它赋值\n",
    "8. 声明一个 age 变量，并为它赋值\n",
    "9. 声明一个 year 变量，并为它赋值\n",
    "10. 声明一个 is_married 变量，并为它赋值\n",
    "11. 声明一个 is_true 变量，并为它赋值\n",
    "12. 声明一个 is_light_on 变量，并为它赋值\n",
    "13. 在一行中声明多个变量\n",
    "\n",
    "### 练习： 2级\n",
    "\n",
    "1. 使用 _type()_ 内置函数检查你声明变量的数据类型\n",
    "1. 使用 _len()_ 内置函数，算出你 first name 变量的长度\n",
    "1. 比较你 first name 和 last name 变量的长度\n",
    "1. 声明变量 num_one 为5，num_two 为4\n",
    "    1. 将 num_one 和 num_two 相加，并赋值给 total 变量\n",
    "    2. 将 num_one 和 num_two 相减，并赋值给 diff 变量\n",
    "    3. 将 num_one 和 num_two 相乘，并赋值给 product 变量\n",
    "    4. 将 num_one 和 num_two 相乘，并赋值给 division 变量\n",
    "    5. 使用模数除法求出 num_two 除以 num_one 的结果，并将结果赋给变量 remainder\n",
    "    6. 计算 num_one 的 num_two 次方并将值赋给变量 exp\n",
    "    7. 计算 num_one 除以 num_two 商的整数部分（整除操作），并将结果赋给变量 floor_division\n",
    "1. 圆的半径为 30 米。\n",
    "    1. 计算圆的面积并将值赋给名为 _area_of_circle_ 的变量\n",
    "    2. 计算圆的周长并将值赋给名为 _circum_of_circle_ 的变量\n",
    "    3. 将半径作为用户输入并计算面积。\n",
    "1. 使用内置输入函数从用户那里获取名字、姓氏、国家和年龄，并将值存储到相应的变量名中\n",
    "1. 在 Python shell 或文件中运行 help('keywords') 检查 Python 保留字或关键字\n",
    "\n",
    "\n",
    "\n",
    "🎉 恭喜 ! 🎉\n",
    "\n",
    "[<< 第一天](./readme.md) | [第三天 >>](./03_operators.md)"
   ]
  }
 ],
 "metadata": {},
 "nbformat": 4,
 "nbformat_minor": 5
}
