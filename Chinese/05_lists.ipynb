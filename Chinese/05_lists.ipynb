{
 "cells": [
  {
   "cell_type": "markdown",
   "id": "6cff3082",
   "metadata": {},
   "source": [
    "<div align=\"center\">\n",
    "  <h1> 30 天 Python：第五天 - Lists</h1>\n",
    "  <a class=\"header-badge\" target=\"_blank\" href=\"https://www.linkedin.com/in/asabeneh/\">\n",
    "  <img src=\"https://img.shields.io/badge/style--5eba00.svg?label=LinkedIn&logo=linkedin&style=social\">\n",
    "  </a>\n",
    "  <a class=\"header-badge\" target=\"_blank\" href=\"https://twitter.com/Asabeneh\">\n",
    "  <img alt=\"Twitter Follow\" src=\"https://img.shields.io/twitter/follow/asabeneh?style=social\">\n",
    "  </a>\n",
    "\n",
    "<sub>作者:\n",
    "<a href=\"https://www.linkedin.com/in/asabeneh/\" target=\"_blank\">Asabeneh Yetayeh</a><br>\n",
    "<small> 第二版：2021 年 7 月</small>\n",
    "</sub>\n",
    "\n",
    "</div>\n",
    "\n",
    "[<< 第四天](./04_strings.md) | [第六天 >>](./06_tuples.md)\n",
    "\n",
    "![30DaysOfPython](../images/30DaysOfPython_banner3@2x.png)\n",
    "\n",
    "- [第五天](#第五天)\n",
    "  - [列表](#列表)\n",
    "    - [如何创建列表](#如何创建列表)\n",
    "    - [使用正索引访问列表项](#使用正索引访问列表项)\n",
    "    - [使用负索引访问列表项](#使用负索引访问列表项)\n",
    "    - [拆解列表项](#拆解列表项)\n",
    "    - [列表切分](#列表切分)\n",
    "    - [修改列表](#修改列表)\n",
    "    - [检索列表项](#检索列表项)\n",
    "    - [添加列表项](#添加列表项)\n",
    "    - [插入列表项](#插入列表项)\n",
    "    - [移除列表项](#移除列表项)\n",
    "    - [使用 Pop 删除列表项](#使用-pop-删除列表项)\n",
    "    - [使用 Del 删除列表项](#使用-del-删除列表项)\n",
    "    - [清空列表项](#清空列表项)\n",
    "    - [列表复制](#列表复制)\n",
    "    - [连接列表](#连接列表)\n",
    "    - [统计列表项](#统计列表项)\n",
    "    - [查找项的索引](#查找项的索引)\n",
    "    - [列表反转](#列表反转)\n",
    "    - [列表排序](#列表排序)\n",
    "  - [💻 练习 - 第五天](#-练习---第五天)\n",
    "    - [练习： 1级](#练习-1级)\n",
    "    - [练习： 2级](#练习-2级)\n",
    "\n",
    "# 第五天\n",
    "\n",
    "## 列表\n",
    "\n",
    "Python 中有四种集合数据类型：\n",
    "\n",
    "- List：有序且可变的集合。允许重复的成员。\n",
    "- Tuple：有序且不可变的集合。允许重复的成员。\n",
    "- Set：无序、不可索引且不可变的集合，但我们可以向集合中添加新项。不允许重复的成员。\n",
    "- Dictionary：无序、可变且可索引的集合。不允许重复的成员。\n",
    "\n",
    "\n",
    "列表是不同数据类型的集合，有序且可修改（可变）。列表可以为空，也可以包含不同数据类型的项。\n",
    "\n",
    "### 如何创建列表\n",
    "\n",
    "在 Python 中，我们可以通过两种方式创建列表：\n",
    "\n",
    "- 使用内置函数 list()"
   ]
  },
  {
   "cell_type": "code",
   "execution_count": null,
   "id": "8f3d6554",
   "metadata": {
    "attributes": {
     "classes": [
      "py"
     ],
     "id": ""
    }
   },
   "outputs": [],
   "source": [
    "# 语法\n",
    "lst = list()"
   ]
  },
  {
   "cell_type": "code",
   "execution_count": null,
   "id": "66a0a3ae",
   "metadata": {
    "attributes": {
     "classes": [
      "py"
     ],
     "id": ""
    }
   },
   "outputs": [],
   "source": [
    "empty_list = list() # 这是一个空列表\n",
    "print(len(empty_list)) # 0"
   ]
  },
  {
   "cell_type": "markdown",
   "id": "1b5a4c14",
   "metadata": {},
   "source": [
    "- 使用方括号，[]"
   ]
  },
  {
   "cell_type": "code",
   "execution_count": null,
   "id": "9d766ab5",
   "metadata": {
    "attributes": {
     "classes": [
      "py"
     ],
     "id": ""
    }
   },
   "outputs": [],
   "source": [
    "# 语法\n",
    "lst = []"
   ]
  },
  {
   "cell_type": "code",
   "execution_count": null,
   "id": "8f97c4ed",
   "metadata": {
    "attributes": {
     "classes": [
      "py"
     ],
     "id": ""
    }
   },
   "outputs": [],
   "source": [
    "empty_list = [] # 这是一个空列表\n",
    "print(len(empty_list)) # 0"
   ]
  },
  {
   "cell_type": "markdown",
   "id": "c29a33e1",
   "metadata": {},
   "source": [
    "具有初始值的列表。我们使用 _len()_ 来检查列表的长度。"
   ]
  },
  {
   "cell_type": "code",
   "execution_count": null,
   "id": "968179af",
   "metadata": {
    "attributes": {
     "classes": [
      "py"
     ],
     "id": ""
    }
   },
   "outputs": [],
   "source": [
    "fruits = ['banana', 'orange', 'mango', 'lemon']                     # list of fruits\n",
    "vegetables = ['Tomato', 'Potato', 'Cabbage','Onion', 'Carrot']      # list of vegetables\n",
    "animal_products = ['milk', 'meat', 'butter', 'yoghurt']             # list of animal products\n",
    "web_techs = ['HTML', 'CSS', 'JS', 'React','Redux', 'Node', 'MongDB'] # list of web technologies\n",
    "countries = ['Finland', 'Estonia', 'Denmark', 'Sweden', 'Norway']\n",
    "\n",
    "# 打印列表及其长度\n",
    "print('Fruits:', fruits)\n",
    "print('Number of fruits:', len(fruits))\n",
    "print('Vegetables:', vegetables)\n",
    "print('Number of vegetables:', len(vegetables))\n",
    "print('Animal products:',animal_products)\n",
    "print('Number of animal products:', len(animal_products))\n",
    "print('Web technologies:', web_techs)\n",
    "print('Number of web technologies:', len(web_techs))\n",
    "print('Countries:', countries)\n",
    "print('Number of countries:', len(countries))"
   ]
  },
  {
   "cell_type": "code",
   "execution_count": null,
   "id": "aba5a350",
   "metadata": {
    "attributes": {
     "classes": [
      "sh"
     ],
     "id": ""
    }
   },
   "outputs": [],
   "source": [
    "输出\n",
    "Fruits: ['banana', 'orange', 'mango', 'lemon']\n",
    "Number of fruits: 4\n",
    "Vegetables: ['Tomato', 'Potato', 'Cabbage', 'Onion', 'Carrot']\n",
    "Number of vegetables: 5\n",
    "Animal products: ['milk', 'meat', 'butter', 'yoghurt']\n",
    "Number of animal products: 4\n",
    "Web technologies: ['HTML', 'CSS', 'JS', 'React', 'Redux', 'Node', 'MongDB']\n",
    "Number of web technologies: 7\n",
    "Countries: ['Finland', 'Estonia', 'Denmark', 'Sweden', 'Norway']\n",
    "Number of countries: 5"
   ]
  },
  {
   "cell_type": "markdown",
   "id": "f8dea4b7",
   "metadata": {},
   "source": [
    "- 列表可以包含不同数据类型的项"
   ]
  },
  {
   "cell_type": "code",
   "execution_count": null,
   "id": "67cb69f4",
   "metadata": {
    "attributes": {
     "classes": [
      "py"
     ],
     "id": ""
    }
   },
   "outputs": [],
   "source": [
    " lst = ['Asabeneh', 250, True, {'country':'Finland', 'city':'Helsinki'}] # 包含不同数据类型的列表"
   ]
  },
  {
   "cell_type": "markdown",
   "id": "7b8aa4a0",
   "metadata": {},
   "source": [
    "### 使用正索引访问列表项\n",
    "\n",
    "我们使用索引访问列表中的每个项。列表索引从 0 开始。下图清楚地显示了索引从哪里开始。\n",
    "\n",
    "![List index](../images/list_index.png)"
   ]
  },
  {
   "cell_type": "code",
   "execution_count": null,
   "id": "391d00ad",
   "metadata": {
    "attributes": {
     "classes": [
      "py"
     ],
     "id": ""
    }
   },
   "outputs": [],
   "source": [
    "fruits = ['banana', 'orange', 'mango', 'lemon']\n",
    "first_fruit = fruits[0] # 我们正在使用其索引访问第一项\n",
    "print(first_fruit)      # banana\n",
    "second_fruit = fruits[1]\n",
    "print(second_fruit)     # orange\n",
    "last_fruit = fruits[3]\n",
    "print(last_fruit) # lemon\n",
    "# Last index\n",
    "last_index = len(fruits) - 1\n",
    "last_fruit = fruits[last_index]"
   ]
  },
  {
   "cell_type": "markdown",
   "id": "09627f20",
   "metadata": {},
   "source": [
    "### 使用负索引访问列表项\n",
    "\n",
    "负索引意味着从末尾开始，-1 指的是最后一项，-2 指的是倒数第二项。\n",
    "\n",
    "![List negative indexing](../images/list_negative_indexing.png)"
   ]
  },
  {
   "cell_type": "code",
   "execution_count": null,
   "id": "e1d150df",
   "metadata": {
    "attributes": {
     "classes": [
      "py"
     ],
     "id": ""
    }
   },
   "outputs": [],
   "source": [
    "fruits = ['banana', 'orange', 'mango', 'lemon']\n",
    "first_fruit = fruits[-4]\n",
    "last_fruit = fruits[-1]\n",
    "second_last = fruits[-2]\n",
    "print(first_fruit)      # banana\n",
    "print(last_fruit)       # lemon\n",
    "print(second_last)      # mango"
   ]
  },
  {
   "cell_type": "markdown",
   "id": "5ea61f85",
   "metadata": {},
   "source": [
    "### 拆解列表项"
   ]
  },
  {
   "cell_type": "code",
   "execution_count": null,
   "id": "a83ebc3a",
   "metadata": {
    "attributes": {
     "classes": [
      "py"
     ],
     "id": ""
    }
   },
   "outputs": [],
   "source": [
    "lst = ['item1','item2','item3', 'item4', 'item5']\n",
    "first_item, second_item, third_item, *rest = lst\n",
    "print(first_item)     # item1\n",
    "print(second_item)    # item2\n",
    "print(third_item)     # item3\n",
    "print(rest)           # ['item4', 'item5']\n"
   ]
  },
  {
   "cell_type": "code",
   "execution_count": null,
   "id": "a1b71bcd",
   "metadata": {
    "attributes": {
     "classes": [
      "py"
     ],
     "id": ""
    }
   },
   "outputs": [],
   "source": [
    "# 示例一\n",
    "fruits = ['banana', 'orange', 'mango', 'lemon','lime','apple']\n",
    "first_fruit, second_fruit, third_fruit, *rest = fruits \n",
    "print(first_fruit)     # banana\n",
    "print(second_fruit)    # orange\n",
    "print(third_fruit)     # mango\n",
    "print(rest)           # ['lemon','lime','apple']\n",
    "# 示例二\n",
    "first, second, third,*rest, tenth = [1,2,3,4,5,6,7,8,9,10]\n",
    "print(first)          # 1\n",
    "print(second)         # 2\n",
    "print(third)          # 3\n",
    "print(rest)           # [4,5,6,7,8,9]\n",
    "print(tenth)          # 10\n",
    "# 示例三\n",
    "countries = ['Germany', 'France','Belgium','Sweden','Denmark','Finland','Norway','Iceland','Estonia']\n",
    "gr, fr, bg, sw, *scandic, es = countries\n",
    "print(gr)\n",
    "print(fr)\n",
    "print(bg)\n",
    "print(sw)\n",
    "print(scandic)\n",
    "print(es)"
   ]
  },
  {
   "cell_type": "markdown",
   "id": "f140af9d",
   "metadata": {},
   "source": [
    "### 列表切分\n",
    "\n",
    "- 正索引：我们可以通过指定开始、结束和步长来指定一系列正索引，返回值将是一个新列表。 （开始默认值为 0，结束默认值为 len(lst) - 1（最后一项），步长默认值为 1）"
   ]
  },
  {
   "cell_type": "code",
   "execution_count": null,
   "id": "a0bbda1a",
   "metadata": {
    "attributes": {
     "classes": [
      "py"
     ],
     "id": ""
    }
   },
   "outputs": [],
   "source": [
    "fruits = ['banana', 'orange', 'mango', 'lemon']\n",
    "all_fruits = fruits[0:4] # 返回所有项\n",
    "#与上面返回值相同\n",
    "all_fruits = fruits[0:] # 如果不指定结束索引，将返回从开始到最后一项的所有项\n",
    "orange_and_mango = fruits[1:3] # 不包含第一项\n",
    "orange_mango_lemon = fruits[1:]\n",
    "orange_and_lemon = fruits[::2] # 我们使用了第三个参数，步长。 每两项取一条 - ['banana', 'mango']"
   ]
  },
  {
   "cell_type": "markdown",
   "id": "f015e732",
   "metadata": {},
   "source": [
    "- 负索引：我们可以通过指定开始、结束和步长来指定一系列负索引，返回值将是一个新列表。"
   ]
  },
  {
   "cell_type": "code",
   "execution_count": null,
   "id": "b190baf0",
   "metadata": {
    "attributes": {
     "classes": [
      "py"
     ],
     "id": ""
    }
   },
   "outputs": [],
   "source": [
    "fruits = ['banana', 'orange', 'mango', 'lemon']\n",
    "all_fruits = fruits[-4:] # 返回所有项\n",
    "orange_and_mango = fruits[-3:-1] # 不包含最后一项，['orange', 'mango']\n",
    "orange_mango_lemon = fruits[-3:] # 返回从-3到末尾的项，['orange', 'mango', 'lemon']\n",
    "reverse_fruits = fruits[::-1] # 负步长将按相反顺序排列列表,['lemon', 'mango', 'orange', 'banana']"
   ]
  },
  {
   "cell_type": "markdown",
   "id": "95918c22",
   "metadata": {},
   "source": [
    "### 修改列表\n",
    "\n",
    "列表是一个可变或可修改的有序集合。下面我们修改 fruit 列表。"
   ]
  },
  {
   "cell_type": "code",
   "execution_count": null,
   "id": "53a3f422",
   "metadata": {
    "attributes": {
     "classes": [
      "py"
     ],
     "id": ""
    }
   },
   "outputs": [],
   "source": [
    "fruits = ['banana', 'orange', 'mango', 'lemon']\n",
    "fruits[0] = 'avocado'\n",
    "print(fruits)       #  ['avocado', 'orange', 'mango', 'lemon']\n",
    "fruits[1] = 'apple'\n",
    "print(fruits)       #  ['avocado', 'apple', 'mango', 'lemon']\n",
    "last_index = len(fruits) - 1\n",
    "fruits[last_index] = 'lime'\n",
    "print(fruits)        #  ['avocado', 'apple', 'mango', 'lime']"
   ]
  },
  {
   "cell_type": "markdown",
   "id": "c6217024",
   "metadata": {},
   "source": [
    "### 检索列表项\n",
    "\n",
    "使用 *in* 运算符检查列表项是否为列表的成员。请参阅下面的示例。"
   ]
  },
  {
   "cell_type": "code",
   "execution_count": null,
   "id": "e979fbae",
   "metadata": {
    "attributes": {
     "classes": [
      "py"
     ],
     "id": ""
    }
   },
   "outputs": [],
   "source": [
    "fruits = ['banana', 'orange', 'mango', 'lemon']\n",
    "does_exist = 'banana' in fruits\n",
    "print(does_exist)  # True\n",
    "does_exist = 'lime' in fruits\n",
    "print(does_exist)  # False"
   ]
  },
  {
   "cell_type": "markdown",
   "id": "0d0f8ad2",
   "metadata": {},
   "source": [
    "### 添加列表项\n",
    "\n",
    "要将项添加到现有列表的末尾，我们使用 *append()* 方法。"
   ]
  },
  {
   "cell_type": "code",
   "execution_count": null,
   "id": "6aced50c",
   "metadata": {
    "attributes": {
     "classes": [
      "py"
     ],
     "id": ""
    }
   },
   "outputs": [],
   "source": [
    "# 语法\n",
    "lst = list()\n",
    "lst.append(item)"
   ]
  },
  {
   "cell_type": "code",
   "execution_count": null,
   "id": "a35e97fa",
   "metadata": {
    "attributes": {
     "classes": [
      "py"
     ],
     "id": ""
    }
   },
   "outputs": [],
   "source": [
    "fruits = ['banana', 'orange', 'mango', 'lemon']\n",
    "fruits.append('apple')\n",
    "print(fruits)           # ['banana', 'orange', 'mango', 'lemon', 'apple']\n",
    "fruits.append('lime')   # ['banana', 'orange', 'mango', 'lemon', 'apple', 'lime']\n",
    "print(fruits)"
   ]
  },
  {
   "cell_type": "markdown",
   "id": "1c532f26",
   "metadata": {},
   "source": [
    "### 插入列表项\n",
    "\n",
    "我们可以使用 *insert()* 方法在列表中的指定索引处插入单个项。请注意，其他项将向右移动。*insert()* 方法接受两个参数：索引和要插入的项。"
   ]
  },
  {
   "cell_type": "code",
   "execution_count": null,
   "id": "a630d8d0",
   "metadata": {
    "attributes": {
     "classes": [
      "py"
     ],
     "id": ""
    }
   },
   "outputs": [],
   "source": [
    "# 语法\n",
    "lst = ['item1', 'item2']\n",
    "lst.insert(index, item)"
   ]
  },
  {
   "cell_type": "code",
   "execution_count": null,
   "id": "1115de67",
   "metadata": {
    "attributes": {
     "classes": [
      "py"
     ],
     "id": ""
    }
   },
   "outputs": [],
   "source": [
    "fruits = ['banana', 'orange', 'mango', 'lemon']\n",
    "fruits.insert(2, 'apple') # 在 orange 。 mango 中插入 apple\n",
    "print(fruits)           # ['banana', 'orange', 'apple', 'mango', 'lemon']\n",
    "fruits.insert(3, 'lime')   # ['banana', 'orange', 'apple', 'lime', 'mango', 'lemon']\n",
    "print(fruits)"
   ]
  },
  {
   "cell_type": "markdown",
   "id": "6b1dd6e2",
   "metadata": {},
   "source": [
    "### 移除列表项\n",
    "\n",
    "- 使用 *remove()* 方法从列表中删除指定的项"
   ]
  },
  {
   "cell_type": "code",
   "execution_count": null,
   "id": "333445d9",
   "metadata": {
    "attributes": {
     "classes": [
      "py"
     ],
     "id": ""
    }
   },
   "outputs": [],
   "source": [
    "# 语法\n",
    "lst = ['item1', 'item2']\n",
    "lst.remove(item)"
   ]
  },
  {
   "cell_type": "code",
   "execution_count": null,
   "id": "6423ee7d",
   "metadata": {
    "attributes": {
     "classes": [
      "py"
     ],
     "id": ""
    }
   },
   "outputs": [],
   "source": [
    "fruits = ['banana', 'orange', 'mango', 'lemon', 'banana']\n",
    "fruits.remove('banana')\n",
    "print(fruits)  # ['orange', 'mango', 'lemon', 'banana'] - 此方法删除列表中第一次出现的项\n",
    "fruits.remove('lemon')\n",
    "print(fruits)  # ['orange', 'mango', 'banana']"
   ]
  },
  {
   "cell_type": "markdown",
   "id": "b5d2b8c1",
   "metadata": {},
   "source": [
    "### 使用 Pop 删除列表项\n",
    "\n",
    "使用 *pop()* 方法删除指定索引（如果未指定索引，则删除最后一项）："
   ]
  },
  {
   "cell_type": "code",
   "execution_count": null,
   "id": "b88bf4fa",
   "metadata": {
    "attributes": {
     "classes": [
      "py"
     ],
     "id": ""
    }
   },
   "outputs": [],
   "source": [
    "# 语法\n",
    "lst = ['item1', 'item2']\n",
    "lst.pop()       # 最后一项\n",
    "lst.pop(index)"
   ]
  },
  {
   "cell_type": "code",
   "execution_count": null,
   "id": "a5125ba4",
   "metadata": {
    "attributes": {
     "classes": [
      "py"
     ],
     "id": ""
    }
   },
   "outputs": [],
   "source": [
    "fruits = ['banana', 'orange', 'mango', 'lemon']\n",
    "fruits.pop()\n",
    "print(fruits)       # ['banana', 'orange', 'mango']\n",
    "\n",
    "fruits.pop(0)\n",
    "print(fruits)       # ['orange', 'mango']"
   ]
  },
  {
   "cell_type": "markdown",
   "id": "11486307",
   "metadata": {},
   "source": [
    "### 使用 Del 删除列表项\n",
    "\n",
    "使用 *del* 关键字删除指定索引，也可以用于删除索引范围内的项。它还可以完全删除列表"
   ]
  },
  {
   "cell_type": "code",
   "execution_count": null,
   "id": "e0cc1aca",
   "metadata": {
    "attributes": {
     "classes": [
      "py"
     ],
     "id": ""
    }
   },
   "outputs": [],
   "source": [
    "# 语法\n",
    "lst = ['item1', 'item2']\n",
    "del lst[index] # 只删除一项\n",
    "del lst        # 删除整个列表"
   ]
  },
  {
   "cell_type": "code",
   "execution_count": null,
   "id": "9f13a5df",
   "metadata": {
    "attributes": {
     "classes": [
      "py"
     ],
     "id": ""
    }
   },
   "outputs": [],
   "source": [
    "fruits = ['banana', 'orange', 'mango', 'lemon', 'kiwi', 'lime']\n",
    "del fruits[0]\n",
    "print(fruits)       # ['orange', 'mango', 'lemon', 'kiwi', 'lime']\n",
    "del fruits[1]\n",
    "print(fruits)       # ['orange', 'lemon', 'kiwi', 'lime']\n",
    "del fruits[1:3]     # 这将删除给定索引之间的项，因此不会删除索引为 3 的项!\n",
    "print(fruits)       # ['orange', 'lime']\n",
    "del fruits\n",
    "print(fruits)       # 这里会提示: NameError: name 'fruits' is not defined"
   ]
  },
  {
   "cell_type": "markdown",
   "id": "769f660e",
   "metadata": {},
   "source": [
    "### 清空列表项\n",
    "\n",
    "使用 *clear()* 方法清空列表："
   ]
  },
  {
   "cell_type": "code",
   "execution_count": null,
   "id": "1215b73e",
   "metadata": {
    "attributes": {
     "classes": [
      "py"
     ],
     "id": ""
    }
   },
   "outputs": [],
   "source": [
    "# 语法\n",
    "lst = ['item1', 'item2']\n",
    "lst.clear()"
   ]
  },
  {
   "cell_type": "code",
   "execution_count": null,
   "id": "ea786769",
   "metadata": {
    "attributes": {
     "classes": [
      "py"
     ],
     "id": ""
    }
   },
   "outputs": [],
   "source": [
    "fruits = ['banana', 'orange', 'mango', 'lemon']\n",
    "fruits.clear()\n",
    "print(fruits)       # []"
   ]
  },
  {
   "cell_type": "markdown",
   "id": "586388d1",
   "metadata": {},
   "source": [
    "### 列表复制\n",
    "\n",
    "可以通过将其重新分配给新变量来复制列表: list2 = list1。现在，list2 是 list1 的引用，我们对 list2 进行的任何更改也将修改原始的 list1。但是有很多时候我们不想修改原始的列表，而是想要一个不同的副本。为了避免这个问题，我们使用 *copy()*。"
   ]
  },
  {
   "cell_type": "code",
   "execution_count": null,
   "id": "6caa71af",
   "metadata": {
    "attributes": {
     "classes": [
      "py"
     ],
     "id": ""
    }
   },
   "outputs": [],
   "source": [
    "# 语法\n",
    "lst = ['item1', 'item2']\n",
    "lst_copy = lst.copy()"
   ]
  },
  {
   "cell_type": "code",
   "execution_count": null,
   "id": "846de2a8",
   "metadata": {
    "attributes": {
     "classes": [
      "py"
     ],
     "id": ""
    }
   },
   "outputs": [],
   "source": [
    "fruits = ['banana', 'orange', 'mango', 'lemon']\n",
    "fruits_copy = fruits.copy()\n",
    "print(fruits_copy)       # ['banana', 'orange', 'mango', 'lemon']"
   ]
  },
  {
   "cell_type": "markdown",
   "id": "002a8cda",
   "metadata": {},
   "source": [
    "### 连接列表\n",
    "\n",
    "有几种方法可以连接或连接两个或多个列表。\n",
    "\n",
    "- 加号 (+)"
   ]
  },
  {
   "cell_type": "code",
   "execution_count": null,
   "id": "a33c2990",
   "metadata": {
    "attributes": {
     "classes": [
      "py"
     ],
     "id": ""
    }
   },
   "outputs": [],
   "source": [
    "# 语法\n",
    "list3 = list1 + list2"
   ]
  },
  {
   "cell_type": "code",
   "execution_count": null,
   "id": "122dd795",
   "metadata": {
    "attributes": {
     "classes": [
      "py"
     ],
     "id": ""
    }
   },
   "outputs": [],
   "source": [
    "positive_numbers = [1, 2, 3, 4, 5]\n",
    "zero = [0]\n",
    "negative_numbers = [-5,-4,-3,-2,-1]\n",
    "integers = negative_numbers + zero + positive_numbers\n",
    "print(integers) # [-5, -4, -3, -2, -1, 0, 1, 2, 3, 4, 5]\n",
    "fruits = ['banana', 'orange', 'mango', 'lemon']\n",
    "vegetables = ['Tomato', 'Potato', 'Cabbage', 'Onion', 'Carrot']\n",
    "fruits_and_vegetables = fruits + vegetables\n",
    "print(fruits_and_vegetables ) # ['banana', 'orange', 'mango', 'lemon', 'Tomato', 'Potato', 'Cabbage', 'Onion', 'Carrot']"
   ]
  },
  {
   "cell_type": "markdown",
   "id": "18e3bd0b",
   "metadata": {},
   "source": [
    "- 使用 *extend()* 方法\n",
    "*extend()* 方法可以将列表附加到列表中。请参阅下面的示例。"
   ]
  },
  {
   "cell_type": "code",
   "execution_count": null,
   "id": "0c705bc6",
   "metadata": {
    "attributes": {
     "classes": [
      "py"
     ],
     "id": ""
    }
   },
   "outputs": [],
   "source": [
    "# 语法\n",
    "list1 = ['item1', 'item2']\n",
    "list2 = ['item3', 'item4', 'item5']\n",
    "list1.extend(list2)"
   ]
  },
  {
   "cell_type": "code",
   "execution_count": null,
   "id": "b162488a",
   "metadata": {
    "attributes": {
     "classes": [
      "py"
     ],
     "id": ""
    }
   },
   "outputs": [],
   "source": [
    "num1 = [0, 1, 2, 3]\n",
    "num2= [4, 5, 6]\n",
    "num1.extend(num2)\n",
    "print('Numbers:', num1) # Numbers: [0, 1, 2, 3, 4, 5, 6]\n",
    "negative_numbers = [-5,-4,-3,-2,-1]\n",
    "positive_numbers = [1, 2, 3,4,5]\n",
    "zero = [0]\n",
    "\n",
    "negative_numbers.extend(zero)\n",
    "negative_numbers.extend(positive_numbers)\n",
    "print('Integers:', negative_numbers) # Integers: [-5, -4, -3, -2, -1, 0, 1, 2, 3, 4, 5]\n",
    "fruits = ['banana', 'orange', 'mango', 'lemon']\n",
    "vegetables = ['Tomato', 'Potato', 'Cabbage', 'Onion', 'Carrot']\n",
    "fruits.extend(vegetables)\n",
    "print('Fruits and vegetables:', fruits ) # Fruits and vegetables: ['banana', 'orange', 'mango', 'lemon', 'Tomato', 'Potato', 'Cabbage', 'Onion', 'Carrot']"
   ]
  },
  {
   "cell_type": "markdown",
   "id": "d500da11",
   "metadata": {},
   "source": [
    "### 统计列表项\n",
    "\n",
    "使用 *count()* 方法返回列表中指定项出现的次数:"
   ]
  },
  {
   "cell_type": "code",
   "execution_count": null,
   "id": "fd2dfe32",
   "metadata": {
    "attributes": {
     "classes": [
      "py"
     ],
     "id": ""
    }
   },
   "outputs": [],
   "source": [
    "# 语法\n",
    "lst = ['item1', 'item2']\n",
    "lst.count(item)"
   ]
  },
  {
   "cell_type": "code",
   "execution_count": null,
   "id": "fe7d782b",
   "metadata": {
    "attributes": {
     "classes": [
      "py"
     ],
     "id": ""
    }
   },
   "outputs": [],
   "source": [
    "fruits = ['banana', 'orange', 'mango', 'lemon']\n",
    "print(fruits.count('orange'))   # 1\n",
    "ages = [22, 19, 24, 25, 26, 24, 25, 24]\n",
    "print(ages.count(24))           # 3"
   ]
  },
  {
   "cell_type": "markdown",
   "id": "fd6c4387",
   "metadata": {},
   "source": [
    "### 查找项的索引\n",
    "\n",
    "*index()* 方法返回列表中项的索引:"
   ]
  },
  {
   "cell_type": "code",
   "execution_count": null,
   "id": "9eef5dd7",
   "metadata": {
    "attributes": {
     "classes": [
      "py"
     ],
     "id": ""
    }
   },
   "outputs": [],
   "source": [
    "# 语法\n",
    "lst = ['item1', 'item2']\n",
    "lst.index(item)"
   ]
  },
  {
   "cell_type": "code",
   "execution_count": null,
   "id": "4a46c9de",
   "metadata": {
    "attributes": {
     "classes": [
      "py"
     ],
     "id": ""
    }
   },
   "outputs": [],
   "source": [
    "fruits = ['banana', 'orange', 'mango', 'lemon']\n",
    "print(fruits.index('orange'))   # 1\n",
    "ages = [22, 19, 24, 25, 26, 24, 25, 24]\n",
    "print(ages.index(24))           # 2， 第一次出现"
   ]
  },
  {
   "cell_type": "markdown",
   "id": "507fe4cc",
   "metadata": {},
   "source": [
    "### 列表反转\n",
    "\n",
    "使用 *reverse()* 方法反转列表的顺序。"
   ]
  },
  {
   "cell_type": "code",
   "execution_count": null,
   "id": "21ef7c68",
   "metadata": {
    "attributes": {
     "classes": [
      "py"
     ],
     "id": ""
    }
   },
   "outputs": [],
   "source": [
    "# 语法\n",
    "lst = ['item1', 'item2']\n",
    "lst.reverse()\n"
   ]
  },
  {
   "cell_type": "code",
   "execution_count": null,
   "id": "025330db",
   "metadata": {
    "attributes": {
     "classes": [
      "py"
     ],
     "id": ""
    }
   },
   "outputs": [],
   "source": [
    "fruits = ['banana', 'orange', 'mango', 'lemon']\n",
    "fruits.reverse()\n",
    "print(fruits) # ['lemon', 'mango', 'orange', 'banana']\n",
    "ages = [22, 19, 24, 25, 26, 24, 25, 24]\n",
    "ages.reverse()\n",
    "print(ages) # [24, 25, 24, 26, 25, 24, 19, 22]"
   ]
  },
  {
   "cell_type": "markdown",
   "id": "08fb06f2",
   "metadata": {},
   "source": [
    "### 列表排序\n",
    "\n",
    "要对列表进行排序，我们可以使用 *sort()* 方法或内置函数 *sorted()*。*sort()* 方法将列表项按升序重新排序并修改原始列表。如果 *sort()* 方法的 reverse 参数为 true，则会按降序排列列表。\n",
    "\n",
    "- sort(): 这个方法会修改原始列表\n",
    "\n",
    "  ```py\n",
    "  # 语法\n",
    "  lst = ['item1', 'item2']\n",
    "  lst.sort()                # ascending\n",
    "  lst.sort(reverse=True)    # descending\n",
    "  ```\n",
    "\n",
    "  **示例：**\n",
    "\n",
    "  ```py\n",
    "  fruits = ['banana', 'orange', 'mango', 'lemon']\n",
    "  fruits.sort()\n",
    "  print(fruits)             # 按字母排序， ['banana', 'lemon', 'mango', 'orange']\n",
    "  fruits.sort(reverse=True)\n",
    "  print(fruits) # ['orange', 'mango', 'lemon', 'banana']\n",
    "  ages = [22, 19, 24, 25, 26, 24, 25, 24]\n",
    "  ages.sort()\n",
    "  print(ages) #  [19, 22, 24, 24, 24, 25, 25, 26]\n",
    " \n",
    "  ages.sort(reverse=True)\n",
    "  print(ages) #  [26, 25, 25, 24, 24, 24, 22, 19]\n",
    "  ```\n",
    "\n",
    "  sorted(): 不会修改原始列表，而是返回一个新列表\n",
    "\n",
    "  **示例:**\n",
    "\n",
    "  ```py\n",
    "  fruits = ['banana', 'orange', 'mango', 'lemon']\n",
    "  print(sorted(fruits))   # ['banana', 'lemon', 'mango', 'orange']\n",
    "  # Reverse order\n",
    "  fruits = ['banana', 'orange', 'mango', 'lemon']\n",
    "  fruits = sorted(fruits,reverse=True)\n",
    "  print(fruits)     # ['orange', 'mango', 'lemon', 'banana']\n",
    "  ```\n",
    "\n",
    "\n",
    "\n",
    "🌕 你很勤奋，已经取得了很多成就。你刚刚完成了第 5 天的挑战，并且已经朝着伟大的目标迈出了 5 步。现在做一些练习来锻练你的大脑和肌肉。\n",
    "\n",
    "## 💻 练习 - 第五天\n",
    "\n",
    "### 练习： 1级\n",
    "\n",
    "1. 声明一个空列表\n",
    "2. 声明一个包含 5 个以上项的列表\n",
    "3. 查找列表的长度\n",
    "4. 获取列表的第一项、中间项和最后一项\n",
    "5. 声明一个名为 mixed_data_types 的列表，包含你的姓名、年龄、身高、婚姻状况和地址\n",
    "6. 声明一个名为 it_companies 的列表，并分配初始值 Facebook、Google、Microsoft、Apple、IBM、Oracle 和 Amazon。\n",
    "7. 使用 _print()_ 打印列表\n",
    "8. 打印列表中的公司数\n",
    "9. 打印第一、中间和最后一家公司\n",
    "10. 修改其中一家公司的名称后打印列表\n",
    "11. 向 it_companies 添加一家 IT 公司\n",
    "12. 在公司列表中间插入一家 IT 公司\n",
    "13. 将其中一家 it_companies 公司的名称更改为大写（不包括 IBM!）\n",
    "14. 使用字符串 '#;&nbsp; ' 连接 it_companies\n",
    "15. 检查 it_companies 列表中是否存在某个公司。\n",
    "16. 使用 sort() 方法对列表进行排序\n",
    "17. 使用 reverse() 方法按降序反转列表\n",
    "18. 从列表中切分出前 3 家公司\n",
    "19. 从列表中切分出最后 3 家公司\n",
    "20. 从列表中切分出中间的 IT 公司或公司\n",
    "21. 从列表中删除第一家 IT 公司\n",
    "22. 从列表中删除中间的 IT 公司或公司\n",
    "23. 从列表中删除最后一家 IT 公司\n",
    "24. 从列表中删除所有 IT 公司\n",
    "25. 销毁 it_companies 列表\n",
    "26. 连接以下列表："
   ]
  },
  {
   "cell_type": "code",
   "execution_count": null,
   "id": "4773f46f",
   "metadata": {},
   "outputs": [],
   "source": [
    "```py\n",
    "front_end = ['HTML', 'CSS', 'JS', 'React', 'Redux']\n",
    "back_end = ['Node','Express', 'MongoDB']\n",
    "```\n",
    "27. 在连接的列表中插入 Python 和 SQL 到变量 full_stack 之后。"
   ]
  },
  {
   "cell_type": "markdown",
   "id": "51e59c7e",
   "metadata": {},
   "source": [
    "### 练习： 2级\n",
    "\n",
    "1. 以下是 10 个学生的年龄列表："
   ]
  },
  {
   "cell_type": "code",
   "execution_count": null,
   "id": "c42b416f",
   "metadata": {
    "attributes": {
     "classes": [
      "sh"
     ],
     "id": ""
    }
   },
   "outputs": [],
   "source": [
    "ages = [19, 22, 19, 24, 20, 25, 26, 24, 25, 24]"
   ]
  },
  {
   "cell_type": "markdown",
   "id": "974ef8bd",
   "metadata": {},
   "source": [
    "- 对列表进行排序，并找出最大和最小年龄\n",
    "- 将最小年龄和最大年龄再次添加到列表中\n",
    "- 找到年龄中位数（一个中间项或两个中间项除以二）\n",
    "- 找到平均年龄（所有项的总和除以它们的数量）\n",
    "- 找到年龄范围（最大减去最小）\n",
    "- 比较 (min - average) 和 (max - average) 的值，使用 _abs()_ 方法\n",
    "\n",
    "1. 在 [国家列表](https://github.com/Taki-Ta/30-Days-Of-Python-Simplified_Chinese_Version/tree/master/data/countries.py) 中查找中间的国家\n",
    "2. 将国家列表分成两个相等的列表（如果是偶数，如果不是，则第一个半多一个国家）\n",
    "3. ['China', 'Russia', 'USA', 'Finland', 'Sweden', 'Norway', 'Denmark']。拆解前三个国家和剩下的北欧国家。\n",
    "\n",
    "🎉 恭喜 ! 🎉\n",
    "\n",
    "[<< 第四天](./04_strings.md) | [第六天 >>](./06_tuples.md)"
   ]
  }
 ],
 "metadata": {},
 "nbformat": 4,
 "nbformat_minor": 5
}
