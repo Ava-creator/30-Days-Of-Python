{
 "cells": [
  {
   "cell_type": "markdown",
   "id": "4467e84f",
   "metadata": {},
   "source": [
    "<div align=\"center\">\n",
    "  <h1>Python 30 天挑战：第 13 天 - 列表推导式</h1>\n",
    "  <a class=\"header-badge\" target=\"_blank\" href=\"https://www.linkedin.com/in/asabeneh/\">\n",
    "  <img src=\"https://img.shields.io/badge/style--5eba00.svg?label=LinkedIn&logo=linkedin&style=social\">\n",
    "  </a>\n",
    "  <a class=\"header-badge\" target=\"_blank\" href=\"https://twitter.com/Asabeneh\">\n",
    "  <img alt=\"Twitter Follow\" src=\"https://img.shields.io/twitter/follow/asabeneh?style=social\">\n",
    "  </a>\n",
    "\n",
    "<sub>作者:\n",
    "<a href=\"https://www.linkedin.com/in/asabeneh/\" target=\"_blank\">Asabeneh Yetayeh</a><br>\n",
    "<small>第二版: 2021 年 7 月</small>\n",
    "</sub>\n",
    "\n",
    "</div>\n",
    "</div>\n",
    "\n",
    "[<< 第 12 天](../12_Day_Modules/12_modules.md) | [第 14 天>>](../14_Day_Higher_order_functions/14_higher_order_functions.md)\n",
    "\n",
    "![30DaysOfPython](../images/30DaysOfPython_banner3@2x.png)\n",
    "\n",
    "- [📘 第 13 天](#📘-第-13-天)\n",
    "  - [列表推导式](#列表推导式)\n",
    "  - [Lambda 函数](#lambda函数)\n",
    "    - [创建 Lambda 函数](#创建-lambda-函数)\n",
    "    - [Lambda 函数在另一个函数中](#lambda-函数在另一个函数中)\n",
    "  - [💻 练习：第 13 天](#💻-练习第-13-天)\n",
    "\n",
    "# 📘 第 13 天\n",
    "\n",
    "## 列表推导式\n",
    "\n",
    "在 Python 中，列表推导式是一种从序列中创建列表的简洁方式。它是创建新列表的简短方法。列表推导式比使用 _for_ 循环处理列表快得多。"
   ]
  },
  {
   "cell_type": "code",
   "execution_count": null,
   "id": "1becd578",
   "metadata": {
    "attributes": {
     "classes": [
      "py"
     ],
     "id": ""
    }
   },
   "outputs": [],
   "source": [
    "# 语法\n",
    "[i for i in iterable if 表达式]"
   ]
  },
  {
   "cell_type": "markdown",
   "id": "de9c7521",
   "metadata": {},
   "source": [
    "**例子: 1**\n",
    "\n",
    "例如，如果你想将字符串转换为字符列表。你可以使用几种方法。我们来看看其中的一些："
   ]
  },
  {
   "cell_type": "code",
   "execution_count": null,
   "id": "e6fb4190",
   "metadata": {
    "attributes": {
     "classes": [
      "py"
     ],
     "id": ""
    }
   },
   "outputs": [],
   "source": [
    "# 一种方法\n",
    "language = 'Python'\n",
    "lst = list(language)  # 将字符串转换为列表\n",
    "print(type(lst))      # list\n",
    "print(lst)            # ['P', 'y', 't', 'h', 'o', 'n']\n",
    "\n",
    "# 第二种方法: 列表推导式\n",
    "lst = [i for i in language]\n",
    "print(type(lst))     # list\n",
    "print(lst)           # ['P', 'y', 't', 'h', 'o', 'n']"
   ]
  },
  {
   "cell_type": "markdown",
   "id": "237c04df",
   "metadata": {},
   "source": [
    "**例子: 2**\n",
    "\n",
    "例如，如果你想生成一个数字列表"
   ]
  },
  {
   "cell_type": "code",
   "execution_count": null,
   "id": "739bfdc3",
   "metadata": {
    "attributes": {
     "classes": [
      "py"
     ],
     "id": ""
    }
   },
   "outputs": [],
   "source": [
    "# 生成数字\n",
    "numbers = [i for i in range(11)]  # 生成从0到10的数字\n",
    "print(numbers)                    # [0, 1, 2, 3, 4, 5, 6, 7, 8, 9, 10]\n",
    "\n",
    "# 也可以在迭代过程中进行数学运算\n",
    "squares = [i * i for i in range(11)]\n",
    "print(squares)                    # [0, 1, 4, 9, 16, 25, 36, 49, 64, 81, 100]\n",
    "\n",
    "# 还可以生成元组列表\n",
    "numbers = [(i, i * i) for i in range(11)]\n",
    "print(numbers)                    # [(0, 0), (1, 1), (2, 4), (3, 9), (4, 16), (5, 25)]"
   ]
  },
  {
   "cell_type": "markdown",
   "id": "7f188b53",
   "metadata": {},
   "source": [
    "**例子: 3**\n",
    "\n",
    "列表推导式可以与 if 表达式结合使用"
   ]
  },
  {
   "cell_type": "code",
   "execution_count": null,
   "id": "701922f9",
   "metadata": {
    "attributes": {
     "classes": [
      "py"
     ],
     "id": ""
    }
   },
   "outputs": [],
   "source": [
    "# 生成偶数\n",
    "even_numbers = [i for i in range(21) if i % 2 == 0]  # 生成从0到21的偶数列表\n",
    "print(even_numbers)                    # [0, 2, 4, 6, 8, 10, 12, 14, 16, 18, 20]\n",
    "\n",
    "# 生成奇数\n",
    "odd_numbers = [i for i in range(21) if i % 2 != 0]  # 生成从0到21的奇数列表\n",
    "print(odd_numbers)                      # [1, 3, 5, 7, 9, 11, 13, 15, 17, 19]\n",
    "\n",
    "# 过滤数字：让我们从下面的列表中过滤出正偶数\n",
    "numbers = [-8, -7, -3, -1, 0, 1, 3, 4, 5, 7, 6, 8, 10]\n",
    "positive_even_numbers = [i for i in range(21) if i % 2 == 0 and i > 0]\n",
    "print(positive_even_numbers)           # [2, 4, 6, 8, 10, 12, 14, 16, 18, 20]\n",
    "\n",
    "# 扁平化三维数组\n",
    "list_of_lists = [[1, 2, 3], [4, 5, 6], [7, 8, 9]]\n",
    "flattened_list = [number for row in list_of_lists for number in row]\n",
    "print(flattened_list)                  # [1, 2, 3, 4, 5, 6, 7, 8, 9]"
   ]
  },
  {
   "cell_type": "markdown",
   "id": "7ea335b7",
   "metadata": {},
   "source": [
    "## Lambda 函数\n",
    "\n",
    "Lambda 函数是没有名字的小匿名函数。它可以接受任意数量的参数，但只能有一个表达式。Lambda 函数类似于 JavaScript 中的匿名函数。当我们想在另一个函数中编写匿名函数时，需要它。\n",
    "\n",
    "### 创建 Lambda 函数\n",
    "\n",
    "要创建一个 lambda 函数，我们使用 _lambda_ 关键字，然后是一个或多个参数，再然后是一个表达式。请参阅下面的语法和示例。Lambda 函数不用 return，但它会隐式地返回表达式。"
   ]
  },
  {
   "cell_type": "code",
   "execution_count": null,
   "id": "86ad66d6",
   "metadata": {
    "attributes": {
     "classes": [
      "py"
     ],
     "id": ""
    }
   },
   "outputs": [],
   "source": [
    "# 语法\n",
    "x = lambda param1, param2, param3: param1 + param2 + param3\n",
    "print(x(arg1, arg2, arg3))"
   ]
  },
  {
   "cell_type": "markdown",
   "id": "b4e0ff72",
   "metadata": {},
   "source": [
    "**示例:**"
   ]
  },
  {
   "cell_type": "code",
   "execution_count": null,
   "id": "c41036e1",
   "metadata": {
    "attributes": {
     "classes": [
      "py"
     ],
     "id": ""
    }
   },
   "outputs": [],
   "source": [
    "# 命名函数\n",
    "def add_two_nums(a, b):\n",
    "    return a + b\n",
    "\n",
    "print(add_two_nums(2, 3))  # 5\n",
    "\n",
    "# 让我们将上述函数更改为 lambda 函数\n",
    "add_two_nums = lambda a, b: a + b\n",
    "print(add_two_nums(2, 3))  # 5\n",
    "\n",
    "# 自调用 lambda 函数\n",
    "print((lambda a, b: a + b)(2, 3))  # 5\n",
    "\n",
    "square = lambda x: x ** 2\n",
    "print(square(3))    # 9\n",
    "cube = lambda x: x ** 3\n",
    "print(cube(3))      # 27\n",
    "\n",
    "# 多个变量\n",
    "multiple_variable = lambda a, b, c: a ** 2 - 3 * b + 4 * c\n",
    "print(multiple_variable(5, 5, 3))  # 22"
   ]
  },
  {
   "cell_type": "markdown",
   "id": "3dad5cc1",
   "metadata": {},
   "source": [
    "### Lambda 函数在另一个函数中\n",
    "\n",
    "在另一个函数中使用 lambda 函数。"
   ]
  },
  {
   "cell_type": "code",
   "execution_count": null,
   "id": "48e1e1c1",
   "metadata": {
    "attributes": {
     "classes": [
      "py"
     ],
     "id": ""
    }
   },
   "outputs": [],
   "source": [
    "def power(x):\n",
    "    return lambda n: x ** n\n",
    "\n",
    "cube = power(2)(3)   # 函数 power 现在需要两个单独的括号中的参数\n",
    "print(cube)          # 8\n",
    "two_power_of_five = power(2)(5)\n",
    "print(two_power_of_five)  # 32"
   ]
  },
  {
   "cell_type": "markdown",
   "id": "4622a801",
   "metadata": {},
   "source": [
    "🌕 继续保持良好的工作。保持动力，天空才是你的极限！你已经完成了第 13 天的挑战，你已经向伟大的目标迈出了 13 步。现在为你的大脑和肌肉来做一些练习。\n",
    "\n",
    "## 💻 练习: 第 13 天\n",
    "\n",
    "1. 使用列表推导式过滤出列表中的负数和零：\n",
    "   ```py\n",
    "   numbers = [-4, -3, -2, -1, 0, 2, 4, 6]\n",
    "   ```\n",
    "2. 将以下列表中的列表展平为一维列表：\n",
    "\n",
    "   ```py\n",
    "   list_of_lists = [[[1, 2, 3]], [[4, 5, 6]], [[7, 8, 9]]]\n",
    "\n",
    "   输出:\n",
    "   [1, 2, 3, 4, 5, 6, 7, 8, 9]\n",
    "   ```\n",
    "\n",
    "3. 使用列表推导式创建以下元组列表：\n",
    "   ```py\n",
    "   [(0, 1, 0, 0, 0, 0, 0),\n",
    "   (1, 1, 1, 1, 1, 1, 1),\n",
    "   (2, 1, 2, 4, 8, 16, 32),\n",
    "   (3, 1, 3, 9, 27, 81, 243),\n",
    "   (4, 1, 4, 16, 64, 256, 1024),\n",
    "   (5, 1, 5, 25, 125, 625, 3125),\n",
    "   (6, 1, 6, 36, 216, 1296, 7776),\n",
    "   (7, 1, 7, 49, 343, 2401, 16807),\n",
    "   (8, 1, 8, 64, 512, 4096, 32768),\n",
    "   (9, 1, 9, 81, 729, 6561, 59049),\n",
    "   (10, 1, 10, 100, 1000, 10000, 100000)]\n",
    "   ```\n",
    "4. 将以下列表展平成一个新列表：\n",
    "   ```py\n",
    "   countries = [[('芬兰', '赫尔辛基')], [('瑞典', '斯德哥尔摩')], [('挪威', '奥斯陆')]]\n",
    "   输出:\n",
    "   [['芬兰', '汇编', '赫尔辛基'], ['瑞典', 'SWE', '斯德哥尔摩'], ['挪威', 'NOR', '奥斯陆']]\n",
    "   ```\n",
    "5. 将以下列表转换为字典列表：\n",
    "   ```py\n",
    "   countries = [[('芬兰', '赫尔辛基')], [('瑞典', '斯德哥尔摩')], [('挪威', '奥斯陆')]]\n",
    "   输出:\n",
    "   [{'国家': '芬兰', '城市': '赫尔辛基'},\n",
    "   {'国家': '瑞典', '城市': '斯德哥尔摩'},\n",
    "   {'国家': '挪威', '城市': '奥斯陆'}]\n",
    "   ```\n",
    "6. 将以下列表转换为连接字符串的列表：\n",
    "   ```py\n",
    "   names = [[('Asabeneh', 'Yetayeh')], [('David', 'Smith')], [('Donald', 'Trump')], [('Bill', 'Gates')]]\n",
    "   输出:\n",
    "   ['Asabeneh Yetayeh', 'David Smith', 'Donald Trump', 'Bill Gates']\n",
    "   ```\n",
    "7. 编写一个 lambda 函数，可以求解线性函数的斜率或 y 截距。\n",
    "\n",
    "🎉 祝贺你！🎉\n",
    "\n",
    "[<< 第 12 天](../12_Day_Modules/12_modules.md) | [第 14 天>>](../14_Day_Higher_order_functions/14_higher_order_functions.md)"
   ]
  }
 ],
 "metadata": {},
 "nbformat": 4,
 "nbformat_minor": 5
}
