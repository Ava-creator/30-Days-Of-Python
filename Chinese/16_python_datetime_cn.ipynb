{
 "cells": [
  {
   "cell_type": "markdown",
   "id": "a4979eff",
   "metadata": {},
   "source": [
    "# 30天Python编程挑战：第16天 - Python日期时间\n",
    "\n",
    "- [第16天](#-第16天)\n",
    "  - [Python *datetime*](#python-datetime)\n",
    "    - [获取 *datetime* 信息](#获取-datetime-信息)\n",
    "    - [使用 *strftime* 格式化日期输出](#使用-strftime-格式化日期输出)\n",
    "    - [使用 *strptime* 将字符串转换为时间](#使用-strptime-将字符串转换为时间)\n",
    "    - [从 *datetime* 使用 *date*](#从-datetime-使用-date)\n",
    "    - [使用Time对象表示时间](#使用time对象表示时间)\n",
    "    - [计算两个时间点之间的差异](#计算两个时间点之间的差异)\n",
    "    - [使用 *timedelta* 计算两个时间点之间的差异](#使用-timedelta-计算两个时间点之间的差异)\n",
    "  - [💻 练习 - 第16天](#-练习---第16天)\n",
    "\n",
    "# 📘 第16天\n",
    "\n",
    "## Python *datetime*\n",
    "\n",
    "Python有一个 _datetime_ 模块用于处理日期和时间。"
   ]
  },
  {
   "cell_type": "code",
   "execution_count": null,
   "id": "532154cf",
   "metadata": {
    "attributes": {
     "classes": [
      "py"
     ],
     "id": ""
    }
   },
   "outputs": [],
   "source": [
    "import datetime\n",
    "print(dir(datetime))\n",
    "['MAXYEAR', 'MINYEAR', '__builtins__', '__cached__', '__doc__', '__file__', '__loader__', '__name__', '__package__', '__spec__', 'date', 'datetime', 'datetime_CAPI', 'sys', 'time', 'timedelta', 'timezone', 'tzinfo']"
   ]
  },
  {
   "cell_type": "markdown",
   "id": "f3f5751f",
   "metadata": {},
   "source": [
    "通过dir或help内置命令，可以了解特定模块中可用的函数。如你所见，datetime模块中有许多函数，但我们将重点关注 _date_、_datetime_、_time_ 和 _timedelta_。让我们一个一个地看。\n",
    "\n",
    "### 获取 *datetime* 信息"
   ]
  },
  {
   "cell_type": "code",
   "execution_count": null,
   "id": "b6338e1c",
   "metadata": {
    "attributes": {
     "classes": [
      "py"
     ],
     "id": ""
    }
   },
   "outputs": [],
   "source": [
    "from datetime import datetime\n",
    "now = datetime.now()\n",
    "print(now)                      # 2021-07-08 07:34:46.549883\n",
    "day = now.day                   # 8\n",
    "month = now.month               # 7\n",
    "year = now.year                 # 2021\n",
    "hour = now.hour                 # 7\n",
    "minute = now.minute             # 38\n",
    "second = now.second\n",
    "timestamp = now.timestamp()\n",
    "print(day, month, year, hour, minute)\n",
    "print('timestamp', timestamp)\n",
    "print(f'{day}/{month}/{year}, {hour}:{minute}')  # 8/7/2021, 7:38"
   ]
  },
  {
   "cell_type": "markdown",
   "id": "a3b77244",
   "metadata": {},
   "source": [
    "时间戳或Unix时间戳是从1970年1月1日UTC开始经过的秒数。\n",
    "\n",
    "### 使用 *strftime* 格式化日期输出"
   ]
  },
  {
   "cell_type": "code",
   "execution_count": null,
   "id": "195e25e1",
   "metadata": {
    "attributes": {
     "classes": [
      "py"
     ],
     "id": ""
    }
   },
   "outputs": [],
   "source": [
    "from datetime import datetime\n",
    "new_year = datetime(2020, 1, 1)\n",
    "print(new_year)      # 2020-01-01 00:00:00\n",
    "day = new_year.day\n",
    "month = new_year.month\n",
    "year = new_year.year\n",
    "hour = new_year.hour\n",
    "minute = new_year.minute\n",
    "second = new_year.second\n",
    "print(day, month, year, hour, minute) #1 1 2020 0 0\n",
    "print(f'{day}/{month}/{year}, {hour}:{minute}')  # 1/1/2020, 0:0\n"
   ]
  },
  {
   "cell_type": "markdown",
   "id": "f8d2ae78",
   "metadata": {},
   "source": [
    "使用 *strftime* 方法格式化日期时间，相关文档可以在[这里](https://strftime.org/)找到。"
   ]
  },
  {
   "cell_type": "code",
   "execution_count": null,
   "id": "82a16abf",
   "metadata": {
    "attributes": {
     "classes": [
      "py"
     ],
     "id": ""
    }
   },
   "outputs": [],
   "source": [
    "from datetime import datetime\n",
    "# 当前日期和时间\n",
    "now = datetime.now()\n",
    "t = now.strftime(\"%H:%M:%S\")\n",
    "print(\"时间:\", t)\n",
    "time_one = now.strftime(\"%m/%d/%Y, %H:%M:%S\")\n",
    "# mm/dd/YY H:M:S 格式\n",
    "print(\"时间一:\", time_one)\n",
    "time_two = now.strftime(\"%d/%m/%Y, %H:%M:%S\")\n",
    "# dd/mm/YY H:M:S 格式\n",
    "print(\"时间二:\", time_two)"
   ]
  },
  {
   "cell_type": "code",
   "execution_count": null,
   "id": "90f9bf43",
   "metadata": {
    "attributes": {
     "classes": [
      "sh"
     ],
     "id": ""
    }
   },
   "outputs": [],
   "source": [
    "时间: 01:05:01\n",
    "时间一: 12/05/2019, 01:05:01\n",
    "时间二: 05/12/2019, 01:05:01"
   ]
  },
  {
   "cell_type": "markdown",
   "id": "96558f4f",
   "metadata": {},
   "source": [
    "以下是我们用来格式化时间的所有 _strftime_ 符号。这个模块的所有格式示例。\n",
    "\n",
    "![strftime](../images/strftime.png)\n",
    "\n",
    "### 使用 *strptime* 将字符串转换为时间\n",
    "这里有一个[文档](https://www.programiz.com/python-programming/datetime/strptimet)，有助于理解格式。"
   ]
  },
  {
   "cell_type": "code",
   "execution_count": null,
   "id": "7a8eeb16",
   "metadata": {
    "attributes": {
     "classes": [
      "py"
     ],
     "id": ""
    }
   },
   "outputs": [],
   "source": [
    "from datetime import datetime\n",
    "date_string = \"5 December, 2019\"\n",
    "print(\"date_string =\", date_string)\n",
    "date_object = datetime.strptime(date_string, \"%d %B, %Y\")\n",
    "print(\"date_object =\", date_object)"
   ]
  },
  {
   "cell_type": "code",
   "execution_count": null,
   "id": "07757331",
   "metadata": {
    "attributes": {
     "classes": [
      "sh"
     ],
     "id": ""
    }
   },
   "outputs": [],
   "source": [
    "date_string = 5 December, 2019\n",
    "date_object = 2019-12-05 00:00:00"
   ]
  },
  {
   "cell_type": "markdown",
   "id": "b8a64277",
   "metadata": {},
   "source": [
    "### 从 *datetime* 使用 *date*"
   ]
  },
  {
   "cell_type": "code",
   "execution_count": null,
   "id": "870d59b2",
   "metadata": {
    "attributes": {
     "classes": [
      "py"
     ],
     "id": ""
    }
   },
   "outputs": [],
   "source": [
    "from datetime import date\n",
    "d = date(2020, 1, 1)\n",
    "print(d)\n",
    "print('当前日期:', d.today())    # 2019-12-05\n",
    "# 今天的日期对象\n",
    "today = date.today()\n",
    "print(\"当前年份:\", today.year)   # 2019\n",
    "print(\"当前月份:\", today.month) # 12\n",
    "print(\"当前日:\", today.day)     # 5"
   ]
  },
  {
   "cell_type": "markdown",
   "id": "848fc018",
   "metadata": {},
   "source": [
    "### 使用Time对象表示时间"
   ]
  },
  {
   "cell_type": "code",
   "execution_count": null,
   "id": "34066b2d",
   "metadata": {
    "attributes": {
     "classes": [
      "py"
     ],
     "id": ""
    }
   },
   "outputs": [],
   "source": [
    "from datetime import time\n",
    "# time(hour = 0, minute = 0, second = 0)\n",
    "a = time()\n",
    "print(\"a =\", a)\n",
    "# time(hour, minute 和 second)\n",
    "b = time(10, 30, 50)\n",
    "print(\"b =\", b)\n",
    "# time(hour, minute 和 second)\n",
    "c = time(hour=10, minute=30, second=50)\n",
    "print(\"c =\", c)\n",
    "# time(hour, minute, second, microsecond)\n",
    "d = time(10, 30, 50, 200555)\n",
    "print(\"d =\", d)"
   ]
  },
  {
   "cell_type": "markdown",
   "id": "dd9dabce",
   "metadata": {},
   "source": [
    "输出：  \n",
    "a = 00:00:00  \n",
    "b = 10:30:50  \n",
    "c = 10:30:50  \n",
    "d = 10:30:50.200555\n",
    "\n",
    "### 计算两个时间点之间的差异"
   ]
  },
  {
   "cell_type": "code",
   "execution_count": null,
   "id": "d971e4e1",
   "metadata": {
    "attributes": {
     "classes": [
      "py"
     ],
     "id": ""
    }
   },
   "outputs": [],
   "source": [
    "today = date(year=2019, month=12, day=5)\n",
    "new_year = date(year=2020, month=1, day=1)\n",
    "time_left_for_newyear = new_year - today\n",
    "# 距离新年的时间：  27 days, 0:00:00\n",
    "print('距离新年的时间: ', time_left_for_newyear)\n",
    "\n",
    "t1 = datetime(year = 2019, month = 12, day = 5, hour = 0, minute = 59, second = 0)\n",
    "t2 = datetime(year = 2020, month = 1, day = 1, hour = 0, minute = 0, second = 0)\n",
    "diff = t2 - t1\n",
    "print('距离新年的时间:', diff) # 距离新年的时间: 26 days, 23: 01: 00"
   ]
  },
  {
   "cell_type": "markdown",
   "id": "0c76c35d",
   "metadata": {},
   "source": [
    "### 使用 *timedelta* 计算两个时间点之间的差异"
   ]
  },
  {
   "cell_type": "code",
   "execution_count": null,
   "id": "ab316f52",
   "metadata": {
    "attributes": {
     "classes": [
      "py"
     ],
     "id": ""
    }
   },
   "outputs": [],
   "source": [
    "from datetime import timedelta\n",
    "t1 = timedelta(weeks=12, days=10, hours=4, seconds=20)\n",
    "t2 = timedelta(days=7, hours=5, minutes=3, seconds=30)\n",
    "t3 = t1 - t2\n",
    "print(\"t3 =\", t3)"
   ]
  },
  {
   "cell_type": "code",
   "execution_count": null,
   "id": "a6701ab4",
   "metadata": {
    "attributes": {
     "classes": [
      "sh"
     ],
     "id": ""
    }
   },
   "outputs": [],
   "source": [
    "date_string = 5 December, 2019\n",
    "date_object = 2019-12-05 00:00:00\n",
    "t3 = 86 days, 22:56:50"
   ]
  },
  {
   "cell_type": "markdown",
   "id": "2938d2ae",
   "metadata": {},
   "source": [
    "🌕 你太了不起了。你在通往卓越的道路上已经前进了16步。现在做一些练习锻炼你的大脑和肌肉。\n",
    "\n",
    "## 💻 练习 - 第16天\n",
    "\n",
    "1. 从datetime模块获取当前的日、月、年、小时、分钟和时间戳\n",
    "2. 使用此格式格式化当前日期：\"%m/%d/%Y, %H:%M:%S\"\n",
    "3. 今天是2019年12月5日。将此时间字符串转换为时间。\n",
    "4. 计算现在和新年之间的时间差。\n",
    "5. 计算1970年1月1日和现在之间的时间差。\n",
    "6. 思考，你可以将datetime模块用于什么？例如：\n",
    "   - 时间序列分析\n",
    "   - 获取应用程序中任何活动的时间戳\n",
    "   - 在博客上添加帖子\n",
    "\n",
    "🎉 恭喜！🎉\n",
    "\n",
    "[<< 第15天](./15_Day_Python_type_errors/15_python_type_errors_cn.md) | [第17天 >>](./17_Day_Exception_handling/17_exception_handling_cn.md)"
   ]
  }
 ],
 "metadata": {},
 "nbformat": 4,
 "nbformat_minor": 5
}
