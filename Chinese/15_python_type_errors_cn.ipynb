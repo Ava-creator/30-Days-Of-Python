{
 "cells": [
  {
   "cell_type": "markdown",
   "id": "50b73bd3",
   "metadata": {},
   "source": [
    "# 30天Python编程挑战：第15天 - Python类型错误\n",
    "\n",
    "- [Day 15](#day-15)\n",
    "  - [Python错误类型](#python错误类型)\n",
    "    - [SyntaxError (语法错误)](#syntaxerror-语法错误)\n",
    "    - [NameError (名称错误)](#nameerror-名称错误)\n",
    "    - [IndexError (索引错误)](#indexerror-索引错误)\n",
    "    - [ModuleNotFoundError (模块未找到错误)](#modulenotfounderror-模块未找到错误)\n",
    "    - [AttributeError (属性错误)](#attributeerror-属性错误)\n",
    "    - [KeyError (键错误)](#keyerror-键错误)\n",
    "    - [TypeError (类型错误)](#typeerror-类型错误)\n",
    "    - [ImportError (导入错误)](#importerror-导入错误)\n",
    "    - [ValueError (值错误)](#valueerror-值错误)\n",
    "    - [ZeroDivisionError (零除错误)](#zerodivisionerror-零除错误)\n",
    "  - [💻 练习 - 第15天](#-练习---第15天)\n",
    "\n",
    "# 📘 Day 15\n",
    "\n",
    "## Python错误类型\n",
    "\n",
    "当我们编写代码时，常常会出现打字错误或其他常见错误。如果我们的代码运行失败，Python解释器会显示一条消息，提供有关问题发生位置和错误类型的反馈信息。有时它还会给我们提供可能的修复建议。了解编程语言中不同类型的错误将帮助我们快速调试代码，并使我们在编程技能上有所提高。\n",
    "\n",
    "让我们一一查看最常见的错误类型。首先，让我们打开Python交互式shell。转到你的计算机终端并输入'python'。Python交互式shell将会被打开。\n",
    "\n",
    "### SyntaxError (语法错误)\n",
    "\n",
    "**示例1: SyntaxError**"
   ]
  },
  {
   "cell_type": "code",
   "execution_count": null,
   "id": "ebd33c39",
   "metadata": {},
   "outputs": [],
   "source": [
    "asabeneh@Asabeneh:~$ python\n",
    "Python 3.9.6 (default, Jun 28 2021, 15:26:21)\n",
    "[Clang 11.0.0 (clang-1100.0.33.8)] on darwin\n",
    "Type \"help\", \"copyright\", \"credits\" or \"license\" for more information.\n",
    ">>> print 'hello world'\n",
    "  File \"<stdin>\", line 1\n",
    "    print 'hello world'\n",
    "                      ^\n",
    "SyntaxError: Missing parentheses in call to 'print'. Did you mean print('hello world')?\n",
    ">>>"
   ]
  },
  {
   "cell_type": "markdown",
   "id": "619a78ee",
   "metadata": {},
   "source": [
    "如你所见，我们犯了一个语法错误，因为我们忘记用括号括起字符串，而Python已经提出了解决方案。让我们修复它。"
   ]
  },
  {
   "cell_type": "code",
   "execution_count": null,
   "id": "cf1ccb78",
   "metadata": {},
   "outputs": [],
   "source": [
    "asabeneh@Asabeneh:~$ python\n",
    "Python 3.9.6 (default, Jun 28 2021, 15:26:21)\n",
    "[Clang 11.0.0 (clang-1100.0.33.8)] on darwin\n",
    "Type \"help\", \"copyright\", \"credits\" or \"license\" for more information.\n",
    ">>> print 'hello world'\n",
    "  File \"<stdin>\", line 1\n",
    "    print 'hello world'\n",
    "                      ^\n",
    "SyntaxError: Missing parentheses in call to 'print'. Did you mean print('hello world')?\n",
    ">>> print('hello world')\n",
    "hello world\n",
    ">>>"
   ]
  },
  {
   "cell_type": "markdown",
   "id": "381c94cc",
   "metadata": {},
   "source": [
    "错误是一个_SyntaxError_。修复后，我们的代码顺利执行。让我们看看更多的错误类型。\n",
    "\n",
    "### NameError (名称错误)\n",
    "\n",
    "**示例1: NameError**"
   ]
  },
  {
   "cell_type": "code",
   "execution_count": null,
   "id": "e6d12d84",
   "metadata": {},
   "outputs": [],
   "source": [
    "asabeneh@Asabeneh:~$ python\n",
    "Python 3.9.6 (default, Jun 28 2021, 15:26:21)\n",
    "[Clang 11.0.0 (clang-1100.0.33.8)] on darwin\n",
    "Type \"help\", \"copyright\", \"credits\" or \"license\" for more information.\n",
    ">>> print(age)\n",
    "Traceback (most recent call last):\n",
    "  File \"<stdin>\", line 1, in <module>\n",
    "NameError: name 'age' is not defined\n",
    ">>>"
   ]
  },
  {
   "cell_type": "markdown",
   "id": "145cc03e",
   "metadata": {},
   "source": [
    "从上面的消息可以看出，名称age没有被定义。是的，确实如此，我们没有定义age变量，但我们试图像已经声明了一样打印它。现在，让我们通过声明变量并为其赋值来修复这个问题。"
   ]
  },
  {
   "cell_type": "code",
   "execution_count": null,
   "id": "48d1a731",
   "metadata": {},
   "outputs": [],
   "source": [
    "asabeneh@Asabeneh:~$ python\n",
    "Python 3.9.6 (default, Jun 28 2021, 15:26:21)\n",
    "[Clang 11.0.0 (clang-1100.0.33.8)] on darwin\n",
    "Type \"help\", \"copyright\", \"credits\" or \"license\" for more information.\n",
    ">>> print(age)\n",
    "Traceback (most recent call last):\n",
    "  File \"<stdin>\", line 1, in <module>\n",
    "NameError: name 'age' is not defined\n",
    ">>> age = 25\n",
    ">>> print(age)\n",
    "25\n",
    ">>>"
   ]
  },
  {
   "cell_type": "markdown",
   "id": "4b2f6741",
   "metadata": {},
   "source": [
    "错误类型是_NameError_。我们通过定义变量名来调试了错误。\n",
    "\n",
    "### IndexError (索引错误)\n",
    "\n",
    "**示例1: IndexError**"
   ]
  },
  {
   "cell_type": "code",
   "execution_count": null,
   "id": "46263534",
   "metadata": {},
   "outputs": [],
   "source": [
    "asabeneh@Asabeneh:~$ python\n",
    "Python 3.9.6 (default, Jun 28 2021, 15:26:21)\n",
    "[Clang 11.0.0 (clang-1100.0.33.8)] on darwin\n",
    "Type \"help\", \"copyright\", \"credits\" or \"license\" for more information.\n",
    ">>> numbers = [1, 2, 3, 4, 5]\n",
    ">>> numbers[5]\n",
    "Traceback (most recent call last):\n",
    "  File \"<stdin>\", line 1, in <module>\n",
    "IndexError: list index out of range\n",
    ">>>"
   ]
  },
  {
   "cell_type": "markdown",
   "id": "3e885cb0",
   "metadata": {},
   "source": [
    "在上面的例子中，Python抛出了一个_IndexError_，因为列表的索引只有0到4，所以索引5超出了范围。\n",
    "\n",
    "### ModuleNotFoundError (模块未找到错误)\n",
    "\n",
    "**示例1: ModuleNotFoundError**"
   ]
  },
  {
   "cell_type": "code",
   "execution_count": null,
   "id": "3c9f75e9",
   "metadata": {},
   "outputs": [],
   "source": [
    "asabeneh@Asabeneh:~$ python\n",
    "Python 3.9.6 (default, Jun 28 2021, 15:26:21)\n",
    "[Clang 11.0.0 (clang-1100.0.33.8)] on darwin\n",
    "Type \"help\", \"copyright\", \"credits\" or \"license\" for more information.\n",
    ">>> import maths\n",
    "Traceback (most recent call last):\n",
    "  File \"<stdin>\", line 1, in <module>\n",
    "ModuleNotFoundError: No module named 'maths'\n",
    ">>>"
   ]
  },
  {
   "cell_type": "markdown",
   "id": "d1df973c",
   "metadata": {},
   "source": [
    "在上面的例子中，我故意在math后面添加了一个多余的s，结果抛出了_ModuleNotFoundError_。让我们通过从math中删除多余的s来修复它。"
   ]
  },
  {
   "cell_type": "code",
   "execution_count": null,
   "id": "522d1ae4",
   "metadata": {},
   "outputs": [],
   "source": [
    "asabeneh@Asabeneh:~$ python\n",
    "Python 3.9.6 (default, Jun 28 2021, 15:26:21)\n",
    "[Clang 11.0.0 (clang-1100.0.33.8)] on darwin\n",
    "Type \"help\", \"copyright\", \"credits\" or \"license\" for more information.\n",
    ">>> import maths\n",
    "Traceback (most recent call last):\n",
    "  File \"<stdin>\", line 1, in <module>\n",
    "ModuleNotFoundError: No module named 'maths'\n",
    ">>> import math\n",
    ">>>"
   ]
  },
  {
   "cell_type": "markdown",
   "id": "4d2ad3fa",
   "metadata": {},
   "source": [
    "我们修复了它，所以让我们使用math模块中的一些函数。\n",
    "\n",
    "### AttributeError (属性错误)\n",
    "\n",
    "**示例1: AttributeError**"
   ]
  },
  {
   "cell_type": "code",
   "execution_count": null,
   "id": "8ffce004",
   "metadata": {},
   "outputs": [],
   "source": [
    "asabeneh@Asabeneh:~$ python\n",
    "Python 3.9.6 (default, Jun 28 2021, 15:26:21)\n",
    "[Clang 11.0.0 (clang-1100.0.33.8)] on darwin\n",
    "Type \"help\", \"copyright\", \"credits\" or \"license\" for more information.\n",
    ">>> import maths\n",
    "Traceback (most recent call last):\n",
    "  File \"<stdin>\", line 1, in <module>\n",
    "ModuleNotFoundError: No module named 'maths'\n",
    ">>> import math\n",
    ">>> math.PI\n",
    "Traceback (most recent call last):\n",
    "  File \"<stdin>\", line 1, in <module>\n",
    "AttributeError: module 'math' has no attribute 'PI'\n",
    ">>>"
   ]
  },
  {
   "cell_type": "markdown",
   "id": "cf594472",
   "metadata": {},
   "source": [
    "如你所见，我又犯了一个错误！我试图从math模块调用PI函数，而不是pi。这抛出了一个属性错误，表示该函数在模块中不存在。让我们通过将PI更改为pi来修复它。"
   ]
  },
  {
   "cell_type": "code",
   "execution_count": null,
   "id": "4d0a0848",
   "metadata": {},
   "outputs": [],
   "source": [
    "asabeneh@Asabeneh:~$ python\n",
    "Python 3.9.6 (default, Jun 28 2021, 15:26:21)\n",
    "[Clang 11.0.0 (clang-1100.0.33.8)] on darwin\n",
    "Type \"help\", \"copyright\", \"credits\" or \"license\" for more information.\n",
    ">>> import maths\n",
    "Traceback (most recent call last):\n",
    "  File \"<stdin>\", line 1, in <module>\n",
    "ModuleNotFoundError: No module named 'maths'\n",
    ">>> import math\n",
    ">>> math.PI\n",
    "Traceback (most recent call last):\n",
    "  File \"<stdin>\", line 1, in <module>\n",
    "AttributeError: module 'math' has no attribute 'PI'\n",
    ">>> math.pi\n",
    "3.141592653589793\n",
    ">>>"
   ]
  },
  {
   "cell_type": "markdown",
   "id": "00e35759",
   "metadata": {},
   "source": [
    "现在，当我们从math模块调用pi时，我们得到了结果。\n",
    "\n",
    "### KeyError (键错误)\n",
    "\n",
    "**示例1: KeyError**"
   ]
  },
  {
   "cell_type": "code",
   "execution_count": null,
   "id": "96c62017",
   "metadata": {},
   "outputs": [],
   "source": [
    "asabeneh@Asabeneh:~$ python\n",
    "Python 3.9.6 (default, Jun 28 2021, 15:26:21)\n",
    "[Clang 11.0.0 (clang-1100.0.33.8)] on darwin\n",
    "Type \"help\", \"copyright\", \"credits\" or \"license\" for more information.\n",
    ">>> users = {'name':'Asab', 'age':250, 'country':'Finland'}\n",
    ">>> users['name']\n",
    "'Asab'\n",
    ">>> users['county']\n",
    "Traceback (most recent call last):\n",
    "  File \"<stdin>\", line 1, in <module>\n",
    "KeyError: 'county'\n",
    ">>>"
   ]
  },
  {
   "cell_type": "markdown",
   "id": "94aa115b",
   "metadata": {},
   "source": [
    "如你所见，在用于获取字典值的键中有一个拼写错误。这是一个键错误，修复方法很简单。让我们来做这个！"
   ]
  },
  {
   "cell_type": "code",
   "execution_count": null,
   "id": "1a18b6ab",
   "metadata": {},
   "outputs": [],
   "source": [
    "asabeneh@Asabeneh:~$ python\n",
    "Python 3.9.6 (default, Jun 28 2021, 15:26:21)\n",
    "[Clang 11.0.0 (clang-1100.0.33.8)] on darwin\n",
    "Type \"help\", \"copyright\", \"credits\" or \"license\" for more information.\n",
    ">>> user = {'name':'Asab', 'age':250, 'country':'Finland'}\n",
    ">>> user['name']\n",
    "'Asab'\n",
    ">>> user['county']\n",
    "Traceback (most recent call last):\n",
    "  File \"<stdin>\", line 1, in <module>\n",
    "KeyError: 'county'\n",
    ">>> user['country']\n",
    "'Finland'\n",
    ">>>"
   ]
  },
  {
   "cell_type": "markdown",
   "id": "92a4a5f8",
   "metadata": {},
   "source": [
    "我们调试了错误，我们的代码运行并得到了结果。\n",
    "\n",
    "### TypeError (类型错误)\n",
    "\n",
    "**示例1: TypeError**"
   ]
  },
  {
   "cell_type": "code",
   "execution_count": null,
   "id": "ca0714cb",
   "metadata": {},
   "outputs": [],
   "source": [
    "asabeneh@Asabeneh:~$ python\n",
    "Python 3.9.6 (default, Jun 28 2021, 15:26:21)\n",
    "[Clang 11.0.0 (clang-1100.0.33.8)] on darwin\n",
    "Type \"help\", \"copyright\", \"credits\" or \"license\" for more information.\n",
    ">>> 4 + '3'\n",
    "Traceback (most recent call last):\n",
    "  File \"<stdin>\", line 1, in <module>\n",
    "TypeError: unsupported operand type(s) for +: 'int' and 'str'\n",
    ">>>"
   ]
  },
  {
   "cell_type": "markdown",
   "id": "4b17f6d9",
   "metadata": {},
   "source": [
    "在上面的例子中，出现了TypeError，因为我们不能将数字与字符串相加。第一个解决方案是将字符串转换为int或float。另一个解决方案是将数字转换为字符串（那么结果将是'43'）。让我们采用第一种修复方式。"
   ]
  },
  {
   "cell_type": "code",
   "execution_count": null,
   "id": "4e4a4fe3",
   "metadata": {},
   "outputs": [],
   "source": [
    "asabeneh@Asabeneh:~$ python\n",
    "Python 3.9.6 (default, Jun 28 2021, 15:26:21)\n",
    "[Clang 11.0.0 (clang-1100.0.33.8)] on darwin\n",
    "Type \"help\", \"copyright\", \"credits\" or \"license\" for more information.\n",
    ">>> 4 + '3'\n",
    "Traceback (most recent call last):\n",
    "  File \"<stdin>\", line 1, in <module>\n",
    "TypeError: unsupported operand type(s) for +: 'int' and 'str'\n",
    ">>> 4 + int('3')\n",
    "7\n",
    ">>> 4 + float('3')\n",
    "7.0\n",
    ">>>"
   ]
  },
  {
   "cell_type": "markdown",
   "id": "4d4e8d49",
   "metadata": {},
   "source": [
    "错误已消除，我们得到了预期的结果。\n",
    "\n",
    "### ImportError (导入错误)\n",
    "\n",
    "**示例1: ImportError**"
   ]
  },
  {
   "cell_type": "code",
   "execution_count": null,
   "id": "56377b8c",
   "metadata": {},
   "outputs": [],
   "source": [
    "asabeneh@Asabeneh:~$ python\n",
    "Python 3.9.6 (default, Jun 28 2021, 15:26:21)\n",
    "[Clang 11.0.0 (clang-1100.0.33.8)] on darwin\n",
    "Type \"help\", \"copyright\", \"credits\" or \"license\" for more information.\n",
    ">>> from math import power\n",
    "Traceback (most recent call last):\n",
    "  File \"<stdin>\", line 1, in <module>\n",
    "ImportError: cannot import name 'power' from 'math'\n",
    ">>>"
   ]
  },
  {
   "cell_type": "markdown",
   "id": "65779364",
   "metadata": {},
   "source": [
    "math模块中没有名为power的函数，它的名字是不同的：_pow_。让我们纠正它："
   ]
  },
  {
   "cell_type": "code",
   "execution_count": null,
   "id": "b244f752",
   "metadata": {},
   "outputs": [],
   "source": [
    "asabeneh@Asabeneh:~$ python\n",
    "Python 3.9.6 (default, Jun 28 2021, 15:26:21)\n",
    "[Clang 11.0.0 (clang-1100.0.33.8)] on darwin\n",
    "Type \"help\", \"copyright\", \"credits\" or \"license\" for more information.\n",
    ">>> from math import power\n",
    "Traceback (most recent call last):\n",
    "  File \"<stdin>\", line 1, in <module>\n",
    "ImportError: cannot import name 'power' from 'math'\n",
    ">>> from math import pow\n",
    ">>> pow(2,3)\n",
    "8.0\n",
    ">>>"
   ]
  },
  {
   "cell_type": "markdown",
   "id": "09643a00",
   "metadata": {},
   "source": [
    "### ValueError (值错误)"
   ]
  },
  {
   "cell_type": "code",
   "execution_count": null,
   "id": "030594ef",
   "metadata": {},
   "outputs": [],
   "source": [
    "asabeneh@Asabeneh:~$ python\n",
    "Python 3.9.6 (default, Jun 28 2021, 15:26:21)\n",
    "[Clang 11.0.0 (clang-1100.0.33.8)] on darwin\n",
    "Type \"help\", \"copyright\", \"credits\" or \"license\" for more information.\n",
    ">>> int('12a')\n",
    "Traceback (most recent call last):\n",
    "  File \"<stdin>\", line 1, in <module>\n",
    "ValueError: invalid literal for int() with base 10: '12a'\n",
    ">>>"
   ]
  },
  {
   "cell_type": "markdown",
   "id": "8d5a9e04",
   "metadata": {},
   "source": [
    "在这种情况下，我们无法将给定的字符串转换为数字，因为其中有字母'a'。\n",
    "\n",
    "### ZeroDivisionError (零除错误)"
   ]
  },
  {
   "cell_type": "code",
   "execution_count": null,
   "id": "25044688",
   "metadata": {},
   "outputs": [],
   "source": [
    "asabeneh@Asabeneh:~$ python\n",
    "Python 3.9.6 (default, Jun 28 2021, 15:26:21)\n",
    "[Clang 11.0.0 (clang-1100.0.33.8)] on darwin\n",
    "Type \"help\", \"copyright\", \"credits\" or \"license\" for more information.\n",
    ">>> 1/0\n",
    "Traceback (most recent call last):\n",
    "  File \"<stdin>\", line 1, in <module>\n",
    "ZeroDivisionError: division by zero\n",
    ">>>"
   ]
  },
  {
   "cell_type": "markdown",
   "id": "0ab2208c",
   "metadata": {},
   "source": [
    "我们不能用零去除一个数字。\n",
    "\n",
    "我们已经介绍了一些Python错误类型，如果你想了解更多，请查看Python文档中关于Python错误类型的内容。\n",
    "如果你擅长阅读错误类型，那么你将能够快速修复你的bug，你也将成为一个更好的程序员。\n",
    "\n",
    "🌕 你正在进步。你已经完成了一半的道路，正走向伟大。现在做一些练习来锻炼你的大脑和肌肉。\n",
    "\n",
    "## 💻 练习 - 第15天\n",
    "\n",
    "1. 打开你的Python交互式shell，尝试本节中介绍的所有示例。\n",
    "\n",
    "🎉 恭喜！🎉\n",
    "\n",
    "[<< 第14天](./14_higher_order_functions.md) | [第16天 >>](./16_python_datetime_cn.md)"
   ]
  }
 ],
 "metadata": {},
 "nbformat": 4,
 "nbformat_minor": 5
}
