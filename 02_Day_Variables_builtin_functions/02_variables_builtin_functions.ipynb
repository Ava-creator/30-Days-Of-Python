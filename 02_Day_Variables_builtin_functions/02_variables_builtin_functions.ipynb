{
 "cells": [
  {
   "cell_type": "markdown",
   "id": "b2ceebf9",
   "metadata": {},
   "source": [
    "<div align=\"center\">\n",
    "  <h1>Python Adventure: Day 2 - Variables and Functions for Little Coders!</h1>\n",
    "  <sub>\n",
    "    by Dayo Dayo<br>\n",
    "    Last edited 13 days ago\n",
    "  </sub>\n",
    "</div>\n",
    "\n",
    "Join Valerie Vole and Fritz Fox on today's exciting journey into the world of Python!  \n",
    "We'll explore magical containers called \"variables\" and help our animal friends pack their backpacks with code treasures.\n",
    "\n",
    "---\n",
    "\n",
    "- [📘 Day 2](#-day-2)\n",
    "  - [Built in functions](#built-in-functions)\n",
    "  - [Variables & Magical Backpacks](#variables--magical-backpacks)\n",
    "    - [Declaring Multiple Variables in a Line](#declaring-multiple-variables-in-a-line)\n",
    "  - [Data Types](#data-types)\n",
    "  - [Checking Data Types and Casting](#checking-data-types-and-casting)\n",
    "  - [Numbers and Treasures](#numbers-and-treasures)\n",
    "  - [Introducing Python Functions – Magic Spells](#introducing-python-functions--magic-spells)\n",
    "  - [💻 Adventure Exercises – Day 2](#-adventure-exercises--day-2)\n",
    "\n",
    "# 📘 Day 2\n",
    "\n",
    "## Built in functions\n",
    "\n",
    "Python provides loads of built-in functions that are ready to use without any extra setup. Our adventure guides (Valerie and Fritz) will use these functions as magical tools to inspect their treasures. Some common ones include: _print()_, _len()_, _type()_, _int()_, _float()_, _str()_, _input()_, _list()_, _dict()_, _min()_, _max()_, _sum()_, _sorted()_, and even _help()_ and _dir()_.\n",
    "\n",
    "![Built-in Functions](../images/builtin-functions.png)\n",
    "\n",
    "Let’s begin our quest in the Python shell and experiment with these magic tools!\n",
    "\n",
    "![Built-in functions](../images/builtin-functions_practice.png)\n",
    "\n",
    "Watch how Valerie and Fritz use these functions to reveal secrets of their magical items. Notice that Python even reserves certain words (reserved words) as special; these are like enchanted spells you cannot use to name your backpacks!\n",
    "\n",
    "![Help and Dir Built in Functions](../images/help_and_dir_builtin.png)\n",
    "\n",
    "As seen above, reserved words are off limits for naming your variables. Now, let’s pack our adventure backpacks!\n",
    "\n",
    "![Min Max Sum](../images/builtin-functional-final.png)\n",
    "\n",
    "## Variables & Magical Backpacks\n",
    "\n",
    "Variables are like magical backpacks that store all kinds of treasures—from numbers and words to secret messages. Just like every adventurer needs a uniquely named backpack, variables require names that follow some friendly rules:\n",
    "\n",
    "- Must start with a letter or an underscore (think of these as your secret symbols).\n",
    "- Cannot start with a number.\n",
    "- Can only contain letters, numbers, and underscores.\n",
    "- And remember, names are case-sensitive. _magicPack_ and _Magicpack_ are not the same!\n",
    "\n",
    "### Valid Backpack Names (Variables)"
   ]
  },
  {
   "cell_type": "code",
   "execution_count": null,
   "id": "1c2bc7ba",
   "metadata": {
    "attributes": {
     "classes": [
      "shell"
     ],
     "id": ""
    }
   },
   "outputs": [],
   "source": [
    "acorn_count\n",
    "treasure\n",
    "first_name\n",
    "last_name\n",
    "_country"
   ]
  },
  {
   "cell_type": "markdown",
   "id": "abf73cf6",
   "metadata": {},
   "source": [
    "Invalid names would be like using broken or forbidden symbols:"
   ]
  },
  {
   "cell_type": "code",
   "execution_count": null,
   "id": "c6081559",
   "metadata": {
    "attributes": {
     "classes": [
      "shell"
     ],
     "id": ""
    }
   },
   "outputs": [],
   "source": [
    "first-name\n",
    "first@name\n",
    "1treasure"
   ]
  },
  {
   "cell_type": "markdown",
   "id": "fae78744",
   "metadata": {},
   "source": [
    "We use snake_case naming for our backpacks to keep things neat (for example: first_name, last_name).\n",
    "\n",
    "### Adventurer’s Example: Packing the Backpacks\n",
    "\n",
    "Below is an example showing how Valerie and Fritz pack and update their variable backpacks."
   ]
  },
  {
   "cell_type": "code",
   "execution_count": null,
   "id": "f4d1c6c6",
   "metadata": {
    "attributes": {
     "classes": [
      "py"
     ],
     "id": ""
    }
   },
   "outputs": [],
   "source": [
    "# Valerie's Variable Acorn Counter\n",
    "acorn_count = 5              # Create the backpack with 5 acorns\n",
    "acorn_count = acorn_count + 3  # Add 3 more acorns to the backpack\n",
    "acorn_count = acorn_count - 2  # Share or lose 2 acorns\n",
    "\n",
    "print(\"Valerie's acorn count:\", acorn_count)"
   ]
  },
  {
   "cell_type": "code",
   "execution_count": null,
   "id": "069cb700",
   "metadata": {
    "attributes": {
     "classes": [
      "py"
     ],
     "id": ""
    }
   },
   "outputs": [],
   "source": [
    "# Fritz's Treasure Chest\n",
    "treasure = \"shiny\"    # Initially, the treasure is shiny\n",
    "treasure = \"sparkly\"  # Then, Fritz notices it is sparkly\n",
    "treasure = \"golden\"   # Finally, he calls it golden\n",
    "\n",
    "print(\"Fritz's treasure is now:\", treasure)"
   ]
  },
  {
   "cell_type": "markdown",
   "id": "266f1976",
   "metadata": {},
   "source": [
    "### Unpacking Our Magical Backpacks\n",
    "\n",
    "See how you can create a new adventure variable and then check what’s inside:"
   ]
  },
  {
   "cell_type": "code",
   "execution_count": null,
   "id": "8beb841c",
   "metadata": {
    "attributes": {
     "classes": [
      "py"
     ],
     "id": ""
    }
   },
   "outputs": [],
   "source": [
    "magic_pack = 8  # Our new magical backpack!\n",
    "print(\"Magic pack contains:\", magic_pack)"
   ]
  },
  {
   "cell_type": "markdown",
   "id": "176777d5",
   "metadata": {},
   "source": [
    "### Declaring Multiple Variables in a Line\n",
    "\n",
    "For quick packing, you can declare multiple variables at once. Just like packing several treasures in one go:"
   ]
  },
  {
   "cell_type": "code",
   "execution_count": null,
   "id": "c2b5f6ba",
   "metadata": {
    "attributes": {
     "classes": [
      "py"
     ],
     "id": ""
    }
   },
   "outputs": [],
   "source": [
    "first_name, last_name, country, age, is_married = 'Valerie', 'Vole', 'Wonderland', 10, False\n",
    "\n",
    "print(first_name, last_name, country, age, is_married)\n",
    "print('First name:', first_name)\n",
    "print('Last name:', last_name)\n",
    "print('Country:', country)\n",
    "print('Age:', age)\n",
    "print('Married:', is_married)"
   ]
  },
  {
   "cell_type": "markdown",
   "id": "555c7215",
   "metadata": {},
   "source": [
    "You can even collect treasures from fellow adventurers using the built-in _input()_ function:"
   ]
  },
  {
   "cell_type": "code",
   "execution_count": null,
   "id": "391ecc91",
   "metadata": {
    "attributes": {
     "classes": [
      "py"
     ],
     "id": ""
    }
   },
   "outputs": [],
   "source": [
    "first_name = input('What is your adventurer name: ')\n",
    "age = input('How many years of adventure? ')\n",
    "\n",
    "print(\"Welcome to the journey,\", first_name)\n",
    "print(\"Age:\", age)"
   ]
  },
  {
   "cell_type": "markdown",
   "id": "cfea926c",
   "metadata": {},
   "source": [
    "---\n",
    "\n",
    "## Data Types\n",
    "\n",
    "In our magical world, every treasure has a type. Data types tell us what kind of treasure a variable holds. We can use the _type_ function to peek inside our backpacks:"
   ]
  },
  {
   "cell_type": "code",
   "execution_count": null,
   "id": "8c194b8f",
   "metadata": {
    "attributes": {
     "classes": [
      "py"
     ],
     "id": ""
    }
   },
   "outputs": [],
   "source": [
    "first_name = 'Valerie'   # a string treasure\n",
    "age = 10                 # an integer treasure\n",
    "pi_value = 3.14          # a float treasure\n",
    "\n",
    "print(type(first_name))  # shows: <class 'str'>\n",
    "print(type(age))         # shows: <class 'int'>\n",
    "print(type(pi_value))    # shows: <class 'float'>"
   ]
  },
  {
   "cell_type": "markdown",
   "id": "d57c7111",
   "metadata": {},
   "source": [
    "---\n",
    "\n",
    "## Checking Data Types and Casting\n",
    "\n",
    "Before using a treasure, it’s wise to check its type and even change its form (casting) when needed. For instance:"
   ]
  },
  {
   "cell_type": "code",
   "execution_count": null,
   "id": "88f8057c",
   "metadata": {
    "attributes": {
     "classes": [
      "py"
     ],
     "id": ""
    }
   },
   "outputs": [],
   "source": [
    "# Converting an integer treasure to a float:\n",
    "num_int = 10\n",
    "num_float = float(num_int)\n",
    "print('Converted treasure:', num_float)"
   ]
  },
  {
   "cell_type": "markdown",
   "id": "4ee0ef11",
   "metadata": {},
   "source": [
    "Casting lets you transform treasures so you can combine them in your spells (arithmetic operations)!"
   ]
  },
  {
   "cell_type": "code",
   "execution_count": null,
   "id": "0b99dfaf",
   "metadata": {
    "attributes": {
     "classes": [
      "py"
     ],
     "id": ""
    }
   },
   "outputs": [],
   "source": [
    "# From string treasure to a list of characters:\n",
    "name = \"Valerie\"\n",
    "name_list = list(name)\n",
    "print(name_list)  # Reveals each letter as a separate treasure"
   ]
  },
  {
   "cell_type": "markdown",
   "id": "1df2c73b",
   "metadata": {},
   "source": [
    "---\n",
    "\n",
    "## Numbers and Treasures\n",
    "\n",
    "Our world is full of numbers that come in different forms:\n",
    "\n",
    "1. **Integers:** Like counting acorns (..., -3, -2, -1, 0, 1, 2, 3, …)\n",
    "2. **Floats:** Treasures with decimals (e.g., 3.14, 2.71)\n",
    "3. **Complex Numbers:** A bit magical, with a twist (1 + 1j)\n",
    "\n",
    "🌕 You are awesome—completing these challenges means you are growing stronger on your adventure!\n",
    "\n",
    "---\n",
    "\n",
    "## Introducing Python Functions – Magic Spells\n",
    "\n",
    "Functions are like magic spells that perform a special task whenever you call them. Write your spell once, then use it again and again to help your friends on their journey.\n",
    "\n",
    "### Creating Our First Function\n",
    "\n",
    "Let’s define a simple greeting spell for adventurers:"
   ]
  },
  {
   "cell_type": "code",
   "execution_count": null,
   "id": "837a4e56",
   "metadata": {
    "attributes": {
     "classes": [
      "py"
     ],
     "id": ""
    }
   },
   "outputs": [],
   "source": [
    "def greet_user():\n",
    "    print(\"Hello, adventurer!\")\n",
    "    \n",
    "# Casting the greeting spell\n",
    "greet_user()"
   ]
  },
  {
   "cell_type": "markdown",
   "id": "30a1fe7e",
   "metadata": {},
   "source": [
    "- **Define Function:** Use the keyword `def` to start your spell.\n",
    "- **Name Function:** Give it a magical name like `greet_user`.\n",
    "- **Add Code:** Write the code (the spell words) indented beneath the definition.\n",
    "- **Call the Spell:** Simply call the function’s name to activate the magic.\n",
    "\n",
    "---\n",
    "\n",
    "## 💻 Adventure Exercises – Day 2\n",
    "\n",
    "Now it’s your turn to pack your own coding backpack and cast some magic spells!\n",
    "\n",
    "### Exercises: Level 1\n",
    "\n",
    "1. Inside the *30DaysOfPython* folder, create a `day_2` folder. In that folder, create a file called `variables.py`.\n",
    "2. Start with a Python comment:  \n",
    "  `# Python Adventure: Day 2 - Variables and Functions for Little Coders!`\n",
    "3. Declare a variable **first_name** and assign it your adventurer name (e.g., `\"Valerie\"`).\n",
    "4. Declare a variable **last_name** and assign it your family name (e.g., `\"Vole\"`).\n",
    "5. Create a variable **full_name** by combining **first_name** and **last_name**.\n",
    "6. Declare a variable **country** for your adventure land (e.g., `\"Wonderland\"`).\n",
    "7. Declare a variable **city** where your adventure begins (e.g., `\"Rabbit Hole\"`).\n",
    "8. Declare a variable **age** with your adventure age (e.g., `10`).\n",
    "9. Declare a variable **year** representing the current adventure year (e.g., `2023`).\n",
    "10. Create a variable **is_married** (True or False) as a fun fact about your journey.\n",
    "11. Declare a variable **is_ready** (or **is_light_on**) to signal if you are ready for adventure.\n",
    "12. Try declaring multiple variables on one line (like packing several treasures at once), for example:  \n",
    "   ```py\n",
    "   first_name, last_name, country, age, is_married = 'Valerie', 'Vole', 'Wonderland', 10, False\n",
    "   ```\n",
    "\n",
    "### Exercises: Level 2\n",
    "\n",
    "1. Use the _type()_ built-in function to check the type of all your adventure variables. For example:  \n",
    "   ```py\n",
    "   print(type(first_name))  # <class 'str'>\n",
    "   print(type(age))         # <class 'int'>\n",
    "   ```\n",
    "2. Use _len()_ to find the length (number of characters) in your **first_name**.  \n",
    "   ```py\n",
    "   print(len(first_name))  # e.g., 7 for \"Valerie\"\n",
    "   ```\n",
    "3. Compare the lengths of your **first_name** and **last_name**.  \n",
    "   ```py\n",
    "   print(len(first_name) > len(last_name))  # True or False\n",
    "   ```\n",
    "4. Declare two numerical treasures: assign `5` to **num_one** and `4` to **num_two**. Perform the following operations:  \n",
    "   - Add them and save the result in **total**.  \n",
    "   - Subtract them and save the result in **diff**.  \n",
    "   - Multiply them to get **product**.  \n",
    "   - Divide **num_one** by **num_two** and call it **division**.  \n",
    "   - Use modulus division for **remainder** (what’s left when dividing).  \n",
    "   - Calculate **num_one** raised to the power of **num_two** as **exp**.  \n",
    "   - Perform floor division (integer division) and store it in **floor_division**.  \n",
    "   Example:  \n",
    "   ```py\n",
    "   num_one, num_two = 5, 4\n",
    "   total = num_one + num_two\n",
    "   diff = num_one - num_two\n",
    "   product = num_one * num_two\n",
    "   division = num_one / num_two\n",
    "   remainder = num_one % num_two\n",
    "   exp = num_one ** num_two\n",
    "   floor_division = num_one // num_two\n",
    "   print(total, diff, product, division, remainder, exp, floor_division)\n",
    "   ```\n",
    "5. The radius of a circle is `30` meters. Perform the following:  \n",
    "   - Calculate the area of the circle; store it as **area_of_circle**.  \n",
    "    Formula: `area = π * radius ** 2`  \n",
    "   - Calculate the circumference; store it as **circum_of_circle**.  \n",
    "    Formula: `circumference = 2 * π * radius`  \n",
    "   - Then, let the circle’s radius be found with a user input and calculate its area.  \n",
    "   Example:  \n",
    "   ```py\n",
    "   import math\n",
    "   radius = 30\n",
    "   area_of_circle = math.pi * radius ** 2\n",
    "   circum_of_circle = 2 * math.pi * radius\n",
    "   print(\"Area:\", area_of_circle, \"Circumference:\", circum_of_circle)\n",
    "\n",
    "   # User input for radius\n",
    "   radius = float(input(\"Enter the radius of the circle: \"))\n",
    "   area_of_circle = math.pi * radius ** 2\n",
    "   print(\"Area with user input:\", area_of_circle)\n",
    "   ```\n",
    "6. Use the _input()_ function to get your **first_name**, **last_name**, **country**, and **age** from the user and store them.  \n",
    "   ```py\n",
    "   first_name = input(\"Enter your first name: \")\n",
    "   last_name = input(\"Enter your last name: \")\n",
    "   country = input(\"Enter your country: \")\n",
    "   age = int(input(\"Enter your age: \"))\n",
    "   print(first_name, last_name, country, age)\n",
    "   ```\n",
    "7. In the Python shell (or your file), run `help('keywords')` to discover the reserved words (magical incantations) you cannot use as variable names.  \n",
    "   ```py\n",
    "   help('keywords')\n",
    "   ```\n",
    "\n",
    "---\n",
    "\n",
    "Happy coding and may your adventure be filled with magical discoveries!"
   ]
  }
 ],
 "metadata": {
  "kernelspec": {
   "display_name": "Python 3",
   "language": "python",
   "name": "python3"
  },
  "language_info": {
   "name": "python",
   "version": "3.12.1"
  }
 },
 "nbformat": 4,
 "nbformat_minor": 5
}
