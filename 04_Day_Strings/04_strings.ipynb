{
  "cells": [
    {
      "cell_type": "markdown",
      "metadata": {
        "id": "view-in-github",
        "colab_type": "text"
      },
      "source": [
        "<a href=\"https://colab.research.google.com/github/Ava-creator/30-Days-Of-Python/blob/master/04_Day_Strings/04_strings.ipynb\" target=\"_parent\"><img src=\"https://colab.research.google.com/assets/colab-badge.svg\" alt=\"Open In Colab\"/></a>"
      ]
    },
    {
      "cell_type": "markdown",
      "id": "9c70b625",
      "metadata": {
        "id": "9c70b625"
      },
      "source": [
        "<div align=\"center\">\n",
        "  <h1> 30 Days Of Python: Day 4 - Strings</h1>\n",
        "  <a class=\"header-badge\" target=\"_blank\" href=\"https://www.linkedin.com/in/asabeneh/\">\n",
        "  <img src=\"https://img.shields.io/badge/style--5eba00.svg?label=LinkedIn&logo=linkedin&style=social\">\n",
        "  </a>\n",
        "  <a class=\"header-badge\" target=\"_blank\" href=\"https://twitter.com/Asabeneh\">\n",
        "  <img alt=\"Twitter Follow\" src=\"https://img.shields.io/twitter/follow/asabeneh?style=social\">\n",
        "  </a>\n",
        "\n",
        "<sub>Author:\n",
        "<a href=\"https://www.linkedin.com/in/asabeneh/\" target=\"_blank\">Asabeneh Yetayeh</a><br>\n",
        "<small> Second Edition: July, 2021</small>\n",
        "</sub>\n",
        "\n",
        "</div>\n",
        "\n",
        "[<< Day 3](../03_Day_Operators/03_operators.md) | [Day 5 >>](../05_Day_Lists/05_lists.md)\n",
        "\n",
        "![30DaysOfPython](https://github.com/Ava-creator/30-Days-Of-Python/blob/master/images/30DaysOfPython_banner3@2x.png?raw=1)\n",
        "\n",
        "- [Day 4](#day-4)\n",
        "  - [Strings](#strings)\n",
        "    - [Creating a String](#creating-a-string)\n",
        "    - [String Concatenation](#string-concatenation)\n",
        "    - [Escape Sequences in Strings](#escape-sequences-in-strings)\n",
        "    - [String formatting](#string-formatting)\n",
        "      - [Old Style String Formatting (% Operator)](#old-style-string-formatting--operator)\n",
        "      - [New Style String Formatting (str.format)](#new-style-string-formatting-strformat)\n",
        "      - [String Interpolation / f-Strings (Python 3.6+)](#string-interpolation--f-strings-python-36)\n",
        "    - [Python Strings as Sequences of Characters](#python-strings-as-sequences-of-characters)\n",
        "      - [Unpacking Characters](#unpacking-characters)\n",
        "      - [Accessing Characters in Strings by Index](#accessing-characters-in-strings-by-index)\n",
        "      - [Slicing Python Strings](#slicing-python-strings)\n",
        "      - [Reversing a String](#reversing-a-string)\n",
        "      - [Skipping Characters While Slicing](#skipping-characters-while-slicing)\n",
        "    - [String Methods](#string-methods)\n",
        "  - [💻 Exercises - Day 4](#-exercises---day-4)\n",
        "\n",
        "# Day 4\n",
        "\n",
        "## Strings\n",
        "\n",
        "Text is a string data type. Any data type written as text is a string. Any data under single, double or triple quote are strings. There are different string methods and built-in functions to deal with string data types. To check the length of a string use the len() method.\n",
        "\n",
        "### Creating a String"
      ]
    },
    {
      "cell_type": "code",
      "execution_count": null,
      "id": "96677bc0",
      "metadata": {
        "attributes": {
          "classes": [
            "py"
          ],
          "id": ""
        },
        "id": "96677bc0",
        "outputId": "6b6836e5-ff05-4a4a-c712-0626879329ab"
      },
      "outputs": [
        {
          "name": "stdout",
          "output_type": "stream",
          "text": [
            "P\n",
            "1\n",
            "Hello, World!\n",
            "13\n",
            "I hope you are enjoying 30 days of Python Challenge\n"
          ]
        }
      ],
      "source": [
        "letter = 'P'                # A string could be a single character or a bunch of texts\n",
        "print(letter)               # P\n",
        "print(len(letter))          # 1\n",
        "greeting = 'Hello, World!'  # String could be made using a single or double quote,\"Hello, World!\"\n",
        "print(greeting)             # Hello, World!\n",
        "print(len(greeting))        # 13\n",
        "sentence = \"I hope you are enjoying 30 days of Python Challenge\"\n",
        "print(sentence)"
      ]
    },
    {
      "cell_type": "markdown",
      "id": "246d9852",
      "metadata": {
        "id": "246d9852"
      },
      "source": [
        "Multiline string is created by using triple single (''') or triple double quotes (\"\"\"). See the example below."
      ]
    },
    {
      "cell_type": "code",
      "execution_count": null,
      "id": "0f0c745b",
      "metadata": {
        "attributes": {
          "classes": [
            "py"
          ],
          "id": ""
        },
        "id": "0f0c745b",
        "outputId": "2a75b81d-10ad-4ca2-e85c-3e5e8145601e"
      },
      "outputs": [
        {
          "name": "stdout",
          "output_type": "stream",
          "text": [
            "I am a teacher and enjoy teaching.\n",
            "I didn't find anything as rewarding as empowering people.\n",
            "That is why I created 30 days of python.\n",
            "I am a teacher and enjoy teaching.\n",
            "I didn't find anything as rewarding as empowering people.\n",
            "That is why I created 30 days of python.\n"
          ]
        }
      ],
      "source": [
        "multiline_string = '''I am a teacher and enjoy teaching.\n",
        "I didn't find anything as rewarding as empowering people.\n",
        "That is why I created 30 days of python.'''\n",
        "print(multiline_string)\n",
        "\n",
        "# Another way of doing the same thing\n",
        "multiline_string = \"\"\"I am a teacher and enjoy teaching.\n",
        "I didn't find anything as rewarding as empowering people.\n",
        "That is why I created 30 days of python.\"\"\"\n",
        "print(multiline_string)"
      ]
    },
    {
      "cell_type": "markdown",
      "id": "56ba9feb",
      "metadata": {
        "id": "56ba9feb"
      },
      "source": [
        "### String Concatenation\n",
        "\n",
        "We can connect strings together. Merging or connecting strings is called concatenation. See the example below:"
      ]
    },
    {
      "cell_type": "code",
      "execution_count": null,
      "id": "b009eeb3",
      "metadata": {
        "attributes": {
          "classes": [
            "py"
          ],
          "id": ""
        },
        "id": "b009eeb3",
        "outputId": "4512a478-bf4a-4a54-fa28-6a0613ca1b80"
      },
      "outputs": [
        {
          "name": "stdout",
          "output_type": "stream",
          "text": [
            "Oludayo oludayo\n",
            "7\n",
            "7\n",
            "False\n",
            "15\n"
          ]
        }
      ],
      "source": [
        "first_name = 'Oludayo'\n",
        "\n",
        "last_name = 'oludayo'\n",
        "\n",
        "space = ' '\n",
        "full_name = first_name  +  space + last_name\n",
        "print(full_name) # Oludayo adeoye\n",
        "# Checking the length of a string using len() built-in function\n",
        "print(len(first_name))  # 8\n",
        "print(len(last_name))   # 7\n",
        "print(len(first_name) > len(last_name)) # True\n",
        "print(len(full_name)) # 16"
      ]
    },
    {
      "cell_type": "markdown",
      "id": "516deeb9",
      "metadata": {
        "id": "516deeb9"
      },
      "source": [
        "### Escape Sequences in Strings\n",
        "\n",
        "In Python and other programming languages \\ followed by a character is an escape sequence. Let us see the most common escape characters:\n",
        "\n",
        "- \\n: new line\n",
        "- \\t: Tab means(8 spaces)\n",
        "- \\\\\\\\: Back slash\n",
        "- \\\\': Single quote (')\n",
        "- \\\\\": Double quote (\")\n",
        "\n",
        "Now, let us see the use of the above escape sequences with examples."
      ]
    },
    {
      "cell_type": "code",
      "execution_count": null,
      "id": "ba7bf2d7",
      "metadata": {
        "attributes": {
          "classes": [
            "py"
          ],
          "id": ""
        },
        "id": "ba7bf2d7"
      },
      "outputs": [],
      "source": [
        "print('I hope everyone is enjoying the Python Challenge.\\nAre you ?') # line break\n",
        "print('Days\\tTopics\\tExercises') # adding tab space or 4 spaces\n",
        "print('Day 1\\t5\\t5')\n",
        "print('Day 2\\t6\\t20')\n",
        "print('Day 3\\t5\\t23')\n",
        "print('Day 4\\t1\\t35')\n",
        "print('This is a backslash  symbol (\\\\)') # To write a backslash\n",
        "print('In every programming language it starts with \\\"Hello, World!\\\"') # to write a double quote inside a single quote\n",
        "\n",
        "# output\n",
        "I hope every one is enjoying the Python Challenge.\n",
        "Are you ?\n",
        "Days\tTopics\tExercises\n",
        "Day 1\t5\t    5\n",
        "Day 2\t6\t    20\n",
        "Day 3\t5\t    23\n",
        "Day 4\t1\t    35\n",
        "This is a backslash  symbol (\\)\n",
        "In every programming language it starts with \"Hello, World!\""
      ]
    },
    {
      "cell_type": "markdown",
      "id": "4e17cea1",
      "metadata": {
        "id": "4e17cea1"
      },
      "source": [
        "### String formatting\n",
        "\n",
        "#### Old Style String Formatting (% Operator)\n",
        "\n",
        "In Python there are many ways of formatting strings. In this section, we will cover some of them.\n",
        "The \"%\" operator is used to format a set of variables enclosed in a \"tuple\" (a fixed size list), together with a format string, which contains normal text together with \"argument specifiers\", special symbols like \"%s\", \"%d\", \"%f\", \"%.<small>number of digits</small>f\".\n",
        "\n",
        "- %s - String (or any object with a string representation, like numbers)\n",
        "- %d - Integers\n",
        "- %f - Floating point numbers\n",
        "- \"%.<small>number of digits</small>f\" - Floating point numbers with fixed precision"
      ]
    },
    {
      "cell_type": "code",
      "execution_count": null,
      "id": "d7988a95",
      "metadata": {
        "attributes": {
          "classes": [
            "py"
          ],
          "id": ""
        },
        "id": "d7988a95"
      },
      "outputs": [],
      "source": [
        "# Strings only\n",
        "first_name = 'Oludayo'\n",
        "\n",
        "last_name = 'oludayo'\n",
        "\n",
        "language = 'Python'\n",
        "formated_string = 'I am %s %s. I teach %s' %(first_name, last_name, language)\n",
        "print(formated_string)\n",
        "\n",
        "# Strings  and numbers\n",
        "radius = 10\n",
        "pi = 3.14\n",
        "area = pi * radius ** 2\n",
        "formated_string = 'The area of circle with a radius %d is %.2f.' %(radius, area) # 2 refers the 2 significant digits after the point\n",
        "\n",
        "python_libraries = ['Django', 'Flask', 'NumPy', 'Matplotlib','Pandas']\n",
        "formated_string = 'The following are python libraries:%s' % (python_libraries)\n",
        "print(formated_string) # \"The following are python libraries:['Django', 'Flask', 'NumPy', 'Matplotlib','Pandas']\""
      ]
    },
    {
      "cell_type": "markdown",
      "id": "01233f0b",
      "metadata": {
        "id": "01233f0b"
      },
      "source": [
        "#### New Style String Formatting (str.format)\n",
        "\n",
        "This formatting is introduced in Python version 3."
      ]
    },
    {
      "cell_type": "code",
      "execution_count": null,
      "id": "55ecbdbf",
      "metadata": {
        "attributes": {
          "classes": [
            "py"
          ],
          "id": ""
        },
        "id": "55ecbdbf"
      },
      "outputs": [],
      "source": [
        "\n",
        "first_name = 'Oludayo'\n",
        "\n",
        "last_name = 'oludayo'\n",
        "\n",
        "language = 'Python'\n",
        "formated_string = 'I am {} {}. I teach {}'.format(first_name, last_name, language)\n",
        "print(formated_string)\n",
        "a = 4\n",
        "b = 3\n",
        "\n",
        "print('{} + {} = {}'.format(a, b, a + b))\n",
        "print('{} - {} = {}'.format(a, b, a - b))\n",
        "print('{} * {} = {}'.format(a, b, a * b))\n",
        "print('{} / {} = {:.2f}'.format(a, b, a / b)) # limits it to two digits after decimal\n",
        "print('{} % {} = {}'.format(a, b, a % b))\n",
        "print('{} // {} = {}'.format(a, b, a // b))\n",
        "print('{} ** {} = {}'.format(a, b, a ** b))\n",
        "\n",
        "# output\n",
        "4 + 3 = 7\n",
        "4 - 3 = 1\n",
        "4 * 3 = 12\n",
        "4 / 3 = 1.33\n",
        "4 % 3 = 1\n",
        "4 // 3 = 1\n",
        "4 ** 3 = 64\n",
        "\n",
        "# Strings  and numbers\n",
        "radius = 10\n",
        "pi = 3.14\n",
        "area = pi * radius ** 2\n",
        "formated_string = 'The area of a circle with a radius {} is {:.2f}.'.format(radius, area) # 2 digits after decimal\n",
        "print(formated_string)\n"
      ]
    },
    {
      "cell_type": "markdown",
      "id": "67ef80ce",
      "metadata": {
        "id": "67ef80ce"
      },
      "source": [
        "#### String Interpolation / f-Strings (Python 3.6+)\n",
        "\n",
        "Another new string formatting is string interpolation, f-strings. Strings start with f and we can inject the data in their corresponding positions."
      ]
    },
    {
      "cell_type": "code",
      "execution_count": null,
      "id": "7c423a76",
      "metadata": {
        "attributes": {
          "classes": [
            "py"
          ],
          "id": ""
        },
        "id": "7c423a76",
        "outputId": "f618d275-7719-4c64-9dfa-5d9b1b325b4e"
      },
      "outputs": [
        {
          "name": "stdout",
          "output_type": "stream",
          "text": [
            "4 + 3 = 7\n",
            "4 - 3 = 1\n",
            "4 * 3 = 12\n",
            "4 / 3 = 1.33\n",
            "4 % 3 = 1\n",
            "4 // 3 = 1\n",
            "4 ** 3 = 64\n"
          ]
        }
      ],
      "source": [
        "a = 4\n",
        "b = 3\n",
        "print(f'{a} + {b} = {a +b}')\n",
        "print(f'{a} - {b} = {a - b}')\n",
        "print(f'{a} * {b} = {a * b}')\n",
        "print(f'{a} / {b} = {a / b:.2f}')\n",
        "print(f'{a} % {b} = {a % b}')\n",
        "print(f'{a} // {b} = {a // b}')\n",
        "print(f'{a} ** {b} = {a ** b}')"
      ]
    },
    {
      "cell_type": "markdown",
      "id": "3fa2bbf3",
      "metadata": {
        "id": "3fa2bbf3"
      },
      "source": [
        "### Python Strings as Sequences of Characters\n",
        "\n",
        "Python strings are sequences of characters, and share their basic methods of access with other Python ordered sequences of objects – lists and tuples. The simplest way of extracting single characters from strings (and individual members from any sequence) is to unpack them into corresponding variables.\n",
        "\n",
        "#### Unpacking Characters"
      ]
    },
    {
      "cell_type": "code",
      "execution_count": null,
      "id": "69f630dc",
      "metadata": {
        "id": "69f630dc",
        "outputId": "a93e8514-1265-42f4-c765-a8826f05384a"
      },
      "outputs": [
        {
          "name": "stdout",
          "output_type": "stream",
          "text": [
            "P\n",
            "y\n",
            "t\n",
            "h\n",
            "o\n",
            "n\n"
          ]
        }
      ],
      "source": [
        "language = 'Python'\n",
        "a,b,c,d,e,f = language # unpacking sequence characters into variables\n",
        "print(a) # P\n",
        "print(b) # y\n",
        "print(c) # t\n",
        "print(d) # h\n",
        "print(e) # o\n",
        "print(f) # n"
      ]
    },
    {
      "cell_type": "markdown",
      "id": "78e4b3ba",
      "metadata": {
        "id": "78e4b3ba"
      },
      "source": [
        "#### Accessing Characters in Strings by Index\n",
        "\n",
        "In programming counting starts from zero. Therefore the first letter of a string is at zero index and the last letter of a string is the length of a string minus one.\n",
        "\n",
        "![String index](https://github.com/Ava-creator/30-Days-Of-Python/blob/master/images/string_index.png?raw=1)"
      ]
    },
    {
      "cell_type": "code",
      "execution_count": null,
      "id": "1f9f5d09",
      "metadata": {
        "attributes": {
          "classes": [
            "py"
          ],
          "id": ""
        },
        "id": "1f9f5d09",
        "outputId": "45478c5b-9af3-4c03-89f2-f9224ca38a78"
      },
      "outputs": [
        {
          "name": "stdout",
          "output_type": "stream",
          "text": [
            "P\n",
            "y\n",
            "n\n"
          ]
        }
      ],
      "source": [
        "language = 'Python'\n",
        "first_letter = language[0]\n",
        "print(first_letter) # P\n",
        "second_letter = language[1]\n",
        "print(second_letter) # y\n",
        "last_index = len(language) - 1\n",
        "last_letter = language[last_index]\n",
        "print(last_letter) # n"
      ]
    },
    {
      "cell_type": "markdown",
      "id": "034a869f",
      "metadata": {
        "id": "034a869f"
      },
      "source": [
        "If we want to start from right end we can use negative indexing. -1 is the last index."
      ]
    },
    {
      "cell_type": "code",
      "execution_count": null,
      "id": "1227d921",
      "metadata": {
        "attributes": {
          "classes": [
            "py"
          ],
          "id": ""
        },
        "id": "1227d921",
        "outputId": "0cadd73b-3e1f-4199-a3ea-2a3faa91d337"
      },
      "outputs": [
        {
          "name": "stdout",
          "output_type": "stream",
          "text": [
            "n\n",
            "o\n"
          ]
        }
      ],
      "source": [
        "language = 'Python'\n",
        "last_letter = language[-1]\n",
        "print(last_letter) # n\n",
        "second_last = language[-2]\n",
        "print(second_last) # o"
      ]
    },
    {
      "cell_type": "markdown",
      "id": "59408e9d",
      "metadata": {
        "id": "59408e9d"
      },
      "source": [
        "#### Slicing Python Strings\n",
        "\n",
        "In python we can slice strings into substrings."
      ]
    },
    {
      "cell_type": "code",
      "execution_count": null,
      "id": "5e5a1c7a",
      "metadata": {
        "attributes": {
          "classes": [
            "py"
          ],
          "id": ""
        },
        "id": "5e5a1c7a",
        "outputId": "39c8c096-b88b-45ea-d38a-0ed56720db21"
      },
      "outputs": [
        {
          "name": "stdout",
          "output_type": "stream",
          "text": [
            "Pyt\n",
            "hon\n",
            "hon\n",
            "hon\n"
          ]
        }
      ],
      "source": [
        "language = 'Python'\n",
        "first_three = language[0:3] # starts at zero index and up to 3 but not include 3\n",
        "print(first_three) #Pyt\n",
        "last_three = language[3:6]\n",
        "print(last_three) # hon\n",
        "# Another way\n",
        "last_three = language[-3:]\n",
        "print(last_three)   # hon\n",
        "last_three = language[3:]\n",
        "print(last_three)   # hon"
      ]
    },
    {
      "cell_type": "markdown",
      "id": "0388f67c",
      "metadata": {
        "id": "0388f67c"
      },
      "source": [
        "#### Reversing a String\n",
        "\n",
        "We can easily reverse strings in python."
      ]
    },
    {
      "cell_type": "code",
      "execution_count": null,
      "id": "968b2443",
      "metadata": {
        "attributes": {
          "classes": [
            "py"
          ],
          "id": ""
        },
        "id": "968b2443"
      },
      "outputs": [],
      "source": [
        "greeting = 'Hello, World!'\n",
        "print(greeting[::-1]) # !dlroW ,olleH"
      ]
    },
    {
      "cell_type": "markdown",
      "id": "7a989ced",
      "metadata": {
        "id": "7a989ced"
      },
      "source": [
        "#### Skipping Characters While Slicing\n",
        "\n",
        "It is possible to skip characters while slicing by passing step argument to slice method."
      ]
    },
    {
      "cell_type": "code",
      "execution_count": null,
      "id": "b1daed83",
      "metadata": {
        "attributes": {
          "classes": [
            "py"
          ],
          "id": ""
        },
        "id": "b1daed83"
      },
      "outputs": [],
      "source": [
        "language = 'Python'\n",
        "pto = language[0:6:2] #\n",
        "print(pto) # Pto"
      ]
    },
    {
      "cell_type": "markdown",
      "id": "64123c61",
      "metadata": {
        "id": "64123c61"
      },
      "source": [
        "### String Methods\n",
        "\n",
        "There are many string methods which allow us to format strings. See some of the string methods in the following example:\n",
        "\n",
        "- capitalize(): Converts the first character of the string to capital letter"
      ]
    },
    {
      "cell_type": "code",
      "execution_count": null,
      "id": "bfc69fd0",
      "metadata": {
        "attributes": {
          "classes": [
            "py"
          ],
          "id": ""
        },
        "id": "bfc69fd0"
      },
      "outputs": [],
      "source": [
        "challenge = 'thirty days of python'\n",
        "print(challenge.capitalize()) # 'Thirty days of python'"
      ]
    },
    {
      "cell_type": "markdown",
      "id": "9fdbc652",
      "metadata": {
        "id": "9fdbc652"
      },
      "source": [
        "- count(): returns occurrences of substring in string, count(substring, start=.., end=..). The start is a starting indexing for counting and end is the last index to count."
      ]
    },
    {
      "cell_type": "code",
      "execution_count": null,
      "id": "a8b59efd",
      "metadata": {
        "attributes": {
          "classes": [
            "py"
          ],
          "id": ""
        },
        "id": "a8b59efd"
      },
      "outputs": [],
      "source": [
        "challenge = 'thirty days of python'\n",
        "print(challenge.count('y')) # 3\n",
        "print(challenge.count('y', 7, 14)) # 1,\n",
        "print(challenge.count('th')) # 2`"
      ]
    },
    {
      "cell_type": "markdown",
      "id": "38796c6c",
      "metadata": {
        "id": "38796c6c"
      },
      "source": [
        "- endswith(): Checks if a string ends with a specified ending"
      ]
    },
    {
      "cell_type": "code",
      "execution_count": null,
      "id": "203e70a3",
      "metadata": {
        "attributes": {
          "classes": [
            "py"
          ],
          "id": ""
        },
        "id": "203e70a3"
      },
      "outputs": [],
      "source": [
        "challenge = 'thirty days of python'\n",
        "print(challenge.endswith('on'))   # True\n",
        "print(challenge.endswith('tion')) # False"
      ]
    },
    {
      "cell_type": "markdown",
      "id": "009a16f4",
      "metadata": {
        "id": "009a16f4"
      },
      "source": [
        "- expandtabs(): Replaces tab character with spaces, default tab size is 8. It takes tab size argument"
      ]
    },
    {
      "cell_type": "code",
      "execution_count": null,
      "id": "74a7ba94",
      "metadata": {
        "attributes": {
          "classes": [
            "py"
          ],
          "id": ""
        },
        "id": "74a7ba94"
      },
      "outputs": [],
      "source": [
        "challenge = 'thirty\\tdays\\tof\\tpython'\n",
        "print(challenge.expandtabs())   # 'thirty  days    of      python'\n",
        "print(challenge.expandtabs(10)) # 'thirty    days      of        python'"
      ]
    },
    {
      "cell_type": "markdown",
      "id": "08efccef",
      "metadata": {
        "id": "08efccef"
      },
      "source": [
        "- find(): Returns the index of the first occurrence of a substring, if not found returns -1"
      ]
    },
    {
      "cell_type": "code",
      "execution_count": null,
      "id": "31a92568",
      "metadata": {
        "attributes": {
          "classes": [
            "py"
          ],
          "id": ""
        },
        "id": "31a92568"
      },
      "outputs": [],
      "source": [
        "challenge = 'thirty days of python'\n",
        "print(challenge.find('y'))  # 5\n",
        "print(challenge.find('th')) # 0"
      ]
    },
    {
      "cell_type": "markdown",
      "id": "6ac145d8",
      "metadata": {
        "id": "6ac145d8"
      },
      "source": [
        "- rfind(): Returns the index of the last occurrence of a substring, if not found returns -1"
      ]
    },
    {
      "cell_type": "code",
      "execution_count": null,
      "id": "06c3a803",
      "metadata": {
        "attributes": {
          "classes": [
            "py"
          ],
          "id": ""
        },
        "id": "06c3a803"
      },
      "outputs": [],
      "source": [
        "challenge = 'thirty days of python'\n",
        "print(challenge.rfind('y'))  # 16\n",
        "print(challenge.rfind('th')) # 17"
      ]
    },
    {
      "cell_type": "markdown",
      "id": "f60059a4",
      "metadata": {
        "id": "f60059a4"
      },
      "source": [
        "- format(): formats string into a nicer output  \n",
        "   More about string formatting check this [link](https://www.programiz.com/python-programming/methods/string/format)"
      ]
    },
    {
      "cell_type": "code",
      "execution_count": null,
      "id": "df432b41",
      "metadata": {
        "attributes": {
          "classes": [
            "py"
          ],
          "id": ""
        },
        "id": "df432b41"
      },
      "outputs": [],
      "source": [
        "first_name = 'Oludayo'\n",
        "\n",
        "last_name = 'oludayo'\n",
        "\n",
        "age = 250\n",
        "job = 'teacher'\n",
        "country = 'Finland'\n",
        "sentence = 'I am {} {}. I am a {}. I am {} years old. I live in {}.'.format(first_name, last_name, age, job, country)\n",
        "print(sentence) # I am Oludayo adeoye. I am 250 years old. I am a teacher. I live in Finland.\n",
        "\n",
        "radius = 10\n",
        "pi = 3.14\n",
        "area = pi * radius ** 2\n",
        "result = 'The area of a circle with radius {} is {}'.format(str(radius), str(area))\n",
        "print(result) # The area of a circle with radius 10 is 314"
      ]
    },
    {
      "cell_type": "markdown",
      "id": "be49eb0a",
      "metadata": {
        "id": "be49eb0a"
      },
      "source": [
        "- index(): Returns the lowest index of a substring, additional arguments indicate starting and ending index (default 0 and string length - 1). If the substring is not found it raises a valueError."
      ]
    },
    {
      "cell_type": "code",
      "execution_count": null,
      "id": "5f0a1a4c",
      "metadata": {
        "attributes": {
          "classes": [
            "py"
          ],
          "id": ""
        },
        "id": "5f0a1a4c"
      },
      "outputs": [],
      "source": [
        "challenge = 'thirty days of python'\n",
        "sub_string = 'da'\n",
        "print(challenge.index(sub_string))  # 7\n",
        "print(challenge.index(sub_string, 9)) # error"
      ]
    },
    {
      "cell_type": "markdown",
      "id": "13b07c32",
      "metadata": {
        "id": "13b07c32"
      },
      "source": [
        "- rindex(): Returns the highest index of a substring, additional arguments indicate starting and ending index (default 0 and string length - 1)"
      ]
    },
    {
      "cell_type": "code",
      "execution_count": null,
      "id": "c1af3400",
      "metadata": {
        "attributes": {
          "classes": [
            "py"
          ],
          "id": ""
        },
        "id": "c1af3400"
      },
      "outputs": [],
      "source": [
        "challenge = 'thirty days of python'\n",
        "sub_string = 'da'\n",
        "print(challenge.rindex(sub_string))  # 7\n",
        "print(challenge.rindex(sub_string, 9)) # error\n",
        "print(challenge.rindex('on', 8)) # 19"
      ]
    },
    {
      "cell_type": "markdown",
      "id": "99bf4e56",
      "metadata": {
        "id": "99bf4e56"
      },
      "source": [
        "- isalnum(): Checks alphanumeric character"
      ]
    },
    {
      "cell_type": "code",
      "execution_count": null,
      "id": "cb850c8c",
      "metadata": {
        "attributes": {
          "classes": [
            "py"
          ],
          "id": ""
        },
        "id": "cb850c8c"
      },
      "outputs": [],
      "source": [
        "challenge = 'ThirtyDaysPython'\n",
        "print(challenge.isalnum()) # True\n",
        "\n",
        "challenge = '30DaysPython'\n",
        "print(challenge.isalnum()) # True\n",
        "\n",
        "challenge = 'thirty days of python'\n",
        "print(challenge.isalnum()) # False, space is not an alphanumeric character\n",
        "\n",
        "challenge = 'thirty days of python 2019'\n",
        "print(challenge.isalnum()) # False"
      ]
    },
    {
      "cell_type": "markdown",
      "id": "131ac222",
      "metadata": {
        "id": "131ac222"
      },
      "source": [
        "- isalpha(): Checks if all string elements are alphabet characters (a-z and A-Z)"
      ]
    },
    {
      "cell_type": "code",
      "execution_count": null,
      "id": "8b624bc9",
      "metadata": {
        "attributes": {
          "classes": [
            "py"
          ],
          "id": ""
        },
        "id": "8b624bc9"
      },
      "outputs": [],
      "source": [
        "challenge = 'thirty days of python'\n",
        "print(challenge.isalpha()) # False, space is once again excluded\n",
        "challenge = 'ThirtyDaysPython'\n",
        "print(challenge.isalpha()) # True\n",
        "num = '123'\n",
        "print(num.isalpha())      # False"
      ]
    },
    {
      "cell_type": "markdown",
      "id": "6aa141ac",
      "metadata": {
        "id": "6aa141ac"
      },
      "source": [
        "- isdecimal(): Checks if all characters in a string are decimal (0-9)"
      ]
    },
    {
      "cell_type": "code",
      "execution_count": null,
      "id": "05062ad0",
      "metadata": {
        "attributes": {
          "classes": [
            "py"
          ],
          "id": ""
        },
        "id": "05062ad0"
      },
      "outputs": [],
      "source": [
        "challenge = 'thirty days of python'\n",
        "print(challenge.isdecimal())  # False\n",
        "challenge = '123'\n",
        "print(challenge.isdecimal())  # True\n",
        "challenge = '\\u00B2'\n",
        "print(challenge.isdigit())   # False\n",
        "challenge = '12 3'\n",
        "print(challenge.isdecimal())  # False, space not allowed"
      ]
    },
    {
      "cell_type": "markdown",
      "id": "bf0c1578",
      "metadata": {
        "id": "bf0c1578"
      },
      "source": [
        "- isdigit(): Checks if all characters in a string are numbers (0-9 and some other unicode characters for numbers)"
      ]
    },
    {
      "cell_type": "code",
      "execution_count": null,
      "id": "4f152df8",
      "metadata": {
        "attributes": {
          "classes": [
            "py"
          ],
          "id": ""
        },
        "id": "4f152df8"
      },
      "outputs": [],
      "source": [
        "challenge = 'Thirty'\n",
        "print(challenge.isdigit()) # False\n",
        "challenge = '30'\n",
        "print(challenge.isdigit())   # True\n",
        "challenge = '\\u00B2'\n",
        "print(challenge.isdigit())   # True"
      ]
    },
    {
      "cell_type": "markdown",
      "id": "c2d6be4b",
      "metadata": {
        "id": "c2d6be4b"
      },
      "source": [
        "- isnumeric(): Checks if all characters in a string are numbers or number related (just like isdigit(), just accepts more symbols, like ½)"
      ]
    },
    {
      "cell_type": "code",
      "execution_count": null,
      "id": "4a9d0d53",
      "metadata": {
        "attributes": {
          "classes": [
            "py"
          ],
          "id": ""
        },
        "id": "4a9d0d53"
      },
      "outputs": [],
      "source": [
        "num = '10'\n",
        "print(num.isnumeric()) # True\n",
        "num = '\\u00BD' # ½\n",
        "print(num.isnumeric()) # True\n",
        "num = '10.5'\n",
        "print(num.isnumeric()) # False"
      ]
    },
    {
      "cell_type": "markdown",
      "id": "d2b1acb6",
      "metadata": {
        "id": "d2b1acb6"
      },
      "source": [
        "- isidentifier(): Checks for a valid identifier - it checks if a string is a valid variable name"
      ]
    },
    {
      "cell_type": "code",
      "execution_count": null,
      "id": "9bce9c2c",
      "metadata": {
        "attributes": {
          "classes": [
            "py"
          ],
          "id": ""
        },
        "id": "9bce9c2c"
      },
      "outputs": [],
      "source": [
        "challenge = '30DaysOfPython'\n",
        "print(challenge.isidentifier()) # False, because it starts with a number\n",
        "challenge = 'thirty_days_of_python'\n",
        "print(challenge.isidentifier()) # True"
      ]
    },
    {
      "cell_type": "markdown",
      "id": "80741070",
      "metadata": {
        "id": "80741070"
      },
      "source": [
        "- islower(): Checks if all alphabet characters in the string are lowercase"
      ]
    },
    {
      "cell_type": "code",
      "execution_count": null,
      "id": "9f28c349",
      "metadata": {
        "attributes": {
          "classes": [
            "py"
          ],
          "id": ""
        },
        "id": "9f28c349"
      },
      "outputs": [],
      "source": [
        "challenge = 'thirty days of python'\n",
        "print(challenge.islower()) # True\n",
        "challenge = 'Thirty days of python'\n",
        "print(challenge.islower()) # False"
      ]
    },
    {
      "cell_type": "markdown",
      "id": "1026e3af",
      "metadata": {
        "id": "1026e3af"
      },
      "source": [
        "- isupper(): Checks if all alphabet characters in the string are uppercase"
      ]
    },
    {
      "cell_type": "code",
      "execution_count": null,
      "id": "307ea765",
      "metadata": {
        "attributes": {
          "classes": [
            "py"
          ],
          "id": ""
        },
        "id": "307ea765"
      },
      "outputs": [],
      "source": [
        "challenge = 'thirty days of python'\n",
        "print(challenge.isupper()) #  False\n",
        "challenge = 'THIRTY DAYS OF PYTHON'\n",
        "print(challenge.isupper()) # True"
      ]
    },
    {
      "cell_type": "markdown",
      "id": "9bfbbd03",
      "metadata": {
        "id": "9bfbbd03"
      },
      "source": [
        "- join(): Returns a concatenated string"
      ]
    },
    {
      "cell_type": "code",
      "execution_count": null,
      "id": "86825914",
      "metadata": {
        "attributes": {
          "classes": [
            "py"
          ],
          "id": ""
        },
        "id": "86825914"
      },
      "outputs": [],
      "source": [
        "web_tech = ['HTML', 'CSS', 'JavaScript', 'React']\n",
        "result = ' '.join(web_tech)\n",
        "print(result) # 'HTML CSS JavaScript React'"
      ]
    },
    {
      "cell_type": "code",
      "execution_count": null,
      "id": "fef78556",
      "metadata": {
        "attributes": {
          "classes": [
            "py"
          ],
          "id": ""
        },
        "id": "fef78556"
      },
      "outputs": [],
      "source": [
        "web_tech = ['HTML', 'CSS', 'JavaScript', 'React']\n",
        "result = '# '.join(web_tech)\n",
        "print(result) # 'HTML# CSS# JavaScript# React'"
      ]
    },
    {
      "cell_type": "markdown",
      "id": "25395c59",
      "metadata": {
        "id": "25395c59"
      },
      "source": [
        "- strip(): Removes all given characters starting from the beginning and end of the string"
      ]
    },
    {
      "cell_type": "code",
      "execution_count": null,
      "id": "c76e170f",
      "metadata": {
        "attributes": {
          "classes": [
            "py"
          ],
          "id": ""
        },
        "id": "c76e170f"
      },
      "outputs": [],
      "source": [
        "challenge = 'thirty days of pythoonnn'\n",
        "print(challenge.strip('noth')) # 'irty days of py'"
      ]
    },
    {
      "cell_type": "markdown",
      "id": "12effeb1",
      "metadata": {
        "id": "12effeb1"
      },
      "source": [
        "- replace(): Replaces substring with a given string"
      ]
    },
    {
      "cell_type": "code",
      "execution_count": null,
      "id": "00477d88",
      "metadata": {
        "attributes": {
          "classes": [
            "py"
          ],
          "id": ""
        },
        "id": "00477d88"
      },
      "outputs": [],
      "source": [
        "challenge = 'thirty days of python'\n",
        "print(challenge.replace('python', 'coding')) # 'thirty days of coding'"
      ]
    },
    {
      "cell_type": "markdown",
      "id": "24758e98",
      "metadata": {
        "id": "24758e98"
      },
      "source": [
        "- split(): Splits the string, using given string or space as a separator"
      ]
    },
    {
      "cell_type": "code",
      "execution_count": null,
      "id": "e94fa4f0",
      "metadata": {
        "attributes": {
          "classes": [
            "py"
          ],
          "id": ""
        },
        "id": "e94fa4f0"
      },
      "outputs": [],
      "source": [
        "challenge = 'thirty days of python'\n",
        "print(challenge.split()) # ['thirty', 'days', 'of', 'python']\n",
        "challenge = 'thirty, days, of, python'\n",
        "print(challenge.split(', ')) # ['thirty', 'days', 'of', 'python']"
      ]
    },
    {
      "cell_type": "markdown",
      "id": "2b8cd340",
      "metadata": {
        "id": "2b8cd340"
      },
      "source": [
        "- title(): Returns a title cased string"
      ]
    },
    {
      "cell_type": "code",
      "execution_count": null,
      "id": "660cb282",
      "metadata": {
        "attributes": {
          "classes": [
            "py"
          ],
          "id": ""
        },
        "id": "660cb282"
      },
      "outputs": [],
      "source": [
        "challenge = 'thirty days of python'\n",
        "print(challenge.title()) # Thirty Days Of Python"
      ]
    },
    {
      "cell_type": "markdown",
      "id": "6e7bcc4b",
      "metadata": {
        "id": "6e7bcc4b"
      },
      "source": [
        "- swapcase(): Converts all uppercase characters to lowercase and all lowercase characters to uppercase characters"
      ]
    },
    {
      "cell_type": "code",
      "execution_count": null,
      "id": "9e2a35fe",
      "metadata": {
        "attributes": {
          "classes": [
            "py"
          ],
          "id": ""
        },
        "id": "9e2a35fe"
      },
      "outputs": [],
      "source": [
        "challenge = 'thirty days of python'\n",
        "print(challenge.swapcase())   # THIRTY DAYS OF PYTHON\n",
        "challenge = 'Thirty Days Of Python'\n",
        "print(challenge.swapcase())  # tHIRTY dAYS oF pYTHON"
      ]
    },
    {
      "cell_type": "markdown",
      "id": "b1bbf3a5",
      "metadata": {
        "id": "b1bbf3a5"
      },
      "source": [
        "- startswith(): Checks if String Starts with the Specified String"
      ]
    },
    {
      "cell_type": "code",
      "execution_count": null,
      "id": "90cce48b",
      "metadata": {
        "attributes": {
          "classes": [
            "py"
          ],
          "id": ""
        },
        "id": "90cce48b"
      },
      "outputs": [],
      "source": [
        "challenge = 'thirty days of python'\n",
        "print(challenge.startswith('thirty')) # True\n",
        "\n",
        "challenge = '30 days of python'\n",
        "print(challenge.startswith('thirty')) # False"
      ]
    },
    {
      "cell_type": "markdown",
      "id": "501cb3bf",
      "metadata": {
        "id": "501cb3bf"
      },
      "source": [
        "🌕 You are an extraordinary person and you have a remarkable potential. You have just completed day 4 challenges and you are four steps a head in to your way to greatness. Now do some exercises for your brain and muscles.\n",
        "\n",
        "## 💻 Exercises - Day 4\n",
        "\n",
        "1. Concatenate the string 'Thirty', 'Days', 'Of', 'Python' to a single string, 'Thirty Days Of Python'.\n",
        "2. Concatenate the string 'Coding', 'For' , 'All' to a single string, 'Coding For All'.\n",
        "3. Declare a variable named company and assign it to an initial value \"Coding For All\".\n",
        "4. Print the variable company using _print()_.\n",
        "5. Print the length of the company string using _len()_ method and _print()_.\n",
        "6. Change all the characters to uppercase letters using _upper()_ method.\n",
        "7. Change all the characters to lowercase letters using _lower()_ method.\n",
        "8. Use capitalize(), title(), swapcase() methods to format the value of the string _Coding For All_.\n",
        "9. Cut(slice) out the first word of _Coding For All_ string.\n",
        "10. Check if _Coding For All_ string contains a word Coding using the method index, find or other methods.\n",
        "11. Replace the word coding in the string 'Coding For All' to Python.\n",
        "12. Change Python for Everyone to Python for All using the replace method or other methods.\n",
        "13. Split the string 'Coding For All' using space as the separator (split()) .\n",
        "14. \"Facebook, Google, Microsoft, Apple, IBM, Oracle, Amazon\" split the string at the comma.\n",
        "15. What is the character at index 0 in the string _Coding For All_.\n",
        "16. What is the last index of the string _Coding For All_.\n",
        "17. What character is at index 10 in \"Coding For All\" string.\n",
        "18. Create an acronym or an abbreviation for the name 'Python For Everyone'.\n",
        "19. Create an acronym or an abbreviation for the name 'Coding For All'.\n",
        "20. Use index to determine the position of the first occurrence of C in Coding For All.\n",
        "21. Use index to determine the position of the first occurrence of F in Coding For All.\n",
        "22. Use rfind to determine the position of the last occurrence of l in Coding For All People.\n",
        "23. Use index or find to find the position of the first occurrence of the word 'because' in the following sentence: 'You cannot end a sentence with because because because is a conjunction'\n",
        "24. Use rindex to find the position of the last occurrence of the word because in the following sentence: 'You cannot end a sentence with because because because is a conjunction'\n",
        "25. Slice out the phrase 'because because because' in the following sentence: 'You cannot end a sentence with because because because is a conjunction'\n",
        "26. Find the position of the first occurrence of the word 'because' in the following sentence: 'You cannot end a sentence with because because because is a conjunction'\n",
        "27. Slice out the phrase 'because because because' in the following sentence: 'You cannot end a sentence with because because because is a conjunction'\n",
        "28. Does '\\'Coding For All' start with a substring _Coding_?\n",
        "29. Does 'Coding For All' end with a substring _coding_?\n",
        "30. '&nbsp;&nbsp; Coding For All &nbsp;&nbsp;&nbsp; &nbsp;' &nbsp;, remove the left and right trailing spaces in the given string.\n",
        "31. Which one of the following variables return True when we use the method isidentifier():\n",
        "    - 30DaysOfPython\n",
        "    - thirty_days_of_python\n",
        "32. The following list contains the names of some of python libraries: ['Django', 'Flask', 'Bottle', 'Pyramid', 'Falcon']. Join the list with a hash with space string.\n",
        "33. Use the new line escape sequence to separate the following sentences.\n",
        "    ```py\n",
        "    I am enjoying this challenge.\n",
        "    I just wonder what is next.\n",
        "    ```\n",
        "34. Use a tab escape sequence to write the following lines.\n",
        "    ```py\n",
        "    Name      Age     Country   City\n",
        "    Asabeneh  250     Finland   Helsinki\n",
        "    ```\n",
        "35. Use the string formatting method to display the following:"
      ]
    },
    {
      "cell_type": "code",
      "execution_count": null,
      "id": "800da700",
      "metadata": {
        "attributes": {
          "classes": [
            "sh"
          ],
          "id": ""
        },
        "id": "800da700"
      },
      "outputs": [],
      "source": [
        "radius = 10\n",
        "area = 3.14 * radius ** 2\n",
        "The area of a circle with radius 10 is 314 meters square."
      ]
    },
    {
      "cell_type": "markdown",
      "id": "9006f62e",
      "metadata": {
        "id": "9006f62e"
      },
      "source": [
        "36. Make the following using string formatting methods:"
      ]
    },
    {
      "cell_type": "code",
      "execution_count": null,
      "id": "b792d490",
      "metadata": {
        "attributes": {
          "classes": [
            "sh"
          ],
          "id": ""
        },
        "id": "b792d490"
      },
      "outputs": [],
      "source": [
        "8 + 6 = 14\n",
        "8 - 6 = 2\n",
        "8 * 6 = 48\n",
        "8 / 6 = 1.33\n",
        "8 % 6 = 2\n",
        "8 // 6 = 1\n",
        "8 ** 6 = 262144"
      ]
    },
    {
      "cell_type": "markdown",
      "id": "2522c996",
      "metadata": {
        "id": "2522c996"
      },
      "source": [
        "🎉 CONGRATULATIONS ! 🎉\n",
        "\n",
        "[<< Day 3](../03_Day_Operators/03_operators.md) | [Day 5 >>](../05_Day_Lists/05_lists.md)"
      ]
    }
  ],
  "metadata": {
    "kernelspec": {
      "display_name": "Python 3",
      "language": "python",
      "name": "python3"
    },
    "language_info": {
      "codemirror_mode": {
        "name": "ipython",
        "version": 3
      },
      "file_extension": ".py",
      "mimetype": "text/x-python",
      "name": "python",
      "nbconvert_exporter": "python",
      "pygments_lexer": "ipython3",
      "version": "3.12.1"
    },
    "colab": {
      "provenance": [],
      "include_colab_link": true
    }
  },
  "nbformat": 4,
  "nbformat_minor": 5
}