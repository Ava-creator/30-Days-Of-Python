{
 "cells": [
  {
   "cell_type": "markdown",
   "id": "a293b352",
   "metadata": {},
   "source": [
    "<div align=\"center\">\n",
    "  <h1> 30 Days Of Python: Day 9 - Conditionals</h1>\n",
    "  <a class=\"header-badge\" target=\"_blank\" href=\"https://www.linkedin.com/in/asabeneh/\">\n",
    "  <img src=\"https://img.shields.io/badge/style--5eba00.svg?label=LinkedIn&logo=linkedin&style=social\">\n",
    "  </a>\n",
    "  <a class=\"header-badge\" target=\"_blank\" href=\"https://twitter.com/Asabeneh\">\n",
    "  <img alt=\"Twitter Follow\" src=\"https://img.shields.io/twitter/follow/asabeneh?style=social\">\n",
    "  </a>\n",
    "\n",
    "<sub>Author:\n",
    "<a href=\"https://www.linkedin.com/in/asabeneh/\" target=\"_blank\">Asabeneh Yetayeh</a><br>\n",
    "<small> Second Edition: July, 2021</small>\n",
    "</sub>\n",
    "\n",
    "</div>\n",
    "\n",
    "[<< Day 8](../08_Day_Dictionaries/08_dictionaries.md) | [Day 10 >>](../10_Day_Loops/10_loops.md)\n",
    "\n",
    "![30DaysOfPython](../images/30DaysOfPython_banner3@2x.png)\n",
    "\n",
    "- [📘 Day 9](#-day-9)\n",
    "  - [Conditionals](#conditionals)\n",
    "    - [If Condition](#if-condition)\n",
    "    - [If Else](#if-else)\n",
    "    - [If Elif Else](#if-elif-else)\n",
    "    - [Short Hand](#short-hand)\n",
    "    - [Nested Conditions](#nested-conditions)\n",
    "    - [If Condition and Logical Operators](#if-condition-and-logical-operators)\n",
    "    - [If and Or Logical Operators](#if-and-or-logical-operators)\n",
    "  - [💻 Exercises: Day 9](#-exercises-day-9)\n",
    "    - [Exercises: Level 1](#exercises-level-1)\n",
    "    - [Exercises: Level 2](#exercises-level-2)\n",
    "    - [Exercises: Level 3](#exercises-level-3)\n",
    "\n",
    "# 📘 Day 9\n",
    "\n",
    "## Conditionals\n",
    "\n",
    "By default, statements in Python script are executed sequentially from top to bottom. If the processing logic require so, the sequential flow of execution can be altered in two way:\n",
    "\n",
    "- Conditional execution: a block of one or more statements will be executed if a certain expression is true\n",
    "- Repetitive execution: a block of one or more statements will be repetitively executed as long as a certain expression is true. In this section, we will cover _if_, _else_, _elif_ statements. The comparison and logical operators we learned in previous sections will be useful here.\n",
    "\n",
    "### If Condition\n",
    "\n",
    "In python and other programming languages the key word _if_ is used to check if a condition is true and to execute the block code. Remember the indentation after the colon."
   ]
  },
  {
   "cell_type": "code",
   "execution_count": null,
   "id": "3fc94065",
   "metadata": {
    "attributes": {
     "classes": [
      "py"
     ],
     "id": ""
    }
   },
   "outputs": [],
   "source": [
    "# syntax\n",
    "if condition:\n",
    "    this part of code runs for truthy conditions"
   ]
  },
  {
   "cell_type": "markdown",
   "id": "e92eb6a3",
   "metadata": {},
   "source": [
    "**Example: 1**"
   ]
  },
  {
   "cell_type": "code",
   "execution_count": null,
   "id": "0a83c31c",
   "metadata": {
    "attributes": {
     "classes": [
      "py"
     ],
     "id": ""
    }
   },
   "outputs": [],
   "source": [
    "a = 3\n",
    "if a > 0:\n",
    "    print('A is a positive number')\n",
    "# A is a positive number"
   ]
  },
  {
   "cell_type": "markdown",
   "id": "b59b59b9",
   "metadata": {},
   "source": [
    "As you can see in the example above, 3 is greater than 0. The condition was true and the block code was executed. However, if the condition is false, we do not see the result. In order to see the result of the falsy condition, we should have another block, which is going to be _else_.\n",
    "\n",
    "### If Else\n",
    "\n",
    "If condition is true the first block will be executed, if not the else condition will run."
   ]
  },
  {
   "cell_type": "code",
   "execution_count": null,
   "id": "f86fcf30",
   "metadata": {
    "attributes": {
     "classes": [
      "py"
     ],
     "id": ""
    }
   },
   "outputs": [],
   "source": [
    "# syntax\n",
    "if condition:\n",
    "    this part of code runs for truthy conditions\n",
    "else:\n",
    "     this part of code runs for false conditions"
   ]
  },
  {
   "cell_type": "markdown",
   "id": "57bfb1f2",
   "metadata": {},
   "source": [
    "**Example:**"
   ]
  },
  {
   "cell_type": "code",
   "execution_count": null,
   "id": "23198ac0",
   "metadata": {
    "attributes": {
     "classes": [
      "py"
     ],
     "id": ""
    }
   },
   "outputs": [],
   "source": [
    "a = 3\n",
    "if a < 0:\n",
    "    print('A is a negative number')\n",
    "else:\n",
    "    print('A is a positive number')"
   ]
  },
  {
   "cell_type": "markdown",
   "id": "34a83857",
   "metadata": {},
   "source": [
    "The condition above proves false, therefore the else block was executed. How about if our condition is more than two? We could use _elif_.\n",
    "\n",
    "### If Elif Else\n",
    "\n",
    "In our daily life, we make decisions on daily basis. We make decisions not by checking one or two conditions but multiple conditions. As similar to life, programming is also full of conditions. We use _elif_ when we have multiple conditions."
   ]
  },
  {
   "cell_type": "code",
   "execution_count": null,
   "id": "450fa85f",
   "metadata": {
    "attributes": {
     "classes": [
      "py"
     ],
     "id": ""
    }
   },
   "outputs": [],
   "source": [
    "# syntax\n",
    "if condition:\n",
    "    code\n",
    "elif condition:\n",
    "    code\n",
    "else:\n",
    "    code\n"
   ]
  },
  {
   "cell_type": "markdown",
   "id": "7fe885a3",
   "metadata": {},
   "source": [
    "**Example:**"
   ]
  },
  {
   "cell_type": "code",
   "execution_count": null,
   "id": "a2ef7a56",
   "metadata": {
    "attributes": {
     "classes": [
      "py"
     ],
     "id": ""
    }
   },
   "outputs": [],
   "source": [
    "a = 0\n",
    "if a > 0:\n",
    "    print('A is a positive number')\n",
    "elif a < 0:\n",
    "    print('A is a negative number')\n",
    "else:\n",
    "    print('A is zero')"
   ]
  },
  {
   "cell_type": "markdown",
   "id": "5b94688a",
   "metadata": {},
   "source": [
    "### Short Hand"
   ]
  },
  {
   "cell_type": "code",
   "execution_count": null,
   "id": "9a4ecac8",
   "metadata": {
    "attributes": {
     "classes": [
      "py"
     ],
     "id": ""
    }
   },
   "outputs": [],
   "source": [
    "# syntax\n",
    "code if condition else code"
   ]
  },
  {
   "cell_type": "markdown",
   "id": "0873ae87",
   "metadata": {},
   "source": [
    "**Example:**"
   ]
  },
  {
   "cell_type": "code",
   "execution_count": null,
   "id": "776ebe1f",
   "metadata": {
    "attributes": {
     "classes": [
      "py"
     ],
     "id": ""
    }
   },
   "outputs": [],
   "source": [
    "a = 3\n",
    "print('A is positive') if a > 0 else print('A is negative') # first condition met, 'A is positive' will be printed"
   ]
  },
  {
   "cell_type": "markdown",
   "id": "bb083e04",
   "metadata": {},
   "source": [
    "### Nested Conditions\n",
    "\n",
    "Conditions can be nested"
   ]
  },
  {
   "cell_type": "code",
   "execution_count": null,
   "id": "2d20530e",
   "metadata": {
    "attributes": {
     "classes": [
      "py"
     ],
     "id": ""
    }
   },
   "outputs": [],
   "source": [
    "# syntax\n",
    "if condition:\n",
    "    code\n",
    "    if condition:\n",
    "    code"
   ]
  },
  {
   "cell_type": "markdown",
   "id": "c1889de2",
   "metadata": {},
   "source": [
    "**Example:**"
   ]
  },
  {
   "cell_type": "code",
   "execution_count": null,
   "id": "2e8923b8",
   "metadata": {
    "attributes": {
     "classes": [
      "py"
     ],
     "id": ""
    }
   },
   "outputs": [],
   "source": [
    "a = 0\n",
    "if a > 0:\n",
    "    if a % 2 == 0:\n",
    "        print('A is a positive and even integer')\n",
    "    else:\n",
    "        print('A is a positive number')\n",
    "elif a == 0:\n",
    "    print('A is zero')\n",
    "else:\n",
    "    print('A is a negative number')\n"
   ]
  },
  {
   "cell_type": "markdown",
   "id": "65bde9a0",
   "metadata": {},
   "source": [
    "We can avoid writing nested condition by using logical operator _and_.\n",
    "\n",
    "### If Condition and Logical Operators"
   ]
  },
  {
   "cell_type": "code",
   "execution_count": null,
   "id": "63696dc5",
   "metadata": {
    "attributes": {
     "classes": [
      "py"
     ],
     "id": ""
    }
   },
   "outputs": [],
   "source": [
    "# syntax\n",
    "if condition and condition:\n",
    "    code"
   ]
  },
  {
   "cell_type": "markdown",
   "id": "b36e10f0",
   "metadata": {},
   "source": [
    "**Example:**"
   ]
  },
  {
   "cell_type": "code",
   "execution_count": null,
   "id": "09f3e99c",
   "metadata": {
    "attributes": {
     "classes": [
      "py"
     ],
     "id": ""
    }
   },
   "outputs": [],
   "source": [
    "a = 0\n",
    "if a > 0 and a % 2 == 0:\n",
    "        print('A is an even and positive integer')\n",
    "elif a > 0 and a % 2 !=  0:\n",
    "     print('A is a positive integer')\n",
    "elif a == 0:\n",
    "    print('A is zero')\n",
    "else:\n",
    "    print('A is negative')"
   ]
  },
  {
   "cell_type": "markdown",
   "id": "cd6e3997",
   "metadata": {},
   "source": [
    "### If and Or Logical Operators"
   ]
  },
  {
   "cell_type": "code",
   "execution_count": null,
   "id": "858e73ef",
   "metadata": {
    "attributes": {
     "classes": [
      "py"
     ],
     "id": ""
    }
   },
   "outputs": [],
   "source": [
    "# syntax\n",
    "if condition or condition:\n",
    "    code"
   ]
  },
  {
   "cell_type": "markdown",
   "id": "12c4cc46",
   "metadata": {},
   "source": [
    "**Example:**"
   ]
  },
  {
   "cell_type": "code",
   "execution_count": null,
   "id": "cd4926a9",
   "metadata": {
    "attributes": {
     "classes": [
      "py"
     ],
     "id": ""
    }
   },
   "outputs": [],
   "source": [
    "user = 'James'\n",
    "access_level = 3\n",
    "if user == 'admin' or access_level >= 4:\n",
    "        print('Access granted!')\n",
    "else:\n",
    "    print('Access denied!')"
   ]
  },
  {
   "cell_type": "markdown",
   "id": "488dd3d6",
   "metadata": {},
   "source": [
    "🌕 You are doing great.Never give up because great things take time. You have just completed day 9 challenges and you are 9 steps a head in to your way to greatness. Now do some exercises for your brain and muscles.\n",
    "\n",
    "## 💻 Exercises: Day 9\n",
    "\n",
    "### Exercises: Level 1\n",
    "\n",
    "1. Get user input using input(“Enter your age: ”). If user is 18 or older, give feedback: You are old enough to drive. If below 18 give feedback to wait for the missing amount of years. Output:"
   ]
  },
  {
   "cell_type": "code",
   "execution_count": null,
   "id": "d326d738",
   "metadata": {},
   "outputs": [],
   "source": [
    "```sh\n",
    "Enter your age: 30\n",
    "You are old enough to learn to drive.\n",
    "Output:\n",
    "Enter your age: 15\n",
    "You need 3 more years to learn to drive.\n",
    "```"
   ]
  },
  {
   "cell_type": "markdown",
   "id": "ff7f5197",
   "metadata": {},
   "source": [
    "2. Compare the values of my_age and your_age using if … else. Who is older (me or you)? Use input(“Enter your age: ”) to get the age as input. You can use a nested condition to print 'year' for 1 year difference in age, 'years' for bigger differences, and a custom text if my_age = your_age. Output:"
   ]
  },
  {
   "cell_type": "code",
   "execution_count": null,
   "id": "0359b4c8",
   "metadata": {},
   "outputs": [],
   "source": [
    "```sh\n",
    "Enter your age: 30\n",
    "You are 5 years older than me.\n",
    "```"
   ]
  },
  {
   "cell_type": "markdown",
   "id": "a692c411",
   "metadata": {},
   "source": [
    "3. Get two numbers from the user using input prompt. If a is greater than b return a is greater than b, if a is less b return a is smaller than b, else a is equal to b. Output:"
   ]
  },
  {
   "cell_type": "code",
   "execution_count": null,
   "id": "4e4f0fb2",
   "metadata": {
    "attributes": {
     "classes": [
      "sh"
     ],
     "id": ""
    }
   },
   "outputs": [],
   "source": [
    "Enter number one: 4\n",
    "Enter number two: 3\n",
    "4 is greater than 3"
   ]
  },
  {
   "cell_type": "markdown",
   "id": "ed8fa02c",
   "metadata": {},
   "source": [
    "### Exercises: Level 2\n",
    "\n",
    "   1. Write a code which gives grade to students according to theirs scores:"
   ]
  },
  {
   "cell_type": "code",
   "execution_count": null,
   "id": "1df26414",
   "metadata": {},
   "outputs": [],
   "source": [
    "```sh\n",
    "80-100, A\n",
    "70-89, B\n",
    "60-69, C\n",
    "50-59, D\n",
    "0-49, F\n",
    "```"
   ]
  },
  {
   "cell_type": "markdown",
   "id": "ca2ab283",
   "metadata": {},
   "source": [
    "1. Check if the season is Autumn, Winter, Spring or Summer. If the user input is:\n",
    "    September, October or November, the season is Autumn.\n",
    "    December, January or February, the season is Winter.\n",
    "    March, April or May, the season is Spring\n",
    "    June, July or August, the season is Summer\n",
    "   2. The following list contains some fruits:"
   ]
  },
  {
   "cell_type": "code",
   "execution_count": null,
   "id": "b98556f9",
   "metadata": {},
   "outputs": [],
   "source": [
    "```sh\n",
    "fruits = ['banana', 'orange', 'mango', 'lemon']\n",
    "```\n",
    "\n",
    "If a fruit doesn't exist in the list add the fruit to the list and print the modified list. If the fruit exists print('That fruit already exist in the list')"
   ]
  },
  {
   "cell_type": "markdown",
   "id": "e31274c8",
   "metadata": {},
   "source": [
    "### Exercises: Level 3\n",
    "\n",
    "   1. Here we have a person dictionary. Feel free to modify it!"
   ]
  },
  {
   "cell_type": "code",
   "execution_count": null,
   "id": "c0c7b0e3",
   "metadata": {
    "attributes": {
     "classes": [
      "py"
     ],
     "id": ""
    }
   },
   "outputs": [],
   "source": [
    "        person={\n",
    "    'first_name': 'Asabeneh',\n",
    "    'last_name': 'Yetayeh',\n",
    "    'age': 250,\n",
    "    'country': 'Finland',\n",
    "    'is_marred': True,\n",
    "    'skills': ['JavaScript', 'React', 'Node', 'MongoDB', 'Python'],\n",
    "    'address': {\n",
    "        'street': 'Space street',\n",
    "        'zipcode': '02210'\n",
    "    }\n",
    "    }"
   ]
  },
  {
   "cell_type": "code",
   "execution_count": null,
   "id": "ed2e650d",
   "metadata": {},
   "outputs": [],
   "source": [
    "* Check if the person dictionary has skills key, if so print out the middle skill in the skills list.\n",
    "* Check if the person dictionary has skills key, if so check if the person has 'Python' skill and print out the result.\n",
    "* If a person skills has only JavaScript and React, print('He is a front end developer'), if the person skills has Node, Python, MongoDB, print('He is a backend developer'), if the person skills has React, Node and MongoDB, Print('He is a fullstack developer'), else print('unknown title') - for more accurate results more conditions can be nested!\n",
    "* If the person is married and if he lives in Finland, print the information in the following format:"
   ]
  },
  {
   "cell_type": "code",
   "execution_count": null,
   "id": "1389d4e3",
   "metadata": {
    "attributes": {
     "classes": [
      "py"
     ],
     "id": ""
    }
   },
   "outputs": [],
   "source": [
    "    Asabeneh Yetayeh lives in Finland. He is married."
   ]
  },
  {
   "cell_type": "markdown",
   "id": "37481198",
   "metadata": {},
   "source": [
    "🎉 CONGRATULATIONS ! 🎉\n",
    "\n",
    "[<< Day 8](../08_Day_Dictionaries/08_dictionaries.md) | [Day 10 >>](../10_Day_Loops/10_loops.md)"
   ]
  }
 ],
 "metadata": {},
 "nbformat": 4,
 "nbformat_minor": 5
}
