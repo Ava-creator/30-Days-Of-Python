{
 "cells": [
  {
   "cell_type": "markdown",
   "id": "3a2b8130",
   "metadata": {},
   "source": [
    "# 🐍 30 Days Of Python\n",
    "\n",
    "  <strong>Learn with Asabeneh by joining the upcoming [<em>CODING BOOTCAMP</em>](https://docs.google.com/forms/d/e/1FAIpQLSf0oNIYR9XU1DCctfl-pY36KbWse-SQX5aQaUgetqSinFYnmQ/viewform) </strong>\n",
    "\n",
    "|# Day | Topics                                                    |\n",
    "|------|:---------------------------------------------------------:|\n",
    "| 01  |  [Introduction](./readme.md)|\n",
    "| 02  |  [Variables, Built-in Functions](./02_Day_Variables_builtin_functions/02_variables_builtin_functions.md)|\n",
    "| 03  |  [Operators](./03_Day_Operators/03_operators.md)|\n",
    "| 04  |  [Strings](./04_Day_Strings/04_strings.md)|\n",
    "| 05  |  [Lists](./05_Day_Lists/05_lists.md)|\n",
    "| 06  |  [Tuples](./06_Day_Tuples/06_tuples.md)|\n",
    "| 07  |  [Sets](./07_Day_Sets/07_sets.md)|\n",
    "| 08  |  [Dictionaries](./08_Day_Dictionaries/08_dictionaries.md)|\n",
    "| 09  |  [Conditionals](./09_Day_Conditionals/09_conditionals.md)|\n",
    "| 10  |  [Loops](./10_Day_Loops/10_loops.md)|\n",
    "| 11  |  [Functions](./11_Day_Functions/11_functions.md)|\n",
    "| 12  |  [Modules](./12_Day_Modules/12_modules.md)|\n",
    "| 13  |  [List Comprehension](./13_Day_List_comprehension/13_list_comprehension.md)|\n",
    "| 14  |  [Higher Order Functions](./14_Day_Higher_order_functions/14_higher_order_functions.md)|\n",
    "| 15  |  [Python Type Errors](./15_Day_Python_type_errors/15_python_type_errors.md)|\n",
    "| 16 |  [Python Date time](./16_Day_Python_date_time/16_python_datetime.md) |\n",
    "| 17 |  [Exception Handling](./17_Day_Exception_handling/17_exception_handling.md)|\n",
    "| 18 |  [Regular Expressions](./18_Day_Regular_expressions/18_regular_expressions.md)|\n",
    "| 19 |  [File Handling](./19_Day_File_handling/19_file_handling.md)|\n",
    "| 20 |  [Python Package Manager](./20_Day_Python_package_manager/20_python_package_manager.md)|\n",
    "| 21 |  [Classes and Objects](./21_Day_Classes_and_objects/21_classes_and_objects.md)|\n",
    "| 22 |  [Web Scraping](./22_Day_Web_scraping/22_web_scraping.md)|\n",
    "| 23 |  [Virtual Environment](./23_Day_Virtual_environment/23_virtual_environment.md)|\n",
    "| 24 |  [Statistics](./24_Day_Statistics/24_statistics.md)|\n",
    "| 25 |  [Pandas](./25_Day_Pandas/25_pandas.md)|\n",
    "| 26 |  [Python web](./26_Day_Python_web/26_python_web.md)|\n",
    "| 27 |  [Python with MongoDB](./27_Day_Python_with_mongodb/27_python_with_mongodb.md)|\n",
    "| 28 |  [API](./28_Day_API/28_API.md)|\n",
    "| 29 |  [Building API](./29_Day_Building_API/29_building_API.md)|\n",
    "| 30 |  [Conclusions](./30_Day_Conclusions/30_conclusions.md)|\n",
    "\n",
    "  <strong>Learn with Asabeneh by joining the upcoming [<em>CODING BOOTCAMP</em>](https://docs.google.com/forms/d/e/1FAIpQLSf0oNIYR9XU1DCctfl-pY36KbWse-SQX5aQaUgetqSinFYnmQ/viewform) </strong>\n",
    "\n",
    "🧡🧡🧡 HAPPY CODING 🧡🧡🧡\n",
    "\n",
    "<div>\n",
    "<small>Support the <strong>author</strong> to create more educational materials</small> <br />  \n",
    "<a href = \"https://www.paypal.me/asabeneh\"><img src='./images/paypal_lg.png' alt='Paypal Logo' style=\"width:10%\"/></a>\n",
    "</div>\n",
    "\n",
    "<div align=\"center\">\n",
    "  <h1> 30 Days Of Python: Day 1 - Introduction</h1>\n",
    "  <a class=\"header-badge\" target=\"_blank\" href=\"https://www.linkedin.com/in/asabeneh/\">\n",
    "  <img src=\"https://img.shields.io/badge/style--5eba00.svg?label=LinkedIn&logo=linkedin&style=social\">\n",
    "  </a>\n",
    "  <a class=\"header-badge\" target=\"_blank\" href=\"https://twitter.com/Asabeneh\">\n",
    "  <img alt=\"Twitter Follow\" src=\"https://img.shields.io/twitter/follow/asabeneh?style=social\">\n",
    "  </a>\n",
    "\n",
    "  <sub>Author:\n",
    "  <a href=\"https://www.linkedin.com/in/asabeneh/\" target=\"_blank\">Oludayo adeoye</a><br>\n",
    "  <small> Second Edition: July, 2021</small>\n",
    "  </sub>\n",
    "</div>\n",
    "\n",
    "🇧🇷 [Portuguese](./Portuguese/README.md)\n",
    "🇨🇳 [中文](./Chinese/README.md)\n",
    "\n",
    "[Day 2 >>](./02_Day_Variables_builtin_functions/02_variables_builtin_functions.md)\n",
    "\n",
    "![30DaysOfPython](./images/30DaysOfPython_banner3@2x.png)\n",
    "\n",
    "- [🐍 30 Days Of Python](#-30-days-of-python)\n",
    "- [📘 Day 1](#-day-1)\n",
    "  - [Welcome](#welcome)\n",
    "  - [Introduction](#introduction)\n",
    "  - [Why Python ?](#why-python-)\n",
    "  - [Environment Setup](#environment-setup)\n",
    "    - [Installing Python](#installing-python)\n",
    "    - [Python Shell](#python-shell)\n",
    "    - [Installing Visual Studio Code](#installing-visual-studio-code)\n",
    "      - [How to use visual studio code](#how-to-use-visual-studio-code)\n",
    "  - [Basic Python](#basic-python)\n",
    "    - [Python Syntax](#python-syntax)\n",
    "    - [Python Indentation](#python-indentation)\n",
    "    - [Comments](#comments)\n",
    "    - [Data types](#data-types)\n",
    "      - [Number](#number)\n",
    "      - [String](#string)\n",
    "      - [Booleans](#booleans)\n",
    "      - [List](#list)\n",
    "      - [Dictionary](#dictionary)\n",
    "      - [Tuple](#tuple)\n",
    "      - [Set](#set)\n",
    "    - [Checking Data types](#checking-data-types)\n",
    "    - [Python File](#python-file)\n",
    "  - [💻 Exercises - Day 1](#-exercises---day-1)\n",
    "    - [Exercise: Level 1](#exercise-level-1)\n",
    "    - [Exercise: Level 2](#exercise-level-2)\n",
    "    - [Exercise: Level 3](#exercise-level-3)\n",
    "\n",
    "# 📘 Day 1\n",
    "\n",
    "## Welcome\n",
    "\n",
    "**Congratulations** for deciding to participate in a _30 days of Python_ programming challenge. In this challenge, you will learn everything you need to be a python programmer and the whole concept of programming. At the end of the challenge, you will get a _30DaysOfPython_ programming challenge certificate.\n",
    "\n",
    "If you would like to actively engage in the challenge, you may join the [30DaysOfPython challenge](https://t.me/ThirtyDaysOfPython) telegram group.  \n",
    "\n",
    "## Introduction\n",
    "\n",
    "Python is a high-level programming language for general-purpose programming. It is an open source, interpreted, objected-oriented programming language. Python was created by a Dutch programmer, Guido van Rossum. The name of the Python programming language was derived from a British sketch comedy series, *Monty Python's Flying Circus*.  The first version was released on February 20, 1991. This 30 days of Python challenge will help you learn the latest version of Python, Python 3 step by step. The topics are broken down into 30 days, where each day contains several topics with easy-to-understand explanations, real-world examples, and many hands on exercises and projects.\n",
    "\n",
    "This challenge is designed for beginners and professionals who want to learn python programming language. It may take 30 to 100 days to complete the challenge. People who actively participate in the telegram group have a high probability of completing the challenge.\n",
    "\n",
    "This challenge is easy to read, written in conversational English, engaging, motivating and at the same time, it is very demanding. You need to allocate much time to finish this challenge. If you are a visual learner, you may get the video lesson on <a href=\"https://www.youtube.com/channel/UC7PNRuno1rzYPb1xLa4yktw\"> Washera</a> YouTube channel. You may start from [Python for Absolute Beginners video](https://youtu.be/OCCWZheOesI). Subscribe the channel, comment and ask questions on YouTube vidoes and be proactive, the author will eventually notice you.\n",
    "\n",
    "The author likes to hear your opinion about the challenge, share the author by expressing your thoughts about the 30DaysOfPython challenge. You can leave your testimonial on this [link](https://www.asabeneh.com/testimonials)\n",
    "\n",
    "## Why Python ?\n",
    "\n",
    "It is a programming language which is very close to human language and because of that, it is easy to learn and use.\n",
    "Python is used by various industries and companies (including Google). It has been used to develop web applications, desktop applications, system administration, and machine learning libraries. Python is a highly embraced language in the data science and machine learning community. I hope this is enough to convince you to start learning Python. Python is eating the world and you are killing it before it eats you.\n",
    "\n",
    "## Environment Setup\n",
    "\n",
    "### Installing Python\n",
    "\n",
    "To run a python script you need to install python. Let's [download](https://www.python.org/) python.\n",
    "If your are a windows user. Click the button encircled in red.\n",
    "\n",
    "[![installing on Windows](./images/installing_on_windows.png)](https://www.python.org/)\n",
    "\n",
    "If you are a macOS user. Click the button encircled in red.\n",
    "\n",
    "[![installing on Windows](./images/installing_on_macOS.png)](https://www.python.org/)\n",
    "\n",
    "To check if python is installed write the following command on your device terminal."
   ]
  },
  {
   "cell_type": "code",
   "execution_count": null,
   "id": "4b626dcf",
   "metadata": {
    "attributes": {
     "classes": [
      "shell"
     ],
     "id": ""
    }
   },
   "outputs": [],
   "source": [
    "python --version"
   ]
  },
  {
   "cell_type": "markdown",
   "id": "b19de476",
   "metadata": {},
   "source": [
    "![Python Version](./images/python_versio.png)\n",
    "\n",
    "As you can see from the terminal, I am using _Python 3.7.5_ version at the moment. Your version of Python might be different from mine by but it should be 3.6 or above. If you mange to see the python version, well done. Python has been installed on your machine. Continue to the next section.\n",
    "\n",
    "### Python Shell\n",
    "\n",
    "Python is an interpreted scripting language, so it does not need to be compiled. It means it executes the code line by line. Python comes with a _Python Shell (Python Interactive Shell)_. It is used to execute a single python command and get the result.\n",
    "\n",
    "Python Shell waits for the Python code from the user. When you enter the code, it interprets the code and shows the result in the next line.\n",
    "Open your terminal or command prompt(cmd) and write:"
   ]
  },
  {
   "cell_type": "code",
   "execution_count": null,
   "id": "f258ba68",
   "metadata": {
    "attributes": {
     "classes": [
      "shell"
     ],
     "id": ""
    }
   },
   "outputs": [],
   "source": [
    "python"
   ]
  },
  {
   "cell_type": "markdown",
   "id": "9efdead0",
   "metadata": {},
   "source": [
    "![Python Scripting Shell](./images/opening_python_shell.png)\n",
    "\n",
    "The Python interactive shell is opened and it is waiting for you to write Python code(Python script). You will write your Python script next to this symbol >>> and then click Enter.\n",
    "Let us write our very first script on the Python scripting shell.\n",
    "\n",
    "![Python script on Python shell](./images/adding_on_python_shell.png)\n",
    "\n",
    "Well done, you wrote your first Python script on Python interactive shell. How do we close the Python interactive shell ?\n",
    "To close the shell, next to this symbol >> write **exit()** command and press Enter.\n",
    "\n",
    "![Exit from python shell](./images/exit_from_shell.png)\n",
    "\n",
    "Now, you know how to open the Python interactive shell and how to exit from it.\n",
    "\n",
    "Python will give you results if you write scripts that Python understands, if not it returns errors. Let's make a deliberate mistake and see what Python will return.\n",
    "\n",
    "![Invalid Syntax Error](./images/invalid_syntax_error.png)\n",
    "\n",
    "As you can see from the returned error, Python is so clever that it knows the mistake we made and which was _Syntax Error: invalid syntax_. Using x as multiplication in Python is a syntax error because (x) is not a valid syntax in Python. Instead of (**x**) we use asterisk (*) for multiplication. The returned error clearly shows what to fix.\n",
    "\n",
    "The process of identifying and removing errors from a program is called _debugging_. Let us debug it by putting * in place of **x**.\n",
    "\n",
    "![Fixing Syntax Error](./images/fixing_syntax_error.png)\n",
    "\n",
    "Our bug was fixed, the code ran and we got a result we were expecting. As a programmer you will see such kind of errors on daily basis. It is good to know how to debug. To be good at debugging you should understand what kind of errors you are facing. Some of the Python errors you may encounter are _SyntaxError_, _IndexError_, _NameError_, _ModuleNotFoundError_, _KeyError_, _ImportError_, _AttributeError_, _TypeError_, _ValueError_, _ZeroDivisionError_ etc. We will see more about different Python **_error types_** in later sections.\n",
    "\n",
    "Let us practice more how to use Python interactive shell. Go to your terminal or command prompt and write the word **python**.\n",
    "\n",
    "![Python Scripting Shell](./images/opening_python_shell.png)\n",
    "\n",
    "The Python interactive shell is opened. Let us do some basic mathematical operations (addition, subtraction, multiplication, division, modulus,  exponential).\n",
    "\n",
    "Let us do some maths first before we write any Python code:\n",
    "\n",
    "- 2 + 3 is 5\n",
    "- 3 - 2 is 1\n",
    "- 3 \\* 2 is 6\n",
    "- 3 / 2 is 1.5\n",
    "- 3 ** 2 is the same as 3 * 3\n",
    "\n",
    "In python we have the following additional operations:\n",
    "\n",
    "- 3 % 2 = 1 => which means finding the remainder\n",
    "- 3 // 2 = 1 => which means removing the remainder\n",
    "\n",
    "Let us change the above mathematical expressions to Python code. The Python shell has been opened and let us write a comment at the very beginning of the shell.\n",
    "\n",
    "A _comment_ is a part of the code which is not executed by python. So we can leave some text in our code to make our code more readable. Python does not run the comment part. A comment in python starts with hash(#) symbol.\n",
    "This is how you write a comment in python"
   ]
  },
  {
   "cell_type": "code",
   "execution_count": null,
   "id": "4f386cb0",
   "metadata": {
    "attributes": {
     "classes": [
      "shell"
     ],
     "id": ""
    }
   },
   "outputs": [],
   "source": [
    " # comment starts with hash\n",
    " # this is a python comment, because it starts with a (#) symbol"
   ]
  },
  {
   "cell_type": "markdown",
   "id": "f5a71d13",
   "metadata": {},
   "source": [
    "![Maths on python shell](./images/maths_on_python_shell.png)\n",
    "\n",
    "Before we move on to the next section, let us practice more on the Python interactive shell. Close the opened shell by writing _exit()_ on the shell and open it again and let us practice how to write text on the Python shell.\n",
    "\n",
    "![Writing String on python shell](./images/writing_string_on_shell.png)\n",
    "\n",
    "### Installing Visual Studio Code\n",
    "\n",
    "The Python interactive shell is good to try and test small script codes but it will not be for a big project. In real work environment, developers use different code editors to write codes. In this 30 days of Python programming challenge we will use visual studio code. Visual studio code is a very popular open source text editor. I am a fan of vscode and I would recommend to [download](https://code.visualstudio.com/) visual studio code, but if you are in favor of other editors, feel free to follow with what you have.\n",
    "\n",
    "[![Visual Studio Code](./images/vscode.png)](https://code.visualstudio.com/)\n",
    "\n",
    "If you installed visual studio code, let us see how to use it.\n",
    "If you prefer a video, you can follow this Visual Studio Code for Python [Video tutorial](https://www.youtube.com/watch?v=bn7Cx4z-vSo)\n",
    "\n",
    "#### How to use visual studio code\n",
    "\n",
    "Open the visual studio code by double clicking the visual studio icon. When you open it you will get this kind of interface. Try to interact with the labeled icons.\n",
    "\n",
    "![Visual studio Code](./images/vscode_ui.png)\n",
    "\n",
    "Create a folder named 30DaysOfPython on your desktop. Then open it using visual studio code.\n",
    "\n",
    "![Opening Project on Visual studio](./images/how_to_open_project_on_vscode.png)\n",
    "\n",
    "![Opening a project](./images/opening_project.png)\n",
    "\n",
    "After opening it you will see shortcuts for creating files and folders inside of 30DaysOfPython project's directory. As you can see below, I have created the very first file, helloworld.py. You can do the same.\n",
    "\n",
    "![Creating a python file](./images/helloworld.png)\n",
    "\n",
    "After a long day of coding, you want to close your code editor, right? This is how you will close the opened project.\n",
    "\n",
    "![Closing project](./images/closing_opened_project.png)\n",
    "\n",
    "Congratulations, you have finished setting up the development environment. Let us start coding.\n",
    "\n",
    "## Basic Python\n",
    "\n",
    "### Python Syntax\n",
    "\n",
    "A Python script can be written in Python interactive shell or in the code editor. A Python file has an extension .py.\n",
    "\n",
    "### Python Indentation\n",
    "\n",
    "An indentation is a white space in a text. Indentation in many languages is used to increase code readability; however, Python uses indentation to create blocks of code. In other programming languages, curly brackets are used to create code blocks instead of indentation. One of the common bugs when writing Python code is incorrect indentation.\n",
    "\n",
    "![Indentation Error](./images/indentation.png)\n",
    "\n",
    "### Comments\n",
    "\n",
    "Comments play a crucial role in enhancing code readability and allowing developers to leave notes within their code. In Python, any text preceded by a hash (#) symbol is considered a comment and is not executed when the code runs.\n",
    "\n",
    "**Example: Single Line Comment**"
   ]
  },
  {
   "cell_type": "code",
   "execution_count": null,
   "id": "eb0d1878",
   "metadata": {
    "attributes": {
     "classes": [
      "shell"
     ],
     "id": ""
    }
   },
   "outputs": [],
   "source": [
    "    # This is the first comment\n",
    "    # This is the second comment\n",
    "    # Python is eating the world"
   ]
  },
  {
   "cell_type": "markdown",
   "id": "77f7695e",
   "metadata": {},
   "source": [
    "**Example: Multiline Comment**\n",
    "\n",
    "Triple quote can be used for multiline comment if it is not assigned to a variable"
   ]
  },
  {
   "cell_type": "code",
   "execution_count": null,
   "id": "5a00df37",
   "metadata": {
    "attributes": {
     "classes": [
      "shell"
     ],
     "id": ""
    }
   },
   "outputs": [],
   "source": [
    "\"\"\"This is multiline comment\n",
    "multiline comment takes multiple lines.\n",
    "python is eating the world\n",
    "\"\"\""
   ]
  },
  {
   "cell_type": "markdown",
   "id": "5b28229d",
   "metadata": {},
   "source": [
    "### Data types\n",
    "\n",
    "In Python there are several types of data types. Let us get started with the most common ones. Different data types will be covered in detail in other sections. For the time being, let us just go through the different data types and get familiar with them. You do not have to have a clear understanding now.\n",
    "\n",
    "#### Number\n",
    "\n",
    "- Integer: Integer(negative, zero and positive) numbers\n",
    "    Example:\n",
    "    ... -3, -2, -1, 0, 1, 2, 3 ...\n",
    "- Float: Decimal number\n",
    "    Example\n",
    "    ... -3.5, -2.25, -1.0, 0.0, 1.1, 2.2, 3.5 ...\n",
    "- Complex\n",
    "    Example\n",
    "    1 + j, 2 + 4j\n",
    "\n",
    "#### String\n",
    "\n",
    "A collection of one or more characters under a single or double quote. If a string is more than one sentence then we use a triple quote.\n",
    "\n",
    "**Example:**"
   ]
  },
  {
   "cell_type": "code",
   "execution_count": null,
   "id": "4c989ec8",
   "metadata": {
    "attributes": {
     "classes": [
      "py"
     ],
     "id": ""
    }
   },
   "outputs": [],
   "source": [
    "'Asabeneh'\n",
    "'Finland'\n",
    "'Python'\n",
    "'I love teaching'\n",
    "'I hope you are enjoying the first day of 30DaysOfPython Challenge'"
   ]
  },
  {
   "cell_type": "markdown",
   "id": "35d0389e",
   "metadata": {},
   "source": [
    "#### Booleans\n",
    "\n",
    "A boolean data type is either a True or False value. T and F should be always uppercase.\n",
    "\n",
    "**Example:**"
   ]
  },
  {
   "cell_type": "code",
   "execution_count": null,
   "id": "40876868",
   "metadata": {},
   "outputs": [],
   "source": [
    "    True  #  Is the light on? If it is on, then the value is True\n",
    "    False # Is the light on? If it is off, then the value is False"
   ]
  },
  {
   "cell_type": "markdown",
   "id": "dc305ae9",
   "metadata": {},
   "source": [
    "#### List\n",
    "\n",
    "Python list is an ordered collection which allows to store different data type items. A list is similar to an array in JavaScript.\n",
    "\n",
    "**Example:**"
   ]
  },
  {
   "cell_type": "code",
   "execution_count": null,
   "id": "a968559e",
   "metadata": {
    "attributes": {
     "classes": [
      "py"
     ],
     "id": ""
    }
   },
   "outputs": [],
   "source": [
    "[0, 1, 2, 3, 4, 5]  # all are the same data types - a list of numbers\n",
    "['Banana', 'Orange', 'Mango', 'Avocado'] # all the same data types - a list of strings (fruits)\n",
    "['Finland','Estonia', 'Sweden','Norway'] # all the same data types - a list of strings (countries)\n",
    "['Banana', 10, False, 9.81] # different data types in the list - string, integer, boolean and float"
   ]
  },
  {
   "cell_type": "markdown",
   "id": "b7db344b",
   "metadata": {},
   "source": [
    "#### Dictionary\n",
    "\n",
    "A Python dictionary object is an unordered collection of data in a key value pair format.\n",
    "\n",
    "**Example:**"
   ]
  },
  {
   "cell_type": "code",
   "execution_count": null,
   "id": "efffe374",
   "metadata": {
    "attributes": {
     "classes": [
      "py"
     ],
     "id": ""
    }
   },
   "outputs": [],
   "source": [
    "{\n",
    "'first_name':'Asabeneh',\n",
    "'last_name':'Yetayeh',\n",
    "'country':'Finland', \n",
    "'age':250, \n",
    "'is_married':True,\n",
    "'skills':['JS', 'React', 'Node', 'Python']\n",
    "}"
   ]
  },
  {
   "cell_type": "markdown",
   "id": "5a3ff4d5",
   "metadata": {},
   "source": [
    "#### Tuple\n",
    "\n",
    "A tuple is an ordered collection of different data types like list but tuples can not be modified once they are created. They are immutable.\n",
    "\n",
    "**Example:**"
   ]
  },
  {
   "cell_type": "code",
   "execution_count": null,
   "id": "5f8ba53f",
   "metadata": {
    "attributes": {
     "classes": [
      "py"
     ],
     "id": ""
    }
   },
   "outputs": [],
   "source": [
    "('Asabeneh', 'Pawel', 'Brook', 'Abraham', 'Lidiya') # Names"
   ]
  },
  {
   "cell_type": "code",
   "execution_count": null,
   "id": "b79a4e71",
   "metadata": {
    "attributes": {
     "classes": [
      "py"
     ],
     "id": ""
    }
   },
   "outputs": [],
   "source": [
    "('Earth', 'Jupiter', 'Neptune', 'Mars', 'Venus', 'Saturn', 'Uranus', 'Mercury') # planets"
   ]
  },
  {
   "cell_type": "markdown",
   "id": "e7dcb7c5",
   "metadata": {},
   "source": [
    "#### Set\n",
    "\n",
    "A set is a collection of data types similar to list and tuple. Unlike list and tuple, set is not an ordered collection of items. Like in Mathematics, set in Python stores only unique items.\n",
    "\n",
    "In later sections, we will go in detail about each and every Python data type.\n",
    "\n",
    "**Example:**"
   ]
  },
  {
   "cell_type": "code",
   "execution_count": null,
   "id": "a11ba90a",
   "metadata": {
    "attributes": {
     "classes": [
      "py"
     ],
     "id": ""
    }
   },
   "outputs": [],
   "source": [
    "{2, 4, 3, 5}\n",
    "{3.14, 9.81, 2.7} # order is not important in set"
   ]
  },
  {
   "cell_type": "markdown",
   "id": "5e2f597f",
   "metadata": {},
   "source": [
    "### Checking Data types\n",
    "\n",
    "To check the data type of certain data/variable we use the **type** function. In the following terminal you will see different python data types:\n",
    "\n",
    "![Checking Data types](./images/checking_data_types.png)\n",
    "\n",
    "### Python File\n",
    "\n",
    "First open your project folder, 30DaysOfPython. If you don't have this folder, create a folder name called 30DaysOfPython. Inside this folder, create a file called helloworld.py. Now, let's do what we did on python interactive shell using visual studio code.\n",
    "\n",
    "The Python interactive shell was printing without using **print** but on visual studio code to see our result we should use a built in function _print(). The _print()_ built-in function takes one or more arguments as follows _print('arument1', 'argument2', 'argument3')_. See the examples below.\n",
    "\n",
    "**Example:**\n",
    "\n",
    "The file name is helloworld.py"
   ]
  },
  {
   "cell_type": "code",
   "execution_count": null,
   "id": "400f84e3",
   "metadata": {
    "attributes": {
     "classes": [
      "py"
     ],
     "id": ""
    }
   },
   "outputs": [],
   "source": [
    "# Day 1 - 30DaysOfPython Challenge\n",
    "\n",
    "print(2 + 3)             # addition(+)\n",
    "print(3 - 1)             # subtraction(-)\n",
    "print(2 * 3)             # multiplication(*)\n",
    "print(3 / 2)             # division(/)\n",
    "print(3 ** 2)            # exponential(**)\n",
    "print(3 % 2)             # modulus(%)\n",
    "print(3 // 2)            # Floor division operator(//)\n",
    "\n",
    "# Checking data types\n",
    "print(type(10))          # Int\n",
    "print(type(3.14))        # Float\n",
    "print(type(1 + 3j))      # Complex number\n",
    "print(type('Asabeneh'))  # String\n",
    "print(type([1, 2, 3]))   # List\n",
    "print(type({'name':'Asabeneh'})) # Dictionary\n",
    "print(type({9.8, 3.14, 2.7}))    # Set\n",
    "print(type((9.8, 3.14, 2.7)))    # Tuple"
   ]
  },
  {
   "cell_type": "markdown",
   "id": "650e2382",
   "metadata": {},
   "source": [
    "To run the python file check the image below. You can run the python file either by running the green button on Visual Studio Code or by typing _python helloworld.py_ in the terminal .\n",
    "\n",
    "![Running python script](./images/running_python_script.png)\n",
    "\n",
    "🌕  You are amazing. You have just completed day 1 challenge and you are on your way to greatness. Now do some exercises for your brain and muscles.\n",
    "\n",
    "## 💻 Exercises - Day 1\n",
    "\n",
    "### Exercise: Level 1\n",
    "\n",
    "1. Check the python version you are using\n",
    "2. Open the python interactive shell and do the following operations. The operands are 3 and 4.\n",
    "   - addition(+)\n",
    "   - subtraction(-)\n",
    "   - multiplication(\\*)\n",
    "   - modulus(%)\n",
    "   - division(/)\n",
    "   - exponential(\\*\\*)\n",
    "   - floor division operator(//)\n",
    "3. Write strings on the python interactive shell. The strings are the following:\n",
    "   - Your name\n",
    "   - Your family name\n",
    "   - Your country\n",
    "   - I am enjoying 30 days of python\n",
    "4. Check the data types of the following data:\n",
    "   - 10\n",
    "   - 9.8\n",
    "   - 3.14\n",
    "   - 4 - 4j\n",
    "   - ['Asabeneh', 'Python', 'Finland']\n",
    "   - Your name\n",
    "   - Your family name\n",
    "   - Your country\n",
    "\n",
    "### Exercise: Level 2\n",
    "\n",
    "1. Create a folder named day_1 inside 30DaysOfPython folder. Inside day_1 folder, create a python file helloworld.py and repeat questions 1, 2, 3 and 4. Remember to use _print()_ when you are working on a python file. Navigate to the directory where you have saved your file, and run it.\n",
    "\n",
    "### Exercise: Level 3\n",
    "\n",
    "1. Write an example for different Python data types such as Number(Integer, Float, Complex), String, Boolean, List, Tuple, Set and Dictionary.\n",
    "2. Find an [Euclidian distance](https://en.wikipedia.org/wiki/Euclidean_distance#:~:text=In%20mathematics%2C%20the%20Euclidean%20distance,being%20called%20the%20Pythagorean%20distance.) between (2, 3) and (10, 8)\n",
    "\n",
    "🎉 CONGRATULATIONS ! 🎉\n",
    "\n",
    "[Day 2 >>](./02_Day_Variables_builtin_functions/02_variables_builtin_functions.md)"
   ]
  }
 ],
 "metadata": {},
 "nbformat": 4,
 "nbformat_minor": 5
}
