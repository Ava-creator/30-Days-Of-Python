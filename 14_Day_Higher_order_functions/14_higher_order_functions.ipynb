{
 "cells": [
  {
   "cell_type": "markdown",
   "id": "970d2218",
   "metadata": {},
   "source": [
    "<div align=\"center\">\n",
    "  <h1> 30 Days Of Python: Day 14 - Higher Order Functions</h1>\n",
    "  <a class=\"header-badge\" target=\"_blank\" href=\"https://www.linkedin.com/in/asabeneh/\">\n",
    "  <img src=\"https://img.shields.io/badge/style--5eba00.svg?label=LinkedIn&logo=linkedin&style=social\">\n",
    "  </a>\n",
    "  <a class=\"header-badge\" target=\"_blank\" href=\"https://twitter.com/Asabeneh\">\n",
    "  <img alt=\"Twitter Follow\" src=\"https://img.shields.io/twitter/follow/asabeneh?style=social\">\n",
    "  </a>\n",
    "\n",
    "  <sub>Author:\n",
    "  <a href=\"https://www.linkedin.com/in/asabeneh/\" target=\"_blank\">Asabeneh Yetayeh</a><br>\n",
    "  <small>Second Edition: July, 2021</small>\n",
    "  </sub>\n",
    "</div>\n",
    "</div>\n",
    "\n",
    "[<< Day 13](../13_Day_List_comprehension/13_list_comprehension.md) | [Day 15>>](../15_Day_Python_type_errors/15_python_type_errors.md)\n",
    "\n",
    "![30DaysOfPython](../images/30DaysOfPython_banner3@2x.png)\n",
    "- [📘 Day 14](#-day-14)\n",
    "  - [Higher Order Functions](#higher-order-functions)\n",
    "    - [Function as a Parameter](#function-as-a-parameter)\n",
    "    - [Function as a Return Value](#function-as-a-return-value)\n",
    "  - [Python Closures](#python-closures)\n",
    "  - [Python Decorators](#python-decorators)\n",
    "    - [Creating Decorators](#creating-decorators)\n",
    "    - [Applying Multiple Decorators to a Single Function](#applying-multiple-decorators-to-a-single-function)\n",
    "    - [Accepting Parameters in Decorator Functions](#accepting-parameters-in-decorator-functions)\n",
    "  - [Built-in Higher Order Functions](#built-in-higher-order-functions)\n",
    "    - [Python - Map Function](#python---map-function)\n",
    "    - [Python - Filter Function](#python---filter-function)\n",
    "    - [Python - Reduce Function](#python---reduce-function)\n",
    "  - [💻 Exercises: Day 14](#-exercises-day-14)\n",
    "    - [Exercises: Level 1](#exercises-level-1)\n",
    "    - [Exercises: Level 2](#exercises-level-2)\n",
    "    - [Exercises: Level 3](#exercises-level-3)\n",
    "\n",
    "# 📘 Day 14\n",
    "\n",
    "## Higher Order Functions\n",
    "\n",
    "In Python functions are treated as first class citizens, allowing you to perform the following operations on functions:\n",
    "\n",
    "- A function can take one or more functions as parameters\n",
    "- A function can be returned as a result of another function\n",
    "- A function can be modified\n",
    "- A function can be assigned to a variable\n",
    "\n",
    "In this section, we will cover:\n",
    "\n",
    "1. Handling functions as parameters\n",
    "2. Returning functions as return value from another functions\n",
    "3. Using Python closures and decorators\n",
    "\n",
    "### Function as a Parameter"
   ]
  },
  {
   "cell_type": "code",
   "execution_count": null,
   "id": "89304133",
   "metadata": {
    "attributes": {
     "classes": [
      "py"
     ],
     "id": ""
    }
   },
   "outputs": [],
   "source": [
    "def sum_numbers(nums):  # normal function\n",
    "    return sum(nums)    # a sad function abusing the built-in sum function :<\n",
    "\n",
    "def higher_order_function(f, lst):  # function as a parameter\n",
    "    summation = f(lst)\n",
    "    return summation\n",
    "result = higher_order_function(sum_numbers, [1, 2, 3, 4, 5])\n",
    "print(result)       # 15"
   ]
  },
  {
   "cell_type": "markdown",
   "id": "011490f0",
   "metadata": {},
   "source": [
    "### Function as a Return Value"
   ]
  },
  {
   "cell_type": "code",
   "execution_count": null,
   "id": "282c4982",
   "metadata": {
    "attributes": {
     "classes": [
      "py"
     ],
     "id": ""
    }
   },
   "outputs": [],
   "source": [
    "def square(x):          # a square function\n",
    "    return x ** 2\n",
    "\n",
    "def cube(x):            # a cube function\n",
    "    return x ** 3\n",
    "\n",
    "def absolute(x):        # an absolute value function\n",
    "    if x >= 0:\n",
    "        return x\n",
    "    else:\n",
    "        return -(x)\n",
    "\n",
    "def higher_order_function(type): # a higher order function returning a function\n",
    "    if type == 'square':\n",
    "        return square\n",
    "    elif type == 'cube':\n",
    "        return cube\n",
    "    elif type == 'absolute':\n",
    "        return absolute\n",
    "\n",
    "result = higher_order_function('square')\n",
    "print(result(3))       # 9\n",
    "result = higher_order_function('cube')\n",
    "print(result(3))       # 27\n",
    "result = higher_order_function('absolute')\n",
    "print(result(-3))      # 3"
   ]
  },
  {
   "cell_type": "markdown",
   "id": "45b0e986",
   "metadata": {},
   "source": [
    "You can see from the above example that the higher order function is returning different functions depending on the passed parameter\n",
    "\n",
    "## Python Closures\n",
    "\n",
    "Python allows a nested function to access the outer scope of the enclosing function. This is is known as a Closure. Let us have a look at how closures work in Python. In Python, closure is created by nesting a function inside another encapsulating function and then returning the inner function. See the example below.\n",
    "\n",
    "**Example:**"
   ]
  },
  {
   "cell_type": "code",
   "execution_count": null,
   "id": "753f5b16",
   "metadata": {
    "attributes": {
     "classes": [
      "py"
     ],
     "id": ""
    }
   },
   "outputs": [],
   "source": [
    "def add_ten():\n",
    "    ten = 10\n",
    "    def add(num):\n",
    "        return num + ten\n",
    "    return add\n",
    "\n",
    "closure_result = add_ten()\n",
    "print(closure_result(5))  # 15\n",
    "print(closure_result(10))  # 20"
   ]
  },
  {
   "cell_type": "markdown",
   "id": "78da4559",
   "metadata": {},
   "source": [
    "## Python Decorators\n",
    "\n",
    "A decorator is a design pattern in Python that allows a user to add new functionality to an existing object without modifying its structure. Decorators are usually called before the definition of a function you want to decorate.\n",
    "\n",
    "### Creating Decorators\n",
    "\n",
    "To create a decorator function, we need an outer function with an inner wrapper function.\n",
    "\n",
    "**Example:**"
   ]
  },
  {
   "cell_type": "code",
   "execution_count": null,
   "id": "5624037b",
   "metadata": {
    "attributes": {
     "classes": [
      "py"
     ],
     "id": ""
    }
   },
   "outputs": [],
   "source": [
    "# Normal function\n",
    "def greeting():\n",
    "    return 'Welcome to Python'\n",
    "def uppercase_decorator(function):\n",
    "    def wrapper():\n",
    "        func = function()\n",
    "        make_uppercase = func.upper()\n",
    "        return make_uppercase\n",
    "    return wrapper\n",
    "g = uppercase_decorator(greeting)\n",
    "print(g())          # WELCOME TO PYTHON\n",
    "\n",
    "## Let us implement the example above with a decorator\n",
    "\n",
    "'''This decorator function is a higher order function\n",
    "that takes a function as a parameter'''\n",
    "def uppercase_decorator(function):\n",
    "    def wrapper():\n",
    "        func = function()\n",
    "        make_uppercase = func.upper()\n",
    "        return make_uppercase\n",
    "    return wrapper\n",
    "@uppercase_decorator\n",
    "def greeting():\n",
    "    return 'Welcome to Python'\n",
    "print(greeting())   # WELCOME TO PYTHON\n"
   ]
  },
  {
   "cell_type": "markdown",
   "id": "d273d176",
   "metadata": {},
   "source": [
    "### Applying Multiple Decorators to a Single Function"
   ]
  },
  {
   "cell_type": "code",
   "execution_count": null,
   "id": "2533372d",
   "metadata": {
    "attributes": {
     "classes": [
      "py"
     ],
     "id": ""
    }
   },
   "outputs": [],
   "source": [
    "\n",
    "'''These decorator functions are higher order functions\n",
    "that take functions as parameters'''\n",
    "\n",
    "# First Decorator\n",
    "def uppercase_decorator(function):\n",
    "    def wrapper():\n",
    "        func = function()\n",
    "        make_uppercase = func.upper()\n",
    "        return make_uppercase\n",
    "    return wrapper\n",
    "\n",
    "# Second decorator\n",
    "def split_string_decorator(function):\n",
    "    def wrapper():\n",
    "        func = function()\n",
    "        splitted_string = func.split()\n",
    "        return splitted_string\n",
    "\n",
    "    return wrapper\n",
    "\n",
    "@split_string_decorator\n",
    "@uppercase_decorator     # order with decorators is important in this case - .upper() function does not work with lists\n",
    "def greeting():\n",
    "    return 'Welcome to Python'\n",
    "print(greeting())   # WELCOME TO PYTHON"
   ]
  },
  {
   "cell_type": "markdown",
   "id": "a84d65fc",
   "metadata": {},
   "source": [
    "### Accepting Parameters in Decorator Functions\n",
    "\n",
    "Most of the time we need our functions to take parameters, so we might need to define a decorator that accepts parameters."
   ]
  },
  {
   "cell_type": "code",
   "execution_count": null,
   "id": "c5bd9a85",
   "metadata": {
    "attributes": {
     "classes": [
      "py"
     ],
     "id": ""
    }
   },
   "outputs": [],
   "source": [
    "def decorator_with_parameters(function):\n",
    "    def wrapper_accepting_parameters(para1, para2, para3):\n",
    "        function(para1, para2, para3)\n",
    "        print(\"I live in {}\".format(para3))\n",
    "    return wrapper_accepting_parameters\n",
    "\n",
    "@decorator_with_parameters\n",
    "def print_full_name(first_name, last_name, country):\n",
    "    print(\"I am {} {}. I love to teach.\".format(\n",
    "        first_name, last_name, country))\n",
    "\n",
    "print_full_name(\"Asabeneh\", \"Yetayeh\",'Finland')"
   ]
  },
  {
   "cell_type": "markdown",
   "id": "4d6317a3",
   "metadata": {},
   "source": [
    "## Built-in Higher Order Functions\n",
    "\n",
    "Some of the built-in higher order functions that we cover in this part are _map()_, _filter_, and _reduce_.\n",
    "Lambda function can be passed as a parameter and the best use case of lambda functions is in functions like map, filter and reduce.\n",
    "\n",
    "### Python - Map Function\n",
    "\n",
    "The map() function is a built-in function that takes a function and iterable as parameters."
   ]
  },
  {
   "cell_type": "code",
   "execution_count": null,
   "id": "a9a95bb7",
   "metadata": {
    "attributes": {
     "classes": [
      "py"
     ],
     "id": ""
    }
   },
   "outputs": [],
   "source": [
    "    # syntax\n",
    "    map(function, iterable)"
   ]
  },
  {
   "cell_type": "markdown",
   "id": "465ea902",
   "metadata": {},
   "source": [
    "**Example:1**"
   ]
  },
  {
   "cell_type": "code",
   "execution_count": null,
   "id": "0499b42b",
   "metadata": {
    "attributes": {
     "classes": [
      "py"
     ],
     "id": ""
    }
   },
   "outputs": [],
   "source": [
    "numbers = [1, 2, 3, 4, 5] # iterable\n",
    "def square(x):\n",
    "    return x ** 2\n",
    "numbers_squared = map(square, numbers)\n",
    "print(list(numbers_squared))    # [1, 4, 9, 16, 25]\n",
    "# Lets apply it with a lambda function\n",
    "numbers_squared = map(lambda x : x ** 2, numbers)\n",
    "print(list(numbers_squared))    # [1, 4, 9, 16, 25]"
   ]
  },
  {
   "cell_type": "markdown",
   "id": "e944c22b",
   "metadata": {},
   "source": [
    "**Example:2**"
   ]
  },
  {
   "cell_type": "code",
   "execution_count": null,
   "id": "a504cf5d",
   "metadata": {
    "attributes": {
     "classes": [
      "py"
     ],
     "id": ""
    }
   },
   "outputs": [],
   "source": [
    "numbers_str = ['1', '2', '3', '4', '5']  # iterable\n",
    "numbers_int = map(int, numbers_str)\n",
    "print(list(numbers_int))    # [1, 2, 3, 4, 5]"
   ]
  },
  {
   "cell_type": "markdown",
   "id": "4e91e041",
   "metadata": {},
   "source": [
    "**Example:3**"
   ]
  },
  {
   "cell_type": "code",
   "execution_count": null,
   "id": "dc16dd76",
   "metadata": {
    "attributes": {
     "classes": [
      "py"
     ],
     "id": ""
    }
   },
   "outputs": [],
   "source": [
    "names = ['Asabeneh', 'Lidiya', 'Ermias', 'Abraham']  # iterable\n",
    "\n",
    "def change_to_upper(name):\n",
    "    return name.upper()\n",
    "\n",
    "names_upper_cased = map(change_to_upper, names)\n",
    "print(list(names_upper_cased))    # ['ASABENEH', 'LIDIYA', 'ERMIAS', 'ABRAHAM']\n",
    "\n",
    "# Let us apply it with a lambda function\n",
    "names_upper_cased = map(lambda name: name.upper(), names)\n",
    "print(list(names_upper_cased))    # ['ASABENEH', 'LIDIYA', 'ERMIAS', 'ABRAHAM']"
   ]
  },
  {
   "cell_type": "markdown",
   "id": "0c8e1a58",
   "metadata": {},
   "source": [
    "What actually map does is iterating over a list. For instance, it changes the names to upper case and returns a new list.\n",
    "\n",
    "### Python - Filter Function\n",
    "\n",
    "The filter() function calls the specified function which returns boolean for each item of the specified iterable (list). It filters the items that satisfy the filtering criteria."
   ]
  },
  {
   "cell_type": "code",
   "execution_count": null,
   "id": "08b6f664",
   "metadata": {
    "attributes": {
     "classes": [
      "py"
     ],
     "id": ""
    }
   },
   "outputs": [],
   "source": [
    "    # syntax\n",
    "    filter(function, iterable)"
   ]
  },
  {
   "cell_type": "markdown",
   "id": "a00abc82",
   "metadata": {},
   "source": [
    "**Example:1**"
   ]
  },
  {
   "cell_type": "code",
   "execution_count": null,
   "id": "cdba3b79",
   "metadata": {
    "attributes": {
     "classes": [
      "py"
     ],
     "id": ""
    }
   },
   "outputs": [],
   "source": [
    "# Lets filter only even nubers\n",
    "numbers = [1, 2, 3, 4, 5]  # iterable\n",
    "\n",
    "def is_even(num):\n",
    "    if num % 2 == 0:\n",
    "        return True\n",
    "    return False\n",
    "\n",
    "even_numbers = filter(is_even, numbers)\n",
    "print(list(even_numbers))       # [2, 4]"
   ]
  },
  {
   "cell_type": "markdown",
   "id": "af8002de",
   "metadata": {},
   "source": [
    "**Example:2**"
   ]
  },
  {
   "cell_type": "code",
   "execution_count": null,
   "id": "665e7b10",
   "metadata": {
    "attributes": {
     "classes": [
      "py"
     ],
     "id": ""
    }
   },
   "outputs": [],
   "source": [
    "numbers = [1, 2, 3, 4, 5]  # iterable\n",
    "\n",
    "def is_odd(num):\n",
    "    if num % 2 != 0:\n",
    "        return True\n",
    "    return False\n",
    "\n",
    "odd_numbers = filter(is_odd, numbers)\n",
    "print(list(odd_numbers))       # [1, 3, 5]"
   ]
  },
  {
   "cell_type": "code",
   "execution_count": null,
   "id": "81592735",
   "metadata": {
    "attributes": {
     "classes": [
      "py"
     ],
     "id": ""
    }
   },
   "outputs": [],
   "source": [
    "# Filter long name\n",
    "names = ['Asabeneh', 'Lidiya', 'Ermias', 'Abraham']  # iterable\n",
    "def is_name_long(name):\n",
    "    if len(name) > 7:\n",
    "        return True\n",
    "    return False\n",
    "\n",
    "long_names = filter(is_name_long, names)\n",
    "print(list(long_names))         # ['Asabeneh']"
   ]
  },
  {
   "cell_type": "markdown",
   "id": "e9fd8c07",
   "metadata": {},
   "source": [
    "### Python - Reduce Function\n",
    "\n",
    "The _reduce()_ function is defined in the functools module and we should import it from this module. Like map and filter it takes two parameters, a function and an iterable. However, it does not return another iterable, instead it returns a single value.\n",
    "**Example:1**"
   ]
  },
  {
   "cell_type": "code",
   "execution_count": null,
   "id": "16b7541a",
   "metadata": {
    "attributes": {
     "classes": [
      "py"
     ],
     "id": ""
    }
   },
   "outputs": [],
   "source": [
    "numbers_str = ['1', '2', '3', '4', '5']  # iterable\n",
    "def add_two_nums(x, y):\n",
    "    return int(x) + int(y)\n",
    "\n",
    "total = reduce(add_two_nums, numbers_str)\n",
    "print(total)    # 15"
   ]
  },
  {
   "cell_type": "markdown",
   "id": "7d301616",
   "metadata": {},
   "source": [
    "## 💻 Exercises: Day 14"
   ]
  },
  {
   "cell_type": "code",
   "execution_count": null,
   "id": "3e45a490",
   "metadata": {
    "attributes": {
     "classes": [
      "py"
     ],
     "id": ""
    }
   },
   "outputs": [],
   "source": [
    "countries = ['Estonia', 'Finland', 'Sweden', 'Denmark', 'Norway', 'Iceland']\n",
    "names = ['Asabeneh', 'Lidiya', 'Ermias', 'Abraham']\n",
    "numbers = [1, 2, 3, 4, 5, 6, 7, 8, 9, 10]"
   ]
  },
  {
   "cell_type": "markdown",
   "id": "08860e35",
   "metadata": {},
   "source": [
    "### Exercises: Level 1\n",
    "\n",
    "1. Explain the difference between map, filter, and reduce.\n",
    "2. Explain the difference between higher order function, closure and decorator\n",
    "3. Define a call function before map, filter or reduce, see examples.\n",
    "4. Use for loop to print each country in the countries list.\n",
    "5. Use for to print each name in the names list.\n",
    "6. Use for to print each number in the numbers list.\n",
    "\n",
    "### Exercises: Level 2\n",
    "\n",
    "1. Use map to create a new list by changing each country to uppercase in the countries list\n",
    "1. Use map to create a new list by changing each number to its square in the numbers list\n",
    "1. Use map to change each name to uppercase in the names list\n",
    "1. Use filter to filter out countries containing 'land'.\n",
    "1. Use filter to filter out countries having exactly six characters.\n",
    "1. Use filter to filter out countries containing six letters and more in the country list.\n",
    "1. Use filter to filter out countries starting with an 'E'\n",
    "1. Chain two or more list iterators (eg. arr.map(callback).filter(callback).reduce(callback))\n",
    "1. Declare a function called get_string_lists which takes a list as a parameter and then returns a list containing only string items.\n",
    "1. Use reduce to sum all the numbers in the numbers list.\n",
    "1. Use reduce to concatenate all the countries and to produce this sentence: Estonia, Finland, Sweden, Denmark, Norway, and Iceland are north European countries\n",
    "1. Declare a function called categorize_countries that returns a list of countries with some common pattern (you can find the [countries list](https://github.com/Asabeneh/30-Days-Of-Python/blob/master/data/countries.py) in this repository as countries.js(eg 'land', 'ia', 'island', 'stan')).\n",
    "1. Create a function returning a dictionary, where keys stand for starting letters of countries and values are the number of country names starting with that letter.\n",
    "2. Declare a get_first_ten_countries function - it returns a list of first ten countries from the countries.js list in the data folder.\n",
    "1. Declare a get_last_ten_countries function that returns the last ten countries in the countries list.\n",
    "\n",
    "### Exercises: Level 3\n",
    "\n",
    "1. Use the countries_data.py (https://github.com/Asabeneh/30-Days-Of-Python/blob/master/data/countries-data.py) file and follow the tasks below:\n",
    "   - Sort countries by name, by capital, by population\n",
    "   - Sort out the ten most spoken languages by location.\n",
    "   - Sort out the ten most populated countries.\n",
    "\n",
    "🎉 CONGRATULATIONS ! 🎉\n",
    "\n",
    "[<< Day 13](../13_Day_List_comprehension/13_list_comprehension.md) | [Day 15>>](../15_Day_Python_type_errors/15_python_type_errors.md)"
   ]
  }
 ],
 "metadata": {},
 "nbformat": 4,
 "nbformat_minor": 5
}
