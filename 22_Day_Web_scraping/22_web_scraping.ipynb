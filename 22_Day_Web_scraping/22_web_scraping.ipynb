{
 "cells": [
  {
   "cell_type": "markdown",
   "id": "1dedfc1c",
   "metadata": {},
   "source": [
    "<div align=\"center\">\n",
    "  <h1> 30 Days Of Python: Day 22 - Web Scraping </h1>\n",
    "  <a class=\"header-badge\" target=\"_blank\" href=\"https://www.linkedin.com/in/asabeneh/\">\n",
    "  <img src=\"https://img.shields.io/badge/style--5eba00.svg?label=LinkedIn&logo=linkedin&style=social\">\n",
    "  </a>\n",
    "  <a class=\"header-badge\" target=\"_blank\" href=\"https://twitter.com/Asabeneh\">\n",
    "  <img alt=\"Twitter Follow\" src=\"https://img.shields.io/twitter/follow/asabeneh?style=social\">\n",
    "  </a>\n",
    "\n",
    "<sub>Author:\n",
    "<a href=\"https://www.linkedin.com/in/asabeneh/\" target=\"_blank\">Asabeneh Yetayeh</a><br>\n",
    "<small> Second Edition: July, 2021</small>\n",
    "</sub>\n",
    "</div>\n",
    "\n",
    "[<< Day 21](../21_Day_Classes_and_objects/21_classes_and_objects.md) | [Day 23 >>](../23_Day_Virtual_environment/23_virtual_environment.md)\n",
    "\n",
    "![30DaysOfPython](../images/30DaysOfPython_banner3@2x.png)\n",
    "\n",
    "- [📘 Day 22](#-day-22)\n",
    "  - [Python Web Scraping](#python-web-scraping)\n",
    "    - [What is Web Scrapping](#what-is-web-scrapping)\n",
    "  - [💻 Exercises: Day 22](#-exercises-day-22)\n",
    "\n",
    "# 📘 Day 22\n",
    "\n",
    "## Python Web Scraping\n",
    "\n",
    "### What is Web Scrapping\n",
    "\n",
    "The internet is full of huge amount of data which can be used for different purposes. To collect this data we need to know how to scrape data from a website.\n",
    "\n",
    "Web scraping is the process of extracting and collecting data from websites and storing it on a local machine or in a database.\n",
    "\n",
    "In this section, we will use beautifulsoup and requests package to scrape data. The package version we are using is beautifulsoup 4.\n",
    "\n",
    "To start scraping websites you need _requests_, _beautifoulSoup4_ and a _website_."
   ]
  },
  {
   "cell_type": "code",
   "execution_count": null,
   "id": "5fae5b49",
   "metadata": {
    "attributes": {
     "classes": [
      "sh"
     ],
     "id": ""
    }
   },
   "outputs": [],
   "source": [
    "pip install requests\n",
    "pip install beautifulsoup4"
   ]
  },
  {
   "cell_type": "markdown",
   "id": "c6d4d47b",
   "metadata": {},
   "source": [
    "To scrape data from websites, basic understanding of HTML tags and CSS selectors is needed. We target content from a website using HTML tags, classes or/and ids.\n",
    "Let us import the requests and BeautifulSoup module"
   ]
  },
  {
   "cell_type": "code",
   "execution_count": null,
   "id": "58e34829",
   "metadata": {
    "attributes": {
     "classes": [
      "py"
     ],
     "id": ""
    }
   },
   "outputs": [],
   "source": [
    "import requests\n",
    "from bs4 import BeautifulSoup"
   ]
  },
  {
   "cell_type": "markdown",
   "id": "45862480",
   "metadata": {},
   "source": [
    "Let us declare url variable for the website which we are going to scrape."
   ]
  },
  {
   "cell_type": "code",
   "execution_count": null,
   "id": "8c9bb702",
   "metadata": {
    "attributes": {
     "classes": [
      "py"
     ],
     "id": ""
    }
   },
   "outputs": [],
   "source": [
    "\n",
    "import requests\n",
    "from bs4 import BeautifulSoup\n",
    "url = 'https://archive.ics.uci.edu/ml/datasets.php'\n",
    "\n",
    "# Lets use the requests get method to fetch the data from url\n",
    "\n",
    "response = requests.get(url)\n",
    "# lets check the status\n",
    "status = response.status_code\n",
    "print(status) # 200 means the fetching was successful"
   ]
  },
  {
   "cell_type": "code",
   "execution_count": null,
   "id": "4dcb7b69",
   "metadata": {
    "attributes": {
     "classes": [
      "sh"
     ],
     "id": ""
    }
   },
   "outputs": [],
   "source": [
    "200"
   ]
  },
  {
   "cell_type": "markdown",
   "id": "7780420a",
   "metadata": {},
   "source": [
    "Using beautifulSoup to parse content from the page"
   ]
  },
  {
   "cell_type": "code",
   "execution_count": null,
   "id": "a7e2ede4",
   "metadata": {
    "attributes": {
     "classes": [
      "py"
     ],
     "id": ""
    }
   },
   "outputs": [],
   "source": [
    "import requests\n",
    "from bs4 import BeautifulSoup\n",
    "url = 'https://archive.ics.uci.edu/ml/datasets.php'\n",
    "\n",
    "response = requests.get(url)\n",
    "content = response.content # we get all the content from the website\n",
    "soup = BeautifulSoup(content, 'html.parser') # beautiful soup will give a chance to parse\n",
    "print(soup.title) # <title>UCI Machine Learning Repository: Data Sets</title>\n",
    "print(soup.title.get_text()) # UCI Machine Learning Repository: Data Sets\n",
    "print(soup.body) # gives the whole page on the website\n",
    "print(response.status_code)\n",
    "\n",
    "tables = soup.find_all('table', {'cellpadding':'3'})\n",
    "# We are targeting the table with cellpadding attribute with the value of 3\n",
    "# We can select using id, class or HTML tag , for more information check the beautifulsoup doc\n",
    "table = tables[0] # the result is a list, we are taking out data from it\n",
    "for td in table.find('tr').find_all('td'):\n",
    "    print(td.text)"
   ]
  },
  {
   "cell_type": "markdown",
   "id": "e585bdf7",
   "metadata": {},
   "source": [
    "If you run this code, you can see that the extraction is half done. You can continue doing it because it is part of exercise 1.\n",
    "For reference check the [beautifulsoup documentation](https://www.crummy.com/software/BeautifulSoup/bs4/doc/#quick-start)\n",
    "\n",
    "🌕 You are so special, you are progressing everyday. You are left with only eight days to your way to greatness. Now do some exercises for your brain and muscles.\n",
    "\n",
    "## 💻 Exercises: Day 22\n",
    "\n",
    "1. Scrape the following website and store the data as json file(url = 'http://www.bu.edu/president/boston-university-facts-stats/').\n",
    "1. Extract the table in this url (https://archive.ics.uci.edu/ml/datasets.php) and change it to a json file\n",
    "2. Scrape the presidents table and store the data as json(https://en.wikipedia.org/wiki/List_of_presidents_of_the_United_States). The table is not very structured and the scrapping may take very long time.\n",
    "\n",
    "🎉 CONGRATULATIONS ! 🎉\n",
    "\n",
    "[<< Day 21](../21_Day_Web_scraping/21_class_and_object.md) | [Day 23 >>](../23_Day_Virtual_environment/23_virtual_environment.md)"
   ]
  }
 ],
 "metadata": {},
 "nbformat": 4,
 "nbformat_minor": 5
}
