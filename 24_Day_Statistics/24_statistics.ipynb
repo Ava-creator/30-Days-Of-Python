{
 "cells": [
  {
   "cell_type": "markdown",
   "id": "10d2b682",
   "metadata": {},
   "source": [
    "<div align=\"center\">\n",
    "  <h1> 30 Days Of Python: Day 24 - Statistics</h1>\n",
    "  <a class=\"header-badge\" target=\"_blank\" href=\"https://www.linkedin.com/in/asabeneh/\">\n",
    "  <img src=\"https://img.shields.io/badge/style--5eba00.svg?label=LinkedIn&logo=linkedin&style=social\">\n",
    "  </a>\n",
    "  <a class=\"header-badge\" target=\"_blank\" href=\"https://twitter.com/Asabeneh\">\n",
    "  <img alt=\"Twitter Follow\" src=\"https://img.shields.io/twitter/follow/asabeneh?style=social\">\n",
    "  </a>\n",
    "\n",
    "<sub>Author:\n",
    "<a href=\"https://www.linkedin.com/in/asabeneh/\" target=\"_blank\">Asabeneh Yetayeh</a><br>\n",
    "<small>Second Edition: July, 2021</small>\n",
    "</sub>\n",
    "</div>\n",
    "\n",
    "[<< Day 23](../23_Day_Virtual_environment/23_virtual_environment.md) | [Day 25 >>](../25_Day_Pandas/25_pandas.md)\n",
    "\n",
    "![30DaysOfPython](../images/30DaysOfPython_banner3@2x.png)\n",
    "\n",
    "- [📘 Day 24](#-day-24)\n",
    "  - [Python for Statistical Analysis](#python-for-statistical-analysis)\n",
    "  - [Statistics](#statistics)\n",
    "  - [Data](#data)\n",
    "  - [Statistics Module](#statistics-module)\n",
    "- [NumPy](#numpy)\n",
    "\n",
    "# 📘 Day 24\n",
    "\n",
    "## Python for Statistical Analysis\n",
    "\n",
    "## Statistics\n",
    "\n",
    "Statistics is the discipline that studies the _collection_, _organization_, _displaying_, _analysing_, _interpretation_ and _presentation_ of data.\n",
    "Statistics is a branch of Mathematics that is recommended to be a prerequisite for data science and machine learning. Statistics is a very broad field but we will focus in this section only on the most relevant part.\n",
    "After completing this challenge, you may go onto the web development, data analysis, machine learning and data science path. Whatever path you may follow, at some point in your career you will get data which you may work on. Having some statistical knowledge will help you to make decisions based on data, _data tells as they say_.\n",
    "\n",
    "## Data\n",
    "\n",
    "What is data? Data is any set of characters that is gathered and translated for some purpose, usually analysis. It can be any character, including text and numbers, pictures, sound, or video. If data is not put in a context, it doesn't make any sense to a human or computer. To make sense from data we need to work on the data using different tools.\n",
    "\n",
    "The work flow of data analysis, data science or machine learning starts from data. Data can be provided from some data source or it can be created. There are structured and unstructured data.\n",
    "\n",
    "Data can be found in small or big format. Most of the data types we will get have been covered in the file handling section.\n",
    "\n",
    "## Statistics Module\n",
    "\n",
    "The Python _statistics_ module provides functions for calculating mathematical statistics of numerical data. The module is not intended to be a competitor to third-party libraries such as NumPy, SciPy, or proprietary full-featured statistics packages aimed at professional statisticians such as Minitab, SAS and Matlab. It is aimed at the level of graphing and scientific calculators.\n",
    "\n",
    "# NumPy\n",
    "\n",
    "In the first section we defined Python as a great general-purpose programming language on its own, but with the help of other popular libraries as(numpy, scipy, matplotlib, pandas etc) it becomes a powerful environment for scientific computing.\n",
    "\n",
    "NumPy is the core library for scientific computing in Python. It provides a high-performance multidimensional array object, and tools for working with arrays.\n",
    "\n",
    "So far, we have been using vscode but from now on I would recommend using Jupyter Notebook. To access jupyter notebook let's install [anaconda](https://www.anaconda.com/). If you are using anaconda most of the common packages are included and you don't have install packages if you installed anaconda."
   ]
  },
  {
   "cell_type": "code",
   "execution_count": null,
   "id": "b9b7aa48",
   "metadata": {
    "attributes": {
     "classes": [
      "sh"
     ],
     "id": ""
    }
   },
   "outputs": [],
   "source": [
    "asabeneh@Asabeneh:~/Desktop/30DaysOfPython$ pip install numpy"
   ]
  },
  {
   "cell_type": "markdown",
   "id": "c5fdc1cd",
   "metadata": {},
   "source": [
    "## Importing NumPy\n",
    "\n",
    "Jupyter notebook is available if your are in favor of [jupyter notebook](https://github.com/Asabeneh/data-science-for-everyone/blob/master/numpy/numpy.ipynb)"
   ]
  },
  {
   "cell_type": "code",
   "execution_count": null,
   "id": "9de709d4",
   "metadata": {
    "attributes": {
     "classes": [
      "py"
     ],
     "id": ""
    }
   },
   "outputs": [],
   "source": [
    "    # How to import numpy\n",
    "    import numpy as np\n",
    "    # How to check the version of the numpy package\n",
    "    print('numpy:', np.__version__)\n",
    "    # Checking the available methods\n",
    "    print(dir(np))"
   ]
  },
  {
   "cell_type": "markdown",
   "id": "ea054fc8",
   "metadata": {},
   "source": [
    "## Creating numpy array using\n",
    "\n",
    "### Creating int numpy arrays"
   ]
  },
  {
   "cell_type": "code",
   "execution_count": null,
   "id": "0a9a27c5",
   "metadata": {
    "attributes": {
     "classes": [
      "py"
     ],
     "id": ""
    }
   },
   "outputs": [],
   "source": [
    "    # Creating python List\n",
    "    python_list = [1,2,3,4,5]\n",
    "\n",
    "    # Checking data types\n",
    "    print('Type:', type (python_list)) # <class 'list'>\n",
    "    #\n",
    "    print(python_list) # [1, 2, 3, 4, 5]\n",
    "\n",
    "    two_dimensional_list = [[0,1,2], [3,4,5], [6,7,8]]\n",
    "\n",
    "    print(two_dimensional_list)  # [[0, 1, 2], [3, 4, 5], [6, 7, 8]]\n",
    "\n",
    "    # Creating Numpy(Numerical Python) array from python list\n",
    "\n",
    "    numpy_array_from_list = np.array(python_list)\n",
    "    print(type (numpy_array_from_list))   # <class 'numpy.ndarray'>\n",
    "    print(numpy_array_from_list) # array([1, 2, 3, 4, 5])"
   ]
  },
  {
   "cell_type": "markdown",
   "id": "b58ceae4",
   "metadata": {},
   "source": [
    "### Creating float numpy arrays\n",
    "\n",
    "Creating a float numpy array from list with a float data type parameter"
   ]
  },
  {
   "cell_type": "code",
   "execution_count": null,
   "id": "e9f478eb",
   "metadata": {
    "attributes": {
     "classes": [
      "py"
     ],
     "id": ""
    }
   },
   "outputs": [],
   "source": [
    "    # Python list\n",
    "    python_list = [1,2,3,4,5]\n",
    "\n",
    "    numy_array_from_list2 = np.array(python_list, dtype=float)\n",
    "    print(numy_array_from_list2) # array([1., 2., 3., 4., 5.])"
   ]
  },
  {
   "cell_type": "markdown",
   "id": "2e563b24",
   "metadata": {},
   "source": [
    "### Creating boolean numpy arrays\n",
    "\n",
    "Creating a boolean a numpy array from list"
   ]
  },
  {
   "cell_type": "code",
   "execution_count": null,
   "id": "7d08f024",
   "metadata": {
    "attributes": {
     "classes": [
      "py"
     ],
     "id": ""
    }
   },
   "outputs": [],
   "source": [
    "    numpy_bool_array = np.array([0, 1, -1, 0, 0], dtype=bool)\n",
    "    print(numpy_bool_array) # array([False,  True,  True, False, False])"
   ]
  },
  {
   "cell_type": "markdown",
   "id": "2c089af7",
   "metadata": {},
   "source": [
    "### Creating multidimensional array using numpy\n",
    "\n",
    "A numpy array may have one or multiple rows and columns"
   ]
  },
  {
   "cell_type": "code",
   "execution_count": null,
   "id": "cd1e001e",
   "metadata": {
    "attributes": {
     "classes": [
      "py"
     ],
     "id": ""
    }
   },
   "outputs": [],
   "source": [
    "    two_dimensional_list = [[0,1,2], [3,4,5], [6,7,8]]\n",
    "    numpy_two_dimensional_list = np.array(two_dimensional_list)\n",
    "    print(type (numpy_two_dimensional_list))\n",
    "    print(numpy_two_dimensional_list)"
   ]
  },
  {
   "cell_type": "code",
   "execution_count": null,
   "id": "c40a4ddc",
   "metadata": {
    "attributes": {
     "classes": [
      "sh"
     ],
     "id": ""
    }
   },
   "outputs": [],
   "source": [
    "    <class 'numpy.ndarray'>\n",
    "    [[0 1 2]\n",
    "     [3 4 5]\n",
    "     [6 7 8]]"
   ]
  },
  {
   "cell_type": "markdown",
   "id": "8ba84806",
   "metadata": {},
   "source": [
    "### Converting numpy array to list"
   ]
  },
  {
   "cell_type": "code",
   "execution_count": null,
   "id": "4e1a5e32",
   "metadata": {},
   "outputs": [],
   "source": [
    "# We can always convert an array back to a python list using tolist().\n",
    "np_to_list = numpy_array_from_list.tolist()\n",
    "print(type (np_to_list))\n",
    "print('one dimensional array:', np_to_list)\n",
    "print('two dimensional array: ', numpy_two_dimensional_list.tolist())"
   ]
  },
  {
   "cell_type": "code",
   "execution_count": null,
   "id": "0b7c1498",
   "metadata": {
    "attributes": {
     "classes": [
      "sh"
     ],
     "id": ""
    }
   },
   "outputs": [],
   "source": [
    "    <class 'list'>\n",
    "    one dimensional array: [1, 2, 3, 4, 5]\n",
    "    two dimensional array:  [[0, 1, 2], [3, 4, 5], [6, 7, 8]]"
   ]
  },
  {
   "cell_type": "markdown",
   "id": "7a228b40",
   "metadata": {},
   "source": [
    "### Creating numpy array from tuple"
   ]
  },
  {
   "cell_type": "code",
   "execution_count": null,
   "id": "5e2a5684",
   "metadata": {
    "attributes": {
     "classes": [
      "py"
     ],
     "id": ""
    }
   },
   "outputs": [],
   "source": [
    "# Numpy array from tuple\n",
    "# Creating tuple in Python\n",
    "python_tuple = (1,2,3,4,5)\n",
    "print(type (python_tuple)) # <class 'tuple'>\n",
    "print('python_tuple: ', python_tuple) # python_tuple:  (1, 2, 3, 4, 5)\n",
    "\n",
    "numpy_array_from_tuple = np.array(python_tuple)\n",
    "print(type (numpy_array_from_tuple)) # <class 'numpy.ndarray'>\n",
    "print('numpy_array_from_tuple: ', numpy_array_from_tuple) # numpy_array_from_tuple:  [1 2 3 4 5]"
   ]
  },
  {
   "cell_type": "markdown",
   "id": "4f06d350",
   "metadata": {},
   "source": [
    "### Shape of numpy array\n",
    "\n",
    "The shape method provide the shape of the array as a tuple. The first is the row and the second is the column. If the array is just one dimensional it returns the size of the array."
   ]
  },
  {
   "cell_type": "code",
   "execution_count": null,
   "id": "fb53e229",
   "metadata": {
    "attributes": {
     "classes": [
      "py"
     ],
     "id": ""
    }
   },
   "outputs": [],
   "source": [
    "    nums = np.array([1, 2, 3, 4, 5])\n",
    "    print(nums)\n",
    "    print('shape of nums: ', nums.shape)\n",
    "    print(numpy_two_dimensional_list)\n",
    "    print('shape of numpy_two_dimensional_list: ', numpy_two_dimensional_list.shape)\n",
    "    three_by_four_array = np.array([[0, 1, 2, 3],\n",
    "        [4,5,6,7],\n",
    "        [8,9,10, 11]])\n",
    "    print(three_by_four_array.shape)"
   ]
  },
  {
   "cell_type": "code",
   "execution_count": null,
   "id": "07f55f7a",
   "metadata": {
    "attributes": {
     "classes": [
      "sh"
     ],
     "id": ""
    }
   },
   "outputs": [],
   "source": [
    "    [1 2 3 4 5]\n",
    "    shape of nums:  (5,)\n",
    "    [[0 1 2]\n",
    "     [3 4 5]\n",
    "     [6 7 8]]\n",
    "    shape of numpy_two_dimensional_list:  (3, 3)\n",
    "    (3, 4)"
   ]
  },
  {
   "cell_type": "markdown",
   "id": "b3b43021",
   "metadata": {},
   "source": [
    "### Data type of numpy array\n",
    "\n",
    "Type of data types: str, int, float, complex, bool, list, None"
   ]
  },
  {
   "cell_type": "code",
   "execution_count": null,
   "id": "479009a6",
   "metadata": {
    "attributes": {
     "classes": [
      "py"
     ],
     "id": ""
    }
   },
   "outputs": [],
   "source": [
    "int_lists = [-3, -2, -1, 0, 1, 2,3]\n",
    "int_array = np.array(int_lists)\n",
    "float_array = np.array(int_lists, dtype=float)\n",
    "\n",
    "print(int_array)\n",
    "print(int_array.dtype)\n",
    "print(float_array)\n",
    "print(float_array.dtype)"
   ]
  },
  {
   "cell_type": "code",
   "execution_count": null,
   "id": "c5849326",
   "metadata": {
    "attributes": {
     "classes": [
      "sh"
     ],
     "id": ""
    }
   },
   "outputs": [],
   "source": [
    "    [-3 -2 -1  0  1  2  3]\n",
    "    int64\n",
    "    [-3. -2. -1.  0.  1.  2.  3.]\n",
    "    float64"
   ]
  },
  {
   "cell_type": "markdown",
   "id": "f57fbce3",
   "metadata": {},
   "source": [
    "### Size of a numpy array\n",
    "\n",
    "In numpy to know the number of items in a numpy array list we use size"
   ]
  },
  {
   "cell_type": "code",
   "execution_count": null,
   "id": "4c11563e",
   "metadata": {
    "attributes": {
     "classes": [
      "py"
     ],
     "id": ""
    }
   },
   "outputs": [],
   "source": [
    "numpy_array_from_list = np.array([1, 2, 3, 4, 5])\n",
    "two_dimensional_list = np.array([[0, 1, 2],\n",
    "                              [3, 4, 5],\n",
    "                              [6, 7, 8]])\n",
    "\n",
    "print('The size:', numpy_array_from_list.size) # 5\n",
    "print('The size:', two_dimensional_list.size)  # 3\n"
   ]
  },
  {
   "cell_type": "code",
   "execution_count": null,
   "id": "8e8cc02a",
   "metadata": {
    "attributes": {
     "classes": [
      "sh"
     ],
     "id": ""
    }
   },
   "outputs": [],
   "source": [
    "    The size: 5\n",
    "    The size: 9"
   ]
  },
  {
   "cell_type": "markdown",
   "id": "9337b049",
   "metadata": {},
   "source": [
    "## Mathematical Operation using numpy\n",
    "\n",
    "NumPy array is not like exactly like python list. To do mathematical operation in Python list we have to loop through the items but numpy can allow to do any mathematical operation without looping.\n",
    "Mathematical Operation:\n",
    "\n",
    "- Addition (+)\n",
    "- Subtraction (-)\n",
    "- Multiplication (\\*)\n",
    "- Division (/)\n",
    "- Modules (%)\n",
    "- Floor Division(//)\n",
    "- Exponential(\\*\\*)\n",
    "\n",
    "### Addition"
   ]
  },
  {
   "cell_type": "code",
   "execution_count": null,
   "id": "2905d50c",
   "metadata": {
    "attributes": {
     "classes": [
      "py"
     ],
     "id": ""
    }
   },
   "outputs": [],
   "source": [
    "# Mathematical Operation\n",
    "# Addition\n",
    "numpy_array_from_list = np.array([1, 2, 3, 4, 5])\n",
    "print('original array: ', numpy_array_from_list)\n",
    "ten_plus_original = numpy_array_from_list  + 10\n",
    "print(ten_plus_original)\n"
   ]
  },
  {
   "cell_type": "code",
   "execution_count": null,
   "id": "0480dbde",
   "metadata": {
    "attributes": {
     "classes": [
      "sh"
     ],
     "id": ""
    }
   },
   "outputs": [],
   "source": [
    "    original array:  [1 2 3 4 5]\n",
    "    [11 12 13 14 15]"
   ]
  },
  {
   "cell_type": "markdown",
   "id": "255aaadd",
   "metadata": {},
   "source": [
    "### Subtraction"
   ]
  },
  {
   "cell_type": "code",
   "execution_count": null,
   "id": "d2107d34",
   "metadata": {},
   "outputs": [],
   "source": [
    "# Subtraction\n",
    "numpy_array_from_list = np.array([1, 2, 3, 4, 5])\n",
    "print('original array: ', numpy_array_from_list)\n",
    "ten_minus_original = numpy_array_from_list  - 10\n",
    "print(ten_minus_original)"
   ]
  },
  {
   "cell_type": "code",
   "execution_count": null,
   "id": "f6014a50",
   "metadata": {
    "attributes": {
     "classes": [
      "sh"
     ],
     "id": ""
    }
   },
   "outputs": [],
   "source": [
    "    original array:  [1 2 3 4 5]\n",
    "    [-9 -8 -7 -6 -5]"
   ]
  },
  {
   "cell_type": "markdown",
   "id": "f8a235e6",
   "metadata": {},
   "source": [
    "### Multiplication"
   ]
  },
  {
   "cell_type": "code",
   "execution_count": null,
   "id": "e13ebc90",
   "metadata": {},
   "outputs": [],
   "source": [
    "# Multiplication\n",
    "numpy_array_from_list = np.array([1, 2, 3, 4, 5])\n",
    "print('original array: ', numpy_array_from_list)\n",
    "ten_times_original = numpy_array_from_list * 10\n",
    "print(ten_times_original)"
   ]
  },
  {
   "cell_type": "code",
   "execution_count": null,
   "id": "c739f70f",
   "metadata": {
    "attributes": {
     "classes": [
      "sh"
     ],
     "id": ""
    }
   },
   "outputs": [],
   "source": [
    "    original array:  [1 2 3 4 5]\n",
    "    [10 20 30 40 50]"
   ]
  },
  {
   "cell_type": "markdown",
   "id": "759e7a4a",
   "metadata": {},
   "source": [
    "### Division"
   ]
  },
  {
   "cell_type": "code",
   "execution_count": null,
   "id": "3bbd8c06",
   "metadata": {},
   "outputs": [],
   "source": [
    "# Division\n",
    "numpy_array_from_list = np.array([1, 2, 3, 4, 5])\n",
    "print('original array: ', numpy_array_from_list)\n",
    "ten_times_original = numpy_array_from_list / 10\n",
    "print(ten_times_original)"
   ]
  },
  {
   "cell_type": "code",
   "execution_count": null,
   "id": "57e81f6a",
   "metadata": {
    "attributes": {
     "classes": [
      "sh"
     ],
     "id": ""
    }
   },
   "outputs": [],
   "source": [
    "    original array:  [1 2 3 4 5]\n",
    "    [0.1 0.2 0.3 0.4 0.5]"
   ]
  },
  {
   "cell_type": "markdown",
   "id": "7f0a07b8",
   "metadata": {},
   "source": [
    "### Modulus"
   ]
  },
  {
   "cell_type": "code",
   "execution_count": null,
   "id": "f5a481dc",
   "metadata": {},
   "outputs": [],
   "source": [
    "# Modulus; Finding the remainder\n",
    "numpy_array_from_list = np.array([1, 2, 3, 4, 5])\n",
    "print('original array: ', numpy_array_from_list)\n",
    "ten_times_original = numpy_array_from_list % 3\n",
    "print(ten_times_original)"
   ]
  },
  {
   "cell_type": "code",
   "execution_count": null,
   "id": "5feaeb66",
   "metadata": {
    "attributes": {
     "classes": [
      "sh"
     ],
     "id": ""
    }
   },
   "outputs": [],
   "source": [
    "    original array:  [1 2 3 4 5]\n",
    "    [1 2 0 1 2]"
   ]
  },
  {
   "cell_type": "markdown",
   "id": "9647566b",
   "metadata": {},
   "source": [
    "### Floor Division"
   ]
  },
  {
   "cell_type": "code",
   "execution_count": null,
   "id": "5576c85a",
   "metadata": {
    "attributes": {
     "classes": [
      "py"
     ],
     "id": ""
    }
   },
   "outputs": [],
   "source": [
    "# Floor division: the division result without the remainder\n",
    "numpy_array_from_list = np.array([1, 2, 3, 4, 5])\n",
    "print('original array: ', numpy_array_from_list)\n",
    "ten_times_original = numpy_array_from_list // 10\n",
    "print(ten_times_original)"
   ]
  },
  {
   "cell_type": "markdown",
   "id": "933f2c3a",
   "metadata": {},
   "source": [
    "### Exponential"
   ]
  },
  {
   "cell_type": "code",
   "execution_count": null,
   "id": "0f4108eb",
   "metadata": {
    "attributes": {
     "classes": [
      "py"
     ],
     "id": ""
    }
   },
   "outputs": [],
   "source": [
    "# Exponential is finding some number the power of another:\n",
    "numpy_array_from_list = np.array([1, 2, 3, 4, 5])\n",
    "print('original array: ', numpy_array_from_list)\n",
    "ten_times_original = numpy_array_from_list  ** 2\n",
    "print(ten_times_original)"
   ]
  },
  {
   "cell_type": "code",
   "execution_count": null,
   "id": "9df81cf3",
   "metadata": {
    "attributes": {
     "classes": [
      "sh"
     ],
     "id": ""
    }
   },
   "outputs": [],
   "source": [
    "    original array:  [1 2 3 4 5]\n",
    "    [ 1  4  9 16 25]"
   ]
  },
  {
   "cell_type": "markdown",
   "id": "aeecea46",
   "metadata": {},
   "source": [
    "## Checking data types"
   ]
  },
  {
   "cell_type": "code",
   "execution_count": null,
   "id": "8d54bc8d",
   "metadata": {
    "attributes": {
     "classes": [
      "py"
     ],
     "id": ""
    }
   },
   "outputs": [],
   "source": [
    "#Int,  Float numbers\n",
    "numpy_int_arr = np.array([1,2,3,4])\n",
    "numpy_float_arr = np.array([1.1, 2.0,3.2])\n",
    "numpy_bool_arr = np.array([-3, -2, 0, 1,2,3], dtype='bool')\n",
    "\n",
    "print(numpy_int_arr.dtype)\n",
    "print(numpy_float_arr.dtype)\n",
    "print(numpy_bool_arr.dtype)"
   ]
  },
  {
   "cell_type": "code",
   "execution_count": null,
   "id": "68fcb789",
   "metadata": {
    "attributes": {
     "classes": [
      "sh"
     ],
     "id": ""
    }
   },
   "outputs": [],
   "source": [
    "    int64\n",
    "    float64\n",
    "    bool"
   ]
  },
  {
   "cell_type": "markdown",
   "id": "21021b39",
   "metadata": {},
   "source": [
    "### Converting types\n",
    "\n",
    "We can convert the data types of numpy array\n",
    "\n",
    "1. Int to Float"
   ]
  },
  {
   "cell_type": "code",
   "execution_count": null,
   "id": "6596225f",
   "metadata": {
    "attributes": {
     "classes": [
      "py"
     ],
     "id": ""
    }
   },
   "outputs": [],
   "source": [
    "numpy_int_arr = np.array([1,2,3,4], dtype = 'float')\n",
    "numpy_int_arr"
   ]
  },
  {
   "cell_type": "code",
   "execution_count": null,
   "id": "1642847c",
   "metadata": {},
   "outputs": [],
   "source": [
    "array([1., 2., 3., 4.])"
   ]
  },
  {
   "cell_type": "markdown",
   "id": "739ba98b",
   "metadata": {},
   "source": [
    "2. Float to Int"
   ]
  },
  {
   "cell_type": "code",
   "execution_count": null,
   "id": "0ae53a43",
   "metadata": {
    "attributes": {
     "classes": [
      "py"
     ],
     "id": ""
    }
   },
   "outputs": [],
   "source": [
    "numpy_int_arr = np.array([1., 2., 3., 4.], dtype = 'int')\n",
    "numpy_int_arr"
   ]
  },
  {
   "cell_type": "code",
   "execution_count": null,
   "id": "48529e1b",
   "metadata": {
    "attributes": {
     "classes": [
      "sh"
     ],
     "id": ""
    }
   },
   "outputs": [],
   "source": [
    "    array([1, 2, 3, 4])"
   ]
  },
  {
   "cell_type": "markdown",
   "id": "15981a0c",
   "metadata": {},
   "source": [
    "3. Int ot boolean"
   ]
  },
  {
   "cell_type": "code",
   "execution_count": null,
   "id": "f0347bab",
   "metadata": {
    "attributes": {
     "classes": [
      "py"
     ],
     "id": ""
    }
   },
   "outputs": [],
   "source": [
    "np.array([-3, -2, 0, 1,2,3], dtype='bool')\n"
   ]
  },
  {
   "cell_type": "code",
   "execution_count": null,
   "id": "1a94f1a8",
   "metadata": {
    "attributes": {
     "classes": [
      "sh"
     ],
     "id": ""
    }
   },
   "outputs": [],
   "source": [
    "    array([ True,  True, False,  True,  True,  True])"
   ]
  },
  {
   "cell_type": "markdown",
   "id": "695fed21",
   "metadata": {},
   "source": [
    "4. Int to str"
   ]
  },
  {
   "cell_type": "code",
   "execution_count": null,
   "id": "101193c0",
   "metadata": {
    "attributes": {
     "classes": [
      "py"
     ],
     "id": ""
    }
   },
   "outputs": [],
   "source": [
    "numpy_float_list.astype('int').astype('str')"
   ]
  },
  {
   "cell_type": "code",
   "execution_count": null,
   "id": "bc38e7d9",
   "metadata": {
    "attributes": {
     "classes": [
      "sh"
     ],
     "id": ""
    }
   },
   "outputs": [],
   "source": [
    "    array(['1', '2', '3'], dtype='<U21')"
   ]
  },
  {
   "cell_type": "markdown",
   "id": "ca3f242c",
   "metadata": {},
   "source": [
    "## Multi-dimensional Arrays"
   ]
  },
  {
   "cell_type": "code",
   "execution_count": null,
   "id": "2579a2e2",
   "metadata": {
    "attributes": {
     "classes": [
      "py"
     ],
     "id": ""
    }
   },
   "outputs": [],
   "source": [
    "# 2 Dimension Array\n",
    "two_dimension_array = np.array([(1,2,3),(4,5,6), (7,8,9)])\n",
    "print(type (two_dimension_array))\n",
    "print(two_dimension_array)\n",
    "print('Shape: ', two_dimension_array.shape)\n",
    "print('Size:', two_dimension_array.size)\n",
    "print('Data type:', two_dimension_array.dtype)"
   ]
  },
  {
   "cell_type": "code",
   "execution_count": null,
   "id": "3b125ddd",
   "metadata": {
    "attributes": {
     "classes": [
      "sh"
     ],
     "id": ""
    }
   },
   "outputs": [],
   "source": [
    "    <class 'numpy.ndarray'>\n",
    "    [[1 2 3]\n",
    "     [4 5 6]\n",
    "     [7 8 9]]\n",
    "    Shape:  (3, 3)\n",
    "    Size: 9\n",
    "    Data type: int64"
   ]
  },
  {
   "cell_type": "markdown",
   "id": "79c3e27e",
   "metadata": {},
   "source": [
    "### Getting items from a numpy array"
   ]
  },
  {
   "cell_type": "code",
   "execution_count": null,
   "id": "fb12a214",
   "metadata": {
    "attributes": {
     "classes": [
      "py"
     ],
     "id": ""
    }
   },
   "outputs": [],
   "source": [
    "# 2 Dimension Array\n",
    "two_dimension_array = np.array([[1,2,3],[4,5,6], [7,8,9]])\n",
    "first_row = two_dimension_array[0]\n",
    "second_row = two_dimension_array[1]\n",
    "third_row = two_dimension_array[2]\n",
    "print('First row:', first_row)\n",
    "print('Second row:', second_row)\n",
    "print('Third row: ', third_row)"
   ]
  },
  {
   "cell_type": "code",
   "execution_count": null,
   "id": "2a07d19a",
   "metadata": {
    "attributes": {
     "classes": [
      "sh"
     ],
     "id": ""
    }
   },
   "outputs": [],
   "source": [
    "    First row: [1 2 3]\n",
    "    Second row: [4 5 6]\n",
    "    Third row:  [7 8 9]"
   ]
  },
  {
   "cell_type": "code",
   "execution_count": null,
   "id": "9312f7f5",
   "metadata": {
    "attributes": {
     "classes": [
      "py"
     ],
     "id": ""
    }
   },
   "outputs": [],
   "source": [
    "first_column= two_dimension_array[:,0]\n",
    "second_column = two_dimension_array[:,1]\n",
    "third_column = two_dimension_array[:,2]\n",
    "print('First column:', first_column)\n",
    "print('Second column:', second_column)\n",
    "print('Third column: ', third_column)\n",
    "print(two_dimension_array)\n"
   ]
  },
  {
   "cell_type": "code",
   "execution_count": null,
   "id": "5d62abb9",
   "metadata": {
    "attributes": {
     "classes": [
      "sh"
     ],
     "id": ""
    }
   },
   "outputs": [],
   "source": [
    "    First column: [1 4 7]\n",
    "    Second column: [2 5 8]\n",
    "    Third column:  [3 6 9]\n",
    "    [[1 2 3]\n",
    "     [4 5 6]\n",
    "     [7 8 9]]"
   ]
  },
  {
   "cell_type": "markdown",
   "id": "8276b0e1",
   "metadata": {},
   "source": [
    "## Slicing Numpy array\n",
    "\n",
    "Slicing in numpy is similar to slicing in python list"
   ]
  },
  {
   "cell_type": "code",
   "execution_count": null,
   "id": "e266cf59",
   "metadata": {
    "attributes": {
     "classes": [
      "py"
     ],
     "id": ""
    }
   },
   "outputs": [],
   "source": [
    "two_dimension_array = np.array([[1,2,3],[4,5,6], [7,8,9]])\n",
    "first_two_rows_and_columns = two_dimension_array[0:2, 0:2]\n",
    "print(first_two_rows_and_columns)"
   ]
  },
  {
   "cell_type": "code",
   "execution_count": null,
   "id": "08e4b731",
   "metadata": {
    "attributes": {
     "classes": [
      "sh"
     ],
     "id": ""
    }
   },
   "outputs": [],
   "source": [
    "    [[1 2]\n",
    "     [4 5]]"
   ]
  },
  {
   "cell_type": "markdown",
   "id": "6cb990bd",
   "metadata": {},
   "source": [
    "### How to reverse the rows and the whole array?"
   ]
  },
  {
   "cell_type": "code",
   "execution_count": null,
   "id": "28b1e3f6",
   "metadata": {
    "attributes": {
     "classes": [
      "py"
     ],
     "id": ""
    }
   },
   "outputs": [],
   "source": [
    "two_dimension_array[::]"
   ]
  },
  {
   "cell_type": "code",
   "execution_count": null,
   "id": "8f1ad5d8",
   "metadata": {
    "attributes": {
     "classes": [
      "sh"
     ],
     "id": ""
    }
   },
   "outputs": [],
   "source": [
    "    array([[1, 2, 3],\n",
    "           [4, 5, 6],\n",
    "           [7, 8, 9]])"
   ]
  },
  {
   "cell_type": "markdown",
   "id": "3841dfde",
   "metadata": {},
   "source": [
    "### Reverse the row and column positions"
   ]
  },
  {
   "cell_type": "code",
   "execution_count": null,
   "id": "7c741aad",
   "metadata": {
    "attributes": {
     "classes": [
      "py"
     ],
     "id": ""
    }
   },
   "outputs": [],
   "source": [
    "    two_dimension_array = np.array([[1,2,3],[4,5,6], [7,8,9]])\n",
    "    two_dimension_array[::-1,::-1]"
   ]
  },
  {
   "cell_type": "code",
   "execution_count": null,
   "id": "0e5e1ee2",
   "metadata": {
    "attributes": {
     "classes": [
      "sh"
     ],
     "id": ""
    }
   },
   "outputs": [],
   "source": [
    "    array([[9, 8, 7],\n",
    "           [6, 5, 4],\n",
    "           [3, 2, 1]])"
   ]
  },
  {
   "cell_type": "markdown",
   "id": "8e9ddac8",
   "metadata": {},
   "source": [
    "## How to represent missing values ?"
   ]
  },
  {
   "cell_type": "code",
   "execution_count": null,
   "id": "943f51e3",
   "metadata": {},
   "outputs": [],
   "source": [
    "    print(two_dimension_array)\n",
    "    two_dimension_array[1,1] = 55\n",
    "    two_dimension_array[1,2] =44\n",
    "    print(two_dimension_array)"
   ]
  },
  {
   "cell_type": "code",
   "execution_count": null,
   "id": "36158b24",
   "metadata": {
    "attributes": {
     "classes": [
      "sh"
     ],
     "id": ""
    }
   },
   "outputs": [],
   "source": [
    "    [[1 2 3]\n",
    "     [4 5 6]\n",
    "     [7 8 9]]\n",
    "    [[ 1  2  3]\n",
    "     [ 4 55 44]\n",
    "     [ 7  8  9]]"
   ]
  },
  {
   "cell_type": "code",
   "execution_count": null,
   "id": "187a8088",
   "metadata": {
    "attributes": {
     "classes": [
      "py"
     ],
     "id": ""
    }
   },
   "outputs": [],
   "source": [
    "    # Numpy Zeroes\n",
    "    # numpy.zeros(shape, dtype=float, order='C')\n",
    "    numpy_zeroes = np.zeros((3,3),dtype=int,order='C')\n",
    "    numpy_zeroes"
   ]
  },
  {
   "cell_type": "code",
   "execution_count": null,
   "id": "c17593a4",
   "metadata": {
    "attributes": {
     "classes": [
      "sh"
     ],
     "id": ""
    }
   },
   "outputs": [],
   "source": [
    "    array([[0, 0, 0],\n",
    "           [0, 0, 0],\n",
    "           [0, 0, 0]])"
   ]
  },
  {
   "cell_type": "code",
   "execution_count": null,
   "id": "54ea7517",
   "metadata": {
    "attributes": {
     "classes": [
      "py"
     ],
     "id": ""
    }
   },
   "outputs": [],
   "source": [
    "# Numpy Zeroes\n",
    "numpy_ones = np.ones((3,3),dtype=int,order='C')\n",
    "print(numpy_ones)"
   ]
  },
  {
   "cell_type": "code",
   "execution_count": null,
   "id": "17bf46b6",
   "metadata": {
    "attributes": {
     "classes": [
      "sh"
     ],
     "id": ""
    }
   },
   "outputs": [],
   "source": [
    "    [[1 1 1]\n",
    "     [1 1 1]\n",
    "     [1 1 1]]"
   ]
  },
  {
   "cell_type": "code",
   "execution_count": null,
   "id": "14cd06b5",
   "metadata": {
    "attributes": {
     "classes": [
      "py"
     ],
     "id": ""
    }
   },
   "outputs": [],
   "source": [
    "twoes = numpy_ones * 2"
   ]
  },
  {
   "cell_type": "code",
   "execution_count": null,
   "id": "040c9966",
   "metadata": {
    "attributes": {
     "classes": [
      "py"
     ],
     "id": ""
    }
   },
   "outputs": [],
   "source": [
    "# Reshape\n",
    "# numpy.reshape(), numpy.flatten()\n",
    "first_shape  = np.array([(1,2,3), (4,5,6)])\n",
    "print(first_shape)\n",
    "reshaped = first_shape.reshape(3,2)\n",
    "print(reshaped)\n"
   ]
  },
  {
   "cell_type": "code",
   "execution_count": null,
   "id": "afb92b72",
   "metadata": {
    "attributes": {
     "classes": [
      "sh"
     ],
     "id": ""
    }
   },
   "outputs": [],
   "source": [
    "    [[1 2 3]\n",
    "     [4 5 6]]\n",
    "    [[1 2]\n",
    "     [3 4]\n",
    "     [5 6]]"
   ]
  },
  {
   "cell_type": "code",
   "execution_count": null,
   "id": "6aeeee63",
   "metadata": {
    "attributes": {
     "classes": [
      "py"
     ],
     "id": ""
    }
   },
   "outputs": [],
   "source": [
    "flattened = reshaped.flatten()\n",
    "flattened"
   ]
  },
  {
   "cell_type": "code",
   "execution_count": null,
   "id": "cf7e5c9c",
   "metadata": {
    "attributes": {
     "classes": [
      "sh"
     ],
     "id": ""
    }
   },
   "outputs": [],
   "source": [
    "    array([1, 2, 3, 4, 5, 6])"
   ]
  },
  {
   "cell_type": "code",
   "execution_count": null,
   "id": "40254794",
   "metadata": {
    "attributes": {
     "classes": [
      "py"
     ],
     "id": ""
    }
   },
   "outputs": [],
   "source": [
    "    ## Horitzontal Stack\n",
    "    np_list_one = np.array([1,2,3])\n",
    "    np_list_two = np.array([4,5,6])\n",
    "\n",
    "    print(np_list_one + np_list_two)\n",
    "\n",
    "    print('Horizontal Append:', np.hstack((np_list_one, np_list_two)))"
   ]
  },
  {
   "cell_type": "code",
   "execution_count": null,
   "id": "518c8fea",
   "metadata": {
    "attributes": {
     "classes": [
      "sh"
     ],
     "id": ""
    }
   },
   "outputs": [],
   "source": [
    "    [5 7 9]\n",
    "    Horizontal Append: [1 2 3 4 5 6]"
   ]
  },
  {
   "cell_type": "code",
   "execution_count": null,
   "id": "7c04ccb2",
   "metadata": {
    "attributes": {
     "classes": [
      "py"
     ],
     "id": ""
    }
   },
   "outputs": [],
   "source": [
    "    ## Vertical Stack\n",
    "    print('Vertical Append:', np.vstack((np_list_one, np_list_two)))"
   ]
  },
  {
   "cell_type": "code",
   "execution_count": null,
   "id": "bac3d6c9",
   "metadata": {
    "attributes": {
     "classes": [
      "sh"
     ],
     "id": ""
    }
   },
   "outputs": [],
   "source": [
    "    Vertical Append: [[1 2 3]\n",
    "     [4 5 6]]"
   ]
  },
  {
   "cell_type": "markdown",
   "id": "ee7210c0",
   "metadata": {},
   "source": [
    "#### Generating Random Numbers"
   ]
  },
  {
   "cell_type": "code",
   "execution_count": null,
   "id": "606c4f9f",
   "metadata": {
    "attributes": {
     "classes": [
      "py"
     ],
     "id": ""
    }
   },
   "outputs": [],
   "source": [
    "    # Generate a random float  number\n",
    "    random_float = np.random.random()\n",
    "    random_float"
   ]
  },
  {
   "cell_type": "code",
   "execution_count": null,
   "id": "fd7af0ee",
   "metadata": {
    "attributes": {
     "classes": [
      "sh"
     ],
     "id": ""
    }
   },
   "outputs": [],
   "source": [
    "    0.018929887384753874"
   ]
  },
  {
   "cell_type": "code",
   "execution_count": null,
   "id": "36cfc959",
   "metadata": {
    "attributes": {
     "classes": [
      "py"
     ],
     "id": ""
    }
   },
   "outputs": [],
   "source": [
    "    # Generate a random float  number\n",
    "    random_floats = np.random.random(5)\n",
    "    random_floats"
   ]
  },
  {
   "cell_type": "code",
   "execution_count": null,
   "id": "bddf2e66",
   "metadata": {
    "attributes": {
     "classes": [
      "sh"
     ],
     "id": ""
    }
   },
   "outputs": [],
   "source": [
    "    array([0.26392192, 0.35842215, 0.87908478, 0.41902195, 0.78926418])"
   ]
  },
  {
   "cell_type": "code",
   "execution_count": null,
   "id": "5c5b889f",
   "metadata": {
    "attributes": {
     "classes": [
      "py"
     ],
     "id": ""
    }
   },
   "outputs": [],
   "source": [
    "    # Generating a random integers between 0 and 10\n",
    "\n",
    "    random_int = np.random.randint(0, 11)\n",
    "    random_int"
   ]
  },
  {
   "cell_type": "code",
   "execution_count": null,
   "id": "a98da59c",
   "metadata": {
    "attributes": {
     "classes": [
      "sh"
     ],
     "id": ""
    }
   },
   "outputs": [],
   "source": [
    "    4"
   ]
  },
  {
   "cell_type": "code",
   "execution_count": null,
   "id": "a061c407",
   "metadata": {
    "attributes": {
     "classes": [
      "py"
     ],
     "id": ""
    }
   },
   "outputs": [],
   "source": [
    "    # Generating a random integers between 2 and 11, and creating a one row array\n",
    "    random_int = np.random.randint(2,10, size=4)\n",
    "    random_int"
   ]
  },
  {
   "cell_type": "code",
   "execution_count": null,
   "id": "32f1f198",
   "metadata": {
    "attributes": {
     "classes": [
      "sh"
     ],
     "id": ""
    }
   },
   "outputs": [],
   "source": [
    "    array([8, 8, 8, 2])"
   ]
  },
  {
   "cell_type": "code",
   "execution_count": null,
   "id": "04081403",
   "metadata": {
    "attributes": {
     "classes": [
      "py"
     ],
     "id": ""
    }
   },
   "outputs": [],
   "source": [
    "    # Generating a random integers between 0 and 10\n",
    "    random_int = np.random.randint(2,10, size=(3,3))\n",
    "    random_int"
   ]
  },
  {
   "cell_type": "code",
   "execution_count": null,
   "id": "2117d600",
   "metadata": {
    "attributes": {
     "classes": [
      "sh"
     ],
     "id": ""
    }
   },
   "outputs": [],
   "source": [
    "    array([[3, 5, 3],\n",
    "           [7, 3, 6],\n",
    "           [2, 3, 3]])"
   ]
  },
  {
   "cell_type": "markdown",
   "id": "f7520ee8",
   "metadata": {},
   "source": [
    "### Generationg random numbers"
   ]
  },
  {
   "cell_type": "code",
   "execution_count": null,
   "id": "d5f6720f",
   "metadata": {
    "attributes": {
     "classes": [
      "py"
     ],
     "id": ""
    }
   },
   "outputs": [],
   "source": [
    "    # np.random.normal(mu, sigma, size)\n",
    "    normal_array = np.random.normal(79, 15, 80)\n",
    "    normal_array\n"
   ]
  },
  {
   "cell_type": "code",
   "execution_count": null,
   "id": "4af274c8",
   "metadata": {
    "attributes": {
     "classes": [
      "sh"
     ],
     "id": ""
    }
   },
   "outputs": [],
   "source": [
    "    array([ 89.49990595,  82.06056961, 107.21445842,  38.69307086,\n",
    "            47.85259157,  93.07381061,  76.40724259,  78.55675184,\n",
    "            72.17358173,  47.9888899 ,  65.10370622,  76.29696568,\n",
    "            95.58234254,  68.14897213,  38.75862686, 122.5587927 ,\n",
    "            67.0762565 ,  95.73990864,  81.97454563,  92.54264805,\n",
    "            59.37035153,  77.76828101,  52.30752166,  64.43109931,\n",
    "            62.63695351,  90.04616138,  75.70009094,  49.87586877,\n",
    "            80.22002414,  68.56708848,  76.27791052,  67.24343975,\n",
    "            81.86363935,  78.22703433, 102.85737041,  65.15700341,\n",
    "            84.87033426,  76.7569997 ,  64.61321853,  67.37244562,\n",
    "            74.4068773 ,  58.65119655,  71.66488727,  53.42458179,\n",
    "            70.26872028,  60.96588544,  83.56129414,  72.14255326,\n",
    "            81.00787609,  71.81264853,  72.64168853,  86.56608717,\n",
    "            94.94667321,  82.32676973,  70.5165446 ,  85.43061003,\n",
    "            72.45526212,  87.34681775,  87.69911217, 103.02831489,\n",
    "            75.28598596,  67.17806893,  92.41274447, 101.06662611,\n",
    "            87.70013935,  70.73980645,  46.40368207,  50.17947092,\n",
    "            61.75618542,  90.26191397,  78.63968639,  70.84550744,\n",
    "            88.91826581, 103.91474733,  66.3064638 ,  79.49726264,\n",
    "            70.81087439,  83.90130623,  87.58555972,  59.95462521])"
   ]
  },
  {
   "cell_type": "markdown",
   "id": "2c6445e1",
   "metadata": {},
   "source": [
    "## Numpy and Statistics"
   ]
  },
  {
   "cell_type": "code",
   "execution_count": null,
   "id": "d3ad91f7",
   "metadata": {
    "attributes": {
     "classes": [
      "py"
     ],
     "id": ""
    }
   },
   "outputs": [],
   "source": [
    "import matplotlib.pyplot as plt\n",
    "import seaborn as sns\n",
    "sns.set()\n",
    "plt.hist(normal_array, color=\"grey\", bins=50)"
   ]
  },
  {
   "cell_type": "code",
   "execution_count": null,
   "id": "dbb2a6be",
   "metadata": {
    "attributes": {
     "classes": [
      "sh"
     ],
     "id": ""
    }
   },
   "outputs": [],
   "source": [
    "    (array([2., 0., 0., 0., 1., 2., 2., 0., 2., 0., 0., 1., 2., 2., 1., 4., 3.,\n",
    "            4., 2., 7., 2., 2., 5., 4., 2., 4., 3., 2., 1., 5., 3., 0., 3., 2.,\n",
    "            1., 0., 0., 1., 3., 0., 1., 0., 0., 0., 0., 0., 0., 0., 0., 1.]),\n",
    "     array([ 38.69307086,  40.37038529,  42.04769973,  43.72501417,\n",
    "             45.4023286 ,  47.07964304,  48.75695748,  50.43427191,\n",
    "             52.11158635,  53.78890079,  55.46621523,  57.14352966,\n",
    "             58.8208441 ,  60.49815854,  62.17547297,  63.85278741,\n",
    "             65.53010185,  67.20741628,  68.88473072,  70.56204516,\n",
    "             72.23935959,  73.91667403,  75.59398847,  77.27130291,\n",
    "             78.94861734,  80.62593178,  82.30324622,  83.98056065,\n",
    "             85.65787509,  87.33518953,  89.01250396,  90.6898184 ,\n",
    "             92.36713284,  94.04444727,  95.72176171,  97.39907615,\n",
    "             99.07639058, 100.75370502, 102.43101946, 104.1083339 ,\n",
    "            105.78564833, 107.46296277, 109.14027721, 110.81759164,\n",
    "            112.49490608, 114.17222052, 115.84953495, 117.52684939,\n",
    "            119.20416383, 120.88147826, 122.5587927 ]),\n",
    "     <a list of 50 Patch objects>)"
   ]
  },
  {
   "cell_type": "markdown",
   "id": "031aa2e5",
   "metadata": {},
   "source": [
    "### Matrix in numpy"
   ]
  },
  {
   "cell_type": "code",
   "execution_count": null,
   "id": "e9d5139a",
   "metadata": {
    "attributes": {
     "classes": [
      "py"
     ],
     "id": ""
    }
   },
   "outputs": [],
   "source": [
    "\n",
    "four_by_four_matrix = np.matrix(np.ones((4,4), dtype=float))"
   ]
  },
  {
   "cell_type": "code",
   "execution_count": null,
   "id": "f856fddb",
   "metadata": {
    "attributes": {
     "classes": [
      "py"
     ],
     "id": ""
    }
   },
   "outputs": [],
   "source": [
    "four_by_four_matrix"
   ]
  },
  {
   "cell_type": "code",
   "execution_count": null,
   "id": "c68d20a1",
   "metadata": {
    "attributes": {
     "classes": [
      "sh"
     ],
     "id": ""
    }
   },
   "outputs": [],
   "source": [
    "matrix([[1., 1., 1., 1.],\n",
    "            [1., 1., 1., 1.],\n",
    "            [1., 1., 1., 1.],\n",
    "            [1., 1., 1., 1.]])"
   ]
  },
  {
   "cell_type": "code",
   "execution_count": null,
   "id": "987c3840",
   "metadata": {
    "attributes": {
     "classes": [
      "py"
     ],
     "id": ""
    }
   },
   "outputs": [],
   "source": [
    "np.asarray(four_by_four_matrix)[2] = 2\n",
    "four_by_four_matrix"
   ]
  },
  {
   "cell_type": "code",
   "execution_count": null,
   "id": "37fc9c15",
   "metadata": {
    "attributes": {
     "classes": [
      "sh"
     ],
     "id": ""
    }
   },
   "outputs": [],
   "source": [
    "\n",
    "matrix([[1., 1., 1., 1.],\n",
    "            [1., 1., 1., 1.],\n",
    "            [2., 2., 2., 2.],\n",
    "            [1., 1., 1., 1.]])"
   ]
  },
  {
   "cell_type": "markdown",
   "id": "c67b7315",
   "metadata": {},
   "source": [
    "### Numpy numpy.arange()\n",
    "\n",
    "#### What is Arrange?\n",
    "\n",
    "Sometimes, you want to create values that are evenly spaced within a defined interval. For instance, you want to create values from 1 to 10; you can use numpy.arange() function"
   ]
  },
  {
   "cell_type": "code",
   "execution_count": null,
   "id": "9b727472",
   "metadata": {
    "attributes": {
     "classes": [
      "py"
     ],
     "id": ""
    }
   },
   "outputs": [],
   "source": [
    "# creating list using range(starting, stop, step)\n",
    "lst = range(0, 11, 2)\n",
    "lst"
   ]
  },
  {
   "cell_type": "code",
   "execution_count": null,
   "id": "cbb27a5a",
   "metadata": {},
   "outputs": [],
   "source": [
    "range(0, 11, 2)"
   ]
  },
  {
   "cell_type": "code",
   "execution_count": null,
   "id": "d34c6250",
   "metadata": {},
   "outputs": [],
   "source": [
    "for l in lst:\n",
    "    print(l)"
   ]
  },
  {
   "cell_type": "code",
   "execution_count": null,
   "id": "56386253",
   "metadata": {},
   "outputs": [],
   "source": [
    "    2\n",
    "    4\n",
    "    6\n",
    "    8\n",
    "    10"
   ]
  },
  {
   "cell_type": "code",
   "execution_count": null,
   "id": "2ab8b413",
   "metadata": {
    "attributes": {
     "classes": [
      "py"
     ],
     "id": ""
    }
   },
   "outputs": [],
   "source": [
    "# Similar to range arange numpy.arange(start, stop, step)\n",
    "whole_numbers = np.arange(0, 20, 1)\n",
    "whole_numbers"
   ]
  },
  {
   "cell_type": "code",
   "execution_count": null,
   "id": "e84bc2d1",
   "metadata": {
    "attributes": {
     "classes": [
      "sh"
     ],
     "id": ""
    }
   },
   "outputs": [],
   "source": [
    "array([ 0,  1,  2,  3,  4,  5,  6,  7,  8,  9, 10, 11, 12, 13, 14, 15, 16,\n",
    "           17, 18, 19])"
   ]
  },
  {
   "cell_type": "code",
   "execution_count": null,
   "id": "d92752cb",
   "metadata": {
    "attributes": {
     "classes": [
      "py"
     ],
     "id": ""
    }
   },
   "outputs": [],
   "source": [
    "natural_numbers = np.arange(1, 20, 1)\n",
    "natural_numbers"
   ]
  },
  {
   "cell_type": "code",
   "execution_count": null,
   "id": "64d0949b",
   "metadata": {
    "attributes": {
     "classes": [
      "py"
     ],
     "id": ""
    }
   },
   "outputs": [],
   "source": [
    "odd_numbers = np.arange(1, 20, 2)\n",
    "odd_numbers"
   ]
  },
  {
   "cell_type": "code",
   "execution_count": null,
   "id": "5ffa833a",
   "metadata": {
    "attributes": {
     "classes": [
      "sh"
     ],
     "id": ""
    }
   },
   "outputs": [],
   "source": [
    "    array([ 1,  3,  5,  7,  9, 11, 13, 15, 17, 19])"
   ]
  },
  {
   "cell_type": "code",
   "execution_count": null,
   "id": "c32bde55",
   "metadata": {
    "attributes": {
     "classes": [
      "py"
     ],
     "id": ""
    }
   },
   "outputs": [],
   "source": [
    "even_numbers = np.arange(2, 20, 2)\n",
    "even_numbers"
   ]
  },
  {
   "cell_type": "code",
   "execution_count": null,
   "id": "def8a9a4",
   "metadata": {
    "attributes": {
     "classes": [
      "sh"
     ],
     "id": ""
    }
   },
   "outputs": [],
   "source": [
    "    array([ 2,  4,  6,  8, 10, 12, 14, 16, 18])"
   ]
  },
  {
   "cell_type": "markdown",
   "id": "03322f23",
   "metadata": {},
   "source": [
    "### Creating sequence of numbers using linspace"
   ]
  },
  {
   "cell_type": "code",
   "execution_count": null,
   "id": "bacff127",
   "metadata": {
    "attributes": {
     "classes": [
      "py"
     ],
     "id": ""
    }
   },
   "outputs": [],
   "source": [
    "# numpy.linspace()\n",
    "# numpy.logspace() in Python with Example\n",
    "# For instance, it can be used to create 10 values from 1 to 5 evenly spaced.\n",
    "np.linspace(1.0, 5.0, num=10)"
   ]
  },
  {
   "cell_type": "code",
   "execution_count": null,
   "id": "571ca5f9",
   "metadata": {
    "attributes": {
     "classes": [
      "sh"
     ],
     "id": ""
    }
   },
   "outputs": [],
   "source": [
    "    array([1.        , 1.44444444, 1.88888889, 2.33333333, 2.77777778,\n",
    "           3.22222222, 3.66666667, 4.11111111, 4.55555556, 5.        ])"
   ]
  },
  {
   "cell_type": "code",
   "execution_count": null,
   "id": "1ae78475",
   "metadata": {
    "attributes": {
     "classes": [
      "py"
     ],
     "id": ""
    }
   },
   "outputs": [],
   "source": [
    "# not to include the last value in the interval\n",
    "np.linspace(1.0, 5.0, num=5, endpoint=False)"
   ]
  },
  {
   "cell_type": "code",
   "execution_count": null,
   "id": "fecb6288",
   "metadata": {},
   "outputs": [],
   "source": [
    "array([1. , 1.8, 2.6, 3.4, 4.2])"
   ]
  },
  {
   "cell_type": "code",
   "execution_count": null,
   "id": "0726e31b",
   "metadata": {
    "attributes": {
     "classes": [
      "py"
     ],
     "id": ""
    }
   },
   "outputs": [],
   "source": [
    "# LogSpace\n",
    "# LogSpace returns even spaced numbers on a log scale. Logspace has the same parameters as np.linspace.\n",
    "\n",
    "# Syntax:\n",
    "\n",
    "# numpy.logspace(start, stop, num, endpoint)\n",
    "\n",
    "np.logspace(2, 4.0, num=4)"
   ]
  },
  {
   "cell_type": "code",
   "execution_count": null,
   "id": "e22bcdfc",
   "metadata": {
    "attributes": {
     "classes": [
      "sh"
     ],
     "id": ""
    }
   },
   "outputs": [],
   "source": [
    "\n",
    "array([  100.        ,   464.15888336,  2154.43469003, 10000.        ])"
   ]
  },
  {
   "cell_type": "code",
   "execution_count": null,
   "id": "849b1b29",
   "metadata": {
    "attributes": {
     "classes": [
      "py"
     ],
     "id": ""
    }
   },
   "outputs": [],
   "source": [
    "# to check the size of an array\n",
    "x = np.array([1,2,3], dtype=np.complex128)"
   ]
  },
  {
   "cell_type": "code",
   "execution_count": null,
   "id": "dbfd0d73",
   "metadata": {
    "attributes": {
     "classes": [
      "py"
     ],
     "id": ""
    }
   },
   "outputs": [],
   "source": [
    "x"
   ]
  },
  {
   "cell_type": "code",
   "execution_count": null,
   "id": "5e9de92b",
   "metadata": {
    "attributes": {
     "classes": [
      "sh"
     ],
     "id": ""
    }
   },
   "outputs": [],
   "source": [
    "    array([1.+0.j, 2.+0.j, 3.+0.j])"
   ]
  },
  {
   "cell_type": "code",
   "execution_count": null,
   "id": "7fa31e60",
   "metadata": {
    "attributes": {
     "classes": [
      "py"
     ],
     "id": ""
    }
   },
   "outputs": [],
   "source": [
    "x.itemsize"
   ]
  },
  {
   "cell_type": "code",
   "execution_count": null,
   "id": "0405cd1f",
   "metadata": {
    "attributes": {
     "classes": [
      "sh"
     ],
     "id": ""
    }
   },
   "outputs": [],
   "source": [
    "16"
   ]
  },
  {
   "cell_type": "code",
   "execution_count": null,
   "id": "8b60cb2d",
   "metadata": {
    "attributes": {
     "classes": [
      "py"
     ],
     "id": ""
    }
   },
   "outputs": [],
   "source": [
    "# indexing and Slicing NumPy Arrays in Python\n",
    "np_list = np.array([(1,2,3), (4,5,6)])\n",
    "np_list\n"
   ]
  },
  {
   "cell_type": "code",
   "execution_count": null,
   "id": "3837c10b",
   "metadata": {
    "attributes": {
     "classes": [
      "sh"
     ],
     "id": ""
    }
   },
   "outputs": [],
   "source": [
    "    array([[1, 2, 3],\n",
    "           [4, 5, 6]])"
   ]
  },
  {
   "cell_type": "code",
   "execution_count": null,
   "id": "dabd0bc5",
   "metadata": {
    "attributes": {
     "classes": [
      "py"
     ],
     "id": ""
    }
   },
   "outputs": [],
   "source": [
    "print('First row: ', np_list[0])\n",
    "print('Second row: ', np_list[1])\n"
   ]
  },
  {
   "cell_type": "code",
   "execution_count": null,
   "id": "acaecaaf",
   "metadata": {
    "attributes": {
     "classes": [
      "sh"
     ],
     "id": ""
    }
   },
   "outputs": [],
   "source": [
    "\n",
    "    First row:  [1 2 3]\n",
    "    Second row:  [4 5 6]"
   ]
  },
  {
   "cell_type": "code",
   "execution_count": null,
   "id": "d81b8095",
   "metadata": {
    "attributes": {
     "classes": [
      "p"
     ],
     "id": ""
    }
   },
   "outputs": [],
   "source": [
    "print('First column: ', np_list[:,0])\n",
    "print('Second column: ', np_list[:,1])\n",
    "print('Third column: ', np_list[:,2])\n"
   ]
  },
  {
   "cell_type": "code",
   "execution_count": null,
   "id": "c89b62b7",
   "metadata": {
    "attributes": {
     "classes": [
      "sh"
     ],
     "id": ""
    }
   },
   "outputs": [],
   "source": [
    "    First column:  [1 4]\n",
    "    Second column:  [2 5]\n",
    "    Third column:  [3 6]"
   ]
  },
  {
   "cell_type": "markdown",
   "id": "fb49640b",
   "metadata": {},
   "source": [
    "### NumPy Statistical Functions with Example\n",
    "\n",
    "NumPy has quite useful statistical functions for finding minimum, maximum, mean, median, percentile,standard deviation and variance, etc from the given elements in the array.\n",
    "The functions are explained as follows −\n",
    "Statistical function\n",
    "Numpy is equipped with the robust statistical function as listed below\n",
    "\n",
    "- Numpy Functions\n",
    "  - Min np.min()\n",
    "  - Max np.max()\n",
    "  - Mean np.mean()\n",
    "  - Median np.median()\n",
    "  - Varience\n",
    "  - Percentile\n",
    "  - Standard deviation np.std()"
   ]
  },
  {
   "cell_type": "code",
   "execution_count": null,
   "id": "8f72d86e",
   "metadata": {},
   "outputs": [],
   "source": [
    "np_normal_dis = np.random.normal(5, 0.5, 100)\n",
    "np_normal_dis\n",
    "## min, max, mean, median, sd\n",
    "print('min: ', two_dimension_array.min())\n",
    "print('max: ', two_dimension_array.max())\n",
    "print('mean: ',two_dimension_array.mean())\n",
    "# print('median: ', two_dimension_array.median())\n",
    "print('sd: ', two_dimension_array.std())"
   ]
  },
  {
   "cell_type": "code",
   "execution_count": null,
   "id": "9bf34e4f",
   "metadata": {},
   "outputs": [],
   "source": [
    "min:  1\n",
    "max:  55\n",
    "mean:  14.777777777777779\n",
    "sd:  18.913709183069525"
   ]
  },
  {
   "cell_type": "code",
   "execution_count": null,
   "id": "11098871",
   "metadata": {},
   "outputs": [],
   "source": [
    "min:  1\n",
    "max:  55\n",
    "mean:  14.777777777777779\n",
    "sd:  18.913709183069525"
   ]
  },
  {
   "cell_type": "code",
   "execution_count": null,
   "id": "a81944da",
   "metadata": {},
   "outputs": [],
   "source": [
    "print(two_dimension_array)\n",
    "print('Column with minimum: ', np.amin(two_dimension_array,axis=0))\n",
    "print('Column with maximum: ', np.amax(two_dimension_array,axis=0))\n",
    "print('=== Row ==')\n",
    "print('Row with minimum: ', np.amin(two_dimension_array,axis=1))\n",
    "print('Row with maximum: ', np.amax(two_dimension_array,axis=1))"
   ]
  },
  {
   "cell_type": "code",
   "execution_count": null,
   "id": "beaa9f9e",
   "metadata": {},
   "outputs": [],
   "source": [
    "[[ 1  2  3]\n",
    " [ 4 55 44]\n",
    " [ 7  8  9]]\n",
    "Column with minimum:  [1 2 3]\n",
    "Column with maximum:  [ 7 55 44]\n",
    "=== Row ==\n",
    "Row with minimum:  [1 4 7]\n",
    "Row with maximum:  [ 3 55  9]"
   ]
  },
  {
   "cell_type": "markdown",
   "id": "c8cb9204",
   "metadata": {},
   "source": [
    "### How to create repeating sequences?"
   ]
  },
  {
   "cell_type": "code",
   "execution_count": null,
   "id": "5154162c",
   "metadata": {},
   "outputs": [],
   "source": [
    "a = [1,2,3]\n",
    "\n",
    "# Repeat whole of 'a' two times\n",
    "print('Tile:   ', np.tile(a, 2))\n",
    "\n",
    "# Repeat each element of 'a' two times\n",
    "print('Repeat: ', np.repeat(a, 2))\n"
   ]
  },
  {
   "cell_type": "code",
   "execution_count": null,
   "id": "806368d1",
   "metadata": {},
   "outputs": [],
   "source": [
    "Tile:    [1 2 3 1 2 3]\n",
    "Repeat:  [1 1 2 2 3 3]"
   ]
  },
  {
   "cell_type": "markdown",
   "id": "24098832",
   "metadata": {},
   "source": [
    "### How to generate random numbers?"
   ]
  },
  {
   "cell_type": "code",
   "execution_count": null,
   "id": "39c51215",
   "metadata": {},
   "outputs": [],
   "source": [
    "# One random number between [0,1)\n",
    "one_random_num = np.random.random()\n",
    "one_random_in = np.random\n",
    "print(one_random_num)"
   ]
  },
  {
   "cell_type": "code",
   "execution_count": null,
   "id": "dba5f193",
   "metadata": {},
   "outputs": [],
   "source": [
    "0.6149403282678213"
   ]
  },
  {
   "cell_type": "code",
   "execution_count": null,
   "id": "3ab69c8e",
   "metadata": {},
   "outputs": [],
   "source": [
    "0.4763968133790438"
   ]
  },
  {
   "cell_type": "code",
   "execution_count": null,
   "id": "bd66bce9",
   "metadata": {},
   "outputs": [],
   "source": [
    "0.4763968133790438"
   ]
  },
  {
   "cell_type": "code",
   "execution_count": null,
   "id": "e802016e",
   "metadata": {},
   "outputs": [],
   "source": [
    "# Random numbers between [0,1) of shape 2,3\n",
    "r = np.random.random(size=[2,3])\n",
    "print(r)"
   ]
  },
  {
   "cell_type": "code",
   "execution_count": null,
   "id": "167ccdc8",
   "metadata": {},
   "outputs": [],
   "source": [
    "[[0.13031737 0.4429537  0.1129527 ]\n",
    " [0.76811539 0.88256594 0.6754075 ]]"
   ]
  },
  {
   "cell_type": "code",
   "execution_count": null,
   "id": "3628533b",
   "metadata": {},
   "outputs": [],
   "source": [
    "print(np.random.choice(['a', 'e', 'i', 'o', 'u'], size=10))"
   ]
  },
  {
   "cell_type": "code",
   "execution_count": null,
   "id": "ee2d37b7",
   "metadata": {},
   "outputs": [],
   "source": [
    "['u' 'o' 'o' 'i' 'e' 'e' 'u' 'o' 'u' 'a']"
   ]
  },
  {
   "cell_type": "code",
   "execution_count": null,
   "id": "94ad9535",
   "metadata": {},
   "outputs": [],
   "source": [
    "['i' 'u' 'e' 'o' 'a' 'i' 'e' 'u' 'o' 'i']"
   ]
  },
  {
   "cell_type": "code",
   "execution_count": null,
   "id": "296263bc",
   "metadata": {},
   "outputs": [],
   "source": [
    "['iueoaieuoi']"
   ]
  },
  {
   "cell_type": "code",
   "execution_count": null,
   "id": "47eb7904",
   "metadata": {},
   "outputs": [],
   "source": [
    "## Random numbers between [0, 1] of shape 2, 2\n",
    "rand = np.random.rand(2,2)\n",
    "rand"
   ]
  },
  {
   "cell_type": "code",
   "execution_count": null,
   "id": "e7fa40dd",
   "metadata": {},
   "outputs": [],
   "source": [
    "array([[0.97992598, 0.79642484],\n",
    "       [0.65263629, 0.55763145]])"
   ]
  },
  {
   "cell_type": "code",
   "execution_count": null,
   "id": "7402eae0",
   "metadata": {},
   "outputs": [],
   "source": [
    "rand2 = np.random.randn(2,2)\n",
    "rand2\n"
   ]
  },
  {
   "cell_type": "code",
   "execution_count": null,
   "id": "d0ce0c91",
   "metadata": {},
   "outputs": [],
   "source": [
    "array([[ 1.65593322, -0.52326621],\n",
    "       [ 0.39071179, -2.03649407]])"
   ]
  },
  {
   "cell_type": "code",
   "execution_count": null,
   "id": "135b8cc8",
   "metadata": {},
   "outputs": [],
   "source": [
    "# Random integers between [0, 10) of shape 2,5\n",
    "rand_int = np.random.randint(0, 10, size=[5,3])\n",
    "rand_int"
   ]
  },
  {
   "cell_type": "code",
   "execution_count": null,
   "id": "0e0ac6da",
   "metadata": {},
   "outputs": [],
   "source": [
    "array([[0, 7, 5],\n",
    "       [4, 1, 4],\n",
    "       [3, 5, 3],\n",
    "       [4, 3, 8],\n",
    "       [4, 6, 7]])"
   ]
  },
  {
   "cell_type": "code",
   "execution_count": null,
   "id": "dfcdbd56",
   "metadata": {
    "attributes": {
     "classes": [
      "py"
     ],
     "id": ""
    }
   },
   "outputs": [],
   "source": [
    "from scipy import stats\n",
    "np_normal_dis = np.random.normal(5, 0.5, 1000) # mean, standard deviation, number of samples\n",
    "np_normal_dis\n",
    "## min, max, mean, median, sd\n",
    "print('min: ', np.min(np_normal_dis))\n",
    "print('max: ', np.max(np_normal_dis))\n",
    "print('mean: ', np.mean(np_normal_dis))\n",
    "print('median: ', np.median(np_normal_dis))\n",
    "print('mode: ', stats.mode(np_normal_dis))\n",
    "print('sd: ', np.std(np_normal_dis))"
   ]
  },
  {
   "cell_type": "code",
   "execution_count": null,
   "id": "6d99ec4c",
   "metadata": {
    "attributes": {
     "classes": [
      "sh"
     ],
     "id": ""
    }
   },
   "outputs": [],
   "source": [
    "\n",
    "    min:  3.557811005458804\n",
    "    max:  6.876317743643499\n",
    "    mean:  5.035832048106663\n",
    "    median:  5.020161980441937\n",
    "    mode:  ModeResult(mode=array([3.55781101]), count=array([1]))\n",
    "    sd:  0.489682424165213\n"
   ]
  },
  {
   "cell_type": "code",
   "execution_count": null,
   "id": "a27c37c8",
   "metadata": {},
   "outputs": [],
   "source": [
    "plt.hist(np_normal_dis, color=\"grey\", bins=21)\n",
    "plt.show()"
   ]
  },
  {
   "cell_type": "markdown",
   "id": "b953cbab",
   "metadata": {},
   "source": [
    "![png](../test_files/test_121_0.png)"
   ]
  },
  {
   "cell_type": "code",
   "execution_count": null,
   "id": "59799cd4",
   "metadata": {},
   "outputs": [],
   "source": [
    "# numpy.dot(): Dot Product in Python using Numpy\n",
    "# Dot Product\n",
    "# Numpy is powerful library for matrices computation. For instance, you can compute the dot product with np.dot\n",
    "\n",
    "# Syntax\n",
    "\n",
    "# numpy.dot(x, y, out=None)"
   ]
  },
  {
   "cell_type": "markdown",
   "id": "6994d62f",
   "metadata": {},
   "source": [
    "### Linear Algebra\n",
    "\n",
    "1. Dot Product"
   ]
  },
  {
   "cell_type": "code",
   "execution_count": null,
   "id": "2198e4ab",
   "metadata": {},
   "outputs": [],
   "source": [
    "## Linear algebra\n",
    "### Dot product: product of two arrays\n",
    "f = np.array([1,2,3])\n",
    "g = np.array([4,5,3])\n",
    "### 1*4+2*5 + 3*6\n",
    "np.dot(f, g)  # 23"
   ]
  },
  {
   "cell_type": "markdown",
   "id": "2b659088",
   "metadata": {},
   "source": [
    "### NumPy Matrix Multiplication with np.matmul()"
   ]
  },
  {
   "cell_type": "code",
   "execution_count": null,
   "id": "06fb0f82",
   "metadata": {},
   "outputs": [],
   "source": [
    "### Matmul: matruc product of two arrays\n",
    "h = [[1,2],[3,4]]\n",
    "i = [[5,6],[7,8]]\n",
    "### 1*5+2*7 = 19\n",
    "np.matmul(h, i)"
   ]
  },
  {
   "cell_type": "code",
   "execution_count": null,
   "id": "94a59ee7",
   "metadata": {
    "attributes": {
     "classes": [
      "sh"
     ],
     "id": ""
    }
   },
   "outputs": [],
   "source": [
    "    array([[19, 22],\n",
    "           [43, 50]])\n"
   ]
  },
  {
   "cell_type": "code",
   "execution_count": null,
   "id": "acd062af",
   "metadata": {
    "attributes": {
     "classes": [
      "py"
     ],
     "id": ""
    }
   },
   "outputs": [],
   "source": [
    "## Determinant 2*2 matrix\n",
    "### 5*8-7*6np.linalg.det(i)"
   ]
  },
  {
   "cell_type": "code",
   "execution_count": null,
   "id": "202f2b96",
   "metadata": {},
   "outputs": [],
   "source": [
    "np.linalg.det(i)"
   ]
  },
  {
   "cell_type": "code",
   "execution_count": null,
   "id": "5da57c6f",
   "metadata": {},
   "outputs": [],
   "source": [
    "-1.999999999999999"
   ]
  },
  {
   "cell_type": "code",
   "execution_count": null,
   "id": "70077868",
   "metadata": {},
   "outputs": [],
   "source": [
    "Z = np.zeros((8,8))\n",
    "Z[1::2,::2] = 1\n",
    "Z[::2,1::2] = 1"
   ]
  },
  {
   "cell_type": "code",
   "execution_count": null,
   "id": "4bfe3cde",
   "metadata": {},
   "outputs": [],
   "source": [
    "Z"
   ]
  },
  {
   "cell_type": "code",
   "execution_count": null,
   "id": "95f07b4f",
   "metadata": {},
   "outputs": [],
   "source": [
    "array([[0., 1., 0., 1., 0., 1., 0., 1.],\n",
    "       [1., 0., 1., 0., 1., 0., 1., 0.],\n",
    "       [0., 1., 0., 1., 0., 1., 0., 1.],\n",
    "       [1., 0., 1., 0., 1., 0., 1., 0.],\n",
    "       [0., 1., 0., 1., 0., 1., 0., 1.],\n",
    "       [1., 0., 1., 0., 1., 0., 1., 0.],\n",
    "       [0., 1., 0., 1., 0., 1., 0., 1.],\n",
    "       [1., 0., 1., 0., 1., 0., 1., 0.]])"
   ]
  },
  {
   "cell_type": "code",
   "execution_count": null,
   "id": "6e8c358a",
   "metadata": {},
   "outputs": [],
   "source": [
    "new_list = [ x + 2 for x in range(0, 11)]"
   ]
  },
  {
   "cell_type": "code",
   "execution_count": null,
   "id": "7ef5af83",
   "metadata": {},
   "outputs": [],
   "source": [
    "new_list"
   ]
  },
  {
   "cell_type": "code",
   "execution_count": null,
   "id": "e8338b09",
   "metadata": {},
   "outputs": [],
   "source": [
    "[2, 3, 4, 5, 6, 7, 8, 9, 10, 11, 12]"
   ]
  },
  {
   "cell_type": "code",
   "execution_count": null,
   "id": "2e658274",
   "metadata": {},
   "outputs": [],
   "source": [
    "[2, 3, 4, 5, 6, 7, 8, 9, 10, 11, 12]"
   ]
  },
  {
   "cell_type": "code",
   "execution_count": null,
   "id": "23b34207",
   "metadata": {},
   "outputs": [],
   "source": [
    "[2, 3, 4, 5, 6, 7, 8, 9, 10, 11, 12]"
   ]
  },
  {
   "cell_type": "code",
   "execution_count": null,
   "id": "8cc872f5",
   "metadata": {},
   "outputs": [],
   "source": [
    "np_arr = np.array(range(0, 11))\n",
    "np_arr + 2"
   ]
  },
  {
   "cell_type": "markdown",
   "id": "b0d1925c",
   "metadata": {},
   "source": [
    "array([ 2, 3, 4, 5, 6, 7, 8, 9, 10, 11, 12])\n",
    "\n",
    "We use linear equation for quantities which have linear relationship. Let's see the example below:"
   ]
  },
  {
   "cell_type": "code",
   "execution_count": null,
   "id": "d021dee2",
   "metadata": {},
   "outputs": [],
   "source": [
    "temp = np.array([1,2,3,4,5])\n",
    "pressure = temp * 2 + 5\n",
    "pressure"
   ]
  },
  {
   "cell_type": "markdown",
   "id": "43fa7b45",
   "metadata": {},
   "source": [
    "array([ 7, 9, 11, 13, 15])"
   ]
  },
  {
   "cell_type": "code",
   "execution_count": null,
   "id": "8cd1b066",
   "metadata": {},
   "outputs": [],
   "source": [
    "plt.plot(temp,pressure)\n",
    "plt.xlabel('Temperature in oC')\n",
    "plt.ylabel('Pressure in atm')\n",
    "plt.title('Temperature vs Pressure')\n",
    "plt.xticks(np.arange(0, 6, step=0.5))\n",
    "plt.show()"
   ]
  },
  {
   "cell_type": "markdown",
   "id": "25bc61fa",
   "metadata": {},
   "source": [
    "![png](../test_files/test_141_0.png)\n",
    "\n",
    "To draw the Gaussian normal distribution using numpy. As you can see below, the numpy can generate random numbers. To create random sample, we need the mean(mu), sigma(standard deviation), mumber of data points."
   ]
  },
  {
   "cell_type": "code",
   "execution_count": null,
   "id": "96605612",
   "metadata": {},
   "outputs": [],
   "source": [
    "mu = 28\n",
    "sigma = 15\n",
    "samples = 100000\n",
    "\n",
    "x = np.random.normal(mu, sigma, samples)\n",
    "ax = sns.distplot(x);\n",
    "ax.set(xlabel=\"x\", ylabel='y')\n",
    "plt.show()"
   ]
  },
  {
   "cell_type": "markdown",
   "id": "20249bf8",
   "metadata": {},
   "source": [
    "![png](../test_files/test_143_0.png)\n",
    "\n",
    "# Summary\n",
    "\n",
    "To summarize, the main differences with python lists are:\n",
    "\n",
    "1. Arrays support vectorized operations, while lists don’t.\n",
    "1. Once an array is created, you cannot change its size. You will have to create a new array or overwrite the existing one.\n",
    "1. Every array has one and only one dtype. All items in it should be of that dtype.\n",
    "1. An equivalent numpy array occupies much less space than a python list of lists.\n",
    "1. numpy arrays support boolean indexing.\n",
    "\n",
    "## 💻 Exercises: Day 24\n",
    "\n",
    "1. Repeat all the examples\n",
    "\n",
    "🎉 CONGRATULATIONS ! 🎉\n",
    "\n",
    "[<< Day 23](../23_Day_Virtual_environment/23_virtual_environment.md) | [Day 25 >>](../25_Day_Pandas/25_pandas.md)"
   ]
  }
 ],
 "metadata": {},
 "nbformat": 4,
 "nbformat_minor": 5
}
