{
  "cells": [
    {
      "cell_type": "markdown",
      "metadata": {
        "id": "view-in-github",
        "colab_type": "text"
      },
      "source": [
        "<a href=\"https://colab.research.google.com/github/Ava-creator/30-Days-Of-Python/blob/master/05_Day_Lists/05_lists.ipynb\" target=\"_parent\"><img src=\"https://colab.research.google.com/assets/colab-badge.svg\" alt=\"Open In Colab\"/></a>"
      ]
    },
    {
      "cell_type": "markdown",
      "id": "f58a0d16",
      "metadata": {
        "id": "f58a0d16"
      },
      "source": [
        "<div align=\"center\">\n",
        "  <h1> 30 Days Of Python: Day 5 - Lists</h1>\n",
        "  <a class=\"header-badge\" target=\"_blank\" href=\"https://www.linkedin.com/in/asabeneh/\">\n",
        "  <img src=\"https://img.shields.io/badge/style--5eba00.svg?label=LinkedIn&logo=linkedin&style=social\">\n",
        "  </a>\n",
        "  <a class=\"header-badge\" target=\"_blank\" href=\"https://twitter.com/Asabeneh\">\n",
        "  <img alt=\"Twitter Follow\" src=\"https://img.shields.io/twitter/follow/asabeneh?style=social\">\n",
        "  </a>\n",
        "\n",
        "<sub>Author:\n",
        "<a href=\"https://www.linkedin.com/in/asabeneh/\" target=\"_blank\">Asabeneh Yetayeh</a><br>\n",
        "<small> Second Edition: July - 2021</small>\n",
        "</sub>\n",
        "\n",
        "</div>\n",
        "\n",
        "[<< Day 4](../04_Day_Strings/04_strings.md) | [Day 6 >>](../06_Day_Tuples/06_tuples.md)\n",
        "\n",
        "![30DaysOfPython](https://github.com/Ava-creator/30-Days-Of-Python/blob/master/images/30DaysOfPython_banner3@2x.png?raw=1)\n",
        "\n",
        "- [Day 5](#day-5)\n",
        "  - [Lists](#lists)\n",
        "    - [How to Create a List](#how-to-create-a-list)\n",
        "    - [Accessing List Items Using Positive Indexing](#accessing-list-items-using-positive-indexing)\n",
        "    - [Accessing List Items Using Negative Indexing](#accessing-list-items-using-negative-indexing)\n",
        "    - [Unpacking List Items](#unpacking-list-items)\n",
        "    - [Slicing Items from a List](#slicing-items-from-a-list)\n",
        "    - [Modifying Lists](#modifying-lists)\n",
        "    - [Checking Items in a List](#checking-items-in-a-list)\n",
        "    - [Adding Items to a List](#adding-items-to-a-list)\n",
        "    - [Inserting Items into a List](#inserting-items-into-a-list)\n",
        "    - [Removing Items from a List](#removing-items-from-a-list)\n",
        "    - [Removing Items Using Pop](#removing-items-using-pop)\n",
        "    - [Removing Items Using Del](#removing-items-using-del)\n",
        "    - [Clearing List Items](#clearing-list-items)\n",
        "    - [Copying a List](#copying-a-list)\n",
        "    - [Joining Lists](#joining-lists)\n",
        "    - [Counting Items in a List](#counting-items-in-a-list)\n",
        "    - [Finding Index of an Item](#finding-index-of-an-item)\n",
        "    - [Reversing a List](#reversing-a-list)\n",
        "    - [Sorting List Items](#sorting-list-items)\n",
        "  - [💻 Exercises: Day 5](#-exercises-day-5)\n",
        "    - [Exercises: Level 1](#exercises-level-1)\n",
        "    - [Exercises: Level 2](#exercises-level-2)\n",
        "\n",
        "# Day 5\n",
        "\n",
        "## Lists\n",
        "\n",
        "There are four collection data types in Python :\n",
        "\n",
        "- List: is a collection which is ordered and changeable(modifiable). Allows duplicate members.\n",
        "- Tuple: is a collection which is ordered and unchangeable or unmodifiable(immutable). Allows duplicate members.\n",
        "- Set: is a collection which is unordered, un-indexed and unmodifiable, but we can add new items to the set. Duplicate members are not allowed.\n",
        "- Dictionary: is a collection which is unordered, changeable(modifiable) and indexed. No duplicate members.\n",
        "\n",
        "A list is collection of different data types which is ordered and modifiable(mutable). A list can be empty or it may have different data type items.\n",
        "\n",
        "### How to Create a List\n",
        "\n",
        "In Python we can create lists in two ways:\n",
        "\n",
        "- Using list built-in function"
      ]
    },
    {
      "cell_type": "code",
      "execution_count": 1,
      "id": "d7b44161",
      "metadata": {
        "attributes": {
          "classes": [
            "py"
          ],
          "id": ""
        },
        "id": "d7b44161"
      },
      "outputs": [],
      "source": [
        "# syntax\n",
        "lst = list()"
      ]
    },
    {
      "cell_type": "code",
      "execution_count": 2,
      "id": "db2edb70",
      "metadata": {
        "attributes": {
          "classes": [
            "py"
          ],
          "id": ""
        },
        "id": "db2edb70",
        "outputId": "d104e4ab-7096-4fcc-f976-768109c6943a",
        "colab": {
          "base_uri": "https://localhost:8080/"
        }
      },
      "outputs": [
        {
          "output_type": "stream",
          "name": "stdout",
          "text": [
            "0\n"
          ]
        }
      ],
      "source": [
        "empty_list = list() # this is an empty list, no item in the list\n",
        "print(len(empty_list)) # 0"
      ]
    },
    {
      "cell_type": "markdown",
      "id": "e346dea3",
      "metadata": {
        "id": "e346dea3"
      },
      "source": [
        "- Using square brackets, []"
      ]
    },
    {
      "cell_type": "code",
      "execution_count": 3,
      "id": "61aa61d1",
      "metadata": {
        "attributes": {
          "classes": [
            "py"
          ],
          "id": ""
        },
        "id": "61aa61d1"
      },
      "outputs": [],
      "source": [
        "# syntax\n",
        "lst = []"
      ]
    },
    {
      "cell_type": "code",
      "execution_count": 4,
      "id": "71da6bd9",
      "metadata": {
        "attributes": {
          "classes": [
            "py"
          ],
          "id": ""
        },
        "id": "71da6bd9",
        "outputId": "5caa5544-e8b0-4532-bfd0-072517990ca3",
        "colab": {
          "base_uri": "https://localhost:8080/"
        }
      },
      "outputs": [
        {
          "output_type": "stream",
          "name": "stdout",
          "text": [
            "0\n"
          ]
        }
      ],
      "source": [
        "empty_list = [] # this is an empty list, no item in the list\n",
        "print(len(empty_list)) # 0"
      ]
    },
    {
      "cell_type": "markdown",
      "id": "01155705",
      "metadata": {
        "id": "01155705"
      },
      "source": [
        "Lists with initial values. We use _len()_ to find the length of a list."
      ]
    },
    {
      "cell_type": "code",
      "execution_count": 5,
      "id": "86d42c4c",
      "metadata": {
        "attributes": {
          "classes": [
            "py"
          ],
          "id": ""
        },
        "id": "86d42c4c",
        "outputId": "7a228b8d-cd69-4aeb-d482-78c13b425a58",
        "colab": {
          "base_uri": "https://localhost:8080/"
        }
      },
      "outputs": [
        {
          "output_type": "stream",
          "name": "stdout",
          "text": [
            "Fruits: ['banana', 'orange', 'mango', 'lemon']\n",
            "Number of fruits: 4\n",
            "Vegetables: ['Tomato', 'Potato', 'Cabbage', 'Onion', 'Carrot']\n",
            "Number of vegetables: 5\n",
            "Animal products: ['milk', 'meat', 'butter', 'yoghurt']\n",
            "Number of animal products: 4\n",
            "Web technologies: ['HTML', 'CSS', 'JS', 'React', 'Redux', 'Node', 'MongDB']\n",
            "Number of web technologies: 7\n",
            "Countries: ['Finland', 'Estonia', 'Denmark', 'Sweden', 'Norway']\n",
            "Number of countries: 5\n"
          ]
        }
      ],
      "source": [
        "fruits = ['banana', 'orange', 'mango', 'lemon']                     # list of fruits\n",
        "vegetables = ['Tomato', 'Potato', 'Cabbage','Onion', 'Carrot']      # list of vegetables\n",
        "animal_products = ['milk', 'meat', 'butter', 'yoghurt']             # list of animal products\n",
        "web_techs = ['HTML', 'CSS', 'JS', 'React','Redux', 'Node', 'MongDB'] # list of web technologies\n",
        "countries = ['Finland', 'Estonia', 'Denmark', 'Sweden', 'Norway']\n",
        "\n",
        "# Print the lists and its length\n",
        "print('Fruits:', fruits)\n",
        "print('Number of fruits:', len(fruits))\n",
        "print('Vegetables:', vegetables)\n",
        "print('Number of vegetables:', len(vegetables))\n",
        "print('Animal products:',animal_products)\n",
        "print('Number of animal products:', len(animal_products))\n",
        "print('Web technologies:', web_techs)\n",
        "print('Number of web technologies:', len(web_techs))\n",
        "print('Countries:', countries)\n",
        "print('Number of countries:', len(countries))"
      ]
    },
    {
      "cell_type": "code",
      "execution_count": 6,
      "id": "60c054c6",
      "metadata": {
        "attributes": {
          "classes": [
            "sh"
          ],
          "id": ""
        },
        "id": "60c054c6",
        "outputId": "f958fe22-8203-4c3e-afdf-e53a2e0347dc",
        "colab": {
          "base_uri": "https://localhost:8080/",
          "height": 110
        }
      },
      "outputs": [
        {
          "output_type": "error",
          "ename": "SyntaxError",
          "evalue": "invalid syntax (<ipython-input-6-4d1323e80342>, line 3)",
          "traceback": [
            "\u001b[0;36m  File \u001b[0;32m\"<ipython-input-6-4d1323e80342>\"\u001b[0;36m, line \u001b[0;32m3\u001b[0m\n\u001b[0;31m    Number of fruits: 4\u001b[0m\n\u001b[0m           ^\u001b[0m\n\u001b[0;31mSyntaxError\u001b[0m\u001b[0;31m:\u001b[0m invalid syntax\n"
          ]
        }
      ],
      "source": [
        "output\n",
        "Fruits: ['banana', 'orange', 'mango', 'lemon']\n",
        "Number of fruits: 4\n",
        "Vegetables: ['Tomato', 'Potato', 'Cabbage', 'Onion', 'Carrot']\n",
        "Number of vegetables: 5\n",
        "Animal products: ['milk', 'meat', 'butter', 'yoghurt']\n",
        "Number of animal products: 4\n",
        "Web technologies: ['HTML', 'CSS', 'JS', 'React', 'Redux', 'Node', 'MongDB']\n",
        "Number of web technologies: 7\n",
        "Countries: ['Finland', 'Estonia', 'Denmark', 'Sweden', 'Norway']\n",
        "Number of countries: 5"
      ]
    },
    {
      "cell_type": "markdown",
      "id": "47aba0c7",
      "metadata": {
        "id": "47aba0c7"
      },
      "source": [
        "- Lists can have items of different data types"
      ]
    },
    {
      "cell_type": "code",
      "execution_count": 31,
      "id": "4aefeb3c",
      "metadata": {
        "attributes": {
          "classes": [
            "py"
          ],
          "id": ""
        },
        "id": "4aefeb3c"
      },
      "outputs": [],
      "source": [
        " lst = ['Asabeneh', 250, True, {'country':'Finland', 'city':'Helsinki'}] # list containing different data types"
      ]
    },
    {
      "cell_type": "markdown",
      "id": "068ebb26",
      "metadata": {
        "id": "068ebb26"
      },
      "source": [
        "### Accessing List Items Using Positive Indexing\n",
        "\n",
        "We access each item in a list using their index. A list index starts from 0. The picture below shows clearly where the index starts\n",
        "![List index](https://github.com/Ava-creator/30-Days-Of-Python/blob/master/images/list_index.png?raw=1)"
      ]
    },
    {
      "cell_type": "code",
      "execution_count": 8,
      "id": "d5d6da6e",
      "metadata": {
        "attributes": {
          "classes": [
            "py"
          ],
          "id": ""
        },
        "id": "d5d6da6e",
        "outputId": "a9bb1753-5184-4b16-c059-9f20a18df025",
        "colab": {
          "base_uri": "https://localhost:8080/"
        }
      },
      "outputs": [
        {
          "output_type": "stream",
          "name": "stdout",
          "text": [
            "banana\n",
            "orange\n",
            "lemon\n"
          ]
        }
      ],
      "source": [
        "fruits = ['banana', 'orange', 'mango', 'lemon']\n",
        "first_fruit = fruits[0] # we are accessing the first item using its index\n",
        "print(first_fruit)      # banana\n",
        "second_fruit = fruits[1]\n",
        "print(second_fruit)     # orange\n",
        "last_fruit = fruits[3]\n",
        "print(last_fruit) # lemon\n",
        "# Last index\n",
        "last_index = len(fruits) - 1\n",
        "last_fruit = fruits[last_index]"
      ]
    },
    {
      "cell_type": "markdown",
      "id": "ea1933c7",
      "metadata": {
        "id": "ea1933c7"
      },
      "source": [
        "### Accessing List Items Using Negative Indexing\n",
        "\n",
        "Negative indexing means beginning from the end, -1 refers to the last item, -2 refers to the second last item.\n",
        "\n",
        "![List negative indexing](https://github.com/Ava-creator/30-Days-Of-Python/blob/master/images/list_negative_indexing.png?raw=1)"
      ]
    },
    {
      "cell_type": "code",
      "execution_count": 9,
      "id": "ae6bc8cf",
      "metadata": {
        "attributes": {
          "classes": [
            "py"
          ],
          "id": ""
        },
        "id": "ae6bc8cf",
        "outputId": "35853346-c816-4ef0-c1f3-565ce7510f1e",
        "colab": {
          "base_uri": "https://localhost:8080/"
        }
      },
      "outputs": [
        {
          "output_type": "stream",
          "name": "stdout",
          "text": [
            "banana\n",
            "lemon\n",
            "mango\n"
          ]
        }
      ],
      "source": [
        "fruits = ['banana', 'orange', 'mango', 'lemon']\n",
        "first_fruit = fruits[-4]\n",
        "last_fruit = fruits[-1]\n",
        "second_last = fruits[-2]\n",
        "print(first_fruit)      # banana\n",
        "print(last_fruit)       # lemon\n",
        "print(second_last)      # mango"
      ]
    },
    {
      "cell_type": "markdown",
      "id": "ce0b2aa6",
      "metadata": {
        "id": "ce0b2aa6"
      },
      "source": [
        "### Unpacking List Items"
      ]
    },
    {
      "cell_type": "code",
      "execution_count": 10,
      "id": "7f429d61",
      "metadata": {
        "attributes": {
          "classes": [
            "py"
          ],
          "id": ""
        },
        "id": "7f429d61",
        "outputId": "0f89c509-5702-477c-9f46-c1b86cc2719c",
        "colab": {
          "base_uri": "https://localhost:8080/"
        }
      },
      "outputs": [
        {
          "output_type": "stream",
          "name": "stdout",
          "text": [
            "item1\n",
            "item2\n",
            "item3\n",
            "['item4', 'item5']\n"
          ]
        }
      ],
      "source": [
        "lst = ['item1','item2','item3', 'item4', 'item5']\n",
        "first_item, second_item, third_item, *rest = lst\n",
        "print(first_item)     # item1\n",
        "print(second_item)    # item2\n",
        "print(third_item)     # item3\n",
        "print(rest)           # ['item4', 'item5']\n"
      ]
    },
    {
      "cell_type": "code",
      "execution_count": 12,
      "id": "836379cb",
      "metadata": {
        "attributes": {
          "classes": [
            "py"
          ],
          "id": ""
        },
        "id": "836379cb",
        "outputId": "5394c91d-9d16-4ea9-dcaf-a7e2b953f0f8",
        "colab": {
          "base_uri": "https://localhost:8080/"
        }
      },
      "outputs": [
        {
          "output_type": "stream",
          "name": "stdout",
          "text": [
            "banana\n",
            "orange\n",
            "mango\n",
            "['mango', 'lemon', 'lime', 'apple']\n",
            "1\n",
            "2\n",
            "3\n",
            "[4, 5, 6, 7, 8, 9]\n",
            "10\n",
            "Germany\n",
            "France\n",
            "Belgium\n",
            "Sweden\n",
            "['Denmark', 'Finland', 'Norway', 'Iceland']\n",
            "Estonia\n"
          ]
        }
      ],
      "source": [
        "# First Example\n",
        "# fruits = ['banana', 'orange', 'mango', 'lemon','lime','apple']\n",
        "# fruits = ['banana', 'orange', 'mango', 'lemon','lime','apple']\n",
        "first_fruit, second_fruit, *rest = fruits\n",
        "print(first_fruit)     # banana\n",
        "print(second_fruit)    # orange\n",
        "# print(third_fruit)     # mango\n",
        "print(rest)           # ['lemon','lime','apple']\n",
        "# Second Example about unpacking list\n",
        "first, second, third,*rest, tenth = [1,2,3,4,5,6,7,8,9,10]\n",
        "print(first)          # 1\n",
        "print(second)         # 2\n",
        "print(third)          # 3\n",
        "print(rest)           # [4,5,6,7,8,9]\n",
        "print(tenth)          # 10\n",
        "# Third Example about unpacking list\n",
        "countries = ['Germany', 'France','Belgium','Sweden','Denmark','Finland','Norway','Iceland','Estonia']\n",
        "gr, fr, bg, sw, *scandic, es = countries\n",
        "print(gr)\n",
        "print(fr)\n",
        "print(bg)\n",
        "print(sw)\n",
        "print(scandic)\n",
        "print(es)"
      ]
    },
    {
      "cell_type": "markdown",
      "id": "6a77237b",
      "metadata": {
        "id": "6a77237b"
      },
      "source": [
        "### Slicing Items from a List\n",
        "\n",
        "- Positive Indexing: We can specify a range of positive indexes by specifying the start, end and step, the return value will be a new list. (default values for start = 0, end = len(lst) - 1 (last item), step = 1)"
      ]
    },
    {
      "cell_type": "code",
      "execution_count": 14,
      "id": "701c9875",
      "metadata": {
        "attributes": {
          "classes": [
            "py"
          ],
          "id": ""
        },
        "id": "701c9875"
      },
      "outputs": [],
      "source": [
        "fruits = ['banana', 'orange', 'mango', 'lemon', 'apple' ,'watermelon' ,'grape','pineapple']\n",
        "all_fruits = fruits[0:4] # it returns all the fruits\n",
        "# this will also give the same result as the one above\n",
        "all_fruits = fruits[0:] # if we don't set where to stop it takes all the rest\n",
        "orange_and_mango = fruits[1:3] # it does not include the first index\n",
        "orange_mango_lemon = fruits[1:]\n",
        "orange_and_lemon = fruits[::2] # here we used a 3rd argument, step. It will take every 2cnd item - ['banana', 'mango']"
      ]
    },
    {
      "cell_type": "code",
      "source": [
        "fruits"
      ],
      "metadata": {
        "id": "-VcxOovakf_V",
        "outputId": "d27a5b54-570a-4e10-84bc-21262eae220f",
        "colab": {
          "base_uri": "https://localhost:8080/"
        }
      },
      "id": "-VcxOovakf_V",
      "execution_count": 15,
      "outputs": [
        {
          "output_type": "execute_result",
          "data": {
            "text/plain": [
              "['banana',\n",
              " 'orange',\n",
              " 'mango',\n",
              " 'lemon',\n",
              " 'apple',\n",
              " 'watermelon',\n",
              " 'grape',\n",
              " 'pineapple']"
            ]
          },
          "metadata": {},
          "execution_count": 15
        }
      ]
    },
    {
      "cell_type": "markdown",
      "id": "f48a3150",
      "metadata": {
        "id": "f48a3150"
      },
      "source": [
        "- Negative Indexing: We can specify a range of negative indexes by specifying the start, end and step, the return value will be a new list."
      ]
    },
    {
      "cell_type": "code",
      "source": [],
      "metadata": {
        "id": "A5V2_ke2lqTn"
      },
      "id": "A5V2_ke2lqTn",
      "execution_count": null,
      "outputs": []
    },
    {
      "cell_type": "code",
      "source": [
        "fruits[0:100 ]"
      ],
      "metadata": {
        "id": "IEnAptd_lUFm",
        "outputId": "7da53699-37c9-49a9-da7f-d0c3312ea24f",
        "colab": {
          "base_uri": "https://localhost:8080/"
        }
      },
      "id": "IEnAptd_lUFm",
      "execution_count": 22,
      "outputs": [
        {
          "output_type": "execute_result",
          "data": {
            "text/plain": [
              "['banana',\n",
              " 'orange',\n",
              " 'mango',\n",
              " 'lemon',\n",
              " 'apple',\n",
              " 'watermelon',\n",
              " 'grape',\n",
              " 'pineapple']"
            ]
          },
          "metadata": {},
          "execution_count": 22
        }
      ]
    },
    {
      "cell_type": "code",
      "source": [],
      "metadata": {
        "id": "KRepp3kElce7",
        "outputId": "65b23d09-a5d9-4dc2-8256-1977590df70b",
        "colab": {
          "base_uri": "https://localhost:8080/"
        }
      },
      "id": "KRepp3kElce7",
      "execution_count": 19,
      "outputs": [
        {
          "output_type": "execute_result",
          "data": {
            "text/plain": [
              "7"
            ]
          },
          "metadata": {},
          "execution_count": 19
        }
      ]
    },
    {
      "cell_type": "code",
      "source": [
        "fruits = ['banana', 'orange', 'mango', 'lemon', 'apple' ,'watermelon' ,'grape','pineapple']\n",
        "all_fruits = fruits[0:4] # it returns all the fruits\n",
        "# this will also give the same result as the one above\n",
        "all_fruits = fruits[0:] # if we don't set where to stop it takes all the rest\n",
        "orange_and_mango = fruits[1:3] # it does not include the first index\n",
        "orange_mango_lemon = fruits[1:]\n",
        "orange_and_lemon = fruits[::2] # here we used a 3rd argument, step. It will take every 2cnd item - ['banana', 'mango']"
      ],
      "metadata": {
        "id": "2S0yxULTk_3e"
      },
      "id": "2S0yxULTk_3e",
      "execution_count": 16,
      "outputs": []
    },
    {
      "cell_type": "code",
      "execution_count": 13,
      "id": "38ac98e0",
      "metadata": {
        "attributes": {
          "classes": [
            "py"
          ],
          "id": ""
        },
        "id": "38ac98e0"
      },
      "outputs": [],
      "source": [
        "fruits = ['banana', 'orange', 'mango', 'lemon']\n",
        "all_fruits = fruits[-4:] # it returns all the fruits\n",
        "orange_and_mango = fruits[-3:-1] # it does not include the last index,['orange', 'mango']\n",
        "orange_mango_lemon = fruits[-3:] # this will give starting from -3 to the end,['orange', 'mango', 'lemon']\n",
        "reverse_fruits = fruits[::-1] # a negative step will take the list in reverse order,['lemon', 'mango', 'orange', 'banana']"
      ]
    },
    {
      "cell_type": "code",
      "source": [
        "fruits"
      ],
      "metadata": {
        "id": "FVtw-y87kmBX",
        "outputId": "383eb049-c395-4f55-e9d5-a3cdd3f15709",
        "colab": {
          "base_uri": "https://localhost:8080/"
        }
      },
      "id": "FVtw-y87kmBX",
      "execution_count": 34,
      "outputs": [
        {
          "output_type": "execute_result",
          "data": {
            "text/plain": [
              "['banana', 'orange', 'mango', 'lemon']"
            ]
          },
          "metadata": {},
          "execution_count": 34
        }
      ]
    },
    {
      "cell_type": "markdown",
      "id": "714b91c0",
      "metadata": {
        "id": "714b91c0"
      },
      "source": [
        "### Modifying Lists\n",
        "\n",
        "List is a mutable or modifiable ordered collection of items. Lets modify the fruit list."
      ]
    },
    {
      "cell_type": "code",
      "execution_count": 14,
      "id": "1172fc95",
      "metadata": {
        "attributes": {
          "classes": [
            "py"
          ],
          "id": ""
        },
        "id": "1172fc95",
        "outputId": "fb919432-8a80-473d-cc57-46f98af5a4b6",
        "colab": {
          "base_uri": "https://localhost:8080/"
        }
      },
      "outputs": [
        {
          "output_type": "stream",
          "name": "stdout",
          "text": [
            "['avocado', 'orange', 'mango', 'lemon']\n",
            "['avocado', 'apple', 'mango', 'lemon']\n",
            "['avocado', 'apple', 'mango', 'lime']\n"
          ]
        }
      ],
      "source": [
        "fruits = ['banana', 'orange', 'mango', 'lemon']\n",
        "fruits[0] = 'avocado'\n",
        "print(fruits)       #  ['avocado', 'orange', 'mango', 'lemon']\n",
        "fruits[1] = 'apple'\n",
        "print(fruits)       #  ['avocado', 'apple', 'mango', 'lemon']\n",
        "last_index = len(fruits) - 1\n",
        "fruits[last_index] = 'lime'\n",
        "print(fruits)        #  ['avocado', 'apple', 'mango', 'lime']"
      ]
    },
    {
      "cell_type": "markdown",
      "id": "d65cef1d",
      "metadata": {
        "id": "d65cef1d"
      },
      "source": [
        "### Checking Items in a List\n",
        "\n",
        "Checking an item if it is a member of a list using *in* operator. See the example below."
      ]
    },
    {
      "cell_type": "code",
      "execution_count": 15,
      "id": "3f81262a",
      "metadata": {
        "attributes": {
          "classes": [
            "py"
          ],
          "id": ""
        },
        "id": "3f81262a",
        "outputId": "5eabd824-033f-4a6c-8853-a7e511a44fbb",
        "colab": {
          "base_uri": "https://localhost:8080/"
        }
      },
      "outputs": [
        {
          "output_type": "stream",
          "name": "stdout",
          "text": [
            "True\n",
            "False\n"
          ]
        }
      ],
      "source": [
        "fruits = ['banana', 'orange', 'mango', 'lemon']\n",
        "does_exist = 'banana' in fruits\n",
        "print(does_exist)  # True\n",
        "does_exist = 'lime' in fruits\n",
        "print(does_exist)  # False"
      ]
    },
    {
      "cell_type": "markdown",
      "id": "ad831fe8",
      "metadata": {
        "id": "ad831fe8"
      },
      "source": [
        "### Adding Items to a List\n",
        "\n",
        "To add item to the end of an existing list we use the method *append()*."
      ]
    },
    {
      "cell_type": "code",
      "execution_count": 36,
      "id": "de0e00fb",
      "metadata": {
        "attributes": {
          "classes": [
            "py"
          ],
          "id": ""
        },
        "id": "de0e00fb",
        "outputId": "52e42cb0-3a18-4746-bead-39ff8fafc6d4",
        "colab": {
          "base_uri": "https://localhost:8080/",
          "height": 183
        }
      },
      "outputs": [
        {
          "output_type": "error",
          "ename": "NameError",
          "evalue": "name 'item' is not defined",
          "traceback": [
            "\u001b[0;31m---------------------------------------------------------------------------\u001b[0m",
            "\u001b[0;31mNameError\u001b[0m                                 Traceback (most recent call last)",
            "\u001b[0;32m<ipython-input-36-27b460452889>\u001b[0m in \u001b[0;36m<cell line: 0>\u001b[0;34m()\u001b[0m\n\u001b[1;32m      1\u001b[0m \u001b[0;31m# syntax\u001b[0m\u001b[0;34m\u001b[0m\u001b[0;34m\u001b[0m\u001b[0m\n\u001b[0;32m----> 2\u001b[0;31m \u001b[0mlst\u001b[0m \u001b[0;34m=\u001b[0m \u001b[0mlist\u001b[0m\u001b[0;34m(\u001b[0m\u001b[0mitem\u001b[0m\u001b[0;34m)\u001b[0m\u001b[0;34m\u001b[0m\u001b[0;34m\u001b[0m\u001b[0m\n\u001b[0m\u001b[1;32m      3\u001b[0m \u001b[0mlst\u001b[0m\u001b[0;34m.\u001b[0m\u001b[0mappend\u001b[0m\u001b[0;34m(\u001b[0m\u001b[0mitem\u001b[0m\u001b[0;34m)\u001b[0m\u001b[0;34m\u001b[0m\u001b[0;34m\u001b[0m\u001b[0m\n",
            "\u001b[0;31mNameError\u001b[0m: name 'item' is not defined"
          ]
        }
      ],
      "source": [
        "# syntax\n",
        "lst = list()\n",
        "lst.append(item)"
      ]
    },
    {
      "cell_type": "code",
      "execution_count": 37,
      "id": "8171da3f",
      "metadata": {
        "attributes": {
          "classes": [
            "py"
          ],
          "id": ""
        },
        "id": "8171da3f",
        "outputId": "530028df-1a3c-47fb-f63a-c610b6eb2c8c",
        "colab": {
          "base_uri": "https://localhost:8080/"
        }
      },
      "outputs": [
        {
          "output_type": "stream",
          "name": "stdout",
          "text": [
            "['banana', 'orange', 'mango', 'lemon', 'apple']\n",
            "['banana', 'orange', 'mango', 'lemon', 'apple', 'lime']\n"
          ]
        }
      ],
      "source": [
        "fruits = ['banana', 'orange', 'mango', 'lemon']\n",
        "fruits.append('apple')\n",
        "print(fruits)           # ['banana', 'orange', 'mango', 'lemon', 'apple']\n",
        "fruits.append('lime')   # ['banana', 'orange', 'mango', 'lemon', 'apple', 'lime']\n",
        "print(fruits)"
      ]
    },
    {
      "cell_type": "markdown",
      "id": "d2efface",
      "metadata": {
        "id": "d2efface"
      },
      "source": [
        "### Inserting Items into a List\n",
        "\n",
        "We can use *insert()* method to insert a single item at a specified index in a list. Note that other items are shifted to the right. The *insert()* methods takes two arguments:index and an item to insert."
      ]
    },
    {
      "cell_type": "code",
      "execution_count": 38,
      "id": "be0114db",
      "metadata": {
        "attributes": {
          "classes": [
            "py"
          ],
          "id": ""
        },
        "id": "be0114db",
        "outputId": "cb1acd7a-e46f-48cd-9bb6-9e5b71bc8b21",
        "colab": {
          "base_uri": "https://localhost:8080/",
          "height": 183
        }
      },
      "outputs": [
        {
          "output_type": "error",
          "ename": "NameError",
          "evalue": "name 'index' is not defined",
          "traceback": [
            "\u001b[0;31m---------------------------------------------------------------------------\u001b[0m",
            "\u001b[0;31mNameError\u001b[0m                                 Traceback (most recent call last)",
            "\u001b[0;32m<ipython-input-38-32c87233cfc4>\u001b[0m in \u001b[0;36m<cell line: 0>\u001b[0;34m()\u001b[0m\n\u001b[1;32m      1\u001b[0m \u001b[0;31m# syntax\u001b[0m\u001b[0;34m\u001b[0m\u001b[0;34m\u001b[0m\u001b[0m\n\u001b[1;32m      2\u001b[0m \u001b[0mlst\u001b[0m \u001b[0;34m=\u001b[0m \u001b[0;34m[\u001b[0m\u001b[0;34m'item1'\u001b[0m\u001b[0;34m,\u001b[0m \u001b[0;34m'item2'\u001b[0m\u001b[0;34m]\u001b[0m\u001b[0;34m\u001b[0m\u001b[0;34m\u001b[0m\u001b[0m\n\u001b[0;32m----> 3\u001b[0;31m \u001b[0mlst\u001b[0m\u001b[0;34m.\u001b[0m\u001b[0minsert\u001b[0m\u001b[0;34m(\u001b[0m\u001b[0mindex\u001b[0m\u001b[0;34m,\u001b[0m \u001b[0mitem\u001b[0m\u001b[0;34m)\u001b[0m\u001b[0;34m\u001b[0m\u001b[0;34m\u001b[0m\u001b[0m\n\u001b[0m",
            "\u001b[0;31mNameError\u001b[0m: name 'index' is not defined"
          ]
        }
      ],
      "source": [
        "# syntax\n",
        "lst = ['item1', 'item2']\n",
        "lst.insert(index, item)"
      ]
    },
    {
      "cell_type": "code",
      "execution_count": 39,
      "id": "c24e3851",
      "metadata": {
        "attributes": {
          "classes": [
            "py"
          ],
          "id": ""
        },
        "id": "c24e3851",
        "outputId": "36636ace-8ee7-4d42-d061-3c40b3c3b83b",
        "colab": {
          "base_uri": "https://localhost:8080/"
        }
      },
      "outputs": [
        {
          "output_type": "stream",
          "name": "stdout",
          "text": [
            "['banana', 'orange', 'apple', 'mango', 'lemon']\n",
            "['banana', 'orange', 'apple', 'lime', 'mango', 'lemon']\n"
          ]
        }
      ],
      "source": [
        "fruits = ['banana', 'orange', 'mango', 'lemon']\n",
        "fruits.insert(2, 'apple') # insert apple between orange and mango\n",
        "print(fruits)           # ['banana', 'orange', 'apple', 'mango', 'lemon']\n",
        "fruits.insert(3, 'lime')   # ['banana', 'orange', 'apple', 'lime', 'mango', 'lemon']\n",
        "print(fruits)"
      ]
    },
    {
      "cell_type": "markdown",
      "id": "40494bcb",
      "metadata": {
        "id": "40494bcb"
      },
      "source": [
        "### Removing Items from a List\n",
        "\n",
        "The remove method removes a specified item from a list"
      ]
    },
    {
      "cell_type": "code",
      "execution_count": 40,
      "id": "6229001b",
      "metadata": {
        "attributes": {
          "classes": [
            "py"
          ],
          "id": ""
        },
        "id": "6229001b",
        "outputId": "cbad07cd-feca-4a00-b50b-4c577891b299",
        "colab": {
          "base_uri": "https://localhost:8080/",
          "height": 183
        }
      },
      "outputs": [
        {
          "output_type": "error",
          "ename": "NameError",
          "evalue": "name 'item' is not defined",
          "traceback": [
            "\u001b[0;31m---------------------------------------------------------------------------\u001b[0m",
            "\u001b[0;31mNameError\u001b[0m                                 Traceback (most recent call last)",
            "\u001b[0;32m<ipython-input-40-8dd9183498eb>\u001b[0m in \u001b[0;36m<cell line: 0>\u001b[0;34m()\u001b[0m\n\u001b[1;32m      1\u001b[0m \u001b[0;31m# syntax\u001b[0m\u001b[0;34m\u001b[0m\u001b[0;34m\u001b[0m\u001b[0m\n\u001b[1;32m      2\u001b[0m \u001b[0mlst\u001b[0m \u001b[0;34m=\u001b[0m \u001b[0;34m[\u001b[0m\u001b[0;34m'item1'\u001b[0m\u001b[0;34m,\u001b[0m \u001b[0;34m'item2'\u001b[0m\u001b[0;34m]\u001b[0m\u001b[0;34m\u001b[0m\u001b[0;34m\u001b[0m\u001b[0m\n\u001b[0;32m----> 3\u001b[0;31m \u001b[0mlst\u001b[0m\u001b[0;34m.\u001b[0m\u001b[0mremove\u001b[0m\u001b[0;34m(\u001b[0m\u001b[0mitem\u001b[0m\u001b[0;34m)\u001b[0m\u001b[0;34m\u001b[0m\u001b[0;34m\u001b[0m\u001b[0m\n\u001b[0m",
            "\u001b[0;31mNameError\u001b[0m: name 'item' is not defined"
          ]
        }
      ],
      "source": [
        "# syntax\n",
        "lst = ['item1', 'item2']\n",
        "lst.remove(item)"
      ]
    },
    {
      "cell_type": "code",
      "execution_count": 41,
      "id": "476ad011",
      "metadata": {
        "attributes": {
          "classes": [
            "py"
          ],
          "id": ""
        },
        "id": "476ad011",
        "outputId": "69f9f690-b270-4eb4-e2dd-4bc0d76b2800",
        "colab": {
          "base_uri": "https://localhost:8080/"
        }
      },
      "outputs": [
        {
          "output_type": "stream",
          "name": "stdout",
          "text": [
            "['orange', 'mango', 'lemon', 'banana']\n",
            "['orange', 'mango', 'banana']\n"
          ]
        }
      ],
      "source": [
        "fruits = ['banana', 'orange', 'mango', 'lemon', 'banana']\n",
        "fruits.remove('banana')\n",
        "print(fruits)  # ['orange', 'mango', 'lemon', 'banana'] - this method removes the first occurrence of the item in the list\n",
        "fruits.remove('lemon')\n",
        "print(fruits)  # ['orange', 'mango', 'banana']"
      ]
    },
    {
      "cell_type": "markdown",
      "id": "e7b4fb58",
      "metadata": {
        "id": "e7b4fb58"
      },
      "source": [
        "### Removing Items Using Pop\n",
        "\n",
        "The *pop()* method removes the specified index, (or the last item if index is not specified):"
      ]
    },
    {
      "cell_type": "code",
      "execution_count": 42,
      "id": "b670057a",
      "metadata": {
        "attributes": {
          "classes": [
            "py"
          ],
          "id": ""
        },
        "id": "b670057a",
        "outputId": "19333d38-c336-49b1-ceff-956cff61fc50",
        "colab": {
          "base_uri": "https://localhost:8080/",
          "height": 183
        }
      },
      "outputs": [
        {
          "output_type": "error",
          "ename": "NameError",
          "evalue": "name 'index' is not defined",
          "traceback": [
            "\u001b[0;31m---------------------------------------------------------------------------\u001b[0m",
            "\u001b[0;31mNameError\u001b[0m                                 Traceback (most recent call last)",
            "\u001b[0;32m<ipython-input-42-176a787d2b01>\u001b[0m in \u001b[0;36m<cell line: 0>\u001b[0;34m()\u001b[0m\n\u001b[1;32m      2\u001b[0m \u001b[0mlst\u001b[0m \u001b[0;34m=\u001b[0m \u001b[0;34m[\u001b[0m\u001b[0;34m'item1'\u001b[0m\u001b[0;34m,\u001b[0m \u001b[0;34m'item2'\u001b[0m\u001b[0;34m]\u001b[0m\u001b[0;34m\u001b[0m\u001b[0;34m\u001b[0m\u001b[0m\n\u001b[1;32m      3\u001b[0m \u001b[0mlst\u001b[0m\u001b[0;34m.\u001b[0m\u001b[0mpop\u001b[0m\u001b[0;34m(\u001b[0m\u001b[0;34m)\u001b[0m       \u001b[0;31m# last item\u001b[0m\u001b[0;34m\u001b[0m\u001b[0;34m\u001b[0m\u001b[0m\n\u001b[0;32m----> 4\u001b[0;31m \u001b[0mlst\u001b[0m\u001b[0;34m.\u001b[0m\u001b[0mpop\u001b[0m\u001b[0;34m(\u001b[0m\u001b[0mindex\u001b[0m\u001b[0;34m)\u001b[0m\u001b[0;34m\u001b[0m\u001b[0;34m\u001b[0m\u001b[0m\n\u001b[0m",
            "\u001b[0;31mNameError\u001b[0m: name 'index' is not defined"
          ]
        }
      ],
      "source": [
        "# syntax\n",
        "lst = ['item1', 'item2']\n",
        "lst.pop()       # last item\n",
        "lst.pop(index)"
      ]
    },
    {
      "cell_type": "code",
      "execution_count": 43,
      "id": "78aefcf9",
      "metadata": {
        "attributes": {
          "classes": [
            "py"
          ],
          "id": ""
        },
        "id": "78aefcf9",
        "outputId": "75ccdf76-978d-4d8c-8aa5-6555d9efadce",
        "colab": {
          "base_uri": "https://localhost:8080/"
        }
      },
      "outputs": [
        {
          "output_type": "stream",
          "name": "stdout",
          "text": [
            "['banana', 'orange', 'mango']\n",
            "['orange', 'mango']\n"
          ]
        }
      ],
      "source": [
        "fruits = ['banana', 'orange', 'mango', 'lemon']\n",
        "fruits.pop()\n",
        "print(fruits)       # ['banana', 'orange', 'mango']\n",
        "\n",
        "fruits.pop(0)\n",
        "print(fruits)       # ['orange', 'mango']"
      ]
    },
    {
      "cell_type": "markdown",
      "id": "66943800",
      "metadata": {
        "id": "66943800"
      },
      "source": [
        "### Removing Items Using Del\n",
        "\n",
        "The *del* keyword removes the specified index and it can also be used to delete items within index range. It can also delete the list completely"
      ]
    },
    {
      "cell_type": "code",
      "execution_count": 47,
      "id": "49f240e7",
      "metadata": {
        "attributes": {
          "classes": [
            "py"
          ],
          "id": ""
        },
        "id": "49f240e7",
        "outputId": "2ecda437-43e4-45a3-85e2-b66ff63c6a56",
        "colab": {
          "base_uri": "https://localhost:8080/",
          "height": 201
        }
      },
      "outputs": [
        {
          "output_type": "error",
          "ename": "NameError",
          "evalue": "name 'item1' is not defined",
          "traceback": [
            "\u001b[0;31m---------------------------------------------------------------------------\u001b[0m",
            "\u001b[0;31mNameError\u001b[0m                                 Traceback (most recent call last)",
            "\u001b[0;32m<ipython-input-47-d46b381cb9e6>\u001b[0m in \u001b[0;36m<cell line: 0>\u001b[0;34m()\u001b[0m\n\u001b[1;32m      1\u001b[0m \u001b[0;31m# syntax\u001b[0m\u001b[0;34m\u001b[0m\u001b[0;34m\u001b[0m\u001b[0m\n\u001b[1;32m      2\u001b[0m \u001b[0mlst\u001b[0m \u001b[0;34m=\u001b[0m \u001b[0;34m[\u001b[0m\u001b[0;34m'item1'\u001b[0m\u001b[0;34m,\u001b[0m \u001b[0;34m'item2'\u001b[0m\u001b[0;34m]\u001b[0m\u001b[0;34m\u001b[0m\u001b[0;34m\u001b[0m\u001b[0m\n\u001b[0;32m----> 3\u001b[0;31m \u001b[0;32mdel\u001b[0m \u001b[0mlst\u001b[0m\u001b[0;34m[\u001b[0m\u001b[0mitem1\u001b[0m\u001b[0;34m]\u001b[0m \u001b[0;31m# only a single item\u001b[0m\u001b[0;34m\u001b[0m\u001b[0;34m\u001b[0m\u001b[0m\n\u001b[0m\u001b[1;32m      4\u001b[0m \u001b[0;32mdel\u001b[0m \u001b[0mlst\u001b[0m        \u001b[0;31m# to delete the list completely\u001b[0m\u001b[0;34m\u001b[0m\u001b[0;34m\u001b[0m\u001b[0m\n",
            "\u001b[0;31mNameError\u001b[0m: name 'item1' is not defined"
          ]
        }
      ],
      "source": [
        "# syntax\n",
        "lst = ['item1', 'item2']\n",
        "del lst[index] # only a single item\n",
        "del lst        # to delete the list completely"
      ]
    },
    {
      "cell_type": "code",
      "execution_count": 49,
      "id": "7e198560",
      "metadata": {
        "attributes": {
          "classes": [
            "py"
          ],
          "id": ""
        },
        "id": "7e198560",
        "outputId": "d722699b-63bb-4df3-d920-6bcff0f4e2dd",
        "colab": {
          "base_uri": "https://localhost:8080/"
        }
      },
      "outputs": [
        {
          "output_type": "stream",
          "name": "stdout",
          "text": [
            "['orange', 'mango', 'lemon', 'kiwi', 'lime']\n",
            "['orange', 'lemon', 'kiwi', 'lime']\n",
            "['orange', 'lime']\n"
          ]
        }
      ],
      "source": [
        "fruits = ['banana', 'orange', 'mango', 'lemon', 'kiwi', 'lime']\n",
        "del fruits[0]\n",
        "print(fruits)       # ['orange', 'mango', 'lemon', 'kiwi', 'lime']\n",
        "del fruits[1]\n",
        "print(fruits)       # ['orange', 'lemon', 'kiwi', 'lime']\n",
        "del fruits[1:3]     # this deletes items between given indexes, so it does not delete the item with index 3!\n",
        "print(fruits)       # ['orange', 'lime']\n",
        "del fruits"
      ]
    },
    {
      "cell_type": "markdown",
      "id": "be920d51",
      "metadata": {
        "id": "be920d51"
      },
      "source": [
        "### Clearing List Items\n",
        "\n",
        "The *clear()* method empties the list:"
      ]
    },
    {
      "cell_type": "code",
      "execution_count": 50,
      "id": "4cbd624e",
      "metadata": {
        "attributes": {
          "classes": [
            "py"
          ],
          "id": ""
        },
        "id": "4cbd624e"
      },
      "outputs": [],
      "source": [
        "# syntax\n",
        "lst = ['item1', 'item2']\n",
        "lst.clear()"
      ]
    },
    {
      "cell_type": "code",
      "execution_count": 53,
      "id": "b85dc747",
      "metadata": {
        "attributes": {
          "classes": [
            "py"
          ],
          "id": ""
        },
        "id": "b85dc747",
        "outputId": "e38e94d2-55de-4b28-82d7-7cadb23a2f3f",
        "colab": {
          "base_uri": "https://localhost:8080/"
        }
      },
      "outputs": [
        {
          "output_type": "stream",
          "name": "stdout",
          "text": [
            "[]\n"
          ]
        }
      ],
      "source": [
        "fruits = ['banana', 'orange', 'mango', 'lemon']\n",
        "fruits.clear()\n",
        "print(fruits)       # []"
      ]
    },
    {
      "cell_type": "markdown",
      "id": "3629b493",
      "metadata": {
        "id": "3629b493"
      },
      "source": [
        "### Copying a List\n",
        "\n",
        "It is possible to copy a list by reassigning it to a new variable in the following way: list2 = list1. Now, list2 is a reference of list1, any changes we make in list2 will also modify the original, list1. But there are lots of case in which we do not like to modify the original instead we like to have a different copy. One of way of avoiding the problem above is using _copy()_."
      ]
    },
    {
      "cell_type": "code",
      "execution_count": 54,
      "id": "e9c416fa",
      "metadata": {
        "attributes": {
          "classes": [
            "py"
          ],
          "id": ""
        },
        "id": "e9c416fa"
      },
      "outputs": [],
      "source": [
        "# syntax\n",
        "lst = ['item1', 'item2']\n",
        "lst_copy = lst.copy()"
      ]
    },
    {
      "cell_type": "code",
      "execution_count": 55,
      "id": "16616008",
      "metadata": {
        "attributes": {
          "classes": [
            "py"
          ],
          "id": ""
        },
        "id": "16616008",
        "outputId": "430714c6-e2ab-477b-c153-a626f82cc472",
        "colab": {
          "base_uri": "https://localhost:8080/"
        }
      },
      "outputs": [
        {
          "output_type": "stream",
          "name": "stdout",
          "text": [
            "['banana', 'orange', 'mango', 'lemon']\n"
          ]
        }
      ],
      "source": [
        "fruits = ['banana', 'orange', 'mango', 'lemon']\n",
        "fruits_copy = fruits.copy()\n",
        "print(fruits_copy)       # ['banana', 'orange', 'mango', 'lemon']"
      ]
    },
    {
      "cell_type": "markdown",
      "id": "6933378b",
      "metadata": {
        "id": "6933378b"
      },
      "source": [
        "### Joining Lists\n",
        "\n",
        "There are several ways to join, or concatenate, two or more lists in Python.\n",
        "\n",
        "- Plus Operator (+)"
      ]
    },
    {
      "cell_type": "code",
      "execution_count": 58,
      "id": "b74bc5ee",
      "metadata": {
        "attributes": {
          "classes": [
            "py"
          ],
          "id": ""
        },
        "id": "b74bc5ee",
        "outputId": "19ec6863-f0fe-4b42-d997-31e7e56df483",
        "colab": {
          "base_uri": "https://localhost:8080/",
          "height": 165
        }
      },
      "outputs": [
        {
          "output_type": "error",
          "ename": "NameError",
          "evalue": "name 'list1' is not defined",
          "traceback": [
            "\u001b[0;31m---------------------------------------------------------------------------\u001b[0m",
            "\u001b[0;31mNameError\u001b[0m                                 Traceback (most recent call last)",
            "\u001b[0;32m<ipython-input-58-d35f9047cb39>\u001b[0m in \u001b[0;36m<cell line: 0>\u001b[0;34m()\u001b[0m\n\u001b[1;32m      1\u001b[0m \u001b[0;31m# syntax\u001b[0m\u001b[0;34m\u001b[0m\u001b[0;34m\u001b[0m\u001b[0m\n\u001b[0;32m----> 2\u001b[0;31m \u001b[0mlist1\u001b[0m \u001b[0;34m+\u001b[0m \u001b[0mlist2\u001b[0m \u001b[0;34m==\u001b[0m \u001b[0mlist3\u001b[0m\u001b[0;34m\u001b[0m\u001b[0;34m\u001b[0m\u001b[0m\n\u001b[0m",
            "\u001b[0;31mNameError\u001b[0m: name 'list1' is not defined"
          ]
        }
      ],
      "source": [
        "# syntax\n",
        "list3 = list1 + list2"
      ]
    },
    {
      "cell_type": "code",
      "execution_count": 59,
      "id": "23583a11",
      "metadata": {
        "attributes": {
          "classes": [
            "py"
          ],
          "id": ""
        },
        "id": "23583a11",
        "outputId": "44d10884-f7a2-44ee-ba09-0a73fc36df9a",
        "colab": {
          "base_uri": "https://localhost:8080/"
        }
      },
      "outputs": [
        {
          "output_type": "stream",
          "name": "stdout",
          "text": [
            "[-5, -4, -3, -2, -1, 0, 1, 2, 3, 4, 5]\n",
            "['banana', 'orange', 'mango', 'lemon', 'Tomato', 'Potato', 'Cabbage', 'Onion', 'Carrot']\n"
          ]
        }
      ],
      "source": [
        "positive_numbers = [1, 2, 3, 4, 5]\n",
        "zero = [0]\n",
        "negative_numbers = [-5,-4,-3,-2,-1]\n",
        "integers = negative_numbers + zero + positive_numbers\n",
        "print(integers) # [-5, -4, -3, -2, -1, 0, 1, 2, 3, 4, 5]\n",
        "fruits = ['banana', 'orange', 'mango', 'lemon']\n",
        "vegetables = ['Tomato', 'Potato', 'Cabbage', 'Onion', 'Carrot']\n",
        "fruits_and_vegetables = fruits + vegetables\n",
        "print(fruits_and_vegetables ) # ['banana', 'orange', 'mango', 'lemon', 'Tomato', 'Potato', 'Cabbage', 'Onion', 'Carrot']"
      ]
    },
    {
      "cell_type": "markdown",
      "id": "da338e92",
      "metadata": {
        "id": "da338e92"
      },
      "source": [
        "- Joining using extend() method\n",
        "  The *extend()* method allows to append list in a list. See the example below."
      ]
    },
    {
      "cell_type": "code",
      "execution_count": 60,
      "id": "57068206",
      "metadata": {
        "attributes": {
          "classes": [
            "py"
          ],
          "id": ""
        },
        "id": "57068206"
      },
      "outputs": [],
      "source": [
        "# syntax\n",
        "list1 = ['item1', 'item2']\n",
        "list2 = ['item3', 'item4', 'item5']\n",
        "list1.extend(list2)"
      ]
    },
    {
      "cell_type": "code",
      "execution_count": 61,
      "id": "7509d845",
      "metadata": {
        "attributes": {
          "classes": [
            "py"
          ],
          "id": ""
        },
        "id": "7509d845",
        "outputId": "2f3c4efb-bbd7-41a3-8b4a-4c0e32e97527",
        "colab": {
          "base_uri": "https://localhost:8080/"
        }
      },
      "outputs": [
        {
          "output_type": "stream",
          "name": "stdout",
          "text": [
            "Numbers: [0, 1, 2, 3, 4, 5, 6]\n",
            "Integers: [-5, -4, -3, -2, -1, 0, 1, 2, 3, 4, 5]\n",
            "Fruits and vegetables: ['banana', 'orange', 'mango', 'lemon', 'Tomato', 'Potato', 'Cabbage', 'Onion', 'Carrot']\n"
          ]
        }
      ],
      "source": [
        "num1 = [0, 1, 2, 3]\n",
        "num2= [4, 5, 6]\n",
        "num1.extend(num2)\n",
        "print('Numbers:', num1) # Numbers: [0, 1, 2, 3, 4, 5, 6]\n",
        "negative_numbers = [-5,-4,-3,-2,-1]\n",
        "positive_numbers = [1, 2, 3,4,5]\n",
        "zero = [0]\n",
        "\n",
        "negative_numbers.extend(zero)\n",
        "negative_numbers.extend(positive_numbers)\n",
        "print('Integers:', negative_numbers) # Integers: [-5, -4, -3, -2, -1, 0, 1, 2, 3, 4, 5]\n",
        "fruits = ['banana', 'orange', 'mango', 'lemon']\n",
        "vegetables = ['Tomato', 'Potato', 'Cabbage', 'Onion', 'Carrot']\n",
        "fruits.extend(vegetables)\n",
        "print('Fruits and vegetables:', fruits ) # Fruits and vegetables: ['banana', 'orange', 'mango', 'lemon', 'Tomato', 'Potato', 'Cabbage', 'Onion', 'Carrot']"
      ]
    },
    {
      "cell_type": "markdown",
      "id": "d517850a",
      "metadata": {
        "id": "d517850a"
      },
      "source": [
        "### Counting Items in a List\n",
        "\n",
        "The *count()* method returns the number of times an item appears in a list:"
      ]
    },
    {
      "cell_type": "code",
      "execution_count": 62,
      "id": "228f40cb",
      "metadata": {
        "attributes": {
          "classes": [
            "py"
          ],
          "id": ""
        },
        "id": "228f40cb",
        "outputId": "e41713fa-0096-4f86-abd3-6788dc4e8e52",
        "colab": {
          "base_uri": "https://localhost:8080/",
          "height": 183
        }
      },
      "outputs": [
        {
          "output_type": "error",
          "ename": "NameError",
          "evalue": "name 'item' is not defined",
          "traceback": [
            "\u001b[0;31m---------------------------------------------------------------------------\u001b[0m",
            "\u001b[0;31mNameError\u001b[0m                                 Traceback (most recent call last)",
            "\u001b[0;32m<ipython-input-62-3ab6910e61ea>\u001b[0m in \u001b[0;36m<cell line: 0>\u001b[0;34m()\u001b[0m\n\u001b[1;32m      1\u001b[0m \u001b[0;31m# syntax\u001b[0m\u001b[0;34m\u001b[0m\u001b[0;34m\u001b[0m\u001b[0m\n\u001b[1;32m      2\u001b[0m \u001b[0mlst\u001b[0m \u001b[0;34m=\u001b[0m \u001b[0;34m[\u001b[0m\u001b[0;34m'item1'\u001b[0m\u001b[0;34m,\u001b[0m \u001b[0;34m'item2'\u001b[0m\u001b[0;34m]\u001b[0m\u001b[0;34m\u001b[0m\u001b[0;34m\u001b[0m\u001b[0m\n\u001b[0;32m----> 3\u001b[0;31m \u001b[0mlst\u001b[0m\u001b[0;34m.\u001b[0m\u001b[0mcount\u001b[0m\u001b[0;34m(\u001b[0m\u001b[0mitem\u001b[0m\u001b[0;34m)\u001b[0m\u001b[0;34m\u001b[0m\u001b[0;34m\u001b[0m\u001b[0m\n\u001b[0m",
            "\u001b[0;31mNameError\u001b[0m: name 'item' is not defined"
          ]
        }
      ],
      "source": [
        "# syntax\n",
        "lst = ['item1', 'item2']\n",
        "lst.count(item)"
      ]
    },
    {
      "cell_type": "code",
      "execution_count": 63,
      "id": "5f59c26d",
      "metadata": {
        "attributes": {
          "classes": [
            "py"
          ],
          "id": ""
        },
        "id": "5f59c26d",
        "outputId": "0e5c6189-2f96-4b10-b64e-2b0b86dd0a77",
        "colab": {
          "base_uri": "https://localhost:8080/"
        }
      },
      "outputs": [
        {
          "output_type": "stream",
          "name": "stdout",
          "text": [
            "1\n",
            "3\n"
          ]
        }
      ],
      "source": [
        "fruits = ['banana', 'orange', 'mango', 'lemon']\n",
        "print(fruits.count('orange'))   # 1\n",
        "ages = [22, 19, 24, 25, 26, 24, 25, 24]\n",
        "print(ages.count(24))           # 3"
      ]
    },
    {
      "cell_type": "markdown",
      "id": "37372464",
      "metadata": {
        "id": "37372464"
      },
      "source": [
        "### Finding Index of an Item\n",
        "\n",
        "The *index()* method returns the index of an item in the list:"
      ]
    },
    {
      "cell_type": "code",
      "execution_count": 64,
      "id": "700bb2a4",
      "metadata": {
        "attributes": {
          "classes": [
            "py"
          ],
          "id": ""
        },
        "id": "700bb2a4",
        "outputId": "4bdfb5ba-7a83-4d2c-e75a-0e982531110c",
        "colab": {
          "base_uri": "https://localhost:8080/",
          "height": 183
        }
      },
      "outputs": [
        {
          "output_type": "error",
          "ename": "NameError",
          "evalue": "name 'item' is not defined",
          "traceback": [
            "\u001b[0;31m---------------------------------------------------------------------------\u001b[0m",
            "\u001b[0;31mNameError\u001b[0m                                 Traceback (most recent call last)",
            "\u001b[0;32m<ipython-input-64-6e030d842ab6>\u001b[0m in \u001b[0;36m<cell line: 0>\u001b[0;34m()\u001b[0m\n\u001b[1;32m      1\u001b[0m \u001b[0;31m# syntax\u001b[0m\u001b[0;34m\u001b[0m\u001b[0;34m\u001b[0m\u001b[0m\n\u001b[1;32m      2\u001b[0m \u001b[0mlst\u001b[0m \u001b[0;34m=\u001b[0m \u001b[0;34m[\u001b[0m\u001b[0;34m'item1'\u001b[0m\u001b[0;34m,\u001b[0m \u001b[0;34m'item2'\u001b[0m\u001b[0;34m]\u001b[0m\u001b[0;34m\u001b[0m\u001b[0;34m\u001b[0m\u001b[0m\n\u001b[0;32m----> 3\u001b[0;31m \u001b[0mlst\u001b[0m\u001b[0;34m.\u001b[0m\u001b[0mindex\u001b[0m\u001b[0;34m(\u001b[0m\u001b[0mitem\u001b[0m\u001b[0;34m)\u001b[0m\u001b[0;34m\u001b[0m\u001b[0;34m\u001b[0m\u001b[0m\n\u001b[0m",
            "\u001b[0;31mNameError\u001b[0m: name 'item' is not defined"
          ]
        }
      ],
      "source": [
        "# syntax\n",
        "lst = ['item1', 'item2']\n",
        "lst.index(item)"
      ]
    },
    {
      "cell_type": "code",
      "execution_count": 65,
      "id": "10e5f261",
      "metadata": {
        "attributes": {
          "classes": [
            "py"
          ],
          "id": ""
        },
        "id": "10e5f261",
        "outputId": "80bb86da-67ba-4e3c-9605-892e404c34e4",
        "colab": {
          "base_uri": "https://localhost:8080/"
        }
      },
      "outputs": [
        {
          "output_type": "stream",
          "name": "stdout",
          "text": [
            "1\n",
            "2\n"
          ]
        }
      ],
      "source": [
        "fruits = ['banana', 'orange', 'mango', 'lemon']\n",
        "print(fruits.index('orange'))   # 1\n",
        "ages = [22, 19, 24, 25, 26, 24, 25, 24]\n",
        "print(ages.index(24))           # 2, the first occurrence"
      ]
    },
    {
      "cell_type": "markdown",
      "id": "a093f09e",
      "metadata": {
        "id": "a093f09e"
      },
      "source": [
        "### Reversing a List\n",
        "\n",
        "The *reverse()* method reverses the order of a list."
      ]
    },
    {
      "cell_type": "code",
      "execution_count": 66,
      "id": "d60399bf",
      "metadata": {
        "attributes": {
          "classes": [
            "py"
          ],
          "id": ""
        },
        "id": "d60399bf"
      },
      "outputs": [],
      "source": [
        "# syntax\n",
        "lst = ['item1', 'item2']\n",
        "lst.reverse()\n"
      ]
    },
    {
      "cell_type": "code",
      "execution_count": 67,
      "id": "82722689",
      "metadata": {
        "attributes": {
          "classes": [
            "py"
          ],
          "id": ""
        },
        "id": "82722689",
        "outputId": "0f13d9dc-e0d0-4bb5-a274-309ab13a112a",
        "colab": {
          "base_uri": "https://localhost:8080/"
        }
      },
      "outputs": [
        {
          "output_type": "stream",
          "name": "stdout",
          "text": [
            "['lemon', 'mango', 'orange', 'banana']\n",
            "[24, 25, 24, 26, 25, 24, 19, 22]\n"
          ]
        }
      ],
      "source": [
        "fruits = ['banana', 'orange', 'mango', 'lemon']\n",
        "fruits.reverse()\n",
        "print(fruits) # ['lemon', 'mango', 'orange', 'banana']\n",
        "ages = [22, 19, 24, 25, 26, 24, 25, 24]\n",
        "ages.reverse()\n",
        "print(ages) # [24, 25, 24, 26, 25, 24, 19, 22]"
      ]
    },
    {
      "cell_type": "markdown",
      "id": "82763f11",
      "metadata": {
        "id": "82763f11"
      },
      "source": [
        "### Sorting List Items\n",
        "\n",
        "To sort lists we can use _sort()_ method or _sorted()_ built-in functions. The _sort()_ method reorders the list items in ascending order and modifies the original list. If an argument of _sort()_ method reverse is equal to true, it will arrange the list in descending order.\n",
        "\n",
        "- sort(): this method modifies the original list\n",
        "\n",
        "  ```py\n",
        "  # syntax\n",
        "  lst = ['item1', 'item2']\n",
        "  lst.sort()                # ascending\n",
        "  lst.sort(reverse=True)    # descending\n",
        "  ```\n",
        "\n",
        "  **Example:**\n",
        "\n",
        "  ```py\n",
        "  fruits = ['banana', 'orange', 'mango', 'lemon']\n",
        "  fruits.sort()\n",
        "  print(fruits)             # sorted in alphabetical order, ['banana', 'lemon', 'mango', 'orange']\n",
        "  fruits.sort(reverse=True)\n",
        "  print(fruits) # ['orange', 'mango', 'lemon', 'banana']\n",
        "  ages = [22, 19, 24, 25, 26, 24, 25, 24]\n",
        "  ages.sort()\n",
        "  print(ages) #  [19, 22, 24, 24, 24, 25, 25, 26]\n",
        "\n",
        "  ages.sort(reverse=True)\n",
        "  print(ages) #  [26, 25, 25, 24, 24, 24, 22, 19]\n",
        "  ```\n",
        "\n",
        "  sorted(): returns the ordered list without modifying the original list\n",
        "  **Example:**\n",
        "\n",
        "  ```py\n",
        "  fruits = ['banana', 'orange', 'mango', 'lemon']\n",
        "  print(sorted(fruits))   # ['banana', 'lemon', 'mango', 'orange']\n",
        "  # Reverse order\n",
        "  fruits = ['banana', 'orange', 'mango', 'lemon']\n",
        "  fruits = sorted(fruits,reverse=True)\n",
        "  print(fruits)     # ['orange', 'mango', 'lemon', 'banana']\n",
        "  ```\n",
        "\n",
        "🌕 You are inteligent and you have already achieved quite a lot. You have just completed day 5 challenges and you are 5 steps a head in to your way to greatness. Now do some exercises for your brain and muscles.\n",
        "\n",
        "## 💻 Exercises: Day 5\n",
        "\n",
        "### Exercises: Level 1\n",
        "\n",
        "1. Declare an empty list\n",
        "2. Declare a list with more than 5 items\n",
        "3. Find the length of your list\n",
        "4. Get the first item, the middle item and the last item of the list\n",
        "5. Declare a list called mixed_data_types, put your(name, age, height, marital status, address)\n",
        "6. Declare a list variable named it_companies and assign initial values Facebook, Google, Microsoft, Apple, IBM, Oracle and Amazon.\n",
        "7. Print the list using _print()_\n",
        "8. Print the number of companies in the list\n",
        "9. Print the first, middle and last company\n",
        "10. Print the list after modifying one of the companies\n",
        "11. Add an IT company to it_companies\n",
        "12. Insert an IT company in the middle of the companies list\n",
        "13. Change one of the it_companies names to uppercase (IBM excluded!)\n",
        "14. Join the it_companies with a string '#;&nbsp; '\n",
        "15. Check if a certain company exists in the it_companies list.\n",
        "16. Sort the list using sort() method\n",
        "17. Reverse the list in descending order using reverse() method\n",
        "18. Slice out the first 3 companies from the list\n",
        "19. Slice out the last 3 companies from the list\n",
        "20. Slice out the middle IT company or companies from the list\n",
        "21. Remove the first IT company from the list\n",
        "22. Remove the middle IT company or companies from the list\n",
        "23. Remove the last IT company from the list\n",
        "24. Remove all IT companies from the list\n",
        "25. Destroy the IT companies list\n",
        "26. Join the following lists:"
      ]
    },
    {
      "cell_type": "code",
      "execution_count": 68,
      "id": "d9f70551",
      "metadata": {
        "id": "d9f70551"
      },
      "outputs": [],
      "source": [
        "\n",
        "front_end = ['HTML', 'CSS', 'JS', 'React', 'Redux']\n",
        "back_end = ['Node','Express', 'MongoDB']"
      ]
    },
    {
      "cell_type": "markdown",
      "id": "02eb094a",
      "metadata": {
        "id": "02eb094a"
      },
      "source": [
        "27. After joining the lists in question 26. Copy the joined list and assign it to a variable full_stack, then insert Python and SQL after Redux.\n",
        "\n",
        "### Exercises: Level 2\n",
        "\n",
        "1. The following is a list of 10 students names:"
      ]
    },
    {
      "cell_type": "code",
      "execution_count": 70,
      "id": "eaa0daf9",
      "metadata": {
        "attributes": {
          "classes": [
            "sh"
          ],
          "id": ""
        },
        "id": "eaa0daf9"
      },
      "outputs": [],
      "source": [
        "names = ['Audrey', 'Ava', 'Adrian', 'Maria', 'Anna', 'Liia','Aarushi' ,'Miguel' ,'Aljona' , 'Arina']"
      ]
    },
    {
      "cell_type": "code",
      "source": [
        "names"
      ],
      "metadata": {
        "id": "eTOvZLwGiyg9",
        "outputId": "8611c349-894c-4b34-8298-49843817dfc2",
        "colab": {
          "base_uri": "https://localhost:8080/"
        }
      },
      "id": "eTOvZLwGiyg9",
      "execution_count": 71,
      "outputs": [
        {
          "output_type": "execute_result",
          "data": {
            "text/plain": [
              "['Audrey',\n",
              " 'Ava',\n",
              " 'Adrian',\n",
              " 'Maria',\n",
              " 'Anna',\n",
              " 'Liia',\n",
              " 'Aarushi',\n",
              " 'Miguel',\n",
              " 'Aljona',\n",
              " 'Arina']"
            ]
          },
          "metadata": {},
          "execution_count": 71
        }
      ]
    },
    {
      "cell_type": "markdown",
      "id": "28af7317",
      "metadata": {
        "id": "28af7317"
      },
      "source": [
        "- Sort the list and find the min and max age\n",
        "- Add the min age and the max age again to the list\n",
        "- Find the median age (one middle item or two middle items divided by two)\n",
        "- Find the average age (sum of all items divided by their number )\n",
        "- Find the range of the ages (max minus min)\n",
        "- Compare the value of (min - average) and (max - average), use _abs()_ method\n",
        "\n",
        "1. Find the middle country(ies) in the [countries list](https://github.com/Asabeneh/30-Days-Of-Python/tree/master/data/countries.py)\n",
        "1. Divide the countries list into two equal lists if it is even if not one more country for the first half.\n",
        "1. ['China', 'Russia', 'USA', 'Finland', 'Sweden', 'Norway', 'Denmark']. Unpack the first three countries and the rest as scandic countries.\n",
        "\n",
        "🎉 CONGRATULATIONS ! 🎉\n",
        "\n",
        "[<< Day 4](../04_Day_Strings/04_strings.md) | [Day 6 >>](../06_Day_Tuples/06_tuples.md)\n",
        "\n"
      ]
    }
  ],
  "metadata": {
    "kernelspec": {
      "display_name": "Python 3",
      "language": "python",
      "name": "python3"
    },
    "language_info": {
      "name": "python",
      "version": "3.12.1"
    },
    "colab": {
      "provenance": [],
      "include_colab_link": true
    }
  },
  "nbformat": 4,
  "nbformat_minor": 5
}