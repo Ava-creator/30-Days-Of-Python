{
  "cells": [
    {
      "cell_type": "markdown",
      "metadata": {
        "id": "view-in-github",
        "colab_type": "text"
      },
      "source": [
        "<a href=\"https://colab.research.google.com/github/Ava-creator/30-Days-Of-Python/blob/master/17_Day_Exception_handling/17_exception_handling.ipynb\" target=\"_parent\"><img src=\"https://colab.research.google.com/assets/colab-badge.svg\" alt=\"Open In Colab\"/></a>"
      ]
    },
    {
      "cell_type": "markdown",
      "id": "ec3895ef",
      "metadata": {
        "id": "ec3895ef"
      },
      "source": [
        "<div align=\"center\">\n",
        "  <h1> 30 Days Of Python: Day 17 - Exception Handling </h1>\n",
        "  <a class=\"header-badge\" target=\"_blank\" href=\"https://www.linkedin.com/in/asabeneh/\">\n",
        "  <img src=\"https://img.shields.io/badge/style--5eba00.svg?label=LinkedIn&logo=linkedin&style=social\">\n",
        "  </a>\n",
        "  <a class=\"header-badge\" target=\"_blank\" href=\"https://twitter.com/Asabeneh\">\n",
        "  <img alt=\"Twitter Follow\" src=\"https://img.shields.io/twitter/follow/asabeneh?style=social\">\n",
        "  </a>\n",
        "\n",
        "  <sub>Author:\n",
        "  <a href=\"https://www.linkedin.com/in/asabeneh/\" target=\"_blank\">Oludayo adeoye</a><br>\n",
        "  <small> Second Edition: July, 2021</small>\n",
        "  </sub>\n",
        "</div>\n",
        "\n",
        "[<< Day 16](../16_Day_Python_date_time/16_python_datetime.md) | [Day 18 >>](../18_Day_Regular_expressions/18_regular_expressions.md)\n",
        "\n",
        "![30DaysOfPython](https://github.com/Ava-creator/30-Days-Of-Python/blob/master/images/30DaysOfPython_banner3@2x.png?raw=1)\n",
        "\n",
        "- [📘 Day 17](#-day-17)\n",
        "  - [Exception Handling](#exception-handling)\n",
        "  - [Packing and Unpacking Arguments in Python](#packing-and-unpacking-arguments-in-python)\n",
        "    - [Unpacking](#unpacking)\n",
        "      - [Unpacking Lists](#unpacking-lists)\n",
        "      - [Unpacking Dictionaries](#unpacking-dictionaries)\n",
        "    - [Packing](#packing)\n",
        "    - [Packing Lists](#packing-lists)\n",
        "      - [Packing Dictionaries](#packing-dictionaries)\n",
        "  - [Spreading in Python](#spreading-in-python)\n",
        "  - [Enumerate](#enumerate)\n",
        "  - [Zip](#zip)\n",
        "  - [Exercises: Day 17](#exercises-day-17)\n",
        "\n",
        "# 📘 Day 17\n",
        "\n",
        "## Exception Handling\n",
        "\n",
        "Python uses _try_ and _except_ to handle errors gracefully. A graceful exit (or graceful handling) of errors is a simple programming idiom - a program detects a serious error condition and \"exits gracefully\", in a controlled manner as a result. Often the program prints a descriptive error message to a terminal or log as part of the graceful exit, this makes our application more robust. The cause of an exception is often external to the program itself. An example of exceptions could be an incorrect input, wrong file name, unable to find a file, a malfunctioning IO device. Graceful handling of errors prevents our applications from crashing.\n",
        "\n",
        "We have covered the different Python _error_ types in the previous section. If we use _try_ and _except_ in our program, then it will not raise errors in those blocks.\n",
        "\n",
        "![Try and Except](https://github.com/Ava-creator/30-Days-Of-Python/blob/master/images/try_except.png?raw=1)"
      ]
    },
    {
      "cell_type": "code",
      "execution_count": null,
      "id": "9ae3c2d7",
      "metadata": {
        "attributes": {
          "classes": [
            "py"
          ],
          "id": ""
        },
        "id": "9ae3c2d7"
      },
      "outputs": [],
      "source": [
        "try:\n",
        "    code in this block if things go well\n",
        "except:\n",
        "    code in this block run if things go wrong"
      ]
    },
    {
      "cell_type": "markdown",
      "id": "cc6f73a8",
      "metadata": {
        "id": "cc6f73a8"
      },
      "source": [
        "**Example:**"
      ]
    },
    {
      "cell_type": "code",
      "execution_count": null,
      "id": "23c79537",
      "metadata": {
        "attributes": {
          "classes": [
            "py"
          ],
          "id": ""
        },
        "id": "23c79537"
      },
      "outputs": [],
      "source": [
        "try:\n",
        "    print(10 + '5')\n",
        "except:\n",
        "    print('Something went wrong')"
      ]
    },
    {
      "cell_type": "markdown",
      "id": "258d2134",
      "metadata": {
        "id": "258d2134"
      },
      "source": [
        "In the example above the second operand is a string. We could change it to float or int to add it with the number to make it work. But without any changes, the second block, _except_, will be executed.\n",
        "\n",
        "**Example:**"
      ]
    },
    {
      "cell_type": "code",
      "execution_count": null,
      "id": "27eef1b9",
      "metadata": {
        "attributes": {
          "classes": [
            "py"
          ],
          "id": ""
        },
        "id": "27eef1b9"
      },
      "outputs": [],
      "source": [
        "try:\n",
        "    name = input('Enter your name:')\n",
        "    year_born = input('Year you were born:')\n",
        "    age = 2019 - year_born\n",
        "    print(f'You are {name}. And your age is {age}.')\n",
        "except:\n",
        "    print('Something went wrong')"
      ]
    },
    {
      "cell_type": "code",
      "execution_count": null,
      "id": "45b964f0",
      "metadata": {
        "attributes": {
          "classes": [
            "sh"
          ],
          "id": ""
        },
        "id": "45b964f0"
      },
      "outputs": [],
      "source": [
        "Something went wrong"
      ]
    },
    {
      "cell_type": "markdown",
      "id": "a8653bd4",
      "metadata": {
        "id": "a8653bd4"
      },
      "source": [
        "In the above example, the exception block will run and we do not know exactly the problem. To analyze the problem, we can use the different error types with except.\n",
        "\n",
        "In the following example, it will handle the error and will also tell us the kind of error raised."
      ]
    },
    {
      "cell_type": "code",
      "execution_count": null,
      "id": "7be736b9",
      "metadata": {
        "attributes": {
          "classes": [
            "py"
          ],
          "id": ""
        },
        "id": "7be736b9"
      },
      "outputs": [],
      "source": [
        "try:\n",
        "    name = input('Enter your name:')\n",
        "    year_born = input('Year you were born:')\n",
        "    age = 2019 - year_born\n",
        "    print(f'You are {name}. And your age is {age}.')\n",
        "except TypeError:\n",
        "    print('Type error occured')\n",
        "except ValueError:\n",
        "    print('Value error occured')\n",
        "except ZeroDivisionError:\n",
        "    print('zero division error occured')"
      ]
    },
    {
      "cell_type": "code",
      "execution_count": null,
      "id": "0326a929",
      "metadata": {
        "attributes": {
          "classes": [
            "sh"
          ],
          "id": ""
        },
        "id": "0326a929"
      },
      "outputs": [],
      "source": [
        "Enter your name:Asabeneh\n",
        "Year you born:1920\n",
        "Type error occured"
      ]
    },
    {
      "cell_type": "markdown",
      "id": "e07c46ba",
      "metadata": {
        "id": "e07c46ba"
      },
      "source": [
        "In the code above the output is going to be _TypeError_.\n",
        "Now, let's add an additional block:"
      ]
    },
    {
      "cell_type": "code",
      "execution_count": null,
      "id": "52240747",
      "metadata": {
        "attributes": {
          "classes": [
            "py"
          ],
          "id": ""
        },
        "id": "52240747"
      },
      "outputs": [],
      "source": [
        "try:\n",
        "    name = input('Enter your name:')\n",
        "    year_born = input('Year you born:')\n",
        "    age = 2019 - int(year_born)\n",
        "    print(f'You are {name}. And your age is {age}.')\n",
        "except TypeError:\n",
        "    print('Type error occur')\n",
        "except ValueError:\n",
        "    print('Value error occur')\n",
        "except ZeroDivisionError:\n",
        "    print('zero division error occur')\n",
        "else:\n",
        "    print('I usually run with the try block')\n",
        "finally:\n",
        "    print('I alway run.')"
      ]
    },
    {
      "cell_type": "code",
      "execution_count": null,
      "id": "2bf6f77e",
      "metadata": {
        "attributes": {
          "classes": [
            "sh"
          ],
          "id": ""
        },
        "id": "2bf6f77e"
      },
      "outputs": [],
      "source": [
        "Enter your name:Asabeneh\n",
        "Year you born:1920\n",
        "You are Asabeneh. And your age is 99.\n",
        "I usually run with the try block\n",
        "I alway run."
      ]
    },
    {
      "cell_type": "markdown",
      "id": "1c79697e",
      "metadata": {
        "id": "1c79697e"
      },
      "source": [
        "It is also shorten the above code as follows:"
      ]
    },
    {
      "cell_type": "code",
      "execution_count": null,
      "id": "37eb7ec9",
      "metadata": {
        "attributes": {
          "classes": [
            "py"
          ],
          "id": ""
        },
        "id": "37eb7ec9"
      },
      "outputs": [],
      "source": [
        "try:\n",
        "    name = input('Enter your name:')\n",
        "    year_born = input('Year you born:')\n",
        "    age = 2019 - int(year_born)\n",
        "    print(f'You are {name}. And your age is {age}.')\n",
        "except Exception as e:\n",
        "    print(e)\n"
      ]
    },
    {
      "cell_type": "markdown",
      "id": "e9b5738d",
      "metadata": {
        "id": "e9b5738d"
      },
      "source": [
        "## Packing and Unpacking Arguments in Python\n",
        "\n",
        "We use two operators:\n",
        "\n",
        "- \\* for tuples\n",
        "- \\*\\* for dictionaries\n",
        "\n",
        "Let us take as an example below. It takes only arguments but we have list. We can unpack the list and changes to argument.\n",
        "\n",
        "### Unpacking\n",
        "\n",
        "#### Unpacking Lists"
      ]
    },
    {
      "cell_type": "code",
      "execution_count": null,
      "id": "a1109f14",
      "metadata": {
        "attributes": {
          "classes": [
            "py"
          ],
          "id": ""
        },
        "id": "a1109f14"
      },
      "outputs": [],
      "source": [
        "def sum_of_five_nums(a, b, c, d, e):\n",
        "    return a + b + c + d + e\n",
        "\n",
        "lst = [1, 2, 3, 4, 5]\n",
        "print(sum_of_five_nums(lst)) # TypeError: sum_of_five_nums() missing 4 required positional arguments: 'b', 'c', 'd', and 'e'"
      ]
    },
    {
      "cell_type": "markdown",
      "id": "4d396dcf",
      "metadata": {
        "id": "4d396dcf"
      },
      "source": [
        "When we run the this code, it raises an error, because this function takes numbers (not a list) as arguments. Let us unpack/destructure the list."
      ]
    },
    {
      "cell_type": "code",
      "execution_count": null,
      "id": "48b28f90",
      "metadata": {
        "attributes": {
          "classes": [
            "py"
          ],
          "id": ""
        },
        "id": "48b28f90"
      },
      "outputs": [],
      "source": [
        "def sum_of_five_nums(a, b, c, d, e):\n",
        "    return a + b + c + d + e\n",
        "\n",
        "lst = [1, 2, 3, 4, 5]\n",
        "print(sum_of_five_nums(*lst))  # 15"
      ]
    },
    {
      "cell_type": "markdown",
      "id": "f474e316",
      "metadata": {
        "id": "f474e316"
      },
      "source": [
        "We can also use unpacking in the range built-in function that expects a start and an end."
      ]
    },
    {
      "cell_type": "code",
      "execution_count": null,
      "id": "cc0a1628",
      "metadata": {
        "attributes": {
          "classes": [
            "py"
          ],
          "id": ""
        },
        "id": "cc0a1628"
      },
      "outputs": [],
      "source": [
        "numbers = range(2, 7)  # normal call with separate arguments\n",
        "print(list(numbers)) # [2, 3, 4, 5, 6]\n",
        "args = [2, 7]\n",
        "numbers = range(*args)  # call with arguments unpacked from a list\n",
        "print(numbers)      # [2, 3, 4, 5,6]\n"
      ]
    },
    {
      "cell_type": "markdown",
      "id": "596b41b6",
      "metadata": {
        "id": "596b41b6"
      },
      "source": [
        "A list or a tuple can also be unpacked like this:"
      ]
    },
    {
      "cell_type": "code",
      "execution_count": null,
      "id": "1f92193a",
      "metadata": {
        "attributes": {
          "classes": [
            "py"
          ],
          "id": ""
        },
        "id": "1f92193a"
      },
      "outputs": [],
      "source": [
        "countries = ['Finland', 'Sweden', 'Norway', 'Denmark', 'Iceland']\n",
        "fin, sw, nor, *rest = countries\n",
        "print(fin, sw, nor, rest)   # Finland Sweden Norway ['Denmark', 'Iceland']\n",
        "numbers = [1, 2, 3, 4, 5, 6, 7]\n",
        "one, *middle, last = numbers\n",
        "print(one, middle, last)      #  1 [2, 3, 4, 5, 6] 7"
      ]
    },
    {
      "cell_type": "markdown",
      "id": "6c24a8bd",
      "metadata": {
        "id": "6c24a8bd"
      },
      "source": [
        "#### Unpacking Dictionaries"
      ]
    },
    {
      "cell_type": "code",
      "execution_count": null,
      "id": "359901fd",
      "metadata": {
        "attributes": {
          "classes": [
            "py"
          ],
          "id": ""
        },
        "id": "359901fd"
      },
      "outputs": [],
      "source": [
        "def unpacking_person_info(name, country, city, age):\n",
        "    return f'{name} lives in {country}, {city}. He is {age} year old.'\n",
        "dct = {'name':'Asabeneh', 'country':'Finland', 'city':'Helsinki', 'age':250}\n",
        "print(unpacking_person_info(**dct)) # Asabeneh lives in Finland, Helsinki. He is 250 years old."
      ]
    },
    {
      "cell_type": "markdown",
      "id": "5d392e61",
      "metadata": {
        "id": "5d392e61"
      },
      "source": [
        "### Packing\n",
        "\n",
        "Sometimes we never know how many arguments need to be passed to a python function. We can use the packing method to allow our function to take unlimited number or arbitrary number of arguments.\n",
        "\n",
        "### Packing Lists"
      ]
    },
    {
      "cell_type": "code",
      "execution_count": null,
      "id": "0e696bee",
      "metadata": {
        "attributes": {
          "classes": [
            "py"
          ],
          "id": ""
        },
        "id": "0e696bee"
      },
      "outputs": [],
      "source": [
        "def sum_all(*args):\n",
        "    s = 0\n",
        "    for i in args:\n",
        "        s += i\n",
        "    return s\n",
        "print(sum_all(1, 2, 3))             # 6\n",
        "print(sum_all(1, 2, 3, 4, 5, 6, 7)) # 28"
      ]
    },
    {
      "cell_type": "markdown",
      "id": "20b325b8",
      "metadata": {
        "id": "20b325b8"
      },
      "source": [
        "#### Packing Dictionaries"
      ]
    },
    {
      "cell_type": "code",
      "execution_count": null,
      "id": "fd9bd524",
      "metadata": {
        "attributes": {
          "classes": [
            "py"
          ],
          "id": ""
        },
        "id": "fd9bd524"
      },
      "outputs": [],
      "source": [
        "def packing_person_info(**kwargs):\n",
        "    # check the type of kwargs and it is a dict type\n",
        "    # print(type(kwargs))\n",
        "    # Printing dictionary items\n",
        "    for key in kwargs:\n",
        "        print(f\"{key} = {kwargs[key]}\")\n",
        "    return kwargs\n",
        "\n",
        "print(packing_person_info(name=\"Asabeneh\",\n",
        "      country=\"Finland\", city=\"Helsinki\", age=250))"
      ]
    },
    {
      "cell_type": "code",
      "execution_count": null,
      "id": "7a9dbf2a",
      "metadata": {
        "attributes": {
          "classes": [
            "sh"
          ],
          "id": ""
        },
        "id": "7a9dbf2a"
      },
      "outputs": [],
      "source": [
        "name = Asabeneh\n",
        "country = Finland\n",
        "city = Helsinki\n",
        "age = 250\n",
        "{'name': 'Asabeneh', 'country': 'Finland', 'city': 'Helsinki', 'age': 250}"
      ]
    },
    {
      "cell_type": "markdown",
      "id": "528b9d6f",
      "metadata": {
        "id": "528b9d6f"
      },
      "source": [
        "## Spreading in Python\n",
        "\n",
        "Like in JavaScript, spreading is possible in Python. Let us check it in an example below:"
      ]
    },
    {
      "cell_type": "code",
      "execution_count": null,
      "id": "8e329c0e",
      "metadata": {
        "attributes": {
          "classes": [
            "py"
          ],
          "id": ""
        },
        "id": "8e329c0e"
      },
      "outputs": [],
      "source": [
        "lst_one = [1, 2, 3]\n",
        "lst_two = [4, 5, 6, 7]\n",
        "lst = [0, *lst_one, *lst_two]\n",
        "print(lst)          # [0, 1, 2, 3, 4, 5, 6, 7]\n",
        "country_lst_one = ['Finland', 'Sweden', 'Norway']\n",
        "country_lst_two = ['Denmark', 'Iceland']\n",
        "nordic_countries = [*country_lst_one, *country_lst_two]\n",
        "print(nordic_countries)  # ['Finland', 'Sweden', 'Norway', 'Denmark', 'Iceland']"
      ]
    },
    {
      "cell_type": "markdown",
      "id": "f3f4a249",
      "metadata": {
        "id": "f3f4a249"
      },
      "source": [
        "## Enumerate\n",
        "\n",
        "If we are interested in an index of a list, we use _enumerate_ built-in function to get the index of each item in the list."
      ]
    },
    {
      "cell_type": "code",
      "execution_count": null,
      "id": "9c3be811",
      "metadata": {
        "attributes": {
          "classes": [
            "py"
          ],
          "id": ""
        },
        "id": "9c3be811"
      },
      "outputs": [],
      "source": [
        "for index, item in enumerate([20, 30, 40]):\n",
        "    print(index, item)"
      ]
    },
    {
      "cell_type": "code",
      "execution_count": null,
      "id": "c5d174ef",
      "metadata": {
        "attributes": {
          "classes": [
            "py"
          ],
          "id": ""
        },
        "id": "c5d174ef"
      },
      "outputs": [],
      "source": [
        "for index, i in enumerate(countries):\n",
        "    print('hi')\n",
        "    if i == 'Finland':\n",
        "        print('The country {i} has been found at index {index}')"
      ]
    },
    {
      "cell_type": "code",
      "execution_count": null,
      "id": "7a2a33c4",
      "metadata": {
        "attributes": {
          "classes": [
            "sh"
          ],
          "id": ""
        },
        "id": "7a2a33c4"
      },
      "outputs": [],
      "source": [
        "The country Finland has been found at index 1."
      ]
    },
    {
      "cell_type": "markdown",
      "id": "02a83f25",
      "metadata": {
        "id": "02a83f25"
      },
      "source": [
        "## Zip\n",
        "\n",
        "Sometimes we would like to combine lists when looping through them. See the example below:"
      ]
    },
    {
      "cell_type": "code",
      "execution_count": null,
      "id": "f41dc178",
      "metadata": {
        "attributes": {
          "classes": [
            "py"
          ],
          "id": ""
        },
        "id": "f41dc178"
      },
      "outputs": [],
      "source": [
        "fruits = ['banana', 'orange', 'mango', 'lemon', 'lime']\n",
        "vegetables = ['Tomato', 'Potato', 'Cabbage','Onion', 'Carrot']\n",
        "fruits_and_veges = []\n",
        "for f, v in zip(fruits, vegetables):\n",
        "    fruits_and_veges.append({'fruit':f, 'veg':v})\n",
        "\n",
        "print(fruits_and_veges)"
      ]
    },
    {
      "cell_type": "code",
      "execution_count": null,
      "id": "7763f6e9",
      "metadata": {
        "attributes": {
          "classes": [
            "sh"
          ],
          "id": ""
        },
        "id": "7763f6e9"
      },
      "outputs": [],
      "source": [
        "[{'fruit': 'banana', 'veg': 'Tomato'}, {'fruit': 'orange', 'veg': 'Potato'}, {'fruit': 'mango', 'veg': 'Cabbage'}, {'fruit': 'lemon', 'veg': 'Onion'}, {'fruit': 'lime', 'veg': 'Carrot'}]"
      ]
    },
    {
      "cell_type": "markdown",
      "id": "f0eb6581",
      "metadata": {
        "id": "f0eb6581"
      },
      "source": [
        "🌕 You are determined. You are 17 steps a head to your way to greatness. Now do some exercises for your brain and muscles.\n",
        "\n",
        "## Exercises: Day 17\n",
        "\n",
        "1. names = ['Finland', 'Sweden', 'Norway','Denmark','Iceland', 'Estonia','Russia']. Unpack the first five countries and store them in a variable nordic_countries, store Estonia and Russia in es, and ru respectively.\n",
        "\n",
        "🎉 CONGRATULATIONS ! 🎉\n",
        "\n",
        "[<< Day 16](../16_Day_Python_date_time/16_python_datetime.md) | [Day 18 >>](../18_Day_Regular_expressions/18_regular_expressions.md)"
      ]
    }
  ],
  "metadata": {
    "colab": {
      "provenance": [],
      "include_colab_link": true
    }
  },
  "nbformat": 4,
  "nbformat_minor": 5
}