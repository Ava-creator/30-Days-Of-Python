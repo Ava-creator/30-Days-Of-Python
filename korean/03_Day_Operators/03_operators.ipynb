{
 "cells": [
  {
   "cell_type": "markdown",
   "id": "91cfec10",
   "metadata": {},
   "source": [
    "<div align=\"center\">\n",
    "  <h1> 30 Days Of Python: Day 3 - Operators</h1>\n",
    "  <a class=\"header-badge\" target=\"_blank\" href=\"https://www.linkedin.com/in/asabeneh/\">\n",
    "  <img src=\"https://img.shields.io/badge/style--5eba00.svg?label=LinkedIn&logo=linkedin&style=social\">\n",
    "  </a>\n",
    "  <a class=\"header-badge\" target=\"_blank\" href=\"https://twitter.com/Asabeneh\">\n",
    "  <img alt=\"Twitter Follow\" src=\"https://img.shields.io/twitter/follow/asabeneh?style=social\">\n",
    "  </a>\n",
    "\n",
    "<sub>Author:\n",
    "<a href=\"https://www.linkedin.com/in/asabeneh/\" target=\"_blank\">Oludayo adeoye</a><br>\n",
    "<small> Second Edition: July, 2021</small>\n",
    "</sub>\n",
    "</div>\n",
    "\n",
    "[<< Day 2](../02_Day_Variables_builtin_functions/02_variables_builtin_functions.md) | [Day 4 >>](../04_Day_Strings/04_strings.md)\n",
    "\n",
    "![30DaysOfPython](../images/30DaysOfPython_banner3@2x.png)\n",
    "\n",
    "- [📘 3일차](#-3일차)\n",
    "  - [불리언](#불리언)\n",
    "  - [연산자](#연산자)\n",
    "    - [대입 연산자](#대입-연산자)\n",
    "    - [산술 연산자:](#산술-연산자)\n",
    "    - [비교 연산자](#비교-연산자)\n",
    "    - [논리 연산자](#논리-연산자)\n",
    "  - [💻 3일차: 실습](#-3일차-실습)\n",
    "\n",
    "# 📘 3일차\n",
    "\n",
    "## 불리언\n",
    "\n",
    "불리언 데이터 타입은 True 또는 False 두 값 중 하나를 나타냅니다. 비교 연산자를 사용하면 이 데이터 타입의 사용이 명확해질 것입니다. 첫 번째 문자 **T** 는 참, **F** 는 거짓으로 표현되는 자바 스크립트와 달리 대문자여야 합니다.\n",
    "**예시: 불리언 값**"
   ]
  },
  {
   "cell_type": "code",
   "execution_count": null,
   "id": "b11840c4",
   "metadata": {
    "attributes": {
     "classes": [
      "py"
     ],
     "id": ""
    }
   },
   "outputs": [],
   "source": [
    "print(True)\n",
    "print(False)"
   ]
  },
  {
   "cell_type": "markdown",
   "id": "7ce3d7c1",
   "metadata": {},
   "source": [
    "## 연산자\n",
    "\n",
    "파이썬은 몇 가지 타입의 연산자를 지원합니다. 이 섹션에서 이것에 대해 알아볼 것입니다.\n",
    "\n",
    "### 대입 연산자\n",
    "\n",
    "대입 연산자는 변수에 값을 대입할 때 사용됩니다. = 로 예시를 들어보겠습니다. 수학에서 등호란 두 값이 동일하다는 것을 의미하지만, 파이썬에서는 특정 변수가 값을 가지고 있으며, 이 변수에 값을 대입한다고 합니다. 아래 표는 [w3school](https://www.w3schools.com/python/python_operators.asp)에서 가져온 다양한 유형의 파이썬 할당 연산자를 보여줍니다.\n",
    "\n",
    "![대입 연산자](../images/assignment_operators.png)\n",
    "\n",
    "### 산술 연산자:\n",
    "\n",
    "- 더하기(+): a + b\n",
    "- 빼기(-): a - b\n",
    "- 곱하기(*): a * b\n",
    "- 나누기(/): a / b\n",
    "- 나머지 연산(%): a % b\n",
    "- 버림 나눗셈(//): a // b\n",
    "- 지수(**): a ** b\n",
    "\n",
    "![산술 연산자](../images/arithmetic_operators.png)\n",
    "\n",
    "**예시: Integers**"
   ]
  },
  {
   "cell_type": "code",
   "execution_count": null,
   "id": "6f6eabba",
   "metadata": {
    "attributes": {
     "classes": [
      "py"
     ],
     "id": ""
    }
   },
   "outputs": [],
   "source": [
    "# Arithmetic Operations in Python\n",
    "# Integers\n",
    "\n",
    "print('Addition: ', 1 + 2)        # 3\n",
    "print('Subtraction: ', 2 - 1)     # 1\n",
    "print('Multiplication: ', 2 * 3)  # 6\n",
    "print ('Division: ', 4 / 2)       # 2.0  파이썬의 나누기는 부동 소수를 제공합니다.\n",
    "print('Division: ', 6 / 2)        # 3.0         \n",
    "print('Division: ', 7 / 2)        # 3.5\n",
    "print('Division without the remainder: ', 7 // 2)   # 3, 부동 소수 또는 나머지가 없는 값을 제공합니다.\n",
    "print ('Division without the remainder: ',7 // 3)   # 2\n",
    "print('Modulus: ', 3 % 2)         # 1, 나머지를 제공합니다.\n",
    "print('Exponentiation: ', 2 ** 3) # 9  2 * 2 * 2 를 의미합니다."
   ]
  },
  {
   "cell_type": "markdown",
   "id": "e17164d4",
   "metadata": {},
   "source": [
    "**예시: Floats**"
   ]
  },
  {
   "cell_type": "code",
   "execution_count": null,
   "id": "28ec41e9",
   "metadata": {
    "attributes": {
     "classes": [
      "py"
     ],
     "id": ""
    }
   },
   "outputs": [],
   "source": [
    "# Floating numbers\n",
    "print('Floating Point Number, PI', 3.14)\n",
    "print('Floating Point Number, gravity', 9.81)"
   ]
  },
  {
   "cell_type": "markdown",
   "id": "c2bb2576",
   "metadata": {},
   "source": [
    "**예시: 복소수**"
   ]
  },
  {
   "cell_type": "code",
   "execution_count": null,
   "id": "b6e54c6e",
   "metadata": {
    "attributes": {
     "classes": [
      "py"
     ],
     "id": ""
    }
   },
   "outputs": [],
   "source": [
    "# Complex numbers\n",
    "print('Complex number: ', 1 + 1j)\n",
    "print('Multiplying complex numbers: ',(1 + 1j) * (1 - 1j))"
   ]
  },
  {
   "cell_type": "markdown",
   "id": "a6013f3f",
   "metadata": {},
   "source": [
    "변수를 선언하고 숫자 데이터 유형을 지정합니다. 여기서는 단일 문자 변수를 사용할 것이지만, 이런 유형의 변수를 선언하는 습관은 좋지 않다는 것을 기억하셔야 합니다. 변수 이름은 항상 기억해야 합니다. \n",
    "\n",
    "**Example:**"
   ]
  },
  {
   "cell_type": "code",
   "execution_count": null,
   "id": "a0bc5793",
   "metadata": {},
   "outputs": [],
   "source": [
    "# 첫 번째로 변수를 먼저 선언합니다.\n",
    "\n",
    "a = 3 # a는 변수의 이름이며 정수 데이터 타입입니다.\n",
    "b = 2 # b는 변수의 이름이며 정수 데이터 타입입니다.\n",
    "\n",
    "# 산술 연산 및 결과를 변수에 대입합니다.\n",
    "total = a + b\n",
    "diff = a - b\n",
    "product = a * b\n",
    "division = a / b\n",
    "remainder = a % b\n",
    "floor_division = a // b\n",
    "exponential = a ** b\n",
    "\n",
    "# sum 대신 total을 사용했어야 하지만 sum은 내장 함수입니다. 내장 함수를 재정의하지 않도록 하십시오.\n",
    "print(total) # 만약 몇몇 출력에 문자열로 표시를 하지 않는다면, 어디서 결과가 오는지 알지 못할 것입니다.\n",
    "print('a + b = ', total)\n",
    "print('a - b = ', diff)\n",
    "print('a * b = ', product)\n",
    "print('a / b = ', division)\n",
    "print('a % b = ', remainder)\n",
    "print('a // b = ', floor_division)\n",
    "print('a ** b = ', exponentiation)"
   ]
  },
  {
   "cell_type": "markdown",
   "id": "2cf0f067",
   "metadata": {},
   "source": [
    "**Example:**"
   ]
  },
  {
   "cell_type": "code",
   "execution_count": null,
   "id": "404898a8",
   "metadata": {
    "attributes": {
     "classes": [
      "py"
     ],
     "id": ""
    }
   },
   "outputs": [],
   "source": [
    "print('== Addition, Subtraction, Multiplication, Division, Modulus ==')\n",
    "\n",
    "# 값을 선언하고 함께 정리\n",
    "num_one = 3\n",
    "num_two = 4\n",
    "\n",
    "# 산술 연산\n",
    "total = num_one + num_two\n",
    "diff = num_two - num_one\n",
    "product = num_one * num_two\n",
    "div = num_two / num_one\n",
    "remainder = num_two % num_one\n",
    "\n",
    "# 레이블로 값 출력\n",
    "print('total: ', total)\n",
    "print('difference: ', diff)\n",
    "print('product: ', product)\n",
    "print('division: ', div)\n",
    "print('remainder: ', remainder)"
   ]
  },
  {
   "cell_type": "markdown",
   "id": "e243d26a",
   "metadata": {},
   "source": [
    "이제 점 연결을 시작하고 이미 알고 있는 계산 방법(면적, 부피, 밀도, 무게, 둘레, 거리, 힘)을 사용해 보겠습니다.\n",
    "\n",
    "**Example:**"
   ]
  },
  {
   "cell_type": "code",
   "execution_count": null,
   "id": "61b72656",
   "metadata": {
    "attributes": {
     "classes": [
      "py"
     ],
     "id": ""
    }
   },
   "outputs": [],
   "source": [
    "# 원의 넓이 계산\n",
    "radius = 10                                 # 원의 반지름\n",
    "area_of_circle = 3.14 * radius ** 2         # 두 개의 * 기호는 지수를 의미합니다\n",
    "print('Area of a circle:', area_of_circle)\n",
    "\n",
    "# 직사각형의 넓이 계산\n",
    "length = 10\n",
    "width = 20\n",
    "area_of_rectangle = length * width\n",
    "print('Area of rectangle:', area_of_rectangle)\n",
    "\n",
    "# 개체의 무게 계산\n",
    "mass = 75\n",
    "gravity = 9.81\n",
    "weight = mass * gravity\n",
    "print(weight, 'N')                         # 무게에 단위 추가\n",
    "\n",
    "# 액체의 밀도 계산\n",
    "mass = 75 # in Kg\n",
    "volume = 0.075 # in cubic meter\n",
    "density = mass / volume # 1000 Kg/m^3\n"
   ]
  },
  {
   "cell_type": "markdown",
   "id": "d7c27650",
   "metadata": {},
   "source": [
    "### 비교 연산자\n",
    "\n",
    "프로그래밍에서 우리는 비교 연산자를 사용하여 두 값을 비교합니다. 우리는 값이 다른 값보다 크거나 작거나 같은지 확인합니다. 다음 표는[w3shool](https://www.w3schools.com/python/python_operators.asp)에서 가져온 파이썬의 비교 연산자를 보여줍니다.\n",
    "\n",
    "![Comparison Operators](../images/comparison_operators.png)\n",
    "**Example: 비교 연산자**"
   ]
  },
  {
   "cell_type": "code",
   "execution_count": null,
   "id": "6082c631",
   "metadata": {
    "attributes": {
     "classes": [
      "py"
     ],
     "id": ""
    }
   },
   "outputs": [],
   "source": [
    "print(3 > 2)     # 참, 3이 2보다 크기 때문에\n",
    "print(3 >= 2)    # 참, 3이 2보다 크기 때문에\n",
    "print(3 < 2)     # 거짓, 3이 더 크기 때문에\n",
    "print(2 < 3)     # 참, 2가 3보다 작기 때문에\n",
    "print(2 <= 3)    # 참, 2가 3보다 작기 때문에\n",
    "print(3 == 2)    # 거짓, 3과 2는 같지 않기 때문에\n",
    "print(3 != 2)    # 참, 3은 2와 다르기 때문에\n",
    "print(len('mango') == len('avocado'))  # 거짓\n",
    "print(len('mango') != len('avocado'))  # 참\n",
    "print(len('mango') < len('avocado'))   # 참\n",
    "print(len('milk') != len('meat'))      # 거짓\n",
    "print(len('milk') == len('meat'))      # 참\n",
    "print(len('tomato') == len('potato'))  # 참\n",
    "print(len('python') > len('dragon'))   # 거짓\n",
    "\n",
    "\n",
    "# 무언가를 비교하면 참 또는 거짓이 됩니다.\n",
    "\n",
    "print('True == True: ', True == True)\n",
    "print('True == False: ', True == False)\n",
    "print('False == False:', False == False)"
   ]
  },
  {
   "cell_type": "markdown",
   "id": "9887119b",
   "metadata": {},
   "source": [
    "위의 비교 연산자 외에 파이썬은 다음과 같은 연산자를 사용합니다:\n",
    "\n",
    "- _is_: 두 변수가 동일할 경우 참을 반환합니다.(x is y)\n",
    "- _is not_: 두 변수가 동일하지 않을 경우 참을 반환합니다.(x is not y)\n",
    "- _in_: 제시된 목록에 특정 항목이 포함된 경우 참을 반환합니다.(x in y)\n",
    "- _not in_: 제시된 목록에 특정 항목이 없으면 참을 반환합니다.(x in y)"
   ]
  },
  {
   "cell_type": "code",
   "execution_count": null,
   "id": "79a2a6ac",
   "metadata": {
    "attributes": {
     "classes": [
      "py"
     ],
     "id": ""
    }
   },
   "outputs": [],
   "source": [
    "print('1 is 1', 1 is 1)                   # 참 - 데이터 값이 동일하기 때문에\n",
    "print('1 is not 2', 1 is not 2)           # 참 - 1과 2는 다르기 때문에\n",
    "print('A in Asabeneh', 'A' in 'Asabeneh') # 참 - 문자열에서 A를 찾을 수 있습니다\n",
    "print('B in Asabeneh', 'B' in 'Asabeneh') # 거짓 - 대문자 B가 없습니다\n",
    "print('coding' in 'coding for all') # 참 - coding이라는 단어를 coding for all이 가지고 있기 때문에\n",
    "print('a in an:', 'a' in 'an')      # 참\n",
    "print('4 is 2 ** 2:', 4 is 2 ** 2)   # 참"
   ]
  },
  {
   "cell_type": "markdown",
   "id": "14a61b64",
   "metadata": {},
   "source": [
    "### 논리 연산자\n",
    "\n",
    "다른 프로그래밍 언어와 달리 파이썬은 논리 연산자를 위해 _and_, _or_, _not_ 키워드를 사용합니다. 논리 연산자는 다음과 같은 조건문을 결합하는 데 사용됩니다.\n",
    "\n",
    "![Logical Operators](../images/logical_operators.png)"
   ]
  },
  {
   "cell_type": "code",
   "execution_count": null,
   "id": "8c370bd8",
   "metadata": {
    "attributes": {
     "classes": [
      "py"
     ],
     "id": ""
    }
   },
   "outputs": [],
   "source": [
    "print(3 > 2 and 4 > 3) # 참 - 두 개의 문장이 참이기 때문에 \n",
    "print(3 > 2 and 4 < 3) # 거짓 - 두 번째 문장이 거짓이기 때문에\n",
    "print(3 < 2 and 4 < 3) # 거짓 - 두 가지 문장 모두 거짓이기 때문에\n",
    "print('True and True: ', True and True)\n",
    "print(3 > 2 or 4 > 3)  # 참 - 두 가지 문장 모두 참이기 때문에\n",
    "print(3 > 2 or 4 < 3)  # 참 - 두 가지 중 하나의 문장이 참이기 때문에\n",
    "print(3 < 2 or 4 < 3)  # 거짓 - 두 가지 문장 모두 거짓이기 때문에\n",
    "print('True or False:', True or False)\n",
    "print(not 3 > 2)     # 거짓 - 3이 2보다 큰 것은 참이기 때문에, 참이 아닐 경우 거짓을 줍니다.\n",
    "print(not True)      # 거짓 - 부정으로 참에서 거짓으로 바뀝니다.\n",
    "print(not False)     # True\n",
    "print(not not True)  # True\n",
    "print(not not False) # False\n"
   ]
  },
  {
   "cell_type": "markdown",
   "id": "3c56d75f",
   "metadata": {},
   "source": [
    "🌕 당신은 무한한 에너지를 가지고 있어요. 여러분은 이제 막 3일차 도전을 마쳤고 위대함으로 가는 길에 세 걸음 앞서 있습니다. 이제 여러분의 뇌와 근육을 위한 운동을 하세요.\n",
    "\n",
    "## 💻 3일차 실습\n",
    "\n",
    "1. 나이를 정수 변수로 선언합니다.\n",
    "2. 자신의 키를 플로트 변수로 선언합니다.\n",
    "3. 복소수를 저장하는 변수 선언합니다.\n",
    "4. 삼각형의 밑면과 높이를 입력하도록 사용자에게 지시하는 스크립트를 작성하고 이 삼각형의 면적(면적 = 0.5 x b x h)을 계산합니다."
   ]
  },
  {
   "cell_type": "code",
   "execution_count": null,
   "id": "6bd541a3",
   "metadata": {
    "attributes": {
     "classes": [
      "py"
     ],
     "id": ""
    }
   },
   "outputs": [],
   "source": [
    "    Enter base: 20\n",
    "    Enter height: 10\n",
    "    The area of the triangle is 100"
   ]
  },
  {
   "cell_type": "markdown",
   "id": "1ce4cf05",
   "metadata": {},
   "source": [
    "5. 삼각형의 측면 a, 측면 b, 측면 c를 입력하라는 메시지를 표시하는 스크립트를 작성합니다. 삼각형의 둘레(지름 = a + b + c)를 계산합니다."
   ]
  },
  {
   "cell_type": "code",
   "execution_count": null,
   "id": "3dbca2f2",
   "metadata": {
    "attributes": {
     "classes": [
      "py"
     ],
     "id": ""
    }
   },
   "outputs": [],
   "source": [
    "Enter side a: 5\n",
    "Enter side b: 4\n",
    "Enter side c: 3\n",
    "The perimeter of the triangle is 12"
   ]
  },
  {
   "cell_type": "markdown",
   "id": "f36ce59a",
   "metadata": {},
   "source": [
    "6. 프롬프트를 사용하여 직사각형의 길이와 너비를 가져옵니다. 면적(면적 = 길이 x 폭) 및 둘레(면적 = 2 x (길이 + 폭)) 계산합니다.\n",
    "7. 프롬프트를 사용하여 원의 반지름을 구합니다. 면적(면적 = 픽스 r x r)과 원주(c = 2 x 픽스 r)를 계산합니다. 여기서 pi = 3.14입니다.\n",
    "8. y = 2x-2의 기울기, x-제곱 및 y-제곱을 계산합니다.\n",
    "9. 기울기는 (m = y2-y1/x2-x1)입니다. 기울기와 [유클리드 거리](https://en.wikipedia.org/wiki/Euclidean_distance#:~:text=In%20mathematics%2C%20the%20Euclidean%20distance,being%20called%20the%20Pythagorean%20distance.) 점(2,2)과 점(6,10) 사이를 구합니다.\n",
    "10. 과제 8과 9의 기울기를 비교합니다.\n",
    "11. y 값(y = x^2 + 6x + 9)을 계산합니다. 다른 x 값을 사용하고 y 값이 0이 되는 x 값을 계산해 보십시오.\n",
    "12. 'python'과 'dragon'의 길이를 찾아 거짓 비교를 합니다.\n",
    "13. _and_ 연산자를 사용하여 'python'과 'dragon' 모두에 'on'이 있는지 확인합니다.\n",
    "14. _나는 이 강좌가 전문용어로 가득하지 않기를 바랍니다. _in_ 연산자를 사용하여 _jargon_ 이 문장에 있는지 확인합니다.\n",
    "15. dragon과 python 모두 'On'이 없습니다.\n",
    "16. _python_ 텍스트의 길이를 찾아서 값을 float로 변환하고 문자열로 변환합니다.\n",
    "17. 짝수는 2로 나누고 나머지는 0입니다. 파이썬을 사용하여 숫자가 짝수인지 아닌지 어떻게 확인하겠습니까?\n",
    "18. 7 x 3의 나눗셈 버림이 2.7의 int 변환값과 동일한지 확인합니다.\n",
    "19. '10'의 유형이 10의 유형과 동일한지 확인합니다.\n",
    "20. if int('9.8')이 10과 같은지 확인합니다.\n",
    "21. 사용자에게 시간 및 시간당 요금을 입력하도록 요청하는 스크립트를 작성합니다. 그 사람의 급여를 계산합니까?"
   ]
  },
  {
   "cell_type": "code",
   "execution_count": null,
   "id": "c3da9996",
   "metadata": {
    "attributes": {
     "classes": [
      "py"
     ],
     "id": ""
    }
   },
   "outputs": [],
   "source": [
    "Enter hours: 40\n",
    "Enter rate per hour: 28\n",
    "Your weekly earning is 1120"
   ]
  },
  {
   "cell_type": "markdown",
   "id": "7adce6d1",
   "metadata": {},
   "source": [
    "22. 사용자에게 년 수를 입력하도록 요청하는 스크립트를 작성합니다. 사람이 살 수 있는 시간을 초 단위로 계산합니다. 사람이 100년을 살 수 있다고 가정합시다."
   ]
  },
  {
   "cell_type": "code",
   "execution_count": null,
   "id": "afe5c6f3",
   "metadata": {
    "attributes": {
     "classes": [
      "py"
     ],
     "id": ""
    }
   },
   "outputs": [],
   "source": [
    "Enter number of years you have lived: 100\n",
    "You have lived for 3153600000 seconds."
   ]
  },
  {
   "cell_type": "markdown",
   "id": "ffa94974",
   "metadata": {},
   "source": [
    "23. 다음을 표시하는 파이썬 스크립트를 작성합니다."
   ]
  },
  {
   "cell_type": "code",
   "execution_count": null,
   "id": "d1d4b7b6",
   "metadata": {
    "attributes": {
     "classes": [
      "py"
     ],
     "id": ""
    }
   },
   "outputs": [],
   "source": [
    "1 1 1 1 1\n",
    "2 1 2 4 8\n",
    "3 1 3 9 27\n",
    "4 1 4 16 64\n",
    "5 1 5 25 125"
   ]
  },
  {
   "cell_type": "markdown",
   "id": "03c962de",
   "metadata": {},
   "source": [
    "🎉 축하합니다 ! 🎉\n",
    "\n",
    "[<< Day 2](../02_Day_Variables_builtin_functions/02_variables_builtin_functions.md) | [Day 4 >>](../04_Day_Strings/04_strings.md)"
   ]
  }
 ],
 "metadata": {},
 "nbformat": 4,
 "nbformat_minor": 5
}
