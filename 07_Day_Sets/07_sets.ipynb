{
  "cells": [
    {
      "cell_type": "markdown",
      "id": "c4e35537",
      "metadata": {
        "id": "c4e35537"
      },
      "source": [
        "<div align=\"center\">\n",
        "  <h1> 30 Days Of Python: Day 7 - Sets</h1>\n",
        "  <a class=\"header-badge\" target=\"_blank\" href=\"https://www.linkedin.com/in/asabeneh/\">\n",
        "  <img src=\"https://img.shields.io/badge/style--5eba00.svg?label=LinkedIn&logo=linkedin&style=social\">\n",
        "  </a>\n",
        "  <a class=\"header-badge\" target=\"_blank\" href=\"https://twitter.com/Asabeneh\">\n",
        "  <img alt=\"Twitter Follow\" src=\"https://img.shields.io/twitter/follow/asabeneh?style=social\">\n",
        "  </a>\n",
        "\n",
        "<sub>Author:\n",
        "<a href=\"https://www.linkedin.com/in/asabeneh/\" target=\"_blank\">Oludayo adeoye</a><br>\n",
        "<small> Second Edition: July, 2021</small>\n",
        "</sub>\n",
        "\n",
        "</div>\n",
        "\n",
        "[<< Day 6](../06_Day_Tuples/06_tuples.md) | [Day 8 >>](../08_Day_Dictionaries/08_dictionaries.md)\n",
        "\n",
        "![30DaysOfPython](https://github.com/Ava-creator/30-Days-Of-Python/blob/master/images/30DaysOfPython_banner3@2x.png?raw=1)\n",
        "\n",
        "- [📘 Day 7](#-day-7)\n",
        "  - [Sets](#sets)\n",
        "    - [Creating a Set](#creating-a-set)\n",
        "    - [Getting Set's Length](#getting-sets-length)\n",
        "    - [Accessing Items in a Set](#accessing-items-in-a-set)\n",
        "    - [Checking an Item](#checking-an-item)\n",
        "    - [Adding Items to a Set](#adding-items-to-a-set)\n",
        "    - [Removing Items from a Set](#removing-items-from-a-set)\n",
        "    - [Clearing Items in a Set](#clearing-items-in-a-set)\n",
        "    - [Deleting a Set](#deleting-a-set)\n",
        "    - [Converting List to Set](#converting-list-to-set)\n",
        "    - [Joining Sets](#joining-sets)\n",
        "    - [Finding Intersection Items](#finding-intersection-items)\n",
        "    - [Checking Subset and Super Set](#checking-subset-and-super-set)\n",
        "    - [Checking the Difference Between Two Sets](#checking-the-difference-between-two-sets)\n",
        "    - [Finding Symmetric Difference Between Two Sets](#finding-symmetric-difference-between-two-sets)\n",
        "    - [Joining Sets](#joining-sets-1)\n",
        "  - [💻 Exercises: Day 7](#-exercises-day-7)\n",
        "    - [Exercises: Level 1](#exercises-level-1)\n",
        "    - [Exercises: Level 2](#exercises-level-2)\n",
        "    - [Exercises: Level 3](#exercises-level-3)\n",
        "\n",
        "# 📘 Day 7\n",
        "\n",
        "## Sets\n",
        "\n",
        "Set is a collection of items. Let me take you back to your elementary or high school Mathematics lesson. The Mathematics definition of a set can be applied also in Python. Set is a collection of unordered and un-indexed distinct elements. In Python set is used to store unique items, and it is possible to find the _union_, _intersection_, _difference_, _symmetric difference_, _subset_, _super set_ and _disjoint set_ among sets.\n",
        "\n",
        "### Creating a Set\n",
        "\n",
        "We use the _set()_ built-in function.\n",
        "\n",
        "- Creating an empty set"
      ]
    },
    {
      "cell_type": "code",
      "execution_count": 1,
      "id": "e267fb63",
      "metadata": {
        "attributes": {
          "classes": [
            "py"
          ],
          "id": ""
        },
        "id": "e267fb63"
      },
      "outputs": [],
      "source": [
        "# syntax\n",
        "st = set()"
      ]
    },
    {
      "cell_type": "markdown",
      "id": "f31e91bc",
      "metadata": {
        "id": "f31e91bc"
      },
      "source": [
        "- Creating a set with initial items"
      ]
    },
    {
      "cell_type": "code",
      "execution_count": 2,
      "id": "419da3f1",
      "metadata": {
        "attributes": {
          "classes": [
            "py"
          ],
          "id": ""
        },
        "id": "419da3f1"
      },
      "outputs": [],
      "source": [
        "# syntax\n",
        "st = {'item1', 'item2', 'item3', 'item4'}"
      ]
    },
    {
      "cell_type": "markdown",
      "id": "b3f18c5e",
      "metadata": {
        "id": "b3f18c5e"
      },
      "source": [
        "**Example:**"
      ]
    },
    {
      "cell_type": "code",
      "execution_count": 3,
      "id": "1c29379e",
      "metadata": {
        "attributes": {
          "classes": [
            "py"
          ],
          "id": ""
        },
        "id": "1c29379e"
      },
      "outputs": [],
      "source": [
        "# syntax\n",
        "fruits = {'banana', 'orange', 'mango', 'lemon'}"
      ]
    },
    {
      "cell_type": "markdown",
      "id": "0d093b1a",
      "metadata": {
        "id": "0d093b1a"
      },
      "source": [
        "### Getting Set's Length\n",
        "\n",
        "We use **len()** method to find the length of a set."
      ]
    },
    {
      "cell_type": "code",
      "execution_count": 4,
      "id": "034b60b3",
      "metadata": {
        "attributes": {
          "classes": [
            "py"
          ],
          "id": ""
        },
        "id": "034b60b3",
        "outputId": "42d3c6cd-ac13-4340-fa65-f118df7b96f2",
        "colab": {
          "base_uri": "https://localhost:8080/"
        }
      },
      "outputs": [
        {
          "output_type": "execute_result",
          "data": {
            "text/plain": [
              "4"
            ]
          },
          "metadata": {},
          "execution_count": 4
        }
      ],
      "source": [
        "# syntax\n",
        "st = {'item1', 'item2', 'item3', 'item4'}\n",
        "len(st)"
      ]
    },
    {
      "cell_type": "markdown",
      "id": "00f2eab3",
      "metadata": {
        "id": "00f2eab3"
      },
      "source": [
        "**Example:**"
      ]
    },
    {
      "cell_type": "code",
      "execution_count": 5,
      "id": "322978d4",
      "metadata": {
        "attributes": {
          "classes": [
            "py"
          ],
          "id": ""
        },
        "id": "322978d4",
        "outputId": "7a7c8d76-cfbb-4f23-f5d2-3f65eb59b9f4",
        "colab": {
          "base_uri": "https://localhost:8080/"
        }
      },
      "outputs": [
        {
          "output_type": "execute_result",
          "data": {
            "text/plain": [
              "4"
            ]
          },
          "metadata": {},
          "execution_count": 5
        }
      ],
      "source": [
        "fruits = {'banana', 'orange', 'mango', 'lemon'}\n",
        "len(fruits)"
      ]
    },
    {
      "cell_type": "markdown",
      "id": "8352c401",
      "metadata": {
        "id": "8352c401"
      },
      "source": [
        "### Accessing Items in a Set\n",
        "\n",
        "We use loops to access items. We will see this in loop section\n",
        "\n",
        "### Checking an Item\n",
        "\n",
        "To check if an item exist in a list we use _in_ membership operator."
      ]
    },
    {
      "cell_type": "code",
      "execution_count": 6,
      "id": "e692317f",
      "metadata": {
        "attributes": {
          "classes": [
            "py"
          ],
          "id": ""
        },
        "id": "e692317f",
        "outputId": "4d9780bd-17c1-4b6c-ec06-7675d6f197c2",
        "colab": {
          "base_uri": "https://localhost:8080/"
        }
      },
      "outputs": [
        {
          "output_type": "stream",
          "name": "stdout",
          "text": [
            "Does set st contain item3?  True\n"
          ]
        }
      ],
      "source": [
        "# syntax\n",
        "st = {'item1', 'item2', 'item3', 'item4'}\n",
        "print(\"Does set st contain item3? \", 'item3' in st) # Does set st contain item3? True"
      ]
    },
    {
      "cell_type": "markdown",
      "id": "1a06d90d",
      "metadata": {
        "id": "1a06d90d"
      },
      "source": [
        "**Example:**"
      ]
    },
    {
      "cell_type": "code",
      "execution_count": 7,
      "id": "83d5b07d",
      "metadata": {
        "attributes": {
          "classes": [
            "py"
          ],
          "id": ""
        },
        "id": "83d5b07d",
        "outputId": "72493792-1d90-4423-8288-857c17eb7dec",
        "colab": {
          "base_uri": "https://localhost:8080/"
        }
      },
      "outputs": [
        {
          "output_type": "stream",
          "name": "stdout",
          "text": [
            "True\n"
          ]
        }
      ],
      "source": [
        "fruits = {'banana', 'orange', 'mango', 'lemon'}\n",
        "print('mango' in fruits ) # True"
      ]
    },
    {
      "cell_type": "markdown",
      "id": "52dad9a1",
      "metadata": {
        "id": "52dad9a1"
      },
      "source": [
        "### Adding Items to a Set\n",
        "\n",
        "Once a set is created we cannot change any items and we can also add additional items.\n",
        "\n",
        "- Add one item using _add()_"
      ]
    },
    {
      "cell_type": "code",
      "execution_count": 8,
      "id": "1c176c7e",
      "metadata": {
        "attributes": {
          "classes": [
            "py"
          ],
          "id": ""
        },
        "id": "1c176c7e"
      },
      "outputs": [],
      "source": [
        "# syntax\n",
        "st = {'item1', 'item2', 'item3', 'item4'}\n",
        "st.add('item5')"
      ]
    },
    {
      "cell_type": "markdown",
      "id": "163e270a",
      "metadata": {
        "id": "163e270a"
      },
      "source": [
        "**Example:**"
      ]
    },
    {
      "cell_type": "code",
      "execution_count": 9,
      "id": "e1273cc5",
      "metadata": {
        "attributes": {
          "classes": [
            "py"
          ],
          "id": ""
        },
        "id": "e1273cc5"
      },
      "outputs": [],
      "source": [
        "fruits = {'banana', 'orange', 'mango', 'lemon'}\n",
        "fruits.add('lime')"
      ]
    },
    {
      "cell_type": "markdown",
      "id": "034d2f4f",
      "metadata": {
        "id": "034d2f4f"
      },
      "source": [
        "- Add multiple items using _update()_\n",
        "  The _update()_ allows to add multiple items to a set. The _update()_ takes a list argument."
      ]
    },
    {
      "cell_type": "code",
      "execution_count": 10,
      "id": "0bfd0416",
      "metadata": {
        "attributes": {
          "classes": [
            "py"
          ],
          "id": ""
        },
        "id": "0bfd0416"
      },
      "outputs": [],
      "source": [
        "# syntax\n",
        "st = {'item1', 'item2', 'item3', 'item4'}\n",
        "st.update(['item5','item6','item7'])"
      ]
    },
    {
      "cell_type": "markdown",
      "id": "9e073c84",
      "metadata": {
        "id": "9e073c84"
      },
      "source": [
        "**Example:**"
      ]
    },
    {
      "cell_type": "code",
      "execution_count": 11,
      "id": "123de3b2",
      "metadata": {
        "attributes": {
          "classes": [
            "py"
          ],
          "id": ""
        },
        "id": "123de3b2"
      },
      "outputs": [],
      "source": [
        "fruits = {'banana', 'orange', 'mango', 'lemon'}\n",
        "vegetables = ('tomato', 'potato', 'cabbage','onion', 'carrot')\n",
        "fruits.update(vegetables)"
      ]
    },
    {
      "cell_type": "markdown",
      "id": "dd04930e",
      "metadata": {
        "id": "dd04930e"
      },
      "source": [
        "### Removing Items from a Set\n",
        "\n",
        "We can remove an item from a set using _remove()_ method. If the item is not found _remove()_ method will raise errors, so it is good to check if the item exist in the given set. However, _discard()_ method doesn't raise any errors."
      ]
    },
    {
      "cell_type": "code",
      "execution_count": 12,
      "id": "7d9592cb",
      "metadata": {
        "attributes": {
          "classes": [
            "py"
          ],
          "id": ""
        },
        "id": "7d9592cb"
      },
      "outputs": [],
      "source": [
        "# syntax\n",
        "st = {'item1', 'item2', 'item3', 'item4'}\n",
        "st.remove('item2')"
      ]
    },
    {
      "cell_type": "markdown",
      "id": "450d7e19",
      "metadata": {
        "id": "450d7e19"
      },
      "source": [
        "The pop() methods remove a random item from a list and it returns the removed item.\n",
        "\n",
        "**Example:**"
      ]
    },
    {
      "cell_type": "code",
      "execution_count": 13,
      "id": "7bb67c50",
      "metadata": {
        "attributes": {
          "classes": [
            "py"
          ],
          "id": ""
        },
        "id": "7bb67c50",
        "outputId": "b06dd78d-536d-4b8a-8f66-00a98f4812bc",
        "colab": {
          "base_uri": "https://localhost:8080/",
          "height": 36
        }
      },
      "outputs": [
        {
          "output_type": "execute_result",
          "data": {
            "text/plain": [
              "'banana'"
            ],
            "application/vnd.google.colaboratory.intrinsic+json": {
              "type": "string"
            }
          },
          "metadata": {},
          "execution_count": 13
        }
      ],
      "source": [
        "fruits = {'banana', 'orange', 'mango', 'lemon'}\n",
        "fruits.pop()  # removes a random item from the set\n"
      ]
    },
    {
      "cell_type": "markdown",
      "id": "e1e90d6b",
      "metadata": {
        "id": "e1e90d6b"
      },
      "source": [
        "If we are interested in the removed item."
      ]
    },
    {
      "cell_type": "code",
      "execution_count": 14,
      "id": "3d766688",
      "metadata": {
        "attributes": {
          "classes": [
            "py"
          ],
          "id": ""
        },
        "id": "3d766688"
      },
      "outputs": [],
      "source": [
        "fruits = {'banana', 'orange', 'mango', 'lemon'}\n",
        "removed_item = fruits.pop()"
      ]
    },
    {
      "cell_type": "markdown",
      "id": "31fe16ec",
      "metadata": {
        "id": "31fe16ec"
      },
      "source": [
        "### Clearing Items in a Set\n",
        "\n",
        "If we want to clear or empty the set we use _clear_ method."
      ]
    },
    {
      "cell_type": "code",
      "execution_count": 15,
      "id": "2e52bdc6",
      "metadata": {
        "attributes": {
          "classes": [
            "py"
          ],
          "id": ""
        },
        "id": "2e52bdc6"
      },
      "outputs": [],
      "source": [
        "# syntax\n",
        "st = {'item1', 'item2', 'item3', 'item4'}\n",
        "st.clear()"
      ]
    },
    {
      "cell_type": "markdown",
      "id": "fba9f956",
      "metadata": {
        "id": "fba9f956"
      },
      "source": [
        "**Example:**"
      ]
    },
    {
      "cell_type": "code",
      "execution_count": 16,
      "id": "4d7e7fa3",
      "metadata": {
        "attributes": {
          "classes": [
            "py"
          ],
          "id": ""
        },
        "id": "4d7e7fa3",
        "outputId": "6dc3f17d-a17f-4b95-efcb-1f7d3f8044d5",
        "colab": {
          "base_uri": "https://localhost:8080/"
        }
      },
      "outputs": [
        {
          "output_type": "stream",
          "name": "stdout",
          "text": [
            "set()\n"
          ]
        }
      ],
      "source": [
        "fruits = {'banana', 'orange', 'mango', 'lemon'}\n",
        "fruits.clear()\n",
        "print(fruits) # set()"
      ]
    },
    {
      "cell_type": "markdown",
      "id": "2dc11ab6",
      "metadata": {
        "id": "2dc11ab6"
      },
      "source": [
        "### Deleting a Set\n",
        "\n",
        "If we want to delete the set itself we use _del_ operator."
      ]
    },
    {
      "cell_type": "code",
      "execution_count": 17,
      "id": "6a37216e",
      "metadata": {
        "attributes": {
          "classes": [
            "py"
          ],
          "id": ""
        },
        "id": "6a37216e"
      },
      "outputs": [],
      "source": [
        "# syntax\n",
        "st = {'item1', 'item2', 'item3', 'item4'}\n",
        "del st"
      ]
    },
    {
      "cell_type": "markdown",
      "id": "2593d902",
      "metadata": {
        "id": "2593d902"
      },
      "source": [
        "**Example:**"
      ]
    },
    {
      "cell_type": "code",
      "execution_count": 18,
      "id": "0a0a31ce",
      "metadata": {
        "attributes": {
          "classes": [
            "py"
          ],
          "id": ""
        },
        "id": "0a0a31ce"
      },
      "outputs": [],
      "source": [
        "fruits = {'banana', 'orange', 'mango', 'lemon'}\n",
        "del fruits"
      ]
    },
    {
      "cell_type": "markdown",
      "id": "81eec0b9",
      "metadata": {
        "id": "81eec0b9"
      },
      "source": [
        "### Converting List to Set\n",
        "\n",
        "We can convert list to set and set to list. Converting list to set removes duplicates and only unique items will be reserved."
      ]
    },
    {
      "cell_type": "code",
      "execution_count": 19,
      "id": "93fd5790",
      "metadata": {
        "attributes": {
          "classes": [
            "py"
          ],
          "id": ""
        },
        "id": "93fd5790"
      },
      "outputs": [],
      "source": [
        "# syntax\n",
        "lst = ['item1', 'item2', 'item3', 'item4', 'item1']\n",
        "st = set(lst)  # {'item2', 'item4', 'item1', 'item3'} - the order is random, because sets in general are unordered"
      ]
    },
    {
      "cell_type": "markdown",
      "id": "6a5fe54d",
      "metadata": {
        "id": "6a5fe54d"
      },
      "source": [
        "**Example:**"
      ]
    },
    {
      "cell_type": "code",
      "execution_count": 20,
      "id": "3b54cae8",
      "metadata": {
        "attributes": {
          "classes": [
            "py"
          ],
          "id": ""
        },
        "id": "3b54cae8"
      },
      "outputs": [],
      "source": [
        "fruits = ['banana', 'orange', 'mango', 'lemon','orange', 'banana']\n",
        "fruits = set(fruits) # {'mango', 'lemon', 'banana', 'orange'}"
      ]
    },
    {
      "cell_type": "markdown",
      "id": "f717fa39",
      "metadata": {
        "id": "f717fa39"
      },
      "source": [
        "### Joining Sets\n",
        "\n",
        "We can join two sets using the _union()_ or _update()_ method.\n",
        "\n",
        "- Union\n",
        "  This method returns a new set"
      ]
    },
    {
      "cell_type": "code",
      "execution_count": 21,
      "id": "40e527a1",
      "metadata": {
        "attributes": {
          "classes": [
            "py"
          ],
          "id": ""
        },
        "id": "40e527a1"
      },
      "outputs": [],
      "source": [
        "# syntax\n",
        "st1 = {'item1', 'item2', 'item3', 'item4'}\n",
        "st2 = {'item5', 'item6', 'item7', 'item8'}\n",
        "st3 = st1.union(st2)"
      ]
    },
    {
      "cell_type": "markdown",
      "id": "da635e1c",
      "metadata": {
        "id": "da635e1c"
      },
      "source": [
        "**Example:**"
      ]
    },
    {
      "cell_type": "code",
      "execution_count": 22,
      "id": "84a5f4c9",
      "metadata": {
        "attributes": {
          "classes": [
            "py"
          ],
          "id": ""
        },
        "id": "84a5f4c9",
        "outputId": "b9af90ff-5e3f-4a4f-9e1c-4dc1ad5ecccc",
        "colab": {
          "base_uri": "https://localhost:8080/"
        }
      },
      "outputs": [
        {
          "output_type": "stream",
          "name": "stdout",
          "text": [
            "{'orange', 'cabbage', 'lemon', 'tomato', 'banana', 'mango', 'potato', 'carrot', 'onion'}\n"
          ]
        }
      ],
      "source": [
        "fruits = {'banana', 'orange', 'mango', 'lemon'}\n",
        "vegetables = {'tomato', 'potato', 'cabbage','onion', 'carrot'}\n",
        "print(fruits.union(vegetables)) # {'lemon', 'carrot', 'tomato', 'banana', 'mango', 'orange', 'cabbage', 'potato', 'onion'}"
      ]
    },
    {
      "cell_type": "markdown",
      "id": "a64f045d",
      "metadata": {
        "id": "a64f045d"
      },
      "source": [
        "- Update\n",
        "  This method inserts a set into a given set"
      ]
    },
    {
      "cell_type": "code",
      "execution_count": 23,
      "id": "cb9fa79a",
      "metadata": {
        "attributes": {
          "classes": [
            "py"
          ],
          "id": ""
        },
        "id": "cb9fa79a"
      },
      "outputs": [],
      "source": [
        "# syntax\n",
        "st1 = {'item1', 'item2', 'item3', 'item4'}\n",
        "st2 = {'item5', 'item6', 'item7', 'item8'}\n",
        "st1.update(st2) # st2 contents are added to st1"
      ]
    },
    {
      "cell_type": "markdown",
      "id": "c6182ca1",
      "metadata": {
        "id": "c6182ca1"
      },
      "source": [
        "**Example:**"
      ]
    },
    {
      "cell_type": "code",
      "execution_count": 24,
      "id": "4f0b481c",
      "metadata": {
        "attributes": {
          "classes": [
            "py"
          ],
          "id": ""
        },
        "id": "4f0b481c",
        "outputId": "4e83d10b-64bf-43d1-b2ce-47d914b5ce56",
        "colab": {
          "base_uri": "https://localhost:8080/"
        }
      },
      "outputs": [
        {
          "output_type": "stream",
          "name": "stdout",
          "text": [
            "{'orange', 'cabbage', 'lemon', 'tomato', 'banana', 'mango', 'potato', 'carrot', 'onion'}\n"
          ]
        }
      ],
      "source": [
        "fruits = {'banana', 'orange', 'mango', 'lemon'}\n",
        "vegetables = {'tomato', 'potato', 'cabbage','onion', 'carrot'}\n",
        "fruits.update(vegetables)\n",
        "print(fruits) # {'lemon', 'carrot', 'tomato', 'banana', 'mango', 'orange', 'cabbage', 'potato', 'onion'}"
      ]
    },
    {
      "cell_type": "markdown",
      "id": "c69eaceb",
      "metadata": {
        "id": "c69eaceb"
      },
      "source": [
        "### Finding Intersection Items\n",
        "\n",
        "Intersection returns a set of items which are in both the sets. See the example"
      ]
    },
    {
      "cell_type": "code",
      "execution_count": 25,
      "id": "883933c7",
      "metadata": {
        "attributes": {
          "classes": [
            "py"
          ],
          "id": ""
        },
        "id": "883933c7",
        "outputId": "ef3354b7-7c7c-4f8f-93e0-2db354af1baf",
        "colab": {
          "base_uri": "https://localhost:8080/"
        }
      },
      "outputs": [
        {
          "output_type": "execute_result",
          "data": {
            "text/plain": [
              "{'item2', 'item3'}"
            ]
          },
          "metadata": {},
          "execution_count": 25
        }
      ],
      "source": [
        "# syntax\n",
        "st1 = {'item1', 'item2', 'item3', 'item4'}\n",
        "st2 = {'item3', 'item2'}\n",
        "st1.intersection(st2) # {'item3', 'item2'}"
      ]
    },
    {
      "cell_type": "markdown",
      "id": "574f1992",
      "metadata": {
        "id": "574f1992"
      },
      "source": [
        "**Example:**"
      ]
    },
    {
      "cell_type": "code",
      "execution_count": 26,
      "id": "a9e4ef68",
      "metadata": {
        "attributes": {
          "classes": [
            "py"
          ],
          "id": ""
        },
        "id": "a9e4ef68",
        "outputId": "deaf0467-c52a-4d10-df9d-398cf8758387",
        "colab": {
          "base_uri": "https://localhost:8080/"
        }
      },
      "outputs": [
        {
          "output_type": "execute_result",
          "data": {
            "text/plain": [
              "{'n', 'o'}"
            ]
          },
          "metadata": {},
          "execution_count": 26
        }
      ],
      "source": [
        "whole_numbers = {0, 1, 2, 3, 4, 5, 6, 7, 8, 9, 10}\n",
        "even_numbers = {0, 2, 4, 6, 8, 10}\n",
        "whole_numbers.intersection(even_numbers) # {0, 2, 4, 6, 8, 10}\n",
        "\n",
        "python = {'p', 'y', 't', 'h', 'o','n'}\n",
        "dragon = {'d', 'r', 'a', 'g', 'o','n'}\n",
        "python.intersection(dragon)     # {'o', 'n'}"
      ]
    },
    {
      "cell_type": "markdown",
      "id": "62641716",
      "metadata": {
        "id": "62641716"
      },
      "source": [
        "### Checking Subset and Super Set\n",
        "\n",
        "A set can be a subset or super set of other sets:\n",
        "\n",
        "- Subset: _issubset()_\n",
        "- Super set: _issuperset_"
      ]
    },
    {
      "cell_type": "code",
      "execution_count": 27,
      "id": "a6b6eeb8",
      "metadata": {
        "attributes": {
          "classes": [
            "py"
          ],
          "id": ""
        },
        "id": "a6b6eeb8",
        "outputId": "602269bc-a565-4a69-8aec-a8bd21f3ad3e",
        "colab": {
          "base_uri": "https://localhost:8080/"
        }
      },
      "outputs": [
        {
          "output_type": "execute_result",
          "data": {
            "text/plain": [
              "True"
            ]
          },
          "metadata": {},
          "execution_count": 27
        }
      ],
      "source": [
        "# syntax\n",
        "st1 = {'item1', 'item2', 'item3', 'item4'}\n",
        "st2 = {'item2', 'item3'}\n",
        "st2.issubset(st1) # True\n",
        "st1.issuperset(st2) # True"
      ]
    },
    {
      "cell_type": "markdown",
      "id": "8adee5d2",
      "metadata": {
        "id": "8adee5d2"
      },
      "source": [
        "**Example:**"
      ]
    },
    {
      "cell_type": "code",
      "execution_count": 28,
      "id": "adb4950c",
      "metadata": {
        "attributes": {
          "classes": [
            "py"
          ],
          "id": ""
        },
        "id": "adb4950c",
        "outputId": "605cc773-2e31-496d-a89f-42e522c3b4e2",
        "colab": {
          "base_uri": "https://localhost:8080/"
        }
      },
      "outputs": [
        {
          "output_type": "execute_result",
          "data": {
            "text/plain": [
              "False"
            ]
          },
          "metadata": {},
          "execution_count": 28
        }
      ],
      "source": [
        "whole_numbers = {0, 1, 2, 3, 4, 5, 6, 7, 8, 9, 10}\n",
        "even_numbers = {0, 2, 4, 6, 8, 10}\n",
        "whole_numbers.issubset(even_numbers) # False, because it is a super set\n",
        "whole_numbers.issuperset(even_numbers) # True\n",
        "\n",
        "python = {'p', 'y', 't', 'h', 'o','n'}\n",
        "dragon = {'d', 'r', 'a', 'g', 'o','n'}\n",
        "python.issubset(dragon)     # False"
      ]
    },
    {
      "cell_type": "markdown",
      "id": "53fb2bc0",
      "metadata": {
        "id": "53fb2bc0"
      },
      "source": [
        "### Checking the Difference Between Two Sets\n",
        "\n",
        "It returns the difference between two sets."
      ]
    },
    {
      "cell_type": "code",
      "execution_count": 29,
      "id": "2a55f18b",
      "metadata": {
        "attributes": {
          "classes": [
            "py"
          ],
          "id": ""
        },
        "id": "2a55f18b",
        "outputId": "0dc2a70a-fb88-469e-82e5-733c02e04a35",
        "colab": {
          "base_uri": "https://localhost:8080/"
        }
      },
      "outputs": [
        {
          "output_type": "execute_result",
          "data": {
            "text/plain": [
              "{'item1', 'item4'}"
            ]
          },
          "metadata": {},
          "execution_count": 29
        }
      ],
      "source": [
        "# syntax\n",
        "st1 = {'item1', 'item2', 'item3', 'item4'}\n",
        "st2 = {'item2', 'item3'}\n",
        "st2.difference(st1) # set()\n",
        "st1.difference(st2) # {'item1', 'item4'} => st1\\st2"
      ]
    },
    {
      "cell_type": "markdown",
      "id": "5cf28c8b",
      "metadata": {
        "id": "5cf28c8b"
      },
      "source": [
        "**Example:**"
      ]
    },
    {
      "cell_type": "code",
      "execution_count": 30,
      "id": "6fd50197",
      "metadata": {
        "attributes": {
          "classes": [
            "py"
          ],
          "id": ""
        },
        "id": "6fd50197",
        "outputId": "83fa7516-1c2d-4c48-89f0-38d4dcf33c6a",
        "colab": {
          "base_uri": "https://localhost:8080/"
        }
      },
      "outputs": [
        {
          "output_type": "execute_result",
          "data": {
            "text/plain": [
              "{'a', 'd', 'g', 'r'}"
            ]
          },
          "metadata": {},
          "execution_count": 30
        }
      ],
      "source": [
        "whole_numbers = {0, 1, 2, 3, 4, 5, 6, 7, 8, 9, 10}\n",
        "even_numbers = {0, 2, 4, 6, 8, 10}\n",
        "whole_numbers.difference(even_numbers) # {1, 3, 5, 7, 9}\n",
        "\n",
        "python = {'p', 'y', 't', 'o','n'}\n",
        "dragon = {'d', 'r', 'a', 'g', 'o','n'}\n",
        "python.difference(dragon)     # {'p', 'y', 't'}  - the result is unordered (characteristic of sets)\n",
        "dragon.difference(python)     # {'d', 'r', 'a', 'g'}"
      ]
    },
    {
      "cell_type": "markdown",
      "id": "ae494bae",
      "metadata": {
        "id": "ae494bae"
      },
      "source": [
        "### Finding Symmetric Difference Between Two Sets\n",
        "\n",
        "It returns the symmetric difference between two sets. It means that it returns a set that contains all items from both sets, except items that are present in both sets, mathematically: (A\\B) ∪ (B\\A)"
      ]
    },
    {
      "cell_type": "code",
      "execution_count": 31,
      "id": "b93d48be",
      "metadata": {
        "attributes": {
          "classes": [
            "py"
          ],
          "id": ""
        },
        "id": "b93d48be",
        "outputId": "c1a38ea4-16ac-4f10-a685-2a4a1e9b677c",
        "colab": {
          "base_uri": "https://localhost:8080/"
        }
      },
      "outputs": [
        {
          "output_type": "execute_result",
          "data": {
            "text/plain": [
              "{'item1', 'item4'}"
            ]
          },
          "metadata": {},
          "execution_count": 31
        }
      ],
      "source": [
        "# syntax\n",
        "st1 = {'item1', 'item2', 'item3', 'item4'}\n",
        "st2 = {'item2', 'item3'}\n",
        "# it means (A\\B)∪(B\\A)\n",
        "st2.symmetric_difference(st1) # {'item1', 'item4'}"
      ]
    },
    {
      "cell_type": "markdown",
      "id": "3d45b6a5",
      "metadata": {
        "id": "3d45b6a5"
      },
      "source": [
        "**Example:**"
      ]
    },
    {
      "cell_type": "code",
      "execution_count": 32,
      "id": "1e276fec",
      "metadata": {
        "attributes": {
          "classes": [
            "py"
          ],
          "id": ""
        },
        "id": "1e276fec",
        "outputId": "4a75741b-8567-409b-b4d8-53aad2d0dd10",
        "colab": {
          "base_uri": "https://localhost:8080/"
        }
      },
      "outputs": [
        {
          "output_type": "execute_result",
          "data": {
            "text/plain": [
              "{'a', 'd', 'g', 'h', 'p', 'r', 't', 'y'}"
            ]
          },
          "metadata": {},
          "execution_count": 32
        }
      ],
      "source": [
        "whole_numbers = {0, 1, 2, 3, 4, 5, 6, 7, 8, 9, 10}\n",
        "some_numbers = {1, 2, 3, 4, 5}\n",
        "whole_numbers.symmetric_difference(some_numbers) # {0, 6, 7, 8, 9, 10}\n",
        "\n",
        "python = {'p', 'y', 't', 'h', 'o','n'}\n",
        "dragon = {'d', 'r', 'a', 'g', 'o','n'}\n",
        "python.symmetric_difference(dragon)  # {'r', 't', 'p', 'y', 'g', 'a', 'd', 'h'}"
      ]
    },
    {
      "cell_type": "markdown",
      "id": "15d0369f",
      "metadata": {
        "id": "15d0369f"
      },
      "source": [
        "### Joining Sets\n",
        "\n",
        "If two sets do not have a common item or items we call them disjoint sets. We can check if two sets are joint or disjoint using _isdisjoint()_ method."
      ]
    },
    {
      "cell_type": "code",
      "execution_count": 33,
      "id": "ee9b656d",
      "metadata": {
        "attributes": {
          "classes": [
            "py"
          ],
          "id": ""
        },
        "id": "ee9b656d",
        "outputId": "95249070-4c5f-442b-dcd4-dec85e7e15f6",
        "colab": {
          "base_uri": "https://localhost:8080/"
        }
      },
      "outputs": [
        {
          "output_type": "execute_result",
          "data": {
            "text/plain": [
              "False"
            ]
          },
          "metadata": {},
          "execution_count": 33
        }
      ],
      "source": [
        "# syntax\n",
        "st1 = {'item1', 'item2', 'item3', 'item4'}\n",
        "st2 = {'item2', 'item3'}\n",
        "st2.isdisjoint(st1) # False"
      ]
    },
    {
      "cell_type": "markdown",
      "id": "d165391b",
      "metadata": {
        "id": "d165391b"
      },
      "source": [
        "**Example:**"
      ]
    },
    {
      "cell_type": "code",
      "execution_count": 34,
      "id": "7cf8d870",
      "metadata": {
        "attributes": {
          "classes": [
            "py"
          ],
          "id": ""
        },
        "id": "7cf8d870",
        "outputId": "1b1446bc-5b20-4f43-87da-9a2c2d583a45",
        "colab": {
          "base_uri": "https://localhost:8080/"
        }
      },
      "outputs": [
        {
          "output_type": "execute_result",
          "data": {
            "text/plain": [
              "False"
            ]
          },
          "metadata": {},
          "execution_count": 34
        }
      ],
      "source": [
        "even_numbers = {0, 2, 4 ,6, 8}\n",
        "odd_numbers = {1, 3, 5, 7, 9}\n",
        "even_numbers.isdisjoint(odd_numbers) # True, because no common item\n",
        "\n",
        "python = {'p', 'y', 't', 'h', 'o','n'}\n",
        "dragon = {'d', 'r', 'a', 'g', 'o','n'}\n",
        "python.isdisjoint(dragon)  # False, there are common items {'o', 'n'}"
      ]
    },
    {
      "cell_type": "markdown",
      "id": "db03f420",
      "metadata": {
        "id": "db03f420"
      },
      "source": [
        "🌕 You are a rising star . You have just completed day 7 challenges and you are 7 steps ahead in to your way to greatness. Now do some exercises for your brain and muscles.\n",
        "\n",
        "## 💻 Exercises: Day 7"
      ]
    },
    {
      "cell_type": "code",
      "execution_count": 35,
      "id": "58b4156f",
      "metadata": {
        "attributes": {
          "classes": [
            "py"
          ],
          "id": ""
        },
        "id": "58b4156f"
      },
      "outputs": [],
      "source": [
        "# sets\n",
        "it_companies = {'Facebook', 'Google', 'Microsoft', 'Apple', 'IBM', 'Oracle', 'Amazon'}\n",
        "A = {19, 22, 24, 20, 25, 26}\n",
        "B = {19, 22, 20, 25, 26, 24, 28, 27}\n",
        "age = [22, 19, 24, 25, 26, 24, 25, 24]"
      ]
    },
    {
      "cell_type": "markdown",
      "id": "79f0f1ca",
      "metadata": {
        "id": "79f0f1ca"
      },
      "source": [
        "### Exercises: Level 1\n",
        "\n",
        "1. Find the length of the set it_companies\n",
        "2. Add 'Twitter' to it_companies\n",
        "3. Insert multiple IT companies at once to the set it_companies\n",
        "4. Remove one of the companies from the set it_companies\n",
        "5. What is the difference between remove and discard\n",
        "\n",
        "### Exercises: Level 2\n",
        "\n",
        "1. Join A and B\n",
        "1. Find A intersection B\n",
        "1. Is A subset of B\n",
        "1. Are A and B disjoint sets\n",
        "1. Join A with B and B with A\n",
        "1. What is the symmetric difference between A and B\n",
        "1. Delete the sets completely\n",
        "\n",
        "### Exercises: Level 3\n",
        "\n",
        "1. Convert the ages to a set and compare the length of the list and the set, which one is bigger?\n",
        "1. Explain the difference between the following data types: string, list, tuple and set\n",
        "2. _I am a teacher and I love to inspire and teach people._ How many unique words have been used in the sentence? Use the split methods and set to get the unique words.\n",
        "\n",
        "🎉 CONGRATULATIONS ! 🎉\n",
        "\n",
        "[<< Day 6](../06_Day_Tuples/06_tuples.md) | [Day 8 >>](../08_Day_Dictionaries/08_dictionaries.md)"
      ]
    }
  ],
  "metadata": {
    "colab": {
      "provenance": []
    },
    "language_info": {
      "name": "python"
    },
    "kernelspec": {
      "name": "python3",
      "display_name": "Python 3"
    }
  },
  "nbformat": 4,
  "nbformat_minor": 5
}